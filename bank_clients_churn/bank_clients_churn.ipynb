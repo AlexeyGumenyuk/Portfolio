{
 "cells": [
  {
   "attachments": {},
   "cell_type": "markdown",
   "metadata": {},
   "source": [
    "# Отток клиентов"
   ]
  },
  {
   "attachments": {},
   "cell_type": "markdown",
   "metadata": {},
   "source": [
    "Из «Бета-Банка» стали уходить клиенты. Каждый месяц. Немного, но заметно. Банковские маркетологи посчитали: сохранять текущих клиентов дешевле, чем привлекать новых.\n",
    "\n",
    "Нужно спрогнозировать, уйдёт клиент из банка в ближайшее время или нет."
   ]
  },
  {
   "attachments": {},
   "cell_type": "markdown",
   "metadata": {},
   "source": [
    "**Содержание**<a id='toc0_'></a>    \n",
    "- 1. [Подготовка данных](#toc1_)    \n",
    "  - 1.1. [Импорт и изучение данных](#toc1_1_)    \n",
    "  - 1.2. [Обработка некорректных значений](#toc1_2_)    \n",
    "  - 1.3. [Разбиение данных на группы](#toc1_3_)    \n",
    "  - 1.4. [Масштабирование данных](#toc1_4_)    \n",
    "- 2. [Исследование задачи](#toc2_)    \n",
    "- 3. [Борьба с дисбалансом](#toc3_)    \n",
    "  - 3.1. [Взвешивание классов](#toc3_1_)    \n",
    "  - 3.2. [Upsampling](#toc3_2_)    \n",
    "  - 3.3. [Downsampling](#toc3_3_)    \n",
    "- 4. [Тестирование модели](#toc4_)    \n",
    "- 5. [Общий вывод:](#toc5_)    \n",
    "- 6. [Чек-лист готовности проекта](#toc6_)    \n",
    "\n",
    "<!-- vscode-jupyter-toc-config\n",
    "\tnumbering=true\n",
    "\tanchor=true\n",
    "\tflat=false\n",
    "\tminLevel=2\n",
    "\tmaxLevel=6\n",
    "\t/vscode-jupyter-toc-config -->\n",
    "<!-- THIS CELL WILL BE REPLACED ON TOC UPDATE. DO NOT WRITE YOUR TEXT IN THIS CELL -->"
   ]
  },
  {
   "attachments": {},
   "cell_type": "markdown",
   "metadata": {},
   "source": [
    "## 1. <a id='toc1_'></a>[Подготовка данных](#toc0_)"
   ]
  },
  {
   "cell_type": "code",
   "execution_count": 1,
   "metadata": {},
   "outputs": [],
   "source": [
    "import pandas as pd\n",
    "import matplotlib.pyplot as plt\n",
    "from sklearn.model_selection import train_test_split\n",
    "from sklearn.utils import shuffle\n",
    "from sklearn.preprocessing import StandardScaler\n",
    "from sklearn.linear_model import LogisticRegression\n",
    "from sklearn.tree import DecisionTreeClassifier\n",
    "from sklearn.ensemble import RandomForestClassifier\n",
    "from sklearn.metrics import f1_score, roc_auc_score"
   ]
  },
  {
   "attachments": {},
   "cell_type": "markdown",
   "metadata": {},
   "source": [
    "### 1.1. <a id='toc1_1_'></a>[Импорт и изучение данных](#toc0_)"
   ]
  },
  {
   "attachments": {},
   "cell_type": "markdown",
   "metadata": {},
   "source": [
    "Импортируем файл с данными и изучим его."
   ]
  },
  {
   "cell_type": "code",
   "execution_count": 2,
   "metadata": {},
   "outputs": [],
   "source": [
    "data_raw = pd.read_csv('Churn.csv', index_col='RowNumber')"
   ]
  },
  {
   "cell_type": "code",
   "execution_count": 3,
   "metadata": {},
   "outputs": [
    {
     "data": {
      "text/html": [
       "<div>\n",
       "<style scoped>\n",
       "    .dataframe tbody tr th:only-of-type {\n",
       "        vertical-align: middle;\n",
       "    }\n",
       "\n",
       "    .dataframe tbody tr th {\n",
       "        vertical-align: top;\n",
       "    }\n",
       "\n",
       "    .dataframe thead th {\n",
       "        text-align: right;\n",
       "    }\n",
       "</style>\n",
       "<table border=\"1\" class=\"dataframe\">\n",
       "  <thead>\n",
       "    <tr style=\"text-align: right;\">\n",
       "      <th></th>\n",
       "      <th>CustomerId</th>\n",
       "      <th>Surname</th>\n",
       "      <th>CreditScore</th>\n",
       "      <th>Geography</th>\n",
       "      <th>Gender</th>\n",
       "      <th>Age</th>\n",
       "      <th>Tenure</th>\n",
       "      <th>Balance</th>\n",
       "      <th>NumOfProducts</th>\n",
       "      <th>HasCrCard</th>\n",
       "      <th>IsActiveMember</th>\n",
       "      <th>EstimatedSalary</th>\n",
       "      <th>Exited</th>\n",
       "    </tr>\n",
       "    <tr>\n",
       "      <th>RowNumber</th>\n",
       "      <th></th>\n",
       "      <th></th>\n",
       "      <th></th>\n",
       "      <th></th>\n",
       "      <th></th>\n",
       "      <th></th>\n",
       "      <th></th>\n",
       "      <th></th>\n",
       "      <th></th>\n",
       "      <th></th>\n",
       "      <th></th>\n",
       "      <th></th>\n",
       "      <th></th>\n",
       "    </tr>\n",
       "  </thead>\n",
       "  <tbody>\n",
       "    <tr>\n",
       "      <th>1</th>\n",
       "      <td>15634602</td>\n",
       "      <td>Hargrave</td>\n",
       "      <td>619</td>\n",
       "      <td>France</td>\n",
       "      <td>Female</td>\n",
       "      <td>42</td>\n",
       "      <td>2.0</td>\n",
       "      <td>0.00</td>\n",
       "      <td>1</td>\n",
       "      <td>1</td>\n",
       "      <td>1</td>\n",
       "      <td>101348.88</td>\n",
       "      <td>1</td>\n",
       "    </tr>\n",
       "    <tr>\n",
       "      <th>2</th>\n",
       "      <td>15647311</td>\n",
       "      <td>Hill</td>\n",
       "      <td>608</td>\n",
       "      <td>Spain</td>\n",
       "      <td>Female</td>\n",
       "      <td>41</td>\n",
       "      <td>1.0</td>\n",
       "      <td>83807.86</td>\n",
       "      <td>1</td>\n",
       "      <td>0</td>\n",
       "      <td>1</td>\n",
       "      <td>112542.58</td>\n",
       "      <td>0</td>\n",
       "    </tr>\n",
       "    <tr>\n",
       "      <th>3</th>\n",
       "      <td>15619304</td>\n",
       "      <td>Onio</td>\n",
       "      <td>502</td>\n",
       "      <td>France</td>\n",
       "      <td>Female</td>\n",
       "      <td>42</td>\n",
       "      <td>8.0</td>\n",
       "      <td>159660.80</td>\n",
       "      <td>3</td>\n",
       "      <td>1</td>\n",
       "      <td>0</td>\n",
       "      <td>113931.57</td>\n",
       "      <td>1</td>\n",
       "    </tr>\n",
       "    <tr>\n",
       "      <th>4</th>\n",
       "      <td>15701354</td>\n",
       "      <td>Boni</td>\n",
       "      <td>699</td>\n",
       "      <td>France</td>\n",
       "      <td>Female</td>\n",
       "      <td>39</td>\n",
       "      <td>1.0</td>\n",
       "      <td>0.00</td>\n",
       "      <td>2</td>\n",
       "      <td>0</td>\n",
       "      <td>0</td>\n",
       "      <td>93826.63</td>\n",
       "      <td>0</td>\n",
       "    </tr>\n",
       "    <tr>\n",
       "      <th>5</th>\n",
       "      <td>15737888</td>\n",
       "      <td>Mitchell</td>\n",
       "      <td>850</td>\n",
       "      <td>Spain</td>\n",
       "      <td>Female</td>\n",
       "      <td>43</td>\n",
       "      <td>2.0</td>\n",
       "      <td>125510.82</td>\n",
       "      <td>1</td>\n",
       "      <td>1</td>\n",
       "      <td>1</td>\n",
       "      <td>79084.10</td>\n",
       "      <td>0</td>\n",
       "    </tr>\n",
       "    <tr>\n",
       "      <th>6</th>\n",
       "      <td>15574012</td>\n",
       "      <td>Chu</td>\n",
       "      <td>645</td>\n",
       "      <td>Spain</td>\n",
       "      <td>Male</td>\n",
       "      <td>44</td>\n",
       "      <td>8.0</td>\n",
       "      <td>113755.78</td>\n",
       "      <td>2</td>\n",
       "      <td>1</td>\n",
       "      <td>0</td>\n",
       "      <td>149756.71</td>\n",
       "      <td>1</td>\n",
       "    </tr>\n",
       "    <tr>\n",
       "      <th>7</th>\n",
       "      <td>15592531</td>\n",
       "      <td>Bartlett</td>\n",
       "      <td>822</td>\n",
       "      <td>France</td>\n",
       "      <td>Male</td>\n",
       "      <td>50</td>\n",
       "      <td>7.0</td>\n",
       "      <td>0.00</td>\n",
       "      <td>2</td>\n",
       "      <td>1</td>\n",
       "      <td>1</td>\n",
       "      <td>10062.80</td>\n",
       "      <td>0</td>\n",
       "    </tr>\n",
       "    <tr>\n",
       "      <th>8</th>\n",
       "      <td>15656148</td>\n",
       "      <td>Obinna</td>\n",
       "      <td>376</td>\n",
       "      <td>Germany</td>\n",
       "      <td>Female</td>\n",
       "      <td>29</td>\n",
       "      <td>4.0</td>\n",
       "      <td>115046.74</td>\n",
       "      <td>4</td>\n",
       "      <td>1</td>\n",
       "      <td>0</td>\n",
       "      <td>119346.88</td>\n",
       "      <td>1</td>\n",
       "    </tr>\n",
       "    <tr>\n",
       "      <th>9</th>\n",
       "      <td>15792365</td>\n",
       "      <td>He</td>\n",
       "      <td>501</td>\n",
       "      <td>France</td>\n",
       "      <td>Male</td>\n",
       "      <td>44</td>\n",
       "      <td>4.0</td>\n",
       "      <td>142051.07</td>\n",
       "      <td>2</td>\n",
       "      <td>0</td>\n",
       "      <td>1</td>\n",
       "      <td>74940.50</td>\n",
       "      <td>0</td>\n",
       "    </tr>\n",
       "    <tr>\n",
       "      <th>10</th>\n",
       "      <td>15592389</td>\n",
       "      <td>H?</td>\n",
       "      <td>684</td>\n",
       "      <td>France</td>\n",
       "      <td>Male</td>\n",
       "      <td>27</td>\n",
       "      <td>2.0</td>\n",
       "      <td>134603.88</td>\n",
       "      <td>1</td>\n",
       "      <td>1</td>\n",
       "      <td>1</td>\n",
       "      <td>71725.73</td>\n",
       "      <td>0</td>\n",
       "    </tr>\n",
       "    <tr>\n",
       "      <th>11</th>\n",
       "      <td>15767821</td>\n",
       "      <td>Bearce</td>\n",
       "      <td>528</td>\n",
       "      <td>France</td>\n",
       "      <td>Male</td>\n",
       "      <td>31</td>\n",
       "      <td>6.0</td>\n",
       "      <td>102016.72</td>\n",
       "      <td>2</td>\n",
       "      <td>0</td>\n",
       "      <td>0</td>\n",
       "      <td>80181.12</td>\n",
       "      <td>0</td>\n",
       "    </tr>\n",
       "    <tr>\n",
       "      <th>12</th>\n",
       "      <td>15737173</td>\n",
       "      <td>Andrews</td>\n",
       "      <td>497</td>\n",
       "      <td>Spain</td>\n",
       "      <td>Male</td>\n",
       "      <td>24</td>\n",
       "      <td>3.0</td>\n",
       "      <td>0.00</td>\n",
       "      <td>2</td>\n",
       "      <td>1</td>\n",
       "      <td>0</td>\n",
       "      <td>76390.01</td>\n",
       "      <td>0</td>\n",
       "    </tr>\n",
       "    <tr>\n",
       "      <th>13</th>\n",
       "      <td>15632264</td>\n",
       "      <td>Kay</td>\n",
       "      <td>476</td>\n",
       "      <td>France</td>\n",
       "      <td>Female</td>\n",
       "      <td>34</td>\n",
       "      <td>10.0</td>\n",
       "      <td>0.00</td>\n",
       "      <td>2</td>\n",
       "      <td>1</td>\n",
       "      <td>0</td>\n",
       "      <td>26260.98</td>\n",
       "      <td>0</td>\n",
       "    </tr>\n",
       "    <tr>\n",
       "      <th>14</th>\n",
       "      <td>15691483</td>\n",
       "      <td>Chin</td>\n",
       "      <td>549</td>\n",
       "      <td>France</td>\n",
       "      <td>Female</td>\n",
       "      <td>25</td>\n",
       "      <td>5.0</td>\n",
       "      <td>0.00</td>\n",
       "      <td>2</td>\n",
       "      <td>0</td>\n",
       "      <td>0</td>\n",
       "      <td>190857.79</td>\n",
       "      <td>0</td>\n",
       "    </tr>\n",
       "    <tr>\n",
       "      <th>15</th>\n",
       "      <td>15600882</td>\n",
       "      <td>Scott</td>\n",
       "      <td>635</td>\n",
       "      <td>Spain</td>\n",
       "      <td>Female</td>\n",
       "      <td>35</td>\n",
       "      <td>7.0</td>\n",
       "      <td>0.00</td>\n",
       "      <td>2</td>\n",
       "      <td>1</td>\n",
       "      <td>1</td>\n",
       "      <td>65951.65</td>\n",
       "      <td>0</td>\n",
       "    </tr>\n",
       "    <tr>\n",
       "      <th>16</th>\n",
       "      <td>15643966</td>\n",
       "      <td>Goforth</td>\n",
       "      <td>616</td>\n",
       "      <td>Germany</td>\n",
       "      <td>Male</td>\n",
       "      <td>45</td>\n",
       "      <td>3.0</td>\n",
       "      <td>143129.41</td>\n",
       "      <td>2</td>\n",
       "      <td>0</td>\n",
       "      <td>1</td>\n",
       "      <td>64327.26</td>\n",
       "      <td>0</td>\n",
       "    </tr>\n",
       "    <tr>\n",
       "      <th>17</th>\n",
       "      <td>15737452</td>\n",
       "      <td>Romeo</td>\n",
       "      <td>653</td>\n",
       "      <td>Germany</td>\n",
       "      <td>Male</td>\n",
       "      <td>58</td>\n",
       "      <td>1.0</td>\n",
       "      <td>132602.88</td>\n",
       "      <td>1</td>\n",
       "      <td>1</td>\n",
       "      <td>0</td>\n",
       "      <td>5097.67</td>\n",
       "      <td>1</td>\n",
       "    </tr>\n",
       "    <tr>\n",
       "      <th>18</th>\n",
       "      <td>15788218</td>\n",
       "      <td>Henderson</td>\n",
       "      <td>549</td>\n",
       "      <td>Spain</td>\n",
       "      <td>Female</td>\n",
       "      <td>24</td>\n",
       "      <td>9.0</td>\n",
       "      <td>0.00</td>\n",
       "      <td>2</td>\n",
       "      <td>1</td>\n",
       "      <td>1</td>\n",
       "      <td>14406.41</td>\n",
       "      <td>0</td>\n",
       "    </tr>\n",
       "    <tr>\n",
       "      <th>19</th>\n",
       "      <td>15661507</td>\n",
       "      <td>Muldrow</td>\n",
       "      <td>587</td>\n",
       "      <td>Spain</td>\n",
       "      <td>Male</td>\n",
       "      <td>45</td>\n",
       "      <td>6.0</td>\n",
       "      <td>0.00</td>\n",
       "      <td>1</td>\n",
       "      <td>0</td>\n",
       "      <td>0</td>\n",
       "      <td>158684.81</td>\n",
       "      <td>0</td>\n",
       "    </tr>\n",
       "    <tr>\n",
       "      <th>20</th>\n",
       "      <td>15568982</td>\n",
       "      <td>Hao</td>\n",
       "      <td>726</td>\n",
       "      <td>France</td>\n",
       "      <td>Female</td>\n",
       "      <td>24</td>\n",
       "      <td>6.0</td>\n",
       "      <td>0.00</td>\n",
       "      <td>2</td>\n",
       "      <td>1</td>\n",
       "      <td>1</td>\n",
       "      <td>54724.03</td>\n",
       "      <td>0</td>\n",
       "    </tr>\n",
       "  </tbody>\n",
       "</table>\n",
       "</div>"
      ],
      "text/plain": [
       "           CustomerId    Surname  CreditScore Geography  Gender  Age  Tenure  \\\n",
       "RowNumber                                                                      \n",
       "1            15634602   Hargrave          619    France  Female   42     2.0   \n",
       "2            15647311       Hill          608     Spain  Female   41     1.0   \n",
       "3            15619304       Onio          502    France  Female   42     8.0   \n",
       "4            15701354       Boni          699    France  Female   39     1.0   \n",
       "5            15737888   Mitchell          850     Spain  Female   43     2.0   \n",
       "6            15574012        Chu          645     Spain    Male   44     8.0   \n",
       "7            15592531   Bartlett          822    France    Male   50     7.0   \n",
       "8            15656148     Obinna          376   Germany  Female   29     4.0   \n",
       "9            15792365         He          501    France    Male   44     4.0   \n",
       "10           15592389         H?          684    France    Male   27     2.0   \n",
       "11           15767821     Bearce          528    France    Male   31     6.0   \n",
       "12           15737173    Andrews          497     Spain    Male   24     3.0   \n",
       "13           15632264        Kay          476    France  Female   34    10.0   \n",
       "14           15691483       Chin          549    France  Female   25     5.0   \n",
       "15           15600882      Scott          635     Spain  Female   35     7.0   \n",
       "16           15643966    Goforth          616   Germany    Male   45     3.0   \n",
       "17           15737452      Romeo          653   Germany    Male   58     1.0   \n",
       "18           15788218  Henderson          549     Spain  Female   24     9.0   \n",
       "19           15661507    Muldrow          587     Spain    Male   45     6.0   \n",
       "20           15568982        Hao          726    France  Female   24     6.0   \n",
       "\n",
       "             Balance  NumOfProducts  HasCrCard  IsActiveMember  \\\n",
       "RowNumber                                                        \n",
       "1               0.00              1          1               1   \n",
       "2           83807.86              1          0               1   \n",
       "3          159660.80              3          1               0   \n",
       "4               0.00              2          0               0   \n",
       "5          125510.82              1          1               1   \n",
       "6          113755.78              2          1               0   \n",
       "7               0.00              2          1               1   \n",
       "8          115046.74              4          1               0   \n",
       "9          142051.07              2          0               1   \n",
       "10         134603.88              1          1               1   \n",
       "11         102016.72              2          0               0   \n",
       "12              0.00              2          1               0   \n",
       "13              0.00              2          1               0   \n",
       "14              0.00              2          0               0   \n",
       "15              0.00              2          1               1   \n",
       "16         143129.41              2          0               1   \n",
       "17         132602.88              1          1               0   \n",
       "18              0.00              2          1               1   \n",
       "19              0.00              1          0               0   \n",
       "20              0.00              2          1               1   \n",
       "\n",
       "           EstimatedSalary  Exited  \n",
       "RowNumber                           \n",
       "1                101348.88       1  \n",
       "2                112542.58       0  \n",
       "3                113931.57       1  \n",
       "4                 93826.63       0  \n",
       "5                 79084.10       0  \n",
       "6                149756.71       1  \n",
       "7                 10062.80       0  \n",
       "8                119346.88       1  \n",
       "9                 74940.50       0  \n",
       "10                71725.73       0  \n",
       "11                80181.12       0  \n",
       "12                76390.01       0  \n",
       "13                26260.98       0  \n",
       "14               190857.79       0  \n",
       "15                65951.65       0  \n",
       "16                64327.26       0  \n",
       "17                 5097.67       1  \n",
       "18                14406.41       0  \n",
       "19               158684.81       0  \n",
       "20                54724.03       0  "
      ]
     },
     "execution_count": 3,
     "metadata": {},
     "output_type": "execute_result"
    }
   ],
   "source": [
    "data_raw.head(20)"
   ]
  },
  {
   "cell_type": "code",
   "execution_count": 4,
   "metadata": {
    "scrolled": true
   },
   "outputs": [
    {
     "name": "stdout",
     "output_type": "stream",
     "text": [
      "<class 'pandas.core.frame.DataFrame'>\n",
      "Int64Index: 10000 entries, 1 to 10000\n",
      "Data columns (total 13 columns):\n",
      " #   Column           Non-Null Count  Dtype  \n",
      "---  ------           --------------  -----  \n",
      " 0   CustomerId       10000 non-null  int64  \n",
      " 1   Surname          10000 non-null  object \n",
      " 2   CreditScore      10000 non-null  int64  \n",
      " 3   Geography        10000 non-null  object \n",
      " 4   Gender           10000 non-null  object \n",
      " 5   Age              10000 non-null  int64  \n",
      " 6   Tenure           9091 non-null   float64\n",
      " 7   Balance          10000 non-null  float64\n",
      " 8   NumOfProducts    10000 non-null  int64  \n",
      " 9   HasCrCard        10000 non-null  int64  \n",
      " 10  IsActiveMember   10000 non-null  int64  \n",
      " 11  EstimatedSalary  10000 non-null  float64\n",
      " 12  Exited           10000 non-null  int64  \n",
      "dtypes: float64(3), int64(7), object(3)\n",
      "memory usage: 1.1+ MB\n"
     ]
    }
   ],
   "source": [
    "data_raw.info()"
   ]
  },
  {
   "attachments": {},
   "cell_type": "markdown",
   "metadata": {},
   "source": [
    "### 1.2. <a id='toc1_2_'></a>[Обработка некорректных значений](#toc0_)"
   ]
  },
  {
   "attachments": {},
   "cell_type": "markdown",
   "metadata": {},
   "source": [
    "Приведём названия столбцов к нижнему регистру"
   ]
  },
  {
   "cell_type": "code",
   "execution_count": 5,
   "metadata": {},
   "outputs": [],
   "source": [
    "data = data_raw.copy()\n",
    "data.columns = data.columns.str.lower()"
   ]
  },
  {
   "cell_type": "code",
   "execution_count": 6,
   "metadata": {},
   "outputs": [],
   "source": [
    "data.rename(columns={'customerid': 'customer_id', 'credit_score': 'credit_score',\n",
    "                     'numofproducts': 'num_of_products', 'hascrcard': 'has_cr_card',\n",
    "                     'isactivemember':'is_active_member', 'estimatedsalary': 'estimated_salary'}, inplace=True)"
   ]
  },
  {
   "attachments": {},
   "cell_type": "markdown",
   "metadata": {},
   "source": [
    "Будем считать, что пропуски в столбце `tenure` (сколько лет человек является клиентом банка) означают, что он является клиентом банка меньше года. Учитывая это. заполним пропуски нулями."
   ]
  },
  {
   "cell_type": "code",
   "execution_count": 7,
   "metadata": {},
   "outputs": [],
   "source": [
    "data.tenure.fillna(0, inplace=True)"
   ]
  },
  {
   "attachments": {},
   "cell_type": "markdown",
   "metadata": {},
   "source": [
    "В столбцах с данными строкового типа проведём прямое кодирование признаков."
   ]
  },
  {
   "cell_type": "code",
   "execution_count": 8,
   "metadata": {},
   "outputs": [],
   "source": [
    "data = pd.get_dummies(data, columns=['geography', 'gender'], drop_first=True)"
   ]
  },
  {
   "attachments": {},
   "cell_type": "markdown",
   "metadata": {},
   "source": [
    "<div class=\"alert alert-block alert-success\">\n",
    "<b>Успех:</b>  OHE - хороший выбор. Но лучше использовать инструмент OneHotEncoder от sklearn и кодировать данные после разбиения\n",
    "</div>\n"
   ]
  },
  {
   "attachments": {},
   "cell_type": "markdown",
   "metadata": {},
   "source": [
    "### 1.3. <a id='toc1_3_'></a>[Разбиение данных на группы](#toc0_)"
   ]
  },
  {
   "attachments": {},
   "cell_type": "markdown",
   "metadata": {},
   "source": [
    "Отделим целевой признак от остальных. Идентификатор и фамилию не будем рассматривать как признаки."
   ]
  },
  {
   "cell_type": "code",
   "execution_count": 9,
   "metadata": {},
   "outputs": [],
   "source": [
    "features = data.drop(columns=['customer_id', 'surname', 'exited'])\n",
    "target = data['exited']"
   ]
  },
  {
   "cell_type": "code",
   "execution_count": 10,
   "metadata": {},
   "outputs": [],
   "source": [
    "train_valid_features, test_features, train_valid_target, test_target = train_test_split(\n",
    "    features, target, test_size=0.2, random_state=23221)\n",
    "\n",
    "train_features, valid_features, train_target, valid_target = train_test_split(\n",
    "    train_valid_features, train_valid_target, test_size=0.25, random_state=84272)"
   ]
  },
  {
   "attachments": {},
   "cell_type": "markdown",
   "metadata": {},
   "source": [
    "### 1.4. <a id='toc1_4_'></a>[Масштабирование данных](#toc0_)"
   ]
  },
  {
   "attachments": {},
   "cell_type": "markdown",
   "metadata": {},
   "source": [
    "Создадим объект класса `StandardScaler`, с его помощью масштабируем данные."
   ]
  },
  {
   "cell_type": "code",
   "execution_count": 11,
   "metadata": {},
   "outputs": [],
   "source": [
    "scaler = StandardScaler().fit(X=train_features)"
   ]
  },
  {
   "cell_type": "code",
   "execution_count": 12,
   "metadata": {},
   "outputs": [],
   "source": [
    "train_features = pd.DataFrame(scaler.transform(train_features), columns=features.columns)\n",
    "valid_features = pd.DataFrame(scaler.transform(valid_features), columns=features.columns)\n",
    "train_target.reset_index(drop=True, inplace=True)\n",
    "valid_target.reset_index(drop=True, inplace=True)"
   ]
  },
  {
   "cell_type": "code",
   "execution_count": 13,
   "metadata": {
    "scrolled": false
   },
   "outputs": [
    {
     "name": "stdout",
     "output_type": "stream",
     "text": [
      "(6000, 11)\n",
      "(2000, 11)\n",
      "(2000, 11)\n",
      "(6000,)\n",
      "(2000,)\n",
      "(2000,)\n"
     ]
    }
   ],
   "source": [
    "for df in [train_features, valid_features, test_features, train_target, valid_target, test_target]:\n",
    "    print(df.shape)"
   ]
  },
  {
   "attachments": {},
   "cell_type": "markdown",
   "metadata": {},
   "source": [
    "**Вывод по разделу 1:**  \n",
    "- Исследуемый датасет содержит 12 столбцов и 10_000 строк.\n",
    "- В одном столбце датасета заполнены пропуски.\n",
    "- Столбцы со строковым типом данных заменены с помощью прямого кодирования.\n",
    "- Данные разбиты на 3 выборки: обучающую, валидационную и тестовую.\n",
    "- Данные отмасштабированы методами, встроенными в библиотеку sklearn."
   ]
  },
  {
   "attachments": {},
   "cell_type": "markdown",
   "metadata": {},
   "source": [
    "## 2. <a id='toc2_'></a>[Исследование задачи](#toc0_)"
   ]
  },
  {
   "attachments": {},
   "cell_type": "markdown",
   "metadata": {},
   "source": [
    "Сравним количество элементов в каждом классе обучающей выборки."
   ]
  },
  {
   "cell_type": "code",
   "execution_count": 14,
   "metadata": {},
   "outputs": [
    {
     "data": {
      "text/plain": [
       "0    4804\n",
       "1    1196\n",
       "Name: exited, dtype: int64"
      ]
     },
     "execution_count": 14,
     "metadata": {},
     "output_type": "execute_result"
    }
   ],
   "source": [
    "train_target.value_counts()"
   ]
  },
  {
   "attachments": {},
   "cell_type": "markdown",
   "metadata": {},
   "source": [
    "Данные не сбалансированы: объектов класса \"0\" в 4 раза больше, чем класса \"1\".\n",
    "\n",
    "Попробуем найти лучшую модель, не учитывая дисбаланс классов."
   ]
  },
  {
   "cell_type": "code",
   "execution_count": 15,
   "metadata": {},
   "outputs": [
    {
     "name": "stdout",
     "output_type": "stream",
     "text": [
      "F1-мера: 0.3274021352313167\n",
      "AUC-ROC: 0.7659404651494612\n"
     ]
    }
   ],
   "source": [
    "model = LogisticRegression(solver='liblinear', random_state=98241)\n",
    "\n",
    "model.fit(train_features, train_target)\n",
    "\n",
    "valid_predictions = model.predict(valid_features)\n",
    "\n",
    "print('F1-мера:', f1_score(valid_target, valid_predictions))\n",
    "print('AUC-ROC:', roc_auc_score(valid_target, model.predict_proba(valid_features)[:, 1]))"
   ]
  },
  {
   "attachments": {},
   "cell_type": "markdown",
   "metadata": {},
   "source": [
    "Чтобы в дальнейшем не повторять фрагменты кода, напишем функции подбора лучших гиперпараметров моделей дерева решений и случайного леса."
   ]
  },
  {
   "cell_type": "code",
   "execution_count": 16,
   "metadata": {},
   "outputs": [],
   "source": [
    "def find_best_decision_tree(features_train, target_train,\n",
    "                            features_valid, target_valid, arange=(2, 20), **kwargs):\n",
    "    f1_max, best_depth = 0, 2\n",
    "    for depth in range(*arange):\n",
    "        model = DecisionTreeClassifier(max_depth=depth, random_state=54412, **kwargs)\n",
    "        model.fit(features_train, target_train)\n",
    "        \n",
    "        predictions_valid = model.predict(features_valid)\n",
    "        f1 = f1_score(target_valid, predictions_valid)\n",
    "        \n",
    "        if f1 > f1_max:\n",
    "            best_tree_model = model\n",
    "            f1_max = f1\n",
    "            best_depth = depth\n",
    "    \n",
    "    print('Значение depth лучшей модели:', best_depth)\n",
    "    print('F1-мера лучшей модели:', f1_max)\n",
    "    print('AUC-ROC лучшей модели:', roc_auc_score(target_valid, best_tree_model.predict_proba(features_valid)[:, 1]))\n",
    "    return best_tree_model"
   ]
  },
  {
   "cell_type": "code",
   "execution_count": 17,
   "metadata": {},
   "outputs": [
    {
     "name": "stdout",
     "output_type": "stream",
     "text": [
      "Значение depth лучшей модели: 9\n",
      "F1-мера лучшей модели: 0.568062827225131\n",
      "AUC-ROC лучшей модели: 0.7917067965090009\n"
     ]
    }
   ],
   "source": [
    "best_decision_tree = find_best_decision_tree(train_features, train_target, valid_features, valid_target)"
   ]
  },
  {
   "attachments": {},
   "cell_type": "markdown",
   "metadata": {},
   "source": [
    "Модель решающего дерева оказалась значительно лучше логистической регрессии. Теперь рассмотрим модель случайного леса."
   ]
  },
  {
   "cell_type": "code",
   "execution_count": 18,
   "metadata": {},
   "outputs": [],
   "source": [
    "def find_best_random_forest(features_train, target_train, features_valid, target_valid,\n",
    "                            n_estimators_arange=(20, 111, 10), **kwargs):\n",
    "    f1_max, best_n_est = 0, 0\n",
    "    for n_est in range(*n_estimators_arange):\n",
    "        model = RandomForestClassifier(n_estimators=n_est, random_state=54412, **kwargs)\n",
    "        model.fit(features_train, target_train)\n",
    "        \n",
    "        predictions_valid = model.predict(features_valid)\n",
    "        \n",
    "        f1 = f1_score(target_valid, predictions_valid)\n",
    "        \n",
    "        if f1 > f1_max:\n",
    "            best_forest_model = model\n",
    "            f1_max = f1\n",
    "            best_n_est = n_est\n",
    "        \n",
    "    print('Значение n_est лучшей модели:', best_n_est)\n",
    "    print('F1-мера лучшей модели:', f1_max)\n",
    "    print('AUC-ROC лучшей модели:', roc_auc_score(target_valid, best_forest_model.predict_proba(features_valid)[:, 1]))\n",
    "    return best_forest_model"
   ]
  },
  {
   "cell_type": "code",
   "execution_count": 19,
   "metadata": {},
   "outputs": [
    {
     "name": "stdout",
     "output_type": "stream",
     "text": [
      "Значение n_est лучшей модели: 60\n",
      "F1-мера лучшей модели: 0.5828220858895705\n",
      "AUC-ROC лучшей модели: 0.8605146132077716\n"
     ]
    }
   ],
   "source": [
    "best_random_forest = find_best_random_forest(train_features, train_target,\n",
    "                                             valid_features, valid_target, max_depth=9)"
   ]
  },
  {
   "attachments": {},
   "cell_type": "markdown",
   "metadata": {},
   "source": [
    "Случайный лес, в котором 60 деревьев оказался лучше дерева решений, усли судить по 1-мере. При этом значение AUC-ROC незначительно уменьшилось."
   ]
  },
  {
   "attachments": {},
   "cell_type": "markdown",
   "metadata": {},
   "source": [
    "**Вывод по разделу 2:**  \n",
    "- Данные не сбалансированы: объектов класса \"0\" в 4 раза больше, чем класса \"1\".\n",
    "- Подобраны оптимальные гиперпараметры для моделей логистической регрессии, дерева решений, а также случайного леса **без учёта дисбаланса классов**.\n",
    "- Лучшая модель - случайный лес (**максимальная глубина: 9, количество деревьев: 60**).\n",
    "- Метрики лучшей модели - **F1-мера: 0.58, AUC-ROC: 0.86**."
   ]
  },
  {
   "attachments": {},
   "cell_type": "markdown",
   "metadata": {},
   "source": [
    "## 3. <a id='toc3_'></a>[Борьба с дисбалансом](#toc0_)"
   ]
  },
  {
   "attachments": {},
   "cell_type": "markdown",
   "metadata": {},
   "source": [
    "Теперь постараемся увеличить значения используемых метрик, учитывая дисбаланс классов.  \n",
    "Для начала, в рассмотренных моделях используем взвешивание классов."
   ]
  },
  {
   "attachments": {},
   "cell_type": "markdown",
   "metadata": {},
   "source": [
    "### 3.1. <a id='toc3_1_'></a>[Взвешивание классов](#toc0_)"
   ]
  },
  {
   "cell_type": "code",
   "execution_count": 20,
   "metadata": {},
   "outputs": [
    {
     "name": "stdout",
     "output_type": "stream",
     "text": [
      "F1-мера: 0.4995808885163453\n",
      "AUC-ROC: 0.769792930013555\n"
     ]
    }
   ],
   "source": [
    "model = LogisticRegression(solver='liblinear', class_weight='balanced', random_state=98241)\n",
    "\n",
    "model.fit(train_features, train_target)\n",
    "\n",
    "valid_predictions = model.predict(valid_features)\n",
    "\n",
    "print('F1-мера:', f1_score(valid_target, valid_predictions))\n",
    "print('AUC-ROC:', roc_auc_score(valid_target, model.predict_proba(valid_features)[:, 1]))"
   ]
  },
  {
   "cell_type": "code",
   "execution_count": 21,
   "metadata": {},
   "outputs": [
    {
     "name": "stdout",
     "output_type": "stream",
     "text": [
      "Значение depth лучшей модели: 6\n",
      "F1-мера лучшей модели: 0.57243195785777\n",
      "AUC-ROC лучшей модели: 0.8239020772395423\n"
     ]
    }
   ],
   "source": [
    "best_tree_balanced = find_best_decision_tree(train_features, train_target, valid_features, valid_target,\n",
    "                                             class_weight='balanced')"
   ]
  },
  {
   "cell_type": "code",
   "execution_count": 22,
   "metadata": {},
   "outputs": [
    {
     "name": "stdout",
     "output_type": "stream",
     "text": [
      "Значение n_est лучшей модели: 30\n",
      "F1-мера лучшей модели: 0.6182902584493043\n",
      "AUC-ROC лучшей модели: 0.8516243668402653\n"
     ]
    }
   ],
   "source": [
    "best_forest_balanced = find_best_random_forest(train_features, train_target, valid_features, valid_target,\n",
    "                                              max_depth=6, class_weight='balanced')"
   ]
  },
  {
   "attachments": {},
   "cell_type": "markdown",
   "metadata": {},
   "source": [
    "При взвешивании классов логистическая регрессия показала себя значительно лучше, а метрики моделей дерева решений и случайного леса стали выше но ненамного."
   ]
  },
  {
   "attachments": {},
   "cell_type": "markdown",
   "metadata": {},
   "source": [
    "### 3.2. <a id='toc3_2_'></a>[Upsampling](#toc0_)"
   ]
  },
  {
   "attachments": {},
   "cell_type": "markdown",
   "metadata": {},
   "source": [
    "Теперь для уравновешивания классов используем технику upsampling."
   ]
  },
  {
   "cell_type": "code",
   "execution_count": 23,
   "metadata": {},
   "outputs": [],
   "source": [
    "def upsample(features, target, repeat): \n",
    "    features_zeros = features[target == 0]\n",
    "    features_ones = features[target == 1]\n",
    "    target_zeros = target[target == 0]\n",
    "    target_ones = target[target == 1]\n",
    "    \n",
    "    features_upsampled = pd.concat([features_zeros] + [features_ones] * repeat)\n",
    "    target_upsampled = pd.concat([target_zeros] + [target_ones] * repeat)\n",
    "    \n",
    "    features_upsampled, target_upsampled = shuffle(\n",
    "        features_upsampled, target_upsampled, random_state=35435)\n",
    "    \n",
    "    return features_upsampled, target_upsampled"
   ]
  },
  {
   "cell_type": "code",
   "execution_count": 24,
   "metadata": {},
   "outputs": [],
   "source": [
    "train_features_ups, train_target_ups = upsample(train_features, train_target, repeat=4)"
   ]
  },
  {
   "cell_type": "code",
   "execution_count": 25,
   "metadata": {},
   "outputs": [
    {
     "name": "stdout",
     "output_type": "stream",
     "text": [
      "F1-мера: 0.5\n",
      "AUC-ROC: 0.7697944163040119\n"
     ]
    }
   ],
   "source": [
    "model = LogisticRegression(solver='liblinear', random_state=98241)\n",
    "\n",
    "model.fit(train_features_ups, train_target_ups)\n",
    "\n",
    "valid_predictions = model.predict(valid_features)\n",
    "\n",
    "print('F1-мера:', f1_score(valid_target, valid_predictions))\n",
    "print('AUC-ROC:', roc_auc_score(valid_target, model.predict_proba(valid_features)[:, 1]))"
   ]
  },
  {
   "cell_type": "code",
   "execution_count": 26,
   "metadata": {
    "scrolled": true
   },
   "outputs": [
    {
     "name": "stdout",
     "output_type": "stream",
     "text": [
      "Значение depth лучшей модели: 6\n",
      "F1-мера лучшей модели: 0.57243195785777\n",
      "AUC-ROC лучшей модели: 0.8238433687664978\n"
     ]
    }
   ],
   "source": [
    "best_tree_ups = find_best_decision_tree(train_features_ups, train_target_ups, valid_features, valid_target)"
   ]
  },
  {
   "cell_type": "code",
   "execution_count": 27,
   "metadata": {},
   "outputs": [
    {
     "name": "stdout",
     "output_type": "stream",
     "text": [
      "Значение n_est лучшей модели: 110\n",
      "F1-мера лучшей модели: 0.6046065259117083\n",
      "AUC-ROC лучшей модели: 0.8563827257377947\n"
     ]
    }
   ],
   "source": [
    "best_forest_ups = find_best_random_forest(train_features_ups, train_target_ups, valid_features, valid_target,\n",
    "                                              max_depth=6)"
   ]
  },
  {
   "attachments": {},
   "cell_type": "markdown",
   "metadata": {},
   "source": [
    "Применение техники upsampling почти не изменило метрики в сравнении со взвешиванием классов."
   ]
  },
  {
   "attachments": {},
   "cell_type": "markdown",
   "metadata": {},
   "source": [
    "### 3.3. <a id='toc3_3_'></a>[Downsampling](#toc0_)"
   ]
  },
  {
   "attachments": {},
   "cell_type": "markdown",
   "metadata": {},
   "source": [
    "Теперь для уравновешивания классов используем технику downsampling."
   ]
  },
  {
   "cell_type": "code",
   "execution_count": 28,
   "metadata": {},
   "outputs": [],
   "source": [
    "def downsample(features, target, fraction): \n",
    "    features_zeros = features[target == 0]\n",
    "    features_ones = features[target == 1]\n",
    "    target_zeros = target[target == 0]\n",
    "    target_ones = target[target == 1]\n",
    "    \n",
    "    features_downsampled = pd.concat(\n",
    "        [features_zeros.sample(frac=fraction, random_state=12345)] + [features_ones])\n",
    "    target_downsampled = pd.concat(\n",
    "        [target_zeros.sample(frac=fraction, random_state=12345)] + [target_ones])\n",
    "    \n",
    "    features_downsampled, target_downsampled = shuffle(\n",
    "        features_downsampled, target_downsampled, random_state=12345)\n",
    "    \n",
    "    return features_downsampled, target_downsampled"
   ]
  },
  {
   "cell_type": "code",
   "execution_count": 29,
   "metadata": {},
   "outputs": [],
   "source": [
    "train_features_downs, train_target_downs = downsample(train_features, train_target, fraction=0.25)"
   ]
  },
  {
   "cell_type": "code",
   "execution_count": 30,
   "metadata": {},
   "outputs": [
    {
     "name": "stdout",
     "output_type": "stream",
     "text": [
      "F1-мера: 0.48172757475083067\n",
      "AUC-ROC: 0.7669585741123874\n"
     ]
    }
   ],
   "source": [
    "model = LogisticRegression(solver='liblinear', random_state=98241)\n",
    "\n",
    "model.fit(train_features_downs, train_target_downs)\n",
    "\n",
    "valid_predictions = model.predict(valid_features)\n",
    "\n",
    "print('F1-мера:', f1_score(valid_target, valid_predictions))\n",
    "print('AUC-ROC:', roc_auc_score(valid_target, model.predict_proba(valid_features)[:, 1]))"
   ]
  },
  {
   "cell_type": "code",
   "execution_count": 31,
   "metadata": {
    "scrolled": true
   },
   "outputs": [
    {
     "name": "stdout",
     "output_type": "stream",
     "text": [
      "Значение depth лучшей модели: 6\n",
      "F1-мера лучшей модели: 0.5754985754985755\n",
      "AUC-ROC лучшей модели: 0.820578731778079\n"
     ]
    }
   ],
   "source": [
    "best_tree_downs = find_best_decision_tree(train_features_downs, train_target_downs, valid_features, valid_target)"
   ]
  },
  {
   "cell_type": "code",
   "execution_count": 32,
   "metadata": {},
   "outputs": [
    {
     "name": "stdout",
     "output_type": "stream",
     "text": [
      "Значение n_est лучшей модели: 80\n",
      "F1-мера лучшей модели: 0.6049149338374291\n",
      "AUC-ROC лучшей модели: 0.857747140377161\n"
     ]
    }
   ],
   "source": [
    "best_forest_downs = find_best_random_forest(train_features_downs, train_target_downs, valid_features, valid_target,\n",
    "                                              max_depth=6)"
   ]
  },
  {
   "attachments": {},
   "cell_type": "markdown",
   "metadata": {},
   "source": [
    "Техника downsampling также не увеличила рассматриваемые метрики."
   ]
  },
  {
   "attachments": {},
   "cell_type": "markdown",
   "metadata": {},
   "source": [
    "**Вывод по разделу 3:**\n",
    "- Для борьбы с дисбалансом применены следующие техники: взвешивание классов, upsampling, downsampling.\n",
    "- Лучше всего себя показало взвешивание классов **F1-мера: 0.61, AUC-ROC: 0.85**.\n",
    "- Лучшая модель - так же случайный лес (**максимальная глубина: 6, количество деревьев: 30**)."
   ]
  },
  {
   "attachments": {},
   "cell_type": "markdown",
   "metadata": {},
   "source": [
    "## 4. <a id='toc4_'></a>[Тестирование модели](#toc0_)"
   ]
  },
  {
   "attachments": {},
   "cell_type": "markdown",
   "metadata": {},
   "source": [
    "Зная гиперпараметры нужной модели, обучим ёё на обучающей и валидационной выборках, и проверим качество на тестовой."
   ]
  },
  {
   "cell_type": "code",
   "execution_count": 33,
   "metadata": {},
   "outputs": [],
   "source": [
    "train_valid_features = pd.DataFrame(scaler.transform(train_valid_features), columns=features.columns)\n",
    "train_valid_target.reset_index(drop=True, inplace=True)\n",
    "\n",
    "test_features = pd.DataFrame(scaler.transform(test_features), columns=features.columns)\n",
    "test_target.reset_index(drop=True, inplace=True)"
   ]
  },
  {
   "cell_type": "code",
   "execution_count": 34,
   "metadata": {
    "scrolled": true
   },
   "outputs": [
    {
     "name": "stdout",
     "output_type": "stream",
     "text": [
      "F1-мера: 0.5948717948717949\n",
      "AUC-ROC: 0.7701176782910787\n"
     ]
    }
   ],
   "source": [
    "best_model = RandomForestClassifier(max_depth=6, n_estimators=30, class_weight='balanced', random_state=36322)\n",
    "best_model.fit(train_valid_features, train_valid_target)\n",
    "\n",
    "test_predictions = best_model.predict(test_features)\n",
    "\n",
    "print('F1-мера:', f1_score(test_target, test_predictions))\n",
    "print('AUC-ROC:', roc_auc_score(test_target, model.predict_proba(test_features)[:, 1]))"
   ]
  },
  {
   "attachments": {},
   "cell_type": "markdown",
   "metadata": {},
   "source": [
    "**Вывод по разделу 4:**  \n",
    "Выбранная модель позволяет получить следующие значения метрик:  \n",
    "**F1-мера: 0.59, AUC-ROC: 0.77.**"
   ]
  },
  {
   "attachments": {},
   "cell_type": "markdown",
   "metadata": {},
   "source": [
    "Для понимания, какие в итоге факторы важны при моделировании, изучим их важность, используя feature_importances_."
   ]
  },
  {
   "cell_type": "code",
   "execution_count": 35,
   "metadata": {},
   "outputs": [
    {
     "data": {
      "image/png": "[encoded data removed]",
      "text/plain": [
       "<Figure size 1500x1000 with 1 Axes>"
      ]
     },
     "metadata": {},
     "output_type": "display_data"
    }
   ],
   "source": [
    "pd.Series(best_model.feature_importances_, index=features.columns).plot.bar(figsize=(15, 10));"
   ]
  },
  {
   "attachments": {},
   "cell_type": "markdown",
   "metadata": {},
   "source": [
    "По сути на решение клиента уйти или остаться влияют всего 2 фактора: возраст и количество продуктов банка, используемых клиентом; при этом некоторые показатели практически не важны: наличие кредитной карты, страна проживания.\n",
    " \n",
    "Рассмотрим график распределения среднего числа ушедших клиентов по возрастным группам."
   ]
  },
  {
   "cell_type": "code",
   "execution_count": 36,
   "metadata": {},
   "outputs": [
    {
     "data": {
      "image/png": "[encoded data removed]",
      "text/plain": [
       "<Figure size 1500x1000 with 1 Axes>"
      ]
     },
     "metadata": {},
     "output_type": "display_data"
    }
   ],
   "source": [
    "age_exited = data[['age', 'exited']].copy()\n",
    "age_exited['age_group'] = pd.cut(age_exited.age, [0, 25, 40, 60, 100],\n",
    "                                 labels=['до 25', 'от 25 до 40', 'от 40 до 60', 'старше 60'])\n",
    "age_exited\\\n",
    "    .pivot_table(index='age_group', values='exited')\\\n",
    "    .plot.bar(figsize=(15, 10), title='Среднее число ушедших клиентов по возрастным группам', legend=False)\n",
    "plt.xticks(rotation=0);"
   ]
  },
  {
   "attachments": {},
   "cell_type": "markdown",
   "metadata": {},
   "source": [
    "Наибольшее число ушедших клиентов - старше 40."
   ]
  },
  {
   "attachments": {},
   "cell_type": "markdown",
   "metadata": {},
   "source": [
    "## 5. <a id='toc5_'></a>[Общий вывод:](#toc0_)"
   ]
  },
  {
   "attachments": {},
   "cell_type": "markdown",
   "metadata": {},
   "source": [
    "- В работе была проведена подготовка данных, включая разбиение на выборки и масштабирование\n",
    "- Для борьбы с дисбалансом классов были применены следующие техники  взвешивание классов, upsampling, downsampling.\n",
    "- Лучшая модель - случайный лес (максимальная глубина: 6, количество деревьев: 30).\n",
    "- На тестовой выборке получены следующие значения метрик: **F1-мера: 0.59, AUC-ROC: 0.765.**\n",
    "- На решение клиента уйти или остаться сильнее всего влияют 2 фактора: **возраст** и **количество продуктов банка, используемых клиентом.**"
   ]
  },
  {
   "attachments": {},
   "cell_type": "markdown",
   "metadata": {},
   "source": [
    "## 6. <a id='toc6_'></a>[Чек-лист готовности проекта](#toc0_)"
   ]
  },
  {
   "attachments": {},
   "cell_type": "markdown",
   "metadata": {},
   "source": [
    "- [x]  Jupyter Notebook открыт\n",
    "- [x]  Весь код выполняется без ошибок\n",
    "- [x]  Ячейки с кодом расположены в порядке исполнения\n",
    "- [x]  Данные подготовлены\n",
    "- [x]  Задача исследована\n",
    "    - [x]  Исследован баланс классов\n",
    "    - [x]  Изучены модели без учёта дисбаланса\n",
    "    - [x]  Написаны выводы по результатам исследования\n",
    "- [x]  Учтён дисбаланс\n",
    "    - [x]  Применено несколько способов борьбы с дисбалансом\n",
    "    - [x]  Написаны выводы по результатам исследования\n",
    "- [x]  Проведено тестирование\n",
    "- [x]  Удалось достичь *F1*-меры не менее 0.59\n",
    "- [x]  Исследована метрика *AUC-ROC*"
   ]
  },
  {
   "cell_type": "code",
   "execution_count": null,
   "metadata": {},
   "outputs": [],
   "source": []
  }
 ],
 "metadata": {
  "ExecuteTimeLog": [
   {
    "duration": 369,
    "start_time": "2022-12-19T14:52:01.403Z"
   },
   {
    "duration": 79,
    "start_time": "2022-12-19T14:55:56.707Z"
   },
   {
    "duration": 23,
    "start_time": "2022-12-19T14:56:08.574Z"
   },
   {
    "duration": 12,
    "start_time": "2022-12-19T14:57:57.442Z"
   },
   {
    "duration": 40,
    "start_time": "2022-12-19T14:59:48.138Z"
   },
   {
    "duration": 3,
    "start_time": "2022-12-19T15:01:12.354Z"
   },
   {
    "duration": 258,
    "start_time": "2022-12-19T15:02:16.483Z"
   },
   {
    "duration": 7,
    "start_time": "2022-12-19T15:02:35.851Z"
   },
   {
    "duration": 4,
    "start_time": "2022-12-19T15:02:42.143Z"
   },
   {
    "duration": 3,
    "start_time": "2022-12-19T15:02:57.773Z"
   },
   {
    "duration": 16,
    "start_time": "2022-12-19T15:03:11.469Z"
   },
   {
    "duration": 21,
    "start_time": "2022-12-19T15:06:45.467Z"
   },
   {
    "duration": 18,
    "start_time": "2022-12-19T15:07:17.152Z"
   },
   {
    "duration": 20,
    "start_time": "2022-12-19T15:07:27.604Z"
   },
   {
    "duration": 49,
    "start_time": "2022-12-19T15:07:34.893Z"
   },
   {
    "duration": 3,
    "start_time": "2022-12-19T15:07:41.904Z"
   },
   {
    "duration": 10,
    "start_time": "2022-12-19T15:07:51.026Z"
   },
   {
    "duration": 5,
    "start_time": "2022-12-19T15:09:21.955Z"
   },
   {
    "duration": 5,
    "start_time": "2022-12-19T15:09:45.445Z"
   },
   {
    "duration": 353,
    "start_time": "2022-12-19T15:13:50.015Z"
   },
   {
    "duration": 45,
    "start_time": "2022-12-19T15:13:50.370Z"
   },
   {
    "duration": 24,
    "start_time": "2022-12-19T15:13:50.417Z"
   },
   {
    "duration": 13,
    "start_time": "2022-12-19T15:13:50.443Z"
   },
   {
    "duration": 6,
    "start_time": "2022-12-19T15:13:50.458Z"
   },
   {
    "duration": 7,
    "start_time": "2022-12-19T15:13:50.466Z"
   },
   {
    "duration": 14,
    "start_time": "2022-12-19T15:14:14.750Z"
   },
   {
    "duration": 9,
    "start_time": "2022-12-19T15:19:13.808Z"
   },
   {
    "duration": 10,
    "start_time": "2022-12-19T15:19:54.438Z"
   },
   {
    "duration": 6,
    "start_time": "2022-12-19T15:24:46.561Z"
   },
   {
    "duration": 3,
    "start_time": "2022-12-19T15:24:55.133Z"
   },
   {
    "duration": 12,
    "start_time": "2022-12-19T15:25:07.096Z"
   },
   {
    "duration": 77,
    "start_time": "2022-12-19T15:26:25.612Z"
   },
   {
    "duration": 29,
    "start_time": "2022-12-19T15:26:35.370Z"
   },
   {
    "duration": 369,
    "start_time": "2022-12-19T16:08:06.041Z"
   },
   {
    "duration": 42,
    "start_time": "2022-12-19T16:08:06.412Z"
   },
   {
    "duration": 24,
    "start_time": "2022-12-19T16:08:06.456Z"
   },
   {
    "duration": 11,
    "start_time": "2022-12-19T16:08:06.482Z"
   },
   {
    "duration": 3,
    "start_time": "2022-12-19T16:08:06.495Z"
   },
   {
    "duration": 18,
    "start_time": "2022-12-19T16:08:06.500Z"
   },
   {
    "duration": 12,
    "start_time": "2022-12-19T16:08:06.520Z"
   },
   {
    "duration": 33,
    "start_time": "2022-12-19T16:08:06.534Z"
   },
   {
    "duration": 10,
    "start_time": "2022-12-19T16:10:33.645Z"
   },
   {
    "duration": 16,
    "start_time": "2022-12-19T16:24:25.607Z"
   },
   {
    "duration": 7,
    "start_time": "2022-12-19T16:25:23.195Z"
   },
   {
    "duration": 4,
    "start_time": "2022-12-19T16:25:30.491Z"
   },
   {
    "duration": 665,
    "start_time": "2022-12-19T16:29:26.035Z"
   },
   {
    "duration": 9,
    "start_time": "2022-12-19T16:33:56.001Z"
   },
   {
    "duration": 23,
    "start_time": "2022-12-19T16:34:42.482Z"
   },
   {
    "duration": 4,
    "start_time": "2022-12-19T16:35:11.350Z"
   },
   {
    "duration": 5,
    "start_time": "2022-12-19T16:35:49.554Z"
   },
   {
    "duration": 3,
    "start_time": "2022-12-19T16:36:01.238Z"
   },
   {
    "duration": 3,
    "start_time": "2022-12-19T16:42:41.016Z"
   },
   {
    "duration": 980,
    "start_time": "2022-12-19T16:46:21.018Z"
   },
   {
    "duration": 43,
    "start_time": "2022-12-19T16:46:22.000Z"
   },
   {
    "duration": 21,
    "start_time": "2022-12-19T16:46:22.044Z"
   },
   {
    "duration": 11,
    "start_time": "2022-12-19T16:46:22.067Z"
   },
   {
    "duration": 99,
    "start_time": "2022-12-19T16:46:22.079Z"
   },
   {
    "duration": 0,
    "start_time": "2022-12-19T16:46:22.180Z"
   },
   {
    "duration": 0,
    "start_time": "2022-12-19T16:46:22.181Z"
   },
   {
    "duration": 0,
    "start_time": "2022-12-19T16:46:22.182Z"
   },
   {
    "duration": 0,
    "start_time": "2022-12-19T16:46:22.184Z"
   },
   {
    "duration": 0,
    "start_time": "2022-12-19T16:46:22.184Z"
   },
   {
    "duration": 0,
    "start_time": "2022-12-19T16:46:22.185Z"
   },
   {
    "duration": 0,
    "start_time": "2022-12-19T16:46:22.186Z"
   },
   {
    "duration": 1002,
    "start_time": "2022-12-19T16:47:47.193Z"
   },
   {
    "duration": 42,
    "start_time": "2022-12-19T16:47:48.197Z"
   },
   {
    "duration": 24,
    "start_time": "2022-12-19T16:47:48.240Z"
   },
   {
    "duration": 17,
    "start_time": "2022-12-19T16:47:48.266Z"
   },
   {
    "duration": 14,
    "start_time": "2022-12-19T16:47:48.284Z"
   },
   {
    "duration": 17,
    "start_time": "2022-12-19T16:47:48.299Z"
   },
   {
    "duration": 9,
    "start_time": "2022-12-19T16:47:48.317Z"
   },
   {
    "duration": 19,
    "start_time": "2022-12-19T16:47:48.327Z"
   },
   {
    "duration": 6,
    "start_time": "2022-12-19T16:47:48.347Z"
   },
   {
    "duration": 17,
    "start_time": "2022-12-19T16:47:48.355Z"
   },
   {
    "duration": 37,
    "start_time": "2022-12-19T16:47:48.374Z"
   },
   {
    "duration": 22,
    "start_time": "2022-12-19T16:47:48.412Z"
   },
   {
    "duration": 17,
    "start_time": "2022-12-19T16:54:47.122Z"
   },
   {
    "duration": 4,
    "start_time": "2022-12-19T16:54:58.615Z"
   },
   {
    "duration": 89,
    "start_time": "2022-12-19T16:58:55.377Z"
   },
   {
    "duration": 9,
    "start_time": "2022-12-19T16:59:06.897Z"
   },
   {
    "duration": 21,
    "start_time": "2022-12-19T16:59:37.034Z"
   },
   {
    "duration": 1035,
    "start_time": "2022-12-19T16:59:52.686Z"
   },
   {
    "duration": 46,
    "start_time": "2022-12-19T16:59:53.723Z"
   },
   {
    "duration": 25,
    "start_time": "2022-12-19T16:59:53.771Z"
   },
   {
    "duration": 12,
    "start_time": "2022-12-19T16:59:53.798Z"
   },
   {
    "duration": 3,
    "start_time": "2022-12-19T16:59:53.812Z"
   },
   {
    "duration": 11,
    "start_time": "2022-12-19T16:59:53.816Z"
   },
   {
    "duration": 8,
    "start_time": "2022-12-19T16:59:53.829Z"
   },
   {
    "duration": 15,
    "start_time": "2022-12-19T16:59:53.839Z"
   },
   {
    "duration": 16,
    "start_time": "2022-12-19T16:59:53.856Z"
   },
   {
    "duration": 3,
    "start_time": "2022-12-19T16:59:53.876Z"
   },
   {
    "duration": 108,
    "start_time": "2022-12-19T16:59:53.880Z"
   },
   {
    "duration": 1052,
    "start_time": "2022-12-19T17:00:54.514Z"
   },
   {
    "duration": 43,
    "start_time": "2022-12-19T17:00:55.568Z"
   },
   {
    "duration": 26,
    "start_time": "2022-12-19T17:00:55.612Z"
   },
   {
    "duration": 11,
    "start_time": "2022-12-19T17:00:55.640Z"
   },
   {
    "duration": 5,
    "start_time": "2022-12-19T17:00:55.653Z"
   },
   {
    "duration": 10,
    "start_time": "2022-12-19T17:00:55.659Z"
   },
   {
    "duration": 6,
    "start_time": "2022-12-19T17:00:55.671Z"
   },
   {
    "duration": 14,
    "start_time": "2022-12-19T17:00:55.678Z"
   },
   {
    "duration": 9,
    "start_time": "2022-12-19T17:00:55.694Z"
   },
   {
    "duration": 8,
    "start_time": "2022-12-19T17:00:55.706Z"
   },
   {
    "duration": 4,
    "start_time": "2022-12-19T17:00:55.715Z"
   },
   {
    "duration": 8,
    "start_time": "2022-12-19T17:00:55.721Z"
   },
   {
    "duration": 89,
    "start_time": "2022-12-19T17:06:28.368Z"
   },
   {
    "duration": 17,
    "start_time": "2022-12-19T17:06:33.851Z"
   },
   {
    "duration": 20,
    "start_time": "2022-12-19T17:07:04.974Z"
   },
   {
    "duration": 9,
    "start_time": "2022-12-19T17:07:35.885Z"
   },
   {
    "duration": 20,
    "start_time": "2022-12-19T17:09:29.014Z"
   },
   {
    "duration": 19,
    "start_time": "2022-12-19T17:10:53.719Z"
   },
   {
    "duration": 20,
    "start_time": "2022-12-19T17:11:10.315Z"
   },
   {
    "duration": 7,
    "start_time": "2022-12-19T17:12:30.773Z"
   },
   {
    "duration": 6,
    "start_time": "2022-12-19T17:13:03.285Z"
   },
   {
    "duration": 6,
    "start_time": "2022-12-19T17:14:05.382Z"
   },
   {
    "duration": 4,
    "start_time": "2022-12-19T17:14:06.297Z"
   },
   {
    "duration": 4,
    "start_time": "2022-12-19T17:14:21.123Z"
   },
   {
    "duration": 5,
    "start_time": "2022-12-19T17:25:47.112Z"
   },
   {
    "duration": 5,
    "start_time": "2022-12-19T17:25:55.490Z"
   },
   {
    "duration": 983,
    "start_time": "2022-12-20T09:17:02.746Z"
   },
   {
    "duration": 77,
    "start_time": "2022-12-20T09:17:03.731Z"
   },
   {
    "duration": 23,
    "start_time": "2022-12-20T09:17:03.809Z"
   },
   {
    "duration": 17,
    "start_time": "2022-12-20T09:17:03.834Z"
   },
   {
    "duration": 4,
    "start_time": "2022-12-20T09:17:03.852Z"
   },
   {
    "duration": 21,
    "start_time": "2022-12-20T09:17:03.857Z"
   },
   {
    "duration": 9,
    "start_time": "2022-12-20T09:17:03.880Z"
   },
   {
    "duration": 11,
    "start_time": "2022-12-20T09:17:03.890Z"
   },
   {
    "duration": 5,
    "start_time": "2022-12-20T09:17:03.903Z"
   },
   {
    "duration": 8,
    "start_time": "2022-12-20T09:17:03.910Z"
   },
   {
    "duration": 9,
    "start_time": "2022-12-20T09:17:03.920Z"
   },
   {
    "duration": 10,
    "start_time": "2022-12-20T09:17:03.930Z"
   },
   {
    "duration": 8,
    "start_time": "2022-12-20T09:17:03.942Z"
   },
   {
    "duration": 16,
    "start_time": "2022-12-20T09:17:03.952Z"
   },
   {
    "duration": 28,
    "start_time": "2022-12-20T09:26:14.992Z"
   },
   {
    "duration": 4,
    "start_time": "2022-12-20T09:28:05.219Z"
   },
   {
    "duration": 100,
    "start_time": "2022-12-20T09:33:45.474Z"
   },
   {
    "duration": 31,
    "start_time": "2022-12-20T09:34:56.378Z"
   },
   {
    "duration": 19,
    "start_time": "2022-12-20T09:35:09.763Z"
   },
   {
    "duration": 3,
    "start_time": "2022-12-20T10:17:47.588Z"
   },
   {
    "duration": 3,
    "start_time": "2022-12-20T10:18:00.805Z"
   },
   {
    "duration": 28,
    "start_time": "2022-12-20T10:19:36.154Z"
   },
   {
    "duration": 4,
    "start_time": "2022-12-20T10:55:33.185Z"
   },
   {
    "duration": 5,
    "start_time": "2022-12-20T10:55:38.600Z"
   },
   {
    "duration": 4,
    "start_time": "2022-12-20T10:56:23.532Z"
   },
   {
    "duration": 36,
    "start_time": "2022-12-20T10:57:33.461Z"
   },
   {
    "duration": 41,
    "start_time": "2022-12-20T10:57:54.129Z"
   },
   {
    "duration": 42,
    "start_time": "2022-12-20T10:58:39.195Z"
   },
   {
    "duration": 42,
    "start_time": "2022-12-20T10:58:49.478Z"
   },
   {
    "duration": 42,
    "start_time": "2022-12-20T10:58:55.008Z"
   },
   {
    "duration": 5,
    "start_time": "2022-12-20T10:59:37.363Z"
   },
   {
    "duration": 42,
    "start_time": "2022-12-20T10:59:40.003Z"
   },
   {
    "duration": 5,
    "start_time": "2022-12-20T11:00:00.228Z"
   },
   {
    "duration": 20,
    "start_time": "2022-12-20T11:00:01.892Z"
   },
   {
    "duration": 5,
    "start_time": "2022-12-20T11:00:12.105Z"
   },
   {
    "duration": 5,
    "start_time": "2022-12-20T11:00:13.093Z"
   },
   {
    "duration": 373,
    "start_time": "2022-12-20T11:00:13.953Z"
   },
   {
    "duration": 1192,
    "start_time": "2022-12-20T13:40:58.126Z"
   },
   {
    "duration": 80,
    "start_time": "2022-12-20T13:40:59.322Z"
   },
   {
    "duration": 26,
    "start_time": "2022-12-20T13:40:59.405Z"
   },
   {
    "duration": 13,
    "start_time": "2022-12-20T13:40:59.433Z"
   },
   {
    "duration": 4,
    "start_time": "2022-12-20T13:40:59.448Z"
   },
   {
    "duration": 6,
    "start_time": "2022-12-20T13:40:59.454Z"
   },
   {
    "duration": 18,
    "start_time": "2022-12-20T13:40:59.461Z"
   },
   {
    "duration": 13,
    "start_time": "2022-12-20T13:40:59.481Z"
   },
   {
    "duration": 5,
    "start_time": "2022-12-20T13:40:59.497Z"
   },
   {
    "duration": 11,
    "start_time": "2022-12-20T13:40:59.505Z"
   },
   {
    "duration": 9,
    "start_time": "2022-12-20T13:40:59.518Z"
   },
   {
    "duration": 10,
    "start_time": "2022-12-20T13:40:59.529Z"
   },
   {
    "duration": 40,
    "start_time": "2022-12-20T13:40:59.541Z"
   },
   {
    "duration": 12,
    "start_time": "2022-12-20T13:40:59.584Z"
   },
   {
    "duration": 83,
    "start_time": "2022-12-20T13:40:59.598Z"
   },
   {
    "duration": 96,
    "start_time": "2022-12-20T13:40:59.682Z"
   },
   {
    "duration": 478,
    "start_time": "2022-12-20T13:40:59.780Z"
   },
   {
    "duration": 6,
    "start_time": "2022-12-20T13:44:54.035Z"
   },
   {
    "duration": 430,
    "start_time": "2022-12-20T13:44:55.148Z"
   },
   {
    "duration": 52,
    "start_time": "2022-12-20T13:46:54.821Z"
   },
   {
    "duration": 7,
    "start_time": "2022-12-20T13:46:59.225Z"
   },
   {
    "duration": 9,
    "start_time": "2022-12-20T13:47:02.993Z"
   },
   {
    "duration": 12,
    "start_time": "2022-12-20T13:58:45.080Z"
   },
   {
    "duration": 8,
    "start_time": "2022-12-20T13:59:17.759Z"
   },
   {
    "duration": 397,
    "start_time": "2022-12-20T13:59:19.660Z"
   },
   {
    "duration": 5,
    "start_time": "2022-12-20T14:04:07.293Z"
   },
   {
    "duration": 5,
    "start_time": "2022-12-20T14:04:45.691Z"
   },
   {
    "duration": 371,
    "start_time": "2022-12-20T14:05:13.021Z"
   },
   {
    "duration": 108,
    "start_time": "2022-12-20T14:06:09.153Z"
   },
   {
    "duration": 44,
    "start_time": "2022-12-20T14:07:03.066Z"
   },
   {
    "duration": 5,
    "start_time": "2022-12-20T14:07:14.153Z"
   },
   {
    "duration": 5,
    "start_time": "2022-12-20T14:07:15.496Z"
   },
   {
    "duration": 15,
    "start_time": "2022-12-20T14:07:16.669Z"
   },
   {
    "duration": 5,
    "start_time": "2022-12-20T14:08:34.896Z"
   },
   {
    "duration": 13,
    "start_time": "2022-12-20T14:08:35.760Z"
   },
   {
    "duration": 5,
    "start_time": "2022-12-20T14:08:41.347Z"
   },
   {
    "duration": 754,
    "start_time": "2022-12-20T14:08:55.952Z"
   },
   {
    "duration": 6,
    "start_time": "2022-12-20T14:09:54.446Z"
   },
   {
    "duration": 3722,
    "start_time": "2022-12-20T14:09:55.559Z"
   },
   {
    "duration": 20,
    "start_time": "2022-12-20T14:39:00.609Z"
   },
   {
    "duration": 149,
    "start_time": "2022-12-20T14:40:26.838Z"
   },
   {
    "duration": 13,
    "start_time": "2022-12-20T14:41:30.246Z"
   },
   {
    "duration": 146,
    "start_time": "2022-12-20T14:41:43.893Z"
   },
   {
    "duration": 2765,
    "start_time": "2022-12-20T14:43:19.580Z"
   },
   {
    "duration": 2762,
    "start_time": "2022-12-20T14:43:39.679Z"
   },
   {
    "duration": 4,
    "start_time": "2022-12-20T14:52:57.220Z"
   },
   {
    "duration": 20,
    "start_time": "2022-12-20T14:55:20.648Z"
   },
   {
    "duration": 4,
    "start_time": "2022-12-20T14:55:48.837Z"
   },
   {
    "duration": 5,
    "start_time": "2022-12-20T14:56:11.160Z"
   },
   {
    "duration": 6,
    "start_time": "2022-12-20T14:56:21.875Z"
   },
   {
    "duration": 17,
    "start_time": "2022-12-20T14:56:36.047Z"
   },
   {
    "duration": 18,
    "start_time": "2022-12-20T14:56:54.373Z"
   },
   {
    "duration": 20,
    "start_time": "2022-12-20T14:57:03.901Z"
   },
   {
    "duration": 17,
    "start_time": "2022-12-20T14:57:23.780Z"
   },
   {
    "duration": 1146,
    "start_time": "2022-12-20T14:58:35.658Z"
   },
   {
    "duration": 41,
    "start_time": "2022-12-20T14:58:36.806Z"
   },
   {
    "duration": 35,
    "start_time": "2022-12-20T14:58:36.849Z"
   },
   {
    "duration": 23,
    "start_time": "2022-12-20T14:58:36.886Z"
   },
   {
    "duration": 29,
    "start_time": "2022-12-20T14:58:36.910Z"
   },
   {
    "duration": 36,
    "start_time": "2022-12-20T14:58:36.941Z"
   },
   {
    "duration": 53,
    "start_time": "2022-12-20T14:58:36.978Z"
   },
   {
    "duration": 29,
    "start_time": "2022-12-20T14:58:37.032Z"
   },
   {
    "duration": 39,
    "start_time": "2022-12-20T14:58:37.063Z"
   },
   {
    "duration": 27,
    "start_time": "2022-12-20T14:58:37.105Z"
   },
   {
    "duration": 25,
    "start_time": "2022-12-20T14:58:37.134Z"
   },
   {
    "duration": 32,
    "start_time": "2022-12-20T14:58:37.161Z"
   },
   {
    "duration": 23,
    "start_time": "2022-12-20T14:58:37.195Z"
   },
   {
    "duration": 26,
    "start_time": "2022-12-20T14:58:37.220Z"
   },
   {
    "duration": 57,
    "start_time": "2022-12-20T14:58:37.249Z"
   },
   {
    "duration": 102,
    "start_time": "2022-12-20T14:58:37.379Z"
   },
   {
    "duration": 464,
    "start_time": "2022-12-20T14:58:37.483Z"
   },
   {
    "duration": 5,
    "start_time": "2022-12-20T14:58:37.949Z"
   },
   {
    "duration": 3872,
    "start_time": "2022-12-20T14:58:37.956Z"
   },
   {
    "duration": 63,
    "start_time": "2022-12-20T14:58:41.830Z"
   },
   {
    "duration": 594,
    "start_time": "2022-12-20T14:58:41.896Z"
   },
   {
    "duration": 2822,
    "start_time": "2022-12-20T14:58:42.492Z"
   },
   {
    "duration": 4,
    "start_time": "2022-12-20T14:58:45.316Z"
   },
   {
    "duration": 141,
    "start_time": "2022-12-20T14:58:45.321Z"
   },
   {
    "duration": 1140,
    "start_time": "2022-12-20T15:00:21.886Z"
   },
   {
    "duration": 42,
    "start_time": "2022-12-20T15:00:23.028Z"
   },
   {
    "duration": 26,
    "start_time": "2022-12-20T15:00:23.072Z"
   },
   {
    "duration": 14,
    "start_time": "2022-12-20T15:00:23.100Z"
   },
   {
    "duration": 4,
    "start_time": "2022-12-20T15:00:23.116Z"
   },
   {
    "duration": 7,
    "start_time": "2022-12-20T15:00:23.122Z"
   },
   {
    "duration": 12,
    "start_time": "2022-12-20T15:00:23.131Z"
   },
   {
    "duration": 17,
    "start_time": "2022-12-20T15:00:23.144Z"
   },
   {
    "duration": 6,
    "start_time": "2022-12-20T15:00:23.178Z"
   },
   {
    "duration": 10,
    "start_time": "2022-12-20T15:00:23.187Z"
   },
   {
    "duration": 7,
    "start_time": "2022-12-20T15:00:23.198Z"
   },
   {
    "duration": 7,
    "start_time": "2022-12-20T15:00:23.207Z"
   },
   {
    "duration": 4,
    "start_time": "2022-12-20T15:00:23.216Z"
   },
   {
    "duration": 7,
    "start_time": "2022-12-20T15:00:23.221Z"
   },
   {
    "duration": 55,
    "start_time": "2022-12-20T15:00:23.229Z"
   },
   {
    "duration": 91,
    "start_time": "2022-12-20T15:00:23.286Z"
   },
   {
    "duration": 516,
    "start_time": "2022-12-20T15:00:23.380Z"
   },
   {
    "duration": 5,
    "start_time": "2022-12-20T15:00:23.898Z"
   },
   {
    "duration": 3552,
    "start_time": "2022-12-20T15:00:23.905Z"
   },
   {
    "duration": 29,
    "start_time": "2022-12-20T15:00:27.459Z"
   },
   {
    "duration": 624,
    "start_time": "2022-12-20T15:00:27.491Z"
   },
   {
    "duration": 2823,
    "start_time": "2022-12-20T15:00:28.116Z"
   },
   {
    "duration": 6,
    "start_time": "2022-12-20T15:00:30.941Z"
   },
   {
    "duration": 151,
    "start_time": "2022-12-20T15:00:30.949Z"
   },
   {
    "duration": 1131,
    "start_time": "2022-12-20T15:00:51.267Z"
   },
   {
    "duration": 41,
    "start_time": "2022-12-20T15:00:52.400Z"
   },
   {
    "duration": 26,
    "start_time": "2022-12-20T15:00:52.442Z"
   },
   {
    "duration": 14,
    "start_time": "2022-12-20T15:00:52.469Z"
   },
   {
    "duration": 4,
    "start_time": "2022-12-20T15:00:52.484Z"
   },
   {
    "duration": 6,
    "start_time": "2022-12-20T15:00:52.490Z"
   },
   {
    "duration": 14,
    "start_time": "2022-12-20T15:00:52.497Z"
   },
   {
    "duration": 12,
    "start_time": "2022-12-20T15:00:52.513Z"
   },
   {
    "duration": 5,
    "start_time": "2022-12-20T15:00:52.526Z"
   },
   {
    "duration": 8,
    "start_time": "2022-12-20T15:00:52.534Z"
   },
   {
    "duration": 8,
    "start_time": "2022-12-20T15:00:52.544Z"
   },
   {
    "duration": 28,
    "start_time": "2022-12-20T15:00:52.553Z"
   },
   {
    "duration": 4,
    "start_time": "2022-12-20T15:00:52.582Z"
   },
   {
    "duration": 11,
    "start_time": "2022-12-20T15:00:52.587Z"
   },
   {
    "duration": 80,
    "start_time": "2022-12-20T15:00:52.600Z"
   },
   {
    "duration": 97,
    "start_time": "2022-12-20T15:00:52.681Z"
   },
   {
    "duration": 433,
    "start_time": "2022-12-20T15:00:52.780Z"
   },
   {
    "duration": 4,
    "start_time": "2022-12-20T15:00:53.215Z"
   },
   {
    "duration": 3512,
    "start_time": "2022-12-20T15:00:53.221Z"
   },
   {
    "duration": 46,
    "start_time": "2022-12-20T15:00:56.735Z"
   },
   {
    "duration": 515,
    "start_time": "2022-12-20T15:00:56.784Z"
   },
   {
    "duration": 2751,
    "start_time": "2022-12-20T15:00:57.301Z"
   },
   {
    "duration": 5,
    "start_time": "2022-12-20T15:01:00.053Z"
   },
   {
    "duration": 134,
    "start_time": "2022-12-20T15:01:00.060Z"
   },
   {
    "duration": 6,
    "start_time": "2022-12-20T15:02:23.763Z"
   },
   {
    "duration": 5,
    "start_time": "2022-12-20T15:02:28.727Z"
   },
   {
    "duration": 4,
    "start_time": "2022-12-20T15:03:47.484Z"
   },
   {
    "duration": 0,
    "start_time": "2022-12-20T15:07:13.909Z"
   },
   {
    "duration": 0,
    "start_time": "2022-12-20T15:07:13.910Z"
   },
   {
    "duration": 0,
    "start_time": "2022-12-20T15:07:13.911Z"
   },
   {
    "duration": 0,
    "start_time": "2022-12-20T15:07:13.912Z"
   },
   {
    "duration": 0,
    "start_time": "2022-12-20T15:07:13.913Z"
   },
   {
    "duration": 0,
    "start_time": "2022-12-20T15:07:13.914Z"
   },
   {
    "duration": 0,
    "start_time": "2022-12-20T15:07:13.915Z"
   },
   {
    "duration": 0,
    "start_time": "2022-12-20T15:07:13.916Z"
   },
   {
    "duration": 0,
    "start_time": "2022-12-20T15:07:13.917Z"
   },
   {
    "duration": 0,
    "start_time": "2022-12-20T15:07:13.918Z"
   },
   {
    "duration": 0,
    "start_time": "2022-12-20T15:07:13.919Z"
   },
   {
    "duration": 0,
    "start_time": "2022-12-20T15:07:13.920Z"
   },
   {
    "duration": 0,
    "start_time": "2022-12-20T15:07:13.921Z"
   },
   {
    "duration": 0,
    "start_time": "2022-12-20T15:07:13.922Z"
   },
   {
    "duration": 0,
    "start_time": "2022-12-20T15:07:13.978Z"
   },
   {
    "duration": 0,
    "start_time": "2022-12-20T15:07:13.980Z"
   },
   {
    "duration": 0,
    "start_time": "2022-12-20T15:07:13.981Z"
   },
   {
    "duration": 0,
    "start_time": "2022-12-20T15:07:13.981Z"
   },
   {
    "duration": 0,
    "start_time": "2022-12-20T15:07:13.983Z"
   },
   {
    "duration": 0,
    "start_time": "2022-12-20T15:07:13.984Z"
   },
   {
    "duration": 0,
    "start_time": "2022-12-20T15:07:13.985Z"
   },
   {
    "duration": 0,
    "start_time": "2022-12-20T15:07:13.986Z"
   },
   {
    "duration": 0,
    "start_time": "2022-12-20T15:07:13.987Z"
   },
   {
    "duration": 0,
    "start_time": "2022-12-20T15:07:13.988Z"
   },
   {
    "duration": 0,
    "start_time": "2022-12-20T15:07:13.989Z"
   },
   {
    "duration": 1121,
    "start_time": "2022-12-20T15:07:23.270Z"
   },
   {
    "duration": 41,
    "start_time": "2022-12-20T15:07:24.393Z"
   },
   {
    "duration": 25,
    "start_time": "2022-12-20T15:07:24.436Z"
   },
   {
    "duration": 15,
    "start_time": "2022-12-20T15:07:24.464Z"
   },
   {
    "duration": 5,
    "start_time": "2022-12-20T15:07:24.481Z"
   },
   {
    "duration": 6,
    "start_time": "2022-12-20T15:07:24.487Z"
   },
   {
    "duration": 7,
    "start_time": "2022-12-20T15:07:24.494Z"
   },
   {
    "duration": 15,
    "start_time": "2022-12-20T15:07:24.503Z"
   },
   {
    "duration": 5,
    "start_time": "2022-12-20T15:07:24.520Z"
   },
   {
    "duration": 9,
    "start_time": "2022-12-20T15:07:24.527Z"
   },
   {
    "duration": 13,
    "start_time": "2022-12-20T15:07:24.537Z"
   },
   {
    "duration": 128,
    "start_time": "2022-12-20T15:07:24.551Z"
   },
   {
    "duration": 0,
    "start_time": "2022-12-20T15:07:24.680Z"
   },
   {
    "duration": 0,
    "start_time": "2022-12-20T15:07:24.682Z"
   },
   {
    "duration": 0,
    "start_time": "2022-12-20T15:07:24.683Z"
   },
   {
    "duration": 0,
    "start_time": "2022-12-20T15:07:24.685Z"
   },
   {
    "duration": 0,
    "start_time": "2022-12-20T15:07:24.686Z"
   },
   {
    "duration": 0,
    "start_time": "2022-12-20T15:07:24.688Z"
   },
   {
    "duration": 0,
    "start_time": "2022-12-20T15:07:24.689Z"
   },
   {
    "duration": 0,
    "start_time": "2022-12-20T15:07:24.691Z"
   },
   {
    "duration": 0,
    "start_time": "2022-12-20T15:07:24.693Z"
   },
   {
    "duration": 0,
    "start_time": "2022-12-20T15:07:24.694Z"
   },
   {
    "duration": 0,
    "start_time": "2022-12-20T15:07:24.695Z"
   },
   {
    "duration": 0,
    "start_time": "2022-12-20T15:07:24.697Z"
   },
   {
    "duration": 0,
    "start_time": "2022-12-20T15:07:24.699Z"
   },
   {
    "duration": 8,
    "start_time": "2022-12-20T15:09:07.899Z"
   },
   {
    "duration": 4,
    "start_time": "2022-12-20T15:09:12.998Z"
   },
   {
    "duration": 5,
    "start_time": "2022-12-20T15:09:13.646Z"
   },
   {
    "duration": 1120,
    "start_time": "2022-12-20T15:09:32.914Z"
   },
   {
    "duration": 48,
    "start_time": "2022-12-20T15:09:34.036Z"
   },
   {
    "duration": 27,
    "start_time": "2022-12-20T15:09:34.086Z"
   },
   {
    "duration": 13,
    "start_time": "2022-12-20T15:09:34.116Z"
   },
   {
    "duration": 8,
    "start_time": "2022-12-20T15:09:34.131Z"
   },
   {
    "duration": 19,
    "start_time": "2022-12-20T15:09:34.141Z"
   },
   {
    "duration": 16,
    "start_time": "2022-12-20T15:09:34.162Z"
   },
   {
    "duration": 17,
    "start_time": "2022-12-20T15:09:34.180Z"
   },
   {
    "duration": 11,
    "start_time": "2022-12-20T15:09:34.200Z"
   },
   {
    "duration": 17,
    "start_time": "2022-12-20T15:09:34.214Z"
   },
   {
    "duration": 16,
    "start_time": "2022-12-20T15:09:34.232Z"
   },
   {
    "duration": 17,
    "start_time": "2022-12-20T15:09:34.250Z"
   },
   {
    "duration": 31,
    "start_time": "2022-12-20T15:09:34.269Z"
   },
   {
    "duration": 28,
    "start_time": "2022-12-20T15:09:34.302Z"
   },
   {
    "duration": 24,
    "start_time": "2022-12-20T15:09:34.332Z"
   },
   {
    "duration": 59,
    "start_time": "2022-12-20T15:09:34.358Z"
   },
   {
    "duration": 168,
    "start_time": "2022-12-20T15:09:34.419Z"
   },
   {
    "duration": 455,
    "start_time": "2022-12-20T15:09:34.588Z"
   },
   {
    "duration": 5,
    "start_time": "2022-12-20T15:09:35.044Z"
   },
   {
    "duration": 3759,
    "start_time": "2022-12-20T15:09:35.051Z"
   },
   {
    "duration": 71,
    "start_time": "2022-12-20T15:09:38.812Z"
   },
   {
    "duration": 540,
    "start_time": "2022-12-20T15:09:38.885Z"
   },
   {
    "duration": 2932,
    "start_time": "2022-12-20T15:09:39.427Z"
   },
   {
    "duration": 4,
    "start_time": "2022-12-20T15:09:42.361Z"
   },
   {
    "duration": 129,
    "start_time": "2022-12-20T15:09:42.367Z"
   },
   {
    "duration": 3,
    "start_time": "2022-12-20T15:11:33.471Z"
   },
   {
    "duration": 10,
    "start_time": "2022-12-20T15:11:40.653Z"
   },
   {
    "duration": 82,
    "start_time": "2022-12-20T15:22:23.595Z"
   },
   {
    "duration": 556,
    "start_time": "2022-12-20T15:23:13.107Z"
   },
   {
    "duration": 3940,
    "start_time": "2022-12-20T15:23:50.391Z"
   },
   {
    "duration": 5,
    "start_time": "2022-12-20T15:29:40.703Z"
   },
   {
    "duration": 1116,
    "start_time": "2022-12-20T15:32:37.140Z"
   },
   {
    "duration": 44,
    "start_time": "2022-12-20T15:32:38.259Z"
   },
   {
    "duration": 32,
    "start_time": "2022-12-20T15:32:38.305Z"
   },
   {
    "duration": 19,
    "start_time": "2022-12-20T15:32:38.339Z"
   },
   {
    "duration": 22,
    "start_time": "2022-12-20T15:32:38.360Z"
   },
   {
    "duration": 9,
    "start_time": "2022-12-20T15:32:38.384Z"
   },
   {
    "duration": 18,
    "start_time": "2022-12-20T15:32:38.395Z"
   },
   {
    "duration": 24,
    "start_time": "2022-12-20T15:32:38.415Z"
   },
   {
    "duration": 21,
    "start_time": "2022-12-20T15:32:38.442Z"
   },
   {
    "duration": 11,
    "start_time": "2022-12-20T15:32:38.467Z"
   },
   {
    "duration": 27,
    "start_time": "2022-12-20T15:32:38.480Z"
   },
   {
    "duration": 20,
    "start_time": "2022-12-20T15:32:38.510Z"
   },
   {
    "duration": 8,
    "start_time": "2022-12-20T15:32:38.532Z"
   },
   {
    "duration": 12,
    "start_time": "2022-12-20T15:32:38.542Z"
   },
   {
    "duration": 12,
    "start_time": "2022-12-20T15:32:38.556Z"
   },
   {
    "duration": 34,
    "start_time": "2022-12-20T15:32:38.570Z"
   },
   {
    "duration": 77,
    "start_time": "2022-12-20T15:32:38.606Z"
   },
   {
    "duration": 500,
    "start_time": "2022-12-20T15:32:38.685Z"
   },
   {
    "duration": 4,
    "start_time": "2022-12-20T15:32:39.187Z"
   },
   {
    "duration": 3468,
    "start_time": "2022-12-20T15:32:39.193Z"
   },
   {
    "duration": 26,
    "start_time": "2022-12-20T15:32:42.663Z"
   },
   {
    "duration": 630,
    "start_time": "2022-12-20T15:32:42.692Z"
   },
   {
    "duration": 2814,
    "start_time": "2022-12-20T15:32:43.324Z"
   },
   {
    "duration": 4,
    "start_time": "2022-12-20T15:32:46.140Z"
   },
   {
    "duration": 30,
    "start_time": "2022-12-20T15:32:46.145Z"
   },
   {
    "duration": 43,
    "start_time": "2022-12-20T15:32:46.177Z"
   },
   {
    "duration": 722,
    "start_time": "2022-12-20T15:32:46.222Z"
   },
   {
    "duration": 3892,
    "start_time": "2022-12-20T15:32:46.947Z"
   },
   {
    "duration": 5,
    "start_time": "2022-12-20T15:32:50.840Z"
   },
   {
    "duration": 96,
    "start_time": "2022-12-20T15:34:02.066Z"
   },
   {
    "duration": 9,
    "start_time": "2022-12-20T15:34:10.746Z"
   },
   {
    "duration": 1062,
    "start_time": "2022-12-20T15:35:44.526Z"
   },
   {
    "duration": 42,
    "start_time": "2022-12-20T15:35:45.590Z"
   },
   {
    "duration": 23,
    "start_time": "2022-12-20T15:35:45.634Z"
   },
   {
    "duration": 12,
    "start_time": "2022-12-20T15:35:45.659Z"
   },
   {
    "duration": 4,
    "start_time": "2022-12-20T15:35:45.673Z"
   },
   {
    "duration": 5,
    "start_time": "2022-12-20T15:35:45.679Z"
   },
   {
    "duration": 10,
    "start_time": "2022-12-20T15:35:45.685Z"
   },
   {
    "duration": 15,
    "start_time": "2022-12-20T15:35:45.696Z"
   },
   {
    "duration": 5,
    "start_time": "2022-12-20T15:35:45.712Z"
   },
   {
    "duration": 8,
    "start_time": "2022-12-20T15:35:45.720Z"
   },
   {
    "duration": 6,
    "start_time": "2022-12-20T15:35:45.730Z"
   },
   {
    "duration": 8,
    "start_time": "2022-12-20T15:35:45.737Z"
   },
   {
    "duration": 4,
    "start_time": "2022-12-20T15:35:45.746Z"
   },
   {
    "duration": 30,
    "start_time": "2022-12-20T15:35:45.751Z"
   },
   {
    "duration": 96,
    "start_time": "2022-12-20T15:35:45.783Z"
   },
   {
    "duration": 94,
    "start_time": "2022-12-20T15:35:45.884Z"
   },
   {
    "duration": 431,
    "start_time": "2022-12-20T15:35:45.980Z"
   },
   {
    "duration": 5,
    "start_time": "2022-12-20T15:35:46.412Z"
   },
   {
    "duration": 3573,
    "start_time": "2022-12-20T15:35:46.419Z"
   },
   {
    "duration": 19,
    "start_time": "2022-12-20T15:35:49.993Z"
   },
   {
    "duration": 523,
    "start_time": "2022-12-20T15:35:50.079Z"
   },
   {
    "duration": 2762,
    "start_time": "2022-12-20T15:35:50.603Z"
   },
   {
    "duration": 4,
    "start_time": "2022-12-20T15:35:53.367Z"
   },
   {
    "duration": 23,
    "start_time": "2022-12-20T15:35:53.377Z"
   },
   {
    "duration": 77,
    "start_time": "2022-12-20T15:35:53.402Z"
   },
   {
    "duration": 610,
    "start_time": "2022-12-20T15:35:53.481Z"
   },
   {
    "duration": 3678,
    "start_time": "2022-12-20T15:35:54.093Z"
   },
   {
    "duration": 4,
    "start_time": "2022-12-20T15:35:57.777Z"
   },
   {
    "duration": 19,
    "start_time": "2022-12-20T15:35:57.782Z"
   },
   {
    "duration": 29,
    "start_time": "2022-12-20T15:35:57.802Z"
   },
   {
    "duration": 298,
    "start_time": "2022-12-20T15:35:57.883Z"
   },
   {
    "duration": 2229,
    "start_time": "2022-12-20T15:35:58.183Z"
   },
   {
    "duration": 1096,
    "start_time": "2022-12-20T15:36:59.494Z"
   },
   {
    "duration": 42,
    "start_time": "2022-12-20T15:37:00.592Z"
   },
   {
    "duration": 24,
    "start_time": "2022-12-20T15:37:00.636Z"
   },
   {
    "duration": 14,
    "start_time": "2022-12-20T15:37:00.662Z"
   },
   {
    "duration": 5,
    "start_time": "2022-12-20T15:37:00.677Z"
   },
   {
    "duration": 29,
    "start_time": "2022-12-20T15:37:00.683Z"
   },
   {
    "duration": 25,
    "start_time": "2022-12-20T15:37:00.713Z"
   },
   {
    "duration": 20,
    "start_time": "2022-12-20T15:37:00.740Z"
   },
   {
    "duration": 16,
    "start_time": "2022-12-20T15:37:00.762Z"
   },
   {
    "duration": 20,
    "start_time": "2022-12-20T15:37:00.781Z"
   },
   {
    "duration": 29,
    "start_time": "2022-12-20T15:37:00.803Z"
   },
   {
    "duration": 22,
    "start_time": "2022-12-20T15:37:00.833Z"
   },
   {
    "duration": 27,
    "start_time": "2022-12-20T15:37:00.857Z"
   },
   {
    "duration": 16,
    "start_time": "2022-12-20T15:37:00.886Z"
   },
   {
    "duration": 76,
    "start_time": "2022-12-20T15:37:00.904Z"
   },
   {
    "duration": 6,
    "start_time": "2022-12-20T15:37:00.982Z"
   },
   {
    "duration": 526,
    "start_time": "2022-12-20T15:37:00.990Z"
   },
   {
    "duration": 5,
    "start_time": "2022-12-20T15:37:01.517Z"
   },
   {
    "duration": 3447,
    "start_time": "2022-12-20T15:37:01.523Z"
   },
   {
    "duration": 20,
    "start_time": "2022-12-20T15:37:04.971Z"
   },
   {
    "duration": 607,
    "start_time": "2022-12-20T15:37:04.993Z"
   },
   {
    "duration": 2787,
    "start_time": "2022-12-20T15:37:05.601Z"
   },
   {
    "duration": 5,
    "start_time": "2022-12-20T15:37:08.390Z"
   },
   {
    "duration": 38,
    "start_time": "2022-12-20T15:37:08.397Z"
   },
   {
    "duration": 54,
    "start_time": "2022-12-20T15:37:08.437Z"
   },
   {
    "duration": 676,
    "start_time": "2022-12-20T15:37:08.492Z"
   },
   {
    "duration": 3705,
    "start_time": "2022-12-20T15:37:09.170Z"
   },
   {
    "duration": 4,
    "start_time": "2022-12-20T15:37:12.880Z"
   },
   {
    "duration": 32,
    "start_time": "2022-12-20T15:37:12.886Z"
   },
   {
    "duration": 59,
    "start_time": "2022-12-20T15:37:12.920Z"
   },
   {
    "duration": 306,
    "start_time": "2022-12-20T15:37:12.983Z"
   },
   {
    "duration": 1746,
    "start_time": "2022-12-20T15:37:13.291Z"
   },
   {
    "duration": 1169,
    "start_time": "2022-12-20T15:51:55.721Z"
   },
   {
    "duration": 42,
    "start_time": "2022-12-20T15:51:56.892Z"
   },
   {
    "duration": 25,
    "start_time": "2022-12-20T15:51:56.935Z"
   },
   {
    "duration": 12,
    "start_time": "2022-12-20T15:51:56.962Z"
   },
   {
    "duration": 4,
    "start_time": "2022-12-20T15:51:56.976Z"
   },
   {
    "duration": 8,
    "start_time": "2022-12-20T15:51:56.981Z"
   },
   {
    "duration": 6,
    "start_time": "2022-12-20T15:51:56.991Z"
   },
   {
    "duration": 15,
    "start_time": "2022-12-20T15:51:56.999Z"
   },
   {
    "duration": 7,
    "start_time": "2022-12-20T15:51:57.015Z"
   },
   {
    "duration": 7,
    "start_time": "2022-12-20T15:51:57.025Z"
   },
   {
    "duration": 6,
    "start_time": "2022-12-20T15:51:57.034Z"
   },
   {
    "duration": 10,
    "start_time": "2022-12-20T15:51:57.042Z"
   },
   {
    "duration": 27,
    "start_time": "2022-12-20T15:51:57.054Z"
   },
   {
    "duration": 8,
    "start_time": "2022-12-20T15:51:57.082Z"
   },
   {
    "duration": 89,
    "start_time": "2022-12-20T15:51:57.092Z"
   },
   {
    "duration": 96,
    "start_time": "2022-12-20T15:51:57.182Z"
   },
   {
    "duration": 422,
    "start_time": "2022-12-20T15:51:57.280Z"
   },
   {
    "duration": 5,
    "start_time": "2022-12-20T15:51:57.704Z"
   },
   {
    "duration": 3680,
    "start_time": "2022-12-20T15:51:57.711Z"
   },
   {
    "duration": 87,
    "start_time": "2022-12-20T15:52:01.393Z"
   },
   {
    "duration": 560,
    "start_time": "2022-12-20T15:52:01.483Z"
   },
   {
    "duration": 2816,
    "start_time": "2022-12-20T15:52:02.044Z"
   },
   {
    "duration": 4,
    "start_time": "2022-12-20T15:52:04.862Z"
   },
   {
    "duration": 13,
    "start_time": "2022-12-20T15:52:04.868Z"
   },
   {
    "duration": 25,
    "start_time": "2022-12-20T15:52:04.883Z"
   },
   {
    "duration": 625,
    "start_time": "2022-12-20T15:52:04.979Z"
   },
   {
    "duration": 3871,
    "start_time": "2022-12-20T15:52:05.606Z"
   },
   {
    "duration": 4,
    "start_time": "2022-12-20T15:52:09.481Z"
   },
   {
    "duration": 23,
    "start_time": "2022-12-20T15:52:09.486Z"
   },
   {
    "duration": 25,
    "start_time": "2022-12-20T15:52:09.511Z"
   },
   {
    "duration": 312,
    "start_time": "2022-12-20T15:52:09.579Z"
   },
   {
    "duration": 1773,
    "start_time": "2022-12-20T15:52:09.892Z"
   },
   {
    "duration": 107,
    "start_time": "2022-12-20T15:54:41.028Z"
   },
   {
    "duration": 11,
    "start_time": "2022-12-20T15:55:55.291Z"
   },
   {
    "duration": 9,
    "start_time": "2022-12-20T15:57:10.314Z"
   },
   {
    "duration": 1177,
    "start_time": "2022-12-20T15:57:16.479Z"
   },
   {
    "duration": 43,
    "start_time": "2022-12-20T15:57:17.658Z"
   },
   {
    "duration": 25,
    "start_time": "2022-12-20T15:57:17.703Z"
   },
   {
    "duration": 13,
    "start_time": "2022-12-20T15:57:17.730Z"
   },
   {
    "duration": 6,
    "start_time": "2022-12-20T15:57:17.745Z"
   },
   {
    "duration": 26,
    "start_time": "2022-12-20T15:57:17.752Z"
   },
   {
    "duration": 5,
    "start_time": "2022-12-20T15:57:17.780Z"
   },
   {
    "duration": 16,
    "start_time": "2022-12-20T15:57:17.787Z"
   },
   {
    "duration": 5,
    "start_time": "2022-12-20T15:57:17.805Z"
   },
   {
    "duration": 12,
    "start_time": "2022-12-20T15:57:17.813Z"
   },
   {
    "duration": 7,
    "start_time": "2022-12-20T15:57:17.827Z"
   },
   {
    "duration": 43,
    "start_time": "2022-12-20T15:57:17.835Z"
   },
   {
    "duration": 5,
    "start_time": "2022-12-20T15:57:17.880Z"
   },
   {
    "duration": 18,
    "start_time": "2022-12-20T15:57:17.887Z"
   },
   {
    "duration": 171,
    "start_time": "2022-12-20T15:57:17.907Z"
   },
   {
    "duration": 5,
    "start_time": "2022-12-20T15:57:18.080Z"
   },
   {
    "duration": 500,
    "start_time": "2022-12-20T15:57:18.087Z"
   },
   {
    "duration": 5,
    "start_time": "2022-12-20T15:57:18.588Z"
   },
   {
    "duration": 3566,
    "start_time": "2022-12-20T15:57:18.595Z"
   },
   {
    "duration": 29,
    "start_time": "2022-12-20T15:57:22.163Z"
   },
   {
    "duration": 611,
    "start_time": "2022-12-20T15:57:22.194Z"
   },
   {
    "duration": 2812,
    "start_time": "2022-12-20T15:57:22.807Z"
   },
   {
    "duration": 4,
    "start_time": "2022-12-20T15:57:25.621Z"
   },
   {
    "duration": 17,
    "start_time": "2022-12-20T15:57:25.626Z"
   },
   {
    "duration": 36,
    "start_time": "2022-12-20T15:57:25.645Z"
   },
   {
    "duration": 718,
    "start_time": "2022-12-20T15:57:25.683Z"
   },
   {
    "duration": 3900,
    "start_time": "2022-12-20T15:57:26.403Z"
   },
   {
    "duration": 5,
    "start_time": "2022-12-20T15:57:30.306Z"
   },
   {
    "duration": 27,
    "start_time": "2022-12-20T15:57:30.312Z"
   },
   {
    "duration": 41,
    "start_time": "2022-12-20T15:57:30.341Z"
   },
   {
    "duration": 409,
    "start_time": "2022-12-20T15:57:30.383Z"
   },
   {
    "duration": 1814,
    "start_time": "2022-12-20T15:57:30.794Z"
   },
   {
    "duration": 26,
    "start_time": "2022-12-20T15:57:32.622Z"
   },
   {
    "duration": 1111,
    "start_time": "2022-12-20T19:11:07.645Z"
   },
   {
    "duration": 79,
    "start_time": "2022-12-20T19:11:08.758Z"
   },
   {
    "duration": 24,
    "start_time": "2022-12-20T19:11:08.839Z"
   },
   {
    "duration": 13,
    "start_time": "2022-12-20T19:11:08.865Z"
   },
   {
    "duration": 12,
    "start_time": "2022-12-20T19:11:08.880Z"
   },
   {
    "duration": 9,
    "start_time": "2022-12-20T19:11:08.894Z"
   },
   {
    "duration": 8,
    "start_time": "2022-12-20T19:11:08.905Z"
   },
   {
    "duration": 21,
    "start_time": "2022-12-20T19:11:08.915Z"
   },
   {
    "duration": 6,
    "start_time": "2022-12-20T19:11:08.937Z"
   },
   {
    "duration": 10,
    "start_time": "2022-12-20T19:11:08.945Z"
   },
   {
    "duration": 8,
    "start_time": "2022-12-20T19:11:08.957Z"
   },
   {
    "duration": 16,
    "start_time": "2022-12-20T19:11:08.966Z"
   },
   {
    "duration": 7,
    "start_time": "2022-12-20T19:11:08.983Z"
   },
   {
    "duration": 16,
    "start_time": "2022-12-20T19:11:08.992Z"
   },
   {
    "duration": 40,
    "start_time": "2022-12-20T19:11:09.009Z"
   },
   {
    "duration": 7,
    "start_time": "2022-12-20T19:11:09.137Z"
   },
   {
    "duration": 454,
    "start_time": "2022-12-20T19:11:09.236Z"
   },
   {
    "duration": 5,
    "start_time": "2022-12-20T19:11:09.692Z"
   },
   {
    "duration": 3515,
    "start_time": "2022-12-20T19:11:09.698Z"
   },
   {
    "duration": 27,
    "start_time": "2022-12-20T19:11:13.215Z"
   },
   {
    "duration": 533,
    "start_time": "2022-12-20T19:11:13.335Z"
   },
   {
    "duration": 2794,
    "start_time": "2022-12-20T19:11:13.870Z"
   },
   {
    "duration": 4,
    "start_time": "2022-12-20T19:11:16.666Z"
   },
   {
    "duration": 27,
    "start_time": "2022-12-20T19:11:16.672Z"
   },
   {
    "duration": 44,
    "start_time": "2022-12-20T19:11:16.701Z"
   },
   {
    "duration": 707,
    "start_time": "2022-12-20T19:11:16.752Z"
   },
   {
    "duration": 3802,
    "start_time": "2022-12-20T19:11:17.461Z"
   },
   {
    "duration": 4,
    "start_time": "2022-12-20T19:11:21.266Z"
   },
   {
    "duration": 19,
    "start_time": "2022-12-20T19:11:21.271Z"
   },
   {
    "duration": 50,
    "start_time": "2022-12-20T19:11:21.291Z"
   },
   {
    "duration": 303,
    "start_time": "2022-12-20T19:11:21.345Z"
   },
   {
    "duration": 1814,
    "start_time": "2022-12-20T19:11:21.649Z"
   },
   {
    "duration": 8,
    "start_time": "2022-12-20T19:11:23.464Z"
   },
   {
    "duration": 9,
    "start_time": "2022-12-20T19:11:23.473Z"
   },
   {
    "duration": 173,
    "start_time": "2022-12-20T19:16:38.342Z"
   },
   {
    "duration": 161,
    "start_time": "2022-12-20T19:16:54.291Z"
   },
   {
    "duration": 170,
    "start_time": "2022-12-20T19:16:58.784Z"
   },
   {
    "duration": 153,
    "start_time": "2022-12-20T19:17:14.966Z"
   },
   {
    "duration": 165,
    "start_time": "2022-12-20T19:17:19.407Z"
   },
   {
    "duration": 167,
    "start_time": "2022-12-20T19:17:20.455Z"
   },
   {
    "duration": 162,
    "start_time": "2022-12-20T19:17:21.146Z"
   },
   {
    "duration": 152,
    "start_time": "2022-12-20T19:17:24.749Z"
   },
   {
    "duration": 146,
    "start_time": "2022-12-20T19:17:29.486Z"
   },
   {
    "duration": 22,
    "start_time": "2022-12-20T19:18:56.762Z"
   },
   {
    "duration": 18,
    "start_time": "2022-12-20T19:19:02.120Z"
   },
   {
    "duration": 159,
    "start_time": "2022-12-20T19:19:18.109Z"
   },
   {
    "duration": 1073,
    "start_time": "2022-12-20T19:19:32.386Z"
   },
   {
    "duration": 41,
    "start_time": "2022-12-20T19:19:33.461Z"
   },
   {
    "duration": 23,
    "start_time": "2022-12-20T19:19:33.506Z"
   },
   {
    "duration": 30,
    "start_time": "2022-12-20T19:19:33.530Z"
   },
   {
    "duration": 22,
    "start_time": "2022-12-20T19:19:33.562Z"
   },
   {
    "duration": 13,
    "start_time": "2022-12-20T19:19:33.586Z"
   },
   {
    "duration": 24,
    "start_time": "2022-12-20T19:19:33.601Z"
   },
   {
    "duration": 24,
    "start_time": "2022-12-20T19:19:33.627Z"
   },
   {
    "duration": 16,
    "start_time": "2022-12-20T19:19:33.654Z"
   },
   {
    "duration": 22,
    "start_time": "2022-12-20T19:19:33.671Z"
   },
   {
    "duration": 29,
    "start_time": "2022-12-20T19:19:33.695Z"
   },
   {
    "duration": 18,
    "start_time": "2022-12-20T19:19:33.726Z"
   },
   {
    "duration": 20,
    "start_time": "2022-12-20T19:19:33.746Z"
   },
   {
    "duration": 17,
    "start_time": "2022-12-20T19:19:33.768Z"
   },
   {
    "duration": 51,
    "start_time": "2022-12-20T19:19:33.787Z"
   },
   {
    "duration": 99,
    "start_time": "2022-12-20T19:19:33.839Z"
   },
   {
    "duration": 448,
    "start_time": "2022-12-20T19:19:33.940Z"
   },
   {
    "duration": 5,
    "start_time": "2022-12-20T19:19:34.390Z"
   },
   {
    "duration": 3373,
    "start_time": "2022-12-20T19:19:34.396Z"
   },
   {
    "duration": 17,
    "start_time": "2022-12-20T19:19:37.770Z"
   },
   {
    "duration": 507,
    "start_time": "2022-12-20T19:19:37.836Z"
   },
   {
    "duration": 2701,
    "start_time": "2022-12-20T19:19:38.345Z"
   },
   {
    "duration": 4,
    "start_time": "2022-12-20T19:19:41.048Z"
   },
   {
    "duration": 25,
    "start_time": "2022-12-20T19:19:41.053Z"
   },
   {
    "duration": 59,
    "start_time": "2022-12-20T19:19:41.080Z"
   },
   {
    "duration": 639,
    "start_time": "2022-12-20T19:19:41.141Z"
   },
   {
    "duration": 3876,
    "start_time": "2022-12-20T19:19:41.783Z"
   },
   {
    "duration": 4,
    "start_time": "2022-12-20T19:19:45.661Z"
   },
   {
    "duration": 32,
    "start_time": "2022-12-20T19:19:45.667Z"
   },
   {
    "duration": 35,
    "start_time": "2022-12-20T19:19:45.701Z"
   },
   {
    "duration": 383,
    "start_time": "2022-12-20T19:19:45.740Z"
   },
   {
    "duration": 1767,
    "start_time": "2022-12-20T19:19:46.125Z"
   },
   {
    "duration": 8,
    "start_time": "2022-12-20T19:19:47.894Z"
   },
   {
    "duration": 181,
    "start_time": "2022-12-20T19:19:47.904Z"
   },
   {
    "duration": 161,
    "start_time": "2022-12-20T19:19:57.696Z"
   },
   {
    "duration": 161,
    "start_time": "2022-12-20T19:20:20.159Z"
   },
   {
    "duration": 161,
    "start_time": "2022-12-20T19:20:24.361Z"
   },
   {
    "duration": 170,
    "start_time": "2022-12-20T19:20:32.928Z"
   },
   {
    "duration": 170,
    "start_time": "2022-12-20T19:20:38.860Z"
   },
   {
    "duration": 183,
    "start_time": "2022-12-20T19:20:49.232Z"
   },
   {
    "duration": 178,
    "start_time": "2022-12-20T19:20:53.133Z"
   },
   {
    "duration": 169,
    "start_time": "2022-12-20T19:20:57.442Z"
   },
   {
    "duration": 25,
    "start_time": "2022-12-20T19:26:34.917Z"
   },
   {
    "duration": 1108,
    "start_time": "2022-12-20T19:28:54.850Z"
   },
   {
    "duration": 43,
    "start_time": "2022-12-20T19:28:55.961Z"
   },
   {
    "duration": 33,
    "start_time": "2022-12-20T19:28:56.006Z"
   },
   {
    "duration": 27,
    "start_time": "2022-12-20T19:28:56.041Z"
   },
   {
    "duration": 5,
    "start_time": "2022-12-20T19:28:56.070Z"
   },
   {
    "duration": 18,
    "start_time": "2022-12-20T19:28:56.076Z"
   },
   {
    "duration": 13,
    "start_time": "2022-12-20T19:28:56.096Z"
   },
   {
    "duration": 16,
    "start_time": "2022-12-20T19:28:56.111Z"
   },
   {
    "duration": 10,
    "start_time": "2022-12-20T19:28:56.129Z"
   },
   {
    "duration": 19,
    "start_time": "2022-12-20T19:28:56.141Z"
   },
   {
    "duration": 10,
    "start_time": "2022-12-20T19:28:56.162Z"
   },
   {
    "duration": 18,
    "start_time": "2022-12-20T19:28:56.174Z"
   },
   {
    "duration": 22,
    "start_time": "2022-12-20T19:28:56.194Z"
   },
   {
    "duration": 36,
    "start_time": "2022-12-20T19:28:56.217Z"
   },
   {
    "duration": 86,
    "start_time": "2022-12-20T19:28:56.254Z"
   },
   {
    "duration": 94,
    "start_time": "2022-12-20T19:28:56.342Z"
   },
   {
    "duration": 490,
    "start_time": "2022-12-20T19:28:56.444Z"
   },
   {
    "duration": 9,
    "start_time": "2022-12-20T19:28:56.940Z"
   },
   {
    "duration": 3881,
    "start_time": "2022-12-20T19:28:56.951Z"
   },
   {
    "duration": 29,
    "start_time": "2022-12-20T19:29:00.834Z"
   },
   {
    "duration": 594,
    "start_time": "2022-12-20T19:29:00.938Z"
   },
   {
    "duration": 2941,
    "start_time": "2022-12-20T19:29:01.539Z"
   },
   {
    "duration": 4,
    "start_time": "2022-12-20T19:29:04.482Z"
   },
   {
    "duration": 24,
    "start_time": "2022-12-20T19:29:04.487Z"
   },
   {
    "duration": 49,
    "start_time": "2022-12-20T19:29:04.513Z"
   },
   {
    "duration": 734,
    "start_time": "2022-12-20T19:29:04.564Z"
   },
   {
    "duration": 4054,
    "start_time": "2022-12-20T19:29:05.300Z"
   },
   {
    "duration": 6,
    "start_time": "2022-12-20T19:29:09.359Z"
   },
   {
    "duration": 17,
    "start_time": "2022-12-20T19:29:09.366Z"
   },
   {
    "duration": 63,
    "start_time": "2022-12-20T19:29:09.384Z"
   },
   {
    "duration": 347,
    "start_time": "2022-12-20T19:29:09.452Z"
   },
   {
    "duration": 1877,
    "start_time": "2022-12-20T19:29:09.801Z"
   },
   {
    "duration": 9,
    "start_time": "2022-12-20T19:29:11.679Z"
   },
   {
    "duration": 191,
    "start_time": "2022-12-20T19:29:11.690Z"
   },
   {
    "duration": 1123,
    "start_time": "2022-12-21T14:26:10.800Z"
   },
   {
    "duration": 156,
    "start_time": "2022-12-21T14:26:11.925Z"
   },
   {
    "duration": 21,
    "start_time": "2022-12-21T14:26:12.083Z"
   },
   {
    "duration": 39,
    "start_time": "2022-12-21T14:26:12.105Z"
   },
   {
    "duration": 23,
    "start_time": "2022-12-21T14:26:12.145Z"
   },
   {
    "duration": 45,
    "start_time": "2022-12-21T14:26:12.169Z"
   },
   {
    "duration": 23,
    "start_time": "2022-12-21T14:26:12.215Z"
   },
   {
    "duration": 58,
    "start_time": "2022-12-21T14:26:12.240Z"
   },
   {
    "duration": 23,
    "start_time": "2022-12-21T14:26:12.300Z"
   },
   {
    "duration": 42,
    "start_time": "2022-12-21T14:26:12.325Z"
   },
   {
    "duration": 28,
    "start_time": "2022-12-21T14:26:12.369Z"
   },
   {
    "duration": 41,
    "start_time": "2022-12-21T14:26:12.399Z"
   },
   {
    "duration": 22,
    "start_time": "2022-12-21T14:26:12.441Z"
   },
   {
    "duration": 25,
    "start_time": "2022-12-21T14:26:12.465Z"
   },
   {
    "duration": 308,
    "start_time": "2022-12-21T14:26:12.491Z"
   },
   {
    "duration": 0,
    "start_time": "2022-12-21T14:26:12.801Z"
   },
   {
    "duration": 0,
    "start_time": "2022-12-21T14:26:12.802Z"
   },
   {
    "duration": 0,
    "start_time": "2022-12-21T14:26:12.803Z"
   },
   {
    "duration": 0,
    "start_time": "2022-12-21T14:26:12.805Z"
   },
   {
    "duration": 0,
    "start_time": "2022-12-21T14:26:12.813Z"
   },
   {
    "duration": 0,
    "start_time": "2022-12-21T14:26:12.814Z"
   },
   {
    "duration": 0,
    "start_time": "2022-12-21T14:26:12.815Z"
   },
   {
    "duration": 0,
    "start_time": "2022-12-21T14:26:12.816Z"
   },
   {
    "duration": 0,
    "start_time": "2022-12-21T14:26:12.817Z"
   },
   {
    "duration": 0,
    "start_time": "2022-12-21T14:26:12.818Z"
   },
   {
    "duration": 0,
    "start_time": "2022-12-21T14:26:12.819Z"
   },
   {
    "duration": 0,
    "start_time": "2022-12-21T14:26:12.820Z"
   },
   {
    "duration": 0,
    "start_time": "2022-12-21T14:26:12.821Z"
   },
   {
    "duration": 0,
    "start_time": "2022-12-21T14:26:12.821Z"
   },
   {
    "duration": 0,
    "start_time": "2022-12-21T14:26:12.822Z"
   },
   {
    "duration": 0,
    "start_time": "2022-12-21T14:26:12.823Z"
   },
   {
    "duration": 0,
    "start_time": "2022-12-21T14:26:12.824Z"
   },
   {
    "duration": 0,
    "start_time": "2022-12-21T14:26:12.825Z"
   },
   {
    "duration": 0,
    "start_time": "2022-12-21T14:26:12.826Z"
   },
   {
    "duration": 10,
    "start_time": "2022-12-21T14:30:35.950Z"
   },
   {
    "duration": 92,
    "start_time": "2022-12-21T14:31:04.623Z"
   },
   {
    "duration": 1113,
    "start_time": "2022-12-21T14:31:27.994Z"
   },
   {
    "duration": 43,
    "start_time": "2022-12-21T14:31:29.109Z"
   },
   {
    "duration": 22,
    "start_time": "2022-12-21T14:31:29.154Z"
   },
   {
    "duration": 14,
    "start_time": "2022-12-21T14:31:29.177Z"
   },
   {
    "duration": 4,
    "start_time": "2022-12-21T14:31:29.192Z"
   },
   {
    "duration": 5,
    "start_time": "2022-12-21T14:31:29.197Z"
   },
   {
    "duration": 6,
    "start_time": "2022-12-21T14:31:29.204Z"
   },
   {
    "duration": 12,
    "start_time": "2022-12-21T14:31:29.212Z"
   },
   {
    "duration": 6,
    "start_time": "2022-12-21T14:31:29.225Z"
   },
   {
    "duration": 7,
    "start_time": "2022-12-21T14:31:29.234Z"
   },
   {
    "duration": 7,
    "start_time": "2022-12-21T14:31:29.243Z"
   },
   {
    "duration": 8,
    "start_time": "2022-12-21T14:31:29.251Z"
   },
   {
    "duration": 3,
    "start_time": "2022-12-21T14:31:29.261Z"
   },
   {
    "duration": 6,
    "start_time": "2022-12-21T14:31:29.266Z"
   },
   {
    "duration": 53,
    "start_time": "2022-12-21T14:31:29.274Z"
   },
   {
    "duration": 96,
    "start_time": "2022-12-21T14:31:29.328Z"
   },
   {
    "duration": 389,
    "start_time": "2022-12-21T14:31:29.512Z"
   },
   {
    "duration": 5,
    "start_time": "2022-12-21T14:31:29.903Z"
   },
   {
    "duration": 3196,
    "start_time": "2022-12-21T14:31:29.909Z"
   },
   {
    "duration": 19,
    "start_time": "2022-12-21T14:31:33.107Z"
   },
   {
    "duration": 561,
    "start_time": "2022-12-21T14:31:33.128Z"
   },
   {
    "duration": 2536,
    "start_time": "2022-12-21T14:31:33.690Z"
   },
   {
    "duration": 3,
    "start_time": "2022-12-21T14:31:36.228Z"
   },
   {
    "duration": 22,
    "start_time": "2022-12-21T14:31:36.233Z"
   },
   {
    "duration": 66,
    "start_time": "2022-12-21T14:31:36.256Z"
   },
   {
    "duration": 593,
    "start_time": "2022-12-21T14:31:36.324Z"
   },
   {
    "duration": 3345,
    "start_time": "2022-12-21T14:31:36.918Z"
   },
   {
    "duration": 5,
    "start_time": "2022-12-21T14:31:40.265Z"
   },
   {
    "duration": 16,
    "start_time": "2022-12-21T14:31:40.272Z"
   },
   {
    "duration": 31,
    "start_time": "2022-12-21T14:31:40.290Z"
   },
   {
    "duration": 297,
    "start_time": "2022-12-21T14:31:40.412Z"
   },
   {
    "duration": 1569,
    "start_time": "2022-12-21T14:31:40.711Z"
   },
   {
    "duration": 9,
    "start_time": "2022-12-21T14:31:42.281Z"
   },
   {
    "duration": 162,
    "start_time": "2022-12-21T14:31:42.291Z"
   },
   {
    "duration": 1049,
    "start_time": "2022-12-21T14:36:20.738Z"
   },
   {
    "duration": 41,
    "start_time": "2022-12-21T14:36:21.789Z"
   },
   {
    "duration": 22,
    "start_time": "2022-12-21T14:36:21.832Z"
   },
   {
    "duration": 13,
    "start_time": "2022-12-21T14:36:21.856Z"
   },
   {
    "duration": 4,
    "start_time": "2022-12-21T14:36:21.870Z"
   },
   {
    "duration": 5,
    "start_time": "2022-12-21T14:36:21.876Z"
   },
   {
    "duration": 8,
    "start_time": "2022-12-21T14:36:21.882Z"
   },
   {
    "duration": 11,
    "start_time": "2022-12-21T14:36:21.912Z"
   },
   {
    "duration": 8,
    "start_time": "2022-12-21T14:36:21.925Z"
   },
   {
    "duration": 8,
    "start_time": "2022-12-21T14:36:21.936Z"
   },
   {
    "duration": 7,
    "start_time": "2022-12-21T14:36:21.946Z"
   },
   {
    "duration": 9,
    "start_time": "2022-12-21T14:36:21.954Z"
   },
   {
    "duration": 4,
    "start_time": "2022-12-21T14:36:21.965Z"
   },
   {
    "duration": 8,
    "start_time": "2022-12-21T14:36:21.971Z"
   },
   {
    "duration": 53,
    "start_time": "2022-12-21T14:36:21.980Z"
   },
   {
    "duration": 80,
    "start_time": "2022-12-21T14:36:22.034Z"
   },
   {
    "duration": 477,
    "start_time": "2022-12-21T14:36:22.115Z"
   },
   {
    "duration": 5,
    "start_time": "2022-12-21T14:36:22.594Z"
   },
   {
    "duration": 3145,
    "start_time": "2022-12-21T14:36:22.601Z"
   },
   {
    "duration": 170,
    "start_time": "2022-12-21T14:36:25.747Z"
   },
   {
    "duration": 476,
    "start_time": "2022-12-21T14:36:25.919Z"
   },
   {
    "duration": 2495,
    "start_time": "2022-12-21T14:36:26.396Z"
   },
   {
    "duration": 4,
    "start_time": "2022-12-21T14:36:28.893Z"
   },
   {
    "duration": 16,
    "start_time": "2022-12-21T14:36:28.899Z"
   },
   {
    "duration": 100,
    "start_time": "2022-12-21T14:36:28.917Z"
   },
   {
    "duration": 563,
    "start_time": "2022-12-21T14:36:29.018Z"
   },
   {
    "duration": 3368,
    "start_time": "2022-12-21T14:36:29.583Z"
   },
   {
    "duration": 5,
    "start_time": "2022-12-21T14:36:32.954Z"
   },
   {
    "duration": 33,
    "start_time": "2022-12-21T14:36:32.961Z"
   },
   {
    "duration": 24,
    "start_time": "2022-12-21T14:36:32.996Z"
   },
   {
    "duration": 371,
    "start_time": "2022-12-21T14:36:33.022Z"
   },
   {
    "duration": 1555,
    "start_time": "2022-12-21T14:36:33.395Z"
   },
   {
    "duration": 7,
    "start_time": "2022-12-21T14:36:34.951Z"
   },
   {
    "duration": 160,
    "start_time": "2022-12-21T14:36:34.960Z"
   },
   {
    "duration": 96,
    "start_time": "2022-12-21T14:42:27.202Z"
   },
   {
    "duration": 8,
    "start_time": "2022-12-21T14:42:37.817Z"
   },
   {
    "duration": 10,
    "start_time": "2022-12-21T14:43:41.477Z"
   },
   {
    "duration": 68,
    "start_time": "2022-12-21T14:44:20.963Z"
   },
   {
    "duration": 558,
    "start_time": "2022-12-21T14:44:43.486Z"
   },
   {
    "duration": 190,
    "start_time": "2022-12-21T14:44:58.658Z"
   },
   {
    "duration": 12,
    "start_time": "2022-12-21T14:48:48.825Z"
   },
   {
    "duration": 68,
    "start_time": "2022-12-21T14:51:02.513Z"
   },
   {
    "duration": 71,
    "start_time": "2022-12-21T14:51:07.525Z"
   },
   {
    "duration": 69,
    "start_time": "2022-12-21T14:51:13.269Z"
   },
   {
    "duration": 16,
    "start_time": "2022-12-21T14:51:18.062Z"
   },
   {
    "duration": 13,
    "start_time": "2022-12-21T14:51:38.396Z"
   },
   {
    "duration": 9,
    "start_time": "2022-12-21T14:53:04.353Z"
   },
   {
    "duration": 29,
    "start_time": "2022-12-21T14:53:23.354Z"
   },
   {
    "duration": 8,
    "start_time": "2022-12-21T14:53:33.716Z"
   },
   {
    "duration": 9,
    "start_time": "2022-12-21T14:53:37.813Z"
   },
   {
    "duration": 14,
    "start_time": "2022-12-21T14:53:46.706Z"
   },
   {
    "duration": 11,
    "start_time": "2022-12-21T14:53:53.614Z"
   },
   {
    "duration": 28,
    "start_time": "2022-12-21T14:54:04.561Z"
   },
   {
    "duration": 16,
    "start_time": "2022-12-21T14:55:00.499Z"
   },
   {
    "duration": 67,
    "start_time": "2022-12-21T14:56:58.059Z"
   },
   {
    "duration": 17,
    "start_time": "2022-12-21T14:57:03.798Z"
   },
   {
    "duration": 13,
    "start_time": "2022-12-21T14:57:19.557Z"
   },
   {
    "duration": 12,
    "start_time": "2022-12-21T14:59:03.186Z"
   },
   {
    "duration": 16,
    "start_time": "2022-12-21T14:59:14.998Z"
   },
   {
    "duration": 18,
    "start_time": "2022-12-21T14:59:27.146Z"
   },
   {
    "duration": 15,
    "start_time": "2022-12-21T14:59:33.462Z"
   },
   {
    "duration": 13,
    "start_time": "2022-12-21T15:00:18.882Z"
   },
   {
    "duration": 11,
    "start_time": "2022-12-21T15:00:45.014Z"
   },
   {
    "duration": 19,
    "start_time": "2022-12-21T15:00:53.400Z"
   },
   {
    "duration": 20,
    "start_time": "2022-12-21T15:01:09.910Z"
   },
   {
    "duration": 18,
    "start_time": "2022-12-21T15:01:14.322Z"
   },
   {
    "duration": 18,
    "start_time": "2022-12-21T15:03:12.090Z"
   },
   {
    "duration": 21,
    "start_time": "2022-12-21T15:03:31.372Z"
   },
   {
    "duration": 17,
    "start_time": "2022-12-21T15:04:21.127Z"
   },
   {
    "duration": 3,
    "start_time": "2022-12-21T15:06:22.169Z"
   },
   {
    "duration": 16,
    "start_time": "2022-12-21T15:06:28.492Z"
   },
   {
    "duration": 1035,
    "start_time": "2022-12-21T15:06:34.687Z"
   },
   {
    "duration": 24,
    "start_time": "2022-12-21T15:06:39.930Z"
   },
   {
    "duration": 21,
    "start_time": "2022-12-21T15:07:33.059Z"
   },
   {
    "duration": 968,
    "start_time": "2022-12-21T15:07:57.525Z"
   },
   {
    "duration": 23,
    "start_time": "2022-12-21T15:08:08.168Z"
   },
   {
    "duration": 20,
    "start_time": "2022-12-21T15:08:37.734Z"
   },
   {
    "duration": 23,
    "start_time": "2022-12-21T15:08:50.063Z"
   },
   {
    "duration": 71,
    "start_time": "2022-12-21T15:11:59.386Z"
   },
   {
    "duration": 23,
    "start_time": "2022-12-21T15:12:15.315Z"
   },
   {
    "duration": 25,
    "start_time": "2022-12-21T15:13:25.201Z"
   },
   {
    "duration": 23,
    "start_time": "2022-12-21T15:13:48.152Z"
   },
   {
    "duration": 24,
    "start_time": "2022-12-21T15:14:15.278Z"
   },
   {
    "duration": 20,
    "start_time": "2022-12-21T15:16:52.006Z"
   },
   {
    "duration": 25,
    "start_time": "2022-12-21T15:17:00.204Z"
   },
   {
    "duration": 22,
    "start_time": "2022-12-21T15:17:43.025Z"
   },
   {
    "duration": 28,
    "start_time": "2022-12-21T15:18:04.216Z"
   },
   {
    "duration": 32,
    "start_time": "2022-12-21T15:18:12.317Z"
   },
   {
    "duration": 25,
    "start_time": "2022-12-21T15:19:02.868Z"
   },
   {
    "duration": 23,
    "start_time": "2022-12-21T15:19:13.472Z"
   },
   {
    "duration": 19,
    "start_time": "2022-12-21T15:19:27.864Z"
   },
   {
    "duration": 25,
    "start_time": "2022-12-21T15:19:33.247Z"
   },
   {
    "duration": 30,
    "start_time": "2022-12-21T15:19:38.860Z"
   },
   {
    "duration": 33,
    "start_time": "2022-12-21T15:20:51.245Z"
   },
   {
    "duration": 16,
    "start_time": "2022-12-21T15:21:05.890Z"
   },
   {
    "duration": 16,
    "start_time": "2022-12-21T15:21:43.525Z"
   },
   {
    "duration": 148,
    "start_time": "2022-12-21T15:22:29.906Z"
   },
   {
    "duration": 142,
    "start_time": "2022-12-21T15:22:36.588Z"
   },
   {
    "duration": 157,
    "start_time": "2022-12-21T15:22:50.328Z"
   },
   {
    "duration": 179,
    "start_time": "2022-12-21T15:27:03.132Z"
   },
   {
    "duration": 177,
    "start_time": "2022-12-21T15:28:12.057Z"
   },
   {
    "duration": 188,
    "start_time": "2022-12-21T15:29:44.584Z"
   },
   {
    "duration": 277,
    "start_time": "2022-12-21T15:30:16.933Z"
   },
   {
    "duration": 174,
    "start_time": "2022-12-21T15:30:40.443Z"
   },
   {
    "duration": 152,
    "start_time": "2022-12-21T15:30:49.706Z"
   },
   {
    "duration": 3,
    "start_time": "2022-12-21T15:34:15.676Z"
   },
   {
    "duration": 163,
    "start_time": "2022-12-21T15:34:33.767Z"
   },
   {
    "duration": 194,
    "start_time": "2022-12-21T15:34:40.276Z"
   },
   {
    "duration": 1324,
    "start_time": "2022-12-21T15:35:53.011Z"
   },
   {
    "duration": 47,
    "start_time": "2022-12-21T15:35:54.337Z"
   },
   {
    "duration": 19,
    "start_time": "2022-12-21T15:35:54.385Z"
   },
   {
    "duration": 13,
    "start_time": "2022-12-21T15:35:54.405Z"
   },
   {
    "duration": 15,
    "start_time": "2022-12-21T15:35:54.419Z"
   },
   {
    "duration": 6,
    "start_time": "2022-12-21T15:35:54.435Z"
   },
   {
    "duration": 6,
    "start_time": "2022-12-21T15:35:54.442Z"
   },
   {
    "duration": 12,
    "start_time": "2022-12-21T15:35:54.449Z"
   },
   {
    "duration": 12,
    "start_time": "2022-12-21T15:35:54.463Z"
   },
   {
    "duration": 7,
    "start_time": "2022-12-21T15:35:54.478Z"
   },
   {
    "duration": 6,
    "start_time": "2022-12-21T15:35:54.487Z"
   },
   {
    "duration": 18,
    "start_time": "2022-12-21T15:35:54.495Z"
   },
   {
    "duration": 6,
    "start_time": "2022-12-21T15:35:54.516Z"
   },
   {
    "duration": 15,
    "start_time": "2022-12-21T15:35:54.523Z"
   },
   {
    "duration": 84,
    "start_time": "2022-12-21T15:35:54.539Z"
   },
   {
    "duration": 91,
    "start_time": "2022-12-21T15:35:54.625Z"
   },
   {
    "duration": 415,
    "start_time": "2022-12-21T15:35:54.717Z"
   },
   {
    "duration": 5,
    "start_time": "2022-12-21T15:35:55.133Z"
   },
   {
    "duration": 3162,
    "start_time": "2022-12-21T15:35:55.140Z"
   },
   {
    "duration": 34,
    "start_time": "2022-12-21T15:35:58.304Z"
   },
   {
    "duration": 491,
    "start_time": "2022-12-21T15:35:58.414Z"
   },
   {
    "duration": 2620,
    "start_time": "2022-12-21T15:35:58.907Z"
   },
   {
    "duration": 5,
    "start_time": "2022-12-21T15:36:01.529Z"
   },
   {
    "duration": 38,
    "start_time": "2022-12-21T15:36:01.535Z"
   },
   {
    "duration": 43,
    "start_time": "2022-12-21T15:36:01.575Z"
   },
   {
    "duration": 695,
    "start_time": "2022-12-21T15:36:01.620Z"
   },
   {
    "duration": 3599,
    "start_time": "2022-12-21T15:36:02.316Z"
   },
   {
    "duration": 5,
    "start_time": "2022-12-21T15:36:05.918Z"
   },
   {
    "duration": 29,
    "start_time": "2022-12-21T15:36:05.925Z"
   },
   {
    "duration": 59,
    "start_time": "2022-12-21T15:36:05.955Z"
   },
   {
    "duration": 335,
    "start_time": "2022-12-21T15:36:06.016Z"
   },
   {
    "duration": 1611,
    "start_time": "2022-12-21T15:36:06.352Z"
   },
   {
    "duration": 9,
    "start_time": "2022-12-21T15:36:07.965Z"
   },
   {
    "duration": 237,
    "start_time": "2022-12-21T15:36:07.976Z"
   },
   {
    "duration": 308,
    "start_time": "2022-12-21T15:36:08.215Z"
   },
   {
    "duration": 173,
    "start_time": "2022-12-21T15:36:08.525Z"
   },
   {
    "duration": 1326,
    "start_time": "2022-12-21T15:38:46.882Z"
   },
   {
    "duration": 41,
    "start_time": "2022-12-21T15:38:48.210Z"
   },
   {
    "duration": 19,
    "start_time": "2022-12-21T15:38:48.252Z"
   },
   {
    "duration": 20,
    "start_time": "2022-12-21T15:38:48.273Z"
   },
   {
    "duration": 4,
    "start_time": "2022-12-21T15:38:48.294Z"
   },
   {
    "duration": 13,
    "start_time": "2022-12-21T15:38:48.300Z"
   },
   {
    "duration": 9,
    "start_time": "2022-12-21T15:38:48.315Z"
   },
   {
    "duration": 15,
    "start_time": "2022-12-21T15:38:48.326Z"
   },
   {
    "duration": 8,
    "start_time": "2022-12-21T15:38:48.343Z"
   },
   {
    "duration": 21,
    "start_time": "2022-12-21T15:38:48.353Z"
   },
   {
    "duration": 11,
    "start_time": "2022-12-21T15:38:48.376Z"
   },
   {
    "duration": 11,
    "start_time": "2022-12-21T15:38:48.389Z"
   },
   {
    "duration": 5,
    "start_time": "2022-12-21T15:38:48.402Z"
   },
   {
    "duration": 20,
    "start_time": "2022-12-21T15:38:48.408Z"
   },
   {
    "duration": 85,
    "start_time": "2022-12-21T15:38:48.429Z"
   },
   {
    "duration": 98,
    "start_time": "2022-12-21T15:38:48.517Z"
   },
   {
    "duration": 413,
    "start_time": "2022-12-21T15:38:48.617Z"
   },
   {
    "duration": 5,
    "start_time": "2022-12-21T15:38:49.031Z"
   },
   {
    "duration": 3312,
    "start_time": "2022-12-21T15:38:49.038Z"
   },
   {
    "duration": 78,
    "start_time": "2022-12-21T15:38:52.352Z"
   },
   {
    "duration": 502,
    "start_time": "2022-12-21T15:38:52.516Z"
   },
   {
    "duration": 2635,
    "start_time": "2022-12-21T15:38:53.019Z"
   },
   {
    "duration": 4,
    "start_time": "2022-12-21T15:38:55.656Z"
   },
   {
    "duration": 24,
    "start_time": "2022-12-21T15:38:55.662Z"
   },
   {
    "duration": 32,
    "start_time": "2022-12-21T15:38:55.688Z"
   },
   {
    "duration": 675,
    "start_time": "2022-12-21T15:38:55.723Z"
   },
   {
    "duration": 3564,
    "start_time": "2022-12-21T15:38:56.399Z"
   },
   {
    "duration": 4,
    "start_time": "2022-12-21T15:38:59.966Z"
   },
   {
    "duration": 16,
    "start_time": "2022-12-21T15:38:59.972Z"
   },
   {
    "duration": 34,
    "start_time": "2022-12-21T15:38:59.990Z"
   },
   {
    "duration": 401,
    "start_time": "2022-12-21T15:39:00.025Z"
   },
   {
    "duration": 1698,
    "start_time": "2022-12-21T15:39:00.428Z"
   },
   {
    "duration": 9,
    "start_time": "2022-12-21T15:39:02.129Z"
   },
   {
    "duration": 184,
    "start_time": "2022-12-21T15:39:02.139Z"
   },
   {
    "duration": 383,
    "start_time": "2022-12-21T15:39:02.325Z"
   },
   {
    "duration": 175,
    "start_time": "2022-12-21T15:39:02.710Z"
   }
  ],
  "kernelspec": {
   "display_name": "practicum",
   "language": "python",
   "name": "python3"
  },
  "language_info": {
   "codemirror_mode": {
    "name": "ipython",
    "version": 3
   },
   "file_extension": ".py",
   "mimetype": "text/x-python",
   "name": "python",
   "nbconvert_exporter": "python",
   "pygments_lexer": "ipython3",
   "version": "3.9.13"
  },
  "toc": {
   "base_numbering": 1,
   "nav_menu": {},
   "number_sections": true,
   "sideBar": true,
   "skip_h1_title": true,
   "title_cell": "Содержание",
   "title_sidebar": "Contents",
   "toc_cell": true,
   "toc_position": {
    "height": "calc(100% - 180px)",
    "left": "10px",
    "top": "150px",
    "width": "366.188px"
   },
   "toc_section_display": true,
   "toc_window_display": true
  },
  "vscode": {
   "interpreter": {
    "hash": "7d2820124913e8759b25dbe54761799c4e47197d05694b86c66236c977a46ae7"
   }
  }
 },
 "nbformat": 4,
 "nbformat_minor": 2
}
