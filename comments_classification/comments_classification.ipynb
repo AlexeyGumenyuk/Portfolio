{
  "cells": [
    {
      "attachments": {},
      "cell_type": "markdown",
      "metadata": {},
      "source": [
        "# Проект для «Викишоп»"
      ]
    },
    {
      "attachments": {},
      "cell_type": "markdown",
      "metadata": {
        "id": "BWlfCsyVzYxm"
      },
      "source": [
        "Интернет-магазин «Викишоп» запускает новый сервис. Теперь пользователи могут редактировать и дополнять описания товаров, как в вики-сообществах. То есть клиенты предлагают свои правки и комментируют изменения других. Магазину нужен инструмент, который будет искать токсичные комментарии и отправлять их на модерацию. \n",
        "\n",
        "Нужно обучить модель классифицировать комментарии на позитивные и негативные. В нашем распоряжении набор данных с разметкой о токсичности правок.\n",
        "Необходимо построить модель со значением метрики качества *F1* не меньше 0.75.\n",
        "\n",
        "Данные находятся в файле `toxic_comments.csv`. Столбец *text* в нём содержит текст комментария, а *toxic* — целевой признак."
      ]
    },
    {
      "cell_type": "markdown",
      "metadata": {},
      "source": [
        "**Описание данных**  \n",
        "Данные находятся в файле `toxic_comments.csv`. Столбец `text` в нём содержит текст комментария, а `toxic` — целевой признак."
      ]
    },
    {
      "attachments": {},
      "cell_type": "markdown",
      "metadata": {},
      "source": [
        "**Содержание**<a id='toc0_'></a>    \n",
        "- 1. [Подготовка](#toc1_)    \n",
        "- 2. [Обучение](#toc2_)    \n",
        "  - 2.1. [Логистическая регрессия](#toc2_1_)    \n",
        "  - 2.2. [Дерево решений](#toc2_2_)    \n",
        "  - 2.3. [Случайный лес](#toc2_3_)    \n",
        "  - 2.4. [Градиентный бустинг](#toc2_4_)    \n",
        "  - 2.5. [Тестирование модели](#toc2_5_)    \n",
        "- 3. [Выводы](#toc3_)    \n",
        "- 4. [Чек-лист проверки](#toc4_)    \n",
        "\n",
        "<!-- vscode-jupyter-toc-config\n",
        "\tnumbering=true\n",
        "\tanchor=true\n",
        "\tflat=false\n",
        "\tminLevel=2\n",
        "\tmaxLevel=6\n",
        "\t/vscode-jupyter-toc-config -->\n",
        "<!-- THIS CELL WILL BE REPLACED ON TOC UPDATE. DO NOT WRITE YOUR TEXT IN THIS CELL -->"
      ]
    },
    {
      "attachments": {},
      "cell_type": "markdown",
      "metadata": {},
      "source": [
        "## 1. <a id='toc1_'></a>[Подготовка](#toc0_)"
      ]
    },
    {
      "cell_type": "code",
      "execution_count": 1,
      "metadata": {
        "id": "kDO7UaFBzYxp"
      },
      "outputs": [],
      "source": [
        "import pandas as pd\n",
        "import numpy as np\n",
        "import re\n",
        "\n",
        "from sklearn.utils import shuffle\n",
        "from sklearn.model_selection import train_test_split\n",
        "from sklearn.feature_extraction.text import TfidfVectorizer\n",
        "import nltk\n",
        "from nltk.corpus import wordnet\n",
        "from nltk.stem import WordNetLemmatizer\n",
        "from imblearn.over_sampling import SMOTE\n",
        "from imblearn.pipeline import Pipeline, make_pipeline\n",
        "\n",
        "from sklearn.linear_model import LogisticRegression\n",
        "from sklearn.model_selection import GridSearchCV\n",
        "from sklearn.tree import DecisionTreeClassifier\n",
        "from sklearn.ensemble import RandomForestClassifier\n",
        "from lightgbm import LGBMClassifier\n",
        "from sklearn.metrics import f1_score\n",
        "\n",
        "from sklearn.experimental import enable_halving_search_cv\n",
        "from sklearn.model_selection import HalvingGridSearchCV"
      ]
    },
    {
      "attachments": {},
      "cell_type": "markdown",
      "metadata": {
        "id": "FZiGhYhdzYxt"
      },
      "source": [
        "Откроем и изучим файл"
      ]
    },
    {
      "cell_type": "code",
      "execution_count": null,
      "metadata": {
        "id": "sO5ikCKjzYxu"
      },
      "outputs": [],
      "source": [
        "df = pd.read_csv('/datasets/toxic_comments.csv')[['text', 'toxic']]"
      ]
    },
    {
      "cell_type": "code",
      "execution_count": 3,
      "metadata": {
        "colab": {
          "base_uri": "https://localhost:8080/",
          "height": 206
        },
        "id": "rhaJWFimzYxv",
        "outputId": "b908c6b1-a71a-4ea9-ae6c-dde1824ca019"
      },
      "outputs": [
        {
          "data": {
            "text/html": [
              "\n",
              "  <div id=\"df-1bf919f3-9d32-4e4b-91bf-31180eda88ae\">\n",
              "    <div class=\"colab-df-container\">\n",
              "      <div>\n",
              "<style scoped>\n",
              "    .dataframe tbody tr th:only-of-type {\n",
              "        vertical-align: middle;\n",
              "    }\n",
              "\n",
              "    .dataframe tbody tr th {\n",
              "        vertical-align: top;\n",
              "    }\n",
              "\n",
              "    .dataframe thead th {\n",
              "        text-align: right;\n",
              "    }\n",
              "</style>\n",
              "<table border=\"1\" class=\"dataframe\">\n",
              "  <thead>\n",
              "    <tr style=\"text-align: right;\">\n",
              "      <th></th>\n",
              "      <th>Unnamed: 0</th>\n",
              "      <th>text</th>\n",
              "      <th>toxic</th>\n",
              "    </tr>\n",
              "  </thead>\n",
              "  <tbody>\n",
              "    <tr>\n",
              "      <th>0</th>\n",
              "      <td>0</td>\n",
              "      <td>Explanation\\nWhy the edits made under my usern...</td>\n",
              "      <td>0</td>\n",
              "    </tr>\n",
              "    <tr>\n",
              "      <th>1</th>\n",
              "      <td>1</td>\n",
              "      <td>D'aww! He matches this background colour I'm s...</td>\n",
              "      <td>0</td>\n",
              "    </tr>\n",
              "    <tr>\n",
              "      <th>2</th>\n",
              "      <td>2</td>\n",
              "      <td>Hey man, I'm really not trying to edit war. It...</td>\n",
              "      <td>0</td>\n",
              "    </tr>\n",
              "    <tr>\n",
              "      <th>3</th>\n",
              "      <td>3</td>\n",
              "      <td>\"\\nMore\\nI can't make any real suggestions on ...</td>\n",
              "      <td>0</td>\n",
              "    </tr>\n",
              "    <tr>\n",
              "      <th>4</th>\n",
              "      <td>4</td>\n",
              "      <td>You, sir, are my hero. Any chance you remember...</td>\n",
              "      <td>0</td>\n",
              "    </tr>\n",
              "  </tbody>\n",
              "</table>\n",
              "</div>\n",
              "      <button class=\"colab-df-convert\" onclick=\"convertToInteractive('df-1bf919f3-9d32-4e4b-91bf-31180eda88ae')\"\n",
              "              title=\"Convert this dataframe to an interactive table.\"\n",
              "              style=\"display:none;\">\n",
              "        \n",
              "  <svg xmlns=\"http://www.w3.org/2000/svg\" height=\"24px\"viewBox=\"0 0 24 24\"\n",
              "       width=\"24px\">\n",
              "    <path d=\"M0 0h24v24H0V0z\" fill=\"none\"/>\n",
              "    <path d=\"M18.56 5.44l.94 2.06.94-2.06 2.06-.94-2.06-.94-.94-2.06-.94 2.06-2.06.94zm-11 1L8.5 8.5l.94-2.06 2.06-.94-2.06-.94L8.5 2.5l-.94 2.06-2.06.94zm10 10l.94 2.06.94-2.06 2.06-.94-2.06-.94-.94-2.06-.94 2.06-2.06.94z\"/><path d=\"M17.41 7.96l-1.37-1.37c-.4-.4-.92-.59-1.43-.59-.52 0-1.04.2-1.43.59L10.3 9.45l-7.72 7.72c-.78.78-.78 2.05 0 2.83L4 21.41c.39.39.9.59 1.41.59.51 0 1.02-.2 1.41-.59l7.78-7.78 2.81-2.81c.8-.78.8-2.07 0-2.86zM5.41 20L4 18.59l7.72-7.72 1.47 1.35L5.41 20z\"/>\n",
              "  </svg>\n",
              "      </button>\n",
              "      \n",
              "  <style>\n",
              "    .colab-df-container {\n",
              "      display:flex;\n",
              "      flex-wrap:wrap;\n",
              "      gap: 12px;\n",
              "    }\n",
              "\n",
              "    .colab-df-convert {\n",
              "      background-color: #E8F0FE;\n",
              "      border: none;\n",
              "      border-radius: 50%;\n",
              "      cursor: pointer;\n",
              "      display: none;\n",
              "      fill: #1967D2;\n",
              "      height: 32px;\n",
              "      padding: 0 0 0 0;\n",
              "      width: 32px;\n",
              "    }\n",
              "\n",
              "    .colab-df-convert:hover {\n",
              "      background-color: #E2EBFA;\n",
              "      box-shadow: 0px 1px 2px rgba(60, 64, 67, 0.3), 0px 1px 3px 1px rgba(60, 64, 67, 0.15);\n",
              "      fill: #174EA6;\n",
              "    }\n",
              "\n",
              "    [theme=dark] .colab-df-convert {\n",
              "      background-color: #3B4455;\n",
              "      fill: #D2E3FC;\n",
              "    }\n",
              "\n",
              "    [theme=dark] .colab-df-convert:hover {\n",
              "      background-color: #434B5C;\n",
              "      box-shadow: 0px 1px 3px 1px rgba(0, 0, 0, 0.15);\n",
              "      filter: drop-shadow(0px 1px 2px rgba(0, 0, 0, 0.3));\n",
              "      fill: #FFFFFF;\n",
              "    }\n",
              "  </style>\n",
              "\n",
              "      <script>\n",
              "        const buttonEl =\n",
              "          document.querySelector('#df-1bf919f3-9d32-4e4b-91bf-31180eda88ae button.colab-df-convert');\n",
              "        buttonEl.style.display =\n",
              "          google.colab.kernel.accessAllowed ? 'block' : 'none';\n",
              "\n",
              "        async function convertToInteractive(key) {\n",
              "          const element = document.querySelector('#df-1bf919f3-9d32-4e4b-91bf-31180eda88ae');\n",
              "          const dataTable =\n",
              "            await google.colab.kernel.invokeFunction('convertToInteractive',\n",
              "                                                     [key], {});\n",
              "          if (!dataTable) return;\n",
              "\n",
              "          const docLinkHtml = 'Like what you see? Visit the ' +\n",
              "            '<a target=\"_blank\" href=https://colab.research.google.com/notebooks/data_table.ipynb>data table notebook</a>'\n",
              "            + ' to learn more about interactive tables.';\n",
              "          element.innerHTML = '';\n",
              "          dataTable['output_type'] = 'display_data';\n",
              "          await google.colab.output.renderOutput(dataTable, element);\n",
              "          const docLink = document.createElement('div');\n",
              "          docLink.innerHTML = docLinkHtml;\n",
              "          element.appendChild(docLink);\n",
              "        }\n",
              "      </script>\n",
              "    </div>\n",
              "  </div>\n",
              "  "
            ],
            "text/plain": [
              "   Unnamed: 0                                               text  toxic\n",
              "0           0  Explanation\\nWhy the edits made under my usern...      0\n",
              "1           1  D'aww! He matches this background colour I'm s...      0\n",
              "2           2  Hey man, I'm really not trying to edit war. It...      0\n",
              "3           3  \"\\nMore\\nI can't make any real suggestions on ...      0\n",
              "4           4  You, sir, are my hero. Any chance you remember...      0"
            ]
          },
          "execution_count": 3,
          "metadata": {},
          "output_type": "execute_result"
        }
      ],
      "source": [
        "df.head()"
      ]
    },
    {
      "cell_type": "code",
      "execution_count": 4,
      "metadata": {
        "colab": {
          "base_uri": "https://localhost:8080/"
        },
        "id": "izTyfThkzYxy",
        "outputId": "d9ea8e85-439f-4189-e53b-134f2757bfe5",
        "scrolled": true
      },
      "outputs": [
        {
          "name": "stdout",
          "output_type": "stream",
          "text": [
            "<class 'pandas.core.frame.DataFrame'>\n",
            "RangeIndex: 159292 entries, 0 to 159291\n",
            "Data columns (total 3 columns):\n",
            " #   Column      Non-Null Count   Dtype \n",
            "---  ------      --------------   ----- \n",
            " 0   Unnamed: 0  159292 non-null  int64 \n",
            " 1   text        159292 non-null  object\n",
            " 2   toxic       159292 non-null  int64 \n",
            "dtypes: int64(2), object(1)\n",
            "memory usage: 3.6+ MB\n"
          ]
        }
      ],
      "source": [
        "df.info()"
      ]
    },
    {
      "attachments": {},
      "cell_type": "markdown",
      "metadata": {
        "id": "dKmhQCvdzYx0"
      },
      "source": [
        "Для обучения модели из датасета выберем 50_000 строк"
      ]
    },
    {
      "cell_type": "code",
      "execution_count": 5,
      "metadata": {
        "id": "TKePJJmRzYx1"
      },
      "outputs": [],
      "source": [
        "df = df.sample(50_000).reset_index(drop=True)"
      ]
    },
    {
      "attachments": {},
      "cell_type": "markdown",
      "metadata": {
        "id": "NJSgeONwzYx2"
      },
      "source": [
        "Отделим целевой признак"
      ]
    },
    {
      "cell_type": "code",
      "execution_count": 6,
      "metadata": {
        "id": "6eljc6kmzYx2"
      },
      "outputs": [],
      "source": [
        "features = df.loc[:, 'text']\n",
        "target = df.loc[:, 'toxic']"
      ]
    },
    {
      "attachments": {},
      "cell_type": "markdown",
      "metadata": {
        "id": "AO36umf5zYx3"
      },
      "source": [
        "Теперь проведём лемматизацию и очистку текста от лишних символов"
      ]
    },
    {
      "cell_type": "code",
      "execution_count": 7,
      "metadata": {
        "colab": {
          "base_uri": "https://localhost:8080/"
        },
        "id": "3Dh_sokXzYx4",
        "outputId": "da136056-7c05-443e-e89f-8ea2eece50e4",
        "scrolled": true
      },
      "outputs": [
        {
          "name": "stderr",
          "output_type": "stream",
          "text": [
            "[nltk_data] Downloading package wordnet to /root/nltk_data...\n",
            "[nltk_data]   Package wordnet is already up-to-date!\n",
            "[nltk_data] Downloading package averaged_perceptron_tagger to\n",
            "[nltk_data]     /root/nltk_data...\n",
            "[nltk_data]   Package averaged_perceptron_tagger is already up-to-\n",
            "[nltk_data]       date!\n",
            "[nltk_data] Downloading package punkt to /root/nltk_data...\n",
            "[nltk_data]   Package punkt is already up-to-date!\n"
          ]
        },
        {
          "data": {
            "text/plain": [
              "True"
            ]
          },
          "execution_count": 7,
          "metadata": {},
          "output_type": "execute_result"
        }
      ],
      "source": [
        "nltk.download('wordnet')\n",
        "nltk.download('averaged_perceptron_tagger')\n",
        "nltk.download('punkt')"
      ]
    },
    {
      "cell_type": "code",
      "execution_count": 8,
      "metadata": {
        "id": "MHAoTLN3zYx5"
      },
      "outputs": [],
      "source": [
        "def get_wordnet_pos(word):\n",
        "    \"\"\"Map POS tag to first character lemmatize() accepts\"\"\"\n",
        "    tag = nltk.pos_tag([word])[0][1][0].upper()\n",
        "    tag_dict = {\"J\": wordnet.ADJ,\n",
        "                \"N\": wordnet.NOUN,\n",
        "                \"V\": wordnet.VERB,\n",
        "                \"R\": wordnet.ADV}\n",
        "    return tag_dict.get(tag, wordnet.NOUN)\n",
        "\n",
        "lemmatizer = WordNetLemmatizer()\n",
        "\n",
        "def lemmatize_sentence(X):\n",
        "    return \" \".join([lemmatizer.lemmatize(w, get_wordnet_pos(w)) for w in nltk.word_tokenize(X)])\n",
        "\n",
        "def prepare_corpus(X):\n",
        "    c = X.apply(lemmatize_sentence)\\\n",
        "         .apply(lambda k: \" \".join(re.sub('\\n|[^A-Za-z]', ' ', k).split()))\n",
        "    return c"
      ]
    },
    {
      "cell_type": "code",
      "execution_count": 9,
      "metadata": {
        "colab": {
          "base_uri": "https://localhost:8080/"
        },
        "id": "VY_3CsHazYx5",
        "outputId": "d89f4778-51f0-4294-ff43-72c51a921377",
        "scrolled": false
      },
      "outputs": [
        {
          "name": "stdout",
          "output_type": "stream",
          "text": [
            "CPU times: user 8min 1s, sys: 31.8 s, total: 8min 32s\n",
            "Wall time: 8min 38s\n"
          ]
        }
      ],
      "source": [
        "%%time\n",
        "corpus = prepare_corpus(features)"
      ]
    },
    {
      "attachments": {},
      "cell_type": "markdown",
      "metadata": {
        "id": "OCFNfnG0zYx6"
      },
      "source": [
        "Разделим данные на обучающую и тестовую выборки"
      ]
    },
    {
      "cell_type": "code",
      "execution_count": 10,
      "metadata": {
        "id": "YvDYRmoNzYx7"
      },
      "outputs": [],
      "source": [
        "features_train, features_test, target_train, target_test = train_test_split(corpus, target,\n",
        "                                                                            test_size=0.2, random_state=325)"
      ]
    },
    {
      "attachments": {},
      "cell_type": "markdown",
      "metadata": {
        "id": "AS4-2U9MzYx8"
      },
      "source": [
        "Изучим соотношение количества элементов в разных классах"
      ]
    },
    {
      "cell_type": "code",
      "execution_count": 11,
      "metadata": {
        "colab": {
          "base_uri": "https://localhost:8080/"
        },
        "id": "nibWlHv6zYx8",
        "outputId": "9c7e97eb-6d49-4941-940d-02fbc3f3ce51"
      },
      "outputs": [
        {
          "data": {
            "text/plain": [
              "0    35986\n",
              "1     4014\n",
              "Name: toxic, dtype: int64"
            ]
          },
          "execution_count": 11,
          "metadata": {},
          "output_type": "execute_result"
        }
      ],
      "source": [
        "target_train.value_counts()"
      ]
    },
    {
      "attachments": {},
      "cell_type": "markdown",
      "metadata": {
        "id": "dc3t8lvOzYx9"
      },
      "source": [
        "Позитивных комментариев почти в 9 раз больше, чем негативных.\n",
        "\n",
        "Для борьбы с дисбалансом классов воспользуемся техникой SMOTE.\n",
        "\n",
        "Далее проведём векторизацию текста"
      ]
    },
    {
      "cell_type": "code",
      "execution_count": 12,
      "metadata": {
        "colab": {
          "base_uri": "https://localhost:8080/"
        },
        "id": "JWYeGkd5zYx-",
        "outputId": "ced17109-6353-44eb-8b7d-b2c111f6799d"
      },
      "outputs": [
        {
          "name": "stderr",
          "output_type": "stream",
          "text": [
            "[nltk_data] Downloading package stopwords to /root/nltk_data...\n",
            "[nltk_data]   Unzipping corpora/stopwords.zip.\n"
          ]
        }
      ],
      "source": [
        "nltk.download('stopwords')\n",
        "stopwords = nltk.corpus.stopwords.words('english')"
      ]
    },
    {
      "attachments": {},
      "cell_type": "markdown",
      "metadata": {
        "id": "E9tm8KV_zYx-"
      },
      "source": [
        "**Вывод по разделу 1:**\n",
        "- Данные загружены, получены обучающая и тестовая выборки\n",
        "- Для борьбы с дисбалансом классов применена техника SMOTE\n",
        "- Корпус текстов очищен от лишних символов, проведена лемматизация"
      ]
    },
    {
      "attachments": {},
      "cell_type": "markdown",
      "metadata": {},
      "source": [
        "## 2. <a id='toc2_'></a>[Обучение](#toc0_)"
      ]
    },
    {
      "attachments": {},
      "cell_type": "markdown",
      "metadata": {},
      "source": [
        "### 2.1. <a id='toc2_1_'></a>[Логистическая регрессия](#toc0_)"
      ]
    },
    {
      "attachments": {},
      "cell_type": "markdown",
      "metadata": {
        "id": "wfZYS7gDzYyA"
      },
      "source": [
        "Обучим несколько моделей, начнём с логистической регрессии"
      ]
    },
    {
      "cell_type": "code",
      "execution_count": null,
      "metadata": {
        "id": "LYQdK99lzYyA"
      },
      "outputs": [],
      "source": [
        "params = {\n",
        "    'model__penalty': ['l2', 'l1'],\n",
        "    'model__C': np.logspace(-1, 2, 4),\n",
        "    'model__max_iter': [50, 100]\n",
        "}\n",
        "\n",
        "linear_pipeline = Pipeline(steps=[('tfidf', TfidfVectorizer(stop_words=stopwords)),\n",
        "                                  ('smote', SMOTE(random_state=521)),\n",
        "                                  ('model', LogisticRegression(solver='liblinear', random_state=342))])\n",
        "\n",
        "linear_grid = GridSearchCV(linear_pipeline, params,\n",
        "                          scoring='f1', cv=3, verbose=3, n_jobs=-1)"
      ]
    },
    {
      "cell_type": "code",
      "execution_count": null,
      "metadata": {
        "collapsed": true,
        "id": "E1NfySAyzYyB",
        "outputId": "f1526f6c-6f83-4341-ef72-7a5cd79f2c2a"
      },
      "outputs": [
        {
          "name": "stdout",
          "output_type": "stream",
          "text": [
            "Fitting 3 folds for each of 16 candidates, totalling 48 fits\n",
            "[CV 1/3] END model__C=0.1, model__max_iter=50, model__penalty=l2;, score=0.642 total time=  10.8s\n",
            "[CV 2/3] END model__C=0.1, model__max_iter=50, model__penalty=l2;, score=0.710 total time=  10.3s\n",
            "[CV 3/3] END model__C=0.1, model__max_iter=50, model__penalty=l2;, score=0.649 total time=  10.8s\n",
            "[CV 1/3] END model__C=0.1, model__max_iter=50, model__penalty=l1;, score=0.701 total time=   7.6s\n",
            "[CV 2/3] END model__C=0.1, model__max_iter=50, model__penalty=l1;, score=0.712 total time=   7.4s\n",
            "[CV 3/3] END model__C=0.1, model__max_iter=50, model__penalty=l1;, score=0.682 total time=   7.6s\n",
            "[CV 1/3] END model__C=0.1, model__max_iter=100, model__penalty=l2;, score=0.642 total time=  10.0s\n",
            "[CV 2/3] END model__C=0.1, model__max_iter=100, model__penalty=l2;, score=0.710 total time=   9.7s\n",
            "[CV 3/3] END model__C=0.1, model__max_iter=100, model__penalty=l2;, score=0.649 total time=   9.9s\n",
            "[CV 1/3] END model__C=0.1, model__max_iter=100, model__penalty=l1;, score=0.701 total time=   6.8s\n",
            "[CV 2/3] END model__C=0.1, model__max_iter=100, model__penalty=l1;, score=0.712 total time=   6.9s\n",
            "[CV 3/3] END model__C=0.1, model__max_iter=100, model__penalty=l1;, score=0.682 total time=   7.4s\n",
            "[CV 1/3] END model__C=1.0, model__max_iter=50, model__penalty=l2;, score=0.683 total time=  14.0s\n",
            "[CV 2/3] END model__C=1.0, model__max_iter=50, model__penalty=l2;, score=0.733 total time=  13.8s\n",
            "[CV 3/3] END model__C=1.0, model__max_iter=50, model__penalty=l2;, score=0.687 total time=  13.5s\n",
            "[CV 1/3] END model__C=1.0, model__max_iter=50, model__penalty=l1;, score=0.699 total time=   6.6s\n",
            "[CV 2/3] END model__C=1.0, model__max_iter=50, model__penalty=l1;, score=0.746 total time=   6.8s\n",
            "[CV 3/3] END model__C=1.0, model__max_iter=50, model__penalty=l1;, score=0.718 total time=   7.2s\n",
            "[CV 1/3] END model__C=1.0, model__max_iter=100, model__penalty=l2;, score=0.683 total time=  14.6s\n",
            "[CV 2/3] END model__C=1.0, model__max_iter=100, model__penalty=l2;, score=0.733 total time=  13.1s\n",
            "[CV 3/3] END model__C=1.0, model__max_iter=100, model__penalty=l2;, score=0.687 total time=  13.3s\n",
            "[CV 1/3] END model__C=1.0, model__max_iter=100, model__penalty=l1;, score=0.699 total time=   6.5s\n",
            "[CV 2/3] END model__C=1.0, model__max_iter=100, model__penalty=l1;, score=0.746 total time=   6.8s\n",
            "[CV 3/3] END model__C=1.0, model__max_iter=100, model__penalty=l1;, score=0.718 total time=   6.7s\n",
            "[CV 1/3] END model__C=10.0, model__max_iter=50, model__penalty=l2;, score=0.682 total time=  19.5s\n",
            "[CV 2/3] END model__C=10.0, model__max_iter=50, model__penalty=l2;, score=0.739 total time=  19.7s\n",
            "[CV 3/3] END model__C=10.0, model__max_iter=50, model__penalty=l2;, score=0.671 total time=  17.4s\n",
            "[CV 1/3] END model__C=10.0, model__max_iter=50, model__penalty=l1;, score=0.678 total time=   6.8s\n",
            "[CV 2/3] END model__C=10.0, model__max_iter=50, model__penalty=l1;, score=0.742 total time=   7.5s\n",
            "[CV 3/3] END model__C=10.0, model__max_iter=50, model__penalty=l1;, score=0.657 total time=   6.9s\n",
            "[CV 1/3] END model__C=10.0, model__max_iter=100, model__penalty=l2;, score=0.682 total time=  20.5s\n",
            "[CV 2/3] END model__C=10.0, model__max_iter=100, model__penalty=l2;, score=0.739 total time=  19.9s\n",
            "[CV 3/3] END model__C=10.0, model__max_iter=100, model__penalty=l2;, score=0.671 total time=  19.9s\n",
            "[CV 1/3] END model__C=10.0, model__max_iter=100, model__penalty=l1;, score=0.678 total time=   7.2s\n",
            "[CV 2/3] END model__C=10.0, model__max_iter=100, model__penalty=l1;, score=0.742 total time=   7.5s\n",
            "[CV 3/3] END model__C=10.0, model__max_iter=100, model__penalty=l1;, score=0.657 total time=   7.2s\n",
            "[CV 1/3] END model__C=100.0, model__max_iter=50, model__penalty=l2;, score=0.645 total time=  28.0s\n",
            "[CV 2/3] END model__C=100.0, model__max_iter=50, model__penalty=l2;, score=0.725 total time=  27.8s\n",
            "[CV 3/3] END model__C=100.0, model__max_iter=50, model__penalty=l2;, score=0.643 total time=  28.6s\n",
            "[CV 1/3] END model__C=100.0, model__max_iter=50, model__penalty=l1;, score=0.653 total time=   6.5s\n",
            "[CV 2/3] END model__C=100.0, model__max_iter=50, model__penalty=l1;, score=0.728 total time=   6.9s\n",
            "[CV 3/3] END model__C=100.0, model__max_iter=50, model__penalty=l1;, score=0.636 total time=   6.9s\n",
            "[CV 1/3] END model__C=100.0, model__max_iter=100, model__penalty=l2;, score=0.645 total time=  26.9s\n",
            "[CV 2/3] END model__C=100.0, model__max_iter=100, model__penalty=l2;, score=0.725 total time=  25.5s\n",
            "[CV 3/3] END model__C=100.0, model__max_iter=100, model__penalty=l2;, score=0.643 total time=  24.4s\n",
            "[CV 1/3] END model__C=100.0, model__max_iter=100, model__penalty=l1;, score=0.653 total time=   6.6s\n",
            "[CV 2/3] END model__C=100.0, model__max_iter=100, model__penalty=l1;, score=0.728 total time=   7.1s\n",
            "[CV 3/3] END model__C=100.0, model__max_iter=100, model__penalty=l1;, score=0.636 total time=   6.8s\n",
            "CPU times: user 7min 28s, sys: 2min 30s, total: 9min 59s\n",
            "Wall time: 10min 1s\n"
          ]
        },
        {
          "data": {
            "text/html": [
              "<style>#sk-container-id-1 {color: black;background-color: white;}#sk-container-id-1 pre{padding: 0;}#sk-container-id-1 div.sk-toggleable {background-color: white;}#sk-container-id-1 label.sk-toggleable__label {cursor: pointer;display: block;width: 100%;margin-bottom: 0;padding: 0.3em;box-sizing: border-box;text-align: center;}#sk-container-id-1 label.sk-toggleable__label-arrow:before {content: \"▸\";float: left;margin-right: 0.25em;color: #696969;}#sk-container-id-1 label.sk-toggleable__label-arrow:hover:before {color: black;}#sk-container-id-1 div.sk-estimator:hover label.sk-toggleable__label-arrow:before {color: black;}#sk-container-id-1 div.sk-toggleable__content {max-height: 0;max-width: 0;overflow: hidden;text-align: left;background-color: #f0f8ff;}#sk-container-id-1 div.sk-toggleable__content pre {margin: 0.2em;color: black;border-radius: 0.25em;background-color: #f0f8ff;}#sk-container-id-1 input.sk-toggleable__control:checked~div.sk-toggleable__content {max-height: 200px;max-width: 100%;overflow: auto;}#sk-container-id-1 input.sk-toggleable__control:checked~label.sk-toggleable__label-arrow:before {content: \"▾\";}#sk-container-id-1 div.sk-estimator input.sk-toggleable__control:checked~label.sk-toggleable__label {background-color: #d4ebff;}#sk-container-id-1 div.sk-label input.sk-toggleable__control:checked~label.sk-toggleable__label {background-color: #d4ebff;}#sk-container-id-1 input.sk-hidden--visually {border: 0;clip: rect(1px 1px 1px 1px);clip: rect(1px, 1px, 1px, 1px);height: 1px;margin: -1px;overflow: hidden;padding: 0;position: absolute;width: 1px;}#sk-container-id-1 div.sk-estimator {font-family: monospace;background-color: #f0f8ff;border: 1px dotted black;border-radius: 0.25em;box-sizing: border-box;margin-bottom: 0.5em;}#sk-container-id-1 div.sk-estimator:hover {background-color: #d4ebff;}#sk-container-id-1 div.sk-parallel-item::after {content: \"\";width: 100%;border-bottom: 1px solid gray;flex-grow: 1;}#sk-container-id-1 div.sk-label:hover label.sk-toggleable__label {background-color: #d4ebff;}#sk-container-id-1 div.sk-serial::before {content: \"\";position: absolute;border-left: 1px solid gray;box-sizing: border-box;top: 0;bottom: 0;left: 50%;z-index: 0;}#sk-container-id-1 div.sk-serial {display: flex;flex-direction: column;align-items: center;background-color: white;padding-right: 0.2em;padding-left: 0.2em;position: relative;}#sk-container-id-1 div.sk-item {position: relative;z-index: 1;}#sk-container-id-1 div.sk-parallel {display: flex;align-items: stretch;justify-content: center;background-color: white;position: relative;}#sk-container-id-1 div.sk-item::before, #sk-container-id-1 div.sk-parallel-item::before {content: \"\";position: absolute;border-left: 1px solid gray;box-sizing: border-box;top: 0;bottom: 0;left: 50%;z-index: -1;}#sk-container-id-1 div.sk-parallel-item {display: flex;flex-direction: column;z-index: 1;position: relative;background-color: white;}#sk-container-id-1 div.sk-parallel-item:first-child::after {align-self: flex-end;width: 50%;}#sk-container-id-1 div.sk-parallel-item:last-child::after {align-self: flex-start;width: 50%;}#sk-container-id-1 div.sk-parallel-item:only-child::after {width: 0;}#sk-container-id-1 div.sk-dashed-wrapped {border: 1px dashed gray;margin: 0 0.4em 0.5em 0.4em;box-sizing: border-box;padding-bottom: 0.4em;background-color: white;}#sk-container-id-1 div.sk-label label {font-family: monospace;font-weight: bold;display: inline-block;line-height: 1.2em;}#sk-container-id-1 div.sk-label-container {text-align: center;}#sk-container-id-1 div.sk-container {/* jupyter's `normalize.less` sets `[hidden] { display: none; }` but bootstrap.min.css set `[hidden] { display: none !important; }` so we also need the `!important` here to be able to override the default hidden behavior on the sphinx rendered scikit-learn.org. See: https://github.com/scikit-learn/scikit-learn/issues/21755 */display: inline-block !important;position: relative;}#sk-container-id-1 div.sk-text-repr-fallback {display: none;}</style><div id=\"sk-container-id-1\" class=\"sk-top-container\"><div class=\"sk-text-repr-fallback\"><pre>GridSearchCV(cv=3,\n",
              "             estimator=Pipeline(steps=[(&#x27;tfidf&#x27;,\n",
              "                                        TfidfVectorizer(stop_words=[&#x27;i&#x27;, &#x27;me&#x27;,\n",
              "                                                                    &#x27;my&#x27;,\n",
              "                                                                    &#x27;myself&#x27;,\n",
              "                                                                    &#x27;we&#x27;, &#x27;our&#x27;,\n",
              "                                                                    &#x27;ours&#x27;,\n",
              "                                                                    &#x27;ourselves&#x27;,\n",
              "                                                                    &#x27;you&#x27;,\n",
              "                                                                    &quot;you&#x27;re&quot;,\n",
              "                                                                    &quot;you&#x27;ve&quot;,\n",
              "                                                                    &quot;you&#x27;ll&quot;,\n",
              "                                                                    &quot;you&#x27;d&quot;,\n",
              "                                                                    &#x27;your&#x27;,\n",
              "                                                                    &#x27;yours&#x27;,\n",
              "                                                                    &#x27;yourself&#x27;,\n",
              "                                                                    &#x27;yourselves&#x27;,\n",
              "                                                                    &#x27;he&#x27;, &#x27;him&#x27;,\n",
              "                                                                    &#x27;his&#x27;,\n",
              "                                                                    &#x27;himself&#x27;,\n",
              "                                                                    &#x27;she&#x27;,\n",
              "                                                                    &quot;she&#x27;s&quot;,\n",
              "                                                                    &#x27;her&#x27;,\n",
              "                                                                    &#x27;hers&#x27;,\n",
              "                                                                    &#x27;herself&#x27;,\n",
              "                                                                    &#x27;it&#x27;,\n",
              "                                                                    &quot;it&#x27;s&quot;,\n",
              "                                                                    &#x27;its&#x27;,\n",
              "                                                                    &#x27;itself&#x27;, ...])),\n",
              "                                       (&#x27;smote&#x27;, SMOTE(random_state=521)),\n",
              "                                       (&#x27;model&#x27;,\n",
              "                                        LogisticRegression(random_state=342,\n",
              "                                                           solver=&#x27;liblinear&#x27;))]),\n",
              "             n_jobs=-1,\n",
              "             param_grid={&#x27;model__C&#x27;: array([  0.1,   1. ,  10. , 100. ]),\n",
              "                         &#x27;model__max_iter&#x27;: [50, 100],\n",
              "                         &#x27;model__penalty&#x27;: [&#x27;l2&#x27;, &#x27;l1&#x27;]},\n",
              "             scoring=&#x27;f1&#x27;, verbose=3)</pre><b>In a Jupyter environment, please rerun this cell to show the HTML representation or trust the notebook. <br />On GitHub, the HTML representation is unable to render, please try loading this page with nbviewer.org.</b></div><div class=\"sk-container\" hidden><div class=\"sk-item sk-dashed-wrapped\"><div class=\"sk-label-container\"><div class=\"sk-label sk-toggleable\"><input class=\"sk-toggleable__control sk-hidden--visually\" id=\"sk-estimator-id-1\" type=\"checkbox\" ><label for=\"sk-estimator-id-1\" class=\"sk-toggleable__label sk-toggleable__label-arrow\">GridSearchCV</label><div class=\"sk-toggleable__content\"><pre>GridSearchCV(cv=3,\n",
              "             estimator=Pipeline(steps=[(&#x27;tfidf&#x27;,\n",
              "                                        TfidfVectorizer(stop_words=[&#x27;i&#x27;, &#x27;me&#x27;,\n",
              "                                                                    &#x27;my&#x27;,\n",
              "                                                                    &#x27;myself&#x27;,\n",
              "                                                                    &#x27;we&#x27;, &#x27;our&#x27;,\n",
              "                                                                    &#x27;ours&#x27;,\n",
              "                                                                    &#x27;ourselves&#x27;,\n",
              "                                                                    &#x27;you&#x27;,\n",
              "                                                                    &quot;you&#x27;re&quot;,\n",
              "                                                                    &quot;you&#x27;ve&quot;,\n",
              "                                                                    &quot;you&#x27;ll&quot;,\n",
              "                                                                    &quot;you&#x27;d&quot;,\n",
              "                                                                    &#x27;your&#x27;,\n",
              "                                                                    &#x27;yours&#x27;,\n",
              "                                                                    &#x27;yourself&#x27;,\n",
              "                                                                    &#x27;yourselves&#x27;,\n",
              "                                                                    &#x27;he&#x27;, &#x27;him&#x27;,\n",
              "                                                                    &#x27;his&#x27;,\n",
              "                                                                    &#x27;himself&#x27;,\n",
              "                                                                    &#x27;she&#x27;,\n",
              "                                                                    &quot;she&#x27;s&quot;,\n",
              "                                                                    &#x27;her&#x27;,\n",
              "                                                                    &#x27;hers&#x27;,\n",
              "                                                                    &#x27;herself&#x27;,\n",
              "                                                                    &#x27;it&#x27;,\n",
              "                                                                    &quot;it&#x27;s&quot;,\n",
              "                                                                    &#x27;its&#x27;,\n",
              "                                                                    &#x27;itself&#x27;, ...])),\n",
              "                                       (&#x27;smote&#x27;, SMOTE(random_state=521)),\n",
              "                                       (&#x27;model&#x27;,\n",
              "                                        LogisticRegression(random_state=342,\n",
              "                                                           solver=&#x27;liblinear&#x27;))]),\n",
              "             n_jobs=-1,\n",
              "             param_grid={&#x27;model__C&#x27;: array([  0.1,   1. ,  10. , 100. ]),\n",
              "                         &#x27;model__max_iter&#x27;: [50, 100],\n",
              "                         &#x27;model__penalty&#x27;: [&#x27;l2&#x27;, &#x27;l1&#x27;]},\n",
              "             scoring=&#x27;f1&#x27;, verbose=3)</pre></div></div></div><div class=\"sk-parallel\"><div class=\"sk-parallel-item\"><div class=\"sk-item\"><div class=\"sk-label-container\"><div class=\"sk-label sk-toggleable\"><input class=\"sk-toggleable__control sk-hidden--visually\" id=\"sk-estimator-id-2\" type=\"checkbox\" ><label for=\"sk-estimator-id-2\" class=\"sk-toggleable__label sk-toggleable__label-arrow\">estimator: Pipeline</label><div class=\"sk-toggleable__content\"><pre>Pipeline(steps=[(&#x27;tfidf&#x27;,\n",
              "                 TfidfVectorizer(stop_words=[&#x27;i&#x27;, &#x27;me&#x27;, &#x27;my&#x27;, &#x27;myself&#x27;, &#x27;we&#x27;,\n",
              "                                             &#x27;our&#x27;, &#x27;ours&#x27;, &#x27;ourselves&#x27;, &#x27;you&#x27;,\n",
              "                                             &quot;you&#x27;re&quot;, &quot;you&#x27;ve&quot;, &quot;you&#x27;ll&quot;,\n",
              "                                             &quot;you&#x27;d&quot;, &#x27;your&#x27;, &#x27;yours&#x27;,\n",
              "                                             &#x27;yourself&#x27;, &#x27;yourselves&#x27;, &#x27;he&#x27;,\n",
              "                                             &#x27;him&#x27;, &#x27;his&#x27;, &#x27;himself&#x27;, &#x27;she&#x27;,\n",
              "                                             &quot;she&#x27;s&quot;, &#x27;her&#x27;, &#x27;hers&#x27;, &#x27;herself&#x27;,\n",
              "                                             &#x27;it&#x27;, &quot;it&#x27;s&quot;, &#x27;its&#x27;, &#x27;itself&#x27;, ...])),\n",
              "                (&#x27;smote&#x27;, SMOTE(random_state=521)),\n",
              "                (&#x27;model&#x27;,\n",
              "                 LogisticRegression(random_state=342, solver=&#x27;liblinear&#x27;))])</pre></div></div></div><div class=\"sk-serial\"><div class=\"sk-item\"><div class=\"sk-serial\"><div class=\"sk-item\"><div class=\"sk-estimator sk-toggleable\"><input class=\"sk-toggleable__control sk-hidden--visually\" id=\"sk-estimator-id-3\" type=\"checkbox\" ><label for=\"sk-estimator-id-3\" class=\"sk-toggleable__label sk-toggleable__label-arrow\">TfidfVectorizer</label><div class=\"sk-toggleable__content\"><pre>TfidfVectorizer(stop_words=[&#x27;i&#x27;, &#x27;me&#x27;, &#x27;my&#x27;, &#x27;myself&#x27;, &#x27;we&#x27;, &#x27;our&#x27;, &#x27;ours&#x27;,\n",
              "                            &#x27;ourselves&#x27;, &#x27;you&#x27;, &quot;you&#x27;re&quot;, &quot;you&#x27;ve&quot;, &quot;you&#x27;ll&quot;,\n",
              "                            &quot;you&#x27;d&quot;, &#x27;your&#x27;, &#x27;yours&#x27;, &#x27;yourself&#x27;, &#x27;yourselves&#x27;,\n",
              "                            &#x27;he&#x27;, &#x27;him&#x27;, &#x27;his&#x27;, &#x27;himself&#x27;, &#x27;she&#x27;, &quot;she&#x27;s&quot;,\n",
              "                            &#x27;her&#x27;, &#x27;hers&#x27;, &#x27;herself&#x27;, &#x27;it&#x27;, &quot;it&#x27;s&quot;, &#x27;its&#x27;,\n",
              "                            &#x27;itself&#x27;, ...])</pre></div></div></div><div class=\"sk-item\"><div class=\"sk-estimator sk-toggleable\"><input class=\"sk-toggleable__control sk-hidden--visually\" id=\"sk-estimator-id-4\" type=\"checkbox\" ><label for=\"sk-estimator-id-4\" class=\"sk-toggleable__label sk-toggleable__label-arrow\">SMOTE</label><div class=\"sk-toggleable__content\"><pre>SMOTE(random_state=521)</pre></div></div></div><div class=\"sk-item\"><div class=\"sk-estimator sk-toggleable\"><input class=\"sk-toggleable__control sk-hidden--visually\" id=\"sk-estimator-id-5\" type=\"checkbox\" ><label for=\"sk-estimator-id-5\" class=\"sk-toggleable__label sk-toggleable__label-arrow\">LogisticRegression</label><div class=\"sk-toggleable__content\"><pre>LogisticRegression(random_state=342, solver=&#x27;liblinear&#x27;)</pre></div></div></div></div></div></div></div></div></div></div></div></div>"
            ],
            "text/plain": [
              "GridSearchCV(cv=3,\n",
              "             estimator=Pipeline(steps=[('tfidf',\n",
              "                                        TfidfVectorizer(stop_words=['i', 'me',\n",
              "                                                                    'my',\n",
              "                                                                    'myself',\n",
              "                                                                    'we', 'our',\n",
              "                                                                    'ours',\n",
              "                                                                    'ourselves',\n",
              "                                                                    'you',\n",
              "                                                                    \"you're\",\n",
              "                                                                    \"you've\",\n",
              "                                                                    \"you'll\",\n",
              "                                                                    \"you'd\",\n",
              "                                                                    'your',\n",
              "                                                                    'yours',\n",
              "                                                                    'yourself',\n",
              "                                                                    'yourselves',\n",
              "                                                                    'he', 'him',\n",
              "                                                                    'his',\n",
              "                                                                    'himself',\n",
              "                                                                    'she',\n",
              "                                                                    \"she's\",\n",
              "                                                                    'her',\n",
              "                                                                    'hers',\n",
              "                                                                    'herself',\n",
              "                                                                    'it',\n",
              "                                                                    \"it's\",\n",
              "                                                                    'its',\n",
              "                                                                    'itself', ...])),\n",
              "                                       ('smote', SMOTE(random_state=521)),\n",
              "                                       ('model',\n",
              "                                        LogisticRegression(random_state=342,\n",
              "                                                           solver='liblinear'))]),\n",
              "             n_jobs=-1,\n",
              "             param_grid={'model__C': array([  0.1,   1. ,  10. , 100. ]),\n",
              "                         'model__max_iter': [50, 100],\n",
              "                         'model__penalty': ['l2', 'l1']},\n",
              "             scoring='f1', verbose=3)"
            ]
          },
          "execution_count": 14,
          "metadata": {},
          "output_type": "execute_result"
        }
      ],
      "source": [
        "%%time\n",
        "linear_grid.fit(features_train, target_train)"
      ]
    },
    {
      "cell_type": "code",
      "execution_count": null,
      "metadata": {
        "id": "dBDrAgOczYyC",
        "outputId": "94bec5cd-cc5b-41c3-b5b2-7eee5def3b33",
        "scrolled": true
      },
      "outputs": [
        {
          "name": "stdout",
          "output_type": "stream",
          "text": [
            "Значение F1-меры, время обучения и время оценки и при различных гиперпараметрах:\n",
            "    mean_test_score  mean_fit_time  mean_score_time\n",
            "0          0.666889       9.770961         0.878689\n",
            "1          0.698115       6.697155         0.838779\n",
            "2          0.666889       8.953916         0.888941\n",
            "3          0.698115       6.252861         0.789112\n",
            "4          0.700691      12.942302         0.808751\n",
            "5          0.720901       6.086436         0.759705\n",
            "6          0.700691      12.877798         0.822411\n",
            "7          0.720901       5.943719         0.715254\n",
            "8          0.697605      18.098349         0.760952\n",
            "9          0.692067       6.330498         0.727461\n",
            "10         0.697605      19.314378         0.791153\n",
            "11         0.692067       6.504877         0.765999\n",
            "12         0.671002      27.381119         0.769212\n",
            "13         0.672496       6.089253         0.657104\n",
            "14         0.671002      24.873199         0.724552\n",
            "15         0.672496       6.141395         0.691661\n",
            "\n",
            "Лучшие гиперпараметры:\n",
            " {'model__C': 1.0, 'model__max_iter': 50, 'model__penalty': 'l1'}\n",
            "Лучшее значение F1-меры: 0.7209006677863998\n"
          ]
        }
      ],
      "source": [
        "print('Значение F1-меры, время обучения и время оценки и при различных гиперпараметрах:')\n",
        "print(pd.DataFrame(linear_grid.cv_results_)[['mean_test_score', 'mean_fit_time', 'mean_score_time']])\n",
        "print('\\nЛучшие гиперпараметры:\\n', linear_grid.best_params_)\n",
        "print('Лучшее значение F1-меры:', linear_grid.best_score_)"
      ]
    },
    {
      "attachments": {},
      "cell_type": "markdown",
      "metadata": {
        "id": "xh_WRsO9zYyD"
      },
      "source": [
        "Значение F1-меры логистической регрессии: 0.72. Обучение занимает около 6 секунд."
      ]
    },
    {
      "attachments": {},
      "cell_type": "markdown",
      "metadata": {},
      "source": [
        "### 2.2. <a id='toc2_2_'></a>[Дерево решений](#toc0_)"
      ]
    },
    {
      "attachments": {},
      "cell_type": "markdown",
      "metadata": {
        "id": "s5hYkjMNzYyF"
      },
      "source": [
        "Теперь обучим модель решающего дерева"
      ]
    },
    {
      "cell_type": "code",
      "execution_count": null,
      "metadata": {
        "id": "90G5q0y7zYyF"
      },
      "outputs": [],
      "source": [
        "params = {\n",
        "    'model__max_depth' : list(range(4, 15, 3)),\n",
        "    'model__min_samples_split' : list(range(8, 20, 4)),\n",
        "    'model__min_samples_leaf' : list(range(8, 20, 4))\n",
        "}\n",
        "\n",
        "tree_pipeline = Pipeline(steps=[('tfidf', TfidfVectorizer(stop_words=stopwords)),\n",
        "                                  ('smote', SMOTE(random_state=521)),\n",
        "                                  ('model', DecisionTreeClassifier(random_state=342))])\n",
        "\n",
        "tree_grid = GridSearchCV(tree_pipeline, params,\n",
        "                          scoring='f1', cv=3, verbose=3, n_jobs=-1)"
      ]
    },
    {
      "cell_type": "code",
      "execution_count": null,
      "metadata": {
        "id": "xx7N0AG0zYyF",
        "outputId": "6c864fdc-b145-46af-a82f-8cfbf15c9ade",
        "scrolled": true
      },
      "outputs": [
        {
          "name": "stdout",
          "output_type": "stream",
          "text": [
            "Fitting 3 folds for each of 36 candidates, totalling 108 fits\n",
            "[CV 1/3] END model__max_depth=4, model__min_samples_leaf=8, model__min_samples_split=8;, score=0.466 total time=   6.5s\n",
            "[CV 2/3] END model__max_depth=4, model__min_samples_leaf=8, model__min_samples_split=8;, score=0.489 total time=   6.7s\n",
            "[CV 3/3] END model__max_depth=4, model__min_samples_leaf=8, model__min_samples_split=8;, score=0.453 total time=   6.8s\n",
            "[CV 1/3] END model__max_depth=4, model__min_samples_leaf=8, model__min_samples_split=12;, score=0.466 total time=   6.4s\n",
            "[CV 2/3] END model__max_depth=4, model__min_samples_leaf=8, model__min_samples_split=12;, score=0.489 total time=   6.5s\n",
            "[CV 3/3] END model__max_depth=4, model__min_samples_leaf=8, model__min_samples_split=12;, score=0.453 total time=   7.2s\n",
            "[CV 1/3] END model__max_depth=4, model__min_samples_leaf=8, model__min_samples_split=16;, score=0.466 total time=   6.6s\n",
            "[CV 2/3] END model__max_depth=4, model__min_samples_leaf=8, model__min_samples_split=16;, score=0.489 total time=   6.8s\n",
            "[CV 3/3] END model__max_depth=4, model__min_samples_leaf=8, model__min_samples_split=16;, score=0.453 total time=   6.9s\n",
            "[CV 1/3] END model__max_depth=4, model__min_samples_leaf=12, model__min_samples_split=8;, score=0.466 total time=   6.5s\n",
            "[CV 2/3] END model__max_depth=4, model__min_samples_leaf=12, model__min_samples_split=8;, score=0.489 total time=   6.6s\n",
            "[CV 3/3] END model__max_depth=4, model__min_samples_leaf=12, model__min_samples_split=8;, score=0.455 total time=   6.6s\n",
            "[CV 1/3] END model__max_depth=4, model__min_samples_leaf=12, model__min_samples_split=12;, score=0.466 total time=   6.4s\n",
            "[CV 2/3] END model__max_depth=4, model__min_samples_leaf=12, model__min_samples_split=12;, score=0.489 total time=   6.7s\n",
            "[CV 3/3] END model__max_depth=4, model__min_samples_leaf=12, model__min_samples_split=12;, score=0.455 total time=   7.6s\n",
            "[CV 1/3] END model__max_depth=4, model__min_samples_leaf=12, model__min_samples_split=16;, score=0.466 total time=   7.5s\n",
            "[CV 2/3] END model__max_depth=4, model__min_samples_leaf=12, model__min_samples_split=16;, score=0.489 total time=   7.7s\n",
            "[CV 3/3] END model__max_depth=4, model__min_samples_leaf=12, model__min_samples_split=16;, score=0.455 total time=   7.5s\n",
            "[CV 1/3] END model__max_depth=4, model__min_samples_leaf=16, model__min_samples_split=8;, score=0.465 total time=   7.2s\n",
            "[CV 2/3] END model__max_depth=4, model__min_samples_leaf=16, model__min_samples_split=8;, score=0.489 total time=   7.2s\n",
            "[CV 3/3] END model__max_depth=4, model__min_samples_leaf=16, model__min_samples_split=8;, score=0.455 total time=   7.4s\n",
            "[CV 1/3] END model__max_depth=4, model__min_samples_leaf=16, model__min_samples_split=12;, score=0.465 total time=   7.2s\n",
            "[CV 2/3] END model__max_depth=4, model__min_samples_leaf=16, model__min_samples_split=12;, score=0.489 total time=   7.2s\n",
            "[CV 3/3] END model__max_depth=4, model__min_samples_leaf=16, model__min_samples_split=12;, score=0.455 total time=   7.6s\n",
            "[CV 1/3] END model__max_depth=4, model__min_samples_leaf=16, model__min_samples_split=16;, score=0.465 total time=   6.7s\n",
            "[CV 2/3] END model__max_depth=4, model__min_samples_leaf=16, model__min_samples_split=16;, score=0.489 total time=   7.2s\n",
            "[CV 3/3] END model__max_depth=4, model__min_samples_leaf=16, model__min_samples_split=16;, score=0.455 total time=   7.0s\n",
            "[CV 1/3] END model__max_depth=7, model__min_samples_leaf=8, model__min_samples_split=8;, score=0.544 total time=   7.6s\n",
            "[CV 2/3] END model__max_depth=7, model__min_samples_leaf=8, model__min_samples_split=8;, score=0.528 total time=   7.7s\n",
            "[CV 3/3] END model__max_depth=7, model__min_samples_leaf=8, model__min_samples_split=8;, score=0.516 total time=   8.3s\n",
            "[CV 1/3] END model__max_depth=7, model__min_samples_leaf=8, model__min_samples_split=12;, score=0.544 total time=   8.0s\n",
            "[CV 2/3] END model__max_depth=7, model__min_samples_leaf=8, model__min_samples_split=12;, score=0.528 total time=   8.0s\n",
            "[CV 3/3] END model__max_depth=7, model__min_samples_leaf=8, model__min_samples_split=12;, score=0.516 total time=   8.0s\n",
            "[CV 1/3] END model__max_depth=7, model__min_samples_leaf=8, model__min_samples_split=16;, score=0.544 total time=   7.2s\n",
            "[CV 2/3] END model__max_depth=7, model__min_samples_leaf=8, model__min_samples_split=16;, score=0.528 total time=   7.3s\n",
            "[CV 3/3] END model__max_depth=7, model__min_samples_leaf=8, model__min_samples_split=16;, score=0.516 total time=   7.5s\n",
            "[CV 1/3] END model__max_depth=7, model__min_samples_leaf=12, model__min_samples_split=8;, score=0.543 total time=   7.4s\n",
            "[CV 2/3] END model__max_depth=7, model__min_samples_leaf=12, model__min_samples_split=8;, score=0.528 total time=   7.5s\n",
            "[CV 3/3] END model__max_depth=7, model__min_samples_leaf=12, model__min_samples_split=8;, score=0.517 total time=   7.8s\n",
            "[CV 1/3] END model__max_depth=7, model__min_samples_leaf=12, model__min_samples_split=12;, score=0.543 total time=   7.6s\n",
            "[CV 2/3] END model__max_depth=7, model__min_samples_leaf=12, model__min_samples_split=12;, score=0.528 total time=   7.6s\n",
            "[CV 3/3] END model__max_depth=7, model__min_samples_leaf=12, model__min_samples_split=12;, score=0.517 total time=   8.2s\n",
            "[CV 1/3] END model__max_depth=7, model__min_samples_leaf=12, model__min_samples_split=16;, score=0.543 total time=   8.0s\n",
            "[CV 2/3] END model__max_depth=7, model__min_samples_leaf=12, model__min_samples_split=16;, score=0.528 total time=   8.7s\n",
            "[CV 3/3] END model__max_depth=7, model__min_samples_leaf=12, model__min_samples_split=16;, score=0.517 total time=   8.0s\n",
            "[CV 1/3] END model__max_depth=7, model__min_samples_leaf=16, model__min_samples_split=8;, score=0.544 total time=   7.8s\n",
            "[CV 2/3] END model__max_depth=7, model__min_samples_leaf=16, model__min_samples_split=8;, score=0.528 total time=   8.0s\n",
            "[CV 3/3] END model__max_depth=7, model__min_samples_leaf=16, model__min_samples_split=8;, score=0.519 total time=   7.8s\n",
            "[CV 1/3] END model__max_depth=7, model__min_samples_leaf=16, model__min_samples_split=12;, score=0.544 total time=   7.5s\n",
            "[CV 2/3] END model__max_depth=7, model__min_samples_leaf=16, model__min_samples_split=12;, score=0.528 total time=   7.6s\n",
            "[CV 3/3] END model__max_depth=7, model__min_samples_leaf=16, model__min_samples_split=12;, score=0.519 total time=   7.6s\n",
            "[CV 1/3] END model__max_depth=7, model__min_samples_leaf=16, model__min_samples_split=16;, score=0.544 total time=   7.5s\n",
            "[CV 2/3] END model__max_depth=7, model__min_samples_leaf=16, model__min_samples_split=16;, score=0.528 total time=   7.7s\n",
            "[CV 3/3] END model__max_depth=7, model__min_samples_leaf=16, model__min_samples_split=16;, score=0.519 total time=   7.4s\n",
            "[CV 1/3] END model__max_depth=10, model__min_samples_leaf=8, model__min_samples_split=8;, score=0.579 total time=   8.3s\n",
            "[CV 2/3] END model__max_depth=10, model__min_samples_leaf=8, model__min_samples_split=8;, score=0.539 total time=   8.1s\n",
            "[CV 3/3] END model__max_depth=10, model__min_samples_leaf=8, model__min_samples_split=8;, score=0.547 total time=   8.6s\n",
            "[CV 1/3] END model__max_depth=10, model__min_samples_leaf=8, model__min_samples_split=12;, score=0.579 total time=   7.9s\n",
            "[CV 2/3] END model__max_depth=10, model__min_samples_leaf=8, model__min_samples_split=12;, score=0.539 total time=   8.2s\n",
            "[CV 3/3] END model__max_depth=10, model__min_samples_leaf=8, model__min_samples_split=12;, score=0.547 total time=   8.1s\n",
            "[CV 1/3] END model__max_depth=10, model__min_samples_leaf=8, model__min_samples_split=16;, score=0.579 total time=   8.3s\n",
            "[CV 2/3] END model__max_depth=10, model__min_samples_leaf=8, model__min_samples_split=16;, score=0.539 total time=   8.3s\n",
            "[CV 3/3] END model__max_depth=10, model__min_samples_leaf=8, model__min_samples_split=16;, score=0.547 total time=   8.2s\n",
            "[CV 1/3] END model__max_depth=10, model__min_samples_leaf=12, model__min_samples_split=8;, score=0.580 total time=   7.8s\n",
            "[CV 2/3] END model__max_depth=10, model__min_samples_leaf=12, model__min_samples_split=8;, score=0.539 total time=   7.6s\n",
            "[CV 3/3] END model__max_depth=10, model__min_samples_leaf=12, model__min_samples_split=8;, score=0.549 total time=   7.9s\n",
            "[CV 1/3] END model__max_depth=10, model__min_samples_leaf=12, model__min_samples_split=12;, score=0.580 total time=   7.7s\n",
            "[CV 2/3] END model__max_depth=10, model__min_samples_leaf=12, model__min_samples_split=12;, score=0.539 total time=   7.8s\n",
            "[CV 3/3] END model__max_depth=10, model__min_samples_leaf=12, model__min_samples_split=12;, score=0.549 total time=   7.9s\n",
            "[CV 1/3] END model__max_depth=10, model__min_samples_leaf=12, model__min_samples_split=16;, score=0.580 total time=   7.7s\n",
            "[CV 2/3] END model__max_depth=10, model__min_samples_leaf=12, model__min_samples_split=16;, score=0.539 total time=   7.8s\n",
            "[CV 3/3] END model__max_depth=10, model__min_samples_leaf=12, model__min_samples_split=16;, score=0.549 total time=   7.9s\n",
            "[CV 1/3] END model__max_depth=10, model__min_samples_leaf=16, model__min_samples_split=8;, score=0.580 total time=   7.5s\n",
            "[CV 2/3] END model__max_depth=10, model__min_samples_leaf=16, model__min_samples_split=8;, score=0.542 total time=   7.9s\n",
            "[CV 3/3] END model__max_depth=10, model__min_samples_leaf=16, model__min_samples_split=8;, score=0.550 total time=   7.8s\n",
            "[CV 1/3] END model__max_depth=10, model__min_samples_leaf=16, model__min_samples_split=12;, score=0.580 total time=   7.5s\n",
            "[CV 2/3] END model__max_depth=10, model__min_samples_leaf=16, model__min_samples_split=12;, score=0.542 total time=   7.8s\n",
            "[CV 3/3] END model__max_depth=10, model__min_samples_leaf=16, model__min_samples_split=12;, score=0.550 total time=   8.2s\n",
            "[CV 1/3] END model__max_depth=10, model__min_samples_leaf=16, model__min_samples_split=16;, score=0.580 total time=   7.7s\n",
            "[CV 2/3] END model__max_depth=10, model__min_samples_leaf=16, model__min_samples_split=16;, score=0.542 total time=   7.9s\n",
            "[CV 3/3] END model__max_depth=10, model__min_samples_leaf=16, model__min_samples_split=16;, score=0.550 total time=   8.6s\n",
            "[CV 1/3] END model__max_depth=13, model__min_samples_leaf=8, model__min_samples_split=8;, score=0.600 total time=   9.2s\n",
            "[CV 2/3] END model__max_depth=13, model__min_samples_leaf=8, model__min_samples_split=8;, score=0.546 total time=   8.7s\n",
            "[CV 3/3] END model__max_depth=13, model__min_samples_leaf=8, model__min_samples_split=8;, score=0.568 total time=   8.8s\n",
            "[CV 1/3] END model__max_depth=13, model__min_samples_leaf=8, model__min_samples_split=12;, score=0.600 total time=   8.3s\n",
            "[CV 2/3] END model__max_depth=13, model__min_samples_leaf=8, model__min_samples_split=12;, score=0.546 total time=   8.5s\n",
            "[CV 3/3] END model__max_depth=13, model__min_samples_leaf=8, model__min_samples_split=12;, score=0.568 total time=   8.6s\n",
            "[CV 1/3] END model__max_depth=13, model__min_samples_leaf=8, model__min_samples_split=16;, score=0.600 total time=   8.4s\n",
            "[CV 2/3] END model__max_depth=13, model__min_samples_leaf=8, model__min_samples_split=16;, score=0.546 total time=   8.8s\n",
            "[CV 3/3] END model__max_depth=13, model__min_samples_leaf=8, model__min_samples_split=16;, score=0.568 total time=   9.2s\n",
            "[CV 1/3] END model__max_depth=13, model__min_samples_leaf=12, model__min_samples_split=8;, score=0.603 total time=   9.0s\n",
            "[CV 2/3] END model__max_depth=13, model__min_samples_leaf=12, model__min_samples_split=8;, score=0.545 total time=   8.9s\n",
            "[CV 3/3] END model__max_depth=13, model__min_samples_leaf=12, model__min_samples_split=8;, score=0.569 total time=   8.9s\n",
            "[CV 1/3] END model__max_depth=13, model__min_samples_leaf=12, model__min_samples_split=12;, score=0.603 total time=   8.9s\n",
            "[CV 2/3] END model__max_depth=13, model__min_samples_leaf=12, model__min_samples_split=12;, score=0.545 total time=   9.1s\n",
            "[CV 3/3] END model__max_depth=13, model__min_samples_leaf=12, model__min_samples_split=12;, score=0.569 total time=   9.0s\n",
            "[CV 1/3] END model__max_depth=13, model__min_samples_leaf=12, model__min_samples_split=16;, score=0.603 total time=   9.0s\n",
            "[CV 2/3] END model__max_depth=13, model__min_samples_leaf=12, model__min_samples_split=16;, score=0.545 total time=   9.2s\n",
            "[CV 3/3] END model__max_depth=13, model__min_samples_leaf=12, model__min_samples_split=16;, score=0.569 total time=   9.1s\n",
            "[CV 1/3] END model__max_depth=13, model__min_samples_leaf=16, model__min_samples_split=8;, score=0.603 total time=   8.9s\n",
            "[CV 2/3] END model__max_depth=13, model__min_samples_leaf=16, model__min_samples_split=8;, score=0.547 total time=   8.8s\n",
            "[CV 3/3] END model__max_depth=13, model__min_samples_leaf=16, model__min_samples_split=8;, score=0.570 total time=   9.1s\n",
            "[CV 1/3] END model__max_depth=13, model__min_samples_leaf=16, model__min_samples_split=12;, score=0.603 total time=   8.7s\n",
            "[CV 2/3] END model__max_depth=13, model__min_samples_leaf=16, model__min_samples_split=12;, score=0.547 total time=   9.1s\n",
            "[CV 3/3] END model__max_depth=13, model__min_samples_leaf=16, model__min_samples_split=12;, score=0.570 total time=   9.2s\n",
            "[CV 1/3] END model__max_depth=13, model__min_samples_leaf=16, model__min_samples_split=16;, score=0.603 total time=   8.7s\n",
            "[CV 2/3] END model__max_depth=13, model__min_samples_leaf=16, model__min_samples_split=16;, score=0.547 total time=   8.6s\n",
            "[CV 3/3] END model__max_depth=13, model__min_samples_leaf=16, model__min_samples_split=16;, score=0.570 total time=   8.6s\n",
            "CPU times: user 14min 22s, sys: 2.71 s, total: 14min 24s\n",
            "Wall time: 14min 27s\n"
          ]
        },
        {
          "data": {
            "text/html": [
              "<style>#sk-container-id-2 {color: black;background-color: white;}#sk-container-id-2 pre{padding: 0;}#sk-container-id-2 div.sk-toggleable {background-color: white;}#sk-container-id-2 label.sk-toggleable__label {cursor: pointer;display: block;width: 100%;margin-bottom: 0;padding: 0.3em;box-sizing: border-box;text-align: center;}#sk-container-id-2 label.sk-toggleable__label-arrow:before {content: \"▸\";float: left;margin-right: 0.25em;color: #696969;}#sk-container-id-2 label.sk-toggleable__label-arrow:hover:before {color: black;}#sk-container-id-2 div.sk-estimator:hover label.sk-toggleable__label-arrow:before {color: black;}#sk-container-id-2 div.sk-toggleable__content {max-height: 0;max-width: 0;overflow: hidden;text-align: left;background-color: #f0f8ff;}#sk-container-id-2 div.sk-toggleable__content pre {margin: 0.2em;color: black;border-radius: 0.25em;background-color: #f0f8ff;}#sk-container-id-2 input.sk-toggleable__control:checked~div.sk-toggleable__content {max-height: 200px;max-width: 100%;overflow: auto;}#sk-container-id-2 input.sk-toggleable__control:checked~label.sk-toggleable__label-arrow:before {content: \"▾\";}#sk-container-id-2 div.sk-estimator input.sk-toggleable__control:checked~label.sk-toggleable__label {background-color: #d4ebff;}#sk-container-id-2 div.sk-label input.sk-toggleable__control:checked~label.sk-toggleable__label {background-color: #d4ebff;}#sk-container-id-2 input.sk-hidden--visually {border: 0;clip: rect(1px 1px 1px 1px);clip: rect(1px, 1px, 1px, 1px);height: 1px;margin: -1px;overflow: hidden;padding: 0;position: absolute;width: 1px;}#sk-container-id-2 div.sk-estimator {font-family: monospace;background-color: #f0f8ff;border: 1px dotted black;border-radius: 0.25em;box-sizing: border-box;margin-bottom: 0.5em;}#sk-container-id-2 div.sk-estimator:hover {background-color: #d4ebff;}#sk-container-id-2 div.sk-parallel-item::after {content: \"\";width: 100%;border-bottom: 1px solid gray;flex-grow: 1;}#sk-container-id-2 div.sk-label:hover label.sk-toggleable__label {background-color: #d4ebff;}#sk-container-id-2 div.sk-serial::before {content: \"\";position: absolute;border-left: 1px solid gray;box-sizing: border-box;top: 0;bottom: 0;left: 50%;z-index: 0;}#sk-container-id-2 div.sk-serial {display: flex;flex-direction: column;align-items: center;background-color: white;padding-right: 0.2em;padding-left: 0.2em;position: relative;}#sk-container-id-2 div.sk-item {position: relative;z-index: 1;}#sk-container-id-2 div.sk-parallel {display: flex;align-items: stretch;justify-content: center;background-color: white;position: relative;}#sk-container-id-2 div.sk-item::before, #sk-container-id-2 div.sk-parallel-item::before {content: \"\";position: absolute;border-left: 1px solid gray;box-sizing: border-box;top: 0;bottom: 0;left: 50%;z-index: -1;}#sk-container-id-2 div.sk-parallel-item {display: flex;flex-direction: column;z-index: 1;position: relative;background-color: white;}#sk-container-id-2 div.sk-parallel-item:first-child::after {align-self: flex-end;width: 50%;}#sk-container-id-2 div.sk-parallel-item:last-child::after {align-self: flex-start;width: 50%;}#sk-container-id-2 div.sk-parallel-item:only-child::after {width: 0;}#sk-container-id-2 div.sk-dashed-wrapped {border: 1px dashed gray;margin: 0 0.4em 0.5em 0.4em;box-sizing: border-box;padding-bottom: 0.4em;background-color: white;}#sk-container-id-2 div.sk-label label {font-family: monospace;font-weight: bold;display: inline-block;line-height: 1.2em;}#sk-container-id-2 div.sk-label-container {text-align: center;}#sk-container-id-2 div.sk-container {/* jupyter's `normalize.less` sets `[hidden] { display: none; }` but bootstrap.min.css set `[hidden] { display: none !important; }` so we also need the `!important` here to be able to override the default hidden behavior on the sphinx rendered scikit-learn.org. See: https://github.com/scikit-learn/scikit-learn/issues/21755 */display: inline-block !important;position: relative;}#sk-container-id-2 div.sk-text-repr-fallback {display: none;}</style><div id=\"sk-container-id-2\" class=\"sk-top-container\"><div class=\"sk-text-repr-fallback\"><pre>GridSearchCV(cv=3,\n",
              "             estimator=Pipeline(steps=[(&#x27;tfidf&#x27;,\n",
              "                                        TfidfVectorizer(stop_words=[&#x27;i&#x27;, &#x27;me&#x27;,\n",
              "                                                                    &#x27;my&#x27;,\n",
              "                                                                    &#x27;myself&#x27;,\n",
              "                                                                    &#x27;we&#x27;, &#x27;our&#x27;,\n",
              "                                                                    &#x27;ours&#x27;,\n",
              "                                                                    &#x27;ourselves&#x27;,\n",
              "                                                                    &#x27;you&#x27;,\n",
              "                                                                    &quot;you&#x27;re&quot;,\n",
              "                                                                    &quot;you&#x27;ve&quot;,\n",
              "                                                                    &quot;you&#x27;ll&quot;,\n",
              "                                                                    &quot;you&#x27;d&quot;,\n",
              "                                                                    &#x27;your&#x27;,\n",
              "                                                                    &#x27;yours&#x27;,\n",
              "                                                                    &#x27;yourself&#x27;,\n",
              "                                                                    &#x27;yourselves&#x27;,\n",
              "                                                                    &#x27;he&#x27;, &#x27;him&#x27;,\n",
              "                                                                    &#x27;his&#x27;,\n",
              "                                                                    &#x27;himself&#x27;,\n",
              "                                                                    &#x27;she&#x27;,\n",
              "                                                                    &quot;she&#x27;s&quot;,\n",
              "                                                                    &#x27;her&#x27;,\n",
              "                                                                    &#x27;hers&#x27;,\n",
              "                                                                    &#x27;herself&#x27;,\n",
              "                                                                    &#x27;it&#x27;,\n",
              "                                                                    &quot;it&#x27;s&quot;,\n",
              "                                                                    &#x27;its&#x27;,\n",
              "                                                                    &#x27;itself&#x27;, ...])),\n",
              "                                       (&#x27;smote&#x27;, SMOTE(random_state=521)),\n",
              "                                       (&#x27;model&#x27;,\n",
              "                                        DecisionTreeClassifier(random_state=342))]),\n",
              "             n_jobs=-1,\n",
              "             param_grid={&#x27;model__max_depth&#x27;: [4, 7, 10, 13],\n",
              "                         &#x27;model__min_samples_leaf&#x27;: [8, 12, 16],\n",
              "                         &#x27;model__min_samples_split&#x27;: [8, 12, 16]},\n",
              "             scoring=&#x27;f1&#x27;, verbose=3)</pre><b>In a Jupyter environment, please rerun this cell to show the HTML representation or trust the notebook. <br />On GitHub, the HTML representation is unable to render, please try loading this page with nbviewer.org.</b></div><div class=\"sk-container\" hidden><div class=\"sk-item sk-dashed-wrapped\"><div class=\"sk-label-container\"><div class=\"sk-label sk-toggleable\"><input class=\"sk-toggleable__control sk-hidden--visually\" id=\"sk-estimator-id-6\" type=\"checkbox\" ><label for=\"sk-estimator-id-6\" class=\"sk-toggleable__label sk-toggleable__label-arrow\">GridSearchCV</label><div class=\"sk-toggleable__content\"><pre>GridSearchCV(cv=3,\n",
              "             estimator=Pipeline(steps=[(&#x27;tfidf&#x27;,\n",
              "                                        TfidfVectorizer(stop_words=[&#x27;i&#x27;, &#x27;me&#x27;,\n",
              "                                                                    &#x27;my&#x27;,\n",
              "                                                                    &#x27;myself&#x27;,\n",
              "                                                                    &#x27;we&#x27;, &#x27;our&#x27;,\n",
              "                                                                    &#x27;ours&#x27;,\n",
              "                                                                    &#x27;ourselves&#x27;,\n",
              "                                                                    &#x27;you&#x27;,\n",
              "                                                                    &quot;you&#x27;re&quot;,\n",
              "                                                                    &quot;you&#x27;ve&quot;,\n",
              "                                                                    &quot;you&#x27;ll&quot;,\n",
              "                                                                    &quot;you&#x27;d&quot;,\n",
              "                                                                    &#x27;your&#x27;,\n",
              "                                                                    &#x27;yours&#x27;,\n",
              "                                                                    &#x27;yourself&#x27;,\n",
              "                                                                    &#x27;yourselves&#x27;,\n",
              "                                                                    &#x27;he&#x27;, &#x27;him&#x27;,\n",
              "                                                                    &#x27;his&#x27;,\n",
              "                                                                    &#x27;himself&#x27;,\n",
              "                                                                    &#x27;she&#x27;,\n",
              "                                                                    &quot;she&#x27;s&quot;,\n",
              "                                                                    &#x27;her&#x27;,\n",
              "                                                                    &#x27;hers&#x27;,\n",
              "                                                                    &#x27;herself&#x27;,\n",
              "                                                                    &#x27;it&#x27;,\n",
              "                                                                    &quot;it&#x27;s&quot;,\n",
              "                                                                    &#x27;its&#x27;,\n",
              "                                                                    &#x27;itself&#x27;, ...])),\n",
              "                                       (&#x27;smote&#x27;, SMOTE(random_state=521)),\n",
              "                                       (&#x27;model&#x27;,\n",
              "                                        DecisionTreeClassifier(random_state=342))]),\n",
              "             n_jobs=-1,\n",
              "             param_grid={&#x27;model__max_depth&#x27;: [4, 7, 10, 13],\n",
              "                         &#x27;model__min_samples_leaf&#x27;: [8, 12, 16],\n",
              "                         &#x27;model__min_samples_split&#x27;: [8, 12, 16]},\n",
              "             scoring=&#x27;f1&#x27;, verbose=3)</pre></div></div></div><div class=\"sk-parallel\"><div class=\"sk-parallel-item\"><div class=\"sk-item\"><div class=\"sk-label-container\"><div class=\"sk-label sk-toggleable\"><input class=\"sk-toggleable__control sk-hidden--visually\" id=\"sk-estimator-id-7\" type=\"checkbox\" ><label for=\"sk-estimator-id-7\" class=\"sk-toggleable__label sk-toggleable__label-arrow\">estimator: Pipeline</label><div class=\"sk-toggleable__content\"><pre>Pipeline(steps=[(&#x27;tfidf&#x27;,\n",
              "                 TfidfVectorizer(stop_words=[&#x27;i&#x27;, &#x27;me&#x27;, &#x27;my&#x27;, &#x27;myself&#x27;, &#x27;we&#x27;,\n",
              "                                             &#x27;our&#x27;, &#x27;ours&#x27;, &#x27;ourselves&#x27;, &#x27;you&#x27;,\n",
              "                                             &quot;you&#x27;re&quot;, &quot;you&#x27;ve&quot;, &quot;you&#x27;ll&quot;,\n",
              "                                             &quot;you&#x27;d&quot;, &#x27;your&#x27;, &#x27;yours&#x27;,\n",
              "                                             &#x27;yourself&#x27;, &#x27;yourselves&#x27;, &#x27;he&#x27;,\n",
              "                                             &#x27;him&#x27;, &#x27;his&#x27;, &#x27;himself&#x27;, &#x27;she&#x27;,\n",
              "                                             &quot;she&#x27;s&quot;, &#x27;her&#x27;, &#x27;hers&#x27;, &#x27;herself&#x27;,\n",
              "                                             &#x27;it&#x27;, &quot;it&#x27;s&quot;, &#x27;its&#x27;, &#x27;itself&#x27;, ...])),\n",
              "                (&#x27;smote&#x27;, SMOTE(random_state=521)),\n",
              "                (&#x27;model&#x27;, DecisionTreeClassifier(random_state=342))])</pre></div></div></div><div class=\"sk-serial\"><div class=\"sk-item\"><div class=\"sk-serial\"><div class=\"sk-item\"><div class=\"sk-estimator sk-toggleable\"><input class=\"sk-toggleable__control sk-hidden--visually\" id=\"sk-estimator-id-8\" type=\"checkbox\" ><label for=\"sk-estimator-id-8\" class=\"sk-toggleable__label sk-toggleable__label-arrow\">TfidfVectorizer</label><div class=\"sk-toggleable__content\"><pre>TfidfVectorizer(stop_words=[&#x27;i&#x27;, &#x27;me&#x27;, &#x27;my&#x27;, &#x27;myself&#x27;, &#x27;we&#x27;, &#x27;our&#x27;, &#x27;ours&#x27;,\n",
              "                            &#x27;ourselves&#x27;, &#x27;you&#x27;, &quot;you&#x27;re&quot;, &quot;you&#x27;ve&quot;, &quot;you&#x27;ll&quot;,\n",
              "                            &quot;you&#x27;d&quot;, &#x27;your&#x27;, &#x27;yours&#x27;, &#x27;yourself&#x27;, &#x27;yourselves&#x27;,\n",
              "                            &#x27;he&#x27;, &#x27;him&#x27;, &#x27;his&#x27;, &#x27;himself&#x27;, &#x27;she&#x27;, &quot;she&#x27;s&quot;,\n",
              "                            &#x27;her&#x27;, &#x27;hers&#x27;, &#x27;herself&#x27;, &#x27;it&#x27;, &quot;it&#x27;s&quot;, &#x27;its&#x27;,\n",
              "                            &#x27;itself&#x27;, ...])</pre></div></div></div><div class=\"sk-item\"><div class=\"sk-estimator sk-toggleable\"><input class=\"sk-toggleable__control sk-hidden--visually\" id=\"sk-estimator-id-9\" type=\"checkbox\" ><label for=\"sk-estimator-id-9\" class=\"sk-toggleable__label sk-toggleable__label-arrow\">SMOTE</label><div class=\"sk-toggleable__content\"><pre>SMOTE(random_state=521)</pre></div></div></div><div class=\"sk-item\"><div class=\"sk-estimator sk-toggleable\"><input class=\"sk-toggleable__control sk-hidden--visually\" id=\"sk-estimator-id-10\" type=\"checkbox\" ><label for=\"sk-estimator-id-10\" class=\"sk-toggleable__label sk-toggleable__label-arrow\">DecisionTreeClassifier</label><div class=\"sk-toggleable__content\"><pre>DecisionTreeClassifier(random_state=342)</pre></div></div></div></div></div></div></div></div></div></div></div></div>"
            ],
            "text/plain": [
              "GridSearchCV(cv=3,\n",
              "             estimator=Pipeline(steps=[('tfidf',\n",
              "                                        TfidfVectorizer(stop_words=['i', 'me',\n",
              "                                                                    'my',\n",
              "                                                                    'myself',\n",
              "                                                                    'we', 'our',\n",
              "                                                                    'ours',\n",
              "                                                                    'ourselves',\n",
              "                                                                    'you',\n",
              "                                                                    \"you're\",\n",
              "                                                                    \"you've\",\n",
              "                                                                    \"you'll\",\n",
              "                                                                    \"you'd\",\n",
              "                                                                    'your',\n",
              "                                                                    'yours',\n",
              "                                                                    'yourself',\n",
              "                                                                    'yourselves',\n",
              "                                                                    'he', 'him',\n",
              "                                                                    'his',\n",
              "                                                                    'himself',\n",
              "                                                                    'she',\n",
              "                                                                    \"she's\",\n",
              "                                                                    'her',\n",
              "                                                                    'hers',\n",
              "                                                                    'herself',\n",
              "                                                                    'it',\n",
              "                                                                    \"it's\",\n",
              "                                                                    'its',\n",
              "                                                                    'itself', ...])),\n",
              "                                       ('smote', SMOTE(random_state=521)),\n",
              "                                       ('model',\n",
              "                                        DecisionTreeClassifier(random_state=342))]),\n",
              "             n_jobs=-1,\n",
              "             param_grid={'model__max_depth': [4, 7, 10, 13],\n",
              "                         'model__min_samples_leaf': [8, 12, 16],\n",
              "                         'model__min_samples_split': [8, 12, 16]},\n",
              "             scoring='f1', verbose=3)"
            ]
          },
          "execution_count": 17,
          "metadata": {},
          "output_type": "execute_result"
        }
      ],
      "source": [
        "%%time\n",
        "tree_grid.fit(features_train, target_train)"
      ]
    },
    {
      "cell_type": "code",
      "execution_count": null,
      "metadata": {
        "id": "JmjQYsUjzYyG",
        "outputId": "93f471d9-0e00-424c-ea19-4d17df9be434",
        "scrolled": true
      },
      "outputs": [
        {
          "name": "stdout",
          "output_type": "stream",
          "text": [
            "Значение F1-меры, время обучения и время оценки и при различных гиперпараметрах:\n",
            "    mean_test_score  mean_fit_time  mean_score_time\n",
            "0          0.469216       5.978589         0.645645\n",
            "1          0.469216       6.039798         0.658593\n",
            "2          0.469216       6.097532         0.679589\n",
            "3          0.469971       5.935699         0.643538\n",
            "4          0.469971       6.133486         0.769463\n",
            "5          0.469971       6.786157         0.768871\n",
            "6          0.469821       6.556533         0.718149\n",
            "7          0.469821       6.576838         0.741103\n",
            "8          0.469821       6.305274         0.684116\n",
            "9          0.529332       7.164447         0.690153\n",
            "10         0.529332       7.246744         0.753645\n",
            "11         0.529332       6.682404         0.658416\n",
            "12         0.529422       6.832504         0.695246\n",
            "13         0.529422       7.075261         0.717812\n",
            "14         0.529422       7.399796         0.848882\n",
            "15         0.530134       7.140060         0.731055\n",
            "16         0.530134       6.835978         0.739351\n",
            "17         0.530134       6.806113         0.700362\n",
            "18         0.555150       7.624716         0.711604\n",
            "19         0.555150       7.356448         0.726944\n",
            "20         0.555150       7.585262         0.678530\n",
            "21         0.556079       7.140195         0.637728\n",
            "22         0.556079       7.120282         0.662781\n",
            "23         0.556079       7.151174         0.644364\n",
            "24         0.557265       7.076091         0.646907\n",
            "25         0.557265       7.160186         0.683873\n",
            "26         0.557265       7.358205         0.717267\n",
            "27         0.571390       8.192299         0.693148\n",
            "28         0.571390       7.819249         0.658400\n",
            "29         0.571390       8.082399         0.705784\n",
            "30         0.572342       8.214168         0.714646\n",
            "31         0.572342       8.263811         0.725209\n",
            "32         0.572342       8.372345         0.733494\n",
            "33         0.573290       8.233810         0.707942\n",
            "34         0.573290       8.256899         0.740173\n",
            "35         0.573290       7.927704         0.697012\n",
            "\n",
            "Лучшие гиперпараметры:\n",
            " {'model__max_depth': 13, 'model__min_samples_leaf': 16, 'model__min_samples_split': 8}\n",
            "Лучшее значение F1-меры: 0.5732900292575159\n"
          ]
        }
      ],
      "source": [
        "print('Значение F1-меры, время обучения и время оценки и при различных гиперпараметрах:')\n",
        "print(pd.DataFrame(tree_grid.cv_results_)[['mean_test_score', 'mean_fit_time', 'mean_score_time']])\n",
        "print('\\nЛучшие гиперпараметры:\\n', tree_grid.best_params_)\n",
        "print('Лучшее значение F1-меры:', tree_grid.best_score_)"
      ]
    },
    {
      "attachments": {},
      "cell_type": "markdown",
      "metadata": {
        "id": "QlpGlzsLzYyH"
      },
      "source": [
        "Решающее дерево показыает себя хуже линейной регрессии: F1 = 0.57 при времени обучения около 8 секунд."
      ]
    },
    {
      "attachments": {},
      "cell_type": "markdown",
      "metadata": {},
      "source": [
        "### 2.3. <a id='toc2_3_'></a>[Случайный лес](#toc0_)"
      ]
    },
    {
      "attachments": {},
      "cell_type": "markdown",
      "metadata": {
        "id": "z25Jd4S3zYyH"
      },
      "source": [
        "Теперь обучим случайный лес. Вместо обычного поиска по сетке используем HalvingGridSearchCV, выбрав в качестве ресурса колиество деревьев."
      ]
    },
    {
      "cell_type": "code",
      "execution_count": null,
      "metadata": {
        "id": "a0DwMOAizYyW"
      },
      "outputs": [],
      "source": [
        "params = {\n",
        "    'model__max_depth' : [8, 10, 12],\n",
        "    'model__min_samples_split' : [8, 10],\n",
        "    'model__min_samples_leaf' : [12, 15]\n",
        "}\n",
        "rf_pipeline = Pipeline(steps=[('tfidf', TfidfVectorizer(stop_words=stopwords)),\n",
        "                                  ('smote', SMOTE(random_state=521)),\n",
        "                                  ('model', RandomForestClassifier(random_state=342))])\n",
        "\n",
        "rf_grid  = HalvingGridSearchCV(rf_pipeline, params, scoring='f1',\n",
        "                                  cv=3, verbose=3, n_jobs=-1, max_resources=100, factor=3,\n",
        "                                  resource='model__n_estimators')"
      ]
    },
    {
      "cell_type": "code",
      "execution_count": null,
      "metadata": {
        "id": "ElOqBZj6zYyX",
        "outputId": "2a140794-061f-41a1-c777-a761b1de1d4c",
        "scrolled": true
      },
      "outputs": [
        {
          "name": "stdout",
          "output_type": "stream",
          "text": [
            "n_iterations: 3\n",
            "n_required_iterations: 3\n",
            "n_possible_iterations: 3\n",
            "min_resources_: 11\n",
            "max_resources_: 100\n",
            "aggressive_elimination: False\n",
            "factor: 3\n",
            "----------\n",
            "iter: 0\n",
            "n_candidates: 12\n",
            "n_resources: 11\n",
            "Fitting 3 folds for each of 12 candidates, totalling 36 fits\n",
            "[CV 1/3] END model__max_depth=8, model__min_samples_leaf=12, model__min_samples_split=8, model__n_estimators=11;, score=(train=0.314, test=0.296) total time=   6.4s\n",
            "[CV 2/3] END model__max_depth=8, model__min_samples_leaf=12, model__min_samples_split=8, model__n_estimators=11;, score=(train=0.346, test=0.341) total time=   6.7s\n",
            "[CV 3/3] END model__max_depth=8, model__min_samples_leaf=12, model__min_samples_split=8, model__n_estimators=11;, score=(train=0.304, test=0.298) total time=   6.6s\n",
            "[CV 1/3] END model__max_depth=8, model__min_samples_leaf=12, model__min_samples_split=10, model__n_estimators=11;, score=(train=0.314, test=0.296) total time=   6.4s\n",
            "[CV 2/3] END model__max_depth=8, model__min_samples_leaf=12, model__min_samples_split=10, model__n_estimators=11;, score=(train=0.346, test=0.341) total time=   6.4s\n",
            "[CV 3/3] END model__max_depth=8, model__min_samples_leaf=12, model__min_samples_split=10, model__n_estimators=11;, score=(train=0.304, test=0.298) total time=   6.5s\n",
            "[CV 1/3] END model__max_depth=8, model__min_samples_leaf=15, model__min_samples_split=8, model__n_estimators=11;, score=(train=0.313, test=0.294) total time=   6.3s\n",
            "[CV 2/3] END model__max_depth=8, model__min_samples_leaf=15, model__min_samples_split=8, model__n_estimators=11;, score=(train=0.345, test=0.341) total time=   6.3s\n",
            "[CV 3/3] END model__max_depth=8, model__min_samples_leaf=15, model__min_samples_split=8, model__n_estimators=11;, score=(train=0.304, test=0.298) total time=   6.6s\n",
            "[CV 1/3] END model__max_depth=8, model__min_samples_leaf=15, model__min_samples_split=10, model__n_estimators=11;, score=(train=0.313, test=0.294) total time=   6.5s\n",
            "[CV 2/3] END model__max_depth=8, model__min_samples_leaf=15, model__min_samples_split=10, model__n_estimators=11;, score=(train=0.345, test=0.341) total time=   7.0s\n",
            "[CV 3/3] END model__max_depth=8, model__min_samples_leaf=15, model__min_samples_split=10, model__n_estimators=11;, score=(train=0.304, test=0.298) total time=   6.9s\n",
            "[CV 1/3] END model__max_depth=10, model__min_samples_leaf=12, model__min_samples_split=8, model__n_estimators=11;, score=(train=0.315, test=0.294) total time=   6.8s\n",
            "[CV 2/3] END model__max_depth=10, model__min_samples_leaf=12, model__min_samples_split=8, model__n_estimators=11;, score=(train=0.371, test=0.365) total time=   6.9s\n",
            "[CV 3/3] END model__max_depth=10, model__min_samples_leaf=12, model__min_samples_split=8, model__n_estimators=11;, score=(train=0.331, test=0.322) total time=   7.1s\n",
            "[CV 1/3] END model__max_depth=10, model__min_samples_leaf=12, model__min_samples_split=10, model__n_estimators=11;, score=(train=0.315, test=0.294) total time=   6.5s\n",
            "[CV 2/3] END model__max_depth=10, model__min_samples_leaf=12, model__min_samples_split=10, model__n_estimators=11;, score=(train=0.371, test=0.365) total time=   6.9s\n",
            "[CV 3/3] END model__max_depth=10, model__min_samples_leaf=12, model__min_samples_split=10, model__n_estimators=11;, score=(train=0.331, test=0.322) total time=   6.8s\n",
            "[CV 1/3] END model__max_depth=10, model__min_samples_leaf=15, model__min_samples_split=8, model__n_estimators=11;, score=(train=0.316, test=0.296) total time=   6.8s\n",
            "[CV 2/3] END model__max_depth=10, model__min_samples_leaf=15, model__min_samples_split=8, model__n_estimators=11;, score=(train=0.368, test=0.363) total time=   6.6s\n",
            "[CV 3/3] END model__max_depth=10, model__min_samples_leaf=15, model__min_samples_split=8, model__n_estimators=11;, score=(train=0.328, test=0.320) total time=   6.5s\n",
            "[CV 1/3] END model__max_depth=10, model__min_samples_leaf=15, model__min_samples_split=10, model__n_estimators=11;, score=(train=0.316, test=0.296) total time=   6.4s\n",
            "[CV 2/3] END model__max_depth=10, model__min_samples_leaf=15, model__min_samples_split=10, model__n_estimators=11;, score=(train=0.368, test=0.363) total time=   6.7s\n",
            "[CV 3/3] END model__max_depth=10, model__min_samples_leaf=15, model__min_samples_split=10, model__n_estimators=11;, score=(train=0.328, test=0.320) total time=   7.0s\n",
            "[CV 1/3] END model__max_depth=12, model__min_samples_leaf=12, model__min_samples_split=8, model__n_estimators=11;, score=(train=0.347, test=0.324) total time=   6.7s\n",
            "[CV 2/3] END model__max_depth=12, model__min_samples_leaf=12, model__min_samples_split=8, model__n_estimators=11;, score=(train=0.391, test=0.381) total time=   6.5s\n",
            "[CV 3/3] END model__max_depth=12, model__min_samples_leaf=12, model__min_samples_split=8, model__n_estimators=11;, score=(train=0.345, test=0.337) total time=   6.5s\n",
            "[CV 1/3] END model__max_depth=12, model__min_samples_leaf=12, model__min_samples_split=10, model__n_estimators=11;, score=(train=0.347, test=0.324) total time=   6.3s\n",
            "[CV 2/3] END model__max_depth=12, model__min_samples_leaf=12, model__min_samples_split=10, model__n_estimators=11;, score=(train=0.391, test=0.381) total time=   6.6s\n",
            "[CV 3/3] END model__max_depth=12, model__min_samples_leaf=12, model__min_samples_split=10, model__n_estimators=11;, score=(train=0.345, test=0.337) total time=   6.6s\n",
            "[CV 1/3] END model__max_depth=12, model__min_samples_leaf=15, model__min_samples_split=8, model__n_estimators=11;, score=(train=0.344, test=0.321) total time=   6.8s\n",
            "[CV 2/3] END model__max_depth=12, model__min_samples_leaf=15, model__min_samples_split=8, model__n_estimators=11;, score=(train=0.388, test=0.378) total time=   6.6s\n",
            "[CV 3/3] END model__max_depth=12, model__min_samples_leaf=15, model__min_samples_split=8, model__n_estimators=11;, score=(train=0.340, test=0.332) total time=   6.5s\n",
            "[CV 1/3] END model__max_depth=12, model__min_samples_leaf=15, model__min_samples_split=10, model__n_estimators=11;, score=(train=0.344, test=0.321) total time=   6.3s\n",
            "[CV 2/3] END model__max_depth=12, model__min_samples_leaf=15, model__min_samples_split=10, model__n_estimators=11;, score=(train=0.388, test=0.378) total time=   6.7s\n",
            "[CV 3/3] END model__max_depth=12, model__min_samples_leaf=15, model__min_samples_split=10, model__n_estimators=11;, score=(train=0.340, test=0.332) total time=   7.5s\n",
            "----------\n",
            "iter: 1\n",
            "n_candidates: 4\n",
            "n_resources: 33\n",
            "Fitting 3 folds for each of 4 candidates, totalling 12 fits\n",
            "[CV 1/3] END model__max_depth=12, model__min_samples_leaf=15, model__min_samples_split=8, model__n_estimators=33;, score=(train=0.373, test=0.361) total time=   8.0s\n",
            "[CV 2/3] END model__max_depth=12, model__min_samples_leaf=15, model__min_samples_split=8, model__n_estimators=33;, score=(train=0.597, test=0.581) total time=   7.4s\n",
            "[CV 3/3] END model__max_depth=12, model__min_samples_leaf=15, model__min_samples_split=8, model__n_estimators=33;, score=(train=0.414, test=0.392) total time=   7.4s\n",
            "[CV 1/3] END model__max_depth=12, model__min_samples_leaf=15, model__min_samples_split=10, model__n_estimators=33;, score=(train=0.373, test=0.361) total time=   7.0s\n",
            "[CV 2/3] END model__max_depth=12, model__min_samples_leaf=15, model__min_samples_split=10, model__n_estimators=33;, score=(train=0.597, test=0.581) total time=   7.0s\n",
            "[CV 3/3] END model__max_depth=12, model__min_samples_leaf=15, model__min_samples_split=10, model__n_estimators=33;, score=(train=0.414, test=0.392) total time=   7.2s\n",
            "[CV 1/3] END model__max_depth=12, model__min_samples_leaf=12, model__min_samples_split=8, model__n_estimators=33;, score=(train=0.376, test=0.361) total time=   7.3s\n",
            "[CV 2/3] END model__max_depth=12, model__min_samples_leaf=12, model__min_samples_split=8, model__n_estimators=33;, score=(train=0.600, test=0.587) total time=   7.7s\n",
            "[CV 3/3] END model__max_depth=12, model__min_samples_leaf=12, model__min_samples_split=8, model__n_estimators=33;, score=(train=0.419, test=0.395) total time=   7.8s\n",
            "[CV 1/3] END model__max_depth=12, model__min_samples_leaf=12, model__min_samples_split=10, model__n_estimators=33;, score=(train=0.376, test=0.361) total time=   7.1s\n",
            "[CV 2/3] END model__max_depth=12, model__min_samples_leaf=12, model__min_samples_split=10, model__n_estimators=33;, score=(train=0.600, test=0.587) total time=   7.3s\n",
            "[CV 3/3] END model__max_depth=12, model__min_samples_leaf=12, model__min_samples_split=10, model__n_estimators=33;, score=(train=0.419, test=0.395) total time=   7.0s\n",
            "----------\n",
            "iter: 2\n",
            "n_candidates: 2\n",
            "n_resources: 99\n",
            "Fitting 3 folds for each of 2 candidates, totalling 6 fits\n",
            "[CV 1/3] END model__max_depth=12, model__min_samples_leaf=12, model__min_samples_split=8, model__n_estimators=99;, score=(train=0.412, test=0.389) total time=   8.2s\n",
            "[CV 2/3] END model__max_depth=12, model__min_samples_leaf=12, model__min_samples_split=8, model__n_estimators=99;, score=(train=0.575, test=0.564) total time=   8.2s\n",
            "[CV 3/3] END model__max_depth=12, model__min_samples_leaf=12, model__min_samples_split=8, model__n_estimators=99;, score=(train=0.438, test=0.421) total time=   8.4s\n",
            "[CV 1/3] END model__max_depth=12, model__min_samples_leaf=12, model__min_samples_split=10, model__n_estimators=99;, score=(train=0.412, test=0.389) total time=   8.2s\n",
            "[CV 2/3] END model__max_depth=12, model__min_samples_leaf=12, model__min_samples_split=10, model__n_estimators=99;, score=(train=0.575, test=0.564) total time=   8.3s\n",
            "[CV 3/3] END model__max_depth=12, model__min_samples_leaf=12, model__min_samples_split=10, model__n_estimators=99;, score=(train=0.438, test=0.421) total time=   8.3s\n",
            "CPU times: user 7min 54s, sys: 1.32 s, total: 7min 55s\n",
            "Wall time: 7min 58s\n"
          ]
        },
        {
          "data": {
            "text/html": [
              "<style>#sk-container-id-3 {color: black;background-color: white;}#sk-container-id-3 pre{padding: 0;}#sk-container-id-3 div.sk-toggleable {background-color: white;}#sk-container-id-3 label.sk-toggleable__label {cursor: pointer;display: block;width: 100%;margin-bottom: 0;padding: 0.3em;box-sizing: border-box;text-align: center;}#sk-container-id-3 label.sk-toggleable__label-arrow:before {content: \"▸\";float: left;margin-right: 0.25em;color: #696969;}#sk-container-id-3 label.sk-toggleable__label-arrow:hover:before {color: black;}#sk-container-id-3 div.sk-estimator:hover label.sk-toggleable__label-arrow:before {color: black;}#sk-container-id-3 div.sk-toggleable__content {max-height: 0;max-width: 0;overflow: hidden;text-align: left;background-color: #f0f8ff;}#sk-container-id-3 div.sk-toggleable__content pre {margin: 0.2em;color: black;border-radius: 0.25em;background-color: #f0f8ff;}#sk-container-id-3 input.sk-toggleable__control:checked~div.sk-toggleable__content {max-height: 200px;max-width: 100%;overflow: auto;}#sk-container-id-3 input.sk-toggleable__control:checked~label.sk-toggleable__label-arrow:before {content: \"▾\";}#sk-container-id-3 div.sk-estimator input.sk-toggleable__control:checked~label.sk-toggleable__label {background-color: #d4ebff;}#sk-container-id-3 div.sk-label input.sk-toggleable__control:checked~label.sk-toggleable__label {background-color: #d4ebff;}#sk-container-id-3 input.sk-hidden--visually {border: 0;clip: rect(1px 1px 1px 1px);clip: rect(1px, 1px, 1px, 1px);height: 1px;margin: -1px;overflow: hidden;padding: 0;position: absolute;width: 1px;}#sk-container-id-3 div.sk-estimator {font-family: monospace;background-color: #f0f8ff;border: 1px dotted black;border-radius: 0.25em;box-sizing: border-box;margin-bottom: 0.5em;}#sk-container-id-3 div.sk-estimator:hover {background-color: #d4ebff;}#sk-container-id-3 div.sk-parallel-item::after {content: \"\";width: 100%;border-bottom: 1px solid gray;flex-grow: 1;}#sk-container-id-3 div.sk-label:hover label.sk-toggleable__label {background-color: #d4ebff;}#sk-container-id-3 div.sk-serial::before {content: \"\";position: absolute;border-left: 1px solid gray;box-sizing: border-box;top: 0;bottom: 0;left: 50%;z-index: 0;}#sk-container-id-3 div.sk-serial {display: flex;flex-direction: column;align-items: center;background-color: white;padding-right: 0.2em;padding-left: 0.2em;position: relative;}#sk-container-id-3 div.sk-item {position: relative;z-index: 1;}#sk-container-id-3 div.sk-parallel {display: flex;align-items: stretch;justify-content: center;background-color: white;position: relative;}#sk-container-id-3 div.sk-item::before, #sk-container-id-3 div.sk-parallel-item::before {content: \"\";position: absolute;border-left: 1px solid gray;box-sizing: border-box;top: 0;bottom: 0;left: 50%;z-index: -1;}#sk-container-id-3 div.sk-parallel-item {display: flex;flex-direction: column;z-index: 1;position: relative;background-color: white;}#sk-container-id-3 div.sk-parallel-item:first-child::after {align-self: flex-end;width: 50%;}#sk-container-id-3 div.sk-parallel-item:last-child::after {align-self: flex-start;width: 50%;}#sk-container-id-3 div.sk-parallel-item:only-child::after {width: 0;}#sk-container-id-3 div.sk-dashed-wrapped {border: 1px dashed gray;margin: 0 0.4em 0.5em 0.4em;box-sizing: border-box;padding-bottom: 0.4em;background-color: white;}#sk-container-id-3 div.sk-label label {font-family: monospace;font-weight: bold;display: inline-block;line-height: 1.2em;}#sk-container-id-3 div.sk-label-container {text-align: center;}#sk-container-id-3 div.sk-container {/* jupyter's `normalize.less` sets `[hidden] { display: none; }` but bootstrap.min.css set `[hidden] { display: none !important; }` so we also need the `!important` here to be able to override the default hidden behavior on the sphinx rendered scikit-learn.org. See: https://github.com/scikit-learn/scikit-learn/issues/21755 */display: inline-block !important;position: relative;}#sk-container-id-3 div.sk-text-repr-fallback {display: none;}</style><div id=\"sk-container-id-3\" class=\"sk-top-container\"><div class=\"sk-text-repr-fallback\"><pre>HalvingGridSearchCV(cv=3,\n",
              "                    estimator=Pipeline(steps=[(&#x27;tfidf&#x27;,\n",
              "                                               TfidfVectorizer(stop_words=[&#x27;i&#x27;,\n",
              "                                                                           &#x27;me&#x27;,\n",
              "                                                                           &#x27;my&#x27;,\n",
              "                                                                           &#x27;myself&#x27;,\n",
              "                                                                           &#x27;we&#x27;,\n",
              "                                                                           &#x27;our&#x27;,\n",
              "                                                                           &#x27;ours&#x27;,\n",
              "                                                                           &#x27;ourselves&#x27;,\n",
              "                                                                           &#x27;you&#x27;,\n",
              "                                                                           &quot;you&#x27;re&quot;,\n",
              "                                                                           &quot;you&#x27;ve&quot;,\n",
              "                                                                           &quot;you&#x27;ll&quot;,\n",
              "                                                                           &quot;you&#x27;d&quot;,\n",
              "                                                                           &#x27;your&#x27;,\n",
              "                                                                           &#x27;yours&#x27;,\n",
              "                                                                           &#x27;yourself&#x27;,\n",
              "                                                                           &#x27;yourselves&#x27;,\n",
              "                                                                           &#x27;he&#x27;,\n",
              "                                                                           &#x27;him&#x27;,\n",
              "                                                                           &#x27;his&#x27;,\n",
              "                                                                           &#x27;himself&#x27;,\n",
              "                                                                           &#x27;she&#x27;,\n",
              "                                                                           &quot;she&#x27;s&quot;,\n",
              "                                                                           &#x27;her&#x27;,\n",
              "                                                                           &#x27;hers&#x27;,\n",
              "                                                                           &#x27;herself&#x27;,\n",
              "                                                                           &#x27;it&#x27;,\n",
              "                                                                           &quot;it&#x27;s&quot;,\n",
              "                                                                           &#x27;its&#x27;,\n",
              "                                                                           &#x27;itself&#x27;, ...])),\n",
              "                                              (&#x27;smote&#x27;,\n",
              "                                               SMOTE(random_state=521)),\n",
              "                                              (&#x27;model&#x27;,\n",
              "                                               RandomForestClassifier(random_state=342))]),\n",
              "                    max_resources=100, n_jobs=-1,\n",
              "                    param_grid={&#x27;model__max_depth&#x27;: [8, 10, 12],\n",
              "                                &#x27;model__min_samples_leaf&#x27;: [12, 15],\n",
              "                                &#x27;model__min_samples_split&#x27;: [8, 10]},\n",
              "                    resource=&#x27;model__n_estimators&#x27;, scoring=&#x27;f1&#x27;, verbose=3)</pre><b>In a Jupyter environment, please rerun this cell to show the HTML representation or trust the notebook. <br />On GitHub, the HTML representation is unable to render, please try loading this page with nbviewer.org.</b></div><div class=\"sk-container\" hidden><div class=\"sk-item sk-dashed-wrapped\"><div class=\"sk-label-container\"><div class=\"sk-label sk-toggleable\"><input class=\"sk-toggleable__control sk-hidden--visually\" id=\"sk-estimator-id-11\" type=\"checkbox\" ><label for=\"sk-estimator-id-11\" class=\"sk-toggleable__label sk-toggleable__label-arrow\">HalvingGridSearchCV</label><div class=\"sk-toggleable__content\"><pre>HalvingGridSearchCV(cv=3,\n",
              "                    estimator=Pipeline(steps=[(&#x27;tfidf&#x27;,\n",
              "                                               TfidfVectorizer(stop_words=[&#x27;i&#x27;,\n",
              "                                                                           &#x27;me&#x27;,\n",
              "                                                                           &#x27;my&#x27;,\n",
              "                                                                           &#x27;myself&#x27;,\n",
              "                                                                           &#x27;we&#x27;,\n",
              "                                                                           &#x27;our&#x27;,\n",
              "                                                                           &#x27;ours&#x27;,\n",
              "                                                                           &#x27;ourselves&#x27;,\n",
              "                                                                           &#x27;you&#x27;,\n",
              "                                                                           &quot;you&#x27;re&quot;,\n",
              "                                                                           &quot;you&#x27;ve&quot;,\n",
              "                                                                           &quot;you&#x27;ll&quot;,\n",
              "                                                                           &quot;you&#x27;d&quot;,\n",
              "                                                                           &#x27;your&#x27;,\n",
              "                                                                           &#x27;yours&#x27;,\n",
              "                                                                           &#x27;yourself&#x27;,\n",
              "                                                                           &#x27;yourselves&#x27;,\n",
              "                                                                           &#x27;he&#x27;,\n",
              "                                                                           &#x27;him&#x27;,\n",
              "                                                                           &#x27;his&#x27;,\n",
              "                                                                           &#x27;himself&#x27;,\n",
              "                                                                           &#x27;she&#x27;,\n",
              "                                                                           &quot;she&#x27;s&quot;,\n",
              "                                                                           &#x27;her&#x27;,\n",
              "                                                                           &#x27;hers&#x27;,\n",
              "                                                                           &#x27;herself&#x27;,\n",
              "                                                                           &#x27;it&#x27;,\n",
              "                                                                           &quot;it&#x27;s&quot;,\n",
              "                                                                           &#x27;its&#x27;,\n",
              "                                                                           &#x27;itself&#x27;, ...])),\n",
              "                                              (&#x27;smote&#x27;,\n",
              "                                               SMOTE(random_state=521)),\n",
              "                                              (&#x27;model&#x27;,\n",
              "                                               RandomForestClassifier(random_state=342))]),\n",
              "                    max_resources=100, n_jobs=-1,\n",
              "                    param_grid={&#x27;model__max_depth&#x27;: [8, 10, 12],\n",
              "                                &#x27;model__min_samples_leaf&#x27;: [12, 15],\n",
              "                                &#x27;model__min_samples_split&#x27;: [8, 10]},\n",
              "                    resource=&#x27;model__n_estimators&#x27;, scoring=&#x27;f1&#x27;, verbose=3)</pre></div></div></div><div class=\"sk-parallel\"><div class=\"sk-parallel-item\"><div class=\"sk-item\"><div class=\"sk-label-container\"><div class=\"sk-label sk-toggleable\"><input class=\"sk-toggleable__control sk-hidden--visually\" id=\"sk-estimator-id-12\" type=\"checkbox\" ><label for=\"sk-estimator-id-12\" class=\"sk-toggleable__label sk-toggleable__label-arrow\">estimator: Pipeline</label><div class=\"sk-toggleable__content\"><pre>Pipeline(steps=[(&#x27;tfidf&#x27;,\n",
              "                 TfidfVectorizer(stop_words=[&#x27;i&#x27;, &#x27;me&#x27;, &#x27;my&#x27;, &#x27;myself&#x27;, &#x27;we&#x27;,\n",
              "                                             &#x27;our&#x27;, &#x27;ours&#x27;, &#x27;ourselves&#x27;, &#x27;you&#x27;,\n",
              "                                             &quot;you&#x27;re&quot;, &quot;you&#x27;ve&quot;, &quot;you&#x27;ll&quot;,\n",
              "                                             &quot;you&#x27;d&quot;, &#x27;your&#x27;, &#x27;yours&#x27;,\n",
              "                                             &#x27;yourself&#x27;, &#x27;yourselves&#x27;, &#x27;he&#x27;,\n",
              "                                             &#x27;him&#x27;, &#x27;his&#x27;, &#x27;himself&#x27;, &#x27;she&#x27;,\n",
              "                                             &quot;she&#x27;s&quot;, &#x27;her&#x27;, &#x27;hers&#x27;, &#x27;herself&#x27;,\n",
              "                                             &#x27;it&#x27;, &quot;it&#x27;s&quot;, &#x27;its&#x27;, &#x27;itself&#x27;, ...])),\n",
              "                (&#x27;smote&#x27;, SMOTE(random_state=521)),\n",
              "                (&#x27;model&#x27;, RandomForestClassifier(random_state=342))])</pre></div></div></div><div class=\"sk-serial\"><div class=\"sk-item\"><div class=\"sk-serial\"><div class=\"sk-item\"><div class=\"sk-estimator sk-toggleable\"><input class=\"sk-toggleable__control sk-hidden--visually\" id=\"sk-estimator-id-13\" type=\"checkbox\" ><label for=\"sk-estimator-id-13\" class=\"sk-toggleable__label sk-toggleable__label-arrow\">TfidfVectorizer</label><div class=\"sk-toggleable__content\"><pre>TfidfVectorizer(stop_words=[&#x27;i&#x27;, &#x27;me&#x27;, &#x27;my&#x27;, &#x27;myself&#x27;, &#x27;we&#x27;, &#x27;our&#x27;, &#x27;ours&#x27;,\n",
              "                            &#x27;ourselves&#x27;, &#x27;you&#x27;, &quot;you&#x27;re&quot;, &quot;you&#x27;ve&quot;, &quot;you&#x27;ll&quot;,\n",
              "                            &quot;you&#x27;d&quot;, &#x27;your&#x27;, &#x27;yours&#x27;, &#x27;yourself&#x27;, &#x27;yourselves&#x27;,\n",
              "                            &#x27;he&#x27;, &#x27;him&#x27;, &#x27;his&#x27;, &#x27;himself&#x27;, &#x27;she&#x27;, &quot;she&#x27;s&quot;,\n",
              "                            &#x27;her&#x27;, &#x27;hers&#x27;, &#x27;herself&#x27;, &#x27;it&#x27;, &quot;it&#x27;s&quot;, &#x27;its&#x27;,\n",
              "                            &#x27;itself&#x27;, ...])</pre></div></div></div><div class=\"sk-item\"><div class=\"sk-estimator sk-toggleable\"><input class=\"sk-toggleable__control sk-hidden--visually\" id=\"sk-estimator-id-14\" type=\"checkbox\" ><label for=\"sk-estimator-id-14\" class=\"sk-toggleable__label sk-toggleable__label-arrow\">SMOTE</label><div class=\"sk-toggleable__content\"><pre>SMOTE(random_state=521)</pre></div></div></div><div class=\"sk-item\"><div class=\"sk-estimator sk-toggleable\"><input class=\"sk-toggleable__control sk-hidden--visually\" id=\"sk-estimator-id-15\" type=\"checkbox\" ><label for=\"sk-estimator-id-15\" class=\"sk-toggleable__label sk-toggleable__label-arrow\">RandomForestClassifier</label><div class=\"sk-toggleable__content\"><pre>RandomForestClassifier(random_state=342)</pre></div></div></div></div></div></div></div></div></div></div></div></div>"
            ],
            "text/plain": [
              "HalvingGridSearchCV(cv=3,\n",
              "                    estimator=Pipeline(steps=[('tfidf',\n",
              "                                               TfidfVectorizer(stop_words=['i',\n",
              "                                                                           'me',\n",
              "                                                                           'my',\n",
              "                                                                           'myself',\n",
              "                                                                           'we',\n",
              "                                                                           'our',\n",
              "                                                                           'ours',\n",
              "                                                                           'ourselves',\n",
              "                                                                           'you',\n",
              "                                                                           \"you're\",\n",
              "                                                                           \"you've\",\n",
              "                                                                           \"you'll\",\n",
              "                                                                           \"you'd\",\n",
              "                                                                           'your',\n",
              "                                                                           'yours',\n",
              "                                                                           'yourself',\n",
              "                                                                           'yourselves',\n",
              "                                                                           'he',\n",
              "                                                                           'him',\n",
              "                                                                           'his',\n",
              "                                                                           'himself',\n",
              "                                                                           'she',\n",
              "                                                                           \"she's\",\n",
              "                                                                           'her',\n",
              "                                                                           'hers',\n",
              "                                                                           'herself',\n",
              "                                                                           'it',\n",
              "                                                                           \"it's\",\n",
              "                                                                           'its',\n",
              "                                                                           'itself', ...])),\n",
              "                                              ('smote',\n",
              "                                               SMOTE(random_state=521)),\n",
              "                                              ('model',\n",
              "                                               RandomForestClassifier(random_state=342))]),\n",
              "                    max_resources=100, n_jobs=-1,\n",
              "                    param_grid={'model__max_depth': [8, 10, 12],\n",
              "                                'model__min_samples_leaf': [12, 15],\n",
              "                                'model__min_samples_split': [8, 10]},\n",
              "                    resource='model__n_estimators', scoring='f1', verbose=3)"
            ]
          },
          "execution_count": 20,
          "metadata": {},
          "output_type": "execute_result"
        }
      ],
      "source": [
        "%%time\n",
        "rf_grid.fit(features_train, target_train)"
      ]
    },
    {
      "cell_type": "code",
      "execution_count": null,
      "metadata": {
        "id": "CwhHMtRPzYyX",
        "outputId": "18e90809-3dc6-48eb-d9e1-518e82c9de76"
      },
      "outputs": [
        {
          "name": "stdout",
          "output_type": "stream",
          "text": [
            "Лучшая модель\n",
            "F1-мера: 0.4578692921820453\n"
          ]
        },
        {
          "data": {
            "text/plain": [
              "'Гиперпараметры:'"
            ]
          },
          "metadata": {},
          "output_type": "display_data"
        },
        {
          "data": {
            "text/plain": [
              "n_resources                       99\n",
              "param_model__max_depth            12\n",
              "param_model__min_samples_split     8\n",
              "param_model__min_samples_leaf     12\n",
              "Name: 16, dtype: object"
            ]
          },
          "metadata": {},
          "output_type": "display_data"
        },
        {
          "data": {
            "text/plain": [
              "'Время обучения и время предсказания:'"
            ]
          },
          "metadata": {},
          "output_type": "display_data"
        },
        {
          "data": {
            "text/plain": [
              "mean_fit_time      7.320529\n",
              "mean_score_time    0.952754\n",
              "Name: 16, dtype: object"
            ]
          },
          "metadata": {},
          "output_type": "display_data"
        }
      ],
      "source": [
        "params_names = ['n_resources', 'param_model__max_depth','param_model__min_samples_split', 'param_model__min_samples_leaf']\n",
        "\n",
        "res = pd.DataFrame(rf_grid.cv_results_)[['mean_fit_time', 'mean_score_time', 'mean_test_score', *params_names]]\n",
        "best_res = res[res.mean_test_score == res.mean_test_score.max()].iloc[0]\n",
        "\n",
        "print('Лучшая модель')\n",
        "print('F1-мера:', float(best_res['mean_test_score']))\n",
        "display('Гиперпараметры:', best_res[params_names])\n",
        "display('Время обучения и время предсказания:', best_res[['mean_fit_time', 'mean_score_time']])"
      ]
    },
    {
      "attachments": {},
      "cell_type": "markdown",
      "metadata": {
        "id": "TQe38cCEzYyY"
      },
      "source": [
        "Лучший результат здесь даёт лес, в котором 99 деревьев. При этом значение целевой метрики уменьшается до 0.45. Время обучения составляет 7.3 сек, время предсказания - 0.95 сек."
      ]
    },
    {
      "attachments": {},
      "cell_type": "markdown",
      "metadata": {},
      "source": [
        "### 2.4. <a id='toc2_4_'></a>[Градиентный бустинг](#toc0_)"
      ]
    },
    {
      "attachments": {},
      "cell_type": "markdown",
      "metadata": {
        "id": "DI7_Yuw0zYyZ"
      },
      "source": [
        "Следующая модель - градиентный бустинг (библиотека LigthGBM)."
      ]
    },
    {
      "cell_type": "code",
      "execution_count": 23,
      "metadata": {
        "id": "sGaixDN8zYyZ"
      },
      "outputs": [],
      "source": [
        "params = {\n",
        "    \"model__max_depth\": [12, 14],\n",
        "    \"model__boosting_type\" : ['gbdt'],\n",
        "    \"model__min_child_samples\" : [20],\n",
        "    \"model__learning_rate\" : [0.1, 0.3],\n",
        "    \"model__num_leaves\": [70]\n",
        "}\n",
        "lgbm_pipeline = Pipeline(steps=[('tfidf', TfidfVectorizer(stop_words=stopwords)),\n",
        "                                  ('smote', SMOTE(random_state=521)),\n",
        "                                  ('model', LGBMClassifier(random_state=342))])\n",
        "\n",
        "lgbm_grid  = HalvingGridSearchCV(lgbm_pipeline, params, scoring='f1',\n",
        "                                  cv=2, verbose=3, n_jobs=-1, max_resources=100, factor=3,\n",
        "                                  resource='model__n_estimators')"
      ]
    },
    {
      "cell_type": "code",
      "execution_count": 24,
      "metadata": {
        "colab": {
          "base_uri": "https://localhost:8080/",
          "height": 515
        },
        "id": "FPcfhM4pzYya",
        "outputId": "41578b4e-76a9-4f9a-df64-f260d2496497"
      },
      "outputs": [
        {
          "name": "stdout",
          "output_type": "stream",
          "text": [
            "n_iterations: 2\n",
            "n_required_iterations: 2\n",
            "n_possible_iterations: 2\n",
            "min_resources_: 33\n",
            "max_resources_: 100\n",
            "aggressive_elimination: False\n",
            "factor: 3\n",
            "----------\n",
            "iter: 0\n",
            "n_candidates: 4\n",
            "n_resources: 33\n",
            "Fitting 2 folds for each of 4 candidates, totalling 8 fits\n",
            "----------\n",
            "iter: 1\n",
            "n_candidates: 2\n",
            "n_resources: 99\n",
            "Fitting 2 folds for each of 2 candidates, totalling 4 fits\n",
            "CPU times: user 1min 38s, sys: 1.18 s, total: 1min 39s\n",
            "Wall time: 4min 37s\n"
          ]
        },
        {
          "data": {
            "text/html": [
              "<style>#sk-container-id-1 {color: black;background-color: white;}#sk-container-id-1 pre{padding: 0;}#sk-container-id-1 div.sk-toggleable {background-color: white;}#sk-container-id-1 label.sk-toggleable__label {cursor: pointer;display: block;width: 100%;margin-bottom: 0;padding: 0.3em;box-sizing: border-box;text-align: center;}#sk-container-id-1 label.sk-toggleable__label-arrow:before {content: \"▸\";float: left;margin-right: 0.25em;color: #696969;}#sk-container-id-1 label.sk-toggleable__label-arrow:hover:before {color: black;}#sk-container-id-1 div.sk-estimator:hover label.sk-toggleable__label-arrow:before {color: black;}#sk-container-id-1 div.sk-toggleable__content {max-height: 0;max-width: 0;overflow: hidden;text-align: left;background-color: #f0f8ff;}#sk-container-id-1 div.sk-toggleable__content pre {margin: 0.2em;color: black;border-radius: 0.25em;background-color: #f0f8ff;}#sk-container-id-1 input.sk-toggleable__control:checked~div.sk-toggleable__content {max-height: 200px;max-width: 100%;overflow: auto;}#sk-container-id-1 input.sk-toggleable__control:checked~label.sk-toggleable__label-arrow:before {content: \"▾\";}#sk-container-id-1 div.sk-estimator input.sk-toggleable__control:checked~label.sk-toggleable__label {background-color: #d4ebff;}#sk-container-id-1 div.sk-label input.sk-toggleable__control:checked~label.sk-toggleable__label {background-color: #d4ebff;}#sk-container-id-1 input.sk-hidden--visually {border: 0;clip: rect(1px 1px 1px 1px);clip: rect(1px, 1px, 1px, 1px);height: 1px;margin: -1px;overflow: hidden;padding: 0;position: absolute;width: 1px;}#sk-container-id-1 div.sk-estimator {font-family: monospace;background-color: #f0f8ff;border: 1px dotted black;border-radius: 0.25em;box-sizing: border-box;margin-bottom: 0.5em;}#sk-container-id-1 div.sk-estimator:hover {background-color: #d4ebff;}#sk-container-id-1 div.sk-parallel-item::after {content: \"\";width: 100%;border-bottom: 1px solid gray;flex-grow: 1;}#sk-container-id-1 div.sk-label:hover label.sk-toggleable__label {background-color: #d4ebff;}#sk-container-id-1 div.sk-serial::before {content: \"\";position: absolute;border-left: 1px solid gray;box-sizing: border-box;top: 0;bottom: 0;left: 50%;z-index: 0;}#sk-container-id-1 div.sk-serial {display: flex;flex-direction: column;align-items: center;background-color: white;padding-right: 0.2em;padding-left: 0.2em;position: relative;}#sk-container-id-1 div.sk-item {position: relative;z-index: 1;}#sk-container-id-1 div.sk-parallel {display: flex;align-items: stretch;justify-content: center;background-color: white;position: relative;}#sk-container-id-1 div.sk-item::before, #sk-container-id-1 div.sk-parallel-item::before {content: \"\";position: absolute;border-left: 1px solid gray;box-sizing: border-box;top: 0;bottom: 0;left: 50%;z-index: -1;}#sk-container-id-1 div.sk-parallel-item {display: flex;flex-direction: column;z-index: 1;position: relative;background-color: white;}#sk-container-id-1 div.sk-parallel-item:first-child::after {align-self: flex-end;width: 50%;}#sk-container-id-1 div.sk-parallel-item:last-child::after {align-self: flex-start;width: 50%;}#sk-container-id-1 div.sk-parallel-item:only-child::after {width: 0;}#sk-container-id-1 div.sk-dashed-wrapped {border: 1px dashed gray;margin: 0 0.4em 0.5em 0.4em;box-sizing: border-box;padding-bottom: 0.4em;background-color: white;}#sk-container-id-1 div.sk-label label {font-family: monospace;font-weight: bold;display: inline-block;line-height: 1.2em;}#sk-container-id-1 div.sk-label-container {text-align: center;}#sk-container-id-1 div.sk-container {/* jupyter's `normalize.less` sets `[hidden] { display: none; }` but bootstrap.min.css set `[hidden] { display: none !important; }` so we also need the `!important` here to be able to override the default hidden behavior on the sphinx rendered scikit-learn.org. See: https://github.com/scikit-learn/scikit-learn/issues/21755 */display: inline-block !important;position: relative;}#sk-container-id-1 div.sk-text-repr-fallback {display: none;}</style><div id=\"sk-container-id-1\" class=\"sk-top-container\"><div class=\"sk-text-repr-fallback\"><pre>HalvingGridSearchCV(cv=2,\n",
              "                    estimator=Pipeline(steps=[(&#x27;tfidf&#x27;,\n",
              "                                               TfidfVectorizer(stop_words=[&#x27;i&#x27;,\n",
              "                                                                           &#x27;me&#x27;,\n",
              "                                                                           &#x27;my&#x27;,\n",
              "                                                                           &#x27;myself&#x27;,\n",
              "                                                                           &#x27;we&#x27;,\n",
              "                                                                           &#x27;our&#x27;,\n",
              "                                                                           &#x27;ours&#x27;,\n",
              "                                                                           &#x27;ourselves&#x27;,\n",
              "                                                                           &#x27;you&#x27;,\n",
              "                                                                           &quot;you&#x27;re&quot;,\n",
              "                                                                           &quot;you&#x27;ve&quot;,\n",
              "                                                                           &quot;you&#x27;ll&quot;,\n",
              "                                                                           &quot;you&#x27;d&quot;,\n",
              "                                                                           &#x27;your&#x27;,\n",
              "                                                                           &#x27;yours&#x27;,\n",
              "                                                                           &#x27;yourself&#x27;,\n",
              "                                                                           &#x27;yourselves&#x27;,\n",
              "                                                                           &#x27;he&#x27;,\n",
              "                                                                           &#x27;him&#x27;,\n",
              "                                                                           &#x27;his&#x27;,\n",
              "                                                                           &#x27;himself&#x27;,\n",
              "                                                                           &#x27;she&#x27;,\n",
              "                                                                           &quot;she&#x27;s&quot;,\n",
              "                                                                           &#x27;her&#x27;,\n",
              "                                                                           &#x27;hers&#x27;,\n",
              "                                                                           &#x27;herself&#x27;,\n",
              "                                                                           &#x27;it&#x27;,\n",
              "                                                                           &quot;it&#x27;s&quot;,\n",
              "                                                                           &#x27;its&#x27;,\n",
              "                                                                           &#x27;itself&#x27;, ...])),\n",
              "                                              (&#x27;smote&#x27;,\n",
              "                                               SMOTE(random_state=521)),\n",
              "                                              (&#x27;model&#x27;,\n",
              "                                               LGBMClassifier(random_state=342))]),\n",
              "                    max_resources=100, n_jobs=-1,\n",
              "                    param_grid={&#x27;model__boosting_type&#x27;: [&#x27;gbdt&#x27;],\n",
              "                                &#x27;model__learning_rate&#x27;: [0.1, 0.3],\n",
              "                                &#x27;model__max_depth&#x27;: [12, 14],\n",
              "                                &#x27;model__min_child_samples&#x27;: [20],\n",
              "                                &#x27;model__num_leaves&#x27;: [70]},\n",
              "                    resource=&#x27;model__n_estimators&#x27;, scoring=&#x27;f1&#x27;, verbose=3)</pre><b>In a Jupyter environment, please rerun this cell to show the HTML representation or trust the notebook. <br />On GitHub, the HTML representation is unable to render, please try loading this page with nbviewer.org.</b></div><div class=\"sk-container\" hidden><div class=\"sk-item sk-dashed-wrapped\"><div class=\"sk-label-container\"><div class=\"sk-label sk-toggleable\"><input class=\"sk-toggleable__control sk-hidden--visually\" id=\"sk-estimator-id-1\" type=\"checkbox\" ><label for=\"sk-estimator-id-1\" class=\"sk-toggleable__label sk-toggleable__label-arrow\">HalvingGridSearchCV</label><div class=\"sk-toggleable__content\"><pre>HalvingGridSearchCV(cv=2,\n",
              "                    estimator=Pipeline(steps=[(&#x27;tfidf&#x27;,\n",
              "                                               TfidfVectorizer(stop_words=[&#x27;i&#x27;,\n",
              "                                                                           &#x27;me&#x27;,\n",
              "                                                                           &#x27;my&#x27;,\n",
              "                                                                           &#x27;myself&#x27;,\n",
              "                                                                           &#x27;we&#x27;,\n",
              "                                                                           &#x27;our&#x27;,\n",
              "                                                                           &#x27;ours&#x27;,\n",
              "                                                                           &#x27;ourselves&#x27;,\n",
              "                                                                           &#x27;you&#x27;,\n",
              "                                                                           &quot;you&#x27;re&quot;,\n",
              "                                                                           &quot;you&#x27;ve&quot;,\n",
              "                                                                           &quot;you&#x27;ll&quot;,\n",
              "                                                                           &quot;you&#x27;d&quot;,\n",
              "                                                                           &#x27;your&#x27;,\n",
              "                                                                           &#x27;yours&#x27;,\n",
              "                                                                           &#x27;yourself&#x27;,\n",
              "                                                                           &#x27;yourselves&#x27;,\n",
              "                                                                           &#x27;he&#x27;,\n",
              "                                                                           &#x27;him&#x27;,\n",
              "                                                                           &#x27;his&#x27;,\n",
              "                                                                           &#x27;himself&#x27;,\n",
              "                                                                           &#x27;she&#x27;,\n",
              "                                                                           &quot;she&#x27;s&quot;,\n",
              "                                                                           &#x27;her&#x27;,\n",
              "                                                                           &#x27;hers&#x27;,\n",
              "                                                                           &#x27;herself&#x27;,\n",
              "                                                                           &#x27;it&#x27;,\n",
              "                                                                           &quot;it&#x27;s&quot;,\n",
              "                                                                           &#x27;its&#x27;,\n",
              "                                                                           &#x27;itself&#x27;, ...])),\n",
              "                                              (&#x27;smote&#x27;,\n",
              "                                               SMOTE(random_state=521)),\n",
              "                                              (&#x27;model&#x27;,\n",
              "                                               LGBMClassifier(random_state=342))]),\n",
              "                    max_resources=100, n_jobs=-1,\n",
              "                    param_grid={&#x27;model__boosting_type&#x27;: [&#x27;gbdt&#x27;],\n",
              "                                &#x27;model__learning_rate&#x27;: [0.1, 0.3],\n",
              "                                &#x27;model__max_depth&#x27;: [12, 14],\n",
              "                                &#x27;model__min_child_samples&#x27;: [20],\n",
              "                                &#x27;model__num_leaves&#x27;: [70]},\n",
              "                    resource=&#x27;model__n_estimators&#x27;, scoring=&#x27;f1&#x27;, verbose=3)</pre></div></div></div><div class=\"sk-parallel\"><div class=\"sk-parallel-item\"><div class=\"sk-item\"><div class=\"sk-label-container\"><div class=\"sk-label sk-toggleable\"><input class=\"sk-toggleable__control sk-hidden--visually\" id=\"sk-estimator-id-2\" type=\"checkbox\" ><label for=\"sk-estimator-id-2\" class=\"sk-toggleable__label sk-toggleable__label-arrow\">estimator: Pipeline</label><div class=\"sk-toggleable__content\"><pre>Pipeline(steps=[(&#x27;tfidf&#x27;,\n",
              "                 TfidfVectorizer(stop_words=[&#x27;i&#x27;, &#x27;me&#x27;, &#x27;my&#x27;, &#x27;myself&#x27;, &#x27;we&#x27;,\n",
              "                                             &#x27;our&#x27;, &#x27;ours&#x27;, &#x27;ourselves&#x27;, &#x27;you&#x27;,\n",
              "                                             &quot;you&#x27;re&quot;, &quot;you&#x27;ve&quot;, &quot;you&#x27;ll&quot;,\n",
              "                                             &quot;you&#x27;d&quot;, &#x27;your&#x27;, &#x27;yours&#x27;,\n",
              "                                             &#x27;yourself&#x27;, &#x27;yourselves&#x27;, &#x27;he&#x27;,\n",
              "                                             &#x27;him&#x27;, &#x27;his&#x27;, &#x27;himself&#x27;, &#x27;she&#x27;,\n",
              "                                             &quot;she&#x27;s&quot;, &#x27;her&#x27;, &#x27;hers&#x27;, &#x27;herself&#x27;,\n",
              "                                             &#x27;it&#x27;, &quot;it&#x27;s&quot;, &#x27;its&#x27;, &#x27;itself&#x27;, ...])),\n",
              "                (&#x27;smote&#x27;, SMOTE(random_state=521)),\n",
              "                (&#x27;model&#x27;, LGBMClassifier(random_state=342))])</pre></div></div></div><div class=\"sk-serial\"><div class=\"sk-item\"><div class=\"sk-serial\"><div class=\"sk-item\"><div class=\"sk-estimator sk-toggleable\"><input class=\"sk-toggleable__control sk-hidden--visually\" id=\"sk-estimator-id-3\" type=\"checkbox\" ><label for=\"sk-estimator-id-3\" class=\"sk-toggleable__label sk-toggleable__label-arrow\">TfidfVectorizer</label><div class=\"sk-toggleable__content\"><pre>TfidfVectorizer(stop_words=[&#x27;i&#x27;, &#x27;me&#x27;, &#x27;my&#x27;, &#x27;myself&#x27;, &#x27;we&#x27;, &#x27;our&#x27;, &#x27;ours&#x27;,\n",
              "                            &#x27;ourselves&#x27;, &#x27;you&#x27;, &quot;you&#x27;re&quot;, &quot;you&#x27;ve&quot;, &quot;you&#x27;ll&quot;,\n",
              "                            &quot;you&#x27;d&quot;, &#x27;your&#x27;, &#x27;yours&#x27;, &#x27;yourself&#x27;, &#x27;yourselves&#x27;,\n",
              "                            &#x27;he&#x27;, &#x27;him&#x27;, &#x27;his&#x27;, &#x27;himself&#x27;, &#x27;she&#x27;, &quot;she&#x27;s&quot;,\n",
              "                            &#x27;her&#x27;, &#x27;hers&#x27;, &#x27;herself&#x27;, &#x27;it&#x27;, &quot;it&#x27;s&quot;, &#x27;its&#x27;,\n",
              "                            &#x27;itself&#x27;, ...])</pre></div></div></div><div class=\"sk-item\"><div class=\"sk-estimator sk-toggleable\"><input class=\"sk-toggleable__control sk-hidden--visually\" id=\"sk-estimator-id-4\" type=\"checkbox\" ><label for=\"sk-estimator-id-4\" class=\"sk-toggleable__label sk-toggleable__label-arrow\">SMOTE</label><div class=\"sk-toggleable__content\"><pre>SMOTE(random_state=521)</pre></div></div></div><div class=\"sk-item\"><div class=\"sk-estimator sk-toggleable\"><input class=\"sk-toggleable__control sk-hidden--visually\" id=\"sk-estimator-id-5\" type=\"checkbox\" ><label for=\"sk-estimator-id-5\" class=\"sk-toggleable__label sk-toggleable__label-arrow\">LGBMClassifier</label><div class=\"sk-toggleable__content\"><pre>LGBMClassifier(random_state=342)</pre></div></div></div></div></div></div></div></div></div></div></div></div>"
            ],
            "text/plain": [
              "HalvingGridSearchCV(cv=2,\n",
              "                    estimator=Pipeline(steps=[('tfidf',\n",
              "                                               TfidfVectorizer(stop_words=['i',\n",
              "                                                                           'me',\n",
              "                                                                           'my',\n",
              "                                                                           'myself',\n",
              "                                                                           'we',\n",
              "                                                                           'our',\n",
              "                                                                           'ours',\n",
              "                                                                           'ourselves',\n",
              "                                                                           'you',\n",
              "                                                                           \"you're\",\n",
              "                                                                           \"you've\",\n",
              "                                                                           \"you'll\",\n",
              "                                                                           \"you'd\",\n",
              "                                                                           'your',\n",
              "                                                                           'yours',\n",
              "                                                                           'yourself',\n",
              "                                                                           'yourselves',\n",
              "                                                                           'he',\n",
              "                                                                           'him',\n",
              "                                                                           'his',\n",
              "                                                                           'himself',\n",
              "                                                                           'she',\n",
              "                                                                           \"she's\",\n",
              "                                                                           'her',\n",
              "                                                                           'hers',\n",
              "                                                                           'herself',\n",
              "                                                                           'it',\n",
              "                                                                           \"it's\",\n",
              "                                                                           'its',\n",
              "                                                                           'itself', ...])),\n",
              "                                              ('smote',\n",
              "                                               SMOTE(random_state=521)),\n",
              "                                              ('model',\n",
              "                                               LGBMClassifier(random_state=342))]),\n",
              "                    max_resources=100, n_jobs=-1,\n",
              "                    param_grid={'model__boosting_type': ['gbdt'],\n",
              "                                'model__learning_rate': [0.1, 0.3],\n",
              "                                'model__max_depth': [12, 14],\n",
              "                                'model__min_child_samples': [20],\n",
              "                                'model__num_leaves': [70]},\n",
              "                    resource='model__n_estimators', scoring='f1', verbose=3)"
            ]
          },
          "execution_count": 24,
          "metadata": {},
          "output_type": "execute_result"
        }
      ],
      "source": [
        "%%time\n",
        "lgbm_grid.fit(features_train, target_train)"
      ]
    },
    {
      "cell_type": "code",
      "execution_count": 26,
      "metadata": {
        "colab": {
          "base_uri": "https://localhost:8080/",
          "height": 216
        },
        "id": "IJ71eXhczYya",
        "outputId": "807051d3-2e82-47eb-cd2f-4bf042fcf230"
      },
      "outputs": [
        {
          "name": "stdout",
          "output_type": "stream",
          "text": [
            "Лучшая модель\n",
            "F1: 0.7165395426881531\n"
          ]
        },
        {
          "data": {
            "application/vnd.google.colaboratory.intrinsic+json": {
              "type": "string"
            },
            "text/plain": [
              "'Гиперпараметры:'"
            ]
          },
          "metadata": {},
          "output_type": "display_data"
        },
        {
          "data": {
            "text/html": [
              "\n",
              "  <div id=\"df-79e43d0a-b7eb-4185-a787-209c8b03e3ba\">\n",
              "    <div class=\"colab-df-container\">\n",
              "      <div>\n",
              "<style scoped>\n",
              "    .dataframe tbody tr th:only-of-type {\n",
              "        vertical-align: middle;\n",
              "    }\n",
              "\n",
              "    .dataframe tbody tr th {\n",
              "        vertical-align: top;\n",
              "    }\n",
              "\n",
              "    .dataframe thead th {\n",
              "        text-align: right;\n",
              "    }\n",
              "</style>\n",
              "<table border=\"1\" class=\"dataframe\">\n",
              "  <thead>\n",
              "    <tr style=\"text-align: right;\">\n",
              "      <th></th>\n",
              "      <th>n_resources</th>\n",
              "      <th>param_model__max_depth</th>\n",
              "      <th>param_model__min_child_samples</th>\n",
              "      <th>param_model__num_leaves</th>\n",
              "      <th>param_model__learning_rate</th>\n",
              "    </tr>\n",
              "  </thead>\n",
              "  <tbody>\n",
              "    <tr>\n",
              "      <th>4</th>\n",
              "      <td>99</td>\n",
              "      <td>12</td>\n",
              "      <td>20</td>\n",
              "      <td>70</td>\n",
              "      <td>0.3</td>\n",
              "    </tr>\n",
              "  </tbody>\n",
              "</table>\n",
              "</div>\n",
              "      <button class=\"colab-df-convert\" onclick=\"convertToInteractive('df-79e43d0a-b7eb-4185-a787-209c8b03e3ba')\"\n",
              "              title=\"Convert this dataframe to an interactive table.\"\n",
              "              style=\"display:none;\">\n",
              "        \n",
              "  <svg xmlns=\"http://www.w3.org/2000/svg\" height=\"24px\"viewBox=\"0 0 24 24\"\n",
              "       width=\"24px\">\n",
              "    <path d=\"M0 0h24v24H0V0z\" fill=\"none\"/>\n",
              "    <path d=\"M18.56 5.44l.94 2.06.94-2.06 2.06-.94-2.06-.94-.94-2.06-.94 2.06-2.06.94zm-11 1L8.5 8.5l.94-2.06 2.06-.94-2.06-.94L8.5 2.5l-.94 2.06-2.06.94zm10 10l.94 2.06.94-2.06 2.06-.94-2.06-.94-.94-2.06-.94 2.06-2.06.94z\"/><path d=\"M17.41 7.96l-1.37-1.37c-.4-.4-.92-.59-1.43-.59-.52 0-1.04.2-1.43.59L10.3 9.45l-7.72 7.72c-.78.78-.78 2.05 0 2.83L4 21.41c.39.39.9.59 1.41.59.51 0 1.02-.2 1.41-.59l7.78-7.78 2.81-2.81c.8-.78.8-2.07 0-2.86zM5.41 20L4 18.59l7.72-7.72 1.47 1.35L5.41 20z\"/>\n",
              "  </svg>\n",
              "      </button>\n",
              "      \n",
              "  <style>\n",
              "    .colab-df-container {\n",
              "      display:flex;\n",
              "      flex-wrap:wrap;\n",
              "      gap: 12px;\n",
              "    }\n",
              "\n",
              "    .colab-df-convert {\n",
              "      background-color: #E8F0FE;\n",
              "      border: none;\n",
              "      border-radius: 50%;\n",
              "      cursor: pointer;\n",
              "      display: none;\n",
              "      fill: #1967D2;\n",
              "      height: 32px;\n",
              "      padding: 0 0 0 0;\n",
              "      width: 32px;\n",
              "    }\n",
              "\n",
              "    .colab-df-convert:hover {\n",
              "      background-color: #E2EBFA;\n",
              "      box-shadow: 0px 1px 2px rgba(60, 64, 67, 0.3), 0px 1px 3px 1px rgba(60, 64, 67, 0.15);\n",
              "      fill: #174EA6;\n",
              "    }\n",
              "\n",
              "    [theme=dark] .colab-df-convert {\n",
              "      background-color: #3B4455;\n",
              "      fill: #D2E3FC;\n",
              "    }\n",
              "\n",
              "    [theme=dark] .colab-df-convert:hover {\n",
              "      background-color: #434B5C;\n",
              "      box-shadow: 0px 1px 3px 1px rgba(0, 0, 0, 0.15);\n",
              "      filter: drop-shadow(0px 1px 2px rgba(0, 0, 0, 0.3));\n",
              "      fill: #FFFFFF;\n",
              "    }\n",
              "  </style>\n",
              "\n",
              "      <script>\n",
              "        const buttonEl =\n",
              "          document.querySelector('#df-79e43d0a-b7eb-4185-a787-209c8b03e3ba button.colab-df-convert');\n",
              "        buttonEl.style.display =\n",
              "          google.colab.kernel.accessAllowed ? 'block' : 'none';\n",
              "\n",
              "        async function convertToInteractive(key) {\n",
              "          const element = document.querySelector('#df-79e43d0a-b7eb-4185-a787-209c8b03e3ba');\n",
              "          const dataTable =\n",
              "            await google.colab.kernel.invokeFunction('convertToInteractive',\n",
              "                                                     [key], {});\n",
              "          if (!dataTable) return;\n",
              "\n",
              "          const docLinkHtml = 'Like what you see? Visit the ' +\n",
              "            '<a target=\"_blank\" href=https://colab.research.google.com/notebooks/data_table.ipynb>data table notebook</a>'\n",
              "            + ' to learn more about interactive tables.';\n",
              "          element.innerHTML = '';\n",
              "          dataTable['output_type'] = 'display_data';\n",
              "          await google.colab.output.renderOutput(dataTable, element);\n",
              "          const docLink = document.createElement('div');\n",
              "          docLink.innerHTML = docLinkHtml;\n",
              "          element.appendChild(docLink);\n",
              "        }\n",
              "      </script>\n",
              "    </div>\n",
              "  </div>\n",
              "  "
            ],
            "text/plain": [
              "   n_resources param_model__max_depth param_model__min_child_samples  \\\n",
              "4           99                     12                             20   \n",
              "\n",
              "  param_model__num_leaves param_model__learning_rate  \n",
              "4                      70                        0.3  "
            ]
          },
          "metadata": {},
          "output_type": "display_data"
        },
        {
          "data": {
            "application/vnd.google.colaboratory.intrinsic+json": {
              "type": "string"
            },
            "text/plain": [
              "'Время обучения и время предсказания:'"
            ]
          },
          "metadata": {},
          "output_type": "display_data"
        },
        {
          "data": {
            "text/html": [
              "\n",
              "  <div id=\"df-5761d98e-5205-40c4-8873-5ebfe863e54f\">\n",
              "    <div class=\"colab-df-container\">\n",
              "      <div>\n",
              "<style scoped>\n",
              "    .dataframe tbody tr th:only-of-type {\n",
              "        vertical-align: middle;\n",
              "    }\n",
              "\n",
              "    .dataframe tbody tr th {\n",
              "        vertical-align: top;\n",
              "    }\n",
              "\n",
              "    .dataframe thead th {\n",
              "        text-align: right;\n",
              "    }\n",
              "</style>\n",
              "<table border=\"1\" class=\"dataframe\">\n",
              "  <thead>\n",
              "    <tr style=\"text-align: right;\">\n",
              "      <th></th>\n",
              "      <th>mean_fit_time</th>\n",
              "      <th>mean_score_time</th>\n",
              "    </tr>\n",
              "  </thead>\n",
              "  <tbody>\n",
              "    <tr>\n",
              "      <th>4</th>\n",
              "      <td>35.977067</td>\n",
              "      <td>1.85747</td>\n",
              "    </tr>\n",
              "  </tbody>\n",
              "</table>\n",
              "</div>\n",
              "      <button class=\"colab-df-convert\" onclick=\"convertToInteractive('df-5761d98e-5205-40c4-8873-5ebfe863e54f')\"\n",
              "              title=\"Convert this dataframe to an interactive table.\"\n",
              "              style=\"display:none;\">\n",
              "        \n",
              "  <svg xmlns=\"http://www.w3.org/2000/svg\" height=\"24px\"viewBox=\"0 0 24 24\"\n",
              "       width=\"24px\">\n",
              "    <path d=\"M0 0h24v24H0V0z\" fill=\"none\"/>\n",
              "    <path d=\"M18.56 5.44l.94 2.06.94-2.06 2.06-.94-2.06-.94-.94-2.06-.94 2.06-2.06.94zm-11 1L8.5 8.5l.94-2.06 2.06-.94-2.06-.94L8.5 2.5l-.94 2.06-2.06.94zm10 10l.94 2.06.94-2.06 2.06-.94-2.06-.94-.94-2.06-.94 2.06-2.06.94z\"/><path d=\"M17.41 7.96l-1.37-1.37c-.4-.4-.92-.59-1.43-.59-.52 0-1.04.2-1.43.59L10.3 9.45l-7.72 7.72c-.78.78-.78 2.05 0 2.83L4 21.41c.39.39.9.59 1.41.59.51 0 1.02-.2 1.41-.59l7.78-7.78 2.81-2.81c.8-.78.8-2.07 0-2.86zM5.41 20L4 18.59l7.72-7.72 1.47 1.35L5.41 20z\"/>\n",
              "  </svg>\n",
              "      </button>\n",
              "      \n",
              "  <style>\n",
              "    .colab-df-container {\n",
              "      display:flex;\n",
              "      flex-wrap:wrap;\n",
              "      gap: 12px;\n",
              "    }\n",
              "\n",
              "    .colab-df-convert {\n",
              "      background-color: #E8F0FE;\n",
              "      border: none;\n",
              "      border-radius: 50%;\n",
              "      cursor: pointer;\n",
              "      display: none;\n",
              "      fill: #1967D2;\n",
              "      height: 32px;\n",
              "      padding: 0 0 0 0;\n",
              "      width: 32px;\n",
              "    }\n",
              "\n",
              "    .colab-df-convert:hover {\n",
              "      background-color: #E2EBFA;\n",
              "      box-shadow: 0px 1px 2px rgba(60, 64, 67, 0.3), 0px 1px 3px 1px rgba(60, 64, 67, 0.15);\n",
              "      fill: #174EA6;\n",
              "    }\n",
              "\n",
              "    [theme=dark] .colab-df-convert {\n",
              "      background-color: #3B4455;\n",
              "      fill: #D2E3FC;\n",
              "    }\n",
              "\n",
              "    [theme=dark] .colab-df-convert:hover {\n",
              "      background-color: #434B5C;\n",
              "      box-shadow: 0px 1px 3px 1px rgba(0, 0, 0, 0.15);\n",
              "      filter: drop-shadow(0px 1px 2px rgba(0, 0, 0, 0.3));\n",
              "      fill: #FFFFFF;\n",
              "    }\n",
              "  </style>\n",
              "\n",
              "      <script>\n",
              "        const buttonEl =\n",
              "          document.querySelector('#df-5761d98e-5205-40c4-8873-5ebfe863e54f button.colab-df-convert');\n",
              "        buttonEl.style.display =\n",
              "          google.colab.kernel.accessAllowed ? 'block' : 'none';\n",
              "\n",
              "        async function convertToInteractive(key) {\n",
              "          const element = document.querySelector('#df-5761d98e-5205-40c4-8873-5ebfe863e54f');\n",
              "          const dataTable =\n",
              "            await google.colab.kernel.invokeFunction('convertToInteractive',\n",
              "                                                     [key], {});\n",
              "          if (!dataTable) return;\n",
              "\n",
              "          const docLinkHtml = 'Like what you see? Visit the ' +\n",
              "            '<a target=\"_blank\" href=https://colab.research.google.com/notebooks/data_table.ipynb>data table notebook</a>'\n",
              "            + ' to learn more about interactive tables.';\n",
              "          element.innerHTML = '';\n",
              "          dataTable['output_type'] = 'display_data';\n",
              "          await google.colab.output.renderOutput(dataTable, element);\n",
              "          const docLink = document.createElement('div');\n",
              "          docLink.innerHTML = docLinkHtml;\n",
              "          element.appendChild(docLink);\n",
              "        }\n",
              "      </script>\n",
              "    </div>\n",
              "  </div>\n",
              "  "
            ],
            "text/plain": [
              "   mean_fit_time  mean_score_time\n",
              "4      35.977067          1.85747"
            ]
          },
          "metadata": {},
          "output_type": "display_data"
        }
      ],
      "source": [
        "params_names = ['n_resources', 'param_model__max_depth', 'param_model__min_child_samples', 'param_model__num_leaves',\n",
        "                'param_model__learning_rate']\n",
        "\n",
        "res = pd.DataFrame(lgbm_grid.cv_results_)[['mean_fit_time', 'mean_score_time', 'mean_test_score', *params_names]]\n",
        "best_res = res[res.mean_test_score == res.mean_test_score.max()]\n",
        "\n",
        "print('Лучшая модель')\n",
        "print('F1:', float(best_res['mean_test_score']))\n",
        "display('Гиперпараметры:', best_res[params_names])\n",
        "display('Время обучения и время предсказания:', best_res[['mean_fit_time', 'mean_score_time']])"
      ]
    },
    {
      "attachments": {},
      "cell_type": "markdown",
      "metadata": {
        "id": "hm5bKO0czYya"
      },
      "source": [
        "Градиентный бустинг выдаёт высокое качество (0.71), но при этом обучается дольше (36 сек.).\n",
        "\n",
        "Сравним обученные модели по метрике качества, времени обучения и предсказания."
      ]
    },
    {
      "attachments": {},
      "cell_type": "markdown",
      "metadata": {
        "id": "cvLa_rDXyCmI"
      },
      "source": [
        "|Модель                        |F1-мера|Время обучения (сек.)|Время предсказания (сек.)|\n",
        "|------------------------------|-------|---------------------|-------------------------|\n",
        "|Линейная регрессия            |0.72   |6                    |0.71                     |\n",
        "|Решающее дерево               |0.57   |8                    |0.7                      |\n",
        "|Случайный лес                 |0.45   |7.3                  |0.95                     |\n",
        "|Градиентный бустинг (LightGBM)|0.71   |36                   |1.85                     |"
      ]
    },
    {
      "attachments": {},
      "cell_type": "markdown",
      "metadata": {},
      "source": [
        "### 2.5. <a id='toc2_5_'></a>[Тестирование модели](#toc0_)"
      ]
    },
    {
      "attachments": {},
      "cell_type": "markdown",
      "metadata": {
        "id": "uqR2GwV2zYyb"
      },
      "source": [
        "Лучше всего себя показала модель логистической регрессии. Проверим теперь её качество, обучив на всем трейне и измерив значение F1-меры на тестовой выборке."
      ]
    },
    {
      "cell_type": "code",
      "execution_count": null,
      "metadata": {
        "id": "X4GsiKmezYyc",
        "outputId": "aa941b4a-b887-4c74-d8d0-5d3eb27ebaa4",
        "scrolled": true
      },
      "outputs": [
        {
          "name": "stdout",
          "output_type": "stream",
          "text": [
            "F1-мера на тестовой выборке: 0.7693150684931507\n"
          ]
        }
      ],
      "source": [
        "model = make_pipeline(\n",
        "    TfidfVectorizer(stop_words=stopwords),\n",
        "    LogisticRegression(solver='liblinear', C=3.5, max_iter=50, penalty='l1', random_state=342))\n",
        "model.fit(features_train, target_train)\n",
        "predictions = model.predict(features_test)\n",
        "print('F1-мера на тестовой выборке:', f1_score(target_test, predictions))"
      ]
    },
    {
      "attachments": {},
      "cell_type": "markdown",
      "metadata": {
        "id": "405fK8UEzYyd"
      },
      "source": [
        "**Вывод по разделу 2:**\n",
        "- Обучены несколько моделей: логистическая регрессия, решающее дерево, случайный лес\n",
        "- Выбрана лучшая модель: логистическая регрессия со следующими гиперпараметрами: *solver='liblinear', C=3.5, max_iter=50, penalty='l1'.*\n",
        "- Качество модели проверено на тестовой выборке (значение F1-меры: 0.769)"
      ]
    },
    {
      "attachments": {},
      "cell_type": "markdown",
      "metadata": {},
      "source": [
        "## 3. <a id='toc3_'></a>[Выводы](#toc0_)"
      ]
    },
    {
      "attachments": {},
      "cell_type": "markdown",
      "metadata": {
        "id": "4A3ICHOlzYye"
      },
      "source": [
        "- Данные загружены, для борьбы с дисбалансом классов применена техника SMOTE.\n",
        "- Корпус текстов очищен от лишних символов, проведена лемматизация, в качестве признаков модели взяты значения TF-IDF.\n",
        "- Обучены несколько моделей: логистическая регрессия, решающее дерево, случайный лес, градиентный бустинг.\n",
        "- Выбрана лучшая модель: логистическая регрессия.\n",
        "- Качество модели проверено на тестовой выборке: значение F1-меры: 0.769."
      ]
    },
    {
      "attachments": {},
      "cell_type": "markdown",
      "metadata": {},
      "source": [
        "## 4. <a id='toc4_'></a>[Чек-лист проверки](#toc0_)"
      ]
    },
    {
      "attachments": {},
      "cell_type": "markdown",
      "metadata": {
        "id": "FYfgzdn8zYyf"
      },
      "source": [
        "- [x]  Jupyter Notebook открыт\n",
        "- [x]  Весь код выполняется без ошибок\n",
        "- [x]  Ячейки с кодом расположены в порядке исполнения\n",
        "- [x]  Данные загружены и подготовлены\n",
        "- [x]  Модели обучены\n",
        "- [x]  Значение метрики *F1* не меньше 0.75\n",
        "- [x]  Выводы написаны"
      ]
    }
  ],
  "metadata": {
    "ExecuteTimeLog": [
      {
        "duration": 408,
        "start_time": "2023-03-05T13:16:18.463Z"
      },
      {
        "duration": 96,
        "start_time": "2023-03-05T13:17:01.587Z"
      },
      {
        "duration": 3304,
        "start_time": "2023-03-05T13:17:14.902Z"
      },
      {
        "duration": 15,
        "start_time": "2023-03-05T13:17:27.955Z"
      },
      {
        "duration": 29,
        "start_time": "2023-03-05T13:17:43.787Z"
      },
      {
        "duration": 672,
        "start_time": "2023-03-05T13:19:19.480Z"
      },
      {
        "duration": 6,
        "start_time": "2023-03-05T13:19:20.825Z"
      },
      {
        "duration": 29,
        "start_time": "2023-03-05T13:19:22.010Z"
      },
      {
        "duration": 4,
        "start_time": "2023-03-05T13:19:54.829Z"
      },
      {
        "duration": 696,
        "start_time": "2023-03-05T13:20:16.962Z"
      },
      {
        "duration": 7,
        "start_time": "2023-03-05T13:20:17.660Z"
      },
      {
        "duration": 28,
        "start_time": "2023-03-05T13:20:23.425Z"
      },
      {
        "duration": 669,
        "start_time": "2023-03-05T13:21:26.483Z"
      },
      {
        "duration": 6,
        "start_time": "2023-03-05T13:21:27.213Z"
      },
      {
        "duration": 29,
        "start_time": "2023-03-05T13:21:28.072Z"
      },
      {
        "duration": 67,
        "start_time": "2023-03-05T13:23:20.568Z"
      },
      {
        "duration": 4,
        "start_time": "2023-03-05T13:24:20.564Z"
      },
      {
        "duration": 3,
        "start_time": "2023-03-05T13:24:28.422Z"
      },
      {
        "duration": 414,
        "start_time": "2023-03-07T09:57:34.768Z"
      },
      {
        "duration": 3242,
        "start_time": "2023-03-07T09:57:35.184Z"
      },
      {
        "duration": 13,
        "start_time": "2023-03-07T09:57:38.428Z"
      },
      {
        "duration": 25,
        "start_time": "2023-03-07T09:57:38.443Z"
      },
      {
        "duration": 1240,
        "start_time": "2023-03-07T09:58:35.955Z"
      },
      {
        "duration": 558,
        "start_time": "2023-03-07T09:58:46.301Z"
      },
      {
        "duration": 1253,
        "start_time": "2023-03-07T09:58:50.218Z"
      },
      {
        "duration": 6,
        "start_time": "2023-03-07T09:58:59.376Z"
      },
      {
        "duration": 9,
        "start_time": "2023-03-07T09:59:08.097Z"
      },
      {
        "duration": 3,
        "start_time": "2023-03-07T09:59:16.031Z"
      },
      {
        "duration": 4,
        "start_time": "2023-03-07T09:59:37.818Z"
      },
      {
        "duration": 4,
        "start_time": "2023-03-07T09:59:48.677Z"
      },
      {
        "duration": 3,
        "start_time": "2023-03-07T10:05:53.218Z"
      },
      {
        "duration": 4,
        "start_time": "2023-03-07T10:05:59.119Z"
      },
      {
        "duration": 3,
        "start_time": "2023-03-07T10:06:09.420Z"
      },
      {
        "duration": 4,
        "start_time": "2023-03-07T10:06:21.310Z"
      },
      {
        "duration": 635,
        "start_time": "2023-03-07T10:07:28.997Z"
      },
      {
        "duration": 3,
        "start_time": "2023-03-07T10:08:06.078Z"
      },
      {
        "duration": 4,
        "start_time": "2023-03-07T10:08:19.528Z"
      },
      {
        "duration": 1086,
        "start_time": "2023-03-07T10:09:32.020Z"
      },
      {
        "duration": 872,
        "start_time": "2023-03-07T10:09:33.107Z"
      },
      {
        "duration": 14,
        "start_time": "2023-03-07T10:09:33.980Z"
      },
      {
        "duration": 24,
        "start_time": "2023-03-07T10:09:33.995Z"
      },
      {
        "duration": 7,
        "start_time": "2023-03-07T10:09:34.021Z"
      },
      {
        "duration": 25,
        "start_time": "2023-03-07T10:09:34.030Z"
      },
      {
        "duration": 24,
        "start_time": "2023-03-07T10:10:51.282Z"
      },
      {
        "duration": 3,
        "start_time": "2023-03-07T10:11:12.218Z"
      },
      {
        "duration": 1294,
        "start_time": "2023-03-07T10:11:33.932Z"
      },
      {
        "duration": 4,
        "start_time": "2023-03-07T10:11:44.101Z"
      },
      {
        "duration": 565,
        "start_time": "2023-03-07T10:13:27.590Z"
      },
      {
        "duration": 124,
        "start_time": "2023-03-07T10:13:33.848Z"
      },
      {
        "duration": 20,
        "start_time": "2023-03-07T10:13:52.626Z"
      },
      {
        "duration": 9,
        "start_time": "2023-03-07T10:13:59.842Z"
      },
      {
        "duration": 9,
        "start_time": "2023-03-07T10:14:03.440Z"
      },
      {
        "duration": 9,
        "start_time": "2023-03-07T10:14:09.983Z"
      },
      {
        "duration": 7,
        "start_time": "2023-03-07T10:14:34.120Z"
      },
      {
        "duration": 4,
        "start_time": "2023-03-07T10:14:49.189Z"
      },
      {
        "duration": 242,
        "start_time": "2023-03-07T10:16:26.322Z"
      },
      {
        "duration": 6,
        "start_time": "2023-03-07T10:16:35.729Z"
      },
      {
        "duration": 3,
        "start_time": "2023-03-07T10:30:14.182Z"
      },
      {
        "duration": 4,
        "start_time": "2023-03-07T10:30:50.915Z"
      },
      {
        "duration": 1182,
        "start_time": "2023-03-07T10:40:08.531Z"
      },
      {
        "duration": 896,
        "start_time": "2023-03-07T10:40:09.715Z"
      },
      {
        "duration": 13,
        "start_time": "2023-03-07T10:40:10.613Z"
      },
      {
        "duration": 38,
        "start_time": "2023-03-07T10:40:10.628Z"
      },
      {
        "duration": 9,
        "start_time": "2023-03-07T10:40:10.667Z"
      },
      {
        "duration": 3,
        "start_time": "2023-03-07T10:40:10.678Z"
      },
      {
        "duration": 27,
        "start_time": "2023-03-07T10:40:10.682Z"
      },
      {
        "duration": 4,
        "start_time": "2023-03-07T10:40:10.711Z"
      },
      {
        "duration": 3,
        "start_time": "2023-03-07T10:40:10.717Z"
      },
      {
        "duration": 4,
        "start_time": "2023-03-07T10:41:58.601Z"
      },
      {
        "duration": 60,
        "start_time": "2023-03-07T10:43:14.816Z"
      },
      {
        "duration": 9,
        "start_time": "2023-03-07T10:43:38.148Z"
      },
      {
        "duration": 23,
        "start_time": "2023-03-07T11:04:41.601Z"
      },
      {
        "duration": 80,
        "start_time": "2023-03-07T11:08:03.372Z"
      },
      {
        "duration": 3,
        "start_time": "2023-03-07T11:13:20.915Z"
      },
      {
        "duration": 4,
        "start_time": "2023-03-07T11:41:41.550Z"
      },
      {
        "duration": 808,
        "start_time": "2023-03-07T11:46:59.486Z"
      },
      {
        "duration": 710,
        "start_time": "2023-03-07T11:48:07.695Z"
      },
      {
        "duration": 5,
        "start_time": "2023-03-07T11:48:34.150Z"
      },
      {
        "duration": 666,
        "start_time": "2023-03-07T11:49:05.884Z"
      },
      {
        "duration": 706,
        "start_time": "2023-03-07T11:49:49.314Z"
      },
      {
        "duration": 695,
        "start_time": "2023-03-07T11:51:49.493Z"
      },
      {
        "duration": 718,
        "start_time": "2023-03-07T11:52:08.333Z"
      },
      {
        "duration": 739,
        "start_time": "2023-03-07T11:52:15.273Z"
      },
      {
        "duration": 52,
        "start_time": "2023-03-07T11:53:55.970Z"
      },
      {
        "duration": 4,
        "start_time": "2023-03-07T11:54:45.574Z"
      },
      {
        "duration": 4,
        "start_time": "2023-03-07T11:54:57.830Z"
      },
      {
        "duration": 679,
        "start_time": "2023-03-07T11:55:32.587Z"
      },
      {
        "duration": 6,
        "start_time": "2023-03-07T12:00:42.537Z"
      },
      {
        "duration": 728,
        "start_time": "2023-03-07T12:01:07.105Z"
      },
      {
        "duration": 686,
        "start_time": "2023-03-07T12:01:22.033Z"
      },
      {
        "duration": 738,
        "start_time": "2023-03-07T12:01:39.730Z"
      },
      {
        "duration": 804,
        "start_time": "2023-03-07T12:01:51.174Z"
      },
      {
        "duration": 770,
        "start_time": "2023-03-07T12:02:02.185Z"
      },
      {
        "duration": 709,
        "start_time": "2023-03-07T12:02:26.022Z"
      },
      {
        "duration": 5,
        "start_time": "2023-03-07T12:10:27.301Z"
      },
      {
        "duration": 1116,
        "start_time": "2023-03-07T12:14:32.439Z"
      },
      {
        "duration": 3352,
        "start_time": "2023-03-07T12:14:33.558Z"
      },
      {
        "duration": 13,
        "start_time": "2023-03-07T12:14:36.912Z"
      },
      {
        "duration": 22,
        "start_time": "2023-03-07T12:14:36.927Z"
      },
      {
        "duration": 10,
        "start_time": "2023-03-07T12:14:36.951Z"
      },
      {
        "duration": 748,
        "start_time": "2023-03-07T12:14:36.963Z"
      },
      {
        "duration": 3,
        "start_time": "2023-03-07T12:14:37.714Z"
      },
      {
        "duration": 58,
        "start_time": "2023-03-07T12:14:37.719Z"
      },
      {
        "duration": 7,
        "start_time": "2023-03-07T12:14:37.779Z"
      },
      {
        "duration": 3,
        "start_time": "2023-03-07T12:14:37.789Z"
      },
      {
        "duration": 74,
        "start_time": "2023-03-07T12:14:37.794Z"
      },
      {
        "duration": 6,
        "start_time": "2023-03-07T12:14:37.869Z"
      },
      {
        "duration": 4,
        "start_time": "2023-03-07T12:14:37.876Z"
      },
      {
        "duration": 874,
        "start_time": "2023-03-07T12:14:37.882Z"
      },
      {
        "duration": 979,
        "start_time": "2023-03-07T12:14:52.263Z"
      },
      {
        "duration": 2987,
        "start_time": "2023-03-07T12:15:01.902Z"
      },
      {
        "duration": 2970,
        "start_time": "2023-03-07T12:15:19.182Z"
      },
      {
        "duration": 24031,
        "start_time": "2023-03-07T12:15:26.836Z"
      },
      {
        "duration": 1130,
        "start_time": "2023-03-07T13:59:40.008Z"
      },
      {
        "duration": 2608,
        "start_time": "2023-03-07T13:59:41.140Z"
      },
      {
        "duration": 14,
        "start_time": "2023-03-07T13:59:43.750Z"
      },
      {
        "duration": 32,
        "start_time": "2023-03-07T13:59:43.766Z"
      },
      {
        "duration": 3,
        "start_time": "2023-03-07T13:59:43.800Z"
      },
      {
        "duration": 36,
        "start_time": "2023-03-07T13:59:43.805Z"
      },
      {
        "duration": 7,
        "start_time": "2023-03-07T13:59:43.842Z"
      },
      {
        "duration": 26,
        "start_time": "2023-03-07T13:59:43.850Z"
      },
      {
        "duration": 71,
        "start_time": "2023-03-07T13:59:43.878Z"
      },
      {
        "duration": 7,
        "start_time": "2023-03-07T13:59:43.951Z"
      },
      {
        "duration": 31,
        "start_time": "2023-03-07T13:59:43.959Z"
      },
      {
        "duration": 55,
        "start_time": "2023-03-07T14:02:50.774Z"
      },
      {
        "duration": 4,
        "start_time": "2023-03-07T14:02:54.519Z"
      },
      {
        "duration": 6,
        "start_time": "2023-03-07T14:02:55.094Z"
      },
      {
        "duration": 1259,
        "start_time": "2023-03-07T14:03:03.384Z"
      },
      {
        "duration": 2376,
        "start_time": "2023-03-07T14:03:04.646Z"
      },
      {
        "duration": 14,
        "start_time": "2023-03-07T14:03:07.024Z"
      },
      {
        "duration": 31,
        "start_time": "2023-03-07T14:03:07.039Z"
      },
      {
        "duration": 6,
        "start_time": "2023-03-07T14:03:07.072Z"
      },
      {
        "duration": 36,
        "start_time": "2023-03-07T14:03:07.080Z"
      },
      {
        "duration": 5,
        "start_time": "2023-03-07T14:03:07.118Z"
      },
      {
        "duration": 4,
        "start_time": "2023-03-07T14:03:07.125Z"
      },
      {
        "duration": 94,
        "start_time": "2023-03-07T14:03:07.130Z"
      },
      {
        "duration": 6,
        "start_time": "2023-03-07T14:03:07.226Z"
      },
      {
        "duration": 4,
        "start_time": "2023-03-07T14:03:07.233Z"
      },
      {
        "duration": 326,
        "start_time": "2023-03-07T14:03:07.239Z"
      },
      {
        "duration": 3,
        "start_time": "2023-03-07T14:03:29.928Z"
      },
      {
        "duration": 1198,
        "start_time": "2023-03-07T14:13:03.580Z"
      },
      {
        "duration": 0,
        "start_time": "2023-03-07T14:13:04.781Z"
      },
      {
        "duration": 0,
        "start_time": "2023-03-07T14:13:04.782Z"
      },
      {
        "duration": 0,
        "start_time": "2023-03-07T14:13:04.784Z"
      },
      {
        "duration": 0,
        "start_time": "2023-03-07T14:13:04.785Z"
      },
      {
        "duration": 0,
        "start_time": "2023-03-07T14:13:04.786Z"
      },
      {
        "duration": 0,
        "start_time": "2023-03-07T14:13:04.787Z"
      },
      {
        "duration": 0,
        "start_time": "2023-03-07T14:13:04.788Z"
      },
      {
        "duration": 0,
        "start_time": "2023-03-07T14:13:04.790Z"
      },
      {
        "duration": 0,
        "start_time": "2023-03-07T14:13:04.791Z"
      },
      {
        "duration": 0,
        "start_time": "2023-03-07T14:13:04.791Z"
      },
      {
        "duration": 0,
        "start_time": "2023-03-07T14:13:04.792Z"
      },
      {
        "duration": 0,
        "start_time": "2023-03-07T14:13:04.794Z"
      },
      {
        "duration": 0,
        "start_time": "2023-03-07T14:13:04.795Z"
      },
      {
        "duration": 0,
        "start_time": "2023-03-07T14:13:04.796Z"
      },
      {
        "duration": 22,
        "start_time": "2023-03-07T14:13:15.141Z"
      },
      {
        "duration": 1078,
        "start_time": "2023-03-07T14:13:19.937Z"
      },
      {
        "duration": 915,
        "start_time": "2023-03-07T14:13:21.018Z"
      },
      {
        "duration": 14,
        "start_time": "2023-03-07T14:13:21.935Z"
      },
      {
        "duration": 46,
        "start_time": "2023-03-07T14:13:21.951Z"
      },
      {
        "duration": 7,
        "start_time": "2023-03-07T14:13:21.999Z"
      },
      {
        "duration": 42,
        "start_time": "2023-03-07T14:13:22.008Z"
      },
      {
        "duration": 8,
        "start_time": "2023-03-07T14:13:22.052Z"
      },
      {
        "duration": 26,
        "start_time": "2023-03-07T14:13:22.062Z"
      },
      {
        "duration": 88,
        "start_time": "2023-03-07T14:13:22.089Z"
      },
      {
        "duration": 7,
        "start_time": "2023-03-07T14:13:22.180Z"
      },
      {
        "duration": 6,
        "start_time": "2023-03-07T14:13:22.189Z"
      },
      {
        "duration": 1187,
        "start_time": "2023-03-07T14:17:01.979Z"
      },
      {
        "duration": 987,
        "start_time": "2023-03-07T14:17:03.169Z"
      },
      {
        "duration": 25,
        "start_time": "2023-03-07T14:17:04.159Z"
      },
      {
        "duration": 74,
        "start_time": "2023-03-07T14:17:04.187Z"
      },
      {
        "duration": 32,
        "start_time": "2023-03-07T14:17:04.263Z"
      },
      {
        "duration": 86,
        "start_time": "2023-03-07T14:17:04.298Z"
      },
      {
        "duration": 5,
        "start_time": "2023-03-07T14:17:04.386Z"
      },
      {
        "duration": 136,
        "start_time": "2023-03-07T14:17:04.393Z"
      },
      {
        "duration": 0,
        "start_time": "2023-03-07T14:17:04.531Z"
      },
      {
        "duration": 0,
        "start_time": "2023-03-07T14:17:04.533Z"
      },
      {
        "duration": 0,
        "start_time": "2023-03-07T14:17:04.534Z"
      },
      {
        "duration": 0,
        "start_time": "2023-03-07T14:17:04.535Z"
      },
      {
        "duration": 0,
        "start_time": "2023-03-07T14:17:04.536Z"
      },
      {
        "duration": 0,
        "start_time": "2023-03-07T14:17:04.537Z"
      },
      {
        "duration": 0,
        "start_time": "2023-03-07T14:17:04.538Z"
      },
      {
        "duration": 0,
        "start_time": "2023-03-07T14:17:04.539Z"
      },
      {
        "duration": 1181,
        "start_time": "2023-03-07T14:17:35.847Z"
      },
      {
        "duration": 943,
        "start_time": "2023-03-07T14:17:37.030Z"
      },
      {
        "duration": 15,
        "start_time": "2023-03-07T14:17:37.975Z"
      },
      {
        "duration": 46,
        "start_time": "2023-03-07T14:17:37.993Z"
      },
      {
        "duration": 3,
        "start_time": "2023-03-07T14:17:38.041Z"
      },
      {
        "duration": 47,
        "start_time": "2023-03-07T14:17:38.046Z"
      },
      {
        "duration": 4,
        "start_time": "2023-03-07T14:17:38.095Z"
      },
      {
        "duration": 1188,
        "start_time": "2023-03-07T14:22:05.976Z"
      },
      {
        "duration": 955,
        "start_time": "2023-03-07T14:22:07.166Z"
      },
      {
        "duration": 13,
        "start_time": "2023-03-07T14:22:08.122Z"
      },
      {
        "duration": 48,
        "start_time": "2023-03-07T14:22:08.136Z"
      },
      {
        "duration": 3,
        "start_time": "2023-03-07T14:22:08.187Z"
      },
      {
        "duration": 55,
        "start_time": "2023-03-07T14:22:08.192Z"
      },
      {
        "duration": 4,
        "start_time": "2023-03-07T14:22:08.248Z"
      },
      {
        "duration": 5728,
        "start_time": "2023-03-07T14:22:08.254Z"
      },
      {
        "duration": 0,
        "start_time": "2023-03-07T14:22:13.984Z"
      },
      {
        "duration": 0,
        "start_time": "2023-03-07T14:22:13.985Z"
      },
      {
        "duration": 0,
        "start_time": "2023-03-07T14:22:13.986Z"
      },
      {
        "duration": 0,
        "start_time": "2023-03-07T14:22:13.987Z"
      },
      {
        "duration": 0,
        "start_time": "2023-03-07T14:22:13.989Z"
      },
      {
        "duration": 0,
        "start_time": "2023-03-07T14:22:13.990Z"
      },
      {
        "duration": 0,
        "start_time": "2023-03-07T14:22:13.991Z"
      },
      {
        "duration": 0,
        "start_time": "2023-03-07T14:22:13.992Z"
      },
      {
        "duration": 65533,
        "start_time": "2023-03-07T14:23:15.402Z"
      },
      {
        "duration": 1138,
        "start_time": "2023-03-07T14:25:39.950Z"
      },
      {
        "duration": 953,
        "start_time": "2023-03-07T14:25:41.089Z"
      },
      {
        "duration": 13,
        "start_time": "2023-03-07T14:25:42.044Z"
      },
      {
        "duration": 64,
        "start_time": "2023-03-07T14:25:42.059Z"
      },
      {
        "duration": 18,
        "start_time": "2023-03-07T14:25:42.125Z"
      },
      {
        "duration": 71,
        "start_time": "2023-03-07T14:25:42.145Z"
      },
      {
        "duration": 119,
        "start_time": "2023-03-07T14:25:42.218Z"
      },
      {
        "duration": 0,
        "start_time": "2023-03-07T14:25:42.339Z"
      },
      {
        "duration": 0,
        "start_time": "2023-03-07T14:25:42.341Z"
      },
      {
        "duration": 0,
        "start_time": "2023-03-07T14:25:42.342Z"
      },
      {
        "duration": 0,
        "start_time": "2023-03-07T14:25:42.344Z"
      },
      {
        "duration": 0,
        "start_time": "2023-03-07T14:25:42.345Z"
      },
      {
        "duration": 0,
        "start_time": "2023-03-07T14:25:42.346Z"
      },
      {
        "duration": 0,
        "start_time": "2023-03-07T14:25:42.348Z"
      },
      {
        "duration": 0,
        "start_time": "2023-03-07T14:25:42.349Z"
      },
      {
        "duration": 0,
        "start_time": "2023-03-07T14:25:42.350Z"
      },
      {
        "duration": 0,
        "start_time": "2023-03-07T14:25:42.377Z"
      },
      {
        "duration": 4,
        "start_time": "2023-03-07T14:25:50.318Z"
      },
      {
        "duration": 31338,
        "start_time": "2023-03-07T14:25:52.526Z"
      },
      {
        "duration": 1159,
        "start_time": "2023-03-07T14:26:45.723Z"
      },
      {
        "duration": 937,
        "start_time": "2023-03-07T14:26:46.884Z"
      },
      {
        "duration": 14,
        "start_time": "2023-03-07T14:26:47.822Z"
      },
      {
        "duration": 54,
        "start_time": "2023-03-07T14:26:47.838Z"
      },
      {
        "duration": 17,
        "start_time": "2023-03-07T14:26:47.893Z"
      },
      {
        "duration": 71,
        "start_time": "2023-03-07T14:26:47.912Z"
      },
      {
        "duration": 76148,
        "start_time": "2023-03-07T14:26:47.986Z"
      },
      {
        "duration": 4,
        "start_time": "2023-03-07T14:28:04.137Z"
      },
      {
        "duration": 97397,
        "start_time": "2023-03-07T14:28:04.143Z"
      },
      {
        "duration": 0,
        "start_time": "2023-03-07T14:29:41.543Z"
      },
      {
        "duration": 0,
        "start_time": "2023-03-07T14:29:41.544Z"
      },
      {
        "duration": 0,
        "start_time": "2023-03-07T14:29:41.545Z"
      },
      {
        "duration": 0,
        "start_time": "2023-03-07T14:29:41.547Z"
      },
      {
        "duration": 0,
        "start_time": "2023-03-07T14:29:41.548Z"
      },
      {
        "duration": 0,
        "start_time": "2023-03-07T14:29:41.549Z"
      },
      {
        "duration": 0,
        "start_time": "2023-03-07T14:29:41.550Z"
      },
      {
        "duration": 0,
        "start_time": "2023-03-07T14:29:41.552Z"
      },
      {
        "duration": 45,
        "start_time": "2023-03-07T14:30:36.679Z"
      },
      {
        "duration": 29,
        "start_time": "2023-03-07T14:31:03.409Z"
      },
      {
        "duration": 1138,
        "start_time": "2023-03-07T14:31:14.137Z"
      },
      {
        "duration": 940,
        "start_time": "2023-03-07T14:31:15.278Z"
      },
      {
        "duration": 17,
        "start_time": "2023-03-07T14:31:16.220Z"
      },
      {
        "duration": 46,
        "start_time": "2023-03-07T14:31:16.239Z"
      },
      {
        "duration": 25,
        "start_time": "2023-03-07T14:31:16.287Z"
      },
      {
        "duration": 6,
        "start_time": "2023-03-07T14:31:16.314Z"
      },
      {
        "duration": 16,
        "start_time": "2023-03-07T14:31:16.321Z"
      },
      {
        "duration": 4,
        "start_time": "2023-03-07T14:31:16.339Z"
      },
      {
        "duration": 16301,
        "start_time": "2023-03-07T14:31:16.345Z"
      },
      {
        "duration": 0,
        "start_time": "2023-03-07T14:31:32.649Z"
      },
      {
        "duration": 0,
        "start_time": "2023-03-07T14:31:32.651Z"
      },
      {
        "duration": 0,
        "start_time": "2023-03-07T14:31:32.653Z"
      },
      {
        "duration": 0,
        "start_time": "2023-03-07T14:31:32.654Z"
      },
      {
        "duration": 0,
        "start_time": "2023-03-07T14:31:32.656Z"
      },
      {
        "duration": 0,
        "start_time": "2023-03-07T14:31:32.658Z"
      },
      {
        "duration": 0,
        "start_time": "2023-03-07T14:31:32.659Z"
      },
      {
        "duration": 0,
        "start_time": "2023-03-07T14:31:32.660Z"
      },
      {
        "duration": 1201,
        "start_time": "2023-03-07T14:31:50.484Z"
      },
      {
        "duration": 998,
        "start_time": "2023-03-07T14:31:51.687Z"
      },
      {
        "duration": 18,
        "start_time": "2023-03-07T14:31:52.688Z"
      },
      {
        "duration": 59,
        "start_time": "2023-03-07T14:31:52.709Z"
      },
      {
        "duration": 24,
        "start_time": "2023-03-07T14:31:52.770Z"
      },
      {
        "duration": 10,
        "start_time": "2023-03-07T14:31:52.796Z"
      },
      {
        "duration": 41,
        "start_time": "2023-03-07T14:31:52.808Z"
      },
      {
        "duration": 7,
        "start_time": "2023-03-07T14:31:52.851Z"
      },
      {
        "duration": 164065,
        "start_time": "2023-03-07T14:31:52.860Z"
      },
      {
        "duration": 0,
        "start_time": "2023-03-07T14:34:36.927Z"
      },
      {
        "duration": 0,
        "start_time": "2023-03-07T14:34:36.928Z"
      },
      {
        "duration": 0,
        "start_time": "2023-03-07T14:34:36.930Z"
      },
      {
        "duration": 0,
        "start_time": "2023-03-07T14:34:36.931Z"
      },
      {
        "duration": 0,
        "start_time": "2023-03-07T14:34:36.933Z"
      },
      {
        "duration": 0,
        "start_time": "2023-03-07T14:34:36.934Z"
      },
      {
        "duration": 0,
        "start_time": "2023-03-07T14:34:36.935Z"
      },
      {
        "duration": 0,
        "start_time": "2023-03-07T14:34:36.936Z"
      },
      {
        "duration": 1172,
        "start_time": "2023-03-07T14:34:53.977Z"
      },
      {
        "duration": 996,
        "start_time": "2023-03-07T14:34:55.152Z"
      },
      {
        "duration": 15,
        "start_time": "2023-03-07T14:34:56.150Z"
      },
      {
        "duration": 35,
        "start_time": "2023-03-07T14:34:56.178Z"
      },
      {
        "duration": 29,
        "start_time": "2023-03-07T14:34:56.215Z"
      },
      {
        "duration": 3,
        "start_time": "2023-03-07T14:34:56.246Z"
      },
      {
        "duration": 33,
        "start_time": "2023-03-07T14:34:56.251Z"
      },
      {
        "duration": 13,
        "start_time": "2023-03-07T14:34:56.286Z"
      },
      {
        "duration": 175880,
        "start_time": "2023-03-07T14:34:56.301Z"
      },
      {
        "duration": 0,
        "start_time": "2023-03-07T14:37:52.183Z"
      },
      {
        "duration": 0,
        "start_time": "2023-03-07T14:37:52.186Z"
      },
      {
        "duration": 1243,
        "start_time": "2023-03-07T14:38:31.977Z"
      },
      {
        "duration": 936,
        "start_time": "2023-03-07T14:38:33.223Z"
      },
      {
        "duration": 20,
        "start_time": "2023-03-07T14:38:34.161Z"
      },
      {
        "duration": 38,
        "start_time": "2023-03-07T14:38:34.183Z"
      },
      {
        "duration": 31,
        "start_time": "2023-03-07T14:38:34.224Z"
      },
      {
        "duration": 16,
        "start_time": "2023-03-07T14:38:34.256Z"
      },
      {
        "duration": 41,
        "start_time": "2023-03-07T14:38:34.274Z"
      },
      {
        "duration": 19,
        "start_time": "2023-03-07T14:38:34.317Z"
      },
      {
        "duration": 6364822,
        "start_time": "2023-03-07T14:38:34.338Z"
      },
      {
        "duration": 0,
        "start_time": "2023-03-07T16:24:39.163Z"
      },
      {
        "duration": 0,
        "start_time": "2023-03-07T16:24:39.164Z"
      },
      {
        "duration": 0,
        "start_time": "2023-03-07T16:24:39.167Z"
      },
      {
        "duration": 0,
        "start_time": "2023-03-07T16:24:39.169Z"
      },
      {
        "duration": 2634,
        "start_time": "2023-03-07T16:24:52.658Z"
      },
      {
        "duration": 983,
        "start_time": "2023-03-07T16:24:56.507Z"
      },
      {
        "duration": 14,
        "start_time": "2023-03-07T16:24:57.493Z"
      },
      {
        "duration": 52,
        "start_time": "2023-03-07T16:24:57.509Z"
      },
      {
        "duration": 18,
        "start_time": "2023-03-07T16:25:03.254Z"
      },
      {
        "duration": 3,
        "start_time": "2023-03-07T16:25:03.763Z"
      },
      {
        "duration": 18,
        "start_time": "2023-03-07T16:25:04.332Z"
      },
      {
        "duration": 4,
        "start_time": "2023-03-07T16:25:05.358Z"
      },
      {
        "duration": 787463,
        "start_time": "2023-03-07T16:25:49.617Z"
      },
      {
        "duration": 5,
        "start_time": "2023-03-07T16:43:37.970Z"
      },
      {
        "duration": 7,
        "start_time": "2023-03-07T16:44:00.507Z"
      },
      {
        "duration": 16,
        "start_time": "2023-03-07T16:44:20.164Z"
      },
      {
        "duration": 1662,
        "start_time": "2023-03-07T16:44:32.270Z"
      },
      {
        "duration": 8,
        "start_time": "2023-03-07T16:44:50.472Z"
      },
      {
        "duration": 5,
        "start_time": "2023-03-07T16:44:59.242Z"
      },
      {
        "duration": 4,
        "start_time": "2023-03-07T16:45:31.030Z"
      },
      {
        "duration": 8,
        "start_time": "2023-03-07T16:45:37.872Z"
      },
      {
        "duration": 61,
        "start_time": "2023-03-07T16:49:15.350Z"
      },
      {
        "duration": 268,
        "start_time": "2023-03-07T16:49:19.759Z"
      },
      {
        "duration": 11,
        "start_time": "2023-03-07T16:49:48.291Z"
      },
      {
        "duration": 8,
        "start_time": "2023-03-07T16:50:25.692Z"
      },
      {
        "duration": 60,
        "start_time": "2023-03-07T16:50:38.307Z"
      },
      {
        "duration": 69,
        "start_time": "2023-03-07T16:52:35.450Z"
      },
      {
        "duration": 4,
        "start_time": "2023-03-07T16:52:45.295Z"
      },
      {
        "duration": 52,
        "start_time": "2023-03-07T17:01:29.124Z"
      },
      {
        "duration": 89,
        "start_time": "2023-03-07T17:01:29.454Z"
      },
      {
        "duration": 11,
        "start_time": "2023-03-07T17:01:41.993Z"
      },
      {
        "duration": 19,
        "start_time": "2023-03-07T17:01:49.971Z"
      },
      {
        "duration": 3,
        "start_time": "2023-03-07T17:02:45.592Z"
      },
      {
        "duration": 72,
        "start_time": "2023-03-07T17:02:46.524Z"
      },
      {
        "duration": 4,
        "start_time": "2023-03-07T17:03:54.016Z"
      },
      {
        "duration": 1429,
        "start_time": "2023-03-07T17:06:18.626Z"
      },
      {
        "duration": 1067,
        "start_time": "2023-03-07T17:06:21.554Z"
      },
      {
        "duration": 19,
        "start_time": "2023-03-07T17:06:22.624Z"
      },
      {
        "duration": 83,
        "start_time": "2023-03-07T17:06:22.646Z"
      },
      {
        "duration": 41,
        "start_time": "2023-03-07T17:06:22.732Z"
      },
      {
        "duration": 3,
        "start_time": "2023-03-07T17:06:23.544Z"
      },
      {
        "duration": 3,
        "start_time": "2023-03-07T17:06:24.054Z"
      },
      {
        "duration": 772985,
        "start_time": "2023-03-07T17:06:24.540Z"
      },
      {
        "duration": 142,
        "start_time": "2023-03-07T17:19:17.527Z"
      },
      {
        "duration": 65,
        "start_time": "2023-03-07T17:19:17.671Z"
      },
      {
        "duration": 4,
        "start_time": "2023-03-07T17:19:17.738Z"
      },
      {
        "duration": 175,
        "start_time": "2023-03-07T17:19:17.745Z"
      },
      {
        "duration": 12,
        "start_time": "2023-03-07T17:19:17.922Z"
      },
      {
        "duration": 1672,
        "start_time": "2023-03-07T17:30:12.077Z"
      },
      {
        "duration": 994,
        "start_time": "2023-03-07T17:30:13.751Z"
      },
      {
        "duration": 29,
        "start_time": "2023-03-07T17:30:14.748Z"
      },
      {
        "duration": 44,
        "start_time": "2023-03-07T17:30:14.781Z"
      },
      {
        "duration": 28,
        "start_time": "2023-03-07T17:30:14.827Z"
      },
      {
        "duration": 10,
        "start_time": "2023-03-07T17:30:14.858Z"
      },
      {
        "duration": 9,
        "start_time": "2023-03-07T17:30:14.870Z"
      },
      {
        "duration": 1322,
        "start_time": "2023-03-09T10:31:25.821Z"
      },
      {
        "duration": 3425,
        "start_time": "2023-03-09T10:31:28.683Z"
      },
      {
        "duration": 13,
        "start_time": "2023-03-09T10:31:32.110Z"
      },
      {
        "duration": 34,
        "start_time": "2023-03-09T10:31:32.125Z"
      },
      {
        "duration": 16,
        "start_time": "2023-03-09T10:31:32.161Z"
      },
      {
        "duration": 5,
        "start_time": "2023-03-09T10:31:32.179Z"
      },
      {
        "duration": 70,
        "start_time": "2023-03-09T10:31:36.642Z"
      },
      {
        "duration": 78,
        "start_time": "2023-03-09T10:32:04.919Z"
      },
      {
        "duration": 107,
        "start_time": "2023-03-09T10:32:21.116Z"
      },
      {
        "duration": 3,
        "start_time": "2023-03-09T10:33:28.476Z"
      },
      {
        "duration": 3,
        "start_time": "2023-03-09T10:33:38.717Z"
      },
      {
        "duration": 32,
        "start_time": "2023-03-09T10:33:44.506Z"
      },
      {
        "duration": 1435,
        "start_time": "2023-03-09T10:33:48.404Z"
      },
      {
        "duration": 3,
        "start_time": "2023-03-09T10:41:27.108Z"
      },
      {
        "duration": 9,
        "start_time": "2023-03-09T10:41:45.836Z"
      },
      {
        "duration": 3,
        "start_time": "2023-03-09T10:41:51.841Z"
      },
      {
        "duration": 6515,
        "start_time": "2023-03-09T10:41:54.644Z"
      },
      {
        "duration": 6472,
        "start_time": "2023-03-09T10:42:09.900Z"
      },
      {
        "duration": 6503,
        "start_time": "2023-03-09T10:42:31.035Z"
      },
      {
        "duration": 6470,
        "start_time": "2023-03-09T10:42:37.540Z"
      },
      {
        "duration": 6433,
        "start_time": "2023-03-09T10:43:06.305Z"
      },
      {
        "duration": 6647,
        "start_time": "2023-03-09T10:43:12.740Z"
      },
      {
        "duration": 185,
        "start_time": "2023-03-09T10:53:09.714Z"
      },
      {
        "duration": 6458,
        "start_time": "2023-03-09T10:53:18.074Z"
      },
      {
        "duration": 319,
        "start_time": "2023-03-09T10:57:53.491Z"
      },
      {
        "duration": 15,
        "start_time": "2023-03-09T10:58:48.709Z"
      },
      {
        "duration": 10,
        "start_time": "2023-03-09T10:59:16.853Z"
      },
      {
        "duration": 29,
        "start_time": "2023-03-09T10:59:33.805Z"
      },
      {
        "duration": 295,
        "start_time": "2023-03-09T10:59:52.232Z"
      },
      {
        "duration": 1318,
        "start_time": "2023-03-09T10:59:54.781Z"
      },
      {
        "duration": 20,
        "start_time": "2023-03-09T11:00:47.874Z"
      },
      {
        "duration": 7,
        "start_time": "2023-03-09T11:03:52.808Z"
      },
      {
        "duration": 6,
        "start_time": "2023-03-09T11:03:56.962Z"
      },
      {
        "duration": 3,
        "start_time": "2023-03-09T11:04:28.890Z"
      },
      {
        "duration": 17,
        "start_time": "2023-03-09T11:04:42.256Z"
      },
      {
        "duration": 105,
        "start_time": "2023-03-09T11:04:50.635Z"
      },
      {
        "duration": 1069,
        "start_time": "2023-03-09T11:04:53.435Z"
      },
      {
        "duration": 49054,
        "start_time": "2023-03-09T11:05:11.070Z"
      },
      {
        "duration": 6,
        "start_time": "2023-03-09T11:06:27.964Z"
      },
      {
        "duration": 3,
        "start_time": "2023-03-09T11:06:45.976Z"
      },
      {
        "duration": 2,
        "start_time": "2023-03-09T11:06:46.305Z"
      },
      {
        "duration": 45,
        "start_time": "2023-03-09T11:06:46.969Z"
      },
      {
        "duration": 7062,
        "start_time": "2023-03-09T11:06:50.737Z"
      },
      {
        "duration": 4,
        "start_time": "2023-03-09T11:06:58.778Z"
      },
      {
        "duration": 5,
        "start_time": "2023-03-09T11:07:19.936Z"
      },
      {
        "duration": 4,
        "start_time": "2023-03-09T11:07:30.684Z"
      },
      {
        "duration": 4,
        "start_time": "2023-03-09T11:07:35.745Z"
      },
      {
        "duration": 3,
        "start_time": "2023-03-09T11:07:43.109Z"
      },
      {
        "duration": 4,
        "start_time": "2023-03-09T11:08:09.486Z"
      },
      {
        "duration": 3,
        "start_time": "2023-03-09T11:08:14.237Z"
      },
      {
        "duration": 4,
        "start_time": "2023-03-09T11:08:18.610Z"
      },
      {
        "duration": 6,
        "start_time": "2023-03-09T11:08:24.624Z"
      },
      {
        "duration": 2,
        "start_time": "2023-03-09T11:08:55.280Z"
      },
      {
        "duration": 793,
        "start_time": "2023-03-09T11:08:59.406Z"
      },
      {
        "duration": 90,
        "start_time": "2023-03-09T11:09:14.193Z"
      },
      {
        "duration": 3,
        "start_time": "2023-03-09T11:09:17.558Z"
      },
      {
        "duration": 797,
        "start_time": "2023-03-09T11:09:19.248Z"
      },
      {
        "duration": 4,
        "start_time": "2023-03-09T11:09:27.823Z"
      },
      {
        "duration": 13,
        "start_time": "2023-03-09T11:09:28.113Z"
      },
      {
        "duration": 7092,
        "start_time": "2023-03-09T11:09:38.904Z"
      },
      {
        "duration": 4,
        "start_time": "2023-03-09T11:09:47.216Z"
      },
      {
        "duration": 4,
        "start_time": "2023-03-09T11:09:47.527Z"
      },
      {
        "duration": 4,
        "start_time": "2023-03-09T11:09:54.515Z"
      },
      {
        "duration": 4,
        "start_time": "2023-03-09T11:09:57.790Z"
      },
      {
        "duration": 116,
        "start_time": "2023-03-09T11:11:49.526Z"
      },
      {
        "duration": 3,
        "start_time": "2023-03-09T11:11:52.608Z"
      },
      {
        "duration": 79,
        "start_time": "2023-03-09T11:11:52.954Z"
      },
      {
        "duration": 1378,
        "start_time": "2023-03-09T11:12:00.230Z"
      },
      {
        "duration": 847,
        "start_time": "2023-03-09T11:12:01.610Z"
      },
      {
        "duration": 16,
        "start_time": "2023-03-09T11:12:02.458Z"
      },
      {
        "duration": 38,
        "start_time": "2023-03-09T11:12:02.476Z"
      },
      {
        "duration": 67,
        "start_time": "2023-03-09T11:12:02.515Z"
      },
      {
        "duration": 13,
        "start_time": "2023-03-09T11:12:02.584Z"
      },
      {
        "duration": 198,
        "start_time": "2023-03-09T11:12:02.599Z"
      },
      {
        "duration": 4,
        "start_time": "2023-03-09T11:12:03.409Z"
      },
      {
        "duration": 2,
        "start_time": "2023-03-09T11:12:04.966Z"
      },
      {
        "duration": 3,
        "start_time": "2023-03-09T11:12:05.597Z"
      },
      {
        "duration": 8476,
        "start_time": "2023-03-09T11:12:06.310Z"
      },
      {
        "duration": 77,
        "start_time": "2023-03-09T11:14:36.200Z"
      },
      {
        "duration": 1362,
        "start_time": "2023-03-09T11:14:41.284Z"
      },
      {
        "duration": 886,
        "start_time": "2023-03-09T11:14:42.648Z"
      },
      {
        "duration": 12,
        "start_time": "2023-03-09T11:14:43.536Z"
      },
      {
        "duration": 40,
        "start_time": "2023-03-09T11:14:43.550Z"
      },
      {
        "duration": 16,
        "start_time": "2023-03-09T11:14:43.592Z"
      },
      {
        "duration": 10,
        "start_time": "2023-03-09T11:14:43.610Z"
      },
      {
        "duration": 279,
        "start_time": "2023-03-09T11:14:43.622Z"
      },
      {
        "duration": 5,
        "start_time": "2023-03-09T11:14:43.903Z"
      },
      {
        "duration": 381823,
        "start_time": "2023-03-09T11:14:43.910Z"
      },
      {
        "duration": 76,
        "start_time": "2023-03-09T11:21:05.736Z"
      },
      {
        "duration": 0,
        "start_time": "2023-03-09T11:21:05.814Z"
      },
      {
        "duration": 0,
        "start_time": "2023-03-09T11:21:05.815Z"
      },
      {
        "duration": 0,
        "start_time": "2023-03-09T11:21:05.816Z"
      },
      {
        "duration": 0,
        "start_time": "2023-03-09T11:21:05.817Z"
      },
      {
        "duration": 0,
        "start_time": "2023-03-09T11:21:05.818Z"
      },
      {
        "duration": 0,
        "start_time": "2023-03-09T11:21:05.819Z"
      },
      {
        "duration": 0,
        "start_time": "2023-03-09T11:21:05.820Z"
      },
      {
        "duration": 0,
        "start_time": "2023-03-09T11:21:05.821Z"
      },
      {
        "duration": 0,
        "start_time": "2023-03-09T11:21:05.822Z"
      },
      {
        "duration": 0,
        "start_time": "2023-03-09T11:21:05.822Z"
      },
      {
        "duration": 0,
        "start_time": "2023-03-09T11:21:05.823Z"
      },
      {
        "duration": 0,
        "start_time": "2023-03-09T11:21:05.824Z"
      },
      {
        "duration": 0,
        "start_time": "2023-03-09T11:21:05.826Z"
      },
      {
        "duration": 0,
        "start_time": "2023-03-09T11:21:05.826Z"
      },
      {
        "duration": 1,
        "start_time": "2023-03-09T11:21:05.827Z"
      },
      {
        "duration": 0,
        "start_time": "2023-03-09T11:21:05.829Z"
      },
      {
        "duration": 0,
        "start_time": "2023-03-09T11:21:05.830Z"
      },
      {
        "duration": 0,
        "start_time": "2023-03-09T11:21:05.830Z"
      },
      {
        "duration": 0,
        "start_time": "2023-03-09T11:21:05.832Z"
      },
      {
        "duration": 1567,
        "start_time": "2023-03-10T14:23:41.933Z"
      },
      {
        "duration": 3545,
        "start_time": "2023-03-10T14:23:43.502Z"
      },
      {
        "duration": 23,
        "start_time": "2023-03-10T14:23:47.049Z"
      },
      {
        "duration": 33,
        "start_time": "2023-03-10T14:23:47.074Z"
      },
      {
        "duration": 26,
        "start_time": "2023-03-10T14:23:48.416Z"
      },
      {
        "duration": 3,
        "start_time": "2023-03-10T14:23:49.208Z"
      },
      {
        "duration": 745,
        "start_time": "2023-03-10T14:23:50.777Z"
      },
      {
        "duration": 6,
        "start_time": "2023-03-10T14:23:59.063Z"
      },
      {
        "duration": 10292,
        "start_time": "2023-03-10T14:23:59.888Z"
      },
      {
        "duration": 1407,
        "start_time": "2023-03-10T14:24:30.256Z"
      },
      {
        "duration": 925,
        "start_time": "2023-03-10T14:24:31.665Z"
      },
      {
        "duration": 12,
        "start_time": "2023-03-10T14:24:32.592Z"
      },
      {
        "duration": 48,
        "start_time": "2023-03-10T14:24:32.606Z"
      },
      {
        "duration": 24,
        "start_time": "2023-03-10T14:24:32.656Z"
      },
      {
        "duration": 3,
        "start_time": "2023-03-10T14:24:32.682Z"
      },
      {
        "duration": 214,
        "start_time": "2023-03-10T14:24:38.233Z"
      },
      {
        "duration": 5,
        "start_time": "2023-03-10T14:24:39.402Z"
      },
      {
        "duration": 10314,
        "start_time": "2023-03-10T14:24:40.168Z"
      },
      {
        "duration": 133,
        "start_time": "2023-03-10T14:24:52.954Z"
      },
      {
        "duration": 1529,
        "start_time": "2023-03-10T14:25:37.555Z"
      },
      {
        "duration": 968,
        "start_time": "2023-03-10T14:25:39.086Z"
      },
      {
        "duration": 14,
        "start_time": "2023-03-10T14:25:40.056Z"
      },
      {
        "duration": 31,
        "start_time": "2023-03-10T14:25:40.073Z"
      },
      {
        "duration": 17,
        "start_time": "2023-03-10T14:25:40.186Z"
      },
      {
        "duration": 679,
        "start_time": "2023-03-10T14:25:41.974Z"
      },
      {
        "duration": 4,
        "start_time": "2023-03-10T14:25:55.351Z"
      },
      {
        "duration": 271,
        "start_time": "2023-03-10T14:25:56.171Z"
      },
      {
        "duration": 5,
        "start_time": "2023-03-10T14:25:56.941Z"
      },
      {
        "duration": 9889,
        "start_time": "2023-03-10T14:25:57.320Z"
      },
      {
        "duration": 4,
        "start_time": "2023-03-10T14:26:09.754Z"
      },
      {
        "duration": 6,
        "start_time": "2023-03-10T14:26:11.619Z"
      },
      {
        "duration": 4,
        "start_time": "2023-03-10T14:26:19.948Z"
      },
      {
        "duration": 21,
        "start_time": "2023-03-10T14:26:24.533Z"
      },
      {
        "duration": 7,
        "start_time": "2023-03-10T14:27:47.723Z"
      },
      {
        "duration": 8,
        "start_time": "2023-03-10T14:27:56.425Z"
      },
      {
        "duration": 5,
        "start_time": "2023-03-10T14:28:08.552Z"
      },
      {
        "duration": 10,
        "start_time": "2023-03-10T14:28:12.445Z"
      },
      {
        "duration": 74,
        "start_time": "2023-03-10T14:28:14.119Z"
      },
      {
        "duration": 10,
        "start_time": "2023-03-10T14:28:20.309Z"
      },
      {
        "duration": 3,
        "start_time": "2023-03-10T14:28:23.902Z"
      },
      {
        "duration": 7,
        "start_time": "2023-03-10T14:29:35.882Z"
      },
      {
        "duration": 3,
        "start_time": "2023-03-10T14:29:47.444Z"
      },
      {
        "duration": 240,
        "start_time": "2023-03-10T14:29:47.860Z"
      },
      {
        "duration": 10,
        "start_time": "2023-03-10T14:29:52.068Z"
      },
      {
        "duration": 74,
        "start_time": "2023-03-10T14:31:46.740Z"
      },
      {
        "duration": 3,
        "start_time": "2023-03-10T14:31:50.627Z"
      },
      {
        "duration": 247,
        "start_time": "2023-03-10T14:31:50.840Z"
      },
      {
        "duration": 9,
        "start_time": "2023-03-10T14:31:54.622Z"
      },
      {
        "duration": 5,
        "start_time": "2023-03-10T14:35:27.661Z"
      },
      {
        "duration": 6,
        "start_time": "2023-03-10T14:35:46.941Z"
      },
      {
        "duration": 5915,
        "start_time": "2023-03-10T14:35:47.290Z"
      },
      {
        "duration": 4,
        "start_time": "2023-03-10T14:35:59.721Z"
      },
      {
        "duration": 5977,
        "start_time": "2023-03-10T14:36:01.332Z"
      },
      {
        "duration": 12,
        "start_time": "2023-03-10T14:36:44.183Z"
      },
      {
        "duration": 3,
        "start_time": "2023-03-10T14:37:04.348Z"
      },
      {
        "duration": 2594,
        "start_time": "2023-03-10T14:37:04.937Z"
      },
      {
        "duration": 13,
        "start_time": "2023-03-10T14:37:11.844Z"
      },
      {
        "duration": 12,
        "start_time": "2023-03-10T14:37:18.285Z"
      },
      {
        "duration": 4,
        "start_time": "2023-03-10T14:37:38.510Z"
      },
      {
        "duration": 5329,
        "start_time": "2023-03-10T14:37:39.926Z"
      },
      {
        "duration": 17,
        "start_time": "2023-03-10T14:37:55.178Z"
      },
      {
        "duration": 4,
        "start_time": "2023-03-10T14:38:05.570Z"
      },
      {
        "duration": 327981,
        "start_time": "2023-03-10T14:38:05.990Z"
      },
      {
        "duration": 13,
        "start_time": "2023-03-10T14:43:33.973Z"
      },
      {
        "duration": 1436,
        "start_time": "2023-03-10T14:43:43.870Z"
      },
      {
        "duration": 886,
        "start_time": "2023-03-10T14:43:45.308Z"
      },
      {
        "duration": 14,
        "start_time": "2023-03-10T14:43:46.195Z"
      },
      {
        "duration": 43,
        "start_time": "2023-03-10T14:43:46.211Z"
      },
      {
        "duration": 16,
        "start_time": "2023-03-10T14:43:46.257Z"
      },
      {
        "duration": 3,
        "start_time": "2023-03-10T14:43:46.275Z"
      },
      {
        "duration": 178,
        "start_time": "2023-03-10T14:43:46.280Z"
      },
      {
        "duration": 5,
        "start_time": "2023-03-10T14:43:46.460Z"
      },
      {
        "duration": 9370,
        "start_time": "2023-03-10T14:43:46.466Z"
      },
      {
        "duration": 5,
        "start_time": "2023-03-10T14:43:55.838Z"
      },
      {
        "duration": 10,
        "start_time": "2023-03-10T14:43:55.845Z"
      },
      {
        "duration": 4,
        "start_time": "2023-03-10T14:43:55.856Z"
      },
      {
        "duration": 9,
        "start_time": "2023-03-10T14:43:55.862Z"
      },
      {
        "duration": 5,
        "start_time": "2023-03-10T14:43:55.874Z"
      },
      {
        "duration": 6,
        "start_time": "2023-03-10T14:43:55.880Z"
      },
      {
        "duration": 94,
        "start_time": "2023-03-10T14:43:55.887Z"
      },
      {
        "duration": 73,
        "start_time": "2023-03-10T14:43:55.983Z"
      },
      {
        "duration": 0,
        "start_time": "2023-03-10T14:43:56.058Z"
      },
      {
        "duration": 0,
        "start_time": "2023-03-10T14:43:56.059Z"
      },
      {
        "duration": 0,
        "start_time": "2023-03-10T14:43:56.061Z"
      },
      {
        "duration": 0,
        "start_time": "2023-03-10T14:43:56.063Z"
      },
      {
        "duration": 0,
        "start_time": "2023-03-10T14:43:56.064Z"
      },
      {
        "duration": 0,
        "start_time": "2023-03-10T14:43:56.065Z"
      },
      {
        "duration": 0,
        "start_time": "2023-03-10T14:43:56.066Z"
      },
      {
        "duration": 0,
        "start_time": "2023-03-10T14:43:56.068Z"
      },
      {
        "duration": 0,
        "start_time": "2023-03-10T14:43:56.069Z"
      },
      {
        "duration": 0,
        "start_time": "2023-03-10T14:43:56.070Z"
      },
      {
        "duration": 0,
        "start_time": "2023-03-10T14:43:56.071Z"
      },
      {
        "duration": 3,
        "start_time": "2023-03-10T14:44:22.328Z"
      },
      {
        "duration": 12605,
        "start_time": "2023-03-10T14:44:22.925Z"
      },
      {
        "duration": 11,
        "start_time": "2023-03-10T14:44:35.540Z"
      },
      {
        "duration": 4,
        "start_time": "2023-03-10T14:44:44.201Z"
      },
      {
        "duration": 2531,
        "start_time": "2023-03-10T14:44:44.573Z"
      },
      {
        "duration": 10,
        "start_time": "2023-03-10T14:44:52.273Z"
      },
      {
        "duration": 4,
        "start_time": "2023-03-10T14:45:03.721Z"
      },
      {
        "duration": 1836,
        "start_time": "2023-03-10T14:45:04.677Z"
      },
      {
        "duration": 13,
        "start_time": "2023-03-10T14:45:08.262Z"
      },
      {
        "duration": 4,
        "start_time": "2023-03-10T14:45:19.566Z"
      },
      {
        "duration": 4593,
        "start_time": "2023-03-10T14:45:20.561Z"
      },
      {
        "duration": 16,
        "start_time": "2023-03-10T14:45:29.896Z"
      },
      {
        "duration": 3,
        "start_time": "2023-03-10T14:46:23.031Z"
      },
      {
        "duration": 13053,
        "start_time": "2023-03-10T14:46:24.005Z"
      },
      {
        "duration": 4,
        "start_time": "2023-03-10T14:46:38.768Z"
      },
      {
        "duration": 946695,
        "start_time": "2023-03-10T14:46:39.269Z"
      },
      {
        "duration": 15,
        "start_time": "2023-03-10T15:02:25.966Z"
      },
      {
        "duration": 0,
        "start_time": "2023-03-10T15:02:25.983Z"
      },
      {
        "duration": 0,
        "start_time": "2023-03-10T15:02:25.984Z"
      },
      {
        "duration": 0,
        "start_time": "2023-03-10T15:02:25.985Z"
      },
      {
        "duration": 4,
        "start_time": "2023-03-10T15:02:28.369Z"
      },
      {
        "duration": 101774,
        "start_time": "2023-03-10T15:02:28.773Z"
      },
      {
        "duration": 18,
        "start_time": "2023-03-10T15:04:10.549Z"
      },
      {
        "duration": 26,
        "start_time": "2023-03-10T15:04:26.728Z"
      },
      {
        "duration": 3,
        "start_time": "2023-03-10T15:04:53.094Z"
      },
      {
        "duration": 154078,
        "start_time": "2023-03-10T15:04:54.063Z"
      },
      {
        "duration": 13,
        "start_time": "2023-03-10T15:07:28.143Z"
      },
      {
        "duration": 1417,
        "start_time": "2023-03-10T15:12:20.190Z"
      },
      {
        "duration": 991,
        "start_time": "2023-03-10T15:12:21.609Z"
      },
      {
        "duration": 13,
        "start_time": "2023-03-10T15:12:22.602Z"
      },
      {
        "duration": 42,
        "start_time": "2023-03-10T15:12:22.617Z"
      },
      {
        "duration": 27,
        "start_time": "2023-03-10T15:12:22.661Z"
      },
      {
        "duration": 3,
        "start_time": "2023-03-10T15:12:22.690Z"
      },
      {
        "duration": 297,
        "start_time": "2023-03-10T15:12:22.695Z"
      },
      {
        "duration": 5,
        "start_time": "2023-03-10T15:12:22.994Z"
      },
      {
        "duration": 10305,
        "start_time": "2023-03-10T15:12:23.000Z"
      },
      {
        "duration": 4,
        "start_time": "2023-03-10T15:12:33.308Z"
      },
      {
        "duration": 21,
        "start_time": "2023-03-10T15:12:33.314Z"
      },
      {
        "duration": 7,
        "start_time": "2023-03-10T15:12:33.336Z"
      },
      {
        "duration": 17,
        "start_time": "2023-03-10T15:12:33.345Z"
      },
      {
        "duration": 5,
        "start_time": "2023-03-10T15:12:33.363Z"
      },
      {
        "duration": 8,
        "start_time": "2023-03-10T15:12:33.370Z"
      },
      {
        "duration": 91,
        "start_time": "2023-03-10T15:12:33.380Z"
      },
      {
        "duration": 4,
        "start_time": "2023-03-10T15:12:33.473Z"
      },
      {
        "duration": 9274,
        "start_time": "2023-03-10T15:12:33.478Z"
      },
      {
        "duration": 11,
        "start_time": "2023-03-10T15:12:42.754Z"
      },
      {
        "duration": 49,
        "start_time": "2023-03-10T15:12:42.767Z"
      },
      {
        "duration": 1888,
        "start_time": "2023-03-10T15:12:42.818Z"
      },
      {
        "duration": 9,
        "start_time": "2023-03-10T15:12:44.708Z"
      },
      {
        "duration": 4,
        "start_time": "2023-03-10T15:12:44.719Z"
      },
      {
        "duration": 989,
        "start_time": "2023-03-10T15:12:44.741Z"
      },
      {
        "duration": 13,
        "start_time": "2023-03-10T15:12:45.731Z"
      },
      {
        "duration": 0,
        "start_time": "2023-03-10T15:12:45.747Z"
      },
      {
        "duration": 0,
        "start_time": "2023-03-10T15:12:45.748Z"
      },
      {
        "duration": 0,
        "start_time": "2023-03-10T15:12:45.750Z"
      },
      {
        "duration": 1464,
        "start_time": "2023-03-10T15:14:00.520Z"
      },
      {
        "duration": 954,
        "start_time": "2023-03-10T15:14:01.987Z"
      },
      {
        "duration": 14,
        "start_time": "2023-03-10T15:14:02.943Z"
      },
      {
        "duration": 45,
        "start_time": "2023-03-10T15:14:02.958Z"
      },
      {
        "duration": 25,
        "start_time": "2023-03-10T15:14:03.006Z"
      },
      {
        "duration": 3,
        "start_time": "2023-03-10T15:14:03.032Z"
      },
      {
        "duration": 166,
        "start_time": "2023-03-10T15:14:03.041Z"
      },
      {
        "duration": 5,
        "start_time": "2023-03-10T15:14:03.209Z"
      },
      {
        "duration": 408055,
        "start_time": "2023-03-10T15:14:03.215Z"
      },
      {
        "duration": 11,
        "start_time": "2023-03-10T15:20:51.272Z"
      },
      {
        "duration": 25,
        "start_time": "2023-03-10T15:20:51.285Z"
      },
      {
        "duration": 24,
        "start_time": "2023-03-10T15:20:51.313Z"
      },
      {
        "duration": 29,
        "start_time": "2023-03-10T15:20:51.339Z"
      },
      {
        "duration": 5,
        "start_time": "2023-03-10T15:20:51.372Z"
      },
      {
        "duration": 14,
        "start_time": "2023-03-10T15:20:51.378Z"
      },
      {
        "duration": 2665,
        "start_time": "2023-03-10T15:20:51.394Z"
      },
      {
        "duration": 3,
        "start_time": "2023-03-10T15:20:54.061Z"
      },
      {
        "duration": 1174490,
        "start_time": "2023-03-10T15:20:54.066Z"
      },
      {
        "duration": 15,
        "start_time": "2023-03-10T15:40:28.558Z"
      },
      {
        "duration": 0,
        "start_time": "2023-03-10T15:40:28.575Z"
      },
      {
        "duration": 0,
        "start_time": "2023-03-10T15:40:28.576Z"
      },
      {
        "duration": 0,
        "start_time": "2023-03-10T15:40:28.578Z"
      },
      {
        "duration": 0,
        "start_time": "2023-03-10T15:40:28.579Z"
      },
      {
        "duration": 0,
        "start_time": "2023-03-10T15:40:28.580Z"
      },
      {
        "duration": 0,
        "start_time": "2023-03-10T15:40:28.582Z"
      },
      {
        "duration": 0,
        "start_time": "2023-03-10T15:40:28.583Z"
      },
      {
        "duration": 0,
        "start_time": "2023-03-10T15:40:28.584Z"
      },
      {
        "duration": 0,
        "start_time": "2023-03-10T15:40:28.586Z"
      },
      {
        "duration": 0,
        "start_time": "2023-03-10T15:40:28.587Z"
      },
      {
        "duration": 4,
        "start_time": "2023-03-10T15:40:39.100Z"
      },
      {
        "duration": 589424,
        "start_time": "2023-03-10T15:40:39.632Z"
      },
      {
        "duration": 98,
        "start_time": "2023-03-10T15:50:29.058Z"
      },
      {
        "duration": 5,
        "start_time": "2023-03-10T15:50:29.157Z"
      },
      {
        "duration": 312104,
        "start_time": "2023-03-10T15:50:29.164Z"
      },
      {
        "duration": 11,
        "start_time": "2023-03-10T15:55:41.270Z"
      },
      {
        "duration": 3,
        "start_time": "2023-03-10T15:56:17.266Z"
      },
      {
        "duration": 121127,
        "start_time": "2023-03-10T15:56:18.314Z"
      },
      {
        "duration": 14,
        "start_time": "2023-03-10T15:58:33.595Z"
      },
      {
        "duration": 4,
        "start_time": "2023-03-10T16:04:52.771Z"
      },
      {
        "duration": 7678,
        "start_time": "2023-03-10T16:04:53.301Z"
      },
      {
        "duration": 78,
        "start_time": "2023-03-10T16:05:00.982Z"
      },
      {
        "duration": 5,
        "start_time": "2023-03-10T16:06:47.789Z"
      },
      {
        "duration": 1641,
        "start_time": "2023-03-10T16:06:54.377Z"
      },
      {
        "duration": 1660,
        "start_time": "2023-03-10T16:07:04.864Z"
      },
      {
        "duration": 1584,
        "start_time": "2023-03-10T16:08:02.927Z"
      },
      {
        "duration": 1959,
        "start_time": "2023-03-10T16:08:35.273Z"
      },
      {
        "duration": 2051,
        "start_time": "2023-03-10T16:09:03.669Z"
      },
      {
        "duration": 2857,
        "start_time": "2023-03-10T16:09:26.412Z"
      },
      {
        "duration": 1953,
        "start_time": "2023-03-10T16:09:38.364Z"
      },
      {
        "duration": 4,
        "start_time": "2023-03-10T16:09:47.597Z"
      },
      {
        "duration": 2078,
        "start_time": "2023-03-10T16:10:07.430Z"
      },
      {
        "duration": 39130,
        "start_time": "2023-03-10T16:10:17.067Z"
      },
      {
        "duration": 33,
        "start_time": "2023-03-10T16:12:35.211Z"
      },
      {
        "duration": 30,
        "start_time": "2023-03-10T16:12:52.809Z"
      },
      {
        "duration": 101,
        "start_time": "2023-03-10T16:13:21.187Z"
      },
      {
        "duration": 4,
        "start_time": "2023-03-10T16:14:26.392Z"
      },
      {
        "duration": 69465,
        "start_time": "2023-03-10T16:14:33.288Z"
      },
      {
        "duration": 1236,
        "start_time": "2023-03-10T16:15:42.758Z"
      },
      {
        "duration": 22,
        "start_time": "2023-03-10T16:17:26.716Z"
      },
      {
        "duration": 39132,
        "start_time": "2023-03-10T16:19:48.701Z"
      },
      {
        "duration": 1468,
        "start_time": "2023-03-10T16:33:19.740Z"
      },
      {
        "duration": 2020,
        "start_time": "2023-03-10T16:33:24.214Z"
      },
      {
        "duration": 2240,
        "start_time": "2023-03-10T16:33:28.703Z"
      },
      {
        "duration": 21226,
        "start_time": "2023-03-10T16:33:36.311Z"
      },
      {
        "duration": 19973,
        "start_time": "2023-03-10T16:34:17.953Z"
      },
      {
        "duration": 2228,
        "start_time": "2023-03-10T16:34:41.962Z"
      },
      {
        "duration": 1560,
        "start_time": "2023-03-10T16:34:48.416Z"
      },
      {
        "duration": 1214,
        "start_time": "2023-03-10T16:34:53.362Z"
      },
      {
        "duration": 1650,
        "start_time": "2023-03-10T16:34:59.286Z"
      },
      {
        "duration": 1870,
        "start_time": "2023-03-10T16:35:08.810Z"
      },
      {
        "duration": 2301,
        "start_time": "2023-03-10T16:35:14.985Z"
      },
      {
        "duration": 2103,
        "start_time": "2023-03-10T16:35:20.283Z"
      },
      {
        "duration": 2229,
        "start_time": "2023-03-10T16:35:29.707Z"
      },
      {
        "duration": 1735,
        "start_time": "2023-03-10T16:35:38.335Z"
      },
      {
        "duration": 2214,
        "start_time": "2023-03-10T16:37:24.720Z"
      },
      {
        "duration": 20585,
        "start_time": "2023-03-10T16:37:33.056Z"
      },
      {
        "duration": 24,
        "start_time": "2023-03-10T16:44:49.064Z"
      },
      {
        "duration": 19,
        "start_time": "2023-03-10T16:45:40.798Z"
      },
      {
        "duration": 11,
        "start_time": "2023-03-10T16:48:26.600Z"
      },
      {
        "duration": 4,
        "start_time": "2023-03-10T16:48:34.710Z"
      },
      {
        "duration": 1563,
        "start_time": "2023-03-10T16:49:05.582Z"
      },
      {
        "duration": 1045,
        "start_time": "2023-03-10T16:49:13.484Z"
      },
      {
        "duration": 3904,
        "start_time": "2023-03-10T16:49:16.126Z"
      },
      {
        "duration": 4,
        "start_time": "2023-03-10T16:49:31.150Z"
      },
      {
        "duration": 3,
        "start_time": "2023-03-10T16:50:40.313Z"
      },
      {
        "duration": 1332,
        "start_time": "2023-03-10T16:51:53.563Z"
      },
      {
        "duration": 7,
        "start_time": "2023-03-10T16:52:58.929Z"
      },
      {
        "duration": 56211,
        "start_time": "2023-03-10T16:53:01.562Z"
      },
      {
        "duration": 13,
        "start_time": "2023-03-10T16:53:57.775Z"
      },
      {
        "duration": 6,
        "start_time": "2023-03-10T16:53:58.476Z"
      },
      {
        "duration": 1898734,
        "start_time": "2023-03-10T16:53:59.761Z"
      },
      {
        "duration": 10,
        "start_time": "2023-03-10T17:25:38.498Z"
      },
      {
        "duration": 20760,
        "start_time": "2023-03-10T17:29:07.718Z"
      },
      {
        "duration": 20892,
        "start_time": "2023-03-10T17:29:55.082Z"
      },
      {
        "duration": 20717,
        "start_time": "2023-03-10T17:30:32.019Z"
      },
      {
        "duration": 2388,
        "start_time": "2023-03-10T17:35:54.198Z"
      },
      {
        "duration": 19883,
        "start_time": "2023-03-10T17:38:06.079Z"
      },
      {
        "duration": 1933,
        "start_time": "2023-03-10T17:43:13.181Z"
      },
      {
        "duration": 1835,
        "start_time": "2023-03-10T17:43:25.189Z"
      },
      {
        "duration": 1685,
        "start_time": "2023-03-10T17:43:47.848Z"
      },
      {
        "duration": 1575,
        "start_time": "2023-03-10T17:43:53.306Z"
      },
      {
        "duration": 1457,
        "start_time": "2023-03-10T17:44:01.496Z"
      },
      {
        "duration": 1431,
        "start_time": "2023-03-10T17:44:08.172Z"
      },
      {
        "duration": 1631,
        "start_time": "2023-03-10T17:44:16.206Z"
      },
      {
        "duration": 1687,
        "start_time": "2023-03-10T17:46:03.504Z"
      },
      {
        "duration": 3371,
        "start_time": "2023-03-10T17:46:05.192Z"
      },
      {
        "duration": 14,
        "start_time": "2023-03-10T17:46:08.564Z"
      },
      {
        "duration": 36,
        "start_time": "2023-03-10T17:46:08.580Z"
      },
      {
        "duration": 27,
        "start_time": "2023-03-10T17:46:08.618Z"
      },
      {
        "duration": 3,
        "start_time": "2023-03-10T17:46:08.647Z"
      },
      {
        "duration": 284,
        "start_time": "2023-03-10T17:46:08.652Z"
      },
      {
        "duration": 5,
        "start_time": "2023-03-10T17:46:08.938Z"
      },
      {
        "duration": 414274,
        "start_time": "2023-03-10T17:46:08.944Z"
      },
      {
        "duration": 31,
        "start_time": "2023-03-10T17:53:03.222Z"
      },
      {
        "duration": 8,
        "start_time": "2023-03-10T17:53:03.255Z"
      },
      {
        "duration": 46,
        "start_time": "2023-03-10T17:53:03.265Z"
      },
      {
        "duration": 68,
        "start_time": "2023-03-10T17:53:03.313Z"
      },
      {
        "duration": 6,
        "start_time": "2023-03-10T17:53:03.382Z"
      },
      {
        "duration": 9,
        "start_time": "2023-03-10T17:53:03.390Z"
      },
      {
        "duration": 2995,
        "start_time": "2023-03-10T17:53:03.400Z"
      },
      {
        "duration": 4,
        "start_time": "2023-03-10T17:53:06.397Z"
      },
      {
        "duration": 328053,
        "start_time": "2023-03-10T17:53:06.403Z"
      },
      {
        "duration": 10,
        "start_time": "2023-03-10T17:58:34.458Z"
      },
      {
        "duration": 5,
        "start_time": "2023-03-10T17:58:34.470Z"
      },
      {
        "duration": 309687,
        "start_time": "2023-03-10T17:58:34.476Z"
      },
      {
        "duration": 9,
        "start_time": "2023-03-10T18:03:44.165Z"
      },
      {
        "duration": 10,
        "start_time": "2023-03-10T18:03:44.175Z"
      },
      {
        "duration": 125866,
        "start_time": "2023-03-10T18:03:44.186Z"
      },
      {
        "duration": 15,
        "start_time": "2023-03-10T18:05:50.058Z"
      },
      {
        "duration": 4,
        "start_time": "2023-03-10T18:05:50.075Z"
      },
      {
        "duration": 794113,
        "start_time": "2023-03-10T18:05:50.081Z"
      },
      {
        "duration": 1389,
        "start_time": "2023-03-10T18:19:04.242Z"
      },
      {
        "duration": 0,
        "start_time": "2023-03-10T18:19:05.633Z"
      },
      {
        "duration": 24,
        "start_time": "2023-03-10T18:19:58.206Z"
      },
      {
        "duration": 1345,
        "start_time": "2023-03-10T18:20:35.143Z"
      },
      {
        "duration": 172510,
        "start_time": "2023-03-10T18:23:39.337Z"
      },
      {
        "duration": 188835,
        "start_time": "2023-03-10T18:27:05.807Z"
      },
      {
        "duration": 15787,
        "start_time": "2023-03-10T18:30:14.644Z"
      },
      {
        "duration": 1705,
        "start_time": "2023-03-11T15:10:16.808Z"
      },
      {
        "duration": 8730,
        "start_time": "2023-03-11T15:10:30.467Z"
      },
      {
        "duration": 40,
        "start_time": "2023-03-11T15:10:51.941Z"
      },
      {
        "duration": 18,
        "start_time": "2023-03-11T15:15:19.900Z"
      },
      {
        "duration": 1468,
        "start_time": "2023-03-11T15:15:39.737Z"
      },
      {
        "duration": 5,
        "start_time": "2023-03-11T15:20:55.207Z"
      },
      {
        "duration": 4,
        "start_time": "2023-03-11T15:21:00.964Z"
      },
      {
        "duration": 1799,
        "start_time": "2023-03-11T15:21:01.359Z"
      },
      {
        "duration": 21,
        "start_time": "2023-03-11T15:21:03.161Z"
      },
      {
        "duration": 36,
        "start_time": "2023-03-11T15:21:03.190Z"
      },
      {
        "duration": 17,
        "start_time": "2023-03-11T15:21:03.228Z"
      },
      {
        "duration": 3,
        "start_time": "2023-03-11T15:21:03.247Z"
      },
      {
        "duration": 749,
        "start_time": "2023-03-11T15:21:03.252Z"
      },
      {
        "duration": 5,
        "start_time": "2023-03-11T15:21:04.005Z"
      },
      {
        "duration": 11354,
        "start_time": "2023-03-11T15:21:13.871Z"
      },
      {
        "duration": 164,
        "start_time": "2023-03-11T15:21:25.227Z"
      },
      {
        "duration": 0,
        "start_time": "2023-03-11T15:21:25.400Z"
      },
      {
        "duration": 4,
        "start_time": "2023-03-11T15:21:55.223Z"
      },
      {
        "duration": 13,
        "start_time": "2023-03-11T15:21:55.897Z"
      },
      {
        "duration": 6,
        "start_time": "2023-03-11T15:21:56.016Z"
      },
      {
        "duration": 9882,
        "start_time": "2023-03-11T15:21:56.926Z"
      },
      {
        "duration": 5,
        "start_time": "2023-03-11T15:22:06.812Z"
      },
      {
        "duration": 9,
        "start_time": "2023-03-11T15:22:06.819Z"
      },
      {
        "duration": 6,
        "start_time": "2023-03-11T15:23:56.918Z"
      },
      {
        "duration": 26,
        "start_time": "2023-03-11T15:24:26.399Z"
      },
      {
        "duration": 16,
        "start_time": "2023-03-11T15:24:43.172Z"
      },
      {
        "duration": 16,
        "start_time": "2023-03-11T15:24:43.869Z"
      },
      {
        "duration": 7,
        "start_time": "2023-03-11T15:25:35.973Z"
      },
      {
        "duration": 24,
        "start_time": "2023-03-11T15:25:36.486Z"
      },
      {
        "duration": 6,
        "start_time": "2023-03-11T15:27:48.432Z"
      },
      {
        "duration": 32,
        "start_time": "2023-03-11T15:27:48.961Z"
      },
      {
        "duration": 52,
        "start_time": "2023-03-11T15:31:33.352Z"
      },
      {
        "duration": 1629,
        "start_time": "2023-03-11T15:36:41.036Z"
      },
      {
        "duration": 1148,
        "start_time": "2023-03-11T15:36:44.566Z"
      },
      {
        "duration": 20,
        "start_time": "2023-03-11T15:36:45.717Z"
      },
      {
        "duration": 49,
        "start_time": "2023-03-11T15:36:45.739Z"
      },
      {
        "duration": 26,
        "start_time": "2023-03-11T15:36:51.366Z"
      },
      {
        "duration": 4,
        "start_time": "2023-03-11T15:36:51.906Z"
      },
      {
        "duration": 371,
        "start_time": "2023-03-11T15:36:53.512Z"
      },
      {
        "duration": 5,
        "start_time": "2023-03-11T15:36:54.019Z"
      },
      {
        "duration": 13101,
        "start_time": "2023-03-11T15:36:55.122Z"
      },
      {
        "duration": 6,
        "start_time": "2023-03-11T15:37:08.225Z"
      },
      {
        "duration": 11,
        "start_time": "2023-03-11T15:37:08.233Z"
      },
      {
        "duration": 6,
        "start_time": "2023-03-11T15:37:13.063Z"
      },
      {
        "duration": 9,
        "start_time": "2023-03-11T15:37:16.575Z"
      },
      {
        "duration": 220,
        "start_time": "2023-03-11T15:37:40.826Z"
      },
      {
        "duration": 101,
        "start_time": "2023-03-11T15:38:07.422Z"
      },
      {
        "duration": 5,
        "start_time": "2023-03-11T15:38:27.565Z"
      },
      {
        "duration": 295,
        "start_time": "2023-03-11T15:38:28.469Z"
      },
      {
        "duration": 5,
        "start_time": "2023-03-11T15:41:03.963Z"
      },
      {
        "duration": 237,
        "start_time": "2023-03-11T15:41:04.217Z"
      },
      {
        "duration": 6,
        "start_time": "2023-03-11T15:43:18.545Z"
      },
      {
        "duration": 8,
        "start_time": "2023-03-11T15:43:29.016Z"
      },
      {
        "duration": 7,
        "start_time": "2023-03-11T15:44:42.650Z"
      },
      {
        "duration": 5,
        "start_time": "2023-03-11T15:46:00.208Z"
      },
      {
        "duration": 6,
        "start_time": "2023-03-11T15:46:02.740Z"
      },
      {
        "duration": 6,
        "start_time": "2023-03-11T15:46:02.766Z"
      },
      {
        "duration": 3808,
        "start_time": "2023-03-11T15:46:03.355Z"
      },
      {
        "duration": 5,
        "start_time": "2023-03-11T15:46:07.950Z"
      },
      {
        "duration": 235,
        "start_time": "2023-03-11T15:46:08.302Z"
      },
      {
        "duration": 5,
        "start_time": "2023-03-11T15:46:37.208Z"
      },
      {
        "duration": 4012,
        "start_time": "2023-03-11T15:46:37.754Z"
      },
      {
        "duration": 1466,
        "start_time": "2023-03-11T15:47:17.954Z"
      },
      {
        "duration": 1080,
        "start_time": "2023-03-11T15:47:19.422Z"
      },
      {
        "duration": 22,
        "start_time": "2023-03-11T15:47:20.505Z"
      },
      {
        "duration": 68,
        "start_time": "2023-03-11T15:47:20.531Z"
      },
      {
        "duration": 54,
        "start_time": "2023-03-11T15:47:20.602Z"
      },
      {
        "duration": 6,
        "start_time": "2023-03-11T15:47:20.658Z"
      },
      {
        "duration": 290,
        "start_time": "2023-03-11T15:47:21.659Z"
      },
      {
        "duration": 5,
        "start_time": "2023-03-11T15:47:22.205Z"
      },
      {
        "duration": 13606,
        "start_time": "2023-03-11T15:47:23.628Z"
      },
      {
        "duration": 5,
        "start_time": "2023-03-11T15:47:37.237Z"
      },
      {
        "duration": 15,
        "start_time": "2023-03-11T15:47:37.244Z"
      },
      {
        "duration": 18,
        "start_time": "2023-03-11T15:47:37.261Z"
      },
      {
        "duration": 34,
        "start_time": "2023-03-11T15:47:37.281Z"
      },
      {
        "duration": 4433,
        "start_time": "2023-03-11T15:47:37.317Z"
      },
      {
        "duration": 33,
        "start_time": "2023-03-11T15:47:41.754Z"
      },
      {
        "duration": 5,
        "start_time": "2023-03-11T15:55:11.000Z"
      },
      {
        "duration": 237,
        "start_time": "2023-03-11T15:55:11.461Z"
      },
      {
        "duration": 10702,
        "start_time": "2023-03-11T15:55:32.758Z"
      },
      {
        "duration": 12,
        "start_time": "2023-03-11T15:57:26.997Z"
      },
      {
        "duration": 5,
        "start_time": "2023-03-11T15:57:44.308Z"
      },
      {
        "duration": 121,
        "start_time": "2023-03-11T15:57:44.650Z"
      },
      {
        "duration": 5,
        "start_time": "2023-03-11T15:59:02.619Z"
      },
      {
        "duration": 79,
        "start_time": "2023-03-11T15:59:13.344Z"
      },
      {
        "duration": 7,
        "start_time": "2023-03-11T15:59:51.265Z"
      },
      {
        "duration": 10213,
        "start_time": "2023-03-11T15:59:52.798Z"
      },
      {
        "duration": 25,
        "start_time": "2023-03-11T16:00:03.014Z"
      },
      {
        "duration": 22,
        "start_time": "2023-03-11T16:00:48.056Z"
      },
      {
        "duration": 5,
        "start_time": "2023-03-11T16:01:13.545Z"
      },
      {
        "duration": 8824,
        "start_time": "2023-03-11T16:01:13.797Z"
      },
      {
        "duration": 12,
        "start_time": "2023-03-11T16:01:22.624Z"
      },
      {
        "duration": 10,
        "start_time": "2023-03-11T16:01:32.184Z"
      },
      {
        "duration": 10674,
        "start_time": "2023-03-11T16:01:32.380Z"
      },
      {
        "duration": 20,
        "start_time": "2023-03-11T16:01:43.057Z"
      },
      {
        "duration": 5,
        "start_time": "2023-03-11T16:02:18.416Z"
      },
      {
        "duration": 3906,
        "start_time": "2023-03-11T16:02:18.672Z"
      },
      {
        "duration": 15,
        "start_time": "2023-03-11T16:02:22.580Z"
      },
      {
        "duration": 11,
        "start_time": "2023-03-11T16:04:04.869Z"
      },
      {
        "duration": 60,
        "start_time": "2023-03-11T16:04:05.205Z"
      },
      {
        "duration": 1448,
        "start_time": "2023-03-11T16:06:56.072Z"
      },
      {
        "duration": 1019,
        "start_time": "2023-03-11T16:06:57.521Z"
      },
      {
        "duration": 14,
        "start_time": "2023-03-11T16:06:58.542Z"
      },
      {
        "duration": 52,
        "start_time": "2023-03-11T16:06:58.558Z"
      },
      {
        "duration": 26,
        "start_time": "2023-03-11T16:06:58.612Z"
      },
      {
        "duration": 5,
        "start_time": "2023-03-11T16:06:58.640Z"
      },
      {
        "duration": 273,
        "start_time": "2023-03-11T16:06:58.647Z"
      },
      {
        "duration": 7,
        "start_time": "2023-03-11T16:06:58.923Z"
      },
      {
        "duration": 11425,
        "start_time": "2023-03-11T16:06:58.933Z"
      },
      {
        "duration": 25,
        "start_time": "2023-03-11T16:07:10.361Z"
      },
      {
        "duration": 11,
        "start_time": "2023-03-11T16:07:10.392Z"
      },
      {
        "duration": 11,
        "start_time": "2023-03-11T16:07:10.404Z"
      },
      {
        "duration": 21,
        "start_time": "2023-03-11T16:07:10.417Z"
      },
      {
        "duration": 3646,
        "start_time": "2023-03-11T16:07:10.441Z"
      },
      {
        "duration": 12,
        "start_time": "2023-03-11T16:07:14.089Z"
      },
      {
        "duration": 7,
        "start_time": "2023-03-11T16:07:14.103Z"
      },
      {
        "duration": 9399,
        "start_time": "2023-03-11T16:07:14.112Z"
      },
      {
        "duration": 11,
        "start_time": "2023-03-11T16:07:23.513Z"
      },
      {
        "duration": 7,
        "start_time": "2023-03-11T16:07:23.526Z"
      },
      {
        "duration": 9344,
        "start_time": "2023-03-11T16:07:23.535Z"
      },
      {
        "duration": 30,
        "start_time": "2023-03-11T16:07:32.881Z"
      },
      {
        "duration": 14,
        "start_time": "2023-03-11T16:07:32.913Z"
      },
      {
        "duration": 24038,
        "start_time": "2023-03-11T16:07:32.929Z"
      },
      {
        "duration": 28,
        "start_time": "2023-03-11T16:07:56.970Z"
      },
      {
        "duration": 0,
        "start_time": "2023-03-11T16:07:57.001Z"
      },
      {
        "duration": 188,
        "start_time": "2023-03-11T16:08:07.451Z"
      },
      {
        "duration": 6,
        "start_time": "2023-03-11T16:09:15.232Z"
      },
      {
        "duration": 37621,
        "start_time": "2023-03-11T16:09:15.507Z"
      },
      {
        "duration": 51,
        "start_time": "2023-03-11T16:09:53.131Z"
      },
      {
        "duration": 37,
        "start_time": "2023-03-11T16:10:04.391Z"
      },
      {
        "duration": 37,
        "start_time": "2023-03-11T16:10:32.634Z"
      },
      {
        "duration": 7,
        "start_time": "2023-03-11T16:10:52.644Z"
      },
      {
        "duration": 36684,
        "start_time": "2023-03-11T16:10:52.856Z"
      },
      {
        "duration": 8,
        "start_time": "2023-03-11T16:11:36.284Z"
      },
      {
        "duration": 197,
        "start_time": "2023-03-11T16:11:37.848Z"
      },
      {
        "duration": 6,
        "start_time": "2023-03-11T16:12:24.093Z"
      },
      {
        "duration": 117,
        "start_time": "2023-03-11T16:12:24.363Z"
      },
      {
        "duration": 61,
        "start_time": "2023-03-11T16:12:59.684Z"
      },
      {
        "duration": 10,
        "start_time": "2023-03-11T16:13:10.601Z"
      },
      {
        "duration": 193,
        "start_time": "2023-03-11T16:13:11.488Z"
      },
      {
        "duration": 222942,
        "start_time": "2023-03-11T16:15:20.828Z"
      },
      {
        "duration": 26,
        "start_time": "2023-03-11T16:19:03.773Z"
      },
      {
        "duration": 36,
        "start_time": "2023-03-11T16:19:13.465Z"
      },
      {
        "duration": 82,
        "start_time": "2023-03-11T16:20:51.434Z"
      },
      {
        "duration": 160,
        "start_time": "2023-03-11T16:21:53.978Z"
      },
      {
        "duration": 170,
        "start_time": "2023-03-11T16:22:00.433Z"
      },
      {
        "duration": 100,
        "start_time": "2023-03-11T16:22:14.823Z"
      },
      {
        "duration": 105,
        "start_time": "2023-03-11T16:22:21.134Z"
      },
      {
        "duration": 2616,
        "start_time": "2023-03-11T16:23:29.472Z"
      },
      {
        "duration": 1569,
        "start_time": "2023-03-11T16:23:32.090Z"
      },
      {
        "duration": 46,
        "start_time": "2023-03-11T16:23:33.661Z"
      },
      {
        "duration": 207,
        "start_time": "2023-03-11T16:23:33.716Z"
      },
      {
        "duration": 74,
        "start_time": "2023-03-11T16:23:33.929Z"
      },
      {
        "duration": 30,
        "start_time": "2023-03-11T16:23:34.012Z"
      },
      {
        "duration": 361,
        "start_time": "2023-03-11T16:23:34.047Z"
      },
      {
        "duration": 9,
        "start_time": "2023-03-11T16:23:34.410Z"
      },
      {
        "duration": 575816,
        "start_time": "2023-03-11T16:23:34.422Z"
      },
      {
        "duration": 14,
        "start_time": "2023-03-11T16:33:10.242Z"
      },
      {
        "duration": 32,
        "start_time": "2023-03-11T16:33:10.258Z"
      },
      {
        "duration": 21,
        "start_time": "2023-03-11T16:33:10.298Z"
      },
      {
        "duration": 28,
        "start_time": "2023-03-11T16:33:10.321Z"
      },
      {
        "duration": 601600,
        "start_time": "2023-03-11T16:33:10.351Z"
      },
      {
        "duration": 19,
        "start_time": "2023-03-11T16:43:11.953Z"
      },
      {
        "duration": 23,
        "start_time": "2023-03-11T16:43:11.975Z"
      },
      {
        "duration": 867680,
        "start_time": "2023-03-11T16:43:12.000Z"
      },
      {
        "duration": 14,
        "start_time": "2023-03-11T16:57:39.683Z"
      },
      {
        "duration": 18,
        "start_time": "2023-03-11T16:57:39.699Z"
      },
      {
        "duration": 478184,
        "start_time": "2023-03-11T16:57:39.719Z"
      },
      {
        "duration": 31,
        "start_time": "2023-03-11T17:05:37.905Z"
      },
      {
        "duration": 3420,
        "start_time": "2023-03-11T17:05:37.938Z"
      }
    ],
    "colab": {
      "provenance": []
    },
    "kernelspec": {
      "display_name": "Python 3 (ipykernel)",
      "language": "python",
      "name": "python3"
    },
    "language_info": {
      "codemirror_mode": {
        "name": "ipython",
        "version": 3
      },
      "file_extension": ".py",
      "mimetype": "text/x-python",
      "name": "python",
      "nbconvert_exporter": "python",
      "pygments_lexer": "ipython3",
      "version": "3.10.9"
    },
    "toc": {
      "base_numbering": 1,
      "nav_menu": {},
      "number_sections": true,
      "sideBar": true,
      "skip_h1_title": true,
      "title_cell": "Содержание",
      "title_sidebar": "Contents",
      "toc_cell": true,
      "toc_position": {
        "height": "calc(100% - 180px)",
        "left": "10px",
        "top": "150px",
        "width": "302.391px"
      },
      "toc_section_display": true,
      "toc_window_display": false
    }
  },
  "nbformat": 4,
  "nbformat_minor": 0
}
