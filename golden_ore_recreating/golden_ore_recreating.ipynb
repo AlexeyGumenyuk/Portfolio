{
 "cells": [
  {
   "attachments": {},
   "cell_type": "markdown",
   "metadata": {},
   "source": [
    "# Восстановление золота из руды"
   ]
  },
  {
   "attachments": {},
   "cell_type": "markdown",
   "metadata": {},
   "source": [
    "Необходимо подготовить прототип модели машинного обучения для «Цифры». Компания разрабатывает решения для эффективной работы промышленных предприятий.\n",
    "\n",
    "Модель должна предсказать коэффициент восстановления золота из золотосодержащей руды. Использованы данные с параметрами добычи и очистки. \n",
    "\n",
    "Модель поможет оптимизировать производство, чтобы не запускать предприятие с убыточными характеристиками.\n",
    "\n",
    "Необходимо:\n",
    "\n",
    "1. Подготовить данные;\n",
    "2. Провести исследовательский анализ данных;\n",
    "3. Построить и обучить модель."
   ]
  },
  {
   "attachments": {},
   "cell_type": "markdown",
   "metadata": {},
   "source": [
    "**Содержание**<a id='toc0_'></a>    \n",
    "- 1. [Подготовка данных](#toc1_)    \n",
    "- 2. [Анализ данных](#toc2_)    \n",
    "- 3. [Модель](#toc3_)    \n",
    "  - 3.1. [Решающее дерево](#toc3_1_)    \n",
    "  - 3.2. [Случайный лес](#toc3_2_)    \n",
    "  - 3.3. [Тестирование лучшей модели](#toc3_3_)    \n",
    "- 4. [Итоговый вывод](#toc4_)    \n",
    "- 5. [Чек-лист готовности проекта](#toc5_)    \n",
    "\n",
    "<!-- vscode-jupyter-toc-config\n",
    "\tnumbering=true\n",
    "\tanchor=true\n",
    "\tflat=false\n",
    "\tminLevel=2\n",
    "\tmaxLevel=6\n",
    "\t/vscode-jupyter-toc-config -->\n",
    "<!-- THIS CELL WILL BE REPLACED ON TOC UPDATE. DO NOT WRITE YOUR TEXT IN THIS CELL -->"
   ]
  },
  {
   "attachments": {},
   "cell_type": "markdown",
   "metadata": {},
   "source": [
    "## 1. <a id='toc1_'></a>[Подготовка данных](#toc0_)"
   ]
  },
  {
   "cell_type": "code",
   "execution_count": 1,
   "metadata": {},
   "outputs": [],
   "source": [
    "import warnings\n",
    "import pandas as pd\n",
    "import numpy as np\n",
    "import matplotlib.pyplot as plt\n",
    "import seaborn as sns\n",
    "\n",
    "from sklearn.metrics import mean_absolute_error as mae\n",
    "from sklearn.preprocessing import StandardScaler\n",
    "from sklearn.tree import DecisionTreeRegressor\n",
    "from sklearn.ensemble import RandomForestRegressor\n",
    "from sklearn.model_selection import cross_val_score\n",
    "from sklearn.model_selection import GridSearchCV\n",
    "from sklearn.model_selection import RandomizedSearchCV\n",
    "from sklearn.experimental import enable_halving_search_cv\n",
    "from sklearn.model_selection import HalvingGridSearchCV\n",
    "from sklearn.metrics import make_scorer"
   ]
  },
  {
   "attachments": {},
   "cell_type": "markdown",
   "metadata": {},
   "source": [
    "Импортируем и изучим данные."
   ]
  },
  {
   "cell_type": "code",
   "execution_count": 2,
   "metadata": {},
   "outputs": [],
   "source": [
    "raw_train_data = pd.read_csv('gold_recovery_train_new.csv', index_col='date')\n",
    "raw_test_data = pd.read_csv('gold_recovery_test_new.csv', index_col='date')\n",
    "raw_full_data = pd.read_csv('gold_recovery_full_new.csv', index_col='date')"
   ]
  },
  {
   "cell_type": "code",
   "execution_count": 3,
   "metadata": {
    "scrolled": true
   },
   "outputs": [
    {
     "name": "stdout",
     "output_type": "stream",
     "text": [
      "<class 'pandas.core.frame.DataFrame'>\n",
      "Index: 14149 entries, 2016-01-15 00:00:00 to 2018-08-18 10:59:59\n",
      "Data columns (total 86 columns):\n",
      " #   Column                                              Non-Null Count  Dtype  \n",
      "---  ------                                              --------------  -----  \n",
      " 0   final.output.concentrate_ag                         14148 non-null  float64\n",
      " 1   final.output.concentrate_pb                         14148 non-null  float64\n",
      " 2   final.output.concentrate_sol                        13938 non-null  float64\n",
      " 3   final.output.concentrate_au                         14149 non-null  float64\n",
      " 4   final.output.recovery                               14149 non-null  float64\n",
      " 5   final.output.tail_ag                                14149 non-null  float64\n",
      " 6   final.output.tail_pb                                14049 non-null  float64\n",
      " 7   final.output.tail_sol                               14144 non-null  float64\n",
      " 8   final.output.tail_au                                14149 non-null  float64\n",
      " 9   primary_cleaner.input.sulfate                       14129 non-null  float64\n",
      " 10  primary_cleaner.input.depressant                    14117 non-null  float64\n",
      " 11  primary_cleaner.input.feed_size                     14149 non-null  float64\n",
      " 12  primary_cleaner.input.xanthate                      14049 non-null  float64\n",
      " 13  primary_cleaner.output.concentrate_ag               14149 non-null  float64\n",
      " 14  primary_cleaner.output.concentrate_pb               14063 non-null  float64\n",
      " 15  primary_cleaner.output.concentrate_sol              13863 non-null  float64\n",
      " 16  primary_cleaner.output.concentrate_au               14149 non-null  float64\n",
      " 17  primary_cleaner.output.tail_ag                      14148 non-null  float64\n",
      " 18  primary_cleaner.output.tail_pb                      14134 non-null  float64\n",
      " 19  primary_cleaner.output.tail_sol                     14103 non-null  float64\n",
      " 20  primary_cleaner.output.tail_au                      14149 non-null  float64\n",
      " 21  primary_cleaner.state.floatbank8_a_air              14145 non-null  float64\n",
      " 22  primary_cleaner.state.floatbank8_a_level            14148 non-null  float64\n",
      " 23  primary_cleaner.state.floatbank8_b_air              14145 non-null  float64\n",
      " 24  primary_cleaner.state.floatbank8_b_level            14148 non-null  float64\n",
      " 25  primary_cleaner.state.floatbank8_c_air              14147 non-null  float64\n",
      " 26  primary_cleaner.state.floatbank8_c_level            14148 non-null  float64\n",
      " 27  primary_cleaner.state.floatbank8_d_air              14146 non-null  float64\n",
      " 28  primary_cleaner.state.floatbank8_d_level            14148 non-null  float64\n",
      " 29  rougher.calculation.sulfate_to_au_concentrate       14148 non-null  float64\n",
      " 30  rougher.calculation.floatbank10_sulfate_to_au_feed  14148 non-null  float64\n",
      " 31  rougher.calculation.floatbank11_sulfate_to_au_feed  14148 non-null  float64\n",
      " 32  rougher.calculation.au_pb_ratio                     14149 non-null  float64\n",
      " 33  rougher.input.feed_ag                               14149 non-null  float64\n",
      " 34  rougher.input.feed_pb                               14049 non-null  float64\n",
      " 35  rougher.input.feed_rate                             14141 non-null  float64\n",
      " 36  rougher.input.feed_size                             14005 non-null  float64\n",
      " 37  rougher.input.feed_sol                              14071 non-null  float64\n",
      " 38  rougher.input.feed_au                               14149 non-null  float64\n",
      " 39  rougher.input.floatbank10_sulfate                   14120 non-null  float64\n",
      " 40  rougher.input.floatbank10_xanthate                  14141 non-null  float64\n",
      " 41  rougher.input.floatbank11_sulfate                   14113 non-null  float64\n",
      " 42  rougher.input.floatbank11_xanthate                  13721 non-null  float64\n",
      " 43  rougher.output.concentrate_ag                       14149 non-null  float64\n",
      " 44  rougher.output.concentrate_pb                       14149 non-null  float64\n",
      " 45  rougher.output.concentrate_sol                      14127 non-null  float64\n",
      " 46  rougher.output.concentrate_au                       14149 non-null  float64\n",
      " 47  rougher.output.recovery                             14149 non-null  float64\n",
      " 48  rougher.output.tail_ag                              14148 non-null  float64\n",
      " 49  rougher.output.tail_pb                              14149 non-null  float64\n",
      " 50  rougher.output.tail_sol                             14149 non-null  float64\n",
      " 51  rougher.output.tail_au                              14149 non-null  float64\n",
      " 52  rougher.state.floatbank10_a_air                     14148 non-null  float64\n",
      " 53  rougher.state.floatbank10_a_level                   14148 non-null  float64\n",
      " 54  rougher.state.floatbank10_b_air                     14148 non-null  float64\n",
      " 55  rougher.state.floatbank10_b_level                   14148 non-null  float64\n",
      " 56  rougher.state.floatbank10_c_air                     14148 non-null  float64\n",
      " 57  rougher.state.floatbank10_c_level                   14148 non-null  float64\n",
      " 58  rougher.state.floatbank10_d_air                     14149 non-null  float64\n",
      " 59  rougher.state.floatbank10_d_level                   14149 non-null  float64\n",
      " 60  rougher.state.floatbank10_e_air                     13713 non-null  float64\n",
      " 61  rougher.state.floatbank10_e_level                   14149 non-null  float64\n",
      " 62  rougher.state.floatbank10_f_air                     14149 non-null  float64\n",
      " 63  rougher.state.floatbank10_f_level                   14149 non-null  float64\n",
      " 64  secondary_cleaner.output.tail_ag                    14147 non-null  float64\n",
      " 65  secondary_cleaner.output.tail_pb                    14139 non-null  float64\n",
      " 66  secondary_cleaner.output.tail_sol                   12544 non-null  float64\n",
      " 67  secondary_cleaner.output.tail_au                    14149 non-null  float64\n",
      " 68  secondary_cleaner.state.floatbank2_a_air            13932 non-null  float64\n",
      " 69  secondary_cleaner.state.floatbank2_a_level          14148 non-null  float64\n",
      " 70  secondary_cleaner.state.floatbank2_b_air            14128 non-null  float64\n",
      " 71  secondary_cleaner.state.floatbank2_b_level          14148 non-null  float64\n",
      " 72  secondary_cleaner.state.floatbank3_a_air            14145 non-null  float64\n",
      " 73  secondary_cleaner.state.floatbank3_a_level          14148 non-null  float64\n",
      " 74  secondary_cleaner.state.floatbank3_b_air            14148 non-null  float64\n",
      " 75  secondary_cleaner.state.floatbank3_b_level          14148 non-null  float64\n",
      " 76  secondary_cleaner.state.floatbank4_a_air            14143 non-null  float64\n",
      " 77  secondary_cleaner.state.floatbank4_a_level          14148 non-null  float64\n",
      " 78  secondary_cleaner.state.floatbank4_b_air            14148 non-null  float64\n",
      " 79  secondary_cleaner.state.floatbank4_b_level          14148 non-null  float64\n",
      " 80  secondary_cleaner.state.floatbank5_a_air            14148 non-null  float64\n",
      " 81  secondary_cleaner.state.floatbank5_a_level          14148 non-null  float64\n",
      " 82  secondary_cleaner.state.floatbank5_b_air            14148 non-null  float64\n",
      " 83  secondary_cleaner.state.floatbank5_b_level          14148 non-null  float64\n",
      " 84  secondary_cleaner.state.floatbank6_a_air            14147 non-null  float64\n",
      " 85  secondary_cleaner.state.floatbank6_a_level          14148 non-null  float64\n",
      "dtypes: float64(86)\n",
      "memory usage: 9.4+ MB\n"
     ]
    }
   ],
   "source": [
    "raw_train_data.info()"
   ]
  },
  {
   "cell_type": "code",
   "execution_count": 4,
   "metadata": {
    "scrolled": true
   },
   "outputs": [
    {
     "name": "stdout",
     "output_type": "stream",
     "text": [
      "<class 'pandas.core.frame.DataFrame'>\n",
      "Index: 5290 entries, 2016-09-01 00:59:59 to 2017-12-31 23:59:59\n",
      "Data columns (total 52 columns):\n",
      " #   Column                                      Non-Null Count  Dtype  \n",
      "---  ------                                      --------------  -----  \n",
      " 0   primary_cleaner.input.sulfate               5286 non-null   float64\n",
      " 1   primary_cleaner.input.depressant            5285 non-null   float64\n",
      " 2   primary_cleaner.input.feed_size             5290 non-null   float64\n",
      " 3   primary_cleaner.input.xanthate              5286 non-null   float64\n",
      " 4   primary_cleaner.state.floatbank8_a_air      5290 non-null   float64\n",
      " 5   primary_cleaner.state.floatbank8_a_level    5290 non-null   float64\n",
      " 6   primary_cleaner.state.floatbank8_b_air      5290 non-null   float64\n",
      " 7   primary_cleaner.state.floatbank8_b_level    5290 non-null   float64\n",
      " 8   primary_cleaner.state.floatbank8_c_air      5290 non-null   float64\n",
      " 9   primary_cleaner.state.floatbank8_c_level    5290 non-null   float64\n",
      " 10  primary_cleaner.state.floatbank8_d_air      5290 non-null   float64\n",
      " 11  primary_cleaner.state.floatbank8_d_level    5290 non-null   float64\n",
      " 12  rougher.input.feed_ag                       5290 non-null   float64\n",
      " 13  rougher.input.feed_pb                       5290 non-null   float64\n",
      " 14  rougher.input.feed_rate                     5287 non-null   float64\n",
      " 15  rougher.input.feed_size                     5289 non-null   float64\n",
      " 16  rougher.input.feed_sol                      5269 non-null   float64\n",
      " 17  rougher.input.feed_au                       5290 non-null   float64\n",
      " 18  rougher.input.floatbank10_sulfate           5285 non-null   float64\n",
      " 19  rougher.input.floatbank10_xanthate          5290 non-null   float64\n",
      " 20  rougher.input.floatbank11_sulfate           5282 non-null   float64\n",
      " 21  rougher.input.floatbank11_xanthate          5265 non-null   float64\n",
      " 22  rougher.state.floatbank10_a_air             5290 non-null   float64\n",
      " 23  rougher.state.floatbank10_a_level           5290 non-null   float64\n",
      " 24  rougher.state.floatbank10_b_air             5290 non-null   float64\n",
      " 25  rougher.state.floatbank10_b_level           5290 non-null   float64\n",
      " 26  rougher.state.floatbank10_c_air             5290 non-null   float64\n",
      " 27  rougher.state.floatbank10_c_level           5290 non-null   float64\n",
      " 28  rougher.state.floatbank10_d_air             5290 non-null   float64\n",
      " 29  rougher.state.floatbank10_d_level           5290 non-null   float64\n",
      " 30  rougher.state.floatbank10_e_air             5290 non-null   float64\n",
      " 31  rougher.state.floatbank10_e_level           5290 non-null   float64\n",
      " 32  rougher.state.floatbank10_f_air             5290 non-null   float64\n",
      " 33  rougher.state.floatbank10_f_level           5290 non-null   float64\n",
      " 34  secondary_cleaner.state.floatbank2_a_air    5287 non-null   float64\n",
      " 35  secondary_cleaner.state.floatbank2_a_level  5290 non-null   float64\n",
      " 36  secondary_cleaner.state.floatbank2_b_air    5288 non-null   float64\n",
      " 37  secondary_cleaner.state.floatbank2_b_level  5290 non-null   float64\n",
      " 38  secondary_cleaner.state.floatbank3_a_air    5281 non-null   float64\n",
      " 39  secondary_cleaner.state.floatbank3_a_level  5290 non-null   float64\n",
      " 40  secondary_cleaner.state.floatbank3_b_air    5290 non-null   float64\n",
      " 41  secondary_cleaner.state.floatbank3_b_level  5290 non-null   float64\n",
      " 42  secondary_cleaner.state.floatbank4_a_air    5290 non-null   float64\n",
      " 43  secondary_cleaner.state.floatbank4_a_level  5290 non-null   float64\n",
      " 44  secondary_cleaner.state.floatbank4_b_air    5290 non-null   float64\n",
      " 45  secondary_cleaner.state.floatbank4_b_level  5290 non-null   float64\n",
      " 46  secondary_cleaner.state.floatbank5_a_air    5290 non-null   float64\n",
      " 47  secondary_cleaner.state.floatbank5_a_level  5290 non-null   float64\n",
      " 48  secondary_cleaner.state.floatbank5_b_air    5290 non-null   float64\n",
      " 49  secondary_cleaner.state.floatbank5_b_level  5290 non-null   float64\n",
      " 50  secondary_cleaner.state.floatbank6_a_air    5290 non-null   float64\n",
      " 51  secondary_cleaner.state.floatbank6_a_level  5290 non-null   float64\n",
      "dtypes: float64(52)\n",
      "memory usage: 2.1+ MB\n"
     ]
    }
   ],
   "source": [
    "raw_test_data.info()"
   ]
  },
  {
   "cell_type": "code",
   "execution_count": 5,
   "metadata": {
    "scrolled": true
   },
   "outputs": [
    {
     "name": "stdout",
     "output_type": "stream",
     "text": [
      "<class 'pandas.core.frame.DataFrame'>\n",
      "Index: 19439 entries, 2016-01-15 00:00:00 to 2018-08-18 10:59:59\n",
      "Data columns (total 86 columns):\n",
      " #   Column                                              Non-Null Count  Dtype  \n",
      "---  ------                                              --------------  -----  \n",
      " 0   final.output.concentrate_ag                         19438 non-null  float64\n",
      " 1   final.output.concentrate_pb                         19438 non-null  float64\n",
      " 2   final.output.concentrate_sol                        19228 non-null  float64\n",
      " 3   final.output.concentrate_au                         19439 non-null  float64\n",
      " 4   final.output.recovery                               19439 non-null  float64\n",
      " 5   final.output.tail_ag                                19438 non-null  float64\n",
      " 6   final.output.tail_pb                                19338 non-null  float64\n",
      " 7   final.output.tail_sol                               19433 non-null  float64\n",
      " 8   final.output.tail_au                                19439 non-null  float64\n",
      " 9   primary_cleaner.input.sulfate                       19415 non-null  float64\n",
      " 10  primary_cleaner.input.depressant                    19402 non-null  float64\n",
      " 11  primary_cleaner.input.feed_size                     19439 non-null  float64\n",
      " 12  primary_cleaner.input.xanthate                      19335 non-null  float64\n",
      " 13  primary_cleaner.output.concentrate_ag               19439 non-null  float64\n",
      " 14  primary_cleaner.output.concentrate_pb               19323 non-null  float64\n",
      " 15  primary_cleaner.output.concentrate_sol              19069 non-null  float64\n",
      " 16  primary_cleaner.output.concentrate_au               19439 non-null  float64\n",
      " 17  primary_cleaner.output.tail_ag                      19435 non-null  float64\n",
      " 18  primary_cleaner.output.tail_pb                      19418 non-null  float64\n",
      " 19  primary_cleaner.output.tail_sol                     19377 non-null  float64\n",
      " 20  primary_cleaner.output.tail_au                      19439 non-null  float64\n",
      " 21  primary_cleaner.state.floatbank8_a_air              19435 non-null  float64\n",
      " 22  primary_cleaner.state.floatbank8_a_level            19438 non-null  float64\n",
      " 23  primary_cleaner.state.floatbank8_b_air              19435 non-null  float64\n",
      " 24  primary_cleaner.state.floatbank8_b_level            19438 non-null  float64\n",
      " 25  primary_cleaner.state.floatbank8_c_air              19437 non-null  float64\n",
      " 26  primary_cleaner.state.floatbank8_c_level            19438 non-null  float64\n",
      " 27  primary_cleaner.state.floatbank8_d_air              19436 non-null  float64\n",
      " 28  primary_cleaner.state.floatbank8_d_level            19438 non-null  float64\n",
      " 29  rougher.calculation.sulfate_to_au_concentrate       19437 non-null  float64\n",
      " 30  rougher.calculation.floatbank10_sulfate_to_au_feed  19437 non-null  float64\n",
      " 31  rougher.calculation.floatbank11_sulfate_to_au_feed  19437 non-null  float64\n",
      " 32  rougher.calculation.au_pb_ratio                     19439 non-null  float64\n",
      " 33  rougher.input.feed_ag                               19439 non-null  float64\n",
      " 34  rougher.input.feed_pb                               19339 non-null  float64\n",
      " 35  rougher.input.feed_rate                             19428 non-null  float64\n",
      " 36  rougher.input.feed_size                             19294 non-null  float64\n",
      " 37  rougher.input.feed_sol                              19340 non-null  float64\n",
      " 38  rougher.input.feed_au                               19439 non-null  float64\n",
      " 39  rougher.input.floatbank10_sulfate                   19405 non-null  float64\n",
      " 40  rougher.input.floatbank10_xanthate                  19431 non-null  float64\n",
      " 41  rougher.input.floatbank11_sulfate                   19395 non-null  float64\n",
      " 42  rougher.input.floatbank11_xanthate                  18986 non-null  float64\n",
      " 43  rougher.output.concentrate_ag                       19439 non-null  float64\n",
      " 44  rougher.output.concentrate_pb                       19439 non-null  float64\n",
      " 45  rougher.output.concentrate_sol                      19416 non-null  float64\n",
      " 46  rougher.output.concentrate_au                       19439 non-null  float64\n",
      " 47  rougher.output.recovery                             19439 non-null  float64\n",
      " 48  rougher.output.tail_ag                              19438 non-null  float64\n",
      " 49  rougher.output.tail_pb                              19439 non-null  float64\n",
      " 50  rougher.output.tail_sol                             19439 non-null  float64\n",
      " 51  rougher.output.tail_au                              19439 non-null  float64\n",
      " 52  rougher.state.floatbank10_a_air                     19438 non-null  float64\n",
      " 53  rougher.state.floatbank10_a_level                   19438 non-null  float64\n",
      " 54  rougher.state.floatbank10_b_air                     19438 non-null  float64\n",
      " 55  rougher.state.floatbank10_b_level                   19438 non-null  float64\n",
      " 56  rougher.state.floatbank10_c_air                     19438 non-null  float64\n",
      " 57  rougher.state.floatbank10_c_level                   19438 non-null  float64\n",
      " 58  rougher.state.floatbank10_d_air                     19439 non-null  float64\n",
      " 59  rougher.state.floatbank10_d_level                   19439 non-null  float64\n",
      " 60  rougher.state.floatbank10_e_air                     19003 non-null  float64\n",
      " 61  rougher.state.floatbank10_e_level                   19439 non-null  float64\n",
      " 62  rougher.state.floatbank10_f_air                     19439 non-null  float64\n",
      " 63  rougher.state.floatbank10_f_level                   19439 non-null  float64\n",
      " 64  secondary_cleaner.output.tail_ag                    19437 non-null  float64\n",
      " 65  secondary_cleaner.output.tail_pb                    19427 non-null  float64\n",
      " 66  secondary_cleaner.output.tail_sol                   17691 non-null  float64\n",
      " 67  secondary_cleaner.output.tail_au                    19439 non-null  float64\n",
      " 68  secondary_cleaner.state.floatbank2_a_air            19219 non-null  float64\n",
      " 69  secondary_cleaner.state.floatbank2_a_level          19438 non-null  float64\n",
      " 70  secondary_cleaner.state.floatbank2_b_air            19416 non-null  float64\n",
      " 71  secondary_cleaner.state.floatbank2_b_level          19438 non-null  float64\n",
      " 72  secondary_cleaner.state.floatbank3_a_air            19426 non-null  float64\n",
      " 73  secondary_cleaner.state.floatbank3_a_level          19438 non-null  float64\n",
      " 74  secondary_cleaner.state.floatbank3_b_air            19438 non-null  float64\n",
      " 75  secondary_cleaner.state.floatbank3_b_level          19438 non-null  float64\n",
      " 76  secondary_cleaner.state.floatbank4_a_air            19433 non-null  float64\n",
      " 77  secondary_cleaner.state.floatbank4_a_level          19438 non-null  float64\n",
      " 78  secondary_cleaner.state.floatbank4_b_air            19438 non-null  float64\n",
      " 79  secondary_cleaner.state.floatbank4_b_level          19438 non-null  float64\n",
      " 80  secondary_cleaner.state.floatbank5_a_air            19438 non-null  float64\n",
      " 81  secondary_cleaner.state.floatbank5_a_level          19438 non-null  float64\n",
      " 82  secondary_cleaner.state.floatbank5_b_air            19438 non-null  float64\n",
      " 83  secondary_cleaner.state.floatbank5_b_level          19438 non-null  float64\n",
      " 84  secondary_cleaner.state.floatbank6_a_air            19437 non-null  float64\n",
      " 85  secondary_cleaner.state.floatbank6_a_level          19438 non-null  float64\n",
      "dtypes: float64(86)\n",
      "memory usage: 12.9+ MB\n"
     ]
    }
   ],
   "source": [
    "raw_full_data.info()"
   ]
  },
  {
   "attachments": {},
   "cell_type": "markdown",
   "metadata": {},
   "source": [
    "Для начала проверим, правильно ли найдена эффективность обогащения `rougher.output.recovery`. Напишем функцию для её вычисления и найдём МАЕ между расчётами и значением признака."
   ]
  },
  {
   "cell_type": "code",
   "execution_count": 6,
   "metadata": {},
   "outputs": [],
   "source": [
    "def recovery(c, f, t):\n",
    "    rec = 100 * c * (f - t) / (f * (c - t))\n",
    "    return rec\n",
    "    \n",
    "def rougher_output_recovery(row):\n",
    "    rec = recovery(c=row['rougher.output.concentrate_au'],\n",
    "                   f=row['rougher.input.feed_au'],\n",
    "                   t=row['rougher.output.tail_au'])\n",
    "    return rec"
   ]
  },
  {
   "cell_type": "code",
   "execution_count": 7,
   "metadata": {},
   "outputs": [
    {
     "data": {
      "text/plain": [
       "1.1498046842860452e-14"
      ]
     },
     "execution_count": 7,
     "metadata": {},
     "output_type": "execute_result"
    }
   ],
   "source": [
    "mae(raw_train_data['rougher.output.recovery'],\n",
    "    raw_train_data.apply(rougher_output_recovery, axis=1))"
   ]
  },
  {
   "attachments": {},
   "cell_type": "markdown",
   "metadata": {},
   "source": [
    "Рассматриваемая величина посчитана верно, среднее отклонение значительно меньше значений самой величины.\n",
    "\n",
    "Рассмотрим признаки, общие для всех выборок, а также недоступные в тестовой выборке."
   ]
  },
  {
   "cell_type": "code",
   "execution_count": 8,
   "metadata": {
    "scrolled": true
   },
   "outputs": [
    {
     "data": {
      "text/plain": [
       "['primary_cleaner.input.depressant',\n",
       " 'primary_cleaner.input.feed_size',\n",
       " 'primary_cleaner.input.sulfate',\n",
       " 'primary_cleaner.input.xanthate',\n",
       " 'primary_cleaner.state.floatbank8_a_air',\n",
       " 'primary_cleaner.state.floatbank8_a_level',\n",
       " 'primary_cleaner.state.floatbank8_b_air',\n",
       " 'primary_cleaner.state.floatbank8_b_level',\n",
       " 'primary_cleaner.state.floatbank8_c_air',\n",
       " 'primary_cleaner.state.floatbank8_c_level',\n",
       " 'primary_cleaner.state.floatbank8_d_air',\n",
       " 'primary_cleaner.state.floatbank8_d_level',\n",
       " 'rougher.input.feed_ag',\n",
       " 'rougher.input.feed_au',\n",
       " 'rougher.input.feed_pb',\n",
       " 'rougher.input.feed_rate',\n",
       " 'rougher.input.feed_size',\n",
       " 'rougher.input.feed_sol',\n",
       " 'rougher.input.floatbank10_sulfate',\n",
       " 'rougher.input.floatbank10_xanthate',\n",
       " 'rougher.input.floatbank11_sulfate',\n",
       " 'rougher.input.floatbank11_xanthate',\n",
       " 'rougher.state.floatbank10_a_air',\n",
       " 'rougher.state.floatbank10_a_level',\n",
       " 'rougher.state.floatbank10_b_air',\n",
       " 'rougher.state.floatbank10_b_level',\n",
       " 'rougher.state.floatbank10_c_air',\n",
       " 'rougher.state.floatbank10_c_level',\n",
       " 'rougher.state.floatbank10_d_air',\n",
       " 'rougher.state.floatbank10_d_level',\n",
       " 'rougher.state.floatbank10_e_air',\n",
       " 'rougher.state.floatbank10_e_level',\n",
       " 'rougher.state.floatbank10_f_air',\n",
       " 'rougher.state.floatbank10_f_level',\n",
       " 'secondary_cleaner.state.floatbank2_a_air',\n",
       " 'secondary_cleaner.state.floatbank2_a_level',\n",
       " 'secondary_cleaner.state.floatbank2_b_air',\n",
       " 'secondary_cleaner.state.floatbank2_b_level',\n",
       " 'secondary_cleaner.state.floatbank3_a_air',\n",
       " 'secondary_cleaner.state.floatbank3_a_level',\n",
       " 'secondary_cleaner.state.floatbank3_b_air',\n",
       " 'secondary_cleaner.state.floatbank3_b_level',\n",
       " 'secondary_cleaner.state.floatbank4_a_air',\n",
       " 'secondary_cleaner.state.floatbank4_a_level',\n",
       " 'secondary_cleaner.state.floatbank4_b_air',\n",
       " 'secondary_cleaner.state.floatbank4_b_level',\n",
       " 'secondary_cleaner.state.floatbank5_a_air',\n",
       " 'secondary_cleaner.state.floatbank5_a_level',\n",
       " 'secondary_cleaner.state.floatbank5_b_air',\n",
       " 'secondary_cleaner.state.floatbank5_b_level',\n",
       " 'secondary_cleaner.state.floatbank6_a_air',\n",
       " 'secondary_cleaner.state.floatbank6_a_level']"
      ]
     },
     "execution_count": 8,
     "metadata": {},
     "output_type": "execute_result"
    }
   ],
   "source": [
    "# Общие для всех выборок признаки\n",
    "features_list = sorted(list(\n",
    "    set(raw_train_data.columns).intersection(set(raw_test_data))))\n",
    "features_list"
   ]
  },
  {
   "cell_type": "code",
   "execution_count": 9,
   "metadata": {
    "scrolled": true
   },
   "outputs": [
    {
     "data": {
      "text/plain": [
       "['final.output.concentrate_ag',\n",
       " 'final.output.concentrate_au',\n",
       " 'final.output.concentrate_pb',\n",
       " 'final.output.concentrate_sol',\n",
       " 'final.output.recovery',\n",
       " 'final.output.tail_ag',\n",
       " 'final.output.tail_au',\n",
       " 'final.output.tail_pb',\n",
       " 'final.output.tail_sol',\n",
       " 'primary_cleaner.output.concentrate_ag',\n",
       " 'primary_cleaner.output.concentrate_au',\n",
       " 'primary_cleaner.output.concentrate_pb',\n",
       " 'primary_cleaner.output.concentrate_sol',\n",
       " 'primary_cleaner.output.tail_ag',\n",
       " 'primary_cleaner.output.tail_au',\n",
       " 'primary_cleaner.output.tail_pb',\n",
       " 'primary_cleaner.output.tail_sol',\n",
       " 'rougher.calculation.au_pb_ratio',\n",
       " 'rougher.calculation.floatbank10_sulfate_to_au_feed',\n",
       " 'rougher.calculation.floatbank11_sulfate_to_au_feed',\n",
       " 'rougher.calculation.sulfate_to_au_concentrate',\n",
       " 'rougher.output.concentrate_ag',\n",
       " 'rougher.output.concentrate_au',\n",
       " 'rougher.output.concentrate_pb',\n",
       " 'rougher.output.concentrate_sol',\n",
       " 'rougher.output.recovery',\n",
       " 'rougher.output.tail_ag',\n",
       " 'rougher.output.tail_au',\n",
       " 'rougher.output.tail_pb',\n",
       " 'rougher.output.tail_sol',\n",
       " 'secondary_cleaner.output.tail_ag',\n",
       " 'secondary_cleaner.output.tail_au',\n",
       " 'secondary_cleaner.output.tail_pb',\n",
       " 'secondary_cleaner.output.tail_sol']"
      ]
     },
     "execution_count": 9,
     "metadata": {},
     "output_type": "execute_result"
    }
   ],
   "source": [
    "# Признаки, недоступные в тестовой выборке\n",
    "sorted(list(set(raw_train_data.columns) - set(raw_test_data)))"
   ]
  },
  {
   "attachments": {},
   "cell_type": "markdown",
   "metadata": {},
   "source": [
    "В тестовой выборке недоступны выходные параметры продукта и расчётные характеристики. Все остальные данные присутствуют во всех выборках.\n",
    "\n",
    "Интерес представляют целевые признаки `rougher.output.recovery` и `final.output.recovery`. Отделим их от остальных признаков."
   ]
  },
  {
   "cell_type": "code",
   "execution_count": 10,
   "metadata": {},
   "outputs": [],
   "source": [
    "features_train = raw_train_data[features_list].copy()\n",
    "target_train = raw_train_data[['rougher.output.recovery', 'final.output.recovery']].copy()"
   ]
  },
  {
   "attachments": {},
   "cell_type": "markdown",
   "metadata": {},
   "source": [
    "Учитывая, что одни и те же показатели не сильно изменяются в течение небольшого промежутка времени, а пропусков в данных немного, заполним их ближайшими ранними значениями."
   ]
  },
  {
   "cell_type": "code",
   "execution_count": 11,
   "metadata": {},
   "outputs": [],
   "source": [
    "features_train.fillna(method='ffill', inplace=True)"
   ]
  },
  {
   "attachments": {},
   "cell_type": "markdown",
   "metadata": {},
   "source": [
    "Найдём значения целевых признаков для тестовой выборки, взяв их из исходных данных."
   ]
  },
  {
   "cell_type": "code",
   "execution_count": 12,
   "metadata": {},
   "outputs": [],
   "source": [
    "features_test = raw_test_data.fillna(method='ffill')[features_list]\n",
    "target_test = raw_full_data.loc[raw_test_data.index, ['rougher.output.recovery', 'final.output.recovery']]"
   ]
  },
  {
   "attachments": {},
   "cell_type": "markdown",
   "metadata": {},
   "source": [
    "Проверим размеры полученных датасетов."
   ]
  },
  {
   "cell_type": "code",
   "execution_count": 13,
   "metadata": {},
   "outputs": [
    {
     "name": "stdout",
     "output_type": "stream",
     "text": [
      "(14149, 52) (14149, 2)\n"
     ]
    }
   ],
   "source": [
    "print(features_train.shape, target_train.shape)"
   ]
  },
  {
   "attachments": {},
   "cell_type": "markdown",
   "metadata": {},
   "source": [
    "**Вывод по разделу 1:**\n",
    "- Обучающая выборка содержит 87 признаков, среди которых 52 выбраны для обучения модели, ещё 2 - целевые, остальные (выходные параметры продукта и расчётные характеристики) отсутствуют в тестовой выборке.\n",
    "- Эффективность обогащения в исходных данных рассчитана верно.\n",
    "- Небольшое количество пропусков заполнено предыдущими по времени значениями.\n",
    "- Обучающая выборка разбита на валидационную и непосредственно обучающую, а также отмасштабирована."
   ]
  },
  {
   "attachments": {},
   "cell_type": "markdown",
   "metadata": {},
   "source": [
    "## 2. <a id='toc2_'></a>[Анализ данных](#toc0_)"
   ]
  },
  {
   "attachments": {},
   "cell_type": "markdown",
   "metadata": {},
   "source": [
    "Для начала исследуем данные на мультиколлинеарность. Так как их довольно много, построим хитмэп."
   ]
  },
  {
   "cell_type": "code",
   "execution_count": 14,
   "metadata": {},
   "outputs": [
    {
     "data": {
      "text/plain": [
       "<AxesSubplot: >"
      ]
     },
     "execution_count": 14,
     "metadata": {},
     "output_type": "execute_result"
    },
    {
     "data": {
      "image/png": "[encoded data removed]",
      "text/plain": [
       "<Figure size 1500x1000 with 2 Axes>"
      ]
     },
     "metadata": {},
     "output_type": "display_data"
    }
   ],
   "source": [
    "fig, ax = plt.subplots(figsize=(15, 10))\n",
    "sns.heatmap(features_train.corr().abs())"
   ]
  },
  {
   "attachments": {},
   "cell_type": "markdown",
   "metadata": {},
   "source": [
    "Корреляция между признаками крайне слабая.\n",
    "<br>Некоторые признаки из группы `rougher.state.floatbank` между собой коррелируют сильно - коэф. корреляции > 0.6 (то же с `rougher.input.feed` и `secondary_cleaner.state.floatbank`). \n",
    "\n",
    "Изучим как меняется концентрация металлов (Au, Ag, Pb) на различных этапах очистки, рассмотрев их распределения."
   ]
  },
  {
   "cell_type": "code",
   "execution_count": 15,
   "metadata": {},
   "outputs": [
    {
     "data": {
      "image/png": "[encoded data removed]",
      "text/plain": [
       "<Figure size 1000x800 with 3 Axes>"
      ]
     },
     "metadata": {},
     "output_type": "display_data"
    }
   ],
   "source": [
    "stages = ['rougher.input.feed_', 'rougher.output.concentrate_',\\\n",
    "          'primary_cleaner.output.concentrate_', 'final.output.concentrate_']\n",
    "stages_names = ['До очистки', 'После флотации', 'После первичной очистки', 'Финальная']\n",
    "metalls = ['ag', 'pb', 'au']\n",
    "metalls_names = ['Серебро', 'Свинец', 'Золото']\n",
    "colors = ['red', 'orange', 'yellow', 'green']\n",
    "\n",
    "fig, axes = plt.subplots(nrows=3, figsize=(10, 8))\n",
    "plt.subplots_adjust(hspace=0.5)\n",
    "\n",
    "for ax, metall, metall_name in zip(axes, metalls, metalls_names):\n",
    "    for stage, stage_name, color in zip(stages, stages_names, colors):\n",
    "        sns.histplot(raw_train_data[stage + metall],\n",
    "                     bins=30, label=stage_name, color=color, ax=ax)\\\n",
    "            .set(ylabel='', xlabel='Концентрация, %', xlim=(0, 55))\n",
    "    ax.set(title=metall_name)\n",
    "    ax.legend()"
   ]
  },
  {
   "attachments": {},
   "cell_type": "markdown",
   "metadata": {},
   "source": [
    "Концентрация золота в сырьё увеличивается на каждом этапе очистки, других металлов - почти не изменяется (около 10%).\n",
    "\n",
    "Сравним теперь распределения размеров гранул сырья на обучающей и тестовой выборках."
   ]
  },
  {
   "cell_type": "code",
   "execution_count": 16,
   "metadata": {},
   "outputs": [
    {
     "data": {
      "image/png": "[encoded data removed]",
      "text/plain": [
       "<Figure size 1000x800 with 4 Axes>"
      ]
     },
     "metadata": {},
     "output_type": "display_data"
    }
   ],
   "source": [
    "fig, ax = plt.subplots(nrows=2, ncols=2, figsize=(10, 8))\n",
    "fig.suptitle('Распределения размеров гранул сырья')\n",
    "\n",
    "sns.histplot(x=features_train['rougher.input.feed_size'], ax=ax[0][0])\\\n",
    "            .set(xlabel='', ylabel='Обучающая выборка', xlim=(0, 200))\n",
    "\n",
    "sns.histplot(x=features_test['rougher.input.feed_size'], ax=ax[1][0])\\\n",
    "            .set(xlabel='Перед флотацией', ylabel='Тестовая выборка', xlim=(0, 200))\n",
    "\n",
    "sns.histplot(x=features_train['primary_cleaner.input.feed_size'], ax=ax[0][1])\\\n",
    "            .set(ylabel='', xlabel='', xlim=(4, 12))\n",
    "\n",
    "sns.histplot(x=features_test['primary_cleaner.input.feed_size'], ax=ax[1][1])\\\n",
    "            .set(ylabel='', xlabel='После флотации', xlim=(4, 12));"
   ]
  },
  {
   "attachments": {},
   "cell_type": "markdown",
   "metadata": {},
   "source": [
    "Распределения размеров гранул сырья в обеих выборках практически совпадают.\n",
    "<br>Это условие выполняется на двух стадиях: до флотации и после неё.\n",
    "\n",
    "Исследуем концентрацию всех веществ (Au, Ag, Pb, Sol) на разных стадиях: в сырье, в черновом и финальном концентратах. "
   ]
  },
  {
   "cell_type": "code",
   "execution_count": 17,
   "metadata": {},
   "outputs": [
    {
     "data": {
      "image/png": "[encoded data removed]",
      "text/plain": [
       "<Figure size 800x800 with 3 Axes>"
      ]
     },
     "metadata": {},
     "output_type": "display_data"
    }
   ],
   "source": [
    "stages = ['rougher.input.feed_', 'rougher.output.concentrate_', 'final.output.concentrate_']\n",
    "stages_names = ['Сырьё', 'Черновой концентрат', 'Финальный концентрат']\n",
    "substances = metalls + ['sol']\n",
    "\n",
    "fig, axes = plt.subplots(nrows=3, figsize=(8, 8))\n",
    "plt.subplots_adjust(hspace=0.5)\n",
    "\n",
    "for stage, stage_name, ax in zip(stages, stages_names, axes):\n",
    "    cols = [stage + substance for substance in substances]\n",
    "    \n",
    "    sns.histplot(raw_train_data[cols].sum(axis=1), ax=ax)\\\n",
    "        .set(xlim=(0, 90), xlabel='Концентрация, %', ylabel='')\n",
    "    \n",
    "    ax.set(title=stage_name)"
   ]
  },
  {
   "attachments": {},
   "cell_type": "markdown",
   "metadata": {},
   "source": [
    "На стадии флотации суммарная концентрация обозначенных веществ повышается примерно на 10-15%. После очистки разброс данной величины уменьшается при неизменном среднем, это происходит (скорее всего) из-за увеличения концентрации золота и удаления примесей."
   ]
  },
  {
   "attachments": {},
   "cell_type": "markdown",
   "metadata": {},
   "source": [
    " Необходимо убрать из обучающей выборки выбросы - строки, где суммарная концентрация меньше 10%."
   ]
  },
  {
   "cell_type": "code",
   "execution_count": 18,
   "metadata": {},
   "outputs": [
    {
     "data": {
      "text/plain": [
       "((14149, 86), (14149, 52))"
      ]
     },
     "execution_count": 18,
     "metadata": {},
     "output_type": "execute_result"
    }
   ],
   "source": [
    "raw_train_data.shape, features_train.shape"
   ]
  },
  {
   "cell_type": "code",
   "execution_count": 19,
   "metadata": {},
   "outputs": [
    {
     "name": "stdout",
     "output_type": "stream",
     "text": [
      "Количество дропнутых строк на этапе Сырьё: 12\n",
      "Количество дропнутых строк на этапе Черновой концентрат: 297\n",
      "Количество дропнутых строк на этапе Финальный концентрат: 59\n"
     ]
    }
   ],
   "source": [
    "warnings.simplefilter(\"ignore\", UserWarning)\n",
    "\n",
    "for stage, stage_name in zip(stages, stages_names):\n",
    "    cols = [stage + substance for substance in substances]\n",
    "    condition = raw_train_data[cols].sum(axis=1) < 10\n",
    "    print(f'Количество дропнутых строк на этапе {stage_name}:',\n",
    "          features_train[condition].shape[0])\n",
    "    features_train.drop(features_train[condition].index, inplace=True)\n",
    "    target_train.drop(target_train[condition].index, inplace=True)"
   ]
  },
  {
   "attachments": {},
   "cell_type": "markdown",
   "metadata": {},
   "source": [
    "**Вывод по разделу 2:**\n",
    "- Корреляция между признаками крайне слабая.\n",
    "- Концентрация золота в сырьё увеличивается на каждом этапе очистки, других металлов - почти не изменяется (около 10%).\n",
    "- Распределения размеров гранул сырья в обучающей и тестовой выборках практически совпадают.\n",
    "- На стадии флотации суммарная концентрация веществ (Ag, Pb, Sol) повышается примерно на 10-15%. После очистки разброс данной величины уменьшается при неизменном среднем."
   ]
  },
  {
   "attachments": {},
   "cell_type": "markdown",
   "metadata": {},
   "source": [
    "## 3. <a id='toc3_'></a>[Модель](#toc0_)"
   ]
  },
  {
   "attachments": {},
   "cell_type": "markdown",
   "metadata": {},
   "source": [
    "Напишем функцию для вычисления итоговой sMAPE."
   ]
  },
  {
   "cell_type": "code",
   "execution_count": 20,
   "metadata": {},
   "outputs": [],
   "source": [
    "def smape(target, predictions):\n",
    "    denominator = (target.abs() + predictions.abs()) / 2\n",
    "    result = 100 * ((target - predictions).abs() / denominator).mean()\n",
    "    return result\n",
    "\n",
    "def final_smape(target, predictions):\n",
    "    predictions = pd.DataFrame(predictions, index=target.index, columns=target.columns)\n",
    "    result = 0.25 * smape(target.iloc[:, 0], predictions.iloc[:, 0]) + 0.75 * smape(target.iloc[:, 1], predictions.iloc[:, 1])\n",
    "    return result\n",
    "\n",
    "scorer = make_scorer(final_smape, greater_is_better=False)"
   ]
  },
  {
   "attachments": {},
   "cell_type": "markdown",
   "metadata": {},
   "source": [
    "Обучим модели решающего дерева и случайного леса, выбрав оптимальные гиперапараметры, и проверим их качество кросс-валидацией."
   ]
  },
  {
   "attachments": {},
   "cell_type": "markdown",
   "metadata": {},
   "source": [
    "### 3.1. <a id='toc3_1_'></a>[Решающее дерево](#toc0_)"
   ]
  },
  {
   "cell_type": "code",
   "execution_count": 21,
   "metadata": {},
   "outputs": [],
   "source": [
    "param_grid = {\n",
    "    'max_depth': [10, 20, 50, 100],\n",
    "    'max_features': [None, 2, 3],\n",
    "    'min_samples_leaf': [1, 3, 5],\n",
    "    'min_samples_split': [2, 5, 12],\n",
    "}\n",
    "\n",
    "decision_tree = DecisionTreeRegressor(random_state=42)\n",
    "\n",
    "dt_grid = GridSearchCV(estimator = decision_tree, param_grid = param_grid,\n",
    "                       scoring=scorer, cv = 3, n_jobs = -1, verbose = 1)"
   ]
  },
  {
   "cell_type": "code",
   "execution_count": 22,
   "metadata": {},
   "outputs": [
    {
     "name": "stdout",
     "output_type": "stream",
     "text": [
      "Fitting 3 folds for each of 108 candidates, totalling 324 fits\n",
      "CPU times: total: 5.64 s\n",
      "Wall time: 1min 16s\n"
     ]
    },
    {
     "data": {
      "text/html": [
       "<style>#sk-container-id-1 {color: black;background-color: white;}#sk-container-id-1 pre{padding: 0;}#sk-container-id-1 div.sk-toggleable {background-color: white;}#sk-container-id-1 label.sk-toggleable__label {cursor: pointer;display: block;width: 100%;margin-bottom: 0;padding: 0.3em;box-sizing: border-box;text-align: center;}#sk-container-id-1 label.sk-toggleable__label-arrow:before {content: \"▸\";float: left;margin-right: 0.25em;color: #696969;}#sk-container-id-1 label.sk-toggleable__label-arrow:hover:before {color: black;}#sk-container-id-1 div.sk-estimator:hover label.sk-toggleable__label-arrow:before {color: black;}#sk-container-id-1 div.sk-toggleable__content {max-height: 0;max-width: 0;overflow: hidden;text-align: left;background-color: #f0f8ff;}#sk-container-id-1 div.sk-toggleable__content pre {margin: 0.2em;color: black;border-radius: 0.25em;background-color: #f0f8ff;}#sk-container-id-1 input.sk-toggleable__control:checked~div.sk-toggleable__content {max-height: 200px;max-width: 100%;overflow: auto;}#sk-container-id-1 input.sk-toggleable__control:checked~label.sk-toggleable__label-arrow:before {content: \"▾\";}#sk-container-id-1 div.sk-estimator input.sk-toggleable__control:checked~label.sk-toggleable__label {background-color: #d4ebff;}#sk-container-id-1 div.sk-label input.sk-toggleable__control:checked~label.sk-toggleable__label {background-color: #d4ebff;}#sk-container-id-1 input.sk-hidden--visually {border: 0;clip: rect(1px 1px 1px 1px);clip: rect(1px, 1px, 1px, 1px);height: 1px;margin: -1px;overflow: hidden;padding: 0;position: absolute;width: 1px;}#sk-container-id-1 div.sk-estimator {font-family: monospace;background-color: #f0f8ff;border: 1px dotted black;border-radius: 0.25em;box-sizing: border-box;margin-bottom: 0.5em;}#sk-container-id-1 div.sk-estimator:hover {background-color: #d4ebff;}#sk-container-id-1 div.sk-parallel-item::after {content: \"\";width: 100%;border-bottom: 1px solid gray;flex-grow: 1;}#sk-container-id-1 div.sk-label:hover label.sk-toggleable__label {background-color: #d4ebff;}#sk-container-id-1 div.sk-serial::before {content: \"\";position: absolute;border-left: 1px solid gray;box-sizing: border-box;top: 0;bottom: 0;left: 50%;z-index: 0;}#sk-container-id-1 div.sk-serial {display: flex;flex-direction: column;align-items: center;background-color: white;padding-right: 0.2em;padding-left: 0.2em;position: relative;}#sk-container-id-1 div.sk-item {position: relative;z-index: 1;}#sk-container-id-1 div.sk-parallel {display: flex;align-items: stretch;justify-content: center;background-color: white;position: relative;}#sk-container-id-1 div.sk-item::before, #sk-container-id-1 div.sk-parallel-item::before {content: \"\";position: absolute;border-left: 1px solid gray;box-sizing: border-box;top: 0;bottom: 0;left: 50%;z-index: -1;}#sk-container-id-1 div.sk-parallel-item {display: flex;flex-direction: column;z-index: 1;position: relative;background-color: white;}#sk-container-id-1 div.sk-parallel-item:first-child::after {align-self: flex-end;width: 50%;}#sk-container-id-1 div.sk-parallel-item:last-child::after {align-self: flex-start;width: 50%;}#sk-container-id-1 div.sk-parallel-item:only-child::after {width: 0;}#sk-container-id-1 div.sk-dashed-wrapped {border: 1px dashed gray;margin: 0 0.4em 0.5em 0.4em;box-sizing: border-box;padding-bottom: 0.4em;background-color: white;}#sk-container-id-1 div.sk-label label {font-family: monospace;font-weight: bold;display: inline-block;line-height: 1.2em;}#sk-container-id-1 div.sk-label-container {text-align: center;}#sk-container-id-1 div.sk-container {/* jupyter's `normalize.less` sets `[hidden] { display: none; }` but bootstrap.min.css set `[hidden] { display: none !important; }` so we also need the `!important` here to be able to override the default hidden behavior on the sphinx rendered scikit-learn.org. See: https://github.com/scikit-learn/scikit-learn/issues/21755 */display: inline-block !important;position: relative;}#sk-container-id-1 div.sk-text-repr-fallback {display: none;}</style><div id=\"sk-container-id-1\" class=\"sk-top-container\"><div class=\"sk-text-repr-fallback\"><pre>GridSearchCV(cv=3, estimator=DecisionTreeRegressor(random_state=42), n_jobs=-1,\n",
       "             param_grid={&#x27;max_depth&#x27;: [10, 20, 50, 100],\n",
       "                         &#x27;max_features&#x27;: [None, 2, 3],\n",
       "                         &#x27;min_samples_leaf&#x27;: [1, 3, 5],\n",
       "                         &#x27;min_samples_split&#x27;: [2, 5, 12]},\n",
       "             scoring=make_scorer(final_smape, greater_is_better=False),\n",
       "             verbose=1)</pre><b>In a Jupyter environment, please rerun this cell to show the HTML representation or trust the notebook. <br />On GitHub, the HTML representation is unable to render, please try loading this page with nbviewer.org.</b></div><div class=\"sk-container\" hidden><div class=\"sk-item sk-dashed-wrapped\"><div class=\"sk-label-container\"><div class=\"sk-label sk-toggleable\"><input class=\"sk-toggleable__control sk-hidden--visually\" id=\"sk-estimator-id-1\" type=\"checkbox\" ><label for=\"sk-estimator-id-1\" class=\"sk-toggleable__label sk-toggleable__label-arrow\">GridSearchCV</label><div class=\"sk-toggleable__content\"><pre>GridSearchCV(cv=3, estimator=DecisionTreeRegressor(random_state=42), n_jobs=-1,\n",
       "             param_grid={&#x27;max_depth&#x27;: [10, 20, 50, 100],\n",
       "                         &#x27;max_features&#x27;: [None, 2, 3],\n",
       "                         &#x27;min_samples_leaf&#x27;: [1, 3, 5],\n",
       "                         &#x27;min_samples_split&#x27;: [2, 5, 12]},\n",
       "             scoring=make_scorer(final_smape, greater_is_better=False),\n",
       "             verbose=1)</pre></div></div></div><div class=\"sk-parallel\"><div class=\"sk-parallel-item\"><div class=\"sk-item\"><div class=\"sk-label-container\"><div class=\"sk-label sk-toggleable\"><input class=\"sk-toggleable__control sk-hidden--visually\" id=\"sk-estimator-id-2\" type=\"checkbox\" ><label for=\"sk-estimator-id-2\" class=\"sk-toggleable__label sk-toggleable__label-arrow\">estimator: DecisionTreeRegressor</label><div class=\"sk-toggleable__content\"><pre>DecisionTreeRegressor(random_state=42)</pre></div></div></div><div class=\"sk-serial\"><div class=\"sk-item\"><div class=\"sk-estimator sk-toggleable\"><input class=\"sk-toggleable__control sk-hidden--visually\" id=\"sk-estimator-id-3\" type=\"checkbox\" ><label for=\"sk-estimator-id-3\" class=\"sk-toggleable__label sk-toggleable__label-arrow\">DecisionTreeRegressor</label><div class=\"sk-toggleable__content\"><pre>DecisionTreeRegressor(random_state=42)</pre></div></div></div></div></div></div></div></div></div></div>"
      ],
      "text/plain": [
       "GridSearchCV(cv=3, estimator=DecisionTreeRegressor(random_state=42), n_jobs=-1,\n",
       "             param_grid={'max_depth': [10, 20, 50, 100],\n",
       "                         'max_features': [None, 2, 3],\n",
       "                         'min_samples_leaf': [1, 3, 5],\n",
       "                         'min_samples_split': [2, 5, 12]},\n",
       "             scoring=make_scorer(final_smape, greater_is_better=False),\n",
       "             verbose=1)"
      ]
     },
     "execution_count": 22,
     "metadata": {},
     "output_type": "execute_result"
    }
   ],
   "source": [
    "%%time\n",
    "dt_grid.fit(features_train, target_train)"
   ]
  },
  {
   "cell_type": "code",
   "execution_count": 23,
   "metadata": {},
   "outputs": [
    {
     "name": "stdout",
     "output_type": "stream",
     "text": [
      "Значение sMAPE, время обучения и время оценки и при различных гиперпараметрах:\n",
      "     mean_test_score  mean_fit_time  mean_score_time\n",
      "0         -13.245448       1.271515         0.014169\n",
      "1         -13.049841       1.278037         0.024317\n",
      "2         -12.406535       1.300078         0.013179\n",
      "3         -11.934828       1.200750         0.011143\n",
      "4         -11.934828       1.172016         0.012079\n",
      "..               ...            ...              ...\n",
      "103       -13.303610       0.181619         0.015203\n",
      "104       -13.177212       0.222831         0.025598\n",
      "105       -12.657347       0.204841         0.011801\n",
      "106       -12.657347       0.156652         0.015023\n",
      "107       -17.320921       0.189567         0.017858\n",
      "\n",
      "[108 rows x 3 columns]\n",
      "\n",
      "Лучшие гиперпараметры:\n",
      " {'max_depth': 10, 'max_features': 3, 'min_samples_leaf': 3, 'min_samples_split': 2}\n",
      "Лучшее значение sMAPE: 11.531086250723986\n"
     ]
    }
   ],
   "source": [
    "print('Значение sMAPE, время обучения и время оценки и при различных гиперпараметрах:')\n",
    "print(pd.DataFrame(dt_grid.cv_results_)[['mean_test_score', 'mean_fit_time', 'mean_score_time']])\n",
    "print('\\nЛучшие гиперпараметры:\\n', dt_grid.best_params_)\n",
    "print('Лучшее значение sMAPE:', -dt_grid.best_score_)"
   ]
  },
  {
   "attachments": {},
   "cell_type": "markdown",
   "metadata": {},
   "source": [
    "### 3.2. <a id='toc3_2_'></a>[Случайный лес](#toc0_)"
   ]
  },
  {
   "attachments": {},
   "cell_type": "markdown",
   "metadata": {},
   "source": [
    "У случайного леса больше комбинаций гиперпараметров, поэтому GridSearchCV выполняется долго. Здесь лучше использовать HalvingGridSearchCV."
   ]
  },
  {
   "cell_type": "code",
   "execution_count": 24,
   "metadata": {},
   "outputs": [],
   "source": [
    "params = {\n",
    "    'max_depth' : [8, 10, 12],\n",
    "    'min_samples_split' : [8, 10],\n",
    "    'min_samples_leaf' : [12, 15]\n",
    "}\n",
    "rf_model = RandomForestRegressor(random_state=42)\n",
    "\n",
    "rf_grid  = HalvingGridSearchCV(rf_model, params, scoring=scorer,\n",
    "                               cv=3, verbose=3, n_jobs=-1, max_resources=150, factor=3,\n",
    "                               resource='n_estimators')"
   ]
  },
  {
   "cell_type": "code",
   "execution_count": 26,
   "metadata": {},
   "outputs": [
    {
     "name": "stdout",
     "output_type": "stream",
     "text": [
      "n_iterations: 3\n",
      "n_required_iterations: 3\n",
      "n_possible_iterations: 3\n",
      "min_resources_: 16\n",
      "max_resources_: 150\n",
      "aggressive_elimination: False\n",
      "factor: 3\n",
      "----------\n",
      "iter: 0\n",
      "n_candidates: 12\n",
      "n_resources: 16\n",
      "Fitting 3 folds for each of 12 candidates, totalling 36 fits\n",
      "----------\n",
      "iter: 1\n",
      "n_candidates: 4\n",
      "n_resources: 48\n",
      "Fitting 3 folds for each of 4 candidates, totalling 12 fits\n",
      "----------\n",
      "iter: 2\n",
      "n_candidates: 2\n",
      "n_resources: 144\n",
      "Fitting 3 folds for each of 2 candidates, totalling 6 fits\n",
      "CPU times: total: 2min 51s\n",
      "Wall time: 13min 35s\n"
     ]
    },
    {
     "data": {
      "text/html": [
       "<style>#sk-container-id-2 {color: black;background-color: white;}#sk-container-id-2 pre{padding: 0;}#sk-container-id-2 div.sk-toggleable {background-color: white;}#sk-container-id-2 label.sk-toggleable__label {cursor: pointer;display: block;width: 100%;margin-bottom: 0;padding: 0.3em;box-sizing: border-box;text-align: center;}#sk-container-id-2 label.sk-toggleable__label-arrow:before {content: \"▸\";float: left;margin-right: 0.25em;color: #696969;}#sk-container-id-2 label.sk-toggleable__label-arrow:hover:before {color: black;}#sk-container-id-2 div.sk-estimator:hover label.sk-toggleable__label-arrow:before {color: black;}#sk-container-id-2 div.sk-toggleable__content {max-height: 0;max-width: 0;overflow: hidden;text-align: left;background-color: #f0f8ff;}#sk-container-id-2 div.sk-toggleable__content pre {margin: 0.2em;color: black;border-radius: 0.25em;background-color: #f0f8ff;}#sk-container-id-2 input.sk-toggleable__control:checked~div.sk-toggleable__content {max-height: 200px;max-width: 100%;overflow: auto;}#sk-container-id-2 input.sk-toggleable__control:checked~label.sk-toggleable__label-arrow:before {content: \"▾\";}#sk-container-id-2 div.sk-estimator input.sk-toggleable__control:checked~label.sk-toggleable__label {background-color: #d4ebff;}#sk-container-id-2 div.sk-label input.sk-toggleable__control:checked~label.sk-toggleable__label {background-color: #d4ebff;}#sk-container-id-2 input.sk-hidden--visually {border: 0;clip: rect(1px 1px 1px 1px);clip: rect(1px, 1px, 1px, 1px);height: 1px;margin: -1px;overflow: hidden;padding: 0;position: absolute;width: 1px;}#sk-container-id-2 div.sk-estimator {font-family: monospace;background-color: #f0f8ff;border: 1px dotted black;border-radius: 0.25em;box-sizing: border-box;margin-bottom: 0.5em;}#sk-container-id-2 div.sk-estimator:hover {background-color: #d4ebff;}#sk-container-id-2 div.sk-parallel-item::after {content: \"\";width: 100%;border-bottom: 1px solid gray;flex-grow: 1;}#sk-container-id-2 div.sk-label:hover label.sk-toggleable__label {background-color: #d4ebff;}#sk-container-id-2 div.sk-serial::before {content: \"\";position: absolute;border-left: 1px solid gray;box-sizing: border-box;top: 0;bottom: 0;left: 50%;z-index: 0;}#sk-container-id-2 div.sk-serial {display: flex;flex-direction: column;align-items: center;background-color: white;padding-right: 0.2em;padding-left: 0.2em;position: relative;}#sk-container-id-2 div.sk-item {position: relative;z-index: 1;}#sk-container-id-2 div.sk-parallel {display: flex;align-items: stretch;justify-content: center;background-color: white;position: relative;}#sk-container-id-2 div.sk-item::before, #sk-container-id-2 div.sk-parallel-item::before {content: \"\";position: absolute;border-left: 1px solid gray;box-sizing: border-box;top: 0;bottom: 0;left: 50%;z-index: -1;}#sk-container-id-2 div.sk-parallel-item {display: flex;flex-direction: column;z-index: 1;position: relative;background-color: white;}#sk-container-id-2 div.sk-parallel-item:first-child::after {align-self: flex-end;width: 50%;}#sk-container-id-2 div.sk-parallel-item:last-child::after {align-self: flex-start;width: 50%;}#sk-container-id-2 div.sk-parallel-item:only-child::after {width: 0;}#sk-container-id-2 div.sk-dashed-wrapped {border: 1px dashed gray;margin: 0 0.4em 0.5em 0.4em;box-sizing: border-box;padding-bottom: 0.4em;background-color: white;}#sk-container-id-2 div.sk-label label {font-family: monospace;font-weight: bold;display: inline-block;line-height: 1.2em;}#sk-container-id-2 div.sk-label-container {text-align: center;}#sk-container-id-2 div.sk-container {/* jupyter's `normalize.less` sets `[hidden] { display: none; }` but bootstrap.min.css set `[hidden] { display: none !important; }` so we also need the `!important` here to be able to override the default hidden behavior on the sphinx rendered scikit-learn.org. See: https://github.com/scikit-learn/scikit-learn/issues/21755 */display: inline-block !important;position: relative;}#sk-container-id-2 div.sk-text-repr-fallback {display: none;}</style><div id=\"sk-container-id-2\" class=\"sk-top-container\"><div class=\"sk-text-repr-fallback\"><pre>HalvingGridSearchCV(cv=3, estimator=RandomForestRegressor(random_state=42),\n",
       "                    max_resources=150, n_jobs=-1,\n",
       "                    param_grid={&#x27;max_depth&#x27;: [8, 10, 12],\n",
       "                                &#x27;min_samples_leaf&#x27;: [12, 15],\n",
       "                                &#x27;min_samples_split&#x27;: [8, 10]},\n",
       "                    resource=&#x27;n_estimators&#x27;,\n",
       "                    scoring=make_scorer(final_smape, greater_is_better=False),\n",
       "                    verbose=3)</pre><b>In a Jupyter environment, please rerun this cell to show the HTML representation or trust the notebook. <br />On GitHub, the HTML representation is unable to render, please try loading this page with nbviewer.org.</b></div><div class=\"sk-container\" hidden><div class=\"sk-item sk-dashed-wrapped\"><div class=\"sk-label-container\"><div class=\"sk-label sk-toggleable\"><input class=\"sk-toggleable__control sk-hidden--visually\" id=\"sk-estimator-id-4\" type=\"checkbox\" ><label for=\"sk-estimator-id-4\" class=\"sk-toggleable__label sk-toggleable__label-arrow\">HalvingGridSearchCV</label><div class=\"sk-toggleable__content\"><pre>HalvingGridSearchCV(cv=3, estimator=RandomForestRegressor(random_state=42),\n",
       "                    max_resources=150, n_jobs=-1,\n",
       "                    param_grid={&#x27;max_depth&#x27;: [8, 10, 12],\n",
       "                                &#x27;min_samples_leaf&#x27;: [12, 15],\n",
       "                                &#x27;min_samples_split&#x27;: [8, 10]},\n",
       "                    resource=&#x27;n_estimators&#x27;,\n",
       "                    scoring=make_scorer(final_smape, greater_is_better=False),\n",
       "                    verbose=3)</pre></div></div></div><div class=\"sk-parallel\"><div class=\"sk-parallel-item\"><div class=\"sk-item\"><div class=\"sk-label-container\"><div class=\"sk-label sk-toggleable\"><input class=\"sk-toggleable__control sk-hidden--visually\" id=\"sk-estimator-id-5\" type=\"checkbox\" ><label for=\"sk-estimator-id-5\" class=\"sk-toggleable__label sk-toggleable__label-arrow\">estimator: RandomForestRegressor</label><div class=\"sk-toggleable__content\"><pre>RandomForestRegressor(random_state=42)</pre></div></div></div><div class=\"sk-serial\"><div class=\"sk-item\"><div class=\"sk-estimator sk-toggleable\"><input class=\"sk-toggleable__control sk-hidden--visually\" id=\"sk-estimator-id-6\" type=\"checkbox\" ><label for=\"sk-estimator-id-6\" class=\"sk-toggleable__label sk-toggleable__label-arrow\">RandomForestRegressor</label><div class=\"sk-toggleable__content\"><pre>RandomForestRegressor(random_state=42)</pre></div></div></div></div></div></div></div></div></div></div>"
      ],
      "text/plain": [
       "HalvingGridSearchCV(cv=3, estimator=RandomForestRegressor(random_state=42),\n",
       "                    max_resources=150, n_jobs=-1,\n",
       "                    param_grid={'max_depth': [8, 10, 12],\n",
       "                                'min_samples_leaf': [12, 15],\n",
       "                                'min_samples_split': [8, 10]},\n",
       "                    resource='n_estimators',\n",
       "                    scoring=make_scorer(final_smape, greater_is_better=False),\n",
       "                    verbose=3)"
      ]
     },
     "execution_count": 26,
     "metadata": {},
     "output_type": "execute_result"
    }
   ],
   "source": [
    "%%time\n",
    "rf_grid.fit(features_train, target_train)"
   ]
  },
  {
   "cell_type": "code",
   "execution_count": 27,
   "metadata": {},
   "outputs": [
    {
     "name": "stdout",
     "output_type": "stream",
     "text": [
      "Значение sMAPE, время обучения и время оценки и при различных гиперпараметрах:\n",
      "    mean_test_score  mean_fit_time  mean_score_time\n",
      "0        -10.128401      19.846894         0.030049\n",
      "1        -10.128401      19.801334         0.023569\n",
      "2        -10.098998      19.144847         0.026176\n",
      "3        -10.098998      18.254509         0.045728\n",
      "4        -10.290745      23.897507         0.022614\n",
      "5        -10.290745      20.154824         0.035601\n",
      "6        -10.263781      18.439774         0.032238\n",
      "7        -10.263781      18.613991         0.023273\n",
      "8        -10.373755      19.796506         0.026597\n",
      "9        -10.373755      22.806194         0.030254\n",
      "10       -10.299005      24.108317         0.026014\n",
      "11       -10.299005      24.726412         0.028599\n",
      "12       -10.091128      50.373125         0.054393\n",
      "13       -10.091128      55.971755         0.062276\n",
      "14       -10.122863      57.651802         0.058952\n",
      "15       -10.122863      54.981691         0.042886\n",
      "16       -10.083620     144.249539         0.105386\n",
      "17       -10.083620     122.423965         0.088762\n",
      "\n",
      "Лучшие гиперпараметры:\n",
      " {'max_depth': 8, 'min_samples_leaf': 12, 'min_samples_split': 8, 'n_estimators': 144}\n",
      "Лучшее значение sMAPE: 10.083619515249618\n"
     ]
    }
   ],
   "source": [
    "print('Значение sMAPE, время обучения и время оценки и при различных гиперпараметрах:')\n",
    "print(pd.DataFrame(rf_grid.cv_results_)[['mean_test_score', 'mean_fit_time', 'mean_score_time']])\n",
    "print('\\nЛучшие гиперпараметры:\\n', rf_grid.best_params_)\n",
    "print('Лучшее значение sMAPE:', -rf_grid.best_score_)"
   ]
  },
  {
   "attachments": {},
   "cell_type": "markdown",
   "metadata": {},
   "source": [
    "### 3.3. <a id='toc3_3_'></a>[Тестирование лучшей модели](#toc0_)"
   ]
  },
  {
   "attachments": {},
   "cell_type": "markdown",
   "metadata": {},
   "source": [
    "В качестве лучшей модели выберем случайный лес со следующими гиперпараметрами: *max_depth=8, min_samples_leaf=12, min_samples_split=8*, Число деревьев выберем равным 50, т.к. дальнейшее увеличение их количества не приводит к повышению метрики качества, но затягивает процесс обучения.\n",
    "\n",
    "Зная гиперпараметры нужной модели, обучим ёё на обучающей и валидационной выборках, и проверим качество на тестовой."
   ]
  },
  {
   "cell_type": "code",
   "execution_count": 29,
   "metadata": {},
   "outputs": [
    {
     "name": "stdout",
     "output_type": "stream",
     "text": [
      "sMAPE: 9.24575469490349\n"
     ]
    }
   ],
   "source": [
    "best_model = RandomForestRegressor(max_depth=8, min_samples_leaf=12, min_samples_split=8, n_estimators=50, random_state=42)\n",
    "best_model.fit(features_train, target_train)\n",
    "\n",
    "predictions_test = best_model.predict(features_test)\n",
    "\n",
    "print('sMAPE:', final_smape(target_test, predictions_test))"
   ]
  },
  {
   "attachments": {},
   "cell_type": "markdown",
   "metadata": {},
   "source": [
    "Значение метрики качества на тестовой выборке = 9.24%."
   ]
  },
  {
   "attachments": {},
   "cell_type": "markdown",
   "metadata": {},
   "source": [
    "**Вывод по разделу 3:**\n",
    "- Написана функция для вычисления итогового *sMAPE*.\n",
    "- Обучены и проверены модели дерева решений и случайного леса с различными гиперпараметрами.\n",
    "- Лучшая модель - случайный лес со следующими гиперпараметрами: **max_depth=8, min_samples_leaf=12, min_samples_split=8, n_estimators=50**\n",
    "- Значение ***sMAPE*, полученное тестовой выборке  = 9.24%**, что даже ниже, чем на валидационной."
   ]
  },
  {
   "attachments": {},
   "cell_type": "markdown",
   "metadata": {},
   "source": [
    "## 4. <a id='toc4_'></a>[Итоговый вывод](#toc0_)"
   ]
  },
  {
   "attachments": {},
   "cell_type": "markdown",
   "metadata": {},
   "source": [
    "- В работе была проведена подготовка данных. Данные вполне адекватны.\n",
    "- Корреляция между признаками крайне слабая.\n",
    "- Концентрация золота в сырьё увеличивается на каждом этапе очистки, других металлов - почти не изменяется (около 10%).\n",
    "- На стадии флотации суммарная концентрация веществ (Ag, Pb, Sol) повышается примерно на 10-15%. После очистки разброс данной величины уменьшается при неизменном среднем.\n",
    "- Лучшая модель - случайный лес (max_depth=8, min_samples_leaf=12, min_samples_split=8, n_estimators=50).\n",
    "- На тестовой выборке получено значение метрики ***sMAPE* = 9.24%.**"
   ]
  },
  {
   "attachments": {},
   "cell_type": "markdown",
   "metadata": {},
   "source": [
    "## 5. <a id='toc5_'></a>[Чек-лист готовности проекта](#toc0_)"
   ]
  },
  {
   "attachments": {},
   "cell_type": "markdown",
   "metadata": {},
   "source": [
    "- [x]  Jupyter Notebook открыт\n",
    "- [x]  Весь код выполняется без ошибок\n",
    "- [x]  Ячейки с кодом расположены в порядке выполнения\n",
    "- [x]  Выполнен шаг 1: данные подготовлены\n",
    "    - [x]  Проверена формула вычисления эффективности обогащения\n",
    "    - [x]  Проанализированы признаки, недоступные в тестовой выборке\n",
    "    - [x]  Проведена предобработка данных\n",
    "- [x]  Выполнен шаг 2: данные проанализированы\n",
    "    - [x]  Исследовано изменение концентрации элементов на каждом этапе\n",
    "    - [x]  Проанализированы распределения размеров гранул на обучающей и тестовой выборках\n",
    "    - [x]  Исследованы суммарные концентрации\n",
    "- [x]  Выполнен шаг 3: построена модель прогнозирования\n",
    "    - [x]  Написана функция для вычисления итогового *sMAPE*\n",
    "    - [x]  Обучено и проверено несколько моделей\n",
    "    - [x]  Выбрана лучшая модель, её качество проверено на тестовой выборке"
   ]
  }
 ],
 "metadata": {
  "ExecuteTimeLog": [
   {
    "duration": 385,
    "start_time": "2022-12-28T16:24:05.498Z"
   },
   {
    "duration": 3223,
    "start_time": "2022-12-28T16:26:26.929Z"
   },
   {
    "duration": 18,
    "start_time": "2022-12-28T16:26:51.662Z"
   },
   {
    "duration": 446,
    "start_time": "2022-12-28T16:44:14.114Z"
   },
   {
    "duration": 780,
    "start_time": "2022-12-28T16:44:14.564Z"
   },
   {
    "duration": 19,
    "start_time": "2022-12-28T16:44:15.345Z"
   },
   {
    "duration": 21,
    "start_time": "2022-12-28T16:44:32.438Z"
   },
   {
    "duration": 20,
    "start_time": "2022-12-28T16:47:45.826Z"
   },
   {
    "duration": 433,
    "start_time": "2022-12-30T16:24:01.965Z"
   },
   {
    "duration": 2389,
    "start_time": "2022-12-30T16:24:02.400Z"
   },
   {
    "duration": 23,
    "start_time": "2022-12-30T16:24:04.791Z"
   },
   {
    "duration": 15,
    "start_time": "2022-12-30T16:24:04.816Z"
   },
   {
    "duration": 35,
    "start_time": "2022-12-30T16:24:04.832Z"
   },
   {
    "duration": 83,
    "start_time": "2022-12-30T17:06:33.445Z"
   },
   {
    "duration": 3,
    "start_time": "2022-12-30T17:07:19.318Z"
   },
   {
    "duration": 775,
    "start_time": "2022-12-30T17:10:40.970Z"
   },
   {
    "duration": 4,
    "start_time": "2022-12-30T17:16:26.900Z"
   },
   {
    "duration": 108,
    "start_time": "2022-12-30T17:16:32.614Z"
   },
   {
    "duration": 18,
    "start_time": "2022-12-30T17:16:51.555Z"
   },
   {
    "duration": 4,
    "start_time": "2022-12-30T17:17:27.698Z"
   },
   {
    "duration": 30,
    "start_time": "2022-12-30T17:17:27.945Z"
   },
   {
    "duration": 3,
    "start_time": "2022-12-30T17:18:37.423Z"
   },
   {
    "duration": 18,
    "start_time": "2022-12-30T17:18:37.931Z"
   },
   {
    "duration": 4,
    "start_time": "2022-12-30T17:19:42.322Z"
   },
   {
    "duration": 20,
    "start_time": "2022-12-30T17:19:42.836Z"
   },
   {
    "duration": 302,
    "start_time": "2022-12-30T17:21:00.426Z"
   },
   {
    "duration": 3,
    "start_time": "2022-12-30T17:24:02.004Z"
   },
   {
    "duration": 281,
    "start_time": "2022-12-30T17:24:02.419Z"
   },
   {
    "duration": 273,
    "start_time": "2022-12-30T17:25:46.419Z"
   },
   {
    "duration": 5,
    "start_time": "2022-12-30T17:27:29.684Z"
   },
   {
    "duration": 281,
    "start_time": "2022-12-30T17:27:30.003Z"
   },
   {
    "duration": 105,
    "start_time": "2022-12-30T17:30:02.969Z"
   },
   {
    "duration": 79,
    "start_time": "2022-12-30T17:30:37.385Z"
   },
   {
    "duration": 452,
    "start_time": "2022-12-30T17:31:05.521Z"
   },
   {
    "duration": 278,
    "start_time": "2022-12-30T17:31:10.928Z"
   },
   {
    "duration": 12,
    "start_time": "2022-12-30T17:33:24.116Z"
   },
   {
    "duration": 6,
    "start_time": "2022-12-30T17:33:38.697Z"
   },
   {
    "duration": 6,
    "start_time": "2022-12-30T17:33:55.810Z"
   },
   {
    "duration": 5,
    "start_time": "2022-12-30T17:34:12.569Z"
   },
   {
    "duration": 4,
    "start_time": "2022-12-30T17:34:22.933Z"
   },
   {
    "duration": 270,
    "start_time": "2022-12-30T17:34:23.296Z"
   },
   {
    "duration": 315,
    "start_time": "2022-12-30T17:34:49.031Z"
   },
   {
    "duration": 1161,
    "start_time": "2022-12-30T17:35:00.377Z"
   },
   {
    "duration": 803,
    "start_time": "2022-12-30T17:35:01.540Z"
   },
   {
    "duration": 32,
    "start_time": "2022-12-30T17:35:02.344Z"
   },
   {
    "duration": 39,
    "start_time": "2022-12-30T17:35:02.378Z"
   },
   {
    "duration": 39,
    "start_time": "2022-12-30T17:35:02.420Z"
   },
   {
    "duration": 6,
    "start_time": "2022-12-30T17:35:02.460Z"
   },
   {
    "duration": 306,
    "start_time": "2022-12-30T17:35:02.468Z"
   },
   {
    "duration": 112,
    "start_time": "2022-12-30T17:54:47.157Z"
   },
   {
    "duration": 6,
    "start_time": "2022-12-30T17:54:59.008Z"
   },
   {
    "duration": 6,
    "start_time": "2022-12-30T17:55:09.938Z"
   },
   {
    "duration": 8,
    "start_time": "2022-12-30T17:55:24.515Z"
   },
   {
    "duration": 5,
    "start_time": "2022-12-30T17:56:01.605Z"
   },
   {
    "duration": 5,
    "start_time": "2022-12-30T17:56:25.920Z"
   },
   {
    "duration": 4,
    "start_time": "2022-12-30T17:56:51.689Z"
   },
   {
    "duration": 5,
    "start_time": "2022-12-30T18:00:33.295Z"
   },
   {
    "duration": 1138,
    "start_time": "2022-12-31T10:25:24.817Z"
   },
   {
    "duration": 2215,
    "start_time": "2022-12-31T10:25:25.957Z"
   },
   {
    "duration": 31,
    "start_time": "2022-12-31T10:25:28.175Z"
   },
   {
    "duration": 21,
    "start_time": "2022-12-31T10:25:28.211Z"
   },
   {
    "duration": 28,
    "start_time": "2022-12-31T10:25:28.234Z"
   },
   {
    "duration": 4,
    "start_time": "2022-12-31T10:25:28.264Z"
   },
   {
    "duration": 255,
    "start_time": "2022-12-31T10:25:28.269Z"
   },
   {
    "duration": 5,
    "start_time": "2022-12-31T10:25:28.526Z"
   },
   {
    "duration": 77,
    "start_time": "2022-12-31T10:49:09.125Z"
   },
   {
    "duration": 74,
    "start_time": "2022-12-31T10:49:25.309Z"
   },
   {
    "duration": 3,
    "start_time": "2022-12-31T10:49:28.512Z"
   },
   {
    "duration": 73,
    "start_time": "2022-12-31T10:49:31.318Z"
   },
   {
    "duration": 86,
    "start_time": "2022-12-31T10:50:54.832Z"
   },
   {
    "duration": 6,
    "start_time": "2022-12-31T10:50:59.627Z"
   },
   {
    "duration": 5,
    "start_time": "2022-12-31T10:51:16.043Z"
   },
   {
    "duration": 3,
    "start_time": "2022-12-31T10:51:37.373Z"
   },
   {
    "duration": 4,
    "start_time": "2022-12-31T10:51:50.156Z"
   },
   {
    "duration": 2,
    "start_time": "2022-12-31T10:51:52.699Z"
   },
   {
    "duration": 5,
    "start_time": "2022-12-31T10:52:06.738Z"
   },
   {
    "duration": 4,
    "start_time": "2022-12-31T10:52:21.129Z"
   },
   {
    "duration": 4,
    "start_time": "2022-12-31T10:52:31.734Z"
   },
   {
    "duration": 10,
    "start_time": "2022-12-31T10:52:45.879Z"
   },
   {
    "duration": 2,
    "start_time": "2022-12-31T10:52:55.948Z"
   },
   {
    "duration": 7,
    "start_time": "2022-12-31T10:53:10.157Z"
   },
   {
    "duration": 4,
    "start_time": "2022-12-31T10:53:21.436Z"
   },
   {
    "duration": 4,
    "start_time": "2022-12-31T10:53:39.303Z"
   },
   {
    "duration": 1197,
    "start_time": "2022-12-31T15:26:25.685Z"
   },
   {
    "duration": 4110,
    "start_time": "2022-12-31T15:26:26.884Z"
   },
   {
    "duration": 23,
    "start_time": "2022-12-31T15:26:30.997Z"
   },
   {
    "duration": 25,
    "start_time": "2022-12-31T15:26:31.025Z"
   },
   {
    "duration": 19,
    "start_time": "2022-12-31T15:26:31.052Z"
   },
   {
    "duration": 5,
    "start_time": "2022-12-31T15:26:31.073Z"
   },
   {
    "duration": 266,
    "start_time": "2022-12-31T15:26:31.080Z"
   },
   {
    "duration": 6,
    "start_time": "2022-12-31T15:26:31.347Z"
   },
   {
    "duration": 25,
    "start_time": "2022-12-31T15:26:31.355Z"
   },
   {
    "duration": 6,
    "start_time": "2022-12-31T15:27:34.197Z"
   },
   {
    "duration": 139,
    "start_time": "2022-12-31T15:49:53.901Z"
   },
   {
    "duration": 13,
    "start_time": "2022-12-31T15:50:07.717Z"
   },
   {
    "duration": 29,
    "start_time": "2022-12-31T15:50:14.580Z"
   },
   {
    "duration": 36,
    "start_time": "2022-12-31T15:52:44.442Z"
   },
   {
    "duration": 36,
    "start_time": "2022-12-31T15:53:15.437Z"
   },
   {
    "duration": 14,
    "start_time": "2022-12-31T15:54:42.235Z"
   },
   {
    "duration": 14,
    "start_time": "2022-12-31T15:54:51.282Z"
   },
   {
    "duration": 13,
    "start_time": "2022-12-31T15:55:35.075Z"
   },
   {
    "duration": 17,
    "start_time": "2022-12-31T15:55:46.933Z"
   },
   {
    "duration": 18,
    "start_time": "2022-12-31T15:56:07.437Z"
   },
   {
    "duration": 46,
    "start_time": "2022-12-31T15:56:17.702Z"
   },
   {
    "duration": 9,
    "start_time": "2022-12-31T15:56:30.980Z"
   },
   {
    "duration": 236,
    "start_time": "2022-12-31T15:57:43.996Z"
   },
   {
    "duration": 545,
    "start_time": "2022-12-31T16:03:37.359Z"
   },
   {
    "duration": 789,
    "start_time": "2022-12-31T16:03:50.527Z"
   },
   {
    "duration": 165,
    "start_time": "2022-12-31T16:04:16.367Z"
   },
   {
    "duration": 248,
    "start_time": "2022-12-31T16:06:35.591Z"
   },
   {
    "duration": 223,
    "start_time": "2022-12-31T16:06:40.072Z"
   },
   {
    "duration": 200,
    "start_time": "2022-12-31T16:07:27.072Z"
   },
   {
    "duration": 4,
    "start_time": "2022-12-31T16:09:14.785Z"
   },
   {
    "duration": 10,
    "start_time": "2022-12-31T16:09:40.339Z"
   },
   {
    "duration": 3573,
    "start_time": "2022-12-31T16:09:44.465Z"
   },
   {
    "duration": 38,
    "start_time": "2022-12-31T16:15:52.797Z"
   },
   {
    "duration": 17,
    "start_time": "2022-12-31T16:16:00.584Z"
   },
   {
    "duration": 4,
    "start_time": "2022-12-31T16:16:12.770Z"
   },
   {
    "duration": 10,
    "start_time": "2022-12-31T16:19:16.616Z"
   },
   {
    "duration": 5,
    "start_time": "2022-12-31T16:19:23.659Z"
   },
   {
    "duration": 1362,
    "start_time": "2022-12-31T16:32:19.466Z"
   },
   {
    "duration": 781,
    "start_time": "2022-12-31T16:32:20.831Z"
   },
   {
    "duration": 26,
    "start_time": "2022-12-31T16:32:21.614Z"
   },
   {
    "duration": 44,
    "start_time": "2022-12-31T16:32:21.642Z"
   },
   {
    "duration": 40,
    "start_time": "2022-12-31T16:32:21.688Z"
   },
   {
    "duration": 13,
    "start_time": "2022-12-31T16:32:21.732Z"
   },
   {
    "duration": 323,
    "start_time": "2022-12-31T16:32:21.746Z"
   },
   {
    "duration": 5,
    "start_time": "2022-12-31T16:32:22.071Z"
   },
   {
    "duration": 79,
    "start_time": "2022-12-31T16:32:22.078Z"
   },
   {
    "duration": 44,
    "start_time": "2022-12-31T16:32:22.159Z"
   },
   {
    "duration": 15,
    "start_time": "2022-12-31T16:32:22.204Z"
   },
   {
    "duration": 332,
    "start_time": "2022-12-31T16:32:22.221Z"
   },
   {
    "duration": 3677,
    "start_time": "2022-12-31T16:32:36.223Z"
   },
   {
    "duration": 45,
    "start_time": "2022-12-31T16:34:31.885Z"
   },
   {
    "duration": 3,
    "start_time": "2022-12-31T16:34:35.235Z"
   },
   {
    "duration": 79,
    "start_time": "2022-12-31T16:39:45.650Z"
   },
   {
    "duration": 48,
    "start_time": "2022-12-31T16:39:51.545Z"
   },
   {
    "duration": 11,
    "start_time": "2022-12-31T16:40:00.602Z"
   },
   {
    "duration": 3,
    "start_time": "2022-12-31T16:40:34.235Z"
   },
   {
    "duration": 3,
    "start_time": "2022-12-31T16:41:00.671Z"
   },
   {
    "duration": 65,
    "start_time": "2022-12-31T16:45:30.604Z"
   },
   {
    "duration": 11,
    "start_time": "2022-12-31T16:45:34.730Z"
   },
   {
    "duration": 1343,
    "start_time": "2022-12-31T16:45:50.995Z"
   },
   {
    "duration": 693,
    "start_time": "2022-12-31T16:45:52.340Z"
   },
   {
    "duration": 17,
    "start_time": "2022-12-31T16:45:53.035Z"
   },
   {
    "duration": 12,
    "start_time": "2022-12-31T16:45:53.054Z"
   },
   {
    "duration": 18,
    "start_time": "2022-12-31T16:45:53.067Z"
   },
   {
    "duration": 3,
    "start_time": "2022-12-31T16:45:53.086Z"
   },
   {
    "duration": 251,
    "start_time": "2022-12-31T16:45:53.114Z"
   },
   {
    "duration": 4,
    "start_time": "2022-12-31T16:45:53.366Z"
   },
   {
    "duration": 7,
    "start_time": "2022-12-31T16:45:53.372Z"
   },
   {
    "duration": 11,
    "start_time": "2022-12-31T16:45:53.382Z"
   },
   {
    "duration": 105,
    "start_time": "2022-12-31T16:45:53.416Z"
   },
   {
    "duration": 0,
    "start_time": "2022-12-31T16:45:53.527Z"
   },
   {
    "duration": 0,
    "start_time": "2022-12-31T16:45:53.528Z"
   },
   {
    "duration": 0,
    "start_time": "2022-12-31T16:45:53.528Z"
   },
   {
    "duration": 4,
    "start_time": "2022-12-31T16:46:15.796Z"
   },
   {
    "duration": 5,
    "start_time": "2022-12-31T16:46:16.579Z"
   },
   {
    "duration": 3,
    "start_time": "2022-12-31T16:46:17.453Z"
   },
   {
    "duration": 9,
    "start_time": "2022-12-31T16:46:18.060Z"
   },
   {
    "duration": 31,
    "start_time": "2022-12-31T16:46:28.006Z"
   },
   {
    "duration": 7,
    "start_time": "2022-12-31T16:47:09.284Z"
   },
   {
    "duration": 1344,
    "start_time": "2023-01-01T11:17:44.748Z"
   },
   {
    "duration": 2959,
    "start_time": "2023-01-01T11:17:46.093Z"
   },
   {
    "duration": 18,
    "start_time": "2023-01-01T11:17:49.054Z"
   },
   {
    "duration": 11,
    "start_time": "2023-01-01T11:17:49.074Z"
   },
   {
    "duration": 17,
    "start_time": "2023-01-01T11:17:49.087Z"
   },
   {
    "duration": 10,
    "start_time": "2023-01-01T11:17:49.106Z"
   },
   {
    "duration": 229,
    "start_time": "2023-01-01T11:17:49.118Z"
   },
   {
    "duration": 4,
    "start_time": "2023-01-01T11:17:49.348Z"
   },
   {
    "duration": 24,
    "start_time": "2023-01-01T11:17:49.353Z"
   },
   {
    "duration": 17,
    "start_time": "2023-01-01T11:17:49.379Z"
   },
   {
    "duration": 8,
    "start_time": "2023-01-01T11:17:49.398Z"
   },
   {
    "duration": 5,
    "start_time": "2023-01-01T11:17:49.407Z"
   },
   {
    "duration": 23,
    "start_time": "2023-01-01T11:17:49.414Z"
   },
   {
    "duration": 3,
    "start_time": "2023-01-01T11:17:49.438Z"
   },
   {
    "duration": 232,
    "start_time": "2023-01-01T11:17:49.442Z"
   },
   {
    "duration": 3265,
    "start_time": "2023-01-01T11:22:46.686Z"
   },
   {
    "duration": 1546,
    "start_time": "2023-01-02T16:25:06.682Z"
   },
   {
    "duration": 3147,
    "start_time": "2023-01-02T16:25:08.230Z"
   },
   {
    "duration": 17,
    "start_time": "2023-01-02T16:25:11.379Z"
   },
   {
    "duration": 16,
    "start_time": "2023-01-02T16:25:11.398Z"
   },
   {
    "duration": 24,
    "start_time": "2023-01-02T16:25:11.416Z"
   },
   {
    "duration": 4,
    "start_time": "2023-01-02T16:25:11.441Z"
   },
   {
    "duration": 199,
    "start_time": "2023-01-02T16:25:11.446Z"
   },
   {
    "duration": 5,
    "start_time": "2023-01-02T16:25:11.646Z"
   },
   {
    "duration": 11,
    "start_time": "2023-01-02T16:25:11.652Z"
   },
   {
    "duration": 9,
    "start_time": "2023-01-02T16:25:11.665Z"
   },
   {
    "duration": 13,
    "start_time": "2023-01-02T16:25:11.676Z"
   },
   {
    "duration": 4,
    "start_time": "2023-01-02T16:25:11.690Z"
   },
   {
    "duration": 43,
    "start_time": "2023-01-02T16:25:11.697Z"
   },
   {
    "duration": 4,
    "start_time": "2023-01-02T16:25:11.741Z"
   },
   {
    "duration": 3456,
    "start_time": "2023-01-02T16:25:11.746Z"
   },
   {
    "duration": 12,
    "start_time": "2023-01-02T16:26:42.694Z"
   },
   {
    "duration": 4,
    "start_time": "2023-01-02T16:26:43.561Z"
   },
   {
    "duration": 1323,
    "start_time": "2023-01-02T16:26:51.757Z"
   },
   {
    "duration": 624,
    "start_time": "2023-01-02T16:26:53.082Z"
   },
   {
    "duration": 25,
    "start_time": "2023-01-02T16:26:53.708Z"
   },
   {
    "duration": 17,
    "start_time": "2023-01-02T16:26:53.737Z"
   },
   {
    "duration": 41,
    "start_time": "2023-01-02T16:26:53.757Z"
   },
   {
    "duration": 5,
    "start_time": "2023-01-02T16:26:53.800Z"
   },
   {
    "duration": 190,
    "start_time": "2023-01-02T16:26:53.808Z"
   },
   {
    "duration": 5,
    "start_time": "2023-01-02T16:26:54.000Z"
   },
   {
    "duration": 10,
    "start_time": "2023-01-02T16:26:54.006Z"
   },
   {
    "duration": 11,
    "start_time": "2023-01-02T16:26:54.018Z"
   },
   {
    "duration": 8,
    "start_time": "2023-01-02T16:26:54.032Z"
   },
   {
    "duration": 14,
    "start_time": "2023-01-02T16:26:54.042Z"
   },
   {
    "duration": 64,
    "start_time": "2023-01-02T16:26:54.058Z"
   },
   {
    "duration": 5,
    "start_time": "2023-01-02T16:26:54.125Z"
   },
   {
    "duration": 3541,
    "start_time": "2023-01-02T16:26:54.132Z"
   },
   {
    "duration": 26,
    "start_time": "2023-01-02T16:30:44.540Z"
   },
   {
    "duration": 29,
    "start_time": "2023-01-02T16:30:45.989Z"
   },
   {
    "duration": 4,
    "start_time": "2023-01-02T16:30:46.247Z"
   },
   {
    "duration": 6,
    "start_time": "2023-01-02T16:37:09.170Z"
   },
   {
    "duration": 5,
    "start_time": "2023-01-02T16:37:28.736Z"
   },
   {
    "duration": 284,
    "start_time": "2023-01-02T16:39:20.029Z"
   },
   {
    "duration": 263,
    "start_time": "2023-01-02T16:39:31.623Z"
   },
   {
    "duration": 3487,
    "start_time": "2023-01-02T16:39:41.084Z"
   },
   {
    "duration": 13469,
    "start_time": "2023-01-02T17:14:23.340Z"
   },
   {
    "duration": 563,
    "start_time": "2023-01-02T17:14:59.151Z"
   },
   {
    "duration": 2319,
    "start_time": "2023-01-02T17:15:26.727Z"
   },
   {
    "duration": 1863,
    "start_time": "2023-01-02T17:15:29.048Z"
   },
   {
    "duration": 672,
    "start_time": "2023-01-02T17:15:30.913Z"
   },
   {
    "duration": 20,
    "start_time": "2023-01-02T17:15:31.587Z"
   },
   {
    "duration": 15,
    "start_time": "2023-01-02T17:15:31.608Z"
   },
   {
    "duration": 19,
    "start_time": "2023-01-02T17:15:31.624Z"
   },
   {
    "duration": 6,
    "start_time": "2023-01-02T17:15:31.645Z"
   },
   {
    "duration": 183,
    "start_time": "2023-01-02T17:15:31.653Z"
   },
   {
    "duration": 5,
    "start_time": "2023-01-02T17:15:31.837Z"
   },
   {
    "duration": 13,
    "start_time": "2023-01-02T17:15:31.844Z"
   },
   {
    "duration": 39,
    "start_time": "2023-01-02T17:15:31.859Z"
   },
   {
    "duration": 28,
    "start_time": "2023-01-02T17:15:31.900Z"
   },
   {
    "duration": 15,
    "start_time": "2023-01-02T17:15:31.929Z"
   },
   {
    "duration": 30,
    "start_time": "2023-01-02T17:15:31.946Z"
   },
   {
    "duration": 4,
    "start_time": "2023-01-02T17:15:31.977Z"
   },
   {
    "duration": 3267,
    "start_time": "2023-01-02T17:15:31.983Z"
   },
   {
    "duration": 2375,
    "start_time": "2023-01-02T17:15:35.252Z"
   },
   {
    "duration": 2290,
    "start_time": "2023-01-02T17:15:43.336Z"
   },
   {
    "duration": 1905,
    "start_time": "2023-01-02T17:15:45.628Z"
   },
   {
    "duration": 665,
    "start_time": "2023-01-02T17:15:47.536Z"
   },
   {
    "duration": 19,
    "start_time": "2023-01-02T17:15:48.203Z"
   },
   {
    "duration": 13,
    "start_time": "2023-01-02T17:15:48.224Z"
   },
   {
    "duration": 28,
    "start_time": "2023-01-02T17:15:48.240Z"
   },
   {
    "duration": 28,
    "start_time": "2023-01-02T17:15:48.269Z"
   },
   {
    "duration": 165,
    "start_time": "2023-01-02T17:15:48.299Z"
   },
   {
    "duration": 5,
    "start_time": "2023-01-02T17:15:48.465Z"
   },
   {
    "duration": 5,
    "start_time": "2023-01-02T17:15:48.472Z"
   },
   {
    "duration": 21,
    "start_time": "2023-01-02T17:15:48.479Z"
   },
   {
    "duration": 6,
    "start_time": "2023-01-02T17:15:48.502Z"
   },
   {
    "duration": 5,
    "start_time": "2023-01-02T17:15:48.509Z"
   },
   {
    "duration": 50,
    "start_time": "2023-01-02T17:15:48.515Z"
   },
   {
    "duration": 4,
    "start_time": "2023-01-02T17:15:48.567Z"
   },
   {
    "duration": 3269,
    "start_time": "2023-01-02T17:15:48.573Z"
   },
   {
    "duration": 108,
    "start_time": "2023-01-02T17:17:30.896Z"
   },
   {
    "duration": 2419,
    "start_time": "2023-01-02T17:23:58.381Z"
   },
   {
    "duration": 2625,
    "start_time": "2023-01-02T17:24:00.802Z"
   },
   {
    "duration": 3032,
    "start_time": "2023-01-02T17:24:03.429Z"
   },
   {
    "duration": 16,
    "start_time": "2023-01-02T17:24:06.463Z"
   },
   {
    "duration": 18,
    "start_time": "2023-01-02T17:24:06.480Z"
   },
   {
    "duration": 15,
    "start_time": "2023-01-02T17:24:06.499Z"
   },
   {
    "duration": 5,
    "start_time": "2023-01-02T17:24:06.516Z"
   },
   {
    "duration": 186,
    "start_time": "2023-01-02T17:24:06.523Z"
   },
   {
    "duration": 5,
    "start_time": "2023-01-02T17:24:06.711Z"
   },
   {
    "duration": 10,
    "start_time": "2023-01-02T17:24:06.719Z"
   },
   {
    "duration": 13,
    "start_time": "2023-01-02T17:24:06.731Z"
   },
   {
    "duration": 8,
    "start_time": "2023-01-02T17:24:06.746Z"
   },
   {
    "duration": 8,
    "start_time": "2023-01-02T17:24:06.756Z"
   },
   {
    "duration": 43,
    "start_time": "2023-01-02T17:24:06.766Z"
   },
   {
    "duration": 4,
    "start_time": "2023-01-02T17:24:06.811Z"
   },
   {
    "duration": 1754,
    "start_time": "2023-01-02T17:25:10.339Z"
   },
   {
    "duration": 659,
    "start_time": "2023-01-02T17:25:12.095Z"
   },
   {
    "duration": 15,
    "start_time": "2023-01-02T17:25:12.756Z"
   },
   {
    "duration": 31,
    "start_time": "2023-01-02T17:25:12.773Z"
   },
   {
    "duration": 15,
    "start_time": "2023-01-02T17:25:12.805Z"
   },
   {
    "duration": 4,
    "start_time": "2023-01-02T17:25:12.821Z"
   },
   {
    "duration": 192,
    "start_time": "2023-01-02T17:25:12.826Z"
   },
   {
    "duration": 4,
    "start_time": "2023-01-02T17:25:13.020Z"
   },
   {
    "duration": 6,
    "start_time": "2023-01-02T17:25:13.026Z"
   },
   {
    "duration": 9,
    "start_time": "2023-01-02T17:25:13.034Z"
   },
   {
    "duration": 5,
    "start_time": "2023-01-02T17:25:13.044Z"
   },
   {
    "duration": 5,
    "start_time": "2023-01-02T17:25:13.051Z"
   },
   {
    "duration": 63,
    "start_time": "2023-01-02T17:25:13.058Z"
   },
   {
    "duration": 3,
    "start_time": "2023-01-02T17:25:13.123Z"
   },
   {
    "duration": 3350,
    "start_time": "2023-01-02T17:25:13.128Z"
   },
   {
    "duration": 1841,
    "start_time": "2023-01-02T17:47:06.993Z"
   },
   {
    "duration": 681,
    "start_time": "2023-01-02T17:47:08.835Z"
   },
   {
    "duration": 16,
    "start_time": "2023-01-02T17:47:09.517Z"
   },
   {
    "duration": 11,
    "start_time": "2023-01-02T17:47:09.535Z"
   },
   {
    "duration": 15,
    "start_time": "2023-01-02T17:47:09.547Z"
   },
   {
    "duration": 32,
    "start_time": "2023-01-02T17:47:09.564Z"
   },
   {
    "duration": 175,
    "start_time": "2023-01-02T17:47:09.598Z"
   },
   {
    "duration": 4,
    "start_time": "2023-01-02T17:47:09.775Z"
   },
   {
    "duration": 19,
    "start_time": "2023-01-02T17:47:09.780Z"
   },
   {
    "duration": 14,
    "start_time": "2023-01-02T17:47:09.801Z"
   },
   {
    "duration": 8,
    "start_time": "2023-01-02T17:47:09.816Z"
   },
   {
    "duration": 3,
    "start_time": "2023-01-02T17:47:09.826Z"
   },
   {
    "duration": 28,
    "start_time": "2023-01-02T17:47:09.831Z"
   },
   {
    "duration": 4,
    "start_time": "2023-01-02T17:47:09.861Z"
   },
   {
    "duration": 3367,
    "start_time": "2023-01-02T17:47:09.867Z"
   },
   {
    "duration": 864,
    "start_time": "2023-01-02T18:00:55.075Z"
   },
   {
    "duration": 7,
    "start_time": "2023-01-02T18:00:59.326Z"
   },
   {
    "duration": 717,
    "start_time": "2023-01-02T18:01:12.957Z"
   },
   {
    "duration": 6,
    "start_time": "2023-01-02T18:01:27.267Z"
   },
   {
    "duration": 114,
    "start_time": "2023-01-02T18:02:11.208Z"
   },
   {
    "duration": 12,
    "start_time": "2023-01-02T18:02:48.344Z"
   },
   {
    "duration": 15,
    "start_time": "2023-01-02T18:03:13.020Z"
   },
   {
    "duration": 6,
    "start_time": "2023-01-02T18:03:32.293Z"
   },
   {
    "duration": 2,
    "start_time": "2023-01-02T18:04:42.953Z"
   },
   {
    "duration": 3,
    "start_time": "2023-01-02T18:05:15.583Z"
   },
   {
    "duration": 71,
    "start_time": "2023-01-02T18:10:55.754Z"
   },
   {
    "duration": 165,
    "start_time": "2023-01-02T18:17:35.915Z"
   },
   {
    "duration": 130,
    "start_time": "2023-01-02T18:17:48.036Z"
   },
   {
    "duration": 129,
    "start_time": "2023-01-02T18:18:08.313Z"
   },
   {
    "duration": 148,
    "start_time": "2023-01-02T18:18:46.614Z"
   },
   {
    "duration": 172,
    "start_time": "2023-01-02T18:19:11.486Z"
   },
   {
    "duration": 158,
    "start_time": "2023-01-02T18:19:20.726Z"
   },
   {
    "duration": 146,
    "start_time": "2023-01-02T18:19:48.767Z"
   },
   {
    "duration": 173,
    "start_time": "2023-01-02T18:19:59.808Z"
   },
   {
    "duration": 147,
    "start_time": "2023-01-02T18:20:32.754Z"
   },
   {
    "duration": 25,
    "start_time": "2023-01-02T18:21:13.677Z"
   },
   {
    "duration": 19,
    "start_time": "2023-01-02T18:21:19.175Z"
   },
   {
    "duration": 66,
    "start_time": "2023-01-02T18:21:34.084Z"
   },
   {
    "duration": 158,
    "start_time": "2023-01-02T18:21:38.150Z"
   },
   {
    "duration": 170,
    "start_time": "2023-01-02T18:21:44.824Z"
   },
   {
    "duration": 190,
    "start_time": "2023-01-02T18:22:01.517Z"
   },
   {
    "duration": 146,
    "start_time": "2023-01-02T18:22:36.498Z"
   },
   {
    "duration": 200,
    "start_time": "2023-01-02T18:22:45.794Z"
   },
   {
    "duration": 216,
    "start_time": "2023-01-02T18:24:48.767Z"
   },
   {
    "duration": 198,
    "start_time": "2023-01-02T18:24:53.150Z"
   },
   {
    "duration": 231,
    "start_time": "2023-01-02T18:25:17.217Z"
   },
   {
    "duration": 193,
    "start_time": "2023-01-02T18:25:28.140Z"
   },
   {
    "duration": 154,
    "start_time": "2023-01-02T18:25:33.481Z"
   },
   {
    "duration": 345,
    "start_time": "2023-01-02T18:25:41.567Z"
   },
   {
    "duration": 169,
    "start_time": "2023-01-02T18:25:58.276Z"
   },
   {
    "duration": 191,
    "start_time": "2023-01-02T18:26:03.850Z"
   },
   {
    "duration": 153,
    "start_time": "2023-01-02T18:26:24.014Z"
   },
   {
    "duration": 186,
    "start_time": "2023-01-02T18:26:28.794Z"
   },
   {
    "duration": 141,
    "start_time": "2023-01-02T18:26:41.926Z"
   },
   {
    "duration": 152,
    "start_time": "2023-01-02T18:27:04.976Z"
   },
   {
    "duration": 198,
    "start_time": "2023-01-02T18:28:53.015Z"
   },
   {
    "duration": 331,
    "start_time": "2023-01-02T18:31:52.589Z"
   },
   {
    "duration": 167,
    "start_time": "2023-01-02T18:32:08.187Z"
   },
   {
    "duration": 283,
    "start_time": "2023-01-02T18:32:11.444Z"
   },
   {
    "duration": 25,
    "start_time": "2023-01-02T18:32:29.536Z"
   },
   {
    "duration": 26,
    "start_time": "2023-01-02T18:32:35.151Z"
   },
   {
    "duration": 202,
    "start_time": "2023-01-02T18:32:52.856Z"
   },
   {
    "duration": 178,
    "start_time": "2023-01-02T18:33:51.177Z"
   },
   {
    "duration": 166,
    "start_time": "2023-01-02T18:34:18.371Z"
   },
   {
    "duration": 194,
    "start_time": "2023-01-02T18:34:26.818Z"
   },
   {
    "duration": 269,
    "start_time": "2023-01-02T18:39:31.248Z"
   },
   {
    "duration": 285,
    "start_time": "2023-01-02T18:39:52.974Z"
   },
   {
    "duration": 450,
    "start_time": "2023-01-02T18:40:05.016Z"
   },
   {
    "duration": 285,
    "start_time": "2023-01-02T18:40:20.014Z"
   },
   {
    "duration": 281,
    "start_time": "2023-01-02T18:40:59.278Z"
   },
   {
    "duration": 330,
    "start_time": "2023-01-02T18:41:59.162Z"
   },
   {
    "duration": 257,
    "start_time": "2023-01-02T18:42:06.723Z"
   },
   {
    "duration": 258,
    "start_time": "2023-01-02T18:42:18.414Z"
   },
   {
    "duration": 271,
    "start_time": "2023-01-02T18:42:52.572Z"
   },
   {
    "duration": 316,
    "start_time": "2023-01-02T18:43:04.339Z"
   },
   {
    "duration": 303,
    "start_time": "2023-01-02T18:43:19.583Z"
   },
   {
    "duration": 502,
    "start_time": "2023-01-02T18:43:59.275Z"
   },
   {
    "duration": 344,
    "start_time": "2023-01-02T18:44:08.465Z"
   },
   {
    "duration": 304,
    "start_time": "2023-01-02T18:44:26.824Z"
   },
   {
    "duration": 314,
    "start_time": "2023-01-02T18:44:40.787Z"
   },
   {
    "duration": 202,
    "start_time": "2023-01-02T18:44:53.038Z"
   },
   {
    "duration": 209,
    "start_time": "2023-01-02T18:45:27.906Z"
   },
   {
    "duration": 175,
    "start_time": "2023-01-02T18:45:33.018Z"
   },
   {
    "duration": 1910,
    "start_time": "2023-01-02T18:45:59.994Z"
   },
   {
    "duration": 716,
    "start_time": "2023-01-02T18:46:01.906Z"
   },
   {
    "duration": 16,
    "start_time": "2023-01-02T18:46:02.624Z"
   },
   {
    "duration": 11,
    "start_time": "2023-01-02T18:46:02.642Z"
   },
   {
    "duration": 15,
    "start_time": "2023-01-02T18:46:02.655Z"
   },
   {
    "duration": 34,
    "start_time": "2023-01-02T18:46:02.671Z"
   },
   {
    "duration": 218,
    "start_time": "2023-01-02T18:46:02.709Z"
   },
   {
    "duration": 4,
    "start_time": "2023-01-02T18:46:02.929Z"
   },
   {
    "duration": 18,
    "start_time": "2023-01-02T18:46:02.935Z"
   },
   {
    "duration": 11,
    "start_time": "2023-01-02T18:46:02.956Z"
   },
   {
    "duration": 25,
    "start_time": "2023-01-02T18:46:02.969Z"
   },
   {
    "duration": 28,
    "start_time": "2023-01-02T18:46:03.004Z"
   },
   {
    "duration": 35,
    "start_time": "2023-01-02T18:46:03.034Z"
   },
   {
    "duration": 4,
    "start_time": "2023-01-02T18:46:03.071Z"
   },
   {
    "duration": 3496,
    "start_time": "2023-01-02T18:46:03.077Z"
   },
   {
    "duration": 271,
    "start_time": "2023-01-02T18:46:06.575Z"
   },
   {
    "duration": 165,
    "start_time": "2023-01-02T18:46:31.909Z"
   },
   {
    "duration": 177,
    "start_time": "2023-01-02T18:46:46.177Z"
   },
   {
    "duration": 310,
    "start_time": "2023-01-02T18:48:29.393Z"
   },
   {
    "duration": 235,
    "start_time": "2023-01-02T18:48:35.944Z"
   },
   {
    "duration": 20,
    "start_time": "2023-01-02T18:48:50.596Z"
   },
   {
    "duration": 17,
    "start_time": "2023-01-02T18:48:56.967Z"
   },
   {
    "duration": 178,
    "start_time": "2023-01-02T18:49:00.037Z"
   },
   {
    "duration": 149,
    "start_time": "2023-01-02T18:49:06.911Z"
   },
   {
    "duration": 185,
    "start_time": "2023-01-02T18:49:12.912Z"
   },
   {
    "duration": 12,
    "start_time": "2023-01-02T18:49:49.810Z"
   },
   {
    "duration": 187,
    "start_time": "2023-01-02T18:50:33.191Z"
   },
   {
    "duration": 188,
    "start_time": "2023-01-02T18:50:46.353Z"
   },
   {
    "duration": 190,
    "start_time": "2023-01-02T18:51:37.814Z"
   },
   {
    "duration": 198,
    "start_time": "2023-01-02T18:51:44.018Z"
   },
   {
    "duration": 1611,
    "start_time": "2023-01-03T12:44:59.967Z"
   },
   {
    "duration": 0,
    "start_time": "2023-01-03T12:45:01.580Z"
   },
   {
    "duration": 0,
    "start_time": "2023-01-03T12:45:01.581Z"
   },
   {
    "duration": 0,
    "start_time": "2023-01-03T12:45:01.582Z"
   },
   {
    "duration": 0,
    "start_time": "2023-01-03T12:45:01.583Z"
   },
   {
    "duration": 0,
    "start_time": "2023-01-03T12:45:01.584Z"
   },
   {
    "duration": 0,
    "start_time": "2023-01-03T12:45:01.585Z"
   },
   {
    "duration": 0,
    "start_time": "2023-01-03T12:45:01.586Z"
   },
   {
    "duration": 0,
    "start_time": "2023-01-03T12:45:01.597Z"
   },
   {
    "duration": 0,
    "start_time": "2023-01-03T12:45:01.598Z"
   },
   {
    "duration": 0,
    "start_time": "2023-01-03T12:45:01.599Z"
   },
   {
    "duration": 0,
    "start_time": "2023-01-03T12:45:01.600Z"
   },
   {
    "duration": 0,
    "start_time": "2023-01-03T12:45:01.601Z"
   },
   {
    "duration": 0,
    "start_time": "2023-01-03T12:45:01.602Z"
   },
   {
    "duration": 0,
    "start_time": "2023-01-03T12:45:01.603Z"
   },
   {
    "duration": 0,
    "start_time": "2023-01-03T12:45:01.604Z"
   },
   {
    "duration": 1306,
    "start_time": "2023-01-03T12:48:26.130Z"
   },
   {
    "duration": 2960,
    "start_time": "2023-01-03T12:48:27.438Z"
   },
   {
    "duration": 16,
    "start_time": "2023-01-03T12:48:30.399Z"
   },
   {
    "duration": 20,
    "start_time": "2023-01-03T12:48:30.417Z"
   },
   {
    "duration": 35,
    "start_time": "2023-01-03T12:48:30.438Z"
   },
   {
    "duration": 6,
    "start_time": "2023-01-03T12:48:30.475Z"
   },
   {
    "duration": 183,
    "start_time": "2023-01-03T12:48:30.482Z"
   },
   {
    "duration": 5,
    "start_time": "2023-01-03T12:48:30.667Z"
   },
   {
    "duration": 29,
    "start_time": "2023-01-03T12:48:30.674Z"
   },
   {
    "duration": 42,
    "start_time": "2023-01-03T12:48:30.706Z"
   },
   {
    "duration": 47,
    "start_time": "2023-01-03T12:48:30.750Z"
   },
   {
    "duration": 47,
    "start_time": "2023-01-03T12:48:30.798Z"
   },
   {
    "duration": 44,
    "start_time": "2023-01-03T12:48:30.846Z"
   },
   {
    "duration": 23,
    "start_time": "2023-01-03T12:48:30.891Z"
   },
   {
    "duration": 3297,
    "start_time": "2023-01-03T12:48:30.916Z"
   },
   {
    "duration": 171,
    "start_time": "2023-01-03T12:48:34.215Z"
   },
   {
    "duration": 180,
    "start_time": "2023-01-03T12:51:37.557Z"
   },
   {
    "duration": 227,
    "start_time": "2023-01-03T12:51:42.237Z"
   },
   {
    "duration": 324,
    "start_time": "2023-01-03T13:06:22.980Z"
   },
   {
    "duration": 194,
    "start_time": "2023-01-03T13:06:50.392Z"
   },
   {
    "duration": 208,
    "start_time": "2023-01-03T13:06:55.720Z"
   },
   {
    "duration": 198,
    "start_time": "2023-01-03T13:07:07.067Z"
   },
   {
    "duration": 204,
    "start_time": "2023-01-03T13:07:19.757Z"
   },
   {
    "duration": 389,
    "start_time": "2023-01-03T13:07:30.388Z"
   },
   {
    "duration": 188,
    "start_time": "2023-01-03T13:07:43.987Z"
   },
   {
    "duration": 200,
    "start_time": "2023-01-03T13:07:50.394Z"
   },
   {
    "duration": 311,
    "start_time": "2023-01-03T13:07:53.944Z"
   },
   {
    "duration": 250,
    "start_time": "2023-01-03T13:08:05.859Z"
   },
   {
    "duration": 221,
    "start_time": "2023-01-03T13:08:11.457Z"
   },
   {
    "duration": 264,
    "start_time": "2023-01-03T13:08:18.935Z"
   },
   {
    "duration": 208,
    "start_time": "2023-01-03T13:08:30.993Z"
   },
   {
    "duration": 410,
    "start_time": "2023-01-03T13:08:53.569Z"
   },
   {
    "duration": 359,
    "start_time": "2023-01-03T13:09:07.917Z"
   },
   {
    "duration": 376,
    "start_time": "2023-01-03T13:09:14.609Z"
   },
   {
    "duration": 188,
    "start_time": "2023-01-03T13:09:44.483Z"
   },
   {
    "duration": 482,
    "start_time": "2023-01-03T13:09:55.238Z"
   },
   {
    "duration": 252,
    "start_time": "2023-01-03T13:11:15.963Z"
   },
   {
    "duration": 25,
    "start_time": "2023-01-03T13:12:54.098Z"
   },
   {
    "duration": 205,
    "start_time": "2023-01-03T13:15:28.574Z"
   },
   {
    "duration": 203,
    "start_time": "2023-01-03T13:17:02.311Z"
   },
   {
    "duration": 525,
    "start_time": "2023-01-03T13:17:14.120Z"
   },
   {
    "duration": 323,
    "start_time": "2023-01-03T13:17:48.373Z"
   },
   {
    "duration": 551,
    "start_time": "2023-01-03T13:18:01.189Z"
   },
   {
    "duration": 344,
    "start_time": "2023-01-03T13:18:11.802Z"
   },
   {
    "duration": 338,
    "start_time": "2023-01-03T13:18:32.050Z"
   },
   {
    "duration": 368,
    "start_time": "2023-01-03T13:20:30.056Z"
   },
   {
    "duration": 315,
    "start_time": "2023-01-03T13:21:10.375Z"
   },
   {
    "duration": 335,
    "start_time": "2023-01-03T13:21:34.310Z"
   },
   {
    "duration": 354,
    "start_time": "2023-01-03T13:22:28.584Z"
   },
   {
    "duration": 499,
    "start_time": "2023-01-03T13:22:50.347Z"
   },
   {
    "duration": 366,
    "start_time": "2023-01-03T13:22:54.679Z"
   },
   {
    "duration": 374,
    "start_time": "2023-01-03T13:23:02.616Z"
   },
   {
    "duration": 333,
    "start_time": "2023-01-03T13:23:17.388Z"
   },
   {
    "duration": 384,
    "start_time": "2023-01-03T13:24:15.771Z"
   },
   {
    "duration": 361,
    "start_time": "2023-01-03T13:25:12.256Z"
   },
   {
    "duration": 381,
    "start_time": "2023-01-03T13:25:52.820Z"
   },
   {
    "duration": 373,
    "start_time": "2023-01-03T13:26:35.279Z"
   },
   {
    "duration": 406,
    "start_time": "2023-01-03T13:28:03.710Z"
   },
   {
    "duration": 523,
    "start_time": "2023-01-03T13:33:34.186Z"
   },
   {
    "duration": 53,
    "start_time": "2023-01-03T13:33:37.184Z"
   },
   {
    "duration": 341,
    "start_time": "2023-01-03T13:33:39.484Z"
   },
   {
    "duration": 311,
    "start_time": "2023-01-03T13:37:02.712Z"
   },
   {
    "duration": 346,
    "start_time": "2023-01-03T13:37:29.669Z"
   },
   {
    "duration": 11,
    "start_time": "2023-01-03T13:56:35.907Z"
   },
   {
    "duration": 44,
    "start_time": "2023-01-03T13:56:52.054Z"
   },
   {
    "duration": 9,
    "start_time": "2023-01-03T13:56:54.185Z"
   },
   {
    "duration": 4,
    "start_time": "2023-01-03T14:01:02.642Z"
   },
   {
    "duration": 4,
    "start_time": "2023-01-03T14:01:07.906Z"
   },
   {
    "duration": 10,
    "start_time": "2023-01-03T14:01:18.587Z"
   },
   {
    "duration": 5,
    "start_time": "2023-01-03T14:01:20.958Z"
   },
   {
    "duration": 4,
    "start_time": "2023-01-03T14:01:24.586Z"
   },
   {
    "duration": 4,
    "start_time": "2023-01-03T14:01:29.130Z"
   },
   {
    "duration": 4,
    "start_time": "2023-01-03T14:01:37.617Z"
   },
   {
    "duration": 210,
    "start_time": "2023-01-03T14:02:35.962Z"
   },
   {
    "duration": 5,
    "start_time": "2023-01-03T14:02:44.455Z"
   },
   {
    "duration": 4,
    "start_time": "2023-01-03T14:02:49.168Z"
   },
   {
    "duration": 6,
    "start_time": "2023-01-03T14:02:50.634Z"
   },
   {
    "duration": 4,
    "start_time": "2023-01-03T14:02:51.096Z"
   },
   {
    "duration": 3,
    "start_time": "2023-01-03T14:02:51.294Z"
   },
   {
    "duration": 5,
    "start_time": "2023-01-03T14:02:54.830Z"
   },
   {
    "duration": 4,
    "start_time": "2023-01-03T14:03:17.499Z"
   },
   {
    "duration": 3,
    "start_time": "2023-01-03T14:05:01.916Z"
   },
   {
    "duration": 5,
    "start_time": "2023-01-03T14:06:24.439Z"
   },
   {
    "duration": 208,
    "start_time": "2023-01-03T14:06:29.333Z"
   },
   {
    "duration": 5,
    "start_time": "2023-01-03T14:06:33.487Z"
   },
   {
    "duration": 4,
    "start_time": "2023-01-03T14:08:35.289Z"
   },
   {
    "duration": 1375,
    "start_time": "2023-01-03T14:09:45.780Z"
   },
   {
    "duration": 688,
    "start_time": "2023-01-03T14:09:47.156Z"
   },
   {
    "duration": 16,
    "start_time": "2023-01-03T14:09:47.845Z"
   },
   {
    "duration": 11,
    "start_time": "2023-01-03T14:09:47.862Z"
   },
   {
    "duration": 32,
    "start_time": "2023-01-03T14:09:47.874Z"
   },
   {
    "duration": 13,
    "start_time": "2023-01-03T14:09:47.909Z"
   },
   {
    "duration": 184,
    "start_time": "2023-01-03T14:09:47.924Z"
   },
   {
    "duration": 5,
    "start_time": "2023-01-03T14:09:48.109Z"
   },
   {
    "duration": 6,
    "start_time": "2023-01-03T14:09:48.116Z"
   },
   {
    "duration": 9,
    "start_time": "2023-01-03T14:09:48.126Z"
   },
   {
    "duration": 5,
    "start_time": "2023-01-03T14:09:48.137Z"
   },
   {
    "duration": 3,
    "start_time": "2023-01-03T14:09:48.144Z"
   },
   {
    "duration": 63,
    "start_time": "2023-01-03T14:09:48.149Z"
   },
   {
    "duration": 5,
    "start_time": "2023-01-03T14:09:48.214Z"
   },
   {
    "duration": 3272,
    "start_time": "2023-01-03T14:09:48.221Z"
   },
   {
    "duration": 182,
    "start_time": "2023-01-03T14:09:51.495Z"
   },
   {
    "duration": 412,
    "start_time": "2023-01-03T14:09:51.679Z"
   },
   {
    "duration": 3,
    "start_time": "2023-01-03T14:09:52.096Z"
   },
   {
    "duration": 112,
    "start_time": "2023-01-03T14:10:31.924Z"
   },
   {
    "duration": 11,
    "start_time": "2023-01-03T14:11:48.251Z"
   },
   {
    "duration": 14,
    "start_time": "2023-01-03T14:12:06.045Z"
   },
   {
    "duration": 12,
    "start_time": "2023-01-03T14:14:54.092Z"
   },
   {
    "duration": 14,
    "start_time": "2023-01-03T14:15:13.420Z"
   },
   {
    "duration": 15,
    "start_time": "2023-01-03T14:29:36.646Z"
   },
   {
    "duration": 13,
    "start_time": "2023-01-03T14:30:16.722Z"
   },
   {
    "duration": 11,
    "start_time": "2023-01-03T14:31:47.873Z"
   },
   {
    "duration": 1306,
    "start_time": "2023-01-03T14:52:04.598Z"
   },
   {
    "duration": 708,
    "start_time": "2023-01-03T14:52:05.907Z"
   },
   {
    "duration": 16,
    "start_time": "2023-01-03T14:52:06.616Z"
   },
   {
    "duration": 10,
    "start_time": "2023-01-03T14:52:06.634Z"
   },
   {
    "duration": 19,
    "start_time": "2023-01-03T14:52:06.646Z"
   },
   {
    "duration": 4,
    "start_time": "2023-01-03T14:52:06.666Z"
   },
   {
    "duration": 195,
    "start_time": "2023-01-03T14:52:06.671Z"
   },
   {
    "duration": 5,
    "start_time": "2023-01-03T14:52:06.867Z"
   },
   {
    "duration": 7,
    "start_time": "2023-01-03T14:52:06.873Z"
   },
   {
    "duration": 16,
    "start_time": "2023-01-03T14:52:06.882Z"
   },
   {
    "duration": 5,
    "start_time": "2023-01-03T14:52:06.900Z"
   },
   {
    "duration": 3,
    "start_time": "2023-01-03T14:52:06.907Z"
   },
   {
    "duration": 26,
    "start_time": "2023-01-03T14:52:06.912Z"
   },
   {
    "duration": 5,
    "start_time": "2023-01-03T14:52:06.940Z"
   },
   {
    "duration": 3404,
    "start_time": "2023-01-03T14:52:06.946Z"
   },
   {
    "duration": 169,
    "start_time": "2023-01-03T14:52:10.352Z"
   },
   {
    "duration": 406,
    "start_time": "2023-01-03T14:52:10.523Z"
   },
   {
    "duration": 10,
    "start_time": "2023-01-03T14:52:10.931Z"
   },
   {
    "duration": 10,
    "start_time": "2023-01-03T14:52:54.252Z"
   },
   {
    "duration": 11,
    "start_time": "2023-01-03T14:53:04.280Z"
   },
   {
    "duration": 12,
    "start_time": "2023-01-03T14:53:28.652Z"
   },
   {
    "duration": 85,
    "start_time": "2023-01-03T14:53:42.794Z"
   },
   {
    "duration": 97,
    "start_time": "2023-01-03T14:53:50.213Z"
   },
   {
    "duration": 108,
    "start_time": "2023-01-03T14:54:05.720Z"
   },
   {
    "duration": 91,
    "start_time": "2023-01-03T14:54:08.012Z"
   },
   {
    "duration": 116,
    "start_time": "2023-01-03T14:54:30.248Z"
   },
   {
    "duration": 23,
    "start_time": "2023-01-03T14:56:45.526Z"
   },
   {
    "duration": 91,
    "start_time": "2023-01-03T14:57:55.283Z"
   },
   {
    "duration": 135,
    "start_time": "2023-01-03T14:58:14.317Z"
   },
   {
    "duration": 115,
    "start_time": "2023-01-03T14:58:27.115Z"
   },
   {
    "duration": 163,
    "start_time": "2023-01-03T14:59:15.929Z"
   },
   {
    "duration": 128,
    "start_time": "2023-01-03T14:59:54.100Z"
   },
   {
    "duration": 132,
    "start_time": "2023-01-03T14:59:59.353Z"
   },
   {
    "duration": 1544,
    "start_time": "2023-01-04T12:01:20.801Z"
   },
   {
    "duration": 3050,
    "start_time": "2023-01-04T12:01:22.348Z"
   },
   {
    "duration": 17,
    "start_time": "2023-01-04T12:01:25.400Z"
   },
   {
    "duration": 14,
    "start_time": "2023-01-04T12:01:25.420Z"
   },
   {
    "duration": 23,
    "start_time": "2023-01-04T12:01:25.436Z"
   },
   {
    "duration": 5,
    "start_time": "2023-01-04T12:01:25.479Z"
   },
   {
    "duration": 206,
    "start_time": "2023-01-04T12:01:25.485Z"
   },
   {
    "duration": 6,
    "start_time": "2023-01-04T12:01:25.693Z"
   },
   {
    "duration": 10,
    "start_time": "2023-01-04T12:01:25.701Z"
   },
   {
    "duration": 17,
    "start_time": "2023-01-04T12:01:25.715Z"
   },
   {
    "duration": 6,
    "start_time": "2023-01-04T12:01:25.735Z"
   },
   {
    "duration": 6,
    "start_time": "2023-01-04T12:01:25.743Z"
   },
   {
    "duration": 62,
    "start_time": "2023-01-04T12:01:25.751Z"
   },
   {
    "duration": 4,
    "start_time": "2023-01-04T12:01:25.815Z"
   },
   {
    "duration": 3668,
    "start_time": "2023-01-04T12:01:25.820Z"
   },
   {
    "duration": 189,
    "start_time": "2023-01-04T12:01:29.491Z"
   },
   {
    "duration": 453,
    "start_time": "2023-01-04T12:01:29.682Z"
   },
   {
    "duration": 149,
    "start_time": "2023-01-04T12:01:30.138Z"
   },
   {
    "duration": 243,
    "start_time": "2023-01-04T12:02:29.663Z"
   },
   {
    "duration": 141,
    "start_time": "2023-01-04T12:02:33.958Z"
   },
   {
    "duration": 133,
    "start_time": "2023-01-04T12:02:46.762Z"
   },
   {
    "duration": 299,
    "start_time": "2023-01-04T12:05:49.130Z"
   },
   {
    "duration": 250,
    "start_time": "2023-01-04T12:05:53.173Z"
   },
   {
    "duration": 131,
    "start_time": "2023-01-04T12:07:21.028Z"
   },
   {
    "duration": 126,
    "start_time": "2023-01-04T12:16:38.519Z"
   },
   {
    "duration": 131,
    "start_time": "2023-01-04T12:20:15.489Z"
   },
   {
    "duration": 70,
    "start_time": "2023-01-04T12:33:01.532Z"
   },
   {
    "duration": 4,
    "start_time": "2023-01-04T12:36:51.928Z"
   },
   {
    "duration": 3,
    "start_time": "2023-01-04T12:36:52.638Z"
   },
   {
    "duration": 172,
    "start_time": "2023-01-04T12:36:53.461Z"
   },
   {
    "duration": 4,
    "start_time": "2023-01-04T12:37:17.461Z"
   },
   {
    "duration": 177,
    "start_time": "2023-01-04T12:37:17.825Z"
   },
   {
    "duration": 3,
    "start_time": "2023-01-04T12:39:19.355Z"
   },
   {
    "duration": 4,
    "start_time": "2023-01-04T12:39:42.222Z"
   },
   {
    "duration": 52,
    "start_time": "2023-01-04T12:46:01.458Z"
   },
   {
    "duration": 38,
    "start_time": "2023-01-04T12:46:05.245Z"
   },
   {
    "duration": 720,
    "start_time": "2023-01-04T12:47:40.081Z"
   },
   {
    "duration": 23,
    "start_time": "2023-01-04T12:48:45.570Z"
   },
   {
    "duration": 1438,
    "start_time": "2023-01-04T12:49:27.754Z"
   },
   {
    "duration": 9,
    "start_time": "2023-01-04T12:50:06.126Z"
   },
   {
    "duration": 11,
    "start_time": "2023-01-04T12:50:09.966Z"
   },
   {
    "duration": 10,
    "start_time": "2023-01-04T12:51:12.936Z"
   },
   {
    "duration": 1475,
    "start_time": "2023-01-04T12:51:17.782Z"
   },
   {
    "duration": 679,
    "start_time": "2023-01-04T12:51:19.259Z"
   },
   {
    "duration": 16,
    "start_time": "2023-01-04T12:51:19.940Z"
   },
   {
    "duration": 27,
    "start_time": "2023-01-04T12:51:19.958Z"
   },
   {
    "duration": 17,
    "start_time": "2023-01-04T12:51:19.987Z"
   },
   {
    "duration": 3,
    "start_time": "2023-01-04T12:51:20.006Z"
   },
   {
    "duration": 189,
    "start_time": "2023-01-04T12:51:20.011Z"
   },
   {
    "duration": 5,
    "start_time": "2023-01-04T12:51:20.202Z"
   },
   {
    "duration": 6,
    "start_time": "2023-01-04T12:51:20.208Z"
   },
   {
    "duration": 10,
    "start_time": "2023-01-04T12:51:20.216Z"
   },
   {
    "duration": 5,
    "start_time": "2023-01-04T12:51:20.227Z"
   },
   {
    "duration": 5,
    "start_time": "2023-01-04T12:51:20.234Z"
   },
   {
    "duration": 55,
    "start_time": "2023-01-04T12:51:20.241Z"
   },
   {
    "duration": 112,
    "start_time": "2023-01-04T12:51:20.298Z"
   },
   {
    "duration": 0,
    "start_time": "2023-01-04T12:51:20.412Z"
   },
   {
    "duration": 0,
    "start_time": "2023-01-04T12:51:20.413Z"
   },
   {
    "duration": 0,
    "start_time": "2023-01-04T12:51:20.415Z"
   },
   {
    "duration": 0,
    "start_time": "2023-01-04T12:51:20.417Z"
   },
   {
    "duration": 0,
    "start_time": "2023-01-04T12:51:20.418Z"
   },
   {
    "duration": 1467,
    "start_time": "2023-01-04T12:52:46.746Z"
   },
   {
    "duration": 721,
    "start_time": "2023-01-04T12:52:48.216Z"
   },
   {
    "duration": 18,
    "start_time": "2023-01-04T12:52:48.940Z"
   },
   {
    "duration": 22,
    "start_time": "2023-01-04T12:52:48.961Z"
   },
   {
    "duration": 17,
    "start_time": "2023-01-04T12:52:48.984Z"
   },
   {
    "duration": 3,
    "start_time": "2023-01-04T12:52:49.003Z"
   },
   {
    "duration": 217,
    "start_time": "2023-01-04T12:52:49.008Z"
   },
   {
    "duration": 5,
    "start_time": "2023-01-04T12:52:49.227Z"
   },
   {
    "duration": 9,
    "start_time": "2023-01-04T12:52:49.234Z"
   },
   {
    "duration": 12,
    "start_time": "2023-01-04T12:52:49.245Z"
   },
   {
    "duration": 19,
    "start_time": "2023-01-04T12:52:49.259Z"
   },
   {
    "duration": 4,
    "start_time": "2023-01-04T12:52:49.280Z"
   },
   {
    "duration": 37,
    "start_time": "2023-01-04T12:52:49.286Z"
   },
   {
    "duration": 4,
    "start_time": "2023-01-04T12:52:49.324Z"
   },
   {
    "duration": 3554,
    "start_time": "2023-01-04T12:52:49.330Z"
   },
   {
    "duration": 221,
    "start_time": "2023-01-04T12:52:52.887Z"
   },
   {
    "duration": 472,
    "start_time": "2023-01-04T12:52:53.110Z"
   },
   {
    "duration": 142,
    "start_time": "2023-01-04T12:52:53.583Z"
   },
   {
    "duration": 4,
    "start_time": "2023-01-04T12:52:53.726Z"
   },
   {
    "duration": 119,
    "start_time": "2023-01-04T12:58:39.456Z"
   },
   {
    "duration": 1135,
    "start_time": "2023-01-04T12:58:44.190Z"
   },
   {
    "duration": 1159,
    "start_time": "2023-01-04T12:59:02.856Z"
   },
   {
    "duration": 1179,
    "start_time": "2023-01-04T12:59:09.758Z"
   },
   {
    "duration": 4,
    "start_time": "2023-01-04T13:00:05.010Z"
   },
   {
    "duration": 5,
    "start_time": "2023-01-04T13:00:39.924Z"
   },
   {
    "duration": 19,
    "start_time": "2023-01-04T13:01:42.309Z"
   },
   {
    "duration": 5,
    "start_time": "2023-01-04T13:03:15.786Z"
   },
   {
    "duration": 5,
    "start_time": "2023-01-04T13:03:17.123Z"
   },
   {
    "duration": 20,
    "start_time": "2023-01-04T13:03:17.635Z"
   },
   {
    "duration": 148,
    "start_time": "2023-01-04T13:03:42.543Z"
   },
   {
    "duration": 45,
    "start_time": "2023-01-04T13:04:07.930Z"
   },
   {
    "duration": 4,
    "start_time": "2023-01-04T13:04:12.356Z"
   },
   {
    "duration": 5,
    "start_time": "2023-01-04T13:04:13.040Z"
   },
   {
    "duration": 171,
    "start_time": "2023-01-04T13:04:13.514Z"
   },
   {
    "duration": 4,
    "start_time": "2023-01-04T13:08:09.519Z"
   },
   {
    "duration": 5,
    "start_time": "2023-01-04T13:08:14.252Z"
   },
   {
    "duration": 160,
    "start_time": "2023-01-04T13:08:14.660Z"
   },
   {
    "duration": 5,
    "start_time": "2023-01-04T13:08:31.030Z"
   },
   {
    "duration": 163,
    "start_time": "2023-01-04T13:08:32.930Z"
   },
   {
    "duration": 8,
    "start_time": "2023-01-04T13:09:11.539Z"
   },
   {
    "duration": 652,
    "start_time": "2023-01-04T13:09:25.793Z"
   },
   {
    "duration": 5,
    "start_time": "2023-01-04T13:11:46.205Z"
   },
   {
    "duration": 9,
    "start_time": "2023-01-04T13:11:46.788Z"
   },
   {
    "duration": 5,
    "start_time": "2023-01-04T13:11:51.682Z"
   },
   {
    "duration": 5,
    "start_time": "2023-01-04T13:11:52.583Z"
   },
   {
    "duration": 175,
    "start_time": "2023-01-04T13:11:53.750Z"
   },
   {
    "duration": 6,
    "start_time": "2023-01-04T13:12:07.874Z"
   },
   {
    "duration": 5,
    "start_time": "2023-01-04T13:12:09.309Z"
   },
   {
    "duration": 10524,
    "start_time": "2023-01-04T13:12:09.939Z"
   },
   {
    "duration": 5,
    "start_time": "2023-01-04T13:12:53.312Z"
   },
   {
    "duration": 5,
    "start_time": "2023-01-04T13:12:55.138Z"
   },
   {
    "duration": 10757,
    "start_time": "2023-01-04T13:12:55.299Z"
   },
   {
    "duration": 5,
    "start_time": "2023-01-04T13:13:27.209Z"
   },
   {
    "duration": 5,
    "start_time": "2023-01-04T13:13:28.523Z"
   },
   {
    "duration": 2763,
    "start_time": "2023-01-04T13:13:28.919Z"
   },
   {
    "duration": 5,
    "start_time": "2023-01-04T13:13:51.867Z"
   },
   {
    "duration": 10674,
    "start_time": "2023-01-04T13:13:51.964Z"
   },
   {
    "duration": 6,
    "start_time": "2023-01-04T13:14:17.599Z"
   },
   {
    "duration": 19,
    "start_time": "2023-01-04T13:14:18.049Z"
   },
   {
    "duration": 20,
    "start_time": "2023-01-04T13:15:12.551Z"
   },
   {
    "duration": 10,
    "start_time": "2023-01-04T13:15:54.710Z"
   },
   {
    "duration": 21,
    "start_time": "2023-01-04T13:16:10.965Z"
   },
   {
    "duration": 14,
    "start_time": "2023-01-04T13:16:15.489Z"
   },
   {
    "duration": 1525,
    "start_time": "2023-01-04T14:54:36.656Z"
   },
   {
    "duration": 1851,
    "start_time": "2023-01-04T14:54:38.183Z"
   },
   {
    "duration": 16,
    "start_time": "2023-01-04T14:54:40.036Z"
   },
   {
    "duration": 12,
    "start_time": "2023-01-04T14:54:40.055Z"
   },
   {
    "duration": 17,
    "start_time": "2023-01-04T14:54:40.068Z"
   },
   {
    "duration": 4,
    "start_time": "2023-01-04T14:54:40.086Z"
   },
   {
    "duration": 198,
    "start_time": "2023-01-04T14:54:40.091Z"
   },
   {
    "duration": 5,
    "start_time": "2023-01-04T14:54:40.291Z"
   },
   {
    "duration": 7,
    "start_time": "2023-01-04T14:54:40.297Z"
   },
   {
    "duration": 13,
    "start_time": "2023-01-04T14:54:40.321Z"
   },
   {
    "duration": 4,
    "start_time": "2023-01-04T14:54:40.336Z"
   },
   {
    "duration": 4,
    "start_time": "2023-01-04T14:54:40.341Z"
   },
   {
    "duration": 28,
    "start_time": "2023-01-04T14:54:40.347Z"
   },
   {
    "duration": 3,
    "start_time": "2023-01-04T14:54:40.377Z"
   },
   {
    "duration": 3446,
    "start_time": "2023-01-04T14:54:40.382Z"
   },
   {
    "duration": 203,
    "start_time": "2023-01-04T14:54:43.830Z"
   },
   {
    "duration": 570,
    "start_time": "2023-01-04T14:54:44.035Z"
   },
   {
    "duration": 133,
    "start_time": "2023-01-04T14:54:44.607Z"
   },
   {
    "duration": 4,
    "start_time": "2023-01-04T14:54:44.742Z"
   },
   {
    "duration": 49,
    "start_time": "2023-01-04T14:54:44.748Z"
   },
   {
    "duration": 156,
    "start_time": "2023-01-04T14:54:44.799Z"
   },
   {
    "duration": 14,
    "start_time": "2023-01-04T15:13:19.225Z"
   },
   {
    "duration": 11,
    "start_time": "2023-01-04T15:13:36.073Z"
   },
   {
    "duration": 1240,
    "start_time": "2023-01-04T15:13:52.196Z"
   },
   {
    "duration": 1300,
    "start_time": "2023-01-04T15:13:59.022Z"
   },
   {
    "duration": 1279,
    "start_time": "2023-01-04T15:14:14.399Z"
   },
   {
    "duration": 1297,
    "start_time": "2023-01-04T15:14:50.742Z"
   },
   {
    "duration": 4,
    "start_time": "2023-01-04T15:15:05.785Z"
   },
   {
    "duration": 0,
    "start_time": "2023-01-04T15:15:17.874Z"
   },
   {
    "duration": 0,
    "start_time": "2023-01-04T15:15:17.876Z"
   },
   {
    "duration": 0,
    "start_time": "2023-01-04T15:15:34.214Z"
   },
   {
    "duration": 0,
    "start_time": "2023-01-04T15:15:34.222Z"
   },
   {
    "duration": 4,
    "start_time": "2023-01-04T15:15:38.268Z"
   },
   {
    "duration": 9719,
    "start_time": "2023-01-04T15:15:39.163Z"
   },
   {
    "duration": 4,
    "start_time": "2023-01-04T15:16:13.693Z"
   },
   {
    "duration": 6,
    "start_time": "2023-01-04T15:16:14.254Z"
   },
   {
    "duration": 9633,
    "start_time": "2023-01-04T15:16:14.560Z"
   },
   {
    "duration": 5,
    "start_time": "2023-01-04T15:16:45.702Z"
   },
   {
    "duration": 5,
    "start_time": "2023-01-04T15:16:46.274Z"
   },
   {
    "duration": 4331,
    "start_time": "2023-01-04T15:16:46.470Z"
   },
   {
    "duration": 1336,
    "start_time": "2023-01-04T15:17:57.972Z"
   },
   {
    "duration": 4,
    "start_time": "2023-01-04T15:18:23.907Z"
   },
   {
    "duration": 5,
    "start_time": "2023-01-04T15:18:27.282Z"
   },
   {
    "duration": 1262,
    "start_time": "2023-01-04T15:18:27.334Z"
   },
   {
    "duration": 1288,
    "start_time": "2023-01-04T15:18:49.186Z"
   },
   {
    "duration": 1419,
    "start_time": "2023-01-04T15:21:01.118Z"
   },
   {
    "duration": 1257,
    "start_time": "2023-01-04T15:21:36.448Z"
   },
   {
    "duration": 1439,
    "start_time": "2023-01-04T15:21:44.731Z"
   },
   {
    "duration": 1257,
    "start_time": "2023-01-04T15:22:37.973Z"
   },
   {
    "duration": 1348,
    "start_time": "2023-01-04T15:22:59.795Z"
   },
   {
    "duration": 1960,
    "start_time": "2023-01-04T15:23:43.207Z"
   },
   {
    "duration": 1274,
    "start_time": "2023-01-04T15:24:24.243Z"
   },
   {
    "duration": 1251,
    "start_time": "2023-01-04T15:24:51.946Z"
   },
   {
    "duration": 1263,
    "start_time": "2023-01-04T15:25:15.815Z"
   },
   {
    "duration": 1247,
    "start_time": "2023-01-04T15:26:21.942Z"
   },
   {
    "duration": 1244,
    "start_time": "2023-01-04T15:26:28.215Z"
   },
   {
    "duration": 1299,
    "start_time": "2023-01-04T15:26:39.272Z"
   },
   {
    "duration": 1250,
    "start_time": "2023-01-04T15:26:41.991Z"
   },
   {
    "duration": 1273,
    "start_time": "2023-01-04T15:26:54.866Z"
   },
   {
    "duration": 1254,
    "start_time": "2023-01-04T15:27:26.603Z"
   },
   {
    "duration": 4,
    "start_time": "2023-01-04T15:28:35.604Z"
   },
   {
    "duration": 3,
    "start_time": "2023-01-04T15:28:36.996Z"
   },
   {
    "duration": 5,
    "start_time": "2023-01-04T15:28:37.444Z"
   },
   {
    "duration": 1254,
    "start_time": "2023-01-04T15:28:38.425Z"
   },
   {
    "duration": 1269,
    "start_time": "2023-01-04T15:28:45.178Z"
   },
   {
    "duration": 1257,
    "start_time": "2023-01-04T15:28:58.089Z"
   },
   {
    "duration": 1282,
    "start_time": "2023-01-04T15:29:07.060Z"
   },
   {
    "duration": 1254,
    "start_time": "2023-01-04T15:29:12.182Z"
   },
   {
    "duration": 3,
    "start_time": "2023-01-04T15:30:22.414Z"
   },
   {
    "duration": 4,
    "start_time": "2023-01-04T15:30:22.678Z"
   },
   {
    "duration": 1292,
    "start_time": "2023-01-04T15:30:23.286Z"
   },
   {
    "duration": 1241,
    "start_time": "2023-01-04T15:30:37.735Z"
   },
   {
    "duration": 4,
    "start_time": "2023-01-04T15:31:22.574Z"
   },
   {
    "duration": 5,
    "start_time": "2023-01-04T15:31:23.129Z"
   },
   {
    "duration": 1363,
    "start_time": "2023-01-04T15:31:23.460Z"
   },
   {
    "duration": 5,
    "start_time": "2023-01-04T15:32:02.801Z"
   },
   {
    "duration": 1428,
    "start_time": "2023-01-04T15:32:03.186Z"
   },
   {
    "duration": 4,
    "start_time": "2023-01-04T15:32:33.719Z"
   },
   {
    "duration": 1318,
    "start_time": "2023-01-04T15:32:33.899Z"
   },
   {
    "duration": 4,
    "start_time": "2023-01-04T15:32:51.283Z"
   },
   {
    "duration": 3,
    "start_time": "2023-01-04T15:32:52.044Z"
   },
   {
    "duration": 1257,
    "start_time": "2023-01-04T15:32:52.182Z"
   },
   {
    "duration": 11,
    "start_time": "2023-01-04T15:34:01.005Z"
   },
   {
    "duration": 1277,
    "start_time": "2023-01-04T15:34:52.642Z"
   },
   {
    "duration": 1327,
    "start_time": "2023-01-04T15:35:06.929Z"
   },
   {
    "duration": 1299,
    "start_time": "2023-01-04T15:35:34.516Z"
   },
   {
    "duration": 1262,
    "start_time": "2023-01-04T15:35:46.852Z"
   },
   {
    "duration": 1257,
    "start_time": "2023-01-04T15:36:02.312Z"
   },
   {
    "duration": 1320,
    "start_time": "2023-01-04T15:36:14.112Z"
   },
   {
    "duration": 1308,
    "start_time": "2023-01-04T15:36:18.854Z"
   },
   {
    "duration": 1256,
    "start_time": "2023-01-04T15:36:26.437Z"
   },
   {
    "duration": 1336,
    "start_time": "2023-01-04T15:37:07.221Z"
   },
   {
    "duration": 665,
    "start_time": "2023-01-04T15:37:08.559Z"
   },
   {
    "duration": 15,
    "start_time": "2023-01-04T15:37:09.226Z"
   },
   {
    "duration": 12,
    "start_time": "2023-01-04T15:37:09.243Z"
   },
   {
    "duration": 23,
    "start_time": "2023-01-04T15:37:09.257Z"
   },
   {
    "duration": 3,
    "start_time": "2023-01-04T15:37:09.281Z"
   },
   {
    "duration": 202,
    "start_time": "2023-01-04T15:37:09.286Z"
   },
   {
    "duration": 5,
    "start_time": "2023-01-04T15:37:09.489Z"
   },
   {
    "duration": 11,
    "start_time": "2023-01-04T15:37:09.496Z"
   },
   {
    "duration": 22,
    "start_time": "2023-01-04T15:37:09.509Z"
   },
   {
    "duration": 5,
    "start_time": "2023-01-04T15:37:09.533Z"
   },
   {
    "duration": 8,
    "start_time": "2023-01-04T15:37:09.539Z"
   },
   {
    "duration": 28,
    "start_time": "2023-01-04T15:37:09.549Z"
   },
   {
    "duration": 4,
    "start_time": "2023-01-04T15:37:09.579Z"
   },
   {
    "duration": 3599,
    "start_time": "2023-01-04T15:37:09.585Z"
   },
   {
    "duration": 207,
    "start_time": "2023-01-04T15:37:13.186Z"
   },
   {
    "duration": 506,
    "start_time": "2023-01-04T15:37:13.395Z"
   },
   {
    "duration": 137,
    "start_time": "2023-01-04T15:37:13.903Z"
   },
   {
    "duration": 6,
    "start_time": "2023-01-04T15:37:14.042Z"
   },
   {
    "duration": 1394,
    "start_time": "2023-01-04T15:37:14.049Z"
   },
   {
    "duration": 5,
    "start_time": "2023-01-04T15:37:15.445Z"
   },
   {
    "duration": 1294,
    "start_time": "2023-01-04T15:37:49.659Z"
   },
   {
    "duration": 1384,
    "start_time": "2023-01-04T15:38:16.233Z"
   },
   {
    "duration": 1240,
    "start_time": "2023-01-04T15:38:22.129Z"
   },
   {
    "duration": 1276,
    "start_time": "2023-01-04T15:38:48.325Z"
   },
   {
    "duration": 1275,
    "start_time": "2023-01-04T15:39:33.596Z"
   },
   {
    "duration": 1261,
    "start_time": "2023-01-04T15:39:41.017Z"
   },
   {
    "duration": 1253,
    "start_time": "2023-01-04T15:39:46.293Z"
   },
   {
    "duration": 1370,
    "start_time": "2023-01-04T15:40:02.257Z"
   },
   {
    "duration": 4,
    "start_time": "2023-01-04T15:40:30.632Z"
   },
   {
    "duration": 1374,
    "start_time": "2023-01-04T15:40:31.402Z"
   },
   {
    "duration": 1273,
    "start_time": "2023-01-04T15:40:35.710Z"
   },
   {
    "duration": 1820,
    "start_time": "2023-01-04T15:41:02.283Z"
   },
   {
    "duration": 4,
    "start_time": "2023-01-04T15:41:27.377Z"
   },
   {
    "duration": 1244,
    "start_time": "2023-01-04T15:41:27.528Z"
   },
   {
    "duration": 1297,
    "start_time": "2023-01-04T15:41:33.366Z"
   },
   {
    "duration": 4,
    "start_time": "2023-01-04T15:42:22.954Z"
   },
   {
    "duration": 1277,
    "start_time": "2023-01-04T15:42:23.118Z"
   },
   {
    "duration": 1273,
    "start_time": "2023-01-04T15:42:28.683Z"
   },
   {
    "duration": 10684,
    "start_time": "2023-01-04T15:42:48.248Z"
   },
   {
    "duration": 4,
    "start_time": "2023-01-04T15:43:52.190Z"
   },
   {
    "duration": 1292,
    "start_time": "2023-01-04T15:43:54.402Z"
   },
   {
    "duration": 11044,
    "start_time": "2023-01-04T15:43:58.365Z"
   },
   {
    "duration": 1347,
    "start_time": "2023-01-04T15:44:42.280Z"
   },
   {
    "duration": 723,
    "start_time": "2023-01-04T15:44:43.629Z"
   },
   {
    "duration": 16,
    "start_time": "2023-01-04T15:44:44.353Z"
   },
   {
    "duration": 11,
    "start_time": "2023-01-04T15:44:44.371Z"
   },
   {
    "duration": 40,
    "start_time": "2023-01-04T15:44:44.383Z"
   },
   {
    "duration": 3,
    "start_time": "2023-01-04T15:44:44.425Z"
   },
   {
    "duration": 186,
    "start_time": "2023-01-04T15:44:44.430Z"
   },
   {
    "duration": 6,
    "start_time": "2023-01-04T15:44:44.617Z"
   },
   {
    "duration": 18,
    "start_time": "2023-01-04T15:44:44.624Z"
   },
   {
    "duration": 26,
    "start_time": "2023-01-04T15:44:44.644Z"
   },
   {
    "duration": 9,
    "start_time": "2023-01-04T15:44:44.672Z"
   },
   {
    "duration": 16,
    "start_time": "2023-01-04T15:44:44.683Z"
   },
   {
    "duration": 34,
    "start_time": "2023-01-04T15:44:44.701Z"
   },
   {
    "duration": 4,
    "start_time": "2023-01-04T15:44:44.736Z"
   },
   {
    "duration": 3289,
    "start_time": "2023-01-04T15:44:44.742Z"
   },
   {
    "duration": 180,
    "start_time": "2023-01-04T15:44:48.033Z"
   },
   {
    "duration": 420,
    "start_time": "2023-01-04T15:44:48.215Z"
   },
   {
    "duration": 132,
    "start_time": "2023-01-04T15:44:48.636Z"
   },
   {
    "duration": 4,
    "start_time": "2023-01-04T15:44:48.769Z"
   },
   {
    "duration": 8,
    "start_time": "2023-01-04T15:44:48.775Z"
   },
   {
    "duration": 9628,
    "start_time": "2023-01-04T15:44:48.784Z"
   },
   {
    "duration": 10062,
    "start_time": "2023-01-04T15:45:36.756Z"
   },
   {
    "duration": 4,
    "start_time": "2023-01-04T16:08:30.358Z"
   },
   {
    "duration": 121,
    "start_time": "2023-01-04T16:10:32.410Z"
   },
   {
    "duration": 562,
    "start_time": "2023-01-04T16:10:41.947Z"
   },
   {
    "duration": 574,
    "start_time": "2023-01-04T16:11:45.595Z"
   },
   {
    "duration": 568,
    "start_time": "2023-01-04T16:11:51.667Z"
   },
   {
    "duration": 9599,
    "start_time": "2023-01-04T16:14:53.805Z"
   },
   {
    "duration": 1335,
    "start_time": "2023-01-04T16:15:09.638Z"
   },
   {
    "duration": 685,
    "start_time": "2023-01-04T16:15:10.975Z"
   },
   {
    "duration": 16,
    "start_time": "2023-01-04T16:15:11.662Z"
   },
   {
    "duration": 11,
    "start_time": "2023-01-04T16:15:11.681Z"
   },
   {
    "duration": 41,
    "start_time": "2023-01-04T16:15:11.694Z"
   },
   {
    "duration": 3,
    "start_time": "2023-01-04T16:15:11.737Z"
   },
   {
    "duration": 192,
    "start_time": "2023-01-04T16:15:11.741Z"
   },
   {
    "duration": 4,
    "start_time": "2023-01-04T16:15:11.935Z"
   },
   {
    "duration": 10,
    "start_time": "2023-01-04T16:15:11.941Z"
   },
   {
    "duration": 13,
    "start_time": "2023-01-04T16:15:11.953Z"
   },
   {
    "duration": 5,
    "start_time": "2023-01-04T16:15:11.968Z"
   },
   {
    "duration": 3,
    "start_time": "2023-01-04T16:15:11.974Z"
   },
   {
    "duration": 46,
    "start_time": "2023-01-04T16:15:11.979Z"
   },
   {
    "duration": 3,
    "start_time": "2023-01-04T16:15:12.027Z"
   },
   {
    "duration": 3424,
    "start_time": "2023-01-04T16:15:12.032Z"
   },
   {
    "duration": 176,
    "start_time": "2023-01-04T16:15:15.457Z"
   },
   {
    "duration": 454,
    "start_time": "2023-01-04T16:15:15.635Z"
   },
   {
    "duration": 135,
    "start_time": "2023-01-04T16:15:16.091Z"
   },
   {
    "duration": 5,
    "start_time": "2023-01-04T16:15:16.228Z"
   },
   {
    "duration": 10,
    "start_time": "2023-01-04T16:15:16.234Z"
   },
   {
    "duration": 9544,
    "start_time": "2023-01-04T16:15:16.246Z"
   },
   {
    "duration": 577,
    "start_time": "2023-01-04T16:15:25.792Z"
   },
   {
    "duration": 4,
    "start_time": "2023-01-04T16:16:33.417Z"
   },
   {
    "duration": 4,
    "start_time": "2023-01-04T16:16:35.453Z"
   },
   {
    "duration": 9354,
    "start_time": "2023-01-04T16:16:35.761Z"
   },
   {
    "duration": 5,
    "start_time": "2023-01-04T16:16:45.336Z"
   },
   {
    "duration": 0,
    "start_time": "2023-01-04T16:16:55.227Z"
   },
   {
    "duration": 0,
    "start_time": "2023-01-04T16:16:55.228Z"
   },
   {
    "duration": 0,
    "start_time": "2023-01-04T16:17:06.826Z"
   },
   {
    "duration": 0,
    "start_time": "2023-01-04T16:17:06.827Z"
   },
   {
    "duration": 4,
    "start_time": "2023-01-04T16:17:09.012Z"
   },
   {
    "duration": 9623,
    "start_time": "2023-01-04T16:17:09.511Z"
   },
   {
    "duration": 4,
    "start_time": "2023-01-04T16:17:38.869Z"
   },
   {
    "duration": 9477,
    "start_time": "2023-01-04T16:17:39.369Z"
   },
   {
    "duration": 1401,
    "start_time": "2023-01-04T16:56:50.169Z"
   },
   {
    "duration": 682,
    "start_time": "2023-01-04T16:56:51.572Z"
   },
   {
    "duration": 15,
    "start_time": "2023-01-04T16:56:52.255Z"
   },
   {
    "duration": 11,
    "start_time": "2023-01-04T16:56:52.272Z"
   },
   {
    "duration": 16,
    "start_time": "2023-01-04T16:56:52.284Z"
   },
   {
    "duration": 4,
    "start_time": "2023-01-04T16:56:52.322Z"
   },
   {
    "duration": 168,
    "start_time": "2023-01-04T16:56:52.327Z"
   },
   {
    "duration": 4,
    "start_time": "2023-01-04T16:56:52.497Z"
   },
   {
    "duration": 14,
    "start_time": "2023-01-04T16:56:52.503Z"
   },
   {
    "duration": 11,
    "start_time": "2023-01-04T16:56:52.523Z"
   },
   {
    "duration": 6,
    "start_time": "2023-01-04T16:56:52.536Z"
   },
   {
    "duration": 5,
    "start_time": "2023-01-04T16:56:52.544Z"
   },
   {
    "duration": 29,
    "start_time": "2023-01-04T16:56:52.550Z"
   },
   {
    "duration": 3,
    "start_time": "2023-01-04T16:56:52.581Z"
   },
   {
    "duration": 3402,
    "start_time": "2023-01-04T16:56:52.585Z"
   },
   {
    "duration": 169,
    "start_time": "2023-01-04T16:56:55.989Z"
   },
   {
    "duration": 417,
    "start_time": "2023-01-04T16:56:56.160Z"
   },
   {
    "duration": 133,
    "start_time": "2023-01-04T16:56:56.579Z"
   },
   {
    "duration": 8,
    "start_time": "2023-01-04T16:56:56.714Z"
   },
   {
    "duration": 9,
    "start_time": "2023-01-04T16:56:56.724Z"
   },
   {
    "duration": 9873,
    "start_time": "2023-01-04T16:56:56.734Z"
   },
   {
    "duration": 1538,
    "start_time": "2023-01-04T16:57:06.609Z"
   },
   {
    "duration": 69,
    "start_time": "2023-01-04T16:57:51.036Z"
   },
   {
    "duration": 76,
    "start_time": "2023-01-04T16:57:56.104Z"
   },
   {
    "duration": 1622,
    "start_time": "2023-01-04T16:58:00.113Z"
   },
   {
    "duration": 1544,
    "start_time": "2023-01-04T16:58:36.902Z"
   },
   {
    "duration": 5,
    "start_time": "2023-01-04T17:03:48.026Z"
   },
   {
    "duration": 16,
    "start_time": "2023-01-04T17:05:50.357Z"
   },
   {
    "duration": 156921,
    "start_time": "2023-01-04T17:06:02.396Z"
   },
   {
    "duration": 64321,
    "start_time": "2023-01-04T17:10:36.190Z"
   },
   {
    "duration": 37,
    "start_time": "2023-01-04T17:14:53.830Z"
   },
   {
    "duration": 6,
    "start_time": "2023-01-04T17:14:58.124Z"
   },
   {
    "duration": 217,
    "start_time": "2023-01-04T17:15:16.377Z"
   },
   {
    "duration": 583,
    "start_time": "2023-01-04T17:15:35.134Z"
   },
   {
    "duration": 35,
    "start_time": "2023-01-04T17:15:42.355Z"
   },
   {
    "duration": 41,
    "start_time": "2023-01-04T17:17:28.462Z"
   },
   {
    "duration": 5,
    "start_time": "2023-01-04T17:17:59.960Z"
   },
   {
    "duration": 30,
    "start_time": "2023-01-04T17:18:22.886Z"
   },
   {
    "duration": 13,
    "start_time": "2023-01-04T17:18:49.884Z"
   },
   {
    "duration": 7,
    "start_time": "2023-01-04T17:19:07.773Z"
   },
   {
    "duration": 16,
    "start_time": "2023-01-04T17:31:33.071Z"
   },
   {
    "duration": 25,
    "start_time": "2023-01-04T17:37:02.548Z"
   },
   {
    "duration": 10,
    "start_time": "2023-01-04T17:39:06.541Z"
   },
   {
    "duration": 30,
    "start_time": "2023-01-04T17:39:19.413Z"
   },
   {
    "duration": 21576,
    "start_time": "2023-01-04T17:39:19.707Z"
   },
   {
    "duration": 27,
    "start_time": "2023-01-04T17:40:12.503Z"
   },
   {
    "duration": 9,
    "start_time": "2023-01-04T17:40:20.381Z"
   },
   {
    "duration": 193,
    "start_time": "2023-01-04T17:40:28.357Z"
   },
   {
    "duration": 138,
    "start_time": "2023-01-04T17:40:57.656Z"
   },
   {
    "duration": 1417,
    "start_time": "2023-01-04T17:41:35.650Z"
   },
   {
    "duration": 795,
    "start_time": "2023-01-04T17:41:37.072Z"
   },
   {
    "duration": 18,
    "start_time": "2023-01-04T17:41:37.869Z"
   },
   {
    "duration": 16,
    "start_time": "2023-01-04T17:41:37.889Z"
   },
   {
    "duration": 20,
    "start_time": "2023-01-04T17:41:37.923Z"
   },
   {
    "duration": 4,
    "start_time": "2023-01-04T17:41:37.944Z"
   },
   {
    "duration": 195,
    "start_time": "2023-01-04T17:41:37.950Z"
   },
   {
    "duration": 12,
    "start_time": "2023-01-04T17:41:38.148Z"
   },
   {
    "duration": 39,
    "start_time": "2023-01-04T17:41:38.162Z"
   },
   {
    "duration": 15,
    "start_time": "2023-01-04T17:41:38.203Z"
   },
   {
    "duration": 5,
    "start_time": "2023-01-04T17:41:38.220Z"
   },
   {
    "duration": 4,
    "start_time": "2023-01-04T17:41:38.227Z"
   },
   {
    "duration": 36,
    "start_time": "2023-01-04T17:41:38.233Z"
   },
   {
    "duration": 10,
    "start_time": "2023-01-04T17:41:38.272Z"
   },
   {
    "duration": 7,
    "start_time": "2023-01-04T17:41:38.284Z"
   },
   {
    "duration": 3452,
    "start_time": "2023-01-04T17:41:38.292Z"
   },
   {
    "duration": 198,
    "start_time": "2023-01-04T17:41:41.746Z"
   },
   {
    "duration": 524,
    "start_time": "2023-01-04T17:41:41.946Z"
   },
   {
    "duration": 156,
    "start_time": "2023-01-04T17:41:42.473Z"
   },
   {
    "duration": 4,
    "start_time": "2023-01-04T17:41:42.631Z"
   },
   {
    "duration": 13,
    "start_time": "2023-01-04T17:41:42.638Z"
   },
   {
    "duration": 9740,
    "start_time": "2023-01-04T17:41:42.653Z"
   },
   {
    "duration": 1599,
    "start_time": "2023-01-04T17:41:52.395Z"
   },
   {
    "duration": 5,
    "start_time": "2023-01-04T17:41:53.995Z"
   },
   {
    "duration": 172174,
    "start_time": "2023-01-04T17:41:54.002Z"
   },
   {
    "duration": 63573,
    "start_time": "2023-01-04T17:44:46.178Z"
   },
   {
    "duration": 25,
    "start_time": "2023-01-04T17:45:49.753Z"
   },
   {
    "duration": 146,
    "start_time": "2023-01-04T17:45:49.780Z"
   },
   {
    "duration": 20641,
    "start_time": "2023-01-04T17:45:49.928Z"
   },
   {
    "duration": 0,
    "start_time": "2023-01-04T17:46:10.571Z"
   },
   {
    "duration": 7933,
    "start_time": "2023-01-04T17:46:18.863Z"
   },
   {
    "duration": 126,
    "start_time": "2023-01-04T17:46:42.214Z"
   },
   {
    "duration": 34,
    "start_time": "2023-01-04T17:47:32.365Z"
   },
   {
    "duration": 121,
    "start_time": "2023-01-04T17:47:32.776Z"
   },
   {
    "duration": 20382,
    "start_time": "2023-01-04T17:47:39.365Z"
   },
   {
    "duration": 4,
    "start_time": "2023-01-04T17:48:49.496Z"
   },
   {
    "duration": 4,
    "start_time": "2023-01-04T17:52:21.414Z"
   },
   {
    "duration": 4,
    "start_time": "2023-01-04T17:52:31.465Z"
   },
   {
    "duration": 20184,
    "start_time": "2023-01-04T17:53:23.297Z"
   },
   {
    "duration": 19,
    "start_time": "2023-01-04T17:56:17.676Z"
   },
   {
    "duration": 5,
    "start_time": "2023-01-04T17:56:18.102Z"
   },
   {
    "duration": 20616,
    "start_time": "2023-01-04T17:56:18.846Z"
   },
   {
    "duration": 1511,
    "start_time": "2023-01-05T15:42:44.738Z"
   },
   {
    "duration": 2988,
    "start_time": "2023-01-05T15:42:46.250Z"
   },
   {
    "duration": 20,
    "start_time": "2023-01-05T15:42:49.240Z"
   },
   {
    "duration": 12,
    "start_time": "2023-01-05T15:42:49.262Z"
   },
   {
    "duration": 28,
    "start_time": "2023-01-05T15:42:49.276Z"
   },
   {
    "duration": 4,
    "start_time": "2023-01-05T15:42:49.306Z"
   },
   {
    "duration": 191,
    "start_time": "2023-01-05T15:42:49.312Z"
   },
   {
    "duration": 5,
    "start_time": "2023-01-05T15:42:49.505Z"
   },
   {
    "duration": 8,
    "start_time": "2023-01-05T15:42:49.513Z"
   },
   {
    "duration": 9,
    "start_time": "2023-01-05T15:42:49.537Z"
   },
   {
    "duration": 12,
    "start_time": "2023-01-05T15:42:49.548Z"
   },
   {
    "duration": 7,
    "start_time": "2023-01-05T15:42:49.562Z"
   },
   {
    "duration": 33,
    "start_time": "2023-01-05T15:42:49.572Z"
   },
   {
    "duration": 29,
    "start_time": "2023-01-05T15:42:49.607Z"
   },
   {
    "duration": 12,
    "start_time": "2023-01-05T15:42:49.637Z"
   },
   {
    "duration": 3722,
    "start_time": "2023-01-05T15:42:49.651Z"
   },
   {
    "duration": 183,
    "start_time": "2023-01-05T15:42:53.375Z"
   },
   {
    "duration": 440,
    "start_time": "2023-01-05T15:42:53.560Z"
   },
   {
    "duration": 143,
    "start_time": "2023-01-05T15:42:54.002Z"
   },
   {
    "duration": 4,
    "start_time": "2023-01-05T15:42:54.147Z"
   },
   {
    "duration": 27,
    "start_time": "2023-01-05T15:42:54.152Z"
   },
   {
    "duration": 10466,
    "start_time": "2023-01-05T15:42:54.181Z"
   },
   {
    "duration": 1709,
    "start_time": "2023-01-05T15:43:04.649Z"
   },
   {
    "duration": 4,
    "start_time": "2023-01-05T15:43:06.360Z"
   },
   {
    "duration": 1410,
    "start_time": "2023-01-05T15:57:46.793Z"
   },
   {
    "duration": 721,
    "start_time": "2023-01-05T15:57:48.205Z"
   },
   {
    "duration": 21,
    "start_time": "2023-01-05T15:57:48.928Z"
   },
   {
    "duration": 12,
    "start_time": "2023-01-05T15:57:48.951Z"
   },
   {
    "duration": 17,
    "start_time": "2023-01-05T15:57:48.965Z"
   },
   {
    "duration": 4,
    "start_time": "2023-01-05T15:57:48.983Z"
   },
   {
    "duration": 253,
    "start_time": "2023-01-05T15:57:48.988Z"
   },
   {
    "duration": 7,
    "start_time": "2023-01-05T15:57:49.243Z"
   },
   {
    "duration": 13,
    "start_time": "2023-01-05T15:57:49.252Z"
   },
   {
    "duration": 13,
    "start_time": "2023-01-05T15:57:49.268Z"
   },
   {
    "duration": 5,
    "start_time": "2023-01-05T15:57:49.283Z"
   },
   {
    "duration": 5,
    "start_time": "2023-01-05T15:57:49.290Z"
   },
   {
    "duration": 55,
    "start_time": "2023-01-05T15:57:49.297Z"
   },
   {
    "duration": 8,
    "start_time": "2023-01-05T15:57:49.354Z"
   },
   {
    "duration": 16,
    "start_time": "2023-01-05T15:57:49.363Z"
   },
   {
    "duration": 3788,
    "start_time": "2023-01-05T15:57:49.381Z"
   },
   {
    "duration": 192,
    "start_time": "2023-01-05T15:57:53.171Z"
   },
   {
    "duration": 450,
    "start_time": "2023-01-05T15:57:53.364Z"
   },
   {
    "duration": 146,
    "start_time": "2023-01-05T15:57:53.815Z"
   },
   {
    "duration": 4,
    "start_time": "2023-01-05T15:57:53.963Z"
   },
   {
    "duration": 38,
    "start_time": "2023-01-05T15:57:53.968Z"
   },
   {
    "duration": 10722,
    "start_time": "2023-01-05T15:57:54.008Z"
   },
   {
    "duration": 1780,
    "start_time": "2023-01-05T15:58:04.731Z"
   },
   {
    "duration": 5,
    "start_time": "2023-01-05T15:58:06.513Z"
   },
   {
    "duration": 173937,
    "start_time": "2023-01-05T15:58:06.519Z"
   },
   {
    "duration": 72658,
    "start_time": "2023-01-05T16:01:00.458Z"
   },
   {
    "duration": 36,
    "start_time": "2023-01-05T16:02:13.118Z"
   },
   {
    "duration": 22451,
    "start_time": "2023-01-05T16:02:13.157Z"
   },
   {
    "duration": 29,
    "start_time": "2023-01-05T16:05:06.665Z"
   },
   {
    "duration": 316687,
    "start_time": "2023-01-05T16:46:08.472Z"
   },
   {
    "duration": 22261,
    "start_time": "2023-01-05T17:15:22.248Z"
   },
   {
    "duration": 23725,
    "start_time": "2023-01-05T17:29:38.914Z"
   },
   {
    "duration": 138,
    "start_time": "2023-01-05T17:30:21.527Z"
   },
   {
    "duration": 24186,
    "start_time": "2023-01-05T17:30:33.990Z"
   },
   {
    "duration": 23408,
    "start_time": "2023-01-05T17:31:04.888Z"
   },
   {
    "duration": 1409,
    "start_time": "2023-01-05T17:32:56.287Z"
   },
   {
    "duration": 723,
    "start_time": "2023-01-05T17:32:57.698Z"
   },
   {
    "duration": 25,
    "start_time": "2023-01-05T17:32:58.424Z"
   },
   {
    "duration": 13,
    "start_time": "2023-01-05T17:32:58.452Z"
   },
   {
    "duration": 37,
    "start_time": "2023-01-05T17:32:58.467Z"
   },
   {
    "duration": 4,
    "start_time": "2023-01-05T17:32:58.506Z"
   },
   {
    "duration": 195,
    "start_time": "2023-01-05T17:32:58.512Z"
   },
   {
    "duration": 6,
    "start_time": "2023-01-05T17:32:58.709Z"
   },
   {
    "duration": 33,
    "start_time": "2023-01-05T17:32:58.717Z"
   },
   {
    "duration": 20,
    "start_time": "2023-01-05T17:32:58.754Z"
   },
   {
    "duration": 36,
    "start_time": "2023-01-05T17:32:58.776Z"
   },
   {
    "duration": 30,
    "start_time": "2023-01-05T17:32:58.814Z"
   },
   {
    "duration": 46,
    "start_time": "2023-01-05T17:32:58.846Z"
   },
   {
    "duration": 9,
    "start_time": "2023-01-05T17:32:58.894Z"
   },
   {
    "duration": 19,
    "start_time": "2023-01-05T17:32:58.905Z"
   },
   {
    "duration": 3706,
    "start_time": "2023-01-05T17:32:58.926Z"
   },
   {
    "duration": 200,
    "start_time": "2023-01-05T17:33:02.635Z"
   },
   {
    "duration": 445,
    "start_time": "2023-01-05T17:33:02.837Z"
   },
   {
    "duration": 154,
    "start_time": "2023-01-05T17:33:03.283Z"
   },
   {
    "duration": 4,
    "start_time": "2023-01-05T17:33:03.439Z"
   },
   {
    "duration": 28,
    "start_time": "2023-01-05T17:33:03.444Z"
   },
   {
    "duration": 10780,
    "start_time": "2023-01-05T17:33:03.474Z"
   },
   {
    "duration": 1724,
    "start_time": "2023-01-05T17:33:14.256Z"
   },
   {
    "duration": 5,
    "start_time": "2023-01-05T17:33:15.981Z"
   },
   {
    "duration": 168780,
    "start_time": "2023-01-05T17:33:15.987Z"
   },
   {
    "duration": 71598,
    "start_time": "2023-01-05T17:36:04.769Z"
   },
   {
    "duration": 51,
    "start_time": "2023-01-05T17:37:16.368Z"
   },
   {
    "duration": 0,
    "start_time": "2023-01-05T17:37:16.421Z"
   },
   {
    "duration": 0,
    "start_time": "2023-01-05T17:37:16.422Z"
   },
   {
    "duration": 25,
    "start_time": "2023-01-05T17:37:23.751Z"
   },
   {
    "duration": 23116,
    "start_time": "2023-01-05T17:37:25.892Z"
   },
   {
    "duration": 8251,
    "start_time": "2023-01-05T17:38:11.825Z"
   },
   {
    "duration": 8392,
    "start_time": "2023-01-05T17:38:27.807Z"
   },
   {
    "duration": 8198,
    "start_time": "2023-01-05T17:38:57.378Z"
   },
   {
    "duration": 8335,
    "start_time": "2023-01-05T17:39:15.242Z"
   },
   {
    "duration": 23295,
    "start_time": "2023-01-05T17:39:35.921Z"
   },
   {
    "duration": 22865,
    "start_time": "2023-01-05T17:40:26.428Z"
   },
   {
    "duration": 22900,
    "start_time": "2023-01-05T17:55:09.074Z"
   },
   {
    "duration": 93810,
    "start_time": "2023-01-05T17:56:15.149Z"
   },
   {
    "duration": 55422,
    "start_time": "2023-01-05T17:58:05.650Z"
   },
   {
    "duration": 22601,
    "start_time": "2023-01-05T18:00:52.556Z"
   },
   {
    "duration": 22293,
    "start_time": "2023-01-05T18:01:15.159Z"
   },
   {
    "duration": 31,
    "start_time": "2023-01-05T18:07:19.990Z"
   },
   {
    "duration": 39,
    "start_time": "2023-01-05T18:07:52.037Z"
   },
   {
    "duration": 37,
    "start_time": "2023-01-05T18:08:08.399Z"
   },
   {
    "duration": 15,
    "start_time": "2023-01-05T18:09:10.952Z"
   },
   {
    "duration": 42,
    "start_time": "2023-01-05T18:09:14.955Z"
   },
   {
    "duration": 13,
    "start_time": "2023-01-05T18:10:35.290Z"
   },
   {
    "duration": 10,
    "start_time": "2023-01-05T18:10:38.536Z"
   },
   {
    "duration": 7,
    "start_time": "2023-01-05T18:11:07.775Z"
   },
   {
    "duration": 8,
    "start_time": "2023-01-05T18:11:26.085Z"
   },
   {
    "duration": 9,
    "start_time": "2023-01-05T18:11:53.955Z"
   },
   {
    "duration": 10,
    "start_time": "2023-01-05T18:11:54.442Z"
   },
   {
    "duration": 4,
    "start_time": "2023-01-05T18:12:08.085Z"
   },
   {
    "duration": 1531,
    "start_time": "2023-01-05T18:12:40.227Z"
   },
   {
    "duration": 747,
    "start_time": "2023-01-05T18:12:41.759Z"
   },
   {
    "duration": 34,
    "start_time": "2023-01-05T18:12:42.508Z"
   },
   {
    "duration": 15,
    "start_time": "2023-01-05T18:12:42.545Z"
   },
   {
    "duration": 41,
    "start_time": "2023-01-05T18:12:42.563Z"
   },
   {
    "duration": 11,
    "start_time": "2023-01-05T18:12:42.606Z"
   },
   {
    "duration": 226,
    "start_time": "2023-01-05T18:12:42.620Z"
   },
   {
    "duration": 6,
    "start_time": "2023-01-05T18:12:42.848Z"
   },
   {
    "duration": 41,
    "start_time": "2023-01-05T18:12:42.856Z"
   },
   {
    "duration": 21,
    "start_time": "2023-01-05T18:12:42.900Z"
   },
   {
    "duration": 11,
    "start_time": "2023-01-05T18:12:42.923Z"
   },
   {
    "duration": 14,
    "start_time": "2023-01-05T18:12:42.936Z"
   },
   {
    "duration": 34,
    "start_time": "2023-01-05T18:12:42.952Z"
   },
   {
    "duration": 16,
    "start_time": "2023-01-05T18:12:42.987Z"
   },
   {
    "duration": 5,
    "start_time": "2023-01-05T18:12:43.006Z"
   },
   {
    "duration": 3589,
    "start_time": "2023-01-05T18:12:43.013Z"
   },
   {
    "duration": 226,
    "start_time": "2023-01-05T18:12:46.604Z"
   },
   {
    "duration": 481,
    "start_time": "2023-01-05T18:12:46.832Z"
   },
   {
    "duration": 140,
    "start_time": "2023-01-05T18:12:47.316Z"
   },
   {
    "duration": 4,
    "start_time": "2023-01-05T18:12:47.459Z"
   },
   {
    "duration": 30,
    "start_time": "2023-01-05T18:12:47.465Z"
   },
   {
    "duration": 10914,
    "start_time": "2023-01-05T18:12:47.496Z"
   },
   {
    "duration": 1741,
    "start_time": "2023-01-05T18:12:58.412Z"
   },
   {
    "duration": 5,
    "start_time": "2023-01-05T18:13:00.154Z"
   },
   {
    "duration": 167900,
    "start_time": "2023-01-05T18:13:00.161Z"
   },
   {
    "duration": 70923,
    "start_time": "2023-01-05T18:15:48.063Z"
   },
   {
    "duration": 26,
    "start_time": "2023-01-05T18:16:58.988Z"
   },
   {
    "duration": 23559,
    "start_time": "2023-01-05T18:16:59.018Z"
   },
   {
    "duration": 1528,
    "start_time": "2023-01-07T11:12:50.684Z"
   },
   {
    "duration": 1917,
    "start_time": "2023-01-07T11:12:52.213Z"
   },
   {
    "duration": 18,
    "start_time": "2023-01-07T11:12:54.132Z"
   },
   {
    "duration": 15,
    "start_time": "2023-01-07T11:12:54.152Z"
   },
   {
    "duration": 19,
    "start_time": "2023-01-07T11:12:54.168Z"
   },
   {
    "duration": 4,
    "start_time": "2023-01-07T11:12:54.188Z"
   },
   {
    "duration": 205,
    "start_time": "2023-01-07T11:12:54.193Z"
   },
   {
    "duration": 4,
    "start_time": "2023-01-07T11:12:54.399Z"
   },
   {
    "duration": 7,
    "start_time": "2023-01-07T11:12:54.405Z"
   },
   {
    "duration": 11,
    "start_time": "2023-01-07T11:12:54.414Z"
   },
   {
    "duration": 6,
    "start_time": "2023-01-07T11:12:54.426Z"
   },
   {
    "duration": 3,
    "start_time": "2023-01-07T11:12:54.434Z"
   },
   {
    "duration": 39,
    "start_time": "2023-01-07T11:12:54.439Z"
   },
   {
    "duration": 9,
    "start_time": "2023-01-07T11:12:54.480Z"
   },
   {
    "duration": 10,
    "start_time": "2023-01-07T11:12:54.490Z"
   },
   {
    "duration": 3166,
    "start_time": "2023-01-07T11:12:54.502Z"
   },
   {
    "duration": 168,
    "start_time": "2023-01-07T11:12:57.670Z"
   },
   {
    "duration": 432,
    "start_time": "2023-01-07T11:12:57.839Z"
   },
   {
    "duration": 135,
    "start_time": "2023-01-07T11:12:58.273Z"
   },
   {
    "duration": 4,
    "start_time": "2023-01-07T11:12:58.410Z"
   },
   {
    "duration": 7,
    "start_time": "2023-01-07T11:12:58.416Z"
   },
   {
    "duration": 9247,
    "start_time": "2023-01-07T11:12:58.425Z"
   },
   {
    "duration": 1491,
    "start_time": "2023-01-07T11:13:07.677Z"
   },
   {
    "duration": 9,
    "start_time": "2023-01-07T11:13:09.169Z"
   },
   {
    "duration": 149226,
    "start_time": "2023-01-07T11:13:09.180Z"
   },
   {
    "duration": 62217,
    "start_time": "2023-01-07T11:15:38.408Z"
   },
   {
    "duration": 24,
    "start_time": "2023-01-07T11:16:40.627Z"
   },
   {
    "duration": 20335,
    "start_time": "2023-01-07T11:16:40.654Z"
   },
   {
    "duration": 415,
    "start_time": "2023-01-07T11:18:26.609Z"
   },
   {
    "duration": 75,
    "start_time": "2023-01-07T11:20:35.878Z"
   },
   {
    "duration": 319,
    "start_time": "2023-01-07T11:20:40.756Z"
   },
   {
    "duration": 282,
    "start_time": "2023-01-07T11:21:11.775Z"
   },
   {
    "duration": 360,
    "start_time": "2023-01-07T11:21:20.670Z"
   },
   {
    "duration": 512,
    "start_time": "2023-01-07T11:23:16.685Z"
   },
   {
    "duration": 354,
    "start_time": "2023-01-07T11:23:28.576Z"
   },
   {
    "duration": 519,
    "start_time": "2023-01-07T11:23:37.861Z"
   },
   {
    "duration": 166,
    "start_time": "2023-01-07T11:23:52.072Z"
   },
   {
    "duration": 537,
    "start_time": "2023-01-07T11:23:55.068Z"
   },
   {
    "duration": 753,
    "start_time": "2023-01-07T11:24:11.708Z"
   },
   {
    "duration": 459,
    "start_time": "2023-01-07T11:25:14.184Z"
   },
   {
    "duration": 421,
    "start_time": "2023-01-07T11:25:18.774Z"
   },
   {
    "duration": 985,
    "start_time": "2023-01-07T11:25:33.084Z"
   },
   {
    "duration": 184,
    "start_time": "2023-01-07T11:25:56.155Z"
   },
   {
    "duration": 170,
    "start_time": "2023-01-07T11:25:57.262Z"
   },
   {
    "duration": 832,
    "start_time": "2023-01-07T11:25:58.683Z"
   },
   {
    "duration": 190,
    "start_time": "2023-01-07T11:26:19.092Z"
   },
   {
    "duration": 979,
    "start_time": "2023-01-07T11:26:19.508Z"
   },
   {
    "duration": 167,
    "start_time": "2023-01-07T11:26:31.465Z"
   },
   {
    "duration": 842,
    "start_time": "2023-01-07T11:26:31.983Z"
   },
   {
    "duration": 1043,
    "start_time": "2023-01-07T11:27:36.670Z"
   },
   {
    "duration": 982,
    "start_time": "2023-01-07T11:28:35.201Z"
   },
   {
    "duration": 1127,
    "start_time": "2023-01-07T11:29:53.454Z"
   },
   {
    "duration": 895,
    "start_time": "2023-01-07T11:30:45.715Z"
   },
   {
    "duration": 1462,
    "start_time": "2023-01-07T11:34:30.747Z"
   },
   {
    "duration": 1630,
    "start_time": "2023-01-07T11:36:22.407Z"
   },
   {
    "duration": 1402,
    "start_time": "2023-01-07T11:42:50.342Z"
   },
   {
    "duration": 384,
    "start_time": "2023-01-07T11:43:19.866Z"
   },
   {
    "duration": 1065,
    "start_time": "2023-01-07T11:43:30.428Z"
   },
   {
    "duration": 944,
    "start_time": "2023-01-07T11:44:37.139Z"
   },
   {
    "duration": 1202,
    "start_time": "2023-01-07T11:45:39.605Z"
   },
   {
    "duration": 312,
    "start_time": "2023-01-07T11:45:48.207Z"
   },
   {
    "duration": 1217,
    "start_time": "2023-01-07T11:46:12.534Z"
   },
   {
    "duration": 1479,
    "start_time": "2023-01-07T11:46:19.770Z"
   },
   {
    "duration": 1436,
    "start_time": "2023-01-07T11:48:22.474Z"
   },
   {
    "duration": 1291,
    "start_time": "2023-01-07T11:50:07.219Z"
   },
   {
    "duration": 1759,
    "start_time": "2023-01-07T11:50:42.930Z"
   },
   {
    "duration": 1518,
    "start_time": "2023-01-07T11:50:51.212Z"
   },
   {
    "duration": 1326,
    "start_time": "2023-01-07T11:51:27.432Z"
   },
   {
    "duration": 1539,
    "start_time": "2023-01-07T11:51:46.982Z"
   },
   {
    "duration": 1421,
    "start_time": "2023-01-07T11:54:29.647Z"
   },
   {
    "duration": 1735,
    "start_time": "2023-01-07T11:58:21.173Z"
   },
   {
    "duration": 1945,
    "start_time": "2023-01-07T11:58:53.949Z"
   },
   {
    "duration": 1365,
    "start_time": "2023-01-07T12:03:01.856Z"
   },
   {
    "duration": 11,
    "start_time": "2023-01-07T12:12:45.402Z"
   },
   {
    "duration": 40,
    "start_time": "2023-01-07T12:12:57.441Z"
   },
   {
    "duration": 12,
    "start_time": "2023-01-07T12:13:11.553Z"
   },
   {
    "duration": 12,
    "start_time": "2023-01-07T12:13:53.021Z"
   },
   {
    "duration": 48,
    "start_time": "2023-01-07T12:18:41.768Z"
   },
   {
    "duration": 23,
    "start_time": "2023-01-07T12:19:45.662Z"
   },
   {
    "duration": 29,
    "start_time": "2023-01-07T12:20:03.700Z"
   },
   {
    "duration": 17,
    "start_time": "2023-01-07T12:21:42.941Z"
   },
   {
    "duration": 20,
    "start_time": "2023-01-07T12:22:12.405Z"
   },
   {
    "duration": 18,
    "start_time": "2023-01-07T12:24:07.345Z"
   },
   {
    "duration": 31,
    "start_time": "2023-01-07T12:24:10.963Z"
   },
   {
    "duration": 19,
    "start_time": "2023-01-07T12:24:23.706Z"
   },
   {
    "duration": 38,
    "start_time": "2023-01-07T12:24:52.456Z"
   },
   {
    "duration": 27,
    "start_time": "2023-01-07T12:24:54.195Z"
   },
   {
    "duration": 1488,
    "start_time": "2023-01-07T12:25:04.369Z"
   },
   {
    "duration": 678,
    "start_time": "2023-01-07T12:25:05.859Z"
   },
   {
    "duration": 17,
    "start_time": "2023-01-07T12:25:06.539Z"
   },
   {
    "duration": 33,
    "start_time": "2023-01-07T12:25:06.558Z"
   },
   {
    "duration": 18,
    "start_time": "2023-01-07T12:25:06.593Z"
   },
   {
    "duration": 4,
    "start_time": "2023-01-07T12:25:06.613Z"
   },
   {
    "duration": 185,
    "start_time": "2023-01-07T12:25:06.619Z"
   },
   {
    "duration": 4,
    "start_time": "2023-01-07T12:25:06.806Z"
   },
   {
    "duration": 6,
    "start_time": "2023-01-07T12:25:06.813Z"
   },
   {
    "duration": 11,
    "start_time": "2023-01-07T12:25:06.822Z"
   },
   {
    "duration": 6,
    "start_time": "2023-01-07T12:25:06.835Z"
   },
   {
    "duration": 6,
    "start_time": "2023-01-07T12:25:06.842Z"
   },
   {
    "duration": 88,
    "start_time": "2023-01-07T12:25:06.850Z"
   },
   {
    "duration": 10,
    "start_time": "2023-01-07T12:25:06.940Z"
   },
   {
    "duration": 13,
    "start_time": "2023-01-07T12:25:06.952Z"
   },
   {
    "duration": 3453,
    "start_time": "2023-01-07T12:25:06.967Z"
   },
   {
    "duration": 197,
    "start_time": "2023-01-07T12:25:10.422Z"
   },
   {
    "duration": 1354,
    "start_time": "2023-01-07T12:25:10.621Z"
   },
   {
    "duration": 358,
    "start_time": "2023-01-07T12:25:11.978Z"
   },
   {
    "duration": 1669,
    "start_time": "2023-01-07T12:25:12.338Z"
   },
   {
    "duration": 200,
    "start_time": "2023-01-07T12:25:14.011Z"
   },
   {
    "duration": 1443,
    "start_time": "2023-01-07T12:25:14.213Z"
   },
   {
    "duration": 52,
    "start_time": "2023-01-07T12:25:15.658Z"
   },
   {
    "duration": 5,
    "start_time": "2023-01-07T12:25:15.712Z"
   },
   {
    "duration": 7,
    "start_time": "2023-01-07T12:25:15.719Z"
   },
   {
    "duration": 10026,
    "start_time": "2023-01-07T12:25:15.732Z"
   },
   {
    "duration": 1579,
    "start_time": "2023-01-07T12:25:25.760Z"
   },
   {
    "duration": 4,
    "start_time": "2023-01-07T12:25:27.342Z"
   },
   {
    "duration": 155073,
    "start_time": "2023-01-07T12:25:27.347Z"
   },
   {
    "duration": 65262,
    "start_time": "2023-01-07T12:28:02.421Z"
   },
   {
    "duration": 27,
    "start_time": "2023-01-07T12:29:07.687Z"
   },
   {
    "duration": 20970,
    "start_time": "2023-01-07T12:29:07.716Z"
   },
   {
    "duration": 1344,
    "start_time": "2023-01-07T12:32:55.703Z"
   },
   {
    "duration": 1478,
    "start_time": "2023-01-07T12:33:03.978Z"
   },
   {
    "duration": 1500,
    "start_time": "2023-01-07T12:33:34.951Z"
   },
   {
    "duration": 1049,
    "start_time": "2023-01-07T12:36:00.984Z"
   },
   {
    "duration": 449,
    "start_time": "2023-01-07T12:39:24.985Z"
   },
   {
    "duration": 1499,
    "start_time": "2023-01-07T12:39:32.267Z"
   },
   {
    "duration": 1275,
    "start_time": "2023-01-07T12:40:02.612Z"
   },
   {
    "duration": 1585,
    "start_time": "2023-01-07T12:40:14.764Z"
   },
   {
    "duration": 4,
    "start_time": "2023-01-07T12:43:22.300Z"
   },
   {
    "duration": 4,
    "start_time": "2023-01-07T12:47:28.131Z"
   },
   {
    "duration": 78,
    "start_time": "2023-01-07T12:50:17.684Z"
   },
   {
    "duration": 3,
    "start_time": "2023-01-07T12:50:29.737Z"
   },
   {
    "duration": 8472,
    "start_time": "2023-01-07T12:51:53.660Z"
   },
   {
    "duration": 5,
    "start_time": "2023-01-07T12:52:14.174Z"
   },
   {
    "duration": 8345,
    "start_time": "2023-01-07T12:52:14.715Z"
   },
   {
    "duration": 8035,
    "start_time": "2023-01-07T12:52:27.725Z"
   },
   {
    "duration": 8238,
    "start_time": "2023-01-07T12:52:48.801Z"
   },
   {
    "duration": 7737,
    "start_time": "2023-01-07T12:54:01.753Z"
   },
   {
    "duration": 7978,
    "start_time": "2023-01-07T12:54:37.702Z"
   },
   {
    "duration": 8,
    "start_time": "2023-01-07T12:55:07.208Z"
   },
   {
    "duration": 3,
    "start_time": "2023-01-07T12:55:17.730Z"
   },
   {
    "duration": 231,
    "start_time": "2023-01-07T12:55:21.615Z"
   },
   {
    "duration": 1449,
    "start_time": "2023-01-07T12:55:29.131Z"
   },
   {
    "duration": 716,
    "start_time": "2023-01-07T12:55:30.581Z"
   },
   {
    "duration": 17,
    "start_time": "2023-01-07T12:55:31.299Z"
   },
   {
    "duration": 19,
    "start_time": "2023-01-07T12:55:31.318Z"
   },
   {
    "duration": 17,
    "start_time": "2023-01-07T12:55:31.339Z"
   },
   {
    "duration": 4,
    "start_time": "2023-01-07T12:55:31.358Z"
   },
   {
    "duration": 184,
    "start_time": "2023-01-07T12:55:31.379Z"
   },
   {
    "duration": 4,
    "start_time": "2023-01-07T12:55:31.565Z"
   },
   {
    "duration": 18,
    "start_time": "2023-01-07T12:55:31.578Z"
   },
   {
    "duration": 19,
    "start_time": "2023-01-07T12:55:31.600Z"
   },
   {
    "duration": 27,
    "start_time": "2023-01-07T12:55:31.621Z"
   },
   {
    "duration": 6,
    "start_time": "2023-01-07T12:55:31.650Z"
   },
   {
    "duration": 39,
    "start_time": "2023-01-07T12:55:31.658Z"
   },
   {
    "duration": 11,
    "start_time": "2023-01-07T12:55:31.699Z"
   },
   {
    "duration": 13,
    "start_time": "2023-01-07T12:55:31.712Z"
   },
   {
    "duration": 3573,
    "start_time": "2023-01-07T12:55:31.727Z"
   },
   {
    "duration": 188,
    "start_time": "2023-01-07T12:55:35.302Z"
   },
   {
    "duration": 1399,
    "start_time": "2023-01-07T12:55:35.492Z"
   },
   {
    "duration": 371,
    "start_time": "2023-01-07T12:55:36.895Z"
   },
   {
    "duration": 1689,
    "start_time": "2023-01-07T12:55:37.268Z"
   },
   {
    "duration": 155,
    "start_time": "2023-01-07T12:55:38.959Z"
   },
   {
    "duration": 1248,
    "start_time": "2023-01-07T12:55:39.115Z"
   },
   {
    "duration": 44,
    "start_time": "2023-01-07T12:55:40.365Z"
   },
   {
    "duration": 4,
    "start_time": "2023-01-07T12:55:40.411Z"
   },
   {
    "duration": 5,
    "start_time": "2023-01-07T12:55:40.417Z"
   },
   {
    "duration": 7879,
    "start_time": "2023-01-07T12:55:40.424Z"
   },
   {
    "duration": 2,
    "start_time": "2023-01-07T12:55:48.305Z"
   },
   {
    "duration": 251,
    "start_time": "2023-01-07T12:55:48.310Z"
   },
   {
    "duration": 4,
    "start_time": "2023-01-07T12:55:48.564Z"
   },
   {
    "duration": 62245,
    "start_time": "2023-01-07T12:55:48.570Z"
   },
   {
    "duration": 13,
    "start_time": "2023-01-07T12:56:50.817Z"
   },
   {
    "duration": 0,
    "start_time": "2023-01-07T12:56:50.832Z"
   },
   {
    "duration": 0,
    "start_time": "2023-01-07T12:56:50.833Z"
   },
   {
    "duration": 0,
    "start_time": "2023-01-07T12:56:50.835Z"
   },
   {
    "duration": 1,
    "start_time": "2023-01-07T12:56:50.835Z"
   },
   {
    "duration": 0,
    "start_time": "2023-01-07T12:56:50.837Z"
   },
   {
    "duration": 0,
    "start_time": "2023-01-07T12:56:50.838Z"
   },
   {
    "duration": 1431,
    "start_time": "2023-01-07T13:30:16.737Z"
   },
   {
    "duration": 667,
    "start_time": "2023-01-07T13:30:18.170Z"
   },
   {
    "duration": 17,
    "start_time": "2023-01-07T13:30:18.838Z"
   },
   {
    "duration": 22,
    "start_time": "2023-01-07T13:30:18.857Z"
   },
   {
    "duration": 15,
    "start_time": "2023-01-07T13:30:18.880Z"
   },
   {
    "duration": 3,
    "start_time": "2023-01-07T13:30:18.897Z"
   },
   {
    "duration": 184,
    "start_time": "2023-01-07T13:30:18.901Z"
   },
   {
    "duration": 5,
    "start_time": "2023-01-07T13:30:19.087Z"
   },
   {
    "duration": 8,
    "start_time": "2023-01-07T13:30:19.094Z"
   },
   {
    "duration": 12,
    "start_time": "2023-01-07T13:30:19.105Z"
   },
   {
    "duration": 5,
    "start_time": "2023-01-07T13:30:19.119Z"
   },
   {
    "duration": 3,
    "start_time": "2023-01-07T13:30:19.126Z"
   },
   {
    "duration": 54,
    "start_time": "2023-01-07T13:30:19.131Z"
   },
   {
    "duration": 10,
    "start_time": "2023-01-07T13:30:19.187Z"
   },
   {
    "duration": 3,
    "start_time": "2023-01-07T13:30:19.199Z"
   },
   {
    "duration": 3196,
    "start_time": "2023-01-07T13:30:19.204Z"
   },
   {
    "duration": 165,
    "start_time": "2023-01-07T13:30:22.401Z"
   },
   {
    "duration": 1262,
    "start_time": "2023-01-07T13:30:22.568Z"
   },
   {
    "duration": 404,
    "start_time": "2023-01-07T13:30:23.831Z"
   },
   {
    "duration": 1490,
    "start_time": "2023-01-07T13:30:24.236Z"
   },
   {
    "duration": 142,
    "start_time": "2023-01-07T13:30:25.728Z"
   },
   {
    "duration": 1234,
    "start_time": "2023-01-07T13:30:25.871Z"
   },
   {
    "duration": 33,
    "start_time": "2023-01-07T13:30:27.107Z"
   },
   {
    "duration": 4,
    "start_time": "2023-01-07T13:30:27.141Z"
   },
   {
    "duration": 8,
    "start_time": "2023-01-07T13:30:27.147Z"
   },
   {
    "duration": 6877,
    "start_time": "2023-01-07T13:30:27.156Z"
   },
   {
    "duration": 139,
    "start_time": "2023-01-07T13:30:34.034Z"
   },
   {
    "duration": 0,
    "start_time": "2023-01-07T13:30:34.178Z"
   },
   {
    "duration": 0,
    "start_time": "2023-01-07T13:30:34.179Z"
   },
   {
    "duration": 0,
    "start_time": "2023-01-07T13:30:34.180Z"
   },
   {
    "duration": 0,
    "start_time": "2023-01-07T13:30:34.182Z"
   },
   {
    "duration": 4,
    "start_time": "2023-01-07T13:31:19.593Z"
   },
   {
    "duration": 6836,
    "start_time": "2023-01-07T13:31:20.431Z"
   },
   {
    "duration": 9,
    "start_time": "2023-01-07T13:31:27.269Z"
   },
   {
    "duration": 173,
    "start_time": "2023-01-07T13:31:27.279Z"
   },
   {
    "duration": 4,
    "start_time": "2023-01-07T13:31:45.411Z"
   },
   {
    "duration": 7139,
    "start_time": "2023-01-07T13:31:45.559Z"
   },
   {
    "duration": 4,
    "start_time": "2023-01-07T13:33:46.749Z"
   },
   {
    "duration": 13586,
    "start_time": "2023-01-07T13:33:47.111Z"
   },
   {
    "duration": 3,
    "start_time": "2023-01-07T13:34:00.699Z"
   },
   {
    "duration": 213,
    "start_time": "2023-01-07T13:34:00.703Z"
   },
   {
    "duration": 4,
    "start_time": "2023-01-07T13:35:58.087Z"
   },
   {
    "duration": 1843,
    "start_time": "2023-01-07T13:37:01.912Z"
   },
   {
    "duration": 719,
    "start_time": "2023-01-07T13:37:03.757Z"
   },
   {
    "duration": 18,
    "start_time": "2023-01-07T13:37:04.478Z"
   },
   {
    "duration": 11,
    "start_time": "2023-01-07T13:37:04.498Z"
   },
   {
    "duration": 15,
    "start_time": "2023-01-07T13:37:04.511Z"
   },
   {
    "duration": 4,
    "start_time": "2023-01-07T13:37:04.527Z"
   },
   {
    "duration": 182,
    "start_time": "2023-01-07T13:37:04.532Z"
   },
   {
    "duration": 4,
    "start_time": "2023-01-07T13:37:04.716Z"
   },
   {
    "duration": 7,
    "start_time": "2023-01-07T13:37:04.721Z"
   },
   {
    "duration": 18,
    "start_time": "2023-01-07T13:37:04.731Z"
   },
   {
    "duration": 7,
    "start_time": "2023-01-07T13:37:04.750Z"
   },
   {
    "duration": 7,
    "start_time": "2023-01-07T13:37:04.758Z"
   },
   {
    "duration": 25,
    "start_time": "2023-01-07T13:37:04.777Z"
   },
   {
    "duration": 9,
    "start_time": "2023-01-07T13:37:04.804Z"
   },
   {
    "duration": 2,
    "start_time": "2023-01-07T13:37:04.815Z"
   },
   {
    "duration": 3353,
    "start_time": "2023-01-07T13:37:04.819Z"
   },
   {
    "duration": 171,
    "start_time": "2023-01-07T13:37:08.174Z"
   },
   {
    "duration": 1276,
    "start_time": "2023-01-07T13:37:08.346Z"
   },
   {
    "duration": 342,
    "start_time": "2023-01-07T13:37:09.624Z"
   },
   {
    "duration": 1544,
    "start_time": "2023-01-07T13:37:09.967Z"
   },
   {
    "duration": 131,
    "start_time": "2023-01-07T13:37:11.513Z"
   },
   {
    "duration": 1207,
    "start_time": "2023-01-07T13:37:11.646Z"
   },
   {
    "duration": 42,
    "start_time": "2023-01-07T13:37:12.855Z"
   },
   {
    "duration": 5,
    "start_time": "2023-01-07T13:37:12.898Z"
   },
   {
    "duration": 8,
    "start_time": "2023-01-07T13:37:12.904Z"
   },
   {
    "duration": 39181,
    "start_time": "2023-01-07T13:37:12.913Z"
   },
   {
    "duration": 3,
    "start_time": "2023-01-07T13:37:52.096Z"
   },
   {
    "duration": 216,
    "start_time": "2023-01-07T13:37:52.101Z"
   },
   {
    "duration": 4,
    "start_time": "2023-01-07T13:37:52.319Z"
   },
   {
    "duration": 44,
    "start_time": "2023-01-07T13:37:52.325Z"
   },
   {
    "duration": 20152,
    "start_time": "2023-01-07T13:37:52.371Z"
   },
   {
    "duration": 4,
    "start_time": "2023-01-07T13:38:12.525Z"
   },
   {
    "duration": 4,
    "start_time": "2023-01-07T13:38:16.908Z"
   },
   {
    "duration": 7615,
    "start_time": "2023-01-07T13:38:17.253Z"
   },
   {
    "duration": 2,
    "start_time": "2023-01-07T13:38:37.224Z"
   },
   {
    "duration": 217,
    "start_time": "2023-01-07T13:38:37.379Z"
   },
   {
    "duration": 5,
    "start_time": "2023-01-07T13:39:15.065Z"
   },
   {
    "duration": 7464,
    "start_time": "2023-01-07T13:39:15.248Z"
   },
   {
    "duration": 3,
    "start_time": "2023-01-07T13:39:26.090Z"
   },
   {
    "duration": 3780,
    "start_time": "2023-01-07T13:39:26.258Z"
   },
   {
    "duration": 3,
    "start_time": "2023-01-07T13:40:52.883Z"
   },
   {
    "duration": 6820,
    "start_time": "2023-01-07T13:40:53.126Z"
   },
   {
    "duration": 3,
    "start_time": "2023-01-07T13:40:59.947Z"
   },
   {
    "duration": 2040,
    "start_time": "2023-01-07T13:40:59.952Z"
   },
   {
    "duration": 101,
    "start_time": "2023-01-07T13:44:45.828Z"
   },
   {
    "duration": 5,
    "start_time": "2023-01-07T13:44:51.443Z"
   },
   {
    "duration": 4,
    "start_time": "2023-01-07T13:44:52.784Z"
   },
   {
    "duration": 7571,
    "start_time": "2023-01-07T13:44:53.412Z"
   },
   {
    "duration": 2,
    "start_time": "2023-01-07T13:45:00.986Z"
   },
   {
    "duration": 195,
    "start_time": "2023-01-07T13:45:00.990Z"
   },
   {
    "duration": 4,
    "start_time": "2023-01-07T13:45:28.687Z"
   },
   {
    "duration": 11,
    "start_time": "2023-01-07T13:45:35.868Z"
   },
   {
    "duration": 6895,
    "start_time": "2023-01-07T13:45:35.881Z"
   },
   {
    "duration": 5,
    "start_time": "2023-01-07T13:46:31.753Z"
   },
   {
    "duration": 6886,
    "start_time": "2023-01-07T13:46:31.940Z"
   },
   {
    "duration": 4,
    "start_time": "2023-01-07T13:47:10.296Z"
   },
   {
    "duration": 7119,
    "start_time": "2023-01-07T13:47:10.330Z"
   },
   {
    "duration": 3,
    "start_time": "2023-01-07T13:47:17.451Z"
   },
   {
    "duration": 2108,
    "start_time": "2023-01-07T13:47:17.456Z"
   },
   {
    "duration": 4,
    "start_time": "2023-01-07T13:47:30.133Z"
   },
   {
    "duration": 7338,
    "start_time": "2023-01-07T13:47:30.142Z"
   },
   {
    "duration": 3,
    "start_time": "2023-01-07T13:47:37.482Z"
   },
   {
    "duration": 183,
    "start_time": "2023-01-07T13:47:37.487Z"
   },
   {
    "duration": 171,
    "start_time": "2023-01-07T13:48:05.407Z"
   },
   {
    "duration": 174,
    "start_time": "2023-01-07T13:48:09.616Z"
   },
   {
    "duration": 4,
    "start_time": "2023-01-07T13:49:46.389Z"
   },
   {
    "duration": 5,
    "start_time": "2023-01-07T13:50:09.993Z"
   },
   {
    "duration": 1827,
    "start_time": "2023-01-07T13:50:53.415Z"
   },
   {
    "duration": 759,
    "start_time": "2023-01-07T13:50:55.244Z"
   },
   {
    "duration": 19,
    "start_time": "2023-01-07T13:50:56.005Z"
   },
   {
    "duration": 12,
    "start_time": "2023-01-07T13:50:56.026Z"
   },
   {
    "duration": 16,
    "start_time": "2023-01-07T13:50:56.039Z"
   },
   {
    "duration": 18,
    "start_time": "2023-01-07T13:50:56.079Z"
   },
   {
    "duration": 189,
    "start_time": "2023-01-07T13:50:56.103Z"
   },
   {
    "duration": 6,
    "start_time": "2023-01-07T13:50:56.296Z"
   },
   {
    "duration": 18,
    "start_time": "2023-01-07T13:50:56.303Z"
   },
   {
    "duration": 14,
    "start_time": "2023-01-07T13:50:56.324Z"
   },
   {
    "duration": 4,
    "start_time": "2023-01-07T13:50:56.340Z"
   },
   {
    "duration": 7,
    "start_time": "2023-01-07T13:50:56.346Z"
   },
   {
    "duration": 29,
    "start_time": "2023-01-07T13:50:56.355Z"
   },
   {
    "duration": 18,
    "start_time": "2023-01-07T13:50:56.388Z"
   },
   {
    "duration": 10,
    "start_time": "2023-01-07T13:50:56.410Z"
   },
   {
    "duration": 3611,
    "start_time": "2023-01-07T13:50:56.421Z"
   },
   {
    "duration": 201,
    "start_time": "2023-01-07T13:51:00.034Z"
   },
   {
    "duration": 1505,
    "start_time": "2023-01-07T13:51:00.236Z"
   },
   {
    "duration": 418,
    "start_time": "2023-01-07T13:51:01.743Z"
   },
   {
    "duration": 1696,
    "start_time": "2023-01-07T13:51:02.162Z"
   },
   {
    "duration": 190,
    "start_time": "2023-01-07T13:51:03.860Z"
   },
   {
    "duration": 1425,
    "start_time": "2023-01-07T13:51:04.052Z"
   },
   {
    "duration": 37,
    "start_time": "2023-01-07T13:51:05.490Z"
   },
   {
    "duration": 85,
    "start_time": "2023-01-07T13:51:05.528Z"
   },
   {
    "duration": 35,
    "start_time": "2023-01-07T13:51:05.615Z"
   },
   {
    "duration": 60948,
    "start_time": "2023-01-07T13:51:05.653Z"
   },
   {
    "duration": 3,
    "start_time": "2023-01-07T13:52:06.604Z"
   },
   {
    "duration": 2052,
    "start_time": "2023-01-07T13:52:06.610Z"
   },
   {
    "duration": 4,
    "start_time": "2023-01-07T13:52:08.664Z"
   },
   {
    "duration": 45,
    "start_time": "2023-01-07T13:52:08.670Z"
   },
   {
    "duration": 20751,
    "start_time": "2023-01-07T13:52:08.716Z"
   },
   {
    "duration": 1477,
    "start_time": "2023-01-07T14:01:06.661Z"
   },
   {
    "duration": 675,
    "start_time": "2023-01-07T14:01:08.140Z"
   },
   {
    "duration": 19,
    "start_time": "2023-01-07T14:01:08.817Z"
   },
   {
    "duration": 12,
    "start_time": "2023-01-07T14:01:08.838Z"
   },
   {
    "duration": 41,
    "start_time": "2023-01-07T14:01:08.852Z"
   },
   {
    "duration": 4,
    "start_time": "2023-01-07T14:01:08.895Z"
   },
   {
    "duration": 192,
    "start_time": "2023-01-07T14:01:08.901Z"
   },
   {
    "duration": 5,
    "start_time": "2023-01-07T14:01:09.094Z"
   },
   {
    "duration": 7,
    "start_time": "2023-01-07T14:01:09.100Z"
   },
   {
    "duration": 13,
    "start_time": "2023-01-07T14:01:09.109Z"
   },
   {
    "duration": 5,
    "start_time": "2023-01-07T14:01:09.124Z"
   },
   {
    "duration": 3,
    "start_time": "2023-01-07T14:01:09.130Z"
   },
   {
    "duration": 56,
    "start_time": "2023-01-07T14:01:09.135Z"
   },
   {
    "duration": 11,
    "start_time": "2023-01-07T14:01:09.193Z"
   },
   {
    "duration": 3,
    "start_time": "2023-01-07T14:01:09.206Z"
   },
   {
    "duration": 3305,
    "start_time": "2023-01-07T14:01:09.211Z"
   },
   {
    "duration": 176,
    "start_time": "2023-01-07T14:01:12.518Z"
   },
   {
    "duration": 1444,
    "start_time": "2023-01-07T14:01:12.696Z"
   },
   {
    "duration": 425,
    "start_time": "2023-01-07T14:01:14.143Z"
   },
   {
    "duration": 1770,
    "start_time": "2023-01-07T14:01:14.570Z"
   },
   {
    "duration": 165,
    "start_time": "2023-01-07T14:01:16.342Z"
   },
   {
    "duration": 1371,
    "start_time": "2023-01-07T14:01:16.509Z"
   },
   {
    "duration": 50,
    "start_time": "2023-01-07T14:01:17.887Z"
   },
   {
    "duration": 5,
    "start_time": "2023-01-07T14:01:17.939Z"
   },
   {
    "duration": 11,
    "start_time": "2023-01-07T14:01:17.945Z"
   },
   {
    "duration": 60336,
    "start_time": "2023-01-07T14:01:17.958Z"
   },
   {
    "duration": 3,
    "start_time": "2023-01-07T14:02:18.295Z"
   },
   {
    "duration": 2032,
    "start_time": "2023-01-07T14:02:18.301Z"
   },
   {
    "duration": 80,
    "start_time": "2023-01-07T14:02:20.335Z"
   },
   {
    "duration": 0,
    "start_time": "2023-01-07T14:02:20.417Z"
   },
   {
    "duration": 0,
    "start_time": "2023-01-07T14:02:20.418Z"
   },
   {
    "duration": 0,
    "start_time": "2023-01-07T14:02:20.419Z"
   },
   {
    "duration": 0,
    "start_time": "2023-01-07T14:02:20.420Z"
   },
   {
    "duration": 0,
    "start_time": "2023-01-07T14:02:20.421Z"
   },
   {
    "duration": 4,
    "start_time": "2023-01-07T14:03:08.511Z"
   },
   {
    "duration": 1601,
    "start_time": "2023-01-07T17:00:52.393Z"
   },
   {
    "duration": 2184,
    "start_time": "2023-01-07T17:00:53.996Z"
   },
   {
    "duration": 19,
    "start_time": "2023-01-07T17:00:56.182Z"
   },
   {
    "duration": 15,
    "start_time": "2023-01-07T17:00:56.203Z"
   },
   {
    "duration": 17,
    "start_time": "2023-01-07T17:00:56.219Z"
   },
   {
    "duration": 3,
    "start_time": "2023-01-07T17:00:56.237Z"
   },
   {
    "duration": 184,
    "start_time": "2023-01-07T17:00:56.251Z"
   },
   {
    "duration": 5,
    "start_time": "2023-01-07T17:00:56.437Z"
   },
   {
    "duration": 13,
    "start_time": "2023-01-07T17:00:56.444Z"
   },
   {
    "duration": 15,
    "start_time": "2023-01-07T17:00:56.460Z"
   },
   {
    "duration": 5,
    "start_time": "2023-01-07T17:00:56.477Z"
   },
   {
    "duration": 7,
    "start_time": "2023-01-07T17:00:56.483Z"
   },
   {
    "duration": 35,
    "start_time": "2023-01-07T17:00:56.492Z"
   },
   {
    "duration": 22,
    "start_time": "2023-01-07T17:00:56.529Z"
   },
   {
    "duration": 3,
    "start_time": "2023-01-07T17:00:56.553Z"
   },
   {
    "duration": 3810,
    "start_time": "2023-01-07T17:00:56.558Z"
   },
   {
    "duration": 204,
    "start_time": "2023-01-07T17:01:00.370Z"
   },
   {
    "duration": 1593,
    "start_time": "2023-01-07T17:01:00.576Z"
   },
   {
    "duration": 382,
    "start_time": "2023-01-07T17:01:02.171Z"
   },
   {
    "duration": 1623,
    "start_time": "2023-01-07T17:01:02.555Z"
   },
   {
    "duration": 150,
    "start_time": "2023-01-07T17:01:04.181Z"
   },
   {
    "duration": 1335,
    "start_time": "2023-01-07T17:01:04.333Z"
   },
   {
    "duration": 39,
    "start_time": "2023-01-07T17:01:05.670Z"
   },
   {
    "duration": 5,
    "start_time": "2023-01-07T17:01:05.711Z"
   },
   {
    "duration": 30,
    "start_time": "2023-01-07T17:01:05.718Z"
   },
   {
    "duration": 66703,
    "start_time": "2023-01-07T17:01:05.750Z"
   },
   {
    "duration": 3,
    "start_time": "2023-01-07T17:02:12.455Z"
   },
   {
    "duration": 2400,
    "start_time": "2023-01-07T17:02:12.461Z"
   },
   {
    "duration": 4,
    "start_time": "2023-01-07T17:02:14.864Z"
   },
   {
    "duration": 416406,
    "start_time": "2023-01-07T17:02:14.870Z"
   },
   {
    "duration": 3,
    "start_time": "2023-01-07T17:09:11.277Z"
   },
   {
    "duration": 1444,
    "start_time": "2023-01-07T17:09:55.901Z"
   },
   {
    "duration": 740,
    "start_time": "2023-01-07T17:09:57.347Z"
   },
   {
    "duration": 18,
    "start_time": "2023-01-07T17:09:58.089Z"
   },
   {
    "duration": 12,
    "start_time": "2023-01-07T17:09:58.110Z"
   },
   {
    "duration": 44,
    "start_time": "2023-01-07T17:09:58.124Z"
   },
   {
    "duration": 4,
    "start_time": "2023-01-07T17:09:58.170Z"
   },
   {
    "duration": 188,
    "start_time": "2023-01-07T17:09:58.176Z"
   },
   {
    "duration": 4,
    "start_time": "2023-01-07T17:09:58.366Z"
   },
   {
    "duration": 8,
    "start_time": "2023-01-07T17:09:58.372Z"
   },
   {
    "duration": 10,
    "start_time": "2023-01-07T17:09:58.383Z"
   },
   {
    "duration": 4,
    "start_time": "2023-01-07T17:09:58.395Z"
   },
   {
    "duration": 4,
    "start_time": "2023-01-07T17:09:58.401Z"
   },
   {
    "duration": 49,
    "start_time": "2023-01-07T17:09:58.406Z"
   },
   {
    "duration": 11,
    "start_time": "2023-01-07T17:09:58.457Z"
   },
   {
    "duration": 3,
    "start_time": "2023-01-07T17:09:58.469Z"
   },
   {
    "duration": 3782,
    "start_time": "2023-01-07T17:09:58.474Z"
   },
   {
    "duration": 212,
    "start_time": "2023-01-07T17:10:02.259Z"
   },
   {
    "duration": 1512,
    "start_time": "2023-01-07T17:10:02.473Z"
   },
   {
    "duration": 406,
    "start_time": "2023-01-07T17:10:03.987Z"
   },
   {
    "duration": 1681,
    "start_time": "2023-01-07T17:10:04.395Z"
   },
   {
    "duration": 169,
    "start_time": "2023-01-07T17:10:06.077Z"
   },
   {
    "duration": 1353,
    "start_time": "2023-01-07T17:10:06.251Z"
   },
   {
    "duration": 49,
    "start_time": "2023-01-07T17:10:07.606Z"
   },
   {
    "duration": 4,
    "start_time": "2023-01-07T17:10:07.657Z"
   },
   {
    "duration": 45,
    "start_time": "2023-01-07T17:10:07.663Z"
   },
   {
    "duration": 67718,
    "start_time": "2023-01-07T17:10:07.710Z"
   },
   {
    "duration": 3,
    "start_time": "2023-01-07T17:11:15.430Z"
   },
   {
    "duration": 2283,
    "start_time": "2023-01-07T17:11:15.436Z"
   },
   {
    "duration": 127,
    "start_time": "2023-01-07T17:11:17.721Z"
   },
   {
    "duration": 0,
    "start_time": "2023-01-07T17:11:17.850Z"
   },
   {
    "duration": 0,
    "start_time": "2023-01-07T17:11:17.852Z"
   },
   {
    "duration": 0,
    "start_time": "2023-01-07T17:11:17.853Z"
   },
   {
    "duration": 0,
    "start_time": "2023-01-07T17:11:17.854Z"
   },
   {
    "duration": 0,
    "start_time": "2023-01-07T17:11:17.855Z"
   },
   {
    "duration": 5,
    "start_time": "2023-01-07T17:14:13.784Z"
   },
   {
    "duration": 1511,
    "start_time": "2023-01-07T17:21:24.675Z"
   },
   {
    "duration": 772,
    "start_time": "2023-01-07T17:21:26.189Z"
   },
   {
    "duration": 19,
    "start_time": "2023-01-07T17:21:26.963Z"
   },
   {
    "duration": 14,
    "start_time": "2023-01-07T17:21:26.985Z"
   },
   {
    "duration": 50,
    "start_time": "2023-01-07T17:21:27.001Z"
   },
   {
    "duration": 4,
    "start_time": "2023-01-07T17:21:27.054Z"
   },
   {
    "duration": 202,
    "start_time": "2023-01-07T17:21:27.061Z"
   },
   {
    "duration": 5,
    "start_time": "2023-01-07T17:21:27.265Z"
   },
   {
    "duration": 13,
    "start_time": "2023-01-07T17:21:27.272Z"
   },
   {
    "duration": 9,
    "start_time": "2023-01-07T17:21:27.288Z"
   },
   {
    "duration": 5,
    "start_time": "2023-01-07T17:21:27.299Z"
   },
   {
    "duration": 5,
    "start_time": "2023-01-07T17:21:27.306Z"
   },
   {
    "duration": 61,
    "start_time": "2023-01-07T17:21:27.313Z"
   },
   {
    "duration": 11,
    "start_time": "2023-01-07T17:21:27.376Z"
   },
   {
    "duration": 6,
    "start_time": "2023-01-07T17:21:27.389Z"
   },
   {
    "duration": 3947,
    "start_time": "2023-01-07T17:21:27.397Z"
   },
   {
    "duration": 219,
    "start_time": "2023-01-07T17:21:31.347Z"
   },
   {
    "duration": 1561,
    "start_time": "2023-01-07T17:21:31.568Z"
   },
   {
    "duration": 439,
    "start_time": "2023-01-07T17:21:33.131Z"
   },
   {
    "duration": 1748,
    "start_time": "2023-01-07T17:21:33.572Z"
   },
   {
    "duration": 156,
    "start_time": "2023-01-07T17:21:35.322Z"
   },
   {
    "duration": 1414,
    "start_time": "2023-01-07T17:21:35.480Z"
   },
   {
    "duration": 41,
    "start_time": "2023-01-07T17:21:36.896Z"
   },
   {
    "duration": 5,
    "start_time": "2023-01-07T17:21:36.950Z"
   },
   {
    "duration": 18,
    "start_time": "2023-01-07T17:21:36.957Z"
   },
   {
    "duration": 68890,
    "start_time": "2023-01-07T17:21:36.977Z"
   },
   {
    "duration": 3,
    "start_time": "2023-01-07T17:22:45.869Z"
   },
   {
    "duration": 2441,
    "start_time": "2023-01-07T17:22:45.876Z"
   },
   {
    "duration": 5,
    "start_time": "2023-01-07T17:22:48.319Z"
   },
   {
    "duration": 1084991,
    "start_time": "2023-01-07T17:22:48.326Z"
   },
   {
    "duration": 3,
    "start_time": "2023-01-07T17:40:53.319Z"
   },
   {
    "duration": 139574,
    "start_time": "2023-01-07T17:40:53.324Z"
   },
   {
    "duration": 26,
    "start_time": "2023-01-07T17:43:12.901Z"
   },
   {
    "duration": 23950,
    "start_time": "2023-01-07T17:43:12.929Z"
   },
   {
    "duration": 1660,
    "start_time": "2023-01-07T17:44:42.119Z"
   },
   {
    "duration": 778,
    "start_time": "2023-01-07T17:44:43.782Z"
   },
   {
    "duration": 18,
    "start_time": "2023-01-07T17:44:44.562Z"
   },
   {
    "duration": 13,
    "start_time": "2023-01-07T17:44:44.583Z"
   },
   {
    "duration": 31,
    "start_time": "2023-01-07T17:44:44.598Z"
   },
   {
    "duration": 20,
    "start_time": "2023-01-07T17:44:44.631Z"
   },
   {
    "duration": 211,
    "start_time": "2023-01-07T17:44:44.653Z"
   },
   {
    "duration": 5,
    "start_time": "2023-01-07T17:44:44.866Z"
   },
   {
    "duration": 17,
    "start_time": "2023-01-07T17:44:44.873Z"
   },
   {
    "duration": 35,
    "start_time": "2023-01-07T17:44:44.893Z"
   },
   {
    "duration": 15,
    "start_time": "2023-01-07T17:44:44.930Z"
   },
   {
    "duration": 23,
    "start_time": "2023-01-07T17:44:44.946Z"
   },
   {
    "duration": 46,
    "start_time": "2023-01-07T17:44:44.971Z"
   },
   {
    "duration": 34,
    "start_time": "2023-01-07T17:44:45.019Z"
   },
   {
    "duration": 4,
    "start_time": "2023-01-07T17:44:45.055Z"
   },
   {
    "duration": 3744,
    "start_time": "2023-01-07T17:44:45.060Z"
   },
   {
    "duration": 192,
    "start_time": "2023-01-07T17:44:48.806Z"
   },
   {
    "duration": 1639,
    "start_time": "2023-01-07T17:44:49.001Z"
   },
   {
    "duration": 407,
    "start_time": "2023-01-07T17:44:50.641Z"
   },
   {
    "duration": 1652,
    "start_time": "2023-01-07T17:44:51.051Z"
   },
   {
    "duration": 152,
    "start_time": "2023-01-07T17:44:52.705Z"
   },
   {
    "duration": 1397,
    "start_time": "2023-01-07T17:44:52.859Z"
   },
   {
    "duration": 39,
    "start_time": "2023-01-07T17:44:54.258Z"
   },
   {
    "duration": 5,
    "start_time": "2023-01-07T17:44:54.299Z"
   },
   {
    "duration": 11,
    "start_time": "2023-01-07T17:44:54.306Z"
   },
   {
    "duration": 68588,
    "start_time": "2023-01-07T17:44:54.319Z"
   },
   {
    "duration": 3,
    "start_time": "2023-01-07T17:46:02.909Z"
   },
   {
    "duration": 2305,
    "start_time": "2023-01-07T17:46:02.916Z"
   },
   {
    "duration": 99,
    "start_time": "2023-01-07T17:46:05.223Z"
   },
   {
    "duration": 0,
    "start_time": "2023-01-07T17:46:05.324Z"
   },
   {
    "duration": 0,
    "start_time": "2023-01-07T17:46:05.326Z"
   },
   {
    "duration": 0,
    "start_time": "2023-01-07T17:46:05.327Z"
   },
   {
    "duration": 0,
    "start_time": "2023-01-07T17:46:05.329Z"
   },
   {
    "duration": 0,
    "start_time": "2023-01-07T17:46:05.330Z"
   },
   {
    "duration": 4,
    "start_time": "2023-01-07T17:46:42.792Z"
   },
   {
    "duration": 4,
    "start_time": "2023-01-07T17:47:40.568Z"
   },
   {
    "duration": 1453,
    "start_time": "2023-01-07T17:49:53.495Z"
   },
   {
    "duration": 753,
    "start_time": "2023-01-07T17:49:54.951Z"
   },
   {
    "duration": 19,
    "start_time": "2023-01-07T17:49:55.706Z"
   },
   {
    "duration": 28,
    "start_time": "2023-01-07T17:49:55.728Z"
   },
   {
    "duration": 17,
    "start_time": "2023-01-07T17:49:55.758Z"
   },
   {
    "duration": 3,
    "start_time": "2023-01-07T17:49:55.777Z"
   },
   {
    "duration": 191,
    "start_time": "2023-01-07T17:49:55.782Z"
   },
   {
    "duration": 5,
    "start_time": "2023-01-07T17:49:55.975Z"
   },
   {
    "duration": 11,
    "start_time": "2023-01-07T17:49:55.982Z"
   },
   {
    "duration": 13,
    "start_time": "2023-01-07T17:49:55.996Z"
   },
   {
    "duration": 4,
    "start_time": "2023-01-07T17:49:56.011Z"
   },
   {
    "duration": 6,
    "start_time": "2023-01-07T17:49:56.017Z"
   },
   {
    "duration": 50,
    "start_time": "2023-01-07T17:49:56.024Z"
   },
   {
    "duration": 11,
    "start_time": "2023-01-07T17:49:56.075Z"
   },
   {
    "duration": 4,
    "start_time": "2023-01-07T17:49:56.088Z"
   },
   {
    "duration": 3823,
    "start_time": "2023-01-07T17:49:56.093Z"
   },
   {
    "duration": 192,
    "start_time": "2023-01-07T17:49:59.918Z"
   },
   {
    "duration": 1505,
    "start_time": "2023-01-07T17:50:00.111Z"
   },
   {
    "duration": 417,
    "start_time": "2023-01-07T17:50:01.618Z"
   },
   {
    "duration": 1701,
    "start_time": "2023-01-07T17:50:02.037Z"
   },
   {
    "duration": 177,
    "start_time": "2023-01-07T17:50:03.741Z"
   },
   {
    "duration": 1612,
    "start_time": "2023-01-07T17:50:03.920Z"
   },
   {
    "duration": 50,
    "start_time": "2023-01-07T17:50:05.534Z"
   },
   {
    "duration": 5,
    "start_time": "2023-01-07T17:50:05.586Z"
   },
   {
    "duration": 7,
    "start_time": "2023-01-07T17:50:05.593Z"
   },
   {
    "duration": 67650,
    "start_time": "2023-01-07T17:50:05.602Z"
   },
   {
    "duration": 3,
    "start_time": "2023-01-07T17:51:13.253Z"
   },
   {
    "duration": 2277,
    "start_time": "2023-01-07T17:51:13.259Z"
   },
   {
    "duration": 4,
    "start_time": "2023-01-07T17:51:15.537Z"
   },
   {
    "duration": 5241176,
    "start_time": "2023-01-07T17:51:15.543Z"
   },
   {
    "duration": 3,
    "start_time": "2023-01-07T19:18:36.721Z"
   },
   {
    "duration": 1481,
    "start_time": "2023-01-07T19:27:50.481Z"
   },
   {
    "duration": 773,
    "start_time": "2023-01-07T19:27:51.964Z"
   },
   {
    "duration": 22,
    "start_time": "2023-01-07T19:27:52.738Z"
   },
   {
    "duration": 12,
    "start_time": "2023-01-07T19:27:52.763Z"
   },
   {
    "duration": 17,
    "start_time": "2023-01-07T19:27:52.777Z"
   },
   {
    "duration": 3,
    "start_time": "2023-01-07T19:27:52.796Z"
   },
   {
    "duration": 230,
    "start_time": "2023-01-07T19:27:52.801Z"
   },
   {
    "duration": 6,
    "start_time": "2023-01-07T19:27:53.033Z"
   },
   {
    "duration": 5,
    "start_time": "2023-01-07T19:27:53.051Z"
   },
   {
    "duration": 11,
    "start_time": "2023-01-07T19:27:53.060Z"
   },
   {
    "duration": 6,
    "start_time": "2023-01-07T19:27:53.073Z"
   },
   {
    "duration": 7,
    "start_time": "2023-01-07T19:27:53.082Z"
   },
   {
    "duration": 30,
    "start_time": "2023-01-07T19:27:53.092Z"
   },
   {
    "duration": 35,
    "start_time": "2023-01-07T19:27:53.124Z"
   },
   {
    "duration": 3,
    "start_time": "2023-01-07T19:27:53.161Z"
   },
   {
    "duration": 3707,
    "start_time": "2023-01-07T19:27:53.166Z"
   },
   {
    "duration": 202,
    "start_time": "2023-01-07T19:27:56.875Z"
   },
   {
    "duration": 1476,
    "start_time": "2023-01-07T19:27:57.079Z"
   },
   {
    "duration": 427,
    "start_time": "2023-01-07T19:27:58.557Z"
   },
   {
    "duration": 1825,
    "start_time": "2023-01-07T19:27:58.986Z"
   },
   {
    "duration": 150,
    "start_time": "2023-01-07T19:28:00.813Z"
   },
   {
    "duration": 1417,
    "start_time": "2023-01-07T19:28:00.964Z"
   },
   {
    "duration": 37,
    "start_time": "2023-01-07T19:28:02.383Z"
   },
   {
    "duration": 4,
    "start_time": "2023-01-07T19:28:02.422Z"
   },
   {
    "duration": 24,
    "start_time": "2023-01-07T19:28:02.428Z"
   },
   {
    "duration": 68324,
    "start_time": "2023-01-07T19:28:02.454Z"
   },
   {
    "duration": 3,
    "start_time": "2023-01-07T19:29:10.780Z"
   },
   {
    "duration": 2279,
    "start_time": "2023-01-07T19:29:10.786Z"
   },
   {
    "duration": 4,
    "start_time": "2023-01-07T19:29:13.067Z"
   },
   {
    "duration": 1397028,
    "start_time": "2023-01-07T19:29:13.072Z"
   },
   {
    "duration": 3,
    "start_time": "2023-01-07T19:52:30.102Z"
   },
   {
    "duration": 28,
    "start_time": "2023-01-07T20:01:08.886Z"
   },
   {
    "duration": 322122,
    "start_time": "2023-01-07T20:01:08.917Z"
   },
   {
    "duration": 138417,
    "start_time": "2023-01-07T20:08:52.219Z"
   },
   {
    "duration": 23592,
    "start_time": "2023-01-07T20:11:34.153Z"
   }
  ],
  "kernelspec": {
   "display_name": "Python 3",
   "language": "python",
   "name": "python3"
  },
  "language_info": {
   "codemirror_mode": {
    "name": "ipython",
    "version": 3
   },
   "file_extension": ".py",
   "mimetype": "text/x-python",
   "name": "python",
   "nbconvert_exporter": "python",
   "pygments_lexer": "ipython3",
   "version": "3.10.9"
  },
  "toc": {
   "base_numbering": 1,
   "nav_menu": {},
   "number_sections": true,
   "sideBar": true,
   "skip_h1_title": true,
   "title_cell": "Содержание",
   "title_sidebar": "Contents",
   "toc_cell": true,
   "toc_position": {
    "height": "635.2px",
    "left": "199px",
    "top": "111.125px",
    "width": "289.438px"
   },
   "toc_section_display": true,
   "toc_window_display": true
  },
  "vscode": {
   "interpreter": {
    "hash": "2c80d0925e06f9467e0ebd6ffe1d0dfb4441b3e07eb12a7e8251177c48d6409f"
   }
  }
 },
 "nbformat": 4,
 "nbformat_minor": 2
}
