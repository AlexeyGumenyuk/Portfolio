{
 "cells": [
  {
   "attachments": {},
   "cell_type": "markdown",
   "metadata": {},
   "source": [
    "# Защита персональных данных клиентов"
   ]
  },
  {
   "attachments": {},
   "cell_type": "markdown",
   "metadata": {},
   "source": [
    "Нужно защитить данные клиентов страховой компании «Хоть потоп», разработав такой метод преобразования данных, чтобы по ним было сложно восстановить персональную информацию. Обосновать корректность его работы.\n",
    "\n",
    "Нужно защитить данные, чтобы при преобразовании качество моделей машинного обучения не ухудшилось. Подбирать наилучшую модель не требуется."
   ]
  },
  {
   "cell_type": "markdown",
   "metadata": {},
   "source": [
    "**План выполнения проекта**  \n",
    "1. Загрузить и изучить данные.\n",
    "\n",
    "2. Ответить на вопрос и обосновать решение.<br>\n",
    "Признаки умножают на обратимую матрицу. Изменится ли качество линейной регрессии? (Её можно обучить заново.)\n",
    "    1. Изменится. Привести примеры матриц.\n",
    "    2. Не изменится. Указать, как связаны параметры линейной регрессии в исходной задаче и в преобразованной.<br><br>\n",
    "\n",
    "3. Предложить алгоритм преобразования данных для решения задачи. Обосновать, почему качество линейной регрессии не поменяется.\n",
    "Запрограммировать этот алгоритм, применив матричные операции. Проверить, что качество линейной регрессии из sklearn не отличается до и после преобразования. Применить метрику R2.\n",
    "\n",
    "**Описание данных**  \n",
    "Набор данных находится в файле `insurance.csv`.<br>\n",
    "Признаки: пол, возраст и зарплата застрахованного, количество членов его семьи.<br>\n",
    "Целевой признак: количество страховых выплат клиенту за последние 5 лет."
   ]
  },
  {
   "attachments": {},
   "cell_type": "markdown",
   "metadata": {},
   "source": [
    "**Содержание**<a id='toc0_'></a>    \n",
    "- 1. [Загрузка данных](#toc1_)    \n",
    "- 2. [Умножение матриц](#toc2_)    \n",
    "- 3. [Алгоритм преобразования](#toc3_)    \n",
    "- 4. [Проверка алгоритма](#toc4_)    \n",
    "- 5. [Общий вывод](#toc5_)    \n",
    "- 6. [Чек-лист проверки](#toc6_)    \n",
    "\n",
    "<!-- vscode-jupyter-toc-config\n",
    "\tnumbering=true\n",
    "\tanchor=true\n",
    "\tflat=false\n",
    "\tminLevel=2\n",
    "\tmaxLevel=6\n",
    "\t/vscode-jupyter-toc-config -->\n",
    "<!-- THIS CELL WILL BE REPLACED ON TOC UPDATE. DO NOT WRITE YOUR TEXT IN THIS CELL -->"
   ]
  },
  {
   "attachments": {},
   "cell_type": "markdown",
   "metadata": {},
   "source": [
    "## 1. <a id='toc1_'></a>[Загрузка данных](#toc0_)"
   ]
  },
  {
   "cell_type": "code",
   "execution_count": 1,
   "metadata": {},
   "outputs": [],
   "source": [
    "import pandas as pd\n",
    "import numpy as np\n",
    "\n",
    "from sklearn.linear_model import LinearRegression\n",
    "from sklearn.metrics import r2_score"
   ]
  },
  {
   "attachments": {},
   "cell_type": "markdown",
   "metadata": {},
   "source": [
    "Загрузим датасет и изучим его."
   ]
  },
  {
   "cell_type": "code",
   "execution_count": 2,
   "metadata": {},
   "outputs": [
    {
     "data": {
      "text/html": [
       "<div>\n",
       "<style scoped>\n",
       "    .dataframe tbody tr th:only-of-type {\n",
       "        vertical-align: middle;\n",
       "    }\n",
       "\n",
       "    .dataframe tbody tr th {\n",
       "        vertical-align: top;\n",
       "    }\n",
       "\n",
       "    .dataframe thead th {\n",
       "        text-align: right;\n",
       "    }\n",
       "</style>\n",
       "<table border=\"1\" class=\"dataframe\">\n",
       "  <thead>\n",
       "    <tr style=\"text-align: right;\">\n",
       "      <th></th>\n",
       "      <th>Пол</th>\n",
       "      <th>Возраст</th>\n",
       "      <th>Зарплата</th>\n",
       "      <th>Члены семьи</th>\n",
       "      <th>Страховые выплаты</th>\n",
       "    </tr>\n",
       "  </thead>\n",
       "  <tbody>\n",
       "    <tr>\n",
       "      <th>0</th>\n",
       "      <td>1</td>\n",
       "      <td>41.0</td>\n",
       "      <td>49600.0</td>\n",
       "      <td>1</td>\n",
       "      <td>0</td>\n",
       "    </tr>\n",
       "    <tr>\n",
       "      <th>1</th>\n",
       "      <td>0</td>\n",
       "      <td>46.0</td>\n",
       "      <td>38000.0</td>\n",
       "      <td>1</td>\n",
       "      <td>1</td>\n",
       "    </tr>\n",
       "    <tr>\n",
       "      <th>2</th>\n",
       "      <td>0</td>\n",
       "      <td>29.0</td>\n",
       "      <td>21000.0</td>\n",
       "      <td>0</td>\n",
       "      <td>0</td>\n",
       "    </tr>\n",
       "    <tr>\n",
       "      <th>3</th>\n",
       "      <td>0</td>\n",
       "      <td>21.0</td>\n",
       "      <td>41700.0</td>\n",
       "      <td>2</td>\n",
       "      <td>0</td>\n",
       "    </tr>\n",
       "    <tr>\n",
       "      <th>4</th>\n",
       "      <td>1</td>\n",
       "      <td>28.0</td>\n",
       "      <td>26100.0</td>\n",
       "      <td>0</td>\n",
       "      <td>0</td>\n",
       "    </tr>\n",
       "  </tbody>\n",
       "</table>\n",
       "</div>"
      ],
      "text/plain": [
       "   Пол  Возраст  Зарплата  Члены семьи  Страховые выплаты\n",
       "0    1     41.0   49600.0            1                  0\n",
       "1    0     46.0   38000.0            1                  1\n",
       "2    0     29.0   21000.0            0                  0\n",
       "3    0     21.0   41700.0            2                  0\n",
       "4    1     28.0   26100.0            0                  0"
      ]
     },
     "execution_count": 2,
     "metadata": {},
     "output_type": "execute_result"
    }
   ],
   "source": [
    "df = pd.read_csv('insurance.csv')\n",
    "df.head()"
   ]
  },
  {
   "cell_type": "code",
   "execution_count": 3,
   "metadata": {},
   "outputs": [
    {
     "name": "stdout",
     "output_type": "stream",
     "text": [
      "<class 'pandas.core.frame.DataFrame'>\n",
      "RangeIndex: 5000 entries, 0 to 4999\n",
      "Data columns (total 5 columns):\n",
      " #   Column             Non-Null Count  Dtype  \n",
      "---  ------             --------------  -----  \n",
      " 0   Пол                5000 non-null   int64  \n",
      " 1   Возраст            5000 non-null   float64\n",
      " 2   Зарплата           5000 non-null   float64\n",
      " 3   Члены семьи        5000 non-null   int64  \n",
      " 4   Страховые выплаты  5000 non-null   int64  \n",
      "dtypes: float64(2), int64(3)\n",
      "memory usage: 195.4 KB\n"
     ]
    }
   ],
   "source": [
    "df.info()"
   ]
  },
  {
   "cell_type": "code",
   "execution_count": 4,
   "metadata": {
    "scrolled": true
   },
   "outputs": [
    {
     "data": {
      "text/html": [
       "<div>\n",
       "<style scoped>\n",
       "    .dataframe tbody tr th:only-of-type {\n",
       "        vertical-align: middle;\n",
       "    }\n",
       "\n",
       "    .dataframe tbody tr th {\n",
       "        vertical-align: top;\n",
       "    }\n",
       "\n",
       "    .dataframe thead th {\n",
       "        text-align: right;\n",
       "    }\n",
       "</style>\n",
       "<table border=\"1\" class=\"dataframe\">\n",
       "  <thead>\n",
       "    <tr style=\"text-align: right;\">\n",
       "      <th></th>\n",
       "      <th>Пол</th>\n",
       "      <th>Возраст</th>\n",
       "      <th>Зарплата</th>\n",
       "      <th>Члены семьи</th>\n",
       "      <th>Страховые выплаты</th>\n",
       "    </tr>\n",
       "  </thead>\n",
       "  <tbody>\n",
       "    <tr>\n",
       "      <th>count</th>\n",
       "      <td>5000.000000</td>\n",
       "      <td>5000.000000</td>\n",
       "      <td>5000.000000</td>\n",
       "      <td>5000.000000</td>\n",
       "      <td>5000.000000</td>\n",
       "    </tr>\n",
       "    <tr>\n",
       "      <th>mean</th>\n",
       "      <td>0.499000</td>\n",
       "      <td>30.952800</td>\n",
       "      <td>39916.360000</td>\n",
       "      <td>1.194200</td>\n",
       "      <td>0.148000</td>\n",
       "    </tr>\n",
       "    <tr>\n",
       "      <th>std</th>\n",
       "      <td>0.500049</td>\n",
       "      <td>8.440807</td>\n",
       "      <td>9900.083569</td>\n",
       "      <td>1.091387</td>\n",
       "      <td>0.463183</td>\n",
       "    </tr>\n",
       "    <tr>\n",
       "      <th>min</th>\n",
       "      <td>0.000000</td>\n",
       "      <td>18.000000</td>\n",
       "      <td>5300.000000</td>\n",
       "      <td>0.000000</td>\n",
       "      <td>0.000000</td>\n",
       "    </tr>\n",
       "    <tr>\n",
       "      <th>25%</th>\n",
       "      <td>0.000000</td>\n",
       "      <td>24.000000</td>\n",
       "      <td>33300.000000</td>\n",
       "      <td>0.000000</td>\n",
       "      <td>0.000000</td>\n",
       "    </tr>\n",
       "    <tr>\n",
       "      <th>50%</th>\n",
       "      <td>0.000000</td>\n",
       "      <td>30.000000</td>\n",
       "      <td>40200.000000</td>\n",
       "      <td>1.000000</td>\n",
       "      <td>0.000000</td>\n",
       "    </tr>\n",
       "    <tr>\n",
       "      <th>75%</th>\n",
       "      <td>1.000000</td>\n",
       "      <td>37.000000</td>\n",
       "      <td>46600.000000</td>\n",
       "      <td>2.000000</td>\n",
       "      <td>0.000000</td>\n",
       "    </tr>\n",
       "    <tr>\n",
       "      <th>max</th>\n",
       "      <td>1.000000</td>\n",
       "      <td>65.000000</td>\n",
       "      <td>79000.000000</td>\n",
       "      <td>6.000000</td>\n",
       "      <td>5.000000</td>\n",
       "    </tr>\n",
       "  </tbody>\n",
       "</table>\n",
       "</div>"
      ],
      "text/plain": [
       "               Пол      Возраст      Зарплата  Члены семьи  Страховые выплаты\n",
       "count  5000.000000  5000.000000   5000.000000  5000.000000        5000.000000\n",
       "mean      0.499000    30.952800  39916.360000     1.194200           0.148000\n",
       "std       0.500049     8.440807   9900.083569     1.091387           0.463183\n",
       "min       0.000000    18.000000   5300.000000     0.000000           0.000000\n",
       "25%       0.000000    24.000000  33300.000000     0.000000           0.000000\n",
       "50%       0.000000    30.000000  40200.000000     1.000000           0.000000\n",
       "75%       1.000000    37.000000  46600.000000     2.000000           0.000000\n",
       "max       1.000000    65.000000  79000.000000     6.000000           5.000000"
      ]
     },
     "execution_count": 4,
     "metadata": {},
     "output_type": "execute_result"
    }
   ],
   "source": [
    "df.describe()"
   ]
  },
  {
   "cell_type": "code",
   "execution_count": 5,
   "metadata": {},
   "outputs": [
    {
     "data": {
      "image/png": "[encoded data removed]",
      "text/plain": [
       "<Figure size 1500x1000 with 6 Axes>"
      ]
     },
     "metadata": {},
     "output_type": "display_data"
    }
   ],
   "source": [
    "df.hist(figsize=(15, 10));"
   ]
  },
  {
   "attachments": {},
   "cell_type": "markdown",
   "metadata": {},
   "source": [
    "Заменим названия столбцов."
   ]
  },
  {
   "cell_type": "code",
   "execution_count": 6,
   "metadata": {},
   "outputs": [],
   "source": [
    "df.columns = ['gender', 'age', 'salary', 'family_members', 'insurance']"
   ]
  },
  {
   "attachments": {},
   "cell_type": "markdown",
   "metadata": {},
   "source": [
    "Все данныe можно привести к типу `int`."
   ]
  },
  {
   "cell_type": "code",
   "execution_count": 7,
   "metadata": {},
   "outputs": [],
   "source": [
    "df = df.astype(int)"
   ]
  },
  {
   "attachments": {},
   "cell_type": "markdown",
   "metadata": {},
   "source": [
    "**Вывод по разделу 1:**\n",
    "\n",
    "Данные содержат 5000 строк и 5 столбцов, пропуски отсутствуют, аномалий нет, все столбцы приведены к типку `int`."
   ]
  },
  {
   "attachments": {},
   "cell_type": "markdown",
   "metadata": {},
   "source": [
    "## 2. <a id='toc2_'></a>[Умножение матриц](#toc0_)"
   ]
  },
  {
   "attachments": {},
   "cell_type": "markdown",
   "metadata": {},
   "source": [
    "Обозначения:\n",
    "\n",
    "- $X$ — матрица признаков (нулевой столбец состоит из единиц)\n",
    "\n",
    "- $y$ — вектор целевого признака\n",
    "\n",
    "- $P$ — матрица, на которую умножаются признаки\n",
    "\n",
    "- $w$ — вектор весов линейной регрессии (нулевой элемент равен сдвигу)"
   ]
  },
  {
   "attachments": {},
   "cell_type": "markdown",
   "metadata": {},
   "source": [
    "Предсказания:\n",
    "\n",
    "$$\n",
    "a = Xw\n",
    "$$\n",
    "\n",
    "Задача обучения:\n",
    "\n",
    "$$\n",
    "w = \\arg\\min_w MSE(Xw, y)\n",
    "$$\n",
    "\n",
    "Формула обучения:\n",
    "\n",
    "$$\n",
    "w = (X^T X)^{-1} X^T y\n",
    "$$"
   ]
  },
  {
   "attachments": {},
   "cell_type": "markdown",
   "metadata": {},
   "source": [
    "**Вопрос:**\n",
    " \n",
    "Признаки умножают на обратимую матрицу. Изменится ли качество линейной регрессии? (Её можно обучить заново.)"
   ]
  },
  {
   "attachments": {},
   "cell_type": "markdown",
   "metadata": {},
   "source": [
    "**Ответ:**\n",
    "Домножение матрицы признаков справа на обратимую матрицу не меняет качество линейной регрессии."
   ]
  },
  {
   "attachments": {},
   "cell_type": "markdown",
   "metadata": {},
   "source": [
    "**Обоснование:**\n",
    "<br>Пусть вектор признаков умножают на обратимую матрицу $P$.\n",
    "\n",
    "Задача обучения примет вид:\n",
    "\n",
    "$$\n",
    "w = \\arg\\min_w MSE(XPw, y)\n",
    "$$\n",
    "\n",
    "Тогда формула обучения:\n",
    "$$\n",
    "w = ((XP)^T XP)^{-1} (XP)^T y \n",
    "$$\n",
    "\n",
    "Предсказания:\n",
    "$$\n",
    "a = X P w = XP ((XP)^T XP)^{-1} (XP)^T y\n",
    "$$\n",
    "\n",
    "Учитывая, что\n",
    "\n",
    "$(AB)^{-1} = B^{-1} A^{-1} \\Rightarrow (ABC)^{-1} = C^{-1} B^{-1} A^{-1}$ \n",
    "\n",
    "$(AB)^T = B^T A^T$\n",
    "\n",
    "$(AB)^{-T} = A^{-T} B^{-T}$\n",
    "\n",
    "$A A^{-1} = E$\n",
    "\n",
    "получим:\n",
    "$$\n",
    "a = XP (P^T (X^T X) P)^{-1} P^T X^T y =\n",
    "$$\n",
    "\n",
    "$$\n",
    "= XP P^{-1} (X^T X)^{-1} P^{-T} P^T X^T y = X (X^T X)^{-1} X^T y\n",
    "$$\n",
    "\n",
    "Таким образом, вектор предсказаний не изменился."
   ]
  },
  {
   "attachments": {},
   "cell_type": "markdown",
   "metadata": {},
   "source": [
    "**Вывод по разделу 2:**\n",
    "Домножение матрицы признаков справа на обратимую матрицу не меняет качество линейной регрессии"
   ]
  },
  {
   "attachments": {},
   "cell_type": "markdown",
   "metadata": {},
   "source": [
    "\n",
    "## 3. <a id='toc3_'></a>[Алгоритм преобразования](#toc0_)"
   ]
  },
  {
   "attachments": {},
   "cell_type": "markdown",
   "metadata": {},
   "source": [
    "На основании полученнного результата можно предложить следующий алгоритм защиты данных пользователей."
   ]
  },
  {
   "attachments": {},
   "cell_type": "markdown",
   "metadata": {},
   "source": [
    "**Алгоритм**\n",
    "\n",
    "1. Генерируем случайную квадратную матрицу $P$ подходящей размерности (её порядок должен быть равен количеству столбцов в матрице признаков).\n",
    "2. Проверяем матрицу на обратимость: её определитель не должен быть равен нулю.\n",
    "<br>В случае, если проверка не пройдена, возвращаемся к шагу 1.\n",
    "3. Умножаем матрицу признаков $Х$ справа на полученную ранее матрицу $P$.\n",
    "4. Обучаем модель на матрице признаков $ХP$, полученной на предыдущем шаге.\n",
    "5. Для получения вектора предсказаний необходимо домножить матрицу признаков на матрицу $P$, а затем применить созданную модель.\n",
    "6. Сравниваем метрики R2 на исходных и зашифрованных признаках."
   ]
  },
  {
   "attachments": {},
   "cell_type": "markdown",
   "metadata": {},
   "source": [
    "**Обоснование**\n",
    "\n",
    "Обоснование приведено в предыдущем разделе."
   ]
  },
  {
   "attachments": {},
   "cell_type": "markdown",
   "metadata": {},
   "source": [
    "## 4. <a id='toc4_'></a>[Проверка алгоритма](#toc0_)"
   ]
  },
  {
   "attachments": {},
   "cell_type": "markdown",
   "metadata": {},
   "source": [
    "Для практической проверки разработанного алгоритма обучим две модель: одну - на имеющихся данных; другую - на них же, но с использованием описанного выше метода шифрования. "
   ]
  },
  {
   "cell_type": "code",
   "execution_count": 8,
   "metadata": {},
   "outputs": [
    {
     "name": "stdout",
     "output_type": "stream",
     "text": [
      "r2-метрика начальной модели: 0.42494550308169177\n",
      "Является ли матрица обратимой: True\n",
      "r2-метрика модифицированной модели: 0.4249455030816909\n",
      "Данные до шифрования:\n"
     ]
    },
    {
     "data": {
      "text/html": [
       "<div>\n",
       "<style scoped>\n",
       "    .dataframe tbody tr th:only-of-type {\n",
       "        vertical-align: middle;\n",
       "    }\n",
       "\n",
       "    .dataframe tbody tr th {\n",
       "        vertical-align: top;\n",
       "    }\n",
       "\n",
       "    .dataframe thead th {\n",
       "        text-align: right;\n",
       "    }\n",
       "</style>\n",
       "<table border=\"1\" class=\"dataframe\">\n",
       "  <thead>\n",
       "    <tr style=\"text-align: right;\">\n",
       "      <th></th>\n",
       "      <th>gender</th>\n",
       "      <th>age</th>\n",
       "      <th>salary</th>\n",
       "      <th>family_members</th>\n",
       "    </tr>\n",
       "  </thead>\n",
       "  <tbody>\n",
       "    <tr>\n",
       "      <th>0</th>\n",
       "      <td>1</td>\n",
       "      <td>41</td>\n",
       "      <td>49600</td>\n",
       "      <td>1</td>\n",
       "    </tr>\n",
       "    <tr>\n",
       "      <th>1</th>\n",
       "      <td>0</td>\n",
       "      <td>46</td>\n",
       "      <td>38000</td>\n",
       "      <td>1</td>\n",
       "    </tr>\n",
       "    <tr>\n",
       "      <th>2</th>\n",
       "      <td>0</td>\n",
       "      <td>29</td>\n",
       "      <td>21000</td>\n",
       "      <td>0</td>\n",
       "    </tr>\n",
       "    <tr>\n",
       "      <th>3</th>\n",
       "      <td>0</td>\n",
       "      <td>21</td>\n",
       "      <td>41700</td>\n",
       "      <td>2</td>\n",
       "    </tr>\n",
       "    <tr>\n",
       "      <th>4</th>\n",
       "      <td>1</td>\n",
       "      <td>28</td>\n",
       "      <td>26100</td>\n",
       "      <td>0</td>\n",
       "    </tr>\n",
       "  </tbody>\n",
       "</table>\n",
       "</div>"
      ],
      "text/plain": [
       "   gender  age  salary  family_members\n",
       "0       1   41   49600               1\n",
       "1       0   46   38000               1\n",
       "2       0   29   21000               0\n",
       "3       0   21   41700               2\n",
       "4       1   28   26100               0"
      ]
     },
     "metadata": {},
     "output_type": "display_data"
    },
    {
     "name": "stdout",
     "output_type": "stream",
     "text": [
      "Данные после шифрования:\n"
     ]
    },
    {
     "data": {
      "text/html": [
       "<div>\n",
       "<style scoped>\n",
       "    .dataframe tbody tr th:only-of-type {\n",
       "        vertical-align: middle;\n",
       "    }\n",
       "\n",
       "    .dataframe tbody tr th {\n",
       "        vertical-align: top;\n",
       "    }\n",
       "\n",
       "    .dataframe thead th {\n",
       "        text-align: right;\n",
       "    }\n",
       "</style>\n",
       "<table border=\"1\" class=\"dataframe\">\n",
       "  <thead>\n",
       "    <tr style=\"text-align: right;\">\n",
       "      <th></th>\n",
       "      <th>0</th>\n",
       "      <th>1</th>\n",
       "      <th>2</th>\n",
       "      <th>3</th>\n",
       "    </tr>\n",
       "  </thead>\n",
       "  <tbody>\n",
       "    <tr>\n",
       "      <th>0</th>\n",
       "      <td>44111.717617</td>\n",
       "      <td>25257.098876</td>\n",
       "      <td>33318.474797</td>\n",
       "      <td>22113.385533</td>\n",
       "    </tr>\n",
       "    <tr>\n",
       "      <th>1</th>\n",
       "      <td>33807.632819</td>\n",
       "      <td>19363.642185</td>\n",
       "      <td>25530.350471</td>\n",
       "      <td>16950.363732</td>\n",
       "    </tr>\n",
       "    <tr>\n",
       "      <th>2</th>\n",
       "      <td>18685.851330</td>\n",
       "      <td>10704.220419</td>\n",
       "      <td>14109.604312</td>\n",
       "      <td>9369.134165</td>\n",
       "    </tr>\n",
       "    <tr>\n",
       "      <th>3</th>\n",
       "      <td>37074.847453</td>\n",
       "      <td>21221.074625</td>\n",
       "      <td>28008.281332</td>\n",
       "      <td>18582.911996</td>\n",
       "    </tr>\n",
       "    <tr>\n",
       "      <th>4</th>\n",
       "      <td>23217.308209</td>\n",
       "      <td>13296.902157</td>\n",
       "      <td>17534.166764</td>\n",
       "      <td>11640.364893</td>\n",
       "    </tr>\n",
       "  </tbody>\n",
       "</table>\n",
       "</div>"
      ],
      "text/plain": [
       "              0             1             2             3\n",
       "0  44111.717617  25257.098876  33318.474797  22113.385533\n",
       "1  33807.632819  19363.642185  25530.350471  16950.363732\n",
       "2  18685.851330  10704.220419  14109.604312   9369.134165\n",
       "3  37074.847453  21221.074625  28008.281332  18582.911996\n",
       "4  23217.308209  13296.902157  17534.166764  11640.364893"
      ]
     },
     "metadata": {},
     "output_type": "display_data"
    },
    {
     "name": "stdout",
     "output_type": "stream",
     "text": [
      "Дешифрованные данные:\n"
     ]
    },
    {
     "data": {
      "text/html": [
       "<div>\n",
       "<style scoped>\n",
       "    .dataframe tbody tr th:only-of-type {\n",
       "        vertical-align: middle;\n",
       "    }\n",
       "\n",
       "    .dataframe tbody tr th {\n",
       "        vertical-align: top;\n",
       "    }\n",
       "\n",
       "    .dataframe thead th {\n",
       "        text-align: right;\n",
       "    }\n",
       "</style>\n",
       "<table border=\"1\" class=\"dataframe\">\n",
       "  <thead>\n",
       "    <tr style=\"text-align: right;\">\n",
       "      <th></th>\n",
       "      <th>0</th>\n",
       "      <th>1</th>\n",
       "      <th>2</th>\n",
       "      <th>3</th>\n",
       "    </tr>\n",
       "  </thead>\n",
       "  <tbody>\n",
       "    <tr>\n",
       "      <th>0</th>\n",
       "      <td>1</td>\n",
       "      <td>41</td>\n",
       "      <td>49600</td>\n",
       "      <td>1</td>\n",
       "    </tr>\n",
       "    <tr>\n",
       "      <th>1</th>\n",
       "      <td>0</td>\n",
       "      <td>46</td>\n",
       "      <td>38000</td>\n",
       "      <td>1</td>\n",
       "    </tr>\n",
       "    <tr>\n",
       "      <th>2</th>\n",
       "      <td>0</td>\n",
       "      <td>29</td>\n",
       "      <td>21000</td>\n",
       "      <td>0</td>\n",
       "    </tr>\n",
       "    <tr>\n",
       "      <th>3</th>\n",
       "      <td>0</td>\n",
       "      <td>21</td>\n",
       "      <td>41700</td>\n",
       "      <td>2</td>\n",
       "    </tr>\n",
       "    <tr>\n",
       "      <th>4</th>\n",
       "      <td>1</td>\n",
       "      <td>28</td>\n",
       "      <td>26100</td>\n",
       "      <td>0</td>\n",
       "    </tr>\n",
       "  </tbody>\n",
       "</table>\n",
       "</div>"
      ],
      "text/plain": [
       "   0   1      2  3\n",
       "0  1  41  49600  1\n",
       "1  0  46  38000  1\n",
       "2  0  29  21000  0\n",
       "3  0  21  41700  2\n",
       "4  1  28  26100  0"
      ]
     },
     "metadata": {},
     "output_type": "display_data"
    }
   ],
   "source": [
    "X = df.drop(columns=['insurance'])\n",
    "y = df['insurance']\n",
    "\n",
    "model = LinearRegression()\n",
    "model.fit(X, y)\n",
    "y_pred = model.predict(X)\n",
    "print('r2-метрика начальной модели:', r2_score(y, y_pred))\n",
    "\n",
    "P = np.random.random(size=(X.shape[1], X.shape[1]))\n",
    "print('Является ли матрица обратимой:', np.linalg.det(P) != 0)\n",
    "\n",
    "model = LinearRegression()\n",
    "model.fit(X @ P, y)\n",
    "y_pred = model.predict(X @ P)\n",
    "print('r2-метрика модифицированной модели:', r2_score(y, y_pred))\n",
    "\n",
    "\n",
    "print('Данные до шифрования:')\n",
    "display(X.head())\n",
    "\n",
    "print('Данные после шифрования:')\n",
    "display((X @ P).head())\n",
    "\n",
    "print('Дешифрованные данные:')\n",
    "display((X @ P @ np.linalg.inv(P)).apply(round).astype(int).head())"
   ]
  },
  {
   "attachments": {},
   "cell_type": "markdown",
   "metadata": {},
   "source": [
    "Как мы видим, после применения описанного алгоритма значение целевой метрики не изменилось (с точностью до погрешности, связанной с хранением в памяти чисел с плавающей точкой).\n",
    "\n",
    "При этом, из зашифрованнных данных невозможно получить личную информацию пользователей, не зная ключа (матрицы $P$).\n",
    "\n",
    "Таким, образом рассмотренный алгоритм применим для защиты пользовательских данных."
   ]
  },
  {
   "attachments": {},
   "cell_type": "markdown",
   "metadata": {},
   "source": [
    "## 5. <a id='toc5_'></a>[Общий вывод](#toc0_)"
   ]
  },
  {
   "attachments": {},
   "cell_type": "markdown",
   "metadata": {},
   "source": [
    "- Предлагаемые данные загружены и изучены\n",
    "- Предложен алгоритм защиты данных пользователей\n",
    "- Эффективность и применимость алгоритма обоснованы теоретически\n",
    "- Работоспособность и качество алгоритма проверены на рассматриваемом датасете"
   ]
  },
  {
   "attachments": {},
   "cell_type": "markdown",
   "metadata": {},
   "source": [
    "## 6. <a id='toc6_'></a>[Чек-лист проверки](#toc0_)"
   ]
  },
  {
   "attachments": {},
   "cell_type": "markdown",
   "metadata": {},
   "source": [
    "Поставьте 'x' в выполненных пунктах. Далее нажмите Shift+Enter."
   ]
  },
  {
   "attachments": {},
   "cell_type": "markdown",
   "metadata": {},
   "source": [
    "- [x]  Jupyter Notebook открыт\n",
    "- [x]  Весь код выполняется без ошибок\n",
    "- [x]  Ячейки с кодом расположены в порядке исполнения\n",
    "- [x]  Выполнен шаг 1: данные загружены\n",
    "- [x]  Выполнен шаг 2: получен ответ на вопрос об умножении матриц\n",
    "    - [x]  Указан правильный вариант ответа\n",
    "    - [x]  Вариант обоснован\n",
    "- [x]  Выполнен шаг 3: предложен алгоритм преобразования\n",
    "    - [x]  Алгоритм описан\n",
    "    - [x]  Алгоритм обоснован\n",
    "- [x]  Выполнен шаг 4: алгоритм проверен\n",
    "    - [x]  Алгоритм реализован\n",
    "    - [x]  Проведено сравнение качества моделей до и после преобразования"
   ]
  }
 ],
 "metadata": {
  "ExecuteTimeLog": [
   {
    "duration": 625,
    "start_time": "2023-01-21T11:04:59.548Z"
   },
   {
    "duration": 370,
    "start_time": "2023-01-21T11:06:01.632Z"
   },
   {
    "duration": 14,
    "start_time": "2023-01-21T11:07:04.943Z"
   },
   {
    "duration": 50,
    "start_time": "2023-01-21T11:07:32.985Z"
   },
   {
    "duration": 12,
    "start_time": "2023-01-21T11:08:58.559Z"
   },
   {
    "duration": 4,
    "start_time": "2023-01-21T11:10:37.014Z"
   },
   {
    "duration": 16,
    "start_time": "2023-01-21T11:10:50.443Z"
   },
   {
    "duration": 1158,
    "start_time": "2023-01-21T11:14:37.370Z"
   },
   {
    "duration": 673,
    "start_time": "2023-01-21T11:14:43.566Z"
   },
   {
    "duration": 829,
    "start_time": "2023-01-21T11:14:58.910Z"
   },
   {
    "duration": 1690,
    "start_time": "2023-01-21T12:44:30.272Z"
   },
   {
    "duration": 4,
    "start_time": "2023-01-21T12:45:39.969Z"
   },
   {
    "duration": 5,
    "start_time": "2023-01-21T12:55:35.742Z"
   },
   {
    "duration": 4,
    "start_time": "2023-01-21T12:57:12.317Z"
   },
   {
    "duration": 17,
    "start_time": "2023-01-21T12:57:22.474Z"
   },
   {
    "duration": 5,
    "start_time": "2023-01-21T12:57:29.959Z"
   },
   {
    "duration": 14,
    "start_time": "2023-01-21T12:57:32.052Z"
   },
   {
    "duration": 1406,
    "start_time": "2023-01-21T12:58:10.517Z"
   },
   {
    "duration": 118,
    "start_time": "2023-01-21T12:58:11.926Z"
   },
   {
    "duration": 15,
    "start_time": "2023-01-21T12:58:12.047Z"
   },
   {
    "duration": 72,
    "start_time": "2023-01-21T12:58:12.064Z"
   },
   {
    "duration": 1178,
    "start_time": "2023-01-21T12:58:12.138Z"
   },
   {
    "duration": 4,
    "start_time": "2023-01-21T12:58:13.318Z"
   },
   {
    "duration": 39,
    "start_time": "2023-01-21T12:58:13.323Z"
   },
   {
    "duration": 217,
    "start_time": "2023-01-21T12:58:13.364Z"
   },
   {
    "duration": 9,
    "start_time": "2023-01-21T12:59:35.372Z"
   },
   {
    "duration": 744,
    "start_time": "2023-01-21T13:01:11.042Z"
   },
   {
    "duration": 4,
    "start_time": "2023-01-21T13:03:42.384Z"
   },
   {
    "duration": 4,
    "start_time": "2023-01-21T13:03:44.571Z"
   },
   {
    "duration": 25,
    "start_time": "2023-01-21T13:10:02.608Z"
   },
   {
    "duration": 19,
    "start_time": "2023-01-21T13:27:07.103Z"
   },
   {
    "duration": 13576,
    "start_time": "2023-01-21T13:27:34.530Z"
   },
   {
    "duration": 767,
    "start_time": "2023-01-21T13:28:20.517Z"
   },
   {
    "duration": 832,
    "start_time": "2023-01-21T13:28:52.127Z"
   },
   {
    "duration": 76,
    "start_time": "2023-01-21T13:29:38.320Z"
   },
   {
    "duration": 429,
    "start_time": "2023-01-21T13:29:44.167Z"
   },
   {
    "duration": 573,
    "start_time": "2023-01-21T13:30:01.646Z"
   },
   {
    "duration": 438,
    "start_time": "2023-01-21T13:30:13.932Z"
   },
   {
    "duration": 910,
    "start_time": "2023-01-21T13:30:29.982Z"
   },
   {
    "duration": 34163,
    "start_time": "2023-01-21T13:30:42.030Z"
   },
   {
    "duration": 22018,
    "start_time": "2023-01-21T13:31:33.472Z"
   },
   {
    "duration": 23482,
    "start_time": "2023-01-21T13:33:19.707Z"
   },
   {
    "duration": 1004,
    "start_time": "2023-01-21T13:33:58.538Z"
   },
   {
    "duration": 951,
    "start_time": "2023-01-21T13:34:15.369Z"
   },
   {
    "duration": 781,
    "start_time": "2023-01-21T13:34:23.822Z"
   },
   {
    "duration": 816,
    "start_time": "2023-01-21T13:34:25.194Z"
   },
   {
    "duration": 828,
    "start_time": "2023-01-21T13:34:27.068Z"
   },
   {
    "duration": 34441,
    "start_time": "2023-01-21T13:36:52.555Z"
   },
   {
    "duration": 1038,
    "start_time": "2023-01-21T13:53:23.147Z"
   },
   {
    "duration": 985,
    "start_time": "2023-01-21T14:00:15.909Z"
   },
   {
    "duration": 1378,
    "start_time": "2023-01-21T14:10:19.931Z"
   },
   {
    "duration": 1267,
    "start_time": "2023-01-21T14:27:23.777Z"
   },
   {
    "duration": 60,
    "start_time": "2023-01-21T14:27:25.046Z"
   },
   {
    "duration": 19,
    "start_time": "2023-01-21T14:27:25.112Z"
   },
   {
    "duration": 74,
    "start_time": "2023-01-21T14:27:25.134Z"
   },
   {
    "duration": 1171,
    "start_time": "2023-01-21T14:27:25.210Z"
   },
   {
    "duration": 4,
    "start_time": "2023-01-21T14:27:26.383Z"
   },
   {
    "duration": 43,
    "start_time": "2023-01-21T14:27:26.393Z"
   },
   {
    "duration": 1163,
    "start_time": "2023-01-21T14:27:26.438Z"
   },
   {
    "duration": 37282,
    "start_time": "2023-01-21T14:28:18.206Z"
   },
   {
    "duration": 1076,
    "start_time": "2023-01-21T14:31:55.612Z"
   },
   {
    "duration": 866,
    "start_time": "2023-01-21T14:32:04.153Z"
   },
   {
    "duration": 561,
    "start_time": "2023-01-21T14:49:34.678Z"
   },
   {
    "duration": 193,
    "start_time": "2023-01-21T14:49:53.132Z"
   },
   {
    "duration": 203,
    "start_time": "2023-01-21T15:34:32.822Z"
   },
   {
    "duration": 70,
    "start_time": "2023-01-21T15:34:38.520Z"
   },
   {
    "duration": 81,
    "start_time": "2023-01-21T15:35:13.823Z"
   },
   {
    "duration": 110,
    "start_time": "2023-01-21T15:35:21.467Z"
   },
   {
    "duration": 134,
    "start_time": "2023-01-21T15:35:26.769Z"
   },
   {
    "duration": 76,
    "start_time": "2023-01-21T15:35:29.229Z"
   },
   {
    "duration": 68,
    "start_time": "2023-01-21T15:35:29.853Z"
   },
   {
    "duration": 1860,
    "start_time": "2023-01-21T15:35:39.906Z"
   },
   {
    "duration": 89,
    "start_time": "2023-01-21T15:35:41.770Z"
   },
   {
    "duration": 18,
    "start_time": "2023-01-21T15:35:41.863Z"
   },
   {
    "duration": 127,
    "start_time": "2023-01-21T15:35:41.884Z"
   },
   {
    "duration": 1598,
    "start_time": "2023-01-21T15:35:42.024Z"
   },
   {
    "duration": 8,
    "start_time": "2023-01-21T15:35:43.634Z"
   },
   {
    "duration": 31,
    "start_time": "2023-01-21T15:35:43.647Z"
   },
   {
    "duration": 256,
    "start_time": "2023-01-21T15:35:43.682Z"
   },
   {
    "duration": 1458,
    "start_time": "2023-01-21T15:43:34.723Z"
   },
   {
    "duration": 64,
    "start_time": "2023-01-21T15:43:36.183Z"
   },
   {
    "duration": 17,
    "start_time": "2023-01-21T15:43:36.249Z"
   },
   {
    "duration": 74,
    "start_time": "2023-01-21T15:43:36.270Z"
   },
   {
    "duration": 1224,
    "start_time": "2023-01-21T15:43:36.347Z"
   },
   {
    "duration": 4,
    "start_time": "2023-01-21T15:43:37.574Z"
   },
   {
    "duration": 60,
    "start_time": "2023-01-21T15:43:37.586Z"
   },
   {
    "duration": 109,
    "start_time": "2023-01-21T15:43:37.648Z"
   },
   {
    "duration": 1642,
    "start_time": "2023-01-21T15:43:48.963Z"
   },
   {
    "duration": 90,
    "start_time": "2023-01-21T15:43:50.614Z"
   },
   {
    "duration": 99,
    "start_time": "2023-01-21T15:43:50.714Z"
   },
   {
    "duration": 131,
    "start_time": "2023-01-21T15:43:50.816Z"
   },
   {
    "duration": 1649,
    "start_time": "2023-01-21T15:43:50.950Z"
   },
   {
    "duration": 4,
    "start_time": "2023-01-21T15:43:52.602Z"
   },
   {
    "duration": 47,
    "start_time": "2023-01-21T15:43:52.608Z"
   },
   {
    "duration": 271,
    "start_time": "2023-01-21T15:43:52.658Z"
   },
   {
    "duration": 1678,
    "start_time": "2023-01-21T15:44:14.277Z"
   },
   {
    "duration": 88,
    "start_time": "2023-01-21T15:44:15.958Z"
   },
   {
    "duration": 17,
    "start_time": "2023-01-21T15:44:16.051Z"
   },
   {
    "duration": 93,
    "start_time": "2023-01-21T15:44:16.073Z"
   },
   {
    "duration": 1387,
    "start_time": "2023-01-21T15:44:16.169Z"
   },
   {
    "duration": 5,
    "start_time": "2023-01-21T15:44:17.558Z"
   },
   {
    "duration": 9,
    "start_time": "2023-01-21T15:44:17.565Z"
   },
   {
    "duration": 102,
    "start_time": "2023-01-21T15:44:17.586Z"
   },
   {
    "duration": 1083,
    "start_time": "2023-01-22T12:59:30.598Z"
   },
   {
    "duration": 101,
    "start_time": "2023-01-22T12:59:31.683Z"
   },
   {
    "duration": 12,
    "start_time": "2023-01-22T12:59:31.785Z"
   },
   {
    "duration": 23,
    "start_time": "2023-01-22T12:59:31.799Z"
   },
   {
    "duration": 984,
    "start_time": "2023-01-22T12:59:31.824Z"
   },
   {
    "duration": 3,
    "start_time": "2023-01-22T12:59:32.810Z"
   },
   {
    "duration": 10,
    "start_time": "2023-01-22T12:59:32.815Z"
   },
   {
    "duration": 211,
    "start_time": "2023-01-22T12:59:32.827Z"
   },
   {
    "duration": 19,
    "start_time": "2023-01-22T13:32:45.047Z"
   },
   {
    "duration": 19,
    "start_time": "2023-01-22T13:32:49.697Z"
   },
   {
    "duration": 66,
    "start_time": "2023-01-22T13:47:37.580Z"
   },
   {
    "duration": 96,
    "start_time": "2023-01-22T13:48:07.648Z"
   },
   {
    "duration": 146,
    "start_time": "2023-01-22T13:48:17.801Z"
   },
   {
    "duration": 115,
    "start_time": "2023-01-22T13:48:58.322Z"
   },
   {
    "duration": 193,
    "start_time": "2023-01-22T13:49:24.457Z"
   },
   {
    "duration": 171,
    "start_time": "2023-01-22T13:49:29.868Z"
   },
   {
    "duration": 153,
    "start_time": "2023-01-22T13:49:37.384Z"
   },
   {
    "duration": 50,
    "start_time": "2023-01-22T13:49:45.566Z"
   },
   {
    "duration": 177,
    "start_time": "2023-01-22T13:50:04.460Z"
   },
   {
    "duration": 112,
    "start_time": "2023-01-22T13:50:19.830Z"
   },
   {
    "duration": 63,
    "start_time": "2023-01-22T13:51:14.174Z"
   },
   {
    "duration": 165,
    "start_time": "2023-01-22T13:51:19.879Z"
   },
   {
    "duration": 166,
    "start_time": "2023-01-22T13:51:39.972Z"
   },
   {
    "duration": 1099,
    "start_time": "2023-01-22T13:53:55.264Z"
   },
   {
    "duration": 43,
    "start_time": "2023-01-22T13:53:56.365Z"
   },
   {
    "duration": 11,
    "start_time": "2023-01-22T13:53:56.409Z"
   },
   {
    "duration": 43,
    "start_time": "2023-01-22T13:53:56.422Z"
   },
   {
    "duration": 869,
    "start_time": "2023-01-22T13:53:56.467Z"
   },
   {
    "duration": 3,
    "start_time": "2023-01-22T13:53:57.338Z"
   },
   {
    "duration": 28,
    "start_time": "2023-01-22T13:53:57.344Z"
   },
   {
    "duration": 263,
    "start_time": "2023-01-22T13:53:57.374Z"
   },
   {
    "duration": 1110,
    "start_time": "2023-01-22T18:39:01.904Z"
   },
   {
    "duration": 105,
    "start_time": "2023-01-22T18:39:03.016Z"
   },
   {
    "duration": 13,
    "start_time": "2023-01-22T18:39:03.122Z"
   },
   {
    "duration": 26,
    "start_time": "2023-01-22T18:39:03.137Z"
   },
   {
    "duration": 973,
    "start_time": "2023-01-22T18:39:03.165Z"
   },
   {
    "duration": 3,
    "start_time": "2023-01-22T18:39:04.140Z"
   },
   {
    "duration": 6,
    "start_time": "2023-01-22T18:39:04.145Z"
   },
   {
    "duration": 185,
    "start_time": "2023-01-22T18:39:04.152Z"
   }
  ],
  "kernelspec": {
   "display_name": "Python 3 (ipykernel)",
   "language": "python",
   "name": "python3"
  },
  "language_info": {
   "codemirror_mode": {
    "name": "ipython",
    "version": 3
   },
   "file_extension": ".py",
   "mimetype": "text/x-python",
   "name": "python",
   "nbconvert_exporter": "python",
   "pygments_lexer": "ipython3",
   "version": "3.10.9"
  },
  "toc": {
   "base_numbering": 1,
   "nav_menu": {},
   "number_sections": true,
   "sideBar": true,
   "skip_h1_title": true,
   "title_cell": "Содержание",
   "title_sidebar": "Contents",
   "toc_cell": true,
   "toc_position": {},
   "toc_section_display": true,
   "toc_window_display": true
  }
 },
 "nbformat": 4,
 "nbformat_minor": 2
}
