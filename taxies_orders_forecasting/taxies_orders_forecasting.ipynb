{
 "cells": [
  {
   "attachments": {},
   "cell_type": "markdown",
   "metadata": {},
   "source": [
    "#  Прогнозирование заказов такси"
   ]
  },
  {
   "attachments": {},
   "cell_type": "markdown",
   "metadata": {},
   "source": [
    "Компания «Чётенькое такси» собрала исторические данные о заказах такси в аэропортах.  \n",
    "Чтобы привлекать больше водителей в период пиковой нагрузки, нужно спрогнозировать количество заказов такси на следующий час.  \n",
    "Нужно построить модель для такого предсказания.\n",
    "\n",
    "Значение метрики *RMSE* на тестовой выборке должно быть не больше 48.\n",
    "\n",
    "Данные лежат в файле `taxi.csv`. Количество заказов находится в столбце `num_orders` (от англ. *number of orders*, «число заказов»)."
   ]
  },
  {
   "cell_type": "markdown",
   "metadata": {},
   "source": [
    "**План работ**\n",
    "\n",
    "1. Загрузить данные и выполнить их ресемплирование по одному часу.\n",
    "2. Проанализировать данные.\n",
    "3. Обучить разные модели с различными гиперпараметрами. Сделать тестовую выборку размером 10% от исходных данных.\n",
    "4. Проверить данные на тестовой выборке и сделать выводы."
   ]
  },
  {
   "attachments": {},
   "cell_type": "markdown",
   "metadata": {},
   "source": [
    "**Содержание**<a id='toc0_'></a>    \n",
    "- 1. [Подготовка](#toc1_)    \n",
    "- 2. [Анализ](#toc2_)    \n",
    "- 3. [Обучение](#toc3_)    \n",
    "  - 3.1. [Линейная регрессия](#toc3_1_)    \n",
    "  - 3.2. [Решающее дерево](#toc3_2_)    \n",
    "  - 3.3. [Случайный лес](#toc3_3_)    \n",
    "  - 3.4. [Градиентный бустинг](#toc3_4_)    \n",
    "- 4. [Тестирование](#toc4_)    \n",
    "- 5. [Общий вывод](#toc5_)    \n",
    "- 6. [Чек-лист проверки](#toc6_)    \n",
    "\n",
    "<!-- vscode-jupyter-toc-config\n",
    "\tnumbering=true\n",
    "\tanchor=true\n",
    "\tflat=false\n",
    "\tminLevel=2\n",
    "\tmaxLevel=6\n",
    "\t/vscode-jupyter-toc-config -->\n",
    "<!-- THIS CELL WILL BE REPLACED ON TOC UPDATE. DO NOT WRITE YOUR TEXT IN THIS CELL -->"
   ]
  },
  {
   "attachments": {},
   "cell_type": "markdown",
   "metadata": {},
   "source": [
    "## 1. <a id='toc1_'></a>[Подготовка](#toc0_)"
   ]
  },
  {
   "cell_type": "code",
   "execution_count": 1,
   "metadata": {},
   "outputs": [],
   "source": [
    "import pandas as pd\n",
    "import matplotlib.pyplot as plt\n",
    "\n",
    "from statsmodels.tsa.seasonal import seasonal_decompose\n",
    "\n",
    "from sklearn.model_selection import train_test_split\n",
    "from sklearn.base import BaseEstimator, TransformerMixin\n",
    "from sklearn.preprocessing import StandardScaler\n",
    "from sklearn.pipeline import Pipeline\n",
    "from sklearn.model_selection import TimeSeriesSplit\n",
    "from sklearn.metrics import mean_squared_error as mse\n",
    "\n",
    "from sklearn.tree import DecisionTreeRegressor\n",
    "from sklearn.linear_model import LinearRegression\n",
    "from sklearn.ensemble import RandomForestRegressor\n",
    "from lightgbm import LGBMRegressor\n",
    "\n",
    "from sklearn.model_selection import GridSearchCV\n",
    "from sklearn.experimental import enable_halving_search_cv\n",
    "from sklearn.model_selection import HalvingGridSearchCV"
   ]
  },
  {
   "attachments": {},
   "cell_type": "markdown",
   "metadata": {},
   "source": [
    "Первоначально загрузим данные"
   ]
  },
  {
   "cell_type": "code",
   "execution_count": 2,
   "metadata": {},
   "outputs": [],
   "source": [
    "df = pd.read_csv('taxi.csv', index_col=[0], parse_dates=[0])"
   ]
  },
  {
   "attachments": {},
   "cell_type": "markdown",
   "metadata": {},
   "source": [
    "Проверим, правильно ли отсортированы индексы"
   ]
  },
  {
   "cell_type": "code",
   "execution_count": 3,
   "metadata": {},
   "outputs": [
    {
     "data": {
      "text/plain": [
       "True"
      ]
     },
     "execution_count": 3,
     "metadata": {},
     "output_type": "execute_result"
    }
   ],
   "source": [
    "df.index.is_monotonic_increasing"
   ]
  },
  {
   "attachments": {},
   "cell_type": "markdown",
   "metadata": {},
   "source": [
    "Выполним ресемплинг данных, используя суммирование для агрегации значений"
   ]
  },
  {
   "cell_type": "code",
   "execution_count": 4,
   "metadata": {
    "scrolled": true
   },
   "outputs": [],
   "source": [
    "df = df.resample('1H').sum()"
   ]
  },
  {
   "cell_type": "code",
   "execution_count": 5,
   "metadata": {
    "scrolled": true
   },
   "outputs": [
    {
     "data": {
      "text/html": [
       "<div>\n",
       "<style scoped>\n",
       "    .dataframe tbody tr th:only-of-type {\n",
       "        vertical-align: middle;\n",
       "    }\n",
       "\n",
       "    .dataframe tbody tr th {\n",
       "        vertical-align: top;\n",
       "    }\n",
       "\n",
       "    .dataframe thead th {\n",
       "        text-align: right;\n",
       "    }\n",
       "</style>\n",
       "<table border=\"1\" class=\"dataframe\">\n",
       "  <thead>\n",
       "    <tr style=\"text-align: right;\">\n",
       "      <th></th>\n",
       "      <th>num_orders</th>\n",
       "    </tr>\n",
       "    <tr>\n",
       "      <th>datetime</th>\n",
       "      <th></th>\n",
       "    </tr>\n",
       "  </thead>\n",
       "  <tbody>\n",
       "    <tr>\n",
       "      <th>2018-03-01 00:00:00</th>\n",
       "      <td>124</td>\n",
       "    </tr>\n",
       "    <tr>\n",
       "      <th>2018-03-01 01:00:00</th>\n",
       "      <td>85</td>\n",
       "    </tr>\n",
       "    <tr>\n",
       "      <th>2018-03-01 02:00:00</th>\n",
       "      <td>71</td>\n",
       "    </tr>\n",
       "    <tr>\n",
       "      <th>2018-03-01 03:00:00</th>\n",
       "      <td>66</td>\n",
       "    </tr>\n",
       "    <tr>\n",
       "      <th>2018-03-01 04:00:00</th>\n",
       "      <td>43</td>\n",
       "    </tr>\n",
       "  </tbody>\n",
       "</table>\n",
       "</div>"
      ],
      "text/plain": [
       "                     num_orders\n",
       "datetime                       \n",
       "2018-03-01 00:00:00         124\n",
       "2018-03-01 01:00:00          85\n",
       "2018-03-01 02:00:00          71\n",
       "2018-03-01 03:00:00          66\n",
       "2018-03-01 04:00:00          43"
      ]
     },
     "execution_count": 5,
     "metadata": {},
     "output_type": "execute_result"
    }
   ],
   "source": [
    "df.head()"
   ]
  },
  {
   "cell_type": "code",
   "execution_count": 6,
   "metadata": {},
   "outputs": [
    {
     "data": {
      "text/html": [
       "<div>\n",
       "<style scoped>\n",
       "    .dataframe tbody tr th:only-of-type {\n",
       "        vertical-align: middle;\n",
       "    }\n",
       "\n",
       "    .dataframe tbody tr th {\n",
       "        vertical-align: top;\n",
       "    }\n",
       "\n",
       "    .dataframe thead th {\n",
       "        text-align: right;\n",
       "    }\n",
       "</style>\n",
       "<table border=\"1\" class=\"dataframe\">\n",
       "  <thead>\n",
       "    <tr style=\"text-align: right;\">\n",
       "      <th></th>\n",
       "      <th>num_orders</th>\n",
       "    </tr>\n",
       "  </thead>\n",
       "  <tbody>\n",
       "    <tr>\n",
       "      <th>count</th>\n",
       "      <td>4416.000000</td>\n",
       "    </tr>\n",
       "    <tr>\n",
       "      <th>mean</th>\n",
       "      <td>84.422781</td>\n",
       "    </tr>\n",
       "    <tr>\n",
       "      <th>std</th>\n",
       "      <td>45.023853</td>\n",
       "    </tr>\n",
       "    <tr>\n",
       "      <th>min</th>\n",
       "      <td>0.000000</td>\n",
       "    </tr>\n",
       "    <tr>\n",
       "      <th>25%</th>\n",
       "      <td>54.000000</td>\n",
       "    </tr>\n",
       "    <tr>\n",
       "      <th>50%</th>\n",
       "      <td>78.000000</td>\n",
       "    </tr>\n",
       "    <tr>\n",
       "      <th>75%</th>\n",
       "      <td>107.000000</td>\n",
       "    </tr>\n",
       "    <tr>\n",
       "      <th>max</th>\n",
       "      <td>462.000000</td>\n",
       "    </tr>\n",
       "  </tbody>\n",
       "</table>\n",
       "</div>"
      ],
      "text/plain": [
       "        num_orders\n",
       "count  4416.000000\n",
       "mean     84.422781\n",
       "std      45.023853\n",
       "min       0.000000\n",
       "25%      54.000000\n",
       "50%      78.000000\n",
       "75%     107.000000\n",
       "max     462.000000"
      ]
     },
     "execution_count": 6,
     "metadata": {},
     "output_type": "execute_result"
    }
   ],
   "source": [
    "df.describe()"
   ]
  },
  {
   "cell_type": "code",
   "execution_count": 7,
   "metadata": {},
   "outputs": [
    {
     "name": "stdout",
     "output_type": "stream",
     "text": [
      "<class 'pandas.core.frame.DataFrame'>\n",
      "DatetimeIndex: 4416 entries, 2018-03-01 00:00:00 to 2018-08-31 23:00:00\n",
      "Freq: H\n",
      "Data columns (total 1 columns):\n",
      " #   Column      Non-Null Count  Dtype\n",
      "---  ------      --------------  -----\n",
      " 0   num_orders  4416 non-null   int64\n",
      "dtypes: int64(1)\n",
      "memory usage: 69.0 KB\n"
     ]
    }
   ],
   "source": [
    "df.info()"
   ]
  },
  {
   "attachments": {},
   "cell_type": "markdown",
   "metadata": {},
   "source": [
    "Разделим данные на обучающую и тестовую выборки"
   ]
  },
  {
   "cell_type": "code",
   "execution_count": 8,
   "metadata": {},
   "outputs": [],
   "source": [
    "train, test = train_test_split(df, test_size=0.1, shuffle=False, random_state=9349)"
   ]
  },
  {
   "attachments": {},
   "cell_type": "markdown",
   "metadata": {},
   "source": [
    "Для работы pipeline реализуем класс, создающий признаки: день, месяц, день недели, час, заданное количество лагов (предыдущих значений целевого признака), скользящее среднее. Возникшие пропуски заполняем медианой."
   ]
  },
  {
   "cell_type": "code",
   "execution_count": 9,
   "metadata": {},
   "outputs": [],
   "source": [
    "class TimeSeriesFeaturesMaker(BaseEstimator, TransformerMixin):\n",
    "    def __init__(self, max_lag=1, rolling_mean_size=2):\n",
    "        self.max_lag = max_lag\n",
    "        self.rolling_mean_size = rolling_mean_size\n",
    "        \n",
    "    def fit(self, X=None, y=None):\n",
    "        return self\n",
    "    \n",
    "    def transform(self, X, y=None):\n",
    "        new_X = X.copy()\n",
    "        new_X['month'] = X.index.month\n",
    "        new_X['day'] = X.index.day\n",
    "        new_X['dayofweek'] = X.index.dayofweek\n",
    "        new_X['hour'] = X.index.hour\n",
    "        \n",
    "        for lag in range(1, self.max_lag+1):\n",
    "            new_X[f'lag_{lag}'] = X.iloc[:, 0].shift(lag)\n",
    "        \n",
    "        new_X['rolling_mean'] = X.iloc[:, 0].shift().rolling(self.rolling_mean_size).mean()\n",
    "        \n",
    "        new_X = new_X.fillna(X.iloc[:, 0].median())\\\n",
    "                     .drop(X.columns[[0]], axis=1).dropna()\n",
    "        return new_X"
   ]
  },
  {
   "attachments": {},
   "cell_type": "markdown",
   "metadata": {},
   "source": [
    "Для проверки правильности реализации класса `TimeSeriesFeaturesMaker` сравним его с другим методом предобработки - созданием признаков с помощью функции - на примере решающего дерева."
   ]
  },
  {
   "cell_type": "code",
   "execution_count": 10,
   "metadata": {},
   "outputs": [
    {
     "data": {
      "text/plain": [
       "48.10944813651472"
      ]
     },
     "execution_count": 10,
     "metadata": {},
     "output_type": "execute_result"
    }
   ],
   "source": [
    "pipeline = Pipeline(steps=[\n",
    "    ('features_maker', TimeSeriesFeaturesMaker(1, 2)),\n",
    "    ('model', DecisionTreeRegressor(random_state=42))\n",
    "])\n",
    "\n",
    "pipeline.fit(df[:-1000], df[:-1000])\n",
    "predictions = pipeline.predict(df[-1000:])\n",
    "mse(df[-1000:], predictions)**0.5"
   ]
  },
  {
   "cell_type": "code",
   "execution_count": 11,
   "metadata": {},
   "outputs": [
    {
     "data": {
      "text/plain": [
       "48.10944813651472"
      ]
     },
     "execution_count": 11,
     "metadata": {},
     "output_type": "execute_result"
    }
   ],
   "source": [
    "def transform(X, max_lag, rolling_mean_size):\n",
    "    new_X = X.copy()\n",
    "    new_X['month'] = X.index.month\n",
    "    new_X['day'] = X.index.day\n",
    "    new_X['dayofweek'] = X.index.dayofweek\n",
    "    new_X['hour'] = X.index.hour\n",
    "\n",
    "    for lag in range(1, max_lag+1):\n",
    "        new_X[f'lag_{lag}'] = X.iloc[:, 0].shift(lag)\n",
    "\n",
    "    new_X['rolling_mean'] = X.iloc[:, 0].shift().rolling(rolling_mean_size).mean()\n",
    "\n",
    "    new_X = new_X.fillna(X.iloc[:, 0].median())\\\n",
    "                 .drop(X.columns[[0]], axis=1).dropna()\n",
    "    return new_X\n",
    "\n",
    "\n",
    "model = DecisionTreeRegressor(random_state=42)\n",
    "model.fit(transform(df[:-1000], 1, 2), df[:-1000])\n",
    "predictions = model.predict(transform(df[-1000:], 1, 2))\n",
    "mse(df[-1000:], predictions)**0.5"
   ]
  },
  {
   "attachments": {},
   "cell_type": "markdown",
   "metadata": {},
   "source": [
    "Значения метрик совпали - класс написан верно."
   ]
  },
  {
   "attachments": {},
   "cell_type": "markdown",
   "metadata": {},
   "source": [
    "**Вывод по разделу 1:**\n",
    "\n",
    "- Данные загружены, проведён ресемплинг по одному часу\n",
    "- Датафрейм разбит на обучающую и тестовую выборки в соотношении 9:1\n",
    "- Реализован и протестирован класс, создающий признаки для временного ряда"
   ]
  },
  {
   "attachments": {},
   "cell_type": "markdown",
   "metadata": {},
   "source": [
    "## 2. <a id='toc2_'></a>[Анализ](#toc0_)"
   ]
  },
  {
   "attachments": {},
   "cell_type": "markdown",
   "metadata": {},
   "source": [
    "Построим график временного ряда, а также скользящее среднее и скользящее СКО за каждые сутки"
   ]
  },
  {
   "cell_type": "code",
   "execution_count": 12,
   "metadata": {},
   "outputs": [
    {
     "data": {
      "image/png": "[encoded data removed]",
      "text/plain": [
       "<Figure size 1500x500 with 1 Axes>"
      ]
     },
     "metadata": {},
     "output_type": "display_data"
    }
   ],
   "source": [
    "fig, ax = plt.subplots(figsize=(15, 5))\n",
    "df.plot(ax=ax)\n",
    "df.rolling(24).mean().plot(ax=ax);\n",
    "df.rolling(24).std().plot(ax=ax, color='r')\n",
    "plt.legend(['num_orders', 'rolling_mean', 'rolling_std']);"
   ]
  },
  {
   "attachments": {},
   "cell_type": "markdown",
   "metadata": {},
   "source": [
    "Из графика видно, что количество заказов со временем возрастает.\n",
    "\n",
    "Теперь выделим из данных тренд и сезонность и рассмотрим их графики"
   ]
  },
  {
   "cell_type": "code",
   "execution_count": 13,
   "metadata": {},
   "outputs": [
    {
     "data": {
      "image/png": "[encoded data removed]",
      "text/plain": [
       "<Figure size 1500x1000 with 3 Axes>"
      ]
     },
     "metadata": {},
     "output_type": "display_data"
    }
   ],
   "source": [
    "decomposed = seasonal_decompose(df)\n",
    "fig, ax = plt.subplots(nrows=3, figsize=(15, 10))\n",
    "decomposed.trend.plot(ax=ax[0])\n",
    "decomposed.seasonal.plot(ax=ax[1])\n",
    "decomposed.resid.plot(ax=ax[2]);"
   ]
  },
  {
   "attachments": {},
   "cell_type": "markdown",
   "metadata": {},
   "source": [
    "Увеличение числа заказов чётко заметно на линии тренда. Для анализа сезонности необходимо рассмотреть более узкий промежуток времени. На графике остатков заметны выбросы в сентябре."
   ]
  },
  {
   "cell_type": "code",
   "execution_count": 14,
   "metadata": {},
   "outputs": [
    {
     "data": {
      "image/png": "[encoded data removed]",
      "text/plain": [
       "<Figure size 1500x500 with 1 Axes>"
      ]
     },
     "metadata": {},
     "output_type": "display_data"
    }
   ],
   "source": [
    "few_days_df = decomposed.seasonal['2018-03-01':'2018-03-02']\n",
    "few_days_df.plot(figsize=(15, 5));"
   ]
  },
  {
   "attachments": {},
   "cell_type": "markdown",
   "metadata": {},
   "source": [
    "Наибольшее число заказов такси наблюдается около полуночи и 5 часов дня, минимум - с 5 до 7 утра"
   ]
  },
  {
   "attachments": {},
   "cell_type": "markdown",
   "metadata": {},
   "source": [
    "**Вывод по разделу 2:**\n",
    "- Количество заказов такси постепенно увеличивается\n",
    "- Наблюдаются ежедневные циклы, причём наибольшее число заказов такси наблюдается около полуночи и 5 часов дня, минимум - с 5 до 7 утра"
   ]
  },
  {
   "attachments": {},
   "cell_type": "markdown",
   "metadata": {},
   "source": [
    "## 3. <a id='toc3_'></a>[Обучение](#toc0_)"
   ]
  },
  {
   "attachments": {},
   "cell_type": "markdown",
   "metadata": {},
   "source": [
    "### 3.1. <a id='toc3_1_'></a>[Линейная регрессия](#toc0_)"
   ]
  },
  {
   "attachments": {},
   "cell_type": "markdown",
   "metadata": {},
   "source": [
    "Сначала попробуем использовать модель линейной регрессии. В пайплайн добавим также масштабирование данных.\n",
    "\n",
    "Для подбора наилучших значений параметров `max_lag` и `rolling_mean_size` используем поиск по сетке, для кросс-валидации - `TimeSeriesSplit`."
   ]
  },
  {
   "cell_type": "code",
   "execution_count": 15,
   "metadata": {},
   "outputs": [],
   "source": [
    "linear_pipeline = Pipeline(steps=[\n",
    "    ('features_maker', TimeSeriesFeaturesMaker(1, 1)),\n",
    "    ('scaler', StandardScaler()),\n",
    "    ('model', LinearRegression())\n",
    "])\n",
    "\n",
    "ts_cv = TimeSeriesSplit(n_splits=4, gap=0)\n",
    "\n",
    "params = {\n",
    "    'features_maker__max_lag' : list(range(1, 8)),\n",
    "    'features_maker__rolling_mean_size' : list(range(1, 10)),\n",
    "    'scaler' : [StandardScaler(), None]\n",
    "}\n",
    "\n",
    "linear_grid = GridSearchCV(linear_pipeline, params,\n",
    "                           scoring='neg_root_mean_squared_error', cv=ts_cv, verbose=1, n_jobs=-1)"
   ]
  },
  {
   "cell_type": "code",
   "execution_count": 16,
   "metadata": {
    "collapsed": true
   },
   "outputs": [
    {
     "name": "stdout",
     "output_type": "stream",
     "text": [
      "Fitting 4 folds for each of 126 candidates, totalling 504 fits\n",
      "CPU times: user 25.8 s, sys: 17.2 s, total: 42.9 s\n",
      "Wall time: 43.1 s\n"
     ]
    },
    {
     "data": {
      "text/plain": [
       "GridSearchCV(cv=TimeSeriesSplit(gap=0, max_train_size=None, n_splits=4, test_size=None),\n",
       "             estimator=Pipeline(steps=[('features_maker',\n",
       "                                        TimeSeriesFeaturesMaker(rolling_mean_size=1)),\n",
       "                                       ('scaler', StandardScaler()),\n",
       "                                       ('model', LinearRegression())]),\n",
       "             n_jobs=-1,\n",
       "             param_grid={'features_maker__max_lag': [1, 2, 3, 4, 5, 6, 7],\n",
       "                         'features_maker__rolling_mean_size': [1, 2, 3, 4, 5, 6,\n",
       "                                                               7, 8, 9],\n",
       "                         'scaler': [StandardScaler(), None]},\n",
       "             scoring='neg_root_mean_squared_error', verbose=1)"
      ]
     },
     "execution_count": 16,
     "metadata": {},
     "output_type": "execute_result"
    }
   ],
   "source": [
    "%%time\n",
    "linear_grid.fit(train, train);"
   ]
  },
  {
   "cell_type": "code",
   "execution_count": 17,
   "metadata": {},
   "outputs": [
    {
     "name": "stdout",
     "output_type": "stream",
     "text": [
      "Значение RMSE, время обучения и время оценки и при различных гиперпараметрах:\n",
      "     mean_test_score  mean_fit_time  mean_score_time\n",
      "0         -31.857318       0.017231         0.024851\n",
      "1         -31.862500       0.026311         0.010778\n",
      "2         -31.875209       0.035341         0.010388\n",
      "3         -31.875209       0.022586         0.022590\n",
      "4         -31.904512       0.013719         0.035416\n",
      "..               ...            ...              ...\n",
      "121       -31.928827       0.140335         0.037450\n",
      "122       -31.927935       0.182819         0.035551\n",
      "123       -31.927935       0.107454         0.096185\n",
      "124       -31.893483       0.168235         0.054702\n",
      "125       -31.893483       0.165530         0.079250\n",
      "\n",
      "[126 rows x 3 columns]\n",
      "\n",
      "Лучшие гиперпараметры:\n",
      " {'features_maker__max_lag': 2, 'features_maker__rolling_mean_size': 4, 'scaler': StandardScaler()}\n",
      "Лучшее значение RMSE: 31.72793755989536\n"
     ]
    }
   ],
   "source": [
    "print('Значение RMSE, время обучения и время оценки при различных гиперпараметрах:')\n",
    "print(pd.DataFrame(linear_grid.cv_results_)[['mean_test_score', 'mean_fit_time', 'mean_score_time']])\n",
    "print('\\nЛучшие гиперпараметры:\\n', linear_grid.best_params_)\n",
    "print('Лучшее значение RMSE:', -linear_grid.best_score_)"
   ]
  },
  {
   "attachments": {},
   "cell_type": "markdown",
   "metadata": {},
   "source": [
    "Линейная регрессия даёт наилучший результат при `max_lag` = 2 и `rolling_mean_size` = 4. При этом RMSE = 31.72"
   ]
  },
  {
   "attachments": {},
   "cell_type": "markdown",
   "metadata": {},
   "source": [
    "### 3.2. <a id='toc3_2_'></a>[Решающее дерево](#toc0_)"
   ]
  },
  {
   "attachments": {},
   "cell_type": "markdown",
   "metadata": {},
   "source": [
    "Теперь обучим модель решающего дерева. Для подбора гиперпараметров используем поиск по сетке."
   ]
  },
  {
   "cell_type": "code",
   "execution_count": 18,
   "metadata": {},
   "outputs": [],
   "source": [
    "tree_pipeline = Pipeline(steps=[\n",
    "    ('features_maker', TimeSeriesFeaturesMaker(1, 1)),\n",
    "    ('scaler', StandardScaler()),\n",
    "    ('model', DecisionTreeRegressor(random_state=42))\n",
    "])\n",
    "\n",
    "params = {\n",
    "    'features_maker__max_lag' : list(range(1, 8, 2)),\n",
    "    'features_maker__rolling_mean_size' : list(range(1, 5)),\n",
    "    'scaler' : [StandardScaler(), None],\n",
    "    'model__max_depth' : list(range(4, 15, 3)),\n",
    "    'model__min_samples_split' : list(range(8, 20, 4)),\n",
    "    'model__min_samples_leaf' : list(range(8, 20, 4))\n",
    "}\n",
    "\n",
    "tree_grid = GridSearchCV(tree_pipeline, param_grid=params,\n",
    "                         scoring='neg_root_mean_squared_error', cv=ts_cv, verbose=1, n_jobs=-1)"
   ]
  },
  {
   "cell_type": "code",
   "execution_count": 19,
   "metadata": {
    "collapsed": true
   },
   "outputs": [
    {
     "name": "stdout",
     "output_type": "stream",
     "text": [
      "Fitting 4 folds for each of 1152 candidates, totalling 4608 fits\n",
      "CPU times: user 2min 20s, sys: 692 ms, total: 2min 20s\n",
      "Wall time: 2min 20s\n"
     ]
    },
    {
     "data": {
      "text/plain": [
       "GridSearchCV(cv=TimeSeriesSplit(gap=0, max_train_size=None, n_splits=4, test_size=None),\n",
       "             estimator=Pipeline(steps=[('features_maker',\n",
       "                                        TimeSeriesFeaturesMaker(rolling_mean_size=1)),\n",
       "                                       ('scaler', StandardScaler()),\n",
       "                                       ('model',\n",
       "                                        DecisionTreeRegressor(random_state=42))]),\n",
       "             n_jobs=-1,\n",
       "             param_grid={'features_maker__max_lag': [1, 3, 5, 7],\n",
       "                         'features_maker__rolling_mean_size': [1, 2, 3, 4],\n",
       "                         'model__max_depth': [4, 7, 10, 13],\n",
       "                         'model__min_samples_leaf': [8, 12, 16],\n",
       "                         'model__min_samples_split': [8, 12, 16],\n",
       "                         'scaler': [StandardScaler(), None]},\n",
       "             scoring='neg_root_mean_squared_error', verbose=1)"
      ]
     },
     "execution_count": 19,
     "metadata": {},
     "output_type": "execute_result"
    }
   ],
   "source": [
    "%%time\n",
    "tree_grid.fit(train, train);"
   ]
  },
  {
   "cell_type": "code",
   "execution_count": 20,
   "metadata": {
    "scrolled": true
   },
   "outputs": [
    {
     "name": "stdout",
     "output_type": "stream",
     "text": [
      "Значение RMSE, время обучения и время оценки и при различных гиперпараметрах:\n",
      "      mean_test_score  mean_fit_time  mean_score_time\n",
      "0          -32.225776       0.016842         0.021214\n",
      "1          -32.225776       0.016193         0.009952\n",
      "2          -32.225776       0.015763         0.010452\n",
      "3          -32.225776       0.013750         0.009692\n",
      "4          -32.225776       0.014762         0.009851\n",
      "...               ...            ...              ...\n",
      "1147       -29.280138       0.021443         0.012900\n",
      "1148       -29.306627       0.023625         0.012406\n",
      "1149       -29.280138       0.020689         0.012104\n",
      "1150       -29.306627       0.022329         0.011892\n",
      "1151       -29.280138       0.022912         0.012981\n",
      "\n",
      "[1152 rows x 3 columns]\n",
      "\n",
      "Лучшие гиперпараметры:\n",
      " {'features_maker__max_lag': 1, 'features_maker__rolling_mean_size': 4, 'model__max_depth': 10, 'model__min_samples_leaf': 12, 'model__min_samples_split': 8, 'scaler': StandardScaler()}\n",
      "Лучшее значение RMSE: 27.536376754843698\n"
     ]
    }
   ],
   "source": [
    "print('Значение RMSE, время обучения и время оценки при различных гиперпараметрах:')\n",
    "print(pd.DataFrame(tree_grid.cv_results_)[['mean_test_score', 'mean_fit_time', 'mean_score_time']])\n",
    "print('\\nЛучшие гиперпараметры:\\n', tree_grid.best_params_)\n",
    "print('Лучшее значение RMSE:', -tree_grid.best_score_)"
   ]
  },
  {
   "attachments": {},
   "cell_type": "markdown",
   "metadata": {},
   "source": [
    "Решающее дерево показыает себя лучше линейной регрессии: RMSE = 27.53 при оптимальных гиперпараметрах."
   ]
  },
  {
   "attachments": {},
   "cell_type": "markdown",
   "metadata": {},
   "source": [
    "### 3.3. <a id='toc3_3_'></a>[Случайный лес](#toc0_)"
   ]
  },
  {
   "attachments": {},
   "cell_type": "markdown",
   "metadata": {},
   "source": [
    "Теперь обучим случайный лес. Вместо обычного поиска по сетке используем HalvingGridSearchCV, выбрав в качестве ресурса колиество деревьев."
   ]
  },
  {
   "cell_type": "code",
   "execution_count": 21,
   "metadata": {},
   "outputs": [],
   "source": [
    "rf_pipeline = Pipeline(steps=[\n",
    "    ('features_maker', TimeSeriesFeaturesMaker(1, 1)),\n",
    "    ('scaler', StandardScaler()),\n",
    "    ('model', RandomForestRegressor(random_state=42))\n",
    "])\n",
    "\n",
    "params = {\n",
    "    'features_maker__max_lag' : [1, 2],\n",
    "    'features_maker__rolling_mean_size' : [3, 4, 5],\n",
    "    'model__max_depth' : [8, 10, 12],\n",
    "    'model__min_samples_split' : [8, 10],\n",
    "    'model__min_samples_leaf' : [12, 15]\n",
    "}\n",
    "\n",
    "rf_grid  = HalvingGridSearchCV(rf_pipeline, params, scoring='neg_root_mean_squared_error',\n",
    "                                  cv=ts_cv, verbose=3, n_jobs=-1, max_resources=250, factor=3,\n",
    "                                  resource='model__n_estimators')"
   ]
  },
  {
   "cell_type": "code",
   "execution_count": 22,
   "metadata": {
    "collapsed": true
   },
   "outputs": [
    {
     "name": "stdout",
     "output_type": "stream",
     "text": [
      "n_iterations: 4\n",
      "n_required_iterations: 4\n",
      "n_possible_iterations: 4\n",
      "min_resources_: 9\n",
      "max_resources_: 250\n",
      "aggressive_elimination: False\n",
      "factor: 3\n",
      "----------\n",
      "iter: 0\n",
      "n_candidates: 72\n",
      "n_resources: 9\n",
      "Fitting 4 folds for each of 72 candidates, totalling 288 fits\n",
      "[CV 1/4] END features_maker__max_lag=1, features_maker__rolling_mean_size=3, model__max_depth=8, model__min_samples_leaf=12, model__min_samples_split=8, model__n_estimators=9; total time=   0.1s\n",
      "[CV 2/4] END features_maker__max_lag=1, features_maker__rolling_mean_size=3, model__max_depth=8, model__min_samples_leaf=12, model__min_samples_split=8, model__n_estimators=9; total time=   0.1s\n",
      "[CV 3/4] END features_maker__max_lag=1, features_maker__rolling_mean_size=3, model__max_depth=8, model__min_samples_leaf=12, model__min_samples_split=8, model__n_estimators=9; total time=   0.1s\n",
      "[CV 4/4] END features_maker__max_lag=1, features_maker__rolling_mean_size=3, model__max_depth=8, model__min_samples_leaf=12, model__min_samples_split=8, model__n_estimators=9; total time=   0.1s\n",
      "[CV 1/4] END features_maker__max_lag=1, features_maker__rolling_mean_size=3, model__max_depth=8, model__min_samples_leaf=12, model__min_samples_split=10, model__n_estimators=9; total time=   0.0s\n",
      "[CV 2/4] END features_maker__max_lag=1, features_maker__rolling_mean_size=3, model__max_depth=8, model__min_samples_leaf=12, model__min_samples_split=10, model__n_estimators=9; total time=   0.0s\n",
      "[CV 3/4] END features_maker__max_lag=1, features_maker__rolling_mean_size=3, model__max_depth=8, model__min_samples_leaf=12, model__min_samples_split=10, model__n_estimators=9; total time=   0.0s\n",
      "[CV 4/4] END features_maker__max_lag=1, features_maker__rolling_mean_size=3, model__max_depth=8, model__min_samples_leaf=12, model__min_samples_split=10, model__n_estimators=9; total time=   0.1s\n",
      "[CV 1/4] END features_maker__max_lag=1, features_maker__rolling_mean_size=3, model__max_depth=8, model__min_samples_leaf=15, model__min_samples_split=8, model__n_estimators=9; total time=   0.0s\n",
      "[CV 2/4] END features_maker__max_lag=1, features_maker__rolling_mean_size=3, model__max_depth=8, model__min_samples_leaf=15, model__min_samples_split=8, model__n_estimators=9; total time=   0.0s\n",
      "[CV 3/4] END features_maker__max_lag=1, features_maker__rolling_mean_size=3, model__max_depth=8, model__min_samples_leaf=15, model__min_samples_split=8, model__n_estimators=9; total time=   0.1s\n",
      "[CV 4/4] END features_maker__max_lag=1, features_maker__rolling_mean_size=3, model__max_depth=8, model__min_samples_leaf=15, model__min_samples_split=8, model__n_estimators=9; total time=   0.1s\n",
      "[CV 1/4] END features_maker__max_lag=1, features_maker__rolling_mean_size=3, model__max_depth=8, model__min_samples_leaf=15, model__min_samples_split=10, model__n_estimators=9; total time=   0.0s\n",
      "[CV 2/4] END features_maker__max_lag=1, features_maker__rolling_mean_size=3, model__max_depth=8, model__min_samples_leaf=15, model__min_samples_split=10, model__n_estimators=9; total time=   0.0s\n",
      "[CV 3/4] END features_maker__max_lag=1, features_maker__rolling_mean_size=3, model__max_depth=8, model__min_samples_leaf=15, model__min_samples_split=10, model__n_estimators=9; total time=   0.0s\n",
      "[CV 4/4] END features_maker__max_lag=1, features_maker__rolling_mean_size=3, model__max_depth=8, model__min_samples_leaf=15, model__min_samples_split=10, model__n_estimators=9; total time=   0.1s\n",
      "[CV 1/4] END features_maker__max_lag=1, features_maker__rolling_mean_size=3, model__max_depth=10, model__min_samples_leaf=12, model__min_samples_split=8, model__n_estimators=9; total time=   0.0s\n",
      "[CV 2/4] END features_maker__max_lag=1, features_maker__rolling_mean_size=3, model__max_depth=10, model__min_samples_leaf=12, model__min_samples_split=8, model__n_estimators=9; total time=   0.0s\n",
      "[CV 3/4] END features_maker__max_lag=1, features_maker__rolling_mean_size=3, model__max_depth=10, model__min_samples_leaf=12, model__min_samples_split=8, model__n_estimators=9; total time=   0.1s\n",
      "[CV 4/4] END features_maker__max_lag=1, features_maker__rolling_mean_size=3, model__max_depth=10, model__min_samples_leaf=12, model__min_samples_split=8, model__n_estimators=9; total time=   0.1s\n",
      "[CV 1/4] END features_maker__max_lag=1, features_maker__rolling_mean_size=3, model__max_depth=10, model__min_samples_leaf=12, model__min_samples_split=10, model__n_estimators=9; total time=   0.0s\n",
      "[CV 2/4] END features_maker__max_lag=1, features_maker__rolling_mean_size=3, model__max_depth=10, model__min_samples_leaf=12, model__min_samples_split=10, model__n_estimators=9; total time=   0.0s\n",
      "[CV 3/4] END features_maker__max_lag=1, features_maker__rolling_mean_size=3, model__max_depth=10, model__min_samples_leaf=12, model__min_samples_split=10, model__n_estimators=9; total time=   0.1s\n",
      "[CV 4/4] END features_maker__max_lag=1, features_maker__rolling_mean_size=3, model__max_depth=10, model__min_samples_leaf=12, model__min_samples_split=10, model__n_estimators=9; total time=   0.1s\n",
      "[CV 1/4] END features_maker__max_lag=1, features_maker__rolling_mean_size=3, model__max_depth=10, model__min_samples_leaf=15, model__min_samples_split=8, model__n_estimators=9; total time=   0.0s\n",
      "[CV 2/4] END features_maker__max_lag=1, features_maker__rolling_mean_size=3, model__max_depth=10, model__min_samples_leaf=15, model__min_samples_split=8, model__n_estimators=9; total time=   0.1s\n",
      "[CV 3/4] END features_maker__max_lag=1, features_maker__rolling_mean_size=3, model__max_depth=10, model__min_samples_leaf=15, model__min_samples_split=8, model__n_estimators=9; total time=   0.1s\n",
      "[CV 4/4] END features_maker__max_lag=1, features_maker__rolling_mean_size=3, model__max_depth=10, model__min_samples_leaf=15, model__min_samples_split=8, model__n_estimators=9; total time=   0.1s\n",
      "[CV 1/4] END features_maker__max_lag=1, features_maker__rolling_mean_size=3, model__max_depth=10, model__min_samples_leaf=15, model__min_samples_split=10, model__n_estimators=9; total time=   0.0s\n",
      "[CV 2/4] END features_maker__max_lag=1, features_maker__rolling_mean_size=3, model__max_depth=10, model__min_samples_leaf=15, model__min_samples_split=10, model__n_estimators=9; total time=   0.0s\n",
      "[CV 3/4] END features_maker__max_lag=1, features_maker__rolling_mean_size=3, model__max_depth=10, model__min_samples_leaf=15, model__min_samples_split=10, model__n_estimators=9; total time=   0.1s\n",
      "[CV 4/4] END features_maker__max_lag=1, features_maker__rolling_mean_size=3, model__max_depth=10, model__min_samples_leaf=15, model__min_samples_split=10, model__n_estimators=9; total time=   0.1s\n",
      "[CV 1/4] END features_maker__max_lag=1, features_maker__rolling_mean_size=3, model__max_depth=12, model__min_samples_leaf=12, model__min_samples_split=8, model__n_estimators=9; total time=   0.0s\n",
      "[CV 2/4] END features_maker__max_lag=1, features_maker__rolling_mean_size=3, model__max_depth=12, model__min_samples_leaf=12, model__min_samples_split=8, model__n_estimators=9; total time=   0.0s\n",
      "[CV 3/4] END features_maker__max_lag=1, features_maker__rolling_mean_size=3, model__max_depth=12, model__min_samples_leaf=12, model__min_samples_split=8, model__n_estimators=9; total time=   0.1s\n",
      "[CV 4/4] END features_maker__max_lag=1, features_maker__rolling_mean_size=3, model__max_depth=12, model__min_samples_leaf=12, model__min_samples_split=8, model__n_estimators=9; total time=   0.1s\n",
      "[CV 1/4] END features_maker__max_lag=1, features_maker__rolling_mean_size=3, model__max_depth=12, model__min_samples_leaf=12, model__min_samples_split=10, model__n_estimators=9; total time=   0.0s\n",
      "[CV 2/4] END features_maker__max_lag=1, features_maker__rolling_mean_size=3, model__max_depth=12, model__min_samples_leaf=12, model__min_samples_split=10, model__n_estimators=9; total time=   0.0s\n",
      "[CV 3/4] END features_maker__max_lag=1, features_maker__rolling_mean_size=3, model__max_depth=12, model__min_samples_leaf=12, model__min_samples_split=10, model__n_estimators=9; total time=   0.1s\n",
      "[CV 4/4] END features_maker__max_lag=1, features_maker__rolling_mean_size=3, model__max_depth=12, model__min_samples_leaf=12, model__min_samples_split=10, model__n_estimators=9; total time=   0.1s\n",
      "[CV 1/4] END features_maker__max_lag=1, features_maker__rolling_mean_size=3, model__max_depth=12, model__min_samples_leaf=15, model__min_samples_split=8, model__n_estimators=9; total time=   0.0s\n",
      "[CV 2/4] END features_maker__max_lag=1, features_maker__rolling_mean_size=3, model__max_depth=12, model__min_samples_leaf=15, model__min_samples_split=8, model__n_estimators=9; total time=   0.0s\n",
      "[CV 3/4] END features_maker__max_lag=1, features_maker__rolling_mean_size=3, model__max_depth=12, model__min_samples_leaf=15, model__min_samples_split=8, model__n_estimators=9; total time=   0.1s\n",
      "[CV 4/4] END features_maker__max_lag=1, features_maker__rolling_mean_size=3, model__max_depth=12, model__min_samples_leaf=15, model__min_samples_split=8, model__n_estimators=9; total time=   0.1s\n",
      "[CV 1/4] END features_maker__max_lag=1, features_maker__rolling_mean_size=3, model__max_depth=12, model__min_samples_leaf=15, model__min_samples_split=10, model__n_estimators=9; total time=   0.0s\n",
      "[CV 2/4] END features_maker__max_lag=1, features_maker__rolling_mean_size=3, model__max_depth=12, model__min_samples_leaf=15, model__min_samples_split=10, model__n_estimators=9; total time=   0.0s\n",
      "[CV 3/4] END features_maker__max_lag=1, features_maker__rolling_mean_size=3, model__max_depth=12, model__min_samples_leaf=15, model__min_samples_split=10, model__n_estimators=9; total time=   0.1s\n",
      "[CV 4/4] END features_maker__max_lag=1, features_maker__rolling_mean_size=3, model__max_depth=12, model__min_samples_leaf=15, model__min_samples_split=10, model__n_estimators=9; total time=   0.1s\n",
      "[CV 1/4] END features_maker__max_lag=1, features_maker__rolling_mean_size=4, model__max_depth=8, model__min_samples_leaf=12, model__min_samples_split=8, model__n_estimators=9; total time=   0.0s\n",
      "[CV 2/4] END features_maker__max_lag=1, features_maker__rolling_mean_size=4, model__max_depth=8, model__min_samples_leaf=12, model__min_samples_split=8, model__n_estimators=9; total time=   0.0s\n",
      "[CV 3/4] END features_maker__max_lag=1, features_maker__rolling_mean_size=4, model__max_depth=8, model__min_samples_leaf=12, model__min_samples_split=8, model__n_estimators=9; total time=   0.1s\n",
      "[CV 4/4] END features_maker__max_lag=1, features_maker__rolling_mean_size=4, model__max_depth=8, model__min_samples_leaf=12, model__min_samples_split=8, model__n_estimators=9; total time=   0.1s\n",
      "[CV 1/4] END features_maker__max_lag=1, features_maker__rolling_mean_size=4, model__max_depth=8, model__min_samples_leaf=12, model__min_samples_split=10, model__n_estimators=9; total time=   0.0s\n",
      "[CV 2/4] END features_maker__max_lag=1, features_maker__rolling_mean_size=4, model__max_depth=8, model__min_samples_leaf=12, model__min_samples_split=10, model__n_estimators=9; total time=   0.0s\n",
      "[CV 3/4] END features_maker__max_lag=1, features_maker__rolling_mean_size=4, model__max_depth=8, model__min_samples_leaf=12, model__min_samples_split=10, model__n_estimators=9; total time=   0.0s\n",
      "[CV 4/4] END features_maker__max_lag=1, features_maker__rolling_mean_size=4, model__max_depth=8, model__min_samples_leaf=12, model__min_samples_split=10, model__n_estimators=9; total time=   0.1s\n",
      "[CV 1/4] END features_maker__max_lag=1, features_maker__rolling_mean_size=4, model__max_depth=8, model__min_samples_leaf=15, model__min_samples_split=8, model__n_estimators=9; total time=   0.0s\n",
      "[CV 2/4] END features_maker__max_lag=1, features_maker__rolling_mean_size=4, model__max_depth=8, model__min_samples_leaf=15, model__min_samples_split=8, model__n_estimators=9; total time=   0.0s\n",
      "[CV 3/4] END features_maker__max_lag=1, features_maker__rolling_mean_size=4, model__max_depth=8, model__min_samples_leaf=15, model__min_samples_split=8, model__n_estimators=9; total time=   0.0s\n",
      "[CV 4/4] END features_maker__max_lag=1, features_maker__rolling_mean_size=4, model__max_depth=8, model__min_samples_leaf=15, model__min_samples_split=8, model__n_estimators=9; total time=   0.1s\n",
      "[CV 1/4] END features_maker__max_lag=1, features_maker__rolling_mean_size=4, model__max_depth=8, model__min_samples_leaf=15, model__min_samples_split=10, model__n_estimators=9; total time=   0.0s\n",
      "[CV 2/4] END features_maker__max_lag=1, features_maker__rolling_mean_size=4, model__max_depth=8, model__min_samples_leaf=15, model__min_samples_split=10, model__n_estimators=9; total time=   0.0s\n",
      "[CV 3/4] END features_maker__max_lag=1, features_maker__rolling_mean_size=4, model__max_depth=8, model__min_samples_leaf=15, model__min_samples_split=10, model__n_estimators=9; total time=   0.1s\n",
      "[CV 4/4] END features_maker__max_lag=1, features_maker__rolling_mean_size=4, model__max_depth=8, model__min_samples_leaf=15, model__min_samples_split=10, model__n_estimators=9; total time=   0.1s\n",
      "[CV 1/4] END features_maker__max_lag=1, features_maker__rolling_mean_size=4, model__max_depth=10, model__min_samples_leaf=12, model__min_samples_split=8, model__n_estimators=9; total time=   0.0s\n",
      "[CV 2/4] END features_maker__max_lag=1, features_maker__rolling_mean_size=4, model__max_depth=10, model__min_samples_leaf=12, model__min_samples_split=8, model__n_estimators=9; total time=   0.0s\n",
      "[CV 3/4] END features_maker__max_lag=1, features_maker__rolling_mean_size=4, model__max_depth=10, model__min_samples_leaf=12, model__min_samples_split=8, model__n_estimators=9; total time=   0.1s\n",
      "[CV 4/4] END features_maker__max_lag=1, features_maker__rolling_mean_size=4, model__max_depth=10, model__min_samples_leaf=12, model__min_samples_split=8, model__n_estimators=9; total time=   0.1s\n",
      "[CV 1/4] END features_maker__max_lag=1, features_maker__rolling_mean_size=4, model__max_depth=10, model__min_samples_leaf=12, model__min_samples_split=10, model__n_estimators=9; total time=   0.0s\n",
      "[CV 2/4] END features_maker__max_lag=1, features_maker__rolling_mean_size=4, model__max_depth=10, model__min_samples_leaf=12, model__min_samples_split=10, model__n_estimators=9; total time=   0.0s\n",
      "[CV 3/4] END features_maker__max_lag=1, features_maker__rolling_mean_size=4, model__max_depth=10, model__min_samples_leaf=12, model__min_samples_split=10, model__n_estimators=9; total time=   0.1s\n",
      "[CV 4/4] END features_maker__max_lag=1, features_maker__rolling_mean_size=4, model__max_depth=10, model__min_samples_leaf=12, model__min_samples_split=10, model__n_estimators=9; total time=   0.1s\n",
      "[CV 1/4] END features_maker__max_lag=1, features_maker__rolling_mean_size=4, model__max_depth=10, model__min_samples_leaf=15, model__min_samples_split=8, model__n_estimators=9; total time=   0.0s\n",
      "[CV 2/4] END features_maker__max_lag=1, features_maker__rolling_mean_size=4, model__max_depth=10, model__min_samples_leaf=15, model__min_samples_split=8, model__n_estimators=9; total time=   0.0s\n",
      "[CV 3/4] END features_maker__max_lag=1, features_maker__rolling_mean_size=4, model__max_depth=10, model__min_samples_leaf=15, model__min_samples_split=8, model__n_estimators=9; total time=   0.1s\n",
      "[CV 4/4] END features_maker__max_lag=1, features_maker__rolling_mean_size=4, model__max_depth=10, model__min_samples_leaf=15, model__min_samples_split=8, model__n_estimators=9; total time=   0.1s\n",
      "[CV 1/4] END features_maker__max_lag=1, features_maker__rolling_mean_size=4, model__max_depth=10, model__min_samples_leaf=15, model__min_samples_split=10, model__n_estimators=9; total time=   0.0s\n",
      "[CV 2/4] END features_maker__max_lag=1, features_maker__rolling_mean_size=4, model__max_depth=10, model__min_samples_leaf=15, model__min_samples_split=10, model__n_estimators=9; total time=   0.0s\n",
      "[CV 3/4] END features_maker__max_lag=1, features_maker__rolling_mean_size=4, model__max_depth=10, model__min_samples_leaf=15, model__min_samples_split=10, model__n_estimators=9; total time=   0.0s\n",
      "[CV 4/4] END features_maker__max_lag=1, features_maker__rolling_mean_size=4, model__max_depth=10, model__min_samples_leaf=15, model__min_samples_split=10, model__n_estimators=9; total time=   0.1s\n",
      "[CV 1/4] END features_maker__max_lag=1, features_maker__rolling_mean_size=4, model__max_depth=12, model__min_samples_leaf=12, model__min_samples_split=8, model__n_estimators=9; total time=   0.0s\n",
      "[CV 2/4] END features_maker__max_lag=1, features_maker__rolling_mean_size=4, model__max_depth=12, model__min_samples_leaf=12, model__min_samples_split=8, model__n_estimators=9; total time=   0.0s\n",
      "[CV 3/4] END features_maker__max_lag=1, features_maker__rolling_mean_size=4, model__max_depth=12, model__min_samples_leaf=12, model__min_samples_split=8, model__n_estimators=9; total time=   0.1s\n",
      "[CV 4/4] END features_maker__max_lag=1, features_maker__rolling_mean_size=4, model__max_depth=12, model__min_samples_leaf=12, model__min_samples_split=8, model__n_estimators=9; total time=   0.1s\n",
      "[CV 1/4] END features_maker__max_lag=1, features_maker__rolling_mean_size=4, model__max_depth=12, model__min_samples_leaf=12, model__min_samples_split=10, model__n_estimators=9; total time=   0.0s\n",
      "[CV 2/4] END features_maker__max_lag=1, features_maker__rolling_mean_size=4, model__max_depth=12, model__min_samples_leaf=12, model__min_samples_split=10, model__n_estimators=9; total time=   0.0s\n",
      "[CV 3/4] END features_maker__max_lag=1, features_maker__rolling_mean_size=4, model__max_depth=12, model__min_samples_leaf=12, model__min_samples_split=10, model__n_estimators=9; total time=   0.1s\n",
      "[CV 4/4] END features_maker__max_lag=1, features_maker__rolling_mean_size=4, model__max_depth=12, model__min_samples_leaf=12, model__min_samples_split=10, model__n_estimators=9; total time=   0.1s\n",
      "[CV 1/4] END features_maker__max_lag=1, features_maker__rolling_mean_size=4, model__max_depth=12, model__min_samples_leaf=15, model__min_samples_split=8, model__n_estimators=9; total time=   0.0s\n",
      "[CV 2/4] END features_maker__max_lag=1, features_maker__rolling_mean_size=4, model__max_depth=12, model__min_samples_leaf=15, model__min_samples_split=8, model__n_estimators=9; total time=   0.0s\n",
      "[CV 3/4] END features_maker__max_lag=1, features_maker__rolling_mean_size=4, model__max_depth=12, model__min_samples_leaf=15, model__min_samples_split=8, model__n_estimators=9; total time=   0.1s\n",
      "[CV 4/4] END features_maker__max_lag=1, features_maker__rolling_mean_size=4, model__max_depth=12, model__min_samples_leaf=15, model__min_samples_split=8, model__n_estimators=9; total time=   0.1s\n",
      "[CV 1/4] END features_maker__max_lag=1, features_maker__rolling_mean_size=4, model__max_depth=12, model__min_samples_leaf=15, model__min_samples_split=10, model__n_estimators=9; total time=   0.0s\n",
      "[CV 2/4] END features_maker__max_lag=1, features_maker__rolling_mean_size=4, model__max_depth=12, model__min_samples_leaf=15, model__min_samples_split=10, model__n_estimators=9; total time=   0.0s\n",
      "[CV 3/4] END features_maker__max_lag=1, features_maker__rolling_mean_size=4, model__max_depth=12, model__min_samples_leaf=15, model__min_samples_split=10, model__n_estimators=9; total time=   0.1s\n",
      "[CV 4/4] END features_maker__max_lag=1, features_maker__rolling_mean_size=4, model__max_depth=12, model__min_samples_leaf=15, model__min_samples_split=10, model__n_estimators=9; total time=   0.1s\n",
      "[CV 1/4] END features_maker__max_lag=1, features_maker__rolling_mean_size=5, model__max_depth=8, model__min_samples_leaf=12, model__min_samples_split=8, model__n_estimators=9; total time=   0.0s\n",
      "[CV 2/4] END features_maker__max_lag=1, features_maker__rolling_mean_size=5, model__max_depth=8, model__min_samples_leaf=12, model__min_samples_split=8, model__n_estimators=9; total time=   0.0s\n",
      "[CV 3/4] END features_maker__max_lag=1, features_maker__rolling_mean_size=5, model__max_depth=8, model__min_samples_leaf=12, model__min_samples_split=8, model__n_estimators=9; total time=   0.1s\n",
      "[CV 4/4] END features_maker__max_lag=1, features_maker__rolling_mean_size=5, model__max_depth=8, model__min_samples_leaf=12, model__min_samples_split=8, model__n_estimators=9; total time=   0.1s\n",
      "[CV 1/4] END features_maker__max_lag=1, features_maker__rolling_mean_size=5, model__max_depth=8, model__min_samples_leaf=12, model__min_samples_split=10, model__n_estimators=9; total time=   0.0s\n",
      "[CV 2/4] END features_maker__max_lag=1, features_maker__rolling_mean_size=5, model__max_depth=8, model__min_samples_leaf=12, model__min_samples_split=10, model__n_estimators=9; total time=   0.0s\n",
      "[CV 3/4] END features_maker__max_lag=1, features_maker__rolling_mean_size=5, model__max_depth=8, model__min_samples_leaf=12, model__min_samples_split=10, model__n_estimators=9; total time=   0.0s\n",
      "[CV 4/4] END features_maker__max_lag=1, features_maker__rolling_mean_size=5, model__max_depth=8, model__min_samples_leaf=12, model__min_samples_split=10, model__n_estimators=9; total time=   0.1s\n",
      "[CV 1/4] END features_maker__max_lag=1, features_maker__rolling_mean_size=5, model__max_depth=8, model__min_samples_leaf=15, model__min_samples_split=8, model__n_estimators=9; total time=   0.0s\n",
      "[CV 2/4] END features_maker__max_lag=1, features_maker__rolling_mean_size=5, model__max_depth=8, model__min_samples_leaf=15, model__min_samples_split=8, model__n_estimators=9; total time=   0.0s\n",
      "[CV 3/4] END features_maker__max_lag=1, features_maker__rolling_mean_size=5, model__max_depth=8, model__min_samples_leaf=15, model__min_samples_split=8, model__n_estimators=9; total time=   0.1s\n",
      "[CV 4/4] END features_maker__max_lag=1, features_maker__rolling_mean_size=5, model__max_depth=8, model__min_samples_leaf=15, model__min_samples_split=8, model__n_estimators=9; total time=   0.1s\n",
      "[CV 1/4] END features_maker__max_lag=1, features_maker__rolling_mean_size=5, model__max_depth=8, model__min_samples_leaf=15, model__min_samples_split=10, model__n_estimators=9; total time=   0.0s\n",
      "[CV 2/4] END features_maker__max_lag=1, features_maker__rolling_mean_size=5, model__max_depth=8, model__min_samples_leaf=15, model__min_samples_split=10, model__n_estimators=9; total time=   0.0s\n",
      "[CV 3/4] END features_maker__max_lag=1, features_maker__rolling_mean_size=5, model__max_depth=8, model__min_samples_leaf=15, model__min_samples_split=10, model__n_estimators=9; total time=   0.0s\n",
      "[CV 4/4] END features_maker__max_lag=1, features_maker__rolling_mean_size=5, model__max_depth=8, model__min_samples_leaf=15, model__min_samples_split=10, model__n_estimators=9; total time=   0.1s\n",
      "[CV 1/4] END features_maker__max_lag=1, features_maker__rolling_mean_size=5, model__max_depth=10, model__min_samples_leaf=12, model__min_samples_split=8, model__n_estimators=9; total time=   0.0s\n",
      "[CV 2/4] END features_maker__max_lag=1, features_maker__rolling_mean_size=5, model__max_depth=10, model__min_samples_leaf=12, model__min_samples_split=8, model__n_estimators=9; total time=   0.1s\n",
      "[CV 3/4] END features_maker__max_lag=1, features_maker__rolling_mean_size=5, model__max_depth=10, model__min_samples_leaf=12, model__min_samples_split=8, model__n_estimators=9; total time=   0.1s\n",
      "[CV 4/4] END features_maker__max_lag=1, features_maker__rolling_mean_size=5, model__max_depth=10, model__min_samples_leaf=12, model__min_samples_split=8, model__n_estimators=9; total time=   0.1s\n",
      "[CV 1/4] END features_maker__max_lag=1, features_maker__rolling_mean_size=5, model__max_depth=10, model__min_samples_leaf=12, model__min_samples_split=10, model__n_estimators=9; total time=   0.0s\n",
      "[CV 2/4] END features_maker__max_lag=1, features_maker__rolling_mean_size=5, model__max_depth=10, model__min_samples_leaf=12, model__min_samples_split=10, model__n_estimators=9; total time=   0.1s\n",
      "[CV 3/4] END features_maker__max_lag=1, features_maker__rolling_mean_size=5, model__max_depth=10, model__min_samples_leaf=12, model__min_samples_split=10, model__n_estimators=9; total time=   0.1s\n",
      "[CV 4/4] END features_maker__max_lag=1, features_maker__rolling_mean_size=5, model__max_depth=10, model__min_samples_leaf=12, model__min_samples_split=10, model__n_estimators=9; total time=   0.1s\n",
      "[CV 1/4] END features_maker__max_lag=1, features_maker__rolling_mean_size=5, model__max_depth=10, model__min_samples_leaf=15, model__min_samples_split=8, model__n_estimators=9; total time=   0.0s\n",
      "[CV 2/4] END features_maker__max_lag=1, features_maker__rolling_mean_size=5, model__max_depth=10, model__min_samples_leaf=15, model__min_samples_split=8, model__n_estimators=9; total time=   0.0s\n",
      "[CV 3/4] END features_maker__max_lag=1, features_maker__rolling_mean_size=5, model__max_depth=10, model__min_samples_leaf=15, model__min_samples_split=8, model__n_estimators=9; total time=   0.1s\n",
      "[CV 4/4] END features_maker__max_lag=1, features_maker__rolling_mean_size=5, model__max_depth=10, model__min_samples_leaf=15, model__min_samples_split=8, model__n_estimators=9; total time=   0.1s\n",
      "[CV 1/4] END features_maker__max_lag=1, features_maker__rolling_mean_size=5, model__max_depth=10, model__min_samples_leaf=15, model__min_samples_split=10, model__n_estimators=9; total time=   0.0s\n",
      "[CV 2/4] END features_maker__max_lag=1, features_maker__rolling_mean_size=5, model__max_depth=10, model__min_samples_leaf=15, model__min_samples_split=10, model__n_estimators=9; total time=   0.0s\n",
      "[CV 3/4] END features_maker__max_lag=1, features_maker__rolling_mean_size=5, model__max_depth=10, model__min_samples_leaf=15, model__min_samples_split=10, model__n_estimators=9; total time=   0.1s\n",
      "[CV 4/4] END features_maker__max_lag=1, features_maker__rolling_mean_size=5, model__max_depth=10, model__min_samples_leaf=15, model__min_samples_split=10, model__n_estimators=9; total time=   0.1s\n",
      "[CV 1/4] END features_maker__max_lag=1, features_maker__rolling_mean_size=5, model__max_depth=12, model__min_samples_leaf=12, model__min_samples_split=8, model__n_estimators=9; total time=   0.0s\n",
      "[CV 2/4] END features_maker__max_lag=1, features_maker__rolling_mean_size=5, model__max_depth=12, model__min_samples_leaf=12, model__min_samples_split=8, model__n_estimators=9; total time=   0.1s\n",
      "[CV 3/4] END features_maker__max_lag=1, features_maker__rolling_mean_size=5, model__max_depth=12, model__min_samples_leaf=12, model__min_samples_split=8, model__n_estimators=9; total time=   0.1s\n",
      "[CV 4/4] END features_maker__max_lag=1, features_maker__rolling_mean_size=5, model__max_depth=12, model__min_samples_leaf=12, model__min_samples_split=8, model__n_estimators=9; total time=   0.1s\n",
      "[CV 1/4] END features_maker__max_lag=1, features_maker__rolling_mean_size=5, model__max_depth=12, model__min_samples_leaf=12, model__min_samples_split=10, model__n_estimators=9; total time=   0.0s\n",
      "[CV 2/4] END features_maker__max_lag=1, features_maker__rolling_mean_size=5, model__max_depth=12, model__min_samples_leaf=12, model__min_samples_split=10, model__n_estimators=9; total time=   0.0s\n",
      "[CV 3/4] END features_maker__max_lag=1, features_maker__rolling_mean_size=5, model__max_depth=12, model__min_samples_leaf=12, model__min_samples_split=10, model__n_estimators=9; total time=   0.1s\n",
      "[CV 4/4] END features_maker__max_lag=1, features_maker__rolling_mean_size=5, model__max_depth=12, model__min_samples_leaf=12, model__min_samples_split=10, model__n_estimators=9; total time=   0.1s\n",
      "[CV 1/4] END features_maker__max_lag=1, features_maker__rolling_mean_size=5, model__max_depth=12, model__min_samples_leaf=15, model__min_samples_split=8, model__n_estimators=9; total time=   0.0s\n",
      "[CV 2/4] END features_maker__max_lag=1, features_maker__rolling_mean_size=5, model__max_depth=12, model__min_samples_leaf=15, model__min_samples_split=8, model__n_estimators=9; total time=   0.0s\n",
      "[CV 3/4] END features_maker__max_lag=1, features_maker__rolling_mean_size=5, model__max_depth=12, model__min_samples_leaf=15, model__min_samples_split=8, model__n_estimators=9; total time=   0.1s\n",
      "[CV 4/4] END features_maker__max_lag=1, features_maker__rolling_mean_size=5, model__max_depth=12, model__min_samples_leaf=15, model__min_samples_split=8, model__n_estimators=9; total time=   0.1s\n",
      "[CV 1/4] END features_maker__max_lag=1, features_maker__rolling_mean_size=5, model__max_depth=12, model__min_samples_leaf=15, model__min_samples_split=10, model__n_estimators=9; total time=   0.0s\n",
      "[CV 2/4] END features_maker__max_lag=1, features_maker__rolling_mean_size=5, model__max_depth=12, model__min_samples_leaf=15, model__min_samples_split=10, model__n_estimators=9; total time=   0.0s\n",
      "[CV 3/4] END features_maker__max_lag=1, features_maker__rolling_mean_size=5, model__max_depth=12, model__min_samples_leaf=15, model__min_samples_split=10, model__n_estimators=9; total time=   0.1s\n",
      "[CV 4/4] END features_maker__max_lag=1, features_maker__rolling_mean_size=5, model__max_depth=12, model__min_samples_leaf=15, model__min_samples_split=10, model__n_estimators=9; total time=   0.1s\n",
      "[CV 1/4] END features_maker__max_lag=2, features_maker__rolling_mean_size=3, model__max_depth=8, model__min_samples_leaf=12, model__min_samples_split=8, model__n_estimators=9; total time=   0.0s\n",
      "[CV 2/4] END features_maker__max_lag=2, features_maker__rolling_mean_size=3, model__max_depth=8, model__min_samples_leaf=12, model__min_samples_split=8, model__n_estimators=9; total time=   0.1s\n",
      "[CV 3/4] END features_maker__max_lag=2, features_maker__rolling_mean_size=3, model__max_depth=8, model__min_samples_leaf=12, model__min_samples_split=8, model__n_estimators=9; total time=   0.1s\n",
      "[CV 4/4] END features_maker__max_lag=2, features_maker__rolling_mean_size=3, model__max_depth=8, model__min_samples_leaf=12, model__min_samples_split=8, model__n_estimators=9; total time=   0.1s\n",
      "[CV 1/4] END features_maker__max_lag=2, features_maker__rolling_mean_size=3, model__max_depth=8, model__min_samples_leaf=12, model__min_samples_split=10, model__n_estimators=9; total time=   0.0s\n",
      "[CV 2/4] END features_maker__max_lag=2, features_maker__rolling_mean_size=3, model__max_depth=8, model__min_samples_leaf=12, model__min_samples_split=10, model__n_estimators=9; total time=   0.0s\n",
      "[CV 3/4] END features_maker__max_lag=2, features_maker__rolling_mean_size=3, model__max_depth=8, model__min_samples_leaf=12, model__min_samples_split=10, model__n_estimators=9; total time=   0.1s\n",
      "[CV 4/4] END features_maker__max_lag=2, features_maker__rolling_mean_size=3, model__max_depth=8, model__min_samples_leaf=12, model__min_samples_split=10, model__n_estimators=9; total time=   0.1s\n",
      "[CV 1/4] END features_maker__max_lag=2, features_maker__rolling_mean_size=3, model__max_depth=8, model__min_samples_leaf=15, model__min_samples_split=8, model__n_estimators=9; total time=   0.1s\n",
      "[CV 2/4] END features_maker__max_lag=2, features_maker__rolling_mean_size=3, model__max_depth=8, model__min_samples_leaf=15, model__min_samples_split=8, model__n_estimators=9; total time=   0.0s\n",
      "[CV 3/4] END features_maker__max_lag=2, features_maker__rolling_mean_size=3, model__max_depth=8, model__min_samples_leaf=15, model__min_samples_split=8, model__n_estimators=9; total time=   0.1s\n",
      "[CV 4/4] END features_maker__max_lag=2, features_maker__rolling_mean_size=3, model__max_depth=8, model__min_samples_leaf=15, model__min_samples_split=8, model__n_estimators=9; total time=   0.1s\n",
      "[CV 1/4] END features_maker__max_lag=2, features_maker__rolling_mean_size=3, model__max_depth=8, model__min_samples_leaf=15, model__min_samples_split=10, model__n_estimators=9; total time=   0.0s\n",
      "[CV 2/4] END features_maker__max_lag=2, features_maker__rolling_mean_size=3, model__max_depth=8, model__min_samples_leaf=15, model__min_samples_split=10, model__n_estimators=9; total time=   0.0s\n",
      "[CV 3/4] END features_maker__max_lag=2, features_maker__rolling_mean_size=3, model__max_depth=8, model__min_samples_leaf=15, model__min_samples_split=10, model__n_estimators=9; total time=   0.1s\n",
      "[CV 4/4] END features_maker__max_lag=2, features_maker__rolling_mean_size=3, model__max_depth=8, model__min_samples_leaf=15, model__min_samples_split=10, model__n_estimators=9; total time=   0.1s\n",
      "[CV 1/4] END features_maker__max_lag=2, features_maker__rolling_mean_size=3, model__max_depth=10, model__min_samples_leaf=12, model__min_samples_split=8, model__n_estimators=9; total time=   0.0s\n",
      "[CV 2/4] END features_maker__max_lag=2, features_maker__rolling_mean_size=3, model__max_depth=10, model__min_samples_leaf=12, model__min_samples_split=8, model__n_estimators=9; total time=   0.1s\n",
      "[CV 3/4] END features_maker__max_lag=2, features_maker__rolling_mean_size=3, model__max_depth=10, model__min_samples_leaf=12, model__min_samples_split=8, model__n_estimators=9; total time=   0.1s\n",
      "[CV 4/4] END features_maker__max_lag=2, features_maker__rolling_mean_size=3, model__max_depth=10, model__min_samples_leaf=12, model__min_samples_split=8, model__n_estimators=9; total time=   0.1s\n",
      "[CV 1/4] END features_maker__max_lag=2, features_maker__rolling_mean_size=3, model__max_depth=10, model__min_samples_leaf=12, model__min_samples_split=10, model__n_estimators=9; total time=   0.0s\n",
      "[CV 2/4] END features_maker__max_lag=2, features_maker__rolling_mean_size=3, model__max_depth=10, model__min_samples_leaf=12, model__min_samples_split=10, model__n_estimators=9; total time=   0.1s\n",
      "[CV 3/4] END features_maker__max_lag=2, features_maker__rolling_mean_size=3, model__max_depth=10, model__min_samples_leaf=12, model__min_samples_split=10, model__n_estimators=9; total time=   0.1s\n",
      "[CV 4/4] END features_maker__max_lag=2, features_maker__rolling_mean_size=3, model__max_depth=10, model__min_samples_leaf=12, model__min_samples_split=10, model__n_estimators=9; total time=   0.1s\n",
      "[CV 1/4] END features_maker__max_lag=2, features_maker__rolling_mean_size=3, model__max_depth=10, model__min_samples_leaf=15, model__min_samples_split=8, model__n_estimators=9; total time=   0.0s\n",
      "[CV 2/4] END features_maker__max_lag=2, features_maker__rolling_mean_size=3, model__max_depth=10, model__min_samples_leaf=15, model__min_samples_split=8, model__n_estimators=9; total time=   0.0s\n",
      "[CV 3/4] END features_maker__max_lag=2, features_maker__rolling_mean_size=3, model__max_depth=10, model__min_samples_leaf=15, model__min_samples_split=8, model__n_estimators=9; total time=   0.1s\n",
      "[CV 4/4] END features_maker__max_lag=2, features_maker__rolling_mean_size=3, model__max_depth=10, model__min_samples_leaf=15, model__min_samples_split=8, model__n_estimators=9; total time=   0.1s\n",
      "[CV 1/4] END features_maker__max_lag=2, features_maker__rolling_mean_size=3, model__max_depth=10, model__min_samples_leaf=15, model__min_samples_split=10, model__n_estimators=9; total time=   0.0s\n",
      "[CV 2/4] END features_maker__max_lag=2, features_maker__rolling_mean_size=3, model__max_depth=10, model__min_samples_leaf=15, model__min_samples_split=10, model__n_estimators=9; total time=   0.0s\n",
      "[CV 3/4] END features_maker__max_lag=2, features_maker__rolling_mean_size=3, model__max_depth=10, model__min_samples_leaf=15, model__min_samples_split=10, model__n_estimators=9; total time=   0.1s\n",
      "[CV 4/4] END features_maker__max_lag=2, features_maker__rolling_mean_size=3, model__max_depth=10, model__min_samples_leaf=15, model__min_samples_split=10, model__n_estimators=9; total time=   0.1s\n",
      "[CV 1/4] END features_maker__max_lag=2, features_maker__rolling_mean_size=3, model__max_depth=12, model__min_samples_leaf=12, model__min_samples_split=8, model__n_estimators=9; total time=   0.0s\n",
      "[CV 2/4] END features_maker__max_lag=2, features_maker__rolling_mean_size=3, model__max_depth=12, model__min_samples_leaf=12, model__min_samples_split=8, model__n_estimators=9; total time=   0.1s\n",
      "[CV 3/4] END features_maker__max_lag=2, features_maker__rolling_mean_size=3, model__max_depth=12, model__min_samples_leaf=12, model__min_samples_split=8, model__n_estimators=9; total time=   0.1s\n",
      "[CV 4/4] END features_maker__max_lag=2, features_maker__rolling_mean_size=3, model__max_depth=12, model__min_samples_leaf=12, model__min_samples_split=8, model__n_estimators=9; total time=   0.1s\n",
      "[CV 1/4] END features_maker__max_lag=2, features_maker__rolling_mean_size=3, model__max_depth=12, model__min_samples_leaf=12, model__min_samples_split=10, model__n_estimators=9; total time=   0.0s\n",
      "[CV 2/4] END features_maker__max_lag=2, features_maker__rolling_mean_size=3, model__max_depth=12, model__min_samples_leaf=12, model__min_samples_split=10, model__n_estimators=9; total time=   0.1s\n",
      "[CV 3/4] END features_maker__max_lag=2, features_maker__rolling_mean_size=3, model__max_depth=12, model__min_samples_leaf=12, model__min_samples_split=10, model__n_estimators=9; total time=   0.1s\n",
      "[CV 4/4] END features_maker__max_lag=2, features_maker__rolling_mean_size=3, model__max_depth=12, model__min_samples_leaf=12, model__min_samples_split=10, model__n_estimators=9; total time=   0.1s\n",
      "[CV 1/4] END features_maker__max_lag=2, features_maker__rolling_mean_size=3, model__max_depth=12, model__min_samples_leaf=15, model__min_samples_split=8, model__n_estimators=9; total time=   0.0s\n",
      "[CV 2/4] END features_maker__max_lag=2, features_maker__rolling_mean_size=3, model__max_depth=12, model__min_samples_leaf=15, model__min_samples_split=8, model__n_estimators=9; total time=   0.0s\n",
      "[CV 3/4] END features_maker__max_lag=2, features_maker__rolling_mean_size=3, model__max_depth=12, model__min_samples_leaf=15, model__min_samples_split=8, model__n_estimators=9; total time=   0.1s\n",
      "[CV 4/4] END features_maker__max_lag=2, features_maker__rolling_mean_size=3, model__max_depth=12, model__min_samples_leaf=15, model__min_samples_split=8, model__n_estimators=9; total time=   0.1s\n",
      "[CV 1/4] END features_maker__max_lag=2, features_maker__rolling_mean_size=3, model__max_depth=12, model__min_samples_leaf=15, model__min_samples_split=10, model__n_estimators=9; total time=   0.0s\n",
      "[CV 2/4] END features_maker__max_lag=2, features_maker__rolling_mean_size=3, model__max_depth=12, model__min_samples_leaf=15, model__min_samples_split=10, model__n_estimators=9; total time=   0.0s\n",
      "[CV 3/4] END features_maker__max_lag=2, features_maker__rolling_mean_size=3, model__max_depth=12, model__min_samples_leaf=15, model__min_samples_split=10, model__n_estimators=9; total time=   0.1s\n",
      "[CV 4/4] END features_maker__max_lag=2, features_maker__rolling_mean_size=3, model__max_depth=12, model__min_samples_leaf=15, model__min_samples_split=10, model__n_estimators=9; total time=   0.1s\n",
      "[CV 1/4] END features_maker__max_lag=2, features_maker__rolling_mean_size=4, model__max_depth=8, model__min_samples_leaf=12, model__min_samples_split=8, model__n_estimators=9; total time=   0.0s\n",
      "[CV 2/4] END features_maker__max_lag=2, features_maker__rolling_mean_size=4, model__max_depth=8, model__min_samples_leaf=12, model__min_samples_split=8, model__n_estimators=9; total time=   0.0s\n",
      "[CV 3/4] END features_maker__max_lag=2, features_maker__rolling_mean_size=4, model__max_depth=8, model__min_samples_leaf=12, model__min_samples_split=8, model__n_estimators=9; total time=   0.1s\n",
      "[CV 4/4] END features_maker__max_lag=2, features_maker__rolling_mean_size=4, model__max_depth=8, model__min_samples_leaf=12, model__min_samples_split=8, model__n_estimators=9; total time=   0.1s\n",
      "[CV 1/4] END features_maker__max_lag=2, features_maker__rolling_mean_size=4, model__max_depth=8, model__min_samples_leaf=12, model__min_samples_split=10, model__n_estimators=9; total time=   0.0s\n",
      "[CV 2/4] END features_maker__max_lag=2, features_maker__rolling_mean_size=4, model__max_depth=8, model__min_samples_leaf=12, model__min_samples_split=10, model__n_estimators=9; total time=   0.0s\n",
      "[CV 3/4] END features_maker__max_lag=2, features_maker__rolling_mean_size=4, model__max_depth=8, model__min_samples_leaf=12, model__min_samples_split=10, model__n_estimators=9; total time=   0.1s\n",
      "[CV 4/4] END features_maker__max_lag=2, features_maker__rolling_mean_size=4, model__max_depth=8, model__min_samples_leaf=12, model__min_samples_split=10, model__n_estimators=9; total time=   0.1s\n",
      "[CV 1/4] END features_maker__max_lag=2, features_maker__rolling_mean_size=4, model__max_depth=8, model__min_samples_leaf=15, model__min_samples_split=8, model__n_estimators=9; total time=   0.0s\n",
      "[CV 2/4] END features_maker__max_lag=2, features_maker__rolling_mean_size=4, model__max_depth=8, model__min_samples_leaf=15, model__min_samples_split=8, model__n_estimators=9; total time=   0.0s\n",
      "[CV 3/4] END features_maker__max_lag=2, features_maker__rolling_mean_size=4, model__max_depth=8, model__min_samples_leaf=15, model__min_samples_split=8, model__n_estimators=9; total time=   0.1s\n",
      "[CV 4/4] END features_maker__max_lag=2, features_maker__rolling_mean_size=4, model__max_depth=8, model__min_samples_leaf=15, model__min_samples_split=8, model__n_estimators=9; total time=   0.1s\n",
      "[CV 1/4] END features_maker__max_lag=2, features_maker__rolling_mean_size=4, model__max_depth=8, model__min_samples_leaf=15, model__min_samples_split=10, model__n_estimators=9; total time=   0.0s\n",
      "[CV 2/4] END features_maker__max_lag=2, features_maker__rolling_mean_size=4, model__max_depth=8, model__min_samples_leaf=15, model__min_samples_split=10, model__n_estimators=9; total time=   0.0s\n",
      "[CV 3/4] END features_maker__max_lag=2, features_maker__rolling_mean_size=4, model__max_depth=8, model__min_samples_leaf=15, model__min_samples_split=10, model__n_estimators=9; total time=   0.1s\n",
      "[CV 4/4] END features_maker__max_lag=2, features_maker__rolling_mean_size=4, model__max_depth=8, model__min_samples_leaf=15, model__min_samples_split=10, model__n_estimators=9; total time=   0.1s\n",
      "[CV 1/4] END features_maker__max_lag=2, features_maker__rolling_mean_size=4, model__max_depth=10, model__min_samples_leaf=12, model__min_samples_split=8, model__n_estimators=9; total time=   0.0s\n",
      "[CV 2/4] END features_maker__max_lag=2, features_maker__rolling_mean_size=4, model__max_depth=10, model__min_samples_leaf=12, model__min_samples_split=8, model__n_estimators=9; total time=   0.1s\n",
      "[CV 3/4] END features_maker__max_lag=2, features_maker__rolling_mean_size=4, model__max_depth=10, model__min_samples_leaf=12, model__min_samples_split=8, model__n_estimators=9; total time=   0.1s\n",
      "[CV 4/4] END features_maker__max_lag=2, features_maker__rolling_mean_size=4, model__max_depth=10, model__min_samples_leaf=12, model__min_samples_split=8, model__n_estimators=9; total time=   0.1s\n",
      "[CV 1/4] END features_maker__max_lag=2, features_maker__rolling_mean_size=4, model__max_depth=10, model__min_samples_leaf=12, model__min_samples_split=10, model__n_estimators=9; total time=   0.0s\n",
      "[CV 2/4] END features_maker__max_lag=2, features_maker__rolling_mean_size=4, model__max_depth=10, model__min_samples_leaf=12, model__min_samples_split=10, model__n_estimators=9; total time=   0.0s\n",
      "[CV 3/4] END features_maker__max_lag=2, features_maker__rolling_mean_size=4, model__max_depth=10, model__min_samples_leaf=12, model__min_samples_split=10, model__n_estimators=9; total time=   0.1s\n",
      "[CV 4/4] END features_maker__max_lag=2, features_maker__rolling_mean_size=4, model__max_depth=10, model__min_samples_leaf=12, model__min_samples_split=10, model__n_estimators=9; total time=   0.1s\n",
      "[CV 1/4] END features_maker__max_lag=2, features_maker__rolling_mean_size=4, model__max_depth=10, model__min_samples_leaf=15, model__min_samples_split=8, model__n_estimators=9; total time=   0.0s\n",
      "[CV 2/4] END features_maker__max_lag=2, features_maker__rolling_mean_size=4, model__max_depth=10, model__min_samples_leaf=15, model__min_samples_split=8, model__n_estimators=9; total time=   0.0s\n",
      "[CV 3/4] END features_maker__max_lag=2, features_maker__rolling_mean_size=4, model__max_depth=10, model__min_samples_leaf=15, model__min_samples_split=8, model__n_estimators=9; total time=   0.1s\n",
      "[CV 4/4] END features_maker__max_lag=2, features_maker__rolling_mean_size=4, model__max_depth=10, model__min_samples_leaf=15, model__min_samples_split=8, model__n_estimators=9; total time=   0.1s\n",
      "[CV 1/4] END features_maker__max_lag=2, features_maker__rolling_mean_size=4, model__max_depth=10, model__min_samples_leaf=15, model__min_samples_split=10, model__n_estimators=9; total time=   0.0s\n",
      "[CV 2/4] END features_maker__max_lag=2, features_maker__rolling_mean_size=4, model__max_depth=10, model__min_samples_leaf=15, model__min_samples_split=10, model__n_estimators=9; total time=   0.0s\n",
      "[CV 3/4] END features_maker__max_lag=2, features_maker__rolling_mean_size=4, model__max_depth=10, model__min_samples_leaf=15, model__min_samples_split=10, model__n_estimators=9; total time=   0.1s\n",
      "[CV 4/4] END features_maker__max_lag=2, features_maker__rolling_mean_size=4, model__max_depth=10, model__min_samples_leaf=15, model__min_samples_split=10, model__n_estimators=9; total time=   0.1s\n",
      "[CV 1/4] END features_maker__max_lag=2, features_maker__rolling_mean_size=4, model__max_depth=12, model__min_samples_leaf=12, model__min_samples_split=8, model__n_estimators=9; total time=   0.0s\n",
      "[CV 2/4] END features_maker__max_lag=2, features_maker__rolling_mean_size=4, model__max_depth=12, model__min_samples_leaf=12, model__min_samples_split=8, model__n_estimators=9; total time=   0.0s\n",
      "[CV 3/4] END features_maker__max_lag=2, features_maker__rolling_mean_size=4, model__max_depth=12, model__min_samples_leaf=12, model__min_samples_split=8, model__n_estimators=9; total time=   0.1s\n",
      "[CV 4/4] END features_maker__max_lag=2, features_maker__rolling_mean_size=4, model__max_depth=12, model__min_samples_leaf=12, model__min_samples_split=8, model__n_estimators=9; total time=   0.1s\n",
      "[CV 1/4] END features_maker__max_lag=2, features_maker__rolling_mean_size=4, model__max_depth=12, model__min_samples_leaf=12, model__min_samples_split=10, model__n_estimators=9; total time=   0.0s\n",
      "[CV 2/4] END features_maker__max_lag=2, features_maker__rolling_mean_size=4, model__max_depth=12, model__min_samples_leaf=12, model__min_samples_split=10, model__n_estimators=9; total time=   0.0s\n",
      "[CV 3/4] END features_maker__max_lag=2, features_maker__rolling_mean_size=4, model__max_depth=12, model__min_samples_leaf=12, model__min_samples_split=10, model__n_estimators=9; total time=   0.1s\n",
      "[CV 4/4] END features_maker__max_lag=2, features_maker__rolling_mean_size=4, model__max_depth=12, model__min_samples_leaf=12, model__min_samples_split=10, model__n_estimators=9; total time=   0.1s\n",
      "[CV 1/4] END features_maker__max_lag=2, features_maker__rolling_mean_size=4, model__max_depth=12, model__min_samples_leaf=15, model__min_samples_split=8, model__n_estimators=9; total time=   0.0s\n",
      "[CV 2/4] END features_maker__max_lag=2, features_maker__rolling_mean_size=4, model__max_depth=12, model__min_samples_leaf=15, model__min_samples_split=8, model__n_estimators=9; total time=   0.1s\n",
      "[CV 3/4] END features_maker__max_lag=2, features_maker__rolling_mean_size=4, model__max_depth=12, model__min_samples_leaf=15, model__min_samples_split=8, model__n_estimators=9; total time=   0.1s\n",
      "[CV 4/4] END features_maker__max_lag=2, features_maker__rolling_mean_size=4, model__max_depth=12, model__min_samples_leaf=15, model__min_samples_split=8, model__n_estimators=9; total time=   0.1s\n",
      "[CV 1/4] END features_maker__max_lag=2, features_maker__rolling_mean_size=4, model__max_depth=12, model__min_samples_leaf=15, model__min_samples_split=10, model__n_estimators=9; total time=   0.0s\n",
      "[CV 2/4] END features_maker__max_lag=2, features_maker__rolling_mean_size=4, model__max_depth=12, model__min_samples_leaf=15, model__min_samples_split=10, model__n_estimators=9; total time=   0.0s\n",
      "[CV 3/4] END features_maker__max_lag=2, features_maker__rolling_mean_size=4, model__max_depth=12, model__min_samples_leaf=15, model__min_samples_split=10, model__n_estimators=9; total time=   0.1s\n",
      "[CV 4/4] END features_maker__max_lag=2, features_maker__rolling_mean_size=4, model__max_depth=12, model__min_samples_leaf=15, model__min_samples_split=10, model__n_estimators=9; total time=   0.1s\n",
      "[CV 1/4] END features_maker__max_lag=2, features_maker__rolling_mean_size=5, model__max_depth=8, model__min_samples_leaf=12, model__min_samples_split=8, model__n_estimators=9; total time=   0.0s\n",
      "[CV 2/4] END features_maker__max_lag=2, features_maker__rolling_mean_size=5, model__max_depth=8, model__min_samples_leaf=12, model__min_samples_split=8, model__n_estimators=9; total time=   0.0s\n",
      "[CV 3/4] END features_maker__max_lag=2, features_maker__rolling_mean_size=5, model__max_depth=8, model__min_samples_leaf=12, model__min_samples_split=8, model__n_estimators=9; total time=   0.1s\n",
      "[CV 4/4] END features_maker__max_lag=2, features_maker__rolling_mean_size=5, model__max_depth=8, model__min_samples_leaf=12, model__min_samples_split=8, model__n_estimators=9; total time=   0.1s\n",
      "[CV 1/4] END features_maker__max_lag=2, features_maker__rolling_mean_size=5, model__max_depth=8, model__min_samples_leaf=12, model__min_samples_split=10, model__n_estimators=9; total time=   0.0s\n",
      "[CV 2/4] END features_maker__max_lag=2, features_maker__rolling_mean_size=5, model__max_depth=8, model__min_samples_leaf=12, model__min_samples_split=10, model__n_estimators=9; total time=   0.0s\n",
      "[CV 3/4] END features_maker__max_lag=2, features_maker__rolling_mean_size=5, model__max_depth=8, model__min_samples_leaf=12, model__min_samples_split=10, model__n_estimators=9; total time=   0.1s\n",
      "[CV 4/4] END features_maker__max_lag=2, features_maker__rolling_mean_size=5, model__max_depth=8, model__min_samples_leaf=12, model__min_samples_split=10, model__n_estimators=9; total time=   0.1s\n",
      "[CV 1/4] END features_maker__max_lag=2, features_maker__rolling_mean_size=5, model__max_depth=8, model__min_samples_leaf=15, model__min_samples_split=8, model__n_estimators=9; total time=   0.0s\n",
      "[CV 2/4] END features_maker__max_lag=2, features_maker__rolling_mean_size=5, model__max_depth=8, model__min_samples_leaf=15, model__min_samples_split=8, model__n_estimators=9; total time=   0.1s\n",
      "[CV 3/4] END features_maker__max_lag=2, features_maker__rolling_mean_size=5, model__max_depth=8, model__min_samples_leaf=15, model__min_samples_split=8, model__n_estimators=9; total time=   0.1s\n",
      "[CV 4/4] END features_maker__max_lag=2, features_maker__rolling_mean_size=5, model__max_depth=8, model__min_samples_leaf=15, model__min_samples_split=8, model__n_estimators=9; total time=   0.1s\n",
      "[CV 1/4] END features_maker__max_lag=2, features_maker__rolling_mean_size=5, model__max_depth=8, model__min_samples_leaf=15, model__min_samples_split=10, model__n_estimators=9; total time=   0.0s\n",
      "[CV 2/4] END features_maker__max_lag=2, features_maker__rolling_mean_size=5, model__max_depth=8, model__min_samples_leaf=15, model__min_samples_split=10, model__n_estimators=9; total time=   0.0s\n",
      "[CV 3/4] END features_maker__max_lag=2, features_maker__rolling_mean_size=5, model__max_depth=8, model__min_samples_leaf=15, model__min_samples_split=10, model__n_estimators=9; total time=   0.1s\n",
      "[CV 4/4] END features_maker__max_lag=2, features_maker__rolling_mean_size=5, model__max_depth=8, model__min_samples_leaf=15, model__min_samples_split=10, model__n_estimators=9; total time=   0.1s\n",
      "[CV 1/4] END features_maker__max_lag=2, features_maker__rolling_mean_size=5, model__max_depth=10, model__min_samples_leaf=12, model__min_samples_split=8, model__n_estimators=9; total time=   0.0s\n",
      "[CV 2/4] END features_maker__max_lag=2, features_maker__rolling_mean_size=5, model__max_depth=10, model__min_samples_leaf=12, model__min_samples_split=8, model__n_estimators=9; total time=   0.0s\n",
      "[CV 3/4] END features_maker__max_lag=2, features_maker__rolling_mean_size=5, model__max_depth=10, model__min_samples_leaf=12, model__min_samples_split=8, model__n_estimators=9; total time=   0.1s\n",
      "[CV 4/4] END features_maker__max_lag=2, features_maker__rolling_mean_size=5, model__max_depth=10, model__min_samples_leaf=12, model__min_samples_split=8, model__n_estimators=9; total time=   0.1s\n",
      "[CV 1/4] END features_maker__max_lag=2, features_maker__rolling_mean_size=5, model__max_depth=10, model__min_samples_leaf=12, model__min_samples_split=10, model__n_estimators=9; total time=   0.0s\n",
      "[CV 2/4] END features_maker__max_lag=2, features_maker__rolling_mean_size=5, model__max_depth=10, model__min_samples_leaf=12, model__min_samples_split=10, model__n_estimators=9; total time=   0.0s\n",
      "[CV 3/4] END features_maker__max_lag=2, features_maker__rolling_mean_size=5, model__max_depth=10, model__min_samples_leaf=12, model__min_samples_split=10, model__n_estimators=9; total time=   0.1s\n",
      "[CV 4/4] END features_maker__max_lag=2, features_maker__rolling_mean_size=5, model__max_depth=10, model__min_samples_leaf=12, model__min_samples_split=10, model__n_estimators=9; total time=   0.1s\n",
      "[CV 1/4] END features_maker__max_lag=2, features_maker__rolling_mean_size=5, model__max_depth=10, model__min_samples_leaf=15, model__min_samples_split=8, model__n_estimators=9; total time=   0.0s\n",
      "[CV 2/4] END features_maker__max_lag=2, features_maker__rolling_mean_size=5, model__max_depth=10, model__min_samples_leaf=15, model__min_samples_split=8, model__n_estimators=9; total time=   0.0s\n",
      "[CV 3/4] END features_maker__max_lag=2, features_maker__rolling_mean_size=5, model__max_depth=10, model__min_samples_leaf=15, model__min_samples_split=8, model__n_estimators=9; total time=   0.1s\n",
      "[CV 4/4] END features_maker__max_lag=2, features_maker__rolling_mean_size=5, model__max_depth=10, model__min_samples_leaf=15, model__min_samples_split=8, model__n_estimators=9; total time=   0.1s\n",
      "[CV 1/4] END features_maker__max_lag=2, features_maker__rolling_mean_size=5, model__max_depth=10, model__min_samples_leaf=15, model__min_samples_split=10, model__n_estimators=9; total time=   0.0s\n",
      "[CV 2/4] END features_maker__max_lag=2, features_maker__rolling_mean_size=5, model__max_depth=10, model__min_samples_leaf=15, model__min_samples_split=10, model__n_estimators=9; total time=   0.1s\n",
      "[CV 3/4] END features_maker__max_lag=2, features_maker__rolling_mean_size=5, model__max_depth=10, model__min_samples_leaf=15, model__min_samples_split=10, model__n_estimators=9; total time=   0.1s\n",
      "[CV 4/4] END features_maker__max_lag=2, features_maker__rolling_mean_size=5, model__max_depth=10, model__min_samples_leaf=15, model__min_samples_split=10, model__n_estimators=9; total time=   0.1s\n",
      "[CV 1/4] END features_maker__max_lag=2, features_maker__rolling_mean_size=5, model__max_depth=12, model__min_samples_leaf=12, model__min_samples_split=8, model__n_estimators=9; total time=   0.0s\n",
      "[CV 2/4] END features_maker__max_lag=2, features_maker__rolling_mean_size=5, model__max_depth=12, model__min_samples_leaf=12, model__min_samples_split=8, model__n_estimators=9; total time=   0.0s\n",
      "[CV 3/4] END features_maker__max_lag=2, features_maker__rolling_mean_size=5, model__max_depth=12, model__min_samples_leaf=12, model__min_samples_split=8, model__n_estimators=9; total time=   0.1s\n",
      "[CV 4/4] END features_maker__max_lag=2, features_maker__rolling_mean_size=5, model__max_depth=12, model__min_samples_leaf=12, model__min_samples_split=8, model__n_estimators=9; total time=   0.1s\n",
      "[CV 1/4] END features_maker__max_lag=2, features_maker__rolling_mean_size=5, model__max_depth=12, model__min_samples_leaf=12, model__min_samples_split=10, model__n_estimators=9; total time=   0.0s\n",
      "[CV 2/4] END features_maker__max_lag=2, features_maker__rolling_mean_size=5, model__max_depth=12, model__min_samples_leaf=12, model__min_samples_split=10, model__n_estimators=9; total time=   0.1s\n",
      "[CV 3/4] END features_maker__max_lag=2, features_maker__rolling_mean_size=5, model__max_depth=12, model__min_samples_leaf=12, model__min_samples_split=10, model__n_estimators=9; total time=   0.1s\n",
      "[CV 4/4] END features_maker__max_lag=2, features_maker__rolling_mean_size=5, model__max_depth=12, model__min_samples_leaf=12, model__min_samples_split=10, model__n_estimators=9; total time=   0.1s\n",
      "[CV 1/4] END features_maker__max_lag=2, features_maker__rolling_mean_size=5, model__max_depth=12, model__min_samples_leaf=15, model__min_samples_split=8, model__n_estimators=9; total time=   0.0s\n",
      "[CV 2/4] END features_maker__max_lag=2, features_maker__rolling_mean_size=5, model__max_depth=12, model__min_samples_leaf=15, model__min_samples_split=8, model__n_estimators=9; total time=   0.1s\n",
      "[CV 3/4] END features_maker__max_lag=2, features_maker__rolling_mean_size=5, model__max_depth=12, model__min_samples_leaf=15, model__min_samples_split=8, model__n_estimators=9; total time=   0.1s\n",
      "[CV 4/4] END features_maker__max_lag=2, features_maker__rolling_mean_size=5, model__max_depth=12, model__min_samples_leaf=15, model__min_samples_split=8, model__n_estimators=9; total time=   0.1s\n",
      "[CV 1/4] END features_maker__max_lag=2, features_maker__rolling_mean_size=5, model__max_depth=12, model__min_samples_leaf=15, model__min_samples_split=10, model__n_estimators=9; total time=   0.0s\n",
      "[CV 2/4] END features_maker__max_lag=2, features_maker__rolling_mean_size=5, model__max_depth=12, model__min_samples_leaf=15, model__min_samples_split=10, model__n_estimators=9; total time=   0.0s\n",
      "[CV 3/4] END features_maker__max_lag=2, features_maker__rolling_mean_size=5, model__max_depth=12, model__min_samples_leaf=15, model__min_samples_split=10, model__n_estimators=9; total time=   0.1s\n",
      "[CV 4/4] END features_maker__max_lag=2, features_maker__rolling_mean_size=5, model__max_depth=12, model__min_samples_leaf=15, model__min_samples_split=10, model__n_estimators=9; total time=   0.1s\n",
      "----------\n",
      "iter: 1\n",
      "n_candidates: 24\n",
      "n_resources: 27\n",
      "Fitting 4 folds for each of 24 candidates, totalling 96 fits\n",
      "[CV 1/4] END features_maker__max_lag=1, features_maker__rolling_mean_size=5, model__max_depth=10, model__min_samples_leaf=15, model__min_samples_split=10, model__n_estimators=27; total time=   0.1s\n",
      "[CV 2/4] END features_maker__max_lag=1, features_maker__rolling_mean_size=5, model__max_depth=10, model__min_samples_leaf=15, model__min_samples_split=10, model__n_estimators=27; total time=   0.1s\n",
      "[CV 3/4] END features_maker__max_lag=1, features_maker__rolling_mean_size=5, model__max_depth=10, model__min_samples_leaf=15, model__min_samples_split=10, model__n_estimators=27; total time=   0.1s\n",
      "[CV 4/4] END features_maker__max_lag=1, features_maker__rolling_mean_size=5, model__max_depth=10, model__min_samples_leaf=15, model__min_samples_split=10, model__n_estimators=27; total time=   0.2s\n",
      "[CV 1/4] END features_maker__max_lag=1, features_maker__rolling_mean_size=5, model__max_depth=10, model__min_samples_leaf=15, model__min_samples_split=8, model__n_estimators=27; total time=   0.1s\n",
      "[CV 2/4] END features_maker__max_lag=1, features_maker__rolling_mean_size=5, model__max_depth=10, model__min_samples_leaf=15, model__min_samples_split=8, model__n_estimators=27; total time=   0.1s\n",
      "[CV 3/4] END features_maker__max_lag=1, features_maker__rolling_mean_size=5, model__max_depth=10, model__min_samples_leaf=15, model__min_samples_split=8, model__n_estimators=27; total time=   0.1s\n",
      "[CV 4/4] END features_maker__max_lag=1, features_maker__rolling_mean_size=5, model__max_depth=10, model__min_samples_leaf=15, model__min_samples_split=8, model__n_estimators=27; total time=   0.1s\n",
      "[CV 1/4] END features_maker__max_lag=2, features_maker__rolling_mean_size=3, model__max_depth=10, model__min_samples_leaf=12, model__min_samples_split=8, model__n_estimators=27; total time=   0.1s\n",
      "[CV 2/4] END features_maker__max_lag=2, features_maker__rolling_mean_size=3, model__max_depth=10, model__min_samples_leaf=12, model__min_samples_split=8, model__n_estimators=27; total time=   0.1s\n",
      "[CV 3/4] END features_maker__max_lag=2, features_maker__rolling_mean_size=3, model__max_depth=10, model__min_samples_leaf=12, model__min_samples_split=8, model__n_estimators=27; total time=   0.1s\n",
      "[CV 4/4] END features_maker__max_lag=2, features_maker__rolling_mean_size=3, model__max_depth=10, model__min_samples_leaf=12, model__min_samples_split=8, model__n_estimators=27; total time=   0.2s\n",
      "[CV 1/4] END features_maker__max_lag=2, features_maker__rolling_mean_size=3, model__max_depth=10, model__min_samples_leaf=12, model__min_samples_split=10, model__n_estimators=27; total time=   0.1s\n",
      "[CV 2/4] END features_maker__max_lag=2, features_maker__rolling_mean_size=3, model__max_depth=10, model__min_samples_leaf=12, model__min_samples_split=10, model__n_estimators=27; total time=   0.1s\n",
      "[CV 3/4] END features_maker__max_lag=2, features_maker__rolling_mean_size=3, model__max_depth=10, model__min_samples_leaf=12, model__min_samples_split=10, model__n_estimators=27; total time=   0.1s\n",
      "[CV 4/4] END features_maker__max_lag=2, features_maker__rolling_mean_size=3, model__max_depth=10, model__min_samples_leaf=12, model__min_samples_split=10, model__n_estimators=27; total time=   0.2s\n",
      "[CV 1/4] END features_maker__max_lag=2, features_maker__rolling_mean_size=5, model__max_depth=12, model__min_samples_leaf=15, model__min_samples_split=10, model__n_estimators=27; total time=   0.1s\n",
      "[CV 2/4] END features_maker__max_lag=2, features_maker__rolling_mean_size=5, model__max_depth=12, model__min_samples_leaf=15, model__min_samples_split=10, model__n_estimators=27; total time=   0.1s\n",
      "[CV 3/4] END features_maker__max_lag=2, features_maker__rolling_mean_size=5, model__max_depth=12, model__min_samples_leaf=15, model__min_samples_split=10, model__n_estimators=27; total time=   0.1s\n",
      "[CV 4/4] END features_maker__max_lag=2, features_maker__rolling_mean_size=5, model__max_depth=12, model__min_samples_leaf=15, model__min_samples_split=10, model__n_estimators=27; total time=   0.2s\n",
      "[CV 1/4] END features_maker__max_lag=2, features_maker__rolling_mean_size=5, model__max_depth=12, model__min_samples_leaf=15, model__min_samples_split=8, model__n_estimators=27; total time=   0.1s\n",
      "[CV 2/4] END features_maker__max_lag=2, features_maker__rolling_mean_size=5, model__max_depth=12, model__min_samples_leaf=15, model__min_samples_split=8, model__n_estimators=27; total time=   0.1s\n",
      "[CV 3/4] END features_maker__max_lag=2, features_maker__rolling_mean_size=5, model__max_depth=12, model__min_samples_leaf=15, model__min_samples_split=8, model__n_estimators=27; total time=   0.2s\n",
      "[CV 4/4] END features_maker__max_lag=2, features_maker__rolling_mean_size=5, model__max_depth=12, model__min_samples_leaf=15, model__min_samples_split=8, model__n_estimators=27; total time=   0.2s\n",
      "[CV 1/4] END features_maker__max_lag=1, features_maker__rolling_mean_size=5, model__max_depth=12, model__min_samples_leaf=15, model__min_samples_split=10, model__n_estimators=27; total time=   0.1s\n",
      "[CV 2/4] END features_maker__max_lag=1, features_maker__rolling_mean_size=5, model__max_depth=12, model__min_samples_leaf=15, model__min_samples_split=10, model__n_estimators=27; total time=   0.1s\n",
      "[CV 3/4] END features_maker__max_lag=1, features_maker__rolling_mean_size=5, model__max_depth=12, model__min_samples_leaf=15, model__min_samples_split=10, model__n_estimators=27; total time=   0.1s\n",
      "[CV 4/4] END features_maker__max_lag=1, features_maker__rolling_mean_size=5, model__max_depth=12, model__min_samples_leaf=15, model__min_samples_split=10, model__n_estimators=27; total time=   0.1s\n",
      "[CV 1/4] END features_maker__max_lag=1, features_maker__rolling_mean_size=5, model__max_depth=12, model__min_samples_leaf=15, model__min_samples_split=8, model__n_estimators=27; total time=   0.1s\n",
      "[CV 2/4] END features_maker__max_lag=1, features_maker__rolling_mean_size=5, model__max_depth=12, model__min_samples_leaf=15, model__min_samples_split=8, model__n_estimators=27; total time=   0.1s\n",
      "[CV 3/4] END features_maker__max_lag=1, features_maker__rolling_mean_size=5, model__max_depth=12, model__min_samples_leaf=15, model__min_samples_split=8, model__n_estimators=27; total time=   0.1s\n",
      "[CV 4/4] END features_maker__max_lag=1, features_maker__rolling_mean_size=5, model__max_depth=12, model__min_samples_leaf=15, model__min_samples_split=8, model__n_estimators=27; total time=   0.1s\n",
      "[CV 1/4] END features_maker__max_lag=2, features_maker__rolling_mean_size=5, model__max_depth=10, model__min_samples_leaf=15, model__min_samples_split=10, model__n_estimators=27; total time=   0.1s\n",
      "[CV 2/4] END features_maker__max_lag=2, features_maker__rolling_mean_size=5, model__max_depth=10, model__min_samples_leaf=15, model__min_samples_split=10, model__n_estimators=27; total time=   0.1s\n",
      "[CV 3/4] END features_maker__max_lag=2, features_maker__rolling_mean_size=5, model__max_depth=10, model__min_samples_leaf=15, model__min_samples_split=10, model__n_estimators=27; total time=   0.1s\n",
      "[CV 4/4] END features_maker__max_lag=2, features_maker__rolling_mean_size=5, model__max_depth=10, model__min_samples_leaf=15, model__min_samples_split=10, model__n_estimators=27; total time=   0.2s\n",
      "[CV 1/4] END features_maker__max_lag=2, features_maker__rolling_mean_size=5, model__max_depth=10, model__min_samples_leaf=15, model__min_samples_split=8, model__n_estimators=27; total time=   0.1s\n",
      "[CV 2/4] END features_maker__max_lag=2, features_maker__rolling_mean_size=5, model__max_depth=10, model__min_samples_leaf=15, model__min_samples_split=8, model__n_estimators=27; total time=   0.1s\n",
      "[CV 3/4] END features_maker__max_lag=2, features_maker__rolling_mean_size=5, model__max_depth=10, model__min_samples_leaf=15, model__min_samples_split=8, model__n_estimators=27; total time=   0.1s\n",
      "[CV 4/4] END features_maker__max_lag=2, features_maker__rolling_mean_size=5, model__max_depth=10, model__min_samples_leaf=15, model__min_samples_split=8, model__n_estimators=27; total time=   0.2s\n",
      "[CV 1/4] END features_maker__max_lag=2, features_maker__rolling_mean_size=3, model__max_depth=12, model__min_samples_leaf=12, model__min_samples_split=10, model__n_estimators=27; total time=   0.1s\n",
      "[CV 2/4] END features_maker__max_lag=2, features_maker__rolling_mean_size=3, model__max_depth=12, model__min_samples_leaf=12, model__min_samples_split=10, model__n_estimators=27; total time=   0.1s\n",
      "[CV 3/4] END features_maker__max_lag=2, features_maker__rolling_mean_size=3, model__max_depth=12, model__min_samples_leaf=12, model__min_samples_split=10, model__n_estimators=27; total time=   0.2s\n",
      "[CV 4/4] END features_maker__max_lag=2, features_maker__rolling_mean_size=3, model__max_depth=12, model__min_samples_leaf=12, model__min_samples_split=10, model__n_estimators=27; total time=   0.2s\n",
      "[CV 1/4] END features_maker__max_lag=2, features_maker__rolling_mean_size=3, model__max_depth=12, model__min_samples_leaf=12, model__min_samples_split=8, model__n_estimators=27; total time=   0.1s\n",
      "[CV 2/4] END features_maker__max_lag=2, features_maker__rolling_mean_size=3, model__max_depth=12, model__min_samples_leaf=12, model__min_samples_split=8, model__n_estimators=27; total time=   0.1s\n",
      "[CV 3/4] END features_maker__max_lag=2, features_maker__rolling_mean_size=3, model__max_depth=12, model__min_samples_leaf=12, model__min_samples_split=8, model__n_estimators=27; total time=   0.1s\n",
      "[CV 4/4] END features_maker__max_lag=2, features_maker__rolling_mean_size=3, model__max_depth=12, model__min_samples_leaf=12, model__min_samples_split=8, model__n_estimators=27; total time=   0.2s\n",
      "[CV 1/4] END features_maker__max_lag=1, features_maker__rolling_mean_size=5, model__max_depth=10, model__min_samples_leaf=12, model__min_samples_split=10, model__n_estimators=27; total time=   0.1s\n",
      "[CV 2/4] END features_maker__max_lag=1, features_maker__rolling_mean_size=5, model__max_depth=10, model__min_samples_leaf=12, model__min_samples_split=10, model__n_estimators=27; total time=   0.1s\n",
      "[CV 3/4] END features_maker__max_lag=1, features_maker__rolling_mean_size=5, model__max_depth=10, model__min_samples_leaf=12, model__min_samples_split=10, model__n_estimators=27; total time=   0.1s\n",
      "[CV 4/4] END features_maker__max_lag=1, features_maker__rolling_mean_size=5, model__max_depth=10, model__min_samples_leaf=12, model__min_samples_split=10, model__n_estimators=27; total time=   0.1s\n",
      "[CV 1/4] END features_maker__max_lag=1, features_maker__rolling_mean_size=5, model__max_depth=10, model__min_samples_leaf=12, model__min_samples_split=8, model__n_estimators=27; total time=   0.1s\n",
      "[CV 2/4] END features_maker__max_lag=1, features_maker__rolling_mean_size=5, model__max_depth=10, model__min_samples_leaf=12, model__min_samples_split=8, model__n_estimators=27; total time=   0.1s\n",
      "[CV 3/4] END features_maker__max_lag=1, features_maker__rolling_mean_size=5, model__max_depth=10, model__min_samples_leaf=12, model__min_samples_split=8, model__n_estimators=27; total time=   0.1s\n",
      "[CV 4/4] END features_maker__max_lag=1, features_maker__rolling_mean_size=5, model__max_depth=10, model__min_samples_leaf=12, model__min_samples_split=8, model__n_estimators=27; total time=   0.2s\n",
      "[CV 1/4] END features_maker__max_lag=1, features_maker__rolling_mean_size=3, model__max_depth=10, model__min_samples_leaf=12, model__min_samples_split=8, model__n_estimators=27; total time=   0.1s\n",
      "[CV 2/4] END features_maker__max_lag=1, features_maker__rolling_mean_size=3, model__max_depth=10, model__min_samples_leaf=12, model__min_samples_split=8, model__n_estimators=27; total time=   0.1s\n",
      "[CV 3/4] END features_maker__max_lag=1, features_maker__rolling_mean_size=3, model__max_depth=10, model__min_samples_leaf=12, model__min_samples_split=8, model__n_estimators=27; total time=   0.1s\n",
      "[CV 4/4] END features_maker__max_lag=1, features_maker__rolling_mean_size=3, model__max_depth=10, model__min_samples_leaf=12, model__min_samples_split=8, model__n_estimators=27; total time=   0.2s\n",
      "[CV 1/4] END features_maker__max_lag=1, features_maker__rolling_mean_size=3, model__max_depth=10, model__min_samples_leaf=12, model__min_samples_split=10, model__n_estimators=27; total time=   0.1s\n",
      "[CV 2/4] END features_maker__max_lag=1, features_maker__rolling_mean_size=3, model__max_depth=10, model__min_samples_leaf=12, model__min_samples_split=10, model__n_estimators=27; total time=   0.1s\n",
      "[CV 3/4] END features_maker__max_lag=1, features_maker__rolling_mean_size=3, model__max_depth=10, model__min_samples_leaf=12, model__min_samples_split=10, model__n_estimators=27; total time=   0.1s\n",
      "[CV 4/4] END features_maker__max_lag=1, features_maker__rolling_mean_size=3, model__max_depth=10, model__min_samples_leaf=12, model__min_samples_split=10, model__n_estimators=27; total time=   0.1s\n",
      "[CV 1/4] END features_maker__max_lag=1, features_maker__rolling_mean_size=3, model__max_depth=12, model__min_samples_leaf=12, model__min_samples_split=10, model__n_estimators=27; total time=   0.1s\n",
      "[CV 2/4] END features_maker__max_lag=1, features_maker__rolling_mean_size=3, model__max_depth=12, model__min_samples_leaf=12, model__min_samples_split=10, model__n_estimators=27; total time=   0.1s\n",
      "[CV 3/4] END features_maker__max_lag=1, features_maker__rolling_mean_size=3, model__max_depth=12, model__min_samples_leaf=12, model__min_samples_split=10, model__n_estimators=27; total time=   0.1s\n",
      "[CV 4/4] END features_maker__max_lag=1, features_maker__rolling_mean_size=3, model__max_depth=12, model__min_samples_leaf=12, model__min_samples_split=10, model__n_estimators=27; total time=   0.1s\n",
      "[CV 1/4] END features_maker__max_lag=1, features_maker__rolling_mean_size=3, model__max_depth=12, model__min_samples_leaf=12, model__min_samples_split=8, model__n_estimators=27; total time=   0.1s\n",
      "[CV 2/4] END features_maker__max_lag=1, features_maker__rolling_mean_size=3, model__max_depth=12, model__min_samples_leaf=12, model__min_samples_split=8, model__n_estimators=27; total time=   0.1s\n",
      "[CV 3/4] END features_maker__max_lag=1, features_maker__rolling_mean_size=3, model__max_depth=12, model__min_samples_leaf=12, model__min_samples_split=8, model__n_estimators=27; total time=   0.1s\n",
      "[CV 4/4] END features_maker__max_lag=1, features_maker__rolling_mean_size=3, model__max_depth=12, model__min_samples_leaf=12, model__min_samples_split=8, model__n_estimators=27; total time=   0.2s\n",
      "[CV 1/4] END features_maker__max_lag=1, features_maker__rolling_mean_size=5, model__max_depth=12, model__min_samples_leaf=12, model__min_samples_split=8, model__n_estimators=27; total time=   0.1s\n",
      "[CV 2/4] END features_maker__max_lag=1, features_maker__rolling_mean_size=5, model__max_depth=12, model__min_samples_leaf=12, model__min_samples_split=8, model__n_estimators=27; total time=   0.1s\n",
      "[CV 3/4] END features_maker__max_lag=1, features_maker__rolling_mean_size=5, model__max_depth=12, model__min_samples_leaf=12, model__min_samples_split=8, model__n_estimators=27; total time=   0.1s\n",
      "[CV 4/4] END features_maker__max_lag=1, features_maker__rolling_mean_size=5, model__max_depth=12, model__min_samples_leaf=12, model__min_samples_split=8, model__n_estimators=27; total time=   0.2s\n",
      "[CV 1/4] END features_maker__max_lag=1, features_maker__rolling_mean_size=5, model__max_depth=12, model__min_samples_leaf=12, model__min_samples_split=10, model__n_estimators=27; total time=   0.1s\n",
      "[CV 2/4] END features_maker__max_lag=1, features_maker__rolling_mean_size=5, model__max_depth=12, model__min_samples_leaf=12, model__min_samples_split=10, model__n_estimators=27; total time=   0.1s\n",
      "[CV 3/4] END features_maker__max_lag=1, features_maker__rolling_mean_size=5, model__max_depth=12, model__min_samples_leaf=12, model__min_samples_split=10, model__n_estimators=27; total time=   0.1s\n",
      "[CV 4/4] END features_maker__max_lag=1, features_maker__rolling_mean_size=5, model__max_depth=12, model__min_samples_leaf=12, model__min_samples_split=10, model__n_estimators=27; total time=   0.2s\n",
      "[CV 1/4] END features_maker__max_lag=2, features_maker__rolling_mean_size=5, model__max_depth=10, model__min_samples_leaf=12, model__min_samples_split=8, model__n_estimators=27; total time=   0.1s\n",
      "[CV 2/4] END features_maker__max_lag=2, features_maker__rolling_mean_size=5, model__max_depth=10, model__min_samples_leaf=12, model__min_samples_split=8, model__n_estimators=27; total time=   0.1s\n",
      "[CV 3/4] END features_maker__max_lag=2, features_maker__rolling_mean_size=5, model__max_depth=10, model__min_samples_leaf=12, model__min_samples_split=8, model__n_estimators=27; total time=   0.1s\n",
      "[CV 4/4] END features_maker__max_lag=2, features_maker__rolling_mean_size=5, model__max_depth=10, model__min_samples_leaf=12, model__min_samples_split=8, model__n_estimators=27; total time=   0.2s\n",
      "[CV 1/4] END features_maker__max_lag=2, features_maker__rolling_mean_size=5, model__max_depth=10, model__min_samples_leaf=12, model__min_samples_split=10, model__n_estimators=27; total time=   0.1s\n",
      "[CV 2/4] END features_maker__max_lag=2, features_maker__rolling_mean_size=5, model__max_depth=10, model__min_samples_leaf=12, model__min_samples_split=10, model__n_estimators=27; total time=   0.1s\n",
      "[CV 3/4] END features_maker__max_lag=2, features_maker__rolling_mean_size=5, model__max_depth=10, model__min_samples_leaf=12, model__min_samples_split=10, model__n_estimators=27; total time=   0.1s\n",
      "[CV 4/4] END features_maker__max_lag=2, features_maker__rolling_mean_size=5, model__max_depth=10, model__min_samples_leaf=12, model__min_samples_split=10, model__n_estimators=27; total time=   0.2s\n",
      "[CV 1/4] END features_maker__max_lag=2, features_maker__rolling_mean_size=5, model__max_depth=12, model__min_samples_leaf=12, model__min_samples_split=8, model__n_estimators=27; total time=   0.1s\n",
      "[CV 2/4] END features_maker__max_lag=2, features_maker__rolling_mean_size=5, model__max_depth=12, model__min_samples_leaf=12, model__min_samples_split=8, model__n_estimators=27; total time=   0.1s\n",
      "[CV 3/4] END features_maker__max_lag=2, features_maker__rolling_mean_size=5, model__max_depth=12, model__min_samples_leaf=12, model__min_samples_split=8, model__n_estimators=27; total time=   0.1s\n",
      "[CV 4/4] END features_maker__max_lag=2, features_maker__rolling_mean_size=5, model__max_depth=12, model__min_samples_leaf=12, model__min_samples_split=8, model__n_estimators=27; total time=   0.2s\n",
      "[CV 1/4] END features_maker__max_lag=2, features_maker__rolling_mean_size=5, model__max_depth=12, model__min_samples_leaf=12, model__min_samples_split=10, model__n_estimators=27; total time=   0.1s\n",
      "[CV 2/4] END features_maker__max_lag=2, features_maker__rolling_mean_size=5, model__max_depth=12, model__min_samples_leaf=12, model__min_samples_split=10, model__n_estimators=27; total time=   0.1s\n",
      "[CV 3/4] END features_maker__max_lag=2, features_maker__rolling_mean_size=5, model__max_depth=12, model__min_samples_leaf=12, model__min_samples_split=10, model__n_estimators=27; total time=   0.1s\n",
      "[CV 4/4] END features_maker__max_lag=2, features_maker__rolling_mean_size=5, model__max_depth=12, model__min_samples_leaf=12, model__min_samples_split=10, model__n_estimators=27; total time=   0.2s\n",
      "----------\n",
      "iter: 2\n",
      "n_candidates: 8\n",
      "n_resources: 81\n",
      "Fitting 4 folds for each of 8 candidates, totalling 32 fits\n",
      "[CV 1/4] END features_maker__max_lag=1, features_maker__rolling_mean_size=5, model__max_depth=10, model__min_samples_leaf=12, model__min_samples_split=10, model__n_estimators=81; total time=   0.2s\n",
      "[CV 2/4] END features_maker__max_lag=1, features_maker__rolling_mean_size=5, model__max_depth=10, model__min_samples_leaf=12, model__min_samples_split=10, model__n_estimators=81; total time=   0.3s\n",
      "[CV 3/4] END features_maker__max_lag=1, features_maker__rolling_mean_size=5, model__max_depth=10, model__min_samples_leaf=12, model__min_samples_split=10, model__n_estimators=81; total time=   0.3s\n",
      "[CV 4/4] END features_maker__max_lag=1, features_maker__rolling_mean_size=5, model__max_depth=10, model__min_samples_leaf=12, model__min_samples_split=10, model__n_estimators=81; total time=   0.4s\n",
      "[CV 1/4] END features_maker__max_lag=1, features_maker__rolling_mean_size=5, model__max_depth=10, model__min_samples_leaf=12, model__min_samples_split=8, model__n_estimators=81; total time=   0.2s\n",
      "[CV 2/4] END features_maker__max_lag=1, features_maker__rolling_mean_size=5, model__max_depth=10, model__min_samples_leaf=12, model__min_samples_split=8, model__n_estimators=81; total time=   0.2s\n",
      "[CV 3/4] END features_maker__max_lag=1, features_maker__rolling_mean_size=5, model__max_depth=10, model__min_samples_leaf=12, model__min_samples_split=8, model__n_estimators=81; total time=   0.3s\n",
      "[CV 4/4] END features_maker__max_lag=1, features_maker__rolling_mean_size=5, model__max_depth=10, model__min_samples_leaf=12, model__min_samples_split=8, model__n_estimators=81; total time=   0.4s\n",
      "[CV 1/4] END features_maker__max_lag=2, features_maker__rolling_mean_size=5, model__max_depth=10, model__min_samples_leaf=12, model__min_samples_split=8, model__n_estimators=81; total time=   0.2s\n",
      "[CV 2/4] END features_maker__max_lag=2, features_maker__rolling_mean_size=5, model__max_depth=10, model__min_samples_leaf=12, model__min_samples_split=8, model__n_estimators=81; total time=   0.3s\n",
      "[CV 3/4] END features_maker__max_lag=2, features_maker__rolling_mean_size=5, model__max_depth=10, model__min_samples_leaf=12, model__min_samples_split=8, model__n_estimators=81; total time=   0.4s\n",
      "[CV 4/4] END features_maker__max_lag=2, features_maker__rolling_mean_size=5, model__max_depth=10, model__min_samples_leaf=12, model__min_samples_split=8, model__n_estimators=81; total time=   0.5s\n",
      "[CV 1/4] END features_maker__max_lag=2, features_maker__rolling_mean_size=5, model__max_depth=10, model__min_samples_leaf=12, model__min_samples_split=10, model__n_estimators=81; total time=   0.2s\n",
      "[CV 2/4] END features_maker__max_lag=2, features_maker__rolling_mean_size=5, model__max_depth=10, model__min_samples_leaf=12, model__min_samples_split=10, model__n_estimators=81; total time=   0.3s\n",
      "[CV 3/4] END features_maker__max_lag=2, features_maker__rolling_mean_size=5, model__max_depth=10, model__min_samples_leaf=12, model__min_samples_split=10, model__n_estimators=81; total time=   0.4s\n",
      "[CV 4/4] END features_maker__max_lag=2, features_maker__rolling_mean_size=5, model__max_depth=10, model__min_samples_leaf=12, model__min_samples_split=10, model__n_estimators=81; total time=   0.5s\n",
      "[CV 1/4] END features_maker__max_lag=1, features_maker__rolling_mean_size=5, model__max_depth=12, model__min_samples_leaf=12, model__min_samples_split=8, model__n_estimators=81; total time=   0.2s\n",
      "[CV 2/4] END features_maker__max_lag=1, features_maker__rolling_mean_size=5, model__max_depth=12, model__min_samples_leaf=12, model__min_samples_split=8, model__n_estimators=81; total time=   0.2s\n",
      "[CV 3/4] END features_maker__max_lag=1, features_maker__rolling_mean_size=5, model__max_depth=12, model__min_samples_leaf=12, model__min_samples_split=8, model__n_estimators=81; total time=   0.3s\n",
      "[CV 4/4] END features_maker__max_lag=1, features_maker__rolling_mean_size=5, model__max_depth=12, model__min_samples_leaf=12, model__min_samples_split=8, model__n_estimators=81; total time=   0.4s\n",
      "[CV 1/4] END features_maker__max_lag=1, features_maker__rolling_mean_size=5, model__max_depth=12, model__min_samples_leaf=12, model__min_samples_split=10, model__n_estimators=81; total time=   0.2s\n",
      "[CV 2/4] END features_maker__max_lag=1, features_maker__rolling_mean_size=5, model__max_depth=12, model__min_samples_leaf=12, model__min_samples_split=10, model__n_estimators=81; total time=   0.3s\n",
      "[CV 3/4] END features_maker__max_lag=1, features_maker__rolling_mean_size=5, model__max_depth=12, model__min_samples_leaf=12, model__min_samples_split=10, model__n_estimators=81; total time=   0.3s\n",
      "[CV 4/4] END features_maker__max_lag=1, features_maker__rolling_mean_size=5, model__max_depth=12, model__min_samples_leaf=12, model__min_samples_split=10, model__n_estimators=81; total time=   0.4s\n",
      "[CV 1/4] END features_maker__max_lag=2, features_maker__rolling_mean_size=5, model__max_depth=12, model__min_samples_leaf=12, model__min_samples_split=8, model__n_estimators=81; total time=   0.2s\n",
      "[CV 2/4] END features_maker__max_lag=2, features_maker__rolling_mean_size=5, model__max_depth=12, model__min_samples_leaf=12, model__min_samples_split=8, model__n_estimators=81; total time=   0.3s\n",
      "[CV 3/4] END features_maker__max_lag=2, features_maker__rolling_mean_size=5, model__max_depth=12, model__min_samples_leaf=12, model__min_samples_split=8, model__n_estimators=81; total time=   0.4s\n",
      "[CV 4/4] END features_maker__max_lag=2, features_maker__rolling_mean_size=5, model__max_depth=12, model__min_samples_leaf=12, model__min_samples_split=8, model__n_estimators=81; total time=   0.5s\n",
      "[CV 1/4] END features_maker__max_lag=2, features_maker__rolling_mean_size=5, model__max_depth=12, model__min_samples_leaf=12, model__min_samples_split=10, model__n_estimators=81; total time=   0.2s\n",
      "[CV 2/4] END features_maker__max_lag=2, features_maker__rolling_mean_size=5, model__max_depth=12, model__min_samples_leaf=12, model__min_samples_split=10, model__n_estimators=81; total time=   0.3s\n",
      "[CV 3/4] END features_maker__max_lag=2, features_maker__rolling_mean_size=5, model__max_depth=12, model__min_samples_leaf=12, model__min_samples_split=10, model__n_estimators=81; total time=   0.4s\n",
      "[CV 4/4] END features_maker__max_lag=2, features_maker__rolling_mean_size=5, model__max_depth=12, model__min_samples_leaf=12, model__min_samples_split=10, model__n_estimators=81; total time=   0.5s\n",
      "----------\n",
      "iter: 3\n",
      "n_candidates: 3\n",
      "n_resources: 243\n",
      "Fitting 4 folds for each of 3 candidates, totalling 12 fits\n",
      "[CV 1/4] END features_maker__max_lag=2, features_maker__rolling_mean_size=5, model__max_depth=12, model__min_samples_leaf=12, model__min_samples_split=10, model__n_estimators=243; total time=   0.5s\n",
      "[CV 2/4] END features_maker__max_lag=2, features_maker__rolling_mean_size=5, model__max_depth=12, model__min_samples_leaf=12, model__min_samples_split=10, model__n_estimators=243; total time=   0.8s\n",
      "[CV 3/4] END features_maker__max_lag=2, features_maker__rolling_mean_size=5, model__max_depth=12, model__min_samples_leaf=12, model__min_samples_split=10, model__n_estimators=243; total time=   1.1s\n",
      "[CV 4/4] END features_maker__max_lag=2, features_maker__rolling_mean_size=5, model__max_depth=12, model__min_samples_leaf=12, model__min_samples_split=10, model__n_estimators=243; total time=   1.4s\n",
      "[CV 1/4] END features_maker__max_lag=1, features_maker__rolling_mean_size=5, model__max_depth=12, model__min_samples_leaf=12, model__min_samples_split=8, model__n_estimators=243; total time=   0.4s\n",
      "[CV 2/4] END features_maker__max_lag=1, features_maker__rolling_mean_size=5, model__max_depth=12, model__min_samples_leaf=12, model__min_samples_split=8, model__n_estimators=243; total time=   0.7s\n",
      "[CV 3/4] END features_maker__max_lag=1, features_maker__rolling_mean_size=5, model__max_depth=12, model__min_samples_leaf=12, model__min_samples_split=8, model__n_estimators=243; total time=   1.0s\n",
      "[CV 4/4] END features_maker__max_lag=1, features_maker__rolling_mean_size=5, model__max_depth=12, model__min_samples_leaf=12, model__min_samples_split=8, model__n_estimators=243; total time=   1.2s\n",
      "[CV 1/4] END features_maker__max_lag=1, features_maker__rolling_mean_size=5, model__max_depth=12, model__min_samples_leaf=12, model__min_samples_split=10, model__n_estimators=243; total time=   0.5s\n",
      "[CV 2/4] END features_maker__max_lag=1, features_maker__rolling_mean_size=5, model__max_depth=12, model__min_samples_leaf=12, model__min_samples_split=10, model__n_estimators=243; total time=   0.7s\n",
      "[CV 3/4] END features_maker__max_lag=1, features_maker__rolling_mean_size=5, model__max_depth=12, model__min_samples_leaf=12, model__min_samples_split=10, model__n_estimators=243; total time=   1.2s\n",
      "[CV 4/4] END features_maker__max_lag=1, features_maker__rolling_mean_size=5, model__max_depth=12, model__min_samples_leaf=12, model__min_samples_split=10, model__n_estimators=243; total time=   1.2s\n",
      "CPU times: user 54.2 s, sys: 331 ms, total: 54.6 s\n",
      "Wall time: 54.9 s\n"
     ]
    },
    {
     "data": {
      "text/plain": [
       "HalvingGridSearchCV(cv=TimeSeriesSplit(gap=0, max_train_size=None, n_splits=4, test_size=None),\n",
       "                    estimator=Pipeline(steps=[('features_maker',\n",
       "                                               TimeSeriesFeaturesMaker(rolling_mean_size=1)),\n",
       "                                              ('scaler', StandardScaler()),\n",
       "                                              ('model',\n",
       "                                               RandomForestRegressor(random_state=42))]),\n",
       "                    max_resources=250, n_jobs=-1,\n",
       "                    param_grid={'features_maker__max_lag': [1, 2],\n",
       "                                'features_maker__rolling_mean_size': [3, 4, 5],\n",
       "                                'model__max_depth': [8, 10, 12],\n",
       "                                'model__min_samples_leaf': [12, 15],\n",
       "                                'model__min_samples_split': [8, 10]},\n",
       "                    refit=<function _refit_callable at 0x7faf5a5bfdc0>,\n",
       "                    resource='model__n_estimators',\n",
       "                    scoring='neg_root_mean_squared_error', verbose=3)"
      ]
     },
     "execution_count": 22,
     "metadata": {},
     "output_type": "execute_result"
    }
   ],
   "source": [
    "%%time\n",
    "rf_grid.fit(train, train.values.ravel());"
   ]
  },
  {
   "cell_type": "code",
   "execution_count": 23,
   "metadata": {
    "scrolled": true
   },
   "outputs": [
    {
     "name": "stdout",
     "output_type": "stream",
     "text": [
      "Лучшая модель\n",
      "RMSE: 26.582666333453197\n"
     ]
    },
    {
     "data": {
      "text/plain": [
       "'Гиперпараметры:'"
      ]
     },
     "metadata": {},
     "output_type": "display_data"
    },
    {
     "data": {
      "text/plain": [
       "n_resources                                27\n",
       "param_features_maker__max_lag               2\n",
       "param_features_maker__rolling_mean_size     5\n",
       "param_model__max_depth                     12\n",
       "param_model__min_samples_split              8\n",
       "param_model__min_samples_leaf              12\n",
       "Name: 94, dtype: object"
      ]
     },
     "metadata": {},
     "output_type": "display_data"
    },
    {
     "data": {
      "text/plain": [
       "'Время обучения и время предсказания:'"
      ]
     },
     "metadata": {},
     "output_type": "display_data"
    },
    {
     "data": {
      "text/plain": [
       "mean_fit_time      0.111424\n",
       "mean_score_time    0.013299\n",
       "Name: 94, dtype: object"
      ]
     },
     "metadata": {},
     "output_type": "display_data"
    }
   ],
   "source": [
    "params_names = ['n_resources', 'param_features_maker__max_lag', 'param_features_maker__rolling_mean_size',\n",
    "                'param_model__max_depth','param_model__min_samples_split', 'param_model__min_samples_leaf']\n",
    "\n",
    "res = pd.DataFrame(rf_grid.cv_results_)[['mean_fit_time', 'mean_score_time', 'mean_test_score', *params_names]]\n",
    "best_res = res[res.mean_test_score == res.mean_test_score.max()].iloc[0]\n",
    "\n",
    "print('Лучшая модель')\n",
    "print('RMSE:', -float(best_res['mean_test_score']))\n",
    "display('Гиперпараметры:', best_res[params_names])\n",
    "display('Время обучения и время предсказания:', best_res[['mean_fit_time', 'mean_score_time']])"
   ]
  },
  {
   "attachments": {},
   "cell_type": "markdown",
   "metadata": {},
   "source": [
    "Лучший результат здесь даёт лес, в котором 27 деревьев. При этом значение целевой метрики уменьшается лишь незначительно: до 26.58. Время обучения составляет 0.1 сек, время предсказания - 0.01 сек."
   ]
  },
  {
   "attachments": {},
   "cell_type": "markdown",
   "metadata": {},
   "source": [
    "### 3.4. <a id='toc3_4_'></a>[Градиентный бустинг](#toc0_)"
   ]
  },
  {
   "attachments": {},
   "cell_type": "markdown",
   "metadata": {},
   "source": [
    "Следующая модель - градиентный бустинг (библиотека LigthGBM)"
   ]
  },
  {
   "cell_type": "code",
   "execution_count": 24,
   "metadata": {},
   "outputs": [],
   "source": [
    "lgbm_pipeline = Pipeline(steps=[\n",
    "    ('features_maker', TimeSeriesFeaturesMaker(1, 1)),\n",
    "    ('scaler', StandardScaler()),\n",
    "    ('model', LGBMRegressor(random_state=42))\n",
    "])\n",
    "\n",
    "params = {\n",
    "    'features_maker__max_lag' : [1, 2],\n",
    "    'features_maker__rolling_mean_size' : [5, 6],\n",
    "    \"model__max_depth\": [12, 14],\n",
    "    \"model__boosting_type\" : ['gbdt'],\n",
    "    \"model__min_child_samples\" : [12, 20],\n",
    "    \"model__learning_rate\" : [0.1, 0.3, 0.5],\n",
    "    \"model__num_leaves\": [31, 70]\n",
    "}\n",
    "\n",
    "lgbm_grid  = HalvingGridSearchCV(lgbm_pipeline, params, scoring='neg_root_mean_squared_error',\n",
    "                                  cv=ts_cv, verbose=3, n_jobs=-1, max_resources=150, factor=3,\n",
    "                                  resource='model__n_estimators')"
   ]
  },
  {
   "cell_type": "code",
   "execution_count": 25,
   "metadata": {
    "collapsed": true
   },
   "outputs": [
    {
     "name": "stdout",
     "output_type": "stream",
     "text": [
      "n_iterations: 5\n",
      "n_required_iterations: 5\n",
      "n_possible_iterations: 5\n",
      "min_resources_: 1\n",
      "max_resources_: 150\n",
      "aggressive_elimination: False\n",
      "factor: 3\n",
      "----------\n",
      "iter: 0\n",
      "n_candidates: 96\n",
      "n_resources: 1\n",
      "Fitting 4 folds for each of 96 candidates, totalling 384 fits\n",
      "[CV 1/4] END features_maker__max_lag=1, features_maker__rolling_mean_size=5, model__boosting_type=gbdt, model__learning_rate=0.1, model__max_depth=12, model__min_child_samples=12, model__n_estimators=1, model__num_leaves=31; total time=   2.8s\n",
      "[CV 2/4] END features_maker__max_lag=1, features_maker__rolling_mean_size=5, model__boosting_type=gbdt, model__learning_rate=0.1, model__max_depth=12, model__min_child_samples=12, model__n_estimators=1, model__num_leaves=31; total time=   3.9s\n",
      "[CV 3/4] END features_maker__max_lag=1, features_maker__rolling_mean_size=5, model__boosting_type=gbdt, model__learning_rate=0.1, model__max_depth=12, model__min_child_samples=12, model__n_estimators=1, model__num_leaves=31; total time=   3.1s\n",
      "[CV 4/4] END features_maker__max_lag=1, features_maker__rolling_mean_size=5, model__boosting_type=gbdt, model__learning_rate=0.1, model__max_depth=12, model__min_child_samples=12, model__n_estimators=1, model__num_leaves=31; total time=   4.0s\n",
      "[CV 1/4] END features_maker__max_lag=1, features_maker__rolling_mean_size=5, model__boosting_type=gbdt, model__learning_rate=0.1, model__max_depth=12, model__min_child_samples=12, model__n_estimators=1, model__num_leaves=70; total time=   3.8s\n",
      "[CV 2/4] END features_maker__max_lag=1, features_maker__rolling_mean_size=5, model__boosting_type=gbdt, model__learning_rate=0.1, model__max_depth=12, model__min_child_samples=12, model__n_estimators=1, model__num_leaves=70; total time=   6.1s\n",
      "[CV 3/4] END features_maker__max_lag=1, features_maker__rolling_mean_size=5, model__boosting_type=gbdt, model__learning_rate=0.1, model__max_depth=12, model__min_child_samples=12, model__n_estimators=1, model__num_leaves=70; total time=   6.4s\n",
      "[CV 4/4] END features_maker__max_lag=1, features_maker__rolling_mean_size=5, model__boosting_type=gbdt, model__learning_rate=0.1, model__max_depth=12, model__min_child_samples=12, model__n_estimators=1, model__num_leaves=70; total time=   6.9s\n",
      "[CV 1/4] END features_maker__max_lag=1, features_maker__rolling_mean_size=5, model__boosting_type=gbdt, model__learning_rate=0.1, model__max_depth=12, model__min_child_samples=20, model__n_estimators=1, model__num_leaves=31; total time=   2.6s\n",
      "[CV 2/4] END features_maker__max_lag=1, features_maker__rolling_mean_size=5, model__boosting_type=gbdt, model__learning_rate=0.1, model__max_depth=12, model__min_child_samples=20, model__n_estimators=1, model__num_leaves=31; total time=   4.1s\n",
      "[CV 3/4] END features_maker__max_lag=1, features_maker__rolling_mean_size=5, model__boosting_type=gbdt, model__learning_rate=0.1, model__max_depth=12, model__min_child_samples=20, model__n_estimators=1, model__num_leaves=31; total time=   3.5s\n",
      "[CV 4/4] END features_maker__max_lag=1, features_maker__rolling_mean_size=5, model__boosting_type=gbdt, model__learning_rate=0.1, model__max_depth=12, model__min_child_samples=20, model__n_estimators=1, model__num_leaves=31; total time=   3.3s\n",
      "[CV 1/4] END features_maker__max_lag=1, features_maker__rolling_mean_size=5, model__boosting_type=gbdt, model__learning_rate=0.1, model__max_depth=12, model__min_child_samples=20, model__n_estimators=1, model__num_leaves=70; total time=   2.7s\n",
      "[CV 2/4] END features_maker__max_lag=1, features_maker__rolling_mean_size=5, model__boosting_type=gbdt, model__learning_rate=0.1, model__max_depth=12, model__min_child_samples=20, model__n_estimators=1, model__num_leaves=70; total time=   5.0s\n",
      "[CV 3/4] END features_maker__max_lag=1, features_maker__rolling_mean_size=5, model__boosting_type=gbdt, model__learning_rate=0.1, model__max_depth=12, model__min_child_samples=20, model__n_estimators=1, model__num_leaves=70; total time=   6.4s\n",
      "[CV 4/4] END features_maker__max_lag=1, features_maker__rolling_mean_size=5, model__boosting_type=gbdt, model__learning_rate=0.1, model__max_depth=12, model__min_child_samples=20, model__n_estimators=1, model__num_leaves=70; total time=   6.9s\n",
      "[CV 1/4] END features_maker__max_lag=1, features_maker__rolling_mean_size=5, model__boosting_type=gbdt, model__learning_rate=0.1, model__max_depth=14, model__min_child_samples=12, model__n_estimators=1, model__num_leaves=31; total time=   3.1s\n",
      "[CV 2/4] END features_maker__max_lag=1, features_maker__rolling_mean_size=5, model__boosting_type=gbdt, model__learning_rate=0.1, model__max_depth=14, model__min_child_samples=12, model__n_estimators=1, model__num_leaves=31; total time=   3.9s\n",
      "[CV 3/4] END features_maker__max_lag=1, features_maker__rolling_mean_size=5, model__boosting_type=gbdt, model__learning_rate=0.1, model__max_depth=14, model__min_child_samples=12, model__n_estimators=1, model__num_leaves=31; total time=   3.5s\n",
      "[CV 4/4] END features_maker__max_lag=1, features_maker__rolling_mean_size=5, model__boosting_type=gbdt, model__learning_rate=0.1, model__max_depth=14, model__min_child_samples=12, model__n_estimators=1, model__num_leaves=31; total time=   3.5s\n",
      "[CV 1/4] END features_maker__max_lag=1, features_maker__rolling_mean_size=5, model__boosting_type=gbdt, model__learning_rate=0.1, model__max_depth=14, model__min_child_samples=12, model__n_estimators=1, model__num_leaves=70; total time=   4.8s\n",
      "[CV 2/4] END features_maker__max_lag=1, features_maker__rolling_mean_size=5, model__boosting_type=gbdt, model__learning_rate=0.1, model__max_depth=14, model__min_child_samples=12, model__n_estimators=1, model__num_leaves=70; total time=   6.7s\n",
      "[CV 3/4] END features_maker__max_lag=1, features_maker__rolling_mean_size=5, model__boosting_type=gbdt, model__learning_rate=0.1, model__max_depth=14, model__min_child_samples=12, model__n_estimators=1, model__num_leaves=70; total time=   7.1s\n",
      "[CV 4/4] END features_maker__max_lag=1, features_maker__rolling_mean_size=5, model__boosting_type=gbdt, model__learning_rate=0.1, model__max_depth=14, model__min_child_samples=12, model__n_estimators=1, model__num_leaves=70; total time=   8.3s\n",
      "[CV 1/4] END features_maker__max_lag=1, features_maker__rolling_mean_size=5, model__boosting_type=gbdt, model__learning_rate=0.1, model__max_depth=14, model__min_child_samples=20, model__n_estimators=1, model__num_leaves=31; total time=   2.7s\n",
      "[CV 2/4] END features_maker__max_lag=1, features_maker__rolling_mean_size=5, model__boosting_type=gbdt, model__learning_rate=0.1, model__max_depth=14, model__min_child_samples=20, model__n_estimators=1, model__num_leaves=31; total time=   3.4s\n",
      "[CV 3/4] END features_maker__max_lag=1, features_maker__rolling_mean_size=5, model__boosting_type=gbdt, model__learning_rate=0.1, model__max_depth=14, model__min_child_samples=20, model__n_estimators=1, model__num_leaves=31; total time=   3.3s\n",
      "[CV 4/4] END features_maker__max_lag=1, features_maker__rolling_mean_size=5, model__boosting_type=gbdt, model__learning_rate=0.1, model__max_depth=14, model__min_child_samples=20, model__n_estimators=1, model__num_leaves=31; total time=   3.6s\n",
      "[CV 1/4] END features_maker__max_lag=1, features_maker__rolling_mean_size=5, model__boosting_type=gbdt, model__learning_rate=0.1, model__max_depth=14, model__min_child_samples=20, model__n_estimators=1, model__num_leaves=70; total time=   3.4s\n",
      "[CV 2/4] END features_maker__max_lag=1, features_maker__rolling_mean_size=5, model__boosting_type=gbdt, model__learning_rate=0.1, model__max_depth=14, model__min_child_samples=20, model__n_estimators=1, model__num_leaves=70; total time=   5.3s\n",
      "[CV 3/4] END features_maker__max_lag=1, features_maker__rolling_mean_size=5, model__boosting_type=gbdt, model__learning_rate=0.1, model__max_depth=14, model__min_child_samples=20, model__n_estimators=1, model__num_leaves=70; total time=   6.1s\n",
      "[CV 4/4] END features_maker__max_lag=1, features_maker__rolling_mean_size=5, model__boosting_type=gbdt, model__learning_rate=0.1, model__max_depth=14, model__min_child_samples=20, model__n_estimators=1, model__num_leaves=70; total time=   6.5s\n",
      "[CV 1/4] END features_maker__max_lag=1, features_maker__rolling_mean_size=5, model__boosting_type=gbdt, model__learning_rate=0.3, model__max_depth=12, model__min_child_samples=12, model__n_estimators=1, model__num_leaves=31; total time=   2.7s\n",
      "[CV 2/4] END features_maker__max_lag=1, features_maker__rolling_mean_size=5, model__boosting_type=gbdt, model__learning_rate=0.3, model__max_depth=12, model__min_child_samples=12, model__n_estimators=1, model__num_leaves=31; total time=   3.0s\n",
      "[CV 3/4] END features_maker__max_lag=1, features_maker__rolling_mean_size=5, model__boosting_type=gbdt, model__learning_rate=0.3, model__max_depth=12, model__min_child_samples=12, model__n_estimators=1, model__num_leaves=31; total time=   4.0s\n",
      "[CV 4/4] END features_maker__max_lag=1, features_maker__rolling_mean_size=5, model__boosting_type=gbdt, model__learning_rate=0.3, model__max_depth=12, model__min_child_samples=12, model__n_estimators=1, model__num_leaves=31; total time=   4.1s\n",
      "[CV 1/4] END features_maker__max_lag=1, features_maker__rolling_mean_size=5, model__boosting_type=gbdt, model__learning_rate=0.3, model__max_depth=12, model__min_child_samples=12, model__n_estimators=1, model__num_leaves=70; total time=   3.9s\n",
      "[CV 2/4] END features_maker__max_lag=1, features_maker__rolling_mean_size=5, model__boosting_type=gbdt, model__learning_rate=0.3, model__max_depth=12, model__min_child_samples=12, model__n_estimators=1, model__num_leaves=70; total time=   6.2s\n",
      "[CV 3/4] END features_maker__max_lag=1, features_maker__rolling_mean_size=5, model__boosting_type=gbdt, model__learning_rate=0.3, model__max_depth=12, model__min_child_samples=12, model__n_estimators=1, model__num_leaves=70; total time=   6.5s\n",
      "[CV 4/4] END features_maker__max_lag=1, features_maker__rolling_mean_size=5, model__boosting_type=gbdt, model__learning_rate=0.3, model__max_depth=12, model__min_child_samples=12, model__n_estimators=1, model__num_leaves=70; total time=   7.8s\n",
      "[CV 1/4] END features_maker__max_lag=1, features_maker__rolling_mean_size=5, model__boosting_type=gbdt, model__learning_rate=0.3, model__max_depth=12, model__min_child_samples=20, model__n_estimators=1, model__num_leaves=31; total time=   2.7s\n",
      "[CV 2/4] END features_maker__max_lag=1, features_maker__rolling_mean_size=5, model__boosting_type=gbdt, model__learning_rate=0.3, model__max_depth=12, model__min_child_samples=20, model__n_estimators=1, model__num_leaves=31; total time=   3.7s\n",
      "[CV 3/4] END features_maker__max_lag=1, features_maker__rolling_mean_size=5, model__boosting_type=gbdt, model__learning_rate=0.3, model__max_depth=12, model__min_child_samples=20, model__n_estimators=1, model__num_leaves=31; total time=   3.2s\n",
      "[CV 4/4] END features_maker__max_lag=1, features_maker__rolling_mean_size=5, model__boosting_type=gbdt, model__learning_rate=0.3, model__max_depth=12, model__min_child_samples=20, model__n_estimators=1, model__num_leaves=31; total time=   3.3s\n",
      "[CV 1/4] END features_maker__max_lag=1, features_maker__rolling_mean_size=5, model__boosting_type=gbdt, model__learning_rate=0.3, model__max_depth=12, model__min_child_samples=20, model__n_estimators=1, model__num_leaves=70; total time=   2.6s\n",
      "[CV 2/4] END features_maker__max_lag=1, features_maker__rolling_mean_size=5, model__boosting_type=gbdt, model__learning_rate=0.3, model__max_depth=12, model__min_child_samples=20, model__n_estimators=1, model__num_leaves=70; total time=   0.7s\n",
      "[CV 3/4] END features_maker__max_lag=1, features_maker__rolling_mean_size=5, model__boosting_type=gbdt, model__learning_rate=0.3, model__max_depth=12, model__min_child_samples=20, model__n_estimators=1, model__num_leaves=70; total time=   5.9s\n",
      "[CV 4/4] END features_maker__max_lag=1, features_maker__rolling_mean_size=5, model__boosting_type=gbdt, model__learning_rate=0.3, model__max_depth=12, model__min_child_samples=20, model__n_estimators=1, model__num_leaves=70; total time=   6.6s\n",
      "[CV 1/4] END features_maker__max_lag=1, features_maker__rolling_mean_size=5, model__boosting_type=gbdt, model__learning_rate=0.3, model__max_depth=14, model__min_child_samples=12, model__n_estimators=1, model__num_leaves=31; total time=   3.1s\n",
      "[CV 2/4] END features_maker__max_lag=1, features_maker__rolling_mean_size=5, model__boosting_type=gbdt, model__learning_rate=0.3, model__max_depth=14, model__min_child_samples=12, model__n_estimators=1, model__num_leaves=31; total time=   3.1s\n",
      "[CV 3/4] END features_maker__max_lag=1, features_maker__rolling_mean_size=5, model__boosting_type=gbdt, model__learning_rate=0.3, model__max_depth=14, model__min_child_samples=12, model__n_estimators=1, model__num_leaves=31; total time=   3.5s\n",
      "[CV 4/4] END features_maker__max_lag=1, features_maker__rolling_mean_size=5, model__boosting_type=gbdt, model__learning_rate=0.3, model__max_depth=14, model__min_child_samples=12, model__n_estimators=1, model__num_leaves=31; total time=   3.5s\n",
      "[CV 1/4] END features_maker__max_lag=1, features_maker__rolling_mean_size=5, model__boosting_type=gbdt, model__learning_rate=0.3, model__max_depth=14, model__min_child_samples=12, model__n_estimators=1, model__num_leaves=70; total time=   4.3s\n",
      "[CV 2/4] END features_maker__max_lag=1, features_maker__rolling_mean_size=5, model__boosting_type=gbdt, model__learning_rate=0.3, model__max_depth=14, model__min_child_samples=12, model__n_estimators=1, model__num_leaves=70; total time=   8.1s\n",
      "[CV 3/4] END features_maker__max_lag=1, features_maker__rolling_mean_size=5, model__boosting_type=gbdt, model__learning_rate=0.3, model__max_depth=14, model__min_child_samples=12, model__n_estimators=1, model__num_leaves=70; total time=   7.0s\n",
      "[CV 4/4] END features_maker__max_lag=1, features_maker__rolling_mean_size=5, model__boosting_type=gbdt, model__learning_rate=0.3, model__max_depth=14, model__min_child_samples=12, model__n_estimators=1, model__num_leaves=70; total time=   6.9s\n",
      "[CV 1/4] END features_maker__max_lag=1, features_maker__rolling_mean_size=5, model__boosting_type=gbdt, model__learning_rate=0.3, model__max_depth=14, model__min_child_samples=20, model__n_estimators=1, model__num_leaves=31; total time=   2.8s\n",
      "[CV 2/4] END features_maker__max_lag=1, features_maker__rolling_mean_size=5, model__boosting_type=gbdt, model__learning_rate=0.3, model__max_depth=14, model__min_child_samples=20, model__n_estimators=1, model__num_leaves=31; total time=   3.2s\n",
      "[CV 3/4] END features_maker__max_lag=1, features_maker__rolling_mean_size=5, model__boosting_type=gbdt, model__learning_rate=0.3, model__max_depth=14, model__min_child_samples=20, model__n_estimators=1, model__num_leaves=31; total time=   4.1s\n",
      "[CV 4/4] END features_maker__max_lag=1, features_maker__rolling_mean_size=5, model__boosting_type=gbdt, model__learning_rate=0.3, model__max_depth=14, model__min_child_samples=20, model__n_estimators=1, model__num_leaves=31; total time=   3.4s\n",
      "[CV 1/4] END features_maker__max_lag=1, features_maker__rolling_mean_size=5, model__boosting_type=gbdt, model__learning_rate=0.3, model__max_depth=14, model__min_child_samples=20, model__n_estimators=1, model__num_leaves=70; total time=   2.8s\n",
      "[CV 2/4] END features_maker__max_lag=1, features_maker__rolling_mean_size=5, model__boosting_type=gbdt, model__learning_rate=0.3, model__max_depth=14, model__min_child_samples=20, model__n_estimators=1, model__num_leaves=70; total time=   5.3s\n",
      "[CV 3/4] END features_maker__max_lag=1, features_maker__rolling_mean_size=5, model__boosting_type=gbdt, model__learning_rate=0.3, model__max_depth=14, model__min_child_samples=20, model__n_estimators=1, model__num_leaves=70; total time=   7.0s\n",
      "[CV 4/4] END features_maker__max_lag=1, features_maker__rolling_mean_size=5, model__boosting_type=gbdt, model__learning_rate=0.3, model__max_depth=14, model__min_child_samples=20, model__n_estimators=1, model__num_leaves=70; total time=   6.7s\n",
      "[CV 1/4] END features_maker__max_lag=1, features_maker__rolling_mean_size=5, model__boosting_type=gbdt, model__learning_rate=0.5, model__max_depth=12, model__min_child_samples=12, model__n_estimators=1, model__num_leaves=31; total time=   3.1s\n",
      "[CV 2/4] END features_maker__max_lag=1, features_maker__rolling_mean_size=5, model__boosting_type=gbdt, model__learning_rate=0.5, model__max_depth=12, model__min_child_samples=12, model__n_estimators=1, model__num_leaves=31; total time=   3.4s\n",
      "[CV 3/4] END features_maker__max_lag=1, features_maker__rolling_mean_size=5, model__boosting_type=gbdt, model__learning_rate=0.5, model__max_depth=12, model__min_child_samples=12, model__n_estimators=1, model__num_leaves=31; total time=   3.4s\n",
      "[CV 4/4] END features_maker__max_lag=1, features_maker__rolling_mean_size=5, model__boosting_type=gbdt, model__learning_rate=0.5, model__max_depth=12, model__min_child_samples=12, model__n_estimators=1, model__num_leaves=31; total time=   4.2s\n",
      "[CV 1/4] END features_maker__max_lag=1, features_maker__rolling_mean_size=5, model__boosting_type=gbdt, model__learning_rate=0.5, model__max_depth=12, model__min_child_samples=12, model__n_estimators=1, model__num_leaves=70; total time=   4.4s\n",
      "[CV 2/4] END features_maker__max_lag=1, features_maker__rolling_mean_size=5, model__boosting_type=gbdt, model__learning_rate=0.5, model__max_depth=12, model__min_child_samples=12, model__n_estimators=1, model__num_leaves=70; total time=   6.8s\n",
      "[CV 3/4] END features_maker__max_lag=1, features_maker__rolling_mean_size=5, model__boosting_type=gbdt, model__learning_rate=0.5, model__max_depth=12, model__min_child_samples=12, model__n_estimators=1, model__num_leaves=70; total time=   8.2s\n",
      "[CV 4/4] END features_maker__max_lag=1, features_maker__rolling_mean_size=5, model__boosting_type=gbdt, model__learning_rate=0.5, model__max_depth=12, model__min_child_samples=12, model__n_estimators=1, model__num_leaves=70; total time=   6.8s\n",
      "[CV 1/4] END features_maker__max_lag=1, features_maker__rolling_mean_size=5, model__boosting_type=gbdt, model__learning_rate=0.5, model__max_depth=12, model__min_child_samples=20, model__n_estimators=1, model__num_leaves=31; total time=   3.3s\n",
      "[CV 2/4] END features_maker__max_lag=1, features_maker__rolling_mean_size=5, model__boosting_type=gbdt, model__learning_rate=0.5, model__max_depth=12, model__min_child_samples=20, model__n_estimators=1, model__num_leaves=31; total time=   3.3s\n",
      "[CV 3/4] END features_maker__max_lag=1, features_maker__rolling_mean_size=5, model__boosting_type=gbdt, model__learning_rate=0.5, model__max_depth=12, model__min_child_samples=20, model__n_estimators=1, model__num_leaves=31; total time=   3.3s\n",
      "[CV 4/4] END features_maker__max_lag=1, features_maker__rolling_mean_size=5, model__boosting_type=gbdt, model__learning_rate=0.5, model__max_depth=12, model__min_child_samples=20, model__n_estimators=1, model__num_leaves=31; total time=   3.4s\n",
      "[CV 1/4] END features_maker__max_lag=1, features_maker__rolling_mean_size=5, model__boosting_type=gbdt, model__learning_rate=0.5, model__max_depth=12, model__min_child_samples=20, model__n_estimators=1, model__num_leaves=70; total time=   2.8s\n",
      "[CV 2/4] END features_maker__max_lag=1, features_maker__rolling_mean_size=5, model__boosting_type=gbdt, model__learning_rate=0.5, model__max_depth=12, model__min_child_samples=20, model__n_estimators=1, model__num_leaves=70; total time=   5.1s\n",
      "[CV 3/4] END features_maker__max_lag=1, features_maker__rolling_mean_size=5, model__boosting_type=gbdt, model__learning_rate=0.5, model__max_depth=12, model__min_child_samples=20, model__n_estimators=1, model__num_leaves=70; total time=   6.6s\n",
      "[CV 4/4] END features_maker__max_lag=1, features_maker__rolling_mean_size=5, model__boosting_type=gbdt, model__learning_rate=0.5, model__max_depth=12, model__min_child_samples=20, model__n_estimators=1, model__num_leaves=70; total time=   8.3s\n",
      "[CV 1/4] END features_maker__max_lag=1, features_maker__rolling_mean_size=5, model__boosting_type=gbdt, model__learning_rate=0.5, model__max_depth=14, model__min_child_samples=12, model__n_estimators=1, model__num_leaves=31; total time=   3.7s\n",
      "[CV 2/4] END features_maker__max_lag=1, features_maker__rolling_mean_size=5, model__boosting_type=gbdt, model__learning_rate=0.5, model__max_depth=14, model__min_child_samples=12, model__n_estimators=1, model__num_leaves=31; total time=   3.3s\n",
      "[CV 3/4] END features_maker__max_lag=1, features_maker__rolling_mean_size=5, model__boosting_type=gbdt, model__learning_rate=0.5, model__max_depth=14, model__min_child_samples=12, model__n_estimators=1, model__num_leaves=31; total time=   3.1s\n",
      "[CV 4/4] END features_maker__max_lag=1, features_maker__rolling_mean_size=5, model__boosting_type=gbdt, model__learning_rate=0.5, model__max_depth=14, model__min_child_samples=12, model__n_estimators=1, model__num_leaves=31; total time=   3.9s\n",
      "[CV 1/4] END features_maker__max_lag=1, features_maker__rolling_mean_size=5, model__boosting_type=gbdt, model__learning_rate=0.5, model__max_depth=14, model__min_child_samples=12, model__n_estimators=1, model__num_leaves=70; total time=   4.3s\n",
      "[CV 2/4] END features_maker__max_lag=1, features_maker__rolling_mean_size=5, model__boosting_type=gbdt, model__learning_rate=0.5, model__max_depth=14, model__min_child_samples=12, model__n_estimators=1, model__num_leaves=70; total time=   6.4s\n",
      "[CV 3/4] END features_maker__max_lag=1, features_maker__rolling_mean_size=5, model__boosting_type=gbdt, model__learning_rate=0.5, model__max_depth=14, model__min_child_samples=12, model__n_estimators=1, model__num_leaves=70; total time=   6.8s\n",
      "[CV 4/4] END features_maker__max_lag=1, features_maker__rolling_mean_size=5, model__boosting_type=gbdt, model__learning_rate=0.5, model__max_depth=14, model__min_child_samples=12, model__n_estimators=1, model__num_leaves=70; total time=   6.7s\n",
      "[CV 1/4] END features_maker__max_lag=1, features_maker__rolling_mean_size=5, model__boosting_type=gbdt, model__learning_rate=0.5, model__max_depth=14, model__min_child_samples=20, model__n_estimators=1, model__num_leaves=31; total time=   2.9s\n",
      "[CV 2/4] END features_maker__max_lag=1, features_maker__rolling_mean_size=5, model__boosting_type=gbdt, model__learning_rate=0.5, model__max_depth=14, model__min_child_samples=20, model__n_estimators=1, model__num_leaves=31; total time=   3.4s\n",
      "[CV 3/4] END features_maker__max_lag=1, features_maker__rolling_mean_size=5, model__boosting_type=gbdt, model__learning_rate=0.5, model__max_depth=14, model__min_child_samples=20, model__n_estimators=1, model__num_leaves=31; total time=   3.3s\n",
      "[CV 4/4] END features_maker__max_lag=1, features_maker__rolling_mean_size=5, model__boosting_type=gbdt, model__learning_rate=0.5, model__max_depth=14, model__min_child_samples=20, model__n_estimators=1, model__num_leaves=31; total time=   4.0s\n",
      "[CV 1/4] END features_maker__max_lag=1, features_maker__rolling_mean_size=5, model__boosting_type=gbdt, model__learning_rate=0.5, model__max_depth=14, model__min_child_samples=20, model__n_estimators=1, model__num_leaves=70; total time=   3.3s\n",
      "[CV 2/4] END features_maker__max_lag=1, features_maker__rolling_mean_size=5, model__boosting_type=gbdt, model__learning_rate=0.5, model__max_depth=14, model__min_child_samples=20, model__n_estimators=1, model__num_leaves=70; total time=   5.3s\n",
      "[CV 3/4] END features_maker__max_lag=1, features_maker__rolling_mean_size=5, model__boosting_type=gbdt, model__learning_rate=0.5, model__max_depth=14, model__min_child_samples=20, model__n_estimators=1, model__num_leaves=70; total time=   6.5s\n",
      "[CV 4/4] END features_maker__max_lag=1, features_maker__rolling_mean_size=5, model__boosting_type=gbdt, model__learning_rate=0.5, model__max_depth=14, model__min_child_samples=20, model__n_estimators=1, model__num_leaves=70; total time=   6.7s\n",
      "[CV 1/4] END features_maker__max_lag=1, features_maker__rolling_mean_size=6, model__boosting_type=gbdt, model__learning_rate=0.1, model__max_depth=12, model__min_child_samples=12, model__n_estimators=1, model__num_leaves=31; total time=   3.7s\n",
      "[CV 2/4] END features_maker__max_lag=1, features_maker__rolling_mean_size=6, model__boosting_type=gbdt, model__learning_rate=0.1, model__max_depth=12, model__min_child_samples=12, model__n_estimators=1, model__num_leaves=31; total time=   3.4s\n",
      "[CV 3/4] END features_maker__max_lag=1, features_maker__rolling_mean_size=6, model__boosting_type=gbdt, model__learning_rate=0.1, model__max_depth=12, model__min_child_samples=12, model__n_estimators=1, model__num_leaves=31; total time=   3.4s\n",
      "[CV 4/4] END features_maker__max_lag=1, features_maker__rolling_mean_size=6, model__boosting_type=gbdt, model__learning_rate=0.1, model__max_depth=12, model__min_child_samples=12, model__n_estimators=1, model__num_leaves=31; total time=   3.4s\n",
      "[CV 1/4] END features_maker__max_lag=1, features_maker__rolling_mean_size=6, model__boosting_type=gbdt, model__learning_rate=0.1, model__max_depth=12, model__min_child_samples=12, model__n_estimators=1, model__num_leaves=70; total time=   4.4s\n",
      "[CV 2/4] END features_maker__max_lag=1, features_maker__rolling_mean_size=6, model__boosting_type=gbdt, model__learning_rate=0.1, model__max_depth=12, model__min_child_samples=12, model__n_estimators=1, model__num_leaves=70; total time=   6.3s\n",
      "[CV 3/4] END features_maker__max_lag=1, features_maker__rolling_mean_size=6, model__boosting_type=gbdt, model__learning_rate=0.1, model__max_depth=12, model__min_child_samples=12, model__n_estimators=1, model__num_leaves=70; total time=   6.6s\n",
      "[CV 4/4] END features_maker__max_lag=1, features_maker__rolling_mean_size=6, model__boosting_type=gbdt, model__learning_rate=0.1, model__max_depth=12, model__min_child_samples=12, model__n_estimators=1, model__num_leaves=70; total time=   6.9s\n",
      "[CV 1/4] END features_maker__max_lag=1, features_maker__rolling_mean_size=6, model__boosting_type=gbdt, model__learning_rate=0.1, model__max_depth=12, model__min_child_samples=20, model__n_estimators=1, model__num_leaves=31; total time=   2.9s\n",
      "[CV 2/4] END features_maker__max_lag=1, features_maker__rolling_mean_size=6, model__boosting_type=gbdt, model__learning_rate=0.1, model__max_depth=12, model__min_child_samples=20, model__n_estimators=1, model__num_leaves=31; total time=   4.0s\n",
      "[CV 3/4] END features_maker__max_lag=1, features_maker__rolling_mean_size=6, model__boosting_type=gbdt, model__learning_rate=0.1, model__max_depth=12, model__min_child_samples=20, model__n_estimators=1, model__num_leaves=31; total time=   3.4s\n",
      "[CV 4/4] END features_maker__max_lag=1, features_maker__rolling_mean_size=6, model__boosting_type=gbdt, model__learning_rate=0.1, model__max_depth=12, model__min_child_samples=20, model__n_estimators=1, model__num_leaves=31; total time=   3.4s\n",
      "[CV 1/4] END features_maker__max_lag=1, features_maker__rolling_mean_size=6, model__boosting_type=gbdt, model__learning_rate=0.1, model__max_depth=12, model__min_child_samples=20, model__n_estimators=1, model__num_leaves=70; total time=   2.8s\n",
      "[CV 2/4] END features_maker__max_lag=1, features_maker__rolling_mean_size=6, model__boosting_type=gbdt, model__learning_rate=0.1, model__max_depth=12, model__min_child_samples=20, model__n_estimators=1, model__num_leaves=70; total time=   5.0s\n",
      "[CV 3/4] END features_maker__max_lag=1, features_maker__rolling_mean_size=6, model__boosting_type=gbdt, model__learning_rate=0.1, model__max_depth=12, model__min_child_samples=20, model__n_estimators=1, model__num_leaves=70; total time=   6.3s\n",
      "[CV 4/4] END features_maker__max_lag=1, features_maker__rolling_mean_size=6, model__boosting_type=gbdt, model__learning_rate=0.1, model__max_depth=12, model__min_child_samples=20, model__n_estimators=1, model__num_leaves=70; total time=   6.8s\n",
      "[CV 1/4] END features_maker__max_lag=1, features_maker__rolling_mean_size=6, model__boosting_type=gbdt, model__learning_rate=0.1, model__max_depth=14, model__min_child_samples=12, model__n_estimators=1, model__num_leaves=31; total time=   3.3s\n",
      "[CV 2/4] END features_maker__max_lag=1, features_maker__rolling_mean_size=6, model__boosting_type=gbdt, model__learning_rate=0.1, model__max_depth=14, model__min_child_samples=12, model__n_estimators=1, model__num_leaves=31; total time=   3.3s\n",
      "[CV 3/4] END features_maker__max_lag=1, features_maker__rolling_mean_size=6, model__boosting_type=gbdt, model__learning_rate=0.1, model__max_depth=14, model__min_child_samples=12, model__n_estimators=1, model__num_leaves=31; total time=   4.0s\n",
      "[CV 4/4] END features_maker__max_lag=1, features_maker__rolling_mean_size=6, model__boosting_type=gbdt, model__learning_rate=0.1, model__max_depth=14, model__min_child_samples=12, model__n_estimators=1, model__num_leaves=31; total time=   3.3s\n",
      "[CV 1/4] END features_maker__max_lag=1, features_maker__rolling_mean_size=6, model__boosting_type=gbdt, model__learning_rate=0.1, model__max_depth=14, model__min_child_samples=12, model__n_estimators=1, model__num_leaves=70; total time=   3.2s\n",
      "[CV 2/4] END features_maker__max_lag=1, features_maker__rolling_mean_size=6, model__boosting_type=gbdt, model__learning_rate=0.1, model__max_depth=14, model__min_child_samples=12, model__n_estimators=1, model__num_leaves=70; total time=   6.1s\n",
      "[CV 3/4] END features_maker__max_lag=1, features_maker__rolling_mean_size=6, model__boosting_type=gbdt, model__learning_rate=0.1, model__max_depth=14, model__min_child_samples=12, model__n_estimators=1, model__num_leaves=70; total time=   6.4s\n",
      "[CV 4/4] END features_maker__max_lag=1, features_maker__rolling_mean_size=6, model__boosting_type=gbdt, model__learning_rate=0.1, model__max_depth=14, model__min_child_samples=12, model__n_estimators=1, model__num_leaves=70; total time=   6.6s\n",
      "[CV 1/4] END features_maker__max_lag=1, features_maker__rolling_mean_size=6, model__boosting_type=gbdt, model__learning_rate=0.1, model__max_depth=14, model__min_child_samples=20, model__n_estimators=1, model__num_leaves=31; total time=   2.5s\n",
      "[CV 2/4] END features_maker__max_lag=1, features_maker__rolling_mean_size=6, model__boosting_type=gbdt, model__learning_rate=0.1, model__max_depth=14, model__min_child_samples=20, model__n_estimators=1, model__num_leaves=31; total time=   3.2s\n",
      "[CV 3/4] END features_maker__max_lag=1, features_maker__rolling_mean_size=6, model__boosting_type=gbdt, model__learning_rate=0.1, model__max_depth=14, model__min_child_samples=20, model__n_estimators=1, model__num_leaves=31; total time=   3.3s\n",
      "[CV 4/4] END features_maker__max_lag=1, features_maker__rolling_mean_size=6, model__boosting_type=gbdt, model__learning_rate=0.1, model__max_depth=14, model__min_child_samples=20, model__n_estimators=1, model__num_leaves=31; total time=   3.3s\n",
      "[CV 1/4] END features_maker__max_lag=1, features_maker__rolling_mean_size=6, model__boosting_type=gbdt, model__learning_rate=0.1, model__max_depth=14, model__min_child_samples=20, model__n_estimators=1, model__num_leaves=70; total time=   3.1s\n",
      "[CV 2/4] END features_maker__max_lag=1, features_maker__rolling_mean_size=6, model__boosting_type=gbdt, model__learning_rate=0.1, model__max_depth=14, model__min_child_samples=20, model__n_estimators=1, model__num_leaves=70; total time=   6.2s\n",
      "[CV 3/4] END features_maker__max_lag=1, features_maker__rolling_mean_size=6, model__boosting_type=gbdt, model__learning_rate=0.1, model__max_depth=14, model__min_child_samples=20, model__n_estimators=1, model__num_leaves=70; total time=   7.5s\n",
      "[CV 4/4] END features_maker__max_lag=1, features_maker__rolling_mean_size=6, model__boosting_type=gbdt, model__learning_rate=0.1, model__max_depth=14, model__min_child_samples=20, model__n_estimators=1, model__num_leaves=70; total time=   6.7s\n",
      "[CV 1/4] END features_maker__max_lag=1, features_maker__rolling_mean_size=6, model__boosting_type=gbdt, model__learning_rate=0.3, model__max_depth=12, model__min_child_samples=12, model__n_estimators=1, model__num_leaves=31; total time=   3.1s\n",
      "[CV 2/4] END features_maker__max_lag=1, features_maker__rolling_mean_size=6, model__boosting_type=gbdt, model__learning_rate=0.3, model__max_depth=12, model__min_child_samples=12, model__n_estimators=1, model__num_leaves=31; total time=   3.5s\n",
      "[CV 3/4] END features_maker__max_lag=1, features_maker__rolling_mean_size=6, model__boosting_type=gbdt, model__learning_rate=0.3, model__max_depth=12, model__min_child_samples=12, model__n_estimators=1, model__num_leaves=31; total time=   3.1s\n",
      "[CV 4/4] END features_maker__max_lag=1, features_maker__rolling_mean_size=6, model__boosting_type=gbdt, model__learning_rate=0.3, model__max_depth=12, model__min_child_samples=12, model__n_estimators=1, model__num_leaves=31; total time=   4.0s\n",
      "[CV 1/4] END features_maker__max_lag=1, features_maker__rolling_mean_size=6, model__boosting_type=gbdt, model__learning_rate=0.3, model__max_depth=12, model__min_child_samples=12, model__n_estimators=1, model__num_leaves=70; total time=   4.5s\n",
      "[CV 2/4] END features_maker__max_lag=1, features_maker__rolling_mean_size=6, model__boosting_type=gbdt, model__learning_rate=0.3, model__max_depth=12, model__min_child_samples=12, model__n_estimators=1, model__num_leaves=70; total time=   6.1s\n",
      "[CV 3/4] END features_maker__max_lag=1, features_maker__rolling_mean_size=6, model__boosting_type=gbdt, model__learning_rate=0.3, model__max_depth=12, model__min_child_samples=12, model__n_estimators=1, model__num_leaves=70; total time=   6.4s\n",
      "[CV 4/4] END features_maker__max_lag=1, features_maker__rolling_mean_size=6, model__boosting_type=gbdt, model__learning_rate=0.3, model__max_depth=12, model__min_child_samples=12, model__n_estimators=1, model__num_leaves=70; total time=   7.9s\n",
      "[CV 1/4] END features_maker__max_lag=1, features_maker__rolling_mean_size=6, model__boosting_type=gbdt, model__learning_rate=0.3, model__max_depth=12, model__min_child_samples=20, model__n_estimators=1, model__num_leaves=31; total time=   2.4s\n",
      "[CV 2/4] END features_maker__max_lag=1, features_maker__rolling_mean_size=6, model__boosting_type=gbdt, model__learning_rate=0.3, model__max_depth=12, model__min_child_samples=20, model__n_estimators=1, model__num_leaves=31; total time=   3.0s\n",
      "[CV 3/4] END features_maker__max_lag=1, features_maker__rolling_mean_size=6, model__boosting_type=gbdt, model__learning_rate=0.3, model__max_depth=12, model__min_child_samples=20, model__n_estimators=1, model__num_leaves=31; total time=   3.2s\n",
      "[CV 4/4] END features_maker__max_lag=1, features_maker__rolling_mean_size=6, model__boosting_type=gbdt, model__learning_rate=0.3, model__max_depth=12, model__min_child_samples=20, model__n_estimators=1, model__num_leaves=31; total time=   3.4s\n",
      "[CV 1/4] END features_maker__max_lag=1, features_maker__rolling_mean_size=6, model__boosting_type=gbdt, model__learning_rate=0.3, model__max_depth=12, model__min_child_samples=20, model__n_estimators=1, model__num_leaves=70; total time=   2.8s\n",
      "[CV 2/4] END features_maker__max_lag=1, features_maker__rolling_mean_size=6, model__boosting_type=gbdt, model__learning_rate=0.3, model__max_depth=12, model__min_child_samples=20, model__n_estimators=1, model__num_leaves=70; total time=   5.0s\n",
      "[CV 3/4] END features_maker__max_lag=1, features_maker__rolling_mean_size=6, model__boosting_type=gbdt, model__learning_rate=0.3, model__max_depth=12, model__min_child_samples=20, model__n_estimators=1, model__num_leaves=70; total time=   6.4s\n",
      "[CV 4/4] END features_maker__max_lag=1, features_maker__rolling_mean_size=6, model__boosting_type=gbdt, model__learning_rate=0.3, model__max_depth=12, model__min_child_samples=20, model__n_estimators=1, model__num_leaves=70; total time=   6.7s\n",
      "[CV 1/4] END features_maker__max_lag=1, features_maker__rolling_mean_size=6, model__boosting_type=gbdt, model__learning_rate=0.3, model__max_depth=14, model__min_child_samples=12, model__n_estimators=1, model__num_leaves=31; total time=   3.1s\n",
      "[CV 2/4] END features_maker__max_lag=1, features_maker__rolling_mean_size=6, model__boosting_type=gbdt, model__learning_rate=0.3, model__max_depth=14, model__min_child_samples=12, model__n_estimators=1, model__num_leaves=31; total time=   3.4s\n",
      "[CV 3/4] END features_maker__max_lag=1, features_maker__rolling_mean_size=6, model__boosting_type=gbdt, model__learning_rate=0.3, model__max_depth=14, model__min_child_samples=12, model__n_estimators=1, model__num_leaves=31; total time=   4.0s\n",
      "[CV 4/4] END features_maker__max_lag=1, features_maker__rolling_mean_size=6, model__boosting_type=gbdt, model__learning_rate=0.3, model__max_depth=14, model__min_child_samples=12, model__n_estimators=1, model__num_leaves=31; total time=   3.4s\n",
      "[CV 1/4] END features_maker__max_lag=1, features_maker__rolling_mean_size=6, model__boosting_type=gbdt, model__learning_rate=0.3, model__max_depth=14, model__min_child_samples=12, model__n_estimators=1, model__num_leaves=70; total time=   4.3s\n",
      "[CV 2/4] END features_maker__max_lag=1, features_maker__rolling_mean_size=6, model__boosting_type=gbdt, model__learning_rate=0.3, model__max_depth=14, model__min_child_samples=12, model__n_estimators=1, model__num_leaves=70; total time=   6.5s\n",
      "[CV 3/4] END features_maker__max_lag=1, features_maker__rolling_mean_size=6, model__boosting_type=gbdt, model__learning_rate=0.3, model__max_depth=14, model__min_child_samples=12, model__n_estimators=1, model__num_leaves=70; total time=   6.5s\n",
      "[CV 4/4] END features_maker__max_lag=1, features_maker__rolling_mean_size=6, model__boosting_type=gbdt, model__learning_rate=0.3, model__max_depth=14, model__min_child_samples=12, model__n_estimators=1, model__num_leaves=70; total time=   6.4s\n",
      "[CV 1/4] END features_maker__max_lag=1, features_maker__rolling_mean_size=6, model__boosting_type=gbdt, model__learning_rate=0.3, model__max_depth=14, model__min_child_samples=20, model__n_estimators=1, model__num_leaves=31; total time=   2.7s\n",
      "[CV 2/4] END features_maker__max_lag=1, features_maker__rolling_mean_size=6, model__boosting_type=gbdt, model__learning_rate=0.3, model__max_depth=14, model__min_child_samples=20, model__n_estimators=1, model__num_leaves=31; total time=   3.3s\n",
      "[CV 3/4] END features_maker__max_lag=1, features_maker__rolling_mean_size=6, model__boosting_type=gbdt, model__learning_rate=0.3, model__max_depth=14, model__min_child_samples=20, model__n_estimators=1, model__num_leaves=31; total time=   3.2s\n",
      "[CV 4/4] END features_maker__max_lag=1, features_maker__rolling_mean_size=6, model__boosting_type=gbdt, model__learning_rate=0.3, model__max_depth=14, model__min_child_samples=20, model__n_estimators=1, model__num_leaves=31; total time=   4.0s\n",
      "[CV 1/4] END features_maker__max_lag=1, features_maker__rolling_mean_size=6, model__boosting_type=gbdt, model__learning_rate=0.3, model__max_depth=14, model__min_child_samples=20, model__n_estimators=1, model__num_leaves=70; total time=   2.8s\n",
      "[CV 2/4] END features_maker__max_lag=1, features_maker__rolling_mean_size=6, model__boosting_type=gbdt, model__learning_rate=0.3, model__max_depth=14, model__min_child_samples=20, model__n_estimators=1, model__num_leaves=70; total time=   5.9s\n",
      "[CV 3/4] END features_maker__max_lag=1, features_maker__rolling_mean_size=6, model__boosting_type=gbdt, model__learning_rate=0.3, model__max_depth=14, model__min_child_samples=20, model__n_estimators=1, model__num_leaves=70; total time=   7.5s\n",
      "[CV 4/4] END features_maker__max_lag=1, features_maker__rolling_mean_size=6, model__boosting_type=gbdt, model__learning_rate=0.3, model__max_depth=14, model__min_child_samples=20, model__n_estimators=1, model__num_leaves=70; total time=   7.7s\n",
      "[CV 1/4] END features_maker__max_lag=1, features_maker__rolling_mean_size=6, model__boosting_type=gbdt, model__learning_rate=0.5, model__max_depth=12, model__min_child_samples=12, model__n_estimators=1, model__num_leaves=31; total time=   3.5s\n",
      "[CV 2/4] END features_maker__max_lag=1, features_maker__rolling_mean_size=6, model__boosting_type=gbdt, model__learning_rate=0.5, model__max_depth=12, model__min_child_samples=12, model__n_estimators=1, model__num_leaves=31; total time=   3.3s\n",
      "[CV 3/4] END features_maker__max_lag=1, features_maker__rolling_mean_size=6, model__boosting_type=gbdt, model__learning_rate=0.5, model__max_depth=12, model__min_child_samples=12, model__n_estimators=1, model__num_leaves=31; total time=   3.3s\n",
      "[CV 4/4] END features_maker__max_lag=1, features_maker__rolling_mean_size=6, model__boosting_type=gbdt, model__learning_rate=0.5, model__max_depth=12, model__min_child_samples=12, model__n_estimators=1, model__num_leaves=31; total time=   3.4s\n",
      "[CV 1/4] END features_maker__max_lag=1, features_maker__rolling_mean_size=6, model__boosting_type=gbdt, model__learning_rate=0.5, model__max_depth=12, model__min_child_samples=12, model__n_estimators=1, model__num_leaves=70; total time=   4.2s\n",
      "[CV 2/4] END features_maker__max_lag=1, features_maker__rolling_mean_size=6, model__boosting_type=gbdt, model__learning_rate=0.5, model__max_depth=12, model__min_child_samples=12, model__n_estimators=1, model__num_leaves=70; total time=   6.1s\n",
      "[CV 3/4] END features_maker__max_lag=1, features_maker__rolling_mean_size=6, model__boosting_type=gbdt, model__learning_rate=0.5, model__max_depth=12, model__min_child_samples=12, model__n_estimators=1, model__num_leaves=70; total time=   6.3s\n",
      "[CV 4/4] END features_maker__max_lag=1, features_maker__rolling_mean_size=6, model__boosting_type=gbdt, model__learning_rate=0.5, model__max_depth=12, model__min_child_samples=12, model__n_estimators=1, model__num_leaves=70; total time=   6.4s\n",
      "[CV 1/4] END features_maker__max_lag=1, features_maker__rolling_mean_size=6, model__boosting_type=gbdt, model__learning_rate=0.5, model__max_depth=12, model__min_child_samples=20, model__n_estimators=1, model__num_leaves=31; total time=   2.6s\n",
      "[CV 2/4] END features_maker__max_lag=1, features_maker__rolling_mean_size=6, model__boosting_type=gbdt, model__learning_rate=0.5, model__max_depth=12, model__min_child_samples=20, model__n_estimators=1, model__num_leaves=31; total time=   2.9s\n",
      "[CV 3/4] END features_maker__max_lag=1, features_maker__rolling_mean_size=6, model__boosting_type=gbdt, model__learning_rate=0.5, model__max_depth=12, model__min_child_samples=20, model__n_estimators=1, model__num_leaves=31; total time=   3.1s\n",
      "[CV 4/4] END features_maker__max_lag=1, features_maker__rolling_mean_size=6, model__boosting_type=gbdt, model__learning_rate=0.5, model__max_depth=12, model__min_child_samples=20, model__n_estimators=1, model__num_leaves=31; total time=   3.3s\n",
      "[CV 1/4] END features_maker__max_lag=1, features_maker__rolling_mean_size=6, model__boosting_type=gbdt, model__learning_rate=0.5, model__max_depth=12, model__min_child_samples=20, model__n_estimators=1, model__num_leaves=70; total time=   2.6s\n",
      "[CV 2/4] END features_maker__max_lag=1, features_maker__rolling_mean_size=6, model__boosting_type=gbdt, model__learning_rate=0.5, model__max_depth=12, model__min_child_samples=20, model__n_estimators=1, model__num_leaves=70; total time=   4.7s\n",
      "[CV 3/4] END features_maker__max_lag=1, features_maker__rolling_mean_size=6, model__boosting_type=gbdt, model__learning_rate=0.5, model__max_depth=12, model__min_child_samples=20, model__n_estimators=1, model__num_leaves=70; total time=   6.0s\n",
      "[CV 4/4] END features_maker__max_lag=1, features_maker__rolling_mean_size=6, model__boosting_type=gbdt, model__learning_rate=0.5, model__max_depth=12, model__min_child_samples=20, model__n_estimators=1, model__num_leaves=70; total time=   6.4s\n",
      "[CV 1/4] END features_maker__max_lag=1, features_maker__rolling_mean_size=6, model__boosting_type=gbdt, model__learning_rate=0.5, model__max_depth=14, model__min_child_samples=12, model__n_estimators=1, model__num_leaves=31; total time=   3.1s\n",
      "[CV 2/4] END features_maker__max_lag=1, features_maker__rolling_mean_size=6, model__boosting_type=gbdt, model__learning_rate=0.5, model__max_depth=14, model__min_child_samples=12, model__n_estimators=1, model__num_leaves=31; total time=   3.3s\n",
      "[CV 3/4] END features_maker__max_lag=1, features_maker__rolling_mean_size=6, model__boosting_type=gbdt, model__learning_rate=0.5, model__max_depth=14, model__min_child_samples=12, model__n_estimators=1, model__num_leaves=31; total time=   3.4s\n",
      "[CV 4/4] END features_maker__max_lag=1, features_maker__rolling_mean_size=6, model__boosting_type=gbdt, model__learning_rate=0.5, model__max_depth=14, model__min_child_samples=12, model__n_estimators=1, model__num_leaves=31; total time=   3.6s\n",
      "[CV 1/4] END features_maker__max_lag=1, features_maker__rolling_mean_size=6, model__boosting_type=gbdt, model__learning_rate=0.5, model__max_depth=14, model__min_child_samples=12, model__n_estimators=1, model__num_leaves=70; total time=   5.2s\n",
      "[CV 2/4] END features_maker__max_lag=1, features_maker__rolling_mean_size=6, model__boosting_type=gbdt, model__learning_rate=0.5, model__max_depth=14, model__min_child_samples=12, model__n_estimators=1, model__num_leaves=70; total time=   6.3s\n",
      "[CV 3/4] END features_maker__max_lag=1, features_maker__rolling_mean_size=6, model__boosting_type=gbdt, model__learning_rate=0.5, model__max_depth=14, model__min_child_samples=12, model__n_estimators=1, model__num_leaves=70; total time=   6.5s\n",
      "[CV 4/4] END features_maker__max_lag=1, features_maker__rolling_mean_size=6, model__boosting_type=gbdt, model__learning_rate=0.5, model__max_depth=14, model__min_child_samples=12, model__n_estimators=1, model__num_leaves=70; total time=   6.8s\n",
      "[CV 1/4] END features_maker__max_lag=1, features_maker__rolling_mean_size=6, model__boosting_type=gbdt, model__learning_rate=0.5, model__max_depth=14, model__min_child_samples=20, model__n_estimators=1, model__num_leaves=31; total time=   2.7s\n",
      "[CV 2/4] END features_maker__max_lag=1, features_maker__rolling_mean_size=6, model__boosting_type=gbdt, model__learning_rate=0.5, model__max_depth=14, model__min_child_samples=20, model__n_estimators=1, model__num_leaves=31; total time=   3.1s\n",
      "[CV 3/4] END features_maker__max_lag=1, features_maker__rolling_mean_size=6, model__boosting_type=gbdt, model__learning_rate=0.5, model__max_depth=14, model__min_child_samples=20, model__n_estimators=1, model__num_leaves=31; total time=   3.2s\n",
      "[CV 4/4] END features_maker__max_lag=1, features_maker__rolling_mean_size=6, model__boosting_type=gbdt, model__learning_rate=0.5, model__max_depth=14, model__min_child_samples=20, model__n_estimators=1, model__num_leaves=31; total time=   3.5s\n",
      "[CV 1/4] END features_maker__max_lag=1, features_maker__rolling_mean_size=6, model__boosting_type=gbdt, model__learning_rate=0.5, model__max_depth=14, model__min_child_samples=20, model__n_estimators=1, model__num_leaves=70; total time=   2.6s\n",
      "[CV 2/4] END features_maker__max_lag=1, features_maker__rolling_mean_size=6, model__boosting_type=gbdt, model__learning_rate=0.5, model__max_depth=14, model__min_child_samples=20, model__n_estimators=1, model__num_leaves=70; total time=   5.1s\n",
      "[CV 3/4] END features_maker__max_lag=1, features_maker__rolling_mean_size=6, model__boosting_type=gbdt, model__learning_rate=0.5, model__max_depth=14, model__min_child_samples=20, model__n_estimators=1, model__num_leaves=70; total time=   6.2s\n",
      "[CV 4/4] END features_maker__max_lag=1, features_maker__rolling_mean_size=6, model__boosting_type=gbdt, model__learning_rate=0.5, model__max_depth=14, model__min_child_samples=20, model__n_estimators=1, model__num_leaves=70; total time=   6.6s\n",
      "[CV 1/4] END features_maker__max_lag=2, features_maker__rolling_mean_size=5, model__boosting_type=gbdt, model__learning_rate=0.1, model__max_depth=12, model__min_child_samples=12, model__n_estimators=1, model__num_leaves=31; total time=   3.1s\n",
      "[CV 2/4] END features_maker__max_lag=2, features_maker__rolling_mean_size=5, model__boosting_type=gbdt, model__learning_rate=0.1, model__max_depth=12, model__min_child_samples=12, model__n_estimators=1, model__num_leaves=31; total time=   3.4s\n",
      "[CV 3/4] END features_maker__max_lag=2, features_maker__rolling_mean_size=5, model__boosting_type=gbdt, model__learning_rate=0.1, model__max_depth=12, model__min_child_samples=12, model__n_estimators=1, model__num_leaves=31; total time=   3.3s\n",
      "[CV 4/4] END features_maker__max_lag=2, features_maker__rolling_mean_size=5, model__boosting_type=gbdt, model__learning_rate=0.1, model__max_depth=12, model__min_child_samples=12, model__n_estimators=1, model__num_leaves=31; total time=   3.2s\n",
      "[CV 1/4] END features_maker__max_lag=2, features_maker__rolling_mean_size=5, model__boosting_type=gbdt, model__learning_rate=0.1, model__max_depth=12, model__min_child_samples=12, model__n_estimators=1, model__num_leaves=70; total time=   4.8s\n",
      "[CV 2/4] END features_maker__max_lag=2, features_maker__rolling_mean_size=5, model__boosting_type=gbdt, model__learning_rate=0.1, model__max_depth=12, model__min_child_samples=12, model__n_estimators=1, model__num_leaves=70; total time=   6.4s\n",
      "[CV 3/4] END features_maker__max_lag=2, features_maker__rolling_mean_size=5, model__boosting_type=gbdt, model__learning_rate=0.1, model__max_depth=12, model__min_child_samples=12, model__n_estimators=1, model__num_leaves=70; total time=   8.0s\n",
      "[CV 4/4] END features_maker__max_lag=2, features_maker__rolling_mean_size=5, model__boosting_type=gbdt, model__learning_rate=0.1, model__max_depth=12, model__min_child_samples=12, model__n_estimators=1, model__num_leaves=70; total time=   6.6s\n",
      "[CV 1/4] END features_maker__max_lag=2, features_maker__rolling_mean_size=5, model__boosting_type=gbdt, model__learning_rate=0.1, model__max_depth=12, model__min_child_samples=20, model__n_estimators=1, model__num_leaves=31; total time=   3.2s\n",
      "[CV 2/4] END features_maker__max_lag=2, features_maker__rolling_mean_size=5, model__boosting_type=gbdt, model__learning_rate=0.1, model__max_depth=12, model__min_child_samples=20, model__n_estimators=1, model__num_leaves=31; total time=   3.1s\n",
      "[CV 3/4] END features_maker__max_lag=2, features_maker__rolling_mean_size=5, model__boosting_type=gbdt, model__learning_rate=0.1, model__max_depth=12, model__min_child_samples=20, model__n_estimators=1, model__num_leaves=31; total time=   3.3s\n",
      "[CV 4/4] END features_maker__max_lag=2, features_maker__rolling_mean_size=5, model__boosting_type=gbdt, model__learning_rate=0.1, model__max_depth=12, model__min_child_samples=20, model__n_estimators=1, model__num_leaves=31; total time=   3.4s\n",
      "[CV 1/4] END features_maker__max_lag=2, features_maker__rolling_mean_size=5, model__boosting_type=gbdt, model__learning_rate=0.1, model__max_depth=12, model__min_child_samples=20, model__n_estimators=1, model__num_leaves=70; total time=   2.8s\n",
      "[CV 2/4] END features_maker__max_lag=2, features_maker__rolling_mean_size=5, model__boosting_type=gbdt, model__learning_rate=0.1, model__max_depth=12, model__min_child_samples=20, model__n_estimators=1, model__num_leaves=70; total time=   4.9s\n",
      "[CV 3/4] END features_maker__max_lag=2, features_maker__rolling_mean_size=5, model__boosting_type=gbdt, model__learning_rate=0.1, model__max_depth=12, model__min_child_samples=20, model__n_estimators=1, model__num_leaves=70; total time=   6.5s\n",
      "[CV 4/4] END features_maker__max_lag=2, features_maker__rolling_mean_size=5, model__boosting_type=gbdt, model__learning_rate=0.1, model__max_depth=12, model__min_child_samples=20, model__n_estimators=1, model__num_leaves=70; total time=   8.0s\n",
      "[CV 1/4] END features_maker__max_lag=2, features_maker__rolling_mean_size=5, model__boosting_type=gbdt, model__learning_rate=0.1, model__max_depth=14, model__min_child_samples=12, model__n_estimators=1, model__num_leaves=31; total time=   3.0s\n",
      "[CV 2/4] END features_maker__max_lag=2, features_maker__rolling_mean_size=5, model__boosting_type=gbdt, model__learning_rate=0.1, model__max_depth=14, model__min_child_samples=12, model__n_estimators=1, model__num_leaves=31; total time=   3.5s\n",
      "[CV 3/4] END features_maker__max_lag=2, features_maker__rolling_mean_size=5, model__boosting_type=gbdt, model__learning_rate=0.1, model__max_depth=14, model__min_child_samples=12, model__n_estimators=1, model__num_leaves=31; total time=   3.6s\n",
      "[CV 4/4] END features_maker__max_lag=2, features_maker__rolling_mean_size=5, model__boosting_type=gbdt, model__learning_rate=0.1, model__max_depth=14, model__min_child_samples=12, model__n_estimators=1, model__num_leaves=31; total time=   3.5s\n",
      "[CV 1/4] END features_maker__max_lag=2, features_maker__rolling_mean_size=5, model__boosting_type=gbdt, model__learning_rate=0.1, model__max_depth=14, model__min_child_samples=12, model__n_estimators=1, model__num_leaves=70; total time=   4.2s\n",
      "[CV 2/4] END features_maker__max_lag=2, features_maker__rolling_mean_size=5, model__boosting_type=gbdt, model__learning_rate=0.1, model__max_depth=14, model__min_child_samples=12, model__n_estimators=1, model__num_leaves=70; total time=   7.8s\n",
      "[CV 3/4] END features_maker__max_lag=2, features_maker__rolling_mean_size=5, model__boosting_type=gbdt, model__learning_rate=0.1, model__max_depth=14, model__min_child_samples=12, model__n_estimators=1, model__num_leaves=70; total time=   6.6s\n",
      "[CV 4/4] END features_maker__max_lag=2, features_maker__rolling_mean_size=5, model__boosting_type=gbdt, model__learning_rate=0.1, model__max_depth=14, model__min_child_samples=12, model__n_estimators=1, model__num_leaves=70; total time=   6.6s\n",
      "[CV 1/4] END features_maker__max_lag=2, features_maker__rolling_mean_size=5, model__boosting_type=gbdt, model__learning_rate=0.1, model__max_depth=14, model__min_child_samples=20, model__n_estimators=1, model__num_leaves=31; total time=   3.3s\n",
      "[CV 2/4] END features_maker__max_lag=2, features_maker__rolling_mean_size=5, model__boosting_type=gbdt, model__learning_rate=0.1, model__max_depth=14, model__min_child_samples=20, model__n_estimators=1, model__num_leaves=31; total time=   3.2s\n",
      "[CV 3/4] END features_maker__max_lag=2, features_maker__rolling_mean_size=5, model__boosting_type=gbdt, model__learning_rate=0.1, model__max_depth=14, model__min_child_samples=20, model__n_estimators=1, model__num_leaves=31; total time=   3.2s\n",
      "[CV 4/4] END features_maker__max_lag=2, features_maker__rolling_mean_size=5, model__boosting_type=gbdt, model__learning_rate=0.1, model__max_depth=14, model__min_child_samples=20, model__n_estimators=1, model__num_leaves=31; total time=   4.0s\n",
      "[CV 1/4] END features_maker__max_lag=2, features_maker__rolling_mean_size=5, model__boosting_type=gbdt, model__learning_rate=0.1, model__max_depth=14, model__min_child_samples=20, model__n_estimators=1, model__num_leaves=70; total time=   3.0s\n",
      "[CV 2/4] END features_maker__max_lag=2, features_maker__rolling_mean_size=5, model__boosting_type=gbdt, model__learning_rate=0.1, model__max_depth=14, model__min_child_samples=20, model__n_estimators=1, model__num_leaves=70; total time=   4.6s\n",
      "[CV 3/4] END features_maker__max_lag=2, features_maker__rolling_mean_size=5, model__boosting_type=gbdt, model__learning_rate=0.1, model__max_depth=14, model__min_child_samples=20, model__n_estimators=1, model__num_leaves=70; total time=   6.0s\n",
      "[CV 4/4] END features_maker__max_lag=2, features_maker__rolling_mean_size=5, model__boosting_type=gbdt, model__learning_rate=0.1, model__max_depth=14, model__min_child_samples=20, model__n_estimators=1, model__num_leaves=70; total time=   6.3s\n",
      "[CV 1/4] END features_maker__max_lag=2, features_maker__rolling_mean_size=5, model__boosting_type=gbdt, model__learning_rate=0.3, model__max_depth=12, model__min_child_samples=12, model__n_estimators=1, model__num_leaves=31; total time=   2.9s\n",
      "[CV 2/4] END features_maker__max_lag=2, features_maker__rolling_mean_size=5, model__boosting_type=gbdt, model__learning_rate=0.3, model__max_depth=12, model__min_child_samples=12, model__n_estimators=1, model__num_leaves=31; total time=   4.0s\n",
      "[CV 3/4] END features_maker__max_lag=2, features_maker__rolling_mean_size=5, model__boosting_type=gbdt, model__learning_rate=0.3, model__max_depth=12, model__min_child_samples=12, model__n_estimators=1, model__num_leaves=31; total time=   3.0s\n",
      "[CV 4/4] END features_maker__max_lag=2, features_maker__rolling_mean_size=5, model__boosting_type=gbdt, model__learning_rate=0.3, model__max_depth=12, model__min_child_samples=12, model__n_estimators=1, model__num_leaves=31; total time=   3.1s\n",
      "[CV 1/4] END features_maker__max_lag=2, features_maker__rolling_mean_size=5, model__boosting_type=gbdt, model__learning_rate=0.3, model__max_depth=12, model__min_child_samples=12, model__n_estimators=1, model__num_leaves=70; total time=   4.0s\n",
      "[CV 2/4] END features_maker__max_lag=2, features_maker__rolling_mean_size=5, model__boosting_type=gbdt, model__learning_rate=0.3, model__max_depth=12, model__min_child_samples=12, model__n_estimators=1, model__num_leaves=70; total time=   6.3s\n",
      "[CV 3/4] END features_maker__max_lag=2, features_maker__rolling_mean_size=5, model__boosting_type=gbdt, model__learning_rate=0.3, model__max_depth=12, model__min_child_samples=12, model__n_estimators=1, model__num_leaves=70; total time=   7.7s\n",
      "[CV 4/4] END features_maker__max_lag=2, features_maker__rolling_mean_size=5, model__boosting_type=gbdt, model__learning_rate=0.3, model__max_depth=12, model__min_child_samples=12, model__n_estimators=1, model__num_leaves=70; total time=   6.3s\n",
      "[CV 1/4] END features_maker__max_lag=2, features_maker__rolling_mean_size=5, model__boosting_type=gbdt, model__learning_rate=0.3, model__max_depth=12, model__min_child_samples=20, model__n_estimators=1, model__num_leaves=31; total time=   2.9s\n",
      "[CV 2/4] END features_maker__max_lag=2, features_maker__rolling_mean_size=5, model__boosting_type=gbdt, model__learning_rate=0.3, model__max_depth=12, model__min_child_samples=20, model__n_estimators=1, model__num_leaves=31; total time=   2.9s\n",
      "[CV 3/4] END features_maker__max_lag=2, features_maker__rolling_mean_size=5, model__boosting_type=gbdt, model__learning_rate=0.3, model__max_depth=12, model__min_child_samples=20, model__n_estimators=1, model__num_leaves=31; total time=   3.1s\n",
      "[CV 4/4] END features_maker__max_lag=2, features_maker__rolling_mean_size=5, model__boosting_type=gbdt, model__learning_rate=0.3, model__max_depth=12, model__min_child_samples=20, model__n_estimators=1, model__num_leaves=31; total time=   3.1s\n",
      "[CV 1/4] END features_maker__max_lag=2, features_maker__rolling_mean_size=5, model__boosting_type=gbdt, model__learning_rate=0.3, model__max_depth=12, model__min_child_samples=20, model__n_estimators=1, model__num_leaves=70; total time=   2.4s\n",
      "[CV 2/4] END features_maker__max_lag=2, features_maker__rolling_mean_size=5, model__boosting_type=gbdt, model__learning_rate=0.3, model__max_depth=12, model__min_child_samples=20, model__n_estimators=1, model__num_leaves=70; total time=   4.7s\n",
      "[CV 3/4] END features_maker__max_lag=2, features_maker__rolling_mean_size=5, model__boosting_type=gbdt, model__learning_rate=0.3, model__max_depth=12, model__min_child_samples=20, model__n_estimators=1, model__num_leaves=70; total time=   5.9s\n",
      "[CV 4/4] END features_maker__max_lag=2, features_maker__rolling_mean_size=5, model__boosting_type=gbdt, model__learning_rate=0.3, model__max_depth=12, model__min_child_samples=20, model__n_estimators=1, model__num_leaves=70; total time=   6.1s\n",
      "[CV 1/4] END features_maker__max_lag=2, features_maker__rolling_mean_size=5, model__boosting_type=gbdt, model__learning_rate=0.3, model__max_depth=14, model__min_child_samples=12, model__n_estimators=1, model__num_leaves=31; total time=   3.3s\n",
      "[CV 2/4] END features_maker__max_lag=2, features_maker__rolling_mean_size=5, model__boosting_type=gbdt, model__learning_rate=0.3, model__max_depth=14, model__min_child_samples=12, model__n_estimators=1, model__num_leaves=31; total time=   3.1s\n",
      "[CV 3/4] END features_maker__max_lag=2, features_maker__rolling_mean_size=5, model__boosting_type=gbdt, model__learning_rate=0.3, model__max_depth=14, model__min_child_samples=12, model__n_estimators=1, model__num_leaves=31; total time=   3.1s\n",
      "[CV 4/4] END features_maker__max_lag=2, features_maker__rolling_mean_size=5, model__boosting_type=gbdt, model__learning_rate=0.3, model__max_depth=14, model__min_child_samples=12, model__n_estimators=1, model__num_leaves=31; total time=   3.3s\n",
      "[CV 1/4] END features_maker__max_lag=2, features_maker__rolling_mean_size=5, model__boosting_type=gbdt, model__learning_rate=0.3, model__max_depth=14, model__min_child_samples=12, model__n_estimators=1, model__num_leaves=70; total time=   4.4s\n",
      "[CV 2/4] END features_maker__max_lag=2, features_maker__rolling_mean_size=5, model__boosting_type=gbdt, model__learning_rate=0.3, model__max_depth=14, model__min_child_samples=12, model__n_estimators=1, model__num_leaves=70; total time=   7.7s\n",
      "[CV 3/4] END features_maker__max_lag=2, features_maker__rolling_mean_size=5, model__boosting_type=gbdt, model__learning_rate=0.3, model__max_depth=14, model__min_child_samples=12, model__n_estimators=1, model__num_leaves=70; total time=   6.6s\n",
      "[CV 4/4] END features_maker__max_lag=2, features_maker__rolling_mean_size=5, model__boosting_type=gbdt, model__learning_rate=0.3, model__max_depth=14, model__min_child_samples=12, model__n_estimators=1, model__num_leaves=70; total time=   6.6s\n",
      "[CV 1/4] END features_maker__max_lag=2, features_maker__rolling_mean_size=5, model__boosting_type=gbdt, model__learning_rate=0.3, model__max_depth=14, model__min_child_samples=20, model__n_estimators=1, model__num_leaves=31; total time=   3.3s\n",
      "[CV 2/4] END features_maker__max_lag=2, features_maker__rolling_mean_size=5, model__boosting_type=gbdt, model__learning_rate=0.3, model__max_depth=14, model__min_child_samples=20, model__n_estimators=1, model__num_leaves=31; total time=   3.3s\n",
      "[CV 3/4] END features_maker__max_lag=2, features_maker__rolling_mean_size=5, model__boosting_type=gbdt, model__learning_rate=0.3, model__max_depth=14, model__min_child_samples=20, model__n_estimators=1, model__num_leaves=31; total time=   3.8s\n",
      "[CV 4/4] END features_maker__max_lag=2, features_maker__rolling_mean_size=5, model__boosting_type=gbdt, model__learning_rate=0.3, model__max_depth=14, model__min_child_samples=20, model__n_estimators=1, model__num_leaves=31; total time=   3.4s\n",
      "[CV 1/4] END features_maker__max_lag=2, features_maker__rolling_mean_size=5, model__boosting_type=gbdt, model__learning_rate=0.3, model__max_depth=14, model__min_child_samples=20, model__n_estimators=1, model__num_leaves=70; total time=   2.8s\n",
      "[CV 2/4] END features_maker__max_lag=2, features_maker__rolling_mean_size=5, model__boosting_type=gbdt, model__learning_rate=0.3, model__max_depth=14, model__min_child_samples=20, model__n_estimators=1, model__num_leaves=70; total time=   4.8s\n",
      "[CV 3/4] END features_maker__max_lag=2, features_maker__rolling_mean_size=5, model__boosting_type=gbdt, model__learning_rate=0.3, model__max_depth=14, model__min_child_samples=20, model__n_estimators=1, model__num_leaves=70; total time=   6.3s\n",
      "[CV 4/4] END features_maker__max_lag=2, features_maker__rolling_mean_size=5, model__boosting_type=gbdt, model__learning_rate=0.3, model__max_depth=14, model__min_child_samples=20, model__n_estimators=1, model__num_leaves=70; total time=   6.3s\n",
      "[CV 1/4] END features_maker__max_lag=2, features_maker__rolling_mean_size=5, model__boosting_type=gbdt, model__learning_rate=0.5, model__max_depth=12, model__min_child_samples=12, model__n_estimators=1, model__num_leaves=31; total time=   3.2s\n",
      "[CV 2/4] END features_maker__max_lag=2, features_maker__rolling_mean_size=5, model__boosting_type=gbdt, model__learning_rate=0.5, model__max_depth=12, model__min_child_samples=12, model__n_estimators=1, model__num_leaves=31; total time=   4.1s\n",
      "[CV 3/4] END features_maker__max_lag=2, features_maker__rolling_mean_size=5, model__boosting_type=gbdt, model__learning_rate=0.5, model__max_depth=12, model__min_child_samples=12, model__n_estimators=1, model__num_leaves=31; total time=   4.0s\n",
      "[CV 4/4] END features_maker__max_lag=2, features_maker__rolling_mean_size=5, model__boosting_type=gbdt, model__learning_rate=0.5, model__max_depth=12, model__min_child_samples=12, model__n_estimators=1, model__num_leaves=31; total time=   4.1s\n",
      "[CV 1/4] END features_maker__max_lag=2, features_maker__rolling_mean_size=5, model__boosting_type=gbdt, model__learning_rate=0.5, model__max_depth=12, model__min_child_samples=12, model__n_estimators=1, model__num_leaves=70; total time=   4.3s\n",
      "[CV 2/4] END features_maker__max_lag=2, features_maker__rolling_mean_size=5, model__boosting_type=gbdt, model__learning_rate=0.5, model__max_depth=12, model__min_child_samples=12, model__n_estimators=1, model__num_leaves=70; total time=   6.4s\n",
      "[CV 3/4] END features_maker__max_lag=2, features_maker__rolling_mean_size=5, model__boosting_type=gbdt, model__learning_rate=0.5, model__max_depth=12, model__min_child_samples=12, model__n_estimators=1, model__num_leaves=70; total time=   8.1s\n",
      "[CV 4/4] END features_maker__max_lag=2, features_maker__rolling_mean_size=5, model__boosting_type=gbdt, model__learning_rate=0.5, model__max_depth=12, model__min_child_samples=12, model__n_estimators=1, model__num_leaves=70; total time=   6.9s\n",
      "[CV 1/4] END features_maker__max_lag=2, features_maker__rolling_mean_size=5, model__boosting_type=gbdt, model__learning_rate=0.5, model__max_depth=12, model__min_child_samples=20, model__n_estimators=1, model__num_leaves=31; total time=   2.7s\n",
      "[CV 2/4] END features_maker__max_lag=2, features_maker__rolling_mean_size=5, model__boosting_type=gbdt, model__learning_rate=0.5, model__max_depth=12, model__min_child_samples=20, model__n_estimators=1, model__num_leaves=31; total time=   3.2s\n",
      "[CV 3/4] END features_maker__max_lag=2, features_maker__rolling_mean_size=5, model__boosting_type=gbdt, model__learning_rate=0.5, model__max_depth=12, model__min_child_samples=20, model__n_estimators=1, model__num_leaves=31; total time=   3.0s\n",
      "[CV 4/4] END features_maker__max_lag=2, features_maker__rolling_mean_size=5, model__boosting_type=gbdt, model__learning_rate=0.5, model__max_depth=12, model__min_child_samples=20, model__n_estimators=1, model__num_leaves=31; total time=   3.4s\n",
      "[CV 1/4] END features_maker__max_lag=2, features_maker__rolling_mean_size=5, model__boosting_type=gbdt, model__learning_rate=0.5, model__max_depth=12, model__min_child_samples=20, model__n_estimators=1, model__num_leaves=70; total time=   2.7s\n",
      "[CV 2/4] END features_maker__max_lag=2, features_maker__rolling_mean_size=5, model__boosting_type=gbdt, model__learning_rate=0.5, model__max_depth=12, model__min_child_samples=20, model__n_estimators=1, model__num_leaves=70; total time=   5.6s\n",
      "[CV 3/4] END features_maker__max_lag=2, features_maker__rolling_mean_size=5, model__boosting_type=gbdt, model__learning_rate=0.5, model__max_depth=12, model__min_child_samples=20, model__n_estimators=1, model__num_leaves=70; total time=   6.4s\n",
      "[CV 4/4] END features_maker__max_lag=2, features_maker__rolling_mean_size=5, model__boosting_type=gbdt, model__learning_rate=0.5, model__max_depth=12, model__min_child_samples=20, model__n_estimators=1, model__num_leaves=70; total time=   7.8s\n",
      "[CV 1/4] END features_maker__max_lag=2, features_maker__rolling_mean_size=5, model__boosting_type=gbdt, model__learning_rate=0.5, model__max_depth=14, model__min_child_samples=12, model__n_estimators=1, model__num_leaves=31; total time=   3.1s\n",
      "[CV 2/4] END features_maker__max_lag=2, features_maker__rolling_mean_size=5, model__boosting_type=gbdt, model__learning_rate=0.5, model__max_depth=14, model__min_child_samples=12, model__n_estimators=1, model__num_leaves=31; total time=   4.0s\n",
      "[CV 3/4] END features_maker__max_lag=2, features_maker__rolling_mean_size=5, model__boosting_type=gbdt, model__learning_rate=0.5, model__max_depth=14, model__min_child_samples=12, model__n_estimators=1, model__num_leaves=31; total time=   3.4s\n",
      "[CV 4/4] END features_maker__max_lag=2, features_maker__rolling_mean_size=5, model__boosting_type=gbdt, model__learning_rate=0.5, model__max_depth=14, model__min_child_samples=12, model__n_estimators=1, model__num_leaves=31; total time=   4.2s\n",
      "[CV 1/4] END features_maker__max_lag=2, features_maker__rolling_mean_size=5, model__boosting_type=gbdt, model__learning_rate=0.5, model__max_depth=14, model__min_child_samples=12, model__n_estimators=1, model__num_leaves=70; total time=   4.2s\n",
      "[CV 2/4] END features_maker__max_lag=2, features_maker__rolling_mean_size=5, model__boosting_type=gbdt, model__learning_rate=0.5, model__max_depth=14, model__min_child_samples=12, model__n_estimators=1, model__num_leaves=70; total time=   8.0s\n",
      "[CV 3/4] END features_maker__max_lag=2, features_maker__rolling_mean_size=5, model__boosting_type=gbdt, model__learning_rate=0.5, model__max_depth=14, model__min_child_samples=12, model__n_estimators=1, model__num_leaves=70; total time=   6.7s\n",
      "[CV 4/4] END features_maker__max_lag=2, features_maker__rolling_mean_size=5, model__boosting_type=gbdt, model__learning_rate=0.5, model__max_depth=14, model__min_child_samples=12, model__n_estimators=1, model__num_leaves=70; total time=   8.1s\n",
      "[CV 1/4] END features_maker__max_lag=2, features_maker__rolling_mean_size=5, model__boosting_type=gbdt, model__learning_rate=0.5, model__max_depth=14, model__min_child_samples=20, model__n_estimators=1, model__num_leaves=31; total time=   3.2s\n",
      "[CV 2/4] END features_maker__max_lag=2, features_maker__rolling_mean_size=5, model__boosting_type=gbdt, model__learning_rate=0.5, model__max_depth=14, model__min_child_samples=20, model__n_estimators=1, model__num_leaves=31; total time=   3.2s\n",
      "[CV 3/4] END features_maker__max_lag=2, features_maker__rolling_mean_size=5, model__boosting_type=gbdt, model__learning_rate=0.5, model__max_depth=14, model__min_child_samples=20, model__n_estimators=1, model__num_leaves=31; total time=   3.3s\n",
      "[CV 4/4] END features_maker__max_lag=2, features_maker__rolling_mean_size=5, model__boosting_type=gbdt, model__learning_rate=0.5, model__max_depth=14, model__min_child_samples=20, model__n_estimators=1, model__num_leaves=31; total time=   3.5s\n",
      "[CV 1/4] END features_maker__max_lag=2, features_maker__rolling_mean_size=5, model__boosting_type=gbdt, model__learning_rate=0.5, model__max_depth=14, model__min_child_samples=20, model__n_estimators=1, model__num_leaves=70; total time=   2.7s\n",
      "[CV 2/4] END features_maker__max_lag=2, features_maker__rolling_mean_size=5, model__boosting_type=gbdt, model__learning_rate=0.5, model__max_depth=14, model__min_child_samples=20, model__n_estimators=1, model__num_leaves=70; total time=   5.0s\n",
      "[CV 3/4] END features_maker__max_lag=2, features_maker__rolling_mean_size=5, model__boosting_type=gbdt, model__learning_rate=0.5, model__max_depth=14, model__min_child_samples=20, model__n_estimators=1, model__num_leaves=70; total time=   6.3s\n",
      "[CV 4/4] END features_maker__max_lag=2, features_maker__rolling_mean_size=5, model__boosting_type=gbdt, model__learning_rate=0.5, model__max_depth=14, model__min_child_samples=20, model__n_estimators=1, model__num_leaves=70; total time=   6.5s\n",
      "[CV 1/4] END features_maker__max_lag=2, features_maker__rolling_mean_size=6, model__boosting_type=gbdt, model__learning_rate=0.1, model__max_depth=12, model__min_child_samples=12, model__n_estimators=1, model__num_leaves=31; total time=   3.0s\n",
      "[CV 2/4] END features_maker__max_lag=2, features_maker__rolling_mean_size=6, model__boosting_type=gbdt, model__learning_rate=0.1, model__max_depth=12, model__min_child_samples=12, model__n_estimators=1, model__num_leaves=31; total time=   3.5s\n",
      "[CV 3/4] END features_maker__max_lag=2, features_maker__rolling_mean_size=6, model__boosting_type=gbdt, model__learning_rate=0.1, model__max_depth=12, model__min_child_samples=12, model__n_estimators=1, model__num_leaves=31; total time=   3.3s\n",
      "[CV 4/4] END features_maker__max_lag=2, features_maker__rolling_mean_size=6, model__boosting_type=gbdt, model__learning_rate=0.1, model__max_depth=12, model__min_child_samples=12, model__n_estimators=1, model__num_leaves=31; total time=   3.9s\n",
      "[CV 1/4] END features_maker__max_lag=2, features_maker__rolling_mean_size=6, model__boosting_type=gbdt, model__learning_rate=0.1, model__max_depth=12, model__min_child_samples=12, model__n_estimators=1, model__num_leaves=70; total time=   4.6s\n",
      "[CV 2/4] END features_maker__max_lag=2, features_maker__rolling_mean_size=6, model__boosting_type=gbdt, model__learning_rate=0.1, model__max_depth=12, model__min_child_samples=12, model__n_estimators=1, model__num_leaves=70; total time=   6.1s\n",
      "[CV 3/4] END features_maker__max_lag=2, features_maker__rolling_mean_size=6, model__boosting_type=gbdt, model__learning_rate=0.1, model__max_depth=12, model__min_child_samples=12, model__n_estimators=1, model__num_leaves=70; total time=   6.4s\n",
      "[CV 4/4] END features_maker__max_lag=2, features_maker__rolling_mean_size=6, model__boosting_type=gbdt, model__learning_rate=0.1, model__max_depth=12, model__min_child_samples=12, model__n_estimators=1, model__num_leaves=70; total time=   7.8s\n",
      "[CV 1/4] END features_maker__max_lag=2, features_maker__rolling_mean_size=6, model__boosting_type=gbdt, model__learning_rate=0.1, model__max_depth=12, model__min_child_samples=20, model__n_estimators=1, model__num_leaves=31; total time=   3.1s\n",
      "[CV 2/4] END features_maker__max_lag=2, features_maker__rolling_mean_size=6, model__boosting_type=gbdt, model__learning_rate=0.1, model__max_depth=12, model__min_child_samples=20, model__n_estimators=1, model__num_leaves=31; total time=   3.3s\n",
      "[CV 3/4] END features_maker__max_lag=2, features_maker__rolling_mean_size=6, model__boosting_type=gbdt, model__learning_rate=0.1, model__max_depth=12, model__min_child_samples=20, model__n_estimators=1, model__num_leaves=31; total time=   3.8s\n",
      "[CV 4/4] END features_maker__max_lag=2, features_maker__rolling_mean_size=6, model__boosting_type=gbdt, model__learning_rate=0.1, model__max_depth=12, model__min_child_samples=20, model__n_estimators=1, model__num_leaves=31; total time=   3.2s\n",
      "[CV 1/4] END features_maker__max_lag=2, features_maker__rolling_mean_size=6, model__boosting_type=gbdt, model__learning_rate=0.1, model__max_depth=12, model__min_child_samples=20, model__n_estimators=1, model__num_leaves=70; total time=   2.7s\n",
      "[CV 2/4] END features_maker__max_lag=2, features_maker__rolling_mean_size=6, model__boosting_type=gbdt, model__learning_rate=0.1, model__max_depth=12, model__min_child_samples=20, model__n_estimators=1, model__num_leaves=70; total time=   4.9s\n",
      "[CV 3/4] END features_maker__max_lag=2, features_maker__rolling_mean_size=6, model__boosting_type=gbdt, model__learning_rate=0.1, model__max_depth=12, model__min_child_samples=20, model__n_estimators=1, model__num_leaves=70; total time=   7.5s\n",
      "[CV 4/4] END features_maker__max_lag=2, features_maker__rolling_mean_size=6, model__boosting_type=gbdt, model__learning_rate=0.1, model__max_depth=12, model__min_child_samples=20, model__n_estimators=1, model__num_leaves=70; total time=   6.4s\n",
      "[CV 1/4] END features_maker__max_lag=2, features_maker__rolling_mean_size=6, model__boosting_type=gbdt, model__learning_rate=0.1, model__max_depth=14, model__min_child_samples=12, model__n_estimators=1, model__num_leaves=31; total time=   2.9s\n",
      "[CV 2/4] END features_maker__max_lag=2, features_maker__rolling_mean_size=6, model__boosting_type=gbdt, model__learning_rate=0.1, model__max_depth=14, model__min_child_samples=12, model__n_estimators=1, model__num_leaves=31; total time=   3.4s\n",
      "[CV 3/4] END features_maker__max_lag=2, features_maker__rolling_mean_size=6, model__boosting_type=gbdt, model__learning_rate=0.1, model__max_depth=14, model__min_child_samples=12, model__n_estimators=1, model__num_leaves=31; total time=   3.3s\n",
      "[CV 4/4] END features_maker__max_lag=2, features_maker__rolling_mean_size=6, model__boosting_type=gbdt, model__learning_rate=0.1, model__max_depth=14, model__min_child_samples=12, model__n_estimators=1, model__num_leaves=31; total time=   3.2s\n",
      "[CV 1/4] END features_maker__max_lag=2, features_maker__rolling_mean_size=6, model__boosting_type=gbdt, model__learning_rate=0.1, model__max_depth=14, model__min_child_samples=12, model__n_estimators=1, model__num_leaves=70; total time=   4.3s\n",
      "[CV 2/4] END features_maker__max_lag=2, features_maker__rolling_mean_size=6, model__boosting_type=gbdt, model__learning_rate=0.1, model__max_depth=14, model__min_child_samples=12, model__n_estimators=1, model__num_leaves=70; total time=   7.5s\n",
      "[CV 3/4] END features_maker__max_lag=2, features_maker__rolling_mean_size=6, model__boosting_type=gbdt, model__learning_rate=0.1, model__max_depth=14, model__min_child_samples=12, model__n_estimators=1, model__num_leaves=70; total time=   6.5s\n",
      "[CV 4/4] END features_maker__max_lag=2, features_maker__rolling_mean_size=6, model__boosting_type=gbdt, model__learning_rate=0.1, model__max_depth=14, model__min_child_samples=12, model__n_estimators=1, model__num_leaves=70; total time=   6.7s\n",
      "[CV 1/4] END features_maker__max_lag=2, features_maker__rolling_mean_size=6, model__boosting_type=gbdt, model__learning_rate=0.1, model__max_depth=14, model__min_child_samples=20, model__n_estimators=1, model__num_leaves=31; total time=   3.0s\n",
      "[CV 2/4] END features_maker__max_lag=2, features_maker__rolling_mean_size=6, model__boosting_type=gbdt, model__learning_rate=0.1, model__max_depth=14, model__min_child_samples=20, model__n_estimators=1, model__num_leaves=31; total time=   3.1s\n",
      "[CV 3/4] END features_maker__max_lag=2, features_maker__rolling_mean_size=6, model__boosting_type=gbdt, model__learning_rate=0.1, model__max_depth=14, model__min_child_samples=20, model__n_estimators=1, model__num_leaves=31; total time=   3.3s\n",
      "[CV 4/4] END features_maker__max_lag=2, features_maker__rolling_mean_size=6, model__boosting_type=gbdt, model__learning_rate=0.1, model__max_depth=14, model__min_child_samples=20, model__n_estimators=1, model__num_leaves=31; total time=   3.4s\n",
      "[CV 1/4] END features_maker__max_lag=2, features_maker__rolling_mean_size=6, model__boosting_type=gbdt, model__learning_rate=0.1, model__max_depth=14, model__min_child_samples=20, model__n_estimators=1, model__num_leaves=70; total time=   3.2s\n",
      "[CV 2/4] END features_maker__max_lag=2, features_maker__rolling_mean_size=6, model__boosting_type=gbdt, model__learning_rate=0.1, model__max_depth=14, model__min_child_samples=20, model__n_estimators=1, model__num_leaves=70; total time=   4.9s\n",
      "[CV 3/4] END features_maker__max_lag=2, features_maker__rolling_mean_size=6, model__boosting_type=gbdt, model__learning_rate=0.1, model__max_depth=14, model__min_child_samples=20, model__n_estimators=1, model__num_leaves=70; total time=   6.0s\n",
      "[CV 4/4] END features_maker__max_lag=2, features_maker__rolling_mean_size=6, model__boosting_type=gbdt, model__learning_rate=0.1, model__max_depth=14, model__min_child_samples=20, model__n_estimators=1, model__num_leaves=70; total time=   7.6s\n",
      "[CV 1/4] END features_maker__max_lag=2, features_maker__rolling_mean_size=6, model__boosting_type=gbdt, model__learning_rate=0.3, model__max_depth=12, model__min_child_samples=12, model__n_estimators=1, model__num_leaves=31; total time=   3.2s\n",
      "[CV 2/4] END features_maker__max_lag=2, features_maker__rolling_mean_size=6, model__boosting_type=gbdt, model__learning_rate=0.3, model__max_depth=12, model__min_child_samples=12, model__n_estimators=1, model__num_leaves=31; total time=   3.3s\n",
      "[CV 3/4] END features_maker__max_lag=2, features_maker__rolling_mean_size=6, model__boosting_type=gbdt, model__learning_rate=0.3, model__max_depth=12, model__min_child_samples=12, model__n_estimators=1, model__num_leaves=31; total time=   3.4s\n",
      "[CV 4/4] END features_maker__max_lag=2, features_maker__rolling_mean_size=6, model__boosting_type=gbdt, model__learning_rate=0.3, model__max_depth=12, model__min_child_samples=12, model__n_estimators=1, model__num_leaves=31; total time=   3.4s\n",
      "[CV 1/4] END features_maker__max_lag=2, features_maker__rolling_mean_size=6, model__boosting_type=gbdt, model__learning_rate=0.3, model__max_depth=12, model__min_child_samples=12, model__n_estimators=1, model__num_leaves=70; total time=   4.5s\n",
      "[CV 2/4] END features_maker__max_lag=2, features_maker__rolling_mean_size=6, model__boosting_type=gbdt, model__learning_rate=0.3, model__max_depth=12, model__min_child_samples=12, model__n_estimators=1, model__num_leaves=70; total time=   6.1s\n",
      "[CV 3/4] END features_maker__max_lag=2, features_maker__rolling_mean_size=6, model__boosting_type=gbdt, model__learning_rate=0.3, model__max_depth=12, model__min_child_samples=12, model__n_estimators=1, model__num_leaves=70; total time=   8.0s\n",
      "[CV 4/4] END features_maker__max_lag=2, features_maker__rolling_mean_size=6, model__boosting_type=gbdt, model__learning_rate=0.3, model__max_depth=12, model__min_child_samples=12, model__n_estimators=1, model__num_leaves=70; total time=   8.2s\n",
      "[CV 1/4] END features_maker__max_lag=2, features_maker__rolling_mean_size=6, model__boosting_type=gbdt, model__learning_rate=0.3, model__max_depth=12, model__min_child_samples=20, model__n_estimators=1, model__num_leaves=31; total time=   2.8s\n",
      "[CV 2/4] END features_maker__max_lag=2, features_maker__rolling_mean_size=6, model__boosting_type=gbdt, model__learning_rate=0.3, model__max_depth=12, model__min_child_samples=20, model__n_estimators=1, model__num_leaves=31; total time=   3.1s\n",
      "[CV 3/4] END features_maker__max_lag=2, features_maker__rolling_mean_size=6, model__boosting_type=gbdt, model__learning_rate=0.3, model__max_depth=12, model__min_child_samples=20, model__n_estimators=1, model__num_leaves=31; total time=   3.1s\n",
      "[CV 4/4] END features_maker__max_lag=2, features_maker__rolling_mean_size=6, model__boosting_type=gbdt, model__learning_rate=0.3, model__max_depth=12, model__min_child_samples=20, model__n_estimators=1, model__num_leaves=31; total time=   3.3s\n",
      "[CV 1/4] END features_maker__max_lag=2, features_maker__rolling_mean_size=6, model__boosting_type=gbdt, model__learning_rate=0.3, model__max_depth=12, model__min_child_samples=20, model__n_estimators=1, model__num_leaves=70; total time=   2.5s\n",
      "[CV 2/4] END features_maker__max_lag=2, features_maker__rolling_mean_size=6, model__boosting_type=gbdt, model__learning_rate=0.3, model__max_depth=12, model__min_child_samples=20, model__n_estimators=1, model__num_leaves=70; total time=   4.5s\n",
      "[CV 3/4] END features_maker__max_lag=2, features_maker__rolling_mean_size=6, model__boosting_type=gbdt, model__learning_rate=0.3, model__max_depth=12, model__min_child_samples=20, model__n_estimators=1, model__num_leaves=70; total time=   6.1s\n",
      "[CV 4/4] END features_maker__max_lag=2, features_maker__rolling_mean_size=6, model__boosting_type=gbdt, model__learning_rate=0.3, model__max_depth=12, model__min_child_samples=20, model__n_estimators=1, model__num_leaves=70; total time=   8.1s\n",
      "[CV 1/4] END features_maker__max_lag=2, features_maker__rolling_mean_size=6, model__boosting_type=gbdt, model__learning_rate=0.3, model__max_depth=14, model__min_child_samples=12, model__n_estimators=1, model__num_leaves=31; total time=   3.8s\n",
      "[CV 2/4] END features_maker__max_lag=2, features_maker__rolling_mean_size=6, model__boosting_type=gbdt, model__learning_rate=0.3, model__max_depth=14, model__min_child_samples=12, model__n_estimators=1, model__num_leaves=31; total time=   3.4s\n",
      "[CV 3/4] END features_maker__max_lag=2, features_maker__rolling_mean_size=6, model__boosting_type=gbdt, model__learning_rate=0.3, model__max_depth=14, model__min_child_samples=12, model__n_estimators=1, model__num_leaves=31; total time=   3.4s\n",
      "[CV 4/4] END features_maker__max_lag=2, features_maker__rolling_mean_size=6, model__boosting_type=gbdt, model__learning_rate=0.3, model__max_depth=14, model__min_child_samples=12, model__n_estimators=1, model__num_leaves=31; total time=   3.3s\n",
      "[CV 1/4] END features_maker__max_lag=2, features_maker__rolling_mean_size=6, model__boosting_type=gbdt, model__learning_rate=0.3, model__max_depth=14, model__min_child_samples=12, model__n_estimators=1, model__num_leaves=70; total time=   5.3s\n",
      "[CV 2/4] END features_maker__max_lag=2, features_maker__rolling_mean_size=6, model__boosting_type=gbdt, model__learning_rate=0.3, model__max_depth=14, model__min_child_samples=12, model__n_estimators=1, model__num_leaves=70; total time=   6.3s\n",
      "[CV 3/4] END features_maker__max_lag=2, features_maker__rolling_mean_size=6, model__boosting_type=gbdt, model__learning_rate=0.3, model__max_depth=14, model__min_child_samples=12, model__n_estimators=1, model__num_leaves=70; total time=   6.4s\n",
      "[CV 4/4] END features_maker__max_lag=2, features_maker__rolling_mean_size=6, model__boosting_type=gbdt, model__learning_rate=0.3, model__max_depth=14, model__min_child_samples=12, model__n_estimators=1, model__num_leaves=70; total time=   6.8s\n",
      "[CV 1/4] END features_maker__max_lag=2, features_maker__rolling_mean_size=6, model__boosting_type=gbdt, model__learning_rate=0.3, model__max_depth=14, model__min_child_samples=20, model__n_estimators=1, model__num_leaves=31; total time=   2.9s\n",
      "[CV 2/4] END features_maker__max_lag=2, features_maker__rolling_mean_size=6, model__boosting_type=gbdt, model__learning_rate=0.3, model__max_depth=14, model__min_child_samples=20, model__n_estimators=1, model__num_leaves=31; total time=   3.7s\n",
      "[CV 3/4] END features_maker__max_lag=2, features_maker__rolling_mean_size=6, model__boosting_type=gbdt, model__learning_rate=0.3, model__max_depth=14, model__min_child_samples=20, model__n_estimators=1, model__num_leaves=31; total time=   3.4s\n",
      "[CV 4/4] END features_maker__max_lag=2, features_maker__rolling_mean_size=6, model__boosting_type=gbdt, model__learning_rate=0.3, model__max_depth=14, model__min_child_samples=20, model__n_estimators=1, model__num_leaves=31; total time=   3.5s\n",
      "[CV 1/4] END features_maker__max_lag=2, features_maker__rolling_mean_size=6, model__boosting_type=gbdt, model__learning_rate=0.3, model__max_depth=14, model__min_child_samples=20, model__n_estimators=1, model__num_leaves=70; total time=   3.2s\n",
      "[CV 2/4] END features_maker__max_lag=2, features_maker__rolling_mean_size=6, model__boosting_type=gbdt, model__learning_rate=0.3, model__max_depth=14, model__min_child_samples=20, model__n_estimators=1, model__num_leaves=70; total time=   5.0s\n",
      "[CV 3/4] END features_maker__max_lag=2, features_maker__rolling_mean_size=6, model__boosting_type=gbdt, model__learning_rate=0.3, model__max_depth=14, model__min_child_samples=20, model__n_estimators=1, model__num_leaves=70; total time=   6.4s\n",
      "[CV 4/4] END features_maker__max_lag=2, features_maker__rolling_mean_size=6, model__boosting_type=gbdt, model__learning_rate=0.3, model__max_depth=14, model__min_child_samples=20, model__n_estimators=1, model__num_leaves=70; total time=   6.8s\n",
      "[CV 1/4] END features_maker__max_lag=2, features_maker__rolling_mean_size=6, model__boosting_type=gbdt, model__learning_rate=0.5, model__max_depth=12, model__min_child_samples=12, model__n_estimators=1, model__num_leaves=31; total time=   3.2s\n",
      "[CV 2/4] END features_maker__max_lag=2, features_maker__rolling_mean_size=6, model__boosting_type=gbdt, model__learning_rate=0.5, model__max_depth=12, model__min_child_samples=12, model__n_estimators=1, model__num_leaves=31; total time=   4.3s\n",
      "[CV 3/4] END features_maker__max_lag=2, features_maker__rolling_mean_size=6, model__boosting_type=gbdt, model__learning_rate=0.5, model__max_depth=12, model__min_child_samples=12, model__n_estimators=1, model__num_leaves=31; total time=   3.6s\n",
      "[CV 4/4] END features_maker__max_lag=2, features_maker__rolling_mean_size=6, model__boosting_type=gbdt, model__learning_rate=0.5, model__max_depth=12, model__min_child_samples=12, model__n_estimators=1, model__num_leaves=31; total time=   3.6s\n",
      "[CV 1/4] END features_maker__max_lag=2, features_maker__rolling_mean_size=6, model__boosting_type=gbdt, model__learning_rate=0.5, model__max_depth=12, model__min_child_samples=12, model__n_estimators=1, model__num_leaves=70; total time=   4.6s\n",
      "[CV 2/4] END features_maker__max_lag=2, features_maker__rolling_mean_size=6, model__boosting_type=gbdt, model__learning_rate=0.5, model__max_depth=12, model__min_child_samples=12, model__n_estimators=1, model__num_leaves=70; total time=   6.6s\n",
      "[CV 3/4] END features_maker__max_lag=2, features_maker__rolling_mean_size=6, model__boosting_type=gbdt, model__learning_rate=0.5, model__max_depth=12, model__min_child_samples=12, model__n_estimators=1, model__num_leaves=70; total time=   6.7s\n",
      "[CV 4/4] END features_maker__max_lag=2, features_maker__rolling_mean_size=6, model__boosting_type=gbdt, model__learning_rate=0.5, model__max_depth=12, model__min_child_samples=12, model__n_estimators=1, model__num_leaves=70; total time=   7.2s\n",
      "[CV 1/4] END features_maker__max_lag=2, features_maker__rolling_mean_size=6, model__boosting_type=gbdt, model__learning_rate=0.5, model__max_depth=12, model__min_child_samples=20, model__n_estimators=1, model__num_leaves=31; total time=   3.2s\n",
      "[CV 2/4] END features_maker__max_lag=2, features_maker__rolling_mean_size=6, model__boosting_type=gbdt, model__learning_rate=0.5, model__max_depth=12, model__min_child_samples=20, model__n_estimators=1, model__num_leaves=31; total time=   3.1s\n",
      "[CV 3/4] END features_maker__max_lag=2, features_maker__rolling_mean_size=6, model__boosting_type=gbdt, model__learning_rate=0.5, model__max_depth=12, model__min_child_samples=20, model__n_estimators=1, model__num_leaves=31; total time=   3.3s\n",
      "[CV 4/4] END features_maker__max_lag=2, features_maker__rolling_mean_size=6, model__boosting_type=gbdt, model__learning_rate=0.5, model__max_depth=12, model__min_child_samples=20, model__n_estimators=1, model__num_leaves=31; total time=   3.5s\n",
      "[CV 1/4] END features_maker__max_lag=2, features_maker__rolling_mean_size=6, model__boosting_type=gbdt, model__learning_rate=0.5, model__max_depth=12, model__min_child_samples=20, model__n_estimators=1, model__num_leaves=70; total time=   3.2s\n",
      "[CV 2/4] END features_maker__max_lag=2, features_maker__rolling_mean_size=6, model__boosting_type=gbdt, model__learning_rate=0.5, model__max_depth=12, model__min_child_samples=20, model__n_estimators=1, model__num_leaves=70; total time=   4.9s\n",
      "[CV 3/4] END features_maker__max_lag=2, features_maker__rolling_mean_size=6, model__boosting_type=gbdt, model__learning_rate=0.5, model__max_depth=12, model__min_child_samples=20, model__n_estimators=1, model__num_leaves=70; total time=   6.6s\n",
      "[CV 4/4] END features_maker__max_lag=2, features_maker__rolling_mean_size=6, model__boosting_type=gbdt, model__learning_rate=0.5, model__max_depth=12, model__min_child_samples=20, model__n_estimators=1, model__num_leaves=70; total time=   7.0s\n",
      "[CV 1/4] END features_maker__max_lag=2, features_maker__rolling_mean_size=6, model__boosting_type=gbdt, model__learning_rate=0.5, model__max_depth=14, model__min_child_samples=12, model__n_estimators=1, model__num_leaves=31; total time=   3.2s\n",
      "[CV 2/4] END features_maker__max_lag=2, features_maker__rolling_mean_size=6, model__boosting_type=gbdt, model__learning_rate=0.5, model__max_depth=14, model__min_child_samples=12, model__n_estimators=1, model__num_leaves=31; total time=   3.5s\n",
      "[CV 3/4] END features_maker__max_lag=2, features_maker__rolling_mean_size=6, model__boosting_type=gbdt, model__learning_rate=0.5, model__max_depth=14, model__min_child_samples=12, model__n_estimators=1, model__num_leaves=31; total time=   3.5s\n",
      "[CV 4/4] END features_maker__max_lag=2, features_maker__rolling_mean_size=6, model__boosting_type=gbdt, model__learning_rate=0.5, model__max_depth=14, model__min_child_samples=12, model__n_estimators=1, model__num_leaves=31; total time=   3.6s\n",
      "[CV 1/4] END features_maker__max_lag=2, features_maker__rolling_mean_size=6, model__boosting_type=gbdt, model__learning_rate=0.5, model__max_depth=14, model__min_child_samples=12, model__n_estimators=1, model__num_leaves=70; total time=   4.7s\n",
      "[CV 2/4] END features_maker__max_lag=2, features_maker__rolling_mean_size=6, model__boosting_type=gbdt, model__learning_rate=0.5, model__max_depth=14, model__min_child_samples=12, model__n_estimators=1, model__num_leaves=70; total time=   6.6s\n",
      "[CV 3/4] END features_maker__max_lag=2, features_maker__rolling_mean_size=6, model__boosting_type=gbdt, model__learning_rate=0.5, model__max_depth=14, model__min_child_samples=12, model__n_estimators=1, model__num_leaves=70; total time=   6.9s\n",
      "[CV 4/4] END features_maker__max_lag=2, features_maker__rolling_mean_size=6, model__boosting_type=gbdt, model__learning_rate=0.5, model__max_depth=14, model__min_child_samples=12, model__n_estimators=1, model__num_leaves=70; total time=   8.4s\n",
      "[CV 1/4] END features_maker__max_lag=2, features_maker__rolling_mean_size=6, model__boosting_type=gbdt, model__learning_rate=0.5, model__max_depth=14, model__min_child_samples=20, model__n_estimators=1, model__num_leaves=31; total time=   2.6s\n",
      "[CV 2/4] END features_maker__max_lag=2, features_maker__rolling_mean_size=6, model__boosting_type=gbdt, model__learning_rate=0.5, model__max_depth=14, model__min_child_samples=20, model__n_estimators=1, model__num_leaves=31; total time=   3.4s\n",
      "[CV 3/4] END features_maker__max_lag=2, features_maker__rolling_mean_size=6, model__boosting_type=gbdt, model__learning_rate=0.5, model__max_depth=14, model__min_child_samples=20, model__n_estimators=1, model__num_leaves=31; total time=   4.0s\n",
      "[CV 4/4] END features_maker__max_lag=2, features_maker__rolling_mean_size=6, model__boosting_type=gbdt, model__learning_rate=0.5, model__max_depth=14, model__min_child_samples=20, model__n_estimators=1, model__num_leaves=31; total time=   3.6s\n",
      "[CV 1/4] END features_maker__max_lag=2, features_maker__rolling_mean_size=6, model__boosting_type=gbdt, model__learning_rate=0.5, model__max_depth=14, model__min_child_samples=20, model__n_estimators=1, model__num_leaves=70; total time=   3.2s\n",
      "[CV 2/4] END features_maker__max_lag=2, features_maker__rolling_mean_size=6, model__boosting_type=gbdt, model__learning_rate=0.5, model__max_depth=14, model__min_child_samples=20, model__n_estimators=1, model__num_leaves=70; total time=   5.2s\n",
      "[CV 3/4] END features_maker__max_lag=2, features_maker__rolling_mean_size=6, model__boosting_type=gbdt, model__learning_rate=0.5, model__max_depth=14, model__min_child_samples=20, model__n_estimators=1, model__num_leaves=70; total time=   7.6s\n",
      "[CV 4/4] END features_maker__max_lag=2, features_maker__rolling_mean_size=6, model__boosting_type=gbdt, model__learning_rate=0.5, model__max_depth=14, model__min_child_samples=20, model__n_estimators=1, model__num_leaves=70; total time=   6.9s\n",
      "----------\n",
      "iter: 1\n",
      "n_candidates: 32\n",
      "n_resources: 3\n",
      "Fitting 4 folds for each of 32 candidates, totalling 128 fits\n",
      "[CV 1/4] END features_maker__max_lag=1, features_maker__rolling_mean_size=5, model__boosting_type=gbdt, model__learning_rate=0.5, model__max_depth=14, model__min_child_samples=20, model__n_estimators=3, model__num_leaves=31; total time=   9.6s\n",
      "[CV 2/4] END features_maker__max_lag=1, features_maker__rolling_mean_size=5, model__boosting_type=gbdt, model__learning_rate=0.5, model__max_depth=14, model__min_child_samples=20, model__n_estimators=3, model__num_leaves=31; total time=   9.1s\n",
      "[CV 3/4] END features_maker__max_lag=1, features_maker__rolling_mean_size=5, model__boosting_type=gbdt, model__learning_rate=0.5, model__max_depth=14, model__min_child_samples=20, model__n_estimators=3, model__num_leaves=31; total time=   9.0s\n",
      "[CV 4/4] END features_maker__max_lag=1, features_maker__rolling_mean_size=5, model__boosting_type=gbdt, model__learning_rate=0.5, model__max_depth=14, model__min_child_samples=20, model__n_estimators=3, model__num_leaves=31; total time=  11.3s\n",
      "[CV 1/4] END features_maker__max_lag=1, features_maker__rolling_mean_size=5, model__boosting_type=gbdt, model__learning_rate=0.5, model__max_depth=12, model__min_child_samples=20, model__n_estimators=3, model__num_leaves=31; total time=   9.2s\n",
      "[CV 2/4] END features_maker__max_lag=1, features_maker__rolling_mean_size=5, model__boosting_type=gbdt, model__learning_rate=0.5, model__max_depth=12, model__min_child_samples=20, model__n_estimators=3, model__num_leaves=31; total time=   9.1s\n",
      "[CV 3/4] END features_maker__max_lag=1, features_maker__rolling_mean_size=5, model__boosting_type=gbdt, model__learning_rate=0.5, model__max_depth=12, model__min_child_samples=20, model__n_estimators=3, model__num_leaves=31; total time=  10.8s\n",
      "[CV 4/4] END features_maker__max_lag=1, features_maker__rolling_mean_size=5, model__boosting_type=gbdt, model__learning_rate=0.5, model__max_depth=12, model__min_child_samples=20, model__n_estimators=3, model__num_leaves=31; total time=   9.4s\n",
      "[CV 1/4] END features_maker__max_lag=2, features_maker__rolling_mean_size=6, model__boosting_type=gbdt, model__learning_rate=0.5, model__max_depth=12, model__min_child_samples=20, model__n_estimators=3, model__num_leaves=31; total time=   7.9s\n",
      "[CV 2/4] END features_maker__max_lag=2, features_maker__rolling_mean_size=6, model__boosting_type=gbdt, model__learning_rate=0.5, model__max_depth=12, model__min_child_samples=20, model__n_estimators=3, model__num_leaves=31; total time=  10.6s\n",
      "[CV 3/4] END features_maker__max_lag=2, features_maker__rolling_mean_size=6, model__boosting_type=gbdt, model__learning_rate=0.5, model__max_depth=12, model__min_child_samples=20, model__n_estimators=3, model__num_leaves=31; total time=   8.5s\n",
      "[CV 4/4] END features_maker__max_lag=2, features_maker__rolling_mean_size=6, model__boosting_type=gbdt, model__learning_rate=0.5, model__max_depth=12, model__min_child_samples=20, model__n_estimators=3, model__num_leaves=31; total time=   8.9s\n",
      "[CV 1/4] END features_maker__max_lag=2, features_maker__rolling_mean_size=6, model__boosting_type=gbdt, model__learning_rate=0.5, model__max_depth=14, model__min_child_samples=20, model__n_estimators=3, model__num_leaves=31; total time=   7.3s\n",
      "[CV 2/4] END features_maker__max_lag=2, features_maker__rolling_mean_size=6, model__boosting_type=gbdt, model__learning_rate=0.5, model__max_depth=14, model__min_child_samples=20, model__n_estimators=3, model__num_leaves=31; total time=   8.2s\n",
      "[CV 3/4] END features_maker__max_lag=2, features_maker__rolling_mean_size=6, model__boosting_type=gbdt, model__learning_rate=0.5, model__max_depth=14, model__min_child_samples=20, model__n_estimators=3, model__num_leaves=31; total time=   8.4s\n",
      "[CV 4/4] END features_maker__max_lag=2, features_maker__rolling_mean_size=6, model__boosting_type=gbdt, model__learning_rate=0.5, model__max_depth=14, model__min_child_samples=20, model__n_estimators=3, model__num_leaves=31; total time=  10.4s\n",
      "[CV 1/4] END features_maker__max_lag=1, features_maker__rolling_mean_size=6, model__boosting_type=gbdt, model__learning_rate=0.5, model__max_depth=14, model__min_child_samples=20, model__n_estimators=3, model__num_leaves=31; total time=   6.8s\n",
      "[CV 2/4] END features_maker__max_lag=1, features_maker__rolling_mean_size=6, model__boosting_type=gbdt, model__learning_rate=0.5, model__max_depth=14, model__min_child_samples=20, model__n_estimators=3, model__num_leaves=31; total time=   7.7s\n",
      "[CV 3/4] END features_maker__max_lag=1, features_maker__rolling_mean_size=6, model__boosting_type=gbdt, model__learning_rate=0.5, model__max_depth=14, model__min_child_samples=20, model__n_estimators=3, model__num_leaves=31; total time=   7.9s\n",
      "[CV 4/4] END features_maker__max_lag=1, features_maker__rolling_mean_size=6, model__boosting_type=gbdt, model__learning_rate=0.5, model__max_depth=14, model__min_child_samples=20, model__n_estimators=3, model__num_leaves=31; total time=   9.7s\n",
      "[CV 1/4] END features_maker__max_lag=1, features_maker__rolling_mean_size=6, model__boosting_type=gbdt, model__learning_rate=0.5, model__max_depth=12, model__min_child_samples=20, model__n_estimators=3, model__num_leaves=31; total time=   6.7s\n",
      "[CV 2/4] END features_maker__max_lag=1, features_maker__rolling_mean_size=6, model__boosting_type=gbdt, model__learning_rate=0.5, model__max_depth=12, model__min_child_samples=20, model__n_estimators=3, model__num_leaves=31; total time=   9.3s\n",
      "[CV 3/4] END features_maker__max_lag=1, features_maker__rolling_mean_size=6, model__boosting_type=gbdt, model__learning_rate=0.5, model__max_depth=12, model__min_child_samples=20, model__n_estimators=3, model__num_leaves=31; total time=   7.9s\n",
      "[CV 4/4] END features_maker__max_lag=1, features_maker__rolling_mean_size=6, model__boosting_type=gbdt, model__learning_rate=0.5, model__max_depth=12, model__min_child_samples=20, model__n_estimators=3, model__num_leaves=31; total time=   8.5s\n",
      "[CV 1/4] END features_maker__max_lag=2, features_maker__rolling_mean_size=5, model__boosting_type=gbdt, model__learning_rate=0.5, model__max_depth=14, model__min_child_samples=20, model__n_estimators=3, model__num_leaves=31; total time=   7.2s\n",
      "[CV 2/4] END features_maker__max_lag=2, features_maker__rolling_mean_size=5, model__boosting_type=gbdt, model__learning_rate=0.5, model__max_depth=14, model__min_child_samples=20, model__n_estimators=3, model__num_leaves=31; total time=   7.5s\n",
      "[CV 3/4] END features_maker__max_lag=2, features_maker__rolling_mean_size=5, model__boosting_type=gbdt, model__learning_rate=0.5, model__max_depth=14, model__min_child_samples=20, model__n_estimators=3, model__num_leaves=31; total time=   7.8s\n",
      "[CV 4/4] END features_maker__max_lag=2, features_maker__rolling_mean_size=5, model__boosting_type=gbdt, model__learning_rate=0.5, model__max_depth=14, model__min_child_samples=20, model__n_estimators=3, model__num_leaves=31; total time=   8.4s\n",
      "[CV 1/4] END features_maker__max_lag=2, features_maker__rolling_mean_size=5, model__boosting_type=gbdt, model__learning_rate=0.5, model__max_depth=12, model__min_child_samples=20, model__n_estimators=3, model__num_leaves=31; total time=   7.3s\n",
      "[CV 2/4] END features_maker__max_lag=2, features_maker__rolling_mean_size=5, model__boosting_type=gbdt, model__learning_rate=0.5, model__max_depth=12, model__min_child_samples=20, model__n_estimators=3, model__num_leaves=31; total time=   8.2s\n",
      "[CV 3/4] END features_maker__max_lag=2, features_maker__rolling_mean_size=5, model__boosting_type=gbdt, model__learning_rate=0.5, model__max_depth=12, model__min_child_samples=20, model__n_estimators=3, model__num_leaves=31; total time=   8.3s\n",
      "[CV 4/4] END features_maker__max_lag=2, features_maker__rolling_mean_size=5, model__boosting_type=gbdt, model__learning_rate=0.5, model__max_depth=12, model__min_child_samples=20, model__n_estimators=3, model__num_leaves=31; total time=   8.8s\n",
      "[CV 1/4] END features_maker__max_lag=2, features_maker__rolling_mean_size=6, model__boosting_type=gbdt, model__learning_rate=0.5, model__max_depth=14, model__min_child_samples=20, model__n_estimators=3, model__num_leaves=70; total time=   8.7s\n",
      "[CV 2/4] END features_maker__max_lag=2, features_maker__rolling_mean_size=6, model__boosting_type=gbdt, model__learning_rate=0.5, model__max_depth=14, model__min_child_samples=20, model__n_estimators=3, model__num_leaves=70; total time=  13.8s\n",
      "[CV 3/4] END features_maker__max_lag=2, features_maker__rolling_mean_size=6, model__boosting_type=gbdt, model__learning_rate=0.5, model__max_depth=14, model__min_child_samples=20, model__n_estimators=3, model__num_leaves=70; total time=  16.9s\n",
      "[CV 4/4] END features_maker__max_lag=2, features_maker__rolling_mean_size=6, model__boosting_type=gbdt, model__learning_rate=0.5, model__max_depth=14, model__min_child_samples=20, model__n_estimators=3, model__num_leaves=70; total time=  17.6s\n",
      "[CV 1/4] END features_maker__max_lag=2, features_maker__rolling_mean_size=6, model__boosting_type=gbdt, model__learning_rate=0.5, model__max_depth=12, model__min_child_samples=20, model__n_estimators=3, model__num_leaves=70; total time=   7.4s\n",
      "[CV 2/4] END features_maker__max_lag=2, features_maker__rolling_mean_size=6, model__boosting_type=gbdt, model__learning_rate=0.5, model__max_depth=12, model__min_child_samples=20, model__n_estimators=3, model__num_leaves=70; total time=  13.8s\n",
      "[CV 3/4] END features_maker__max_lag=2, features_maker__rolling_mean_size=6, model__boosting_type=gbdt, model__learning_rate=0.5, model__max_depth=12, model__min_child_samples=20, model__n_estimators=3, model__num_leaves=70; total time=  17.3s\n",
      "[CV 4/4] END features_maker__max_lag=2, features_maker__rolling_mean_size=6, model__boosting_type=gbdt, model__learning_rate=0.5, model__max_depth=12, model__min_child_samples=20, model__n_estimators=3, model__num_leaves=70; total time=  17.1s\n",
      "[CV 1/4] END features_maker__max_lag=2, features_maker__rolling_mean_size=6, model__boosting_type=gbdt, model__learning_rate=0.5, model__max_depth=12, model__min_child_samples=12, model__n_estimators=3, model__num_leaves=31; total time=   9.4s\n",
      "[CV 2/4] END features_maker__max_lag=2, features_maker__rolling_mean_size=6, model__boosting_type=gbdt, model__learning_rate=0.5, model__max_depth=12, model__min_child_samples=12, model__n_estimators=3, model__num_leaves=31; total time=   8.5s\n",
      "[CV 3/4] END features_maker__max_lag=2, features_maker__rolling_mean_size=6, model__boosting_type=gbdt, model__learning_rate=0.5, model__max_depth=12, model__min_child_samples=12, model__n_estimators=3, model__num_leaves=31; total time=   8.7s\n",
      "[CV 4/4] END features_maker__max_lag=2, features_maker__rolling_mean_size=6, model__boosting_type=gbdt, model__learning_rate=0.5, model__max_depth=12, model__min_child_samples=12, model__n_estimators=3, model__num_leaves=31; total time=  10.6s\n",
      "[CV 1/4] END features_maker__max_lag=2, features_maker__rolling_mean_size=6, model__boosting_type=gbdt, model__learning_rate=0.5, model__max_depth=14, model__min_child_samples=12, model__n_estimators=3, model__num_leaves=31; total time=   7.8s\n",
      "[CV 2/4] END features_maker__max_lag=2, features_maker__rolling_mean_size=6, model__boosting_type=gbdt, model__learning_rate=0.5, model__max_depth=14, model__min_child_samples=12, model__n_estimators=3, model__num_leaves=31; total time=   8.5s\n",
      "[CV 3/4] END features_maker__max_lag=2, features_maker__rolling_mean_size=6, model__boosting_type=gbdt, model__learning_rate=0.5, model__max_depth=14, model__min_child_samples=12, model__n_estimators=3, model__num_leaves=31; total time=  10.5s\n",
      "[CV 4/4] END features_maker__max_lag=2, features_maker__rolling_mean_size=6, model__boosting_type=gbdt, model__learning_rate=0.5, model__max_depth=14, model__min_child_samples=12, model__n_estimators=3, model__num_leaves=31; total time=   8.7s\n",
      "[CV 1/4] END features_maker__max_lag=1, features_maker__rolling_mean_size=5, model__boosting_type=gbdt, model__learning_rate=0.5, model__max_depth=12, model__min_child_samples=12, model__n_estimators=3, model__num_leaves=31; total time=   8.9s\n",
      "[CV 2/4] END features_maker__max_lag=1, features_maker__rolling_mean_size=5, model__boosting_type=gbdt, model__learning_rate=0.5, model__max_depth=12, model__min_child_samples=12, model__n_estimators=3, model__num_leaves=31; total time=   8.3s\n",
      "[CV 3/4] END features_maker__max_lag=1, features_maker__rolling_mean_size=5, model__boosting_type=gbdt, model__learning_rate=0.5, model__max_depth=12, model__min_child_samples=12, model__n_estimators=3, model__num_leaves=31; total time=   8.4s\n",
      "[CV 4/4] END features_maker__max_lag=1, features_maker__rolling_mean_size=5, model__boosting_type=gbdt, model__learning_rate=0.5, model__max_depth=12, model__min_child_samples=12, model__n_estimators=3, model__num_leaves=31; total time=  10.5s\n",
      "[CV 1/4] END features_maker__max_lag=1, features_maker__rolling_mean_size=5, model__boosting_type=gbdt, model__learning_rate=0.5, model__max_depth=14, model__min_child_samples=12, model__n_estimators=3, model__num_leaves=31; total time=   7.4s\n",
      "[CV 2/4] END features_maker__max_lag=1, features_maker__rolling_mean_size=5, model__boosting_type=gbdt, model__learning_rate=0.5, model__max_depth=14, model__min_child_samples=12, model__n_estimators=3, model__num_leaves=31; total time=   8.6s\n",
      "[CV 3/4] END features_maker__max_lag=1, features_maker__rolling_mean_size=5, model__boosting_type=gbdt, model__learning_rate=0.5, model__max_depth=14, model__min_child_samples=12, model__n_estimators=3, model__num_leaves=31; total time=  10.4s\n",
      "[CV 4/4] END features_maker__max_lag=1, features_maker__rolling_mean_size=5, model__boosting_type=gbdt, model__learning_rate=0.5, model__max_depth=14, model__min_child_samples=12, model__n_estimators=3, model__num_leaves=31; total time=   8.5s\n",
      "[CV 1/4] END features_maker__max_lag=2, features_maker__rolling_mean_size=5, model__boosting_type=gbdt, model__learning_rate=0.5, model__max_depth=14, model__min_child_samples=12, model__n_estimators=3, model__num_leaves=31; total time=   9.4s\n",
      "[CV 2/4] END features_maker__max_lag=2, features_maker__rolling_mean_size=5, model__boosting_type=gbdt, model__learning_rate=0.5, model__max_depth=14, model__min_child_samples=12, model__n_estimators=3, model__num_leaves=31; total time=   8.6s\n",
      "[CV 3/4] END features_maker__max_lag=2, features_maker__rolling_mean_size=5, model__boosting_type=gbdt, model__learning_rate=0.5, model__max_depth=14, model__min_child_samples=12, model__n_estimators=3, model__num_leaves=31; total time=   8.6s\n",
      "[CV 4/4] END features_maker__max_lag=2, features_maker__rolling_mean_size=5, model__boosting_type=gbdt, model__learning_rate=0.5, model__max_depth=14, model__min_child_samples=12, model__n_estimators=3, model__num_leaves=31; total time=  10.7s\n",
      "[CV 1/4] END features_maker__max_lag=2, features_maker__rolling_mean_size=5, model__boosting_type=gbdt, model__learning_rate=0.5, model__max_depth=12, model__min_child_samples=12, model__n_estimators=3, model__num_leaves=31; total time=   8.1s\n",
      "[CV 2/4] END features_maker__max_lag=2, features_maker__rolling_mean_size=5, model__boosting_type=gbdt, model__learning_rate=0.5, model__max_depth=12, model__min_child_samples=12, model__n_estimators=3, model__num_leaves=31; total time=   8.2s\n",
      "[CV 3/4] END features_maker__max_lag=2, features_maker__rolling_mean_size=5, model__boosting_type=gbdt, model__learning_rate=0.5, model__max_depth=12, model__min_child_samples=12, model__n_estimators=3, model__num_leaves=31; total time=   8.4s\n",
      "[CV 4/4] END features_maker__max_lag=2, features_maker__rolling_mean_size=5, model__boosting_type=gbdt, model__learning_rate=0.5, model__max_depth=12, model__min_child_samples=12, model__n_estimators=3, model__num_leaves=31; total time=   9.2s\n",
      "[CV 1/4] END features_maker__max_lag=1, features_maker__rolling_mean_size=6, model__boosting_type=gbdt, model__learning_rate=0.5, model__max_depth=14, model__min_child_samples=12, model__n_estimators=3, model__num_leaves=31; total time=   9.0s\n",
      "[CV 2/4] END features_maker__max_lag=1, features_maker__rolling_mean_size=6, model__boosting_type=gbdt, model__learning_rate=0.5, model__max_depth=14, model__min_child_samples=12, model__n_estimators=3, model__num_leaves=31; total time=   9.7s\n",
      "[CV 3/4] END features_maker__max_lag=1, features_maker__rolling_mean_size=6, model__boosting_type=gbdt, model__learning_rate=0.5, model__max_depth=14, model__min_child_samples=12, model__n_estimators=3, model__num_leaves=31; total time=  11.8s\n",
      "[CV 4/4] END features_maker__max_lag=1, features_maker__rolling_mean_size=6, model__boosting_type=gbdt, model__learning_rate=0.5, model__max_depth=14, model__min_child_samples=12, model__n_estimators=3, model__num_leaves=31; total time=   9.8s\n",
      "[CV 1/4] END features_maker__max_lag=1, features_maker__rolling_mean_size=6, model__boosting_type=gbdt, model__learning_rate=0.5, model__max_depth=12, model__min_child_samples=12, model__n_estimators=3, model__num_leaves=31; total time=   8.8s\n",
      "[CV 2/4] END features_maker__max_lag=1, features_maker__rolling_mean_size=6, model__boosting_type=gbdt, model__learning_rate=0.5, model__max_depth=12, model__min_child_samples=12, model__n_estimators=3, model__num_leaves=31; total time=   9.6s\n",
      "[CV 3/4] END features_maker__max_lag=1, features_maker__rolling_mean_size=6, model__boosting_type=gbdt, model__learning_rate=0.5, model__max_depth=12, model__min_child_samples=12, model__n_estimators=3, model__num_leaves=31; total time=  11.1s\n",
      "[CV 4/4] END features_maker__max_lag=1, features_maker__rolling_mean_size=6, model__boosting_type=gbdt, model__learning_rate=0.5, model__max_depth=12, model__min_child_samples=12, model__n_estimators=3, model__num_leaves=31; total time=   9.2s\n",
      "[CV 1/4] END features_maker__max_lag=2, features_maker__rolling_mean_size=5, model__boosting_type=gbdt, model__learning_rate=0.5, model__max_depth=14, model__min_child_samples=20, model__n_estimators=3, model__num_leaves=70; total time=   9.3s\n",
      "[CV 2/4] END features_maker__max_lag=2, features_maker__rolling_mean_size=5, model__boosting_type=gbdt, model__learning_rate=0.5, model__max_depth=14, model__min_child_samples=20, model__n_estimators=3, model__num_leaves=70; total time=  15.3s\n",
      "[CV 3/4] END features_maker__max_lag=2, features_maker__rolling_mean_size=5, model__boosting_type=gbdt, model__learning_rate=0.5, model__max_depth=14, model__min_child_samples=20, model__n_estimators=3, model__num_leaves=70; total time=  18.8s\n",
      "[CV 4/4] END features_maker__max_lag=2, features_maker__rolling_mean_size=5, model__boosting_type=gbdt, model__learning_rate=0.5, model__max_depth=14, model__min_child_samples=20, model__n_estimators=3, model__num_leaves=70; total time=  18.3s\n",
      "[CV 1/4] END features_maker__max_lag=2, features_maker__rolling_mean_size=5, model__boosting_type=gbdt, model__learning_rate=0.5, model__max_depth=12, model__min_child_samples=20, model__n_estimators=3, model__num_leaves=70; total time=   8.1s\n",
      "[CV 2/4] END features_maker__max_lag=2, features_maker__rolling_mean_size=5, model__boosting_type=gbdt, model__learning_rate=0.5, model__max_depth=12, model__min_child_samples=20, model__n_estimators=3, model__num_leaves=70; total time=  13.2s\n",
      "[CV 3/4] END features_maker__max_lag=2, features_maker__rolling_mean_size=5, model__boosting_type=gbdt, model__learning_rate=0.5, model__max_depth=12, model__min_child_samples=20, model__n_estimators=3, model__num_leaves=70; total time=  17.4s\n",
      "[CV 4/4] END features_maker__max_lag=2, features_maker__rolling_mean_size=5, model__boosting_type=gbdt, model__learning_rate=0.5, model__max_depth=12, model__min_child_samples=20, model__n_estimators=3, model__num_leaves=70; total time=  18.2s\n",
      "[CV 1/4] END features_maker__max_lag=1, features_maker__rolling_mean_size=6, model__boosting_type=gbdt, model__learning_rate=0.5, model__max_depth=14, model__min_child_samples=20, model__n_estimators=3, model__num_leaves=70; total time=   8.0s\n",
      "[CV 2/4] END features_maker__max_lag=1, features_maker__rolling_mean_size=6, model__boosting_type=gbdt, model__learning_rate=0.5, model__max_depth=14, model__min_child_samples=20, model__n_estimators=3, model__num_leaves=70; total time=  15.2s\n",
      "[CV 3/4] END features_maker__max_lag=1, features_maker__rolling_mean_size=6, model__boosting_type=gbdt, model__learning_rate=0.5, model__max_depth=14, model__min_child_samples=20, model__n_estimators=3, model__num_leaves=70; total time=  18.8s\n",
      "[CV 4/4] END features_maker__max_lag=1, features_maker__rolling_mean_size=6, model__boosting_type=gbdt, model__learning_rate=0.5, model__max_depth=14, model__min_child_samples=20, model__n_estimators=3, model__num_leaves=70; total time=  19.7s\n",
      "[CV 1/4] END features_maker__max_lag=1, features_maker__rolling_mean_size=6, model__boosting_type=gbdt, model__learning_rate=0.5, model__max_depth=12, model__min_child_samples=20, model__n_estimators=3, model__num_leaves=70; total time=   8.0s\n",
      "[CV 2/4] END features_maker__max_lag=1, features_maker__rolling_mean_size=6, model__boosting_type=gbdt, model__learning_rate=0.5, model__max_depth=12, model__min_child_samples=20, model__n_estimators=3, model__num_leaves=70; total time=  17.0s\n",
      "[CV 3/4] END features_maker__max_lag=1, features_maker__rolling_mean_size=6, model__boosting_type=gbdt, model__learning_rate=0.5, model__max_depth=12, model__min_child_samples=20, model__n_estimators=3, model__num_leaves=70; total time=  18.4s\n",
      "[CV 4/4] END features_maker__max_lag=1, features_maker__rolling_mean_size=6, model__boosting_type=gbdt, model__learning_rate=0.5, model__max_depth=12, model__min_child_samples=20, model__n_estimators=3, model__num_leaves=70; total time=  19.7s\n",
      "[CV 1/4] END features_maker__max_lag=2, features_maker__rolling_mean_size=6, model__boosting_type=gbdt, model__learning_rate=0.5, model__max_depth=14, model__min_child_samples=12, model__n_estimators=3, model__num_leaves=70; total time=  15.7s\n",
      "[CV 2/4] END features_maker__max_lag=2, features_maker__rolling_mean_size=6, model__boosting_type=gbdt, model__learning_rate=0.5, model__max_depth=14, model__min_child_samples=12, model__n_estimators=3, model__num_leaves=70; total time=  10.7s\n",
      "[CV 3/4] END features_maker__max_lag=2, features_maker__rolling_mean_size=6, model__boosting_type=gbdt, model__learning_rate=0.5, model__max_depth=14, model__min_child_samples=12, model__n_estimators=3, model__num_leaves=70; total time=  13.9s\n",
      "[CV 4/4] END features_maker__max_lag=2, features_maker__rolling_mean_size=6, model__boosting_type=gbdt, model__learning_rate=0.5, model__max_depth=14, model__min_child_samples=12, model__n_estimators=3, model__num_leaves=70; total time=  20.1s\n",
      "[CV 1/4] END features_maker__max_lag=2, features_maker__rolling_mean_size=6, model__boosting_type=gbdt, model__learning_rate=0.5, model__max_depth=12, model__min_child_samples=12, model__n_estimators=3, model__num_leaves=70; total time=  16.2s\n",
      "[CV 2/4] END features_maker__max_lag=2, features_maker__rolling_mean_size=6, model__boosting_type=gbdt, model__learning_rate=0.5, model__max_depth=12, model__min_child_samples=12, model__n_estimators=3, model__num_leaves=70; total time=  22.6s\n",
      "[CV 3/4] END features_maker__max_lag=2, features_maker__rolling_mean_size=6, model__boosting_type=gbdt, model__learning_rate=0.5, model__max_depth=12, model__min_child_samples=12, model__n_estimators=3, model__num_leaves=70; total time=  20.5s\n",
      "[CV 4/4] END features_maker__max_lag=2, features_maker__rolling_mean_size=6, model__boosting_type=gbdt, model__learning_rate=0.5, model__max_depth=12, model__min_child_samples=12, model__n_estimators=3, model__num_leaves=70; total time=  25.5s\n",
      "[CV 1/4] END features_maker__max_lag=1, features_maker__rolling_mean_size=6, model__boosting_type=gbdt, model__learning_rate=0.5, model__max_depth=14, model__min_child_samples=12, model__n_estimators=3, model__num_leaves=70; total time=  16.0s\n",
      "[CV 2/4] END features_maker__max_lag=1, features_maker__rolling_mean_size=6, model__boosting_type=gbdt, model__learning_rate=0.5, model__max_depth=14, model__min_child_samples=12, model__n_estimators=3, model__num_leaves=70; total time=  19.9s\n",
      "[CV 3/4] END features_maker__max_lag=1, features_maker__rolling_mean_size=6, model__boosting_type=gbdt, model__learning_rate=0.5, model__max_depth=14, model__min_child_samples=12, model__n_estimators=3, model__num_leaves=70; total time=  20.9s\n",
      "[CV 4/4] END features_maker__max_lag=1, features_maker__rolling_mean_size=6, model__boosting_type=gbdt, model__learning_rate=0.5, model__max_depth=14, model__min_child_samples=12, model__n_estimators=3, model__num_leaves=70; total time=  21.3s\n",
      "[CV 1/4] END features_maker__max_lag=1, features_maker__rolling_mean_size=6, model__boosting_type=gbdt, model__learning_rate=0.5, model__max_depth=12, model__min_child_samples=12, model__n_estimators=3, model__num_leaves=70; total time=  15.6s\n",
      "[CV 2/4] END features_maker__max_lag=1, features_maker__rolling_mean_size=6, model__boosting_type=gbdt, model__learning_rate=0.5, model__max_depth=12, model__min_child_samples=12, model__n_estimators=3, model__num_leaves=70; total time=  23.8s\n",
      "[CV 3/4] END features_maker__max_lag=1, features_maker__rolling_mean_size=6, model__boosting_type=gbdt, model__learning_rate=0.5, model__max_depth=12, model__min_child_samples=12, model__n_estimators=3, model__num_leaves=70; total time=  20.3s\n",
      "[CV 4/4] END features_maker__max_lag=1, features_maker__rolling_mean_size=6, model__boosting_type=gbdt, model__learning_rate=0.5, model__max_depth=12, model__min_child_samples=12, model__n_estimators=3, model__num_leaves=70; total time=  20.6s\n",
      "[CV 1/4] END features_maker__max_lag=2, features_maker__rolling_mean_size=5, model__boosting_type=gbdt, model__learning_rate=0.5, model__max_depth=14, model__min_child_samples=12, model__n_estimators=3, model__num_leaves=70; total time=  12.8s\n",
      "[CV 2/4] END features_maker__max_lag=2, features_maker__rolling_mean_size=5, model__boosting_type=gbdt, model__learning_rate=0.5, model__max_depth=14, model__min_child_samples=12, model__n_estimators=3, model__num_leaves=70; total time=  19.4s\n",
      "[CV 3/4] END features_maker__max_lag=2, features_maker__rolling_mean_size=5, model__boosting_type=gbdt, model__learning_rate=0.5, model__max_depth=14, model__min_child_samples=12, model__n_estimators=3, model__num_leaves=70; total time=  20.3s\n",
      "[CV 4/4] END features_maker__max_lag=2, features_maker__rolling_mean_size=5, model__boosting_type=gbdt, model__learning_rate=0.5, model__max_depth=14, model__min_child_samples=12, model__n_estimators=3, model__num_leaves=70; total time=  20.6s\n",
      "[CV 1/4] END features_maker__max_lag=2, features_maker__rolling_mean_size=5, model__boosting_type=gbdt, model__learning_rate=0.5, model__max_depth=12, model__min_child_samples=12, model__n_estimators=3, model__num_leaves=70; total time=  12.6s\n",
      "[CV 2/4] END features_maker__max_lag=2, features_maker__rolling_mean_size=5, model__boosting_type=gbdt, model__learning_rate=0.5, model__max_depth=12, model__min_child_samples=12, model__n_estimators=3, model__num_leaves=70; total time=  19.4s\n",
      "[CV 3/4] END features_maker__max_lag=2, features_maker__rolling_mean_size=5, model__boosting_type=gbdt, model__learning_rate=0.5, model__max_depth=12, model__min_child_samples=12, model__n_estimators=3, model__num_leaves=70; total time=  20.3s\n",
      "[CV 4/4] END features_maker__max_lag=2, features_maker__rolling_mean_size=5, model__boosting_type=gbdt, model__learning_rate=0.5, model__max_depth=12, model__min_child_samples=12, model__n_estimators=3, model__num_leaves=70; total time=  24.9s\n",
      "[CV 1/4] END features_maker__max_lag=1, features_maker__rolling_mean_size=5, model__boosting_type=gbdt, model__learning_rate=0.5, model__max_depth=14, model__min_child_samples=20, model__n_estimators=3, model__num_leaves=70; total time=   8.2s\n",
      "[CV 2/4] END features_maker__max_lag=1, features_maker__rolling_mean_size=5, model__boosting_type=gbdt, model__learning_rate=0.5, model__max_depth=14, model__min_child_samples=20, model__n_estimators=3, model__num_leaves=70; total time=  15.7s\n",
      "[CV 3/4] END features_maker__max_lag=1, features_maker__rolling_mean_size=5, model__boosting_type=gbdt, model__learning_rate=0.5, model__max_depth=14, model__min_child_samples=20, model__n_estimators=3, model__num_leaves=70; total time=  23.2s\n",
      "[CV 4/4] END features_maker__max_lag=1, features_maker__rolling_mean_size=5, model__boosting_type=gbdt, model__learning_rate=0.5, model__max_depth=14, model__min_child_samples=20, model__n_estimators=3, model__num_leaves=70; total time=  20.4s\n",
      "[CV 1/4] END features_maker__max_lag=1, features_maker__rolling_mean_size=5, model__boosting_type=gbdt, model__learning_rate=0.5, model__max_depth=12, model__min_child_samples=20, model__n_estimators=3, model__num_leaves=70; total time=   9.7s\n",
      "[CV 2/4] END features_maker__max_lag=1, features_maker__rolling_mean_size=5, model__boosting_type=gbdt, model__learning_rate=0.5, model__max_depth=12, model__min_child_samples=20, model__n_estimators=3, model__num_leaves=70; total time=  15.7s\n",
      "[CV 3/4] END features_maker__max_lag=1, features_maker__rolling_mean_size=5, model__boosting_type=gbdt, model__learning_rate=0.5, model__max_depth=12, model__min_child_samples=20, model__n_estimators=3, model__num_leaves=70; total time=  23.1s\n",
      "[CV 4/4] END features_maker__max_lag=1, features_maker__rolling_mean_size=5, model__boosting_type=gbdt, model__learning_rate=0.5, model__max_depth=12, model__min_child_samples=20, model__n_estimators=3, model__num_leaves=70; total time=  20.1s\n",
      "[CV 1/4] END features_maker__max_lag=1, features_maker__rolling_mean_size=5, model__boosting_type=gbdt, model__learning_rate=0.5, model__max_depth=14, model__min_child_samples=12, model__n_estimators=3, model__num_leaves=70; total time=  13.0s\n",
      "[CV 2/4] END features_maker__max_lag=1, features_maker__rolling_mean_size=5, model__boosting_type=gbdt, model__learning_rate=0.5, model__max_depth=14, model__min_child_samples=12, model__n_estimators=3, model__num_leaves=70; total time=  19.8s\n",
      "[CV 3/4] END features_maker__max_lag=1, features_maker__rolling_mean_size=5, model__boosting_type=gbdt, model__learning_rate=0.5, model__max_depth=14, model__min_child_samples=12, model__n_estimators=3, model__num_leaves=70; total time=  19.8s\n",
      "[CV 4/4] END features_maker__max_lag=1, features_maker__rolling_mean_size=5, model__boosting_type=gbdt, model__learning_rate=0.5, model__max_depth=14, model__min_child_samples=12, model__n_estimators=3, model__num_leaves=70; total time=  19.8s\n",
      "[CV 1/4] END features_maker__max_lag=1, features_maker__rolling_mean_size=5, model__boosting_type=gbdt, model__learning_rate=0.5, model__max_depth=12, model__min_child_samples=12, model__n_estimators=3, model__num_leaves=70; total time=  11.9s\n",
      "[CV 2/4] END features_maker__max_lag=1, features_maker__rolling_mean_size=5, model__boosting_type=gbdt, model__learning_rate=0.5, model__max_depth=12, model__min_child_samples=12, model__n_estimators=3, model__num_leaves=70; total time=  18.9s\n",
      "[CV 3/4] END features_maker__max_lag=1, features_maker__rolling_mean_size=5, model__boosting_type=gbdt, model__learning_rate=0.5, model__max_depth=12, model__min_child_samples=12, model__n_estimators=3, model__num_leaves=70; total time=  19.4s\n",
      "[CV 4/4] END features_maker__max_lag=1, features_maker__rolling_mean_size=5, model__boosting_type=gbdt, model__learning_rate=0.5, model__max_depth=12, model__min_child_samples=12, model__n_estimators=3, model__num_leaves=70; total time=  19.3s\n",
      "----------\n",
      "iter: 2\n",
      "n_candidates: 11\n",
      "n_resources: 9\n",
      "Fitting 4 folds for each of 11 candidates, totalling 44 fits\n",
      "[CV 1/4] END features_maker__max_lag=1, features_maker__rolling_mean_size=5, model__boosting_type=gbdt, model__learning_rate=0.5, model__max_depth=14, model__min_child_samples=20, model__n_estimators=9, model__num_leaves=70; total time=  23.1s\n",
      "[CV 2/4] END features_maker__max_lag=1, features_maker__rolling_mean_size=5, model__boosting_type=gbdt, model__learning_rate=0.5, model__max_depth=14, model__min_child_samples=20, model__n_estimators=9, model__num_leaves=70; total time=  41.3s\n",
      "[CV 3/4] END features_maker__max_lag=1, features_maker__rolling_mean_size=5, model__boosting_type=gbdt, model__learning_rate=0.5, model__max_depth=14, model__min_child_samples=20, model__n_estimators=9, model__num_leaves=70; total time=  54.2s\n",
      "[CV 4/4] END features_maker__max_lag=1, features_maker__rolling_mean_size=5, model__boosting_type=gbdt, model__learning_rate=0.5, model__max_depth=14, model__min_child_samples=20, model__n_estimators=9, model__num_leaves=70; total time=  56.9s\n",
      "[CV 1/4] END features_maker__max_lag=2, features_maker__rolling_mean_size=6, model__boosting_type=gbdt, model__learning_rate=0.5, model__max_depth=12, model__min_child_samples=20, model__n_estimators=9, model__num_leaves=70; total time=  22.3s\n",
      "[CV 2/4] END features_maker__max_lag=2, features_maker__rolling_mean_size=6, model__boosting_type=gbdt, model__learning_rate=0.5, model__max_depth=12, model__min_child_samples=20, model__n_estimators=9, model__num_leaves=70; total time=  36.9s\n",
      "[CV 3/4] END features_maker__max_lag=2, features_maker__rolling_mean_size=6, model__boosting_type=gbdt, model__learning_rate=0.5, model__max_depth=12, model__min_child_samples=20, model__n_estimators=9, model__num_leaves=70; total time=  59.1s\n",
      "[CV 4/4] END features_maker__max_lag=2, features_maker__rolling_mean_size=6, model__boosting_type=gbdt, model__learning_rate=0.5, model__max_depth=12, model__min_child_samples=20, model__n_estimators=9, model__num_leaves=70; total time=  47.8s\n",
      "[CV 1/4] END features_maker__max_lag=2, features_maker__rolling_mean_size=5, model__boosting_type=gbdt, model__learning_rate=0.5, model__max_depth=12, model__min_child_samples=20, model__n_estimators=9, model__num_leaves=70; total time=  21.5s\n",
      "[CV 2/4] END features_maker__max_lag=2, features_maker__rolling_mean_size=5, model__boosting_type=gbdt, model__learning_rate=0.5, model__max_depth=12, model__min_child_samples=20, model__n_estimators=9, model__num_leaves=70; total time=  37.7s\n",
      "[CV 3/4] END features_maker__max_lag=2, features_maker__rolling_mean_size=5, model__boosting_type=gbdt, model__learning_rate=0.5, model__max_depth=12, model__min_child_samples=20, model__n_estimators=9, model__num_leaves=70; total time=  46.5s\n",
      "[CV 4/4] END features_maker__max_lag=2, features_maker__rolling_mean_size=5, model__boosting_type=gbdt, model__learning_rate=0.5, model__max_depth=12, model__min_child_samples=20, model__n_estimators=9, model__num_leaves=70; total time=  50.9s\n",
      "[CV 1/4] END features_maker__max_lag=2, features_maker__rolling_mean_size=5, model__boosting_type=gbdt, model__learning_rate=0.5, model__max_depth=12, model__min_child_samples=12, model__n_estimators=9, model__num_leaves=70; total time=  35.3s\n",
      "[CV 2/4] END features_maker__max_lag=2, features_maker__rolling_mean_size=5, model__boosting_type=gbdt, model__learning_rate=0.5, model__max_depth=12, model__min_child_samples=12, model__n_estimators=9, model__num_leaves=70; total time=  43.9s\n",
      "[CV 3/4] END features_maker__max_lag=2, features_maker__rolling_mean_size=5, model__boosting_type=gbdt, model__learning_rate=0.5, model__max_depth=12, model__min_child_samples=12, model__n_estimators=9, model__num_leaves=70; total time=  53.7s\n",
      "[CV 4/4] END features_maker__max_lag=2, features_maker__rolling_mean_size=5, model__boosting_type=gbdt, model__learning_rate=0.5, model__max_depth=12, model__min_child_samples=12, model__n_estimators=9, model__num_leaves=70; total time=  55.4s\n",
      "[CV 1/4] END features_maker__max_lag=1, features_maker__rolling_mean_size=5, model__boosting_type=gbdt, model__learning_rate=0.5, model__max_depth=12, model__min_child_samples=12, model__n_estimators=9, model__num_leaves=70; total time=  29.6s\n",
      "[CV 2/4] END features_maker__max_lag=1, features_maker__rolling_mean_size=5, model__boosting_type=gbdt, model__learning_rate=0.5, model__max_depth=12, model__min_child_samples=12, model__n_estimators=9, model__num_leaves=70; total time=  45.1s\n",
      "[CV 3/4] END features_maker__max_lag=1, features_maker__rolling_mean_size=5, model__boosting_type=gbdt, model__learning_rate=0.5, model__max_depth=12, model__min_child_samples=12, model__n_estimators=9, model__num_leaves=70; total time=  53.1s\n",
      "[CV 4/4] END features_maker__max_lag=1, features_maker__rolling_mean_size=5, model__boosting_type=gbdt, model__learning_rate=0.5, model__max_depth=12, model__min_child_samples=12, model__n_estimators=9, model__num_leaves=70; total time=  55.7s\n",
      "[CV 1/4] END features_maker__max_lag=1, features_maker__rolling_mean_size=5, model__boosting_type=gbdt, model__learning_rate=0.5, model__max_depth=14, model__min_child_samples=12, model__n_estimators=9, model__num_leaves=70; total time=  34.2s\n",
      "[CV 2/4] END features_maker__max_lag=1, features_maker__rolling_mean_size=5, model__boosting_type=gbdt, model__learning_rate=0.5, model__max_depth=14, model__min_child_samples=12, model__n_estimators=9, model__num_leaves=70; total time= 1.0min\n",
      "[CV 3/4] END features_maker__max_lag=1, features_maker__rolling_mean_size=5, model__boosting_type=gbdt, model__learning_rate=0.5, model__max_depth=14, model__min_child_samples=12, model__n_estimators=9, model__num_leaves=70; total time= 1.1min\n",
      "[CV 4/4] END features_maker__max_lag=1, features_maker__rolling_mean_size=5, model__boosting_type=gbdt, model__learning_rate=0.5, model__max_depth=14, model__min_child_samples=12, model__n_estimators=9, model__num_leaves=70; total time= 1.1min\n",
      "[CV 1/4] END features_maker__max_lag=1, features_maker__rolling_mean_size=6, model__boosting_type=gbdt, model__learning_rate=0.5, model__max_depth=14, model__min_child_samples=12, model__n_estimators=9, model__num_leaves=70; total time=  41.3s\n",
      "[CV 2/4] END features_maker__max_lag=1, features_maker__rolling_mean_size=6, model__boosting_type=gbdt, model__learning_rate=0.5, model__max_depth=14, model__min_child_samples=12, model__n_estimators=9, model__num_leaves=70; total time=  46.8s\n",
      "[CV 3/4] END features_maker__max_lag=1, features_maker__rolling_mean_size=6, model__boosting_type=gbdt, model__learning_rate=0.5, model__max_depth=14, model__min_child_samples=12, model__n_estimators=9, model__num_leaves=70; total time=  54.7s\n",
      "[CV 4/4] END features_maker__max_lag=1, features_maker__rolling_mean_size=6, model__boosting_type=gbdt, model__learning_rate=0.5, model__max_depth=14, model__min_child_samples=12, model__n_estimators=9, model__num_leaves=70; total time=  55.6s\n",
      "[CV 1/4] END features_maker__max_lag=1, features_maker__rolling_mean_size=5, model__boosting_type=gbdt, model__learning_rate=0.5, model__max_depth=12, model__min_child_samples=20, model__n_estimators=9, model__num_leaves=70; total time=  21.6s\n",
      "[CV 2/4] END features_maker__max_lag=1, features_maker__rolling_mean_size=5, model__boosting_type=gbdt, model__learning_rate=0.5, model__max_depth=12, model__min_child_samples=20, model__n_estimators=9, model__num_leaves=70; total time=  36.5s\n",
      "[CV 3/4] END features_maker__max_lag=1, features_maker__rolling_mean_size=5, model__boosting_type=gbdt, model__learning_rate=0.5, model__max_depth=12, model__min_child_samples=20, model__n_estimators=9, model__num_leaves=70; total time=  46.2s\n",
      "[CV 4/4] END features_maker__max_lag=1, features_maker__rolling_mean_size=5, model__boosting_type=gbdt, model__learning_rate=0.5, model__max_depth=12, model__min_child_samples=20, model__n_estimators=9, model__num_leaves=70; total time=  53.6s\n",
      "[CV 1/4] END features_maker__max_lag=1, features_maker__rolling_mean_size=6, model__boosting_type=gbdt, model__learning_rate=0.5, model__max_depth=12, model__min_child_samples=12, model__n_estimators=9, model__num_leaves=70; total time=  39.5s\n",
      "[CV 2/4] END features_maker__max_lag=1, features_maker__rolling_mean_size=6, model__boosting_type=gbdt, model__learning_rate=0.5, model__max_depth=12, model__min_child_samples=12, model__n_estimators=9, model__num_leaves=70; total time=  49.2s\n",
      "[CV 3/4] END features_maker__max_lag=1, features_maker__rolling_mean_size=6, model__boosting_type=gbdt, model__learning_rate=0.5, model__max_depth=12, model__min_child_samples=12, model__n_estimators=9, model__num_leaves=70; total time= 1.1min\n",
      "[CV 4/4] END features_maker__max_lag=1, features_maker__rolling_mean_size=6, model__boosting_type=gbdt, model__learning_rate=0.5, model__max_depth=12, model__min_child_samples=12, model__n_estimators=9, model__num_leaves=70; total time=  56.3s\n",
      "[CV 1/4] END features_maker__max_lag=1, features_maker__rolling_mean_size=6, model__boosting_type=gbdt, model__learning_rate=0.5, model__max_depth=12, model__min_child_samples=20, model__n_estimators=9, model__num_leaves=70; total time=  21.9s\n",
      "[CV 2/4] END features_maker__max_lag=1, features_maker__rolling_mean_size=6, model__boosting_type=gbdt, model__learning_rate=0.5, model__max_depth=12, model__min_child_samples=20, model__n_estimators=9, model__num_leaves=70; total time=  38.3s\n",
      "[CV 3/4] END features_maker__max_lag=1, features_maker__rolling_mean_size=6, model__boosting_type=gbdt, model__learning_rate=0.5, model__max_depth=12, model__min_child_samples=20, model__n_estimators=9, model__num_leaves=70; total time= 1.0min\n",
      "[CV 4/4] END features_maker__max_lag=1, features_maker__rolling_mean_size=6, model__boosting_type=gbdt, model__learning_rate=0.5, model__max_depth=12, model__min_child_samples=20, model__n_estimators=9, model__num_leaves=70; total time= 1.0min\n",
      "[CV 1/4] END features_maker__max_lag=1, features_maker__rolling_mean_size=6, model__boosting_type=gbdt, model__learning_rate=0.5, model__max_depth=14, model__min_child_samples=20, model__n_estimators=9, model__num_leaves=70; total time=  23.3s\n",
      "[CV 2/4] END features_maker__max_lag=1, features_maker__rolling_mean_size=6, model__boosting_type=gbdt, model__learning_rate=0.5, model__max_depth=14, model__min_child_samples=20, model__n_estimators=9, model__num_leaves=70; total time=  40.6s\n",
      "[CV 3/4] END features_maker__max_lag=1, features_maker__rolling_mean_size=6, model__boosting_type=gbdt, model__learning_rate=0.5, model__max_depth=14, model__min_child_samples=20, model__n_estimators=9, model__num_leaves=70; total time=  48.1s\n",
      "[CV 4/4] END features_maker__max_lag=1, features_maker__rolling_mean_size=6, model__boosting_type=gbdt, model__learning_rate=0.5, model__max_depth=14, model__min_child_samples=20, model__n_estimators=9, model__num_leaves=70; total time=  57.4s\n",
      "----------\n",
      "iter: 3\n",
      "n_candidates: 4\n",
      "n_resources: 27\n",
      "Fitting 4 folds for each of 4 candidates, totalling 16 fits\n",
      "[CV 1/4] END features_maker__max_lag=1, features_maker__rolling_mean_size=6, model__boosting_type=gbdt, model__learning_rate=0.5, model__max_depth=12, model__min_child_samples=20, model__n_estimators=27, model__num_leaves=70; total time= 1.1min\n",
      "[CV 2/4] END features_maker__max_lag=1, features_maker__rolling_mean_size=6, model__boosting_type=gbdt, model__learning_rate=0.5, model__max_depth=12, model__min_child_samples=20, model__n_estimators=27, model__num_leaves=70; total time= 1.8min\n",
      "[CV 3/4] END features_maker__max_lag=1, features_maker__rolling_mean_size=6, model__boosting_type=gbdt, model__learning_rate=0.5, model__max_depth=12, model__min_child_samples=20, model__n_estimators=27, model__num_leaves=70; total time= 2.1min\n",
      "[CV 4/4] END features_maker__max_lag=1, features_maker__rolling_mean_size=6, model__boosting_type=gbdt, model__learning_rate=0.5, model__max_depth=12, model__min_child_samples=20, model__n_estimators=27, model__num_leaves=70; total time= 2.3min\n",
      "[CV 1/4] END features_maker__max_lag=2, features_maker__rolling_mean_size=6, model__boosting_type=gbdt, model__learning_rate=0.5, model__max_depth=12, model__min_child_samples=20, model__n_estimators=27, model__num_leaves=70; total time= 1.0min\n",
      "[CV 2/4] END features_maker__max_lag=2, features_maker__rolling_mean_size=6, model__boosting_type=gbdt, model__learning_rate=0.5, model__max_depth=12, model__min_child_samples=20, model__n_estimators=27, model__num_leaves=70; total time= 1.5min\n",
      "[CV 3/4] END features_maker__max_lag=2, features_maker__rolling_mean_size=6, model__boosting_type=gbdt, model__learning_rate=0.5, model__max_depth=12, model__min_child_samples=20, model__n_estimators=27, model__num_leaves=70; total time= 1.9min\n",
      "[CV 4/4] END features_maker__max_lag=2, features_maker__rolling_mean_size=6, model__boosting_type=gbdt, model__learning_rate=0.5, model__max_depth=12, model__min_child_samples=20, model__n_estimators=27, model__num_leaves=70; total time= 2.0min\n",
      "[CV 1/4] END features_maker__max_lag=1, features_maker__rolling_mean_size=5, model__boosting_type=gbdt, model__learning_rate=0.5, model__max_depth=12, model__min_child_samples=20, model__n_estimators=27, model__num_leaves=70; total time= 1.2min\n",
      "[CV 2/4] END features_maker__max_lag=1, features_maker__rolling_mean_size=5, model__boosting_type=gbdt, model__learning_rate=0.5, model__max_depth=12, model__min_child_samples=20, model__n_estimators=27, model__num_leaves=70; total time= 1.5min\n",
      "[CV 3/4] END features_maker__max_lag=1, features_maker__rolling_mean_size=5, model__boosting_type=gbdt, model__learning_rate=0.5, model__max_depth=12, model__min_child_samples=20, model__n_estimators=27, model__num_leaves=70; total time= 2.3min\n",
      "[CV 4/4] END features_maker__max_lag=1, features_maker__rolling_mean_size=5, model__boosting_type=gbdt, model__learning_rate=0.5, model__max_depth=12, model__min_child_samples=20, model__n_estimators=27, model__num_leaves=70; total time= 1.3min\n",
      "[CV 1/4] END features_maker__max_lag=1, features_maker__rolling_mean_size=6, model__boosting_type=gbdt, model__learning_rate=0.5, model__max_depth=14, model__min_child_samples=20, model__n_estimators=27, model__num_leaves=70; total time= 1.3min\n",
      "[CV 2/4] END features_maker__max_lag=1, features_maker__rolling_mean_size=6, model__boosting_type=gbdt, model__learning_rate=0.5, model__max_depth=14, model__min_child_samples=20, model__n_estimators=27, model__num_leaves=70; total time= 1.6min\n",
      "[CV 3/4] END features_maker__max_lag=1, features_maker__rolling_mean_size=6, model__boosting_type=gbdt, model__learning_rate=0.5, model__max_depth=14, model__min_child_samples=20, model__n_estimators=27, model__num_leaves=70; total time=  37.1s\n",
      "[CV 4/4] END features_maker__max_lag=1, features_maker__rolling_mean_size=6, model__boosting_type=gbdt, model__learning_rate=0.5, model__max_depth=14, model__min_child_samples=20, model__n_estimators=27, model__num_leaves=70; total time=   7.0s\n",
      "----------\n",
      "iter: 4\n",
      "n_candidates: 2\n",
      "n_resources: 81\n",
      "Fitting 4 folds for each of 2 candidates, totalling 8 fits\n",
      "[CV 1/4] END features_maker__max_lag=1, features_maker__rolling_mean_size=5, model__boosting_type=gbdt, model__learning_rate=0.5, model__max_depth=12, model__min_child_samples=20, model__n_estimators=81, model__num_leaves=70; total time=   5.2s\n",
      "[CV 2/4] END features_maker__max_lag=1, features_maker__rolling_mean_size=5, model__boosting_type=gbdt, model__learning_rate=0.5, model__max_depth=12, model__min_child_samples=20, model__n_estimators=81, model__num_leaves=70; total time=   6.5s\n",
      "[CV 3/4] END features_maker__max_lag=1, features_maker__rolling_mean_size=5, model__boosting_type=gbdt, model__learning_rate=0.5, model__max_depth=12, model__min_child_samples=20, model__n_estimators=81, model__num_leaves=70; total time=  11.5s\n",
      "[CV 4/4] END features_maker__max_lag=1, features_maker__rolling_mean_size=5, model__boosting_type=gbdt, model__learning_rate=0.5, model__max_depth=12, model__min_child_samples=20, model__n_estimators=81, model__num_leaves=70; total time=   8.4s\n",
      "[CV 1/4] END features_maker__max_lag=1, features_maker__rolling_mean_size=6, model__boosting_type=gbdt, model__learning_rate=0.5, model__max_depth=12, model__min_child_samples=20, model__n_estimators=81, model__num_leaves=70; total time=   5.2s\n",
      "[CV 2/4] END features_maker__max_lag=1, features_maker__rolling_mean_size=6, model__boosting_type=gbdt, model__learning_rate=0.5, model__max_depth=12, model__min_child_samples=20, model__n_estimators=81, model__num_leaves=70; total time=   5.7s\n",
      "[CV 3/4] END features_maker__max_lag=1, features_maker__rolling_mean_size=6, model__boosting_type=gbdt, model__learning_rate=0.5, model__max_depth=12, model__min_child_samples=20, model__n_estimators=81, model__num_leaves=70; total time=  12.6s\n",
      "[CV 4/4] END features_maker__max_lag=1, features_maker__rolling_mean_size=6, model__boosting_type=gbdt, model__learning_rate=0.5, model__max_depth=12, model__min_child_samples=20, model__n_estimators=81, model__num_leaves=70; total time=  44.3s\n",
      "CPU times: user 1h 54min 40s, sys: 1min 47s, total: 1h 56min 28s\n",
      "Wall time: 1h 57min 13s\n"
     ]
    },
    {
     "data": {
      "text/plain": [
       "HalvingGridSearchCV(cv=TimeSeriesSplit(gap=0, max_train_size=None, n_splits=4, test_size=None),\n",
       "                    estimator=Pipeline(steps=[('features_maker',\n",
       "                                               TimeSeriesFeaturesMaker(rolling_mean_size=1)),\n",
       "                                              ('scaler', StandardScaler()),\n",
       "                                              ('model',\n",
       "                                               LGBMRegressor(random_state=42))]),\n",
       "                    max_resources=150, n_jobs=-1,\n",
       "                    param_grid={'features_maker__max_lag': [1, 2],\n",
       "                                'features_maker__rolling_mean_size': [5, 6],\n",
       "                                'model__boosting_type': ['gbdt'],\n",
       "                                'model__learning_rate': [0.1, 0.3, 0.5],\n",
       "                                'model__max_depth': [12, 14],\n",
       "                                'model__min_child_samples': [12, 20],\n",
       "                                'model__num_leaves': [31, 70]},\n",
       "                    refit=<function _refit_callable at 0x7faf5a5bfdc0>,\n",
       "                    resource='model__n_estimators',\n",
       "                    scoring='neg_root_mean_squared_error', verbose=3)"
      ]
     },
     "execution_count": 25,
     "metadata": {},
     "output_type": "execute_result"
    }
   ],
   "source": [
    "%%time\n",
    "lgbm_grid.fit(train, train.values.ravel());"
   ]
  },
  {
   "cell_type": "code",
   "execution_count": 26,
   "metadata": {
    "scrolled": true
   },
   "outputs": [
    {
     "name": "stdout",
     "output_type": "stream",
     "text": [
      "Лучшая модель\n",
      "RMSE: 26.2755683822141\n"
     ]
    },
    {
     "data": {
      "text/plain": [
       "'Гиперпараметры:'"
      ]
     },
     "metadata": {},
     "output_type": "display_data"
    },
    {
     "data": {
      "text/html": [
       "<div>\n",
       "<style scoped>\n",
       "    .dataframe tbody tr th:only-of-type {\n",
       "        vertical-align: middle;\n",
       "    }\n",
       "\n",
       "    .dataframe tbody tr th {\n",
       "        vertical-align: top;\n",
       "    }\n",
       "\n",
       "    .dataframe thead th {\n",
       "        text-align: right;\n",
       "    }\n",
       "</style>\n",
       "<table border=\"1\" class=\"dataframe\">\n",
       "  <thead>\n",
       "    <tr style=\"text-align: right;\">\n",
       "      <th></th>\n",
       "      <th>n_resources</th>\n",
       "      <th>param_features_maker__max_lag</th>\n",
       "      <th>param_features_maker__rolling_mean_size</th>\n",
       "      <th>param_model__max_depth</th>\n",
       "      <th>param_model__min_child_samples</th>\n",
       "      <th>param_model__num_leaves</th>\n",
       "      <th>param_model__learning_rate</th>\n",
       "    </tr>\n",
       "  </thead>\n",
       "  <tbody>\n",
       "    <tr>\n",
       "      <th>138</th>\n",
       "      <td>9</td>\n",
       "      <td>1</td>\n",
       "      <td>6</td>\n",
       "      <td>14</td>\n",
       "      <td>20</td>\n",
       "      <td>70</td>\n",
       "      <td>0.5</td>\n",
       "    </tr>\n",
       "  </tbody>\n",
       "</table>\n",
       "</div>"
      ],
      "text/plain": [
       "     n_resources param_features_maker__max_lag  \\\n",
       "138            9                             1   \n",
       "\n",
       "    param_features_maker__rolling_mean_size param_model__max_depth  \\\n",
       "138                                       6                     14   \n",
       "\n",
       "    param_model__min_child_samples param_model__num_leaves  \\\n",
       "138                             20                      70   \n",
       "\n",
       "    param_model__learning_rate  \n",
       "138                        0.5  "
      ]
     },
     "metadata": {},
     "output_type": "display_data"
    },
    {
     "data": {
      "text/plain": [
       "'Время обучения и время предсказания:'"
      ]
     },
     "metadata": {},
     "output_type": "display_data"
    },
    {
     "data": {
      "text/html": [
       "<div>\n",
       "<style scoped>\n",
       "    .dataframe tbody tr th:only-of-type {\n",
       "        vertical-align: middle;\n",
       "    }\n",
       "\n",
       "    .dataframe tbody tr th {\n",
       "        vertical-align: top;\n",
       "    }\n",
       "\n",
       "    .dataframe thead th {\n",
       "        text-align: right;\n",
       "    }\n",
       "</style>\n",
       "<table border=\"1\" class=\"dataframe\">\n",
       "  <thead>\n",
       "    <tr style=\"text-align: right;\">\n",
       "      <th></th>\n",
       "      <th>mean_fit_time</th>\n",
       "      <th>mean_score_time</th>\n",
       "    </tr>\n",
       "  </thead>\n",
       "  <tbody>\n",
       "    <tr>\n",
       "      <th>138</th>\n",
       "      <td>42.272798</td>\n",
       "      <td>0.075954</td>\n",
       "    </tr>\n",
       "  </tbody>\n",
       "</table>\n",
       "</div>"
      ],
      "text/plain": [
       "     mean_fit_time  mean_score_time\n",
       "138      42.272798         0.075954"
      ]
     },
     "metadata": {},
     "output_type": "display_data"
    }
   ],
   "source": [
    "params_names = ['n_resources', 'param_features_maker__max_lag', 'param_features_maker__rolling_mean_size',\n",
    "                'param_model__max_depth', 'param_model__min_child_samples', 'param_model__num_leaves',\n",
    "                'param_model__learning_rate']\n",
    "\n",
    "res = pd.DataFrame(lgbm_grid.cv_results_)[['mean_fit_time', 'mean_score_time', 'mean_test_score', *params_names]]\n",
    "best_res = res[res.mean_test_score == res.mean_test_score.max()]\n",
    "\n",
    "print('Лучшая модель')\n",
    "print('RMSE:', -float(best_res['mean_test_score']))\n",
    "display('Гиперпараметры:', best_res[params_names])\n",
    "display('Время обучения и время предсказания:', best_res[['mean_fit_time', 'mean_score_time']])"
   ]
  },
  {
   "attachments": {},
   "cell_type": "markdown",
   "metadata": {},
   "source": [
    "Лучшее значение RMSE модели градиентного бустинга составляет 26.2. Этот результат лучше, чем у случайного леса."
   ]
  },
  {
   "attachments": {},
   "cell_type": "markdown",
   "metadata": {},
   "source": [
    "**Вывод по разделу 3:**\n",
    "- Обучены 4 различные модели: линейная регрессия, дерево решений, случайный лес и градиентный бустинг (LightGBM)\n",
    "- Наименьшее значение метрики RMSE (26.2) позволяет получить **градиентный бустинг**\n",
    "- *Время обучения* модели - 42 сек, *время предсказания* - 0.07 сек\n",
    "- Гиперпараметры лучшей модели: `n_estimators` = 9, `max_lag` = 1, `rolling_mean_size` = 6, `max_depth` = 14, `min_child_samples` = 20, `num_leaves` = 70, `learning_rate` = 0.5"
   ]
  },
  {
   "attachments": {},
   "cell_type": "markdown",
   "metadata": {},
   "source": [
    "## 4. <a id='toc4_'></a>[Тестирование](#toc0_)"
   ]
  },
  {
   "attachments": {},
   "cell_type": "markdown",
   "metadata": {},
   "source": [
    "Теперь проверим качество модели. Для этого обучим её на всей обучающей выборке и найдём значение RMSE на тестовой. "
   ]
  },
  {
   "cell_type": "code",
   "execution_count": 27,
   "metadata": {
    "scrolled": true
   },
   "outputs": [
    {
     "name": "stdout",
     "output_type": "stream",
     "text": [
      "RMSE =  43.03315799374797\n",
      "CPU times: user 7.86 s, sys: 129 ms, total: 7.99 s\n",
      "Wall time: 8 s\n"
     ]
    }
   ],
   "source": [
    "%%time\n",
    "best_pipeline = Pipeline(steps=[\n",
    "    ('features_maker', TimeSeriesFeaturesMaker(max_lag=1, rolling_mean_size=6)),\n",
    "    ('scaler', StandardScaler()),\n",
    "    ('model', LGBMRegressor(max_depth=14, min_child_samples=20, n_estimators=9,\n",
    "                            num_leaves=70, learning_rate=0.5, random_state=42))\n",
    "])\n",
    "\n",
    "best_pipeline.fit(train, train.values.ravel())\n",
    "predictions = best_pipeline.predict(test)\n",
    "print('RMSE = ', mse(test, predictions)**0.5)"
   ]
  },
  {
   "attachments": {},
   "cell_type": "markdown",
   "metadata": {},
   "source": [
    "Значение RMSE на тестовой выборке: 43.03\n",
    "\n",
    "Теперь рассмотрим какие признаки оказались наиболее важными при обучении моделей"
   ]
  },
  {
   "cell_type": "code",
   "execution_count": 28,
   "metadata": {},
   "outputs": [
    {
     "data": {
      "image/png": "[encoded data removed]",
      "text/plain": [
       "<Figure size 1080x720 with 1 Axes>"
      ]
     },
     "metadata": {
      "needs_background": "light"
     },
     "output_type": "display_data"
    }
   ],
   "source": [
    "cols = ['month', 'day', 'dayofweek', 'hour', 'lag_1', 'rolling_mean_size']\n",
    "pd.Series(best_pipeline.named_steps['model'].feature_importances_, index=cols)\\\n",
    "            .plot(kind='barh', figsize=(15, 10));"
   ]
  },
  {
   "attachments": {},
   "cell_type": "markdown",
   "metadata": {},
   "source": [
    "Наиболее важные признаки - час, первый лаг и скользящее среднее за 6 часов. Остальные - менее важны"
   ]
  },
  {
   "attachments": {},
   "cell_type": "markdown",
   "metadata": {},
   "source": [
    "Визуализируем финальные предсказания: графики исходного и предсказанных рядов."
   ]
  },
  {
   "cell_type": "code",
   "execution_count": 37,
   "metadata": {
    "scrolled": true
   },
   "outputs": [
    {
     "data": {
      "image/png": "[encoded data removed]",
      "text/plain": [
       "<Figure size 1080x360 with 1 Axes>"
      ]
     },
     "metadata": {
      "needs_background": "light"
     },
     "output_type": "display_data"
    }
   ],
   "source": [
    "fig, ax = plt.subplots(figsize=(15, 5))\n",
    "ax.plot(test.index, test.values, test.index, predictions);\n",
    "plt.legend(['test', 'predictions']);"
   ]
  },
  {
   "attachments": {},
   "cell_type": "markdown",
   "metadata": {},
   "source": [
    "## 5. <a id='toc5_'></a>[Общий вывод](#toc0_)"
   ]
  },
  {
   "attachments": {},
   "cell_type": "markdown",
   "metadata": {},
   "source": [
    "- Проведён ресемплинг данных по одному часу; созданы признаки временного ряда\n",
    "- Проведён анализ датасета: количество заказов такси увеличивается; наблюдаются ежедневные циклы, наибольшее число заказов - около полуночи и 5 часов дня, минимум - с 5 до 7 утра\n",
    "- Обучены 4 различные модели: линейная регрессия, дерево решений, случайный лес и градиентный бустинг (LightGBM)\n",
    "- Лучшей моделью выбран **градиентный бустинг**: *время обучения* модели - 42.2 сек, *время предсказания* - 0.07 сек\n",
    "- Значение метрики RMSE на тестовой выборке 43.03\n",
    "- Наиболее важные признаки - час, первый лаг и скользящее среднее за 6 часов. Остальные - менее важны"
   ]
  },
  {
   "attachments": {},
   "cell_type": "markdown",
   "metadata": {},
   "source": [
    "## 6. <a id='toc6_'></a>[Чек-лист проверки](#toc0_)"
   ]
  },
  {
   "attachments": {},
   "cell_type": "markdown",
   "metadata": {},
   "source": [
    "- [x]  Jupyter Notebook открыт\n",
    "- [x]  Весь код выполняется без ошибок\n",
    "- [x]  Ячейки с кодом расположены в порядке исполнения\n",
    "- [x]  Данные загружены и подготовлены\n",
    "- [x]  Данные проанализированы\n",
    "- [x]  Модель обучена, гиперпараметры подобраны\n",
    "- [x]  Качество моделей проверено, выводы сделаны\n",
    "- [x]  Значение *RMSE* на тестовой выборке не больше 48"
   ]
  }
 ],
 "metadata": {
  "ExecuteTimeLog": [
   {
    "duration": 396,
    "start_time": "2023-02-17T16:13:44.626Z"
   },
   {
    "duration": 151,
    "start_time": "2023-02-17T16:14:25.690Z"
   },
   {
    "duration": 14,
    "start_time": "2023-02-17T16:14:33.873Z"
   },
   {
    "duration": 41,
    "start_time": "2023-02-17T16:14:59.262Z"
   },
   {
    "duration": 7,
    "start_time": "2023-02-17T16:14:59.721Z"
   },
   {
    "duration": 60,
    "start_time": "2023-02-17T16:18:05.545Z"
   },
   {
    "duration": 7,
    "start_time": "2023-02-17T16:18:13.813Z"
   },
   {
    "duration": 4,
    "start_time": "2023-02-17T16:18:17.672Z"
   },
   {
    "duration": 5,
    "start_time": "2023-02-17T16:18:41.175Z"
   },
   {
    "duration": 8,
    "start_time": "2023-02-17T16:18:46.800Z"
   },
   {
    "duration": 5,
    "start_time": "2023-02-17T16:19:13.068Z"
   },
   {
    "duration": 393,
    "start_time": "2023-02-17T16:19:35.165Z"
   },
   {
    "duration": 42,
    "start_time": "2023-02-17T16:19:35.560Z"
   },
   {
    "duration": 14,
    "start_time": "2023-02-17T16:19:35.604Z"
   },
   {
    "duration": 5,
    "start_time": "2023-02-17T16:19:35.620Z"
   },
   {
    "duration": 15,
    "start_time": "2023-02-17T16:20:48.581Z"
   },
   {
    "duration": 12,
    "start_time": "2023-02-17T16:20:55.167Z"
   },
   {
    "duration": 14,
    "start_time": "2023-02-17T16:22:53.958Z"
   },
   {
    "duration": 385,
    "start_time": "2023-02-17T16:24:09.517Z"
   },
   {
    "duration": 46,
    "start_time": "2023-02-17T16:24:09.904Z"
   },
   {
    "duration": 9,
    "start_time": "2023-02-17T16:24:09.951Z"
   },
   {
    "duration": 23,
    "start_time": "2023-02-17T16:24:09.962Z"
   },
   {
    "duration": 24,
    "start_time": "2023-02-17T16:24:09.986Z"
   },
   {
    "duration": 8,
    "start_time": "2023-02-17T16:24:22.489Z"
   },
   {
    "duration": 737,
    "start_time": "2023-02-17T16:28:12.349Z"
   },
   {
    "duration": 1351,
    "start_time": "2023-02-18T10:54:30.616Z"
   },
   {
    "duration": 146,
    "start_time": "2023-02-18T10:54:31.970Z"
   },
   {
    "duration": 12,
    "start_time": "2023-02-18T10:54:32.118Z"
   },
   {
    "duration": 20,
    "start_time": "2023-02-18T10:54:32.133Z"
   },
   {
    "duration": 12,
    "start_time": "2023-02-18T10:54:32.156Z"
   },
   {
    "duration": 13,
    "start_time": "2023-02-18T10:54:32.170Z"
   },
   {
    "duration": 930,
    "start_time": "2023-02-18T10:58:55.535Z"
   },
   {
    "duration": 273,
    "start_time": "2023-02-18T10:59:18.201Z"
   },
   {
    "duration": 578,
    "start_time": "2023-02-18T10:59:24.238Z"
   },
   {
    "duration": 681,
    "start_time": "2023-02-18T10:59:38.229Z"
   },
   {
    "duration": 487,
    "start_time": "2023-02-18T11:01:01.502Z"
   },
   {
    "duration": 488,
    "start_time": "2023-02-18T11:01:07.783Z"
   },
   {
    "duration": 585,
    "start_time": "2023-02-18T11:01:18.821Z"
   },
   {
    "duration": 3,
    "start_time": "2023-02-18T11:02:01.471Z"
   },
   {
    "duration": 544,
    "start_time": "2023-02-18T11:02:31.465Z"
   },
   {
    "duration": 384,
    "start_time": "2023-02-18T11:02:43.878Z"
   },
   {
    "duration": 374,
    "start_time": "2023-02-18T11:03:42.738Z"
   },
   {
    "duration": 514,
    "start_time": "2023-02-18T11:04:45.163Z"
   },
   {
    "duration": 458,
    "start_time": "2023-02-18T11:06:16.783Z"
   },
   {
    "duration": 390,
    "start_time": "2023-02-18T11:06:24.439Z"
   },
   {
    "duration": 397,
    "start_time": "2023-02-18T11:07:15.923Z"
   },
   {
    "duration": 389,
    "start_time": "2023-02-18T11:07:33.369Z"
   },
   {
    "duration": 374,
    "start_time": "2023-02-18T11:07:47.960Z"
   },
   {
    "duration": 558,
    "start_time": "2023-02-18T11:07:58.917Z"
   },
   {
    "duration": 393,
    "start_time": "2023-02-18T11:08:03.331Z"
   },
   {
    "duration": 7,
    "start_time": "2023-02-18T11:15:36.162Z"
   },
   {
    "duration": 454,
    "start_time": "2023-02-18T11:16:10.384Z"
   },
   {
    "duration": 466,
    "start_time": "2023-02-18T11:22:52.837Z"
   },
   {
    "duration": 114,
    "start_time": "2023-02-18T11:24:00.533Z"
   },
   {
    "duration": 25,
    "start_time": "2023-02-18T11:24:06.200Z"
   },
   {
    "duration": 439,
    "start_time": "2023-02-18T11:37:43.696Z"
   },
   {
    "duration": 796,
    "start_time": "2023-02-18T11:38:43.305Z"
   },
   {
    "duration": 644,
    "start_time": "2023-02-18T11:39:15.814Z"
   },
   {
    "duration": 8,
    "start_time": "2023-02-18T11:44:50.497Z"
   },
   {
    "duration": 10,
    "start_time": "2023-02-18T11:45:25.935Z"
   },
   {
    "duration": 162,
    "start_time": "2023-02-18T11:45:31.750Z"
   },
   {
    "duration": 138,
    "start_time": "2023-02-18T11:45:38.308Z"
   },
   {
    "duration": 184,
    "start_time": "2023-02-18T11:45:48.747Z"
   },
   {
    "duration": 188,
    "start_time": "2023-02-18T11:46:33.053Z"
   },
   {
    "duration": 356,
    "start_time": "2023-02-18T11:48:39.163Z"
   },
   {
    "duration": 15,
    "start_time": "2023-02-18T11:49:09.063Z"
   },
   {
    "duration": 351,
    "start_time": "2023-02-18T11:49:53.641Z"
   },
   {
    "duration": 388,
    "start_time": "2023-02-18T11:49:58.805Z"
   },
   {
    "duration": 233,
    "start_time": "2023-02-18T11:50:09.070Z"
   },
   {
    "duration": 207,
    "start_time": "2023-02-18T11:50:29.077Z"
   },
   {
    "duration": 205,
    "start_time": "2023-02-18T11:51:13.062Z"
   },
   {
    "duration": 189,
    "start_time": "2023-02-18T11:51:41.048Z"
   },
   {
    "duration": 4,
    "start_time": "2023-02-18T11:52:22.656Z"
   },
   {
    "duration": 234,
    "start_time": "2023-02-18T11:52:26.462Z"
   },
   {
    "duration": 44,
    "start_time": "2023-02-18T11:52:42.490Z"
   },
   {
    "duration": 192,
    "start_time": "2023-02-18T11:52:46.463Z"
   },
   {
    "duration": 182,
    "start_time": "2023-02-18T11:53:10.812Z"
   },
   {
    "duration": 205,
    "start_time": "2023-02-18T11:54:02.425Z"
   },
   {
    "duration": 201,
    "start_time": "2023-02-18T11:54:14.036Z"
   },
   {
    "duration": 324,
    "start_time": "2023-02-18T11:54:22.474Z"
   },
   {
    "duration": 193,
    "start_time": "2023-02-18T11:54:53.084Z"
   },
   {
    "duration": 192,
    "start_time": "2023-02-18T11:55:20.320Z"
   },
   {
    "duration": 16,
    "start_time": "2023-02-18T11:56:20.745Z"
   },
   {
    "duration": 430,
    "start_time": "2023-02-18T11:57:15.202Z"
   },
   {
    "duration": 348,
    "start_time": "2023-02-18T11:57:25.269Z"
   },
   {
    "duration": 278,
    "start_time": "2023-02-18T11:57:37.364Z"
   },
   {
    "duration": 262,
    "start_time": "2023-02-18T11:57:45.164Z"
   },
   {
    "duration": 259,
    "start_time": "2023-02-18T11:57:54.680Z"
   },
   {
    "duration": 244,
    "start_time": "2023-02-18T11:59:47.835Z"
   },
   {
    "duration": 193,
    "start_time": "2023-02-18T12:00:40.190Z"
   },
   {
    "duration": 194,
    "start_time": "2023-02-18T12:00:49.725Z"
   },
   {
    "duration": 188,
    "start_time": "2023-02-18T12:00:58.171Z"
   },
   {
    "duration": 198,
    "start_time": "2023-02-18T12:01:08.816Z"
   },
   {
    "duration": 189,
    "start_time": "2023-02-18T12:01:24.573Z"
   },
   {
    "duration": 191,
    "start_time": "2023-02-18T12:01:32.505Z"
   },
   {
    "duration": 903,
    "start_time": "2023-02-18T12:01:46.309Z"
   },
   {
    "duration": 196,
    "start_time": "2023-02-18T12:01:51.711Z"
   },
   {
    "duration": 9,
    "start_time": "2023-02-18T12:20:58.385Z"
   },
   {
    "duration": 9,
    "start_time": "2023-02-18T12:23:42.838Z"
   },
   {
    "duration": 3,
    "start_time": "2023-02-18T12:26:21.658Z"
   },
   {
    "duration": 6,
    "start_time": "2023-02-18T12:26:25.063Z"
   },
   {
    "duration": 13,
    "start_time": "2023-02-18T12:27:26.004Z"
   },
   {
    "duration": 12,
    "start_time": "2023-02-18T12:27:59.289Z"
   },
   {
    "duration": 13,
    "start_time": "2023-02-18T12:28:13.023Z"
   },
   {
    "duration": 4,
    "start_time": "2023-02-18T12:29:29.135Z"
   },
   {
    "duration": 16,
    "start_time": "2023-02-18T12:29:29.657Z"
   },
   {
    "duration": 5,
    "start_time": "2023-02-18T12:37:11.509Z"
   },
   {
    "duration": 16,
    "start_time": "2023-02-18T12:37:13.090Z"
   },
   {
    "duration": 4,
    "start_time": "2023-02-18T12:37:24.850Z"
   },
   {
    "duration": 18,
    "start_time": "2023-02-18T12:37:25.231Z"
   },
   {
    "duration": 4,
    "start_time": "2023-02-18T12:37:35.744Z"
   },
   {
    "duration": 16,
    "start_time": "2023-02-18T12:37:36.104Z"
   },
   {
    "duration": 7,
    "start_time": "2023-02-18T12:38:30.714Z"
   },
   {
    "duration": 24,
    "start_time": "2023-02-18T12:38:31.896Z"
   },
   {
    "duration": 5,
    "start_time": "2023-02-18T12:38:43.151Z"
   },
   {
    "duration": 20,
    "start_time": "2023-02-18T12:38:43.694Z"
   },
   {
    "duration": 10,
    "start_time": "2023-02-18T12:39:18.134Z"
   },
   {
    "duration": 4,
    "start_time": "2023-02-18T12:39:36.317Z"
   },
   {
    "duration": 71,
    "start_time": "2023-02-18T12:39:52.829Z"
   },
   {
    "duration": 50,
    "start_time": "2023-02-18T12:39:56.743Z"
   },
   {
    "duration": 5,
    "start_time": "2023-02-18T12:40:02.959Z"
   },
   {
    "duration": 5,
    "start_time": "2023-02-18T12:40:17.147Z"
   },
   {
    "duration": 17,
    "start_time": "2023-02-18T12:40:18.922Z"
   },
   {
    "duration": 2,
    "start_time": "2023-02-18T12:40:25.619Z"
   },
   {
    "duration": 17,
    "start_time": "2023-02-18T12:40:31.595Z"
   },
   {
    "duration": 3,
    "start_time": "2023-02-18T12:41:01.331Z"
   },
   {
    "duration": 4,
    "start_time": "2023-02-18T12:41:05.290Z"
   },
   {
    "duration": 3,
    "start_time": "2023-02-18T12:41:06.236Z"
   },
   {
    "duration": 16,
    "start_time": "2023-02-18T12:41:06.788Z"
   },
   {
    "duration": 1321,
    "start_time": "2023-02-18T12:41:15.341Z"
   },
   {
    "duration": 53,
    "start_time": "2023-02-18T12:41:16.664Z"
   },
   {
    "duration": 5,
    "start_time": "2023-02-18T12:41:16.719Z"
   },
   {
    "duration": 18,
    "start_time": "2023-02-18T12:41:16.726Z"
   },
   {
    "duration": 8,
    "start_time": "2023-02-18T12:41:16.745Z"
   },
   {
    "duration": 9,
    "start_time": "2023-02-18T12:41:16.755Z"
   },
   {
    "duration": 6,
    "start_time": "2023-02-18T12:41:16.765Z"
   },
   {
    "duration": 28,
    "start_time": "2023-02-18T12:41:16.773Z"
   },
   {
    "duration": 708,
    "start_time": "2023-02-18T12:41:16.803Z"
   },
   {
    "duration": 114,
    "start_time": "2023-02-18T12:41:17.514Z"
   },
   {
    "duration": 0,
    "start_time": "2023-02-18T12:41:17.629Z"
   },
   {
    "duration": 5,
    "start_time": "2023-02-18T12:44:44.878Z"
   },
   {
    "duration": 39,
    "start_time": "2023-02-18T12:44:46.131Z"
   },
   {
    "duration": 4,
    "start_time": "2023-02-18T12:45:00.263Z"
   },
   {
    "duration": 52,
    "start_time": "2023-02-18T12:45:01.377Z"
   },
   {
    "duration": 4,
    "start_time": "2023-02-18T12:45:16.980Z"
   },
   {
    "duration": 28,
    "start_time": "2023-02-18T12:45:18.170Z"
   },
   {
    "duration": 4,
    "start_time": "2023-02-18T12:45:23.993Z"
   },
   {
    "duration": 18,
    "start_time": "2023-02-18T12:45:24.994Z"
   },
   {
    "duration": 71,
    "start_time": "2023-02-18T12:46:06.707Z"
   },
   {
    "duration": 16,
    "start_time": "2023-02-18T12:46:06.993Z"
   },
   {
    "duration": 1312,
    "start_time": "2023-02-18T12:46:19.628Z"
   },
   {
    "duration": 49,
    "start_time": "2023-02-18T12:46:20.941Z"
   },
   {
    "duration": 5,
    "start_time": "2023-02-18T12:46:20.992Z"
   },
   {
    "duration": 13,
    "start_time": "2023-02-18T12:46:20.999Z"
   },
   {
    "duration": 8,
    "start_time": "2023-02-18T12:46:21.014Z"
   },
   {
    "duration": 15,
    "start_time": "2023-02-18T12:46:21.024Z"
   },
   {
    "duration": 53,
    "start_time": "2023-02-18T12:46:21.040Z"
   },
   {
    "duration": 0,
    "start_time": "2023-02-18T12:46:21.095Z"
   },
   {
    "duration": 0,
    "start_time": "2023-02-18T12:46:21.096Z"
   },
   {
    "duration": 0,
    "start_time": "2023-02-18T12:46:21.097Z"
   },
   {
    "duration": 0,
    "start_time": "2023-02-18T12:46:21.098Z"
   },
   {
    "duration": 5,
    "start_time": "2023-02-18T12:46:32.836Z"
   },
   {
    "duration": 21,
    "start_time": "2023-02-18T12:46:33.566Z"
   },
   {
    "duration": 4,
    "start_time": "2023-02-18T12:47:03.875Z"
   },
   {
    "duration": 5,
    "start_time": "2023-02-18T12:47:04.838Z"
   },
   {
    "duration": 20,
    "start_time": "2023-02-18T12:47:05.433Z"
   },
   {
    "duration": 6,
    "start_time": "2023-02-18T12:48:58.824Z"
   },
   {
    "duration": 18,
    "start_time": "2023-02-18T12:48:59.076Z"
   },
   {
    "duration": 1303,
    "start_time": "2023-02-18T12:49:06.172Z"
   },
   {
    "duration": 48,
    "start_time": "2023-02-18T12:49:07.477Z"
   },
   {
    "duration": 5,
    "start_time": "2023-02-18T12:49:07.527Z"
   },
   {
    "duration": 11,
    "start_time": "2023-02-18T12:49:07.534Z"
   },
   {
    "duration": 8,
    "start_time": "2023-02-18T12:49:07.546Z"
   },
   {
    "duration": 11,
    "start_time": "2023-02-18T12:49:07.555Z"
   },
   {
    "duration": 6,
    "start_time": "2023-02-18T12:49:07.567Z"
   },
   {
    "duration": 25,
    "start_time": "2023-02-18T12:49:07.575Z"
   },
   {
    "duration": 816,
    "start_time": "2023-02-18T12:49:07.601Z"
   },
   {
    "duration": 108,
    "start_time": "2023-02-18T12:49:08.419Z"
   },
   {
    "duration": 0,
    "start_time": "2023-02-18T12:49:08.529Z"
   },
   {
    "duration": 1335,
    "start_time": "2023-02-18T12:50:13.231Z"
   },
   {
    "duration": 48,
    "start_time": "2023-02-18T12:50:14.568Z"
   },
   {
    "duration": 5,
    "start_time": "2023-02-18T12:50:14.618Z"
   },
   {
    "duration": 12,
    "start_time": "2023-02-18T12:50:14.625Z"
   },
   {
    "duration": 8,
    "start_time": "2023-02-18T12:50:14.639Z"
   },
   {
    "duration": 10,
    "start_time": "2023-02-18T12:50:14.648Z"
   },
   {
    "duration": 5,
    "start_time": "2023-02-18T12:50:14.659Z"
   },
   {
    "duration": 116,
    "start_time": "2023-02-18T12:50:14.666Z"
   },
   {
    "duration": 0,
    "start_time": "2023-02-18T12:50:14.784Z"
   },
   {
    "duration": 1,
    "start_time": "2023-02-18T12:50:14.785Z"
   },
   {
    "duration": 0,
    "start_time": "2023-02-18T12:50:14.787Z"
   },
   {
    "duration": 4,
    "start_time": "2023-02-18T12:50:36.713Z"
   },
   {
    "duration": 23,
    "start_time": "2023-02-18T12:50:36.968Z"
   },
   {
    "duration": 790,
    "start_time": "2023-02-18T12:50:44.487Z"
   },
   {
    "duration": 14,
    "start_time": "2023-02-18T12:50:53.314Z"
   },
   {
    "duration": 1406,
    "start_time": "2023-02-18T12:51:37.551Z"
   },
   {
    "duration": 49,
    "start_time": "2023-02-18T12:51:38.959Z"
   },
   {
    "duration": 7,
    "start_time": "2023-02-18T12:51:39.010Z"
   },
   {
    "duration": 11,
    "start_time": "2023-02-18T12:51:39.019Z"
   },
   {
    "duration": 10,
    "start_time": "2023-02-18T12:51:39.032Z"
   },
   {
    "duration": 12,
    "start_time": "2023-02-18T12:51:39.043Z"
   },
   {
    "duration": 9,
    "start_time": "2023-02-18T12:51:39.056Z"
   },
   {
    "duration": 478,
    "start_time": "2023-02-18T12:51:39.067Z"
   },
   {
    "duration": 683,
    "start_time": "2023-02-18T12:51:39.547Z"
   },
   {
    "duration": 224,
    "start_time": "2023-02-18T12:51:40.234Z"
   },
   {
    "duration": 19,
    "start_time": "2023-02-18T12:56:22.202Z"
   },
   {
    "duration": 753,
    "start_time": "2023-02-18T12:56:25.076Z"
   },
   {
    "duration": 5,
    "start_time": "2023-02-18T12:56:39.171Z"
   },
   {
    "duration": 18,
    "start_time": "2023-02-18T12:56:40.471Z"
   },
   {
    "duration": 1335,
    "start_time": "2023-02-18T12:56:55.374Z"
   },
   {
    "duration": 47,
    "start_time": "2023-02-18T12:56:56.711Z"
   },
   {
    "duration": 5,
    "start_time": "2023-02-18T12:56:56.760Z"
   },
   {
    "duration": 13,
    "start_time": "2023-02-18T12:56:56.767Z"
   },
   {
    "duration": 9,
    "start_time": "2023-02-18T12:56:56.782Z"
   },
   {
    "duration": 10,
    "start_time": "2023-02-18T12:56:56.792Z"
   },
   {
    "duration": 114,
    "start_time": "2023-02-18T12:56:56.804Z"
   },
   {
    "duration": 0,
    "start_time": "2023-02-18T12:56:56.919Z"
   },
   {
    "duration": 0,
    "start_time": "2023-02-18T12:56:56.920Z"
   },
   {
    "duration": 0,
    "start_time": "2023-02-18T12:56:56.921Z"
   },
   {
    "duration": 0,
    "start_time": "2023-02-18T12:56:56.922Z"
   },
   {
    "duration": 5,
    "start_time": "2023-02-18T12:57:11.197Z"
   },
   {
    "duration": 423,
    "start_time": "2023-02-18T12:57:12.069Z"
   },
   {
    "duration": 626,
    "start_time": "2023-02-18T12:57:12.494Z"
   },
   {
    "duration": 212,
    "start_time": "2023-02-18T12:57:13.122Z"
   },
   {
    "duration": 12,
    "start_time": "2023-02-18T13:45:42.900Z"
   },
   {
    "duration": 3,
    "start_time": "2023-02-18T13:45:59.833Z"
   },
   {
    "duration": 38,
    "start_time": "2023-02-18T13:47:31.840Z"
   },
   {
    "duration": 4,
    "start_time": "2023-02-18T13:47:51.991Z"
   },
   {
    "duration": 37,
    "start_time": "2023-02-18T13:48:02.992Z"
   },
   {
    "duration": 6,
    "start_time": "2023-02-18T13:51:52.133Z"
   },
   {
    "duration": 17,
    "start_time": "2023-02-18T13:51:52.654Z"
   },
   {
    "duration": 6,
    "start_time": "2023-02-18T13:52:47.849Z"
   },
   {
    "duration": 6,
    "start_time": "2023-02-18T13:52:48.384Z"
   },
   {
    "duration": 19,
    "start_time": "2023-02-18T13:52:49.131Z"
   },
   {
    "duration": 6,
    "start_time": "2023-02-18T13:53:21.362Z"
   },
   {
    "duration": 9,
    "start_time": "2023-02-18T13:53:21.939Z"
   },
   {
    "duration": 6,
    "start_time": "2023-02-18T13:53:59.786Z"
   },
   {
    "duration": 15,
    "start_time": "2023-02-18T13:54:00.357Z"
   },
   {
    "duration": 4,
    "start_time": "2023-02-18T13:54:13.602Z"
   },
   {
    "duration": 18,
    "start_time": "2023-02-18T13:54:14.037Z"
   },
   {
    "duration": 6,
    "start_time": "2023-02-18T13:54:41.533Z"
   },
   {
    "duration": 17,
    "start_time": "2023-02-18T13:54:41.830Z"
   },
   {
    "duration": 2,
    "start_time": "2023-02-18T13:54:44.428Z"
   },
   {
    "duration": 18,
    "start_time": "2023-02-18T13:54:44.770Z"
   },
   {
    "duration": 5,
    "start_time": "2023-02-18T13:55:36.056Z"
   },
   {
    "duration": 19,
    "start_time": "2023-02-18T13:55:36.253Z"
   },
   {
    "duration": 4,
    "start_time": "2023-02-18T13:55:38.199Z"
   },
   {
    "duration": 19,
    "start_time": "2023-02-18T13:55:38.434Z"
   },
   {
    "duration": 6,
    "start_time": "2023-02-18T13:56:13.307Z"
   },
   {
    "duration": 31,
    "start_time": "2023-02-18T13:56:13.727Z"
   },
   {
    "duration": 15,
    "start_time": "2023-02-18T13:56:38.533Z"
   },
   {
    "duration": 5,
    "start_time": "2023-02-18T14:04:44.645Z"
   },
   {
    "duration": 20,
    "start_time": "2023-02-18T14:04:45.046Z"
   },
   {
    "duration": 15,
    "start_time": "2023-02-18T14:05:05.465Z"
   },
   {
    "duration": 6,
    "start_time": "2023-02-18T14:11:18.171Z"
   },
   {
    "duration": 23,
    "start_time": "2023-02-18T14:11:18.428Z"
   },
   {
    "duration": 6,
    "start_time": "2023-02-18T14:11:33.245Z"
   },
   {
    "duration": 5,
    "start_time": "2023-02-18T14:11:38.573Z"
   },
   {
    "duration": 7,
    "start_time": "2023-02-18T14:11:56.568Z"
   },
   {
    "duration": 16,
    "start_time": "2023-02-18T14:11:56.862Z"
   },
   {
    "duration": 6,
    "start_time": "2023-02-18T14:14:06.228Z"
   },
   {
    "duration": 14,
    "start_time": "2023-02-18T14:14:22.373Z"
   },
   {
    "duration": 7,
    "start_time": "2023-02-18T14:14:35.364Z"
   },
   {
    "duration": 5,
    "start_time": "2023-02-18T14:15:22.542Z"
   },
   {
    "duration": 20,
    "start_time": "2023-02-18T14:15:22.834Z"
   },
   {
    "duration": 7,
    "start_time": "2023-02-18T14:15:38.595Z"
   },
   {
    "duration": 83,
    "start_time": "2023-02-18T14:15:38.987Z"
   },
   {
    "duration": 8,
    "start_time": "2023-02-18T14:17:02.933Z"
   },
   {
    "duration": 49,
    "start_time": "2023-02-18T14:17:03.076Z"
   },
   {
    "duration": 6,
    "start_time": "2023-02-18T14:17:14.649Z"
   },
   {
    "duration": 56,
    "start_time": "2023-02-18T14:17:14.831Z"
   },
   {
    "duration": 5,
    "start_time": "2023-02-18T14:18:53.138Z"
   },
   {
    "duration": 16,
    "start_time": "2023-02-18T14:18:53.365Z"
   },
   {
    "duration": 19,
    "start_time": "2023-02-18T14:19:04.320Z"
   },
   {
    "duration": 3,
    "start_time": "2023-02-18T14:19:12.123Z"
   },
   {
    "duration": 19,
    "start_time": "2023-02-18T14:19:12.337Z"
   },
   {
    "duration": 6,
    "start_time": "2023-02-18T14:22:56.834Z"
   },
   {
    "duration": 22,
    "start_time": "2023-02-18T14:22:57.040Z"
   },
   {
    "duration": 3,
    "start_time": "2023-02-18T14:22:58.895Z"
   },
   {
    "duration": 28,
    "start_time": "2023-02-18T14:22:59.550Z"
   },
   {
    "duration": 6,
    "start_time": "2023-02-18T14:23:09.335Z"
   },
   {
    "duration": 26,
    "start_time": "2023-02-18T14:23:09.494Z"
   },
   {
    "duration": 24,
    "start_time": "2023-02-18T14:28:46.632Z"
   },
   {
    "duration": 4,
    "start_time": "2023-02-18T14:30:17.029Z"
   },
   {
    "duration": 24,
    "start_time": "2023-02-18T14:30:17.315Z"
   },
   {
    "duration": 4,
    "start_time": "2023-02-18T14:30:20.990Z"
   },
   {
    "duration": 22,
    "start_time": "2023-02-18T14:30:21.567Z"
   },
   {
    "duration": 1561,
    "start_time": "2023-02-18T14:30:29.850Z"
   },
   {
    "duration": 62,
    "start_time": "2023-02-18T14:30:31.413Z"
   },
   {
    "duration": 6,
    "start_time": "2023-02-18T14:30:31.477Z"
   },
   {
    "duration": 26,
    "start_time": "2023-02-18T14:30:31.487Z"
   },
   {
    "duration": 10,
    "start_time": "2023-02-18T14:30:31.516Z"
   },
   {
    "duration": 50,
    "start_time": "2023-02-18T14:30:31.528Z"
   },
   {
    "duration": 15,
    "start_time": "2023-02-18T14:30:31.580Z"
   },
   {
    "duration": 30,
    "start_time": "2023-02-18T14:30:31.597Z"
   },
   {
    "duration": 3,
    "start_time": "2023-02-18T14:30:31.629Z"
   },
   {
    "duration": 156,
    "start_time": "2023-02-18T14:30:31.635Z"
   },
   {
    "duration": 0,
    "start_time": "2023-02-18T14:30:31.793Z"
   },
   {
    "duration": 0,
    "start_time": "2023-02-18T14:30:31.794Z"
   },
   {
    "duration": 0,
    "start_time": "2023-02-18T14:30:31.795Z"
   },
   {
    "duration": 19,
    "start_time": "2023-02-18T14:30:57.373Z"
   },
   {
    "duration": 1843,
    "start_time": "2023-02-18T14:31:15.519Z"
   },
   {
    "duration": 78,
    "start_time": "2023-02-18T14:31:17.364Z"
   },
   {
    "duration": 7,
    "start_time": "2023-02-18T14:31:17.444Z"
   },
   {
    "duration": 18,
    "start_time": "2023-02-18T14:31:17.453Z"
   },
   {
    "duration": 10,
    "start_time": "2023-02-18T14:31:17.473Z"
   },
   {
    "duration": 14,
    "start_time": "2023-02-18T14:31:17.486Z"
   },
   {
    "duration": 15,
    "start_time": "2023-02-18T14:31:17.502Z"
   },
   {
    "duration": 31,
    "start_time": "2023-02-18T14:31:17.520Z"
   },
   {
    "duration": 23,
    "start_time": "2023-02-18T14:31:17.553Z"
   },
   {
    "duration": 19,
    "start_time": "2023-02-18T14:31:17.579Z"
   },
   {
    "duration": 745,
    "start_time": "2023-02-18T14:31:17.604Z"
   },
   {
    "duration": 709,
    "start_time": "2023-02-18T14:31:18.351Z"
   },
   {
    "duration": 230,
    "start_time": "2023-02-18T14:31:19.062Z"
   },
   {
    "duration": 2,
    "start_time": "2023-02-18T14:31:38.620Z"
   },
   {
    "duration": 130,
    "start_time": "2023-02-18T14:31:38.886Z"
   },
   {
    "duration": 1387,
    "start_time": "2023-02-18T14:31:48.577Z"
   },
   {
    "duration": 51,
    "start_time": "2023-02-18T14:31:49.966Z"
   },
   {
    "duration": 7,
    "start_time": "2023-02-18T14:31:50.019Z"
   },
   {
    "duration": 12,
    "start_time": "2023-02-18T14:31:50.028Z"
   },
   {
    "duration": 10,
    "start_time": "2023-02-18T14:31:50.042Z"
   },
   {
    "duration": 12,
    "start_time": "2023-02-18T14:31:50.054Z"
   },
   {
    "duration": 15,
    "start_time": "2023-02-18T14:31:50.067Z"
   },
   {
    "duration": 5,
    "start_time": "2023-02-18T14:31:50.084Z"
   },
   {
    "duration": 9,
    "start_time": "2023-02-18T14:31:50.091Z"
   },
   {
    "duration": 157,
    "start_time": "2023-02-18T14:31:50.102Z"
   },
   {
    "duration": 0,
    "start_time": "2023-02-18T14:31:50.261Z"
   },
   {
    "duration": 0,
    "start_time": "2023-02-18T14:31:50.263Z"
   },
   {
    "duration": 0,
    "start_time": "2023-02-18T14:31:50.264Z"
   },
   {
    "duration": 18,
    "start_time": "2023-02-18T14:32:02.420Z"
   },
   {
    "duration": 24,
    "start_time": "2023-02-18T14:32:22.290Z"
   },
   {
    "duration": 1354,
    "start_time": "2023-02-18T14:32:49.145Z"
   },
   {
    "duration": 50,
    "start_time": "2023-02-18T14:32:50.502Z"
   },
   {
    "duration": 9,
    "start_time": "2023-02-18T14:32:50.554Z"
   },
   {
    "duration": 11,
    "start_time": "2023-02-18T14:32:50.566Z"
   },
   {
    "duration": 10,
    "start_time": "2023-02-18T14:32:50.578Z"
   },
   {
    "duration": 11,
    "start_time": "2023-02-18T14:32:50.590Z"
   },
   {
    "duration": 20,
    "start_time": "2023-02-18T14:32:50.603Z"
   },
   {
    "duration": 28,
    "start_time": "2023-02-18T14:32:50.625Z"
   },
   {
    "duration": 13,
    "start_time": "2023-02-18T14:32:50.656Z"
   },
   {
    "duration": 200,
    "start_time": "2023-02-18T14:32:50.673Z"
   },
   {
    "duration": 0,
    "start_time": "2023-02-18T14:32:50.874Z"
   },
   {
    "duration": 0,
    "start_time": "2023-02-18T14:32:50.875Z"
   },
   {
    "duration": 0,
    "start_time": "2023-02-18T14:32:50.876Z"
   },
   {
    "duration": 1393,
    "start_time": "2023-02-18T14:33:16.981Z"
   },
   {
    "duration": 51,
    "start_time": "2023-02-18T14:33:18.377Z"
   },
   {
    "duration": 6,
    "start_time": "2023-02-18T14:33:18.431Z"
   },
   {
    "duration": 17,
    "start_time": "2023-02-18T14:33:18.440Z"
   },
   {
    "duration": 9,
    "start_time": "2023-02-18T14:33:18.459Z"
   },
   {
    "duration": 11,
    "start_time": "2023-02-18T14:33:18.470Z"
   },
   {
    "duration": 12,
    "start_time": "2023-02-18T14:33:18.483Z"
   },
   {
    "duration": 6,
    "start_time": "2023-02-18T14:33:18.497Z"
   },
   {
    "duration": 10,
    "start_time": "2023-02-18T14:33:18.505Z"
   },
   {
    "duration": 201,
    "start_time": "2023-02-18T14:33:18.518Z"
   },
   {
    "duration": 0,
    "start_time": "2023-02-18T14:33:18.721Z"
   },
   {
    "duration": 0,
    "start_time": "2023-02-18T14:33:18.723Z"
   },
   {
    "duration": 0,
    "start_time": "2023-02-18T14:33:18.724Z"
   },
   {
    "duration": 3,
    "start_time": "2023-02-18T14:33:38.245Z"
   },
   {
    "duration": 11,
    "start_time": "2023-02-18T14:33:38.658Z"
   },
   {
    "duration": 4,
    "start_time": "2023-02-18T14:34:12.985Z"
   },
   {
    "duration": 155,
    "start_time": "2023-02-18T14:34:13.401Z"
   },
   {
    "duration": 6,
    "start_time": "2023-02-18T14:34:51.624Z"
   },
   {
    "duration": 3,
    "start_time": "2023-02-18T14:34:52.342Z"
   },
   {
    "duration": 84,
    "start_time": "2023-02-18T14:34:52.747Z"
   },
   {
    "duration": 22,
    "start_time": "2023-02-18T14:35:56.964Z"
   },
   {
    "duration": 7,
    "start_time": "2023-02-18T14:36:25.491Z"
   },
   {
    "duration": 15,
    "start_time": "2023-02-18T14:36:25.729Z"
   },
   {
    "duration": 7,
    "start_time": "2023-02-18T14:36:36.517Z"
   },
   {
    "duration": 24,
    "start_time": "2023-02-18T14:36:36.713Z"
   },
   {
    "duration": 3,
    "start_time": "2023-02-18T14:36:41.190Z"
   },
   {
    "duration": 24,
    "start_time": "2023-02-18T14:36:41.416Z"
   },
   {
    "duration": 5,
    "start_time": "2023-02-18T14:37:18.833Z"
   },
   {
    "duration": 23,
    "start_time": "2023-02-18T14:37:19.280Z"
   },
   {
    "duration": 6,
    "start_time": "2023-02-18T14:37:30.928Z"
   },
   {
    "duration": 25,
    "start_time": "2023-02-18T14:37:32.328Z"
   },
   {
    "duration": 8,
    "start_time": "2023-02-18T14:37:40.732Z"
   },
   {
    "duration": 24,
    "start_time": "2023-02-18T14:37:41.156Z"
   },
   {
    "duration": 9,
    "start_time": "2023-02-18T14:38:08.269Z"
   },
   {
    "duration": 54,
    "start_time": "2023-02-18T14:38:08.442Z"
   },
   {
    "duration": 6,
    "start_time": "2023-02-18T14:38:20.336Z"
   },
   {
    "duration": 36,
    "start_time": "2023-02-18T14:38:20.525Z"
   },
   {
    "duration": 6,
    "start_time": "2023-02-18T14:38:38.896Z"
   },
   {
    "duration": 18,
    "start_time": "2023-02-18T14:38:39.502Z"
   },
   {
    "duration": 8,
    "start_time": "2023-02-18T14:38:52.251Z"
   },
   {
    "duration": 23,
    "start_time": "2023-02-18T14:38:53.255Z"
   },
   {
    "duration": 5,
    "start_time": "2023-02-18T14:39:04.329Z"
   },
   {
    "duration": 28,
    "start_time": "2023-02-18T14:39:04.636Z"
   },
   {
    "duration": 5,
    "start_time": "2023-02-18T14:39:12.618Z"
   },
   {
    "duration": 49,
    "start_time": "2023-02-18T14:39:13.015Z"
   },
   {
    "duration": 6,
    "start_time": "2023-02-18T14:39:27.740Z"
   },
   {
    "duration": 70,
    "start_time": "2023-02-18T14:39:28.139Z"
   },
   {
    "duration": 66,
    "start_time": "2023-02-18T14:39:38.827Z"
   },
   {
    "duration": 130,
    "start_time": "2023-02-18T14:39:45.152Z"
   },
   {
    "duration": 4,
    "start_time": "2023-02-18T14:39:55.958Z"
   },
   {
    "duration": 23,
    "start_time": "2023-02-18T14:39:56.225Z"
   },
   {
    "duration": 5,
    "start_time": "2023-02-18T14:40:14.315Z"
   },
   {
    "duration": 33,
    "start_time": "2023-02-18T14:40:14.527Z"
   },
   {
    "duration": 4,
    "start_time": "2023-02-18T14:40:16.583Z"
   },
   {
    "duration": 31,
    "start_time": "2023-02-18T14:40:16.679Z"
   },
   {
    "duration": 6,
    "start_time": "2023-02-18T14:40:36.379Z"
   },
   {
    "duration": 50,
    "start_time": "2023-02-18T14:40:36.660Z"
   },
   {
    "duration": 5,
    "start_time": "2023-02-18T14:40:49.819Z"
   },
   {
    "duration": 54,
    "start_time": "2023-02-18T14:40:50.693Z"
   },
   {
    "duration": 6,
    "start_time": "2023-02-18T14:42:43.343Z"
   },
   {
    "duration": 18,
    "start_time": "2023-02-18T14:42:43.593Z"
   },
   {
    "duration": 8,
    "start_time": "2023-02-18T14:45:00.547Z"
   },
   {
    "duration": 35,
    "start_time": "2023-02-18T14:45:00.774Z"
   },
   {
    "duration": 6,
    "start_time": "2023-02-18T14:45:33.556Z"
   },
   {
    "duration": 22,
    "start_time": "2023-02-18T14:45:33.863Z"
   },
   {
    "duration": 5,
    "start_time": "2023-02-18T14:45:56.137Z"
   },
   {
    "duration": 30,
    "start_time": "2023-02-18T14:45:56.558Z"
   },
   {
    "duration": 8,
    "start_time": "2023-02-18T14:46:23.430Z"
   },
   {
    "duration": 71,
    "start_time": "2023-02-18T14:46:23.662Z"
   },
   {
    "duration": 6,
    "start_time": "2023-02-18T14:47:01.826Z"
   },
   {
    "duration": 50,
    "start_time": "2023-02-18T14:47:02.029Z"
   },
   {
    "duration": 5,
    "start_time": "2023-02-18T14:47:26.087Z"
   },
   {
    "duration": 65,
    "start_time": "2023-02-18T14:47:26.256Z"
   },
   {
    "duration": 6,
    "start_time": "2023-02-18T14:47:35.827Z"
   },
   {
    "duration": 28,
    "start_time": "2023-02-18T14:47:36.134Z"
   },
   {
    "duration": 6,
    "start_time": "2023-02-18T14:47:57.151Z"
   },
   {
    "duration": 27,
    "start_time": "2023-02-18T14:47:57.331Z"
   },
   {
    "duration": 4,
    "start_time": "2023-02-18T14:47:58.737Z"
   },
   {
    "duration": 41,
    "start_time": "2023-02-18T14:47:58.899Z"
   },
   {
    "duration": 1809,
    "start_time": "2023-02-18T14:48:10.576Z"
   },
   {
    "duration": 66,
    "start_time": "2023-02-18T14:48:12.388Z"
   },
   {
    "duration": 148,
    "start_time": "2023-02-18T14:48:12.456Z"
   },
   {
    "duration": 21,
    "start_time": "2023-02-18T14:48:12.607Z"
   },
   {
    "duration": 15,
    "start_time": "2023-02-18T14:48:12.632Z"
   },
   {
    "duration": 20,
    "start_time": "2023-02-18T14:48:12.649Z"
   },
   {
    "duration": 22,
    "start_time": "2023-02-18T14:48:12.672Z"
   },
   {
    "duration": 9,
    "start_time": "2023-02-18T14:48:12.696Z"
   },
   {
    "duration": 58,
    "start_time": "2023-02-18T14:48:12.707Z"
   },
   {
    "duration": 7,
    "start_time": "2023-02-18T14:48:12.768Z"
   },
   {
    "duration": 205,
    "start_time": "2023-02-18T14:48:12.777Z"
   },
   {
    "duration": 0,
    "start_time": "2023-02-18T14:48:12.985Z"
   },
   {
    "duration": 0,
    "start_time": "2023-02-18T14:48:12.986Z"
   },
   {
    "duration": 0,
    "start_time": "2023-02-18T14:48:12.988Z"
   },
   {
    "duration": 11,
    "start_time": "2023-02-18T14:48:44.526Z"
   },
   {
    "duration": 6,
    "start_time": "2023-02-18T14:49:16.943Z"
   },
   {
    "duration": 32,
    "start_time": "2023-02-18T14:49:17.201Z"
   },
   {
    "duration": 3,
    "start_time": "2023-02-18T14:49:18.627Z"
   },
   {
    "duration": 40,
    "start_time": "2023-02-18T14:49:18.886Z"
   },
   {
    "duration": 36,
    "start_time": "2023-02-18T14:49:25.462Z"
   },
   {
    "duration": 1365,
    "start_time": "2023-02-18T14:49:34.538Z"
   },
   {
    "duration": 53,
    "start_time": "2023-02-18T14:49:35.905Z"
   },
   {
    "duration": 9,
    "start_time": "2023-02-18T14:49:35.960Z"
   },
   {
    "duration": 16,
    "start_time": "2023-02-18T14:49:35.973Z"
   },
   {
    "duration": 14,
    "start_time": "2023-02-18T14:49:35.992Z"
   },
   {
    "duration": 12,
    "start_time": "2023-02-18T14:49:36.008Z"
   },
   {
    "duration": 11,
    "start_time": "2023-02-18T14:49:36.049Z"
   },
   {
    "duration": 9,
    "start_time": "2023-02-18T14:49:36.062Z"
   },
   {
    "duration": 35,
    "start_time": "2023-02-18T14:49:36.073Z"
   },
   {
    "duration": 4,
    "start_time": "2023-02-18T14:49:36.111Z"
   },
   {
    "duration": 221,
    "start_time": "2023-02-18T14:49:36.117Z"
   },
   {
    "duration": 0,
    "start_time": "2023-02-18T14:49:36.341Z"
   },
   {
    "duration": 0,
    "start_time": "2023-02-18T14:49:36.351Z"
   },
   {
    "duration": 0,
    "start_time": "2023-02-18T14:49:36.353Z"
   },
   {
    "duration": 1498,
    "start_time": "2023-02-18T14:50:52.429Z"
   },
   {
    "duration": 50,
    "start_time": "2023-02-18T14:50:53.929Z"
   },
   {
    "duration": 5,
    "start_time": "2023-02-18T14:50:53.981Z"
   },
   {
    "duration": 17,
    "start_time": "2023-02-18T14:50:53.988Z"
   },
   {
    "duration": 10,
    "start_time": "2023-02-18T14:50:54.007Z"
   },
   {
    "duration": 10,
    "start_time": "2023-02-18T14:50:54.019Z"
   },
   {
    "duration": 11,
    "start_time": "2023-02-18T14:50:54.048Z"
   },
   {
    "duration": 14,
    "start_time": "2023-02-18T14:50:54.060Z"
   },
   {
    "duration": 33,
    "start_time": "2023-02-18T14:50:54.075Z"
   },
   {
    "duration": 144,
    "start_time": "2023-02-18T14:50:54.109Z"
   },
   {
    "duration": 0,
    "start_time": "2023-02-18T14:50:54.255Z"
   },
   {
    "duration": 0,
    "start_time": "2023-02-18T14:50:54.258Z"
   },
   {
    "duration": 0,
    "start_time": "2023-02-18T14:50:54.259Z"
   },
   {
    "duration": 21,
    "start_time": "2023-02-18T14:53:07.185Z"
   },
   {
    "duration": 4,
    "start_time": "2023-02-18T14:53:34.291Z"
   },
   {
    "duration": 29,
    "start_time": "2023-02-18T14:53:34.523Z"
   },
   {
    "duration": 10,
    "start_time": "2023-02-18T14:53:42.796Z"
   },
   {
    "duration": 6,
    "start_time": "2023-02-18T14:54:42.479Z"
   },
   {
    "duration": 21,
    "start_time": "2023-02-18T14:54:42.634Z"
   },
   {
    "duration": 5,
    "start_time": "2023-02-18T14:54:47.954Z"
   },
   {
    "duration": 27,
    "start_time": "2023-02-18T14:54:48.230Z"
   },
   {
    "duration": 3,
    "start_time": "2023-02-18T14:54:55.632Z"
   },
   {
    "duration": 31,
    "start_time": "2023-02-18T14:54:55.788Z"
   },
   {
    "duration": 9,
    "start_time": "2023-02-18T14:55:13.738Z"
   },
   {
    "duration": 38,
    "start_time": "2023-02-18T14:55:13.997Z"
   },
   {
    "duration": 4,
    "start_time": "2023-02-18T14:55:14.486Z"
   },
   {
    "duration": 14,
    "start_time": "2023-02-18T14:55:14.869Z"
   },
   {
    "duration": 8,
    "start_time": "2023-02-18T14:55:43.887Z"
   },
   {
    "duration": 20,
    "start_time": "2023-02-18T14:55:44.368Z"
   },
   {
    "duration": 4,
    "start_time": "2023-02-18T14:55:44.890Z"
   },
   {
    "duration": 25,
    "start_time": "2023-02-18T14:55:45.396Z"
   },
   {
    "duration": 5,
    "start_time": "2023-02-18T14:59:47.703Z"
   },
   {
    "duration": 30,
    "start_time": "2023-02-18T14:59:48.134Z"
   },
   {
    "duration": 6,
    "start_time": "2023-02-18T15:00:26.570Z"
   },
   {
    "duration": 20,
    "start_time": "2023-02-18T15:00:26.867Z"
   },
   {
    "duration": 8,
    "start_time": "2023-02-18T15:01:19.201Z"
   },
   {
    "duration": 26,
    "start_time": "2023-02-18T15:01:19.451Z"
   },
   {
    "duration": 4,
    "start_time": "2023-02-18T15:01:21.012Z"
   },
   {
    "duration": 26,
    "start_time": "2023-02-18T15:01:21.379Z"
   },
   {
    "duration": 4,
    "start_time": "2023-02-18T15:01:47.698Z"
   },
   {
    "duration": 27,
    "start_time": "2023-02-18T15:01:48.005Z"
   },
   {
    "duration": 3,
    "start_time": "2023-02-18T15:01:52.893Z"
   },
   {
    "duration": 23,
    "start_time": "2023-02-18T15:01:53.083Z"
   },
   {
    "duration": 49,
    "start_time": "2023-02-18T15:02:06.772Z"
   },
   {
    "duration": 4,
    "start_time": "2023-02-18T15:02:12.630Z"
   },
   {
    "duration": 26,
    "start_time": "2023-02-18T15:02:12.994Z"
   },
   {
    "duration": 13,
    "start_time": "2023-02-18T15:02:43.619Z"
   },
   {
    "duration": 11,
    "start_time": "2023-02-18T15:02:53.601Z"
   },
   {
    "duration": 6,
    "start_time": "2023-02-18T15:04:08.812Z"
   },
   {
    "duration": 12,
    "start_time": "2023-02-18T15:04:09.028Z"
   },
   {
    "duration": 5,
    "start_time": "2023-02-18T15:04:19.613Z"
   },
   {
    "duration": 12,
    "start_time": "2023-02-18T15:04:19.801Z"
   },
   {
    "duration": 5,
    "start_time": "2023-02-18T15:05:23.128Z"
   },
   {
    "duration": 14,
    "start_time": "2023-02-18T15:05:23.627Z"
   },
   {
    "duration": 35,
    "start_time": "2023-02-18T15:05:29.480Z"
   },
   {
    "duration": 4,
    "start_time": "2023-02-18T15:05:33.975Z"
   },
   {
    "duration": 32,
    "start_time": "2023-02-18T15:05:34.134Z"
   },
   {
    "duration": 1370,
    "start_time": "2023-02-18T15:05:48.130Z"
   },
   {
    "duration": 50,
    "start_time": "2023-02-18T15:05:49.502Z"
   },
   {
    "duration": 5,
    "start_time": "2023-02-18T15:05:49.554Z"
   },
   {
    "duration": 16,
    "start_time": "2023-02-18T15:05:49.560Z"
   },
   {
    "duration": 9,
    "start_time": "2023-02-18T15:05:49.578Z"
   },
   {
    "duration": 11,
    "start_time": "2023-02-18T15:05:49.588Z"
   },
   {
    "duration": 54,
    "start_time": "2023-02-18T15:05:49.601Z"
   },
   {
    "duration": 8,
    "start_time": "2023-02-18T15:05:49.657Z"
   },
   {
    "duration": 17,
    "start_time": "2023-02-18T15:05:49.667Z"
   },
   {
    "duration": 46,
    "start_time": "2023-02-18T15:05:49.686Z"
   },
   {
    "duration": 467,
    "start_time": "2023-02-18T15:05:49.734Z"
   },
   {
    "duration": 739,
    "start_time": "2023-02-18T15:05:50.203Z"
   },
   {
    "duration": 219,
    "start_time": "2023-02-18T15:05:50.948Z"
   },
   {
    "duration": 1369,
    "start_time": "2023-02-18T15:06:57.582Z"
   },
   {
    "duration": 50,
    "start_time": "2023-02-18T15:06:58.953Z"
   },
   {
    "duration": 7,
    "start_time": "2023-02-18T15:06:59.004Z"
   },
   {
    "duration": 14,
    "start_time": "2023-02-18T15:06:59.013Z"
   },
   {
    "duration": 10,
    "start_time": "2023-02-18T15:06:59.029Z"
   },
   {
    "duration": 11,
    "start_time": "2023-02-18T15:06:59.041Z"
   },
   {
    "duration": 15,
    "start_time": "2023-02-18T15:06:59.053Z"
   },
   {
    "duration": 10,
    "start_time": "2023-02-18T15:06:59.070Z"
   },
   {
    "duration": 30,
    "start_time": "2023-02-18T15:06:59.082Z"
   },
   {
    "duration": 133,
    "start_time": "2023-02-18T15:06:59.115Z"
   },
   {
    "duration": 0,
    "start_time": "2023-02-18T15:06:59.250Z"
   },
   {
    "duration": 0,
    "start_time": "2023-02-18T15:06:59.251Z"
   },
   {
    "duration": 0,
    "start_time": "2023-02-18T15:06:59.253Z"
   },
   {
    "duration": 7,
    "start_time": "2023-02-18T15:07:34.740Z"
   },
   {
    "duration": 7,
    "start_time": "2023-02-18T15:07:35.069Z"
   },
   {
    "duration": 32,
    "start_time": "2023-02-18T15:07:35.452Z"
   },
   {
    "duration": 1509,
    "start_time": "2023-02-18T15:08:04.685Z"
   },
   {
    "duration": 49,
    "start_time": "2023-02-18T15:08:06.195Z"
   },
   {
    "duration": 20,
    "start_time": "2023-02-18T15:08:06.246Z"
   },
   {
    "duration": 14,
    "start_time": "2023-02-18T15:08:06.268Z"
   },
   {
    "duration": 11,
    "start_time": "2023-02-18T15:08:06.284Z"
   },
   {
    "duration": 18,
    "start_time": "2023-02-18T15:08:06.297Z"
   },
   {
    "duration": 6,
    "start_time": "2023-02-18T15:08:06.317Z"
   },
   {
    "duration": 14,
    "start_time": "2023-02-18T15:08:06.325Z"
   },
   {
    "duration": 40,
    "start_time": "2023-02-18T15:08:06.341Z"
   },
   {
    "duration": 517,
    "start_time": "2023-02-18T15:08:06.384Z"
   },
   {
    "duration": 764,
    "start_time": "2023-02-18T15:08:06.902Z"
   },
   {
    "duration": 241,
    "start_time": "2023-02-18T15:08:07.668Z"
   },
   {
    "duration": 1508,
    "start_time": "2023-02-18T15:08:28.344Z"
   },
   {
    "duration": 54,
    "start_time": "2023-02-18T15:08:29.862Z"
   },
   {
    "duration": 7,
    "start_time": "2023-02-18T15:08:29.918Z"
   },
   {
    "duration": 13,
    "start_time": "2023-02-18T15:08:29.928Z"
   },
   {
    "duration": 18,
    "start_time": "2023-02-18T15:08:29.942Z"
   },
   {
    "duration": 22,
    "start_time": "2023-02-18T15:08:29.962Z"
   },
   {
    "duration": 8,
    "start_time": "2023-02-18T15:08:29.985Z"
   },
   {
    "duration": 8,
    "start_time": "2023-02-18T15:08:29.996Z"
   },
   {
    "duration": 31,
    "start_time": "2023-02-18T15:08:30.005Z"
   },
   {
    "duration": 503,
    "start_time": "2023-02-18T15:08:30.038Z"
   },
   {
    "duration": 755,
    "start_time": "2023-02-18T15:08:30.542Z"
   },
   {
    "duration": 262,
    "start_time": "2023-02-18T15:08:31.299Z"
   },
   {
    "duration": 18,
    "start_time": "2023-02-18T15:08:33.329Z"
   },
   {
    "duration": 25,
    "start_time": "2023-02-18T15:08:35.057Z"
   },
   {
    "duration": 5,
    "start_time": "2023-02-18T15:08:42.893Z"
   },
   {
    "duration": 3,
    "start_time": "2023-02-18T15:08:43.243Z"
   },
   {
    "duration": 155,
    "start_time": "2023-02-18T15:08:43.629Z"
   },
   {
    "duration": 6,
    "start_time": "2023-02-18T15:08:52.902Z"
   },
   {
    "duration": 9,
    "start_time": "2023-02-18T15:08:53.403Z"
   },
   {
    "duration": 38,
    "start_time": "2023-02-18T15:08:53.731Z"
   },
   {
    "duration": 1470,
    "start_time": "2023-02-18T15:09:01.543Z"
   },
   {
    "duration": 54,
    "start_time": "2023-02-18T15:09:03.014Z"
   },
   {
    "duration": 5,
    "start_time": "2023-02-18T15:09:03.070Z"
   },
   {
    "duration": 19,
    "start_time": "2023-02-18T15:09:03.077Z"
   },
   {
    "duration": 10,
    "start_time": "2023-02-18T15:09:03.098Z"
   },
   {
    "duration": 11,
    "start_time": "2023-02-18T15:09:03.110Z"
   },
   {
    "duration": 40,
    "start_time": "2023-02-18T15:09:03.123Z"
   },
   {
    "duration": 6,
    "start_time": "2023-02-18T15:09:03.165Z"
   },
   {
    "duration": 42,
    "start_time": "2023-02-18T15:09:03.173Z"
   },
   {
    "duration": 516,
    "start_time": "2023-02-18T15:09:03.217Z"
   },
   {
    "duration": 724,
    "start_time": "2023-02-18T15:09:03.735Z"
   },
   {
    "duration": 240,
    "start_time": "2023-02-18T15:09:04.461Z"
   },
   {
    "duration": 9,
    "start_time": "2023-02-18T15:09:50.570Z"
   },
   {
    "duration": 4,
    "start_time": "2023-02-18T15:09:50.793Z"
   },
   {
    "duration": 180,
    "start_time": "2023-02-18T15:10:27.028Z"
   },
   {
    "duration": 69,
    "start_time": "2023-02-18T15:10:32.024Z"
   },
   {
    "duration": 107,
    "start_time": "2023-02-18T15:10:43.856Z"
   },
   {
    "duration": 1371,
    "start_time": "2023-02-18T15:12:24.287Z"
   },
   {
    "duration": 54,
    "start_time": "2023-02-18T15:12:25.660Z"
   },
   {
    "duration": 7,
    "start_time": "2023-02-18T15:12:25.716Z"
   },
   {
    "duration": 13,
    "start_time": "2023-02-18T15:12:25.726Z"
   },
   {
    "duration": 14,
    "start_time": "2023-02-18T15:12:25.741Z"
   },
   {
    "duration": 29,
    "start_time": "2023-02-18T15:12:25.757Z"
   },
   {
    "duration": 5,
    "start_time": "2023-02-18T15:12:25.788Z"
   },
   {
    "duration": 7,
    "start_time": "2023-02-18T15:12:25.795Z"
   },
   {
    "duration": 71,
    "start_time": "2023-02-18T15:12:25.804Z"
   },
   {
    "duration": 463,
    "start_time": "2023-02-18T15:12:25.878Z"
   },
   {
    "duration": 755,
    "start_time": "2023-02-18T15:12:26.342Z"
   },
   {
    "duration": 211,
    "start_time": "2023-02-18T15:12:27.099Z"
   },
   {
    "duration": 168,
    "start_time": "2023-02-18T15:14:15.288Z"
   },
   {
    "duration": 69,
    "start_time": "2023-02-18T15:15:58.599Z"
   },
   {
    "duration": 1375,
    "start_time": "2023-02-18T15:17:05.488Z"
   },
   {
    "duration": 50,
    "start_time": "2023-02-18T15:17:06.864Z"
   },
   {
    "duration": 5,
    "start_time": "2023-02-18T15:17:06.915Z"
   },
   {
    "duration": 30,
    "start_time": "2023-02-18T15:17:06.922Z"
   },
   {
    "duration": 26,
    "start_time": "2023-02-18T15:17:06.957Z"
   },
   {
    "duration": 19,
    "start_time": "2023-02-18T15:17:06.985Z"
   },
   {
    "duration": 17,
    "start_time": "2023-02-18T15:17:07.005Z"
   },
   {
    "duration": 23,
    "start_time": "2023-02-18T15:17:07.024Z"
   },
   {
    "duration": 74,
    "start_time": "2023-02-18T15:17:07.048Z"
   },
   {
    "duration": 461,
    "start_time": "2023-02-18T15:17:07.124Z"
   },
   {
    "duration": 689,
    "start_time": "2023-02-18T15:17:07.587Z"
   },
   {
    "duration": 219,
    "start_time": "2023-02-18T15:17:08.278Z"
   },
   {
    "duration": 3,
    "start_time": "2023-02-18T15:19:36.177Z"
   },
   {
    "duration": 3,
    "start_time": "2023-02-18T15:20:12.994Z"
   },
   {
    "duration": 57,
    "start_time": "2023-02-18T15:20:13.489Z"
   },
   {
    "duration": 22,
    "start_time": "2023-02-18T15:22:44.074Z"
   },
   {
    "duration": 25,
    "start_time": "2023-02-18T15:23:12.028Z"
   },
   {
    "duration": 58,
    "start_time": "2023-02-18T15:24:40.325Z"
   },
   {
    "duration": 64,
    "start_time": "2023-02-18T15:26:33.746Z"
   },
   {
    "duration": 4,
    "start_time": "2023-02-18T15:26:37.145Z"
   },
   {
    "duration": 18,
    "start_time": "2023-02-18T15:26:45.682Z"
   },
   {
    "duration": 1498,
    "start_time": "2023-02-18T15:27:14.247Z"
   },
   {
    "duration": 51,
    "start_time": "2023-02-18T15:27:15.747Z"
   },
   {
    "duration": 7,
    "start_time": "2023-02-18T15:27:15.799Z"
   },
   {
    "duration": 13,
    "start_time": "2023-02-18T15:27:15.808Z"
   },
   {
    "duration": 11,
    "start_time": "2023-02-18T15:27:15.823Z"
   },
   {
    "duration": 17,
    "start_time": "2023-02-18T15:27:15.836Z"
   },
   {
    "duration": 6,
    "start_time": "2023-02-18T15:27:15.855Z"
   },
   {
    "duration": 6,
    "start_time": "2023-02-18T15:27:15.863Z"
   },
   {
    "duration": 79,
    "start_time": "2023-02-18T15:27:15.871Z"
   },
   {
    "duration": 527,
    "start_time": "2023-02-18T15:27:15.954Z"
   },
   {
    "duration": 680,
    "start_time": "2023-02-18T15:27:16.483Z"
   },
   {
    "duration": 311,
    "start_time": "2023-02-18T15:27:17.165Z"
   },
   {
    "duration": 54,
    "start_time": "2023-02-18T15:27:47.731Z"
   },
   {
    "duration": 5,
    "start_time": "2023-02-18T15:30:10.487Z"
   },
   {
    "duration": 55,
    "start_time": "2023-02-18T15:32:39.947Z"
   },
   {
    "duration": 6,
    "start_time": "2023-02-18T15:33:29.824Z"
   },
   {
    "duration": 3,
    "start_time": "2023-02-18T15:33:30.125Z"
   },
   {
    "duration": 58,
    "start_time": "2023-02-18T15:33:30.940Z"
   },
   {
    "duration": 7,
    "start_time": "2023-02-18T15:33:39.129Z"
   },
   {
    "duration": 4,
    "start_time": "2023-02-18T15:33:39.269Z"
   },
   {
    "duration": 56,
    "start_time": "2023-02-18T15:33:39.952Z"
   },
   {
    "duration": 55,
    "start_time": "2023-02-18T15:33:44.036Z"
   },
   {
    "duration": 5,
    "start_time": "2023-02-18T15:33:54.632Z"
   },
   {
    "duration": 4,
    "start_time": "2023-02-18T15:33:54.783Z"
   },
   {
    "duration": 55,
    "start_time": "2023-02-18T15:33:55.684Z"
   },
   {
    "duration": 1677,
    "start_time": "2023-02-20T16:40:47.997Z"
   },
   {
    "duration": 154,
    "start_time": "2023-02-20T16:40:49.675Z"
   },
   {
    "duration": 11,
    "start_time": "2023-02-20T16:40:49.831Z"
   },
   {
    "duration": 12,
    "start_time": "2023-02-20T16:40:49.845Z"
   },
   {
    "duration": 10,
    "start_time": "2023-02-20T16:40:49.858Z"
   },
   {
    "duration": 19,
    "start_time": "2023-02-20T16:40:49.869Z"
   },
   {
    "duration": 491,
    "start_time": "2023-02-20T16:40:49.889Z"
   },
   {
    "duration": 691,
    "start_time": "2023-02-20T16:40:50.381Z"
   },
   {
    "duration": 243,
    "start_time": "2023-02-20T16:40:51.074Z"
   },
   {
    "duration": 5,
    "start_time": "2023-02-20T16:40:51.321Z"
   },
   {
    "duration": 7,
    "start_time": "2023-02-20T16:40:51.327Z"
   },
   {
    "duration": 7,
    "start_time": "2023-02-20T16:40:51.335Z"
   },
   {
    "duration": 3,
    "start_time": "2023-02-20T16:41:33.187Z"
   },
   {
    "duration": 147,
    "start_time": "2023-02-20T16:44:05.376Z"
   },
   {
    "duration": 4,
    "start_time": "2023-02-20T16:44:11.350Z"
   },
   {
    "duration": 60,
    "start_time": "2023-02-20T16:45:06.529Z"
   },
   {
    "duration": 59,
    "start_time": "2023-02-20T16:45:12.647Z"
   },
   {
    "duration": 23,
    "start_time": "2023-02-20T16:48:19.617Z"
   },
   {
    "duration": 55,
    "start_time": "2023-02-20T16:48:29.880Z"
   },
   {
    "duration": 23,
    "start_time": "2023-02-20T16:48:31.348Z"
   },
   {
    "duration": 51,
    "start_time": "2023-02-20T16:50:01.152Z"
   },
   {
    "duration": 22,
    "start_time": "2023-02-20T16:50:50.013Z"
   },
   {
    "duration": 15,
    "start_time": "2023-02-20T16:51:05.375Z"
   },
   {
    "duration": 12,
    "start_time": "2023-02-20T16:52:41.756Z"
   },
   {
    "duration": 43,
    "start_time": "2023-02-20T16:52:53.614Z"
   },
   {
    "duration": 45,
    "start_time": "2023-02-20T16:53:14.899Z"
   },
   {
    "duration": 45,
    "start_time": "2023-02-20T16:53:26.641Z"
   },
   {
    "duration": 1403,
    "start_time": "2023-02-20T16:53:33.073Z"
   },
   {
    "duration": 58,
    "start_time": "2023-02-20T16:53:34.478Z"
   },
   {
    "duration": 5,
    "start_time": "2023-02-20T16:53:34.537Z"
   },
   {
    "duration": 21,
    "start_time": "2023-02-20T16:53:34.543Z"
   },
   {
    "duration": 12,
    "start_time": "2023-02-20T16:53:34.566Z"
   },
   {
    "duration": 37,
    "start_time": "2023-02-20T16:53:34.579Z"
   },
   {
    "duration": 494,
    "start_time": "2023-02-20T16:53:34.618Z"
   },
   {
    "duration": 664,
    "start_time": "2023-02-20T16:53:35.116Z"
   },
   {
    "duration": 234,
    "start_time": "2023-02-20T16:53:35.782Z"
   },
   {
    "duration": 5,
    "start_time": "2023-02-20T16:53:36.024Z"
   },
   {
    "duration": 9,
    "start_time": "2023-02-20T16:53:36.030Z"
   },
   {
    "duration": 9,
    "start_time": "2023-02-20T16:53:36.040Z"
   },
   {
    "duration": 68,
    "start_time": "2023-02-20T16:53:36.050Z"
   },
   {
    "duration": 39,
    "start_time": "2023-02-20T16:53:36.120Z"
   },
   {
    "duration": 3,
    "start_time": "2023-02-20T16:54:50.028Z"
   },
   {
    "duration": 44,
    "start_time": "2023-02-20T16:54:50.248Z"
   },
   {
    "duration": 42,
    "start_time": "2023-02-20T16:55:28.055Z"
   },
   {
    "duration": 1416,
    "start_time": "2023-02-20T16:55:35.799Z"
   },
   {
    "duration": 46,
    "start_time": "2023-02-20T16:55:37.217Z"
   },
   {
    "duration": 5,
    "start_time": "2023-02-20T16:55:37.265Z"
   },
   {
    "duration": 10,
    "start_time": "2023-02-20T16:55:37.272Z"
   },
   {
    "duration": 9,
    "start_time": "2023-02-20T16:55:37.284Z"
   },
   {
    "duration": 17,
    "start_time": "2023-02-20T16:55:37.296Z"
   },
   {
    "duration": 413,
    "start_time": "2023-02-20T16:55:37.315Z"
   },
   {
    "duration": 631,
    "start_time": "2023-02-20T16:55:37.730Z"
   },
   {
    "duration": 217,
    "start_time": "2023-02-20T16:55:38.363Z"
   },
   {
    "duration": 12,
    "start_time": "2023-02-20T16:55:38.582Z"
   },
   {
    "duration": 6,
    "start_time": "2023-02-20T16:55:38.596Z"
   },
   {
    "duration": 5,
    "start_time": "2023-02-20T16:55:38.604Z"
   },
   {
    "duration": 54,
    "start_time": "2023-02-20T16:55:38.610Z"
   },
   {
    "duration": 59,
    "start_time": "2023-02-20T16:55:38.665Z"
   },
   {
    "duration": 3,
    "start_time": "2023-02-20T17:18:21.711Z"
   },
   {
    "duration": 44,
    "start_time": "2023-02-20T17:18:21.915Z"
   },
   {
    "duration": 39,
    "start_time": "2023-02-20T17:18:22.436Z"
   },
   {
    "duration": 43,
    "start_time": "2023-02-20T17:22:09.287Z"
   },
   {
    "duration": 1028,
    "start_time": "2023-02-20T17:22:34.947Z"
   },
   {
    "duration": 49,
    "start_time": "2023-02-20T17:22:46.753Z"
   },
   {
    "duration": 4,
    "start_time": "2023-02-20T17:24:30.878Z"
   },
   {
    "duration": 43,
    "start_time": "2023-02-20T17:25:13.531Z"
   },
   {
    "duration": 50,
    "start_time": "2023-02-20T17:25:18.727Z"
   },
   {
    "duration": 3,
    "start_time": "2023-02-20T17:25:40.187Z"
   },
   {
    "duration": 61,
    "start_time": "2023-02-20T17:25:40.480Z"
   },
   {
    "duration": 3,
    "start_time": "2023-02-20T17:25:46.148Z"
   },
   {
    "duration": 52,
    "start_time": "2023-02-20T17:25:46.459Z"
   },
   {
    "duration": 46,
    "start_time": "2023-02-20T17:26:09.232Z"
   },
   {
    "duration": 10,
    "start_time": "2023-02-20T17:26:14.346Z"
   },
   {
    "duration": 3,
    "start_time": "2023-02-20T17:26:17.249Z"
   },
   {
    "duration": 60,
    "start_time": "2023-02-20T17:26:17.801Z"
   },
   {
    "duration": 1494,
    "start_time": "2023-02-20T17:26:45.386Z"
   },
   {
    "duration": 65,
    "start_time": "2023-02-20T17:26:46.883Z"
   },
   {
    "duration": 6,
    "start_time": "2023-02-20T17:26:46.950Z"
   },
   {
    "duration": 12,
    "start_time": "2023-02-20T17:26:46.958Z"
   },
   {
    "duration": 9,
    "start_time": "2023-02-20T17:26:46.972Z"
   },
   {
    "duration": 11,
    "start_time": "2023-02-20T17:26:46.983Z"
   },
   {
    "duration": 20,
    "start_time": "2023-02-20T17:26:46.996Z"
   },
   {
    "duration": 488,
    "start_time": "2023-02-20T17:26:47.018Z"
   },
   {
    "duration": 677,
    "start_time": "2023-02-20T17:26:47.508Z"
   },
   {
    "duration": 222,
    "start_time": "2023-02-20T17:26:48.191Z"
   },
   {
    "duration": 5,
    "start_time": "2023-02-20T17:26:48.415Z"
   },
   {
    "duration": 9,
    "start_time": "2023-02-20T17:26:48.421Z"
   },
   {
    "duration": 6,
    "start_time": "2023-02-20T17:37:27.003Z"
   },
   {
    "duration": 3,
    "start_time": "2023-02-20T17:37:27.832Z"
   },
   {
    "duration": 47,
    "start_time": "2023-02-20T17:37:32.254Z"
   },
   {
    "duration": 41,
    "start_time": "2023-02-20T17:37:32.759Z"
   },
   {
    "duration": 3,
    "start_time": "2023-02-20T17:37:42.398Z"
   },
   {
    "duration": 53,
    "start_time": "2023-02-20T17:37:42.888Z"
   },
   {
    "duration": 3,
    "start_time": "2023-02-20T17:37:45.768Z"
   },
   {
    "duration": 62,
    "start_time": "2023-02-20T17:37:46.202Z"
   },
   {
    "duration": 3,
    "start_time": "2023-02-20T17:37:53.052Z"
   },
   {
    "duration": 46,
    "start_time": "2023-02-20T17:37:53.720Z"
   },
   {
    "duration": 5,
    "start_time": "2023-02-20T17:37:57.414Z"
   },
   {
    "duration": 7,
    "start_time": "2023-02-20T17:40:46.335Z"
   },
   {
    "duration": 4,
    "start_time": "2023-02-20T17:42:09.037Z"
   },
   {
    "duration": 3,
    "start_time": "2023-02-20T17:47:15.479Z"
   },
   {
    "duration": 16,
    "start_time": "2023-02-20T17:47:24.791Z"
   },
   {
    "duration": 3,
    "start_time": "2023-02-20T17:49:27.064Z"
   },
   {
    "duration": 146,
    "start_time": "2023-02-20T17:53:23.816Z"
   },
   {
    "duration": 14,
    "start_time": "2023-02-20T17:53:43.170Z"
   },
   {
    "duration": 43,
    "start_time": "2023-02-20T17:53:56.386Z"
   },
   {
    "duration": 3,
    "start_time": "2023-02-20T17:54:03.873Z"
   },
   {
    "duration": 46,
    "start_time": "2023-02-20T17:54:04.129Z"
   },
   {
    "duration": 2,
    "start_time": "2023-02-20T17:55:25.962Z"
   },
   {
    "duration": 869,
    "start_time": "2023-02-20T17:55:26.485Z"
   },
   {
    "duration": 5,
    "start_time": "2023-02-20T17:56:40.391Z"
   },
   {
    "duration": 17,
    "start_time": "2023-02-20T17:56:44.716Z"
   },
   {
    "duration": 26,
    "start_time": "2023-02-20T17:56:44.964Z"
   },
   {
    "duration": 4,
    "start_time": "2023-02-20T17:57:35.580Z"
   },
   {
    "duration": 4,
    "start_time": "2023-02-20T17:57:41.279Z"
   },
   {
    "duration": 3,
    "start_time": "2023-02-20T18:00:00.165Z"
   },
   {
    "duration": 2927,
    "start_time": "2023-02-20T18:00:00.416Z"
   },
   {
    "duration": 5,
    "start_time": "2023-02-20T18:01:09.020Z"
   },
   {
    "duration": 4,
    "start_time": "2023-02-20T18:01:20.681Z"
   },
   {
    "duration": 2475,
    "start_time": "2023-02-20T18:14:57.888Z"
   },
   {
    "duration": 50,
    "start_time": "2023-02-20T18:15:06.883Z"
   },
   {
    "duration": 2426,
    "start_time": "2023-02-20T18:15:07.117Z"
   },
   {
    "duration": 47,
    "start_time": "2023-02-20T18:15:15.533Z"
   },
   {
    "duration": 2586,
    "start_time": "2023-02-20T18:15:15.927Z"
   },
   {
    "duration": 3,
    "start_time": "2023-02-20T18:15:20.585Z"
   },
   {
    "duration": 21697,
    "start_time": "2023-02-20T18:15:21.236Z"
   },
   {
    "duration": 57,
    "start_time": "2023-02-20T18:32:13.316Z"
   },
   {
    "duration": 4,
    "start_time": "2023-02-20T18:36:29.347Z"
   },
   {
    "duration": 1327,
    "start_time": "2023-02-20T18:37:37.976Z"
   },
   {
    "duration": 44,
    "start_time": "2023-02-20T18:37:39.305Z"
   },
   {
    "duration": 6,
    "start_time": "2023-02-20T18:37:39.351Z"
   },
   {
    "duration": 13,
    "start_time": "2023-02-20T18:37:39.360Z"
   },
   {
    "duration": 8,
    "start_time": "2023-02-20T18:37:39.375Z"
   },
   {
    "duration": 10,
    "start_time": "2023-02-20T18:37:39.384Z"
   },
   {
    "duration": 13,
    "start_time": "2023-02-20T18:37:39.395Z"
   },
   {
    "duration": 439,
    "start_time": "2023-02-20T18:37:39.409Z"
   },
   {
    "duration": 666,
    "start_time": "2023-02-20T18:37:39.850Z"
   },
   {
    "duration": 218,
    "start_time": "2023-02-20T18:37:40.518Z"
   },
   {
    "duration": 6,
    "start_time": "2023-02-20T18:37:40.737Z"
   },
   {
    "duration": 10,
    "start_time": "2023-02-20T18:37:40.744Z"
   },
   {
    "duration": 8,
    "start_time": "2023-02-20T18:37:40.756Z"
   },
   {
    "duration": 141990,
    "start_time": "2023-02-20T18:37:40.766Z"
   },
   {
    "duration": 1541,
    "start_time": "2023-02-21T09:15:57.457Z"
   },
   {
    "duration": 141,
    "start_time": "2023-02-21T09:15:59.000Z"
   },
   {
    "duration": 6,
    "start_time": "2023-02-21T09:15:59.142Z"
   },
   {
    "duration": 19,
    "start_time": "2023-02-21T09:15:59.150Z"
   },
   {
    "duration": 10,
    "start_time": "2023-02-21T09:15:59.171Z"
   },
   {
    "duration": 14,
    "start_time": "2023-02-21T09:15:59.183Z"
   },
   {
    "duration": 9,
    "start_time": "2023-02-21T09:15:59.199Z"
   },
   {
    "duration": 459,
    "start_time": "2023-02-21T09:15:59.210Z"
   },
   {
    "duration": 651,
    "start_time": "2023-02-21T09:15:59.671Z"
   },
   {
    "duration": 230,
    "start_time": "2023-02-21T09:16:00.325Z"
   },
   {
    "duration": 6,
    "start_time": "2023-02-21T09:16:00.557Z"
   },
   {
    "duration": 61,
    "start_time": "2023-02-21T09:16:00.564Z"
   },
   {
    "duration": 27,
    "start_time": "2023-02-21T09:16:00.627Z"
   },
   {
    "duration": 151005,
    "start_time": "2023-02-21T09:16:00.656Z"
   },
   {
    "duration": 120,
    "start_time": "2023-02-21T09:22:38.559Z"
   },
   {
    "duration": 4,
    "start_time": "2023-02-21T09:22:46.268Z"
   },
   {
    "duration": 3,
    "start_time": "2023-02-21T09:23:22.504Z"
   },
   {
    "duration": 5,
    "start_time": "2023-02-21T09:24:46.124Z"
   },
   {
    "duration": 14,
    "start_time": "2023-02-21T09:31:52.004Z"
   },
   {
    "duration": 360,
    "start_time": "2023-02-21T09:35:00.824Z"
   },
   {
    "duration": 263,
    "start_time": "2023-02-21T09:35:20.349Z"
   },
   {
    "duration": 4,
    "start_time": "2023-02-21T09:38:50.491Z"
   },
   {
    "duration": 44135,
    "start_time": "2023-02-21T09:39:23.973Z"
   },
   {
    "duration": 14,
    "start_time": "2023-02-21T09:42:24.005Z"
   },
   {
    "duration": 11,
    "start_time": "2023-02-21T09:43:17.088Z"
   },
   {
    "duration": 21,
    "start_time": "2023-02-21T09:43:32.969Z"
   },
   {
    "duration": 13,
    "start_time": "2023-02-21T09:43:44.186Z"
   },
   {
    "duration": 12,
    "start_time": "2023-02-21T09:46:01.176Z"
   },
   {
    "duration": 1346,
    "start_time": "2023-02-21T09:46:32.463Z"
   },
   {
    "duration": 43,
    "start_time": "2023-02-21T09:46:33.811Z"
   },
   {
    "duration": 5,
    "start_time": "2023-02-21T09:46:33.856Z"
   },
   {
    "duration": 16,
    "start_time": "2023-02-21T09:46:33.863Z"
   },
   {
    "duration": 13,
    "start_time": "2023-02-21T09:46:33.880Z"
   },
   {
    "duration": 28,
    "start_time": "2023-02-21T09:46:33.895Z"
   },
   {
    "duration": 15,
    "start_time": "2023-02-21T09:46:33.925Z"
   },
   {
    "duration": 14,
    "start_time": "2023-02-21T09:46:33.942Z"
   },
   {
    "duration": 471,
    "start_time": "2023-02-21T09:46:33.958Z"
   },
   {
    "duration": 628,
    "start_time": "2023-02-21T09:46:34.431Z"
   },
   {
    "duration": 193,
    "start_time": "2023-02-21T09:46:35.061Z"
   },
   {
    "duration": 6,
    "start_time": "2023-02-21T09:46:35.256Z"
   },
   {
    "duration": 8,
    "start_time": "2023-02-21T09:46:35.264Z"
   },
   {
    "duration": 44335,
    "start_time": "2023-02-21T09:46:35.273Z"
   },
   {
    "duration": 13,
    "start_time": "2023-02-21T09:47:19.611Z"
   },
   {
    "duration": 7,
    "start_time": "2023-02-21T09:47:19.700Z"
   },
   {
    "duration": 149666,
    "start_time": "2023-02-21T09:47:19.709Z"
   },
   {
    "duration": 25,
    "start_time": "2023-02-21T09:49:49.378Z"
   },
   {
    "duration": 506,
    "start_time": "2023-02-21T09:49:49.406Z"
   },
   {
    "duration": 130,
    "start_time": "2023-02-21T10:06:44.851Z"
   },
   {
    "duration": 13,
    "start_time": "2023-02-21T10:07:15.708Z"
   },
   {
    "duration": 20,
    "start_time": "2023-02-21T10:08:06.667Z"
   },
   {
    "duration": 79,
    "start_time": "2023-02-21T10:08:35.654Z"
   },
   {
    "duration": 19,
    "start_time": "2023-02-21T10:08:38.659Z"
   },
   {
    "duration": 10,
    "start_time": "2023-02-21T10:09:21.646Z"
   },
   {
    "duration": 12,
    "start_time": "2023-02-21T10:09:35.157Z"
   },
   {
    "duration": 19,
    "start_time": "2023-02-21T10:10:58.813Z"
   },
   {
    "duration": 18,
    "start_time": "2023-02-21T10:11:21.881Z"
   },
   {
    "duration": 19,
    "start_time": "2023-02-21T10:11:30.615Z"
   },
   {
    "duration": 19,
    "start_time": "2023-02-21T10:11:43.698Z"
   },
   {
    "duration": 10,
    "start_time": "2023-02-21T10:12:10.226Z"
   },
   {
    "duration": 4,
    "start_time": "2023-02-21T10:12:19.444Z"
   },
   {
    "duration": 14,
    "start_time": "2023-02-21T10:12:46.640Z"
   },
   {
    "duration": 12,
    "start_time": "2023-02-21T10:16:50.783Z"
   },
   {
    "duration": 105,
    "start_time": "2023-02-21T10:39:21.705Z"
   },
   {
    "duration": 30,
    "start_time": "2023-02-21T10:40:37.647Z"
   },
   {
    "duration": 18,
    "start_time": "2023-02-21T10:46:14.026Z"
   },
   {
    "duration": 1429,
    "start_time": "2023-02-21T10:46:22.324Z"
   },
   {
    "duration": 43,
    "start_time": "2023-02-21T10:46:23.755Z"
   },
   {
    "duration": 6,
    "start_time": "2023-02-21T10:46:23.802Z"
   },
   {
    "duration": 22,
    "start_time": "2023-02-21T10:46:23.814Z"
   },
   {
    "duration": 26,
    "start_time": "2023-02-21T10:46:23.838Z"
   },
   {
    "duration": 21,
    "start_time": "2023-02-21T10:46:23.866Z"
   },
   {
    "duration": 29,
    "start_time": "2023-02-21T10:46:23.889Z"
   },
   {
    "duration": 17,
    "start_time": "2023-02-21T10:46:23.923Z"
   },
   {
    "duration": 629,
    "start_time": "2023-02-21T10:46:23.942Z"
   },
   {
    "duration": 542,
    "start_time": "2023-02-21T10:46:24.573Z"
   },
   {
    "duration": 600,
    "start_time": "2023-02-21T10:46:25.117Z"
   },
   {
    "duration": 198,
    "start_time": "2023-02-21T10:46:25.719Z"
   },
   {
    "duration": 6,
    "start_time": "2023-02-21T10:46:25.920Z"
   },
   {
    "duration": 12,
    "start_time": "2023-02-21T10:46:25.929Z"
   },
   {
    "duration": 1685,
    "start_time": "2023-02-21T12:38:19.320Z"
   },
   {
    "duration": 139,
    "start_time": "2023-02-21T12:38:21.007Z"
   },
   {
    "duration": 5,
    "start_time": "2023-02-21T12:38:21.148Z"
   },
   {
    "duration": 15,
    "start_time": "2023-02-21T12:38:21.155Z"
   },
   {
    "duration": 9,
    "start_time": "2023-02-21T12:38:21.171Z"
   },
   {
    "duration": 11,
    "start_time": "2023-02-21T12:38:21.182Z"
   },
   {
    "duration": 9,
    "start_time": "2023-02-21T12:38:21.194Z"
   },
   {
    "duration": 14,
    "start_time": "2023-02-21T12:38:21.204Z"
   },
   {
    "duration": 356,
    "start_time": "2023-02-21T12:38:21.220Z"
   },
   {
    "duration": 669,
    "start_time": "2023-02-21T12:38:21.579Z"
   },
   {
    "duration": 187,
    "start_time": "2023-02-21T12:38:22.250Z"
   },
   {
    "duration": 7,
    "start_time": "2023-02-21T12:38:22.440Z"
   },
   {
    "duration": 16,
    "start_time": "2023-02-21T12:38:22.450Z"
   },
   {
    "duration": 39889,
    "start_time": "2023-02-21T12:38:22.468Z"
   },
   {
    "duration": 10,
    "start_time": "2023-02-21T12:39:02.358Z"
   },
   {
    "duration": 6,
    "start_time": "2023-02-21T12:39:02.439Z"
   },
   {
    "duration": 136858,
    "start_time": "2023-02-21T12:39:02.447Z"
   },
   {
    "duration": 11,
    "start_time": "2023-02-21T12:41:19.307Z"
   },
   {
    "duration": 18,
    "start_time": "2023-02-21T12:41:19.319Z"
   },
   {
    "duration": 172,
    "start_time": "2023-02-21T12:42:41.285Z"
   },
   {
    "duration": 4,
    "start_time": "2023-02-21T12:42:48.492Z"
   },
   {
    "duration": 46693,
    "start_time": "2023-02-21T12:42:49.185Z"
   },
   {
    "duration": 5,
    "start_time": "2023-02-21T12:43:46.649Z"
   },
   {
    "duration": 38551,
    "start_time": "2023-02-21T12:43:48.052Z"
   },
   {
    "duration": 12,
    "start_time": "2023-02-21T12:46:52.209Z"
   },
   {
    "duration": 85,
    "start_time": "2023-02-21T12:49:01.237Z"
   },
   {
    "duration": 35362,
    "start_time": "2023-02-21T12:49:52.061Z"
   },
   {
    "duration": 10,
    "start_time": "2023-02-21T12:50:59.515Z"
   },
   {
    "duration": 4,
    "start_time": "2023-02-21T12:51:34.700Z"
   },
   {
    "duration": 51901,
    "start_time": "2023-02-21T12:51:35.059Z"
   },
   {
    "duration": 4,
    "start_time": "2023-02-21T13:01:47.500Z"
   },
   {
    "duration": 5,
    "start_time": "2023-02-21T13:01:54.899Z"
   },
   {
    "duration": 104,
    "start_time": "2023-02-21T13:02:21.677Z"
   },
   {
    "duration": 5,
    "start_time": "2023-02-21T13:02:43.850Z"
   },
   {
    "duration": 1427,
    "start_time": "2023-02-21T13:03:13.403Z"
   },
   {
    "duration": 45,
    "start_time": "2023-02-21T13:03:14.832Z"
   },
   {
    "duration": 6,
    "start_time": "2023-02-21T13:03:14.879Z"
   },
   {
    "duration": 9,
    "start_time": "2023-02-21T13:03:14.887Z"
   },
   {
    "duration": 13,
    "start_time": "2023-02-21T13:03:14.898Z"
   },
   {
    "duration": 17,
    "start_time": "2023-02-21T13:03:14.913Z"
   },
   {
    "duration": 11,
    "start_time": "2023-02-21T13:03:14.936Z"
   },
   {
    "duration": 7,
    "start_time": "2023-02-21T13:03:14.948Z"
   },
   {
    "duration": 424,
    "start_time": "2023-02-21T13:03:14.956Z"
   },
   {
    "duration": 697,
    "start_time": "2023-02-21T13:03:15.382Z"
   },
   {
    "duration": 181,
    "start_time": "2023-02-21T13:03:16.081Z"
   },
   {
    "duration": 5,
    "start_time": "2023-02-21T13:03:16.264Z"
   },
   {
    "duration": 9,
    "start_time": "2023-02-21T13:03:16.271Z"
   },
   {
    "duration": 40378,
    "start_time": "2023-02-21T13:03:16.282Z"
   },
   {
    "duration": 9,
    "start_time": "2023-02-21T13:03:56.662Z"
   },
   {
    "duration": 8,
    "start_time": "2023-02-21T13:03:56.673Z"
   },
   {
    "duration": 137827,
    "start_time": "2023-02-21T13:03:56.683Z"
   },
   {
    "duration": 12,
    "start_time": "2023-02-21T13:06:14.512Z"
   },
   {
    "duration": 13,
    "start_time": "2023-02-21T13:06:14.525Z"
   },
   {
    "duration": 51692,
    "start_time": "2023-02-21T13:06:14.539Z"
   },
   {
    "duration": 13,
    "start_time": "2023-02-21T13:07:06.232Z"
   },
   {
    "duration": 11,
    "start_time": "2023-02-21T13:07:06.246Z"
   },
   {
    "duration": 611788,
    "start_time": "2023-02-21T13:07:06.258Z"
   },
   {
    "duration": 12,
    "start_time": "2023-02-21T13:17:18.047Z"
   },
   {
    "duration": 1382,
    "start_time": "2023-02-21T13:38:58.024Z"
   },
   {
    "duration": 42,
    "start_time": "2023-02-21T13:38:59.408Z"
   },
   {
    "duration": 6,
    "start_time": "2023-02-21T13:38:59.451Z"
   },
   {
    "duration": 10,
    "start_time": "2023-02-21T13:38:59.459Z"
   },
   {
    "duration": 8,
    "start_time": "2023-02-21T13:38:59.471Z"
   },
   {
    "duration": 12,
    "start_time": "2023-02-21T13:38:59.481Z"
   },
   {
    "duration": 10,
    "start_time": "2023-02-21T13:38:59.494Z"
   },
   {
    "duration": 32,
    "start_time": "2023-02-21T13:38:59.505Z"
   },
   {
    "duration": 393,
    "start_time": "2023-02-21T13:38:59.539Z"
   },
   {
    "duration": 638,
    "start_time": "2023-02-21T13:38:59.934Z"
   },
   {
    "duration": 172,
    "start_time": "2023-02-21T13:39:00.574Z"
   },
   {
    "duration": 6,
    "start_time": "2023-02-21T13:39:00.747Z"
   },
   {
    "duration": 29,
    "start_time": "2023-02-21T13:39:00.755Z"
   },
   {
    "duration": 40959,
    "start_time": "2023-02-21T13:39:00.786Z"
   },
   {
    "duration": 10,
    "start_time": "2023-02-21T13:39:41.747Z"
   },
   {
    "duration": 5,
    "start_time": "2023-02-21T13:39:41.758Z"
   },
   {
    "duration": 139701,
    "start_time": "2023-02-21T13:39:41.765Z"
   },
   {
    "duration": 10,
    "start_time": "2023-02-21T13:42:01.468Z"
   },
   {
    "duration": 9,
    "start_time": "2023-02-21T13:42:01.480Z"
   },
   {
    "duration": 54127,
    "start_time": "2023-02-21T13:42:01.490Z"
   },
   {
    "duration": 26,
    "start_time": "2023-02-21T13:42:55.619Z"
   },
   {
    "duration": 15,
    "start_time": "2023-02-21T13:42:55.647Z"
   },
   {
    "duration": 1309193,
    "start_time": "2023-02-21T13:42:55.664Z"
   },
   {
    "duration": 86,
    "start_time": "2023-02-21T14:04:44.859Z"
   },
   {
    "duration": 104,
    "start_time": "2023-02-21T14:08:51.300Z"
   },
   {
    "duration": 61,
    "start_time": "2023-02-21T14:09:00.140Z"
   },
   {
    "duration": 46,
    "start_time": "2023-02-21T14:09:15.411Z"
   },
   {
    "duration": 43,
    "start_time": "2023-02-21T14:09:18.351Z"
   },
   {
    "duration": 42,
    "start_time": "2023-02-21T14:09:45.243Z"
   },
   {
    "duration": 39,
    "start_time": "2023-02-21T14:10:03.760Z"
   },
   {
    "duration": 39,
    "start_time": "2023-02-21T14:10:35.376Z"
   },
   {
    "duration": 38,
    "start_time": "2023-02-21T14:11:56.016Z"
   },
   {
    "duration": 41,
    "start_time": "2023-02-21T14:13:30.382Z"
   },
   {
    "duration": 39,
    "start_time": "2023-02-21T14:13:46.887Z"
   },
   {
    "duration": 44,
    "start_time": "2023-02-21T14:13:50.537Z"
   },
   {
    "duration": 41,
    "start_time": "2023-02-21T14:14:03.316Z"
   },
   {
    "duration": 44,
    "start_time": "2023-02-21T14:14:05.526Z"
   },
   {
    "duration": 40,
    "start_time": "2023-02-21T14:14:22.190Z"
   },
   {
    "duration": 49,
    "start_time": "2023-02-21T14:14:22.891Z"
   },
   {
    "duration": 38,
    "start_time": "2023-02-21T14:14:41.539Z"
   },
   {
    "duration": 39,
    "start_time": "2023-02-21T14:14:49.983Z"
   },
   {
    "duration": 41,
    "start_time": "2023-02-21T14:14:58.425Z"
   },
   {
    "duration": 43,
    "start_time": "2023-02-21T14:15:01.647Z"
   },
   {
    "duration": 41,
    "start_time": "2023-02-21T14:15:19.666Z"
   },
   {
    "duration": 50,
    "start_time": "2023-02-21T14:15:22.495Z"
   },
   {
    "duration": 40,
    "start_time": "2023-02-21T14:18:26.144Z"
   },
   {
    "duration": 46,
    "start_time": "2023-02-21T14:18:26.693Z"
   },
   {
    "duration": 1346,
    "start_time": "2023-02-21T14:27:10.959Z"
   },
   {
    "duration": 49,
    "start_time": "2023-02-21T14:27:12.307Z"
   },
   {
    "duration": 5,
    "start_time": "2023-02-21T14:27:12.358Z"
   },
   {
    "duration": 13,
    "start_time": "2023-02-21T14:27:12.365Z"
   },
   {
    "duration": 11,
    "start_time": "2023-02-21T14:27:12.380Z"
   },
   {
    "duration": 23,
    "start_time": "2023-02-21T14:27:12.393Z"
   },
   {
    "duration": 11,
    "start_time": "2023-02-21T14:27:12.417Z"
   },
   {
    "duration": 11,
    "start_time": "2023-02-21T14:27:12.429Z"
   },
   {
    "duration": 438,
    "start_time": "2023-02-21T14:27:12.442Z"
   },
   {
    "duration": 622,
    "start_time": "2023-02-21T14:27:12.883Z"
   },
   {
    "duration": 173,
    "start_time": "2023-02-21T14:27:13.507Z"
   },
   {
    "duration": 5,
    "start_time": "2023-02-21T14:27:13.683Z"
   },
   {
    "duration": 53,
    "start_time": "2023-02-21T14:27:13.690Z"
   },
   {
    "duration": 43,
    "start_time": "2023-02-21T14:27:13.744Z"
   },
   {
    "duration": 5,
    "start_time": "2023-02-21T14:27:13.789Z"
   },
   {
    "duration": 40143,
    "start_time": "2023-02-21T14:27:13.795Z"
   },
   {
    "duration": 10,
    "start_time": "2023-02-21T14:27:53.940Z"
   },
   {
    "duration": 7,
    "start_time": "2023-02-21T14:27:53.952Z"
   },
   {
    "duration": 135125,
    "start_time": "2023-02-21T14:27:53.960Z"
   },
   {
    "duration": 9,
    "start_time": "2023-02-21T14:30:09.087Z"
   },
   {
    "duration": 12,
    "start_time": "2023-02-21T14:30:09.098Z"
   },
   {
    "duration": 51541,
    "start_time": "2023-02-21T14:30:09.112Z"
   },
   {
    "duration": 10,
    "start_time": "2023-02-21T14:31:00.654Z"
   },
   {
    "duration": 19,
    "start_time": "2023-02-21T14:31:00.665Z"
   },
   {
    "duration": 158763,
    "start_time": "2023-02-21T14:31:00.686Z"
   },
   {
    "duration": 11,
    "start_time": "2023-02-21T14:33:39.451Z"
   },
   {
    "duration": 10,
    "start_time": "2023-02-21T14:37:18.600Z"
   },
   {
    "duration": 10,
    "start_time": "2023-02-21T14:37:24.584Z"
   },
   {
    "duration": 77,
    "start_time": "2023-02-21T14:38:44.820Z"
   },
   {
    "duration": 14,
    "start_time": "2023-02-21T14:38:48.287Z"
   },
   {
    "duration": 13,
    "start_time": "2023-02-21T14:38:53.158Z"
   },
   {
    "duration": 15,
    "start_time": "2023-02-21T14:39:38.771Z"
   },
   {
    "duration": 20,
    "start_time": "2023-02-21T14:40:04.519Z"
   },
   {
    "duration": 8,
    "start_time": "2023-02-21T14:41:30.855Z"
   },
   {
    "duration": 18,
    "start_time": "2023-02-21T14:41:35.842Z"
   },
   {
    "duration": 18,
    "start_time": "2023-02-21T14:43:21.914Z"
   },
   {
    "duration": 1286,
    "start_time": "2023-02-21T14:44:13.664Z"
   },
   {
    "duration": 14,
    "start_time": "2023-02-21T14:44:24.871Z"
   },
   {
    "duration": 74,
    "start_time": "2023-02-21T14:50:26.821Z"
   },
   {
    "duration": 4,
    "start_time": "2023-02-21T14:50:33.499Z"
   },
   {
    "duration": 20,
    "start_time": "2023-02-21T14:50:49.689Z"
   },
   {
    "duration": 90,
    "start_time": "2023-02-21T14:51:14.412Z"
   },
   {
    "duration": 18,
    "start_time": "2023-02-21T14:51:25.718Z"
   },
   {
    "duration": 15,
    "start_time": "2023-02-21T14:51:39.361Z"
   },
   {
    "duration": 20,
    "start_time": "2023-02-21T14:51:48.196Z"
   },
   {
    "duration": 18,
    "start_time": "2023-02-21T14:51:54.856Z"
   },
   {
    "duration": 71,
    "start_time": "2023-02-21T14:52:05.573Z"
   },
   {
    "duration": 18,
    "start_time": "2023-02-21T14:52:08.780Z"
   },
   {
    "duration": 22,
    "start_time": "2023-02-21T14:53:07.945Z"
   },
   {
    "duration": 18,
    "start_time": "2023-02-21T14:53:18.788Z"
   },
   {
    "duration": 22,
    "start_time": "2023-02-21T14:53:35.926Z"
   },
   {
    "duration": 16,
    "start_time": "2023-02-21T14:54:24.527Z"
   },
   {
    "duration": 0,
    "start_time": "2023-02-21T14:54:31.398Z"
   },
   {
    "duration": 585,
    "start_time": "2023-02-21T14:54:34.040Z"
   },
   {
    "duration": 24,
    "start_time": "2023-02-21T14:54:58.221Z"
   },
   {
    "duration": 23,
    "start_time": "2023-02-21T14:56:35.509Z"
   },
   {
    "duration": 74,
    "start_time": "2023-02-21T14:57:04.977Z"
   },
   {
    "duration": 15,
    "start_time": "2023-02-21T14:57:10.428Z"
   },
   {
    "duration": 16,
    "start_time": "2023-02-21T14:57:23.729Z"
   },
   {
    "duration": 17,
    "start_time": "2023-02-21T14:57:29.596Z"
   },
   {
    "duration": 80,
    "start_time": "2023-02-21T14:57:36.479Z"
   },
   {
    "duration": 14,
    "start_time": "2023-02-21T14:57:39.102Z"
   },
   {
    "duration": 14,
    "start_time": "2023-02-21T14:57:45.777Z"
   },
   {
    "duration": 17,
    "start_time": "2023-02-21T14:57:58.000Z"
   },
   {
    "duration": 16,
    "start_time": "2023-02-21T14:58:08.660Z"
   },
   {
    "duration": 19,
    "start_time": "2023-02-21T14:58:36.581Z"
   },
   {
    "duration": 16,
    "start_time": "2023-02-21T14:58:42.559Z"
   },
   {
    "duration": 15,
    "start_time": "2023-02-21T14:59:18.500Z"
   },
   {
    "duration": 27,
    "start_time": "2023-02-21T14:59:59.652Z"
   },
   {
    "duration": 7,
    "start_time": "2023-02-21T15:00:16.088Z"
   },
   {
    "duration": 16,
    "start_time": "2023-02-21T15:02:29.108Z"
   },
   {
    "duration": 14,
    "start_time": "2023-02-21T15:02:51.223Z"
   },
   {
    "duration": 22,
    "start_time": "2023-02-21T15:04:02.427Z"
   },
   {
    "duration": 74,
    "start_time": "2023-02-21T15:05:49.036Z"
   },
   {
    "duration": 19,
    "start_time": "2023-02-21T15:05:56.660Z"
   },
   {
    "duration": 22,
    "start_time": "2023-02-21T15:06:26.809Z"
   },
   {
    "duration": 28,
    "start_time": "2023-02-21T15:06:35.655Z"
   },
   {
    "duration": 16,
    "start_time": "2023-02-21T15:09:39.107Z"
   },
   {
    "duration": 16,
    "start_time": "2023-02-21T15:10:35.732Z"
   },
   {
    "duration": 24,
    "start_time": "2023-02-21T15:10:47.440Z"
   },
   {
    "duration": 1193,
    "start_time": "2023-02-21T15:11:14.437Z"
   },
   {
    "duration": 15,
    "start_time": "2023-02-21T15:11:36.544Z"
   },
   {
    "duration": 25,
    "start_time": "2023-02-21T15:11:39.981Z"
   },
   {
    "duration": 1232,
    "start_time": "2023-02-21T15:12:09.163Z"
   },
   {
    "duration": 17,
    "start_time": "2023-02-21T15:12:18.689Z"
   },
   {
    "duration": 1428,
    "start_time": "2023-02-21T15:13:11.951Z"
   },
   {
    "duration": 46,
    "start_time": "2023-02-21T15:13:13.381Z"
   },
   {
    "duration": 6,
    "start_time": "2023-02-21T15:13:13.429Z"
   },
   {
    "duration": 17,
    "start_time": "2023-02-21T15:13:13.437Z"
   },
   {
    "duration": 8,
    "start_time": "2023-02-21T15:13:13.456Z"
   },
   {
    "duration": 13,
    "start_time": "2023-02-21T15:13:13.466Z"
   },
   {
    "duration": 10,
    "start_time": "2023-02-21T15:13:13.480Z"
   },
   {
    "duration": 9,
    "start_time": "2023-02-21T15:13:13.492Z"
   },
   {
    "duration": 422,
    "start_time": "2023-02-21T15:13:13.502Z"
   },
   {
    "duration": 662,
    "start_time": "2023-02-21T15:13:13.926Z"
   },
   {
    "duration": 187,
    "start_time": "2023-02-21T15:13:14.590Z"
   },
   {
    "duration": 6,
    "start_time": "2023-02-21T15:13:14.778Z"
   },
   {
    "duration": 52,
    "start_time": "2023-02-21T15:13:14.786Z"
   },
   {
    "duration": 41,
    "start_time": "2023-02-21T15:13:14.840Z"
   },
   {
    "duration": 4,
    "start_time": "2023-02-21T15:13:14.882Z"
   },
   {
    "duration": 40550,
    "start_time": "2023-02-21T15:13:14.888Z"
   },
   {
    "duration": 9,
    "start_time": "2023-02-21T15:13:55.440Z"
   },
   {
    "duration": 9,
    "start_time": "2023-02-21T15:13:55.451Z"
   },
   {
    "duration": 136384,
    "start_time": "2023-02-21T15:13:55.462Z"
   },
   {
    "duration": 10,
    "start_time": "2023-02-21T15:16:11.847Z"
   },
   {
    "duration": 11,
    "start_time": "2023-02-21T15:16:11.858Z"
   },
   {
    "duration": 52695,
    "start_time": "2023-02-21T15:16:11.871Z"
   },
   {
    "duration": 9,
    "start_time": "2023-02-21T15:17:04.567Z"
   },
   {
    "duration": 15,
    "start_time": "2023-02-21T15:17:04.578Z"
   },
   {
    "duration": 12,
    "start_time": "2023-02-21T15:17:04.595Z"
   },
   {
    "duration": 174939,
    "start_time": "2023-02-21T15:17:04.609Z"
   },
   {
    "duration": 26,
    "start_time": "2023-02-21T15:19:59.550Z"
   },
   {
    "duration": 1577,
    "start_time": "2023-02-21T18:22:29.036Z"
   },
   {
    "duration": 139,
    "start_time": "2023-02-21T18:22:30.616Z"
   },
   {
    "duration": 5,
    "start_time": "2023-02-21T18:22:30.757Z"
   },
   {
    "duration": 28,
    "start_time": "2023-02-21T18:22:30.764Z"
   },
   {
    "duration": 35,
    "start_time": "2023-02-21T18:22:30.794Z"
   },
   {
    "duration": 24,
    "start_time": "2023-02-21T18:22:30.832Z"
   },
   {
    "duration": 30,
    "start_time": "2023-02-21T18:22:30.858Z"
   },
   {
    "duration": 36,
    "start_time": "2023-02-21T18:22:30.890Z"
   },
   {
    "duration": 28,
    "start_time": "2023-02-21T18:22:30.933Z"
   },
   {
    "duration": 79,
    "start_time": "2023-02-21T18:22:30.964Z"
   },
   {
    "duration": 44,
    "start_time": "2023-02-21T18:22:31.045Z"
   },
   {
    "duration": 405,
    "start_time": "2023-02-21T18:22:31.091Z"
   },
   {
    "duration": 661,
    "start_time": "2023-02-21T18:22:31.498Z"
   },
   {
    "duration": 203,
    "start_time": "2023-02-21T18:22:32.160Z"
   },
   {
    "duration": 5,
    "start_time": "2023-02-21T18:22:32.364Z"
   },
   {
    "duration": 45370,
    "start_time": "2023-02-21T18:22:32.371Z"
   },
   {
    "duration": 11,
    "start_time": "2023-02-21T18:23:17.743Z"
   },
   {
    "duration": 72,
    "start_time": "2023-02-21T18:23:17.756Z"
   },
   {
    "duration": 142739,
    "start_time": "2023-02-21T18:23:17.835Z"
   },
   {
    "duration": 12,
    "start_time": "2023-02-21T18:25:40.575Z"
   },
   {
    "duration": 5,
    "start_time": "2023-02-21T18:25:40.588Z"
   },
   {
    "duration": 59207,
    "start_time": "2023-02-21T18:25:40.595Z"
   },
   {
    "duration": 37,
    "start_time": "2023-02-21T18:26:39.804Z"
   },
   {
    "duration": 6,
    "start_time": "2023-02-21T18:26:39.843Z"
   },
   {
    "duration": 141890,
    "start_time": "2023-02-21T18:26:39.851Z"
   },
   {
    "duration": 13,
    "start_time": "2023-02-21T18:29:01.743Z"
   },
   {
    "duration": 1532,
    "start_time": "2023-02-21T18:29:04.629Z"
   },
   {
    "duration": 51,
    "start_time": "2023-02-21T18:29:06.163Z"
   },
   {
    "duration": 7,
    "start_time": "2023-02-21T18:29:06.216Z"
   },
   {
    "duration": 21,
    "start_time": "2023-02-21T18:29:06.235Z"
   },
   {
    "duration": 12,
    "start_time": "2023-02-21T18:29:06.258Z"
   },
   {
    "duration": 31,
    "start_time": "2023-02-21T18:29:06.272Z"
   },
   {
    "duration": 16,
    "start_time": "2023-02-21T18:29:06.306Z"
   },
   {
    "duration": 27,
    "start_time": "2023-02-21T18:29:06.330Z"
   },
   {
    "duration": 20,
    "start_time": "2023-02-21T18:29:06.359Z"
   },
   {
    "duration": 69,
    "start_time": "2023-02-21T18:29:06.383Z"
   },
   {
    "duration": 45,
    "start_time": "2023-02-21T18:29:06.455Z"
   },
   {
    "duration": 434,
    "start_time": "2023-02-21T18:29:06.501Z"
   },
   {
    "duration": 697,
    "start_time": "2023-02-21T18:29:06.938Z"
   },
   {
    "duration": 210,
    "start_time": "2023-02-21T18:29:07.637Z"
   },
   {
    "duration": 4,
    "start_time": "2023-02-21T18:29:07.849Z"
   },
   {
    "duration": 47801,
    "start_time": "2023-02-21T18:29:07.855Z"
   },
   {
    "duration": 14,
    "start_time": "2023-02-21T18:29:55.658Z"
   },
   {
    "duration": 16,
    "start_time": "2023-02-21T18:29:55.722Z"
   },
   {
    "duration": 158951,
    "start_time": "2023-02-21T18:29:55.740Z"
   },
   {
    "duration": 15,
    "start_time": "2023-02-21T18:32:34.693Z"
   },
   {
    "duration": 22,
    "start_time": "2023-02-21T18:32:34.724Z"
   },
   {
    "duration": 62919,
    "start_time": "2023-02-21T18:32:34.749Z"
   },
   {
    "duration": 16,
    "start_time": "2023-02-21T18:33:37.669Z"
   },
   {
    "duration": 5,
    "start_time": "2023-02-21T18:33:37.686Z"
   },
   {
    "duration": 914647,
    "start_time": "2023-02-21T18:33:37.692Z"
   },
   {
    "duration": 18,
    "start_time": "2023-02-21T18:48:52.340Z"
   },
   {
    "duration": 1698,
    "start_time": "2023-02-22T10:56:58.988Z"
   },
   {
    "duration": 183,
    "start_time": "2023-02-22T10:57:00.689Z"
   },
   {
    "duration": 8,
    "start_time": "2023-02-22T10:57:00.874Z"
   },
   {
    "duration": 46,
    "start_time": "2023-02-22T10:57:00.885Z"
   },
   {
    "duration": 36,
    "start_time": "2023-02-22T10:57:00.933Z"
   },
   {
    "duration": 79,
    "start_time": "2023-02-22T10:57:00.971Z"
   },
   {
    "duration": 59,
    "start_time": "2023-02-22T10:57:01.052Z"
   },
   {
    "duration": 17,
    "start_time": "2023-02-22T10:57:01.113Z"
   },
   {
    "duration": 21,
    "start_time": "2023-02-22T10:57:01.132Z"
   },
   {
    "duration": 57,
    "start_time": "2023-02-22T10:57:01.157Z"
   },
   {
    "duration": 43,
    "start_time": "2023-02-22T10:57:01.217Z"
   },
   {
    "duration": 479,
    "start_time": "2023-02-22T10:57:01.262Z"
   },
   {
    "duration": 735,
    "start_time": "2023-02-22T10:57:01.744Z"
   },
   {
    "duration": 193,
    "start_time": "2023-02-22T10:57:02.482Z"
   },
   {
    "duration": 4,
    "start_time": "2023-02-22T10:57:02.678Z"
   },
   {
    "duration": 46742,
    "start_time": "2023-02-22T10:57:02.684Z"
   },
   {
    "duration": 84,
    "start_time": "2023-02-22T10:57:49.428Z"
   },
   {
    "duration": 13,
    "start_time": "2023-02-22T10:57:49.515Z"
   },
   {
    "duration": 158236,
    "start_time": "2023-02-22T10:57:49.531Z"
   },
   {
    "duration": 12,
    "start_time": "2023-02-22T11:00:27.769Z"
   },
   {
    "duration": 21,
    "start_time": "2023-02-22T11:00:27.783Z"
   },
   {
    "duration": 60905,
    "start_time": "2023-02-22T11:00:27.806Z"
   },
   {
    "duration": 18,
    "start_time": "2023-02-22T11:01:28.713Z"
   },
   {
    "duration": 5,
    "start_time": "2023-02-22T11:01:28.733Z"
   },
   {
    "duration": 2491884,
    "start_time": "2023-02-22T11:01:28.741Z"
   },
   {
    "duration": 81,
    "start_time": "2023-02-22T11:43:00.626Z"
   },
   {
    "duration": 9143,
    "start_time": "2023-02-22T11:43:00.710Z"
   },
   {
    "duration": 0,
    "start_time": "2023-02-22T11:43:09.854Z"
   },
   {
    "duration": 24184,
    "start_time": "2023-02-22T11:44:25.430Z"
   },
   {
    "duration": 57699,
    "start_time": "2023-02-22T11:47:30.636Z"
   },
   {
    "duration": 82801,
    "start_time": "2023-02-22T11:49:59.929Z"
   },
   {
    "duration": 50858,
    "start_time": "2023-02-22T11:52:02.946Z"
   },
   {
    "duration": 59592,
    "start_time": "2023-02-22T11:53:03.646Z"
   },
   {
    "duration": 53199,
    "start_time": "2023-02-22T11:54:58.716Z"
   },
   {
    "duration": 16,
    "start_time": "2023-02-22T11:56:54.595Z"
   },
   {
    "duration": 39040,
    "start_time": "2023-02-22T11:57:06.021Z"
   },
   {
    "duration": 27776,
    "start_time": "2023-02-22T11:57:51.026Z"
   },
   {
    "duration": 815,
    "start_time": "2023-02-22T11:59:15.886Z"
   },
   {
    "duration": 5,
    "start_time": "2023-02-22T11:59:37.832Z"
   },
   {
    "duration": 768226,
    "start_time": "2023-02-22T11:59:38.391Z"
   },
   {
    "duration": 15,
    "start_time": "2023-02-22T12:12:26.620Z"
   },
   {
    "duration": 2662,
    "start_time": "2023-02-22T12:13:50.679Z"
   },
   {
    "duration": 2797,
    "start_time": "2023-02-22T12:13:57.235Z"
   },
   {
    "duration": 182,
    "start_time": "2023-02-22T12:16:35.837Z"
   },
   {
    "duration": 204,
    "start_time": "2023-02-22T12:16:39.492Z"
   },
   {
    "duration": 1582,
    "start_time": "2023-02-23T15:07:36.595Z"
   },
   {
    "duration": 131,
    "start_time": "2023-02-23T15:07:38.179Z"
   },
   {
    "duration": 5,
    "start_time": "2023-02-23T15:07:38.312Z"
   },
   {
    "duration": 38,
    "start_time": "2023-02-23T15:07:38.319Z"
   },
   {
    "duration": 30,
    "start_time": "2023-02-23T15:07:38.359Z"
   },
   {
    "duration": 28,
    "start_time": "2023-02-23T15:07:38.391Z"
   },
   {
    "duration": 10,
    "start_time": "2023-02-23T15:07:38.421Z"
   },
   {
    "duration": 19,
    "start_time": "2023-02-23T15:07:38.432Z"
   },
   {
    "duration": 14,
    "start_time": "2023-02-23T15:07:38.453Z"
   },
   {
    "duration": 73,
    "start_time": "2023-02-23T15:07:38.469Z"
   },
   {
    "duration": 51,
    "start_time": "2023-02-23T15:07:38.544Z"
   },
   {
    "duration": 386,
    "start_time": "2023-02-23T15:07:38.597Z"
   },
   {
    "duration": 685,
    "start_time": "2023-02-23T15:07:38.985Z"
   },
   {
    "duration": 177,
    "start_time": "2023-02-23T15:07:39.671Z"
   },
   {
    "duration": 4,
    "start_time": "2023-02-23T15:07:39.850Z"
   },
   {
    "duration": 43108,
    "start_time": "2023-02-23T15:07:39.856Z"
   },
   {
    "duration": 11,
    "start_time": "2023-02-23T15:08:22.967Z"
   },
   {
    "duration": 9,
    "start_time": "2023-02-23T15:08:22.980Z"
   },
   {
    "duration": 140975,
    "start_time": "2023-02-23T15:08:22.991Z"
   },
   {
    "duration": 12,
    "start_time": "2023-02-23T15:10:43.967Z"
   },
   {
    "duration": 5,
    "start_time": "2023-02-23T15:10:43.980Z"
   },
   {
    "duration": 54905,
    "start_time": "2023-02-23T15:10:43.987Z"
   },
   {
    "duration": 17,
    "start_time": "2023-02-23T15:11:38.894Z"
   },
   {
    "duration": 6,
    "start_time": "2023-02-23T15:11:38.913Z"
   },
   {
    "duration": 7033832,
    "start_time": "2023-02-23T15:11:38.921Z"
   },
   {
    "duration": 26,
    "start_time": "2023-02-23T17:08:52.757Z"
   },
   {
    "duration": 8000,
    "start_time": "2023-02-23T17:08:52.785Z"
   },
   {
    "duration": 233,
    "start_time": "2023-02-23T17:09:00.788Z"
   },
   {
    "duration": 135,
    "start_time": "2023-02-23T17:15:24.560Z"
   },
   {
    "duration": 121,
    "start_time": "2023-02-23T17:16:49.579Z"
   },
   {
    "duration": 15,
    "start_time": "2023-02-23T17:17:18.061Z"
   },
   {
    "duration": 205,
    "start_time": "2023-02-23T17:17:31.082Z"
   },
   {
    "duration": 311,
    "start_time": "2023-02-23T17:18:23.374Z"
   },
   {
    "duration": 194,
    "start_time": "2023-02-23T17:18:30.789Z"
   },
   {
    "duration": 207,
    "start_time": "2023-02-23T17:19:08.978Z"
   },
   {
    "duration": 266,
    "start_time": "2023-02-23T17:19:19.807Z"
   },
   {
    "duration": 233,
    "start_time": "2023-02-23T17:19:22.580Z"
   }
  ],
  "kernelspec": {
   "display_name": "Python 3 (ipykernel)",
   "language": "python",
   "name": "python3"
  },
  "language_info": {
   "codemirror_mode": {
    "name": "ipython",
    "version": 3
   },
   "file_extension": ".py",
   "mimetype": "text/x-python",
   "name": "python",
   "nbconvert_exporter": "python",
   "pygments_lexer": "ipython3",
   "version": "3.10.9"
  },
  "toc": {
   "base_numbering": 1,
   "nav_menu": {},
   "number_sections": true,
   "sideBar": true,
   "skip_h1_title": true,
   "title_cell": "Содержание",
   "title_sidebar": "Contents",
   "toc_cell": true,
   "toc_position": {},
   "toc_section_display": true,
   "toc_window_display": false
  }
 },
 "nbformat": 4,
 "nbformat_minor": 2
}
