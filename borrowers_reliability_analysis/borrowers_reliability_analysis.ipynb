{
 "cells": [
  {
   "attachments": {},
   "cell_type": "markdown",
   "id": "2dd933ed",
   "metadata": {},
   "source": [
    "# Исследование надежности заемщиков"
   ]
  },
  {
   "attachments": {},
   "cell_type": "markdown",
   "id": "81d1548c",
   "metadata": {},
   "source": [
    "Заказчик — кредитный отдел банка. Нужно разобраться, влияет ли семейное положение и количество детей клиента на факт погашения кредита в срок. Входные данные от банка — статистика о платёжеспособности клиентов."
   ]
  },
  {
   "attachments": {},
   "cell_type": "markdown",
   "id": "c1a028ec",
   "metadata": {},
   "source": [
    "**Содержание**<a id='toc0_'></a>    \n",
    "- 1. [Открытие таблицы и изучение общей информации о данных](#toc1_)    \n",
    "- 2. [Предобработка данных](#toc2_)    \n",
    "  - 2.1. [Удаление пропусков](#toc2_1_)    \n",
    "  - 2.2. [Обработка аномальных значений](#toc2_2_)    \n",
    "  - 2.3. [Удаление пропусков (продолжение)](#toc2_3_)    \n",
    "  - 2.4. [Изменение типов данных](#toc2_4_)    \n",
    "  - 2.5. [Обработка дубликатов](#toc2_5_)    \n",
    "  - 2.6. [Категоризация данных](#toc2_6_)    \n",
    "- 3. [Исследуем данные и ответим на вопросы](#toc3_)    \n",
    "  - 3.1. [Связь между количеством детей и возвратом кредита в срок](#toc3_1_)    \n",
    "  - 3.2. [Связь между семейным положением и возвратом кредита в срок](#toc3_2_)    \n",
    "  - 3.3. [Связь между уровнем дохода и возвратом кредита в срок](#toc3_3_)    \n",
    "  - 3.4. [Влияние цели кредита на его возврат в срок](#toc3_4_)    \n",
    "  - 3.5. [Возможные причины появления пропусков в исходных данных.](#toc3_5_)    \n",
    "- 4. [Общий вывод.](#toc4_)    \n",
    "\n",
    "<!-- vscode-jupyter-toc-config\n",
    "\tnumbering=true\n",
    "\tanchor=true\n",
    "\tflat=false\n",
    "\tminLevel=2\n",
    "\tmaxLevel=6\n",
    "\t/vscode-jupyter-toc-config -->\n",
    "<!-- THIS CELL WILL BE REPLACED ON TOC UPDATE. DO NOT WRITE YOUR TEXT IN THIS CELL -->"
   ]
  },
  {
   "attachments": {},
   "cell_type": "markdown",
   "id": "5616d953",
   "metadata": {},
   "source": [
    "## 1. <a id='toc1_'></a>[Открытие таблицы и изучение общей информации о данных](#toc0_)"
   ]
  },
  {
   "attachments": {},
   "cell_type": "markdown",
   "id": "6e9f5dd1",
   "metadata": {
    "deletable": false,
    "editable": false,
    "id": "e7a14c31",
    "pycharm": {
     "name": "#%% md\n"
    }
   },
   "source": [
    "**Импорт библиотеки pandas. Считывание данных из csv-файла в датафрейм и сохранение в переменную `data`.**"
   ]
  },
  {
   "cell_type": "code",
   "execution_count": 1,
   "id": "5d5d83c2",
   "metadata": {
    "deletable": false,
    "id": "7bcf75c9",
    "pycharm": {
     "name": "#%%\n"
    }
   },
   "outputs": [],
   "source": [
    "import pandas as pd\n",
    "\n",
    "try:\n",
    "    data = pd.read_csv('data.csv')\n",
    "except FileNotFoundError:\n",
    "    data = pd.read_csv('url')"
   ]
  },
  {
   "attachments": {},
   "cell_type": "markdown",
   "id": "3a92d9fb",
   "metadata": {
    "deletable": false,
    "editable": false,
    "id": "b8038fe3",
    "pycharm": {
     "name": "#%% md\n"
    }
   },
   "source": [
    "**Первые 20 строчек датафрейма `data`.**"
   ]
  },
  {
   "cell_type": "code",
   "execution_count": 2,
   "id": "f9a0f330",
   "metadata": {
    "deletable": false,
    "id": "2a7cab99",
    "outputId": "1a8f3ef2-d323-4ec2-ddf7-89670b5944c4",
    "pycharm": {
     "name": "#%%\n"
    }
   },
   "outputs": [
    {
     "data": {
      "text/html": [
       "<div>\n",
       "<style scoped>\n",
       "    .dataframe tbody tr th:only-of-type {\n",
       "        vertical-align: middle;\n",
       "    }\n",
       "\n",
       "    .dataframe tbody tr th {\n",
       "        vertical-align: top;\n",
       "    }\n",
       "\n",
       "    .dataframe thead th {\n",
       "        text-align: right;\n",
       "    }\n",
       "</style>\n",
       "<table border=\"1\" class=\"dataframe\">\n",
       "  <thead>\n",
       "    <tr style=\"text-align: right;\">\n",
       "      <th></th>\n",
       "      <th>children</th>\n",
       "      <th>days_employed</th>\n",
       "      <th>dob_years</th>\n",
       "      <th>education</th>\n",
       "      <th>education_id</th>\n",
       "      <th>family_status</th>\n",
       "      <th>family_status_id</th>\n",
       "      <th>gender</th>\n",
       "      <th>income_type</th>\n",
       "      <th>debt</th>\n",
       "      <th>total_income</th>\n",
       "      <th>purpose</th>\n",
       "    </tr>\n",
       "  </thead>\n",
       "  <tbody>\n",
       "    <tr>\n",
       "      <th>0</th>\n",
       "      <td>1</td>\n",
       "      <td>-8437.673028</td>\n",
       "      <td>42</td>\n",
       "      <td>высшее</td>\n",
       "      <td>0</td>\n",
       "      <td>женат / замужем</td>\n",
       "      <td>0</td>\n",
       "      <td>F</td>\n",
       "      <td>сотрудник</td>\n",
       "      <td>0</td>\n",
       "      <td>253875.639453</td>\n",
       "      <td>покупка жилья</td>\n",
       "    </tr>\n",
       "    <tr>\n",
       "      <th>1</th>\n",
       "      <td>1</td>\n",
       "      <td>-4024.803754</td>\n",
       "      <td>36</td>\n",
       "      <td>среднее</td>\n",
       "      <td>1</td>\n",
       "      <td>женат / замужем</td>\n",
       "      <td>0</td>\n",
       "      <td>F</td>\n",
       "      <td>сотрудник</td>\n",
       "      <td>0</td>\n",
       "      <td>112080.014102</td>\n",
       "      <td>приобретение автомобиля</td>\n",
       "    </tr>\n",
       "    <tr>\n",
       "      <th>2</th>\n",
       "      <td>0</td>\n",
       "      <td>-5623.422610</td>\n",
       "      <td>33</td>\n",
       "      <td>Среднее</td>\n",
       "      <td>1</td>\n",
       "      <td>женат / замужем</td>\n",
       "      <td>0</td>\n",
       "      <td>M</td>\n",
       "      <td>сотрудник</td>\n",
       "      <td>0</td>\n",
       "      <td>145885.952297</td>\n",
       "      <td>покупка жилья</td>\n",
       "    </tr>\n",
       "    <tr>\n",
       "      <th>3</th>\n",
       "      <td>3</td>\n",
       "      <td>-4124.747207</td>\n",
       "      <td>32</td>\n",
       "      <td>среднее</td>\n",
       "      <td>1</td>\n",
       "      <td>женат / замужем</td>\n",
       "      <td>0</td>\n",
       "      <td>M</td>\n",
       "      <td>сотрудник</td>\n",
       "      <td>0</td>\n",
       "      <td>267628.550329</td>\n",
       "      <td>дополнительное образование</td>\n",
       "    </tr>\n",
       "    <tr>\n",
       "      <th>4</th>\n",
       "      <td>0</td>\n",
       "      <td>340266.072047</td>\n",
       "      <td>53</td>\n",
       "      <td>среднее</td>\n",
       "      <td>1</td>\n",
       "      <td>гражданский брак</td>\n",
       "      <td>1</td>\n",
       "      <td>F</td>\n",
       "      <td>пенсионер</td>\n",
       "      <td>0</td>\n",
       "      <td>158616.077870</td>\n",
       "      <td>сыграть свадьбу</td>\n",
       "    </tr>\n",
       "    <tr>\n",
       "      <th>5</th>\n",
       "      <td>0</td>\n",
       "      <td>-926.185831</td>\n",
       "      <td>27</td>\n",
       "      <td>высшее</td>\n",
       "      <td>0</td>\n",
       "      <td>гражданский брак</td>\n",
       "      <td>1</td>\n",
       "      <td>M</td>\n",
       "      <td>компаньон</td>\n",
       "      <td>0</td>\n",
       "      <td>255763.565419</td>\n",
       "      <td>покупка жилья</td>\n",
       "    </tr>\n",
       "    <tr>\n",
       "      <th>6</th>\n",
       "      <td>0</td>\n",
       "      <td>-2879.202052</td>\n",
       "      <td>43</td>\n",
       "      <td>высшее</td>\n",
       "      <td>0</td>\n",
       "      <td>женат / замужем</td>\n",
       "      <td>0</td>\n",
       "      <td>F</td>\n",
       "      <td>компаньон</td>\n",
       "      <td>0</td>\n",
       "      <td>240525.971920</td>\n",
       "      <td>операции с жильем</td>\n",
       "    </tr>\n",
       "    <tr>\n",
       "      <th>7</th>\n",
       "      <td>0</td>\n",
       "      <td>-152.779569</td>\n",
       "      <td>50</td>\n",
       "      <td>СРЕДНЕЕ</td>\n",
       "      <td>1</td>\n",
       "      <td>женат / замужем</td>\n",
       "      <td>0</td>\n",
       "      <td>M</td>\n",
       "      <td>сотрудник</td>\n",
       "      <td>0</td>\n",
       "      <td>135823.934197</td>\n",
       "      <td>образование</td>\n",
       "    </tr>\n",
       "    <tr>\n",
       "      <th>8</th>\n",
       "      <td>2</td>\n",
       "      <td>-6929.865299</td>\n",
       "      <td>35</td>\n",
       "      <td>ВЫСШЕЕ</td>\n",
       "      <td>0</td>\n",
       "      <td>гражданский брак</td>\n",
       "      <td>1</td>\n",
       "      <td>F</td>\n",
       "      <td>сотрудник</td>\n",
       "      <td>0</td>\n",
       "      <td>95856.832424</td>\n",
       "      <td>на проведение свадьбы</td>\n",
       "    </tr>\n",
       "    <tr>\n",
       "      <th>9</th>\n",
       "      <td>0</td>\n",
       "      <td>-2188.756445</td>\n",
       "      <td>41</td>\n",
       "      <td>среднее</td>\n",
       "      <td>1</td>\n",
       "      <td>женат / замужем</td>\n",
       "      <td>0</td>\n",
       "      <td>M</td>\n",
       "      <td>сотрудник</td>\n",
       "      <td>0</td>\n",
       "      <td>144425.938277</td>\n",
       "      <td>покупка жилья для семьи</td>\n",
       "    </tr>\n",
       "    <tr>\n",
       "      <th>10</th>\n",
       "      <td>2</td>\n",
       "      <td>-4171.483647</td>\n",
       "      <td>36</td>\n",
       "      <td>высшее</td>\n",
       "      <td>0</td>\n",
       "      <td>женат / замужем</td>\n",
       "      <td>0</td>\n",
       "      <td>M</td>\n",
       "      <td>компаньон</td>\n",
       "      <td>0</td>\n",
       "      <td>113943.491460</td>\n",
       "      <td>покупка недвижимости</td>\n",
       "    </tr>\n",
       "    <tr>\n",
       "      <th>11</th>\n",
       "      <td>0</td>\n",
       "      <td>-792.701887</td>\n",
       "      <td>40</td>\n",
       "      <td>среднее</td>\n",
       "      <td>1</td>\n",
       "      <td>женат / замужем</td>\n",
       "      <td>0</td>\n",
       "      <td>F</td>\n",
       "      <td>сотрудник</td>\n",
       "      <td>0</td>\n",
       "      <td>77069.234271</td>\n",
       "      <td>покупка коммерческой недвижимости</td>\n",
       "    </tr>\n",
       "    <tr>\n",
       "      <th>12</th>\n",
       "      <td>0</td>\n",
       "      <td>NaN</td>\n",
       "      <td>65</td>\n",
       "      <td>среднее</td>\n",
       "      <td>1</td>\n",
       "      <td>гражданский брак</td>\n",
       "      <td>1</td>\n",
       "      <td>M</td>\n",
       "      <td>пенсионер</td>\n",
       "      <td>0</td>\n",
       "      <td>NaN</td>\n",
       "      <td>сыграть свадьбу</td>\n",
       "    </tr>\n",
       "    <tr>\n",
       "      <th>13</th>\n",
       "      <td>0</td>\n",
       "      <td>-1846.641941</td>\n",
       "      <td>54</td>\n",
       "      <td>неоконченное высшее</td>\n",
       "      <td>2</td>\n",
       "      <td>женат / замужем</td>\n",
       "      <td>0</td>\n",
       "      <td>F</td>\n",
       "      <td>сотрудник</td>\n",
       "      <td>0</td>\n",
       "      <td>130458.228857</td>\n",
       "      <td>приобретение автомобиля</td>\n",
       "    </tr>\n",
       "    <tr>\n",
       "      <th>14</th>\n",
       "      <td>0</td>\n",
       "      <td>-1844.956182</td>\n",
       "      <td>56</td>\n",
       "      <td>высшее</td>\n",
       "      <td>0</td>\n",
       "      <td>гражданский брак</td>\n",
       "      <td>1</td>\n",
       "      <td>F</td>\n",
       "      <td>компаньон</td>\n",
       "      <td>1</td>\n",
       "      <td>165127.911772</td>\n",
       "      <td>покупка жилой недвижимости</td>\n",
       "    </tr>\n",
       "    <tr>\n",
       "      <th>15</th>\n",
       "      <td>1</td>\n",
       "      <td>-972.364419</td>\n",
       "      <td>26</td>\n",
       "      <td>среднее</td>\n",
       "      <td>1</td>\n",
       "      <td>женат / замужем</td>\n",
       "      <td>0</td>\n",
       "      <td>F</td>\n",
       "      <td>сотрудник</td>\n",
       "      <td>0</td>\n",
       "      <td>116820.904450</td>\n",
       "      <td>строительство собственной недвижимости</td>\n",
       "    </tr>\n",
       "    <tr>\n",
       "      <th>16</th>\n",
       "      <td>0</td>\n",
       "      <td>-1719.934226</td>\n",
       "      <td>35</td>\n",
       "      <td>среднее</td>\n",
       "      <td>1</td>\n",
       "      <td>женат / замужем</td>\n",
       "      <td>0</td>\n",
       "      <td>F</td>\n",
       "      <td>сотрудник</td>\n",
       "      <td>0</td>\n",
       "      <td>289202.704229</td>\n",
       "      <td>недвижимость</td>\n",
       "    </tr>\n",
       "    <tr>\n",
       "      <th>17</th>\n",
       "      <td>0</td>\n",
       "      <td>-2369.999720</td>\n",
       "      <td>33</td>\n",
       "      <td>высшее</td>\n",
       "      <td>0</td>\n",
       "      <td>гражданский брак</td>\n",
       "      <td>1</td>\n",
       "      <td>M</td>\n",
       "      <td>сотрудник</td>\n",
       "      <td>0</td>\n",
       "      <td>90410.586745</td>\n",
       "      <td>строительство недвижимости</td>\n",
       "    </tr>\n",
       "    <tr>\n",
       "      <th>18</th>\n",
       "      <td>0</td>\n",
       "      <td>400281.136913</td>\n",
       "      <td>53</td>\n",
       "      <td>среднее</td>\n",
       "      <td>1</td>\n",
       "      <td>вдовец / вдова</td>\n",
       "      <td>2</td>\n",
       "      <td>F</td>\n",
       "      <td>пенсионер</td>\n",
       "      <td>0</td>\n",
       "      <td>56823.777243</td>\n",
       "      <td>на покупку подержанного автомобиля</td>\n",
       "    </tr>\n",
       "    <tr>\n",
       "      <th>19</th>\n",
       "      <td>0</td>\n",
       "      <td>-10038.818549</td>\n",
       "      <td>48</td>\n",
       "      <td>СРЕДНЕЕ</td>\n",
       "      <td>1</td>\n",
       "      <td>в разводе</td>\n",
       "      <td>3</td>\n",
       "      <td>F</td>\n",
       "      <td>сотрудник</td>\n",
       "      <td>0</td>\n",
       "      <td>242831.107982</td>\n",
       "      <td>на покупку своего автомобиля</td>\n",
       "    </tr>\n",
       "  </tbody>\n",
       "</table>\n",
       "</div>"
      ],
      "text/plain": [
       "    children  days_employed  dob_years            education  education_id  \\\n",
       "0          1   -8437.673028         42               высшее             0   \n",
       "1          1   -4024.803754         36              среднее             1   \n",
       "2          0   -5623.422610         33              Среднее             1   \n",
       "3          3   -4124.747207         32              среднее             1   \n",
       "4          0  340266.072047         53              среднее             1   \n",
       "5          0    -926.185831         27               высшее             0   \n",
       "6          0   -2879.202052         43               высшее             0   \n",
       "7          0    -152.779569         50              СРЕДНЕЕ             1   \n",
       "8          2   -6929.865299         35               ВЫСШЕЕ             0   \n",
       "9          0   -2188.756445         41              среднее             1   \n",
       "10         2   -4171.483647         36               высшее             0   \n",
       "11         0    -792.701887         40              среднее             1   \n",
       "12         0            NaN         65              среднее             1   \n",
       "13         0   -1846.641941         54  неоконченное высшее             2   \n",
       "14         0   -1844.956182         56               высшее             0   \n",
       "15         1    -972.364419         26              среднее             1   \n",
       "16         0   -1719.934226         35              среднее             1   \n",
       "17         0   -2369.999720         33               высшее             0   \n",
       "18         0  400281.136913         53              среднее             1   \n",
       "19         0  -10038.818549         48              СРЕДНЕЕ             1   \n",
       "\n",
       "       family_status  family_status_id gender income_type  debt  \\\n",
       "0    женат / замужем                 0      F   сотрудник     0   \n",
       "1    женат / замужем                 0      F   сотрудник     0   \n",
       "2    женат / замужем                 0      M   сотрудник     0   \n",
       "3    женат / замужем                 0      M   сотрудник     0   \n",
       "4   гражданский брак                 1      F   пенсионер     0   \n",
       "5   гражданский брак                 1      M   компаньон     0   \n",
       "6    женат / замужем                 0      F   компаньон     0   \n",
       "7    женат / замужем                 0      M   сотрудник     0   \n",
       "8   гражданский брак                 1      F   сотрудник     0   \n",
       "9    женат / замужем                 0      M   сотрудник     0   \n",
       "10   женат / замужем                 0      M   компаньон     0   \n",
       "11   женат / замужем                 0      F   сотрудник     0   \n",
       "12  гражданский брак                 1      M   пенсионер     0   \n",
       "13   женат / замужем                 0      F   сотрудник     0   \n",
       "14  гражданский брак                 1      F   компаньон     1   \n",
       "15   женат / замужем                 0      F   сотрудник     0   \n",
       "16   женат / замужем                 0      F   сотрудник     0   \n",
       "17  гражданский брак                 1      M   сотрудник     0   \n",
       "18    вдовец / вдова                 2      F   пенсионер     0   \n",
       "19         в разводе                 3      F   сотрудник     0   \n",
       "\n",
       "     total_income                                 purpose  \n",
       "0   253875.639453                           покупка жилья  \n",
       "1   112080.014102                 приобретение автомобиля  \n",
       "2   145885.952297                           покупка жилья  \n",
       "3   267628.550329              дополнительное образование  \n",
       "4   158616.077870                         сыграть свадьбу  \n",
       "5   255763.565419                           покупка жилья  \n",
       "6   240525.971920                       операции с жильем  \n",
       "7   135823.934197                             образование  \n",
       "8    95856.832424                   на проведение свадьбы  \n",
       "9   144425.938277                 покупка жилья для семьи  \n",
       "10  113943.491460                    покупка недвижимости  \n",
       "11   77069.234271       покупка коммерческой недвижимости  \n",
       "12            NaN                         сыграть свадьбу  \n",
       "13  130458.228857                 приобретение автомобиля  \n",
       "14  165127.911772              покупка жилой недвижимости  \n",
       "15  116820.904450  строительство собственной недвижимости  \n",
       "16  289202.704229                            недвижимость  \n",
       "17   90410.586745              строительство недвижимости  \n",
       "18   56823.777243      на покупку подержанного автомобиля  \n",
       "19  242831.107982            на покупку своего автомобиля  "
      ]
     },
     "execution_count": 2,
     "metadata": {},
     "output_type": "execute_result"
    }
   ],
   "source": [
    "data.head(20)"
   ]
  },
  {
   "attachments": {},
   "cell_type": "markdown",
   "id": "f2478b86",
   "metadata": {
    "deletable": false,
    "editable": false,
    "id": "1c12e233",
    "pycharm": {
     "name": "#%% md\n"
    }
   },
   "source": [
    "**Основная информация о датафрейме.**"
   ]
  },
  {
   "cell_type": "code",
   "execution_count": 3,
   "id": "511d5692",
   "metadata": {},
   "outputs": [
    {
     "name": "stdout",
     "output_type": "stream",
     "text": [
      "<class 'pandas.core.frame.DataFrame'>\n",
      "RangeIndex: 21525 entries, 0 to 21524\n",
      "Data columns (total 12 columns):\n",
      " #   Column            Non-Null Count  Dtype  \n",
      "---  ------            --------------  -----  \n",
      " 0   children          21525 non-null  int64  \n",
      " 1   days_employed     19351 non-null  float64\n",
      " 2   dob_years         21525 non-null  int64  \n",
      " 3   education         21525 non-null  object \n",
      " 4   education_id      21525 non-null  int64  \n",
      " 5   family_status     21525 non-null  object \n",
      " 6   family_status_id  21525 non-null  int64  \n",
      " 7   gender            21525 non-null  object \n",
      " 8   income_type       21525 non-null  object \n",
      " 9   debt              21525 non-null  int64  \n",
      " 10  total_income      19351 non-null  float64\n",
      " 11  purpose           21525 non-null  object \n",
      "dtypes: float64(2), int64(5), object(5)\n",
      "memory usage: 2.0+ MB\n"
     ]
    }
   ],
   "source": [
    "data.info()"
   ]
  },
  {
   "attachments": {},
   "cell_type": "markdown",
   "id": "33b3de28",
   "metadata": {},
   "source": [
    "## 2. <a id='toc2_'></a>[Предобработка данных](#toc0_)"
   ]
  },
  {
   "attachments": {},
   "cell_type": "markdown",
   "id": "68249c39",
   "metadata": {},
   "source": [
    "### 2.1. <a id='toc2_1_'></a>[Удаление пропусков](#toc0_)"
   ]
  },
  {
   "attachments": {},
   "cell_type": "markdown",
   "id": "e6a566f8",
   "metadata": {
    "deletable": false,
    "editable": false,
    "id": "cd84967c",
    "pycharm": {
     "name": "#%% md\n"
    }
   },
   "source": [
    "**Количество пропущенных значений для каждого столбца.**"
   ]
  },
  {
   "cell_type": "code",
   "execution_count": 4,
   "id": "6d96b7cd",
   "metadata": {
    "deletable": false,
    "id": "7f9b2309",
    "outputId": "81f4d817-781c-465c-ed15-91ce4446810d",
    "pycharm": {
     "name": "#%%\n"
    }
   },
   "outputs": [
    {
     "data": {
      "text/plain": [
       "children               0\n",
       "days_employed       2174\n",
       "dob_years              0\n",
       "education              0\n",
       "education_id           0\n",
       "family_status          0\n",
       "family_status_id       0\n",
       "gender                 0\n",
       "income_type            0\n",
       "debt                   0\n",
       "total_income        2174\n",
       "purpose                0\n",
       "dtype: int64"
      ]
     },
     "execution_count": 4,
     "metadata": {},
     "output_type": "execute_result"
    }
   ],
   "source": [
    "data.isna().sum()"
   ]
  },
  {
   "attachments": {},
   "cell_type": "markdown",
   "id": "7dc02a27",
   "metadata": {
    "deletable": false,
    "editable": false,
    "id": "db86e27b",
    "pycharm": {
     "name": "#%% md\n"
    }
   },
   "source": [
    "**В двух столбцах есть пропущенные значения. Один из них — `days_employed`. Пропуски в этом столбце будут обработаны на следующем этапе. Другой столбец с пропущенными значениями — `total_income` — хранит данные о доходах. На сумму дохода сильнее всего влияет тип занятости, поэтому заполнить пропуски в этом столбце нужно медианным значением по каждому типу из столбца `income_type`. Например, у человека с типом занятости `сотрудник` пропуск в столбце `total_income` должен быть заполнен медианным доходом среди всех записей с тем же типом.**"
   ]
  },
  {
   "cell_type": "code",
   "execution_count": 5,
   "id": "6fc822c8",
   "metadata": {},
   "outputs": [],
   "source": [
    "for t in data['income_type'].unique():\n",
    "    data.loc[(data['income_type'] == t) & (data['total_income'].isna()), 'total_income'] = \\\n",
    "    data.loc[(data['income_type'] == t), 'total_income'].median()"
   ]
  },
  {
   "attachments": {},
   "cell_type": "markdown",
   "id": "a53df168",
   "metadata": {},
   "source": [
    "### 2.2. <a id='toc2_2_'></a>[Обработка аномальных значений](#toc0_)"
   ]
  },
  {
   "attachments": {},
   "cell_type": "markdown",
   "id": "80de414d",
   "metadata": {
    "deletable": false,
    "editable": false,
    "id": "57964554",
    "pycharm": {
     "name": "#%% md\n"
    }
   },
   "source": [
    "**В данных могут встречаться артефакты (аномалии) — значения, которые не отражают действительность и появились по какой-то ошибке. Таким артефактом будет отрицательное количество дней трудового стажа в столбце `days_employed`. Для реальных данных это нормально. Необходимо обработать значения в этом столбце: заменить все отрицательные значения положительными с помощью метода `abs()`.**"
   ]
  },
  {
   "cell_type": "code",
   "execution_count": 6,
   "id": "6bf6d310",
   "metadata": {
    "deletable": false,
    "id": "f6f055bf",
    "pycharm": {
     "name": "#%%\n"
    }
   },
   "outputs": [],
   "source": [
    "data['days_employed'] = data['days_employed'].abs()"
   ]
  },
  {
   "attachments": {},
   "cell_type": "markdown",
   "id": "1a1528a4",
   "metadata": {
    "deletable": false,
    "editable": false,
    "id": "6107dd2f",
    "pycharm": {
     "name": "#%% md\n"
    }
   },
   "source": [
    "**Медианное значение трудового стажа для каждого типа занятости `days_employed` в днях.**"
   ]
  },
  {
   "cell_type": "code",
   "execution_count": 7,
   "id": "0c5e0fed",
   "metadata": {
    "deletable": false,
    "id": "85a5faf6",
    "outputId": "801ef80e-522b-4668-f34e-565af7432bcf",
    "pycharm": {
     "name": "#%%\n"
    }
   },
   "outputs": [
    {
     "data": {
      "text/plain": [
       "income_type\n",
       "безработный        366413.652744\n",
       "в декрете            3296.759962\n",
       "госслужащий          2689.368353\n",
       "компаньон            1547.382223\n",
       "пенсионер          365213.306266\n",
       "предприниматель       520.848083\n",
       "сотрудник            1574.202821\n",
       "студент               578.751554\n",
       "Name: days_employed, dtype: float64"
      ]
     },
     "execution_count": 7,
     "metadata": {},
     "output_type": "execute_result"
    }
   ],
   "source": [
    "data.groupby('income_type')['days_employed'].agg('median')"
   ]
  },
  {
   "attachments": {},
   "cell_type": "markdown",
   "id": "7ae70a8a",
   "metadata": {
    "deletable": false,
    "editable": false,
    "id": "38d1a030",
    "pycharm": {
     "name": "#%% md\n"
    }
   },
   "source": [
    "У двух типов (безработные и пенсионеры) получатся аномально большие значения. Исправить такие значения сложно, поэтому оставим их как есть. Тем более этот столбец не понадобится для исследования."
   ]
  },
  {
   "attachments": {},
   "cell_type": "markdown",
   "id": "156b7d59",
   "metadata": {
    "deletable": false,
    "editable": false,
    "id": "d8a9f147",
    "pycharm": {
     "name": "#%% md\n"
    }
   },
   "source": [
    "**Выведем перечень уникальных значений столбца `children`.**"
   ]
  },
  {
   "cell_type": "code",
   "execution_count": 8,
   "id": "c20e7d62",
   "metadata": {
    "deletable": false,
    "id": "ef5056eb",
    "outputId": "6975b15c-7f95-4697-d16d-a0c79b657b03",
    "pycharm": {
     "name": "#%%\n"
    }
   },
   "outputs": [
    {
     "data": {
      "text/plain": [
       "array([ 1,  0,  3,  2, -1,  4, 20,  5], dtype=int64)"
      ]
     },
     "execution_count": 8,
     "metadata": {},
     "output_type": "execute_result"
    }
   ],
   "source": [
    "data['children'].unique()"
   ]
  },
  {
   "attachments": {},
   "cell_type": "markdown",
   "id": "54c1207f",
   "metadata": {
    "deletable": false,
    "editable": false,
    "id": "40b9ebf2",
    "pycharm": {
     "name": "#%% md\n"
    }
   },
   "source": [
    "**В столбце `children` есть два аномальных значения. Удалим строки, в которых встречаются такие аномальные значения из датафрейма `data`.**"
   ]
  },
  {
   "cell_type": "code",
   "execution_count": 9,
   "id": "cd2356c3",
   "metadata": {
    "deletable": false,
    "id": "3ff9801d",
    "pycharm": {
     "name": "#%%\n"
    }
   },
   "outputs": [],
   "source": [
    "data = data[(data['children'] != -1) & (data['children'] != 20)]"
   ]
  },
  {
   "attachments": {},
   "cell_type": "markdown",
   "id": "71862139",
   "metadata": {
    "deletable": false,
    "editable": false,
    "id": "bbc4d0ce",
    "pycharm": {
     "name": "#%% md\n"
    }
   },
   "source": [
    "**Ещё раз выведем перечень уникальных значений столбца `children`, чтобы убедиться, что артефакты удалены.**"
   ]
  },
  {
   "cell_type": "code",
   "execution_count": 10,
   "id": "54bbbdde",
   "metadata": {},
   "outputs": [
    {
     "data": {
      "text/plain": [
       "array([1, 0, 3, 2, 4, 5], dtype=int64)"
      ]
     },
     "execution_count": 10,
     "metadata": {},
     "output_type": "execute_result"
    }
   ],
   "source": [
    "data['children'].unique()"
   ]
  },
  {
   "attachments": {},
   "cell_type": "markdown",
   "id": "264f8570",
   "metadata": {},
   "source": [
    "### 2.3. <a id='toc2_3_'></a>[Удаление пропусков (продолжение)](#toc0_)"
   ]
  },
  {
   "attachments": {},
   "cell_type": "markdown",
   "id": "cad0b6c9",
   "metadata": {
    "deletable": false,
    "editable": false,
    "id": "f4ea573f",
    "pycharm": {
     "name": "#%% md\n"
    }
   },
   "source": [
    "**Заполним пропуски в столбце `days_employed` медианными значениями по каждому типу занятости `income_type`.**"
   ]
  },
  {
   "cell_type": "code",
   "execution_count": 11,
   "id": "7c83f80f",
   "metadata": {
    "deletable": false,
    "id": "af6b1a7e",
    "pycharm": {
     "name": "#%%\n"
    }
   },
   "outputs": [],
   "source": [
    "for t in data['income_type'].unique():\n",
    "    data.loc[(data['income_type'] == t) & (data['days_employed'].isna()), 'days_employed'] = \\\n",
    "    data.loc[(data['income_type'] == t), 'days_employed'].median()"
   ]
  },
  {
   "attachments": {},
   "cell_type": "markdown",
   "id": "3b03fc66",
   "metadata": {
    "deletable": false,
    "editable": false,
    "id": "2753f40d",
    "pycharm": {
     "name": "#%% md\n"
    }
   },
   "source": [
    "**Убедимся, что все пропуски заполнены. Проверим себя и ещё раз выведите количество пропущенных значений для каждого столбца.**"
   ]
  },
  {
   "cell_type": "code",
   "execution_count": 12,
   "id": "e9fd4efb",
   "metadata": {},
   "outputs": [
    {
     "data": {
      "text/plain": [
       "children            0\n",
       "days_employed       0\n",
       "dob_years           0\n",
       "education           0\n",
       "education_id        0\n",
       "family_status       0\n",
       "family_status_id    0\n",
       "gender              0\n",
       "income_type         0\n",
       "debt                0\n",
       "total_income        0\n",
       "purpose             0\n",
       "dtype: int64"
      ]
     },
     "execution_count": 12,
     "metadata": {},
     "output_type": "execute_result"
    }
   ],
   "source": [
    "data.isna().sum()"
   ]
  },
  {
   "attachments": {},
   "cell_type": "markdown",
   "id": "f0bf581b",
   "metadata": {},
   "source": [
    "### 2.4. <a id='toc2_4_'></a>[Изменение типов данных](#toc0_)"
   ]
  },
  {
   "attachments": {},
   "cell_type": "markdown",
   "id": "2d4ff00d",
   "metadata": {
    "deletable": false,
    "editable": false,
    "id": "42d19d24",
    "pycharm": {
     "name": "#%% md\n"
    }
   },
   "source": [
    "**Заменим вещественный тип данных в столбце `total_income` на целочисленный с помощью метода `astype()`.**"
   ]
  },
  {
   "cell_type": "code",
   "execution_count": 13,
   "id": "e347aead",
   "metadata": {},
   "outputs": [],
   "source": [
    "data['total_income'] = data['total_income'].astype(int)"
   ]
  },
  {
   "attachments": {},
   "cell_type": "markdown",
   "id": "0b0af167",
   "metadata": {},
   "source": [
    "### 2.5. <a id='toc2_5_'></a>[Обработка дубликатов](#toc0_)"
   ]
  },
  {
   "attachments": {},
   "cell_type": "markdown",
   "id": "aa8eb23f",
   "metadata": {
    "deletable": false,
    "editable": false,
    "pycharm": {
     "name": "#%% md\n"
    }
   },
   "source": [
    "**Обработаем неявные дубликаты в столбце `education`. В этом столбце есть одни и те же значения, но записанные по-разному: с использованием заглавных и строчных букв. Приведём их к нижнему регистру.**"
   ]
  },
  {
   "cell_type": "code",
   "execution_count": 14,
   "id": "4d133259",
   "metadata": {
    "deletable": false,
    "pycharm": {
     "name": "#%%\n"
    }
   },
   "outputs": [],
   "source": [
    "data['education'] = data['education'].str.lower()"
   ]
  },
  {
   "attachments": {},
   "cell_type": "markdown",
   "id": "2fa64e45",
   "metadata": {
    "deletable": false,
    "editable": false,
    "id": "dc587695",
    "pycharm": {
     "name": "#%% md\n"
    }
   },
   "source": [
    "**Выведем на экран количество строк-дубликатов в данных. Если такие строки присутствуют, удалим их.**"
   ]
  },
  {
   "cell_type": "code",
   "execution_count": 15,
   "id": "de8a8e35",
   "metadata": {
    "deletable": false,
    "id": "3ee445e4",
    "outputId": "9684deba-1934-42d1-99e1-cda61740f822",
    "pycharm": {
     "name": "#%%\n"
    }
   },
   "outputs": [
    {
     "data": {
      "text/plain": [
       "71"
      ]
     },
     "execution_count": 15,
     "metadata": {},
     "output_type": "execute_result"
    }
   ],
   "source": [
    "data.duplicated().sum()"
   ]
  },
  {
   "cell_type": "code",
   "execution_count": 16,
   "id": "81a6d7fc",
   "metadata": {},
   "outputs": [],
   "source": [
    "data = data.drop_duplicates()"
   ]
  },
  {
   "attachments": {},
   "cell_type": "markdown",
   "id": "4af27f53",
   "metadata": {},
   "source": [
    "### 2.6. <a id='toc2_6_'></a>[Категоризация данных](#toc0_)"
   ]
  },
  {
   "attachments": {},
   "cell_type": "markdown",
   "id": "d19ab37b",
   "metadata": {
    "deletable": false,
    "editable": false,
    "id": "72fcc8a2",
    "pycharm": {
     "name": "#%% md\n"
    }
   },
   "source": [
    "**На основании диапазонов, указанных ниже, создадим в датафрейме `data` столбец `total_income_category` с категориями:**\n",
    "\n",
    "- 0–30000 — `'E'`;\n",
    "- 30001–50000 — `'D'`;\n",
    "- 50001–200000 — `'C'`;\n",
    "- 200001–1000000 — `'B'`;\n",
    "- 1000001 и выше — `'A'`.\n",
    "\n",
    "\n",
    "**Например, кредитополучателю с доходом 25000 нужно назначить категорию `'E'`, а клиенту, получающему 235000, — `'B'`. Используем собственную функцию с именем `categorize_income()` и метод `apply()`.**"
   ]
  },
  {
   "cell_type": "code",
   "execution_count": 17,
   "id": "832a5bee",
   "metadata": {
    "deletable": false,
    "id": "e1771346",
    "pycharm": {
     "name": "#%%\n"
    }
   },
   "outputs": [],
   "source": [
    "def categorize_income(income):\n",
    "        if 0 <= income <= 30000:\n",
    "            return 'E'\n",
    "        elif 30001 <= income <= 50000:\n",
    "            return 'D'\n",
    "        elif 50001 <= income <= 200000:\n",
    "            return 'C'\n",
    "        elif 200001 <= income <= 1000000:\n",
    "            return 'B'\n",
    "        elif income >= 1000001:\n",
    "            return 'A'"
   ]
  },
  {
   "cell_type": "code",
   "execution_count": 18,
   "id": "bf0ec2de",
   "metadata": {
    "deletable": false,
    "id": "d5f3586d",
    "pycharm": {
     "name": "#%%\n"
    }
   },
   "outputs": [],
   "source": [
    "data['total_income_category'] = data['total_income'].apply(categorize_income)"
   ]
  },
  {
   "attachments": {},
   "cell_type": "markdown",
   "id": "519a08b9",
   "metadata": {
    "deletable": false,
    "editable": false,
    "id": "dde49b5c",
    "pycharm": {
     "name": "#%% md\n"
    }
   },
   "source": [
    "**Выведем на экран перечень уникальных целей взятия кредита из столбца `purpose`.**"
   ]
  },
  {
   "cell_type": "code",
   "execution_count": 19,
   "id": "1305b6ea",
   "metadata": {
    "deletable": false,
    "id": "f67ce9b3",
    "outputId": "673c12d9-7d7e-4ae0-9812-c622c89dd244",
    "pycharm": {
     "name": "#%%\n"
    }
   },
   "outputs": [
    {
     "data": {
      "text/plain": [
       "array(['покупка жилья', 'приобретение автомобиля',\n",
       "       'дополнительное образование', 'сыграть свадьбу',\n",
       "       'операции с жильем', 'образование', 'на проведение свадьбы',\n",
       "       'покупка жилья для семьи', 'покупка недвижимости',\n",
       "       'покупка коммерческой недвижимости', 'покупка жилой недвижимости',\n",
       "       'строительство собственной недвижимости', 'недвижимость',\n",
       "       'строительство недвижимости', 'на покупку подержанного автомобиля',\n",
       "       'на покупку своего автомобиля',\n",
       "       'операции с коммерческой недвижимостью',\n",
       "       'строительство жилой недвижимости', 'жилье',\n",
       "       'операции со своей недвижимостью', 'автомобили',\n",
       "       'заняться образованием', 'сделка с подержанным автомобилем',\n",
       "       'получение образования', 'автомобиль', 'свадьба',\n",
       "       'получение дополнительного образования', 'покупка своего жилья',\n",
       "       'операции с недвижимостью', 'получение высшего образования',\n",
       "       'свой автомобиль', 'сделка с автомобилем',\n",
       "       'профильное образование', 'высшее образование',\n",
       "       'покупка жилья для сдачи', 'на покупку автомобиля', 'ремонт жилью',\n",
       "       'заняться высшим образованием'], dtype=object)"
      ]
     },
     "execution_count": 19,
     "metadata": {},
     "output_type": "execute_result"
    }
   ],
   "source": [
    "data['purpose'].unique()"
   ]
  },
  {
   "attachments": {},
   "cell_type": "markdown",
   "id": "b77f70f8",
   "metadata": {
    "deletable": false,
    "editable": false,
    "id": "85d0aef0",
    "pycharm": {
     "name": "#%% md\n"
    }
   },
   "source": [
    "**Создадим функцию, которая на основании данных из столбца `purpose` сформирует новый столбец `purpose_category`, в который войдут следующие категории:**\n",
    "\n",
    "- `'операции с автомобилем'`,\n",
    "- `'операции с недвижимостью'`,\n",
    "- `'проведение свадьбы'`,\n",
    "- `'получение образования'`.\n",
    "\n",
    "**Например, если в столбце `purpose` находится подстрока `'на покупку автомобиля'`, то в столбце `purpose_category` должна появиться строка `'операции с автомобилем'`.**\n",
    "\n",
    "**Используем собственную функцию с именем `categorize_purpose()` и метод `apply()`. Изучим данные в столбце `purpose` и определим, какие подстроки помогут правильно определить категорию.**"
   ]
  },
  {
   "cell_type": "code",
   "execution_count": 20,
   "id": "f91f9176",
   "metadata": {
    "deletable": false,
    "id": "e149fab4",
    "pycharm": {
     "name": "#%%\n"
    }
   },
   "outputs": [],
   "source": [
    "def categorize_purpose(row):\n",
    "        if 'автом' in row:\n",
    "            return 'операции с автомобилем'\n",
    "        elif 'жил' in row or 'недвиж' in row:\n",
    "            return 'операции с недвижимостью'\n",
    "        elif 'свад' in row:\n",
    "            return 'проведение свадьбы'\n",
    "        elif 'образов' in row:\n",
    "            return 'получение образования'\n",
    "        return 'нет категории'"
   ]
  },
  {
   "cell_type": "code",
   "execution_count": 21,
   "id": "97ca73ae",
   "metadata": {},
   "outputs": [],
   "source": [
    "data['purpose_category'] = data['purpose'].apply(categorize_purpose)"
   ]
  },
  {
   "attachments": {},
   "cell_type": "markdown",
   "id": "047dd373",
   "metadata": {},
   "source": [
    "## 3. <a id='toc3_'></a>[Исследуем данные и ответим на вопросы](#toc0_)"
   ]
  },
  {
   "attachments": {},
   "cell_type": "markdown",
   "id": "0877c047",
   "metadata": {},
   "source": [
    "### 3.1. <a id='toc3_1_'></a>[Связь между количеством детей и возвратом кредита в срок](#toc0_)"
   ]
  },
  {
   "attachments": {},
   "cell_type": "markdown",
   "id": "462f02b8",
   "metadata": {
    "pycharm": {
     "name": "#%% md\n"
    }
   },
   "source": [
    "**Напишем функцию, создающую сводную таблицу по заданному столбцу.**"
   ]
  },
  {
   "cell_type": "code",
   "execution_count": 22,
   "id": "cc146e17",
   "metadata": {
    "pycharm": {
     "name": "#%%\n"
    }
   },
   "outputs": [],
   "source": [
    "columns_new_names = ['Доля должников', 'Всего кредитополучателей', 'Всего должников']\n",
    "def create_pivot_table(column):\n",
    "    table = pd.pivot_table(data, values='debt', index=column, aggfunc=['mean', 'count', 'sum'])\n",
    "    table.columns = pd.Index(columns_new_names)\n",
    "    return table"
   ]
  },
  {
   "attachments": {},
   "cell_type": "markdown",
   "id": "e92ba112",
   "metadata": {
    "pycharm": {
     "name": "#%% md\n"
    }
   },
   "source": [
    "**Сгруппируем заёмщиков в зависимости от количества детей:\n",
    "`count` - общее количество заёмщиков\n",
    "`sum` - общее число должников\n",
    "`mean` - относительное число должников**"
   ]
  },
  {
   "cell_type": "code",
   "execution_count": 23,
   "id": "42a0efd0",
   "metadata": {
    "deletable": false,
    "id": "2cacfc4a",
    "pycharm": {
     "name": "#%%\n"
    }
   },
   "outputs": [
    {
     "data": {
      "text/html": [
       "<div>\n",
       "<style scoped>\n",
       "    .dataframe tbody tr th:only-of-type {\n",
       "        vertical-align: middle;\n",
       "    }\n",
       "\n",
       "    .dataframe tbody tr th {\n",
       "        vertical-align: top;\n",
       "    }\n",
       "\n",
       "    .dataframe thead th {\n",
       "        text-align: right;\n",
       "    }\n",
       "</style>\n",
       "<table border=\"1\" class=\"dataframe\">\n",
       "  <thead>\n",
       "    <tr style=\"text-align: right;\">\n",
       "      <th></th>\n",
       "      <th>mean</th>\n",
       "      <th>count</th>\n",
       "      <th>sum</th>\n",
       "    </tr>\n",
       "    <tr>\n",
       "      <th>children</th>\n",
       "      <th></th>\n",
       "      <th></th>\n",
       "      <th></th>\n",
       "    </tr>\n",
       "  </thead>\n",
       "  <tbody>\n",
       "    <tr>\n",
       "      <th>0</th>\n",
       "      <td>0.075438</td>\n",
       "      <td>14091</td>\n",
       "      <td>1063</td>\n",
       "    </tr>\n",
       "    <tr>\n",
       "      <th>1</th>\n",
       "      <td>0.092346</td>\n",
       "      <td>4808</td>\n",
       "      <td>444</td>\n",
       "    </tr>\n",
       "    <tr>\n",
       "      <th>2</th>\n",
       "      <td>0.094542</td>\n",
       "      <td>2052</td>\n",
       "      <td>194</td>\n",
       "    </tr>\n",
       "    <tr>\n",
       "      <th>3</th>\n",
       "      <td>0.081818</td>\n",
       "      <td>330</td>\n",
       "      <td>27</td>\n",
       "    </tr>\n",
       "    <tr>\n",
       "      <th>4</th>\n",
       "      <td>0.097561</td>\n",
       "      <td>41</td>\n",
       "      <td>4</td>\n",
       "    </tr>\n",
       "    <tr>\n",
       "      <th>5</th>\n",
       "      <td>0.000000</td>\n",
       "      <td>9</td>\n",
       "      <td>0</td>\n",
       "    </tr>\n",
       "  </tbody>\n",
       "</table>\n",
       "</div>"
      ],
      "text/plain": [
       "              mean  count   sum\n",
       "children                       \n",
       "0         0.075438  14091  1063\n",
       "1         0.092346   4808   444\n",
       "2         0.094542   2052   194\n",
       "3         0.081818    330    27\n",
       "4         0.097561     41     4\n",
       "5         0.000000      9     0"
      ]
     },
     "metadata": {},
     "output_type": "display_data"
    }
   ],
   "source": [
    "# Группировка и подсчёт\n",
    "data_children_grouped = data.groupby('children')['debt'].agg(['mean', 'count', 'sum'])\n",
    "display(data_children_grouped)"
   ]
  },
  {
   "attachments": {},
   "cell_type": "markdown",
   "id": "3994741d",
   "metadata": {
    "pycharm": {
     "name": "#%% md\n"
    }
   },
   "source": [
    "**Т.к. данных по многодетным (3 и более детей) относительно немного, выделим их в отдельную группу и вычислим среднее число должников.**"
   ]
  },
  {
   "cell_type": "code",
   "execution_count": 24,
   "id": "e248630e",
   "metadata": {
    "pycharm": {
     "name": "#%%\n"
    }
   },
   "outputs": [
    {
     "data": {
      "text/plain": [
       "0.08157894736842106"
      ]
     },
     "execution_count": 24,
     "metadata": {},
     "output_type": "execute_result"
    }
   ],
   "source": [
    "data_children_grouped[3:].sum()['sum'] / data_children_grouped[3:].sum()['count']"
   ]
  },
  {
   "attachments": {},
   "cell_type": "markdown",
   "id": "f43b5d5c",
   "metadata": {
    "pycharm": {
     "name": "#%% md\n"
    }
   },
   "source": [
    "**Представим результат в виде сводной таблицы.**"
   ]
  },
  {
   "cell_type": "code",
   "execution_count": 25,
   "id": "f74d797a",
   "metadata": {
    "pycharm": {
     "name": "#%%\n"
    }
   },
   "outputs": [
    {
     "data": {
      "text/html": [
       "<div>\n",
       "<style scoped>\n",
       "    .dataframe tbody tr th:only-of-type {\n",
       "        vertical-align: middle;\n",
       "    }\n",
       "\n",
       "    .dataframe tbody tr th {\n",
       "        vertical-align: top;\n",
       "    }\n",
       "\n",
       "    .dataframe thead th {\n",
       "        text-align: right;\n",
       "    }\n",
       "</style>\n",
       "<table border=\"1\" class=\"dataframe\">\n",
       "  <thead>\n",
       "    <tr style=\"text-align: right;\">\n",
       "      <th></th>\n",
       "      <th>Доля должников</th>\n",
       "      <th>Всего кредитополучателей</th>\n",
       "      <th>Всего должников</th>\n",
       "    </tr>\n",
       "    <tr>\n",
       "      <th>children</th>\n",
       "      <th></th>\n",
       "      <th></th>\n",
       "      <th></th>\n",
       "    </tr>\n",
       "  </thead>\n",
       "  <tbody>\n",
       "    <tr>\n",
       "      <th>0</th>\n",
       "      <td>0.075438</td>\n",
       "      <td>14091</td>\n",
       "      <td>1063</td>\n",
       "    </tr>\n",
       "    <tr>\n",
       "      <th>1</th>\n",
       "      <td>0.092346</td>\n",
       "      <td>4808</td>\n",
       "      <td>444</td>\n",
       "    </tr>\n",
       "    <tr>\n",
       "      <th>2</th>\n",
       "      <td>0.094542</td>\n",
       "      <td>2052</td>\n",
       "      <td>194</td>\n",
       "    </tr>\n",
       "    <tr>\n",
       "      <th>3</th>\n",
       "      <td>0.081818</td>\n",
       "      <td>330</td>\n",
       "      <td>27</td>\n",
       "    </tr>\n",
       "    <tr>\n",
       "      <th>4</th>\n",
       "      <td>0.097561</td>\n",
       "      <td>41</td>\n",
       "      <td>4</td>\n",
       "    </tr>\n",
       "    <tr>\n",
       "      <th>5</th>\n",
       "      <td>0.000000</td>\n",
       "      <td>9</td>\n",
       "      <td>0</td>\n",
       "    </tr>\n",
       "  </tbody>\n",
       "</table>\n",
       "</div>"
      ],
      "text/plain": [
       "          Доля должников  Всего кредитополучателей  Всего должников\n",
       "children                                                           \n",
       "0               0.075438                     14091             1063\n",
       "1               0.092346                      4808              444\n",
       "2               0.094542                      2052              194\n",
       "3               0.081818                       330               27\n",
       "4               0.097561                        41                4\n",
       "5               0.000000                         9                0"
      ]
     },
     "execution_count": 25,
     "metadata": {},
     "output_type": "execute_result"
    }
   ],
   "source": [
    "create_pivot_table(column='children')"
   ]
  },
  {
   "attachments": {},
   "cell_type": "markdown",
   "id": "092c1e9f",
   "metadata": {
    "deletable": false,
    "id": "3a6b99ec",
    "pycharm": {
     "name": "#%% md\n"
    }
   },
   "source": [
    "***Вывод:* *бездетные* возвращают кредит в срок чаще остальных, *многодетные* (3-5 детей) немного реже, а больше всего должников среди *малодетных (1-2 ребёнка).***"
   ]
  },
  {
   "attachments": {},
   "cell_type": "markdown",
   "id": "1c0e3eee",
   "metadata": {},
   "source": [
    "### 3.2. <a id='toc3_2_'></a>[Связь между семейным положением и возвратом кредита в срок](#toc0_)"
   ]
  },
  {
   "attachments": {},
   "cell_type": "markdown",
   "id": "77065eb1",
   "metadata": {
    "pycharm": {
     "name": "#%% md\n"
    }
   },
   "source": [
    "**Сгруппируем заёмщиков в зависимости от семейного положения:\n",
    "`count` - общее количество заёмщиков\n",
    "`sum` - общее число должников\n",
    "`mean` - относительное число должников**"
   ]
  },
  {
   "cell_type": "code",
   "execution_count": 26,
   "id": "b741faf1",
   "metadata": {
    "deletable": false,
    "id": "dc3f7ee8",
    "pycharm": {
     "name": "#%%\n"
    }
   },
   "outputs": [
    {
     "data": {
      "text/html": [
       "<div>\n",
       "<style scoped>\n",
       "    .dataframe tbody tr th:only-of-type {\n",
       "        vertical-align: middle;\n",
       "    }\n",
       "\n",
       "    .dataframe tbody tr th {\n",
       "        vertical-align: top;\n",
       "    }\n",
       "\n",
       "    .dataframe thead th {\n",
       "        text-align: right;\n",
       "    }\n",
       "</style>\n",
       "<table border=\"1\" class=\"dataframe\">\n",
       "  <thead>\n",
       "    <tr style=\"text-align: right;\">\n",
       "      <th></th>\n",
       "      <th>mean</th>\n",
       "      <th>count</th>\n",
       "      <th>sum</th>\n",
       "    </tr>\n",
       "    <tr>\n",
       "      <th>family_status</th>\n",
       "      <th></th>\n",
       "      <th></th>\n",
       "      <th></th>\n",
       "    </tr>\n",
       "  </thead>\n",
       "  <tbody>\n",
       "    <tr>\n",
       "      <th>вдовец / вдова</th>\n",
       "      <td>0.066246</td>\n",
       "      <td>951</td>\n",
       "      <td>63</td>\n",
       "    </tr>\n",
       "    <tr>\n",
       "      <th>в разводе</th>\n",
       "      <td>0.070648</td>\n",
       "      <td>1189</td>\n",
       "      <td>84</td>\n",
       "    </tr>\n",
       "    <tr>\n",
       "      <th>женат / замужем</th>\n",
       "      <td>0.075606</td>\n",
       "      <td>12261</td>\n",
       "      <td>927</td>\n",
       "    </tr>\n",
       "    <tr>\n",
       "      <th>гражданский брак</th>\n",
       "      <td>0.093130</td>\n",
       "      <td>4134</td>\n",
       "      <td>385</td>\n",
       "    </tr>\n",
       "    <tr>\n",
       "      <th>Не женат / не замужем</th>\n",
       "      <td>0.097639</td>\n",
       "      <td>2796</td>\n",
       "      <td>273</td>\n",
       "    </tr>\n",
       "  </tbody>\n",
       "</table>\n",
       "</div>"
      ],
      "text/plain": [
       "                           mean  count  sum\n",
       "family_status                              \n",
       "вдовец / вдова         0.066246    951   63\n",
       "в разводе              0.070648   1189   84\n",
       "женат / замужем        0.075606  12261  927\n",
       "гражданский брак       0.093130   4134  385\n",
       "Не женат / не замужем  0.097639   2796  273"
      ]
     },
     "execution_count": 26,
     "metadata": {},
     "output_type": "execute_result"
    }
   ],
   "source": [
    "# Группировка и подсчёт\n",
    "data.groupby('family_status')['debt'].agg(['mean','count', 'sum']).sort_values(by='mean')"
   ]
  },
  {
   "attachments": {},
   "cell_type": "markdown",
   "id": "15d0ab41",
   "metadata": {
    "pycharm": {
     "name": "#%% md\n"
    }
   },
   "source": [
    "**Представим результат в виде сводной таблицы.**"
   ]
  },
  {
   "cell_type": "code",
   "execution_count": 27,
   "id": "da52caf5",
   "metadata": {
    "pycharm": {
     "name": "#%%\n"
    }
   },
   "outputs": [
    {
     "data": {
      "text/html": [
       "<div>\n",
       "<style scoped>\n",
       "    .dataframe tbody tr th:only-of-type {\n",
       "        vertical-align: middle;\n",
       "    }\n",
       "\n",
       "    .dataframe tbody tr th {\n",
       "        vertical-align: top;\n",
       "    }\n",
       "\n",
       "    .dataframe thead th {\n",
       "        text-align: right;\n",
       "    }\n",
       "</style>\n",
       "<table border=\"1\" class=\"dataframe\">\n",
       "  <thead>\n",
       "    <tr style=\"text-align: right;\">\n",
       "      <th></th>\n",
       "      <th>Доля должников</th>\n",
       "      <th>Всего кредитополучателей</th>\n",
       "      <th>Всего должников</th>\n",
       "    </tr>\n",
       "    <tr>\n",
       "      <th>family_status</th>\n",
       "      <th></th>\n",
       "      <th></th>\n",
       "      <th></th>\n",
       "    </tr>\n",
       "  </thead>\n",
       "  <tbody>\n",
       "    <tr>\n",
       "      <th>Не женат / не замужем</th>\n",
       "      <td>0.097639</td>\n",
       "      <td>2796</td>\n",
       "      <td>273</td>\n",
       "    </tr>\n",
       "    <tr>\n",
       "      <th>в разводе</th>\n",
       "      <td>0.070648</td>\n",
       "      <td>1189</td>\n",
       "      <td>84</td>\n",
       "    </tr>\n",
       "    <tr>\n",
       "      <th>вдовец / вдова</th>\n",
       "      <td>0.066246</td>\n",
       "      <td>951</td>\n",
       "      <td>63</td>\n",
       "    </tr>\n",
       "    <tr>\n",
       "      <th>гражданский брак</th>\n",
       "      <td>0.093130</td>\n",
       "      <td>4134</td>\n",
       "      <td>385</td>\n",
       "    </tr>\n",
       "    <tr>\n",
       "      <th>женат / замужем</th>\n",
       "      <td>0.075606</td>\n",
       "      <td>12261</td>\n",
       "      <td>927</td>\n",
       "    </tr>\n",
       "  </tbody>\n",
       "</table>\n",
       "</div>"
      ],
      "text/plain": [
       "                       Доля должников  Всего кредитополучателей  \\\n",
       "family_status                                                     \n",
       "Не женат / не замужем        0.097639                      2796   \n",
       "в разводе                    0.070648                      1189   \n",
       "вдовец / вдова               0.066246                       951   \n",
       "гражданский брак             0.093130                      4134   \n",
       "женат / замужем              0.075606                     12261   \n",
       "\n",
       "                       Всего должников  \n",
       "family_status                           \n",
       "Не женат / не замужем              273  \n",
       "в разводе                           84  \n",
       "вдовец / вдова                      63  \n",
       "гражданский брак                   385  \n",
       "женат / замужем                    927  "
      ]
     },
     "execution_count": 27,
     "metadata": {},
     "output_type": "execute_result"
    }
   ],
   "source": [
    "create_pivot_table(column='family_status')"
   ]
  },
  {
   "attachments": {},
   "cell_type": "markdown",
   "id": "96c457f2",
   "metadata": {
    "deletable": false,
    "id": "1cef7837",
    "pycharm": {
     "name": "#%% md\n"
    }
   },
   "source": [
    "***Вывод:* те, кто *состоят (или состояли) в браке*, становятся должниками заметно реже других.**"
   ]
  },
  {
   "attachments": {},
   "cell_type": "markdown",
   "id": "9f77f3a8",
   "metadata": {},
   "source": [
    "### 3.3. <a id='toc3_3_'></a>[Связь между уровнем дохода и возвратом кредита в срок](#toc0_)"
   ]
  },
  {
   "attachments": {},
   "cell_type": "markdown",
   "id": "d0c95387",
   "metadata": {
    "pycharm": {
     "name": "#%% md\n"
    }
   },
   "source": [
    "**Сгруппируем заёмщиков в зависимости от уровня дохода.**"
   ]
  },
  {
   "cell_type": "code",
   "execution_count": 28,
   "id": "b197793f",
   "metadata": {
    "deletable": false,
    "id": "cd7e3720",
    "pycharm": {
     "name": "#%%\n"
    }
   },
   "outputs": [
    {
     "data": {
      "text/html": [
       "<div>\n",
       "<style scoped>\n",
       "    .dataframe tbody tr th:only-of-type {\n",
       "        vertical-align: middle;\n",
       "    }\n",
       "\n",
       "    .dataframe tbody tr th {\n",
       "        vertical-align: top;\n",
       "    }\n",
       "\n",
       "    .dataframe thead th {\n",
       "        text-align: right;\n",
       "    }\n",
       "</style>\n",
       "<table border=\"1\" class=\"dataframe\">\n",
       "  <thead>\n",
       "    <tr style=\"text-align: right;\">\n",
       "      <th></th>\n",
       "      <th>mean</th>\n",
       "      <th>count</th>\n",
       "      <th>sum</th>\n",
       "    </tr>\n",
       "    <tr>\n",
       "      <th>total_income_category</th>\n",
       "      <th></th>\n",
       "      <th></th>\n",
       "      <th></th>\n",
       "    </tr>\n",
       "  </thead>\n",
       "  <tbody>\n",
       "    <tr>\n",
       "      <th>A</th>\n",
       "      <td>0.080000</td>\n",
       "      <td>25</td>\n",
       "      <td>2</td>\n",
       "    </tr>\n",
       "    <tr>\n",
       "      <th>B</th>\n",
       "      <td>0.070602</td>\n",
       "      <td>5014</td>\n",
       "      <td>354</td>\n",
       "    </tr>\n",
       "    <tr>\n",
       "      <th>C</th>\n",
       "      <td>0.084982</td>\n",
       "      <td>15921</td>\n",
       "      <td>1353</td>\n",
       "    </tr>\n",
       "    <tr>\n",
       "      <th>D</th>\n",
       "      <td>0.060172</td>\n",
       "      <td>349</td>\n",
       "      <td>21</td>\n",
       "    </tr>\n",
       "    <tr>\n",
       "      <th>E</th>\n",
       "      <td>0.090909</td>\n",
       "      <td>22</td>\n",
       "      <td>2</td>\n",
       "    </tr>\n",
       "  </tbody>\n",
       "</table>\n",
       "</div>"
      ],
      "text/plain": [
       "                           mean  count   sum\n",
       "total_income_category                       \n",
       "A                      0.080000     25     2\n",
       "B                      0.070602   5014   354\n",
       "C                      0.084982  15921  1353\n",
       "D                      0.060172    349    21\n",
       "E                      0.090909     22     2"
      ]
     },
     "execution_count": 28,
     "metadata": {},
     "output_type": "execute_result"
    }
   ],
   "source": [
    "# Группировка и подсчёт\n",
    "data.groupby('total_income_category')['debt'].agg(['mean', 'count', 'sum'])"
   ]
  },
  {
   "attachments": {},
   "cell_type": "markdown",
   "id": "fd3f028a",
   "metadata": {
    "pycharm": {
     "name": "#%% md\n"
    }
   },
   "source": [
    "**Представим результат в виде сводной таблицы.**"
   ]
  },
  {
   "cell_type": "code",
   "execution_count": 29,
   "id": "63abeab7",
   "metadata": {
    "pycharm": {
     "name": "#%%\n"
    }
   },
   "outputs": [
    {
     "data": {
      "text/html": [
       "<div>\n",
       "<style scoped>\n",
       "    .dataframe tbody tr th:only-of-type {\n",
       "        vertical-align: middle;\n",
       "    }\n",
       "\n",
       "    .dataframe tbody tr th {\n",
       "        vertical-align: top;\n",
       "    }\n",
       "\n",
       "    .dataframe thead th {\n",
       "        text-align: right;\n",
       "    }\n",
       "</style>\n",
       "<table border=\"1\" class=\"dataframe\">\n",
       "  <thead>\n",
       "    <tr style=\"text-align: right;\">\n",
       "      <th></th>\n",
       "      <th>Доля должников</th>\n",
       "      <th>Всего кредитополучателей</th>\n",
       "      <th>Всего должников</th>\n",
       "    </tr>\n",
       "    <tr>\n",
       "      <th>total_income_category</th>\n",
       "      <th></th>\n",
       "      <th></th>\n",
       "      <th></th>\n",
       "    </tr>\n",
       "  </thead>\n",
       "  <tbody>\n",
       "    <tr>\n",
       "      <th>A</th>\n",
       "      <td>0.080000</td>\n",
       "      <td>25</td>\n",
       "      <td>2</td>\n",
       "    </tr>\n",
       "    <tr>\n",
       "      <th>B</th>\n",
       "      <td>0.070602</td>\n",
       "      <td>5014</td>\n",
       "      <td>354</td>\n",
       "    </tr>\n",
       "    <tr>\n",
       "      <th>C</th>\n",
       "      <td>0.084982</td>\n",
       "      <td>15921</td>\n",
       "      <td>1353</td>\n",
       "    </tr>\n",
       "    <tr>\n",
       "      <th>D</th>\n",
       "      <td>0.060172</td>\n",
       "      <td>349</td>\n",
       "      <td>21</td>\n",
       "    </tr>\n",
       "    <tr>\n",
       "      <th>E</th>\n",
       "      <td>0.090909</td>\n",
       "      <td>22</td>\n",
       "      <td>2</td>\n",
       "    </tr>\n",
       "  </tbody>\n",
       "</table>\n",
       "</div>"
      ],
      "text/plain": [
       "                       Доля должников  Всего кредитополучателей  \\\n",
       "total_income_category                                             \n",
       "A                            0.080000                        25   \n",
       "B                            0.070602                      5014   \n",
       "C                            0.084982                     15921   \n",
       "D                            0.060172                       349   \n",
       "E                            0.090909                        22   \n",
       "\n",
       "                       Всего должников  \n",
       "total_income_category                   \n",
       "A                                    2  \n",
       "B                                  354  \n",
       "C                                 1353  \n",
       "D                                   21  \n",
       "E                                    2  "
      ]
     },
     "execution_count": 29,
     "metadata": {},
     "output_type": "execute_result"
    }
   ],
   "source": [
    "create_pivot_table(column='total_income_category')"
   ]
  },
  {
   "attachments": {},
   "cell_type": "markdown",
   "id": "b117664f",
   "metadata": {
    "pycharm": {
     "name": "#%% md\n"
    }
   },
   "source": [
    "**Данных по категориям A, D, E недостаточно, а основываться только на данных о двух категориях - C и D - не совсем корректно. Попробуем разделить категорию C на подкатегории С1, С2, С3 и проверить гипотезу.**"
   ]
  },
  {
   "cell_type": "code",
   "execution_count": 30,
   "id": "c1ab6a09",
   "metadata": {
    "pycharm": {
     "name": "#%%\n"
    }
   },
   "outputs": [
    {
     "data": {
      "text/html": [
       "<div>\n",
       "<style scoped>\n",
       "    .dataframe tbody tr th:only-of-type {\n",
       "        vertical-align: middle;\n",
       "    }\n",
       "\n",
       "    .dataframe tbody tr th {\n",
       "        vertical-align: top;\n",
       "    }\n",
       "\n",
       "    .dataframe thead th {\n",
       "        text-align: right;\n",
       "    }\n",
       "</style>\n",
       "<table border=\"1\" class=\"dataframe\">\n",
       "  <thead>\n",
       "    <tr style=\"text-align: right;\">\n",
       "      <th></th>\n",
       "      <th>Доля должников</th>\n",
       "      <th>Всего кредитополучателей</th>\n",
       "      <th>Всего должников</th>\n",
       "    </tr>\n",
       "    <tr>\n",
       "      <th>subcategory</th>\n",
       "      <th></th>\n",
       "      <th></th>\n",
       "      <th></th>\n",
       "    </tr>\n",
       "  </thead>\n",
       "  <tbody>\n",
       "    <tr>\n",
       "      <th>C3</th>\n",
       "      <td>0.081247</td>\n",
       "      <td>4074</td>\n",
       "      <td>331</td>\n",
       "    </tr>\n",
       "    <tr>\n",
       "      <th>C2</th>\n",
       "      <td>0.087073</td>\n",
       "      <td>7109</td>\n",
       "      <td>619</td>\n",
       "    </tr>\n",
       "    <tr>\n",
       "      <th>C1</th>\n",
       "      <td>0.085057</td>\n",
       "      <td>4738</td>\n",
       "      <td>403</td>\n",
       "    </tr>\n",
       "  </tbody>\n",
       "</table>\n",
       "</div>"
      ],
      "text/plain": [
       "             Доля должников  Всего кредитополучателей  Всего должников\n",
       "subcategory                                                           \n",
       "C3                 0.081247                      4074              331\n",
       "C2                 0.087073                      7109              619\n",
       "C1                 0.085057                      4738              403"
      ]
     },
     "execution_count": 30,
     "metadata": {},
     "output_type": "execute_result"
    }
   ],
   "source": [
    "category_c = data.loc[data['total_income_category'] == 'C']\n",
    "c_subcategories = pd.cut(category_c['total_income'], bins=3, labels=['C3', 'C2', 'C1'])\n",
    "sub_data = pd.DataFrame({'subcategory' : c_subcategories, 'debt' : category_c['debt'] })\n",
    "sub_result = sub_data.groupby('subcategory')['debt'].agg(['mean', 'count', 'sum'])\n",
    "sub_result.columns = pd.Index(['Доля должников', 'Всего кредитополучателей', 'Всего должников'])\n",
    "sub_result"
   ]
  },
  {
   "attachments": {},
   "cell_type": "markdown",
   "id": "42488002",
   "metadata": {
    "pycharm": {
     "name": "#%% md\n"
    }
   },
   "source": [
    "**Число должников в полученных подкатегориях примерно равно.**"
   ]
  },
  {
   "attachments": {},
   "cell_type": "markdown",
   "id": "646c315c",
   "metadata": {
    "pycharm": {
     "name": "#%% md\n"
    }
   },
   "source": [
    "***Вывод:* заёмщики с более высоким уровнем дохода реже становятся должниками**"
   ]
  },
  {
   "attachments": {},
   "cell_type": "markdown",
   "id": "ed768d64",
   "metadata": {},
   "source": [
    "### 3.4. <a id='toc3_4_'></a>[Влияние цели кредита на его возврат в срок](#toc0_)"
   ]
  },
  {
   "attachments": {},
   "cell_type": "markdown",
   "id": "94250360",
   "metadata": {
    "pycharm": {
     "name": "#%% md\n"
    }
   },
   "source": [
    "**Сгруппируем заёмщиков в зависимости от уровня дохода аналогично предыдущим пунктам.**"
   ]
  },
  {
   "cell_type": "code",
   "execution_count": 31,
   "id": "b097949a",
   "metadata": {
    "deletable": false,
    "id": "2b687290",
    "pycharm": {
     "name": "#%%\n"
    }
   },
   "outputs": [
    {
     "data": {
      "text/html": [
       "<div>\n",
       "<style scoped>\n",
       "    .dataframe tbody tr th:only-of-type {\n",
       "        vertical-align: middle;\n",
       "    }\n",
       "\n",
       "    .dataframe tbody tr th {\n",
       "        vertical-align: top;\n",
       "    }\n",
       "\n",
       "    .dataframe thead th {\n",
       "        text-align: right;\n",
       "    }\n",
       "</style>\n",
       "<table border=\"1\" class=\"dataframe\">\n",
       "  <thead>\n",
       "    <tr style=\"text-align: right;\">\n",
       "      <th></th>\n",
       "      <th>mean</th>\n",
       "      <th>count</th>\n",
       "      <th>sum</th>\n",
       "    </tr>\n",
       "    <tr>\n",
       "      <th>purpose_category</th>\n",
       "      <th></th>\n",
       "      <th></th>\n",
       "      <th></th>\n",
       "    </tr>\n",
       "  </thead>\n",
       "  <tbody>\n",
       "    <tr>\n",
       "      <th>операции с недвижимостью</th>\n",
       "      <td>0.072551</td>\n",
       "      <td>10751</td>\n",
       "      <td>780</td>\n",
       "    </tr>\n",
       "    <tr>\n",
       "      <th>проведение свадьбы</th>\n",
       "      <td>0.079118</td>\n",
       "      <td>2313</td>\n",
       "      <td>183</td>\n",
       "    </tr>\n",
       "    <tr>\n",
       "      <th>получение образования</th>\n",
       "      <td>0.092528</td>\n",
       "      <td>3988</td>\n",
       "      <td>369</td>\n",
       "    </tr>\n",
       "    <tr>\n",
       "      <th>операции с автомобилем</th>\n",
       "      <td>0.093480</td>\n",
       "      <td>4279</td>\n",
       "      <td>400</td>\n",
       "    </tr>\n",
       "  </tbody>\n",
       "</table>\n",
       "</div>"
      ],
      "text/plain": [
       "                              mean  count  sum\n",
       "purpose_category                              \n",
       "операции с недвижимостью  0.072551  10751  780\n",
       "проведение свадьбы        0.079118   2313  183\n",
       "получение образования     0.092528   3988  369\n",
       "операции с автомобилем    0.093480   4279  400"
      ]
     },
     "execution_count": 31,
     "metadata": {},
     "output_type": "execute_result"
    }
   ],
   "source": [
    "#Группировка и вычисления\n",
    "data.groupby('purpose_category')['debt'].agg(['mean', 'count', 'sum']).sort_values(by='mean')"
   ]
  },
  {
   "attachments": {},
   "cell_type": "markdown",
   "id": "626a0624",
   "metadata": {
    "pycharm": {
     "name": "#%% md\n"
    }
   },
   "source": [
    "**Представим результат в виде сводной таблицы.**"
   ]
  },
  {
   "cell_type": "code",
   "execution_count": 32,
   "id": "86254931",
   "metadata": {
    "pycharm": {
     "name": "#%%\n"
    }
   },
   "outputs": [
    {
     "data": {
      "text/html": [
       "<div>\n",
       "<style scoped>\n",
       "    .dataframe tbody tr th:only-of-type {\n",
       "        vertical-align: middle;\n",
       "    }\n",
       "\n",
       "    .dataframe tbody tr th {\n",
       "        vertical-align: top;\n",
       "    }\n",
       "\n",
       "    .dataframe thead th {\n",
       "        text-align: right;\n",
       "    }\n",
       "</style>\n",
       "<table border=\"1\" class=\"dataframe\">\n",
       "  <thead>\n",
       "    <tr style=\"text-align: right;\">\n",
       "      <th></th>\n",
       "      <th>Доля должников</th>\n",
       "      <th>Всего кредитополучателей</th>\n",
       "      <th>Всего должников</th>\n",
       "    </tr>\n",
       "    <tr>\n",
       "      <th>purpose_category</th>\n",
       "      <th></th>\n",
       "      <th></th>\n",
       "      <th></th>\n",
       "    </tr>\n",
       "  </thead>\n",
       "  <tbody>\n",
       "    <tr>\n",
       "      <th>операции с автомобилем</th>\n",
       "      <td>0.093480</td>\n",
       "      <td>4279</td>\n",
       "      <td>400</td>\n",
       "    </tr>\n",
       "    <tr>\n",
       "      <th>операции с недвижимостью</th>\n",
       "      <td>0.072551</td>\n",
       "      <td>10751</td>\n",
       "      <td>780</td>\n",
       "    </tr>\n",
       "    <tr>\n",
       "      <th>получение образования</th>\n",
       "      <td>0.092528</td>\n",
       "      <td>3988</td>\n",
       "      <td>369</td>\n",
       "    </tr>\n",
       "    <tr>\n",
       "      <th>проведение свадьбы</th>\n",
       "      <td>0.079118</td>\n",
       "      <td>2313</td>\n",
       "      <td>183</td>\n",
       "    </tr>\n",
       "  </tbody>\n",
       "</table>\n",
       "</div>"
      ],
      "text/plain": [
       "                          Доля должников  Всего кредитополучателей  \\\n",
       "purpose_category                                                     \n",
       "операции с автомобилем          0.093480                      4279   \n",
       "операции с недвижимостью        0.072551                     10751   \n",
       "получение образования           0.092528                      3988   \n",
       "проведение свадьбы              0.079118                      2313   \n",
       "\n",
       "                          Всего должников  \n",
       "purpose_category                           \n",
       "операции с автомобилем                400  \n",
       "операции с недвижимостью              780  \n",
       "получение образования                 369  \n",
       "проведение свадьбы                    183  "
      ]
     },
     "execution_count": 32,
     "metadata": {},
     "output_type": "execute_result"
    }
   ],
   "source": [
    "create_pivot_table(column='purpose_category')"
   ]
  },
  {
   "attachments": {},
   "cell_type": "markdown",
   "id": "07cd0839",
   "metadata": {
    "deletable": false,
    "id": "b4bb2ce6",
    "pycharm": {
     "name": "#%% md\n"
    }
   },
   "source": [
    "***Вывод:* число должников в категориях *операции с недвижимостью* и *проведение свадьбы* меньше, чем в категориях *получение образования* и *операции с автомобилем.***"
   ]
  },
  {
   "attachments": {},
   "cell_type": "markdown",
   "id": "509f81e1",
   "metadata": {},
   "source": [
    "### 3.5. <a id='toc3_5_'></a>[Возможные причины появления пропусков в исходных данных.](#toc0_)"
   ]
  },
  {
   "attachments": {},
   "cell_type": "markdown",
   "id": "59554d1a",
   "metadata": {
    "pycharm": {
     "name": "#%% md\n"
    }
   },
   "source": [
    "***Ответ:* Пропуски в данных могут быть следствием двух факторов:\n",
    "*Человеческий* - люди не предоставили некоторые данные или этого не требовалось\n",
    "*Технический* - возникли ошибки при загрузке и/или выгрузке данных**"
   ]
  },
  {
   "attachments": {},
   "cell_type": "markdown",
   "id": "1403a2d2",
   "metadata": {},
   "source": [
    "## 4. <a id='toc4_'></a>[Общий вывод.](#toc0_)"
   ]
  },
  {
   "attachments": {},
   "cell_type": "markdown",
   "id": "718f7b5a",
   "metadata": {
    "pycharm": {
     "name": "#%% md\n"
    }
   },
   "source": [
    "**Изучен полученный датасет, удалены пропуски и дубликаты, при необходимости типы данных изменены, сами данные категоризованы, высказаны предположения о причинах появления пропусков.\n",
    "По различным типам группировки выявлены наиболее и наименее платёжеспособные категории заёмщиков:**\n",
    "<br>\n",
    "\n",
    "| Тип группировки        | Лучшие плательщики         | Самые частые должники            |\n",
    "|:-----------------------|:---------------------------|:---------------------------------|\n",
    "| По количеству детей    | Бездетные                  | Малодетные (1-2 ребёнка)         |\n",
    "| По семейному положению | Состоят (состояли) в браке | Не состоят (не состояли в браке) |\n",
    "| По уровню дохода       | Высокий доход              | Низкий доход                     |\n",
    "| По цели кредита        | Операции с недвижимостью   | Операции с автомобилем           |"
   ]
  }
 ],
 "metadata": {
  "ExecuteTimeLog": [
   {
    "duration": 719,
    "start_time": "2022-09-24T08:29:55.056Z"
   },
   {
    "duration": 21,
    "start_time": "2022-09-24T08:29:55.777Z"
   },
   {
    "duration": 14,
    "start_time": "2022-09-24T08:29:55.800Z"
   },
   {
    "duration": 8,
    "start_time": "2022-09-24T08:29:55.816Z"
   },
   {
    "duration": 43,
    "start_time": "2022-09-24T08:29:55.826Z"
   },
   {
    "duration": 3,
    "start_time": "2022-09-24T08:29:55.871Z"
   },
   {
    "duration": 10,
    "start_time": "2022-09-24T08:29:55.875Z"
   },
   {
    "duration": 7,
    "start_time": "2022-09-24T08:29:55.886Z"
   },
   {
    "duration": 8,
    "start_time": "2022-09-24T08:29:55.894Z"
   },
   {
    "duration": 4,
    "start_time": "2022-09-24T08:29:55.904Z"
   },
   {
    "duration": 65,
    "start_time": "2022-09-24T08:29:55.909Z"
   },
   {
    "duration": 9,
    "start_time": "2022-09-24T08:29:55.975Z"
   },
   {
    "duration": 6,
    "start_time": "2022-09-24T08:29:55.986Z"
   },
   {
    "duration": 11,
    "start_time": "2022-09-24T08:29:55.994Z"
   },
   {
    "duration": 28,
    "start_time": "2022-09-24T08:29:56.006Z"
   },
   {
    "duration": 32,
    "start_time": "2022-09-24T08:29:56.037Z"
   },
   {
    "duration": 3,
    "start_time": "2022-09-24T08:29:56.071Z"
   },
   {
    "duration": 19,
    "start_time": "2022-09-24T08:29:56.075Z"
   },
   {
    "duration": 32,
    "start_time": "2022-09-24T08:29:56.096Z"
   },
   {
    "duration": 32,
    "start_time": "2022-09-24T08:29:56.130Z"
   },
   {
    "duration": 14,
    "start_time": "2022-09-24T08:29:56.164Z"
   },
   {
    "duration": 6,
    "start_time": "2022-09-24T08:29:56.180Z"
   },
   {
    "duration": 4,
    "start_time": "2022-09-24T08:29:56.187Z"
   },
   {
    "duration": 5,
    "start_time": "2022-09-24T08:29:56.193Z"
   },
   {
    "duration": 15,
    "start_time": "2022-09-24T08:29:56.200Z"
   },
   {
    "duration": 13,
    "start_time": "2022-09-24T08:32:54.255Z"
   },
   {
    "duration": 6,
    "start_time": "2022-09-24T08:36:42.708Z"
   },
   {
    "duration": 473,
    "start_time": "2022-09-24T08:37:00.159Z"
   },
   {
    "duration": 27,
    "start_time": "2022-09-24T08:37:00.644Z"
   },
   {
    "duration": 23,
    "start_time": "2022-09-24T08:37:00.673Z"
   },
   {
    "duration": 24,
    "start_time": "2022-09-24T08:37:00.699Z"
   },
   {
    "duration": 71,
    "start_time": "2022-09-24T08:37:00.724Z"
   },
   {
    "duration": 4,
    "start_time": "2022-09-24T08:37:00.797Z"
   },
   {
    "duration": 30,
    "start_time": "2022-09-24T08:37:00.802Z"
   },
   {
    "duration": 30,
    "start_time": "2022-09-24T08:37:00.834Z"
   },
   {
    "duration": 22,
    "start_time": "2022-09-24T08:37:00.866Z"
   },
   {
    "duration": 22,
    "start_time": "2022-09-24T08:37:00.892Z"
   },
   {
    "duration": 65,
    "start_time": "2022-09-24T08:37:00.916Z"
   },
   {
    "duration": 10,
    "start_time": "2022-09-24T08:37:00.982Z"
   },
   {
    "duration": 16,
    "start_time": "2022-09-24T08:37:00.994Z"
   },
   {
    "duration": 23,
    "start_time": "2022-09-24T08:37:01.011Z"
   },
   {
    "duration": 50,
    "start_time": "2022-09-24T08:37:01.040Z"
   },
   {
    "duration": 45,
    "start_time": "2022-09-24T08:37:01.092Z"
   },
   {
    "duration": 18,
    "start_time": "2022-09-24T08:37:01.143Z"
   },
   {
    "duration": 83,
    "start_time": "2022-09-24T08:37:01.162Z"
   },
   {
    "duration": 32,
    "start_time": "2022-09-24T08:37:01.247Z"
   },
   {
    "duration": 18,
    "start_time": "2022-09-24T08:37:01.281Z"
   },
   {
    "duration": 19,
    "start_time": "2022-09-24T08:37:01.301Z"
   },
   {
    "duration": 10,
    "start_time": "2022-09-24T08:37:01.322Z"
   },
   {
    "duration": 31,
    "start_time": "2022-09-24T08:37:01.336Z"
   },
   {
    "duration": 58,
    "start_time": "2022-09-24T08:37:01.368Z"
   },
   {
    "duration": 28,
    "start_time": "2022-09-24T08:37:01.428Z"
   },
   {
    "duration": 7,
    "start_time": "2022-09-24T08:44:15.105Z"
   },
   {
    "duration": 7,
    "start_time": "2022-09-24T08:44:28.437Z"
   },
   {
    "duration": 8,
    "start_time": "2022-09-24T08:44:39.115Z"
   },
   {
    "duration": 61,
    "start_time": "2022-09-24T08:44:57.345Z"
   },
   {
    "duration": 9,
    "start_time": "2022-09-24T08:45:00.182Z"
   },
   {
    "duration": 8,
    "start_time": "2022-09-24T08:45:05.001Z"
   },
   {
    "duration": 5,
    "start_time": "2022-09-24T08:45:25.326Z"
   },
   {
    "duration": 498,
    "start_time": "2022-09-24T08:45:36.095Z"
   },
   {
    "duration": 820,
    "start_time": "2022-09-24T08:45:48.515Z"
   },
   {
    "duration": 54,
    "start_time": "2022-09-24T08:45:56.239Z"
   },
   {
    "duration": 7,
    "start_time": "2022-09-24T08:46:22.782Z"
   },
   {
    "duration": 6,
    "start_time": "2022-09-24T08:46:39.206Z"
   },
   {
    "duration": 5,
    "start_time": "2022-09-24T08:46:43.684Z"
   },
   {
    "duration": 5,
    "start_time": "2022-09-24T08:48:04.067Z"
   },
   {
    "duration": 7,
    "start_time": "2022-09-24T08:48:58.932Z"
   },
   {
    "duration": 5,
    "start_time": "2022-09-24T08:49:20.135Z"
   },
   {
    "duration": 9,
    "start_time": "2022-09-24T08:49:30.832Z"
   },
   {
    "duration": 664,
    "start_time": "2022-09-24T08:49:42.111Z"
   },
   {
    "duration": 8,
    "start_time": "2022-09-24T08:49:53.359Z"
   },
   {
    "duration": 11,
    "start_time": "2022-09-24T08:50:00.876Z"
   },
   {
    "duration": 6,
    "start_time": "2022-09-24T08:50:06.533Z"
   },
   {
    "duration": 7,
    "start_time": "2022-09-24T08:50:40.918Z"
   },
   {
    "duration": 9,
    "start_time": "2022-09-24T08:53:00.430Z"
   },
   {
    "duration": 12,
    "start_time": "2022-09-24T08:53:11.713Z"
   },
   {
    "duration": 9,
    "start_time": "2022-09-24T08:54:31.273Z"
   },
   {
    "duration": 10,
    "start_time": "2022-09-24T09:00:34.302Z"
   },
   {
    "duration": 11,
    "start_time": "2022-09-24T09:07:42.712Z"
   },
   {
    "duration": 79,
    "start_time": "2022-09-24T09:07:43.412Z"
   },
   {
    "duration": 5,
    "start_time": "2022-09-24T09:14:26.433Z"
   },
   {
    "duration": 4,
    "start_time": "2022-09-24T09:14:46.176Z"
   },
   {
    "duration": 8,
    "start_time": "2022-09-24T09:18:49.709Z"
   },
   {
    "duration": 7,
    "start_time": "2022-09-24T09:19:04.369Z"
   },
   {
    "duration": 7,
    "start_time": "2022-09-24T09:19:10.063Z"
   },
   {
    "duration": 6,
    "start_time": "2022-09-24T09:19:16.924Z"
   },
   {
    "duration": 6,
    "start_time": "2022-09-24T09:19:23.147Z"
   },
   {
    "duration": 7,
    "start_time": "2022-09-24T09:19:26.795Z"
   },
   {
    "duration": 9,
    "start_time": "2022-09-24T09:19:40.748Z"
   },
   {
    "duration": 13,
    "start_time": "2022-09-24T09:19:56.959Z"
   },
   {
    "duration": 10,
    "start_time": "2022-09-24T09:20:17.289Z"
   },
   {
    "duration": 12,
    "start_time": "2022-09-24T09:20:24.723Z"
   },
   {
    "duration": 10,
    "start_time": "2022-09-24T09:20:37.384Z"
   },
   {
    "duration": 10,
    "start_time": "2022-09-24T09:26:21.255Z"
   },
   {
    "duration": 12,
    "start_time": "2022-09-24T09:26:26.170Z"
   },
   {
    "duration": 12,
    "start_time": "2022-09-24T09:26:29.727Z"
   },
   {
    "duration": 12,
    "start_time": "2022-09-24T09:26:35.507Z"
   },
   {
    "duration": 11,
    "start_time": "2022-09-24T09:26:39.867Z"
   },
   {
    "duration": 8,
    "start_time": "2022-09-24T09:31:12.969Z"
   },
   {
    "duration": 10,
    "start_time": "2022-09-24T09:31:23.635Z"
   },
   {
    "duration": 41,
    "start_time": "2022-09-24T09:32:14.120Z"
   },
   {
    "duration": 5,
    "start_time": "2022-09-24T09:36:20.165Z"
   },
   {
    "duration": 4,
    "start_time": "2022-09-24T09:36:42.831Z"
   },
   {
    "duration": 8,
    "start_time": "2022-09-24T09:37:36.427Z"
   },
   {
    "duration": 54,
    "start_time": "2022-09-24T09:39:42.620Z"
   },
   {
    "duration": 11,
    "start_time": "2022-09-24T09:39:59.187Z"
   },
   {
    "duration": 11,
    "start_time": "2022-09-24T09:40:06.776Z"
   },
   {
    "duration": 5,
    "start_time": "2022-09-24T09:41:26.503Z"
   },
   {
    "duration": 5,
    "start_time": "2022-09-24T09:41:31.851Z"
   },
   {
    "duration": 9,
    "start_time": "2022-09-24T09:42:08.286Z"
   },
   {
    "duration": 3,
    "start_time": "2022-09-24T09:44:11.322Z"
   },
   {
    "duration": 6,
    "start_time": "2022-09-24T09:44:32.869Z"
   },
   {
    "duration": 6,
    "start_time": "2022-09-24T09:44:44.827Z"
   },
   {
    "duration": 8,
    "start_time": "2022-09-24T09:44:54.040Z"
   },
   {
    "duration": 6,
    "start_time": "2022-09-24T09:45:04.499Z"
   },
   {
    "duration": 7,
    "start_time": "2022-09-24T09:47:02.909Z"
   },
   {
    "duration": 7,
    "start_time": "2022-09-24T09:52:59.560Z"
   },
   {
    "duration": 7,
    "start_time": "2022-09-24T09:53:06.909Z"
   },
   {
    "duration": 7,
    "start_time": "2022-09-24T09:53:15.743Z"
   },
   {
    "duration": 485,
    "start_time": "2022-09-24T09:55:53.801Z"
   },
   {
    "duration": 22,
    "start_time": "2022-09-24T09:55:54.288Z"
   },
   {
    "duration": 20,
    "start_time": "2022-09-24T09:55:54.312Z"
   },
   {
    "duration": 9,
    "start_time": "2022-09-24T09:55:54.334Z"
   },
   {
    "duration": 33,
    "start_time": "2022-09-24T09:55:54.344Z"
   },
   {
    "duration": 3,
    "start_time": "2022-09-24T09:55:54.378Z"
   },
   {
    "duration": 13,
    "start_time": "2022-09-24T09:55:54.382Z"
   },
   {
    "duration": 3,
    "start_time": "2022-09-24T09:55:54.397Z"
   },
   {
    "duration": 32,
    "start_time": "2022-09-24T09:55:54.402Z"
   },
   {
    "duration": 4,
    "start_time": "2022-09-24T09:55:54.436Z"
   },
   {
    "duration": 35,
    "start_time": "2022-09-24T09:55:54.442Z"
   },
   {
    "duration": 9,
    "start_time": "2022-09-24T09:55:54.478Z"
   },
   {
    "duration": 5,
    "start_time": "2022-09-24T09:55:54.489Z"
   },
   {
    "duration": 12,
    "start_time": "2022-09-24T09:55:54.495Z"
   },
   {
    "duration": 41,
    "start_time": "2022-09-24T09:55:54.509Z"
   },
   {
    "duration": 17,
    "start_time": "2022-09-24T09:55:54.552Z"
   },
   {
    "duration": 4,
    "start_time": "2022-09-24T09:55:54.570Z"
   },
   {
    "duration": 15,
    "start_time": "2022-09-24T09:55:54.576Z"
   },
   {
    "duration": 5,
    "start_time": "2022-09-24T09:55:54.593Z"
   },
   {
    "duration": 7,
    "start_time": "2022-09-24T09:55:54.600Z"
   },
   {
    "duration": 29,
    "start_time": "2022-09-24T09:55:54.609Z"
   },
   {
    "duration": 13,
    "start_time": "2022-09-24T09:55:54.640Z"
   },
   {
    "duration": 5,
    "start_time": "2022-09-24T09:55:54.655Z"
   },
   {
    "duration": 3,
    "start_time": "2022-09-24T09:55:54.662Z"
   },
   {
    "duration": 7,
    "start_time": "2022-09-24T09:55:54.667Z"
   },
   {
    "duration": 4,
    "start_time": "2022-09-24T09:55:54.676Z"
   },
   {
    "duration": 13,
    "start_time": "2022-09-24T09:58:52.608Z"
   },
   {
    "duration": 12,
    "start_time": "2022-09-24T09:59:10.975Z"
   },
   {
    "duration": 13,
    "start_time": "2022-09-24T09:59:45.337Z"
   },
   {
    "duration": 12,
    "start_time": "2022-09-24T10:00:35.074Z"
   },
   {
    "duration": 465,
    "start_time": "2022-09-24T10:00:43.582Z"
   },
   {
    "duration": 21,
    "start_time": "2022-09-24T10:00:44.049Z"
   },
   {
    "duration": 17,
    "start_time": "2022-09-24T10:00:44.072Z"
   },
   {
    "duration": 14,
    "start_time": "2022-09-24T10:00:44.091Z"
   },
   {
    "duration": 49,
    "start_time": "2022-09-24T10:00:44.107Z"
   },
   {
    "duration": 4,
    "start_time": "2022-09-24T10:00:44.157Z"
   },
   {
    "duration": 12,
    "start_time": "2022-09-24T10:00:44.162Z"
   },
   {
    "duration": 16,
    "start_time": "2022-09-24T10:00:44.175Z"
   },
   {
    "duration": 9,
    "start_time": "2022-09-24T10:00:44.192Z"
   },
   {
    "duration": 4,
    "start_time": "2022-09-24T10:00:44.206Z"
   },
   {
    "duration": 48,
    "start_time": "2022-09-24T10:00:44.212Z"
   },
   {
    "duration": 9,
    "start_time": "2022-09-24T10:00:44.261Z"
   },
   {
    "duration": 6,
    "start_time": "2022-09-24T10:00:44.271Z"
   },
   {
    "duration": 12,
    "start_time": "2022-09-24T10:00:44.278Z"
   },
   {
    "duration": 19,
    "start_time": "2022-09-24T10:00:44.291Z"
   },
   {
    "duration": 33,
    "start_time": "2022-09-24T10:00:44.311Z"
   },
   {
    "duration": 3,
    "start_time": "2022-09-24T10:00:44.345Z"
   },
   {
    "duration": 13,
    "start_time": "2022-09-24T10:00:44.350Z"
   },
   {
    "duration": 9,
    "start_time": "2022-09-24T10:00:44.365Z"
   },
   {
    "duration": 3,
    "start_time": "2022-09-24T10:00:44.375Z"
   },
   {
    "duration": 16,
    "start_time": "2022-09-24T10:00:44.380Z"
   },
   {
    "duration": 10,
    "start_time": "2022-09-24T10:00:44.397Z"
   },
   {
    "duration": 6,
    "start_time": "2022-09-24T10:00:44.408Z"
   },
   {
    "duration": 11,
    "start_time": "2022-09-24T10:00:44.434Z"
   },
   {
    "duration": 2,
    "start_time": "2022-09-24T10:00:44.446Z"
   },
   {
    "duration": 10,
    "start_time": "2022-09-24T10:00:44.450Z"
   },
   {
    "duration": 11,
    "start_time": "2022-09-24T10:24:03.179Z"
   },
   {
    "duration": 11,
    "start_time": "2022-09-24T10:24:32.529Z"
   },
   {
    "duration": 12,
    "start_time": "2022-09-24T10:24:50.721Z"
   },
   {
    "duration": 17,
    "start_time": "2022-09-24T10:26:31.373Z"
   },
   {
    "duration": 12,
    "start_time": "2022-09-24T10:26:41.328Z"
   },
   {
    "duration": 110,
    "start_time": "2022-09-24T10:34:56.677Z"
   },
   {
    "duration": 22,
    "start_time": "2022-09-24T10:35:01.572Z"
   },
   {
    "duration": 265,
    "start_time": "2022-09-24T10:36:16.918Z"
   },
   {
    "duration": 11,
    "start_time": "2022-09-24T10:36:34.219Z"
   },
   {
    "duration": 16,
    "start_time": "2022-09-24T10:37:38.447Z"
   },
   {
    "duration": 24,
    "start_time": "2022-09-24T10:39:29.024Z"
   },
   {
    "duration": 24,
    "start_time": "2022-09-24T10:39:48.613Z"
   },
   {
    "duration": 52,
    "start_time": "2022-09-24T10:40:24.613Z"
   },
   {
    "duration": 19,
    "start_time": "2022-09-24T10:40:31.182Z"
   },
   {
    "duration": 17,
    "start_time": "2022-09-24T10:40:59.615Z"
   },
   {
    "duration": 15,
    "start_time": "2022-09-24T10:41:24.996Z"
   },
   {
    "duration": 15,
    "start_time": "2022-09-24T10:41:38.451Z"
   },
   {
    "duration": 26,
    "start_time": "2022-09-24T10:42:23.055Z"
   },
   {
    "duration": 58,
    "start_time": "2022-09-24T10:43:07.777Z"
   },
   {
    "duration": 15,
    "start_time": "2022-09-24T10:43:15.065Z"
   },
   {
    "duration": 18,
    "start_time": "2022-09-24T10:43:29.143Z"
   },
   {
    "duration": 25,
    "start_time": "2022-09-24T10:44:23.557Z"
   },
   {
    "duration": 15,
    "start_time": "2022-09-24T10:44:28.323Z"
   },
   {
    "duration": 13,
    "start_time": "2022-09-24T10:44:52.653Z"
   },
   {
    "duration": 13,
    "start_time": "2022-09-24T10:44:57.900Z"
   },
   {
    "duration": 26,
    "start_time": "2022-09-24T10:45:17.726Z"
   },
   {
    "duration": 20,
    "start_time": "2022-09-24T10:46:16.952Z"
   },
   {
    "duration": 33,
    "start_time": "2022-09-24T10:46:23.771Z"
   },
   {
    "duration": 16,
    "start_time": "2022-09-24T10:47:43.952Z"
   },
   {
    "duration": 14,
    "start_time": "2022-09-24T10:48:12.049Z"
   },
   {
    "duration": 17,
    "start_time": "2022-09-24T10:48:18.897Z"
   },
   {
    "duration": 22,
    "start_time": "2022-09-24T10:49:29.420Z"
   },
   {
    "duration": 462,
    "start_time": "2022-09-24T10:49:45.654Z"
   },
   {
    "duration": 32,
    "start_time": "2022-09-24T10:49:46.118Z"
   },
   {
    "duration": 23,
    "start_time": "2022-09-24T10:49:46.152Z"
   },
   {
    "duration": 11,
    "start_time": "2022-09-24T10:49:46.177Z"
   },
   {
    "duration": 58,
    "start_time": "2022-09-24T10:49:46.190Z"
   },
   {
    "duration": 4,
    "start_time": "2022-09-24T10:49:46.254Z"
   },
   {
    "duration": 13,
    "start_time": "2022-09-24T10:49:46.259Z"
   },
   {
    "duration": 7,
    "start_time": "2022-09-24T10:49:46.274Z"
   },
   {
    "duration": 11,
    "start_time": "2022-09-24T10:49:46.283Z"
   },
   {
    "duration": 5,
    "start_time": "2022-09-24T10:49:46.299Z"
   },
   {
    "duration": 56,
    "start_time": "2022-09-24T10:49:46.306Z"
   },
   {
    "duration": 11,
    "start_time": "2022-09-24T10:49:46.365Z"
   },
   {
    "duration": 10,
    "start_time": "2022-09-24T10:49:46.380Z"
   },
   {
    "duration": 34,
    "start_time": "2022-09-24T10:49:46.392Z"
   },
   {
    "duration": 57,
    "start_time": "2022-09-24T10:49:46.428Z"
   },
   {
    "duration": 18,
    "start_time": "2022-09-24T10:49:46.487Z"
   },
   {
    "duration": 3,
    "start_time": "2022-09-24T10:49:46.507Z"
   },
   {
    "duration": 15,
    "start_time": "2022-09-24T10:49:46.512Z"
   },
   {
    "duration": 12,
    "start_time": "2022-09-24T10:49:46.529Z"
   },
   {
    "duration": 28,
    "start_time": "2022-09-24T10:49:46.543Z"
   },
   {
    "duration": 16,
    "start_time": "2022-09-24T10:49:46.573Z"
   },
   {
    "duration": 14,
    "start_time": "2022-09-24T10:49:46.591Z"
   },
   {
    "duration": 8,
    "start_time": "2022-09-24T10:49:46.606Z"
   },
   {
    "duration": 32,
    "start_time": "2022-09-24T10:49:46.616Z"
   },
   {
    "duration": 13,
    "start_time": "2022-09-24T10:49:46.650Z"
   },
   {
    "duration": 15,
    "start_time": "2022-09-24T10:49:46.665Z"
   },
   {
    "duration": 2,
    "start_time": "2022-09-24T10:49:46.682Z"
   },
   {
    "duration": 15,
    "start_time": "2022-09-24T10:49:59.079Z"
   },
   {
    "duration": 17,
    "start_time": "2022-09-24T10:51:39.197Z"
   },
   {
    "duration": 28,
    "start_time": "2022-09-24T10:51:50.825Z"
   },
   {
    "duration": 15,
    "start_time": "2022-09-24T10:54:55.908Z"
   },
   {
    "duration": 12,
    "start_time": "2022-09-24T10:55:05.553Z"
   },
   {
    "duration": 21,
    "start_time": "2022-09-24T10:56:48.033Z"
   },
   {
    "duration": 19,
    "start_time": "2022-09-24T10:56:59.639Z"
   },
   {
    "duration": 18,
    "start_time": "2022-09-24T10:57:04.942Z"
   },
   {
    "duration": 72,
    "start_time": "2022-09-24T10:57:10.429Z"
   },
   {
    "duration": 14,
    "start_time": "2022-09-24T10:57:14.256Z"
   },
   {
    "duration": 16,
    "start_time": "2022-09-24T10:57:21.322Z"
   },
   {
    "duration": 21,
    "start_time": "2022-09-24T11:02:21.842Z"
   },
   {
    "duration": 26,
    "start_time": "2022-09-24T11:02:34.912Z"
   },
   {
    "duration": 17,
    "start_time": "2022-09-24T11:03:15.624Z"
   },
   {
    "duration": 17,
    "start_time": "2022-09-24T11:03:37.581Z"
   },
   {
    "duration": 16,
    "start_time": "2022-09-24T11:03:43.628Z"
   },
   {
    "duration": 437,
    "start_time": "2022-09-24T11:03:48.672Z"
   },
   {
    "duration": 32,
    "start_time": "2022-09-24T11:03:49.110Z"
   },
   {
    "duration": 18,
    "start_time": "2022-09-24T11:03:49.143Z"
   },
   {
    "duration": 12,
    "start_time": "2022-09-24T11:03:49.164Z"
   },
   {
    "duration": 43,
    "start_time": "2022-09-24T11:03:49.178Z"
   },
   {
    "duration": 13,
    "start_time": "2022-09-24T11:03:49.222Z"
   },
   {
    "duration": 11,
    "start_time": "2022-09-24T11:03:49.237Z"
   },
   {
    "duration": 5,
    "start_time": "2022-09-24T11:03:49.250Z"
   },
   {
    "duration": 10,
    "start_time": "2022-09-24T11:03:49.256Z"
   },
   {
    "duration": 6,
    "start_time": "2022-09-24T11:03:49.269Z"
   },
   {
    "duration": 33,
    "start_time": "2022-09-24T11:03:49.276Z"
   },
   {
    "duration": 10,
    "start_time": "2022-09-24T11:03:49.334Z"
   },
   {
    "duration": 4,
    "start_time": "2022-09-24T11:03:49.346Z"
   },
   {
    "duration": 16,
    "start_time": "2022-09-24T11:03:49.352Z"
   },
   {
    "duration": 23,
    "start_time": "2022-09-24T11:03:49.370Z"
   },
   {
    "duration": 16,
    "start_time": "2022-09-24T11:03:49.395Z"
   },
   {
    "duration": 3,
    "start_time": "2022-09-24T11:03:49.433Z"
   },
   {
    "duration": 13,
    "start_time": "2022-09-24T11:03:49.438Z"
   },
   {
    "duration": 11,
    "start_time": "2022-09-24T11:03:49.453Z"
   },
   {
    "duration": 4,
    "start_time": "2022-09-24T11:03:49.466Z"
   },
   {
    "duration": 10,
    "start_time": "2022-09-24T11:03:49.471Z"
   },
   {
    "duration": 14,
    "start_time": "2022-09-24T11:03:49.482Z"
   },
   {
    "duration": 5,
    "start_time": "2022-09-24T11:03:49.497Z"
   },
   {
    "duration": 32,
    "start_time": "2022-09-24T11:03:49.504Z"
   },
   {
    "duration": 11,
    "start_time": "2022-09-24T11:03:49.537Z"
   },
   {
    "duration": 20,
    "start_time": "2022-09-24T11:03:49.549Z"
   },
   {
    "duration": 2,
    "start_time": "2022-09-24T11:03:49.571Z"
   },
   {
    "duration": 30,
    "start_time": "2022-09-24T11:05:05.399Z"
   },
   {
    "duration": 15,
    "start_time": "2022-09-24T11:05:35.604Z"
   },
   {
    "duration": 17,
    "start_time": "2022-09-24T11:05:45.984Z"
   },
   {
    "duration": 68,
    "start_time": "2022-09-24T11:07:23.430Z"
   },
   {
    "duration": 22,
    "start_time": "2022-09-24T11:07:35.077Z"
   },
   {
    "duration": 17,
    "start_time": "2022-09-24T11:09:47.045Z"
   },
   {
    "duration": 16,
    "start_time": "2022-09-24T11:10:08.279Z"
   },
   {
    "duration": 482,
    "start_time": "2022-09-24T11:10:22.906Z"
   },
   {
    "duration": 21,
    "start_time": "2022-09-24T11:10:23.390Z"
   },
   {
    "duration": 13,
    "start_time": "2022-09-24T11:10:23.413Z"
   },
   {
    "duration": 9,
    "start_time": "2022-09-24T11:10:23.433Z"
   },
   {
    "duration": 31,
    "start_time": "2022-09-24T11:10:23.444Z"
   },
   {
    "duration": 3,
    "start_time": "2022-09-24T11:10:23.477Z"
   },
   {
    "duration": 33,
    "start_time": "2022-09-24T11:10:23.485Z"
   },
   {
    "duration": 8,
    "start_time": "2022-09-24T11:10:23.520Z"
   },
   {
    "duration": 9,
    "start_time": "2022-09-24T11:10:23.529Z"
   },
   {
    "duration": 4,
    "start_time": "2022-09-24T11:10:23.541Z"
   },
   {
    "duration": 35,
    "start_time": "2022-09-24T11:10:23.546Z"
   },
   {
    "duration": 10,
    "start_time": "2022-09-24T11:10:23.582Z"
   },
   {
    "duration": 3,
    "start_time": "2022-09-24T11:10:23.594Z"
   },
   {
    "duration": 15,
    "start_time": "2022-09-24T11:10:23.599Z"
   },
   {
    "duration": 33,
    "start_time": "2022-09-24T11:10:23.616Z"
   },
   {
    "duration": 17,
    "start_time": "2022-09-24T11:10:23.651Z"
   },
   {
    "duration": 4,
    "start_time": "2022-09-24T11:10:23.670Z"
   },
   {
    "duration": 12,
    "start_time": "2022-09-24T11:10:23.676Z"
   },
   {
    "duration": 5,
    "start_time": "2022-09-24T11:10:23.689Z"
   },
   {
    "duration": 3,
    "start_time": "2022-09-24T11:10:23.696Z"
   },
   {
    "duration": 37,
    "start_time": "2022-09-24T11:10:23.701Z"
   },
   {
    "duration": 10,
    "start_time": "2022-09-24T11:10:23.740Z"
   },
   {
    "duration": 6,
    "start_time": "2022-09-24T11:10:23.751Z"
   },
   {
    "duration": 13,
    "start_time": "2022-09-24T11:10:23.758Z"
   },
   {
    "duration": 11,
    "start_time": "2022-09-24T11:10:23.772Z"
   },
   {
    "duration": 130,
    "start_time": "2022-09-24T11:10:23.784Z"
   },
   {
    "duration": 0,
    "start_time": "2022-09-24T11:10:23.916Z"
   },
   {
    "duration": 0,
    "start_time": "2022-09-24T11:10:23.917Z"
   },
   {
    "duration": 58,
    "start_time": "2022-09-24T11:10:39.148Z"
   },
   {
    "duration": 48,
    "start_time": "2022-09-24T11:10:45.499Z"
   },
   {
    "duration": 30,
    "start_time": "2022-09-24T11:12:19.809Z"
   },
   {
    "duration": 707,
    "start_time": "2022-09-24T13:11:42.205Z"
   },
   {
    "duration": 27,
    "start_time": "2022-09-24T13:11:42.914Z"
   },
   {
    "duration": 23,
    "start_time": "2022-09-24T13:11:42.942Z"
   },
   {
    "duration": 10,
    "start_time": "2022-09-24T13:11:42.967Z"
   },
   {
    "duration": 31,
    "start_time": "2022-09-24T13:11:42.979Z"
   },
   {
    "duration": 4,
    "start_time": "2022-09-24T13:11:43.011Z"
   },
   {
    "duration": 22,
    "start_time": "2022-09-24T13:11:43.016Z"
   },
   {
    "duration": 9,
    "start_time": "2022-09-24T13:11:43.040Z"
   },
   {
    "duration": 7,
    "start_time": "2022-09-24T13:11:43.051Z"
   },
   {
    "duration": 3,
    "start_time": "2022-09-24T13:11:43.062Z"
   },
   {
    "duration": 31,
    "start_time": "2022-09-24T13:11:43.067Z"
   },
   {
    "duration": 9,
    "start_time": "2022-09-24T13:11:43.100Z"
   },
   {
    "duration": 26,
    "start_time": "2022-09-24T13:11:43.110Z"
   },
   {
    "duration": 26,
    "start_time": "2022-09-24T13:11:43.137Z"
   },
   {
    "duration": 17,
    "start_time": "2022-09-24T13:11:43.164Z"
   },
   {
    "duration": 15,
    "start_time": "2022-09-24T13:11:43.183Z"
   },
   {
    "duration": 4,
    "start_time": "2022-09-24T13:11:43.200Z"
   },
   {
    "duration": 11,
    "start_time": "2022-09-24T13:11:43.206Z"
   },
   {
    "duration": 23,
    "start_time": "2022-09-24T13:11:43.219Z"
   },
   {
    "duration": 3,
    "start_time": "2022-09-24T13:11:43.251Z"
   },
   {
    "duration": 12,
    "start_time": "2022-09-24T13:11:43.256Z"
   },
   {
    "duration": 13,
    "start_time": "2022-09-24T13:11:43.269Z"
   },
   {
    "duration": 5,
    "start_time": "2022-09-24T13:11:43.284Z"
   },
   {
    "duration": 14,
    "start_time": "2022-09-24T13:11:43.290Z"
   },
   {
    "duration": 9,
    "start_time": "2022-09-24T13:11:43.306Z"
   },
   {
    "duration": 43,
    "start_time": "2022-09-24T13:11:43.317Z"
   },
   {
    "duration": 2,
    "start_time": "2022-09-24T13:11:43.362Z"
   },
   {
    "duration": 21,
    "start_time": "2022-09-24T13:17:33.050Z"
   },
   {
    "duration": 12,
    "start_time": "2022-09-24T13:25:17.890Z"
   },
   {
    "duration": 31,
    "start_time": "2022-09-24T13:28:22.031Z"
   },
   {
    "duration": 3,
    "start_time": "2022-09-24T13:31:41.025Z"
   },
   {
    "duration": 5,
    "start_time": "2022-09-24T13:31:44.581Z"
   },
   {
    "duration": 68,
    "start_time": "2022-09-24T13:31:48.758Z"
   },
   {
    "duration": 57,
    "start_time": "2022-09-24T13:32:44.948Z"
   },
   {
    "duration": 2,
    "start_time": "2022-09-24T13:42:19.081Z"
   },
   {
    "duration": 11,
    "start_time": "2022-09-24T13:43:02.874Z"
   },
   {
    "duration": 13,
    "start_time": "2022-09-24T13:43:18.406Z"
   },
   {
    "duration": 53,
    "start_time": "2022-09-24T13:44:58.141Z"
   },
   {
    "duration": 144,
    "start_time": "2022-09-24T13:45:01.312Z"
   },
   {
    "duration": 518,
    "start_time": "2022-09-24T13:45:12.770Z"
   },
   {
    "duration": 23,
    "start_time": "2022-09-24T13:45:13.290Z"
   },
   {
    "duration": 24,
    "start_time": "2022-09-24T13:45:13.315Z"
   },
   {
    "duration": 9,
    "start_time": "2022-09-24T13:45:13.341Z"
   },
   {
    "duration": 34,
    "start_time": "2022-09-24T13:45:13.352Z"
   },
   {
    "duration": 3,
    "start_time": "2022-09-24T13:45:13.388Z"
   },
   {
    "duration": 12,
    "start_time": "2022-09-24T13:45:13.392Z"
   },
   {
    "duration": 30,
    "start_time": "2022-09-24T13:45:13.406Z"
   },
   {
    "duration": 12,
    "start_time": "2022-09-24T13:45:13.437Z"
   },
   {
    "duration": 4,
    "start_time": "2022-09-24T13:45:13.453Z"
   },
   {
    "duration": 38,
    "start_time": "2022-09-24T13:45:13.459Z"
   },
   {
    "duration": 36,
    "start_time": "2022-09-24T13:45:13.499Z"
   },
   {
    "duration": 7,
    "start_time": "2022-09-24T13:45:13.537Z"
   },
   {
    "duration": 14,
    "start_time": "2022-09-24T13:45:13.546Z"
   },
   {
    "duration": 29,
    "start_time": "2022-09-24T13:45:13.562Z"
   },
   {
    "duration": 48,
    "start_time": "2022-09-24T13:45:13.594Z"
   },
   {
    "duration": 5,
    "start_time": "2022-09-24T13:45:13.644Z"
   },
   {
    "duration": 18,
    "start_time": "2022-09-24T13:45:13.651Z"
   },
   {
    "duration": 7,
    "start_time": "2022-09-24T13:45:13.672Z"
   },
   {
    "duration": 8,
    "start_time": "2022-09-24T13:45:13.681Z"
   },
   {
    "duration": 15,
    "start_time": "2022-09-24T13:45:13.691Z"
   },
   {
    "duration": 49,
    "start_time": "2022-09-24T13:45:13.708Z"
   },
   {
    "duration": 8,
    "start_time": "2022-09-24T13:45:13.758Z"
   },
   {
    "duration": 22,
    "start_time": "2022-09-24T13:45:13.768Z"
   },
   {
    "duration": 13,
    "start_time": "2022-09-24T13:45:13.793Z"
   },
   {
    "duration": 48,
    "start_time": "2022-09-24T13:45:13.808Z"
   },
   {
    "duration": 19,
    "start_time": "2022-09-24T13:45:13.858Z"
   },
   {
    "duration": 11,
    "start_time": "2022-09-24T15:29:41.468Z"
   },
   {
    "duration": 8,
    "start_time": "2022-09-24T15:39:12.077Z"
   },
   {
    "duration": 468,
    "start_time": "2022-09-24T15:39:46.162Z"
   },
   {
    "duration": 21,
    "start_time": "2022-09-24T15:39:46.632Z"
   },
   {
    "duration": 14,
    "start_time": "2022-09-24T15:39:46.654Z"
   },
   {
    "duration": 13,
    "start_time": "2022-09-24T15:39:46.670Z"
   },
   {
    "duration": 8,
    "start_time": "2022-09-24T15:39:46.685Z"
   },
   {
    "duration": 58,
    "start_time": "2022-09-24T15:39:46.695Z"
   },
   {
    "duration": 4,
    "start_time": "2022-09-24T15:39:46.754Z"
   },
   {
    "duration": 10,
    "start_time": "2022-09-24T15:39:46.759Z"
   },
   {
    "duration": 7,
    "start_time": "2022-09-24T15:39:46.771Z"
   },
   {
    "duration": 8,
    "start_time": "2022-09-24T15:39:46.781Z"
   },
   {
    "duration": 4,
    "start_time": "2022-09-24T15:39:46.791Z"
   },
   {
    "duration": 52,
    "start_time": "2022-09-24T15:39:46.796Z"
   },
   {
    "duration": 9,
    "start_time": "2022-09-24T15:39:46.849Z"
   },
   {
    "duration": 3,
    "start_time": "2022-09-24T15:39:46.860Z"
   },
   {
    "duration": 16,
    "start_time": "2022-09-24T15:39:46.864Z"
   },
   {
    "duration": 18,
    "start_time": "2022-09-24T15:39:46.881Z"
   },
   {
    "duration": 38,
    "start_time": "2022-09-24T15:39:46.900Z"
   },
   {
    "duration": 4,
    "start_time": "2022-09-24T15:39:46.939Z"
   },
   {
    "duration": 14,
    "start_time": "2022-09-24T15:39:46.944Z"
   },
   {
    "duration": 5,
    "start_time": "2022-09-24T15:39:46.960Z"
   },
   {
    "duration": 4,
    "start_time": "2022-09-24T15:39:46.966Z"
   },
   {
    "duration": 14,
    "start_time": "2022-09-24T15:39:46.971Z"
   },
   {
    "duration": 10,
    "start_time": "2022-09-24T15:39:46.986Z"
   },
   {
    "duration": 6,
    "start_time": "2022-09-24T15:39:46.997Z"
   },
   {
    "duration": 38,
    "start_time": "2022-09-24T15:39:47.004Z"
   },
   {
    "duration": 11,
    "start_time": "2022-09-24T15:39:47.043Z"
   },
   {
    "duration": 21,
    "start_time": "2022-09-24T15:39:47.056Z"
   },
   {
    "duration": 11,
    "start_time": "2022-09-24T15:39:47.080Z"
   },
   {
    "duration": 16,
    "start_time": "2022-09-24T16:01:18.198Z"
   },
   {
    "duration": 3,
    "start_time": "2022-09-24T16:56:37.301Z"
   },
   {
    "duration": 469,
    "start_time": "2022-09-24T17:40:59.841Z"
   },
   {
    "duration": 20,
    "start_time": "2022-09-24T17:41:00.312Z"
   },
   {
    "duration": 20,
    "start_time": "2022-09-24T17:41:00.333Z"
   },
   {
    "duration": 24,
    "start_time": "2022-09-24T17:41:00.354Z"
   },
   {
    "duration": 38,
    "start_time": "2022-09-24T17:41:00.380Z"
   },
   {
    "duration": 3,
    "start_time": "2022-09-24T17:41:00.420Z"
   },
   {
    "duration": 16,
    "start_time": "2022-09-24T17:41:00.424Z"
   },
   {
    "duration": 22,
    "start_time": "2022-09-24T17:41:00.442Z"
   },
   {
    "duration": 28,
    "start_time": "2022-09-24T17:41:00.466Z"
   },
   {
    "duration": 17,
    "start_time": "2022-09-24T17:41:00.496Z"
   },
   {
    "duration": 48,
    "start_time": "2022-09-24T17:41:00.515Z"
   },
   {
    "duration": 9,
    "start_time": "2022-09-24T17:41:00.565Z"
   },
   {
    "duration": 9,
    "start_time": "2022-09-24T17:41:00.576Z"
   },
   {
    "duration": 11,
    "start_time": "2022-09-24T17:41:00.588Z"
   },
   {
    "duration": 37,
    "start_time": "2022-09-24T17:41:00.601Z"
   },
   {
    "duration": 47,
    "start_time": "2022-09-24T17:41:00.639Z"
   },
   {
    "duration": 7,
    "start_time": "2022-09-24T17:41:00.688Z"
   },
   {
    "duration": 47,
    "start_time": "2022-09-24T17:41:00.697Z"
   },
   {
    "duration": 27,
    "start_time": "2022-09-24T17:41:00.746Z"
   },
   {
    "duration": 22,
    "start_time": "2022-09-24T17:41:00.775Z"
   },
   {
    "duration": 48,
    "start_time": "2022-09-24T17:41:00.799Z"
   },
   {
    "duration": 39,
    "start_time": "2022-09-24T17:41:00.849Z"
   },
   {
    "duration": 15,
    "start_time": "2022-09-24T17:41:00.890Z"
   },
   {
    "duration": 32,
    "start_time": "2022-09-24T17:41:00.907Z"
   },
   {
    "duration": 15,
    "start_time": "2022-09-24T17:41:00.941Z"
   },
   {
    "duration": 24,
    "start_time": "2022-09-24T17:41:00.958Z"
   },
   {
    "duration": 14,
    "start_time": "2022-09-24T17:41:00.983Z"
   },
   {
    "duration": 70,
    "start_time": "2022-09-26T17:48:08.853Z"
   },
   {
    "duration": 52,
    "start_time": "2022-09-26T17:48:14.718Z"
   },
   {
    "duration": 57,
    "start_time": "2022-09-26T17:51:17.035Z"
   },
   {
    "duration": 3,
    "start_time": "2022-09-26T17:51:21.263Z"
   },
   {
    "duration": 730,
    "start_time": "2022-09-26T17:51:46.522Z"
   },
   {
    "duration": 25,
    "start_time": "2022-09-26T17:51:47.255Z"
   },
   {
    "duration": 15,
    "start_time": "2022-09-26T17:51:47.282Z"
   },
   {
    "duration": 21,
    "start_time": "2022-09-26T17:51:47.300Z"
   },
   {
    "duration": 52,
    "start_time": "2022-09-26T17:51:47.323Z"
   },
   {
    "duration": 4,
    "start_time": "2022-09-26T17:51:47.379Z"
   },
   {
    "duration": 20,
    "start_time": "2022-09-26T17:51:47.385Z"
   },
   {
    "duration": 24,
    "start_time": "2022-09-26T17:51:47.407Z"
   },
   {
    "duration": 15,
    "start_time": "2022-09-26T17:51:47.433Z"
   },
   {
    "duration": 27,
    "start_time": "2022-09-26T17:51:47.452Z"
   },
   {
    "duration": 35,
    "start_time": "2022-09-26T17:51:47.481Z"
   },
   {
    "duration": 18,
    "start_time": "2022-09-26T17:51:47.517Z"
   },
   {
    "duration": 14,
    "start_time": "2022-09-26T17:51:47.538Z"
   },
   {
    "duration": 17,
    "start_time": "2022-09-26T17:51:47.554Z"
   },
   {
    "duration": 27,
    "start_time": "2022-09-26T17:51:47.573Z"
   },
   {
    "duration": 27,
    "start_time": "2022-09-26T17:51:47.603Z"
   },
   {
    "duration": 4,
    "start_time": "2022-09-26T17:51:47.633Z"
   },
   {
    "duration": 14,
    "start_time": "2022-09-26T17:51:47.640Z"
   },
   {
    "duration": 8,
    "start_time": "2022-09-26T17:51:47.656Z"
   },
   {
    "duration": 8,
    "start_time": "2022-09-26T17:51:47.666Z"
   },
   {
    "duration": 19,
    "start_time": "2022-09-26T17:51:47.676Z"
   },
   {
    "duration": 4,
    "start_time": "2022-09-26T17:51:47.696Z"
   },
   {
    "duration": 27,
    "start_time": "2022-09-26T17:51:47.702Z"
   },
   {
    "duration": 25,
    "start_time": "2022-09-26T17:51:47.731Z"
   },
   {
    "duration": 18,
    "start_time": "2022-09-26T17:51:47.757Z"
   },
   {
    "duration": 19,
    "start_time": "2022-09-26T17:51:47.777Z"
   },
   {
    "duration": 27,
    "start_time": "2022-09-26T17:51:47.797Z"
   },
   {
    "duration": 16,
    "start_time": "2022-09-26T17:51:47.839Z"
   },
   {
    "duration": 74,
    "start_time": "2022-09-26T17:55:50.087Z"
   },
   {
    "duration": 26,
    "start_time": "2022-09-26T17:56:00.918Z"
   },
   {
    "duration": 101,
    "start_time": "2022-09-26T17:57:10.296Z"
   },
   {
    "duration": 20,
    "start_time": "2022-09-26T17:57:14.122Z"
   },
   {
    "duration": 36,
    "start_time": "2022-09-26T17:57:32.840Z"
   },
   {
    "duration": 29,
    "start_time": "2022-09-26T18:00:33.095Z"
   },
   {
    "duration": 21,
    "start_time": "2022-09-26T18:01:54.679Z"
   },
   {
    "duration": 29,
    "start_time": "2022-09-26T18:02:02.612Z"
   },
   {
    "duration": 24,
    "start_time": "2022-09-26T18:02:52.214Z"
   },
   {
    "duration": 22,
    "start_time": "2022-09-26T18:03:17.211Z"
   },
   {
    "duration": 22,
    "start_time": "2022-09-26T18:03:20.010Z"
   },
   {
    "duration": 26,
    "start_time": "2022-09-26T18:03:23.203Z"
   },
   {
    "duration": 27,
    "start_time": "2022-09-26T18:03:26.111Z"
   },
   {
    "duration": 485,
    "start_time": "2022-09-26T18:03:35.315Z"
   },
   {
    "duration": 26,
    "start_time": "2022-09-26T18:03:35.802Z"
   },
   {
    "duration": 17,
    "start_time": "2022-09-26T18:03:35.830Z"
   },
   {
    "duration": 20,
    "start_time": "2022-09-26T18:03:35.849Z"
   },
   {
    "duration": 49,
    "start_time": "2022-09-26T18:03:35.871Z"
   },
   {
    "duration": 4,
    "start_time": "2022-09-26T18:03:35.922Z"
   },
   {
    "duration": 22,
    "start_time": "2022-09-26T18:03:35.928Z"
   },
   {
    "duration": 18,
    "start_time": "2022-09-26T18:03:35.952Z"
   },
   {
    "duration": 16,
    "start_time": "2022-09-26T18:03:35.972Z"
   },
   {
    "duration": 9,
    "start_time": "2022-09-26T18:03:35.993Z"
   },
   {
    "duration": 41,
    "start_time": "2022-09-26T18:03:36.004Z"
   },
   {
    "duration": 10,
    "start_time": "2022-09-26T18:03:36.047Z"
   },
   {
    "duration": 11,
    "start_time": "2022-09-26T18:03:36.059Z"
   },
   {
    "duration": 15,
    "start_time": "2022-09-26T18:03:36.071Z"
   },
   {
    "duration": 35,
    "start_time": "2022-09-26T18:03:36.088Z"
   },
   {
    "duration": 19,
    "start_time": "2022-09-26T18:03:36.125Z"
   },
   {
    "duration": 4,
    "start_time": "2022-09-26T18:03:36.146Z"
   },
   {
    "duration": 16,
    "start_time": "2022-09-26T18:03:36.151Z"
   },
   {
    "duration": 9,
    "start_time": "2022-09-26T18:03:36.169Z"
   },
   {
    "duration": 11,
    "start_time": "2022-09-26T18:03:36.180Z"
   },
   {
    "duration": 30,
    "start_time": "2022-09-26T18:03:36.193Z"
   },
   {
    "duration": 6,
    "start_time": "2022-09-26T18:03:36.225Z"
   },
   {
    "duration": 42,
    "start_time": "2022-09-26T18:03:36.233Z"
   },
   {
    "duration": 13,
    "start_time": "2022-09-26T18:03:36.277Z"
   },
   {
    "duration": 31,
    "start_time": "2022-09-26T18:03:36.292Z"
   },
   {
    "duration": 14,
    "start_time": "2022-09-26T18:03:36.325Z"
   },
   {
    "duration": 13,
    "start_time": "2022-09-26T18:03:36.341Z"
   },
   {
    "duration": 22,
    "start_time": "2022-09-26T18:03:36.357Z"
   },
   {
    "duration": 55,
    "start_time": "2022-09-26T18:03:36.381Z"
   },
   {
    "duration": 89,
    "start_time": "2022-09-26T18:04:09.256Z"
   },
   {
    "duration": 27,
    "start_time": "2022-09-26T18:04:40.946Z"
   },
   {
    "duration": 33,
    "start_time": "2022-09-26T18:07:31.281Z"
   },
   {
    "duration": 30,
    "start_time": "2022-09-26T18:07:40.664Z"
   },
   {
    "duration": 40,
    "start_time": "2022-09-26T18:07:44.635Z"
   },
   {
    "duration": 44,
    "start_time": "2022-09-26T18:07:50.091Z"
   },
   {
    "duration": 31,
    "start_time": "2022-09-26T18:08:07.796Z"
   },
   {
    "duration": 30,
    "start_time": "2022-09-26T18:08:27.224Z"
   },
   {
    "duration": 59,
    "start_time": "2022-09-26T18:10:51.443Z"
   },
   {
    "duration": 106,
    "start_time": "2022-09-26T18:11:02.414Z"
   },
   {
    "duration": 34,
    "start_time": "2022-09-26T18:11:20.468Z"
   },
   {
    "duration": 33,
    "start_time": "2022-09-26T18:13:10.880Z"
   },
   {
    "duration": 32,
    "start_time": "2022-09-26T18:13:41.207Z"
   },
   {
    "duration": 30,
    "start_time": "2022-09-26T18:13:49.287Z"
   },
   {
    "duration": 27,
    "start_time": "2022-09-26T18:14:05.096Z"
   },
   {
    "duration": 24,
    "start_time": "2022-09-26T18:14:20.211Z"
   },
   {
    "duration": 34,
    "start_time": "2022-09-26T18:14:29.800Z"
   },
   {
    "duration": 37,
    "start_time": "2022-09-26T18:14:59.079Z"
   },
   {
    "duration": 35,
    "start_time": "2022-09-26T18:15:04.406Z"
   },
   {
    "duration": 27,
    "start_time": "2022-09-26T18:15:10.944Z"
   },
   {
    "duration": 39,
    "start_time": "2022-09-26T18:15:31.748Z"
   },
   {
    "duration": 23,
    "start_time": "2022-09-26T18:15:46.066Z"
   },
   {
    "duration": 35,
    "start_time": "2022-09-26T18:15:51.567Z"
   },
   {
    "duration": 26,
    "start_time": "2022-09-26T18:16:01.133Z"
   },
   {
    "duration": 28,
    "start_time": "2022-09-26T18:16:20.511Z"
   },
   {
    "duration": 30,
    "start_time": "2022-09-26T18:16:32.874Z"
   },
   {
    "duration": 22,
    "start_time": "2022-09-26T18:17:51.141Z"
   },
   {
    "duration": 27,
    "start_time": "2022-09-26T18:17:55.951Z"
   },
   {
    "duration": 31,
    "start_time": "2022-09-26T18:18:02.200Z"
   },
   {
    "duration": 40,
    "start_time": "2022-09-26T18:18:37.336Z"
   },
   {
    "duration": 28,
    "start_time": "2022-09-26T18:18:45.124Z"
   },
   {
    "duration": 33,
    "start_time": "2022-09-26T18:18:55.889Z"
   },
   {
    "duration": 34,
    "start_time": "2022-09-26T18:19:02.126Z"
   },
   {
    "duration": 29,
    "start_time": "2022-09-26T18:19:09.476Z"
   },
   {
    "duration": 25,
    "start_time": "2022-09-26T18:19:12.805Z"
   },
   {
    "duration": 34,
    "start_time": "2022-09-26T18:19:18.804Z"
   },
   {
    "duration": 27,
    "start_time": "2022-09-26T18:20:35.411Z"
   },
   {
    "duration": 30,
    "start_time": "2022-09-26T18:20:41.874Z"
   },
   {
    "duration": 23,
    "start_time": "2022-09-26T18:21:40.074Z"
   },
   {
    "duration": 30,
    "start_time": "2022-09-26T18:21:46.262Z"
   },
   {
    "duration": 26,
    "start_time": "2022-09-26T18:22:35.533Z"
   },
   {
    "duration": 27,
    "start_time": "2022-09-26T18:22:55.282Z"
   },
   {
    "duration": 4,
    "start_time": "2022-09-26T18:24:26.164Z"
   },
   {
    "duration": 3,
    "start_time": "2022-09-26T18:25:16.046Z"
   },
   {
    "duration": 138,
    "start_time": "2022-09-26T18:26:14.523Z"
   },
   {
    "duration": 8,
    "start_time": "2022-09-26T18:27:22.153Z"
   },
   {
    "duration": 4,
    "start_time": "2022-09-26T18:27:29.640Z"
   },
   {
    "duration": 24,
    "start_time": "2022-09-26T18:27:55.401Z"
   },
   {
    "duration": 25,
    "start_time": "2022-09-26T18:28:41.702Z"
   },
   {
    "duration": 37,
    "start_time": "2022-09-26T18:29:21.300Z"
   },
   {
    "duration": 29,
    "start_time": "2022-09-26T18:31:28.244Z"
   },
   {
    "duration": 25,
    "start_time": "2022-09-26T18:34:23.338Z"
   },
   {
    "duration": 23,
    "start_time": "2022-09-26T18:42:28.283Z"
   },
   {
    "duration": 12,
    "start_time": "2022-09-26T18:43:32.972Z"
   },
   {
    "duration": 19,
    "start_time": "2022-09-26T18:43:58.064Z"
   },
   {
    "duration": 15,
    "start_time": "2022-09-26T18:45:04.726Z"
   },
   {
    "duration": 11,
    "start_time": "2022-09-26T18:45:32.892Z"
   },
   {
    "duration": 11,
    "start_time": "2022-09-26T18:45:42.992Z"
   },
   {
    "duration": 15,
    "start_time": "2022-09-26T18:47:51.880Z"
   },
   {
    "duration": 50,
    "start_time": "2022-09-26T18:48:49.040Z"
   },
   {
    "duration": 21,
    "start_time": "2022-09-26T18:48:56.898Z"
   },
   {
    "duration": 549,
    "start_time": "2022-09-26T18:49:22.186Z"
   },
   {
    "duration": 35,
    "start_time": "2022-09-26T18:49:22.738Z"
   },
   {
    "duration": 21,
    "start_time": "2022-09-26T18:49:22.775Z"
   },
   {
    "duration": 33,
    "start_time": "2022-09-26T18:49:22.799Z"
   },
   {
    "duration": 37,
    "start_time": "2022-09-26T18:49:22.834Z"
   },
   {
    "duration": 5,
    "start_time": "2022-09-26T18:49:22.873Z"
   },
   {
    "duration": 22,
    "start_time": "2022-09-26T18:49:22.880Z"
   },
   {
    "duration": 5,
    "start_time": "2022-09-26T18:49:22.922Z"
   },
   {
    "duration": 10,
    "start_time": "2022-09-26T18:49:22.930Z"
   },
   {
    "duration": 6,
    "start_time": "2022-09-26T18:49:22.945Z"
   },
   {
    "duration": 41,
    "start_time": "2022-09-26T18:49:22.953Z"
   },
   {
    "duration": 35,
    "start_time": "2022-09-26T18:49:22.996Z"
   },
   {
    "duration": 5,
    "start_time": "2022-09-26T18:49:23.033Z"
   },
   {
    "duration": 24,
    "start_time": "2022-09-26T18:49:23.039Z"
   },
   {
    "duration": 48,
    "start_time": "2022-09-26T18:49:23.066Z"
   },
   {
    "duration": 18,
    "start_time": "2022-09-26T18:49:23.116Z"
   },
   {
    "duration": 4,
    "start_time": "2022-09-26T18:49:23.135Z"
   },
   {
    "duration": 29,
    "start_time": "2022-09-26T18:49:23.141Z"
   },
   {
    "duration": 18,
    "start_time": "2022-09-26T18:49:23.172Z"
   },
   {
    "duration": 5,
    "start_time": "2022-09-26T18:49:23.191Z"
   },
   {
    "duration": 22,
    "start_time": "2022-09-26T18:49:23.198Z"
   },
   {
    "duration": 5,
    "start_time": "2022-09-26T18:49:23.223Z"
   },
   {
    "duration": 19,
    "start_time": "2022-09-26T18:49:23.231Z"
   },
   {
    "duration": 9,
    "start_time": "2022-09-26T18:49:23.253Z"
   },
   {
    "duration": 63,
    "start_time": "2022-09-26T18:49:23.264Z"
   },
   {
    "duration": 18,
    "start_time": "2022-09-26T18:49:23.330Z"
   },
   {
    "duration": 41,
    "start_time": "2022-09-26T18:49:23.350Z"
   },
   {
    "duration": 36,
    "start_time": "2022-09-26T18:49:23.396Z"
   },
   {
    "duration": 39,
    "start_time": "2022-09-26T18:49:23.434Z"
   },
   {
    "duration": 60,
    "start_time": "2022-09-26T18:49:23.475Z"
   },
   {
    "duration": 19,
    "start_time": "2022-09-26T18:49:23.537Z"
   },
   {
    "duration": 21,
    "start_time": "2022-09-26T18:49:23.559Z"
   },
   {
    "duration": 34,
    "start_time": "2022-09-26T19:11:57.129Z"
   },
   {
    "duration": 518,
    "start_time": "2022-09-26T19:12:53.707Z"
   },
   {
    "duration": 24,
    "start_time": "2022-09-26T19:12:54.227Z"
   },
   {
    "duration": 23,
    "start_time": "2022-09-26T19:12:54.253Z"
   },
   {
    "duration": 9,
    "start_time": "2022-09-26T19:12:54.279Z"
   },
   {
    "duration": 57,
    "start_time": "2022-09-26T19:12:54.290Z"
   },
   {
    "duration": 4,
    "start_time": "2022-09-26T19:12:54.349Z"
   },
   {
    "duration": 14,
    "start_time": "2022-09-26T19:12:54.354Z"
   },
   {
    "duration": 4,
    "start_time": "2022-09-26T19:12:54.369Z"
   },
   {
    "duration": 8,
    "start_time": "2022-09-26T19:12:54.375Z"
   },
   {
    "duration": 34,
    "start_time": "2022-09-26T19:12:54.386Z"
   },
   {
    "duration": 48,
    "start_time": "2022-09-26T19:12:54.422Z"
   },
   {
    "duration": 10,
    "start_time": "2022-09-26T19:12:54.471Z"
   },
   {
    "duration": 13,
    "start_time": "2022-09-26T19:12:54.482Z"
   },
   {
    "duration": 17,
    "start_time": "2022-09-26T19:12:54.496Z"
   },
   {
    "duration": 24,
    "start_time": "2022-09-26T19:12:54.514Z"
   },
   {
    "duration": 18,
    "start_time": "2022-09-26T19:12:54.540Z"
   },
   {
    "duration": 4,
    "start_time": "2022-09-26T19:12:54.560Z"
   },
   {
    "duration": 30,
    "start_time": "2022-09-26T19:12:54.565Z"
   },
   {
    "duration": 13,
    "start_time": "2022-09-26T19:12:54.597Z"
   },
   {
    "duration": 10,
    "start_time": "2022-09-26T19:12:54.612Z"
   },
   {
    "duration": 18,
    "start_time": "2022-09-26T19:12:54.624Z"
   },
   {
    "duration": 12,
    "start_time": "2022-09-26T19:12:54.644Z"
   },
   {
    "duration": 19,
    "start_time": "2022-09-26T19:12:54.658Z"
   },
   {
    "duration": 6,
    "start_time": "2022-09-26T19:12:54.679Z"
   },
   {
    "duration": 41,
    "start_time": "2022-09-26T19:12:54.687Z"
   },
   {
    "duration": 13,
    "start_time": "2022-09-26T19:12:54.730Z"
   },
   {
    "duration": 30,
    "start_time": "2022-09-26T19:12:54.745Z"
   },
   {
    "duration": 12,
    "start_time": "2022-09-26T19:12:54.778Z"
   },
   {
    "duration": 56,
    "start_time": "2022-09-26T19:12:54.791Z"
   },
   {
    "duration": 23,
    "start_time": "2022-09-26T19:12:54.849Z"
   },
   {
    "duration": 97,
    "start_time": "2022-09-26T19:12:54.874Z"
   },
   {
    "duration": 0,
    "start_time": "2022-09-26T19:12:54.973Z"
   },
   {
    "duration": 0,
    "start_time": "2022-09-26T19:12:54.974Z"
   },
   {
    "duration": 0,
    "start_time": "2022-09-26T19:12:54.976Z"
   },
   {
    "duration": 547,
    "start_time": "2022-09-26T19:13:52.727Z"
   },
   {
    "duration": 26,
    "start_time": "2022-09-26T19:13:53.277Z"
   },
   {
    "duration": 27,
    "start_time": "2022-09-26T19:13:53.304Z"
   },
   {
    "duration": 13,
    "start_time": "2022-09-26T19:13:53.333Z"
   },
   {
    "duration": 36,
    "start_time": "2022-09-26T19:13:53.348Z"
   },
   {
    "duration": 3,
    "start_time": "2022-09-26T19:13:53.386Z"
   },
   {
    "duration": 30,
    "start_time": "2022-09-26T19:13:53.391Z"
   },
   {
    "duration": 5,
    "start_time": "2022-09-26T19:13:53.423Z"
   },
   {
    "duration": 12,
    "start_time": "2022-09-26T19:13:53.429Z"
   },
   {
    "duration": 5,
    "start_time": "2022-09-26T19:13:53.443Z"
   },
   {
    "duration": 42,
    "start_time": "2022-09-26T19:13:53.449Z"
   },
   {
    "duration": 33,
    "start_time": "2022-09-26T19:13:53.493Z"
   },
   {
    "duration": 5,
    "start_time": "2022-09-26T19:13:53.527Z"
   },
   {
    "duration": 12,
    "start_time": "2022-09-26T19:13:53.534Z"
   },
   {
    "duration": 22,
    "start_time": "2022-09-26T19:13:53.547Z"
   },
   {
    "duration": 18,
    "start_time": "2022-09-26T19:13:53.571Z"
   },
   {
    "duration": 31,
    "start_time": "2022-09-26T19:13:53.591Z"
   },
   {
    "duration": 29,
    "start_time": "2022-09-26T19:13:53.624Z"
   },
   {
    "duration": 9,
    "start_time": "2022-09-26T19:13:53.655Z"
   },
   {
    "duration": 10,
    "start_time": "2022-09-26T19:13:53.665Z"
   },
   {
    "duration": 13,
    "start_time": "2022-09-26T19:13:53.676Z"
   },
   {
    "duration": 3,
    "start_time": "2022-09-26T19:13:53.691Z"
   },
   {
    "duration": 15,
    "start_time": "2022-09-26T19:13:53.696Z"
   },
   {
    "duration": 11,
    "start_time": "2022-09-26T19:13:53.713Z"
   },
   {
    "duration": 33,
    "start_time": "2022-09-26T19:13:53.725Z"
   },
   {
    "duration": 14,
    "start_time": "2022-09-26T19:13:53.760Z"
   },
   {
    "duration": 50,
    "start_time": "2022-09-26T19:13:53.775Z"
   },
   {
    "duration": 13,
    "start_time": "2022-09-26T19:13:53.827Z"
   },
   {
    "duration": 33,
    "start_time": "2022-09-26T19:13:53.842Z"
   },
   {
    "duration": 50,
    "start_time": "2022-09-26T19:13:53.877Z"
   },
   {
    "duration": 76,
    "start_time": "2022-09-26T19:13:53.929Z"
   },
   {
    "duration": 0,
    "start_time": "2022-09-26T19:13:54.007Z"
   },
   {
    "duration": 0,
    "start_time": "2022-09-26T19:13:54.009Z"
   },
   {
    "duration": 0,
    "start_time": "2022-09-26T19:13:54.021Z"
   },
   {
    "duration": 14,
    "start_time": "2022-09-26T19:14:48.127Z"
   },
   {
    "duration": 15,
    "start_time": "2022-09-26T19:15:04.718Z"
   },
   {
    "duration": 34,
    "start_time": "2022-09-26T19:15:06.855Z"
   },
   {
    "duration": 63,
    "start_time": "2022-09-26T19:33:39.146Z"
   },
   {
    "duration": 47,
    "start_time": "2022-09-26T19:41:42.483Z"
   },
   {
    "duration": 540,
    "start_time": "2022-09-26T19:41:56.954Z"
   },
   {
    "duration": 23,
    "start_time": "2022-09-26T19:41:57.496Z"
   },
   {
    "duration": 24,
    "start_time": "2022-09-26T19:41:57.521Z"
   },
   {
    "duration": 14,
    "start_time": "2022-09-26T19:41:57.547Z"
   },
   {
    "duration": 35,
    "start_time": "2022-09-26T19:41:57.563Z"
   },
   {
    "duration": 21,
    "start_time": "2022-09-26T19:41:57.600Z"
   },
   {
    "duration": 15,
    "start_time": "2022-09-26T19:41:57.623Z"
   },
   {
    "duration": 9,
    "start_time": "2022-09-26T19:41:57.642Z"
   },
   {
    "duration": 10,
    "start_time": "2022-09-26T19:41:57.652Z"
   },
   {
    "duration": 5,
    "start_time": "2022-09-26T19:41:57.665Z"
   },
   {
    "duration": 67,
    "start_time": "2022-09-26T19:41:57.671Z"
   },
   {
    "duration": 17,
    "start_time": "2022-09-26T19:41:57.740Z"
   },
   {
    "duration": 3,
    "start_time": "2022-09-26T19:41:57.759Z"
   },
   {
    "duration": 14,
    "start_time": "2022-09-26T19:41:57.764Z"
   },
   {
    "duration": 42,
    "start_time": "2022-09-26T19:41:57.781Z"
   },
   {
    "duration": 25,
    "start_time": "2022-09-26T19:41:57.825Z"
   },
   {
    "duration": 8,
    "start_time": "2022-09-26T19:41:57.852Z"
   },
   {
    "duration": 16,
    "start_time": "2022-09-26T19:41:57.862Z"
   },
   {
    "duration": 7,
    "start_time": "2022-09-26T19:41:57.881Z"
   },
   {
    "duration": 32,
    "start_time": "2022-09-26T19:41:57.890Z"
   },
   {
    "duration": 24,
    "start_time": "2022-09-26T19:41:57.924Z"
   },
   {
    "duration": 7,
    "start_time": "2022-09-26T19:41:57.950Z"
   },
   {
    "duration": 19,
    "start_time": "2022-09-26T19:41:57.959Z"
   },
   {
    "duration": 6,
    "start_time": "2022-09-26T19:41:57.981Z"
   },
   {
    "duration": 41,
    "start_time": "2022-09-26T19:41:57.989Z"
   },
   {
    "duration": 18,
    "start_time": "2022-09-26T19:41:58.033Z"
   },
   {
    "duration": 31,
    "start_time": "2022-09-26T19:41:58.052Z"
   },
   {
    "duration": 39,
    "start_time": "2022-09-26T19:41:58.086Z"
   },
   {
    "duration": 35,
    "start_time": "2022-09-26T19:41:58.128Z"
   },
   {
    "duration": 23,
    "start_time": "2022-09-26T19:41:58.165Z"
   },
   {
    "duration": 38,
    "start_time": "2022-09-26T19:41:58.190Z"
   },
   {
    "duration": 18,
    "start_time": "2022-09-26T19:41:58.231Z"
   },
   {
    "duration": 34,
    "start_time": "2022-09-26T19:41:58.251Z"
   },
   {
    "duration": 797,
    "start_time": "2022-09-26T21:18:54.156Z"
   },
   {
    "duration": 32,
    "start_time": "2022-09-26T21:18:54.956Z"
   },
   {
    "duration": 18,
    "start_time": "2022-09-26T21:18:54.989Z"
   },
   {
    "duration": 12,
    "start_time": "2022-09-26T21:18:55.009Z"
   },
   {
    "duration": 60,
    "start_time": "2022-09-26T21:18:55.023Z"
   },
   {
    "duration": 4,
    "start_time": "2022-09-26T21:18:55.085Z"
   },
   {
    "duration": 38,
    "start_time": "2022-09-26T21:18:55.091Z"
   },
   {
    "duration": 31,
    "start_time": "2022-09-26T21:18:55.131Z"
   },
   {
    "duration": 10,
    "start_time": "2022-09-26T21:18:55.164Z"
   },
   {
    "duration": 8,
    "start_time": "2022-09-26T21:18:55.178Z"
   },
   {
    "duration": 37,
    "start_time": "2022-09-26T21:18:55.188Z"
   },
   {
    "duration": 8,
    "start_time": "2022-09-26T21:18:55.227Z"
   },
   {
    "duration": 21,
    "start_time": "2022-09-26T21:18:55.236Z"
   },
   {
    "duration": 39,
    "start_time": "2022-09-26T21:18:55.259Z"
   },
   {
    "duration": 58,
    "start_time": "2022-09-26T21:18:55.300Z"
   },
   {
    "duration": 27,
    "start_time": "2022-09-26T21:18:55.359Z"
   },
   {
    "duration": 11,
    "start_time": "2022-09-26T21:18:55.388Z"
   },
   {
    "duration": 35,
    "start_time": "2022-09-26T21:18:55.400Z"
   },
   {
    "duration": 33,
    "start_time": "2022-09-26T21:18:55.437Z"
   },
   {
    "duration": 26,
    "start_time": "2022-09-26T21:18:55.472Z"
   },
   {
    "duration": 42,
    "start_time": "2022-09-26T21:18:55.499Z"
   },
   {
    "duration": 17,
    "start_time": "2022-09-26T21:18:55.542Z"
   },
   {
    "duration": 17,
    "start_time": "2022-09-26T21:18:55.562Z"
   },
   {
    "duration": 18,
    "start_time": "2022-09-26T21:18:55.581Z"
   },
   {
    "duration": 43,
    "start_time": "2022-09-26T21:18:55.600Z"
   },
   {
    "duration": 13,
    "start_time": "2022-09-26T21:18:55.645Z"
   },
   {
    "duration": 27,
    "start_time": "2022-09-26T21:18:55.659Z"
   },
   {
    "duration": 18,
    "start_time": "2022-09-26T21:18:55.690Z"
   },
   {
    "duration": 40,
    "start_time": "2022-09-26T21:18:55.710Z"
   },
   {
    "duration": 19,
    "start_time": "2022-09-26T21:18:55.752Z"
   },
   {
    "duration": 28,
    "start_time": "2022-09-26T21:18:55.773Z"
   },
   {
    "duration": 16,
    "start_time": "2022-09-26T21:18:55.803Z"
   },
   {
    "duration": 36,
    "start_time": "2022-09-26T21:18:55.821Z"
   },
   {
    "duration": 468,
    "start_time": "2022-09-26T22:36:29.800Z"
   },
   {
    "duration": 19,
    "start_time": "2022-09-26T22:36:30.270Z"
   },
   {
    "duration": 39,
    "start_time": "2022-09-26T22:36:30.291Z"
   },
   {
    "duration": 24,
    "start_time": "2022-09-26T22:36:30.332Z"
   },
   {
    "duration": 45,
    "start_time": "2022-09-26T22:36:30.358Z"
   },
   {
    "duration": 4,
    "start_time": "2022-09-26T22:36:30.405Z"
   },
   {
    "duration": 30,
    "start_time": "2022-09-26T22:36:30.411Z"
   },
   {
    "duration": 30,
    "start_time": "2022-09-26T22:36:30.443Z"
   },
   {
    "duration": 15,
    "start_time": "2022-09-26T22:36:30.474Z"
   },
   {
    "duration": 22,
    "start_time": "2022-09-26T22:36:30.492Z"
   },
   {
    "duration": 53,
    "start_time": "2022-09-26T22:36:30.516Z"
   },
   {
    "duration": 8,
    "start_time": "2022-09-26T22:36:30.571Z"
   },
   {
    "duration": 21,
    "start_time": "2022-09-26T22:36:30.580Z"
   },
   {
    "duration": 36,
    "start_time": "2022-09-26T22:36:30.603Z"
   },
   {
    "duration": 46,
    "start_time": "2022-09-26T22:36:30.641Z"
   },
   {
    "duration": 17,
    "start_time": "2022-09-26T22:36:30.689Z"
   },
   {
    "duration": 4,
    "start_time": "2022-09-26T22:36:30.708Z"
   },
   {
    "duration": 22,
    "start_time": "2022-09-26T22:36:30.714Z"
   },
   {
    "duration": 21,
    "start_time": "2022-09-26T22:36:30.737Z"
   },
   {
    "duration": 17,
    "start_time": "2022-09-26T22:36:30.760Z"
   },
   {
    "duration": 38,
    "start_time": "2022-09-26T22:36:30.778Z"
   },
   {
    "duration": 30,
    "start_time": "2022-09-26T22:36:30.818Z"
   },
   {
    "duration": 33,
    "start_time": "2022-09-26T22:36:30.850Z"
   },
   {
    "duration": 20,
    "start_time": "2022-09-26T22:36:30.885Z"
   },
   {
    "duration": 52,
    "start_time": "2022-09-26T22:36:30.907Z"
   },
   {
    "duration": 16,
    "start_time": "2022-09-26T22:36:30.960Z"
   },
   {
    "duration": 55,
    "start_time": "2022-09-26T22:36:30.977Z"
   },
   {
    "duration": 10,
    "start_time": "2022-09-26T22:36:31.036Z"
   },
   {
    "duration": 90,
    "start_time": "2022-09-26T22:36:31.048Z"
   },
   {
    "duration": 22,
    "start_time": "2022-09-26T22:36:31.140Z"
   },
   {
    "duration": 29,
    "start_time": "2022-09-26T22:36:31.163Z"
   },
   {
    "duration": 12,
    "start_time": "2022-09-26T22:36:31.193Z"
   },
   {
    "duration": 30,
    "start_time": "2022-09-26T22:36:31.208Z"
   },
   {
    "duration": 468,
    "start_time": "2022-09-26T22:37:42.372Z"
   },
   {
    "duration": 20,
    "start_time": "2022-09-26T22:37:42.842Z"
   },
   {
    "duration": 12,
    "start_time": "2022-09-26T22:37:42.863Z"
   },
   {
    "duration": 24,
    "start_time": "2022-09-26T22:37:42.877Z"
   },
   {
    "duration": 30,
    "start_time": "2022-09-26T22:37:42.903Z"
   },
   {
    "duration": 3,
    "start_time": "2022-09-26T22:37:42.934Z"
   },
   {
    "duration": 9,
    "start_time": "2022-09-26T22:37:42.939Z"
   },
   {
    "duration": 3,
    "start_time": "2022-09-26T22:37:42.949Z"
   },
   {
    "duration": 8,
    "start_time": "2022-09-26T22:37:42.954Z"
   },
   {
    "duration": 4,
    "start_time": "2022-09-26T22:37:42.964Z"
   },
   {
    "duration": 56,
    "start_time": "2022-09-26T22:37:42.970Z"
   },
   {
    "duration": 10,
    "start_time": "2022-09-26T22:37:43.027Z"
   },
   {
    "duration": 4,
    "start_time": "2022-09-26T22:37:43.038Z"
   },
   {
    "duration": 10,
    "start_time": "2022-09-26T22:37:43.045Z"
   },
   {
    "duration": 17,
    "start_time": "2022-09-26T22:37:43.057Z"
   },
   {
    "duration": 16,
    "start_time": "2022-09-26T22:37:43.100Z"
   },
   {
    "duration": 2,
    "start_time": "2022-09-26T22:37:43.118Z"
   },
   {
    "duration": 16,
    "start_time": "2022-09-26T22:37:43.122Z"
   },
   {
    "duration": 20,
    "start_time": "2022-09-26T22:37:43.140Z"
   },
   {
    "duration": 8,
    "start_time": "2022-09-26T22:37:43.161Z"
   },
   {
    "duration": 15,
    "start_time": "2022-09-26T22:37:43.171Z"
   },
   {
    "duration": 10,
    "start_time": "2022-09-26T22:37:43.187Z"
   },
   {
    "duration": 16,
    "start_time": "2022-09-26T22:37:43.198Z"
   },
   {
    "duration": 5,
    "start_time": "2022-09-26T22:37:43.215Z"
   },
   {
    "duration": 28,
    "start_time": "2022-09-26T22:37:43.222Z"
   },
   {
    "duration": 12,
    "start_time": "2022-09-26T22:37:43.251Z"
   },
   {
    "duration": 43,
    "start_time": "2022-09-26T22:37:43.264Z"
   },
   {
    "duration": 10,
    "start_time": "2022-09-26T22:37:43.308Z"
   },
   {
    "duration": 23,
    "start_time": "2022-09-26T22:37:43.319Z"
   },
   {
    "duration": 18,
    "start_time": "2022-09-26T22:37:43.344Z"
   },
   {
    "duration": 12,
    "start_time": "2022-09-26T22:37:43.363Z"
   },
   {
    "duration": 13,
    "start_time": "2022-09-26T22:37:43.399Z"
   },
   {
    "duration": 26,
    "start_time": "2022-09-26T22:37:43.413Z"
   },
   {
    "duration": 55,
    "start_time": "2022-09-26T22:54:05.868Z"
   },
   {
    "duration": 18,
    "start_time": "2022-09-26T22:54:18.441Z"
   },
   {
    "duration": 8,
    "start_time": "2022-09-26T22:54:30.481Z"
   },
   {
    "duration": 4,
    "start_time": "2022-09-26T22:54:36.660Z"
   }
  ],
  "colab": {
   "name": "dpp_template_part2.ipynb",
   "provenance": []
  },
  "kernelspec": {
   "display_name": "Python 3.9.13 ('practicum')",
   "language": "python",
   "name": "python3"
  },
  "language_info": {
   "codemirror_mode": {
    "name": "ipython",
    "version": 3
   },
   "file_extension": ".py",
   "mimetype": "text/x-python",
   "name": "python",
   "nbconvert_exporter": "python",
   "pygments_lexer": "ipython3",
   "version": "3.9.13 | packaged by conda-forge | (main, May 27 2022, 16:50:36) [MSC v.1929 64 bit (AMD64)]"
  },
  "toc": {
   "base_numbering": 1,
   "nav_menu": {},
   "number_sections": true,
   "sideBar": true,
   "skip_h1_title": true,
   "title_cell": "Table of Contents",
   "title_sidebar": "Contents",
   "toc_cell": false,
   "toc_position": {},
   "toc_section_display": true,
   "toc_window_display": true
  },
  "vscode": {
   "interpreter": {
    "hash": "7d2820124913e8759b25dbe54761799c4e47197d05694b86c66236c977a46ae7"
   }
  }
 },
 "nbformat": 4,
 "nbformat_minor": 5
}
