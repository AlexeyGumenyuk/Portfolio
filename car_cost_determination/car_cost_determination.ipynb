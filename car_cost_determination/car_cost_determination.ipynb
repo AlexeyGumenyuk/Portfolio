{
 "cells": [
  {
   "attachments": {},
   "cell_type": "markdown",
   "metadata": {},
   "source": [
    "# Определение стоимости автомобилей"
   ]
  },
  {
   "attachments": {},
   "cell_type": "markdown",
   "metadata": {},
   "source": [
    "Сервис по продаже автомобилей с пробегом «Не бит, не крашен» разрабатывает приложение для привлечения новых клиентов. В нём можно быстро узнать рыночную стоимость своего автомобиля. В нашем распоряжении исторические данные: технические характеристики, комплектации и цены автомобилей. Нужно построить модель для определения стоимости.\n",
    "\n",
    "Заказчику важны:\n",
    "- качество предсказания;\n",
    "- скорость предсказания;\n",
    "- время обучения."
   ]
  },
  {
   "attachments": {},
   "cell_type": "markdown",
   "metadata": {},
   "source": [
    "**Содержание**<a id='toc0_'></a>    \n",
    "- 1. [Подготовка данных](#toc1_)    \n",
    "- 2. [Обучение моделей](#toc2_)    \n",
    "  - 2.1. [Дерево решений](#toc2_1_)    \n",
    "  - 2.2. [Случайный лес](#toc2_2_)    \n",
    "  - 2.3. [Градиентный бустинг](#toc2_3_)    \n",
    "- 3. [Анализ моделей](#toc3_)    \n",
    "- 4. [Общий вывод](#toc4_)    \n",
    "- 5. [Чек-лист проверки](#toc5_)    \n",
    "\n",
    "<!-- vscode-jupyter-toc-config\n",
    "\tnumbering=true\n",
    "\tanchor=true\n",
    "\tflat=false\n",
    "\tminLevel=2\n",
    "\tmaxLevel=6\n",
    "\t/vscode-jupyter-toc-config -->\n",
    "<!-- THIS CELL WILL BE REPLACED ON TOC UPDATE. DO NOT WRITE YOUR TEXT IN THIS CELL -->"
   ]
  },
  {
   "attachments": {},
   "cell_type": "markdown",
   "metadata": {},
   "source": [
    "## 1. <a id='toc1_'></a>[Подготовка данных](#toc0_)"
   ]
  },
  {
   "cell_type": "code",
   "execution_count": 1,
   "metadata": {},
   "outputs": [],
   "source": [
    "import pandas as pd\n",
    "pd.set_option('display.max_colwidth', 200)\n",
    "\n",
    "from sklearn.model_selection import train_test_split\n",
    "from sklearn.pipeline import Pipeline\n",
    "from sklearn.impute import SimpleImputer\n",
    "from sklearn.preprocessing import StandardScaler, OrdinalEncoder\n",
    "from sklearn.compose import ColumnTransformer\n",
    "\n",
    "from sklearn.tree import DecisionTreeRegressor\n",
    "from sklearn.ensemble import RandomForestRegressor\n",
    "from sklearn.model_selection import GridSearchCV\n",
    "from sklearn.experimental import enable_halving_search_cv\n",
    "from sklearn.model_selection import HalvingGridSearchCV\n",
    "from sklearn.metrics import mean_squared_error as mse\n",
    "\n",
    "import lightgbm as lgb"
   ]
  },
  {
   "attachments": {},
   "cell_type": "markdown",
   "metadata": {},
   "source": [
    "Загрузим и изучим данные."
   ]
  },
  {
   "cell_type": "code",
   "execution_count": 2,
   "metadata": {},
   "outputs": [],
   "source": [
    "df_raw = pd.read_csv('/datasets/autos.csv')"
   ]
  },
  {
   "cell_type": "code",
   "execution_count": 3,
   "metadata": {},
   "outputs": [
    {
     "data": {
      "text/html": [
       "<div>\n",
       "<style scoped>\n",
       "    .dataframe tbody tr th:only-of-type {\n",
       "        vertical-align: middle;\n",
       "    }\n",
       "\n",
       "    .dataframe tbody tr th {\n",
       "        vertical-align: top;\n",
       "    }\n",
       "\n",
       "    .dataframe thead th {\n",
       "        text-align: right;\n",
       "    }\n",
       "</style>\n",
       "<table border=\"1\" class=\"dataframe\">\n",
       "  <thead>\n",
       "    <tr style=\"text-align: right;\">\n",
       "      <th></th>\n",
       "      <th>DateCrawled</th>\n",
       "      <th>Price</th>\n",
       "      <th>VehicleType</th>\n",
       "      <th>RegistrationYear</th>\n",
       "      <th>Gearbox</th>\n",
       "      <th>Power</th>\n",
       "      <th>Model</th>\n",
       "      <th>Kilometer</th>\n",
       "      <th>RegistrationMonth</th>\n",
       "      <th>FuelType</th>\n",
       "      <th>Brand</th>\n",
       "      <th>Repaired</th>\n",
       "      <th>DateCreated</th>\n",
       "      <th>NumberOfPictures</th>\n",
       "      <th>PostalCode</th>\n",
       "      <th>LastSeen</th>\n",
       "    </tr>\n",
       "  </thead>\n",
       "  <tbody>\n",
       "    <tr>\n",
       "      <th>0</th>\n",
       "      <td>2016-03-24 11:52:17</td>\n",
       "      <td>480</td>\n",
       "      <td>NaN</td>\n",
       "      <td>1993</td>\n",
       "      <td>manual</td>\n",
       "      <td>0</td>\n",
       "      <td>golf</td>\n",
       "      <td>150000</td>\n",
       "      <td>0</td>\n",
       "      <td>petrol</td>\n",
       "      <td>volkswagen</td>\n",
       "      <td>NaN</td>\n",
       "      <td>2016-03-24 00:00:00</td>\n",
       "      <td>0</td>\n",
       "      <td>70435</td>\n",
       "      <td>2016-04-07 03:16:57</td>\n",
       "    </tr>\n",
       "    <tr>\n",
       "      <th>1</th>\n",
       "      <td>2016-03-24 10:58:45</td>\n",
       "      <td>18300</td>\n",
       "      <td>coupe</td>\n",
       "      <td>2011</td>\n",
       "      <td>manual</td>\n",
       "      <td>190</td>\n",
       "      <td>NaN</td>\n",
       "      <td>125000</td>\n",
       "      <td>5</td>\n",
       "      <td>gasoline</td>\n",
       "      <td>audi</td>\n",
       "      <td>yes</td>\n",
       "      <td>2016-03-24 00:00:00</td>\n",
       "      <td>0</td>\n",
       "      <td>66954</td>\n",
       "      <td>2016-04-07 01:46:50</td>\n",
       "    </tr>\n",
       "    <tr>\n",
       "      <th>2</th>\n",
       "      <td>2016-03-14 12:52:21</td>\n",
       "      <td>9800</td>\n",
       "      <td>suv</td>\n",
       "      <td>2004</td>\n",
       "      <td>auto</td>\n",
       "      <td>163</td>\n",
       "      <td>grand</td>\n",
       "      <td>125000</td>\n",
       "      <td>8</td>\n",
       "      <td>gasoline</td>\n",
       "      <td>jeep</td>\n",
       "      <td>NaN</td>\n",
       "      <td>2016-03-14 00:00:00</td>\n",
       "      <td>0</td>\n",
       "      <td>90480</td>\n",
       "      <td>2016-04-05 12:47:46</td>\n",
       "    </tr>\n",
       "    <tr>\n",
       "      <th>3</th>\n",
       "      <td>2016-03-17 16:54:04</td>\n",
       "      <td>1500</td>\n",
       "      <td>small</td>\n",
       "      <td>2001</td>\n",
       "      <td>manual</td>\n",
       "      <td>75</td>\n",
       "      <td>golf</td>\n",
       "      <td>150000</td>\n",
       "      <td>6</td>\n",
       "      <td>petrol</td>\n",
       "      <td>volkswagen</td>\n",
       "      <td>no</td>\n",
       "      <td>2016-03-17 00:00:00</td>\n",
       "      <td>0</td>\n",
       "      <td>91074</td>\n",
       "      <td>2016-03-17 17:40:17</td>\n",
       "    </tr>\n",
       "    <tr>\n",
       "      <th>4</th>\n",
       "      <td>2016-03-31 17:25:20</td>\n",
       "      <td>3600</td>\n",
       "      <td>small</td>\n",
       "      <td>2008</td>\n",
       "      <td>manual</td>\n",
       "      <td>69</td>\n",
       "      <td>fabia</td>\n",
       "      <td>90000</td>\n",
       "      <td>7</td>\n",
       "      <td>gasoline</td>\n",
       "      <td>skoda</td>\n",
       "      <td>no</td>\n",
       "      <td>2016-03-31 00:00:00</td>\n",
       "      <td>0</td>\n",
       "      <td>60437</td>\n",
       "      <td>2016-04-06 10:17:21</td>\n",
       "    </tr>\n",
       "  </tbody>\n",
       "</table>\n",
       "</div>"
      ],
      "text/plain": [
       "           DateCrawled  Price VehicleType  RegistrationYear Gearbox  Power  \\\n",
       "0  2016-03-24 11:52:17    480         NaN              1993  manual      0   \n",
       "1  2016-03-24 10:58:45  18300       coupe              2011  manual    190   \n",
       "2  2016-03-14 12:52:21   9800         suv              2004    auto    163   \n",
       "3  2016-03-17 16:54:04   1500       small              2001  manual     75   \n",
       "4  2016-03-31 17:25:20   3600       small              2008  manual     69   \n",
       "\n",
       "   Model  Kilometer  RegistrationMonth  FuelType       Brand Repaired  \\\n",
       "0   golf     150000                  0    petrol  volkswagen      NaN   \n",
       "1    NaN     125000                  5  gasoline        audi      yes   \n",
       "2  grand     125000                  8  gasoline        jeep      NaN   \n",
       "3   golf     150000                  6    petrol  volkswagen       no   \n",
       "4  fabia      90000                  7  gasoline       skoda       no   \n",
       "\n",
       "           DateCreated  NumberOfPictures  PostalCode             LastSeen  \n",
       "0  2016-03-24 00:00:00                 0       70435  2016-04-07 03:16:57  \n",
       "1  2016-03-24 00:00:00                 0       66954  2016-04-07 01:46:50  \n",
       "2  2016-03-14 00:00:00                 0       90480  2016-04-05 12:47:46  \n",
       "3  2016-03-17 00:00:00                 0       91074  2016-03-17 17:40:17  \n",
       "4  2016-03-31 00:00:00                 0       60437  2016-04-06 10:17:21  "
      ]
     },
     "execution_count": 3,
     "metadata": {},
     "output_type": "execute_result"
    }
   ],
   "source": [
    "df_raw.head()"
   ]
  },
  {
   "cell_type": "code",
   "execution_count": 4,
   "metadata": {},
   "outputs": [
    {
     "name": "stdout",
     "output_type": "stream",
     "text": [
      "<class 'pandas.core.frame.DataFrame'>\n",
      "RangeIndex: 354369 entries, 0 to 354368\n",
      "Data columns (total 16 columns):\n",
      " #   Column             Non-Null Count   Dtype \n",
      "---  ------             --------------   ----- \n",
      " 0   DateCrawled        354369 non-null  object\n",
      " 1   Price              354369 non-null  int64 \n",
      " 2   VehicleType        316879 non-null  object\n",
      " 3   RegistrationYear   354369 non-null  int64 \n",
      " 4   Gearbox            334536 non-null  object\n",
      " 5   Power              354369 non-null  int64 \n",
      " 6   Model              334664 non-null  object\n",
      " 7   Kilometer          354369 non-null  int64 \n",
      " 8   RegistrationMonth  354369 non-null  int64 \n",
      " 9   FuelType           321474 non-null  object\n",
      " 10  Brand              354369 non-null  object\n",
      " 11  Repaired           283215 non-null  object\n",
      " 12  DateCreated        354369 non-null  object\n",
      " 13  NumberOfPictures   354369 non-null  int64 \n",
      " 14  PostalCode         354369 non-null  int64 \n",
      " 15  LastSeen           354369 non-null  object\n",
      "dtypes: int64(7), object(9)\n",
      "memory usage: 43.3+ MB\n"
     ]
    }
   ],
   "source": [
    "df_raw.info()"
   ]
  },
  {
   "cell_type": "code",
   "execution_count": 5,
   "metadata": {},
   "outputs": [
    {
     "data": {
      "text/html": [
       "<div>\n",
       "<style scoped>\n",
       "    .dataframe tbody tr th:only-of-type {\n",
       "        vertical-align: middle;\n",
       "    }\n",
       "\n",
       "    .dataframe tbody tr th {\n",
       "        vertical-align: top;\n",
       "    }\n",
       "\n",
       "    .dataframe thead th {\n",
       "        text-align: right;\n",
       "    }\n",
       "</style>\n",
       "<table border=\"1\" class=\"dataframe\">\n",
       "  <thead>\n",
       "    <tr style=\"text-align: right;\">\n",
       "      <th></th>\n",
       "      <th>Price</th>\n",
       "      <th>RegistrationYear</th>\n",
       "      <th>Power</th>\n",
       "      <th>Kilometer</th>\n",
       "      <th>RegistrationMonth</th>\n",
       "      <th>NumberOfPictures</th>\n",
       "      <th>PostalCode</th>\n",
       "    </tr>\n",
       "  </thead>\n",
       "  <tbody>\n",
       "    <tr>\n",
       "      <th>count</th>\n",
       "      <td>354369.000000</td>\n",
       "      <td>354369.000000</td>\n",
       "      <td>354369.000000</td>\n",
       "      <td>354369.000000</td>\n",
       "      <td>354369.000000</td>\n",
       "      <td>354369.0</td>\n",
       "      <td>354369.000000</td>\n",
       "    </tr>\n",
       "    <tr>\n",
       "      <th>mean</th>\n",
       "      <td>4416.656776</td>\n",
       "      <td>2004.234448</td>\n",
       "      <td>110.094337</td>\n",
       "      <td>128211.172535</td>\n",
       "      <td>5.714645</td>\n",
       "      <td>0.0</td>\n",
       "      <td>50508.689087</td>\n",
       "    </tr>\n",
       "    <tr>\n",
       "      <th>std</th>\n",
       "      <td>4514.158514</td>\n",
       "      <td>90.227958</td>\n",
       "      <td>189.850405</td>\n",
       "      <td>37905.341530</td>\n",
       "      <td>3.726421</td>\n",
       "      <td>0.0</td>\n",
       "      <td>25783.096248</td>\n",
       "    </tr>\n",
       "    <tr>\n",
       "      <th>min</th>\n",
       "      <td>0.000000</td>\n",
       "      <td>1000.000000</td>\n",
       "      <td>0.000000</td>\n",
       "      <td>5000.000000</td>\n",
       "      <td>0.000000</td>\n",
       "      <td>0.0</td>\n",
       "      <td>1067.000000</td>\n",
       "    </tr>\n",
       "    <tr>\n",
       "      <th>25%</th>\n",
       "      <td>1050.000000</td>\n",
       "      <td>1999.000000</td>\n",
       "      <td>69.000000</td>\n",
       "      <td>125000.000000</td>\n",
       "      <td>3.000000</td>\n",
       "      <td>0.0</td>\n",
       "      <td>30165.000000</td>\n",
       "    </tr>\n",
       "    <tr>\n",
       "      <th>50%</th>\n",
       "      <td>2700.000000</td>\n",
       "      <td>2003.000000</td>\n",
       "      <td>105.000000</td>\n",
       "      <td>150000.000000</td>\n",
       "      <td>6.000000</td>\n",
       "      <td>0.0</td>\n",
       "      <td>49413.000000</td>\n",
       "    </tr>\n",
       "    <tr>\n",
       "      <th>75%</th>\n",
       "      <td>6400.000000</td>\n",
       "      <td>2008.000000</td>\n",
       "      <td>143.000000</td>\n",
       "      <td>150000.000000</td>\n",
       "      <td>9.000000</td>\n",
       "      <td>0.0</td>\n",
       "      <td>71083.000000</td>\n",
       "    </tr>\n",
       "    <tr>\n",
       "      <th>max</th>\n",
       "      <td>20000.000000</td>\n",
       "      <td>9999.000000</td>\n",
       "      <td>20000.000000</td>\n",
       "      <td>150000.000000</td>\n",
       "      <td>12.000000</td>\n",
       "      <td>0.0</td>\n",
       "      <td>99998.000000</td>\n",
       "    </tr>\n",
       "  </tbody>\n",
       "</table>\n",
       "</div>"
      ],
      "text/plain": [
       "               Price  RegistrationYear          Power      Kilometer  \\\n",
       "count  354369.000000     354369.000000  354369.000000  354369.000000   \n",
       "mean     4416.656776       2004.234448     110.094337  128211.172535   \n",
       "std      4514.158514         90.227958     189.850405   37905.341530   \n",
       "min         0.000000       1000.000000       0.000000    5000.000000   \n",
       "25%      1050.000000       1999.000000      69.000000  125000.000000   \n",
       "50%      2700.000000       2003.000000     105.000000  150000.000000   \n",
       "75%      6400.000000       2008.000000     143.000000  150000.000000   \n",
       "max     20000.000000       9999.000000   20000.000000  150000.000000   \n",
       "\n",
       "       RegistrationMonth  NumberOfPictures     PostalCode  \n",
       "count      354369.000000          354369.0  354369.000000  \n",
       "mean            5.714645               0.0   50508.689087  \n",
       "std             3.726421               0.0   25783.096248  \n",
       "min             0.000000               0.0    1067.000000  \n",
       "25%             3.000000               0.0   30165.000000  \n",
       "50%             6.000000               0.0   49413.000000  \n",
       "75%             9.000000               0.0   71083.000000  \n",
       "max            12.000000               0.0   99998.000000  "
      ]
     },
     "execution_count": 5,
     "metadata": {},
     "output_type": "execute_result"
    }
   ],
   "source": [
    "df_raw.describe()"
   ]
  },
  {
   "cell_type": "code",
   "execution_count": 6,
   "metadata": {},
   "outputs": [
    {
     "data": {
      "text/plain": [
       "4"
      ]
     },
     "execution_count": 6,
     "metadata": {},
     "output_type": "execute_result"
    }
   ],
   "source": [
    "df_raw.duplicated().sum()"
   ]
  },
  {
   "cell_type": "code",
   "execution_count": 7,
   "metadata": {},
   "outputs": [
    {
     "data": {
      "image/png": "[encoded data removed]",
      "text/plain": [
       "<Figure size 1080x1080 with 9 Axes>"
      ]
     },
     "metadata": {
      "needs_background": "light"
     },
     "output_type": "display_data"
    }
   ],
   "source": [
    "df_raw.hist(figsize=(15, 15));"
   ]
  },
  {
   "cell_type": "code",
   "execution_count": 8,
   "metadata": {},
   "outputs": [
    {
     "data": {
      "text/plain": [
       "0"
      ]
     },
     "execution_count": 8,
     "metadata": {},
     "output_type": "execute_result"
    }
   ],
   "source": [
    "df_raw.NumberOfPictures.sum()"
   ]
  },
  {
   "attachments": {},
   "cell_type": "markdown",
   "metadata": {},
   "source": [
    "Датасет содержит 16 столбцов и ок. 350_000 строк. Несколько столбцов не имеют отношения к цене автомобиля: DateCrawled — дата скачивания анкеты из базы, DateCreated — дата создания анкеты, PostalCode — почтовый индекс владельца анкеты (пользователя),\n",
    "LastSeen — дата последней активности пользователя. Столбец NumberOfPictures — количество фотографий автомобиля — не содержит данных. Удалим все эти столбцы."
   ]
  },
  {
   "cell_type": "code",
   "execution_count": 9,
   "metadata": {},
   "outputs": [],
   "source": [
    "df = df_raw.drop(columns=['DateCrawled', 'DateCreated', 'PostalCode', 'LastSeen', 'NumberOfPictures'])"
   ]
  },
  {
   "cell_type": "code",
   "execution_count": 10,
   "metadata": {},
   "outputs": [
    {
     "name": "stdout",
     "output_type": "stream",
     "text": [
      "<class 'pandas.core.frame.DataFrame'>\n",
      "RangeIndex: 354369 entries, 0 to 354368\n",
      "Data columns (total 11 columns):\n",
      " #   Column             Non-Null Count   Dtype \n",
      "---  ------             --------------   ----- \n",
      " 0   Price              354369 non-null  int64 \n",
      " 1   VehicleType        316879 non-null  object\n",
      " 2   RegistrationYear   354369 non-null  int64 \n",
      " 3   Gearbox            334536 non-null  object\n",
      " 4   Power              354369 non-null  int64 \n",
      " 5   Model              334664 non-null  object\n",
      " 6   Kilometer          354369 non-null  int64 \n",
      " 7   RegistrationMonth  354369 non-null  int64 \n",
      " 8   FuelType           321474 non-null  object\n",
      " 9   Brand              354369 non-null  object\n",
      " 10  Repaired           283215 non-null  object\n",
      "dtypes: int64(5), object(6)\n",
      "memory usage: 29.7+ MB\n"
     ]
    }
   ],
   "source": [
    "df.info()"
   ]
  },
  {
   "attachments": {},
   "cell_type": "markdown",
   "metadata": {},
   "source": [
    "Удалим дубликаты"
   ]
  },
  {
   "cell_type": "code",
   "execution_count": 11,
   "metadata": {},
   "outputs": [],
   "source": [
    "df = df.drop_duplicates()"
   ]
  },
  {
   "attachments": {},
   "cell_type": "markdown",
   "metadata": {},
   "source": [
    "В некоторых столбцах присутствуют аномалии: мощность двигателя (вряд ли может быть более 1000 л.с.), год регистрации меньше 1900 и больше 2016 (год скачивания базы), цена меньше 100 евро (13314 строк). Все эти данные необходимо удалить.\n",
    "\n",
    "Стоит отметить, в датасете 40_000 машин с нулевой мощностью. Среди них могут быть те, в которых нет двигателя. Эти данные не удаляем."
   ]
  },
  {
   "cell_type": "code",
   "execution_count": 12,
   "metadata": {},
   "outputs": [],
   "source": [
    "df = df.drop(df.query('Power > 1000 or 1900 > RegistrationYear > 2016 or Price < 100').index).reset_index(drop=True)"
   ]
  },
  {
   "attachments": {},
   "cell_type": "markdown",
   "metadata": {},
   "source": [
    "Помимо самого возраста автомобиля добавим столбец \"тип возраста\"."
   ]
  },
  {
   "cell_type": "code",
   "execution_count": 13,
   "metadata": {},
   "outputs": [],
   "source": [
    "df['AgeType'] = pd.cut(df.RegistrationYear, [1900, 1960, 1980, 2000, 2020],\n",
    "                       labels=['super_retro', 'retro', 'old', 'new'])"
   ]
  },
  {
   "attachments": {},
   "cell_type": "markdown",
   "metadata": {},
   "source": [
    "Отделим целевой признак от остальных"
   ]
  },
  {
   "cell_type": "code",
   "execution_count": 14,
   "metadata": {},
   "outputs": [],
   "source": [
    "features = df.drop(columns=['Price'])\n",
    "target = df['Price']"
   ]
  },
  {
   "attachments": {},
   "cell_type": "markdown",
   "metadata": {},
   "source": [
    "Разделим данные на обучающую и тестовую выборки"
   ]
  },
  {
   "cell_type": "code",
   "execution_count": 15,
   "metadata": {},
   "outputs": [],
   "source": [
    "features_train, features_test, target_train, target_test = train_test_split(features, target, test_size=0.2, random_state=23456)"
   ]
  },
  {
   "attachments": {},
   "cell_type": "markdown",
   "metadata": {},
   "source": [
    "Для дальнейшей обработки данных будем использовать pipeline.\n",
    "\n",
    "Для категориальных признаков заполним пропуски значением `undefined` (пропуски есть только в категориальных признаках) и применим порядковое кодирование.\n",
    "\n",
    "Для числовых признаков необходимо примении масштабирование."
   ]
  },
  {
   "cell_type": "code",
   "execution_count": 16,
   "metadata": {
    "scrolled": true
   },
   "outputs": [],
   "source": [
    "num_features = features.select_dtypes(include=['int64']).columns\n",
    "cat_features = features.select_dtypes(include=['object']).columns\n",
    "\n",
    "\n",
    "for f_ in cat_features:\n",
    "    df[f_] = df[f_].astype('category')"
   ]
  },
  {
   "cell_type": "code",
   "execution_count": 17,
   "metadata": {},
   "outputs": [],
   "source": [
    "cat_transformer = Pipeline(steps=[\n",
    "    ('imputer', SimpleImputer(strategy='constant', fill_value='undefined')),\n",
    "    ('encoder', OrdinalEncoder(handle_unknown='ignore'))\n",
    "])\n",
    "\n",
    "preprocessor = ColumnTransformer(transformers=[\n",
    "    ('num', StandardScaler(), num_features),\n",
    "    ('cat', cat_transformer, cat_features)\n",
    "])"
   ]
  },
  {
   "attachments": {},
   "cell_type": "markdown",
   "metadata": {},
   "source": [
    "**Вывод по разделу 1:**\n",
    "- Данные изучены, удалены дубликаты и аномалии\n",
    "- Подготовлены обучающая и тестовая выборки\n",
    "- Для дальнейшего обучения моделей подготовлен пайплайн предобработки входных данных"
   ]
  },
  {
   "attachments": {},
   "cell_type": "markdown",
   "metadata": {},
   "source": [
    "## 2. <a id='toc2_'></a>[Обучение моделей](#toc0_)"
   ]
  },
  {
   "attachments": {},
   "cell_type": "markdown",
   "metadata": {},
   "source": [
    "### 2.1. <a id='toc2_1_'></a>[Дерево решений](#toc0_)"
   ]
  },
  {
   "attachments": {},
   "cell_type": "markdown",
   "metadata": {},
   "source": [
    "Первоначально обучим модель дерева решений. Подбор гиперпараметров проведём с помощью `GridSearchCV`"
   ]
  },
  {
   "cell_type": "code",
   "execution_count": 18,
   "metadata": {},
   "outputs": [],
   "source": [
    "pipeline = Pipeline(steps=[\n",
    "    ('preprocessing', preprocessor),\n",
    "    ('model', DecisionTreeRegressor(random_state=3643))\n",
    "])"
   ]
  },
  {
   "cell_type": "code",
   "execution_count": null,
   "metadata": {
    "scrolled": true
   },
   "outputs": [],
   "source": [
    "%%time\n",
    "params = {\n",
    "    'model__max_depth' : [4, 8, 12, 20],\n",
    "    'model__min_samples_leaf' : [1, 4, 8, 12]\n",
    "}\n",
    "\n",
    "grid = GridSearchCV(pipeline, params, scoring='neg_root_mean_squared_error', cv=3, verbose=3, n_jobs=-1)\n",
    "grid.fit(features_train, target_train);"
   ]
  },
  {
   "cell_type": "code",
   "execution_count": 20,
   "metadata": {
    "scrolled": true
   },
   "outputs": [
    {
     "name": "stdout",
     "output_type": "stream",
     "text": [
      "Значение RMSE, время обучения и время оценки и при различных гиперпараметрах:\n",
      "    mean_test_score  mean_fit_time  mean_score_time\n",
      "0      -2679.061622       0.532548         0.148089\n",
      "1      -2679.061622       0.500301         0.136476\n",
      "2      -2679.061622       0.527089         0.159067\n",
      "3      -2679.061622       0.516799         0.147073\n",
      "4      -2154.537769       0.719748         0.158888\n",
      "5      -2155.424746       0.758063         0.157083\n",
      "6      -2155.232696       0.684166         0.160762\n",
      "7      -2155.927673       0.725047         0.171535\n",
      "8      -2007.603172       0.842674         0.158968\n",
      "9      -1981.806209       0.755426         0.156301\n",
      "10     -1968.494979       0.816411         0.161906\n",
      "11     -1963.501217       0.769838         0.146332\n",
      "12     -2230.187192       1.050887         0.153997\n",
      "13     -2000.653311       0.979014         0.159164\n",
      "14     -1927.652026       0.928198         0.153808\n",
      "15     -1911.885106       0.889523         0.148147\n",
      "\n",
      "Лучшие гиперпараметры:\n",
      " {'model__max_depth': 20, 'model__min_samples_leaf': 12}\n",
      "Лучшее значение RMSE: 1911.8851055222267\n"
     ]
    }
   ],
   "source": [
    "print('Значение RMSE, время обучения и время оценки и при различных гиперпараметрах:')\n",
    "print(pd.DataFrame(grid.cv_results_)[['mean_test_score', 'mean_fit_time', 'mean_score_time']])\n",
    "print('\\nЛучшие гиперпараметры:\\n', grid.best_params_)\n",
    "print('Лучшее значение RMSE:', -grid.best_score_)"
   ]
  },
  {
   "attachments": {},
   "cell_type": "markdown",
   "metadata": {},
   "source": [
    "Лучшее значение RMSE (1911) достигается при `max_depth` = 20, `min_samples_leaf` = 12. Время обучения: 0.85 сек., предсказания: 0.13 сек."
   ]
  },
  {
   "attachments": {},
   "cell_type": "markdown",
   "metadata": {},
   "source": [
    "### 2.2. <a id='toc2_2_'></a>[Случайный лес](#toc0_)"
   ]
  },
  {
   "attachments": {},
   "cell_type": "markdown",
   "metadata": {},
   "source": [
    "Теперь обучим модель случайного леса, используя гиперпараметры лучшего решающего дерева."
   ]
  },
  {
   "cell_type": "code",
   "execution_count": 21,
   "metadata": {},
   "outputs": [],
   "source": [
    "params = {\n",
    "    'model__n_estimators' : [20, 50, 70],\n",
    "    'model__max_depth' : [20],\n",
    "    'model__min_samples_leaf' : [12],\n",
    "    'model' : [RandomForestRegressor(random_state=3643)]\n",
    "}\n",
    "\n",
    "rf_grid = GridSearchCV(pipeline, params, scoring='neg_root_mean_squared_error', cv=2, verbose=3, n_jobs=-1)"
   ]
  },
  {
   "cell_type": "code",
   "execution_count": null,
   "metadata": {
    "scrolled": true
   },
   "outputs": [],
   "source": [
    "%%time\n",
    "rf_grid.fit(features_train, target_train);"
   ]
  },
  {
   "cell_type": "code",
   "execution_count": 23,
   "metadata": {},
   "outputs": [
    {
     "name": "stdout",
     "output_type": "stream",
     "text": [
      "Значение RMSE, время обучения и время оценки и при различных гиперпараметрах:\n",
      "   mean_test_score  mean_fit_time  mean_score_time\n",
      "0     -1806.846586       5.482743         0.573756\n",
      "1     -1799.412621      13.483535         1.210292\n",
      "2     -1798.497537      18.455868         1.525086\n",
      "\n",
      "Лучшие гиперпараметры:\n",
      " {'model': RandomForestRegressor(max_depth=20, min_samples_leaf=12, n_estimators=70,\n",
      "                      random_state=3643), 'model__max_depth': 20, 'model__min_samples_leaf': 12, 'model__n_estimators': 70}\n",
      "Лучшее значение RMSE: 1798.497536927326\n"
     ]
    }
   ],
   "source": [
    "print('Значение RMSE, время обучения и время оценки и при различных гиперпараметрах:')\n",
    "print(pd.DataFrame(rf_grid.cv_results_)[['mean_test_score', 'mean_fit_time', 'mean_score_time']])\n",
    "print('\\nЛучшие гиперпараметры:\\n', rf_grid.best_params_)\n",
    "print('Лучшее значение RMSE:', -rf_grid.best_score_)"
   ]
  },
  {
   "attachments": {},
   "cell_type": "markdown",
   "metadata": {},
   "source": [
    "Как оказалось, обучать более 50 деревьев почти не имеет смысла: уменьшение метрики - незначительное, время обучения - кратно возрастает.\n",
    "\n",
    "Поэтому будем считать оптимальными такие гиперпараметры: `max_depth` = 20; `min_samples_leaf` = 12; `n_estimators` = 50. Примерное время обучения одной модели - 13.5 секунд, время предсказания - 1.2 сек., RMSE = 1799.\n",
    "\n",
    "Использование данной модели снижает метрику RMSE на 120 единиц, при этом время обучения вырастает в десятки раз."
   ]
  },
  {
   "attachments": {},
   "cell_type": "markdown",
   "metadata": {},
   "source": [
    "### 2.3. <a id='toc2_3_'></a>[Градиентный бустинг](#toc0_)"
   ]
  },
  {
   "attachments": {},
   "cell_type": "markdown",
   "metadata": {},
   "source": [
    "Для подбора гиперпараметров модели градиентного бустинга сначала попробуем использовать `GridSearchCV`."
   ]
  },
  {
   "cell_type": "code",
   "execution_count": null,
   "metadata": {
    "scrolled": true
   },
   "outputs": [],
   "source": [
    "%%time\n",
    "params = {\"model__max_depth\": [12],\n",
    "          \"model__boosting_type\" : ['gbdt', 'dart'],\n",
    "          \"model__min_child_samples\" : [20],\n",
    "          \"model__learning_rate\" : [0.15, 0.3, 0.45],\n",
    "          \"model__num_leaves\": [31, 70],\n",
    "          \"model__n_estimators\" : [50],\n",
    "          \"model\" : [lgb.LGBMRegressor(random_state=654566)]}\n",
    "\n",
    "lgbm_grid = GridSearchCV(pipeline, params, scoring='neg_root_mean_squared_error', cv=2, verbose=3, n_jobs=-1)\n",
    "lgbm_grid.fit(features_train, target_train);"
   ]
  },
  {
   "cell_type": "code",
   "execution_count": 25,
   "metadata": {},
   "outputs": [
    {
     "name": "stdout",
     "output_type": "stream",
     "text": [
      "Значение RMSE, время обучения и время оценки и при различных гиперпараметрах:\n",
      "    mean_test_score  mean_fit_time  mean_score_time\n",
      "0      -1786.040889     126.812185         0.799577\n",
      "1      -1722.892178     360.119648         0.979755\n",
      "2      -1745.438643     123.149299         0.735221\n",
      "3      -1697.381299      29.194211         0.756972\n",
      "4      -1744.999128      33.348377         0.641968\n",
      "5      -1718.666196      28.790616         0.704407\n",
      "6      -2029.706543      33.546449         0.693212\n",
      "7      -1934.761349      41.946193         0.804762\n",
      "8      -1813.544614      30.899997         0.706575\n",
      "9      -1748.461828     179.540160         0.851039\n",
      "10     -1762.072881      29.298250         0.699045\n",
      "11     -1707.094102     361.216759         0.898213\n",
      "\n",
      "Лучшие гиперпараметры:\n",
      " {'model': LGBMRegressor(learning_rate=0.3, max_depth=12, n_estimators=50, num_leaves=70,\n",
      "              random_state=654566), 'model__boosting_type': 'gbdt', 'model__learning_rate': 0.3, 'model__max_depth': 12, 'model__min_child_samples': 20, 'model__n_estimators': 50, 'model__num_leaves': 70}\n",
      "Лучшее значение RMSE: 1697.3812993395345\n"
     ]
    }
   ],
   "source": [
    "print('Значение RMSE, время обучения и время оценки и при различных гиперпараметрах:')\n",
    "print(pd.DataFrame(lgbm_grid.cv_results_)[['mean_test_score', 'mean_fit_time', 'mean_score_time']])\n",
    "print('\\nЛучшие гиперпараметры:\\n', lgbm_grid.best_params_)\n",
    "print('Лучшее значение RMSE:', -lgbm_grid.best_score_)"
   ]
  },
  {
   "attachments": {},
   "cell_type": "markdown",
   "metadata": {},
   "source": [
    "Для сокращения времени подбора гиперпараметров, попробуем использовать `HalvingGridSearchCV` - поиск по заданным значениям параметров с последовательным делением пополам.\n",
    "<br>В качестве ресурса оставим значение по умолчанию — количество сэмплов для обучения модели."
   ]
  },
  {
   "cell_type": "code",
   "execution_count": 26,
   "metadata": {
    "scrolled": true
   },
   "outputs": [
    {
     "name": "stdout",
     "output_type": "stream",
     "text": [
      "n_iterations: 3\n",
      "n_required_iterations: 3\n",
      "n_possible_iterations: 7\n",
      "min_resources_: 200\n",
      "max_resources_: 251805\n",
      "aggressive_elimination: False\n",
      "factor: 3\n",
      "----------\n",
      "iter: 0\n",
      "n_candidates: 18\n",
      "n_resources: 200\n",
      "Fitting 3 folds for each of 18 candidates, totalling 54 fits\n",
      "[CV 1/3] END model=LGBMRegressor(random_state=654566), model__boosting_type=gbdt, model__learning_rate=0.1, model__max_depth=12, model__min_child_samples=20, model__n_estimators=50, model__num_leaves=31; total time=   6.1s\n",
      "[CV 2/3] END model=LGBMRegressor(random_state=654566), model__boosting_type=gbdt, model__learning_rate=0.1, model__max_depth=12, model__min_child_samples=20, model__n_estimators=50, model__num_leaves=31; total time=  25.5s\n",
      "[CV 3/3] END model=LGBMRegressor(random_state=654566), model__boosting_type=gbdt, model__learning_rate=0.1, model__max_depth=12, model__min_child_samples=20, model__n_estimators=50, model__num_leaves=31; total time=   3.8s\n",
      "[CV 1/3] END model=LGBMRegressor(random_state=654566), model__boosting_type=gbdt, model__learning_rate=0.1, model__max_depth=12, model__min_child_samples=20, model__n_estimators=50, model__num_leaves=70; total time=   5.8s\n",
      "[CV 2/3] END model=LGBMRegressor(random_state=654566), model__boosting_type=gbdt, model__learning_rate=0.1, model__max_depth=12, model__min_child_samples=20, model__n_estimators=50, model__num_leaves=70; total time=   2.7s\n",
      "[CV 3/3] END model=LGBMRegressor(random_state=654566), model__boosting_type=gbdt, model__learning_rate=0.1, model__max_depth=12, model__min_child_samples=20, model__n_estimators=50, model__num_leaves=70; total time=   8.3s\n",
      "[CV 1/3] END model=LGBMRegressor(random_state=654566), model__boosting_type=gbdt, model__learning_rate=0.1, model__max_depth=12, model__min_child_samples=20, model__n_estimators=50, model__num_leaves=100; total time=   0.2s\n",
      "[CV 2/3] END model=LGBMRegressor(random_state=654566), model__boosting_type=gbdt, model__learning_rate=0.1, model__max_depth=12, model__min_child_samples=20, model__n_estimators=50, model__num_leaves=100; total time=   6.9s\n",
      "[CV 3/3] END model=LGBMRegressor(random_state=654566), model__boosting_type=gbdt, model__learning_rate=0.1, model__max_depth=12, model__min_child_samples=20, model__n_estimators=50, model__num_leaves=100; total time=   1.6s\n",
      "[CV 1/3] END model=LGBMRegressor(random_state=654566), model__boosting_type=gbdt, model__learning_rate=0.15, model__max_depth=12, model__min_child_samples=20, model__n_estimators=50, model__num_leaves=31; total time=   1.7s\n",
      "[CV 2/3] END model=LGBMRegressor(random_state=654566), model__boosting_type=gbdt, model__learning_rate=0.15, model__max_depth=12, model__min_child_samples=20, model__n_estimators=50, model__num_leaves=31; total time=   1.2s\n",
      "[CV 3/3] END model=LGBMRegressor(random_state=654566), model__boosting_type=gbdt, model__learning_rate=0.15, model__max_depth=12, model__min_child_samples=20, model__n_estimators=50, model__num_leaves=31; total time=   1.5s\n",
      "[CV 1/3] END model=LGBMRegressor(random_state=654566), model__boosting_type=gbdt, model__learning_rate=0.15, model__max_depth=12, model__min_child_samples=20, model__n_estimators=50, model__num_leaves=70; total time=   4.2s\n",
      "[CV 2/3] END model=LGBMRegressor(random_state=654566), model__boosting_type=gbdt, model__learning_rate=0.15, model__max_depth=12, model__min_child_samples=20, model__n_estimators=50, model__num_leaves=70; total time=   2.6s\n",
      "[CV 3/3] END model=LGBMRegressor(random_state=654566), model__boosting_type=gbdt, model__learning_rate=0.15, model__max_depth=12, model__min_child_samples=20, model__n_estimators=50, model__num_leaves=70; total time=   2.4s\n",
      "[CV 1/3] END model=LGBMRegressor(random_state=654566), model__boosting_type=gbdt, model__learning_rate=0.15, model__max_depth=12, model__min_child_samples=20, model__n_estimators=50, model__num_leaves=100; total time=   0.8s\n",
      "[CV 2/3] END model=LGBMRegressor(random_state=654566), model__boosting_type=gbdt, model__learning_rate=0.15, model__max_depth=12, model__min_child_samples=20, model__n_estimators=50, model__num_leaves=100; total time=   1.0s\n",
      "[CV 3/3] END model=LGBMRegressor(random_state=654566), model__boosting_type=gbdt, model__learning_rate=0.15, model__max_depth=12, model__min_child_samples=20, model__n_estimators=50, model__num_leaves=100; total time=   4.0s\n",
      "[CV 1/3] END model=LGBMRegressor(random_state=654566), model__boosting_type=gbdt, model__learning_rate=0.3, model__max_depth=12, model__min_child_samples=20, model__n_estimators=50, model__num_leaves=31; total time=   0.3s\n",
      "[CV 2/3] END model=LGBMRegressor(random_state=654566), model__boosting_type=gbdt, model__learning_rate=0.3, model__max_depth=12, model__min_child_samples=20, model__n_estimators=50, model__num_leaves=31; total time=   0.6s\n",
      "[CV 3/3] END model=LGBMRegressor(random_state=654566), model__boosting_type=gbdt, model__learning_rate=0.3, model__max_depth=12, model__min_child_samples=20, model__n_estimators=50, model__num_leaves=31; total time=   6.1s\n",
      "[CV 1/3] END model=LGBMRegressor(random_state=654566), model__boosting_type=gbdt, model__learning_rate=0.3, model__max_depth=12, model__min_child_samples=20, model__n_estimators=50, model__num_leaves=70; total time=   2.1s\n",
      "[CV 2/3] END model=LGBMRegressor(random_state=654566), model__boosting_type=gbdt, model__learning_rate=0.3, model__max_depth=12, model__min_child_samples=20, model__n_estimators=50, model__num_leaves=70; total time=   3.4s\n",
      "[CV 3/3] END model=LGBMRegressor(random_state=654566), model__boosting_type=gbdt, model__learning_rate=0.3, model__max_depth=12, model__min_child_samples=20, model__n_estimators=50, model__num_leaves=70; total time=   0.7s\n",
      "[CV 1/3] END model=LGBMRegressor(random_state=654566), model__boosting_type=gbdt, model__learning_rate=0.3, model__max_depth=12, model__min_child_samples=20, model__n_estimators=50, model__num_leaves=100; total time=   0.2s\n",
      "[CV 2/3] END model=LGBMRegressor(random_state=654566), model__boosting_type=gbdt, model__learning_rate=0.3, model__max_depth=12, model__min_child_samples=20, model__n_estimators=50, model__num_leaves=100; total time=   0.8s\n",
      "[CV 3/3] END model=LGBMRegressor(random_state=654566), model__boosting_type=gbdt, model__learning_rate=0.3, model__max_depth=12, model__min_child_samples=20, model__n_estimators=50, model__num_leaves=100; total time=   0.2s\n",
      "[CV 1/3] END model=LGBMRegressor(random_state=654566), model__boosting_type=dart, model__learning_rate=0.1, model__max_depth=12, model__min_child_samples=20, model__n_estimators=50, model__num_leaves=31; total time=   3.2s\n",
      "[CV 2/3] END model=LGBMRegressor(random_state=654566), model__boosting_type=dart, model__learning_rate=0.1, model__max_depth=12, model__min_child_samples=20, model__n_estimators=50, model__num_leaves=31; total time=   4.9s\n",
      "[CV 3/3] END model=LGBMRegressor(random_state=654566), model__boosting_type=dart, model__learning_rate=0.1, model__max_depth=12, model__min_child_samples=20, model__n_estimators=50, model__num_leaves=31; total time=   0.9s\n",
      "[CV 1/3] END model=LGBMRegressor(random_state=654566), model__boosting_type=dart, model__learning_rate=0.1, model__max_depth=12, model__min_child_samples=20, model__n_estimators=50, model__num_leaves=70; total time=   2.3s\n",
      "[CV 2/3] END model=LGBMRegressor(random_state=654566), model__boosting_type=dart, model__learning_rate=0.1, model__max_depth=12, model__min_child_samples=20, model__n_estimators=50, model__num_leaves=70; total time=   0.5s\n",
      "[CV 3/3] END model=LGBMRegressor(random_state=654566), model__boosting_type=dart, model__learning_rate=0.1, model__max_depth=12, model__min_child_samples=20, model__n_estimators=50, model__num_leaves=70; total time=   2.4s\n",
      "[CV 1/3] END model=LGBMRegressor(random_state=654566), model__boosting_type=dart, model__learning_rate=0.1, model__max_depth=12, model__min_child_samples=20, model__n_estimators=50, model__num_leaves=100; total time=   3.5s\n",
      "[CV 2/3] END model=LGBMRegressor(random_state=654566), model__boosting_type=dart, model__learning_rate=0.1, model__max_depth=12, model__min_child_samples=20, model__n_estimators=50, model__num_leaves=100; total time=   2.1s\n",
      "[CV 3/3] END model=LGBMRegressor(random_state=654566), model__boosting_type=dart, model__learning_rate=0.1, model__max_depth=12, model__min_child_samples=20, model__n_estimators=50, model__num_leaves=100; total time=   2.7s\n",
      "[CV 1/3] END model=LGBMRegressor(random_state=654566), model__boosting_type=dart, model__learning_rate=0.15, model__max_depth=12, model__min_child_samples=20, model__n_estimators=50, model__num_leaves=31; total time=   3.0s\n",
      "[CV 2/3] END model=LGBMRegressor(random_state=654566), model__boosting_type=dart, model__learning_rate=0.15, model__max_depth=12, model__min_child_samples=20, model__n_estimators=50, model__num_leaves=31; total time=   0.9s\n",
      "[CV 3/3] END model=LGBMRegressor(random_state=654566), model__boosting_type=dart, model__learning_rate=0.15, model__max_depth=12, model__min_child_samples=20, model__n_estimators=50, model__num_leaves=31; total time=   3.3s\n",
      "[CV 1/3] END model=LGBMRegressor(random_state=654566), model__boosting_type=dart, model__learning_rate=0.15, model__max_depth=12, model__min_child_samples=20, model__n_estimators=50, model__num_leaves=70; total time=   1.0s\n",
      "[CV 2/3] END model=LGBMRegressor(random_state=654566), model__boosting_type=dart, model__learning_rate=0.15, model__max_depth=12, model__min_child_samples=20, model__n_estimators=50, model__num_leaves=70; total time=   2.4s\n",
      "[CV 3/3] END model=LGBMRegressor(random_state=654566), model__boosting_type=dart, model__learning_rate=0.15, model__max_depth=12, model__min_child_samples=20, model__n_estimators=50, model__num_leaves=70; total time=   3.3s\n",
      "[CV 1/3] END model=LGBMRegressor(random_state=654566), model__boosting_type=dart, model__learning_rate=0.15, model__max_depth=12, model__min_child_samples=20, model__n_estimators=50, model__num_leaves=100; total time=   1.4s\n",
      "[CV 2/3] END model=LGBMRegressor(random_state=654566), model__boosting_type=dart, model__learning_rate=0.15, model__max_depth=12, model__min_child_samples=20, model__n_estimators=50, model__num_leaves=100; total time=   2.7s\n",
      "[CV 3/3] END model=LGBMRegressor(random_state=654566), model__boosting_type=dart, model__learning_rate=0.15, model__max_depth=12, model__min_child_samples=20, model__n_estimators=50, model__num_leaves=100; total time=   2.2s\n",
      "[CV 1/3] END model=LGBMRegressor(random_state=654566), model__boosting_type=dart, model__learning_rate=0.3, model__max_depth=12, model__min_child_samples=20, model__n_estimators=50, model__num_leaves=31; total time=   2.3s\n",
      "[CV 2/3] END model=LGBMRegressor(random_state=654566), model__boosting_type=dart, model__learning_rate=0.3, model__max_depth=12, model__min_child_samples=20, model__n_estimators=50, model__num_leaves=31; total time=   5.1s\n",
      "[CV 3/3] END model=LGBMRegressor(random_state=654566), model__boosting_type=dart, model__learning_rate=0.3, model__max_depth=12, model__min_child_samples=20, model__n_estimators=50, model__num_leaves=31; total time=   2.4s\n",
      "[CV 1/3] END model=LGBMRegressor(random_state=654566), model__boosting_type=dart, model__learning_rate=0.3, model__max_depth=12, model__min_child_samples=20, model__n_estimators=50, model__num_leaves=70; total time=   2.0s\n",
      "[CV 2/3] END model=LGBMRegressor(random_state=654566), model__boosting_type=dart, model__learning_rate=0.3, model__max_depth=12, model__min_child_samples=20, model__n_estimators=50, model__num_leaves=70; total time=   6.5s\n",
      "[CV 3/3] END model=LGBMRegressor(random_state=654566), model__boosting_type=dart, model__learning_rate=0.3, model__max_depth=12, model__min_child_samples=20, model__n_estimators=50, model__num_leaves=70; total time=  30.8s\n",
      "[CV 1/3] END model=LGBMRegressor(random_state=654566), model__boosting_type=dart, model__learning_rate=0.3, model__max_depth=12, model__min_child_samples=20, model__n_estimators=50, model__num_leaves=100; total time=   1.0s\n",
      "[CV 2/3] END model=LGBMRegressor(random_state=654566), model__boosting_type=dart, model__learning_rate=0.3, model__max_depth=12, model__min_child_samples=20, model__n_estimators=50, model__num_leaves=100; total time=   1.2s\n",
      "[CV 3/3] END model=LGBMRegressor(random_state=654566), model__boosting_type=dart, model__learning_rate=0.3, model__max_depth=12, model__min_child_samples=20, model__n_estimators=50, model__num_leaves=100; total time=   2.4s\n",
      "----------\n",
      "iter: 1\n",
      "n_candidates: 6\n",
      "n_resources: 600\n",
      "Fitting 3 folds for each of 6 candidates, totalling 18 fits\n",
      "[CV 1/3] END model=LGBMRegressor(random_state=654566), model__boosting_type=gbdt, model__learning_rate=0.1, model__max_depth=12, model__min_child_samples=20, model__n_estimators=50, model__num_leaves=100; total time=   4.7s\n",
      "[CV 2/3] END model=LGBMRegressor(random_state=654566), model__boosting_type=gbdt, model__learning_rate=0.1, model__max_depth=12, model__min_child_samples=20, model__n_estimators=50, model__num_leaves=100; total time=  40.0s\n",
      "[CV 3/3] END model=LGBMRegressor(random_state=654566), model__boosting_type=gbdt, model__learning_rate=0.1, model__max_depth=12, model__min_child_samples=20, model__n_estimators=50, model__num_leaves=100; total time=   3.3s\n",
      "[CV 1/3] END model=LGBMRegressor(random_state=654566), model__boosting_type=gbdt, model__learning_rate=0.1, model__max_depth=12, model__min_child_samples=20, model__n_estimators=50, model__num_leaves=70; total time=   1.7s\n",
      "[CV 2/3] END model=LGBMRegressor(random_state=654566), model__boosting_type=gbdt, model__learning_rate=0.1, model__max_depth=12, model__min_child_samples=20, model__n_estimators=50, model__num_leaves=70; total time=   4.7s\n",
      "[CV 3/3] END model=LGBMRegressor(random_state=654566), model__boosting_type=gbdt, model__learning_rate=0.1, model__max_depth=12, model__min_child_samples=20, model__n_estimators=50, model__num_leaves=70; total time=   7.7s\n",
      "[CV 1/3] END model=LGBMRegressor(random_state=654566), model__boosting_type=gbdt, model__learning_rate=0.1, model__max_depth=12, model__min_child_samples=20, model__n_estimators=50, model__num_leaves=31; total time=   3.7s\n",
      "[CV 2/3] END model=LGBMRegressor(random_state=654566), model__boosting_type=gbdt, model__learning_rate=0.1, model__max_depth=12, model__min_child_samples=20, model__n_estimators=50, model__num_leaves=31; total time=   6.3s\n",
      "[CV 3/3] END model=LGBMRegressor(random_state=654566), model__boosting_type=gbdt, model__learning_rate=0.1, model__max_depth=12, model__min_child_samples=20, model__n_estimators=50, model__num_leaves=31; total time=   9.4s\n",
      "[CV 1/3] END model=LGBMRegressor(random_state=654566), model__boosting_type=gbdt, model__learning_rate=0.15, model__max_depth=12, model__min_child_samples=20, model__n_estimators=50, model__num_leaves=100; total time=   3.5s\n",
      "[CV 2/3] END model=LGBMRegressor(random_state=654566), model__boosting_type=gbdt, model__learning_rate=0.15, model__max_depth=12, model__min_child_samples=20, model__n_estimators=50, model__num_leaves=100; total time=  10.2s\n",
      "[CV 3/3] END model=LGBMRegressor(random_state=654566), model__boosting_type=gbdt, model__learning_rate=0.15, model__max_depth=12, model__min_child_samples=20, model__n_estimators=50, model__num_leaves=100; total time=   7.8s\n",
      "[CV 1/3] END model=LGBMRegressor(random_state=654566), model__boosting_type=gbdt, model__learning_rate=0.15, model__max_depth=12, model__min_child_samples=20, model__n_estimators=50, model__num_leaves=70; total time=   1.2s\n",
      "[CV 2/3] END model=LGBMRegressor(random_state=654566), model__boosting_type=gbdt, model__learning_rate=0.15, model__max_depth=12, model__min_child_samples=20, model__n_estimators=50, model__num_leaves=70; total time=   8.7s\n",
      "[CV 3/3] END model=LGBMRegressor(random_state=654566), model__boosting_type=gbdt, model__learning_rate=0.15, model__max_depth=12, model__min_child_samples=20, model__n_estimators=50, model__num_leaves=70; total time=   3.1s\n",
      "[CV 1/3] END model=LGBMRegressor(random_state=654566), model__boosting_type=gbdt, model__learning_rate=0.15, model__max_depth=12, model__min_child_samples=20, model__n_estimators=50, model__num_leaves=31; total time=   6.2s\n",
      "[CV 2/3] END model=LGBMRegressor(random_state=654566), model__boosting_type=gbdt, model__learning_rate=0.15, model__max_depth=12, model__min_child_samples=20, model__n_estimators=50, model__num_leaves=31; total time=  11.7s\n",
      "[CV 3/3] END model=LGBMRegressor(random_state=654566), model__boosting_type=gbdt, model__learning_rate=0.15, model__max_depth=12, model__min_child_samples=20, model__n_estimators=50, model__num_leaves=31; total time=   4.3s\n",
      "----------\n",
      "iter: 2\n",
      "n_candidates: 2\n",
      "n_resources: 1800\n",
      "Fitting 3 folds for each of 2 candidates, totalling 6 fits\n",
      "[CV 1/3] END model=LGBMRegressor(random_state=654566), model__boosting_type=gbdt, model__learning_rate=0.15, model__max_depth=12, model__min_child_samples=20, model__n_estimators=50, model__num_leaves=70; total time=   8.9s\n",
      "[CV 2/3] END model=LGBMRegressor(random_state=654566), model__boosting_type=gbdt, model__learning_rate=0.15, model__max_depth=12, model__min_child_samples=20, model__n_estimators=50, model__num_leaves=70; total time=  15.1s\n",
      "[CV 3/3] END model=LGBMRegressor(random_state=654566), model__boosting_type=gbdt, model__learning_rate=0.15, model__max_depth=12, model__min_child_samples=20, model__n_estimators=50, model__num_leaves=70; total time=  49.3s\n",
      "[CV 1/3] END model=LGBMRegressor(random_state=654566), model__boosting_type=gbdt, model__learning_rate=0.15, model__max_depth=12, model__min_child_samples=20, model__n_estimators=50, model__num_leaves=31; total time=  21.0s\n",
      "[CV 2/3] END model=LGBMRegressor(random_state=654566), model__boosting_type=gbdt, model__learning_rate=0.15, model__max_depth=12, model__min_child_samples=20, model__n_estimators=50, model__num_leaves=31; total time=  22.7s\n",
      "[CV 3/3] END model=LGBMRegressor(random_state=654566), model__boosting_type=gbdt, model__learning_rate=0.15, model__max_depth=12, model__min_child_samples=20, model__n_estimators=50, model__num_leaves=31; total time=   2.4s\n",
      "Значения RMSE при различных гиперпараметрах:\n",
      "                                                                                                                                                                                                     params  \\\n",
      "0   {'model': LGBMRegressor(learning_rate=0.15, max_depth=12, n_estimators=50,\n",
      "              random_state=654566), 'model__boosting_type': 'gbdt', 'model__learning_rate': 0.1, 'model__max_depth': 12, ...   \n",
      "1   {'model': LGBMRegressor(learning_rate=0.15, max_depth=12, n_estimators=50,\n",
      "              random_state=654566), 'model__boosting_type': 'gbdt', 'model__learning_rate': 0.1, 'model__max_depth': 12, ...   \n",
      "2   {'model': LGBMRegressor(learning_rate=0.15, max_depth=12, n_estimators=50,\n",
      "              random_state=654566), 'model__boosting_type': 'gbdt', 'model__learning_rate': 0.1, 'model__max_depth': 12, ...   \n",
      "3   {'model': LGBMRegressor(learning_rate=0.15, max_depth=12, n_estimators=50,\n",
      "              random_state=654566), 'model__boosting_type': 'gbdt', 'model__learning_rate': 0.15, 'model__max_depth': 12,...   \n",
      "4   {'model': LGBMRegressor(learning_rate=0.15, max_depth=12, n_estimators=50,\n",
      "              random_state=654566), 'model__boosting_type': 'gbdt', 'model__learning_rate': 0.15, 'model__max_depth': 12,...   \n",
      "5   {'model': LGBMRegressor(learning_rate=0.15, max_depth=12, n_estimators=50,\n",
      "              random_state=654566), 'model__boosting_type': 'gbdt', 'model__learning_rate': 0.15, 'model__max_depth': 12,...   \n",
      "6   {'model': LGBMRegressor(learning_rate=0.15, max_depth=12, n_estimators=50,\n",
      "              random_state=654566), 'model__boosting_type': 'gbdt', 'model__learning_rate': 0.3, 'model__max_depth': 12, ...   \n",
      "7   {'model': LGBMRegressor(learning_rate=0.15, max_depth=12, n_estimators=50,\n",
      "              random_state=654566), 'model__boosting_type': 'gbdt', 'model__learning_rate': 0.3, 'model__max_depth': 12, ...   \n",
      "8   {'model': LGBMRegressor(learning_rate=0.15, max_depth=12, n_estimators=50,\n",
      "              random_state=654566), 'model__boosting_type': 'gbdt', 'model__learning_rate': 0.3, 'model__max_depth': 12, ...   \n",
      "9   {'model': LGBMRegressor(learning_rate=0.15, max_depth=12, n_estimators=50,\n",
      "              random_state=654566), 'model__boosting_type': 'dart', 'model__learning_rate': 0.1, 'model__max_depth': 12, ...   \n",
      "10  {'model': LGBMRegressor(learning_rate=0.15, max_depth=12, n_estimators=50,\n",
      "              random_state=654566), 'model__boosting_type': 'dart', 'model__learning_rate': 0.1, 'model__max_depth': 12, ...   \n",
      "11  {'model': LGBMRegressor(learning_rate=0.15, max_depth=12, n_estimators=50,\n",
      "              random_state=654566), 'model__boosting_type': 'dart', 'model__learning_rate': 0.1, 'model__max_depth': 12, ...   \n",
      "12  {'model': LGBMRegressor(learning_rate=0.15, max_depth=12, n_estimators=50,\n",
      "              random_state=654566), 'model__boosting_type': 'dart', 'model__learning_rate': 0.15, 'model__max_depth': 12,...   \n",
      "13  {'model': LGBMRegressor(learning_rate=0.15, max_depth=12, n_estimators=50,\n",
      "              random_state=654566), 'model__boosting_type': 'dart', 'model__learning_rate': 0.15, 'model__max_depth': 12,...   \n",
      "14  {'model': LGBMRegressor(learning_rate=0.15, max_depth=12, n_estimators=50,\n",
      "              random_state=654566), 'model__boosting_type': 'dart', 'model__learning_rate': 0.15, 'model__max_depth': 12,...   \n",
      "15  {'model': LGBMRegressor(learning_rate=0.15, max_depth=12, n_estimators=50,\n",
      "              random_state=654566), 'model__boosting_type': 'dart', 'model__learning_rate': 0.3, 'model__max_depth': 12, ...   \n",
      "16  {'model': LGBMRegressor(learning_rate=0.15, max_depth=12, n_estimators=50,\n",
      "              random_state=654566), 'model__boosting_type': 'dart', 'model__learning_rate': 0.3, 'model__max_depth': 12, ...   \n",
      "17  {'model': LGBMRegressor(learning_rate=0.15, max_depth=12, n_estimators=50,\n",
      "              random_state=654566), 'model__boosting_type': 'dart', 'model__learning_rate': 0.3, 'model__max_depth': 12, ...   \n",
      "18  {'model': LGBMRegressor(learning_rate=0.15, max_depth=12, n_estimators=50,\n",
      "              random_state=654566), 'model__boosting_type': 'gbdt', 'model__learning_rate': 0.1, 'model__max_depth': 12, ...   \n",
      "19  {'model': LGBMRegressor(learning_rate=0.15, max_depth=12, n_estimators=50,\n",
      "              random_state=654566), 'model__boosting_type': 'gbdt', 'model__learning_rate': 0.1, 'model__max_depth': 12, ...   \n",
      "20  {'model': LGBMRegressor(learning_rate=0.15, max_depth=12, n_estimators=50,\n",
      "              random_state=654566), 'model__boosting_type': 'gbdt', 'model__learning_rate': 0.1, 'model__max_depth': 12, ...   \n",
      "21  {'model': LGBMRegressor(learning_rate=0.15, max_depth=12, n_estimators=50,\n",
      "              random_state=654566), 'model__boosting_type': 'gbdt', 'model__learning_rate': 0.15, 'model__max_depth': 12,...   \n",
      "22  {'model': LGBMRegressor(learning_rate=0.15, max_depth=12, n_estimators=50,\n",
      "              random_state=654566), 'model__boosting_type': 'gbdt', 'model__learning_rate': 0.15, 'model__max_depth': 12,...   \n",
      "23  {'model': LGBMRegressor(learning_rate=0.15, max_depth=12, n_estimators=50,\n",
      "              random_state=654566), 'model__boosting_type': 'gbdt', 'model__learning_rate': 0.15, 'model__max_depth': 12,...   \n",
      "24  {'model': LGBMRegressor(learning_rate=0.15, max_depth=12, n_estimators=50,\n",
      "              random_state=654566), 'model__boosting_type': 'gbdt', 'model__learning_rate': 0.15, 'model__max_depth': 12,...   \n",
      "25  {'model': LGBMRegressor(learning_rate=0.15, max_depth=12, n_estimators=50,\n",
      "              random_state=654566), 'model__boosting_type': 'gbdt', 'model__learning_rate': 0.15, 'model__max_depth': 12,...   \n",
      "\n",
      "    mean_test_score  \n",
      "0      -2614.358991  \n",
      "1      -2614.358991  \n",
      "2      -2614.358991  \n",
      "3      -2607.484800  \n",
      "4      -2607.484800  \n",
      "5      -2607.484800  \n",
      "6      -2694.550838  \n",
      "7      -2694.550838  \n",
      "8      -2694.550838  \n",
      "9      -2865.088376  \n",
      "10     -2865.088376  \n",
      "11     -2865.088376  \n",
      "12     -2732.334705  \n",
      "13     -2732.334705  \n",
      "14     -2732.334705  \n",
      "15     -2624.546949  \n",
      "16     -2624.546949  \n",
      "17     -2624.546949  \n",
      "18     -2301.981306  \n",
      "19     -2301.981306  \n",
      "20     -2301.981306  \n",
      "21     -2293.402129  \n",
      "22     -2293.402129  \n",
      "23     -2293.402129  \n",
      "24     -2130.726049  \n",
      "25     -2111.268615  \n",
      "\n",
      "Лучшие гиперпараметры:\n",
      " {'model': LGBMRegressor(learning_rate=0.15, max_depth=12, n_estimators=50,\n",
      "              random_state=654566), 'model__boosting_type': 'gbdt', 'model__learning_rate': 0.15, 'model__max_depth': 12, 'model__min_child_samples': 20, 'model__n_estimators': 50, 'model__num_leaves': 31}\n",
      "Лучшее значение RMSE: 2111.2686145451794\n",
      "CPU times: user 8min, sys: 4.53 s, total: 8min 4s\n",
      "Wall time: 8min 8s\n"
     ]
    }
   ],
   "source": [
    "%%time\n",
    "params = {\"model__max_depth\": [12],\n",
    "          \"model__boosting_type\" : ['gbdt', 'dart'],\n",
    "          \"model__min_child_samples\" : [20],\n",
    "          \"model__learning_rate\" : [0.1, 0.15, 0.3],\n",
    "          \"model__num_leaves\": [31, 70, 100],\n",
    "          \"model__n_estimators\" : [50],\n",
    "          \"model\" : [lgb.LGBMRegressor(random_state=654566)]}\n",
    "\n",
    "lgbm_hgrid  = HalvingGridSearchCV(pipeline, params, scoring='neg_root_mean_squared_error',\n",
    "                                  cv=3, verbose=3, n_jobs=-1, min_resources=200, factor=3)\n",
    "lgbm_hgrid.fit(features_train, target_train);\n",
    "\n",
    "print('Значения RMSE при различных гиперпараметрах:')\n",
    "print(pd.DataFrame(lgbm_hgrid.cv_results_)[['params', 'mean_test_score']])\n",
    "print('\\nЛучшие гиперпараметры:\\n', lgbm_hgrid.best_params_)\n",
    "print('Лучшее значение RMSE:', -lgbm_hgrid.best_score_) "
   ]
  },
  {
   "attachments": {},
   "cell_type": "markdown",
   "metadata": {},
   "source": [
    "Описанный выше метод даёт некачественные результаты, поэтому изменим тип ресурса на количество обучаемых деревьев."
   ]
  },
  {
   "cell_type": "code",
   "execution_count": 27,
   "metadata": {
    "scrolled": true
   },
   "outputs": [
    {
     "name": "stdout",
     "output_type": "stream",
     "text": [
      "n_iterations: 4\n",
      "n_required_iterations: 4\n",
      "n_possible_iterations: 4\n",
      "min_resources_: 5\n",
      "max_resources_: 150\n",
      "aggressive_elimination: False\n",
      "factor: 3\n",
      "----------\n",
      "iter: 0\n",
      "n_candidates: 36\n",
      "n_resources: 5\n",
      "Fitting 2 folds for each of 36 candidates, totalling 72 fits\n",
      "[CV 1/2] END model__boosting_type=gbdt, model__learning_rate=0.1, model__max_depth=12, model__min_child_samples=12, model__n_estimators=5, model__num_leaves=31; total time=   2.3s\n",
      "[CV 2/2] END model__boosting_type=gbdt, model__learning_rate=0.1, model__max_depth=12, model__min_child_samples=12, model__n_estimators=5, model__num_leaves=31; total time=   2.9s\n",
      "[CV 1/2] END model__boosting_type=gbdt, model__learning_rate=0.1, model__max_depth=12, model__min_child_samples=12, model__n_estimators=5, model__num_leaves=100; total time=   3.7s\n",
      "[CV 2/2] END model__boosting_type=gbdt, model__learning_rate=0.1, model__max_depth=12, model__min_child_samples=12, model__n_estimators=5, model__num_leaves=100; total time=   5.9s\n",
      "[CV 1/2] END model__boosting_type=gbdt, model__learning_rate=0.1, model__max_depth=12, model__min_child_samples=12, model__n_estimators=5, model__num_leaves=150; total time=   5.6s\n",
      "[CV 2/2] END model__boosting_type=gbdt, model__learning_rate=0.1, model__max_depth=12, model__min_child_samples=12, model__n_estimators=5, model__num_leaves=150; total time=  12.0s\n",
      "[CV 1/2] END model__boosting_type=gbdt, model__learning_rate=0.1, model__max_depth=12, model__min_child_samples=20, model__n_estimators=5, model__num_leaves=31; total time=   1.6s\n",
      "[CV 2/2] END model__boosting_type=gbdt, model__learning_rate=0.1, model__max_depth=12, model__min_child_samples=20, model__n_estimators=5, model__num_leaves=31; total time=   2.6s\n",
      "[CV 1/2] END model__boosting_type=gbdt, model__learning_rate=0.1, model__max_depth=12, model__min_child_samples=20, model__n_estimators=5, model__num_leaves=100; total time=  32.0s\n",
      "[CV 2/2] END model__boosting_type=gbdt, model__learning_rate=0.1, model__max_depth=12, model__min_child_samples=20, model__n_estimators=5, model__num_leaves=100; total time=   3.6s\n",
      "[CV 1/2] END model__boosting_type=gbdt, model__learning_rate=0.1, model__max_depth=12, model__min_child_samples=20, model__n_estimators=5, model__num_leaves=150; total time=   8.9s\n",
      "[CV 2/2] END model__boosting_type=gbdt, model__learning_rate=0.1, model__max_depth=12, model__min_child_samples=20, model__n_estimators=5, model__num_leaves=150; total time=   8.3s\n",
      "[CV 1/2] END model__boosting_type=gbdt, model__learning_rate=0.3, model__max_depth=12, model__min_child_samples=12, model__n_estimators=5, model__num_leaves=31; total time=   4.1s\n",
      "[CV 2/2] END model__boosting_type=gbdt, model__learning_rate=0.3, model__max_depth=12, model__min_child_samples=12, model__n_estimators=5, model__num_leaves=31; total time=   1.9s\n",
      "[CV 1/2] END model__boosting_type=gbdt, model__learning_rate=0.3, model__max_depth=12, model__min_child_samples=12, model__n_estimators=5, model__num_leaves=100; total time=   5.0s\n",
      "[CV 2/2] END model__boosting_type=gbdt, model__learning_rate=0.3, model__max_depth=12, model__min_child_samples=12, model__n_estimators=5, model__num_leaves=100; total time=   3.2s\n",
      "[CV 1/2] END model__boosting_type=gbdt, model__learning_rate=0.3, model__max_depth=12, model__min_child_samples=12, model__n_estimators=5, model__num_leaves=150; total time=   5.1s\n",
      "[CV 2/2] END model__boosting_type=gbdt, model__learning_rate=0.3, model__max_depth=12, model__min_child_samples=12, model__n_estimators=5, model__num_leaves=150; total time=   4.2s\n",
      "[CV 1/2] END model__boosting_type=gbdt, model__learning_rate=0.3, model__max_depth=12, model__min_child_samples=20, model__n_estimators=5, model__num_leaves=31; total time=   3.6s\n",
      "[CV 2/2] END model__boosting_type=gbdt, model__learning_rate=0.3, model__max_depth=12, model__min_child_samples=20, model__n_estimators=5, model__num_leaves=31; total time=   3.6s\n",
      "[CV 1/2] END model__boosting_type=gbdt, model__learning_rate=0.3, model__max_depth=12, model__min_child_samples=20, model__n_estimators=5, model__num_leaves=100; total time=   2.9s\n",
      "[CV 2/2] END model__boosting_type=gbdt, model__learning_rate=0.3, model__max_depth=12, model__min_child_samples=20, model__n_estimators=5, model__num_leaves=100; total time=   5.3s\n",
      "[CV 1/2] END model__boosting_type=gbdt, model__learning_rate=0.3, model__max_depth=12, model__min_child_samples=20, model__n_estimators=5, model__num_leaves=150; total time=   5.5s\n",
      "[CV 2/2] END model__boosting_type=gbdt, model__learning_rate=0.3, model__max_depth=12, model__min_child_samples=20, model__n_estimators=5, model__num_leaves=150; total time=   7.0s\n",
      "[CV 1/2] END model__boosting_type=gbdt, model__learning_rate=0.4, model__max_depth=12, model__min_child_samples=12, model__n_estimators=5, model__num_leaves=31; total time=   2.2s\n",
      "[CV 2/2] END model__boosting_type=gbdt, model__learning_rate=0.4, model__max_depth=12, model__min_child_samples=12, model__n_estimators=5, model__num_leaves=31; total time=   4.5s\n",
      "[CV 1/2] END model__boosting_type=gbdt, model__learning_rate=0.4, model__max_depth=12, model__min_child_samples=12, model__n_estimators=5, model__num_leaves=100; total time=   5.0s\n",
      "[CV 2/2] END model__boosting_type=gbdt, model__learning_rate=0.4, model__max_depth=12, model__min_child_samples=12, model__n_estimators=5, model__num_leaves=100; total time=   3.8s\n",
      "[CV 1/2] END model__boosting_type=gbdt, model__learning_rate=0.4, model__max_depth=12, model__min_child_samples=12, model__n_estimators=5, model__num_leaves=150; total time=   7.0s\n",
      "[CV 2/2] END model__boosting_type=gbdt, model__learning_rate=0.4, model__max_depth=12, model__min_child_samples=12, model__n_estimators=5, model__num_leaves=150; total time=   4.2s\n",
      "[CV 1/2] END model__boosting_type=gbdt, model__learning_rate=0.4, model__max_depth=12, model__min_child_samples=20, model__n_estimators=5, model__num_leaves=31; total time=   4.1s\n",
      "[CV 2/2] END model__boosting_type=gbdt, model__learning_rate=0.4, model__max_depth=12, model__min_child_samples=20, model__n_estimators=5, model__num_leaves=31; total time=   3.5s\n",
      "[CV 1/2] END model__boosting_type=gbdt, model__learning_rate=0.4, model__max_depth=12, model__min_child_samples=20, model__n_estimators=5, model__num_leaves=100; total time=   2.9s\n",
      "[CV 2/2] END model__boosting_type=gbdt, model__learning_rate=0.4, model__max_depth=12, model__min_child_samples=20, model__n_estimators=5, model__num_leaves=100; total time=   5.4s\n",
      "[CV 1/2] END model__boosting_type=gbdt, model__learning_rate=0.4, model__max_depth=12, model__min_child_samples=20, model__n_estimators=5, model__num_leaves=150; total time=   4.9s\n",
      "[CV 2/2] END model__boosting_type=gbdt, model__learning_rate=0.4, model__max_depth=12, model__min_child_samples=20, model__n_estimators=5, model__num_leaves=150; total time=   6.2s\n",
      "[CV 1/2] END model__boosting_type=dart, model__learning_rate=0.1, model__max_depth=12, model__min_child_samples=12, model__n_estimators=5, model__num_leaves=31; total time=   4.0s\n",
      "[CV 2/2] END model__boosting_type=dart, model__learning_rate=0.1, model__max_depth=12, model__min_child_samples=12, model__n_estimators=5, model__num_leaves=31; total time=   2.4s\n",
      "[CV 1/2] END model__boosting_type=dart, model__learning_rate=0.1, model__max_depth=12, model__min_child_samples=12, model__n_estimators=5, model__num_leaves=100; total time=   4.5s\n",
      "[CV 2/2] END model__boosting_type=dart, model__learning_rate=0.1, model__max_depth=12, model__min_child_samples=12, model__n_estimators=5, model__num_leaves=100; total time=   5.3s\n",
      "[CV 1/2] END model__boosting_type=dart, model__learning_rate=0.1, model__max_depth=12, model__min_child_samples=12, model__n_estimators=5, model__num_leaves=150; total time=   4.9s\n",
      "[CV 2/2] END model__boosting_type=dart, model__learning_rate=0.1, model__max_depth=12, model__min_child_samples=12, model__n_estimators=5, model__num_leaves=150; total time=   5.3s\n",
      "[CV 1/2] END model__boosting_type=dart, model__learning_rate=0.1, model__max_depth=12, model__min_child_samples=20, model__n_estimators=5, model__num_leaves=31; total time=  28.3s\n",
      "[CV 2/2] END model__boosting_type=dart, model__learning_rate=0.1, model__max_depth=12, model__min_child_samples=20, model__n_estimators=5, model__num_leaves=31; total time=  22.1s\n",
      "[CV 1/2] END model__boosting_type=dart, model__learning_rate=0.1, model__max_depth=12, model__min_child_samples=20, model__n_estimators=5, model__num_leaves=100; total time=  16.9s\n",
      "[CV 2/2] END model__boosting_type=dart, model__learning_rate=0.1, model__max_depth=12, model__min_child_samples=20, model__n_estimators=5, model__num_leaves=100; total time=   4.4s\n",
      "[CV 1/2] END model__boosting_type=dart, model__learning_rate=0.1, model__max_depth=12, model__min_child_samples=20, model__n_estimators=5, model__num_leaves=150; total time=   6.0s\n",
      "[CV 2/2] END model__boosting_type=dart, model__learning_rate=0.1, model__max_depth=12, model__min_child_samples=20, model__n_estimators=5, model__num_leaves=150; total time=   6.6s\n",
      "[CV 1/2] END model__boosting_type=dart, model__learning_rate=0.3, model__max_depth=12, model__min_child_samples=12, model__n_estimators=5, model__num_leaves=31; total time=   3.9s\n",
      "[CV 2/2] END model__boosting_type=dart, model__learning_rate=0.3, model__max_depth=12, model__min_child_samples=12, model__n_estimators=5, model__num_leaves=31; total time=   2.6s\n",
      "[CV 1/2] END model__boosting_type=dart, model__learning_rate=0.3, model__max_depth=12, model__min_child_samples=12, model__n_estimators=5, model__num_leaves=100; total time=   5.3s\n",
      "[CV 2/2] END model__boosting_type=dart, model__learning_rate=0.3, model__max_depth=12, model__min_child_samples=12, model__n_estimators=5, model__num_leaves=100; total time=   7.0s\n",
      "[CV 1/2] END model__boosting_type=dart, model__learning_rate=0.3, model__max_depth=12, model__min_child_samples=12, model__n_estimators=5, model__num_leaves=150; total time=   4.6s\n",
      "[CV 2/2] END model__boosting_type=dart, model__learning_rate=0.3, model__max_depth=12, model__min_child_samples=12, model__n_estimators=5, model__num_leaves=150; total time=   3.3s\n",
      "[CV 1/2] END model__boosting_type=dart, model__learning_rate=0.3, model__max_depth=12, model__min_child_samples=20, model__n_estimators=5, model__num_leaves=31; total time=   3.3s\n",
      "[CV 2/2] END model__boosting_type=dart, model__learning_rate=0.3, model__max_depth=12, model__min_child_samples=20, model__n_estimators=5, model__num_leaves=31; total time=   2.0s\n",
      "[CV 1/2] END model__boosting_type=dart, model__learning_rate=0.3, model__max_depth=12, model__min_child_samples=20, model__n_estimators=5, model__num_leaves=100; total time=   4.5s\n",
      "[CV 2/2] END model__boosting_type=dart, model__learning_rate=0.3, model__max_depth=12, model__min_child_samples=20, model__n_estimators=5, model__num_leaves=100; total time=   4.1s\n",
      "[CV 1/2] END model__boosting_type=dart, model__learning_rate=0.3, model__max_depth=12, model__min_child_samples=20, model__n_estimators=5, model__num_leaves=150; total time=   4.9s\n",
      "[CV 2/2] END model__boosting_type=dart, model__learning_rate=0.3, model__max_depth=12, model__min_child_samples=20, model__n_estimators=5, model__num_leaves=150; total time=   4.0s\n",
      "[CV 1/2] END model__boosting_type=dart, model__learning_rate=0.4, model__max_depth=12, model__min_child_samples=12, model__n_estimators=5, model__num_leaves=31; total time=   4.8s\n",
      "[CV 2/2] END model__boosting_type=dart, model__learning_rate=0.4, model__max_depth=12, model__min_child_samples=12, model__n_estimators=5, model__num_leaves=31; total time=   2.0s\n",
      "[CV 1/2] END model__boosting_type=dart, model__learning_rate=0.4, model__max_depth=12, model__min_child_samples=12, model__n_estimators=5, model__num_leaves=100; total time=  10.4s\n",
      "[CV 2/2] END model__boosting_type=dart, model__learning_rate=0.4, model__max_depth=12, model__min_child_samples=12, model__n_estimators=5, model__num_leaves=100; total time=   2.0s\n",
      "[CV 1/2] END model__boosting_type=dart, model__learning_rate=0.4, model__max_depth=12, model__min_child_samples=12, model__n_estimators=5, model__num_leaves=150; total time=   4.0s\n",
      "[CV 2/2] END model__boosting_type=dart, model__learning_rate=0.4, model__max_depth=12, model__min_child_samples=12, model__n_estimators=5, model__num_leaves=150; total time=   5.1s\n",
      "[CV 1/2] END model__boosting_type=dart, model__learning_rate=0.4, model__max_depth=12, model__min_child_samples=20, model__n_estimators=5, model__num_leaves=31; total time=   3.1s\n",
      "[CV 2/2] END model__boosting_type=dart, model__learning_rate=0.4, model__max_depth=12, model__min_child_samples=20, model__n_estimators=5, model__num_leaves=31; total time=   2.0s\n",
      "[CV 1/2] END model__boosting_type=dart, model__learning_rate=0.4, model__max_depth=12, model__min_child_samples=20, model__n_estimators=5, model__num_leaves=100; total time=   4.1s\n",
      "[CV 2/2] END model__boosting_type=dart, model__learning_rate=0.4, model__max_depth=12, model__min_child_samples=20, model__n_estimators=5, model__num_leaves=100; total time=   4.9s\n",
      "[CV 1/2] END model__boosting_type=dart, model__learning_rate=0.4, model__max_depth=12, model__min_child_samples=20, model__n_estimators=5, model__num_leaves=150; total time=   4.3s\n",
      "[CV 2/2] END model__boosting_type=dart, model__learning_rate=0.4, model__max_depth=12, model__min_child_samples=20, model__n_estimators=5, model__num_leaves=150; total time=   4.2s\n",
      "----------\n",
      "iter: 1\n",
      "n_candidates: 12\n",
      "n_resources: 15\n",
      "Fitting 2 folds for each of 12 candidates, totalling 24 fits\n",
      "[CV 1/2] END model__boosting_type=gbdt, model__learning_rate=0.3, model__max_depth=12, model__min_child_samples=12, model__n_estimators=15, model__num_leaves=100; total time=  13.4s\n",
      "[CV 2/2] END model__boosting_type=gbdt, model__learning_rate=0.3, model__max_depth=12, model__min_child_samples=12, model__n_estimators=15, model__num_leaves=100; total time=   6.6s\n",
      "[CV 1/2] END model__boosting_type=gbdt, model__learning_rate=0.4, model__max_depth=12, model__min_child_samples=20, model__n_estimators=15, model__num_leaves=31; total time=  14.7s\n",
      "[CV 2/2] END model__boosting_type=gbdt, model__learning_rate=0.4, model__max_depth=12, model__min_child_samples=20, model__n_estimators=15, model__num_leaves=31; total time=  21.0s\n",
      "[CV 1/2] END model__boosting_type=gbdt, model__learning_rate=0.4, model__max_depth=12, model__min_child_samples=12, model__n_estimators=15, model__num_leaves=31; total time=   6.9s\n",
      "[CV 2/2] END model__boosting_type=gbdt, model__learning_rate=0.4, model__max_depth=12, model__min_child_samples=12, model__n_estimators=15, model__num_leaves=31; total time=   7.2s\n",
      "[CV 1/2] END model__boosting_type=gbdt, model__learning_rate=0.3, model__max_depth=12, model__min_child_samples=20, model__n_estimators=15, model__num_leaves=100; total time=   7.7s\n",
      "[CV 2/2] END model__boosting_type=gbdt, model__learning_rate=0.3, model__max_depth=12, model__min_child_samples=20, model__n_estimators=15, model__num_leaves=100; total time=   5.6s\n",
      "[CV 1/2] END model__boosting_type=dart, model__learning_rate=0.4, model__max_depth=12, model__min_child_samples=20, model__n_estimators=15, model__num_leaves=150; total time=  11.3s\n",
      "[CV 2/2] END model__boosting_type=dart, model__learning_rate=0.4, model__max_depth=12, model__min_child_samples=20, model__n_estimators=15, model__num_leaves=150; total time=  22.3s\n",
      "[CV 1/2] END model__boosting_type=dart, model__learning_rate=0.4, model__max_depth=12, model__min_child_samples=12, model__n_estimators=15, model__num_leaves=150; total time= 2.7min\n",
      "[CV 2/2] END model__boosting_type=dart, model__learning_rate=0.4, model__max_depth=12, model__min_child_samples=12, model__n_estimators=15, model__num_leaves=150; total time= 2.4min\n",
      "[CV 1/2] END model__boosting_type=gbdt, model__learning_rate=0.3, model__max_depth=12, model__min_child_samples=12, model__n_estimators=15, model__num_leaves=150; total time=  15.6s\n",
      "[CV 2/2] END model__boosting_type=gbdt, model__learning_rate=0.3, model__max_depth=12, model__min_child_samples=12, model__n_estimators=15, model__num_leaves=150; total time=  13.2s\n",
      "[CV 1/2] END model__boosting_type=gbdt, model__learning_rate=0.3, model__max_depth=12, model__min_child_samples=20, model__n_estimators=15, model__num_leaves=150; total time=  29.5s\n",
      "[CV 2/2] END model__boosting_type=gbdt, model__learning_rate=0.3, model__max_depth=12, model__min_child_samples=20, model__n_estimators=15, model__num_leaves=150; total time=  31.0s\n",
      "[CV 1/2] END model__boosting_type=gbdt, model__learning_rate=0.4, model__max_depth=12, model__min_child_samples=12, model__n_estimators=15, model__num_leaves=100; total time=  13.2s\n",
      "[CV 2/2] END model__boosting_type=gbdt, model__learning_rate=0.4, model__max_depth=12, model__min_child_samples=12, model__n_estimators=15, model__num_leaves=100; total time=   7.1s\n",
      "[CV 1/2] END model__boosting_type=gbdt, model__learning_rate=0.4, model__max_depth=12, model__min_child_samples=20, model__n_estimators=15, model__num_leaves=100; total time=   9.4s\n",
      "[CV 2/2] END model__boosting_type=gbdt, model__learning_rate=0.4, model__max_depth=12, model__min_child_samples=20, model__n_estimators=15, model__num_leaves=100; total time=  10.5s\n",
      "[CV 1/2] END model__boosting_type=gbdt, model__learning_rate=0.4, model__max_depth=12, model__min_child_samples=20, model__n_estimators=15, model__num_leaves=150; total time=  14.1s\n",
      "[CV 2/2] END model__boosting_type=gbdt, model__learning_rate=0.4, model__max_depth=12, model__min_child_samples=20, model__n_estimators=15, model__num_leaves=150; total time= 1.6min\n",
      "[CV 1/2] END model__boosting_type=gbdt, model__learning_rate=0.4, model__max_depth=12, model__min_child_samples=12, model__n_estimators=15, model__num_leaves=150; total time= 4.0min\n",
      "[CV 2/2] END model__boosting_type=gbdt, model__learning_rate=0.4, model__max_depth=12, model__min_child_samples=12, model__n_estimators=15, model__num_leaves=150; total time=  12.9s\n",
      "----------\n",
      "iter: 2\n",
      "n_candidates: 4\n",
      "n_resources: 45\n",
      "Fitting 2 folds for each of 4 candidates, totalling 8 fits\n",
      "[CV 1/2] END model__boosting_type=gbdt, model__learning_rate=0.3, model__max_depth=12, model__min_child_samples=12, model__n_estimators=45, model__num_leaves=150; total time=  40.6s\n",
      "[CV 2/2] END model__boosting_type=gbdt, model__learning_rate=0.3, model__max_depth=12, model__min_child_samples=12, model__n_estimators=45, model__num_leaves=150; total time=  36.6s\n",
      "[CV 1/2] END model__boosting_type=gbdt, model__learning_rate=0.3, model__max_depth=12, model__min_child_samples=20, model__n_estimators=45, model__num_leaves=150; total time=  24.8s\n",
      "[CV 2/2] END model__boosting_type=gbdt, model__learning_rate=0.3, model__max_depth=12, model__min_child_samples=20, model__n_estimators=45, model__num_leaves=150; total time=  26.7s\n",
      "[CV 1/2] END model__boosting_type=gbdt, model__learning_rate=0.4, model__max_depth=12, model__min_child_samples=20, model__n_estimators=45, model__num_leaves=150; total time=  28.1s\n",
      "[CV 2/2] END model__boosting_type=gbdt, model__learning_rate=0.4, model__max_depth=12, model__min_child_samples=20, model__n_estimators=45, model__num_leaves=150; total time=  35.8s\n",
      "[CV 1/2] END model__boosting_type=gbdt, model__learning_rate=0.4, model__max_depth=12, model__min_child_samples=12, model__n_estimators=45, model__num_leaves=150; total time=  32.3s\n",
      "[CV 2/2] END model__boosting_type=gbdt, model__learning_rate=0.4, model__max_depth=12, model__min_child_samples=12, model__n_estimators=45, model__num_leaves=150; total time=  31.8s\n",
      "----------\n",
      "iter: 3\n",
      "n_candidates: 2\n",
      "n_resources: 135\n",
      "Fitting 2 folds for each of 2 candidates, totalling 4 fits\n",
      "[CV 1/2] END model__boosting_type=gbdt, model__learning_rate=0.3, model__max_depth=12, model__min_child_samples=20, model__n_estimators=135, model__num_leaves=150; total time= 1.6min\n",
      "[CV 2/2] END model__boosting_type=gbdt, model__learning_rate=0.3, model__max_depth=12, model__min_child_samples=20, model__n_estimators=135, model__num_leaves=150; total time= 1.7min\n",
      "[CV 1/2] END model__boosting_type=gbdt, model__learning_rate=0.3, model__max_depth=12, model__min_child_samples=12, model__n_estimators=135, model__num_leaves=150; total time= 1.4min\n",
      "[CV 2/2] END model__boosting_type=gbdt, model__learning_rate=0.3, model__max_depth=12, model__min_child_samples=12, model__n_estimators=135, model__num_leaves=150; total time= 1.6min\n",
      "Значение RMSE, время обучения и время оценки и при различных гиперпараметрах:\n",
      "    mean_test_score  mean_fit_time  mean_score_time\n",
      "0      -3284.290374       2.284279         0.301545\n",
      "1      -3192.188023       4.454829         0.334962\n",
      "2      -3165.855564       8.459827         0.344197\n",
      "3      -3284.290374       1.798288         0.316808\n",
      "4      -3192.134573      17.459053         0.337171\n",
      "5      -3165.770573       8.270675         0.335968\n",
      "6      -2282.717517       2.706292         0.288693\n",
      "7      -2133.958409       3.794638         0.303356\n",
      "8      -2084.015941       4.343682         0.297835\n",
      "9      -2282.717517       3.292885         0.293815\n",
      "10     -2123.945326       3.792714         0.308535\n",
      "11     -2083.671745       5.936643         0.303695\n",
      "12     -2124.256575       3.045120         0.305907\n",
      "13     -1961.025006       4.141153         0.269333\n",
      "14     -1924.344416       5.344079         0.270540\n",
      "15     -2124.256575       3.488191         0.307315\n",
      "16     -1958.931343       3.746030         0.399012\n",
      "17     -1925.811510       5.193185         0.346146\n",
      "18     -3857.185617       2.899312         0.305165\n",
      "19     -3788.045116       4.593058         0.302367\n",
      "20     -3768.710187       4.787667         0.285936\n",
      "21     -3857.185617      24.898180         0.304051\n",
      "22     -3788.255894      10.383844         0.265731\n",
      "23     -3768.668076       6.000206         0.303248\n",
      "24     -2591.488471       2.968689         0.262397\n",
      "25     -2440.330209       5.839712         0.298282\n",
      "26     -2395.332484       3.589865         0.346408\n",
      "27     -2591.488471       2.353480         0.297777\n",
      "28     -2439.661629       4.004959         0.303412\n",
      "29     -2394.460288       4.154978         0.301228\n",
      "30     -2309.163287       3.142633         0.256325\n",
      "31     -2147.326844       5.856858         0.341337\n",
      "32     -2101.416643       4.195307         0.346024\n",
      "33     -2309.163287       2.197291         0.352026\n",
      "34     -2147.278531       4.183322         0.308233\n",
      "35     -2104.865024       3.940369         0.304032\n",
      "36     -1773.990995       9.498276         0.492947\n",
      "37     -1853.298346      17.434004         0.421005\n",
      "38     -1848.106547       6.640752         0.405107\n",
      "39     -1775.280319       6.239115         0.412095\n",
      "40     -1781.725536      16.394675         0.413156\n",
      "41     -1775.799507     152.782972         0.515585\n",
      "42     -1751.664182      13.894710         0.504432\n",
      "43     -1747.261870      29.790152         0.457897\n",
      "44     -1768.198944       9.735797         0.415622\n",
      "45     -1759.534558       9.581506         0.366208\n",
      "46     -1744.048416      53.352295         0.501028\n",
      "47     -1740.210259     124.679670         0.503599\n",
      "48     -1683.985865      37.691494         0.898876\n",
      "49     -1684.017349      24.836789         0.907230\n",
      "50     -1700.973578      31.081387         0.857503\n",
      "51     -1703.512842      31.240393         0.814464\n",
      "52     -1670.192449      96.352630         1.968684\n",
      "53     -1674.593147      86.995665         1.818125\n",
      "\n",
      "Лучшие гиперпараметры:\n",
      " {'model__boosting_type': 'gbdt', 'model__learning_rate': 0.3, 'model__max_depth': 12, 'model__min_child_samples': 20, 'model__num_leaves': 150, 'model__n_estimators': 135}\n",
      "Лучшее значение RMSE: 1670.1924492842672\n",
      "CPU times: user 34min 20s, sys: 18.9 s, total: 34min 38s\n",
      "Wall time: 34min 54s\n"
     ]
    }
   ],
   "source": [
    "%%time\n",
    "\n",
    "pipeline = Pipeline(steps=[\n",
    "    ('preprocessing', preprocessor),\n",
    "    ('model', lgb.LGBMRegressor(random_state=654566))\n",
    "])\n",
    "\n",
    "params = {\"model__max_depth\": [12], \n",
    "          \"model__boosting_type\" : ['gbdt', 'dart'],\n",
    "          \"model__min_child_samples\" : [12, 20],\n",
    "          \"model__learning_rate\" : [0.1, 0.3, 0.4],\n",
    "          \"model__num_leaves\": [31, 100, 150]}\n",
    "\n",
    "lgbm_hgrid  = HalvingGridSearchCV(pipeline, params, scoring='neg_root_mean_squared_error',\n",
    "                                  cv=2, verbose=3, n_jobs=-1, max_resources=150, factor=3,\n",
    "                                  resource='model__n_estimators')\n",
    "lgbm_hgrid.fit(features_train, target_train);\n",
    "\n",
    "print('Значение RMSE, время обучения и время оценки и при различных гиперпараметрах:')\n",
    "print(pd.DataFrame(lgbm_hgrid.cv_results_)[['mean_test_score', 'mean_fit_time', 'mean_score_time']])\n",
    "print('\\nЛучшие гиперпараметры:\\n', lgbm_hgrid.best_params_)\n",
    "print('Лучшее значение RMSE:', -lgbm_hgrid.best_score_)"
   ]
  },
  {
   "cell_type": "code",
   "execution_count": 31,
   "metadata": {},
   "outputs": [
    {
     "data": {
      "text/html": [
       "<div>\n",
       "<style scoped>\n",
       "    .dataframe tbody tr th:only-of-type {\n",
       "        vertical-align: middle;\n",
       "    }\n",
       "\n",
       "    .dataframe tbody tr th {\n",
       "        vertical-align: top;\n",
       "    }\n",
       "\n",
       "    .dataframe thead th {\n",
       "        text-align: right;\n",
       "    }\n",
       "</style>\n",
       "<table border=\"1\" class=\"dataframe\">\n",
       "  <thead>\n",
       "    <tr style=\"text-align: right;\">\n",
       "      <th></th>\n",
       "      <th>mean_fit_time</th>\n",
       "      <th>std_fit_time</th>\n",
       "      <th>mean_score_time</th>\n",
       "      <th>std_score_time</th>\n",
       "    </tr>\n",
       "  </thead>\n",
       "  <tbody>\n",
       "    <tr>\n",
       "      <th>52</th>\n",
       "      <td>96.352630</td>\n",
       "      <td>5.044418</td>\n",
       "      <td>1.968684</td>\n",
       "      <td>0.051276</td>\n",
       "    </tr>\n",
       "    <tr>\n",
       "      <th>53</th>\n",
       "      <td>86.995665</td>\n",
       "      <td>7.825249</td>\n",
       "      <td>1.818125</td>\n",
       "      <td>0.015985</td>\n",
       "    </tr>\n",
       "  </tbody>\n",
       "</table>\n",
       "</div>"
      ],
      "text/plain": [
       "    mean_fit_time  std_fit_time  mean_score_time  std_score_time\n",
       "52      96.352630      5.044418         1.968684        0.051276\n",
       "53      86.995665      7.825249         1.818125        0.015985"
      ]
     },
     "execution_count": 31,
     "metadata": {},
     "output_type": "execute_result"
    }
   ],
   "source": [
    "pd.DataFrame(lgbm_hgrid.cv_results_)\\\n",
    "    [['mean_fit_time', 'std_fit_time', 'mean_score_time', 'std_score_time' ]]\\\n",
    "    .tail(2)"
   ]
  },
  {
   "attachments": {},
   "cell_type": "markdown",
   "metadata": {},
   "source": [
    "**Вывод по разделу 2:**\n",
    "- Изучены модели решающего дерева, случайного леса и градиентного бустинга (библиотека LightGBM) при различных гиперпараметрах\n",
    "- Лучше всего себя показал градиентный бустинг: наименьшие значение целевой метрики (RMSE = 1670), время обучения (ок. 10 сек) и время предсказания\n",
    "- Гиперпараметры лучшей модели: `boosting_type`: 'gbdt', `learning_rate`: 0.3, `max_depth`: 12, `min_child_samples`: 20, `num_leaves`: 150, `n_estimators`: 135)"
   ]
  },
  {
   "attachments": {},
   "cell_type": "markdown",
   "metadata": {},
   "source": [
    "## 3. <a id='toc3_'></a>[Анализ моделей](#toc0_)"
   ]
  },
  {
   "attachments": {},
   "cell_type": "markdown",
   "metadata": {},
   "source": [
    "Проверим качество лучшей модели на тестовой выборке, предварительно обучив её на всей \"трейн-валидационной\" выборке с наиболее оптимальными гиперпараметрами. Также рассмотрим значение метрики R2."
   ]
  },
  {
   "cell_type": "code",
   "execution_count": 28,
   "metadata": {},
   "outputs": [
    {
     "name": "stdout",
     "output_type": "stream",
     "text": [
      "Значения метрик на тестовой выборке: RMSE = 1636.5579188859724, R2 = 0.8694151231545456\n",
      "CPU times: user 1min 59s, sys: 1.12 s, total: 2min\n",
      "Wall time: 2min 1s\n"
     ]
    }
   ],
   "source": [
    "%%time\n",
    "lgbm_pipeline = Pipeline(steps=[\n",
    "    ('preprocessing', preprocessor),\n",
    "    ('model', lgb.LGBMRegressor(boosting_type='gbdt', learning_rate=0.3, max_depth=12,\n",
    "                                min_child_samples=20, num_leaves=150, n_estimators=135, random_state=3643))\n",
    "])\n",
    "\n",
    "lgbm_pipeline.fit(features_train, target_train)\n",
    "rmse = mse(target_test, lgbm_pipeline.predict(features_test)) ** 0.5\n",
    "r2 = lgbm_pipeline.score(features_test, target_test)\n",
    "\n",
    "print(f'Значения метрик на тестовой выборке: RMSE = {rmse}, R2 = {r2}')"
   ]
  },
  {
   "attachments": {},
   "cell_type": "markdown",
   "metadata": {},
   "source": [
    "Время обучения модели составляет примерно 96 секунд, предсказания и оценки - около 2 секунд. Достигнуто значение RMSE, равное 1636.\n",
    "\n",
    "Рассмотрим важность различных факторов, основываясь на итоговой модели."
   ]
  },
  {
   "cell_type": "code",
   "execution_count": 32,
   "metadata": {},
   "outputs": [
    {
     "data": {
      "text/plain": [
       "<AxesSubplot:>"
      ]
     },
     "execution_count": 32,
     "metadata": {},
     "output_type": "execute_result"
    },
    {
     "data": {
      "image/png": "[encoded data removed]",
      "text/plain": [
       "<Figure size 1080x720 with 1 Axes>"
      ]
     },
     "metadata": {
      "needs_background": "light"
     },
     "output_type": "display_data"
    }
   ],
   "source": [
    "pd.Series(lgbm_pipeline.named_steps['model'].feature_importances_, index=features_train.columns[:-1])\\\n",
    "            .plot(kind='barh', figsize=(15, 10))"
   ]
  },
  {
   "attachments": {},
   "cell_type": "markdown",
   "metadata": {},
   "source": [
    "Важнейшие факторы при определении цены авто: тип кузова, год и месяц регистрации"
   ]
  },
  {
   "attachments": {},
   "cell_type": "markdown",
   "metadata": {},
   "source": [
    "## 4. <a id='toc4_'></a>[Общий вывод](#toc0_)"
   ]
  },
  {
   "attachments": {},
   "cell_type": "markdown",
   "metadata": {},
   "source": [
    "- Данные изучены, подготовлены обучающая и тестовая выборки, для обучения моделей подготовлен пайплайн предобработки входных данных\n",
    "- Обучены модели решающего дерева, случайного леса и градиентного бустинга (библиотека LightGBM) при различных гиперпараметрах\n",
    "- Лучше всего себя показал градиентный бустинг: значение целевой метрики **RMSE = 1636, время обучения = 2 мин**\n",
    "- Гиперпараметры лучшей модели: `boosting_type`: 'gbdt', `learning_rate`: 0.3, `max_depth`: 12, `min_child_samples`: 20, `num_leaves`: 150, `n_estimators`: 135)"
   ]
  },
  {
   "attachments": {},
   "cell_type": "markdown",
   "metadata": {},
   "source": [
    "## 5. <a id='toc5_'></a>[Чек-лист проверки](#toc0_)"
   ]
  },
  {
   "attachments": {},
   "cell_type": "markdown",
   "metadata": {},
   "source": [
    "Поставьте 'x' в выполненных пунктах. Далее нажмите Shift+Enter."
   ]
  },
  {
   "attachments": {},
   "cell_type": "markdown",
   "metadata": {},
   "source": [
    "- [x]  Jupyter Notebook открыт\n",
    "- [x]  Весь код выполняется без ошибок\n",
    "- [ ]  Ячейки с кодом расположены в порядке исполнения\n",
    "- [x]  Выполнена загрузка и подготовка данных\n",
    "- [x]  Выполнено обучение моделей\n",
    "- [x]  Есть анализ скорости работы и качества моделей"
   ]
  },
  {
   "cell_type": "code",
   "execution_count": null,
   "metadata": {},
   "outputs": [],
   "source": []
  }
 ],
 "metadata": {
  "ExecuteTimeLog": [
   {
    "duration": 370,
    "start_time": "2023-02-06T09:57:30.697Z"
   },
   {
    "duration": 3525,
    "start_time": "2023-02-06T09:58:45.840Z"
   },
   {
    "duration": 21,
    "start_time": "2023-02-06T09:58:56.349Z"
   },
   {
    "duration": 146,
    "start_time": "2023-02-06T10:00:56.753Z"
   },
   {
    "duration": 98,
    "start_time": "2023-02-06T10:07:05.058Z"
   },
   {
    "duration": 474,
    "start_time": "2023-02-06T10:08:48.785Z"
   },
   {
    "duration": 431,
    "start_time": "2023-02-06T10:08:56.051Z"
   },
   {
    "duration": 1074,
    "start_time": "2023-02-06T10:09:42.272Z"
   },
   {
    "duration": 1029,
    "start_time": "2023-02-06T10:09:54.208Z"
   },
   {
    "duration": 7,
    "start_time": "2023-02-06T10:13:30.766Z"
   },
   {
    "duration": 79,
    "start_time": "2023-02-07T10:52:27.231Z"
   },
   {
    "duration": 402,
    "start_time": "2023-02-07T10:52:33.342Z"
   },
   {
    "duration": 2976,
    "start_time": "2023-02-07T10:52:33.748Z"
   },
   {
    "duration": 20,
    "start_time": "2023-02-07T10:52:36.725Z"
   },
   {
    "duration": 131,
    "start_time": "2023-02-07T10:52:36.748Z"
   },
   {
    "duration": 99,
    "start_time": "2023-02-07T10:52:36.881Z"
   },
   {
    "duration": 427,
    "start_time": "2023-02-07T10:52:36.982Z"
   },
   {
    "duration": 1327,
    "start_time": "2023-02-07T10:52:37.411Z"
   },
   {
    "duration": 9,
    "start_time": "2023-02-07T10:52:38.740Z"
   },
   {
    "duration": 75,
    "start_time": "2023-02-07T11:00:31.685Z"
   },
   {
    "duration": 435,
    "start_time": "2023-02-07T11:00:45.458Z"
   },
   {
    "duration": 774,
    "start_time": "2023-02-07T11:00:45.896Z"
   },
   {
    "duration": 18,
    "start_time": "2023-02-07T11:00:46.671Z"
   },
   {
    "duration": 141,
    "start_time": "2023-02-07T11:00:46.691Z"
   },
   {
    "duration": 98,
    "start_time": "2023-02-07T11:00:46.834Z"
   },
   {
    "duration": 466,
    "start_time": "2023-02-07T11:00:46.934Z"
   },
   {
    "duration": 1129,
    "start_time": "2023-02-07T11:00:47.402Z"
   },
   {
    "duration": 4,
    "start_time": "2023-02-07T11:00:48.533Z"
   },
   {
    "duration": 32,
    "start_time": "2023-02-07T11:00:48.538Z"
   },
   {
    "duration": 85,
    "start_time": "2023-02-07T11:01:43.180Z"
   },
   {
    "duration": 559,
    "start_time": "2023-02-07T11:03:35.532Z"
   },
   {
    "duration": 650,
    "start_time": "2023-02-07T11:03:52.269Z"
   },
   {
    "duration": 105,
    "start_time": "2023-02-07T11:22:35.314Z"
   },
   {
    "duration": 23,
    "start_time": "2023-02-07T11:32:52.986Z"
   },
   {
    "duration": 19,
    "start_time": "2023-02-07T11:33:03.948Z"
   },
   {
    "duration": 24,
    "start_time": "2023-02-07T11:33:32.273Z"
   },
   {
    "duration": 17,
    "start_time": "2023-02-07T11:33:40.336Z"
   },
   {
    "duration": 21,
    "start_time": "2023-02-07T11:33:52.774Z"
   },
   {
    "duration": 19,
    "start_time": "2023-02-07T11:35:28.436Z"
   },
   {
    "duration": 479,
    "start_time": "2023-02-07T11:35:46.586Z"
   },
   {
    "duration": 45,
    "start_time": "2023-02-07T11:35:52.981Z"
   },
   {
    "duration": 231,
    "start_time": "2023-02-07T11:35:57.269Z"
   },
   {
    "duration": 259,
    "start_time": "2023-02-07T11:36:13.356Z"
   },
   {
    "duration": 25,
    "start_time": "2023-02-07T11:36:22.456Z"
   },
   {
    "duration": 22,
    "start_time": "2023-02-07T11:36:51.295Z"
   },
   {
    "duration": 81,
    "start_time": "2023-02-07T11:37:12.385Z"
   },
   {
    "duration": 12,
    "start_time": "2023-02-07T11:37:17.153Z"
   },
   {
    "duration": 224,
    "start_time": "2023-02-07T11:37:40.480Z"
   },
   {
    "duration": 10,
    "start_time": "2023-02-07T11:37:59.647Z"
   },
   {
    "duration": 29,
    "start_time": "2023-02-07T11:38:53.551Z"
   },
   {
    "duration": 61,
    "start_time": "2023-02-07T11:41:19.778Z"
   },
   {
    "duration": 59,
    "start_time": "2023-02-07T11:41:30.845Z"
   },
   {
    "duration": 59,
    "start_time": "2023-02-07T11:41:45.551Z"
   },
   {
    "duration": 137,
    "start_time": "2023-02-07T11:42:08.114Z"
   },
   {
    "duration": 91,
    "start_time": "2023-02-07T11:42:45.482Z"
   },
   {
    "duration": 816,
    "start_time": "2023-02-07T11:42:57.685Z"
   },
   {
    "duration": 76,
    "start_time": "2023-02-07T11:44:48.297Z"
   },
   {
    "duration": 809,
    "start_time": "2023-02-07T11:44:50.515Z"
   },
   {
    "duration": 101,
    "start_time": "2023-02-07T11:44:52.871Z"
   },
   {
    "duration": 79,
    "start_time": "2023-02-07T11:45:12.947Z"
   },
   {
    "duration": 474,
    "start_time": "2023-02-07T11:45:45.030Z"
   },
   {
    "duration": 997,
    "start_time": "2023-02-07T11:45:45.506Z"
   },
   {
    "duration": 20,
    "start_time": "2023-02-07T11:45:46.505Z"
   },
   {
    "duration": 140,
    "start_time": "2023-02-07T11:45:46.527Z"
   },
   {
    "duration": 97,
    "start_time": "2023-02-07T11:45:46.669Z"
   },
   {
    "duration": 463,
    "start_time": "2023-02-07T11:45:46.768Z"
   },
   {
    "duration": 1215,
    "start_time": "2023-02-07T11:45:47.233Z"
   },
   {
    "duration": 6,
    "start_time": "2023-02-07T11:45:48.450Z"
   },
   {
    "duration": 29,
    "start_time": "2023-02-07T11:45:48.457Z"
   },
   {
    "duration": 102,
    "start_time": "2023-02-07T11:45:48.489Z"
   },
   {
    "duration": 118,
    "start_time": "2023-02-07T11:45:48.593Z"
   },
   {
    "duration": 73,
    "start_time": "2023-02-07T11:46:50.644Z"
   },
   {
    "duration": 54,
    "start_time": "2023-02-07T11:46:54.234Z"
   },
   {
    "duration": 87,
    "start_time": "2023-02-07T11:46:56.634Z"
   },
   {
    "duration": 44,
    "start_time": "2023-02-07T11:47:06.866Z"
   },
   {
    "duration": 11,
    "start_time": "2023-02-07T11:47:17.400Z"
   },
   {
    "duration": 6,
    "start_time": "2023-02-07T11:48:08.628Z"
   },
   {
    "duration": 24,
    "start_time": "2023-02-07T11:48:38.082Z"
   },
   {
    "duration": 869,
    "start_time": "2023-02-07T11:48:46.971Z"
   },
   {
    "duration": 843,
    "start_time": "2023-02-07T11:48:55.983Z"
   },
   {
    "duration": 73,
    "start_time": "2023-02-07T11:49:18.411Z"
   },
   {
    "duration": 106,
    "start_time": "2023-02-07T11:49:19.720Z"
   },
   {
    "duration": 166,
    "start_time": "2023-02-07T11:49:23.245Z"
   },
   {
    "duration": 108,
    "start_time": "2023-02-07T12:53:31.767Z"
   },
   {
    "duration": 406,
    "start_time": "2023-02-07T12:55:59.828Z"
   },
   {
    "duration": 915,
    "start_time": "2023-02-07T12:56:00.236Z"
   },
   {
    "duration": 20,
    "start_time": "2023-02-07T12:56:01.153Z"
   },
   {
    "duration": 159,
    "start_time": "2023-02-07T12:56:01.176Z"
   },
   {
    "duration": 95,
    "start_time": "2023-02-07T12:56:01.337Z"
   },
   {
    "duration": 478,
    "start_time": "2023-02-07T12:56:01.434Z"
   },
   {
    "duration": 1152,
    "start_time": "2023-02-07T12:56:01.914Z"
   },
   {
    "duration": 5,
    "start_time": "2023-02-07T12:56:03.067Z"
   },
   {
    "duration": 31,
    "start_time": "2023-02-07T12:56:03.074Z"
   },
   {
    "duration": 92,
    "start_time": "2023-02-07T12:56:03.108Z"
   },
   {
    "duration": 147,
    "start_time": "2023-02-07T12:56:03.201Z"
   },
   {
    "duration": 114,
    "start_time": "2023-02-07T12:56:03.349Z"
   },
   {
    "duration": 334,
    "start_time": "2023-02-07T12:57:08.408Z"
   },
   {
    "duration": 757,
    "start_time": "2023-02-07T12:57:08.744Z"
   },
   {
    "duration": 18,
    "start_time": "2023-02-07T12:57:09.503Z"
   },
   {
    "duration": 140,
    "start_time": "2023-02-07T12:57:09.523Z"
   },
   {
    "duration": 88,
    "start_time": "2023-02-07T12:57:09.664Z"
   },
   {
    "duration": 446,
    "start_time": "2023-02-07T12:57:09.754Z"
   },
   {
    "duration": 1125,
    "start_time": "2023-02-07T12:57:10.202Z"
   },
   {
    "duration": 5,
    "start_time": "2023-02-07T12:57:11.328Z"
   },
   {
    "duration": 33,
    "start_time": "2023-02-07T12:57:11.335Z"
   },
   {
    "duration": 96,
    "start_time": "2023-02-07T12:57:11.370Z"
   },
   {
    "duration": 126,
    "start_time": "2023-02-07T12:57:11.468Z"
   },
   {
    "duration": 109,
    "start_time": "2023-02-07T12:57:11.596Z"
   },
   {
    "duration": 187,
    "start_time": "2023-02-07T12:58:09.630Z"
   },
   {
    "duration": 82,
    "start_time": "2023-02-07T12:58:51.254Z"
   },
   {
    "duration": 610,
    "start_time": "2023-02-07T13:02:07.125Z"
   },
   {
    "duration": 36,
    "start_time": "2023-02-07T13:04:19.793Z"
   },
   {
    "duration": 63,
    "start_time": "2023-02-07T13:05:24.302Z"
   },
   {
    "duration": 81,
    "start_time": "2023-02-07T13:05:34.599Z"
   },
   {
    "duration": 4,
    "start_time": "2023-02-07T13:06:05.367Z"
   },
   {
    "duration": 95,
    "start_time": "2023-02-07T13:14:27.612Z"
   },
   {
    "duration": 193,
    "start_time": "2023-02-07T13:14:46.805Z"
   },
   {
    "duration": 129,
    "start_time": "2023-02-07T13:27:06.979Z"
   },
   {
    "duration": 3,
    "start_time": "2023-02-07T13:27:13.292Z"
   },
   {
    "duration": 31,
    "start_time": "2023-02-07T13:31:38.740Z"
   },
   {
    "duration": 7,
    "start_time": "2023-02-07T13:37:44.240Z"
   },
   {
    "duration": 19,
    "start_time": "2023-02-07T13:40:23.136Z"
   },
   {
    "duration": 10,
    "start_time": "2023-02-07T13:40:34.604Z"
   },
   {
    "duration": 711,
    "start_time": "2023-02-07T13:41:12.125Z"
   },
   {
    "duration": 1640,
    "start_time": "2023-02-07T13:45:51.487Z"
   },
   {
    "duration": 1696,
    "start_time": "2023-02-07T13:46:03.594Z"
   },
   {
    "duration": 655,
    "start_time": "2023-02-07T13:46:12.196Z"
   },
   {
    "duration": 37,
    "start_time": "2023-02-07T13:54:11.317Z"
   },
   {
    "duration": 14,
    "start_time": "2023-02-07T13:56:00.652Z"
   },
   {
    "duration": 3,
    "start_time": "2023-02-07T13:59:29.025Z"
   },
   {
    "duration": 55,
    "start_time": "2023-02-07T14:13:15.711Z"
   },
   {
    "duration": 4,
    "start_time": "2023-02-07T14:13:21.186Z"
   },
   {
    "duration": 50,
    "start_time": "2023-02-07T14:13:59.598Z"
   },
   {
    "duration": 4,
    "start_time": "2023-02-07T14:14:11.134Z"
   },
   {
    "duration": 4,
    "start_time": "2023-02-07T14:22:32.820Z"
   },
   {
    "duration": 35,
    "start_time": "2023-02-07T14:31:33.124Z"
   },
   {
    "duration": 72,
    "start_time": "2023-02-07T14:31:43.691Z"
   },
   {
    "duration": 7579,
    "start_time": "2023-02-07T14:32:14.507Z"
   },
   {
    "duration": 74,
    "start_time": "2023-02-07T14:34:06.898Z"
   },
   {
    "duration": 1088,
    "start_time": "2023-02-07T14:36:32.250Z"
   },
   {
    "duration": 1196,
    "start_time": "2023-02-07T14:36:33.340Z"
   },
   {
    "duration": 20,
    "start_time": "2023-02-07T14:36:34.537Z"
   },
   {
    "duration": 125,
    "start_time": "2023-02-07T14:36:34.559Z"
   },
   {
    "duration": 144,
    "start_time": "2023-02-07T14:36:34.686Z"
   },
   {
    "duration": 522,
    "start_time": "2023-02-07T14:36:34.832Z"
   },
   {
    "duration": 1213,
    "start_time": "2023-02-07T14:36:35.356Z"
   },
   {
    "duration": 5,
    "start_time": "2023-02-07T14:36:36.570Z"
   },
   {
    "duration": 29,
    "start_time": "2023-02-07T14:36:36.576Z"
   },
   {
    "duration": 223,
    "start_time": "2023-02-07T14:36:36.609Z"
   },
   {
    "duration": 163,
    "start_time": "2023-02-07T14:36:36.834Z"
   },
   {
    "duration": 14,
    "start_time": "2023-02-07T14:36:36.999Z"
   },
   {
    "duration": 101,
    "start_time": "2023-02-07T14:36:37.015Z"
   },
   {
    "duration": 33,
    "start_time": "2023-02-07T14:36:37.118Z"
   },
   {
    "duration": 4,
    "start_time": "2023-02-07T14:36:37.152Z"
   },
   {
    "duration": 9,
    "start_time": "2023-02-07T14:36:37.157Z"
   },
   {
    "duration": 588,
    "start_time": "2023-02-07T14:36:37.167Z"
   },
   {
    "duration": 524,
    "start_time": "2023-02-07T14:36:37.756Z"
   },
   {
    "duration": 1224484,
    "start_time": "2023-02-07T14:37:09.312Z"
   },
   {
    "duration": 28,
    "start_time": "2023-02-07T14:57:33.798Z"
   },
   {
    "duration": 1553,
    "start_time": "2023-02-07T14:57:33.828Z"
   },
   {
    "duration": 4,
    "start_time": "2023-02-07T15:23:31.776Z"
   },
   {
    "duration": 15,
    "start_time": "2023-02-07T15:25:06.720Z"
   },
   {
    "duration": 18,
    "start_time": "2023-02-07T15:27:58.816Z"
   },
   {
    "duration": 19,
    "start_time": "2023-02-07T15:29:43.598Z"
   },
   {
    "duration": 5,
    "start_time": "2023-02-07T15:32:00.488Z"
   },
   {
    "duration": 58,
    "start_time": "2023-02-07T15:33:30.539Z"
   },
   {
    "duration": 3,
    "start_time": "2023-02-07T15:34:16.161Z"
   },
   {
    "duration": 1119,
    "start_time": "2023-02-07T15:34:42.427Z"
   },
   {
    "duration": 820,
    "start_time": "2023-02-07T15:34:43.548Z"
   },
   {
    "duration": 18,
    "start_time": "2023-02-07T15:34:44.370Z"
   },
   {
    "duration": 144,
    "start_time": "2023-02-07T15:34:44.389Z"
   },
   {
    "duration": 143,
    "start_time": "2023-02-07T15:34:44.535Z"
   },
   {
    "duration": 454,
    "start_time": "2023-02-07T15:34:44.680Z"
   },
   {
    "duration": 1229,
    "start_time": "2023-02-07T15:34:45.136Z"
   },
   {
    "duration": 4,
    "start_time": "2023-02-07T15:34:46.367Z"
   },
   {
    "duration": 28,
    "start_time": "2023-02-07T15:34:46.372Z"
   },
   {
    "duration": 220,
    "start_time": "2023-02-07T15:34:46.403Z"
   },
   {
    "duration": 158,
    "start_time": "2023-02-07T15:34:46.624Z"
   },
   {
    "duration": 15,
    "start_time": "2023-02-07T15:34:46.784Z"
   },
   {
    "duration": 79,
    "start_time": "2023-02-07T15:34:46.800Z"
   },
   {
    "duration": 23,
    "start_time": "2023-02-07T15:34:46.881Z"
   },
   {
    "duration": 3,
    "start_time": "2023-02-07T15:34:46.906Z"
   },
   {
    "duration": 11,
    "start_time": "2023-02-07T15:34:46.910Z"
   },
   {
    "duration": 389714,
    "start_time": "2023-02-07T15:34:46.922Z"
   },
   {
    "duration": 14,
    "start_time": "2023-02-07T15:41:16.638Z"
   },
   {
    "duration": 413499,
    "start_time": "2023-02-07T15:41:16.653Z"
   },
   {
    "duration": 12,
    "start_time": "2023-02-07T15:49:54.067Z"
   },
   {
    "duration": 3,
    "start_time": "2023-02-07T17:09:31.324Z"
   },
   {
    "duration": 10,
    "start_time": "2023-02-07T17:11:57.207Z"
   },
   {
    "duration": 3,
    "start_time": "2023-02-07T17:15:47.675Z"
   },
   {
    "duration": 50,
    "start_time": "2023-02-07T17:15:55.657Z"
   },
   {
    "duration": 71,
    "start_time": "2023-02-07T17:16:11.153Z"
   },
   {
    "duration": 56,
    "start_time": "2023-02-07T17:16:43.461Z"
   },
   {
    "duration": 10,
    "start_time": "2023-02-07T17:17:04.912Z"
   },
   {
    "duration": 103,
    "start_time": "2023-02-07T17:20:37.753Z"
   },
   {
    "duration": 10,
    "start_time": "2023-02-07T17:24:08.947Z"
   },
   {
    "duration": 13,
    "start_time": "2023-02-07T17:25:34.103Z"
   },
   {
    "duration": 13,
    "start_time": "2023-02-07T17:25:45.292Z"
   },
   {
    "duration": 1147,
    "start_time": "2023-02-07T17:30:42.721Z"
   },
   {
    "duration": 823,
    "start_time": "2023-02-07T17:30:43.870Z"
   },
   {
    "duration": 24,
    "start_time": "2023-02-07T17:30:44.697Z"
   },
   {
    "duration": 159,
    "start_time": "2023-02-07T17:30:44.724Z"
   },
   {
    "duration": 141,
    "start_time": "2023-02-07T17:30:44.884Z"
   },
   {
    "duration": 520,
    "start_time": "2023-02-07T17:30:45.027Z"
   },
   {
    "duration": 1329,
    "start_time": "2023-02-07T17:30:45.548Z"
   },
   {
    "duration": 5,
    "start_time": "2023-02-07T17:30:46.879Z"
   },
   {
    "duration": 41,
    "start_time": "2023-02-07T17:30:46.887Z"
   },
   {
    "duration": 285,
    "start_time": "2023-02-07T17:30:46.932Z"
   },
   {
    "duration": 169,
    "start_time": "2023-02-07T17:30:47.219Z"
   },
   {
    "duration": 14,
    "start_time": "2023-02-07T17:30:47.390Z"
   },
   {
    "duration": 103,
    "start_time": "2023-02-07T17:30:47.406Z"
   },
   {
    "duration": 25,
    "start_time": "2023-02-07T17:30:47.511Z"
   },
   {
    "duration": 3,
    "start_time": "2023-02-07T17:30:47.547Z"
   },
   {
    "duration": 7,
    "start_time": "2023-02-07T17:30:47.552Z"
   },
   {
    "duration": 458767,
    "start_time": "2023-02-07T17:30:47.561Z"
   },
   {
    "duration": 10,
    "start_time": "2023-02-07T17:38:26.330Z"
   },
   {
    "duration": 1217,
    "start_time": "2023-02-08T12:15:32.721Z"
   },
   {
    "duration": 3155,
    "start_time": "2023-02-08T12:15:33.941Z"
   },
   {
    "duration": 23,
    "start_time": "2023-02-08T12:15:37.097Z"
   },
   {
    "duration": 148,
    "start_time": "2023-02-08T12:15:37.122Z"
   },
   {
    "duration": 111,
    "start_time": "2023-02-08T12:15:37.272Z"
   },
   {
    "duration": 483,
    "start_time": "2023-02-08T12:15:37.385Z"
   },
   {
    "duration": 1551,
    "start_time": "2023-02-08T12:15:37.870Z"
   },
   {
    "duration": 4,
    "start_time": "2023-02-08T12:15:39.423Z"
   },
   {
    "duration": 26,
    "start_time": "2023-02-08T12:15:39.429Z"
   },
   {
    "duration": 237,
    "start_time": "2023-02-08T12:15:39.458Z"
   },
   {
    "duration": 77,
    "start_time": "2023-02-08T12:15:39.697Z"
   },
   {
    "duration": 15,
    "start_time": "2023-02-08T12:15:39.776Z"
   },
   {
    "duration": 78,
    "start_time": "2023-02-08T12:15:39.793Z"
   },
   {
    "duration": 22,
    "start_time": "2023-02-08T12:15:39.873Z"
   },
   {
    "duration": 3,
    "start_time": "2023-02-08T12:15:39.897Z"
   },
   {
    "duration": 21,
    "start_time": "2023-02-08T12:15:39.902Z"
   },
   {
    "duration": 520646,
    "start_time": "2023-02-08T12:15:39.925Z"
   },
   {
    "duration": 11,
    "start_time": "2023-02-08T12:24:20.573Z"
   },
   {
    "duration": 0,
    "start_time": "2023-02-08T12:24:20.659Z"
   },
   {
    "duration": 0,
    "start_time": "2023-02-08T12:24:20.660Z"
   },
   {
    "duration": 0,
    "start_time": "2023-02-08T12:24:20.661Z"
   },
   {
    "duration": 58,
    "start_time": "2023-02-08T12:37:43.389Z"
   },
   {
    "duration": 111,
    "start_time": "2023-02-08T12:37:51.665Z"
   },
   {
    "duration": 12,
    "start_time": "2023-02-08T12:38:23.075Z"
   },
   {
    "duration": 13,
    "start_time": "2023-02-08T12:39:23.713Z"
   },
   {
    "duration": 6,
    "start_time": "2023-02-08T12:39:59.485Z"
   },
   {
    "duration": 12,
    "start_time": "2023-02-08T12:40:33.328Z"
   },
   {
    "duration": 12,
    "start_time": "2023-02-08T12:41:21.958Z"
   },
   {
    "duration": 5,
    "start_time": "2023-02-08T12:43:07.665Z"
   },
   {
    "duration": 3,
    "start_time": "2023-02-08T12:43:20.548Z"
   },
   {
    "duration": 5,
    "start_time": "2023-02-08T12:43:30.202Z"
   },
   {
    "duration": 11,
    "start_time": "2023-02-08T12:43:46.327Z"
   },
   {
    "duration": 4,
    "start_time": "2023-02-08T12:49:00.816Z"
   },
   {
    "duration": 1178,
    "start_time": "2023-02-08T13:01:31.396Z"
   },
   {
    "duration": 839,
    "start_time": "2023-02-08T13:01:32.576Z"
   },
   {
    "duration": 23,
    "start_time": "2023-02-08T13:01:33.416Z"
   },
   {
    "duration": 143,
    "start_time": "2023-02-08T13:01:33.440Z"
   },
   {
    "duration": 113,
    "start_time": "2023-02-08T13:01:33.586Z"
   },
   {
    "duration": 481,
    "start_time": "2023-02-08T13:01:33.700Z"
   },
   {
    "duration": 1316,
    "start_time": "2023-02-08T13:01:34.183Z"
   },
   {
    "duration": 4,
    "start_time": "2023-02-08T13:01:35.501Z"
   },
   {
    "duration": 31,
    "start_time": "2023-02-08T13:01:35.507Z"
   },
   {
    "duration": 243,
    "start_time": "2023-02-08T13:01:35.540Z"
   },
   {
    "duration": 155,
    "start_time": "2023-02-08T13:01:35.785Z"
   },
   {
    "duration": 15,
    "start_time": "2023-02-08T13:01:35.942Z"
   },
   {
    "duration": 81,
    "start_time": "2023-02-08T13:01:35.959Z"
   },
   {
    "duration": 24,
    "start_time": "2023-02-08T13:01:36.042Z"
   },
   {
    "duration": 3,
    "start_time": "2023-02-08T13:01:36.067Z"
   },
   {
    "duration": 19,
    "start_time": "2023-02-08T13:01:36.072Z"
   },
   {
    "duration": 533144,
    "start_time": "2023-02-08T13:01:36.093Z"
   },
   {
    "duration": 11,
    "start_time": "2023-02-08T13:10:29.238Z"
   },
   {
    "duration": 7,
    "start_time": "2023-02-08T13:10:29.251Z"
   },
   {
    "duration": 1105,
    "start_time": "2023-02-08T16:06:15.845Z"
   },
   {
    "duration": 859,
    "start_time": "2023-02-08T16:06:16.952Z"
   },
   {
    "duration": 22,
    "start_time": "2023-02-08T16:06:17.813Z"
   },
   {
    "duration": 151,
    "start_time": "2023-02-08T16:06:17.836Z"
   },
   {
    "duration": 108,
    "start_time": "2023-02-08T16:06:17.989Z"
   },
   {
    "duration": 496,
    "start_time": "2023-02-08T16:06:18.099Z"
   },
   {
    "duration": 1303,
    "start_time": "2023-02-08T16:06:18.597Z"
   },
   {
    "duration": 5,
    "start_time": "2023-02-08T16:06:19.903Z"
   },
   {
    "duration": 35,
    "start_time": "2023-02-08T16:06:19.910Z"
   },
   {
    "duration": 234,
    "start_time": "2023-02-08T16:06:19.947Z"
   },
   {
    "duration": 165,
    "start_time": "2023-02-08T16:06:20.183Z"
   },
   {
    "duration": 16,
    "start_time": "2023-02-08T16:06:20.350Z"
   },
   {
    "duration": 82,
    "start_time": "2023-02-08T16:06:20.368Z"
   },
   {
    "duration": 27,
    "start_time": "2023-02-08T16:06:20.453Z"
   },
   {
    "duration": 16,
    "start_time": "2023-02-08T16:06:20.482Z"
   },
   {
    "duration": 11,
    "start_time": "2023-02-08T16:06:20.500Z"
   },
   {
    "duration": 502599,
    "start_time": "2023-02-08T16:06:20.513Z"
   },
   {
    "duration": 13,
    "start_time": "2023-02-08T16:14:43.114Z"
   },
   {
    "duration": 8,
    "start_time": "2023-02-08T16:14:43.129Z"
   },
   {
    "duration": 4877881,
    "start_time": "2023-02-08T16:14:43.139Z"
   },
   {
    "duration": 11,
    "start_time": "2023-02-08T17:36:01.022Z"
   },
   {
    "duration": 1241,
    "start_time": "2023-02-09T10:49:19.079Z"
   },
   {
    "duration": 3836,
    "start_time": "2023-02-09T10:49:20.321Z"
   },
   {
    "duration": 22,
    "start_time": "2023-02-09T10:49:24.159Z"
   },
   {
    "duration": 168,
    "start_time": "2023-02-09T10:49:24.183Z"
   },
   {
    "duration": 119,
    "start_time": "2023-02-09T10:49:24.353Z"
   },
   {
    "duration": 515,
    "start_time": "2023-02-09T10:49:24.475Z"
   },
   {
    "duration": 1698,
    "start_time": "2023-02-09T10:49:24.992Z"
   },
   {
    "duration": 5,
    "start_time": "2023-02-09T10:49:26.692Z"
   },
   {
    "duration": 41,
    "start_time": "2023-02-09T10:49:26.699Z"
   },
   {
    "duration": 272,
    "start_time": "2023-02-09T10:49:26.743Z"
   },
   {
    "duration": 98,
    "start_time": "2023-02-09T10:49:27.017Z"
   },
   {
    "duration": 26,
    "start_time": "2023-02-09T10:49:27.117Z"
   },
   {
    "duration": 73,
    "start_time": "2023-02-09T10:49:27.145Z"
   },
   {
    "duration": 41,
    "start_time": "2023-02-09T10:49:27.221Z"
   },
   {
    "duration": 6,
    "start_time": "2023-02-09T10:49:27.534Z"
   },
   {
    "duration": 4,
    "start_time": "2023-02-09T10:49:27.920Z"
   },
   {
    "duration": 4,
    "start_time": "2023-02-09T10:51:17.231Z"
   },
   {
    "duration": 1110640,
    "start_time": "2023-02-09T10:51:33.787Z"
   },
   {
    "duration": 17,
    "start_time": "2023-02-09T11:10:04.429Z"
   },
   {
    "duration": 3,
    "start_time": "2023-02-09T11:14:26.127Z"
   },
   {
    "duration": 2850617,
    "start_time": "2023-02-09T11:14:27.190Z"
   },
   {
    "duration": 40,
    "start_time": "2023-02-09T12:01:57.810Z"
   },
   {
    "duration": 11,
    "start_time": "2023-02-09T12:01:57.855Z"
   },
   {
    "duration": 5,
    "start_time": "2023-02-09T12:03:12.299Z"
   },
   {
    "duration": 91362,
    "start_time": "2023-02-09T12:03:12.306Z"
   },
   {
    "duration": 9,
    "start_time": "2023-02-09T12:04:43.669Z"
   },
   {
    "duration": 127,
    "start_time": "2023-02-09T12:11:24.393Z"
   },
   {
    "duration": 4,
    "start_time": "2023-02-09T12:12:50.299Z"
   },
   {
    "duration": 75,
    "start_time": "2023-02-09T12:12:52.281Z"
   },
   {
    "duration": 4,
    "start_time": "2023-02-09T12:13:15.894Z"
   },
   {
    "duration": 169156,
    "start_time": "2023-02-09T12:13:17.194Z"
   },
   {
    "duration": 58,
    "start_time": "2023-02-09T12:16:06.352Z"
   },
   {
    "duration": 4,
    "start_time": "2023-02-09T12:16:40.410Z"
   },
   {
    "duration": 68,
    "start_time": "2023-02-09T12:16:43.627Z"
   },
   {
    "duration": 5,
    "start_time": "2023-02-09T12:17:48.517Z"
   },
   {
    "duration": 69068,
    "start_time": "2023-02-09T12:17:51.994Z"
   },
   {
    "duration": 4,
    "start_time": "2023-02-09T12:19:16.296Z"
   },
   {
    "duration": 147031,
    "start_time": "2023-02-09T12:19:16.634Z"
   },
   {
    "duration": 80517,
    "start_time": "2023-02-09T12:21:43.667Z"
   },
   {
    "duration": 11,
    "start_time": "2023-02-09T12:26:06.116Z"
   },
   {
    "duration": 11,
    "start_time": "2023-02-09T12:28:04.337Z"
   },
   {
    "duration": 4,
    "start_time": "2023-02-09T12:31:53.600Z"
   },
   {
    "duration": 342570,
    "start_time": "2023-02-09T12:31:55.895Z"
   },
   {
    "duration": 6,
    "start_time": "2023-02-09T12:37:38.467Z"
   },
   {
    "duration": 362660,
    "start_time": "2023-02-09T12:46:23.693Z"
   },
   {
    "duration": 839448,
    "start_time": "2023-02-09T12:53:38.798Z"
   },
   {
    "duration": 824211,
    "start_time": "2023-02-09T13:09:03.039Z"
   },
   {
    "duration": 356072,
    "start_time": "2023-02-09T13:28:44.086Z"
   },
   {
    "duration": 11,
    "start_time": "2023-02-09T13:38:04.906Z"
   },
   {
    "duration": 13,
    "start_time": "2023-02-09T13:38:35.230Z"
   },
   {
    "duration": 574610,
    "start_time": "2023-02-09T13:38:39.192Z"
   },
   {
    "duration": 4,
    "start_time": "2023-02-09T13:48:20.661Z"
   },
   {
    "duration": 53,
    "start_time": "2023-02-09T13:51:46.840Z"
   },
   {
    "duration": 2318141,
    "start_time": "2023-02-09T13:51:55.198Z"
   },
   {
    "duration": 88732,
    "start_time": "2023-02-09T14:31:01.731Z"
   },
   {
    "duration": 488638,
    "start_time": "2023-02-09T14:32:33.212Z"
   },
   {
    "duration": 125,
    "start_time": "2023-02-09T14:52:16.327Z"
   },
   {
    "duration": 4141401,
    "start_time": "2023-02-09T14:52:56.885Z"
   },
   {
    "duration": 91,
    "start_time": "2023-02-09T16:04:38.208Z"
   },
   {
    "duration": 94,
    "start_time": "2023-02-09T16:05:00.074Z"
   },
   {
    "duration": 87,
    "start_time": "2023-02-09T16:11:40.301Z"
   },
   {
    "duration": 176,
    "start_time": "2023-02-09T16:15:10.285Z"
   },
   {
    "duration": 103,
    "start_time": "2023-02-09T16:15:22.714Z"
   },
   {
    "duration": 49,
    "start_time": "2023-02-09T16:16:55.194Z"
   },
   {
    "duration": 8637460,
    "start_time": "2023-02-09T16:17:07.949Z"
   },
   {
    "duration": 0,
    "start_time": "2023-02-09T18:41:05.440Z"
   },
   {
    "duration": 22,
    "start_time": "2023-02-09T18:43:57.771Z"
   },
   {
    "duration": 4,
    "start_time": "2023-02-09T18:44:41.765Z"
   },
   {
    "duration": 33,
    "start_time": "2023-02-09T18:44:48.433Z"
   },
   {
    "duration": 26,
    "start_time": "2023-02-09T18:45:41.550Z"
   },
   {
    "duration": 88,
    "start_time": "2023-02-09T18:46:30.185Z"
   },
   {
    "duration": 5971,
    "start_time": "2023-02-09T18:46:50.090Z"
   },
   {
    "duration": 19,
    "start_time": "2023-02-09T18:47:07.177Z"
   },
   {
    "duration": 1228,
    "start_time": "2023-02-10T14:12:03.030Z"
   },
   {
    "duration": 1075,
    "start_time": "2023-02-10T14:12:05.631Z"
   },
   {
    "duration": 20,
    "start_time": "2023-02-10T14:12:06.708Z"
   },
   {
    "duration": 124,
    "start_time": "2023-02-10T14:12:06.730Z"
   },
   {
    "duration": 164,
    "start_time": "2023-02-10T14:12:06.856Z"
   },
   {
    "duration": 538,
    "start_time": "2023-02-10T14:12:07.022Z"
   },
   {
    "duration": 1383,
    "start_time": "2023-02-10T14:12:07.563Z"
   },
   {
    "duration": 4,
    "start_time": "2023-02-10T14:12:08.948Z"
   },
   {
    "duration": 32,
    "start_time": "2023-02-10T14:12:08.953Z"
   },
   {
    "duration": 229,
    "start_time": "2023-02-10T14:12:08.987Z"
   },
   {
    "duration": 85,
    "start_time": "2023-02-10T14:12:09.218Z"
   },
   {
    "duration": 15,
    "start_time": "2023-02-10T14:12:09.754Z"
   },
   {
    "duration": 62,
    "start_time": "2023-02-10T14:12:10.399Z"
   },
   {
    "duration": 20,
    "start_time": "2023-02-10T14:12:11.170Z"
   },
   {
    "duration": 3,
    "start_time": "2023-02-10T14:12:18.899Z"
   },
   {
    "duration": 5263,
    "start_time": "2023-02-10T14:12:41.357Z"
   },
   {
    "duration": 16,
    "start_time": "2023-02-10T14:18:14.886Z"
   },
   {
    "duration": 9,
    "start_time": "2023-02-10T14:18:30.265Z"
   },
   {
    "duration": 3,
    "start_time": "2023-02-10T14:18:39.459Z"
   },
   {
    "duration": 20,
    "start_time": "2023-02-10T14:19:40.891Z"
   },
   {
    "duration": 5282,
    "start_time": "2023-02-10T14:19:44.539Z"
   },
   {
    "duration": 3,
    "start_time": "2023-02-10T14:19:51.092Z"
   },
   {
    "duration": 196706,
    "start_time": "2023-02-10T14:19:52.412Z"
   },
   {
    "duration": 66,
    "start_time": "2023-02-10T14:24:24.880Z"
   },
   {
    "duration": 21,
    "start_time": "2023-02-10T14:26:06.328Z"
   },
   {
    "duration": 3,
    "start_time": "2023-02-10T14:26:10.632Z"
   },
   {
    "duration": 18,
    "start_time": "2023-02-10T14:26:46.259Z"
   },
   {
    "duration": 2,
    "start_time": "2023-02-10T14:26:46.279Z"
   },
   {
    "duration": 1195,
    "start_time": "2023-02-10T14:26:51.028Z"
   },
   {
    "duration": 800,
    "start_time": "2023-02-10T14:26:53.175Z"
   },
   {
    "duration": 18,
    "start_time": "2023-02-10T14:26:53.977Z"
   },
   {
    "duration": 117,
    "start_time": "2023-02-10T14:26:53.997Z"
   },
   {
    "duration": 139,
    "start_time": "2023-02-10T14:26:54.116Z"
   },
   {
    "duration": 443,
    "start_time": "2023-02-10T14:26:54.256Z"
   },
   {
    "duration": 1050,
    "start_time": "2023-02-10T14:26:54.701Z"
   },
   {
    "duration": 4,
    "start_time": "2023-02-10T14:26:55.752Z"
   },
   {
    "duration": 20,
    "start_time": "2023-02-10T14:26:55.758Z"
   },
   {
    "duration": 82,
    "start_time": "2023-02-10T14:26:55.780Z"
   },
   {
    "duration": 226,
    "start_time": "2023-02-10T14:26:55.863Z"
   },
   {
    "duration": 163,
    "start_time": "2023-02-10T14:26:56.091Z"
   },
   {
    "duration": 16,
    "start_time": "2023-02-10T14:26:56.255Z"
   },
   {
    "duration": 76,
    "start_time": "2023-02-10T14:26:56.272Z"
   },
   {
    "duration": 20,
    "start_time": "2023-02-10T14:26:57.278Z"
   },
   {
    "duration": 3,
    "start_time": "2023-02-10T14:27:00.537Z"
   },
   {
    "duration": 4098,
    "start_time": "2023-02-10T14:27:00.962Z"
   },
   {
    "duration": 44,
    "start_time": "2023-02-10T14:35:58.752Z"
   },
   {
    "duration": 1200,
    "start_time": "2023-02-10T14:36:03.327Z"
   },
   {
    "duration": 1241,
    "start_time": "2023-02-10T14:36:12.613Z"
   },
   {
    "duration": 809,
    "start_time": "2023-02-10T14:36:14.345Z"
   },
   {
    "duration": 22,
    "start_time": "2023-02-10T14:36:15.156Z"
   },
   {
    "duration": 130,
    "start_time": "2023-02-10T14:36:15.179Z"
   },
   {
    "duration": 179,
    "start_time": "2023-02-10T14:36:15.311Z"
   },
   {
    "duration": 506,
    "start_time": "2023-02-10T14:36:15.491Z"
   },
   {
    "duration": 1205,
    "start_time": "2023-02-10T14:36:15.999Z"
   },
   {
    "duration": 5,
    "start_time": "2023-02-10T14:36:17.207Z"
   },
   {
    "duration": 36,
    "start_time": "2023-02-10T14:36:17.215Z"
   },
   {
    "duration": 92,
    "start_time": "2023-02-10T14:36:17.253Z"
   },
   {
    "duration": 229,
    "start_time": "2023-02-10T14:36:17.347Z"
   },
   {
    "duration": 177,
    "start_time": "2023-02-10T14:36:17.578Z"
   },
   {
    "duration": 18,
    "start_time": "2023-02-10T14:36:17.756Z"
   },
   {
    "duration": 80,
    "start_time": "2023-02-10T14:36:17.776Z"
   },
   {
    "duration": 22,
    "start_time": "2023-02-10T14:36:19.330Z"
   },
   {
    "duration": 4,
    "start_time": "2023-02-10T14:36:22.533Z"
   },
   {
    "duration": 227257,
    "start_time": "2023-02-10T14:36:24.168Z"
   },
   {
    "duration": 112,
    "start_time": "2023-02-10T14:40:11.426Z"
   },
   {
    "duration": 1110,
    "start_time": "2023-02-10T14:40:43.386Z"
   },
   {
    "duration": 752,
    "start_time": "2023-02-10T14:40:44.498Z"
   },
   {
    "duration": 18,
    "start_time": "2023-02-10T14:40:45.252Z"
   },
   {
    "duration": 111,
    "start_time": "2023-02-10T14:40:45.271Z"
   },
   {
    "duration": 154,
    "start_time": "2023-02-10T14:40:45.384Z"
   },
   {
    "duration": 437,
    "start_time": "2023-02-10T14:40:45.539Z"
   },
   {
    "duration": 1012,
    "start_time": "2023-02-10T14:40:45.977Z"
   },
   {
    "duration": 4,
    "start_time": "2023-02-10T14:40:46.991Z"
   },
   {
    "duration": 23,
    "start_time": "2023-02-10T14:40:46.996Z"
   },
   {
    "duration": 78,
    "start_time": "2023-02-10T14:40:47.020Z"
   },
   {
    "duration": 201,
    "start_time": "2023-02-10T14:40:47.100Z"
   },
   {
    "duration": 83,
    "start_time": "2023-02-10T14:40:47.304Z"
   },
   {
    "duration": 15,
    "start_time": "2023-02-10T14:40:47.941Z"
   },
   {
    "duration": 66,
    "start_time": "2023-02-10T14:40:48.344Z"
   },
   {
    "duration": 93,
    "start_time": "2023-02-10T14:40:48.777Z"
   },
   {
    "duration": 3,
    "start_time": "2023-02-10T14:40:50.337Z"
   },
   {
    "duration": 228018,
    "start_time": "2023-02-10T14:40:52.752Z"
   },
   {
    "duration": 9,
    "start_time": "2023-02-10T14:44:40.771Z"
   },
   {
    "duration": 3,
    "start_time": "2023-02-10T14:48:50.143Z"
   },
   {
    "duration": 4,
    "start_time": "2023-02-10T14:51:13.488Z"
   },
   {
    "duration": 1227,
    "start_time": "2023-02-10T14:51:31.707Z"
   },
   {
    "duration": 761,
    "start_time": "2023-02-10T14:51:32.936Z"
   },
   {
    "duration": 18,
    "start_time": "2023-02-10T14:51:33.699Z"
   },
   {
    "duration": 112,
    "start_time": "2023-02-10T14:51:33.719Z"
   },
   {
    "duration": 150,
    "start_time": "2023-02-10T14:51:33.836Z"
   },
   {
    "duration": 449,
    "start_time": "2023-02-10T14:51:33.988Z"
   },
   {
    "duration": 1031,
    "start_time": "2023-02-10T14:51:34.439Z"
   },
   {
    "duration": 5,
    "start_time": "2023-02-10T14:51:35.471Z"
   },
   {
    "duration": 22,
    "start_time": "2023-02-10T14:51:35.477Z"
   },
   {
    "duration": 92,
    "start_time": "2023-02-10T14:51:35.501Z"
   },
   {
    "duration": 224,
    "start_time": "2023-02-10T14:51:35.595Z"
   },
   {
    "duration": 171,
    "start_time": "2023-02-10T14:51:35.820Z"
   },
   {
    "duration": 16,
    "start_time": "2023-02-10T14:51:35.993Z"
   },
   {
    "duration": 77,
    "start_time": "2023-02-10T14:51:36.011Z"
   },
   {
    "duration": 21,
    "start_time": "2023-02-10T14:51:36.090Z"
   },
   {
    "duration": 3,
    "start_time": "2023-02-10T14:51:37.684Z"
   },
   {
    "duration": 2,
    "start_time": "2023-02-10T14:52:02.485Z"
   },
   {
    "duration": 2,
    "start_time": "2023-02-10T14:52:05.572Z"
   },
   {
    "duration": 4,
    "start_time": "2023-02-10T14:52:13.702Z"
   },
   {
    "duration": 175,
    "start_time": "2023-02-10T14:58:59.137Z"
   },
   {
    "duration": 1203,
    "start_time": "2023-02-10T15:00:09.228Z"
   },
   {
    "duration": 816,
    "start_time": "2023-02-10T15:00:11.889Z"
   },
   {
    "duration": 18,
    "start_time": "2023-02-10T15:00:12.707Z"
   },
   {
    "duration": 120,
    "start_time": "2023-02-10T15:00:12.727Z"
   },
   {
    "duration": 157,
    "start_time": "2023-02-10T15:00:12.850Z"
   },
   {
    "duration": 435,
    "start_time": "2023-02-10T15:00:13.009Z"
   },
   {
    "duration": 1079,
    "start_time": "2023-02-10T15:00:13.445Z"
   },
   {
    "duration": 4,
    "start_time": "2023-02-10T15:00:14.525Z"
   },
   {
    "duration": 17,
    "start_time": "2023-02-10T15:00:14.537Z"
   },
   {
    "duration": 84,
    "start_time": "2023-02-10T15:00:14.556Z"
   },
   {
    "duration": 199,
    "start_time": "2023-02-10T15:00:14.642Z"
   },
   {
    "duration": 167,
    "start_time": "2023-02-10T15:00:14.843Z"
   },
   {
    "duration": 24,
    "start_time": "2023-02-10T15:00:15.013Z"
   },
   {
    "duration": 68,
    "start_time": "2023-02-10T15:00:15.039Z"
   },
   {
    "duration": 19,
    "start_time": "2023-02-10T15:00:15.575Z"
   },
   {
    "duration": 3,
    "start_time": "2023-02-10T15:00:20.707Z"
   },
   {
    "duration": 3,
    "start_time": "2023-02-10T15:00:30.184Z"
   },
   {
    "duration": 2,
    "start_time": "2023-02-10T15:01:26.287Z"
   },
   {
    "duration": 2,
    "start_time": "2023-02-10T15:01:27.374Z"
   },
   {
    "duration": 2,
    "start_time": "2023-02-10T15:01:27.870Z"
   },
   {
    "duration": 2,
    "start_time": "2023-02-10T15:01:28.283Z"
   },
   {
    "duration": 437159,
    "start_time": "2023-02-10T15:01:34.297Z"
   },
   {
    "duration": 296518,
    "start_time": "2023-02-10T15:12:55.653Z"
   },
   {
    "duration": 828461,
    "start_time": "2023-02-10T15:24:16.796Z"
   },
   {
    "duration": 244606,
    "start_time": "2023-02-10T16:06:03.847Z"
   },
   {
    "duration": 304054,
    "start_time": "2023-02-10T16:11:02.283Z"
   },
   {
    "duration": 4,
    "start_time": "2023-02-10T17:46:55.137Z"
   },
   {
    "duration": 3,
    "start_time": "2023-02-10T17:48:34.593Z"
   },
   {
    "duration": 14952,
    "start_time": "2023-02-10T17:51:48.596Z"
   },
   {
    "duration": 15202,
    "start_time": "2023-02-10T17:52:07.536Z"
   },
   {
    "duration": 15188,
    "start_time": "2023-02-10T17:52:54.715Z"
   },
   {
    "duration": 515442,
    "start_time": "2023-02-10T17:55:52.767Z"
   },
   {
    "duration": 120236,
    "start_time": "2023-02-10T18:04:37.422Z"
   },
   {
    "duration": 1242,
    "start_time": "2023-02-10T18:13:09.531Z"
   },
   {
    "duration": 812,
    "start_time": "2023-02-10T18:13:11.435Z"
   },
   {
    "duration": 20,
    "start_time": "2023-02-10T18:13:12.248Z"
   },
   {
    "duration": 206,
    "start_time": "2023-02-10T18:13:12.269Z"
   },
   {
    "duration": 183,
    "start_time": "2023-02-10T18:13:12.478Z"
   },
   {
    "duration": 444,
    "start_time": "2023-02-10T18:13:12.663Z"
   },
   {
    "duration": 1082,
    "start_time": "2023-02-10T18:13:13.109Z"
   },
   {
    "duration": 5,
    "start_time": "2023-02-10T18:13:14.193Z"
   },
   {
    "duration": 21,
    "start_time": "2023-02-10T18:13:14.200Z"
   },
   {
    "duration": 131,
    "start_time": "2023-02-10T18:13:14.223Z"
   },
   {
    "duration": 212,
    "start_time": "2023-02-10T18:13:14.356Z"
   },
   {
    "duration": 165,
    "start_time": "2023-02-10T18:13:14.570Z"
   },
   {
    "duration": 15,
    "start_time": "2023-02-10T18:13:14.737Z"
   },
   {
    "duration": 70,
    "start_time": "2023-02-10T18:13:14.754Z"
   },
   {
    "duration": 22,
    "start_time": "2023-02-10T18:13:14.838Z"
   },
   {
    "duration": 3,
    "start_time": "2023-02-10T18:13:19.142Z"
   },
   {
    "duration": 2652,
    "start_time": "2023-02-11T15:51:26.211Z"
   },
   {
    "duration": 2882,
    "start_time": "2023-02-11T15:51:28.865Z"
   },
   {
    "duration": 135,
    "start_time": "2023-02-11T15:51:54.668Z"
   },
   {
    "duration": 1595,
    "start_time": "2023-02-11T15:52:00.151Z"
   },
   {
    "duration": 25,
    "start_time": "2023-02-11T15:52:45.427Z"
   },
   {
    "duration": 10,
    "start_time": "2023-02-11T15:52:51.253Z"
   },
   {
    "duration": 274,
    "start_time": "2023-02-11T15:52:58.081Z"
   },
   {
    "duration": 9,
    "start_time": "2023-02-11T15:53:32.811Z"
   },
   {
    "duration": 13,
    "start_time": "2023-02-11T15:56:22.347Z"
   },
   {
    "duration": 26,
    "start_time": "2023-02-11T15:56:27.938Z"
   },
   {
    "duration": 190,
    "start_time": "2023-02-11T15:59:22.749Z"
   },
   {
    "duration": 14,
    "start_time": "2023-02-11T16:00:23.348Z"
   },
   {
    "duration": 9,
    "start_time": "2023-02-11T16:00:28.285Z"
   },
   {
    "duration": 9,
    "start_time": "2023-02-11T16:00:36.345Z"
   },
   {
    "duration": 26,
    "start_time": "2023-02-11T16:02:09.129Z"
   },
   {
    "duration": 23,
    "start_time": "2023-02-11T16:02:47.625Z"
   },
   {
    "duration": 7,
    "start_time": "2023-02-11T16:05:58.546Z"
   },
   {
    "duration": 9,
    "start_time": "2023-02-11T16:06:09.866Z"
   },
   {
    "duration": 28,
    "start_time": "2023-02-11T16:07:43.103Z"
   },
   {
    "duration": 11,
    "start_time": "2023-02-11T16:08:01.434Z"
   },
   {
    "duration": 7,
    "start_time": "2023-02-11T16:08:44.679Z"
   },
   {
    "duration": 8,
    "start_time": "2023-02-11T16:09:58.245Z"
   },
   {
    "duration": 9,
    "start_time": "2023-02-11T16:10:03.988Z"
   },
   {
    "duration": 11,
    "start_time": "2023-02-11T16:15:06.692Z"
   },
   {
    "duration": 8,
    "start_time": "2023-02-11T16:15:14.458Z"
   },
   {
    "duration": 10,
    "start_time": "2023-02-11T16:15:16.902Z"
   },
   {
    "duration": 9,
    "start_time": "2023-02-11T16:15:20.756Z"
   },
   {
    "duration": 6,
    "start_time": "2023-02-11T16:15:27.706Z"
   },
   {
    "duration": 9,
    "start_time": "2023-02-11T16:15:30.849Z"
   },
   {
    "duration": 26,
    "start_time": "2023-02-11T16:21:44.216Z"
   },
   {
    "duration": 8,
    "start_time": "2023-02-11T16:21:47.661Z"
   },
   {
    "duration": 26,
    "start_time": "2023-02-11T16:21:50.346Z"
   },
   {
    "duration": 23,
    "start_time": "2023-02-11T16:21:57.423Z"
   },
   {
    "duration": 1215,
    "start_time": "2023-02-11T16:38:20.695Z"
   },
   {
    "duration": 3146,
    "start_time": "2023-02-11T16:38:26.301Z"
   },
   {
    "duration": 21,
    "start_time": "2023-02-11T16:38:29.449Z"
   },
   {
    "duration": 146,
    "start_time": "2023-02-11T16:38:29.603Z"
   },
   {
    "duration": 150,
    "start_time": "2023-02-11T16:38:30.206Z"
   },
   {
    "duration": 486,
    "start_time": "2023-02-11T16:38:30.621Z"
   },
   {
    "duration": 1104,
    "start_time": "2023-02-11T16:38:31.385Z"
   },
   {
    "duration": 5,
    "start_time": "2023-02-11T16:38:32.687Z"
   },
   {
    "duration": 18,
    "start_time": "2023-02-11T16:38:39.037Z"
   },
   {
    "duration": 95,
    "start_time": "2023-02-11T16:38:48.351Z"
   },
   {
    "duration": 239,
    "start_time": "2023-02-11T16:38:52.459Z"
   },
   {
    "duration": 164,
    "start_time": "2023-02-11T16:39:57.828Z"
   },
   {
    "duration": 15,
    "start_time": "2023-02-11T16:40:00.854Z"
   },
   {
    "duration": 61,
    "start_time": "2023-02-11T16:40:01.419Z"
   },
   {
    "duration": 20,
    "start_time": "2023-02-11T16:40:02.876Z"
   },
   {
    "duration": 4,
    "start_time": "2023-02-11T16:40:50.009Z"
   },
   {
    "duration": 1144,
    "start_time": "2023-02-11T16:40:57.220Z"
   },
   {
    "duration": 825,
    "start_time": "2023-02-11T16:40:59.552Z"
   },
   {
    "duration": 24,
    "start_time": "2023-02-11T16:41:00.379Z"
   },
   {
    "duration": 139,
    "start_time": "2023-02-11T16:41:00.404Z"
   },
   {
    "duration": 173,
    "start_time": "2023-02-11T16:41:00.545Z"
   },
   {
    "duration": 511,
    "start_time": "2023-02-11T16:41:00.721Z"
   },
   {
    "duration": 1134,
    "start_time": "2023-02-11T16:41:01.234Z"
   },
   {
    "duration": 5,
    "start_time": "2023-02-11T16:41:02.369Z"
   },
   {
    "duration": 35,
    "start_time": "2023-02-11T16:41:02.376Z"
   },
   {
    "duration": 98,
    "start_time": "2023-02-11T16:41:02.413Z"
   },
   {
    "duration": 229,
    "start_time": "2023-02-11T16:41:02.512Z"
   },
   {
    "duration": 166,
    "start_time": "2023-02-11T16:41:02.743Z"
   },
   {
    "duration": 14,
    "start_time": "2023-02-11T16:41:03.336Z"
   },
   {
    "duration": 59,
    "start_time": "2023-02-11T16:41:03.680Z"
   },
   {
    "duration": 19,
    "start_time": "2023-02-11T16:41:20.448Z"
   },
   {
    "duration": 3,
    "start_time": "2023-02-11T16:42:33.438Z"
   },
   {
    "duration": 41706,
    "start_time": "2023-02-11T16:42:34.053Z"
   },
   {
    "duration": 14,
    "start_time": "2023-02-11T16:43:15.761Z"
   },
   {
    "duration": 153,
    "start_time": "2023-02-11T17:02:41.701Z"
   },
   {
    "duration": 20,
    "start_time": "2023-02-11T17:14:49.784Z"
   },
   {
    "duration": 31,
    "start_time": "2023-02-11T17:15:25.290Z"
   },
   {
    "duration": 14,
    "start_time": "2023-02-11T17:22:19.888Z"
   },
   {
    "duration": 11,
    "start_time": "2023-02-11T17:22:58.132Z"
   },
   {
    "duration": 12,
    "start_time": "2023-02-11T17:28:11.601Z"
   },
   {
    "duration": 9,
    "start_time": "2023-02-11T17:28:17.422Z"
   },
   {
    "duration": 154,
    "start_time": "2023-02-11T17:28:19.450Z"
   },
   {
    "duration": 25,
    "start_time": "2023-02-11T17:28:20.834Z"
   },
   {
    "duration": 21,
    "start_time": "2023-02-11T17:28:49.246Z"
   },
   {
    "duration": 5,
    "start_time": "2023-02-11T17:31:58.791Z"
   },
   {
    "duration": 24,
    "start_time": "2023-02-11T17:34:16.992Z"
   },
   {
    "duration": 69,
    "start_time": "2023-02-11T17:35:04.724Z"
   },
   {
    "duration": 12,
    "start_time": "2023-02-11T17:35:51.004Z"
   },
   {
    "duration": 41,
    "start_time": "2023-02-11T17:35:52.293Z"
   },
   {
    "duration": 583,
    "start_time": "2023-02-11T17:35:58.027Z"
   },
   {
    "duration": 14,
    "start_time": "2023-02-11T17:38:21.936Z"
   },
   {
    "duration": 5,
    "start_time": "2023-02-11T17:39:30.384Z"
   },
   {
    "duration": 6,
    "start_time": "2023-02-11T17:39:41.532Z"
   },
   {
    "duration": 36871,
    "start_time": "2023-02-11T17:39:49.620Z"
   },
   {
    "duration": 1130,
    "start_time": "2023-02-11T17:41:08.198Z"
   },
   {
    "duration": 875,
    "start_time": "2023-02-11T17:41:09.330Z"
   },
   {
    "duration": 21,
    "start_time": "2023-02-11T17:41:10.206Z"
   },
   {
    "duration": 144,
    "start_time": "2023-02-11T17:41:10.229Z"
   },
   {
    "duration": 172,
    "start_time": "2023-02-11T17:41:10.375Z"
   },
   {
    "duration": 456,
    "start_time": "2023-02-11T17:41:10.549Z"
   },
   {
    "duration": 1095,
    "start_time": "2023-02-11T17:41:11.007Z"
   },
   {
    "duration": 4,
    "start_time": "2023-02-11T17:41:12.104Z"
   },
   {
    "duration": 26,
    "start_time": "2023-02-11T17:41:12.110Z"
   },
   {
    "duration": 135,
    "start_time": "2023-02-11T17:41:12.139Z"
   },
   {
    "duration": 0,
    "start_time": "2023-02-11T17:41:12.275Z"
   },
   {
    "duration": 0,
    "start_time": "2023-02-11T17:41:12.276Z"
   },
   {
    "duration": 0,
    "start_time": "2023-02-11T17:41:12.278Z"
   },
   {
    "duration": 12,
    "start_time": "2023-02-11T17:41:12.300Z"
   },
   {
    "duration": 10,
    "start_time": "2023-02-11T17:41:57.869Z"
   },
   {
    "duration": 183,
    "start_time": "2023-02-11T17:42:10.970Z"
   },
   {
    "duration": 1182,
    "start_time": "2023-02-11T17:42:31.574Z"
   },
   {
    "duration": 860,
    "start_time": "2023-02-11T17:42:32.759Z"
   },
   {
    "duration": 20,
    "start_time": "2023-02-11T17:42:33.620Z"
   },
   {
    "duration": 154,
    "start_time": "2023-02-11T17:42:33.642Z"
   },
   {
    "duration": 159,
    "start_time": "2023-02-11T17:42:33.798Z"
   },
   {
    "duration": 450,
    "start_time": "2023-02-11T17:42:33.959Z"
   },
   {
    "duration": 1059,
    "start_time": "2023-02-11T17:42:34.411Z"
   },
   {
    "duration": 4,
    "start_time": "2023-02-11T17:42:35.472Z"
   },
   {
    "duration": 30,
    "start_time": "2023-02-11T17:42:35.477Z"
   },
   {
    "duration": 191,
    "start_time": "2023-02-11T17:42:35.508Z"
   },
   {
    "duration": 24,
    "start_time": "2023-02-11T17:42:40.370Z"
   },
   {
    "duration": 94,
    "start_time": "2023-02-11T17:42:43.266Z"
   },
   {
    "duration": 147,
    "start_time": "2023-02-11T17:43:17.447Z"
   },
   {
    "duration": 12,
    "start_time": "2023-02-11T17:43:17.780Z"
   },
   {
    "duration": 6,
    "start_time": "2023-02-11T17:43:18.069Z"
   },
   {
    "duration": 39,
    "start_time": "2023-02-11T17:43:18.981Z"
   },
   {
    "duration": 3,
    "start_time": "2023-02-11T17:43:24.527Z"
   },
   {
    "duration": 3,
    "start_time": "2023-02-11T17:43:27.796Z"
   },
   {
    "duration": 5631,
    "start_time": "2023-02-11T17:43:28.555Z"
   },
   {
    "duration": 1326,
    "start_time": "2023-02-11T17:46:06.106Z"
   },
   {
    "duration": 862,
    "start_time": "2023-02-11T17:46:07.434Z"
   },
   {
    "duration": 21,
    "start_time": "2023-02-11T17:46:08.297Z"
   },
   {
    "duration": 150,
    "start_time": "2023-02-11T17:46:08.319Z"
   },
   {
    "duration": 180,
    "start_time": "2023-02-11T17:46:08.472Z"
   },
   {
    "duration": 483,
    "start_time": "2023-02-11T17:46:08.654Z"
   },
   {
    "duration": 1114,
    "start_time": "2023-02-11T17:46:09.140Z"
   },
   {
    "duration": 5,
    "start_time": "2023-02-11T17:46:10.256Z"
   },
   {
    "duration": 55,
    "start_time": "2023-02-11T17:46:10.263Z"
   },
   {
    "duration": 99,
    "start_time": "2023-02-11T17:46:10.320Z"
   },
   {
    "duration": 234,
    "start_time": "2023-02-11T17:46:10.421Z"
   },
   {
    "duration": 176,
    "start_time": "2023-02-11T17:46:10.657Z"
   },
   {
    "duration": 11,
    "start_time": "2023-02-11T17:46:10.836Z"
   },
   {
    "duration": 51,
    "start_time": "2023-02-11T17:46:10.849Z"
   },
   {
    "duration": 98,
    "start_time": "2023-02-11T17:46:10.902Z"
   },
   {
    "duration": 168,
    "start_time": "2023-02-11T17:46:11.002Z"
   },
   {
    "duration": 4,
    "start_time": "2023-02-11T17:46:11.171Z"
   },
   {
    "duration": 4,
    "start_time": "2023-02-11T17:46:13.323Z"
   },
   {
    "duration": 6888,
    "start_time": "2023-02-11T17:46:13.848Z"
   },
   {
    "duration": 1189,
    "start_time": "2023-02-11T17:46:53.381Z"
   },
   {
    "duration": 811,
    "start_time": "2023-02-11T17:46:54.572Z"
   },
   {
    "duration": 23,
    "start_time": "2023-02-11T17:46:55.385Z"
   },
   {
    "duration": 131,
    "start_time": "2023-02-11T17:46:55.410Z"
   },
   {
    "duration": 158,
    "start_time": "2023-02-11T17:46:55.543Z"
   },
   {
    "duration": 449,
    "start_time": "2023-02-11T17:46:55.703Z"
   },
   {
    "duration": 1190,
    "start_time": "2023-02-11T17:46:56.153Z"
   },
   {
    "duration": 5,
    "start_time": "2023-02-11T17:46:57.344Z"
   },
   {
    "duration": 27,
    "start_time": "2023-02-11T17:46:57.351Z"
   },
   {
    "duration": 92,
    "start_time": "2023-02-11T17:46:57.380Z"
   },
   {
    "duration": 219,
    "start_time": "2023-02-11T17:46:57.474Z"
   },
   {
    "duration": 85,
    "start_time": "2023-02-11T17:46:57.738Z"
   },
   {
    "duration": 11,
    "start_time": "2023-02-11T17:46:58.237Z"
   },
   {
    "duration": 15,
    "start_time": "2023-02-11T17:46:58.639Z"
   },
   {
    "duration": 60,
    "start_time": "2023-02-11T17:46:59.105Z"
   },
   {
    "duration": 267,
    "start_time": "2023-02-11T17:47:02.253Z"
   },
   {
    "duration": 4,
    "start_time": "2023-02-11T17:47:02.657Z"
   },
   {
    "duration": 3,
    "start_time": "2023-02-11T17:47:05.304Z"
   },
   {
    "duration": 44065,
    "start_time": "2023-02-11T17:47:06.040Z"
   },
   {
    "duration": 12,
    "start_time": "2023-02-11T17:47:50.107Z"
   },
   {
    "duration": 4,
    "start_time": "2023-02-11T17:48:31.864Z"
   },
   {
    "duration": 118771,
    "start_time": "2023-02-11T17:48:36.967Z"
   },
   {
    "duration": 11,
    "start_time": "2023-02-11T17:50:35.739Z"
   },
   {
    "duration": 236048,
    "start_time": "2023-02-11T17:51:37.649Z"
   },
   {
    "duration": 24,
    "start_time": "2023-02-11T17:59:32.836Z"
   },
   {
    "duration": 1209,
    "start_time": "2023-02-11T18:02:26.369Z"
   },
   {
    "duration": 860,
    "start_time": "2023-02-11T18:02:27.581Z"
   },
   {
    "duration": 27,
    "start_time": "2023-02-11T18:02:28.443Z"
   },
   {
    "duration": 148,
    "start_time": "2023-02-11T18:02:28.472Z"
   },
   {
    "duration": 188,
    "start_time": "2023-02-11T18:02:28.622Z"
   },
   {
    "duration": 527,
    "start_time": "2023-02-11T18:02:28.812Z"
   },
   {
    "duration": 1146,
    "start_time": "2023-02-11T18:02:29.342Z"
   },
   {
    "duration": 4,
    "start_time": "2023-02-11T18:02:30.492Z"
   },
   {
    "duration": 52,
    "start_time": "2023-02-11T18:02:30.498Z"
   },
   {
    "duration": 99,
    "start_time": "2023-02-11T18:02:30.553Z"
   },
   {
    "duration": 248,
    "start_time": "2023-02-11T18:02:30.654Z"
   },
   {
    "duration": 188,
    "start_time": "2023-02-11T18:02:30.904Z"
   },
   {
    "duration": 11,
    "start_time": "2023-02-11T18:02:31.094Z"
   },
   {
    "duration": 22,
    "start_time": "2023-02-11T18:02:31.107Z"
   },
   {
    "duration": 88,
    "start_time": "2023-02-11T18:02:31.131Z"
   },
   {
    "duration": 182,
    "start_time": "2023-02-11T18:02:31.221Z"
   },
   {
    "duration": 4,
    "start_time": "2023-02-11T18:02:31.405Z"
   },
   {
    "duration": 38,
    "start_time": "2023-02-11T18:02:31.410Z"
   },
   {
    "duration": 43527,
    "start_time": "2023-02-11T18:02:31.450Z"
   },
   {
    "duration": 19,
    "start_time": "2023-02-11T18:03:14.979Z"
   },
   {
    "duration": 4,
    "start_time": "2023-02-11T18:03:15.000Z"
   },
   {
    "duration": 122062,
    "start_time": "2023-02-11T18:03:15.007Z"
   },
   {
    "duration": 11,
    "start_time": "2023-02-11T18:05:17.070Z"
   },
   {
    "duration": 235241,
    "start_time": "2023-02-11T18:05:17.092Z"
   },
   {
    "duration": 68,
    "start_time": "2023-02-11T18:09:12.335Z"
   },
   {
    "duration": 278111,
    "start_time": "2023-02-11T18:10:24.913Z"
   },
   {
    "duration": 588623,
    "start_time": "2023-02-11T18:15:28.170Z"
   },
   {
    "duration": 179551,
    "start_time": "2023-02-11T18:30:00.657Z"
   },
   {
    "duration": 109,
    "start_time": "2023-02-11T18:45:41.240Z"
   },
   {
    "duration": 9,
    "start_time": "2023-02-11T18:45:52.335Z"
   },
   {
    "duration": 11,
    "start_time": "2023-02-11T18:46:00.551Z"
   },
   {
    "duration": 11,
    "start_time": "2023-02-11T18:46:18.008Z"
   },
   {
    "duration": 10,
    "start_time": "2023-02-11T18:47:57.698Z"
   },
   {
    "duration": 5,
    "start_time": "2023-02-11T18:48:10.119Z"
   },
   {
    "duration": 10,
    "start_time": "2023-02-11T18:48:37.867Z"
   },
   {
    "duration": 4,
    "start_time": "2023-02-11T18:48:44.641Z"
   },
   {
    "duration": 21,
    "start_time": "2023-02-11T18:49:26.803Z"
   },
   {
    "duration": 10,
    "start_time": "2023-02-11T18:50:00.526Z"
   },
   {
    "duration": 5,
    "start_time": "2023-02-11T18:50:11.144Z"
   },
   {
    "duration": 4,
    "start_time": "2023-02-11T18:50:39.862Z"
   },
   {
    "duration": 18,
    "start_time": "2023-02-11T18:52:44.796Z"
   },
   {
    "duration": 10,
    "start_time": "2023-02-11T18:52:55.930Z"
   },
   {
    "duration": 12,
    "start_time": "2023-02-11T18:53:27.604Z"
   },
   {
    "duration": 11,
    "start_time": "2023-02-11T18:53:37.596Z"
   },
   {
    "duration": 8,
    "start_time": "2023-02-11T18:57:39.262Z"
   },
   {
    "duration": 6,
    "start_time": "2023-02-11T18:57:44.123Z"
   },
   {
    "duration": 6,
    "start_time": "2023-02-11T18:58:06.544Z"
   },
   {
    "duration": 9,
    "start_time": "2023-02-11T18:58:29.636Z"
   },
   {
    "duration": 4,
    "start_time": "2023-02-11T18:58:32.553Z"
   },
   {
    "duration": 10,
    "start_time": "2023-02-11T18:59:09.135Z"
   },
   {
    "duration": 10,
    "start_time": "2023-02-11T18:59:14.620Z"
   },
   {
    "duration": 14,
    "start_time": "2023-02-11T18:59:26.418Z"
   },
   {
    "duration": 169,
    "start_time": "2023-02-11T18:59:29.672Z"
   },
   {
    "duration": 12,
    "start_time": "2023-02-11T19:00:41.516Z"
   },
   {
    "duration": 12,
    "start_time": "2023-02-11T19:00:59.131Z"
   },
   {
    "duration": 11,
    "start_time": "2023-02-11T19:02:16.725Z"
   },
   {
    "duration": 42,
    "start_time": "2023-02-11T19:02:36.592Z"
   },
   {
    "duration": 50,
    "start_time": "2023-02-11T19:02:41.739Z"
   },
   {
    "duration": 11,
    "start_time": "2023-02-11T19:02:47.684Z"
   },
   {
    "duration": 198,
    "start_time": "2023-02-11T19:02:53.293Z"
   },
   {
    "duration": 10,
    "start_time": "2023-02-11T19:07:26.691Z"
   },
   {
    "duration": 19,
    "start_time": "2023-02-11T19:11:28.894Z"
   },
   {
    "duration": 855,
    "start_time": "2023-02-11T19:16:16.413Z"
   },
   {
    "duration": 16,
    "start_time": "2023-02-11T19:16:24.835Z"
   },
   {
    "duration": 12,
    "start_time": "2023-02-11T19:19:46.638Z"
   },
   {
    "duration": 59,
    "start_time": "2023-02-11T19:19:50.562Z"
   },
   {
    "duration": 16,
    "start_time": "2023-02-11T19:19:52.369Z"
   },
   {
    "duration": 9,
    "start_time": "2023-02-11T19:21:32.108Z"
   },
   {
    "duration": 9,
    "start_time": "2023-02-11T19:21:40.167Z"
   },
   {
    "duration": 17,
    "start_time": "2023-02-11T19:21:53.803Z"
   },
   {
    "duration": 369,
    "start_time": "2023-02-11T19:22:37.636Z"
   },
   {
    "duration": 355,
    "start_time": "2023-02-11T19:22:45.691Z"
   },
   {
    "duration": 773,
    "start_time": "2023-02-11T19:23:02.098Z"
   },
   {
    "duration": 16,
    "start_time": "2023-02-11T19:23:36.737Z"
   },
   {
    "duration": 15,
    "start_time": "2023-02-11T19:23:46.095Z"
   },
   {
    "duration": 23,
    "start_time": "2023-02-11T19:23:54.892Z"
   },
   {
    "duration": 354,
    "start_time": "2023-02-11T19:24:05.941Z"
   },
   {
    "duration": 16,
    "start_time": "2023-02-11T19:24:10.093Z"
   },
   {
    "duration": 720,
    "start_time": "2023-02-11T19:24:24.264Z"
   },
   {
    "duration": 16,
    "start_time": "2023-02-11T19:24:31.756Z"
   },
   {
    "duration": 17,
    "start_time": "2023-02-11T19:24:45.657Z"
   },
   {
    "duration": 14,
    "start_time": "2023-02-11T19:24:50.582Z"
   },
   {
    "duration": 11,
    "start_time": "2023-02-11T19:25:45.032Z"
   },
   {
    "duration": 75,
    "start_time": "2023-02-12T13:30:58.556Z"
   },
   {
    "duration": 43,
    "start_time": "2023-02-12T13:31:02.624Z"
   },
   {
    "duration": 1211,
    "start_time": "2023-02-12T13:31:20.139Z"
   },
   {
    "duration": 1135,
    "start_time": "2023-02-12T13:31:21.352Z"
   },
   {
    "duration": 20,
    "start_time": "2023-02-12T13:31:22.489Z"
   },
   {
    "duration": 126,
    "start_time": "2023-02-12T13:31:22.512Z"
   },
   {
    "duration": 150,
    "start_time": "2023-02-12T13:31:22.640Z"
   },
   {
    "duration": 447,
    "start_time": "2023-02-12T13:31:22.792Z"
   },
   {
    "duration": 1275,
    "start_time": "2023-02-12T13:31:23.240Z"
   },
   {
    "duration": 5,
    "start_time": "2023-02-12T13:31:24.516Z"
   },
   {
    "duration": 35,
    "start_time": "2023-02-12T13:31:24.522Z"
   },
   {
    "duration": 94,
    "start_time": "2023-02-12T13:31:24.561Z"
   },
   {
    "duration": 217,
    "start_time": "2023-02-12T13:31:24.656Z"
   },
   {
    "duration": 85,
    "start_time": "2023-02-12T13:31:24.875Z"
   },
   {
    "duration": 10,
    "start_time": "2023-02-12T13:31:24.962Z"
   },
   {
    "duration": 12,
    "start_time": "2023-02-12T13:31:24.974Z"
   },
   {
    "duration": 89,
    "start_time": "2023-02-12T13:31:24.988Z"
   },
   {
    "duration": 168,
    "start_time": "2023-02-12T13:31:25.079Z"
   },
   {
    "duration": 4,
    "start_time": "2023-02-12T13:31:25.249Z"
   },
   {
    "duration": 6,
    "start_time": "2023-02-12T13:31:25.255Z"
   },
   {
    "duration": 42776,
    "start_time": "2023-02-12T13:31:25.262Z"
   },
   {
    "duration": 66,
    "start_time": "2023-02-12T13:32:08.040Z"
   },
   {
    "duration": 0,
    "start_time": "2023-02-12T13:32:08.107Z"
   },
   {
    "duration": 0,
    "start_time": "2023-02-12T13:32:08.108Z"
   },
   {
    "duration": 0,
    "start_time": "2023-02-12T13:32:08.109Z"
   },
   {
    "duration": 0,
    "start_time": "2023-02-12T13:32:08.110Z"
   },
   {
    "duration": 0,
    "start_time": "2023-02-12T13:32:08.111Z"
   },
   {
    "duration": 0,
    "start_time": "2023-02-12T13:32:08.112Z"
   },
   {
    "duration": 0,
    "start_time": "2023-02-12T13:32:08.114Z"
   },
   {
    "duration": 0,
    "start_time": "2023-02-12T13:32:08.115Z"
   },
   {
    "duration": 0,
    "start_time": "2023-02-12T13:32:08.117Z"
   },
   {
    "duration": 0,
    "start_time": "2023-02-12T13:32:08.118Z"
   },
   {
    "duration": 1280,
    "start_time": "2023-02-12T13:33:39.096Z"
   },
   {
    "duration": 813,
    "start_time": "2023-02-12T13:33:40.377Z"
   },
   {
    "duration": 18,
    "start_time": "2023-02-12T13:33:41.192Z"
   },
   {
    "duration": 163,
    "start_time": "2023-02-12T13:33:41.213Z"
   },
   {
    "duration": 158,
    "start_time": "2023-02-12T13:33:41.378Z"
   },
   {
    "duration": 491,
    "start_time": "2023-02-12T13:33:41.538Z"
   },
   {
    "duration": 1148,
    "start_time": "2023-02-12T13:33:42.031Z"
   },
   {
    "duration": 4,
    "start_time": "2023-02-12T13:33:43.181Z"
   },
   {
    "duration": 22,
    "start_time": "2023-02-12T13:33:43.186Z"
   },
   {
    "duration": 108,
    "start_time": "2023-02-12T13:33:43.211Z"
   },
   {
    "duration": 266,
    "start_time": "2023-02-12T13:33:43.321Z"
   },
   {
    "duration": 172,
    "start_time": "2023-02-12T13:33:43.589Z"
   },
   {
    "duration": 14,
    "start_time": "2023-02-12T13:33:43.764Z"
   },
   {
    "duration": 14,
    "start_time": "2023-02-12T13:33:43.780Z"
   },
   {
    "duration": 99,
    "start_time": "2023-02-12T13:33:43.796Z"
   },
   {
    "duration": 182,
    "start_time": "2023-02-12T13:33:43.897Z"
   },
   {
    "duration": 3,
    "start_time": "2023-02-12T13:33:44.081Z"
   },
   {
    "duration": 7,
    "start_time": "2023-02-12T13:33:44.086Z"
   },
   {
    "duration": 41888,
    "start_time": "2023-02-12T13:33:44.094Z"
   },
   {
    "duration": 9,
    "start_time": "2023-02-12T13:34:25.983Z"
   },
   {
    "duration": 5,
    "start_time": "2023-02-12T13:34:25.994Z"
   },
   {
    "duration": 123017,
    "start_time": "2023-02-12T13:34:26.002Z"
   },
   {
    "duration": 143,
    "start_time": "2023-02-12T13:36:29.020Z"
   },
   {
    "duration": 0,
    "start_time": "2023-02-12T13:36:29.165Z"
   },
   {
    "duration": 0,
    "start_time": "2023-02-12T13:36:29.167Z"
   },
   {
    "duration": 0,
    "start_time": "2023-02-12T13:36:29.169Z"
   },
   {
    "duration": 0,
    "start_time": "2023-02-12T13:36:29.171Z"
   },
   {
    "duration": 1,
    "start_time": "2023-02-12T13:36:29.172Z"
   },
   {
    "duration": 0,
    "start_time": "2023-02-12T13:36:29.174Z"
   },
   {
    "duration": 0,
    "start_time": "2023-02-12T13:36:29.176Z"
   },
   {
    "duration": 20,
    "start_time": "2023-02-12T13:36:37.859Z"
   },
   {
    "duration": 1350,
    "start_time": "2023-02-12T13:36:43.821Z"
   },
   {
    "duration": 864,
    "start_time": "2023-02-12T13:36:45.173Z"
   },
   {
    "duration": 33,
    "start_time": "2023-02-12T13:36:46.039Z"
   },
   {
    "duration": 165,
    "start_time": "2023-02-12T13:36:46.075Z"
   },
   {
    "duration": 185,
    "start_time": "2023-02-12T13:36:46.241Z"
   },
   {
    "duration": 526,
    "start_time": "2023-02-12T13:36:46.428Z"
   },
   {
    "duration": 1220,
    "start_time": "2023-02-12T13:36:46.957Z"
   },
   {
    "duration": 5,
    "start_time": "2023-02-12T13:36:48.179Z"
   },
   {
    "duration": 19,
    "start_time": "2023-02-12T13:36:48.185Z"
   },
   {
    "duration": 119,
    "start_time": "2023-02-12T13:36:48.207Z"
   },
   {
    "duration": 264,
    "start_time": "2023-02-12T13:36:48.328Z"
   },
   {
    "duration": 183,
    "start_time": "2023-02-12T13:36:48.594Z"
   },
   {
    "duration": 10,
    "start_time": "2023-02-12T13:36:48.779Z"
   },
   {
    "duration": 16,
    "start_time": "2023-02-12T13:36:48.791Z"
   },
   {
    "duration": 100,
    "start_time": "2023-02-12T13:36:48.809Z"
   },
   {
    "duration": 186,
    "start_time": "2023-02-12T13:36:48.910Z"
   },
   {
    "duration": 4,
    "start_time": "2023-02-12T13:36:49.098Z"
   },
   {
    "duration": 5,
    "start_time": "2023-02-12T13:36:49.104Z"
   },
   {
    "duration": 45146,
    "start_time": "2023-02-12T13:36:49.111Z"
   },
   {
    "duration": 10,
    "start_time": "2023-02-12T13:37:34.258Z"
   },
   {
    "duration": 8,
    "start_time": "2023-02-12T13:37:34.270Z"
   },
   {
    "duration": 126128,
    "start_time": "2023-02-12T13:37:34.280Z"
   },
   {
    "duration": 8,
    "start_time": "2023-02-12T13:39:40.410Z"
   },
   {
    "duration": 3007677,
    "start_time": "2023-02-12T13:39:40.419Z"
   },
   {
    "duration": 9,
    "start_time": "2023-02-12T14:29:48.098Z"
   },
   {
    "duration": 488382,
    "start_time": "2023-02-12T14:29:48.109Z"
   },
   {
    "duration": 2094279,
    "start_time": "2023-02-12T14:37:56.493Z"
   },
   {
    "duration": 121811,
    "start_time": "2023-02-12T15:12:50.775Z"
   },
   {
    "duration": 112,
    "start_time": "2023-02-12T15:14:52.587Z"
   },
   {
    "duration": 0,
    "start_time": "2023-02-12T15:14:52.701Z"
   },
   {
    "duration": 104,
    "start_time": "2023-02-12T15:15:12.681Z"
   },
   {
    "duration": 10,
    "start_time": "2023-02-12T15:15:23.934Z"
   },
   {
    "duration": 191,
    "start_time": "2023-02-12T15:17:15.576Z"
   }
  ],
  "kernelspec": {
   "display_name": "Python 3 (ipykernel)",
   "language": "python",
   "name": "python3"
  },
  "language_info": {
   "codemirror_mode": {
    "name": "ipython",
    "version": 3
   },
   "file_extension": ".py",
   "mimetype": "text/x-python",
   "name": "python",
   "nbconvert_exporter": "python",
   "pygments_lexer": "ipython3",
   "version": "3.10.9"
  },
  "toc": {
   "base_numbering": 1,
   "nav_menu": {},
   "number_sections": true,
   "sideBar": true,
   "skip_h1_title": true,
   "title_cell": "Table of Contents",
   "title_sidebar": "Contents",
   "toc_cell": false,
   "toc_position": {},
   "toc_section_display": true,
   "toc_window_display": false
  }
 },
 "nbformat": 4,
 "nbformat_minor": 2
}
