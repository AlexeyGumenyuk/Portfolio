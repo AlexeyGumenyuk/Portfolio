{
 "cells": [
  {
   "attachments": {},
   "cell_type": "markdown",
   "metadata": {},
   "source": [
    "# Проект \"Промышленность\""
   ]
  },
  {
   "attachments": {},
   "cell_type": "markdown",
   "metadata": {
    "id": "9VlAwefluvOT"
   },
   "source": [
    "Чтобы оптимизировать производственные расходы, металлургический комбинат ООО «Так закаляем сталь» решил уменьшить потребление электроэнергии на этапе обработки стали. Цель проекта - построить модель, которая предскажет температуру стали. Подробнее - в README-файле."
   ]
  },
  {
   "cell_type": "markdown",
   "metadata": {},
   "source": [
    "## Описание этапа обработки\n",
    "\n",
    "Сталь обрабатывают в металлическом ковше вместимостью около 100 тонн. Чтобы ковш выдерживал высокие температуры, изнутри его облицовывают огнеупорным кирпичом. Расплавленную сталь заливают в ковш и подогревают до нужной температуры графитовыми электродами. Они установлены в крышке ковша. \n",
    "\n",
    "Из сплава выводится сера (десульфурация), добавлением примесей корректируется химический состав и отбираются пробы. Сталь легируют — изменяют её состав — подавая куски сплава из бункера для сыпучих материалов или проволоку через специальный трайб-аппарат (англ. tribe, «масса»).\n",
    "\n",
    "Перед тем как первый раз ввести легирующие добавки, измеряют температуру стали и производят её химический анализ. Потом температуру на несколько минут повышают, добавляют легирующие материалы и продувают сплав инертным газом. Затем его перемешивают и снова проводят измерения. Такой цикл повторяется до достижения целевого химического состава и оптимальной температуры плавки.\n",
    "\n",
    "Тогда расплавленная сталь отправляется на доводку металла или поступает в машину непрерывной разливки. Оттуда готовый продукт выходит в виде заготовок-слябов (англ. *slab*, «плита»)."
   ]
  },
  {
   "cell_type": "markdown",
   "metadata": {},
   "source": [
    "## Описание данных\n",
    "\n",
    "Данные состоят из файлов, полученных из разных источников:\n",
    "\n",
    "- `data_arc_new.csv` — данные об электродах;\n",
    "- `data_bulk_new.csv` — данные о подаче сыпучих материалов (объём);\n",
    "- `data_bulk_time_new.csv` — данные о подаче сыпучих материалов (время);\n",
    "- `data_gas_new.csv` — данные о продувке сплава газом;\n",
    "- `data_temp_new.csv` — результаты измерения температуры;\n",
    "- `data_wire_new.csv` — данные о проволочных материалах (объём);\n",
    "- `data_wire_time_new.csv` — данные о проволочных материалах (время).\n",
    "\n",
    "Во всех файлах столбец `key` содержит номер партии. В файлах может быть несколько строк с одинаковым значением `key`: они соответствуют разным итерациям обработки."
   ]
  },
  {
   "attachments": {},
   "cell_type": "markdown",
   "metadata": {},
   "source": [
    "**Содержание**<a id='toc0_'></a>    \n",
    "- 1. [Загрузка и изучение данных](#toc1_)    \n",
    "- 2. [План работ по проекту](#toc2_)    \n",
    "- 3. [Вопросы по процессу](#toc3_)    \n",
    "- 4. [Предобработка данных](#toc4_)    \n",
    "- 5. [Обучение моделей](#toc5_)    \n",
    "- 6. [Тестирование модели](#toc6_)    \n",
    "- 7. [Отчёт по решению](#toc7_)    \n",
    "\n",
    "<!-- vscode-jupyter-toc-config\n",
    "\tnumbering=true\n",
    "\tanchor=true\n",
    "\tflat=false\n",
    "\tminLevel=2\n",
    "\tmaxLevel=6\n",
    "\t/vscode-jupyter-toc-config -->\n",
    "<!-- THIS CELL WILL BE REPLACED ON TOC UPDATE. DO NOT WRITE YOUR TEXT IN THIS CELL -->"
   ]
  },
  {
   "cell_type": "code",
   "execution_count": 1,
   "metadata": {
    "id": "CIm-VPsVu3gI"
   },
   "outputs": [],
   "source": [
    "import pandas as pd\n",
    "import matplotlib.pyplot as plt\n",
    "import seaborn as sns\n",
    "\n",
    "from sklearn.model_selection import train_test_split\n",
    "from sklearn.pipeline import Pipeline\n",
    "from sklearn.experimental import enable_halving_search_cv\n",
    "from sklearn.model_selection import HalvingGridSearchCV\n",
    "from sklearn.preprocessing import StandardScaler\n",
    "from sklearn.linear_model import LinearRegression\n",
    "from sklearn.ensemble import RandomForestRegressor\n",
    "from lightgbm import LGBMRegressor\n",
    "from sklearn.neural_network import MLPRegressor\n",
    "from sklearn.metrics import mean_absolute_error"
   ]
  },
  {
   "attachments": {},
   "cell_type": "markdown",
   "metadata": {},
   "source": [
    "## 1. <a id='toc1_'></a>[Загрузка и изучение данных](#toc0_)"
   ]
  },
  {
   "attachments": {},
   "cell_type": "markdown",
   "metadata": {
    "id": "1LLbA7HN8-jj"
   },
   "source": [
    "Все замечания по данным приведены в выводе по разделу\n",
    "\n"
   ]
  },
  {
   "cell_type": "code",
   "execution_count": 2,
   "metadata": {
    "id": "aDthQeW_y1hu"
   },
   "outputs": [],
   "source": [
    "# данные об электродах\n",
    "df_arc = pd.read_csv('datasets/data_arc_new.csv', parse_dates=[1, 2])"
   ]
  },
  {
   "cell_type": "code",
   "execution_count": 3,
   "metadata": {
    "colab": {
     "base_uri": "https://localhost:8080/",
     "height": 363
    },
    "id": "JhgUMMkFzFVX",
    "outputId": "9ace8181-987d-4263-ceaf-b2ddc7a42531"
   },
   "outputs": [
    {
     "data": {
      "text/html": [
       "<div>\n",
       "<style scoped>\n",
       "    .dataframe tbody tr th:only-of-type {\n",
       "        vertical-align: middle;\n",
       "    }\n",
       "\n",
       "    .dataframe tbody tr th {\n",
       "        vertical-align: top;\n",
       "    }\n",
       "\n",
       "    .dataframe thead th {\n",
       "        text-align: right;\n",
       "    }\n",
       "</style>\n",
       "<table border=\"1\" class=\"dataframe\">\n",
       "  <thead>\n",
       "    <tr style=\"text-align: right;\">\n",
       "      <th></th>\n",
       "      <th>key</th>\n",
       "      <th>Начало нагрева дугой</th>\n",
       "      <th>Конец нагрева дугой</th>\n",
       "      <th>Активная мощность</th>\n",
       "      <th>Реактивная мощность</th>\n",
       "    </tr>\n",
       "  </thead>\n",
       "  <tbody>\n",
       "    <tr>\n",
       "      <th>0</th>\n",
       "      <td>1</td>\n",
       "      <td>2019-05-03 11:02:14</td>\n",
       "      <td>2019-05-03 11:06:02</td>\n",
       "      <td>0.305130</td>\n",
       "      <td>0.211253</td>\n",
       "    </tr>\n",
       "    <tr>\n",
       "      <th>1</th>\n",
       "      <td>1</td>\n",
       "      <td>2019-05-03 11:07:28</td>\n",
       "      <td>2019-05-03 11:10:33</td>\n",
       "      <td>0.765658</td>\n",
       "      <td>0.477438</td>\n",
       "    </tr>\n",
       "    <tr>\n",
       "      <th>2</th>\n",
       "      <td>1</td>\n",
       "      <td>2019-05-03 11:11:44</td>\n",
       "      <td>2019-05-03 11:14:36</td>\n",
       "      <td>0.580313</td>\n",
       "      <td>0.430460</td>\n",
       "    </tr>\n",
       "    <tr>\n",
       "      <th>3</th>\n",
       "      <td>1</td>\n",
       "      <td>2019-05-03 11:18:14</td>\n",
       "      <td>2019-05-03 11:24:19</td>\n",
       "      <td>0.518496</td>\n",
       "      <td>0.379979</td>\n",
       "    </tr>\n",
       "    <tr>\n",
       "      <th>4</th>\n",
       "      <td>1</td>\n",
       "      <td>2019-05-03 11:26:09</td>\n",
       "      <td>2019-05-03 11:28:37</td>\n",
       "      <td>0.867133</td>\n",
       "      <td>0.643691</td>\n",
       "    </tr>\n",
       "    <tr>\n",
       "      <th>5</th>\n",
       "      <td>2</td>\n",
       "      <td>2019-05-03 11:34:14</td>\n",
       "      <td>2019-05-03 11:36:31</td>\n",
       "      <td>0.381124</td>\n",
       "      <td>0.220351</td>\n",
       "    </tr>\n",
       "    <tr>\n",
       "      <th>6</th>\n",
       "      <td>2</td>\n",
       "      <td>2019-05-03 11:38:50</td>\n",
       "      <td>2019-05-03 11:44:28</td>\n",
       "      <td>0.261665</td>\n",
       "      <td>0.205527</td>\n",
       "    </tr>\n",
       "    <tr>\n",
       "      <th>7</th>\n",
       "      <td>2</td>\n",
       "      <td>2019-05-03 11:46:19</td>\n",
       "      <td>2019-05-03 11:48:25</td>\n",
       "      <td>0.710297</td>\n",
       "      <td>0.484962</td>\n",
       "    </tr>\n",
       "    <tr>\n",
       "      <th>8</th>\n",
       "      <td>2</td>\n",
       "      <td>2019-05-03 11:49:48</td>\n",
       "      <td>2019-05-03 11:53:18</td>\n",
       "      <td>0.786322</td>\n",
       "      <td>0.542517</td>\n",
       "    </tr>\n",
       "    <tr>\n",
       "      <th>9</th>\n",
       "      <td>3</td>\n",
       "      <td>2019-05-03 12:06:54</td>\n",
       "      <td>2019-05-03 12:11:34</td>\n",
       "      <td>1.101678</td>\n",
       "      <td>0.820856</td>\n",
       "    </tr>\n",
       "  </tbody>\n",
       "</table>\n",
       "</div>"
      ],
      "text/plain": [
       "   key Начало нагрева дугой Конец нагрева дугой  Активная мощность  \\\n",
       "0    1  2019-05-03 11:02:14 2019-05-03 11:06:02           0.305130   \n",
       "1    1  2019-05-03 11:07:28 2019-05-03 11:10:33           0.765658   \n",
       "2    1  2019-05-03 11:11:44 2019-05-03 11:14:36           0.580313   \n",
       "3    1  2019-05-03 11:18:14 2019-05-03 11:24:19           0.518496   \n",
       "4    1  2019-05-03 11:26:09 2019-05-03 11:28:37           0.867133   \n",
       "5    2  2019-05-03 11:34:14 2019-05-03 11:36:31           0.381124   \n",
       "6    2  2019-05-03 11:38:50 2019-05-03 11:44:28           0.261665   \n",
       "7    2  2019-05-03 11:46:19 2019-05-03 11:48:25           0.710297   \n",
       "8    2  2019-05-03 11:49:48 2019-05-03 11:53:18           0.786322   \n",
       "9    3  2019-05-03 12:06:54 2019-05-03 12:11:34           1.101678   \n",
       "\n",
       "   Реактивная мощность  \n",
       "0             0.211253  \n",
       "1             0.477438  \n",
       "2             0.430460  \n",
       "3             0.379979  \n",
       "4             0.643691  \n",
       "5             0.220351  \n",
       "6             0.205527  \n",
       "7             0.484962  \n",
       "8             0.542517  \n",
       "9             0.820856  "
      ]
     },
     "execution_count": 3,
     "metadata": {},
     "output_type": "execute_result"
    }
   ],
   "source": [
    "df_arc.head(10)"
   ]
  },
  {
   "cell_type": "code",
   "execution_count": 4,
   "metadata": {
    "colab": {
     "base_uri": "https://localhost:8080/"
    },
    "id": "0Kuphhw700xr",
    "outputId": "3a317e32-677e-43d7-f186-3e3cac9d270c"
   },
   "outputs": [
    {
     "name": "stdout",
     "output_type": "stream",
     "text": [
      "<class 'pandas.core.frame.DataFrame'>\n",
      "RangeIndex: 14876 entries, 0 to 14875\n",
      "Data columns (total 5 columns):\n",
      " #   Column                Non-Null Count  Dtype         \n",
      "---  ------                --------------  -----         \n",
      " 0   key                   14876 non-null  int64         \n",
      " 1   Начало нагрева дугой  14876 non-null  datetime64[ns]\n",
      " 2   Конец нагрева дугой   14876 non-null  datetime64[ns]\n",
      " 3   Активная мощность     14876 non-null  float64       \n",
      " 4   Реактивная мощность   14876 non-null  float64       \n",
      "dtypes: datetime64[ns](2), float64(2), int64(1)\n",
      "memory usage: 581.2 KB\n"
     ]
    }
   ],
   "source": [
    "df_arc.info()"
   ]
  },
  {
   "cell_type": "code",
   "execution_count": 5,
   "metadata": {
    "colab": {
     "base_uri": "https://localhost:8080/",
     "height": 300
    },
    "id": "dc7mun0A09O_",
    "outputId": "6a50005e-267e-48bb-dec7-e4f28291f6a8"
   },
   "outputs": [
    {
     "data": {
      "text/html": [
       "<div>\n",
       "<style scoped>\n",
       "    .dataframe tbody tr th:only-of-type {\n",
       "        vertical-align: middle;\n",
       "    }\n",
       "\n",
       "    .dataframe tbody tr th {\n",
       "        vertical-align: top;\n",
       "    }\n",
       "\n",
       "    .dataframe thead th {\n",
       "        text-align: right;\n",
       "    }\n",
       "</style>\n",
       "<table border=\"1\" class=\"dataframe\">\n",
       "  <thead>\n",
       "    <tr style=\"text-align: right;\">\n",
       "      <th></th>\n",
       "      <th>key</th>\n",
       "      <th>Активная мощность</th>\n",
       "      <th>Реактивная мощность</th>\n",
       "    </tr>\n",
       "  </thead>\n",
       "  <tbody>\n",
       "    <tr>\n",
       "      <th>count</th>\n",
       "      <td>14876.000000</td>\n",
       "      <td>14876.000000</td>\n",
       "      <td>14876.000000</td>\n",
       "    </tr>\n",
       "    <tr>\n",
       "      <th>mean</th>\n",
       "      <td>1615.220422</td>\n",
       "      <td>0.662752</td>\n",
       "      <td>0.438986</td>\n",
       "    </tr>\n",
       "    <tr>\n",
       "      <th>std</th>\n",
       "      <td>934.571502</td>\n",
       "      <td>0.258885</td>\n",
       "      <td>5.873485</td>\n",
       "    </tr>\n",
       "    <tr>\n",
       "      <th>min</th>\n",
       "      <td>1.000000</td>\n",
       "      <td>0.223120</td>\n",
       "      <td>-715.479924</td>\n",
       "    </tr>\n",
       "    <tr>\n",
       "      <th>25%</th>\n",
       "      <td>806.000000</td>\n",
       "      <td>0.467115</td>\n",
       "      <td>0.337175</td>\n",
       "    </tr>\n",
       "    <tr>\n",
       "      <th>50%</th>\n",
       "      <td>1617.000000</td>\n",
       "      <td>0.599587</td>\n",
       "      <td>0.441639</td>\n",
       "    </tr>\n",
       "    <tr>\n",
       "      <th>75%</th>\n",
       "      <td>2429.000000</td>\n",
       "      <td>0.830070</td>\n",
       "      <td>0.608201</td>\n",
       "    </tr>\n",
       "    <tr>\n",
       "      <th>max</th>\n",
       "      <td>3241.000000</td>\n",
       "      <td>1.463773</td>\n",
       "      <td>1.270284</td>\n",
       "    </tr>\n",
       "  </tbody>\n",
       "</table>\n",
       "</div>"
      ],
      "text/plain": [
       "                key  Активная мощность  Реактивная мощность\n",
       "count  14876.000000       14876.000000         14876.000000\n",
       "mean    1615.220422           0.662752             0.438986\n",
       "std      934.571502           0.258885             5.873485\n",
       "min        1.000000           0.223120          -715.479924\n",
       "25%      806.000000           0.467115             0.337175\n",
       "50%     1617.000000           0.599587             0.441639\n",
       "75%     2429.000000           0.830070             0.608201\n",
       "max     3241.000000           1.463773             1.270284"
      ]
     },
     "execution_count": 5,
     "metadata": {},
     "output_type": "execute_result"
    }
   ],
   "source": [
    "df_arc.describe()"
   ]
  },
  {
   "cell_type": "code",
   "execution_count": 6,
   "metadata": {
    "colab": {
     "base_uri": "https://localhost:8080/"
    },
    "id": "OAQHp66D5ekz",
    "outputId": "b8743c0c-58f6-4d82-ed3e-bb48c1c9320e"
   },
   "outputs": [
    {
     "data": {
      "text/plain": [
       "Начало нагрева дугой    True\n",
       "Конец нагрева дугой     True\n",
       "dtype: bool"
      ]
     },
     "execution_count": 6,
     "metadata": {},
     "output_type": "execute_result"
    }
   ],
   "source": [
    "df_arc.iloc[:, [1, 2]].apply(lambda x: x.is_monotonic_increasing)"
   ]
  },
  {
   "cell_type": "code",
   "execution_count": 7,
   "metadata": {
    "colab": {
     "base_uri": "https://localhost:8080/",
     "height": 81
    },
    "id": "gujsFI64FY5P",
    "outputId": "a819b7c0-6e56-4072-87a5-4a5b9b1d932f"
   },
   "outputs": [
    {
     "data": {
      "text/html": [
       "<div>\n",
       "<style scoped>\n",
       "    .dataframe tbody tr th:only-of-type {\n",
       "        vertical-align: middle;\n",
       "    }\n",
       "\n",
       "    .dataframe tbody tr th {\n",
       "        vertical-align: top;\n",
       "    }\n",
       "\n",
       "    .dataframe thead th {\n",
       "        text-align: right;\n",
       "    }\n",
       "</style>\n",
       "<table border=\"1\" class=\"dataframe\">\n",
       "  <thead>\n",
       "    <tr style=\"text-align: right;\">\n",
       "      <th></th>\n",
       "      <th>key</th>\n",
       "      <th>Начало нагрева дугой</th>\n",
       "      <th>Конец нагрева дугой</th>\n",
       "      <th>Активная мощность</th>\n",
       "      <th>Реактивная мощность</th>\n",
       "    </tr>\n",
       "  </thead>\n",
       "  <tbody>\n",
       "    <tr>\n",
       "      <th>9780</th>\n",
       "      <td>2116</td>\n",
       "      <td>2019-07-28 02:22:08</td>\n",
       "      <td>2019-07-28 02:23:57</td>\n",
       "      <td>0.705344</td>\n",
       "      <td>-715.479924</td>\n",
       "    </tr>\n",
       "  </tbody>\n",
       "</table>\n",
       "</div>"
      ],
      "text/plain": [
       "       key Начало нагрева дугой Конец нагрева дугой  Активная мощность  \\\n",
       "9780  2116  2019-07-28 02:22:08 2019-07-28 02:23:57           0.705344   \n",
       "\n",
       "      Реактивная мощность  \n",
       "9780          -715.479924  "
      ]
     },
     "execution_count": 7,
     "metadata": {},
     "output_type": "execute_result"
    }
   ],
   "source": [
    "df_arc.loc[df_arc.iloc[:, 4] < -2, :]"
   ]
  },
  {
   "cell_type": "code",
   "execution_count": 8,
   "metadata": {
    "colab": {
     "base_uri": "https://localhost:8080/",
     "height": 495
    },
    "id": "TsZdc7Tb6ZSI",
    "outputId": "8560cbb4-8d8f-4759-a21d-1aaa46734dde"
   },
   "outputs": [
    {
     "data": {
      "image/png": "[encoded data removed]",
      "text/plain": [
       "<Figure size 1500x500 with 2 Axes>"
      ]
     },
     "metadata": {},
     "output_type": "display_data"
    }
   ],
   "source": [
    "fig, ax = plt.subplots(figsize=(15,5), ncols=2)\n",
    "df_arc.iloc[:, [3, 4]].drop(9780).hist(bins=20, ax=ax)\n",
    "fig.suptitle('Распределение мощности на электродах');"
   ]
  },
  {
   "cell_type": "code",
   "execution_count": 9,
   "metadata": {
    "id": "u-wYxSmZHbp5"
   },
   "outputs": [],
   "source": [
    "# данные о подаче сыпучих материалов (объём)\n",
    "df_bulk = pd.read_csv('datasets/data_bulk_new.csv', index_col=0)"
   ]
  },
  {
   "cell_type": "code",
   "execution_count": 10,
   "metadata": {
    "colab": {
     "base_uri": "https://localhost:8080/",
     "height": 238
    },
    "id": "P1G4GC4VIzUb",
    "outputId": "4e3ef7ee-8b28-4dd8-e104-2967959648a5"
   },
   "outputs": [
    {
     "data": {
      "text/html": [
       "<div>\n",
       "<style scoped>\n",
       "    .dataframe tbody tr th:only-of-type {\n",
       "        vertical-align: middle;\n",
       "    }\n",
       "\n",
       "    .dataframe tbody tr th {\n",
       "        vertical-align: top;\n",
       "    }\n",
       "\n",
       "    .dataframe thead th {\n",
       "        text-align: right;\n",
       "    }\n",
       "</style>\n",
       "<table border=\"1\" class=\"dataframe\">\n",
       "  <thead>\n",
       "    <tr style=\"text-align: right;\">\n",
       "      <th></th>\n",
       "      <th>Bulk 1</th>\n",
       "      <th>Bulk 2</th>\n",
       "      <th>Bulk 3</th>\n",
       "      <th>Bulk 4</th>\n",
       "      <th>Bulk 5</th>\n",
       "      <th>Bulk 6</th>\n",
       "      <th>Bulk 7</th>\n",
       "      <th>Bulk 8</th>\n",
       "      <th>Bulk 9</th>\n",
       "      <th>Bulk 10</th>\n",
       "      <th>Bulk 11</th>\n",
       "      <th>Bulk 12</th>\n",
       "      <th>Bulk 13</th>\n",
       "      <th>Bulk 14</th>\n",
       "      <th>Bulk 15</th>\n",
       "    </tr>\n",
       "    <tr>\n",
       "      <th>key</th>\n",
       "      <th></th>\n",
       "      <th></th>\n",
       "      <th></th>\n",
       "      <th></th>\n",
       "      <th></th>\n",
       "      <th></th>\n",
       "      <th></th>\n",
       "      <th></th>\n",
       "      <th></th>\n",
       "      <th></th>\n",
       "      <th></th>\n",
       "      <th></th>\n",
       "      <th></th>\n",
       "      <th></th>\n",
       "      <th></th>\n",
       "    </tr>\n",
       "  </thead>\n",
       "  <tbody>\n",
       "    <tr>\n",
       "      <th>1</th>\n",
       "      <td>NaN</td>\n",
       "      <td>NaN</td>\n",
       "      <td>NaN</td>\n",
       "      <td>43.0</td>\n",
       "      <td>NaN</td>\n",
       "      <td>NaN</td>\n",
       "      <td>NaN</td>\n",
       "      <td>NaN</td>\n",
       "      <td>NaN</td>\n",
       "      <td>NaN</td>\n",
       "      <td>NaN</td>\n",
       "      <td>206.0</td>\n",
       "      <td>NaN</td>\n",
       "      <td>150.0</td>\n",
       "      <td>154.0</td>\n",
       "    </tr>\n",
       "    <tr>\n",
       "      <th>2</th>\n",
       "      <td>NaN</td>\n",
       "      <td>NaN</td>\n",
       "      <td>NaN</td>\n",
       "      <td>73.0</td>\n",
       "      <td>NaN</td>\n",
       "      <td>NaN</td>\n",
       "      <td>NaN</td>\n",
       "      <td>NaN</td>\n",
       "      <td>NaN</td>\n",
       "      <td>NaN</td>\n",
       "      <td>NaN</td>\n",
       "      <td>206.0</td>\n",
       "      <td>NaN</td>\n",
       "      <td>149.0</td>\n",
       "      <td>154.0</td>\n",
       "    </tr>\n",
       "    <tr>\n",
       "      <th>3</th>\n",
       "      <td>NaN</td>\n",
       "      <td>NaN</td>\n",
       "      <td>NaN</td>\n",
       "      <td>34.0</td>\n",
       "      <td>NaN</td>\n",
       "      <td>NaN</td>\n",
       "      <td>NaN</td>\n",
       "      <td>NaN</td>\n",
       "      <td>NaN</td>\n",
       "      <td>NaN</td>\n",
       "      <td>NaN</td>\n",
       "      <td>205.0</td>\n",
       "      <td>NaN</td>\n",
       "      <td>152.0</td>\n",
       "      <td>153.0</td>\n",
       "    </tr>\n",
       "    <tr>\n",
       "      <th>4</th>\n",
       "      <td>NaN</td>\n",
       "      <td>NaN</td>\n",
       "      <td>NaN</td>\n",
       "      <td>81.0</td>\n",
       "      <td>NaN</td>\n",
       "      <td>NaN</td>\n",
       "      <td>NaN</td>\n",
       "      <td>NaN</td>\n",
       "      <td>NaN</td>\n",
       "      <td>NaN</td>\n",
       "      <td>NaN</td>\n",
       "      <td>207.0</td>\n",
       "      <td>NaN</td>\n",
       "      <td>153.0</td>\n",
       "      <td>154.0</td>\n",
       "    </tr>\n",
       "    <tr>\n",
       "      <th>5</th>\n",
       "      <td>NaN</td>\n",
       "      <td>NaN</td>\n",
       "      <td>NaN</td>\n",
       "      <td>78.0</td>\n",
       "      <td>NaN</td>\n",
       "      <td>NaN</td>\n",
       "      <td>NaN</td>\n",
       "      <td>NaN</td>\n",
       "      <td>NaN</td>\n",
       "      <td>NaN</td>\n",
       "      <td>NaN</td>\n",
       "      <td>203.0</td>\n",
       "      <td>NaN</td>\n",
       "      <td>151.0</td>\n",
       "      <td>152.0</td>\n",
       "    </tr>\n",
       "  </tbody>\n",
       "</table>\n",
       "</div>"
      ],
      "text/plain": [
       "     Bulk 1  Bulk 2  Bulk 3  Bulk 4  Bulk 5  Bulk 6  Bulk 7  Bulk 8  Bulk 9  \\\n",
       "key                                                                           \n",
       "1       NaN     NaN     NaN    43.0     NaN     NaN     NaN     NaN     NaN   \n",
       "2       NaN     NaN     NaN    73.0     NaN     NaN     NaN     NaN     NaN   \n",
       "3       NaN     NaN     NaN    34.0     NaN     NaN     NaN     NaN     NaN   \n",
       "4       NaN     NaN     NaN    81.0     NaN     NaN     NaN     NaN     NaN   \n",
       "5       NaN     NaN     NaN    78.0     NaN     NaN     NaN     NaN     NaN   \n",
       "\n",
       "     Bulk 10  Bulk 11  Bulk 12  Bulk 13  Bulk 14  Bulk 15  \n",
       "key                                                        \n",
       "1        NaN      NaN    206.0      NaN    150.0    154.0  \n",
       "2        NaN      NaN    206.0      NaN    149.0    154.0  \n",
       "3        NaN      NaN    205.0      NaN    152.0    153.0  \n",
       "4        NaN      NaN    207.0      NaN    153.0    154.0  \n",
       "5        NaN      NaN    203.0      NaN    151.0    152.0  "
      ]
     },
     "execution_count": 10,
     "metadata": {},
     "output_type": "execute_result"
    }
   ],
   "source": [
    "df_bulk.head()"
   ]
  },
  {
   "cell_type": "code",
   "execution_count": 11,
   "metadata": {
    "colab": {
     "base_uri": "https://localhost:8080/"
    },
    "id": "65eiAsCIJKM2",
    "outputId": "4eefa5d4-bc10-4c81-8981-e5de038c2f5c"
   },
   "outputs": [
    {
     "name": "stdout",
     "output_type": "stream",
     "text": [
      "<class 'pandas.core.frame.DataFrame'>\n",
      "Int64Index: 3129 entries, 1 to 3241\n",
      "Data columns (total 15 columns):\n",
      " #   Column   Non-Null Count  Dtype  \n",
      "---  ------   --------------  -----  \n",
      " 0   Bulk 1   252 non-null    float64\n",
      " 1   Bulk 2   22 non-null     float64\n",
      " 2   Bulk 3   1298 non-null   float64\n",
      " 3   Bulk 4   1014 non-null   float64\n",
      " 4   Bulk 5   77 non-null     float64\n",
      " 5   Bulk 6   576 non-null    float64\n",
      " 6   Bulk 7   25 non-null     float64\n",
      " 7   Bulk 8   1 non-null      float64\n",
      " 8   Bulk 9   19 non-null     float64\n",
      " 9   Bulk 10  176 non-null    float64\n",
      " 10  Bulk 11  177 non-null    float64\n",
      " 11  Bulk 12  2450 non-null   float64\n",
      " 12  Bulk 13  18 non-null     float64\n",
      " 13  Bulk 14  2806 non-null   float64\n",
      " 14  Bulk 15  2248 non-null   float64\n",
      "dtypes: float64(15)\n",
      "memory usage: 391.1 KB\n"
     ]
    }
   ],
   "source": [
    "df_bulk.info()"
   ]
  },
  {
   "cell_type": "code",
   "execution_count": 12,
   "metadata": {
    "colab": {
     "base_uri": "https://localhost:8080/",
     "height": 300
    },
    "id": "zvQnXJufKkZb",
    "outputId": "f02dc41d-71f4-4b2f-e75c-d8f0c28becfd"
   },
   "outputs": [
    {
     "data": {
      "text/html": [
       "<div>\n",
       "<style scoped>\n",
       "    .dataframe tbody tr th:only-of-type {\n",
       "        vertical-align: middle;\n",
       "    }\n",
       "\n",
       "    .dataframe tbody tr th {\n",
       "        vertical-align: top;\n",
       "    }\n",
       "\n",
       "    .dataframe thead th {\n",
       "        text-align: right;\n",
       "    }\n",
       "</style>\n",
       "<table border=\"1\" class=\"dataframe\">\n",
       "  <thead>\n",
       "    <tr style=\"text-align: right;\">\n",
       "      <th></th>\n",
       "      <th>Bulk 1</th>\n",
       "      <th>Bulk 2</th>\n",
       "      <th>Bulk 3</th>\n",
       "      <th>Bulk 4</th>\n",
       "      <th>Bulk 5</th>\n",
       "      <th>Bulk 6</th>\n",
       "      <th>Bulk 7</th>\n",
       "      <th>Bulk 8</th>\n",
       "      <th>Bulk 9</th>\n",
       "      <th>Bulk 10</th>\n",
       "      <th>Bulk 11</th>\n",
       "      <th>Bulk 12</th>\n",
       "      <th>Bulk 13</th>\n",
       "      <th>Bulk 14</th>\n",
       "      <th>Bulk 15</th>\n",
       "    </tr>\n",
       "  </thead>\n",
       "  <tbody>\n",
       "    <tr>\n",
       "      <th>count</th>\n",
       "      <td>252.000000</td>\n",
       "      <td>22.000000</td>\n",
       "      <td>1298.000000</td>\n",
       "      <td>1014.000000</td>\n",
       "      <td>77.000000</td>\n",
       "      <td>576.000000</td>\n",
       "      <td>25.000000</td>\n",
       "      <td>1.0</td>\n",
       "      <td>19.000000</td>\n",
       "      <td>176.000000</td>\n",
       "      <td>177.000000</td>\n",
       "      <td>2450.000000</td>\n",
       "      <td>18.000000</td>\n",
       "      <td>2806.000000</td>\n",
       "      <td>2248.000000</td>\n",
       "    </tr>\n",
       "    <tr>\n",
       "      <th>mean</th>\n",
       "      <td>39.242063</td>\n",
       "      <td>253.045455</td>\n",
       "      <td>113.879045</td>\n",
       "      <td>104.394477</td>\n",
       "      <td>107.025974</td>\n",
       "      <td>118.925347</td>\n",
       "      <td>305.600000</td>\n",
       "      <td>49.0</td>\n",
       "      <td>76.315789</td>\n",
       "      <td>83.284091</td>\n",
       "      <td>76.819209</td>\n",
       "      <td>260.471020</td>\n",
       "      <td>181.111111</td>\n",
       "      <td>170.284747</td>\n",
       "      <td>160.513345</td>\n",
       "    </tr>\n",
       "    <tr>\n",
       "      <th>std</th>\n",
       "      <td>18.277654</td>\n",
       "      <td>21.180578</td>\n",
       "      <td>75.483494</td>\n",
       "      <td>48.184126</td>\n",
       "      <td>81.790646</td>\n",
       "      <td>72.057776</td>\n",
       "      <td>191.022904</td>\n",
       "      <td>NaN</td>\n",
       "      <td>21.720581</td>\n",
       "      <td>26.060347</td>\n",
       "      <td>59.655365</td>\n",
       "      <td>120.649269</td>\n",
       "      <td>46.088009</td>\n",
       "      <td>65.868652</td>\n",
       "      <td>51.765319</td>\n",
       "    </tr>\n",
       "    <tr>\n",
       "      <th>min</th>\n",
       "      <td>10.000000</td>\n",
       "      <td>228.000000</td>\n",
       "      <td>6.000000</td>\n",
       "      <td>12.000000</td>\n",
       "      <td>11.000000</td>\n",
       "      <td>17.000000</td>\n",
       "      <td>47.000000</td>\n",
       "      <td>49.0</td>\n",
       "      <td>63.000000</td>\n",
       "      <td>24.000000</td>\n",
       "      <td>8.000000</td>\n",
       "      <td>53.000000</td>\n",
       "      <td>151.000000</td>\n",
       "      <td>16.000000</td>\n",
       "      <td>1.000000</td>\n",
       "    </tr>\n",
       "    <tr>\n",
       "      <th>25%</th>\n",
       "      <td>27.000000</td>\n",
       "      <td>242.000000</td>\n",
       "      <td>58.000000</td>\n",
       "      <td>72.000000</td>\n",
       "      <td>70.000000</td>\n",
       "      <td>69.750000</td>\n",
       "      <td>155.000000</td>\n",
       "      <td>49.0</td>\n",
       "      <td>66.000000</td>\n",
       "      <td>64.000000</td>\n",
       "      <td>25.000000</td>\n",
       "      <td>204.000000</td>\n",
       "      <td>153.250000</td>\n",
       "      <td>119.000000</td>\n",
       "      <td>105.000000</td>\n",
       "    </tr>\n",
       "    <tr>\n",
       "      <th>50%</th>\n",
       "      <td>31.000000</td>\n",
       "      <td>251.500000</td>\n",
       "      <td>97.500000</td>\n",
       "      <td>102.000000</td>\n",
       "      <td>86.000000</td>\n",
       "      <td>100.000000</td>\n",
       "      <td>298.000000</td>\n",
       "      <td>49.0</td>\n",
       "      <td>68.000000</td>\n",
       "      <td>86.500000</td>\n",
       "      <td>64.000000</td>\n",
       "      <td>208.000000</td>\n",
       "      <td>155.500000</td>\n",
       "      <td>151.000000</td>\n",
       "      <td>160.000000</td>\n",
       "    </tr>\n",
       "    <tr>\n",
       "      <th>75%</th>\n",
       "      <td>46.000000</td>\n",
       "      <td>257.750000</td>\n",
       "      <td>152.000000</td>\n",
       "      <td>133.000000</td>\n",
       "      <td>132.000000</td>\n",
       "      <td>157.000000</td>\n",
       "      <td>406.000000</td>\n",
       "      <td>49.0</td>\n",
       "      <td>70.500000</td>\n",
       "      <td>102.000000</td>\n",
       "      <td>106.000000</td>\n",
       "      <td>316.000000</td>\n",
       "      <td>203.500000</td>\n",
       "      <td>205.750000</td>\n",
       "      <td>205.000000</td>\n",
       "    </tr>\n",
       "    <tr>\n",
       "      <th>max</th>\n",
       "      <td>185.000000</td>\n",
       "      <td>325.000000</td>\n",
       "      <td>454.000000</td>\n",
       "      <td>281.000000</td>\n",
       "      <td>603.000000</td>\n",
       "      <td>503.000000</td>\n",
       "      <td>772.000000</td>\n",
       "      <td>49.0</td>\n",
       "      <td>147.000000</td>\n",
       "      <td>159.000000</td>\n",
       "      <td>313.000000</td>\n",
       "      <td>1849.000000</td>\n",
       "      <td>305.000000</td>\n",
       "      <td>636.000000</td>\n",
       "      <td>405.000000</td>\n",
       "    </tr>\n",
       "  </tbody>\n",
       "</table>\n",
       "</div>"
      ],
      "text/plain": [
       "           Bulk 1      Bulk 2       Bulk 3       Bulk 4      Bulk 5  \\\n",
       "count  252.000000   22.000000  1298.000000  1014.000000   77.000000   \n",
       "mean    39.242063  253.045455   113.879045   104.394477  107.025974   \n",
       "std     18.277654   21.180578    75.483494    48.184126   81.790646   \n",
       "min     10.000000  228.000000     6.000000    12.000000   11.000000   \n",
       "25%     27.000000  242.000000    58.000000    72.000000   70.000000   \n",
       "50%     31.000000  251.500000    97.500000   102.000000   86.000000   \n",
       "75%     46.000000  257.750000   152.000000   133.000000  132.000000   \n",
       "max    185.000000  325.000000   454.000000   281.000000  603.000000   \n",
       "\n",
       "           Bulk 6      Bulk 7  Bulk 8      Bulk 9     Bulk 10     Bulk 11  \\\n",
       "count  576.000000   25.000000     1.0   19.000000  176.000000  177.000000   \n",
       "mean   118.925347  305.600000    49.0   76.315789   83.284091   76.819209   \n",
       "std     72.057776  191.022904     NaN   21.720581   26.060347   59.655365   \n",
       "min     17.000000   47.000000    49.0   63.000000   24.000000    8.000000   \n",
       "25%     69.750000  155.000000    49.0   66.000000   64.000000   25.000000   \n",
       "50%    100.000000  298.000000    49.0   68.000000   86.500000   64.000000   \n",
       "75%    157.000000  406.000000    49.0   70.500000  102.000000  106.000000   \n",
       "max    503.000000  772.000000    49.0  147.000000  159.000000  313.000000   \n",
       "\n",
       "           Bulk 12     Bulk 13      Bulk 14      Bulk 15  \n",
       "count  2450.000000   18.000000  2806.000000  2248.000000  \n",
       "mean    260.471020  181.111111   170.284747   160.513345  \n",
       "std     120.649269   46.088009    65.868652    51.765319  \n",
       "min      53.000000  151.000000    16.000000     1.000000  \n",
       "25%     204.000000  153.250000   119.000000   105.000000  \n",
       "50%     208.000000  155.500000   151.000000   160.000000  \n",
       "75%     316.000000  203.500000   205.750000   205.000000  \n",
       "max    1849.000000  305.000000   636.000000   405.000000  "
      ]
     },
     "execution_count": 12,
     "metadata": {},
     "output_type": "execute_result"
    }
   ],
   "source": [
    "df_bulk.describe()"
   ]
  },
  {
   "cell_type": "code",
   "execution_count": 13,
   "metadata": {
    "colab": {
     "base_uri": "https://localhost:8080/",
     "height": 830
    },
    "id": "bd8tAK9sKjmV",
    "outputId": "dcfc7b77-a981-49e3-c5e5-e4707621e468"
   },
   "outputs": [
    {
     "data": {
      "image/png": "[encoded data removed]",
      "text/plain": [
       "<Figure size 1500x1000 with 1 Axes>"
      ]
     },
     "metadata": {},
     "output_type": "display_data"
    }
   ],
   "source": [
    "fig, ax = plt.subplots(figsize=(15, 10))\n",
    "df_bulk.boxplot(ax=ax);"
   ]
  },
  {
   "cell_type": "code",
   "execution_count": 14,
   "metadata": {
    "id": "lKnipP3hMx_v"
   },
   "outputs": [],
   "source": [
    "# данные о подаче сыпучих материалов (время)\n",
    "df_bulk_time = pd.read_csv('datasets/data_bulk_time_new.csv', parse_dates=list(range(1, 16)), index_col=0)"
   ]
  },
  {
   "cell_type": "code",
   "execution_count": 15,
   "metadata": {
    "colab": {
     "base_uri": "https://localhost:8080/",
     "height": 238
    },
    "id": "fjlTsoCzQ9Jp",
    "outputId": "c353cfb9-a1f7-43ab-dbe2-dfaa85973f22"
   },
   "outputs": [
    {
     "data": {
      "text/html": [
       "<div>\n",
       "<style scoped>\n",
       "    .dataframe tbody tr th:only-of-type {\n",
       "        vertical-align: middle;\n",
       "    }\n",
       "\n",
       "    .dataframe tbody tr th {\n",
       "        vertical-align: top;\n",
       "    }\n",
       "\n",
       "    .dataframe thead th {\n",
       "        text-align: right;\n",
       "    }\n",
       "</style>\n",
       "<table border=\"1\" class=\"dataframe\">\n",
       "  <thead>\n",
       "    <tr style=\"text-align: right;\">\n",
       "      <th></th>\n",
       "      <th>Bulk 1</th>\n",
       "      <th>Bulk 2</th>\n",
       "      <th>Bulk 3</th>\n",
       "      <th>Bulk 4</th>\n",
       "      <th>Bulk 5</th>\n",
       "      <th>Bulk 6</th>\n",
       "      <th>Bulk 7</th>\n",
       "      <th>Bulk 8</th>\n",
       "      <th>Bulk 9</th>\n",
       "      <th>Bulk 10</th>\n",
       "      <th>Bulk 11</th>\n",
       "      <th>Bulk 12</th>\n",
       "      <th>Bulk 13</th>\n",
       "      <th>Bulk 14</th>\n",
       "      <th>Bulk 15</th>\n",
       "    </tr>\n",
       "    <tr>\n",
       "      <th>key</th>\n",
       "      <th></th>\n",
       "      <th></th>\n",
       "      <th></th>\n",
       "      <th></th>\n",
       "      <th></th>\n",
       "      <th></th>\n",
       "      <th></th>\n",
       "      <th></th>\n",
       "      <th></th>\n",
       "      <th></th>\n",
       "      <th></th>\n",
       "      <th></th>\n",
       "      <th></th>\n",
       "      <th></th>\n",
       "      <th></th>\n",
       "    </tr>\n",
       "  </thead>\n",
       "  <tbody>\n",
       "    <tr>\n",
       "      <th>1</th>\n",
       "      <td>NaT</td>\n",
       "      <td>NaT</td>\n",
       "      <td>NaT</td>\n",
       "      <td>2019-05-03 11:28:48</td>\n",
       "      <td>NaT</td>\n",
       "      <td>NaT</td>\n",
       "      <td>NaT</td>\n",
       "      <td>NaT</td>\n",
       "      <td>NaT</td>\n",
       "      <td>NaT</td>\n",
       "      <td>NaT</td>\n",
       "      <td>2019-05-03 11:24:31</td>\n",
       "      <td>NaT</td>\n",
       "      <td>2019-05-03 11:14:50</td>\n",
       "      <td>2019-05-03 11:10:43</td>\n",
       "    </tr>\n",
       "    <tr>\n",
       "      <th>2</th>\n",
       "      <td>NaT</td>\n",
       "      <td>NaT</td>\n",
       "      <td>NaT</td>\n",
       "      <td>2019-05-03 11:36:50</td>\n",
       "      <td>NaT</td>\n",
       "      <td>NaT</td>\n",
       "      <td>NaT</td>\n",
       "      <td>NaT</td>\n",
       "      <td>NaT</td>\n",
       "      <td>NaT</td>\n",
       "      <td>NaT</td>\n",
       "      <td>2019-05-03 11:53:30</td>\n",
       "      <td>NaT</td>\n",
       "      <td>2019-05-03 11:48:37</td>\n",
       "      <td>2019-05-03 11:44:39</td>\n",
       "    </tr>\n",
       "    <tr>\n",
       "      <th>3</th>\n",
       "      <td>NaT</td>\n",
       "      <td>NaT</td>\n",
       "      <td>NaT</td>\n",
       "      <td>2019-05-03 12:32:39</td>\n",
       "      <td>NaT</td>\n",
       "      <td>NaT</td>\n",
       "      <td>NaT</td>\n",
       "      <td>NaT</td>\n",
       "      <td>NaT</td>\n",
       "      <td>NaT</td>\n",
       "      <td>NaT</td>\n",
       "      <td>2019-05-03 12:27:13</td>\n",
       "      <td>NaT</td>\n",
       "      <td>2019-05-03 12:21:01</td>\n",
       "      <td>2019-05-03 12:16:16</td>\n",
       "    </tr>\n",
       "    <tr>\n",
       "      <th>4</th>\n",
       "      <td>NaT</td>\n",
       "      <td>NaT</td>\n",
       "      <td>NaT</td>\n",
       "      <td>2019-05-03 12:43:22</td>\n",
       "      <td>NaT</td>\n",
       "      <td>NaT</td>\n",
       "      <td>NaT</td>\n",
       "      <td>NaT</td>\n",
       "      <td>NaT</td>\n",
       "      <td>NaT</td>\n",
       "      <td>NaT</td>\n",
       "      <td>2019-05-03 12:58:00</td>\n",
       "      <td>NaT</td>\n",
       "      <td>2019-05-03 12:51:11</td>\n",
       "      <td>2019-05-03 12:46:36</td>\n",
       "    </tr>\n",
       "    <tr>\n",
       "      <th>5</th>\n",
       "      <td>NaT</td>\n",
       "      <td>NaT</td>\n",
       "      <td>NaT</td>\n",
       "      <td>2019-05-03 13:30:47</td>\n",
       "      <td>NaT</td>\n",
       "      <td>NaT</td>\n",
       "      <td>NaT</td>\n",
       "      <td>NaT</td>\n",
       "      <td>NaT</td>\n",
       "      <td>NaT</td>\n",
       "      <td>NaT</td>\n",
       "      <td>2019-05-03 13:30:47</td>\n",
       "      <td>NaT</td>\n",
       "      <td>2019-05-03 13:34:12</td>\n",
       "      <td>2019-05-03 13:30:47</td>\n",
       "    </tr>\n",
       "  </tbody>\n",
       "</table>\n",
       "</div>"
      ],
      "text/plain": [
       "    Bulk 1 Bulk 2 Bulk 3              Bulk 4 Bulk 5 Bulk 6 Bulk 7 Bulk 8  \\\n",
       "key                                                                        \n",
       "1      NaT    NaT    NaT 2019-05-03 11:28:48    NaT    NaT    NaT    NaT   \n",
       "2      NaT    NaT    NaT 2019-05-03 11:36:50    NaT    NaT    NaT    NaT   \n",
       "3      NaT    NaT    NaT 2019-05-03 12:32:39    NaT    NaT    NaT    NaT   \n",
       "4      NaT    NaT    NaT 2019-05-03 12:43:22    NaT    NaT    NaT    NaT   \n",
       "5      NaT    NaT    NaT 2019-05-03 13:30:47    NaT    NaT    NaT    NaT   \n",
       "\n",
       "    Bulk 9 Bulk 10 Bulk 11             Bulk 12 Bulk 13             Bulk 14  \\\n",
       "key                                                                          \n",
       "1      NaT     NaT     NaT 2019-05-03 11:24:31     NaT 2019-05-03 11:14:50   \n",
       "2      NaT     NaT     NaT 2019-05-03 11:53:30     NaT 2019-05-03 11:48:37   \n",
       "3      NaT     NaT     NaT 2019-05-03 12:27:13     NaT 2019-05-03 12:21:01   \n",
       "4      NaT     NaT     NaT 2019-05-03 12:58:00     NaT 2019-05-03 12:51:11   \n",
       "5      NaT     NaT     NaT 2019-05-03 13:30:47     NaT 2019-05-03 13:34:12   \n",
       "\n",
       "                Bulk 15  \n",
       "key                      \n",
       "1   2019-05-03 11:10:43  \n",
       "2   2019-05-03 11:44:39  \n",
       "3   2019-05-03 12:16:16  \n",
       "4   2019-05-03 12:46:36  \n",
       "5   2019-05-03 13:30:47  "
      ]
     },
     "execution_count": 15,
     "metadata": {},
     "output_type": "execute_result"
    }
   ],
   "source": [
    "df_bulk_time.head()"
   ]
  },
  {
   "cell_type": "code",
   "execution_count": 16,
   "metadata": {
    "colab": {
     "base_uri": "https://localhost:8080/"
    },
    "id": "SNmuUbA1RKZQ",
    "outputId": "7452732c-4773-47b4-9d0c-6485094270b3"
   },
   "outputs": [
    {
     "name": "stdout",
     "output_type": "stream",
     "text": [
      "<class 'pandas.core.frame.DataFrame'>\n",
      "Int64Index: 3129 entries, 1 to 3241\n",
      "Data columns (total 15 columns):\n",
      " #   Column   Non-Null Count  Dtype         \n",
      "---  ------   --------------  -----         \n",
      " 0   Bulk 1   252 non-null    datetime64[ns]\n",
      " 1   Bulk 2   22 non-null     datetime64[ns]\n",
      " 2   Bulk 3   1298 non-null   datetime64[ns]\n",
      " 3   Bulk 4   1014 non-null   datetime64[ns]\n",
      " 4   Bulk 5   77 non-null     datetime64[ns]\n",
      " 5   Bulk 6   576 non-null    datetime64[ns]\n",
      " 6   Bulk 7   25 non-null     datetime64[ns]\n",
      " 7   Bulk 8   1 non-null      datetime64[ns]\n",
      " 8   Bulk 9   19 non-null     datetime64[ns]\n",
      " 9   Bulk 10  176 non-null    datetime64[ns]\n",
      " 10  Bulk 11  177 non-null    datetime64[ns]\n",
      " 11  Bulk 12  2450 non-null   datetime64[ns]\n",
      " 12  Bulk 13  18 non-null     datetime64[ns]\n",
      " 13  Bulk 14  2806 non-null   datetime64[ns]\n",
      " 14  Bulk 15  2248 non-null   datetime64[ns]\n",
      "dtypes: datetime64[ns](15)\n",
      "memory usage: 391.1 KB\n"
     ]
    }
   ],
   "source": [
    "df_bulk_time.info()"
   ]
  },
  {
   "cell_type": "code",
   "execution_count": 17,
   "metadata": {
    "colab": {
     "base_uri": "https://localhost:8080/",
     "height": 541
    },
    "id": "U8HUWCxCWObl",
    "outputId": "be9e566f-8111-4790-eeca-0a04e4491342"
   },
   "outputs": [
    {
     "data": {
      "text/html": [
       "<div>\n",
       "<style scoped>\n",
       "    .dataframe tbody tr th:only-of-type {\n",
       "        vertical-align: middle;\n",
       "    }\n",
       "\n",
       "    .dataframe tbody tr th {\n",
       "        vertical-align: top;\n",
       "    }\n",
       "\n",
       "    .dataframe thead th {\n",
       "        text-align: right;\n",
       "    }\n",
       "</style>\n",
       "<table border=\"1\" class=\"dataframe\">\n",
       "  <thead>\n",
       "    <tr style=\"text-align: right;\">\n",
       "      <th></th>\n",
       "      <th>Bulk 1</th>\n",
       "      <th>Bulk 2</th>\n",
       "      <th>Bulk 3</th>\n",
       "      <th>Bulk 4</th>\n",
       "      <th>Bulk 5</th>\n",
       "      <th>Bulk 6</th>\n",
       "      <th>Bulk 7</th>\n",
       "      <th>Bulk 8</th>\n",
       "      <th>Bulk 9</th>\n",
       "      <th>Bulk 10</th>\n",
       "      <th>Bulk 11</th>\n",
       "      <th>Bulk 12</th>\n",
       "      <th>Bulk 13</th>\n",
       "      <th>Bulk 14</th>\n",
       "      <th>Bulk 15</th>\n",
       "    </tr>\n",
       "  </thead>\n",
       "  <tbody>\n",
       "    <tr>\n",
       "      <th>count</th>\n",
       "      <td>252</td>\n",
       "      <td>22</td>\n",
       "      <td>1298</td>\n",
       "      <td>1014</td>\n",
       "      <td>77</td>\n",
       "      <td>576</td>\n",
       "      <td>25</td>\n",
       "      <td>1</td>\n",
       "      <td>19</td>\n",
       "      <td>176</td>\n",
       "      <td>177</td>\n",
       "      <td>2450</td>\n",
       "      <td>18</td>\n",
       "      <td>2806</td>\n",
       "      <td>2248</td>\n",
       "    </tr>\n",
       "    <tr>\n",
       "      <th>mean</th>\n",
       "      <td>2019-06-29 23:24:44.769841152</td>\n",
       "      <td>2019-07-12 07:57:13.045454592</td>\n",
       "      <td>2019-07-08 13:50:14.630970624</td>\n",
       "      <td>2019-07-03 11:17:28.834319616</td>\n",
       "      <td>2019-07-13 17:18:29.090908928</td>\n",
       "      <td>2019-07-06 13:50:06.345486080</td>\n",
       "      <td>2019-07-27 18:09:05.079999744</td>\n",
       "      <td>2019-07-08 17:14:53</td>\n",
       "      <td>2019-06-23 08:08:47.578947328</td>\n",
       "      <td>2019-07-06 23:55:10.954545408</td>\n",
       "      <td>2019-07-15 07:01:00.615819264</td>\n",
       "      <td>2019-07-05 22:55:11.468571392</td>\n",
       "      <td>2019-07-01 18:32:46.944444416</td>\n",
       "      <td>2019-07-06 07:17:48.372772608</td>\n",
       "      <td>2019-07-06 13:24:51.912366336</td>\n",
       "    </tr>\n",
       "    <tr>\n",
       "      <th>min</th>\n",
       "      <td>2019-05-03 17:42:46</td>\n",
       "      <td>2019-05-07 15:39:35</td>\n",
       "      <td>2019-05-03 20:40:25</td>\n",
       "      <td>2019-05-03 11:28:48</td>\n",
       "      <td>2019-05-07 15:19:17</td>\n",
       "      <td>2019-05-03 19:09:15</td>\n",
       "      <td>2019-05-07 18:11:01</td>\n",
       "      <td>2019-07-08 17:14:53</td>\n",
       "      <td>2019-05-14 11:57:58</td>\n",
       "      <td>2019-05-06 07:54:02</td>\n",
       "      <td>2019-05-05 23:43:24</td>\n",
       "      <td>2019-05-03 11:24:31</td>\n",
       "      <td>2019-05-05 02:10:21</td>\n",
       "      <td>2019-05-03 11:14:50</td>\n",
       "      <td>2019-05-03 11:10:43</td>\n",
       "    </tr>\n",
       "    <tr>\n",
       "      <th>25%</th>\n",
       "      <td>2019-05-29 14:48:48.500000</td>\n",
       "      <td>2019-05-28 02:29:31.500000</td>\n",
       "      <td>2019-06-08 03:50:23.500000</td>\n",
       "      <td>2019-05-30 21:36:11.249999872</td>\n",
       "      <td>2019-06-19 23:32:44</td>\n",
       "      <td>2019-06-06 22:46:10.500000</td>\n",
       "      <td>2019-07-20 23:48:47</td>\n",
       "      <td>2019-07-08 17:14:53</td>\n",
       "      <td>2019-05-14 14:31:08</td>\n",
       "      <td>2019-06-02 05:12:00.500000</td>\n",
       "      <td>2019-06-14 20:24:48</td>\n",
       "      <td>2019-06-03 12:48:47.249999872</td>\n",
       "      <td>2019-05-29 10:43:31.249999872</td>\n",
       "      <td>2019-06-04 04:50:42</td>\n",
       "      <td>2019-06-04 11:28:18</td>\n",
       "    </tr>\n",
       "    <tr>\n",
       "      <th>50%</th>\n",
       "      <td>2019-06-25 11:09:13</td>\n",
       "      <td>2019-07-27 17:18:38.500000</td>\n",
       "      <td>2019-07-04 09:31:42</td>\n",
       "      <td>2019-06-28 03:44:42.500000</td>\n",
       "      <td>2019-07-25 17:59:41</td>\n",
       "      <td>2019-07-09 03:34:57.500000</td>\n",
       "      <td>2019-07-27 18:07:02</td>\n",
       "      <td>2019-07-08 17:14:53</td>\n",
       "      <td>2019-05-14 16:55:09</td>\n",
       "      <td>2019-07-06 07:05:20</td>\n",
       "      <td>2019-07-24 11:17:22</td>\n",
       "      <td>2019-07-03 01:32:00</td>\n",
       "      <td>2019-07-01 12:59:36.500000</td>\n",
       "      <td>2019-07-03 21:54:13.500000</td>\n",
       "      <td>2019-07-03 16:43:28.500000</td>\n",
       "    </tr>\n",
       "    <tr>\n",
       "      <th>75%</th>\n",
       "      <td>2019-07-31 05:58:18.249999872</td>\n",
       "      <td>2019-08-13 02:20:08</td>\n",
       "      <td>2019-08-11 01:00:36.750000128</td>\n",
       "      <td>2019-08-04 04:15:46.500000</td>\n",
       "      <td>2019-08-13 04:23:23</td>\n",
       "      <td>2019-08-07 18:55:01.249999872</td>\n",
       "      <td>2019-08-13 04:19:43</td>\n",
       "      <td>2019-07-08 17:14:53</td>\n",
       "      <td>2019-08-16 05:43:31</td>\n",
       "      <td>2019-08-04 02:23:35.750000128</td>\n",
       "      <td>2019-08-11 05:21:01</td>\n",
       "      <td>2019-08-08 14:55:05.249999872</td>\n",
       "      <td>2019-08-04 23:32:00.249999872</td>\n",
       "      <td>2019-08-09 04:22:40.500000</td>\n",
       "      <td>2019-08-09 09:18:31.750000128</td>\n",
       "    </tr>\n",
       "    <tr>\n",
       "      <th>max</th>\n",
       "      <td>2019-09-05 09:11:32</td>\n",
       "      <td>2019-08-13 11:47:39</td>\n",
       "      <td>2019-09-06 12:26:52</td>\n",
       "      <td>2019-09-05 03:35:21</td>\n",
       "      <td>2019-09-02 18:16:52</td>\n",
       "      <td>2019-09-06 16:24:28</td>\n",
       "      <td>2019-09-05 19:07:49</td>\n",
       "      <td>2019-07-08 17:14:53</td>\n",
       "      <td>2019-08-16 09:11:56</td>\n",
       "      <td>2019-09-04 10:03:22</td>\n",
       "      <td>2019-09-06 05:03:14</td>\n",
       "      <td>2019-09-06 15:01:44</td>\n",
       "      <td>2019-09-01 01:53:02</td>\n",
       "      <td>2019-09-06 17:26:33</td>\n",
       "      <td>2019-09-06 17:23:15</td>\n",
       "    </tr>\n",
       "  </tbody>\n",
       "</table>\n",
       "</div>"
      ],
      "text/plain": [
       "                              Bulk 1                         Bulk 2  \\\n",
       "count                            252                             22   \n",
       "mean   2019-06-29 23:24:44.769841152  2019-07-12 07:57:13.045454592   \n",
       "min              2019-05-03 17:42:46            2019-05-07 15:39:35   \n",
       "25%       2019-05-29 14:48:48.500000     2019-05-28 02:29:31.500000   \n",
       "50%              2019-06-25 11:09:13     2019-07-27 17:18:38.500000   \n",
       "75%    2019-07-31 05:58:18.249999872            2019-08-13 02:20:08   \n",
       "max              2019-09-05 09:11:32            2019-08-13 11:47:39   \n",
       "\n",
       "                              Bulk 3                         Bulk 4  \\\n",
       "count                           1298                           1014   \n",
       "mean   2019-07-08 13:50:14.630970624  2019-07-03 11:17:28.834319616   \n",
       "min              2019-05-03 20:40:25            2019-05-03 11:28:48   \n",
       "25%       2019-06-08 03:50:23.500000  2019-05-30 21:36:11.249999872   \n",
       "50%              2019-07-04 09:31:42     2019-06-28 03:44:42.500000   \n",
       "75%    2019-08-11 01:00:36.750000128     2019-08-04 04:15:46.500000   \n",
       "max              2019-09-06 12:26:52            2019-09-05 03:35:21   \n",
       "\n",
       "                              Bulk 5                         Bulk 6  \\\n",
       "count                             77                            576   \n",
       "mean   2019-07-13 17:18:29.090908928  2019-07-06 13:50:06.345486080   \n",
       "min              2019-05-07 15:19:17            2019-05-03 19:09:15   \n",
       "25%              2019-06-19 23:32:44     2019-06-06 22:46:10.500000   \n",
       "50%              2019-07-25 17:59:41     2019-07-09 03:34:57.500000   \n",
       "75%              2019-08-13 04:23:23  2019-08-07 18:55:01.249999872   \n",
       "max              2019-09-02 18:16:52            2019-09-06 16:24:28   \n",
       "\n",
       "                              Bulk 7               Bulk 8  \\\n",
       "count                             25                    1   \n",
       "mean   2019-07-27 18:09:05.079999744  2019-07-08 17:14:53   \n",
       "min              2019-05-07 18:11:01  2019-07-08 17:14:53   \n",
       "25%              2019-07-20 23:48:47  2019-07-08 17:14:53   \n",
       "50%              2019-07-27 18:07:02  2019-07-08 17:14:53   \n",
       "75%              2019-08-13 04:19:43  2019-07-08 17:14:53   \n",
       "max              2019-09-05 19:07:49  2019-07-08 17:14:53   \n",
       "\n",
       "                              Bulk 9                        Bulk 10  \\\n",
       "count                             19                            176   \n",
       "mean   2019-06-23 08:08:47.578947328  2019-07-06 23:55:10.954545408   \n",
       "min              2019-05-14 11:57:58            2019-05-06 07:54:02   \n",
       "25%              2019-05-14 14:31:08     2019-06-02 05:12:00.500000   \n",
       "50%              2019-05-14 16:55:09            2019-07-06 07:05:20   \n",
       "75%              2019-08-16 05:43:31  2019-08-04 02:23:35.750000128   \n",
       "max              2019-08-16 09:11:56            2019-09-04 10:03:22   \n",
       "\n",
       "                             Bulk 11                        Bulk 12  \\\n",
       "count                            177                           2450   \n",
       "mean   2019-07-15 07:01:00.615819264  2019-07-05 22:55:11.468571392   \n",
       "min              2019-05-05 23:43:24            2019-05-03 11:24:31   \n",
       "25%              2019-06-14 20:24:48  2019-06-03 12:48:47.249999872   \n",
       "50%              2019-07-24 11:17:22            2019-07-03 01:32:00   \n",
       "75%              2019-08-11 05:21:01  2019-08-08 14:55:05.249999872   \n",
       "max              2019-09-06 05:03:14            2019-09-06 15:01:44   \n",
       "\n",
       "                             Bulk 13                        Bulk 14  \\\n",
       "count                             18                           2806   \n",
       "mean   2019-07-01 18:32:46.944444416  2019-07-06 07:17:48.372772608   \n",
       "min              2019-05-05 02:10:21            2019-05-03 11:14:50   \n",
       "25%    2019-05-29 10:43:31.249999872            2019-06-04 04:50:42   \n",
       "50%       2019-07-01 12:59:36.500000     2019-07-03 21:54:13.500000   \n",
       "75%    2019-08-04 23:32:00.249999872     2019-08-09 04:22:40.500000   \n",
       "max              2019-09-01 01:53:02            2019-09-06 17:26:33   \n",
       "\n",
       "                             Bulk 15  \n",
       "count                           2248  \n",
       "mean   2019-07-06 13:24:51.912366336  \n",
       "min              2019-05-03 11:10:43  \n",
       "25%              2019-06-04 11:28:18  \n",
       "50%       2019-07-03 16:43:28.500000  \n",
       "75%    2019-08-09 09:18:31.750000128  \n",
       "max              2019-09-06 17:23:15  "
      ]
     },
     "execution_count": 17,
     "metadata": {},
     "output_type": "execute_result"
    }
   ],
   "source": [
    "df_bulk_time.describe(datetime_is_numeric=True)"
   ]
  },
  {
   "cell_type": "code",
   "execution_count": 18,
   "metadata": {
    "colab": {
     "base_uri": "https://localhost:8080/"
    },
    "id": "pxlwr4RIRLVQ",
    "outputId": "ced6ed69-56b7-4281-b947-a12d67ff9ef0"
   },
   "outputs": [
    {
     "data": {
      "text/plain": [
       "Bulk 1     True\n",
       "Bulk 2     True\n",
       "Bulk 3     True\n",
       "Bulk 4     True\n",
       "Bulk 5     True\n",
       "Bulk 6     True\n",
       "Bulk 7     True\n",
       "Bulk 8     True\n",
       "Bulk 9     True\n",
       "Bulk 10    True\n",
       "Bulk 11    True\n",
       "Bulk 12    True\n",
       "Bulk 13    True\n",
       "Bulk 14    True\n",
       "Bulk 15    True\n",
       "dtype: bool"
      ]
     },
     "execution_count": 18,
     "metadata": {},
     "output_type": "execute_result"
    }
   ],
   "source": [
    "df_bulk_time.apply(lambda x: x.dropna().is_monotonic_increasing)"
   ]
  },
  {
   "cell_type": "code",
   "execution_count": 19,
   "metadata": {
    "id": "gk_ujWmhX1CT"
   },
   "outputs": [],
   "source": [
    "# данные о продувке сплава газом\n",
    "df_gas = pd.read_csv('datasets/data_gas_new.csv', index_col=0)"
   ]
  },
  {
   "cell_type": "code",
   "execution_count": 20,
   "metadata": {
    "colab": {
     "base_uri": "https://localhost:8080/",
     "height": 238
    },
    "id": "AliKWsnLX3yf",
    "outputId": "ee4dc74e-de0e-4385-c53c-8ad6979c865d"
   },
   "outputs": [
    {
     "data": {
      "text/html": [
       "<div>\n",
       "<style scoped>\n",
       "    .dataframe tbody tr th:only-of-type {\n",
       "        vertical-align: middle;\n",
       "    }\n",
       "\n",
       "    .dataframe tbody tr th {\n",
       "        vertical-align: top;\n",
       "    }\n",
       "\n",
       "    .dataframe thead th {\n",
       "        text-align: right;\n",
       "    }\n",
       "</style>\n",
       "<table border=\"1\" class=\"dataframe\">\n",
       "  <thead>\n",
       "    <tr style=\"text-align: right;\">\n",
       "      <th></th>\n",
       "      <th>Газ 1</th>\n",
       "    </tr>\n",
       "    <tr>\n",
       "      <th>key</th>\n",
       "      <th></th>\n",
       "    </tr>\n",
       "  </thead>\n",
       "  <tbody>\n",
       "    <tr>\n",
       "      <th>1</th>\n",
       "      <td>29.749986</td>\n",
       "    </tr>\n",
       "    <tr>\n",
       "      <th>2</th>\n",
       "      <td>12.555561</td>\n",
       "    </tr>\n",
       "    <tr>\n",
       "      <th>3</th>\n",
       "      <td>28.554793</td>\n",
       "    </tr>\n",
       "    <tr>\n",
       "      <th>4</th>\n",
       "      <td>18.841219</td>\n",
       "    </tr>\n",
       "    <tr>\n",
       "      <th>5</th>\n",
       "      <td>5.413692</td>\n",
       "    </tr>\n",
       "  </tbody>\n",
       "</table>\n",
       "</div>"
      ],
      "text/plain": [
       "         Газ 1\n",
       "key           \n",
       "1    29.749986\n",
       "2    12.555561\n",
       "3    28.554793\n",
       "4    18.841219\n",
       "5     5.413692"
      ]
     },
     "execution_count": 20,
     "metadata": {},
     "output_type": "execute_result"
    }
   ],
   "source": [
    "df_gas.head()"
   ]
  },
  {
   "cell_type": "code",
   "execution_count": 21,
   "metadata": {
    "colab": {
     "base_uri": "https://localhost:8080/"
    },
    "id": "thgv1A2VX3K5",
    "outputId": "41200d24-aca5-4451-d761-6e20d0f39ae3"
   },
   "outputs": [
    {
     "name": "stdout",
     "output_type": "stream",
     "text": [
      "<class 'pandas.core.frame.DataFrame'>\n",
      "Int64Index: 3239 entries, 1 to 3241\n",
      "Data columns (total 1 columns):\n",
      " #   Column  Non-Null Count  Dtype  \n",
      "---  ------  --------------  -----  \n",
      " 0   Газ 1   3239 non-null   float64\n",
      "dtypes: float64(1)\n",
      "memory usage: 50.6 KB\n"
     ]
    }
   ],
   "source": [
    "df_gas.info()"
   ]
  },
  {
   "cell_type": "code",
   "execution_count": 22,
   "metadata": {
    "colab": {
     "base_uri": "https://localhost:8080/",
     "height": 300
    },
    "id": "Bprfz8M8YrxG",
    "outputId": "5be622ec-4783-4303-fb1a-08b6e5cff375"
   },
   "outputs": [
    {
     "data": {
      "text/html": [
       "<div>\n",
       "<style scoped>\n",
       "    .dataframe tbody tr th:only-of-type {\n",
       "        vertical-align: middle;\n",
       "    }\n",
       "\n",
       "    .dataframe tbody tr th {\n",
       "        vertical-align: top;\n",
       "    }\n",
       "\n",
       "    .dataframe thead th {\n",
       "        text-align: right;\n",
       "    }\n",
       "</style>\n",
       "<table border=\"1\" class=\"dataframe\">\n",
       "  <thead>\n",
       "    <tr style=\"text-align: right;\">\n",
       "      <th></th>\n",
       "      <th>Газ 1</th>\n",
       "    </tr>\n",
       "  </thead>\n",
       "  <tbody>\n",
       "    <tr>\n",
       "      <th>count</th>\n",
       "      <td>3239.000000</td>\n",
       "    </tr>\n",
       "    <tr>\n",
       "      <th>mean</th>\n",
       "      <td>11.002062</td>\n",
       "    </tr>\n",
       "    <tr>\n",
       "      <th>std</th>\n",
       "      <td>6.220327</td>\n",
       "    </tr>\n",
       "    <tr>\n",
       "      <th>min</th>\n",
       "      <td>0.008399</td>\n",
       "    </tr>\n",
       "    <tr>\n",
       "      <th>25%</th>\n",
       "      <td>7.043089</td>\n",
       "    </tr>\n",
       "    <tr>\n",
       "      <th>50%</th>\n",
       "      <td>9.836267</td>\n",
       "    </tr>\n",
       "    <tr>\n",
       "      <th>75%</th>\n",
       "      <td>13.769915</td>\n",
       "    </tr>\n",
       "    <tr>\n",
       "      <th>max</th>\n",
       "      <td>77.995040</td>\n",
       "    </tr>\n",
       "  </tbody>\n",
       "</table>\n",
       "</div>"
      ],
      "text/plain": [
       "             Газ 1\n",
       "count  3239.000000\n",
       "mean     11.002062\n",
       "std       6.220327\n",
       "min       0.008399\n",
       "25%       7.043089\n",
       "50%       9.836267\n",
       "75%      13.769915\n",
       "max      77.995040"
      ]
     },
     "execution_count": 22,
     "metadata": {},
     "output_type": "execute_result"
    }
   ],
   "source": [
    "df_gas.describe()"
   ]
  },
  {
   "cell_type": "code",
   "execution_count": 23,
   "metadata": {
    "colab": {
     "base_uri": "https://localhost:8080/",
     "height": 622
    },
    "id": "JGtN7pEoZqq7",
    "outputId": "57daa295-143f-4b53-f1b8-09da7ae78685"
   },
   "outputs": [
    {
     "data": {
      "image/png": "[encoded data removed]",
      "text/plain": [
       "<Figure size 1000x700 with 1 Axes>"
      ]
     },
     "metadata": {},
     "output_type": "display_data"
    }
   ],
   "source": [
    "fig, ax = plt.subplots(figsize=(10, 7))\n",
    "df_gas.hist(bins=40, ax=ax)\n",
    "ax.set_title('Распределение объёма поданного газа');"
   ]
  },
  {
   "cell_type": "code",
   "execution_count": 24,
   "metadata": {
    "id": "hHM8_TZ6cDAt"
   },
   "outputs": [],
   "source": [
    "# результаты измерения температуры\n",
    "df_temp = pd.read_csv('datasets/data_temp_new.csv', parse_dates=[1])"
   ]
  },
  {
   "cell_type": "code",
   "execution_count": 25,
   "metadata": {
    "colab": {
     "base_uri": "https://localhost:8080/",
     "height": 206
    },
    "id": "G4nr-OmLcaKP",
    "outputId": "2e0c07e5-5888-4034-efdc-09c27270a029"
   },
   "outputs": [
    {
     "data": {
      "text/html": [
       "<div>\n",
       "<style scoped>\n",
       "    .dataframe tbody tr th:only-of-type {\n",
       "        vertical-align: middle;\n",
       "    }\n",
       "\n",
       "    .dataframe tbody tr th {\n",
       "        vertical-align: top;\n",
       "    }\n",
       "\n",
       "    .dataframe thead th {\n",
       "        text-align: right;\n",
       "    }\n",
       "</style>\n",
       "<table border=\"1\" class=\"dataframe\">\n",
       "  <thead>\n",
       "    <tr style=\"text-align: right;\">\n",
       "      <th></th>\n",
       "      <th>key</th>\n",
       "      <th>Время замера</th>\n",
       "      <th>Температура</th>\n",
       "    </tr>\n",
       "  </thead>\n",
       "  <tbody>\n",
       "    <tr>\n",
       "      <th>0</th>\n",
       "      <td>1</td>\n",
       "      <td>2019-05-03 11:02:04</td>\n",
       "      <td>1571.0</td>\n",
       "    </tr>\n",
       "    <tr>\n",
       "      <th>1</th>\n",
       "      <td>1</td>\n",
       "      <td>2019-05-03 11:07:18</td>\n",
       "      <td>1604.0</td>\n",
       "    </tr>\n",
       "    <tr>\n",
       "      <th>2</th>\n",
       "      <td>1</td>\n",
       "      <td>2019-05-03 11:11:34</td>\n",
       "      <td>1618.0</td>\n",
       "    </tr>\n",
       "    <tr>\n",
       "      <th>3</th>\n",
       "      <td>1</td>\n",
       "      <td>2019-05-03 11:18:04</td>\n",
       "      <td>1601.0</td>\n",
       "    </tr>\n",
       "    <tr>\n",
       "      <th>4</th>\n",
       "      <td>1</td>\n",
       "      <td>2019-05-03 11:25:59</td>\n",
       "      <td>1606.0</td>\n",
       "    </tr>\n",
       "  </tbody>\n",
       "</table>\n",
       "</div>"
      ],
      "text/plain": [
       "   key        Время замера  Температура\n",
       "0    1 2019-05-03 11:02:04       1571.0\n",
       "1    1 2019-05-03 11:07:18       1604.0\n",
       "2    1 2019-05-03 11:11:34       1618.0\n",
       "3    1 2019-05-03 11:18:04       1601.0\n",
       "4    1 2019-05-03 11:25:59       1606.0"
      ]
     },
     "execution_count": 25,
     "metadata": {},
     "output_type": "execute_result"
    }
   ],
   "source": [
    "df_temp.head()"
   ]
  },
  {
   "cell_type": "code",
   "execution_count": 26,
   "metadata": {
    "colab": {
     "base_uri": "https://localhost:8080/"
    },
    "id": "wckRtNqbOb40",
    "outputId": "184594e2-6333-43df-99c0-a77a6f611165"
   },
   "outputs": [
    {
     "name": "stdout",
     "output_type": "stream",
     "text": [
      "<class 'pandas.core.frame.DataFrame'>\n",
      "RangeIndex: 18092 entries, 0 to 18091\n",
      "Data columns (total 3 columns):\n",
      " #   Column        Non-Null Count  Dtype         \n",
      "---  ------        --------------  -----         \n",
      " 0   key           18092 non-null  int64         \n",
      " 1   Время замера  18092 non-null  datetime64[ns]\n",
      " 2   Температура   14665 non-null  float64       \n",
      "dtypes: datetime64[ns](1), float64(1), int64(1)\n",
      "memory usage: 424.2 KB\n"
     ]
    }
   ],
   "source": [
    "df_temp.info()"
   ]
  },
  {
   "cell_type": "code",
   "execution_count": 27,
   "metadata": {
    "colab": {
     "base_uri": "https://localhost:8080/",
     "height": 300
    },
    "id": "g2C19h3oRgLX",
    "outputId": "93ea393b-c49e-4238-decc-c05ac6ba896e"
   },
   "outputs": [
    {
     "data": {
      "text/html": [
       "<div>\n",
       "<style scoped>\n",
       "    .dataframe tbody tr th:only-of-type {\n",
       "        vertical-align: middle;\n",
       "    }\n",
       "\n",
       "    .dataframe tbody tr th {\n",
       "        vertical-align: top;\n",
       "    }\n",
       "\n",
       "    .dataframe thead th {\n",
       "        text-align: right;\n",
       "    }\n",
       "</style>\n",
       "<table border=\"1\" class=\"dataframe\">\n",
       "  <thead>\n",
       "    <tr style=\"text-align: right;\">\n",
       "      <th></th>\n",
       "      <th>key</th>\n",
       "      <th>Температура</th>\n",
       "    </tr>\n",
       "  </thead>\n",
       "  <tbody>\n",
       "    <tr>\n",
       "      <th>count</th>\n",
       "      <td>18092.000000</td>\n",
       "      <td>14665.000000</td>\n",
       "    </tr>\n",
       "    <tr>\n",
       "      <th>mean</th>\n",
       "      <td>1616.460977</td>\n",
       "      <td>1590.722741</td>\n",
       "    </tr>\n",
       "    <tr>\n",
       "      <th>std</th>\n",
       "      <td>934.641385</td>\n",
       "      <td>20.394381</td>\n",
       "    </tr>\n",
       "    <tr>\n",
       "      <th>min</th>\n",
       "      <td>1.000000</td>\n",
       "      <td>1191.000000</td>\n",
       "    </tr>\n",
       "    <tr>\n",
       "      <th>25%</th>\n",
       "      <td>807.750000</td>\n",
       "      <td>1580.000000</td>\n",
       "    </tr>\n",
       "    <tr>\n",
       "      <th>50%</th>\n",
       "      <td>1618.000000</td>\n",
       "      <td>1590.000000</td>\n",
       "    </tr>\n",
       "    <tr>\n",
       "      <th>75%</th>\n",
       "      <td>2429.000000</td>\n",
       "      <td>1599.000000</td>\n",
       "    </tr>\n",
       "    <tr>\n",
       "      <th>max</th>\n",
       "      <td>3241.000000</td>\n",
       "      <td>1705.000000</td>\n",
       "    </tr>\n",
       "  </tbody>\n",
       "</table>\n",
       "</div>"
      ],
      "text/plain": [
       "                key   Температура\n",
       "count  18092.000000  14665.000000\n",
       "mean    1616.460977   1590.722741\n",
       "std      934.641385     20.394381\n",
       "min        1.000000   1191.000000\n",
       "25%      807.750000   1580.000000\n",
       "50%     1618.000000   1590.000000\n",
       "75%     2429.000000   1599.000000\n",
       "max     3241.000000   1705.000000"
      ]
     },
     "execution_count": 27,
     "metadata": {},
     "output_type": "execute_result"
    }
   ],
   "source": [
    "df_temp.describe()"
   ]
  },
  {
   "cell_type": "code",
   "execution_count": 28,
   "metadata": {
    "colab": {
     "base_uri": "https://localhost:8080/",
     "height": 206
    },
    "id": "lSK7wEVlRnu3",
    "outputId": "898981a5-1d96-4cb5-f56a-48c5ae3ebaa1"
   },
   "outputs": [
    {
     "data": {
      "text/html": [
       "<div>\n",
       "<style scoped>\n",
       "    .dataframe tbody tr th:only-of-type {\n",
       "        vertical-align: middle;\n",
       "    }\n",
       "\n",
       "    .dataframe tbody tr th {\n",
       "        vertical-align: top;\n",
       "    }\n",
       "\n",
       "    .dataframe thead th {\n",
       "        text-align: right;\n",
       "    }\n",
       "</style>\n",
       "<table border=\"1\" class=\"dataframe\">\n",
       "  <thead>\n",
       "    <tr style=\"text-align: right;\">\n",
       "      <th></th>\n",
       "      <th>key</th>\n",
       "      <th>Время замера</th>\n",
       "      <th>Температура</th>\n",
       "    </tr>\n",
       "  </thead>\n",
       "  <tbody>\n",
       "    <tr>\n",
       "      <th>4883</th>\n",
       "      <td>867</td>\n",
       "      <td>2019-06-06 08:03:39</td>\n",
       "      <td>1191.0</td>\n",
       "    </tr>\n",
       "    <tr>\n",
       "      <th>6784</th>\n",
       "      <td>1214</td>\n",
       "      <td>2019-06-18 08:01:03</td>\n",
       "      <td>1208.0</td>\n",
       "    </tr>\n",
       "    <tr>\n",
       "      <th>9050</th>\n",
       "      <td>1619</td>\n",
       "      <td>2019-07-03 02:34:41</td>\n",
       "      <td>1218.0</td>\n",
       "    </tr>\n",
       "    <tr>\n",
       "      <th>11495</th>\n",
       "      <td>2052</td>\n",
       "      <td>2019-07-25 08:49:15</td>\n",
       "      <td>1227.0</td>\n",
       "    </tr>\n",
       "    <tr>\n",
       "      <th>14283</th>\n",
       "      <td>2561</td>\n",
       "      <td>2019-08-12 18:49:29</td>\n",
       "      <td>1204.0</td>\n",
       "    </tr>\n",
       "  </tbody>\n",
       "</table>\n",
       "</div>"
      ],
      "text/plain": [
       "        key        Время замера  Температура\n",
       "4883    867 2019-06-06 08:03:39       1191.0\n",
       "6784   1214 2019-06-18 08:01:03       1208.0\n",
       "9050   1619 2019-07-03 02:34:41       1218.0\n",
       "11495  2052 2019-07-25 08:49:15       1227.0\n",
       "14283  2561 2019-08-12 18:49:29       1204.0"
      ]
     },
     "execution_count": 28,
     "metadata": {},
     "output_type": "execute_result"
    }
   ],
   "source": [
    "df_temp[df_temp.iloc[:, 2] < 1500]"
   ]
  },
  {
   "cell_type": "code",
   "execution_count": 29,
   "metadata": {
    "colab": {
     "base_uri": "https://localhost:8080/",
     "height": 622
    },
    "id": "3bn6sqq2RTT4",
    "outputId": "6a5c25ca-787d-4f28-aa41-358a2a091157"
   },
   "outputs": [
    {
     "data": {
      "image/png": "[encoded data removed]",
      "text/plain": [
       "<Figure size 1000x700 with 1 Axes>"
      ]
     },
     "metadata": {},
     "output_type": "display_data"
    }
   ],
   "source": [
    "fig, ax = plt.subplots(figsize=(10, 7))\n",
    "df_temp.loc[df_temp.iloc[:, 2] > 1500, 'Температура'].hist(bins=30, ax=ax)\n",
    "ax.set_title('Распределение измеренной температуры');"
   ]
  },
  {
   "cell_type": "code",
   "execution_count": 30,
   "metadata": {
    "id": "-SiqR7oTTOUD"
   },
   "outputs": [],
   "source": [
    "# данные о проволочных материалах (объём)\n",
    "df_wire = pd.read_csv('datasets/data_wire_new.csv', index_col=0)"
   ]
  },
  {
   "cell_type": "code",
   "execution_count": 31,
   "metadata": {
    "colab": {
     "base_uri": "https://localhost:8080/",
     "height": 238
    },
    "id": "O5Rlk8EgTcmX",
    "outputId": "f09403a5-601a-4f65-bd9e-40c95bf9f1b5"
   },
   "outputs": [
    {
     "data": {
      "text/html": [
       "<div>\n",
       "<style scoped>\n",
       "    .dataframe tbody tr th:only-of-type {\n",
       "        vertical-align: middle;\n",
       "    }\n",
       "\n",
       "    .dataframe tbody tr th {\n",
       "        vertical-align: top;\n",
       "    }\n",
       "\n",
       "    .dataframe thead th {\n",
       "        text-align: right;\n",
       "    }\n",
       "</style>\n",
       "<table border=\"1\" class=\"dataframe\">\n",
       "  <thead>\n",
       "    <tr style=\"text-align: right;\">\n",
       "      <th></th>\n",
       "      <th>Wire 1</th>\n",
       "      <th>Wire 2</th>\n",
       "      <th>Wire 3</th>\n",
       "      <th>Wire 4</th>\n",
       "      <th>Wire 5</th>\n",
       "      <th>Wire 6</th>\n",
       "      <th>Wire 7</th>\n",
       "      <th>Wire 8</th>\n",
       "      <th>Wire 9</th>\n",
       "    </tr>\n",
       "    <tr>\n",
       "      <th>key</th>\n",
       "      <th></th>\n",
       "      <th></th>\n",
       "      <th></th>\n",
       "      <th></th>\n",
       "      <th></th>\n",
       "      <th></th>\n",
       "      <th></th>\n",
       "      <th></th>\n",
       "      <th></th>\n",
       "    </tr>\n",
       "  </thead>\n",
       "  <tbody>\n",
       "    <tr>\n",
       "      <th>1</th>\n",
       "      <td>60.059998</td>\n",
       "      <td>NaN</td>\n",
       "      <td>NaN</td>\n",
       "      <td>NaN</td>\n",
       "      <td>NaN</td>\n",
       "      <td>NaN</td>\n",
       "      <td>NaN</td>\n",
       "      <td>NaN</td>\n",
       "      <td>NaN</td>\n",
       "    </tr>\n",
       "    <tr>\n",
       "      <th>2</th>\n",
       "      <td>96.052315</td>\n",
       "      <td>NaN</td>\n",
       "      <td>NaN</td>\n",
       "      <td>NaN</td>\n",
       "      <td>NaN</td>\n",
       "      <td>NaN</td>\n",
       "      <td>NaN</td>\n",
       "      <td>NaN</td>\n",
       "      <td>NaN</td>\n",
       "    </tr>\n",
       "    <tr>\n",
       "      <th>3</th>\n",
       "      <td>91.160157</td>\n",
       "      <td>NaN</td>\n",
       "      <td>NaN</td>\n",
       "      <td>NaN</td>\n",
       "      <td>NaN</td>\n",
       "      <td>NaN</td>\n",
       "      <td>NaN</td>\n",
       "      <td>NaN</td>\n",
       "      <td>NaN</td>\n",
       "    </tr>\n",
       "    <tr>\n",
       "      <th>4</th>\n",
       "      <td>89.063515</td>\n",
       "      <td>NaN</td>\n",
       "      <td>NaN</td>\n",
       "      <td>NaN</td>\n",
       "      <td>NaN</td>\n",
       "      <td>NaN</td>\n",
       "      <td>NaN</td>\n",
       "      <td>NaN</td>\n",
       "      <td>NaN</td>\n",
       "    </tr>\n",
       "    <tr>\n",
       "      <th>5</th>\n",
       "      <td>89.238236</td>\n",
       "      <td>9.11456</td>\n",
       "      <td>NaN</td>\n",
       "      <td>NaN</td>\n",
       "      <td>NaN</td>\n",
       "      <td>NaN</td>\n",
       "      <td>NaN</td>\n",
       "      <td>NaN</td>\n",
       "      <td>NaN</td>\n",
       "    </tr>\n",
       "  </tbody>\n",
       "</table>\n",
       "</div>"
      ],
      "text/plain": [
       "        Wire 1   Wire 2  Wire 3  Wire 4  Wire 5  Wire 6  Wire 7  Wire 8  \\\n",
       "key                                                                       \n",
       "1    60.059998      NaN     NaN     NaN     NaN     NaN     NaN     NaN   \n",
       "2    96.052315      NaN     NaN     NaN     NaN     NaN     NaN     NaN   \n",
       "3    91.160157      NaN     NaN     NaN     NaN     NaN     NaN     NaN   \n",
       "4    89.063515      NaN     NaN     NaN     NaN     NaN     NaN     NaN   \n",
       "5    89.238236  9.11456     NaN     NaN     NaN     NaN     NaN     NaN   \n",
       "\n",
       "     Wire 9  \n",
       "key          \n",
       "1       NaN  \n",
       "2       NaN  \n",
       "3       NaN  \n",
       "4       NaN  \n",
       "5       NaN  "
      ]
     },
     "execution_count": 31,
     "metadata": {},
     "output_type": "execute_result"
    }
   ],
   "source": [
    "df_wire.head()"
   ]
  },
  {
   "cell_type": "code",
   "execution_count": 32,
   "metadata": {
    "colab": {
     "base_uri": "https://localhost:8080/"
    },
    "id": "7n7Xxt86ho-M",
    "outputId": "16ef5c3a-cf89-4f78-e7bc-312f6bcc08cb"
   },
   "outputs": [
    {
     "name": "stdout",
     "output_type": "stream",
     "text": [
      "<class 'pandas.core.frame.DataFrame'>\n",
      "Int64Index: 3081 entries, 1 to 3241\n",
      "Data columns (total 9 columns):\n",
      " #   Column  Non-Null Count  Dtype  \n",
      "---  ------  --------------  -----  \n",
      " 0   Wire 1  3055 non-null   float64\n",
      " 1   Wire 2  1079 non-null   float64\n",
      " 2   Wire 3  63 non-null     float64\n",
      " 3   Wire 4  14 non-null     float64\n",
      " 4   Wire 5  1 non-null      float64\n",
      " 5   Wire 6  73 non-null     float64\n",
      " 6   Wire 7  11 non-null     float64\n",
      " 7   Wire 8  19 non-null     float64\n",
      " 8   Wire 9  29 non-null     float64\n",
      "dtypes: float64(9)\n",
      "memory usage: 240.7 KB\n"
     ]
    }
   ],
   "source": [
    "df_wire.info()"
   ]
  },
  {
   "cell_type": "code",
   "execution_count": 33,
   "metadata": {
    "colab": {
     "base_uri": "https://localhost:8080/",
     "height": 300
    },
    "id": "7qcPPFDrh5y-",
    "outputId": "9997b3d5-0e66-4752-eac7-bb9168db0e02"
   },
   "outputs": [
    {
     "data": {
      "text/html": [
       "<div>\n",
       "<style scoped>\n",
       "    .dataframe tbody tr th:only-of-type {\n",
       "        vertical-align: middle;\n",
       "    }\n",
       "\n",
       "    .dataframe tbody tr th {\n",
       "        vertical-align: top;\n",
       "    }\n",
       "\n",
       "    .dataframe thead th {\n",
       "        text-align: right;\n",
       "    }\n",
       "</style>\n",
       "<table border=\"1\" class=\"dataframe\">\n",
       "  <thead>\n",
       "    <tr style=\"text-align: right;\">\n",
       "      <th></th>\n",
       "      <th>Wire 1</th>\n",
       "      <th>Wire 2</th>\n",
       "      <th>Wire 3</th>\n",
       "      <th>Wire 4</th>\n",
       "      <th>Wire 5</th>\n",
       "      <th>Wire 6</th>\n",
       "      <th>Wire 7</th>\n",
       "      <th>Wire 8</th>\n",
       "      <th>Wire 9</th>\n",
       "    </tr>\n",
       "  </thead>\n",
       "  <tbody>\n",
       "    <tr>\n",
       "      <th>count</th>\n",
       "      <td>3055.000000</td>\n",
       "      <td>1079.000000</td>\n",
       "      <td>63.000000</td>\n",
       "      <td>14.000000</td>\n",
       "      <td>1.000</td>\n",
       "      <td>73.000000</td>\n",
       "      <td>11.000000</td>\n",
       "      <td>19.000000</td>\n",
       "      <td>29.000000</td>\n",
       "    </tr>\n",
       "    <tr>\n",
       "      <th>mean</th>\n",
       "      <td>100.895853</td>\n",
       "      <td>50.577323</td>\n",
       "      <td>189.482681</td>\n",
       "      <td>57.442841</td>\n",
       "      <td>15.132</td>\n",
       "      <td>48.016974</td>\n",
       "      <td>10.039007</td>\n",
       "      <td>53.625193</td>\n",
       "      <td>34.155752</td>\n",
       "    </tr>\n",
       "    <tr>\n",
       "      <th>std</th>\n",
       "      <td>42.012518</td>\n",
       "      <td>39.320216</td>\n",
       "      <td>99.513444</td>\n",
       "      <td>28.824667</td>\n",
       "      <td>NaN</td>\n",
       "      <td>33.919845</td>\n",
       "      <td>8.610584</td>\n",
       "      <td>16.881728</td>\n",
       "      <td>19.931616</td>\n",
       "    </tr>\n",
       "    <tr>\n",
       "      <th>min</th>\n",
       "      <td>1.918800</td>\n",
       "      <td>0.030160</td>\n",
       "      <td>0.144144</td>\n",
       "      <td>24.148801</td>\n",
       "      <td>15.132</td>\n",
       "      <td>0.034320</td>\n",
       "      <td>0.234208</td>\n",
       "      <td>45.076721</td>\n",
       "      <td>4.622800</td>\n",
       "    </tr>\n",
       "    <tr>\n",
       "      <th>25%</th>\n",
       "      <td>72.115684</td>\n",
       "      <td>20.193680</td>\n",
       "      <td>95.135044</td>\n",
       "      <td>40.807002</td>\n",
       "      <td>15.132</td>\n",
       "      <td>25.053600</td>\n",
       "      <td>6.762756</td>\n",
       "      <td>46.094879</td>\n",
       "      <td>22.058401</td>\n",
       "    </tr>\n",
       "    <tr>\n",
       "      <th>50%</th>\n",
       "      <td>100.158234</td>\n",
       "      <td>40.142956</td>\n",
       "      <td>235.194977</td>\n",
       "      <td>45.234282</td>\n",
       "      <td>15.132</td>\n",
       "      <td>42.076324</td>\n",
       "      <td>9.017009</td>\n",
       "      <td>46.279999</td>\n",
       "      <td>30.066399</td>\n",
       "    </tr>\n",
       "    <tr>\n",
       "      <th>75%</th>\n",
       "      <td>126.060483</td>\n",
       "      <td>70.227558</td>\n",
       "      <td>276.252014</td>\n",
       "      <td>76.124619</td>\n",
       "      <td>15.132</td>\n",
       "      <td>64.212723</td>\n",
       "      <td>11.886057</td>\n",
       "      <td>48.089603</td>\n",
       "      <td>43.862003</td>\n",
       "    </tr>\n",
       "    <tr>\n",
       "      <th>max</th>\n",
       "      <td>330.314424</td>\n",
       "      <td>282.780152</td>\n",
       "      <td>385.008668</td>\n",
       "      <td>113.231044</td>\n",
       "      <td>15.132</td>\n",
       "      <td>180.454575</td>\n",
       "      <td>32.847674</td>\n",
       "      <td>102.762401</td>\n",
       "      <td>90.053604</td>\n",
       "    </tr>\n",
       "  </tbody>\n",
       "</table>\n",
       "</div>"
      ],
      "text/plain": [
       "            Wire 1       Wire 2      Wire 3      Wire 4  Wire 5      Wire 6  \\\n",
       "count  3055.000000  1079.000000   63.000000   14.000000   1.000   73.000000   \n",
       "mean    100.895853    50.577323  189.482681   57.442841  15.132   48.016974   \n",
       "std      42.012518    39.320216   99.513444   28.824667     NaN   33.919845   \n",
       "min       1.918800     0.030160    0.144144   24.148801  15.132    0.034320   \n",
       "25%      72.115684    20.193680   95.135044   40.807002  15.132   25.053600   \n",
       "50%     100.158234    40.142956  235.194977   45.234282  15.132   42.076324   \n",
       "75%     126.060483    70.227558  276.252014   76.124619  15.132   64.212723   \n",
       "max     330.314424   282.780152  385.008668  113.231044  15.132  180.454575   \n",
       "\n",
       "          Wire 7      Wire 8     Wire 9  \n",
       "count  11.000000   19.000000  29.000000  \n",
       "mean   10.039007   53.625193  34.155752  \n",
       "std     8.610584   16.881728  19.931616  \n",
       "min     0.234208   45.076721   4.622800  \n",
       "25%     6.762756   46.094879  22.058401  \n",
       "50%     9.017009   46.279999  30.066399  \n",
       "75%    11.886057   48.089603  43.862003  \n",
       "max    32.847674  102.762401  90.053604  "
      ]
     },
     "execution_count": 33,
     "metadata": {},
     "output_type": "execute_result"
    }
   ],
   "source": [
    "df_wire.describe()"
   ]
  },
  {
   "cell_type": "code",
   "execution_count": 34,
   "metadata": {
    "colab": {
     "base_uri": "https://localhost:8080/",
     "height": 622
    },
    "id": "abyshM7diYna",
    "outputId": "05b04454-6988-4a6e-9db3-05420dfe09ae"
   },
   "outputs": [
    {
     "data": {
      "image/png": "[encoded data removed]",
      "text/plain": [
       "<Figure size 1000x700 with 1 Axes>"
      ]
     },
     "metadata": {},
     "output_type": "display_data"
    }
   ],
   "source": [
    "fig, ax = plt.subplots(figsize=(10, 7))\n",
    "df_wire.boxplot(ax=ax)\n",
    "ax.set_title('Распределение объёма проволочных материалов');"
   ]
  },
  {
   "cell_type": "code",
   "execution_count": 35,
   "metadata": {
    "id": "HMOCA3V3jsOI"
   },
   "outputs": [],
   "source": [
    "#данные о проволочных материалах (время)\n",
    "df_wire_time = pd.read_csv('datasets/data_wire_time_new.csv', parse_dates=list(range(1, 10)), index_col=0)"
   ]
  },
  {
   "cell_type": "code",
   "execution_count": 36,
   "metadata": {
    "colab": {
     "base_uri": "https://localhost:8080/",
     "height": 238
    },
    "id": "vRPESHoAkVjo",
    "outputId": "80e85a53-0359-4de1-fb62-cad4a5046b8d"
   },
   "outputs": [
    {
     "data": {
      "text/html": [
       "<div>\n",
       "<style scoped>\n",
       "    .dataframe tbody tr th:only-of-type {\n",
       "        vertical-align: middle;\n",
       "    }\n",
       "\n",
       "    .dataframe tbody tr th {\n",
       "        vertical-align: top;\n",
       "    }\n",
       "\n",
       "    .dataframe thead th {\n",
       "        text-align: right;\n",
       "    }\n",
       "</style>\n",
       "<table border=\"1\" class=\"dataframe\">\n",
       "  <thead>\n",
       "    <tr style=\"text-align: right;\">\n",
       "      <th></th>\n",
       "      <th>Wire 1</th>\n",
       "      <th>Wire 2</th>\n",
       "      <th>Wire 3</th>\n",
       "      <th>Wire 4</th>\n",
       "      <th>Wire 5</th>\n",
       "      <th>Wire 6</th>\n",
       "      <th>Wire 7</th>\n",
       "      <th>Wire 8</th>\n",
       "      <th>Wire 9</th>\n",
       "    </tr>\n",
       "    <tr>\n",
       "      <th>key</th>\n",
       "      <th></th>\n",
       "      <th></th>\n",
       "      <th></th>\n",
       "      <th></th>\n",
       "      <th></th>\n",
       "      <th></th>\n",
       "      <th></th>\n",
       "      <th></th>\n",
       "      <th></th>\n",
       "    </tr>\n",
       "  </thead>\n",
       "  <tbody>\n",
       "    <tr>\n",
       "      <th>1</th>\n",
       "      <td>2019-05-03 11:06:19</td>\n",
       "      <td>NaT</td>\n",
       "      <td>NaT</td>\n",
       "      <td>NaT</td>\n",
       "      <td>NaT</td>\n",
       "      <td>NaT</td>\n",
       "      <td>NaT</td>\n",
       "      <td>NaT</td>\n",
       "      <td>NaT</td>\n",
       "    </tr>\n",
       "    <tr>\n",
       "      <th>2</th>\n",
       "      <td>2019-05-03 11:36:50</td>\n",
       "      <td>NaT</td>\n",
       "      <td>NaT</td>\n",
       "      <td>NaT</td>\n",
       "      <td>NaT</td>\n",
       "      <td>NaT</td>\n",
       "      <td>NaT</td>\n",
       "      <td>NaT</td>\n",
       "      <td>NaT</td>\n",
       "    </tr>\n",
       "    <tr>\n",
       "      <th>3</th>\n",
       "      <td>2019-05-03 12:11:46</td>\n",
       "      <td>NaT</td>\n",
       "      <td>NaT</td>\n",
       "      <td>NaT</td>\n",
       "      <td>NaT</td>\n",
       "      <td>NaT</td>\n",
       "      <td>NaT</td>\n",
       "      <td>NaT</td>\n",
       "      <td>NaT</td>\n",
       "    </tr>\n",
       "    <tr>\n",
       "      <th>4</th>\n",
       "      <td>2019-05-03 12:43:22</td>\n",
       "      <td>NaT</td>\n",
       "      <td>NaT</td>\n",
       "      <td>NaT</td>\n",
       "      <td>NaT</td>\n",
       "      <td>NaT</td>\n",
       "      <td>NaT</td>\n",
       "      <td>NaT</td>\n",
       "      <td>NaT</td>\n",
       "    </tr>\n",
       "    <tr>\n",
       "      <th>5</th>\n",
       "      <td>2019-05-03 13:20:44</td>\n",
       "      <td>2019-05-03 13:15:34</td>\n",
       "      <td>NaT</td>\n",
       "      <td>NaT</td>\n",
       "      <td>NaT</td>\n",
       "      <td>NaT</td>\n",
       "      <td>NaT</td>\n",
       "      <td>NaT</td>\n",
       "      <td>NaT</td>\n",
       "    </tr>\n",
       "  </tbody>\n",
       "</table>\n",
       "</div>"
      ],
      "text/plain": [
       "                 Wire 1              Wire 2 Wire 3 Wire 4 Wire 5 Wire 6  \\\n",
       "key                                                                       \n",
       "1   2019-05-03 11:06:19                 NaT    NaT    NaT    NaT    NaT   \n",
       "2   2019-05-03 11:36:50                 NaT    NaT    NaT    NaT    NaT   \n",
       "3   2019-05-03 12:11:46                 NaT    NaT    NaT    NaT    NaT   \n",
       "4   2019-05-03 12:43:22                 NaT    NaT    NaT    NaT    NaT   \n",
       "5   2019-05-03 13:20:44 2019-05-03 13:15:34    NaT    NaT    NaT    NaT   \n",
       "\n",
       "    Wire 7 Wire 8 Wire 9  \n",
       "key                       \n",
       "1      NaT    NaT    NaT  \n",
       "2      NaT    NaT    NaT  \n",
       "3      NaT    NaT    NaT  \n",
       "4      NaT    NaT    NaT  \n",
       "5      NaT    NaT    NaT  "
      ]
     },
     "execution_count": 36,
     "metadata": {},
     "output_type": "execute_result"
    }
   ],
   "source": [
    "df_wire_time.head()"
   ]
  },
  {
   "cell_type": "code",
   "execution_count": 37,
   "metadata": {
    "colab": {
     "base_uri": "https://localhost:8080/"
    },
    "id": "e3sMK_MoksMw",
    "outputId": "33654731-3c34-43a3-88ea-fb304c9bc403"
   },
   "outputs": [
    {
     "name": "stdout",
     "output_type": "stream",
     "text": [
      "<class 'pandas.core.frame.DataFrame'>\n",
      "Int64Index: 3081 entries, 1 to 3241\n",
      "Data columns (total 9 columns):\n",
      " #   Column  Non-Null Count  Dtype         \n",
      "---  ------  --------------  -----         \n",
      " 0   Wire 1  3055 non-null   datetime64[ns]\n",
      " 1   Wire 2  1079 non-null   datetime64[ns]\n",
      " 2   Wire 3  63 non-null     datetime64[ns]\n",
      " 3   Wire 4  14 non-null     datetime64[ns]\n",
      " 4   Wire 5  1 non-null      datetime64[ns]\n",
      " 5   Wire 6  73 non-null     datetime64[ns]\n",
      " 6   Wire 7  11 non-null     datetime64[ns]\n",
      " 7   Wire 8  19 non-null     datetime64[ns]\n",
      " 8   Wire 9  29 non-null     datetime64[ns]\n",
      "dtypes: datetime64[ns](9)\n",
      "memory usage: 240.7 KB\n"
     ]
    }
   ],
   "source": [
    "df_wire_time.info()"
   ]
  },
  {
   "cell_type": "code",
   "execution_count": 38,
   "metadata": {
    "colab": {
     "base_uri": "https://localhost:8080/",
     "height": 417
    },
    "id": "2RInkJM7kwGo",
    "outputId": "1a247909-8cd9-4428-8833-6469a82ca61b"
   },
   "outputs": [
    {
     "data": {
      "text/html": [
       "<div>\n",
       "<style scoped>\n",
       "    .dataframe tbody tr th:only-of-type {\n",
       "        vertical-align: middle;\n",
       "    }\n",
       "\n",
       "    .dataframe tbody tr th {\n",
       "        vertical-align: top;\n",
       "    }\n",
       "\n",
       "    .dataframe thead th {\n",
       "        text-align: right;\n",
       "    }\n",
       "</style>\n",
       "<table border=\"1\" class=\"dataframe\">\n",
       "  <thead>\n",
       "    <tr style=\"text-align: right;\">\n",
       "      <th></th>\n",
       "      <th>Wire 1</th>\n",
       "      <th>Wire 2</th>\n",
       "      <th>Wire 3</th>\n",
       "      <th>Wire 4</th>\n",
       "      <th>Wire 5</th>\n",
       "      <th>Wire 6</th>\n",
       "      <th>Wire 7</th>\n",
       "      <th>Wire 8</th>\n",
       "      <th>Wire 9</th>\n",
       "    </tr>\n",
       "  </thead>\n",
       "  <tbody>\n",
       "    <tr>\n",
       "      <th>count</th>\n",
       "      <td>3055</td>\n",
       "      <td>1079</td>\n",
       "      <td>63</td>\n",
       "      <td>14</td>\n",
       "      <td>1</td>\n",
       "      <td>73</td>\n",
       "      <td>11</td>\n",
       "      <td>19</td>\n",
       "      <td>29</td>\n",
       "    </tr>\n",
       "    <tr>\n",
       "      <th>mean</th>\n",
       "      <td>2019-07-05 23:22:34.279541760</td>\n",
       "      <td>2019-07-07 01:07:08.735866624</td>\n",
       "      <td>2019-07-10 15:09:58.650793472</td>\n",
       "      <td>2019-07-11 13:44:37</td>\n",
       "      <td>2019-08-13 06:14:30</td>\n",
       "      <td>2019-07-07 11:51:15.095890432</td>\n",
       "      <td>2019-08-07 01:16:08.090909184</td>\n",
       "      <td>2019-06-23 07:47:49.052631552</td>\n",
       "      <td>2019-07-01 11:56:04.793103616</td>\n",
       "    </tr>\n",
       "    <tr>\n",
       "      <th>min</th>\n",
       "      <td>2019-05-03 11:06:19</td>\n",
       "      <td>2019-05-03 13:15:34</td>\n",
       "      <td>2019-05-04 04:34:27</td>\n",
       "      <td>2019-05-07 15:19:17</td>\n",
       "      <td>2019-08-13 06:14:30</td>\n",
       "      <td>2019-05-07 14:46:05</td>\n",
       "      <td>2019-07-27 05:49:05</td>\n",
       "      <td>2019-05-14 11:29:24</td>\n",
       "      <td>2019-05-04 17:21:27</td>\n",
       "    </tr>\n",
       "    <tr>\n",
       "      <th>25%</th>\n",
       "      <td>2019-06-04 19:30:11.500000</td>\n",
       "      <td>2019-06-05 14:50:26.500000</td>\n",
       "      <td>2019-06-11 14:17:38.500000</td>\n",
       "      <td>2019-07-20 17:58:53.750000128</td>\n",
       "      <td>2019-08-13 06:14:30</td>\n",
       "      <td>2019-05-08 21:47:30</td>\n",
       "      <td>2019-07-27 16:27:27</td>\n",
       "      <td>2019-05-14 14:20:07.500000</td>\n",
       "      <td>2019-06-09 19:36:17</td>\n",
       "    </tr>\n",
       "    <tr>\n",
       "      <th>50%</th>\n",
       "      <td>2019-07-03 06:36:23</td>\n",
       "      <td>2019-07-04 23:13:39</td>\n",
       "      <td>2019-07-21 10:04:47</td>\n",
       "      <td>2019-07-27 05:45:26.500000</td>\n",
       "      <td>2019-08-13 06:14:30</td>\n",
       "      <td>2019-07-28 05:00:32</td>\n",
       "      <td>2019-08-12 21:48:11</td>\n",
       "      <td>2019-05-14 16:55:09</td>\n",
       "      <td>2019-06-11 10:10:21</td>\n",
       "    </tr>\n",
       "    <tr>\n",
       "      <th>75%</th>\n",
       "      <td>2019-08-08 08:56:06.500000</td>\n",
       "      <td>2019-08-08 23:15:17</td>\n",
       "      <td>2019-08-12 22:54:46</td>\n",
       "      <td>2019-07-27 16:20:04.750000128</td>\n",
       "      <td>2019-08-13 06:14:30</td>\n",
       "      <td>2019-08-13 13:33:02</td>\n",
       "      <td>2019-08-13 02:02:55.500000</td>\n",
       "      <td>2019-08-16 05:06:53.500000</td>\n",
       "      <td>2019-08-09 06:49:04</td>\n",
       "    </tr>\n",
       "    <tr>\n",
       "      <th>max</th>\n",
       "      <td>2019-09-06 17:10:06</td>\n",
       "      <td>2019-09-06 07:35:40</td>\n",
       "      <td>2019-09-02 07:14:44</td>\n",
       "      <td>2019-08-13 03:16:45</td>\n",
       "      <td>2019-08-13 06:14:30</td>\n",
       "      <td>2019-08-18 19:10:56</td>\n",
       "      <td>2019-08-13 10:25:22</td>\n",
       "      <td>2019-08-16 08:56:23</td>\n",
       "      <td>2019-09-03 12:55:23</td>\n",
       "    </tr>\n",
       "  </tbody>\n",
       "</table>\n",
       "</div>"
      ],
      "text/plain": [
       "                              Wire 1                         Wire 2  \\\n",
       "count                           3055                           1079   \n",
       "mean   2019-07-05 23:22:34.279541760  2019-07-07 01:07:08.735866624   \n",
       "min              2019-05-03 11:06:19            2019-05-03 13:15:34   \n",
       "25%       2019-06-04 19:30:11.500000     2019-06-05 14:50:26.500000   \n",
       "50%              2019-07-03 06:36:23            2019-07-04 23:13:39   \n",
       "75%       2019-08-08 08:56:06.500000            2019-08-08 23:15:17   \n",
       "max              2019-09-06 17:10:06            2019-09-06 07:35:40   \n",
       "\n",
       "                              Wire 3                         Wire 4  \\\n",
       "count                             63                             14   \n",
       "mean   2019-07-10 15:09:58.650793472            2019-07-11 13:44:37   \n",
       "min              2019-05-04 04:34:27            2019-05-07 15:19:17   \n",
       "25%       2019-06-11 14:17:38.500000  2019-07-20 17:58:53.750000128   \n",
       "50%              2019-07-21 10:04:47     2019-07-27 05:45:26.500000   \n",
       "75%              2019-08-12 22:54:46  2019-07-27 16:20:04.750000128   \n",
       "max              2019-09-02 07:14:44            2019-08-13 03:16:45   \n",
       "\n",
       "                    Wire 5                         Wire 6  \\\n",
       "count                    1                             73   \n",
       "mean   2019-08-13 06:14:30  2019-07-07 11:51:15.095890432   \n",
       "min    2019-08-13 06:14:30            2019-05-07 14:46:05   \n",
       "25%    2019-08-13 06:14:30            2019-05-08 21:47:30   \n",
       "50%    2019-08-13 06:14:30            2019-07-28 05:00:32   \n",
       "75%    2019-08-13 06:14:30            2019-08-13 13:33:02   \n",
       "max    2019-08-13 06:14:30            2019-08-18 19:10:56   \n",
       "\n",
       "                              Wire 7                         Wire 8  \\\n",
       "count                             11                             19   \n",
       "mean   2019-08-07 01:16:08.090909184  2019-06-23 07:47:49.052631552   \n",
       "min              2019-07-27 05:49:05            2019-05-14 11:29:24   \n",
       "25%              2019-07-27 16:27:27     2019-05-14 14:20:07.500000   \n",
       "50%              2019-08-12 21:48:11            2019-05-14 16:55:09   \n",
       "75%       2019-08-13 02:02:55.500000     2019-08-16 05:06:53.500000   \n",
       "max              2019-08-13 10:25:22            2019-08-16 08:56:23   \n",
       "\n",
       "                              Wire 9  \n",
       "count                             29  \n",
       "mean   2019-07-01 11:56:04.793103616  \n",
       "min              2019-05-04 17:21:27  \n",
       "25%              2019-06-09 19:36:17  \n",
       "50%              2019-06-11 10:10:21  \n",
       "75%              2019-08-09 06:49:04  \n",
       "max              2019-09-03 12:55:23  "
      ]
     },
     "execution_count": 38,
     "metadata": {},
     "output_type": "execute_result"
    }
   ],
   "source": [
    "df_wire_time.describe(datetime_is_numeric=True)"
   ]
  },
  {
   "cell_type": "code",
   "execution_count": 39,
   "metadata": {
    "id": "J876y39ylJmf"
   },
   "outputs": [
    {
     "data": {
      "text/plain": [
       "Wire 1    True\n",
       "Wire 2    True\n",
       "Wire 3    True\n",
       "Wire 4    True\n",
       "Wire 5    True\n",
       "Wire 6    True\n",
       "Wire 7    True\n",
       "Wire 8    True\n",
       "Wire 9    True\n",
       "dtype: bool"
      ]
     },
     "execution_count": 39,
     "metadata": {},
     "output_type": "execute_result"
    }
   ],
   "source": [
    "df_wire_time.apply(lambda x: x.dropna().is_monotonic_increasing)"
   ]
  },
  {
   "attachments": {},
   "cell_type": "markdown",
   "metadata": {
    "id": "o0rZAZbv5njr"
   },
   "source": [
    "**Выводы по разделу 1:**\n",
    "- **Данные об электродах.** Ок. 15000 строк, пропусков нет. Временные отметки расположены по возрастанию. Можно использовать их для объединения с другими таблицами, а затем заменить их на столбец с продолжительностью воздействия. Также можно создать столбец с полной мощностью и заменить им два соответствующих. В столбце с реактивной мощностью есть один выброс; считаю, что мощность там указана в других единицах и значение нужно разделить на 1000. Неизвестны единицы измерения мощности.\n",
    "- **Данные о подаче сыпучих материалов.** 3129 строк - по одной на каждую партию. Много пропусков: скорее всего, пропуск означает, что данный материал не использовался - заполняем пропуски нулями. Названий материалов нет: предположительно, это коммерческая тайна. В данных о материале 12 есть выброс - неестественно большое значение, эту строку удалим. Если материал не использовался - ставим 0. При этом, в некоторых партиях сыпучие материалы не применялись.\n",
    "- **Данные о продувке сплава газом.** Один столбец, без пропусков и выбросов. Не указана сама величина (наверное, объём) и единицы измерения.\n",
    "- **Результаты измерения температуры.** Целевой признак. Измерения проводились перед каждой итерацией нагревания. Более 3000 пропусков. Их нужно удалить после объединения с другими таблицами.\n",
    "- **Данные о проволочных материалах.** Данные о каждой партии. Большое количество пропусков. По-видимому таких материалов используется немного, заполним пропуски нулями. Выбросов нет."
   ]
  },
  {
   "attachments": {},
   "cell_type": "markdown",
   "metadata": {},
   "source": [
    "\n",
    "## 2. <a id='toc2_'></a>[План работ по проекту](#toc0_)"
   ]
  },
  {
   "attachments": {},
   "cell_type": "markdown",
   "metadata": {
    "id": "PlQ_j3_7pZZv"
   },
   "source": [
    "1. Провести предобработку данных: обработать пропуски и выбросы, добавить необходимые признаки, объединить таблицы в итоговую.\n",
    "2. Разработать модель предсказания температуры: опробовать линейную регрессию, случайный лес, градиентный бустинг LightGBM иполносвязную нейросеть.\n",
    "3. Измерить качество модели на тестовой выборке, изучить значимость признаков, сделать выводы."
   ]
  },
  {
   "attachments": {},
   "cell_type": "markdown",
   "metadata": {},
   "source": [
    "## 3. <a id='toc3_'></a>[Вопросы по процессу](#toc0_)"
   ]
  },
  {
   "attachments": {},
   "cell_type": "markdown",
   "metadata": {
    "id": "z80v8tY9se4f"
   },
   "source": [
    "Ответы получены на встрече с \"заказчиком\" (наставником проекта).\n",
    "1. Какую метрику качества стоит использовать и какого значения необхдимо достигнуть?\n",
    "МАЕ <= 6.8.\n",
    "2. Что более важно: качество предсказания или скорость работы?\n",
    "Важность примерно одинакова.\n",
    "3. Модель должна прогнозировать температуру после каждого акта нагревания?\n",
    "Для каждой партии металла.\n",
    "4. Как предсказание температуры поможет сэкономить электроэнергию?\n",
    "Чтобы не нагревать металл до температуры, выше необходимой. Также модель может быть частью другой, более крупной модели."
   ]
  },
  {
   "attachments": {},
   "cell_type": "markdown",
   "metadata": {},
   "source": [
    "## 4. <a id='toc4_'></a>[Предобработка данных](#toc0_)"
   ]
  },
  {
   "attachments": {},
   "cell_type": "markdown",
   "metadata": {
    "id": "Z2b7tS-_L1rr"
   },
   "source": [
    "Данные об электродах сгруппируем по номеру партии и выделим следующие признаки: работа эл. тока (время нагревания умножим на активную мощность и просуммируем по всем итерациям данной партии), средняя мощность на электродах."
   ]
  },
  {
   "cell_type": "code",
   "execution_count": 40,
   "metadata": {
    "id": "sDrn0kbzR_7l"
   },
   "outputs": [
    {
     "data": {
      "text/html": [
       "<div>\n",
       "<style scoped>\n",
       "    .dataframe tbody tr th:only-of-type {\n",
       "        vertical-align: middle;\n",
       "    }\n",
       "\n",
       "    .dataframe tbody tr th {\n",
       "        vertical-align: top;\n",
       "    }\n",
       "\n",
       "    .dataframe thead th {\n",
       "        text-align: right;\n",
       "    }\n",
       "</style>\n",
       "<table border=\"1\" class=\"dataframe\">\n",
       "  <thead>\n",
       "    <tr style=\"text-align: right;\">\n",
       "      <th></th>\n",
       "      <th>total_heat</th>\n",
       "      <th>mean_power</th>\n",
       "    </tr>\n",
       "    <tr>\n",
       "      <th>key</th>\n",
       "      <th></th>\n",
       "      <th></th>\n",
       "    </tr>\n",
       "  </thead>\n",
       "  <tbody>\n",
       "    <tr>\n",
       "      <th>1</th>\n",
       "      <td>628.616930</td>\n",
       "      <td>0.607346</td>\n",
       "    </tr>\n",
       "    <tr>\n",
       "      <th>2</th>\n",
       "      <td>395.281800</td>\n",
       "      <td>0.534852</td>\n",
       "    </tr>\n",
       "    <tr>\n",
       "      <th>3</th>\n",
       "      <td>581.774624</td>\n",
       "      <td>0.812728</td>\n",
       "    </tr>\n",
       "    <tr>\n",
       "      <th>4</th>\n",
       "      <td>543.710274</td>\n",
       "      <td>0.676622</td>\n",
       "    </tr>\n",
       "    <tr>\n",
       "      <th>5</th>\n",
       "      <td>412.180480</td>\n",
       "      <td>0.563238</td>\n",
       "    </tr>\n",
       "  </tbody>\n",
       "</table>\n",
       "</div>"
      ],
      "text/plain": [
       "     total_heat  mean_power\n",
       "key                        \n",
       "1    628.616930    0.607346\n",
       "2    395.281800    0.534852\n",
       "3    581.774624    0.812728\n",
       "4    543.710274    0.676622\n",
       "5    412.180480    0.563238"
      ]
     },
     "execution_count": 40,
     "metadata": {},
     "output_type": "execute_result"
    }
   ],
   "source": [
    "df_arc['heating_time'] = (df_arc['Конец нагрева дугой'] - df_arc['Начало нагрева дугой']).dt.seconds\n",
    "df_arc['total_heat'] = df_arc['heating_time'] * df_arc['Активная мощность']\n",
    "\n",
    "df_arc_upd = pd.pivot_table(df_arc, index='key', values=['total_heat', 'Активная мощность'],\n",
    "                            aggfunc={'total_heat': 'sum', 'Активная мощность':'mean'})\\\n",
    "                .set_axis(['total_heat', 'mean_power'], axis='columns')\n",
    "\n",
    "df_arc_upd.head()"
   ]
  },
  {
   "attachments": {},
   "cell_type": "markdown",
   "metadata": {
    "id": "AxVUsTFFc_AH"
   },
   "source": [
    "В данных о сыпучих веществах удалим выброс, столбцы о редко используемых материалах (1, 2, 5-11, 13) объединим в один, суммируя их объёмы. Пропуски заполняем нулями."
   ]
  },
  {
   "cell_type": "code",
   "execution_count": 41,
   "metadata": {
    "colab": {
     "base_uri": "https://localhost:8080/",
     "height": 238
    },
    "id": "cWHR8M2VTuNT",
    "outputId": "627f270c-813e-4718-ca31-451eabe57712"
   },
   "outputs": [
    {
     "data": {
      "text/html": [
       "<div>\n",
       "<style scoped>\n",
       "    .dataframe tbody tr th:only-of-type {\n",
       "        vertical-align: middle;\n",
       "    }\n",
       "\n",
       "    .dataframe tbody tr th {\n",
       "        vertical-align: top;\n",
       "    }\n",
       "\n",
       "    .dataframe thead th {\n",
       "        text-align: right;\n",
       "    }\n",
       "</style>\n",
       "<table border=\"1\" class=\"dataframe\">\n",
       "  <thead>\n",
       "    <tr style=\"text-align: right;\">\n",
       "      <th></th>\n",
       "      <th>Bulk 3</th>\n",
       "      <th>Bulk 4</th>\n",
       "      <th>Bulk 12</th>\n",
       "      <th>Bulk 14</th>\n",
       "      <th>Bulk 15</th>\n",
       "      <th>other_bulks</th>\n",
       "    </tr>\n",
       "    <tr>\n",
       "      <th>key</th>\n",
       "      <th></th>\n",
       "      <th></th>\n",
       "      <th></th>\n",
       "      <th></th>\n",
       "      <th></th>\n",
       "      <th></th>\n",
       "    </tr>\n",
       "  </thead>\n",
       "  <tbody>\n",
       "    <tr>\n",
       "      <th>1</th>\n",
       "      <td>0.0</td>\n",
       "      <td>43.0</td>\n",
       "      <td>206.0</td>\n",
       "      <td>150.0</td>\n",
       "      <td>154.0</td>\n",
       "      <td>0.0</td>\n",
       "    </tr>\n",
       "    <tr>\n",
       "      <th>2</th>\n",
       "      <td>0.0</td>\n",
       "      <td>73.0</td>\n",
       "      <td>206.0</td>\n",
       "      <td>149.0</td>\n",
       "      <td>154.0</td>\n",
       "      <td>0.0</td>\n",
       "    </tr>\n",
       "    <tr>\n",
       "      <th>3</th>\n",
       "      <td>0.0</td>\n",
       "      <td>34.0</td>\n",
       "      <td>205.0</td>\n",
       "      <td>152.0</td>\n",
       "      <td>153.0</td>\n",
       "      <td>0.0</td>\n",
       "    </tr>\n",
       "    <tr>\n",
       "      <th>4</th>\n",
       "      <td>0.0</td>\n",
       "      <td>81.0</td>\n",
       "      <td>207.0</td>\n",
       "      <td>153.0</td>\n",
       "      <td>154.0</td>\n",
       "      <td>0.0</td>\n",
       "    </tr>\n",
       "    <tr>\n",
       "      <th>5</th>\n",
       "      <td>0.0</td>\n",
       "      <td>78.0</td>\n",
       "      <td>203.0</td>\n",
       "      <td>151.0</td>\n",
       "      <td>152.0</td>\n",
       "      <td>0.0</td>\n",
       "    </tr>\n",
       "  </tbody>\n",
       "</table>\n",
       "</div>"
      ],
      "text/plain": [
       "     Bulk 3  Bulk 4  Bulk 12  Bulk 14  Bulk 15  other_bulks\n",
       "key                                                        \n",
       "1       0.0    43.0    206.0    150.0    154.0          0.0\n",
       "2       0.0    73.0    206.0    149.0    154.0          0.0\n",
       "3       0.0    34.0    205.0    152.0    153.0          0.0\n",
       "4       0.0    81.0    207.0    153.0    154.0          0.0\n",
       "5       0.0    78.0    203.0    151.0    152.0          0.0"
      ]
     },
     "execution_count": 41,
     "metadata": {},
     "output_type": "execute_result"
    }
   ],
   "source": [
    "rarely_used_bulks = ['Bulk 1', 'Bulk 2', 'Bulk 5', 'Bulk 6', 'Bulk 7', 'Bulk 8', 'Bulk 9', 'Bulk 10', 'Bulk 11', 'Bulk 13']\n",
    "\n",
    "df_bulk_upd = df_bulk.copy() #[df_bulk['Bulk 12'] < 1000].copy()\n",
    "df_bulk_upd['other_bulks'] = df_bulk_upd[rarely_used_bulks].sum(axis='columns')\n",
    "df_bulk_upd = df_bulk_upd.drop(columns=rarely_used_bulks).fillna(0)\n",
    "\n",
    "df_bulk_upd.head()"
   ]
  },
  {
   "attachments": {},
   "cell_type": "markdown",
   "metadata": {
    "id": "S4nZ7LoEmOFk"
   },
   "source": [
    "Из данных о проволочных материалах оставим первый столбец (т.к. этот материал часто используется), остальные - так же сумммируем и заполняем нулями"
   ]
  },
  {
   "cell_type": "code",
   "execution_count": 42,
   "metadata": {
    "colab": {
     "base_uri": "https://localhost:8080/",
     "height": 238
    },
    "id": "UFLFYHOjnTaS",
    "outputId": "6efbc4b7-9eb0-43e0-cd75-a6bf09c88158"
   },
   "outputs": [
    {
     "data": {
      "text/html": [
       "<div>\n",
       "<style scoped>\n",
       "    .dataframe tbody tr th:only-of-type {\n",
       "        vertical-align: middle;\n",
       "    }\n",
       "\n",
       "    .dataframe tbody tr th {\n",
       "        vertical-align: top;\n",
       "    }\n",
       "\n",
       "    .dataframe thead th {\n",
       "        text-align: right;\n",
       "    }\n",
       "</style>\n",
       "<table border=\"1\" class=\"dataframe\">\n",
       "  <thead>\n",
       "    <tr style=\"text-align: right;\">\n",
       "      <th></th>\n",
       "      <th>wire_1</th>\n",
       "      <th>other_wires</th>\n",
       "    </tr>\n",
       "    <tr>\n",
       "      <th>key</th>\n",
       "      <th></th>\n",
       "      <th></th>\n",
       "    </tr>\n",
       "  </thead>\n",
       "  <tbody>\n",
       "    <tr>\n",
       "      <th>1</th>\n",
       "      <td>60.059998</td>\n",
       "      <td>0.00000</td>\n",
       "    </tr>\n",
       "    <tr>\n",
       "      <th>2</th>\n",
       "      <td>96.052315</td>\n",
       "      <td>0.00000</td>\n",
       "    </tr>\n",
       "    <tr>\n",
       "      <th>3</th>\n",
       "      <td>91.160157</td>\n",
       "      <td>0.00000</td>\n",
       "    </tr>\n",
       "    <tr>\n",
       "      <th>4</th>\n",
       "      <td>89.063515</td>\n",
       "      <td>0.00000</td>\n",
       "    </tr>\n",
       "    <tr>\n",
       "      <th>5</th>\n",
       "      <td>89.238236</td>\n",
       "      <td>9.11456</td>\n",
       "    </tr>\n",
       "  </tbody>\n",
       "</table>\n",
       "</div>"
      ],
      "text/plain": [
       "        wire_1  other_wires\n",
       "key                        \n",
       "1    60.059998      0.00000\n",
       "2    96.052315      0.00000\n",
       "3    91.160157      0.00000\n",
       "4    89.063515      0.00000\n",
       "5    89.238236      9.11456"
      ]
     },
     "execution_count": 42,
     "metadata": {},
     "output_type": "execute_result"
    }
   ],
   "source": [
    "df_wire_upd = pd.concat([df_wire['Wire 1'].copy(), df_wire.iloc[:, 1:].sum(axis='columns')], axis='columns')\\\n",
    "                .fillna(0).set_axis(['wire_1', 'other_wires'], axis='columns')\n",
    "df_wire_upd.head()"
   ]
  },
  {
   "attachments": {},
   "cell_type": "markdown",
   "metadata": {
    "id": "YFI5o0o04CEP"
   },
   "source": [
    "Из данных о измеренной температуре возьмём начальную и конечную температуру партии, последняя - целевой признак. Оставим только те строки, где есть конечная температура."
   ]
  },
  {
   "cell_type": "code",
   "execution_count": 43,
   "metadata": {
    "colab": {
     "base_uri": "https://localhost:8080/",
     "height": 238
    },
    "id": "WGwGIc3Z6cY-",
    "outputId": "7c63c66b-6b1c-4169-c9c5-8ae80c0e56c6"
   },
   "outputs": [
    {
     "data": {
      "text/html": [
       "<div>\n",
       "<style scoped>\n",
       "    .dataframe tbody tr th:only-of-type {\n",
       "        vertical-align: middle;\n",
       "    }\n",
       "\n",
       "    .dataframe tbody tr th {\n",
       "        vertical-align: top;\n",
       "    }\n",
       "\n",
       "    .dataframe thead th {\n",
       "        text-align: right;\n",
       "    }\n",
       "</style>\n",
       "<table border=\"1\" class=\"dataframe\">\n",
       "  <thead>\n",
       "    <tr style=\"text-align: right;\">\n",
       "      <th></th>\n",
       "      <th>start_temp</th>\n",
       "      <th>final_temp</th>\n",
       "    </tr>\n",
       "    <tr>\n",
       "      <th>key</th>\n",
       "      <th></th>\n",
       "      <th></th>\n",
       "    </tr>\n",
       "  </thead>\n",
       "  <tbody>\n",
       "    <tr>\n",
       "      <th>1</th>\n",
       "      <td>1571.0</td>\n",
       "      <td>1613.0</td>\n",
       "    </tr>\n",
       "    <tr>\n",
       "      <th>2</th>\n",
       "      <td>1581.0</td>\n",
       "      <td>1602.0</td>\n",
       "    </tr>\n",
       "    <tr>\n",
       "      <th>3</th>\n",
       "      <td>1596.0</td>\n",
       "      <td>1599.0</td>\n",
       "    </tr>\n",
       "    <tr>\n",
       "      <th>4</th>\n",
       "      <td>1601.0</td>\n",
       "      <td>1625.0</td>\n",
       "    </tr>\n",
       "    <tr>\n",
       "      <th>5</th>\n",
       "      <td>1576.0</td>\n",
       "      <td>1602.0</td>\n",
       "    </tr>\n",
       "  </tbody>\n",
       "</table>\n",
       "</div>"
      ],
      "text/plain": [
       "     start_temp  final_temp\n",
       "key                        \n",
       "1        1571.0      1613.0\n",
       "2        1581.0      1602.0\n",
       "3        1596.0      1599.0\n",
       "4        1601.0      1625.0\n",
       "5        1576.0      1602.0"
      ]
     },
     "execution_count": 43,
     "metadata": {},
     "output_type": "execute_result"
    }
   ],
   "source": [
    "df_temp_upd = df_temp.fillna(0)\\\n",
    "                     .pivot_table(index='key', values='Температура', aggfunc=['first', 'last'])\\\n",
    "                     .set_axis(['start_temp', 'final_temp'], axis='columns')\n",
    "\n",
    "df_temp_upd = df_temp_upd.loc[df_temp_upd['final_temp'] != 0]\n",
    "df_temp_upd.head()"
   ]
  },
  {
   "attachments": {},
   "cell_type": "markdown",
   "metadata": {
    "id": "F68baGdT7tCe"
   },
   "source": [
    "Теперь объединим обработанные таблицы по номеру партии, информация о которых есть во всех таблицах."
   ]
  },
  {
   "cell_type": "code",
   "execution_count": 44,
   "metadata": {
    "colab": {
     "base_uri": "https://localhost:8080/",
     "height": 238
    },
    "id": "YmiYhcZP97ez",
    "outputId": "52064b31-91d0-4c38-96c3-a9926a62d638"
   },
   "outputs": [
    {
     "data": {
      "text/html": [
       "<div>\n",
       "<style scoped>\n",
       "    .dataframe tbody tr th:only-of-type {\n",
       "        vertical-align: middle;\n",
       "    }\n",
       "\n",
       "    .dataframe tbody tr th {\n",
       "        vertical-align: top;\n",
       "    }\n",
       "\n",
       "    .dataframe thead th {\n",
       "        text-align: right;\n",
       "    }\n",
       "</style>\n",
       "<table border=\"1\" class=\"dataframe\">\n",
       "  <thead>\n",
       "    <tr style=\"text-align: right;\">\n",
       "      <th></th>\n",
       "      <th>total_heat</th>\n",
       "      <th>mean_power</th>\n",
       "      <th>Bulk 3</th>\n",
       "      <th>Bulk 4</th>\n",
       "      <th>Bulk 12</th>\n",
       "      <th>Bulk 14</th>\n",
       "      <th>Bulk 15</th>\n",
       "      <th>other_bulks</th>\n",
       "      <th>gas</th>\n",
       "      <th>start_temp</th>\n",
       "      <th>final_temp</th>\n",
       "      <th>wire_1</th>\n",
       "      <th>other_wires</th>\n",
       "    </tr>\n",
       "    <tr>\n",
       "      <th>key</th>\n",
       "      <th></th>\n",
       "      <th></th>\n",
       "      <th></th>\n",
       "      <th></th>\n",
       "      <th></th>\n",
       "      <th></th>\n",
       "      <th></th>\n",
       "      <th></th>\n",
       "      <th></th>\n",
       "      <th></th>\n",
       "      <th></th>\n",
       "      <th></th>\n",
       "      <th></th>\n",
       "    </tr>\n",
       "  </thead>\n",
       "  <tbody>\n",
       "    <tr>\n",
       "      <th>1</th>\n",
       "      <td>628.616930</td>\n",
       "      <td>0.607346</td>\n",
       "      <td>0.0</td>\n",
       "      <td>43.0</td>\n",
       "      <td>206.0</td>\n",
       "      <td>150.0</td>\n",
       "      <td>154.0</td>\n",
       "      <td>0.0</td>\n",
       "      <td>29.749986</td>\n",
       "      <td>1571.0</td>\n",
       "      <td>1613.0</td>\n",
       "      <td>60.059998</td>\n",
       "      <td>0.00000</td>\n",
       "    </tr>\n",
       "    <tr>\n",
       "      <th>2</th>\n",
       "      <td>395.281800</td>\n",
       "      <td>0.534852</td>\n",
       "      <td>0.0</td>\n",
       "      <td>73.0</td>\n",
       "      <td>206.0</td>\n",
       "      <td>149.0</td>\n",
       "      <td>154.0</td>\n",
       "      <td>0.0</td>\n",
       "      <td>12.555561</td>\n",
       "      <td>1581.0</td>\n",
       "      <td>1602.0</td>\n",
       "      <td>96.052315</td>\n",
       "      <td>0.00000</td>\n",
       "    </tr>\n",
       "    <tr>\n",
       "      <th>3</th>\n",
       "      <td>581.774624</td>\n",
       "      <td>0.812728</td>\n",
       "      <td>0.0</td>\n",
       "      <td>34.0</td>\n",
       "      <td>205.0</td>\n",
       "      <td>152.0</td>\n",
       "      <td>153.0</td>\n",
       "      <td>0.0</td>\n",
       "      <td>28.554793</td>\n",
       "      <td>1596.0</td>\n",
       "      <td>1599.0</td>\n",
       "      <td>91.160157</td>\n",
       "      <td>0.00000</td>\n",
       "    </tr>\n",
       "    <tr>\n",
       "      <th>4</th>\n",
       "      <td>543.710274</td>\n",
       "      <td>0.676622</td>\n",
       "      <td>0.0</td>\n",
       "      <td>81.0</td>\n",
       "      <td>207.0</td>\n",
       "      <td>153.0</td>\n",
       "      <td>154.0</td>\n",
       "      <td>0.0</td>\n",
       "      <td>18.841219</td>\n",
       "      <td>1601.0</td>\n",
       "      <td>1625.0</td>\n",
       "      <td>89.063515</td>\n",
       "      <td>0.00000</td>\n",
       "    </tr>\n",
       "    <tr>\n",
       "      <th>5</th>\n",
       "      <td>412.180480</td>\n",
       "      <td>0.563238</td>\n",
       "      <td>0.0</td>\n",
       "      <td>78.0</td>\n",
       "      <td>203.0</td>\n",
       "      <td>151.0</td>\n",
       "      <td>152.0</td>\n",
       "      <td>0.0</td>\n",
       "      <td>5.413692</td>\n",
       "      <td>1576.0</td>\n",
       "      <td>1602.0</td>\n",
       "      <td>89.238236</td>\n",
       "      <td>9.11456</td>\n",
       "    </tr>\n",
       "  </tbody>\n",
       "</table>\n",
       "</div>"
      ],
      "text/plain": [
       "     total_heat  mean_power  Bulk 3  Bulk 4  Bulk 12  Bulk 14  Bulk 15  \\\n",
       "key                                                                      \n",
       "1    628.616930    0.607346     0.0    43.0    206.0    150.0    154.0   \n",
       "2    395.281800    0.534852     0.0    73.0    206.0    149.0    154.0   \n",
       "3    581.774624    0.812728     0.0    34.0    205.0    152.0    153.0   \n",
       "4    543.710274    0.676622     0.0    81.0    207.0    153.0    154.0   \n",
       "5    412.180480    0.563238     0.0    78.0    203.0    151.0    152.0   \n",
       "\n",
       "     other_bulks        gas  start_temp  final_temp     wire_1  other_wires  \n",
       "key                                                                          \n",
       "1            0.0  29.749986      1571.0      1613.0  60.059998      0.00000  \n",
       "2            0.0  12.555561      1581.0      1602.0  96.052315      0.00000  \n",
       "3            0.0  28.554793      1596.0      1599.0  91.160157      0.00000  \n",
       "4            0.0  18.841219      1601.0      1625.0  89.063515      0.00000  \n",
       "5            0.0   5.413692      1576.0      1602.0  89.238236      9.11456  "
      ]
     },
     "execution_count": 44,
     "metadata": {},
     "output_type": "execute_result"
    }
   ],
   "source": [
    "df_final = df_arc_upd.merge(df_bulk_upd, how='inner', on='key')\\\n",
    "                     .merge(df_gas, how='inner', on='key')\\\n",
    "                     .merge(df_temp_upd, how='inner', on='key')\\\n",
    "                     .merge(df_wire_upd, how='inner', on='key')\\\n",
    "                     .rename({'Газ 1': 'gas'}, axis='columns')\n",
    "\n",
    "df_final.head()"
   ]
  },
  {
   "cell_type": "code",
   "execution_count": 45,
   "metadata": {
    "colab": {
     "base_uri": "https://localhost:8080/"
    },
    "id": "eVZJYdTwIH0u",
    "outputId": "5e1c3c2c-c708-4a5f-e163-d8f00df413d1"
   },
   "outputs": [
    {
     "name": "stdout",
     "output_type": "stream",
     "text": [
      "<class 'pandas.core.frame.DataFrame'>\n",
      "Int64Index: 2329 entries, 1 to 2499\n",
      "Data columns (total 13 columns):\n",
      " #   Column       Non-Null Count  Dtype  \n",
      "---  ------       --------------  -----  \n",
      " 0   total_heat   2329 non-null   float64\n",
      " 1   mean_power   2329 non-null   float64\n",
      " 2   Bulk 3       2329 non-null   float64\n",
      " 3   Bulk 4       2329 non-null   float64\n",
      " 4   Bulk 12      2329 non-null   float64\n",
      " 5   Bulk 14      2329 non-null   float64\n",
      " 6   Bulk 15      2329 non-null   float64\n",
      " 7   other_bulks  2329 non-null   float64\n",
      " 8   gas          2329 non-null   float64\n",
      " 9   start_temp   2329 non-null   float64\n",
      " 10  final_temp   2329 non-null   float64\n",
      " 11  wire_1       2329 non-null   float64\n",
      " 12  other_wires  2329 non-null   float64\n",
      "dtypes: float64(13)\n",
      "memory usage: 254.7 KB\n"
     ]
    }
   ],
   "source": [
    "df_final.info()"
   ]
  },
  {
   "attachments": {},
   "cell_type": "markdown",
   "metadata": {
    "id": "FCoYXOaMWD1q"
   },
   "source": [
    "Отделим целевой признак от остальных"
   ]
  },
  {
   "cell_type": "code",
   "execution_count": 46,
   "metadata": {
    "colab": {
     "base_uri": "https://localhost:8080/"
    },
    "id": "X2B6D6hnV5SY",
    "outputId": "bb8520bb-9b64-4a03-8dd0-dbd269993095"
   },
   "outputs": [
    {
     "data": {
      "text/plain": [
       "((2329, 12), (2329,))"
      ]
     },
     "execution_count": 46,
     "metadata": {},
     "output_type": "execute_result"
    }
   ],
   "source": [
    "features = df_final.drop(columns='final_temp').copy()\n",
    "target = df_final['final_temp'].copy()\n",
    "features.shape, target.shape"
   ]
  },
  {
   "attachments": {},
   "cell_type": "markdown",
   "metadata": {
    "id": "yWGJS_OHLJm4"
   },
   "source": [
    "Теперь проверим данные на мультиколлинеарность"
   ]
  },
  {
   "cell_type": "code",
   "execution_count": 47,
   "metadata": {
    "colab": {
     "base_uri": "https://localhost:8080/",
     "height": 511
    },
    "id": "T5E6MqBSLSBQ",
    "outputId": "64db1cb8-c54b-45e7-b069-f5a71494fc9f"
   },
   "outputs": [
    {
     "data": {
      "image/png": "[encoded data removed]",
      "text/plain": [
       "<Figure size 640x480 with 2 Axes>"
      ]
     },
     "metadata": {},
     "output_type": "display_data"
    }
   ],
   "source": [
    "sns.heatmap(features.corr().abs());"
   ]
  },
  {
   "attachments": {},
   "cell_type": "markdown",
   "metadata": {
    "id": "9idGDVgXUpLE"
   },
   "source": [
    "Высокой корреляции между признаками не наблюдается.\n",
    "\n",
    "Теперь разделим данные на трейн-валид и тест в соотношении 3:1."
   ]
  },
  {
   "cell_type": "code",
   "execution_count": 48,
   "metadata": {
    "colab": {
     "base_uri": "https://localhost:8080/"
    },
    "id": "lzdAWxRcVMz8",
    "outputId": "c97a2230-6ca5-44b7-e636-4217a05d03ad"
   },
   "outputs": [
    {
     "data": {
      "text/plain": [
       "((1746, 12), (583, 12), (1746,), (583,))"
      ]
     },
     "execution_count": 48,
     "metadata": {},
     "output_type": "execute_result"
    }
   ],
   "source": [
    "RANDOM_STATE = 80523\n",
    "features_train, features_test, target_train, target_test = train_test_split(\n",
    "                    features, target, test_size=0.25, random_state=RANDOM_STATE)\n",
    "features_train.shape, features_test.shape, target_train.shape, target_test.shape"
   ]
  },
  {
   "attachments": {},
   "cell_type": "markdown",
   "metadata": {
    "id": "-UEzl2Tw7Qyf"
   },
   "source": [
    "**Вывод по разделу 2:**\n",
    "- В данных удалены выбросы, заполнены пропуски, добавлены новые признаки, создана итоговая таблица.\n",
    "- Данные проверены на мултиколлинеарность: сильной корреляции признаков нет.\n",
    "- Соззданы обучающая и тестовая выборки."
   ]
  },
  {
   "attachments": {},
   "cell_type": "markdown",
   "metadata": {},
   "source": [
    "## 5. <a id='toc5_'></a>[Обучение моделей](#toc0_)"
   ]
  },
  {
   "attachments": {},
   "cell_type": "markdown",
   "metadata": {
    "id": "WCL6ajVwLDdz"
   },
   "source": [
    "Первоначально обучим модель линейной регрессии."
   ]
  },
  {
   "cell_type": "code",
   "execution_count": 49,
   "metadata": {
    "id": "nSnwV0AEU8tb"
   },
   "outputs": [],
   "source": [
    "lr_pipeline = Pipeline(steps=[('scaler', StandardScaler()),\n",
    "                              ('model', LinearRegression())])\n",
    "\n",
    "params = {'model': [LinearRegression()]}\n",
    "\n",
    "lr_grid = HalvingGridSearchCV(lr_pipeline, params, scoring='neg_mean_absolute_error',\n",
    "                                cv=5, verbose=10, n_jobs=-1, random_state=RANDOM_STATE)"
   ]
  },
  {
   "cell_type": "code",
   "execution_count": 50,
   "metadata": {
    "colab": {
     "base_uri": "https://localhost:8080/",
     "height": 395
    },
    "id": "YK8l5ZJseO31",
    "outputId": "64048916-2c4a-4ed8-d0d7-3c1fbaf52c0a",
    "scrolled": true
   },
   "outputs": [
    {
     "name": "stdout",
     "output_type": "stream",
     "text": [
      "n_iterations: 1\n",
      "n_required_iterations: 1\n",
      "n_possible_iterations: 1\n",
      "min_resources_: 1746\n",
      "max_resources_: 1746\n",
      "aggressive_elimination: False\n",
      "factor: 3\n",
      "----------\n",
      "iter: 0\n",
      "n_candidates: 1\n",
      "n_resources: 1746\n",
      "Fitting 5 folds for each of 1 candidates, totalling 5 fits\n",
      "CPU times: total: 93.8 ms\n",
      "Wall time: 9.17 s\n"
     ]
    },
    {
     "data": {
      "text/html": [
       "<style>#sk-container-id-1 {color: black;background-color: white;}#sk-container-id-1 pre{padding: 0;}#sk-container-id-1 div.sk-toggleable {background-color: white;}#sk-container-id-1 label.sk-toggleable__label {cursor: pointer;display: block;width: 100%;margin-bottom: 0;padding: 0.3em;box-sizing: border-box;text-align: center;}#sk-container-id-1 label.sk-toggleable__label-arrow:before {content: \"▸\";float: left;margin-right: 0.25em;color: #696969;}#sk-container-id-1 label.sk-toggleable__label-arrow:hover:before {color: black;}#sk-container-id-1 div.sk-estimator:hover label.sk-toggleable__label-arrow:before {color: black;}#sk-container-id-1 div.sk-toggleable__content {max-height: 0;max-width: 0;overflow: hidden;text-align: left;background-color: #f0f8ff;}#sk-container-id-1 div.sk-toggleable__content pre {margin: 0.2em;color: black;border-radius: 0.25em;background-color: #f0f8ff;}#sk-container-id-1 input.sk-toggleable__control:checked~div.sk-toggleable__content {max-height: 200px;max-width: 100%;overflow: auto;}#sk-container-id-1 input.sk-toggleable__control:checked~label.sk-toggleable__label-arrow:before {content: \"▾\";}#sk-container-id-1 div.sk-estimator input.sk-toggleable__control:checked~label.sk-toggleable__label {background-color: #d4ebff;}#sk-container-id-1 div.sk-label input.sk-toggleable__control:checked~label.sk-toggleable__label {background-color: #d4ebff;}#sk-container-id-1 input.sk-hidden--visually {border: 0;clip: rect(1px 1px 1px 1px);clip: rect(1px, 1px, 1px, 1px);height: 1px;margin: -1px;overflow: hidden;padding: 0;position: absolute;width: 1px;}#sk-container-id-1 div.sk-estimator {font-family: monospace;background-color: #f0f8ff;border: 1px dotted black;border-radius: 0.25em;box-sizing: border-box;margin-bottom: 0.5em;}#sk-container-id-1 div.sk-estimator:hover {background-color: #d4ebff;}#sk-container-id-1 div.sk-parallel-item::after {content: \"\";width: 100%;border-bottom: 1px solid gray;flex-grow: 1;}#sk-container-id-1 div.sk-label:hover label.sk-toggleable__label {background-color: #d4ebff;}#sk-container-id-1 div.sk-serial::before {content: \"\";position: absolute;border-left: 1px solid gray;box-sizing: border-box;top: 0;bottom: 0;left: 50%;z-index: 0;}#sk-container-id-1 div.sk-serial {display: flex;flex-direction: column;align-items: center;background-color: white;padding-right: 0.2em;padding-left: 0.2em;position: relative;}#sk-container-id-1 div.sk-item {position: relative;z-index: 1;}#sk-container-id-1 div.sk-parallel {display: flex;align-items: stretch;justify-content: center;background-color: white;position: relative;}#sk-container-id-1 div.sk-item::before, #sk-container-id-1 div.sk-parallel-item::before {content: \"\";position: absolute;border-left: 1px solid gray;box-sizing: border-box;top: 0;bottom: 0;left: 50%;z-index: -1;}#sk-container-id-1 div.sk-parallel-item {display: flex;flex-direction: column;z-index: 1;position: relative;background-color: white;}#sk-container-id-1 div.sk-parallel-item:first-child::after {align-self: flex-end;width: 50%;}#sk-container-id-1 div.sk-parallel-item:last-child::after {align-self: flex-start;width: 50%;}#sk-container-id-1 div.sk-parallel-item:only-child::after {width: 0;}#sk-container-id-1 div.sk-dashed-wrapped {border: 1px dashed gray;margin: 0 0.4em 0.5em 0.4em;box-sizing: border-box;padding-bottom: 0.4em;background-color: white;}#sk-container-id-1 div.sk-label label {font-family: monospace;font-weight: bold;display: inline-block;line-height: 1.2em;}#sk-container-id-1 div.sk-label-container {text-align: center;}#sk-container-id-1 div.sk-container {/* jupyter's `normalize.less` sets `[hidden] { display: none; }` but bootstrap.min.css set `[hidden] { display: none !important; }` so we also need the `!important` here to be able to override the default hidden behavior on the sphinx rendered scikit-learn.org. See: https://github.com/scikit-learn/scikit-learn/issues/21755 */display: inline-block !important;position: relative;}#sk-container-id-1 div.sk-text-repr-fallback {display: none;}</style><div id=\"sk-container-id-1\" class=\"sk-top-container\"><div class=\"sk-text-repr-fallback\"><pre>HalvingGridSearchCV(estimator=Pipeline(steps=[(&#x27;scaler&#x27;, StandardScaler()),\n",
       "                                              (&#x27;model&#x27;, LinearRegression())]),\n",
       "                    n_jobs=-1, param_grid={&#x27;model&#x27;: [LinearRegression()]},\n",
       "                    random_state=80523, scoring=&#x27;neg_mean_absolute_error&#x27;,\n",
       "                    verbose=10)</pre><b>In a Jupyter environment, please rerun this cell to show the HTML representation or trust the notebook. <br />On GitHub, the HTML representation is unable to render, please try loading this page with nbviewer.org.</b></div><div class=\"sk-container\" hidden><div class=\"sk-item sk-dashed-wrapped\"><div class=\"sk-label-container\"><div class=\"sk-label sk-toggleable\"><input class=\"sk-toggleable__control sk-hidden--visually\" id=\"sk-estimator-id-1\" type=\"checkbox\" ><label for=\"sk-estimator-id-1\" class=\"sk-toggleable__label sk-toggleable__label-arrow\">HalvingGridSearchCV</label><div class=\"sk-toggleable__content\"><pre>HalvingGridSearchCV(estimator=Pipeline(steps=[(&#x27;scaler&#x27;, StandardScaler()),\n",
       "                                              (&#x27;model&#x27;, LinearRegression())]),\n",
       "                    n_jobs=-1, param_grid={&#x27;model&#x27;: [LinearRegression()]},\n",
       "                    random_state=80523, scoring=&#x27;neg_mean_absolute_error&#x27;,\n",
       "                    verbose=10)</pre></div></div></div><div class=\"sk-parallel\"><div class=\"sk-parallel-item\"><div class=\"sk-item\"><div class=\"sk-label-container\"><div class=\"sk-label sk-toggleable\"><input class=\"sk-toggleable__control sk-hidden--visually\" id=\"sk-estimator-id-2\" type=\"checkbox\" ><label for=\"sk-estimator-id-2\" class=\"sk-toggleable__label sk-toggleable__label-arrow\">estimator: Pipeline</label><div class=\"sk-toggleable__content\"><pre>Pipeline(steps=[(&#x27;scaler&#x27;, StandardScaler()), (&#x27;model&#x27;, LinearRegression())])</pre></div></div></div><div class=\"sk-serial\"><div class=\"sk-item\"><div class=\"sk-serial\"><div class=\"sk-item\"><div class=\"sk-estimator sk-toggleable\"><input class=\"sk-toggleable__control sk-hidden--visually\" id=\"sk-estimator-id-3\" type=\"checkbox\" ><label for=\"sk-estimator-id-3\" class=\"sk-toggleable__label sk-toggleable__label-arrow\">StandardScaler</label><div class=\"sk-toggleable__content\"><pre>StandardScaler()</pre></div></div></div><div class=\"sk-item\"><div class=\"sk-estimator sk-toggleable\"><input class=\"sk-toggleable__control sk-hidden--visually\" id=\"sk-estimator-id-4\" type=\"checkbox\" ><label for=\"sk-estimator-id-4\" class=\"sk-toggleable__label sk-toggleable__label-arrow\">LinearRegression</label><div class=\"sk-toggleable__content\"><pre>LinearRegression()</pre></div></div></div></div></div></div></div></div></div></div></div></div>"
      ],
      "text/plain": [
       "HalvingGridSearchCV(estimator=Pipeline(steps=[('scaler', StandardScaler()),\n",
       "                                              ('model', LinearRegression())]),\n",
       "                    n_jobs=-1, param_grid={'model': [LinearRegression()]},\n",
       "                    random_state=80523, scoring='neg_mean_absolute_error',\n",
       "                    verbose=10)"
      ]
     },
     "execution_count": 50,
     "metadata": {},
     "output_type": "execute_result"
    }
   ],
   "source": [
    "%%time\n",
    "lr_grid.fit(features_train, target_train)"
   ]
  },
  {
   "cell_type": "code",
   "execution_count": 51,
   "metadata": {
    "colab": {
     "base_uri": "https://localhost:8080/"
    },
    "id": "PaRMYpRLepkd",
    "outputId": "c2076917-22d1-4b4f-9010-7d7e1fbbfdf3"
   },
   "outputs": [
    {
     "name": "stdout",
     "output_type": "stream",
     "text": [
      "Значение MAE, время обучения и время оценки:\n",
      "   mean_test_score  mean_fit_time  mean_score_time\n",
      "0         -6.61054       0.019579         0.007341\n",
      "Лучшее значение MAE: 6.610540298403103\n"
     ]
    }
   ],
   "source": [
    "print('Значение MAE, время обучения и время оценки:')\n",
    "print(pd.DataFrame(lr_grid.cv_results_)[['mean_test_score', 'mean_fit_time', 'mean_score_time']])\n",
    "print('Лучшее значение MAE:', -lr_grid.best_score_)"
   ]
  },
  {
   "attachments": {},
   "cell_type": "markdown",
   "metadata": {
    "id": "TrLuKp-Ahs9y"
   },
   "source": [
    "Линейная регрессия обучается за сотые доли секунды  (в Google Colab) и даёт среднее значение МАЕ 6.6.\n",
    "\n",
    "Теперь обучим случайный лес."
   ]
  },
  {
   "cell_type": "code",
   "execution_count": 52,
   "metadata": {
    "id": "CFL47PJuk-pG"
   },
   "outputs": [],
   "source": [
    "params = {\n",
    "    'model__max_depth' : [8, 10, 12,15, 20],\n",
    "    'model__min_samples_split' : [8, 10, 12],\n",
    "    'model__min_samples_leaf' : [8, 12, 15, 20]\n",
    "}\n",
    "rf_pipeline = Pipeline(steps=[('model', RandomForestRegressor(random_state=RANDOM_STATE))])\n",
    "\n",
    "rf_grid  = HalvingGridSearchCV(rf_pipeline, params, scoring='neg_mean_absolute_error',\n",
    "                                  cv=3, verbose=3, n_jobs=-1, max_resources=200, factor=3,\n",
    "                                  resource='model__n_estimators')"
   ]
  },
  {
   "cell_type": "code",
   "execution_count": 53,
   "metadata": {
    "colab": {
     "base_uri": "https://localhost:8080/",
     "height": 621
    },
    "id": "AKLgsOyFnKko",
    "outputId": "de01a97d-fe5b-4a6f-9c64-51748d5fbf6e"
   },
   "outputs": [
    {
     "name": "stdout",
     "output_type": "stream",
     "text": [
      "n_iterations: 4\n",
      "n_required_iterations: 4\n",
      "n_possible_iterations: 4\n",
      "min_resources_: 7\n",
      "max_resources_: 200\n",
      "aggressive_elimination: False\n",
      "factor: 3\n",
      "----------\n",
      "iter: 0\n",
      "n_candidates: 60\n",
      "n_resources: 7\n",
      "Fitting 3 folds for each of 60 candidates, totalling 180 fits\n",
      "----------\n",
      "iter: 1\n",
      "n_candidates: 20\n",
      "n_resources: 21\n",
      "Fitting 3 folds for each of 20 candidates, totalling 60 fits\n",
      "----------\n",
      "iter: 2\n",
      "n_candidates: 7\n",
      "n_resources: 63\n",
      "Fitting 3 folds for each of 7 candidates, totalling 21 fits\n",
      "----------\n",
      "iter: 3\n",
      "n_candidates: 3\n",
      "n_resources: 189\n",
      "Fitting 3 folds for each of 3 candidates, totalling 9 fits\n",
      "CPU times: total: 4.23 s\n",
      "Wall time: 42.7 s\n"
     ]
    },
    {
     "data": {
      "text/html": [
       "<style>#sk-container-id-2 {color: black;background-color: white;}#sk-container-id-2 pre{padding: 0;}#sk-container-id-2 div.sk-toggleable {background-color: white;}#sk-container-id-2 label.sk-toggleable__label {cursor: pointer;display: block;width: 100%;margin-bottom: 0;padding: 0.3em;box-sizing: border-box;text-align: center;}#sk-container-id-2 label.sk-toggleable__label-arrow:before {content: \"▸\";float: left;margin-right: 0.25em;color: #696969;}#sk-container-id-2 label.sk-toggleable__label-arrow:hover:before {color: black;}#sk-container-id-2 div.sk-estimator:hover label.sk-toggleable__label-arrow:before {color: black;}#sk-container-id-2 div.sk-toggleable__content {max-height: 0;max-width: 0;overflow: hidden;text-align: left;background-color: #f0f8ff;}#sk-container-id-2 div.sk-toggleable__content pre {margin: 0.2em;color: black;border-radius: 0.25em;background-color: #f0f8ff;}#sk-container-id-2 input.sk-toggleable__control:checked~div.sk-toggleable__content {max-height: 200px;max-width: 100%;overflow: auto;}#sk-container-id-2 input.sk-toggleable__control:checked~label.sk-toggleable__label-arrow:before {content: \"▾\";}#sk-container-id-2 div.sk-estimator input.sk-toggleable__control:checked~label.sk-toggleable__label {background-color: #d4ebff;}#sk-container-id-2 div.sk-label input.sk-toggleable__control:checked~label.sk-toggleable__label {background-color: #d4ebff;}#sk-container-id-2 input.sk-hidden--visually {border: 0;clip: rect(1px 1px 1px 1px);clip: rect(1px, 1px, 1px, 1px);height: 1px;margin: -1px;overflow: hidden;padding: 0;position: absolute;width: 1px;}#sk-container-id-2 div.sk-estimator {font-family: monospace;background-color: #f0f8ff;border: 1px dotted black;border-radius: 0.25em;box-sizing: border-box;margin-bottom: 0.5em;}#sk-container-id-2 div.sk-estimator:hover {background-color: #d4ebff;}#sk-container-id-2 div.sk-parallel-item::after {content: \"\";width: 100%;border-bottom: 1px solid gray;flex-grow: 1;}#sk-container-id-2 div.sk-label:hover label.sk-toggleable__label {background-color: #d4ebff;}#sk-container-id-2 div.sk-serial::before {content: \"\";position: absolute;border-left: 1px solid gray;box-sizing: border-box;top: 0;bottom: 0;left: 50%;z-index: 0;}#sk-container-id-2 div.sk-serial {display: flex;flex-direction: column;align-items: center;background-color: white;padding-right: 0.2em;padding-left: 0.2em;position: relative;}#sk-container-id-2 div.sk-item {position: relative;z-index: 1;}#sk-container-id-2 div.sk-parallel {display: flex;align-items: stretch;justify-content: center;background-color: white;position: relative;}#sk-container-id-2 div.sk-item::before, #sk-container-id-2 div.sk-parallel-item::before {content: \"\";position: absolute;border-left: 1px solid gray;box-sizing: border-box;top: 0;bottom: 0;left: 50%;z-index: -1;}#sk-container-id-2 div.sk-parallel-item {display: flex;flex-direction: column;z-index: 1;position: relative;background-color: white;}#sk-container-id-2 div.sk-parallel-item:first-child::after {align-self: flex-end;width: 50%;}#sk-container-id-2 div.sk-parallel-item:last-child::after {align-self: flex-start;width: 50%;}#sk-container-id-2 div.sk-parallel-item:only-child::after {width: 0;}#sk-container-id-2 div.sk-dashed-wrapped {border: 1px dashed gray;margin: 0 0.4em 0.5em 0.4em;box-sizing: border-box;padding-bottom: 0.4em;background-color: white;}#sk-container-id-2 div.sk-label label {font-family: monospace;font-weight: bold;display: inline-block;line-height: 1.2em;}#sk-container-id-2 div.sk-label-container {text-align: center;}#sk-container-id-2 div.sk-container {/* jupyter's `normalize.less` sets `[hidden] { display: none; }` but bootstrap.min.css set `[hidden] { display: none !important; }` so we also need the `!important` here to be able to override the default hidden behavior on the sphinx rendered scikit-learn.org. See: https://github.com/scikit-learn/scikit-learn/issues/21755 */display: inline-block !important;position: relative;}#sk-container-id-2 div.sk-text-repr-fallback {display: none;}</style><div id=\"sk-container-id-2\" class=\"sk-top-container\"><div class=\"sk-text-repr-fallback\"><pre>HalvingGridSearchCV(cv=3,\n",
       "                    estimator=Pipeline(steps=[(&#x27;model&#x27;,\n",
       "                                               RandomForestRegressor(random_state=80523))]),\n",
       "                    max_resources=200, n_jobs=-1,\n",
       "                    param_grid={&#x27;model__max_depth&#x27;: [8, 10, 12, 15, 20],\n",
       "                                &#x27;model__min_samples_leaf&#x27;: [8, 12, 15, 20],\n",
       "                                &#x27;model__min_samples_split&#x27;: [8, 10, 12]},\n",
       "                    resource=&#x27;model__n_estimators&#x27;,\n",
       "                    scoring=&#x27;neg_mean_absolute_error&#x27;, verbose=3)</pre><b>In a Jupyter environment, please rerun this cell to show the HTML representation or trust the notebook. <br />On GitHub, the HTML representation is unable to render, please try loading this page with nbviewer.org.</b></div><div class=\"sk-container\" hidden><div class=\"sk-item sk-dashed-wrapped\"><div class=\"sk-label-container\"><div class=\"sk-label sk-toggleable\"><input class=\"sk-toggleable__control sk-hidden--visually\" id=\"sk-estimator-id-5\" type=\"checkbox\" ><label for=\"sk-estimator-id-5\" class=\"sk-toggleable__label sk-toggleable__label-arrow\">HalvingGridSearchCV</label><div class=\"sk-toggleable__content\"><pre>HalvingGridSearchCV(cv=3,\n",
       "                    estimator=Pipeline(steps=[(&#x27;model&#x27;,\n",
       "                                               RandomForestRegressor(random_state=80523))]),\n",
       "                    max_resources=200, n_jobs=-1,\n",
       "                    param_grid={&#x27;model__max_depth&#x27;: [8, 10, 12, 15, 20],\n",
       "                                &#x27;model__min_samples_leaf&#x27;: [8, 12, 15, 20],\n",
       "                                &#x27;model__min_samples_split&#x27;: [8, 10, 12]},\n",
       "                    resource=&#x27;model__n_estimators&#x27;,\n",
       "                    scoring=&#x27;neg_mean_absolute_error&#x27;, verbose=3)</pre></div></div></div><div class=\"sk-parallel\"><div class=\"sk-parallel-item\"><div class=\"sk-item\"><div class=\"sk-label-container\"><div class=\"sk-label sk-toggleable\"><input class=\"sk-toggleable__control sk-hidden--visually\" id=\"sk-estimator-id-6\" type=\"checkbox\" ><label for=\"sk-estimator-id-6\" class=\"sk-toggleable__label sk-toggleable__label-arrow\">estimator: Pipeline</label><div class=\"sk-toggleable__content\"><pre>Pipeline(steps=[(&#x27;model&#x27;, RandomForestRegressor(random_state=80523))])</pre></div></div></div><div class=\"sk-serial\"><div class=\"sk-item\"><div class=\"sk-serial\"><div class=\"sk-item\"><div class=\"sk-estimator sk-toggleable\"><input class=\"sk-toggleable__control sk-hidden--visually\" id=\"sk-estimator-id-7\" type=\"checkbox\" ><label for=\"sk-estimator-id-7\" class=\"sk-toggleable__label sk-toggleable__label-arrow\">RandomForestRegressor</label><div class=\"sk-toggleable__content\"><pre>RandomForestRegressor(random_state=80523)</pre></div></div></div></div></div></div></div></div></div></div></div></div>"
      ],
      "text/plain": [
       "HalvingGridSearchCV(cv=3,\n",
       "                    estimator=Pipeline(steps=[('model',\n",
       "                                               RandomForestRegressor(random_state=80523))]),\n",
       "                    max_resources=200, n_jobs=-1,\n",
       "                    param_grid={'model__max_depth': [8, 10, 12, 15, 20],\n",
       "                                'model__min_samples_leaf': [8, 12, 15, 20],\n",
       "                                'model__min_samples_split': [8, 10, 12]},\n",
       "                    resource='model__n_estimators',\n",
       "                    scoring='neg_mean_absolute_error', verbose=3)"
      ]
     },
     "execution_count": 53,
     "metadata": {},
     "output_type": "execute_result"
    }
   ],
   "source": [
    "%%time\n",
    "rf_grid.fit(features_train, target_train)"
   ]
  },
  {
   "cell_type": "code",
   "execution_count": 54,
   "metadata": {
    "colab": {
     "base_uri": "https://localhost:8080/"
    },
    "id": "z4pe1rk9nTTt",
    "outputId": "63d80b97-e500-4a2d-f4dc-68160965ffe3"
   },
   "outputs": [
    {
     "name": "stdout",
     "output_type": "stream",
     "text": [
      "Значение MAE, время обучения и время оценки:\n",
      "    mean_test_score  mean_fit_time  mean_score_time\n",
      "0         -6.767400       0.330290         0.012528\n",
      "1         -6.767400       0.270086         0.029739\n",
      "2         -6.767400       0.268380         0.010492\n",
      "3         -6.723522       0.291669         0.004614\n",
      "4         -6.723522       0.239998         0.008609\n",
      "..              ...            ...              ...\n",
      "85        -6.641341       1.336328         0.036922\n",
      "86        -6.641341       1.175219         0.022837\n",
      "87        -6.638110       4.206690         0.086025\n",
      "88        -6.638110       4.240221         0.081480\n",
      "89        -6.638110       3.867729         0.072968\n",
      "\n",
      "[90 rows x 3 columns]\n",
      "\n",
      "Лучшие гиперпараметры:\n",
      " {'model__max_depth': 10, 'model__min_samples_leaf': 12, 'model__min_samples_split': 8, 'model__n_estimators': 189}\n",
      "Лучшее значение MAE: 6.6381098725530805\n"
     ]
    }
   ],
   "source": [
    "print('Значение MAE, время обучения и время оценки:')\n",
    "print(pd.DataFrame(rf_grid.cv_results_)[['mean_test_score', 'mean_fit_time', 'mean_score_time']])\n",
    "print('\\nЛучшие гиперпараметры:\\n', rf_grid.best_params_)\n",
    "print('Лучшее значение MAE:', -rf_grid.best_score_)"
   ]
  },
  {
   "attachments": {},
   "cell_type": "markdown",
   "metadata": {
    "id": "RBRgYcLRpK4f"
   },
   "source": [
    "Случайный лес показывает результат МАЕ=6.6, но при этом обучается на порядок дольше - около 1 сек.\n",
    "\n",
    "Далее - градиентный бустинг."
   ]
  },
  {
   "cell_type": "code",
   "execution_count": 55,
   "metadata": {
    "id": "uF9gFAe8p9lF"
   },
   "outputs": [],
   "source": [
    "params = {\n",
    "    \"model__max_depth\": [8, 12, 14],\n",
    "    \"model__boosting_type\" : ['gbdt'],\n",
    "    \"model__min_child_samples\" : [12, 20],\n",
    "    \"model__learning_rate\" : [0.005, 0.1, 0.3, 0.4],\n",
    "    \"model__num_leaves\": [30, 70, 100]\n",
    "}\n",
    "lgbm_pipeline = Pipeline(steps=[('model', LGBMRegressor(random_state=RANDOM_STATE))])\n",
    "\n",
    "lgbm_grid  = HalvingGridSearchCV(lgbm_pipeline, params, scoring='neg_mean_absolute_error',\n",
    "                                  cv=3, verbose=3, n_jobs=-1, max_resources=200, factor=3,\n",
    "                                  resource='model__n_estimators')"
   ]
  },
  {
   "cell_type": "code",
   "execution_count": 56,
   "metadata": {
    "colab": {
     "base_uri": "https://localhost:8080/",
     "height": 621
    },
    "id": "P7ErovcWq20_",
    "outputId": "b7d187cd-5d7c-4643-cd95-0893e69ac5b9"
   },
   "outputs": [
    {
     "name": "stdout",
     "output_type": "stream",
     "text": [
      "n_iterations: 4\n",
      "n_required_iterations: 4\n",
      "n_possible_iterations: 4\n",
      "min_resources_: 7\n",
      "max_resources_: 200\n",
      "aggressive_elimination: False\n",
      "factor: 3\n",
      "----------\n",
      "iter: 0\n",
      "n_candidates: 72\n",
      "n_resources: 7\n",
      "Fitting 3 folds for each of 72 candidates, totalling 216 fits\n",
      "----------\n",
      "iter: 1\n",
      "n_candidates: 24\n",
      "n_resources: 21\n",
      "Fitting 3 folds for each of 24 candidates, totalling 72 fits\n",
      "----------\n",
      "iter: 2\n",
      "n_candidates: 8\n",
      "n_resources: 63\n",
      "Fitting 3 folds for each of 8 candidates, totalling 24 fits\n",
      "----------\n",
      "iter: 3\n",
      "n_candidates: 3\n",
      "n_resources: 189\n",
      "Fitting 3 folds for each of 3 candidates, totalling 9 fits\n",
      "CPU times: total: 2.27 s\n",
      "Wall time: 11.7 s\n"
     ]
    },
    {
     "data": {
      "text/html": [
       "<style>#sk-container-id-3 {color: black;background-color: white;}#sk-container-id-3 pre{padding: 0;}#sk-container-id-3 div.sk-toggleable {background-color: white;}#sk-container-id-3 label.sk-toggleable__label {cursor: pointer;display: block;width: 100%;margin-bottom: 0;padding: 0.3em;box-sizing: border-box;text-align: center;}#sk-container-id-3 label.sk-toggleable__label-arrow:before {content: \"▸\";float: left;margin-right: 0.25em;color: #696969;}#sk-container-id-3 label.sk-toggleable__label-arrow:hover:before {color: black;}#sk-container-id-3 div.sk-estimator:hover label.sk-toggleable__label-arrow:before {color: black;}#sk-container-id-3 div.sk-toggleable__content {max-height: 0;max-width: 0;overflow: hidden;text-align: left;background-color: #f0f8ff;}#sk-container-id-3 div.sk-toggleable__content pre {margin: 0.2em;color: black;border-radius: 0.25em;background-color: #f0f8ff;}#sk-container-id-3 input.sk-toggleable__control:checked~div.sk-toggleable__content {max-height: 200px;max-width: 100%;overflow: auto;}#sk-container-id-3 input.sk-toggleable__control:checked~label.sk-toggleable__label-arrow:before {content: \"▾\";}#sk-container-id-3 div.sk-estimator input.sk-toggleable__control:checked~label.sk-toggleable__label {background-color: #d4ebff;}#sk-container-id-3 div.sk-label input.sk-toggleable__control:checked~label.sk-toggleable__label {background-color: #d4ebff;}#sk-container-id-3 input.sk-hidden--visually {border: 0;clip: rect(1px 1px 1px 1px);clip: rect(1px, 1px, 1px, 1px);height: 1px;margin: -1px;overflow: hidden;padding: 0;position: absolute;width: 1px;}#sk-container-id-3 div.sk-estimator {font-family: monospace;background-color: #f0f8ff;border: 1px dotted black;border-radius: 0.25em;box-sizing: border-box;margin-bottom: 0.5em;}#sk-container-id-3 div.sk-estimator:hover {background-color: #d4ebff;}#sk-container-id-3 div.sk-parallel-item::after {content: \"\";width: 100%;border-bottom: 1px solid gray;flex-grow: 1;}#sk-container-id-3 div.sk-label:hover label.sk-toggleable__label {background-color: #d4ebff;}#sk-container-id-3 div.sk-serial::before {content: \"\";position: absolute;border-left: 1px solid gray;box-sizing: border-box;top: 0;bottom: 0;left: 50%;z-index: 0;}#sk-container-id-3 div.sk-serial {display: flex;flex-direction: column;align-items: center;background-color: white;padding-right: 0.2em;padding-left: 0.2em;position: relative;}#sk-container-id-3 div.sk-item {position: relative;z-index: 1;}#sk-container-id-3 div.sk-parallel {display: flex;align-items: stretch;justify-content: center;background-color: white;position: relative;}#sk-container-id-3 div.sk-item::before, #sk-container-id-3 div.sk-parallel-item::before {content: \"\";position: absolute;border-left: 1px solid gray;box-sizing: border-box;top: 0;bottom: 0;left: 50%;z-index: -1;}#sk-container-id-3 div.sk-parallel-item {display: flex;flex-direction: column;z-index: 1;position: relative;background-color: white;}#sk-container-id-3 div.sk-parallel-item:first-child::after {align-self: flex-end;width: 50%;}#sk-container-id-3 div.sk-parallel-item:last-child::after {align-self: flex-start;width: 50%;}#sk-container-id-3 div.sk-parallel-item:only-child::after {width: 0;}#sk-container-id-3 div.sk-dashed-wrapped {border: 1px dashed gray;margin: 0 0.4em 0.5em 0.4em;box-sizing: border-box;padding-bottom: 0.4em;background-color: white;}#sk-container-id-3 div.sk-label label {font-family: monospace;font-weight: bold;display: inline-block;line-height: 1.2em;}#sk-container-id-3 div.sk-label-container {text-align: center;}#sk-container-id-3 div.sk-container {/* jupyter's `normalize.less` sets `[hidden] { display: none; }` but bootstrap.min.css set `[hidden] { display: none !important; }` so we also need the `!important` here to be able to override the default hidden behavior on the sphinx rendered scikit-learn.org. See: https://github.com/scikit-learn/scikit-learn/issues/21755 */display: inline-block !important;position: relative;}#sk-container-id-3 div.sk-text-repr-fallback {display: none;}</style><div id=\"sk-container-id-3\" class=\"sk-top-container\"><div class=\"sk-text-repr-fallback\"><pre>HalvingGridSearchCV(cv=3,\n",
       "                    estimator=Pipeline(steps=[(&#x27;model&#x27;,\n",
       "                                               LGBMRegressor(random_state=80523))]),\n",
       "                    max_resources=200, n_jobs=-1,\n",
       "                    param_grid={&#x27;model__boosting_type&#x27;: [&#x27;gbdt&#x27;],\n",
       "                                &#x27;model__learning_rate&#x27;: [0.005, 0.1, 0.3, 0.4],\n",
       "                                &#x27;model__max_depth&#x27;: [8, 12, 14],\n",
       "                                &#x27;model__min_child_samples&#x27;: [12, 20],\n",
       "                                &#x27;model__num_leaves&#x27;: [30, 70, 100]},\n",
       "                    resource=&#x27;model__n_estimators&#x27;,\n",
       "                    scoring=&#x27;neg_mean_absolute_error&#x27;, verbose=3)</pre><b>In a Jupyter environment, please rerun this cell to show the HTML representation or trust the notebook. <br />On GitHub, the HTML representation is unable to render, please try loading this page with nbviewer.org.</b></div><div class=\"sk-container\" hidden><div class=\"sk-item sk-dashed-wrapped\"><div class=\"sk-label-container\"><div class=\"sk-label sk-toggleable\"><input class=\"sk-toggleable__control sk-hidden--visually\" id=\"sk-estimator-id-8\" type=\"checkbox\" ><label for=\"sk-estimator-id-8\" class=\"sk-toggleable__label sk-toggleable__label-arrow\">HalvingGridSearchCV</label><div class=\"sk-toggleable__content\"><pre>HalvingGridSearchCV(cv=3,\n",
       "                    estimator=Pipeline(steps=[(&#x27;model&#x27;,\n",
       "                                               LGBMRegressor(random_state=80523))]),\n",
       "                    max_resources=200, n_jobs=-1,\n",
       "                    param_grid={&#x27;model__boosting_type&#x27;: [&#x27;gbdt&#x27;],\n",
       "                                &#x27;model__learning_rate&#x27;: [0.005, 0.1, 0.3, 0.4],\n",
       "                                &#x27;model__max_depth&#x27;: [8, 12, 14],\n",
       "                                &#x27;model__min_child_samples&#x27;: [12, 20],\n",
       "                                &#x27;model__num_leaves&#x27;: [30, 70, 100]},\n",
       "                    resource=&#x27;model__n_estimators&#x27;,\n",
       "                    scoring=&#x27;neg_mean_absolute_error&#x27;, verbose=3)</pre></div></div></div><div class=\"sk-parallel\"><div class=\"sk-parallel-item\"><div class=\"sk-item\"><div class=\"sk-label-container\"><div class=\"sk-label sk-toggleable\"><input class=\"sk-toggleable__control sk-hidden--visually\" id=\"sk-estimator-id-9\" type=\"checkbox\" ><label for=\"sk-estimator-id-9\" class=\"sk-toggleable__label sk-toggleable__label-arrow\">estimator: Pipeline</label><div class=\"sk-toggleable__content\"><pre>Pipeline(steps=[(&#x27;model&#x27;, LGBMRegressor(random_state=80523))])</pre></div></div></div><div class=\"sk-serial\"><div class=\"sk-item\"><div class=\"sk-serial\"><div class=\"sk-item\"><div class=\"sk-estimator sk-toggleable\"><input class=\"sk-toggleable__control sk-hidden--visually\" id=\"sk-estimator-id-10\" type=\"checkbox\" ><label for=\"sk-estimator-id-10\" class=\"sk-toggleable__label sk-toggleable__label-arrow\">LGBMRegressor</label><div class=\"sk-toggleable__content\"><pre>LGBMRegressor(random_state=80523)</pre></div></div></div></div></div></div></div></div></div></div></div></div>"
      ],
      "text/plain": [
       "HalvingGridSearchCV(cv=3,\n",
       "                    estimator=Pipeline(steps=[('model',\n",
       "                                               LGBMRegressor(random_state=80523))]),\n",
       "                    max_resources=200, n_jobs=-1,\n",
       "                    param_grid={'model__boosting_type': ['gbdt'],\n",
       "                                'model__learning_rate': [0.005, 0.1, 0.3, 0.4],\n",
       "                                'model__max_depth': [8, 12, 14],\n",
       "                                'model__min_child_samples': [12, 20],\n",
       "                                'model__num_leaves': [30, 70, 100]},\n",
       "                    resource='model__n_estimators',\n",
       "                    scoring='neg_mean_absolute_error', verbose=3)"
      ]
     },
     "execution_count": 56,
     "metadata": {},
     "output_type": "execute_result"
    }
   ],
   "source": [
    "%%time\n",
    "lgbm_grid.fit(features_train, target_train)"
   ]
  },
  {
   "cell_type": "code",
   "execution_count": 57,
   "metadata": {
    "colab": {
     "base_uri": "https://localhost:8080/"
    },
    "id": "TeVdfKUtq-xs",
    "outputId": "ab561b7f-417b-4370-b18e-c1ce95bbbf6e"
   },
   "outputs": [
    {
     "name": "stdout",
     "output_type": "stream",
     "text": [
      "Значение MAE, время обучения и время оценки:\n",
      "     mean_test_score  mean_fit_time  mean_score_time\n",
      "0          -7.886725       0.061717         0.013334\n",
      "1          -7.877755       0.067291         0.003075\n",
      "2          -7.877755       0.101469         0.002667\n",
      "3          -7.887084       0.058012         0.008001\n",
      "4          -7.884239       0.065997         0.011363\n",
      "..               ...            ...              ...\n",
      "102        -7.065063       0.112635         0.010609\n",
      "103        -7.024302       0.138443         0.007064\n",
      "104        -7.127170       0.572687         0.029946\n",
      "105        -7.113460       0.504312         0.029253\n",
      "106        -7.195813       0.406809         0.033264\n",
      "\n",
      "[107 rows x 3 columns]\n",
      "\n",
      "Лучшие гиперпараметры:\n",
      " {'model__boosting_type': 'gbdt', 'model__learning_rate': 0.3, 'model__max_depth': 12, 'model__min_child_samples': 12, 'model__num_leaves': 30, 'model__n_estimators': 189}\n",
      "Лучшее значение MAE: 7.113459520358627\n"
     ]
    }
   ],
   "source": [
    "print('Значение MAE, время обучения и время оценки:')\n",
    "print(pd.DataFrame(lgbm_grid.cv_results_)[['mean_test_score', 'mean_fit_time', 'mean_score_time']])\n",
    "print('\\nЛучшие гиперпараметры:\\n', lgbm_grid.best_params_)\n",
    "print('Лучшее значение MAE:', -lgbm_grid.best_score_)"
   ]
  },
  {
   "attachments": {},
   "cell_type": "markdown",
   "metadata": {
    "id": "X0g_osZTxsYy"
   },
   "source": [
    "Градиентный бустинг показал себя хуже предыдущих моделей, видимо, для него недостаточно данных.\n",
    "\n",
    "Также попробуем обучить полносвязную нейросеть."
   ]
  },
  {
   "cell_type": "code",
   "execution_count": 58,
   "metadata": {
    "id": "dV7rWQg-rLIl"
   },
   "outputs": [],
   "source": [
    "params = {\n",
    "    \"model__hidden_layer_sizes\": [[40], [30, 30], [25, 25, 20]],\n",
    "    \"model__learning_rate_init\" : [0.0001, 0.001, 0.005, 0.1],\n",
    "    \"model__activation\":  ['relu', 'tanh'],\n",
    "    \"model__solver\": ['sgd', 'adam']\n",
    "    }\n",
    "nn_pipeline = Pipeline(steps=[('model', MLPRegressor(random_state=RANDOM_STATE))])\n",
    "\n",
    "nn_grid  = HalvingGridSearchCV(lgbm_pipeline, params, scoring='neg_mean_absolute_error',\n",
    "                                  cv=3, verbose=3, n_jobs=-1, factor=3,\n",
    "                                  resource='n_samples')"
   ]
  },
  {
   "cell_type": "code",
   "execution_count": 59,
   "metadata": {
    "colab": {
     "base_uri": "https://localhost:8080/",
     "height": 621
    },
    "id": "9bUpaDGcwEMh",
    "outputId": "d194427a-04ab-455c-8359-ffb4530b3446"
   },
   "outputs": [
    {
     "name": "stdout",
     "output_type": "stream",
     "text": [
      "n_iterations: 4\n",
      "n_required_iterations: 4\n",
      "n_possible_iterations: 4\n",
      "min_resources_: 64\n",
      "max_resources_: 1746\n",
      "aggressive_elimination: False\n",
      "factor: 3\n",
      "----------\n",
      "iter: 0\n",
      "n_candidates: 48\n",
      "n_resources: 64\n",
      "Fitting 3 folds for each of 48 candidates, totalling 144 fits\n",
      "----------\n",
      "iter: 1\n",
      "n_candidates: 16\n",
      "n_resources: 192\n",
      "Fitting 3 folds for each of 16 candidates, totalling 48 fits\n",
      "----------\n",
      "iter: 2\n",
      "n_candidates: 6\n",
      "n_resources: 576\n",
      "Fitting 3 folds for each of 6 candidates, totalling 18 fits\n",
      "----------\n",
      "iter: 3\n",
      "n_candidates: 2\n",
      "n_resources: 1728\n",
      "Fitting 3 folds for each of 2 candidates, totalling 6 fits\n",
      "CPU times: total: 1.27 s\n",
      "Wall time: 4.45 s\n"
     ]
    },
    {
     "data": {
      "text/html": [
       "<style>#sk-container-id-4 {color: black;background-color: white;}#sk-container-id-4 pre{padding: 0;}#sk-container-id-4 div.sk-toggleable {background-color: white;}#sk-container-id-4 label.sk-toggleable__label {cursor: pointer;display: block;width: 100%;margin-bottom: 0;padding: 0.3em;box-sizing: border-box;text-align: center;}#sk-container-id-4 label.sk-toggleable__label-arrow:before {content: \"▸\";float: left;margin-right: 0.25em;color: #696969;}#sk-container-id-4 label.sk-toggleable__label-arrow:hover:before {color: black;}#sk-container-id-4 div.sk-estimator:hover label.sk-toggleable__label-arrow:before {color: black;}#sk-container-id-4 div.sk-toggleable__content {max-height: 0;max-width: 0;overflow: hidden;text-align: left;background-color: #f0f8ff;}#sk-container-id-4 div.sk-toggleable__content pre {margin: 0.2em;color: black;border-radius: 0.25em;background-color: #f0f8ff;}#sk-container-id-4 input.sk-toggleable__control:checked~div.sk-toggleable__content {max-height: 200px;max-width: 100%;overflow: auto;}#sk-container-id-4 input.sk-toggleable__control:checked~label.sk-toggleable__label-arrow:before {content: \"▾\";}#sk-container-id-4 div.sk-estimator input.sk-toggleable__control:checked~label.sk-toggleable__label {background-color: #d4ebff;}#sk-container-id-4 div.sk-label input.sk-toggleable__control:checked~label.sk-toggleable__label {background-color: #d4ebff;}#sk-container-id-4 input.sk-hidden--visually {border: 0;clip: rect(1px 1px 1px 1px);clip: rect(1px, 1px, 1px, 1px);height: 1px;margin: -1px;overflow: hidden;padding: 0;position: absolute;width: 1px;}#sk-container-id-4 div.sk-estimator {font-family: monospace;background-color: #f0f8ff;border: 1px dotted black;border-radius: 0.25em;box-sizing: border-box;margin-bottom: 0.5em;}#sk-container-id-4 div.sk-estimator:hover {background-color: #d4ebff;}#sk-container-id-4 div.sk-parallel-item::after {content: \"\";width: 100%;border-bottom: 1px solid gray;flex-grow: 1;}#sk-container-id-4 div.sk-label:hover label.sk-toggleable__label {background-color: #d4ebff;}#sk-container-id-4 div.sk-serial::before {content: \"\";position: absolute;border-left: 1px solid gray;box-sizing: border-box;top: 0;bottom: 0;left: 50%;z-index: 0;}#sk-container-id-4 div.sk-serial {display: flex;flex-direction: column;align-items: center;background-color: white;padding-right: 0.2em;padding-left: 0.2em;position: relative;}#sk-container-id-4 div.sk-item {position: relative;z-index: 1;}#sk-container-id-4 div.sk-parallel {display: flex;align-items: stretch;justify-content: center;background-color: white;position: relative;}#sk-container-id-4 div.sk-item::before, #sk-container-id-4 div.sk-parallel-item::before {content: \"\";position: absolute;border-left: 1px solid gray;box-sizing: border-box;top: 0;bottom: 0;left: 50%;z-index: -1;}#sk-container-id-4 div.sk-parallel-item {display: flex;flex-direction: column;z-index: 1;position: relative;background-color: white;}#sk-container-id-4 div.sk-parallel-item:first-child::after {align-self: flex-end;width: 50%;}#sk-container-id-4 div.sk-parallel-item:last-child::after {align-self: flex-start;width: 50%;}#sk-container-id-4 div.sk-parallel-item:only-child::after {width: 0;}#sk-container-id-4 div.sk-dashed-wrapped {border: 1px dashed gray;margin: 0 0.4em 0.5em 0.4em;box-sizing: border-box;padding-bottom: 0.4em;background-color: white;}#sk-container-id-4 div.sk-label label {font-family: monospace;font-weight: bold;display: inline-block;line-height: 1.2em;}#sk-container-id-4 div.sk-label-container {text-align: center;}#sk-container-id-4 div.sk-container {/* jupyter's `normalize.less` sets `[hidden] { display: none; }` but bootstrap.min.css set `[hidden] { display: none !important; }` so we also need the `!important` here to be able to override the default hidden behavior on the sphinx rendered scikit-learn.org. See: https://github.com/scikit-learn/scikit-learn/issues/21755 */display: inline-block !important;position: relative;}#sk-container-id-4 div.sk-text-repr-fallback {display: none;}</style><div id=\"sk-container-id-4\" class=\"sk-top-container\"><div class=\"sk-text-repr-fallback\"><pre>HalvingGridSearchCV(cv=3,\n",
       "                    estimator=Pipeline(steps=[(&#x27;model&#x27;,\n",
       "                                               LGBMRegressor(random_state=80523))]),\n",
       "                    n_jobs=-1,\n",
       "                    param_grid={&#x27;model__activation&#x27;: [&#x27;relu&#x27;, &#x27;tanh&#x27;],\n",
       "                                &#x27;model__hidden_layer_sizes&#x27;: [[40], [30, 30],\n",
       "                                                              [25, 25, 20]],\n",
       "                                &#x27;model__learning_rate_init&#x27;: [0.0001, 0.001,\n",
       "                                                              0.005, 0.1],\n",
       "                                &#x27;model__solver&#x27;: [&#x27;sgd&#x27;, &#x27;adam&#x27;]},\n",
       "                    scoring=&#x27;neg_mean_absolute_error&#x27;, verbose=3)</pre><b>In a Jupyter environment, please rerun this cell to show the HTML representation or trust the notebook. <br />On GitHub, the HTML representation is unable to render, please try loading this page with nbviewer.org.</b></div><div class=\"sk-container\" hidden><div class=\"sk-item sk-dashed-wrapped\"><div class=\"sk-label-container\"><div class=\"sk-label sk-toggleable\"><input class=\"sk-toggleable__control sk-hidden--visually\" id=\"sk-estimator-id-11\" type=\"checkbox\" ><label for=\"sk-estimator-id-11\" class=\"sk-toggleable__label sk-toggleable__label-arrow\">HalvingGridSearchCV</label><div class=\"sk-toggleable__content\"><pre>HalvingGridSearchCV(cv=3,\n",
       "                    estimator=Pipeline(steps=[(&#x27;model&#x27;,\n",
       "                                               LGBMRegressor(random_state=80523))]),\n",
       "                    n_jobs=-1,\n",
       "                    param_grid={&#x27;model__activation&#x27;: [&#x27;relu&#x27;, &#x27;tanh&#x27;],\n",
       "                                &#x27;model__hidden_layer_sizes&#x27;: [[40], [30, 30],\n",
       "                                                              [25, 25, 20]],\n",
       "                                &#x27;model__learning_rate_init&#x27;: [0.0001, 0.001,\n",
       "                                                              0.005, 0.1],\n",
       "                                &#x27;model__solver&#x27;: [&#x27;sgd&#x27;, &#x27;adam&#x27;]},\n",
       "                    scoring=&#x27;neg_mean_absolute_error&#x27;, verbose=3)</pre></div></div></div><div class=\"sk-parallel\"><div class=\"sk-parallel-item\"><div class=\"sk-item\"><div class=\"sk-label-container\"><div class=\"sk-label sk-toggleable\"><input class=\"sk-toggleable__control sk-hidden--visually\" id=\"sk-estimator-id-12\" type=\"checkbox\" ><label for=\"sk-estimator-id-12\" class=\"sk-toggleable__label sk-toggleable__label-arrow\">estimator: Pipeline</label><div class=\"sk-toggleable__content\"><pre>Pipeline(steps=[(&#x27;model&#x27;, LGBMRegressor(random_state=80523))])</pre></div></div></div><div class=\"sk-serial\"><div class=\"sk-item\"><div class=\"sk-serial\"><div class=\"sk-item\"><div class=\"sk-estimator sk-toggleable\"><input class=\"sk-toggleable__control sk-hidden--visually\" id=\"sk-estimator-id-13\" type=\"checkbox\" ><label for=\"sk-estimator-id-13\" class=\"sk-toggleable__label sk-toggleable__label-arrow\">LGBMRegressor</label><div class=\"sk-toggleable__content\"><pre>LGBMRegressor(random_state=80523)</pre></div></div></div></div></div></div></div></div></div></div></div></div>"
      ],
      "text/plain": [
       "HalvingGridSearchCV(cv=3,\n",
       "                    estimator=Pipeline(steps=[('model',\n",
       "                                               LGBMRegressor(random_state=80523))]),\n",
       "                    n_jobs=-1,\n",
       "                    param_grid={'model__activation': ['relu', 'tanh'],\n",
       "                                'model__hidden_layer_sizes': [[40], [30, 30],\n",
       "                                                              [25, 25, 20]],\n",
       "                                'model__learning_rate_init': [0.0001, 0.001,\n",
       "                                                              0.005, 0.1],\n",
       "                                'model__solver': ['sgd', 'adam']},\n",
       "                    scoring='neg_mean_absolute_error', verbose=3)"
      ]
     },
     "execution_count": 59,
     "metadata": {},
     "output_type": "execute_result"
    }
   ],
   "source": [
    "%%time\n",
    "nn_grid.fit(features_train, target_train)"
   ]
  },
  {
   "cell_type": "code",
   "execution_count": 60,
   "metadata": {
    "colab": {
     "base_uri": "https://localhost:8080/"
    },
    "id": "yzGwnCx2wM-T",
    "outputId": "165daa25-3532-4835-e042-6fd901e07c36"
   },
   "outputs": [
    {
     "name": "stdout",
     "output_type": "stream",
     "text": [
      "Значение MAE, время обучения и время оценки:\n",
      "    mean_test_score  mean_fit_time  mean_score_time\n",
      "0         -8.282024       0.021338         0.005333\n",
      "1         -8.282024       0.024790         0.000790\n",
      "2         -8.282024       0.030919         0.001859\n",
      "3         -8.282024       0.029070         0.005334\n",
      "4         -8.282024       0.036368         0.006399\n",
      "..              ...            ...              ...\n",
      "67        -7.058012       0.142460         0.008001\n",
      "68        -7.058012       0.148820         0.005677\n",
      "69        -7.058012       0.101712         0.005936\n",
      "70        -6.792053       0.242409         0.029334\n",
      "71        -6.792053       0.210592         0.014474\n",
      "\n",
      "[72 rows x 3 columns]\n",
      "\n",
      "Лучшие гиперпараметры:\n",
      " {'model__activation': 'tanh', 'model__hidden_layer_sizes': [25, 25, 20], 'model__learning_rate_init': 0.1, 'model__solver': 'sgd'}\n",
      "Лучшее значение MAE: 6.792053116620512\n"
     ]
    }
   ],
   "source": [
    "print('Значение MAE, время обучения и время оценки:')\n",
    "print(pd.DataFrame(nn_grid.cv_results_)[['mean_test_score', 'mean_fit_time', 'mean_score_time']])\n",
    "print('\\nЛучшие гиперпараметры:\\n', nn_grid.best_params_)\n",
    "print('Лучшее значение MAE:', -nn_grid.best_score_)"
   ]
  },
  {
   "attachments": {},
   "cell_type": "markdown",
   "metadata": {
    "id": "ufVR9S5Cwsfk"
   },
   "source": [
    "Полносвязная нейросеть также показывает низкое качество относительно случайного леса, скорее всего, из-за нехватки данных.\n",
    "\n",
    "Таким образом, лучшая модель - случайный лес с гиперпараметрами: max_depth = 8, min_samples_leaf = 8, min_samples_split = 8, n_estimators = 200."
   ]
  },
  {
   "attachments": {},
   "cell_type": "markdown",
   "metadata": {
    "id": "9zsHKZGj8J4y"
   },
   "source": [
    "**Выводы по разделу 3:**\n",
    "- Обучены несколько моделей: линейная регрессия, случайный лес, градиентный бустинг, полносвязная нейросеть.\n",
    "- Выбрана лучшая модель - случайный лес со следующими гиперпараметрами: max_depth = 10, min_samples_leaf = 12, min_samples_split = 8, n_estimators = 200."
   ]
  },
  {
   "attachments": {},
   "cell_type": "markdown",
   "metadata": {
    "id": "RLqGR53mQNHX"
   },
   "source": [
    "|             |Линейная регрессия|Случайный лес|Градиентный бустинг|Полносвязная нейросеть|\n",
    "|--------------|-----------------|-------------|-------------------|----------------------|\n",
    "|MAE           |6.6              |6.6          |7.1                |6.7                   |\n",
    "|Время обучения|0.02             |1.2          |0.2                |0.16                  |\n",
    "\n"
   ]
  },
  {
   "attachments": {},
   "cell_type": "markdown",
   "metadata": {},
   "source": [
    "## 6. <a id='toc6_'></a>[Тестирование модели](#toc0_)"
   ]
  },
  {
   "attachments": {},
   "cell_type": "markdown",
   "metadata": {
    "id": "jVJ8LDWj0MFI"
   },
   "source": [
    "Проверим качество лучшей модели на тестовой выборке,предварительно обучив на всем трейне."
   ]
  },
  {
   "cell_type": "code",
   "execution_count": 61,
   "metadata": {
    "colab": {
     "base_uri": "https://localhost:8080/"
    },
    "id": "ZDUZ6mLT2El5",
    "outputId": "43f6c815-70dd-43b1-81cb-c73f4ccf1e9c"
   },
   "outputs": [
    {
     "name": "stdout",
     "output_type": "stream",
     "text": [
      "MAE на тестовой выборке: 6.796069719003394\n"
     ]
    }
   ],
   "source": [
    "final_pipeline = Pipeline(steps=[('model', RandomForestRegressor(max_depth=10, min_samples_leaf=12,\n",
    "                                                                 min_samples_split=8, n_estimators=200, random_state=RANDOM_STATE))])\n",
    "final_pipeline.fit(features_train, target_train)\n",
    "predictions = final_pipeline.predict(features_test)\n",
    "print('MAE на тестовой выборке:', mean_absolute_error(target_test, predictions))"
   ]
  },
  {
   "attachments": {},
   "cell_type": "markdown",
   "metadata": {
    "id": "K1CwSHlX5h-C"
   },
   "source": [
    "Итоговая модель показывает значение метрики МАЕ < 6.8 на тесте. \n",
    "\n",
    "Изучим теперь важность признаков."
   ]
  },
  {
   "cell_type": "code",
   "execution_count": 62,
   "metadata": {
    "colab": {
     "base_uri": "https://localhost:8080/",
     "height": 599
    },
    "id": "MpE-SbRD3N2u",
    "outputId": "5a741753-8e52-433d-a1c0-45795e036985"
   },
   "outputs": [
    {
     "data": {
      "image/png": "[encoded data removed]",
      "text/plain": [
       "<Figure size 1000x700 with 1 Axes>"
      ]
     },
     "metadata": {},
     "output_type": "display_data"
    }
   ],
   "source": [
    "pd.Series(final_pipeline.named_steps['model'].feature_importances_, index=features.columns)\\\n",
    "            .plot(kind='barh', figsize=(10, 7));"
   ]
  },
  {
   "attachments": {},
   "cell_type": "markdown",
   "metadata": {
    "id": "VfWEkL5z4obI"
   },
   "source": [
    "Наиболее важные признаки - начальная температура и суммарное количество теплоты при нагреве, что вполне логично.\n",
    "Также имеется ещё один важный признак: количество проволочного материала 1.\n",
    "Остальные признаки менее важны. "
   ]
  },
  {
   "attachments": {},
   "cell_type": "markdown",
   "metadata": {},
   "source": [
    "## 7. <a id='toc7_'></a>[Отчёт по решению](#toc0_)"
   ]
  },
  {
   "attachments": {},
   "cell_type": "markdown",
   "metadata": {
    "id": "GExc8-Dd43A2"
   },
   "source": [
    "1. ***Были выполнены все пункты плана***, в т. ч.:\n",
    "    1. Проведена предобработа данных: обработаны пропуски и выбросы, добавлены некоторые признаки, таблицы объединены в итоговую.\n",
    "    2. Разработана модель предсказания температуры: опробованы линейная регрессия, случайный лес, градиентный бустинг LightGBM и полносвязная нейросеть.\n",
    "    3. Измерено качество модели на тестовой выборке, изучена значимость признаков, сделаны выводы.\n",
    "<br><br>\n",
    "\n",
    "2. ***Трудности, возникшие в ходе работы и способы их решения.***\n",
    "    - При попытке удалить выбросы в данных о легирующих материалах исчезала их существенная часть, для решения этой проблемы модель обучалась на \"чистых\" данных.\n",
    "    - Кроме того, те же таблицы содержали большое количество пропусков, здесь малоиспользуемые материалы были объединены в общий столбец.\n",
    "<br><br>\n",
    "\n",
    "3. ***Ключевые шаги решения***:\n",
    "    1. первичный анализ данных;\n",
    "    2. уточнение информации по данным;\n",
    "    3. составление плана работ;\n",
    "    4. предобработка данных;\n",
    "    5. обучение моделей;\n",
    "    6. тестирование финальной модели;\n",
    "    7. написание отчёта о работе.\n",
    "<br><br>\n",
    "\n",
    "4. ***Итоговая модель: случайный лес.***\n",
    "    - Гиперпараметры: max_depth = 8, min_samples_leaf = 8, min_samples_split = 8, n_estimators = 135, random_state = 80523.\n",
    "    - Значение метрики МАЕ на тестовой выборке: 6.79.\n",
    "<br><br>\n",
    "\n",
    "5. ***Признаки, используемые для обучения модели:***\n",
    "    1. Количество поданных проволочных материалов: материал 1, остальные. Редко используемые материалы (все, кроме №1) объединены в один столбец, при использовании нескольких - просуммированы. Пропуски заполнены нулями, в таких случаях считаем, что соответствующие материалы не использовались.\n",
    "    2. Сыпучие материалы. Так же, как и в предыдущем пункте, объединены редко используемые материалы (1, 2, 5-11, 13), остальные (3, 4, 12, 14, 15) использовались как отдельные признаки, пропуски заполнены нулями.\n",
    "    3. Начальная температура. Один из важнейших признаков. Получен из данных об измерениях температуры, дополнительная обработка не проводилась.\n",
    "    4. Суммарная работа эл. тока. Такой же важный признак. Получен следующим образом: полезная мощность умножена на время работы электродов на каждой итерации нагревания, полученные значения просуммированы для каждой партии металла.\n",
    "    5. Средняя полезная мощность. Вычислена как среднее арифметическое на каждой партии. \n",
    "    6. Объём поданного инертного газа. Данные известны изначально, необходимости в обработке не возникло.\n",
    "<br><br>\n",
    "\n",
    "6. ***Для улучшения качества модели можно выполнить следующие действия:***\n",
    "    - Добавить в модель новые, ранее не исследованные признаки и изучить их влияние на модель. Для этого необходимо проконсультироваться со специалистами по технологическому процессу.\n",
    "    - Собрать большее количество данных для обучения модели. Тогда возможно лучше себя покажут более \"мощные\" модели, такие как градиентный бустинг."
   ]
  }
 ],
 "metadata": {
  "ExecuteTimeLog": [
   {
    "duration": 3710,
    "start_time": "2023-05-16T19:39:05.205Z"
   },
   {
    "duration": 596,
    "start_time": "2023-05-16T19:39:08.918Z"
   },
   {
    "duration": 46,
    "start_time": "2023-05-16T19:39:09.516Z"
   },
   {
    "duration": 20,
    "start_time": "2023-05-16T19:39:09.565Z"
   },
   {
    "duration": 26,
    "start_time": "2023-05-16T19:39:09.587Z"
   },
   {
    "duration": 24,
    "start_time": "2023-05-16T19:39:09.615Z"
   },
   {
    "duration": 16,
    "start_time": "2023-05-16T19:39:09.654Z"
   },
   {
    "duration": 448,
    "start_time": "2023-05-16T19:39:09.672Z"
   },
   {
    "duration": 458,
    "start_time": "2023-05-16T19:39:10.122Z"
   },
   {
    "duration": 24,
    "start_time": "2023-05-16T19:39:10.584Z"
   },
   {
    "duration": 51,
    "start_time": "2023-05-16T19:39:10.610Z"
   },
   {
    "duration": 79,
    "start_time": "2023-05-16T19:39:10.663Z"
   },
   {
    "duration": 555,
    "start_time": "2023-05-16T19:39:10.747Z"
   },
   {
    "duration": 128,
    "start_time": "2023-05-16T19:39:11.304Z"
   },
   {
    "duration": 22,
    "start_time": "2023-05-16T19:39:11.433Z"
   },
   {
    "duration": 19,
    "start_time": "2023-05-16T19:39:11.457Z"
   },
   {
    "duration": 95,
    "start_time": "2023-05-16T19:39:11.478Z"
   },
   {
    "duration": 14,
    "start_time": "2023-05-16T19:39:11.576Z"
   },
   {
    "duration": 100,
    "start_time": "2023-05-16T19:39:11.594Z"
   },
   {
    "duration": 9,
    "start_time": "2023-05-16T19:39:11.697Z"
   },
   {
    "duration": 14,
    "start_time": "2023-05-16T19:39:11.708Z"
   },
   {
    "duration": 36,
    "start_time": "2023-05-16T19:39:11.725Z"
   },
   {
    "duration": 235,
    "start_time": "2023-05-16T19:39:11.763Z"
   },
   {
    "duration": 213,
    "start_time": "2023-05-16T19:39:12.000Z"
   },
   {
    "duration": 13,
    "start_time": "2023-05-16T19:39:12.215Z"
   },
   {
    "duration": 23,
    "start_time": "2023-05-16T19:39:12.232Z"
   },
   {
    "duration": 24,
    "start_time": "2023-05-16T19:39:12.258Z"
   },
   {
    "duration": 12,
    "start_time": "2023-05-16T19:39:12.382Z"
   },
   {
    "duration": 274,
    "start_time": "2023-05-16T19:39:12.565Z"
   },
   {
    "duration": 137,
    "start_time": "2023-05-16T19:39:12.841Z"
   },
   {
    "duration": 17,
    "start_time": "2023-05-16T19:39:12.981Z"
   },
   {
    "duration": 15,
    "start_time": "2023-05-16T19:39:13.109Z"
   },
   {
    "duration": 57,
    "start_time": "2023-05-16T19:39:13.215Z"
   },
   {
    "duration": 290,
    "start_time": "2023-05-16T19:39:13.452Z"
   },
   {
    "duration": 96,
    "start_time": "2023-05-16T19:39:13.744Z"
   },
   {
    "duration": 15,
    "start_time": "2023-05-16T19:39:13.905Z"
   },
   {
    "duration": 17,
    "start_time": "2023-05-16T19:39:15.048Z"
   },
   {
    "duration": 46,
    "start_time": "2023-05-16T19:39:15.067Z"
   },
   {
    "duration": 16,
    "start_time": "2023-05-16T19:39:15.114Z"
   },
   {
    "duration": 24,
    "start_time": "2023-05-16T19:39:17.853Z"
   },
   {
    "duration": 34,
    "start_time": "2023-05-16T19:39:18.935Z"
   },
   {
    "duration": 24,
    "start_time": "2023-05-16T19:39:19.621Z"
   },
   {
    "duration": 27,
    "start_time": "2023-05-16T19:39:20.152Z"
   },
   {
    "duration": 48,
    "start_time": "2023-05-16T19:39:21.066Z"
   },
   {
    "duration": 23,
    "start_time": "2023-05-16T19:39:21.322Z"
   },
   {
    "duration": 9,
    "start_time": "2023-05-16T19:39:21.666Z"
   },
   {
    "duration": 530,
    "start_time": "2023-05-16T19:39:22.017Z"
   },
   {
    "duration": 9,
    "start_time": "2023-05-16T19:39:22.768Z"
   },
   {
    "duration": 25,
    "start_time": "2023-05-16T19:47:55.423Z"
   },
   {
    "duration": 29,
    "start_time": "2023-05-16T19:48:13.556Z"
   },
   {
    "duration": 20,
    "start_time": "2023-05-16T19:48:28.721Z"
   },
   {
    "duration": 14,
    "start_time": "2023-05-16T19:48:38.908Z"
   },
   {
    "duration": 36,
    "start_time": "2023-05-16T19:48:53.228Z"
   },
   {
    "duration": 29,
    "start_time": "2023-05-16T19:52:26.862Z"
   },
   {
    "duration": 17,
    "start_time": "2023-05-16T19:52:36.856Z"
   },
   {
    "duration": 4983,
    "start_time": "2023-05-17T16:45:59.008Z"
   },
   {
    "duration": 418,
    "start_time": "2023-05-17T16:46:04.008Z"
   },
   {
    "duration": 91,
    "start_time": "2023-05-17T16:46:04.428Z"
   },
   {
    "duration": 25,
    "start_time": "2023-05-17T16:46:04.534Z"
   },
   {
    "duration": 53,
    "start_time": "2023-05-17T16:46:04.562Z"
   },
   {
    "duration": 39,
    "start_time": "2023-05-17T16:46:04.618Z"
   },
   {
    "duration": 26,
    "start_time": "2023-05-17T16:46:04.660Z"
   },
   {
    "duration": 1954,
    "start_time": "2023-05-17T16:46:04.693Z"
   },
   {
    "duration": 200,
    "start_time": "2023-05-17T16:46:06.666Z"
   },
   {
    "duration": 28,
    "start_time": "2023-05-17T16:46:06.882Z"
   },
   {
    "duration": 40,
    "start_time": "2023-05-17T16:46:06.917Z"
   },
   {
    "duration": 121,
    "start_time": "2023-05-17T16:46:06.967Z"
   },
   {
    "duration": 1006,
    "start_time": "2023-05-17T16:46:07.095Z"
   },
   {
    "duration": 532,
    "start_time": "2023-05-17T16:46:08.107Z"
   },
   {
    "duration": 92,
    "start_time": "2023-05-17T16:46:08.655Z"
   },
   {
    "duration": 30,
    "start_time": "2023-05-17T16:46:08.750Z"
   },
   {
    "duration": 280,
    "start_time": "2023-05-17T16:46:08.785Z"
   },
   {
    "duration": 0,
    "start_time": "2023-05-17T16:46:09.070Z"
   },
   {
    "duration": 0,
    "start_time": "2023-05-17T16:46:09.072Z"
   },
   {
    "duration": 0,
    "start_time": "2023-05-17T16:46:09.074Z"
   },
   {
    "duration": 0,
    "start_time": "2023-05-17T16:46:09.075Z"
   },
   {
    "duration": 0,
    "start_time": "2023-05-17T16:46:09.077Z"
   },
   {
    "duration": 0,
    "start_time": "2023-05-17T16:46:09.080Z"
   },
   {
    "duration": 0,
    "start_time": "2023-05-17T16:46:09.082Z"
   },
   {
    "duration": 0,
    "start_time": "2023-05-17T16:46:09.085Z"
   },
   {
    "duration": 0,
    "start_time": "2023-05-17T16:46:09.087Z"
   },
   {
    "duration": 0,
    "start_time": "2023-05-17T16:46:09.089Z"
   },
   {
    "duration": 0,
    "start_time": "2023-05-17T16:46:09.092Z"
   },
   {
    "duration": 0,
    "start_time": "2023-05-17T16:46:09.095Z"
   },
   {
    "duration": 0,
    "start_time": "2023-05-17T16:46:09.097Z"
   },
   {
    "duration": 0,
    "start_time": "2023-05-17T16:46:09.100Z"
   },
   {
    "duration": 0,
    "start_time": "2023-05-17T16:46:09.102Z"
   },
   {
    "duration": 0,
    "start_time": "2023-05-17T16:46:09.106Z"
   },
   {
    "duration": 0,
    "start_time": "2023-05-17T16:46:09.109Z"
   },
   {
    "duration": 0,
    "start_time": "2023-05-17T16:46:09.111Z"
   },
   {
    "duration": 0,
    "start_time": "2023-05-17T16:46:09.114Z"
   },
   {
    "duration": 0,
    "start_time": "2023-05-17T16:46:09.118Z"
   },
   {
    "duration": 0,
    "start_time": "2023-05-17T16:46:09.121Z"
   },
   {
    "duration": 1,
    "start_time": "2023-05-17T16:46:09.123Z"
   },
   {
    "duration": 80,
    "start_time": "2023-05-17T16:46:09.290Z"
   },
   {
    "duration": 61,
    "start_time": "2023-05-17T16:46:10.030Z"
   },
   {
    "duration": 73,
    "start_time": "2023-05-17T16:46:10.394Z"
   },
   {
    "duration": 34,
    "start_time": "2023-05-17T16:46:53.401Z"
   },
   {
    "duration": 201,
    "start_time": "2023-05-17T16:46:54.230Z"
   },
   {
    "duration": 65,
    "start_time": "2023-05-17T16:46:54.915Z"
   },
   {
    "duration": 59,
    "start_time": "2023-05-17T16:46:55.420Z"
   },
   {
    "duration": 59,
    "start_time": "2023-05-17T16:46:55.610Z"
   },
   {
    "duration": 1191,
    "start_time": "2023-05-17T16:46:55.820Z"
   },
   {
    "duration": 550,
    "start_time": "2023-05-17T16:46:57.018Z"
   },
   {
    "duration": 54,
    "start_time": "2023-05-17T16:46:57.581Z"
   },
   {
    "duration": 56,
    "start_time": "2023-05-17T16:46:57.639Z"
   },
   {
    "duration": 108,
    "start_time": "2023-05-17T16:46:57.717Z"
   },
   {
    "duration": 64,
    "start_time": "2023-05-17T16:46:57.848Z"
   },
   {
    "duration": 984,
    "start_time": "2023-05-17T16:46:57.923Z"
   },
   {
    "duration": 247,
    "start_time": "2023-05-17T16:46:58.916Z"
   },
   {
    "duration": 58,
    "start_time": "2023-05-17T16:46:59.178Z"
   },
   {
    "duration": 82,
    "start_time": "2023-05-17T16:46:59.250Z"
   },
   {
    "duration": 131,
    "start_time": "2023-05-17T16:46:59.344Z"
   },
   {
    "duration": 1491,
    "start_time": "2023-05-17T16:46:59.490Z"
   },
   {
    "duration": 402,
    "start_time": "2023-05-17T16:47:00.998Z"
   },
   {
    "duration": 41,
    "start_time": "2023-05-17T16:47:01.417Z"
   },
   {
    "duration": 91,
    "start_time": "2023-05-17T16:47:01.460Z"
   },
   {
    "duration": 113,
    "start_time": "2023-05-17T16:47:01.562Z"
   },
   {
    "duration": 0,
    "start_time": "2023-05-17T16:47:01.696Z"
   },
   {
    "duration": 0,
    "start_time": "2023-05-17T16:47:01.703Z"
   },
   {
    "duration": 26,
    "start_time": "2023-05-17T16:47:02.618Z"
   },
   {
    "duration": 32,
    "start_time": "2023-05-17T16:47:03.902Z"
   },
   {
    "duration": 24,
    "start_time": "2023-05-17T16:47:06.329Z"
   },
   {
    "duration": 38,
    "start_time": "2023-05-17T16:47:07.399Z"
   },
   {
    "duration": 133,
    "start_time": "2023-05-17T16:47:10.333Z"
   },
   {
    "duration": 42,
    "start_time": "2023-05-17T16:47:11.822Z"
   },
   {
    "duration": 7,
    "start_time": "2023-05-17T16:48:17.713Z"
   },
   {
    "duration": 591,
    "start_time": "2023-05-17T16:48:18.311Z"
   },
   {
    "duration": 15,
    "start_time": "2023-05-17T16:48:19.558Z"
   },
   {
    "duration": 10,
    "start_time": "2023-05-17T16:48:20.665Z"
   },
   {
    "duration": 772,
    "start_time": "2023-05-17T16:48:26.813Z"
   },
   {
    "duration": 18,
    "start_time": "2023-05-17T16:48:35.307Z"
   }
  ],
  "colab": {
   "provenance": []
  },
  "kernelspec": {
   "display_name": "Python 3 (ipykernel)",
   "language": "python",
   "name": "python3"
  },
  "language_info": {
   "codemirror_mode": {
    "name": "ipython",
    "version": 3
   },
   "file_extension": ".py",
   "mimetype": "text/x-python",
   "name": "python",
   "nbconvert_exporter": "python",
   "pygments_lexer": "ipython3",
   "version": "3.10.9"
  },
  "toc": {
   "base_numbering": 1,
   "nav_menu": {},
   "number_sections": true,
   "sideBar": true,
   "skip_h1_title": true,
   "title_cell": "Table of Contents",
   "title_sidebar": "Contents",
   "toc_cell": false,
   "toc_position": {},
   "toc_section_display": true,
   "toc_window_display": false
  }
 },
 "nbformat": 4,
 "nbformat_minor": 1
}
