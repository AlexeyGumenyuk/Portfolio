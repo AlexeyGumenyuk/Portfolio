{
 "cells": [
  {
   "attachments": {},
   "cell_type": "markdown",
   "metadata": {},
   "source": [
    "# Рекомендация тарифов"
   ]
  },
  {
   "attachments": {},
   "cell_type": "markdown",
   "metadata": {},
   "source": [
    "В нашем распоряжении данные о поведении клиентов, которые уже перешли на эти тарифы (из проекта курса «Статистический анализ данных»). Нужно построить модель для задачи классификации, которая выберет подходящий тариф. Предобработка данных не понадобится — вы её уже сделали.\n",
    "\n",
    "Нужно построить модель с максимально большим значением *accuracy* (по крайней мере 0.75)."
   ]
  },
  {
   "cell_type": "markdown",
   "metadata": {},
   "source": [
    "**Описание данных**  \n",
    "Каждый объект в наборе данных — это информация о поведении одного пользователя за месяц.<br>\n",
    "Признаки:\n",
    "- `сalls` — количество звонков,\n",
    "- `minutes` — суммарная длительность звонков в минутах,\n",
    "- `messages` — количество sms-сообщений,\n",
    "- `mb_used` — израсходованный интернет-трафик в Мб,\n",
    "- `is_ultra` — каким тарифом пользовался в течение месяца («Ультра» — 1, «Смарт» — 0)."
   ]
  },
  {
   "attachments": {},
   "cell_type": "markdown",
   "metadata": {},
   "source": [
    "**Содержание**<a id='toc0_'></a>    \n",
    "- 1. [Общая информация о данных](#toc1_)    \n",
    "- 2. [Разделение данных на выборки](#toc2_)    \n",
    "- 3. [Исследование моделей](#toc3_)    \n",
    "- 4. [Проверка модели на тестовой выборке](#toc4_)    \n",
    "- 5. [Общий вывод](#toc5_)    \n",
    "- 6. [Чек-лист готовности проекта](#toc6_)    \n",
    "\n",
    "<!-- vscode-jupyter-toc-config\n",
    "\tnumbering=true\n",
    "\tanchor=true\n",
    "\tflat=false\n",
    "\tminLevel=2\n",
    "\tmaxLevel=6\n",
    "\t/vscode-jupyter-toc-config -->\n",
    "<!-- THIS CELL WILL BE REPLACED ON TOC UPDATE. DO NOT WRITE YOUR TEXT IN THIS CELL -->"
   ]
  },
  {
   "attachments": {},
   "cell_type": "markdown",
   "metadata": {},
   "source": [
    "## 1. <a id='toc1_'></a>[Общая информация о данных](#toc0_)"
   ]
  },
  {
   "cell_type": "code",
   "execution_count": 1,
   "metadata": {},
   "outputs": [],
   "source": [
    "import pandas as pd\n",
    "import matplotlib.pyplot as plt\n",
    "\n",
    "from sklearn.model_selection import train_test_split\n",
    "from sklearn.tree import DecisionTreeClassifier\n",
    "from sklearn.ensemble import RandomForestClassifier\n",
    "from sklearn.linear_model import LogisticRegression\n",
    "from sklearn.metrics import accuracy_score"
   ]
  },
  {
   "cell_type": "code",
   "execution_count": 2,
   "metadata": {},
   "outputs": [],
   "source": [
    "df = pd.read_csv('users_behavior.csv')"
   ]
  },
  {
   "cell_type": "code",
   "execution_count": 3,
   "metadata": {},
   "outputs": [
    {
     "data": {
      "text/html": [
       "<div>\n",
       "<style scoped>\n",
       "    .dataframe tbody tr th:only-of-type {\n",
       "        vertical-align: middle;\n",
       "    }\n",
       "\n",
       "    .dataframe tbody tr th {\n",
       "        vertical-align: top;\n",
       "    }\n",
       "\n",
       "    .dataframe thead th {\n",
       "        text-align: right;\n",
       "    }\n",
       "</style>\n",
       "<table border=\"1\" class=\"dataframe\">\n",
       "  <thead>\n",
       "    <tr style=\"text-align: right;\">\n",
       "      <th></th>\n",
       "      <th>calls</th>\n",
       "      <th>minutes</th>\n",
       "      <th>messages</th>\n",
       "      <th>mb_used</th>\n",
       "      <th>is_ultra</th>\n",
       "    </tr>\n",
       "  </thead>\n",
       "  <tbody>\n",
       "    <tr>\n",
       "      <th>0</th>\n",
       "      <td>40.0</td>\n",
       "      <td>311.90</td>\n",
       "      <td>83.0</td>\n",
       "      <td>19915.42</td>\n",
       "      <td>0</td>\n",
       "    </tr>\n",
       "    <tr>\n",
       "      <th>1</th>\n",
       "      <td>85.0</td>\n",
       "      <td>516.75</td>\n",
       "      <td>56.0</td>\n",
       "      <td>22696.96</td>\n",
       "      <td>0</td>\n",
       "    </tr>\n",
       "    <tr>\n",
       "      <th>2</th>\n",
       "      <td>77.0</td>\n",
       "      <td>467.66</td>\n",
       "      <td>86.0</td>\n",
       "      <td>21060.45</td>\n",
       "      <td>0</td>\n",
       "    </tr>\n",
       "    <tr>\n",
       "      <th>3</th>\n",
       "      <td>106.0</td>\n",
       "      <td>745.53</td>\n",
       "      <td>81.0</td>\n",
       "      <td>8437.39</td>\n",
       "      <td>1</td>\n",
       "    </tr>\n",
       "    <tr>\n",
       "      <th>4</th>\n",
       "      <td>66.0</td>\n",
       "      <td>418.74</td>\n",
       "      <td>1.0</td>\n",
       "      <td>14502.75</td>\n",
       "      <td>0</td>\n",
       "    </tr>\n",
       "  </tbody>\n",
       "</table>\n",
       "</div>"
      ],
      "text/plain": [
       "   calls  minutes  messages   mb_used  is_ultra\n",
       "0   40.0   311.90      83.0  19915.42         0\n",
       "1   85.0   516.75      56.0  22696.96         0\n",
       "2   77.0   467.66      86.0  21060.45         0\n",
       "3  106.0   745.53      81.0   8437.39         1\n",
       "4   66.0   418.74       1.0  14502.75         0"
      ]
     },
     "execution_count": 3,
     "metadata": {},
     "output_type": "execute_result"
    }
   ],
   "source": [
    "df.head()"
   ]
  },
  {
   "cell_type": "code",
   "execution_count": 4,
   "metadata": {},
   "outputs": [
    {
     "name": "stdout",
     "output_type": "stream",
     "text": [
      "<class 'pandas.core.frame.DataFrame'>\n",
      "RangeIndex: 3214 entries, 0 to 3213\n",
      "Data columns (total 5 columns):\n",
      " #   Column    Non-Null Count  Dtype  \n",
      "---  ------    --------------  -----  \n",
      " 0   calls     3214 non-null   float64\n",
      " 1   minutes   3214 non-null   float64\n",
      " 2   messages  3214 non-null   float64\n",
      " 3   mb_used   3214 non-null   float64\n",
      " 4   is_ultra  3214 non-null   int64  \n",
      "dtypes: float64(4), int64(1)\n",
      "memory usage: 125.7 KB\n"
     ]
    }
   ],
   "source": [
    "df.info()"
   ]
  },
  {
   "attachments": {},
   "cell_type": "markdown",
   "metadata": {},
   "source": [
    "Рассмотрим сооотношение классов целевого признака."
   ]
  },
  {
   "cell_type": "code",
   "execution_count": 5,
   "metadata": {},
   "outputs": [
    {
     "data": {
      "image/png": "[encoded data removed]",
      "text/plain": [
       "<Figure size 1000x700 with 1 Axes>"
      ]
     },
     "metadata": {},
     "output_type": "display_data"
    }
   ],
   "source": [
    "fig, ax = plt.subplots(figsize=(10, 7))\n",
    "df.is_ultra.hist()\n",
    "ax.set(title='Соотношение классов целевого признака', xticks=[0.05, 0.95])\n",
    "ax.set_xticklabels(['Smart', 'Ultra']);"
   ]
  },
  {
   "attachments": {},
   "cell_type": "markdown",
   "metadata": {},
   "source": [
    "**Вывод по разделу 1:**\n",
    "\n",
    "В датасете 5 столбцов, `is_ultra` - тариф, целевой признак; пропуски отсутствуют, типы данных изменять не нужно."
   ]
  },
  {
   "attachments": {},
   "cell_type": "markdown",
   "metadata": {},
   "source": [
    "## 2. <a id='toc2_'></a>[Разделение данных на выборки](#toc0_)"
   ]
  },
  {
   "attachments": {},
   "cell_type": "markdown",
   "metadata": {},
   "source": [
    "Отделим целевой признак от остальных."
   ]
  },
  {
   "cell_type": "code",
   "execution_count": 6,
   "metadata": {},
   "outputs": [],
   "source": [
    "features = df.drop(columns=['is_ultra'])\n",
    "target = df['is_ultra']"
   ]
  },
  {
   "attachments": {},
   "cell_type": "markdown",
   "metadata": {},
   "source": [
    "Теперь разобьём на три выборки: обучающую, валидационную и тестовую."
   ]
  },
  {
   "cell_type": "code",
   "execution_count": 7,
   "metadata": {},
   "outputs": [],
   "source": [
    "train_valid_features, test_features, train_valid_target, test_target = train_test_split(\n",
    "    features, target, random_state=24542, test_size=0.2)"
   ]
  },
  {
   "cell_type": "code",
   "execution_count": 8,
   "metadata": {},
   "outputs": [],
   "source": [
    "train_features, valid_features, train_target, valid_target = train_test_split(\n",
    "    train_valid_features, train_valid_target, random_state=24542, test_size=0.25)"
   ]
  },
  {
   "attachments": {},
   "cell_type": "markdown",
   "metadata": {},
   "source": [
    "Выведем явно размеры получившихся выборок, это поможет быстро оценить корректность разделения на выборки."
   ]
  },
  {
   "cell_type": "code",
   "execution_count": 9,
   "metadata": {},
   "outputs": [
    {
     "name": "stdout",
     "output_type": "stream",
     "text": [
      "(1928, 4)\n",
      "(643, 4)\n",
      "(643, 4)\n",
      "(1928,)\n",
      "(643,)\n",
      "(643,)\n"
     ]
    }
   ],
   "source": [
    "for sample in [train_features, valid_features, test_features, train_target, valid_target, test_target]:\n",
    "    print(sample.shape)"
   ]
  },
  {
   "attachments": {},
   "cell_type": "markdown",
   "metadata": {},
   "source": [
    "**Вывод по разделу 2:**\n",
    "\n",
    "Данные разбиты на выборки в пропорции 3:1:1."
   ]
  },
  {
   "attachments": {},
   "cell_type": "markdown",
   "metadata": {},
   "source": [
    "## 3. <a id='toc3_'></a>[Исследование моделей](#toc0_)"
   ]
  },
  {
   "attachments": {},
   "cell_type": "markdown",
   "metadata": {},
   "source": [
    "Для начала исследуем простую модель - дерево решений - при разных значениях максимальной глубины.\n",
    "<br>Рассмотрим как при изменении гиперпараметров меняется точность на обучающем и валидационых наборах."
   ]
  },
  {
   "cell_type": "code",
   "execution_count": 10,
   "metadata": {},
   "outputs": [
    {
     "name": "stdout",
     "output_type": "stream",
     "text": [
      "При depth = 1, accuracy = 0.7402799377916018\n",
      "При depth = 2, accuracy = 0.7900466562986003\n",
      "При depth = 3, accuracy = 0.8055987558320373\n",
      "При depth = 4, accuracy = 0.7807153965785381\n",
      "При depth = 5, accuracy = 0.7900466562986003\n",
      "При depth = 6, accuracy = 0.7916018662519441\n",
      "При depth = 7, accuracy = 0.7962674961119751\n",
      "При depth = 8, accuracy = 0.7900466562986003\n",
      "При depth = 9, accuracy = 0.8040435458786936\n",
      "При depth = 10, accuracy = 0.7962674961119751\n"
     ]
    }
   ],
   "source": [
    "best_tree_model = None\n",
    "best_tree_accuracy = 0\n",
    "train_accuracy, valid_accuracy = [], []\n",
    "for depth in range(1, 11):\n",
    "    model = DecisionTreeClassifier(random_state=54524, max_depth=depth)\n",
    "    model.fit(train_features, train_target)\n",
    "    \n",
    "    train_predictions = model.predict(train_features)\n",
    "    train_accuracy.append(accuracy_score(train_target, train_predictions))\n",
    "    \n",
    "    valid_predictions = model.predict(valid_features)\n",
    "    \n",
    "    accuracy = accuracy_score(valid_target, valid_predictions)\n",
    "    valid_accuracy.append(accuracy)\n",
    "    \n",
    "    print(f'При depth = {depth}, accuracy = {accuracy}')\n",
    "    if accuracy > best_tree_accuracy:\n",
    "        best_tree_model = model"
   ]
  },
  {
   "cell_type": "code",
   "execution_count": 11,
   "metadata": {},
   "outputs": [
    {
     "data": {
      "image/png": "[encoded data removed]",
      "text/plain": [
       "<Figure size 1200x700 with 1 Axes>"
      ]
     },
     "metadata": {},
     "output_type": "display_data"
    }
   ],
   "source": [
    "fig, ax = plt.subplots(figsize=(12, 7))\n",
    "ax.set(xlabel='depth', ylabel='accuracy')\n",
    "plt.title('Accuracy на обучающей и валидационной выборках')\n",
    "ax.plot(range(1, 11), train_accuracy, label='train')\n",
    "ax.plot(range(1, 11), valid_accuracy, label='valid')\n",
    "ax.legend(fontsize='x-large');\n",
    "ax.grid(True)"
   ]
  },
  {
   "attachments": {},
   "cell_type": "markdown",
   "metadata": {},
   "source": [
    "Здесь наибольшую долю правильных ответов показала модель с depth = 3."
   ]
  },
  {
   "attachments": {},
   "cell_type": "markdown",
   "metadata": {},
   "source": [
    "Теперь изучим модель \"Случайный лес\". Будем изменять количество деревьев и максимальную глубину."
   ]
  },
  {
   "cell_type": "code",
   "execution_count": 12,
   "metadata": {},
   "outputs": [
    {
     "name": "stdout",
     "output_type": "stream",
     "text": [
      "Наибольше значение accuracy - 0.8195956454121306 - достигается при depth = 10 и n_estimators = 100\n"
     ]
    }
   ],
   "source": [
    "best_forest_model = None\n",
    "best_forest_accuracy = 0\n",
    "best_n_est, best_depth = 0, 0\n",
    "train_accuracy, valid_accuracy = [], []\n",
    "\n",
    "for n_est in range(10, 101, 10):\n",
    "    for depth in range(1, 11):\n",
    "        model = RandomForestClassifier(\n",
    "            random_state=54524, n_estimators=n_est, max_depth=depth)\n",
    "        \n",
    "        model.fit(train_features, train_target)\n",
    "        \n",
    "        valid_predictions = model.predict(valid_features)\n",
    "        accuracy = accuracy_score(valid_target, valid_predictions)\n",
    "        \n",
    "        if accuracy > best_forest_accuracy:\n",
    "            best_forest_accuracy = accuracy\n",
    "            best_n_est, best_depth = n_est, depth\n",
    "    \n",
    "    train_predictions = model.predict(train_features)\n",
    "    train_accuracy.append(accuracy_score(train_target, train_predictions))\n",
    "    valid_accuracy.append(accuracy)\n",
    "    \n",
    "\n",
    "print(f'''Наибольше значение accuracy - {best_forest_accuracy} - достигается при depth = {best_depth} и n_estimators = {best_n_est}''')"
   ]
  },
  {
   "attachments": {},
   "cell_type": "markdown",
   "metadata": {},
   "source": [
    "График при глубине, равной 10:"
   ]
  },
  {
   "cell_type": "code",
   "execution_count": 13,
   "metadata": {
    "scrolled": false
   },
   "outputs": [
    {
     "data": {
      "image/png": "[encoded data removed]",
      "text/plain": [
       "<Figure size 1200x700 with 1 Axes>"
      ]
     },
     "metadata": {},
     "output_type": "display_data"
    }
   ],
   "source": [
    "fig, ax = plt.subplots(figsize=(12, 7))\n",
    "ax.set(xlabel='estimators number', ylabel='accuracy')\n",
    "plt.title('Accuracy на обучающей и валидационной выборках')\n",
    "ax.plot(range(10, 101, 10), train_accuracy, label='train')\n",
    "ax.plot(range(10, 101, 10), valid_accuracy, label='valid')\n",
    "ax.legend(fontsize='x-large');\n",
    "ax.grid(True)"
   ]
  },
  {
   "attachments": {},
   "cell_type": "markdown",
   "metadata": {},
   "source": [
    "Случайный лес исследован следующим образом:\n",
    " - исследовано 10 значений гиперпараметров\n",
    " - модель обучена на обучающем наборе\n",
    " - получена оценка качества на валидационном наборе\n",
    " - перебор гиперпараметров осуществляется в цикле\n"
   ]
  },
  {
   "attachments": {},
   "cell_type": "markdown",
   "metadata": {},
   "source": [
    "Лучшая модель имеет такие гиперпараметры: depth = 10, n_estimators = 101.\n"
   ]
  },
  {
   "attachments": {},
   "cell_type": "markdown",
   "metadata": {},
   "source": [
    "Также изучим логистическую регрессию."
   ]
  },
  {
   "cell_type": "code",
   "execution_count": 14,
   "metadata": {},
   "outputs": [
    {
     "name": "stdout",
     "output_type": "stream",
     "text": [
      "Accuracy на тренировочной выборке = 0.6981327800829875, на валидационной = 0.7076205287713841\n"
     ]
    }
   ],
   "source": [
    "model = LogisticRegression(random_state=54524, max_iter=1000)\n",
    "model.fit(train_features, train_target)\n",
    "\n",
    "train_predictions = model.predict(train_features)\n",
    "train_accuracy = accuracy_score(train_target, train_predictions)\n",
    "\n",
    "valid_predictions = model.predict(valid_features)\n",
    "\n",
    "valid_accuracy = accuracy_score(valid_target, valid_predictions)\n",
    "\n",
    "print(f'Accuracy на тренировочной выборке = {train_accuracy}, на валидационной = {valid_accuracy}')"
   ]
  },
  {
   "attachments": {},
   "cell_type": "markdown",
   "metadata": {},
   "source": [
    "Логистическая регрессия показала себя хуже остальных моделей."
   ]
  },
  {
   "attachments": {},
   "cell_type": "markdown",
   "metadata": {},
   "source": [
    "**Вывод по разделу 3:**\n",
    "\n",
    "Лучшая модель - случайный лес со следующими гиперпараметрами: depth = 10, n_estimators = 100."
   ]
  },
  {
   "attachments": {},
   "cell_type": "markdown",
   "metadata": {},
   "source": [
    "## 4. <a id='toc4_'></a>[Проверка модели на тестовой выборке](#toc0_)"
   ]
  },
  {
   "attachments": {},
   "cell_type": "markdown",
   "metadata": {},
   "source": [
    "Найдём *accuracy* модели, полученной в предыдущем разделе, на тестовой выборке.\n",
    "\n",
    "Сейчас, когда гиперпараметры подобраны и валидационная выборка нам не нужна, мы можем обучить модель на большой выборке (обучающая + валидационная), а тестирование новой модели произвести уже на тестовой выборке."
   ]
  },
  {
   "cell_type": "code",
   "execution_count": 15,
   "metadata": {},
   "outputs": [
    {
     "name": "stdout",
     "output_type": "stream",
     "text": [
      "Итоговое значение accuracy модели: 0.8227060653188181\n"
     ]
    }
   ],
   "source": [
    "best_model = RandomForestClassifier(\n",
    "                random_state=42524, n_estimators=100, max_depth=10)\n",
    "\n",
    "best_model.fit(train_valid_features, train_valid_target)\n",
    "\n",
    "predictions = best_model.predict(test_features)\n",
    "\n",
    "accuracy = accuracy_score(test_target, predictions)\n",
    "print(f'Итоговое значение accuracy модели: {accuracy}')"
   ]
  },
  {
   "attachments": {},
   "cell_type": "markdown",
   "metadata": {},
   "source": [
    "Поставленная цель - достичь *accuracy* не менее 0.75 - достигнута."
   ]
  },
  {
   "attachments": {},
   "cell_type": "markdown",
   "metadata": {},
   "source": [
    "## 5. <a id='toc5_'></a>[Общий вывод](#toc0_)"
   ]
  },
  {
   "attachments": {},
   "cell_type": "markdown",
   "metadata": {},
   "source": [
    "- В ходе исследования изучены три модели с различными гиперпараметрами: дерево решений, случайный лес и логистическая регрессия.\n",
    "- В качестве лучшей модели выбрана модель \"случайного леса\" количество деревьев - 100, глубина - 10.  \n",
    "- Полученное значение *accuracy* составляет `0.82`."
   ]
  },
  {
   "attachments": {},
   "cell_type": "markdown",
   "metadata": {},
   "source": [
    "## 6. <a id='toc6_'></a>[Чек-лист готовности проекта](#toc0_)"
   ]
  },
  {
   "attachments": {},
   "cell_type": "markdown",
   "metadata": {},
   "source": [
    "- [x] Jupyter Notebook открыт\n",
    "- [x] Весь код исполняется без ошибок\n",
    "- [x] Ячейки с кодом расположены в порядке исполнения\n",
    "- [x] Данные загружены и изучены\n",
    "- [x] Данные разбиты на три выборки\n",
    "- [x] Проведено исследование моделей\n",
    "    - [x] Рассмотрено больше одной модели\n",
    "    - [x] Рассмотрено хотя бы 3 значения гипепараметров для какой-нибудь модели\n",
    "    - [x] Написаны выводы по результатам исследования\n",
    "- [x] Проведено тестирование\n",
    "- [x] Удалось достичь accuracy не меньше 0.75\n"
   ]
  },
  {
   "cell_type": "code",
   "execution_count": null,
   "metadata": {},
   "outputs": [],
   "source": []
  }
 ],
 "metadata": {
  "ExecuteTimeLog": [
   {
    "duration": 395,
    "start_time": "2022-11-22T09:26:43.454Z"
   },
   {
    "duration": 2,
    "start_time": "2022-11-22T09:26:44.084Z"
   },
   {
    "duration": 117,
    "start_time": "2022-11-22T09:27:07.707Z"
   },
   {
    "duration": 14,
    "start_time": "2022-11-22T09:27:24.129Z"
   },
   {
    "duration": 11,
    "start_time": "2022-11-22T09:27:35.133Z"
   },
   {
    "duration": 611,
    "start_time": "2022-11-22T09:35:18.739Z"
   },
   {
    "duration": 4,
    "start_time": "2022-11-22T09:39:50.988Z"
   },
   {
    "duration": 2,
    "start_time": "2022-11-22T09:41:14.283Z"
   },
   {
    "duration": 6,
    "start_time": "2022-11-22T09:46:31.988Z"
   },
   {
    "duration": 15,
    "start_time": "2022-11-22T09:46:44.519Z"
   },
   {
    "duration": 6,
    "start_time": "2022-11-22T09:51:45.637Z"
   },
   {
    "duration": 40,
    "start_time": "2022-11-22T09:59:30.029Z"
   },
   {
    "duration": 2,
    "start_time": "2022-11-22T10:04:00.987Z"
   },
   {
    "duration": 3,
    "start_time": "2022-11-22T10:04:47.954Z"
   },
   {
    "duration": 51,
    "start_time": "2022-11-22T10:09:39.463Z"
   },
   {
    "duration": 38,
    "start_time": "2022-11-22T10:09:43.770Z"
   },
   {
    "duration": 14,
    "start_time": "2022-11-22T10:31:00.127Z"
   },
   {
    "duration": 2,
    "start_time": "2022-11-22T10:31:58.583Z"
   },
   {
    "duration": 2,
    "start_time": "2022-11-22T10:43:51.379Z"
   },
   {
    "duration": 4,
    "start_time": "2022-11-22T10:46:31.073Z"
   },
   {
    "duration": 4,
    "start_time": "2022-11-22T10:46:59.510Z"
   },
   {
    "duration": 4,
    "start_time": "2022-11-22T10:47:29.101Z"
   },
   {
    "duration": 97,
    "start_time": "2022-11-22T10:48:14.806Z"
   },
   {
    "duration": 4,
    "start_time": "2022-11-22T10:48:28.106Z"
   },
   {
    "duration": 4,
    "start_time": "2022-11-22T10:50:22.811Z"
   },
   {
    "duration": 10,
    "start_time": "2022-11-22T10:50:40.923Z"
   },
   {
    "duration": 10,
    "start_time": "2022-11-22T11:17:59.346Z"
   },
   {
    "duration": 16,
    "start_time": "2022-11-22T11:18:14.418Z"
   },
   {
    "duration": 18,
    "start_time": "2022-11-22T11:18:23.728Z"
   },
   {
    "duration": 897,
    "start_time": "2022-11-22T11:18:30.615Z"
   },
   {
    "duration": 980,
    "start_time": "2022-11-22T11:19:02.477Z"
   },
   {
    "duration": 933,
    "start_time": "2022-11-22T11:21:17.745Z"
   },
   {
    "duration": 893,
    "start_time": "2022-11-22T11:21:27.687Z"
   },
   {
    "duration": 925,
    "start_time": "2022-11-22T11:23:01.938Z"
   },
   {
    "duration": 10,
    "start_time": "2022-11-22T11:36:46.636Z"
   },
   {
    "duration": 410,
    "start_time": "2022-11-22T12:20:50.281Z"
   },
   {
    "duration": 30,
    "start_time": "2022-11-22T12:20:50.693Z"
   },
   {
    "duration": 15,
    "start_time": "2022-11-22T12:20:50.725Z"
   },
   {
    "duration": 17,
    "start_time": "2022-11-22T12:20:50.742Z"
   },
   {
    "duration": 7,
    "start_time": "2022-11-22T12:20:50.760Z"
   },
   {
    "duration": 645,
    "start_time": "2022-11-22T12:20:50.769Z"
   },
   {
    "duration": 5,
    "start_time": "2022-11-22T12:20:51.416Z"
   },
   {
    "duration": 9,
    "start_time": "2022-11-22T12:20:51.422Z"
   },
   {
    "duration": 35,
    "start_time": "2022-11-22T12:20:51.433Z"
   },
   {
    "duration": 50,
    "start_time": "2022-11-22T12:20:51.470Z"
   },
   {
    "duration": 10,
    "start_time": "2022-11-22T12:20:51.522Z"
   },
   {
    "duration": 1007,
    "start_time": "2022-11-22T12:20:51.533Z"
   },
   {
    "duration": 0,
    "start_time": "2022-11-22T12:20:52.542Z"
   },
   {
    "duration": 348,
    "start_time": "2022-11-22T12:21:27.842Z"
   },
   {
    "duration": 34,
    "start_time": "2022-11-22T12:21:28.192Z"
   },
   {
    "duration": 14,
    "start_time": "2022-11-22T12:21:28.228Z"
   },
   {
    "duration": 10,
    "start_time": "2022-11-22T12:21:28.244Z"
   },
   {
    "duration": 8,
    "start_time": "2022-11-22T12:21:28.255Z"
   },
   {
    "duration": 637,
    "start_time": "2022-11-22T12:21:28.264Z"
   },
   {
    "duration": 5,
    "start_time": "2022-11-22T12:21:28.902Z"
   },
   {
    "duration": 8,
    "start_time": "2022-11-22T12:21:28.909Z"
   },
   {
    "duration": 35,
    "start_time": "2022-11-22T12:21:28.918Z"
   },
   {
    "duration": 48,
    "start_time": "2022-11-22T12:21:28.955Z"
   },
   {
    "duration": 9,
    "start_time": "2022-11-22T12:21:29.005Z"
   },
   {
    "duration": 896,
    "start_time": "2022-11-22T12:21:29.016Z"
   },
   {
    "duration": 9,
    "start_time": "2022-11-22T12:21:29.914Z"
   },
   {
    "duration": 431,
    "start_time": "2022-11-22T12:27:01.199Z"
   },
   {
    "duration": 31,
    "start_time": "2022-11-22T12:27:01.632Z"
   },
   {
    "duration": 17,
    "start_time": "2022-11-22T12:27:01.665Z"
   },
   {
    "duration": 72,
    "start_time": "2022-11-22T12:27:01.684Z"
   },
   {
    "duration": 52,
    "start_time": "2022-11-22T12:27:01.757Z"
   },
   {
    "duration": 1002,
    "start_time": "2022-11-22T12:27:01.811Z"
   },
   {
    "duration": 6,
    "start_time": "2022-11-22T12:27:02.815Z"
   },
   {
    "duration": 9,
    "start_time": "2022-11-22T12:27:02.822Z"
   },
   {
    "duration": 55,
    "start_time": "2022-11-22T12:27:02.833Z"
   },
   {
    "duration": 39,
    "start_time": "2022-11-22T12:27:02.890Z"
   },
   {
    "duration": 9,
    "start_time": "2022-11-22T12:27:02.931Z"
   },
   {
    "duration": 926,
    "start_time": "2022-11-22T12:27:02.942Z"
   },
   {
    "duration": 8,
    "start_time": "2022-11-22T12:27:03.870Z"
   },
   {
    "duration": 457,
    "start_time": "2022-11-22T12:28:23.401Z"
   },
   {
    "duration": 33,
    "start_time": "2022-11-22T12:28:23.860Z"
   },
   {
    "duration": 16,
    "start_time": "2022-11-22T12:28:23.895Z"
   },
   {
    "duration": 13,
    "start_time": "2022-11-22T12:28:23.913Z"
   },
   {
    "duration": 8,
    "start_time": "2022-11-22T12:28:23.928Z"
   },
   {
    "duration": 657,
    "start_time": "2022-11-22T12:28:23.937Z"
   },
   {
    "duration": 6,
    "start_time": "2022-11-22T12:28:24.597Z"
   },
   {
    "duration": 22,
    "start_time": "2022-11-22T12:28:24.605Z"
   },
   {
    "duration": 45,
    "start_time": "2022-11-22T12:28:24.629Z"
   },
   {
    "duration": 45,
    "start_time": "2022-11-22T12:28:24.675Z"
   },
   {
    "duration": 11,
    "start_time": "2022-11-22T12:28:24.722Z"
   },
   {
    "duration": 1082,
    "start_time": "2022-11-22T12:28:24.735Z"
   },
   {
    "duration": 10,
    "start_time": "2022-11-22T12:28:25.819Z"
   },
   {
    "duration": 762,
    "start_time": "2022-11-22T13:37:39.927Z"
   },
   {
    "duration": 62,
    "start_time": "2022-11-22T13:37:40.692Z"
   },
   {
    "duration": 45,
    "start_time": "2022-11-22T13:37:40.756Z"
   },
   {
    "duration": 18,
    "start_time": "2022-11-22T13:37:40.852Z"
   },
   {
    "duration": 16,
    "start_time": "2022-11-22T13:37:40.873Z"
   },
   {
    "duration": 1684,
    "start_time": "2022-11-22T13:37:40.892Z"
   },
   {
    "duration": 7,
    "start_time": "2022-11-22T13:37:42.578Z"
   },
   {
    "duration": 65,
    "start_time": "2022-11-22T13:37:42.588Z"
   },
   {
    "duration": 118,
    "start_time": "2022-11-22T13:37:42.655Z"
   },
   {
    "duration": 108,
    "start_time": "2022-11-22T13:37:42.775Z"
   },
   {
    "duration": 66,
    "start_time": "2022-11-22T13:37:42.885Z"
   },
   {
    "duration": 2839,
    "start_time": "2022-11-22T13:37:42.953Z"
   },
   {
    "duration": 63,
    "start_time": "2022-11-22T13:37:45.793Z"
   },
   {
    "duration": 5,
    "start_time": "2022-11-22T13:51:55.279Z"
   },
   {
    "duration": 1132,
    "start_time": "2022-11-22T16:49:40.172Z"
   },
   {
    "duration": 69,
    "start_time": "2022-11-22T18:17:19.336Z"
   },
   {
    "duration": 1243,
    "start_time": "2022-11-22T18:17:25.142Z"
   },
   {
    "duration": 97,
    "start_time": "2022-11-22T18:17:26.387Z"
   },
   {
    "duration": 18,
    "start_time": "2022-11-22T18:17:26.485Z"
   },
   {
    "duration": 12,
    "start_time": "2022-11-22T18:17:26.506Z"
   },
   {
    "duration": 66,
    "start_time": "2022-11-22T18:17:26.519Z"
   },
   {
    "duration": 5,
    "start_time": "2022-11-22T18:17:26.587Z"
   },
   {
    "duration": 8,
    "start_time": "2022-11-22T18:17:26.594Z"
   },
   {
    "duration": 6,
    "start_time": "2022-11-22T18:17:26.604Z"
   },
   {
    "duration": 53,
    "start_time": "2022-11-22T18:17:26.612Z"
   },
   {
    "duration": 11,
    "start_time": "2022-11-22T18:17:26.667Z"
   },
   {
    "duration": 1188,
    "start_time": "2022-11-22T18:17:26.680Z"
   },
   {
    "duration": 10,
    "start_time": "2022-11-22T18:17:27.870Z"
   },
   {
    "duration": 644,
    "start_time": "2022-11-22T18:17:56.304Z"
   },
   {
    "duration": 9,
    "start_time": "2022-11-22T18:24:19.418Z"
   },
   {
    "duration": 7,
    "start_time": "2022-11-22T18:24:39.941Z"
   },
   {
    "duration": 7,
    "start_time": "2022-11-22T18:24:40.236Z"
   },
   {
    "duration": 5,
    "start_time": "2022-11-22T18:24:40.575Z"
   },
   {
    "duration": 119,
    "start_time": "2022-11-22T18:28:59.719Z"
   },
   {
    "duration": 141,
    "start_time": "2022-11-22T18:30:40.705Z"
   },
   {
    "duration": 100,
    "start_time": "2022-11-22T18:31:15.997Z"
   },
   {
    "duration": 6,
    "start_time": "2022-11-22T18:31:48.152Z"
   },
   {
    "duration": 159,
    "start_time": "2022-11-22T18:34:24.377Z"
   },
   {
    "duration": 113,
    "start_time": "2022-11-22T18:35:54.122Z"
   },
   {
    "duration": 155,
    "start_time": "2022-11-22T18:35:59.052Z"
   },
   {
    "duration": 186,
    "start_time": "2022-11-22T18:36:14.862Z"
   },
   {
    "duration": 125,
    "start_time": "2022-11-22T18:36:18.077Z"
   },
   {
    "duration": 279,
    "start_time": "2022-11-22T18:37:06.961Z"
   },
   {
    "duration": 159,
    "start_time": "2022-11-22T18:37:44.579Z"
   },
   {
    "duration": 205,
    "start_time": "2022-11-22T18:37:54.777Z"
   },
   {
    "duration": 93,
    "start_time": "2022-11-22T18:38:07.070Z"
   },
   {
    "duration": 130,
    "start_time": "2022-11-22T18:38:10.720Z"
   },
   {
    "duration": 149,
    "start_time": "2022-11-22T18:38:19.163Z"
   },
   {
    "duration": 139,
    "start_time": "2022-11-22T18:42:01.268Z"
   },
   {
    "duration": 129,
    "start_time": "2022-11-22T18:42:26.357Z"
   },
   {
    "duration": 168,
    "start_time": "2022-11-22T18:42:29.672Z"
   },
   {
    "duration": 141,
    "start_time": "2022-11-22T18:42:33.550Z"
   },
   {
    "duration": 143,
    "start_time": "2022-11-22T18:43:07.543Z"
   },
   {
    "duration": 140,
    "start_time": "2022-11-22T18:43:12.318Z"
   },
   {
    "duration": 208,
    "start_time": "2022-11-22T18:43:26.256Z"
   },
   {
    "duration": 210,
    "start_time": "2022-11-22T18:43:33.778Z"
   },
   {
    "duration": 270,
    "start_time": "2022-11-22T18:43:57.376Z"
   },
   {
    "duration": 27,
    "start_time": "2022-11-22T18:46:02.488Z"
   },
   {
    "duration": 135,
    "start_time": "2022-11-22T18:46:27.922Z"
   },
   {
    "duration": 121,
    "start_time": "2022-11-22T18:46:33.382Z"
   },
   {
    "duration": 170,
    "start_time": "2022-11-22T18:46:41.765Z"
   },
   {
    "duration": 166,
    "start_time": "2022-11-22T18:47:24.416Z"
   },
   {
    "duration": 153,
    "start_time": "2022-11-22T18:47:29.153Z"
   },
   {
    "duration": 196,
    "start_time": "2022-11-22T18:47:46.556Z"
   },
   {
    "duration": 169,
    "start_time": "2022-11-22T18:48:22.806Z"
   },
   {
    "duration": 201,
    "start_time": "2022-11-22T18:48:26.358Z"
   },
   {
    "duration": 185,
    "start_time": "2022-11-22T18:49:42.780Z"
   },
   {
    "duration": 259,
    "start_time": "2022-11-22T18:49:49.099Z"
   },
   {
    "duration": 198,
    "start_time": "2022-11-22T18:49:57.941Z"
   },
   {
    "duration": 1456,
    "start_time": "2022-11-22T18:50:16.500Z"
   },
   {
    "duration": 30,
    "start_time": "2022-11-22T18:50:17.958Z"
   },
   {
    "duration": 13,
    "start_time": "2022-11-22T18:50:17.990Z"
   },
   {
    "duration": 15,
    "start_time": "2022-11-22T18:50:18.005Z"
   },
   {
    "duration": 142,
    "start_time": "2022-11-22T18:50:18.021Z"
   },
   {
    "duration": 0,
    "start_time": "2022-11-22T18:50:18.165Z"
   },
   {
    "duration": 0,
    "start_time": "2022-11-22T18:50:18.167Z"
   },
   {
    "duration": 0,
    "start_time": "2022-11-22T18:50:18.168Z"
   },
   {
    "duration": 0,
    "start_time": "2022-11-22T18:50:18.169Z"
   },
   {
    "duration": 0,
    "start_time": "2022-11-22T18:50:18.170Z"
   },
   {
    "duration": 0,
    "start_time": "2022-11-22T18:50:18.172Z"
   },
   {
    "duration": 0,
    "start_time": "2022-11-22T18:50:18.173Z"
   },
   {
    "duration": 1475,
    "start_time": "2022-11-22T18:50:38.877Z"
   },
   {
    "duration": 32,
    "start_time": "2022-11-22T18:50:40.354Z"
   },
   {
    "duration": 17,
    "start_time": "2022-11-22T18:50:40.388Z"
   },
   {
    "duration": 14,
    "start_time": "2022-11-22T18:50:40.408Z"
   },
   {
    "duration": 33,
    "start_time": "2022-11-22T18:50:40.423Z"
   },
   {
    "duration": 7,
    "start_time": "2022-11-22T18:50:40.458Z"
   },
   {
    "duration": 7,
    "start_time": "2022-11-22T18:50:40.467Z"
   },
   {
    "duration": 7,
    "start_time": "2022-11-22T18:50:40.476Z"
   },
   {
    "duration": 118,
    "start_time": "2022-11-22T18:50:40.486Z"
   },
   {
    "duration": 261,
    "start_time": "2022-11-22T18:50:40.607Z"
   },
   {
    "duration": 15,
    "start_time": "2022-11-22T18:50:40.870Z"
   },
   {
    "duration": 1879,
    "start_time": "2022-11-22T18:50:40.887Z"
   },
   {
    "duration": 9,
    "start_time": "2022-11-22T18:50:42.768Z"
   },
   {
    "duration": 3,
    "start_time": "2022-11-22T18:54:53.486Z"
   },
   {
    "duration": 5,
    "start_time": "2022-11-22T18:55:43.254Z"
   },
   {
    "duration": 11,
    "start_time": "2022-11-22T18:55:51.247Z"
   },
   {
    "duration": 5,
    "start_time": "2022-11-22T18:55:59.086Z"
   },
   {
    "duration": 5,
    "start_time": "2022-11-22T18:56:03.114Z"
   },
   {
    "duration": 5,
    "start_time": "2022-11-22T18:56:07.078Z"
   },
   {
    "duration": 15983,
    "start_time": "2022-11-22T18:56:17.381Z"
   },
   {
    "duration": 96,
    "start_time": "2022-11-22T18:57:06.449Z"
   },
   {
    "duration": 17395,
    "start_time": "2022-11-22T18:58:09.416Z"
   },
   {
    "duration": 263,
    "start_time": "2022-11-22T18:59:02.585Z"
   },
   {
    "duration": 317,
    "start_time": "2022-11-22T18:59:08.872Z"
   },
   {
    "duration": 1551,
    "start_time": "2022-11-22T18:59:45.351Z"
   },
   {
    "duration": 51,
    "start_time": "2022-11-22T18:59:46.904Z"
   },
   {
    "duration": 15,
    "start_time": "2022-11-22T18:59:46.957Z"
   },
   {
    "duration": 13,
    "start_time": "2022-11-22T18:59:46.974Z"
   },
   {
    "duration": 165,
    "start_time": "2022-11-22T18:59:46.989Z"
   },
   {
    "duration": 8,
    "start_time": "2022-11-22T18:59:47.155Z"
   },
   {
    "duration": 9,
    "start_time": "2022-11-22T18:59:47.165Z"
   },
   {
    "duration": 11,
    "start_time": "2022-11-22T18:59:47.176Z"
   },
   {
    "duration": 8,
    "start_time": "2022-11-22T18:59:47.189Z"
   },
   {
    "duration": 9,
    "start_time": "2022-11-22T18:59:47.198Z"
   },
   {
    "duration": 151,
    "start_time": "2022-11-22T18:59:47.209Z"
   },
   {
    "duration": 208,
    "start_time": "2022-11-22T18:59:47.362Z"
   },
   {
    "duration": 18287,
    "start_time": "2022-11-22T18:59:47.573Z"
   },
   {
    "duration": 32,
    "start_time": "2022-11-22T19:00:05.862Z"
   },
   {
    "duration": 1658,
    "start_time": "2022-11-22T19:01:18.571Z"
   },
   {
    "duration": 44,
    "start_time": "2022-11-22T19:01:20.231Z"
   },
   {
    "duration": 20,
    "start_time": "2022-11-22T19:01:20.277Z"
   },
   {
    "duration": 12,
    "start_time": "2022-11-22T19:01:20.300Z"
   },
   {
    "duration": 204,
    "start_time": "2022-11-22T19:01:20.314Z"
   },
   {
    "duration": 11,
    "start_time": "2022-11-22T19:01:20.520Z"
   },
   {
    "duration": 53,
    "start_time": "2022-11-22T19:01:20.533Z"
   },
   {
    "duration": 37,
    "start_time": "2022-11-22T19:01:20.588Z"
   },
   {
    "duration": 36,
    "start_time": "2022-11-22T19:01:20.627Z"
   },
   {
    "duration": 15,
    "start_time": "2022-11-22T19:01:20.666Z"
   },
   {
    "duration": 111,
    "start_time": "2022-11-22T19:01:20.683Z"
   },
   {
    "duration": 211,
    "start_time": "2022-11-22T19:01:20.796Z"
   },
   {
    "duration": 15937,
    "start_time": "2022-11-22T19:01:21.008Z"
   },
   {
    "duration": 29,
    "start_time": "2022-11-22T19:01:36.953Z"
   },
   {
    "duration": 285,
    "start_time": "2022-11-22T19:01:41.879Z"
   },
   {
    "duration": 15841,
    "start_time": "2022-11-22T19:03:54.077Z"
   },
   {
    "duration": 193,
    "start_time": "2022-11-22T19:04:18.926Z"
   },
   {
    "duration": 15747,
    "start_time": "2022-11-22T19:04:52.341Z"
   },
   {
    "duration": 233,
    "start_time": "2022-11-22T19:05:35.841Z"
   },
   {
    "duration": 177,
    "start_time": "2022-11-22T19:05:59.648Z"
   },
   {
    "duration": 201,
    "start_time": "2022-11-22T19:06:05.574Z"
   },
   {
    "duration": 231,
    "start_time": "2022-11-22T19:06:27.868Z"
   },
   {
    "duration": 227,
    "start_time": "2022-11-22T19:07:04.466Z"
   },
   {
    "duration": 179,
    "start_time": "2022-11-22T19:10:14.494Z"
   },
   {
    "duration": 218,
    "start_time": "2022-11-22T19:10:27.545Z"
   },
   {
    "duration": 215,
    "start_time": "2022-11-22T19:10:38.772Z"
   },
   {
    "duration": 14980,
    "start_time": "2022-11-22T19:13:14.581Z"
   },
   {
    "duration": 204,
    "start_time": "2022-11-22T19:13:39.555Z"
   },
   {
    "duration": 99,
    "start_time": "2022-11-22T19:15:04.468Z"
   },
   {
    "duration": 4,
    "start_time": "2022-11-22T19:15:07.883Z"
   },
   {
    "duration": 11,
    "start_time": "2022-11-22T19:23:48.366Z"
   },
   {
    "duration": 112,
    "start_time": "2022-11-22T19:23:58.251Z"
   },
   {
    "duration": 104,
    "start_time": "2022-11-22T19:25:17.696Z"
   },
   {
    "duration": 132,
    "start_time": "2022-11-22T19:25:39.301Z"
   },
   {
    "duration": 1396,
    "start_time": "2022-11-22T19:27:08.376Z"
   },
   {
    "duration": 29,
    "start_time": "2022-11-22T19:27:09.774Z"
   },
   {
    "duration": 14,
    "start_time": "2022-11-22T19:27:09.805Z"
   },
   {
    "duration": 31,
    "start_time": "2022-11-22T19:27:09.821Z"
   },
   {
    "duration": 160,
    "start_time": "2022-11-22T19:27:09.857Z"
   },
   {
    "duration": 15,
    "start_time": "2022-11-22T19:27:10.018Z"
   },
   {
    "duration": 27,
    "start_time": "2022-11-22T19:27:10.040Z"
   },
   {
    "duration": 7,
    "start_time": "2022-11-22T19:27:10.069Z"
   },
   {
    "duration": 5,
    "start_time": "2022-11-22T19:27:10.078Z"
   },
   {
    "duration": 5,
    "start_time": "2022-11-22T19:27:10.085Z"
   },
   {
    "duration": 93,
    "start_time": "2022-11-22T19:27:10.092Z"
   },
   {
    "duration": 215,
    "start_time": "2022-11-22T19:27:10.186Z"
   },
   {
    "duration": 14911,
    "start_time": "2022-11-22T19:27:10.402Z"
   },
   {
    "duration": 222,
    "start_time": "2022-11-22T19:27:25.315Z"
   },
   {
    "duration": 124,
    "start_time": "2022-11-22T19:27:25.539Z"
   },
   {
    "duration": 126,
    "start_time": "2022-11-22T19:27:25.667Z"
   },
   {
    "duration": 1632,
    "start_time": "2022-11-23T09:37:40.135Z"
   },
   {
    "duration": 122,
    "start_time": "2022-11-23T09:37:41.770Z"
   },
   {
    "duration": 15,
    "start_time": "2022-11-23T09:37:41.894Z"
   },
   {
    "duration": 13,
    "start_time": "2022-11-23T09:37:41.912Z"
   },
   {
    "duration": 155,
    "start_time": "2022-11-23T09:37:41.927Z"
   },
   {
    "duration": 4,
    "start_time": "2022-11-23T09:37:42.084Z"
   },
   {
    "duration": 10,
    "start_time": "2022-11-23T09:37:42.089Z"
   },
   {
    "duration": 6,
    "start_time": "2022-11-23T09:37:42.101Z"
   },
   {
    "duration": 8,
    "start_time": "2022-11-23T09:37:42.108Z"
   },
   {
    "duration": 117,
    "start_time": "2022-11-23T09:37:42.118Z"
   },
   {
    "duration": 199,
    "start_time": "2022-11-23T09:37:42.236Z"
   },
   {
    "duration": 14948,
    "start_time": "2022-11-23T09:37:42.438Z"
   },
   {
    "duration": 204,
    "start_time": "2022-11-23T09:37:57.388Z"
   },
   {
    "duration": 113,
    "start_time": "2022-11-23T09:37:57.594Z"
   },
   {
    "duration": 125,
    "start_time": "2022-11-23T09:37:57.709Z"
   },
   {
    "duration": 14719,
    "start_time": "2022-11-23T09:38:28.530Z"
   },
   {
    "duration": 29,
    "start_time": "2022-11-23T09:43:07.226Z"
   },
   {
    "duration": 28,
    "start_time": "2022-11-23T09:43:52.739Z"
   },
   {
    "duration": 28,
    "start_time": "2022-11-23T09:44:57.749Z"
   },
   {
    "duration": 2,
    "start_time": "2022-11-23T09:50:56.256Z"
   },
   {
    "duration": 422,
    "start_time": "2022-11-23T09:53:13.755Z"
   },
   {
    "duration": 1420,
    "start_time": "2022-11-23T09:53:21.329Z"
   },
   {
    "duration": 33,
    "start_time": "2022-11-23T09:53:22.751Z"
   },
   {
    "duration": 14,
    "start_time": "2022-11-23T09:53:22.786Z"
   },
   {
    "duration": 21,
    "start_time": "2022-11-23T09:53:22.802Z"
   },
   {
    "duration": 148,
    "start_time": "2022-11-23T09:53:22.825Z"
   },
   {
    "duration": 5,
    "start_time": "2022-11-23T09:53:22.975Z"
   },
   {
    "duration": 25,
    "start_time": "2022-11-23T09:53:22.981Z"
   },
   {
    "duration": 18,
    "start_time": "2022-11-23T09:53:23.008Z"
   },
   {
    "duration": 22,
    "start_time": "2022-11-23T09:53:23.028Z"
   },
   {
    "duration": 101,
    "start_time": "2022-11-23T09:53:23.053Z"
   },
   {
    "duration": 209,
    "start_time": "2022-11-23T09:53:23.155Z"
   },
   {
    "duration": 14479,
    "start_time": "2022-11-23T09:53:23.366Z"
   },
   {
    "duration": 193,
    "start_time": "2022-11-23T09:53:37.846Z"
   },
   {
    "duration": 39,
    "start_time": "2022-11-23T09:53:38.041Z"
   },
   {
    "duration": 425,
    "start_time": "2022-11-23T09:53:38.082Z"
   },
   {
    "duration": 1483,
    "start_time": "2022-11-23T09:55:24.043Z"
   },
   {
    "duration": 34,
    "start_time": "2022-11-23T09:55:25.528Z"
   },
   {
    "duration": 18,
    "start_time": "2022-11-23T09:55:25.563Z"
   },
   {
    "duration": 15,
    "start_time": "2022-11-23T09:55:25.585Z"
   },
   {
    "duration": 167,
    "start_time": "2022-11-23T09:55:25.602Z"
   },
   {
    "duration": 4,
    "start_time": "2022-11-23T09:55:25.771Z"
   },
   {
    "duration": 41,
    "start_time": "2022-11-23T09:55:25.776Z"
   },
   {
    "duration": 23,
    "start_time": "2022-11-23T09:55:25.819Z"
   },
   {
    "duration": 30,
    "start_time": "2022-11-23T09:55:25.844Z"
   },
   {
    "duration": 120,
    "start_time": "2022-11-23T09:55:25.876Z"
   },
   {
    "duration": 210,
    "start_time": "2022-11-23T09:55:25.998Z"
   },
   {
    "duration": 14161,
    "start_time": "2022-11-23T09:55:26.210Z"
   },
   {
    "duration": 212,
    "start_time": "2022-11-23T09:55:40.373Z"
   },
   {
    "duration": 31,
    "start_time": "2022-11-23T09:55:40.587Z"
   },
   {
    "duration": 434,
    "start_time": "2022-11-23T09:55:40.621Z"
   }
  ],
  "kernelspec": {
   "display_name": "Python 3.9.13 ('practicum')",
   "language": "python",
   "name": "python3"
  },
  "language_info": {
   "codemirror_mode": {
    "name": "ipython",
    "version": 3
   },
   "file_extension": ".py",
   "mimetype": "text/x-python",
   "name": "python",
   "nbconvert_exporter": "python",
   "pygments_lexer": "ipython3",
   "version": "3.9.13 | packaged by conda-forge | (main, May 27 2022, 16:50:36) [MSC v.1929 64 bit (AMD64)]"
  },
  "toc": {
   "base_numbering": 1,
   "nav_menu": {},
   "number_sections": true,
   "sideBar": true,
   "skip_h1_title": true,
   "title_cell": "Table of Contents",
   "title_sidebar": "Contents",
   "toc_cell": false,
   "toc_position": {},
   "toc_section_display": true,
   "toc_window_display": false
  },
  "vscode": {
   "interpreter": {
    "hash": "7d2820124913e8759b25dbe54761799c4e47197d05694b86c66236c977a46ae7"
   }
  }
 },
 "nbformat": 4,
 "nbformat_minor": 2
}
